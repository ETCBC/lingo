{
 "cells": [
  {
   "cell_type": "code",
   "execution_count": 1,
   "metadata": {
    "ExecuteTime": {
     "end_time": "2018-05-09T13:52:56.726798Z",
     "start_time": "2018-05-09T13:52:56.660991Z"
    }
   },
   "outputs": [],
   "source": [
    "from tf.fabric import Fabric\n",
    "from tf.extra.bhsa import Bhsa"
   ]
  },
  {
   "cell_type": "code",
   "execution_count": 3,
   "metadata": {
    "ExecuteTime": {
     "end_time": "2018-05-09T13:53:03.953876Z",
     "start_time": "2018-05-09T13:52:57.594126Z"
    },
    "scrolled": true
   },
   "outputs": [
    {
     "name": "stdout",
     "output_type": "stream",
     "text": [
      "This is Text-Fabric 5.5.24\n",
      "Api reference : https://dans-labs.github.io/text-fabric/Api/General/\n",
      "Tutorial      : https://github.com/Dans-labs/text-fabric/blob/master/docs/tutorial.ipynb\n",
      "Example data  : https://github.com/Dans-labs/text-fabric-data\n",
      "\n",
      "114 features found and 0 ignored\n",
      "  0.00s loading features ...\n",
      "  4.79s All features loaded/computed - for details use loadLog()\n"
     ]
    }
   ],
   "source": [
    "VERSION = 'c'\n",
    "BHSA = f'bhsa/tf/{VERSION}'\n",
    "\n",
    "TF = Fabric(locations=['~/github/etcbc'], modules=[BHSA])\n",
    "api = TF.load('')\n",
    "api.makeAvailableIn(globals())"
   ]
  },
  {
   "cell_type": "code",
   "execution_count": 4,
   "metadata": {
    "ExecuteTime": {
     "end_time": "2018-05-09T13:53:08.257131Z",
     "start_time": "2018-05-09T13:53:05.845570Z"
    }
   },
   "outputs": [
    {
     "data": {
      "text/markdown": [
       "**Documentation:** <a target=\"_blank\" href=\"https://etcbc.github.io/bhsa\" title=\"{provenance of this corpus}\">BHSA</a> <a target=\"_blank\" href=\"https://etcbc.github.io/bhsa/features/hebrew/c/0_home.html\" title=\"{CORPUS.upper()} feature documentation\">Feature docs</a> <a target=\"_blank\" href=\"https://dans-labs.github.io/text-fabric/Api/Bhsa/\" title=\"BHSA API documentation\">BHSA API</a> <a target=\"_blank\" href=\"https://dans-labs.github.io/text-fabric/Api/General/\" title=\"text-fabric-api\">Text-Fabric API 5.5.24</a> <a target=\"_blank\" href=\"https://dans-labs.github.io/text-fabric/Api/General/#search-templates\" title=\"Search Templates Introduction and Reference\">Search Reference</a>"
      ],
      "text/plain": [
       "<IPython.core.display.Markdown object>"
      ]
     },
     "metadata": {},
     "output_type": "display_data"
    },
    {
     "data": {
      "text/markdown": [
       "\n",
       "This notebook online:\n",
       "<a target=\"_blank\" href=\"http://nbviewer.jupyter.org/github/etcbc/lingo/blob/master/bits-and-pieces/books.ipynb\">NBViewer</a>\n",
       "<a target=\"_blank\" href=\"https://github.com/etcbc/lingo/blob/master/bits-and-pieces/books.ipynb\">GitHub</a>\n"
      ],
      "text/plain": [
       "<IPython.core.display.Markdown object>"
      ]
     },
     "metadata": {},
     "output_type": "display_data"
    },
    {
     "data": {
      "text/html": [
       "\n",
       "<style type=\"text/css\">\n",
       ".verse {\n",
       "    display: flex;\n",
       "    flex-flow: row wrap;\n",
       "    direction: rtl;\n",
       "}\n",
       ".vl {\n",
       "    display: flex;\n",
       "    flex-flow: column nowrap;\n",
       "    justify-content: flex-end;\n",
       "    align-items: flex-end;\n",
       "    direction: ltr;\n",
       "    width: 100%;\n",
       "}\n",
       ".outeritem {\n",
       "    display: flex;\n",
       "    flex-flow: row wrap;\n",
       "    direction: rtl;\n",
       "}\n",
       ".sentence,.clause,.phrase {\n",
       "    margin-top: -1.2em;\n",
       "    margin-left: 1em;\n",
       "    background: #ffffff none repeat scroll 0 0;\n",
       "    padding: 0 0.3em;\n",
       "    border-style: solid;\n",
       "    border-radius: 0.2em;\n",
       "    font-size: small;\n",
       "    display: block;\n",
       "    width: fit-content;\n",
       "    max-width: fit-content;\n",
       "    direction: ltr;\n",
       "}\n",
       ".atoms {\n",
       "    display: flex;\n",
       "    flex-flow: row wrap;\n",
       "    margin: 0.3em;\n",
       "    padding: 0.3em;\n",
       "    direction: rtl;\n",
       "    background-color: #ffffff;\n",
       "}\n",
       ".satom,.catom,.patom {\n",
       "    margin: 0.3em;\n",
       "    padding: 0.3em;\n",
       "    border-radius: 0.3em;\n",
       "    border-style: solid;\n",
       "    display: flex;\n",
       "    flex-flow: column nowrap;\n",
       "    direction: rtl;\n",
       "    background-color: #ffffff;\n",
       "}\n",
       ".sentence {\n",
       "    border-color: #aa3333;\n",
       "    border-width: 1px;\n",
       "}\n",
       ".clause {\n",
       "    border-color: #aaaa33;\n",
       "    border-width: 1px;\n",
       "}\n",
       ".phrase {\n",
       "    border-color: #33aaaa;\n",
       "    border-width: 1px;\n",
       "}\n",
       ".satom {\n",
       "    border-color: #aa3333;\n",
       "    border-width: 4px;\n",
       "}\n",
       ".catom {\n",
       "    border-color: #aaaa33;\n",
       "    border-width: 3px;\n",
       "}\n",
       ".patom {\n",
       "    border-color: #33aaaa;\n",
       "    border-width: 3px;\n",
       "}\n",
       ".word {\n",
       "    padding: 0.1em;\n",
       "    margin: 0.1em;\n",
       "    border-radius: 0.1em;\n",
       "    border: 1px solid #cccccc;\n",
       "    display: flex;\n",
       "    flex-flow: column nowrap;\n",
       "    direction: rtl;\n",
       "    background-color: #ffffff;\n",
       "}\n",
       ".lextp {\n",
       "    padding: 0.1em;\n",
       "    margin: 0.1em;\n",
       "    border-radius: 0.1em;\n",
       "    border: 2px solid #888888;\n",
       "    width: fit-content;\n",
       "    display: flex;\n",
       "    flex-flow: column nowrap;\n",
       "    direction: rtl;\n",
       "    background-color: #ffffff;\n",
       "}\n",
       ".occs {\n",
       "    font-size: x-small;\n",
       "}\n",
       ".satom.l,.catom.l,.patom.l {\n",
       "    border-left-style: dotted\n",
       "}\n",
       ".satom.r,.catom.r,.patom.r {\n",
       "    border-right-style: dotted\n",
       "}\n",
       ".satom.L,.catom.L,.patom.L {\n",
       "    border-left-style: none\n",
       "}\n",
       ".satom.R,.catom.R,.patom.R {\n",
       "    border-right-style: none\n",
       "}\n",
       ".h,.h a:visited,.h a:link {\n",
       "    font-family: \"Ezra SIL\", \"SBL Hebrew\", sans-serif;\n",
       "    font-size: large;\n",
       "    color: #000044;\n",
       "    direction: rtl;\n",
       "    text-decoration: none;\n",
       "}\n",
       ".hb,.hb a:visited,.hb a:link {\n",
       "    font-family: \"Ezra SIL\", \"SBL Hebrew\", sans-serif;\n",
       "    font-size: large;\n",
       "    direction: rtl;\n",
       "    text-decoration: none;\n",
       "}\n",
       ".rela,.function,.typ {\n",
       "    font-family: monospace;\n",
       "    font-size: small;\n",
       "    color: #0000bb;\n",
       "}\n",
       ".pdp,.pdp a:visited,.pdp a:link {\n",
       "    font-family: monospace;\n",
       "    font-size: medium;\n",
       "    color: #0000bb;\n",
       "    text-decoration: none;\n",
       "}\n",
       ".voc_lex {\n",
       "    font-family: monospace;\n",
       "    font-size: medium;\n",
       "    color: #0000bb;\n",
       "}\n",
       ".vs {\n",
       "    font-family: monospace;\n",
       "    font-size: medium;\n",
       "    font-weight: bold;\n",
       "    color: #0000bb;\n",
       "}\n",
       ".vt {\n",
       "    font-family: monospace;\n",
       "    font-size: medium;\n",
       "    font-weight: bold;\n",
       "    color: #0000bb;\n",
       "}\n",
       ".gloss {\n",
       "    font-family: sans-serif;\n",
       "    font-size: small;\n",
       "    font-weight: normal;\n",
       "    color: #444444;\n",
       "}\n",
       ".vrs {\n",
       "    font-family: sans-serif;\n",
       "    font-size: small;\n",
       "    font-weight: bold;\n",
       "    color: #444444;\n",
       "}\n",
       ".nd {\n",
       "    font-family: monospace;\n",
       "    font-size: x-small;\n",
       "    color: #999999;\n",
       "}\n",
       ".features {\n",
       "    font-family: monospace;\n",
       "    font-size: medium;\n",
       "    font-weight: bold;\n",
       "    color: #0a6611;\n",
       "    display: flex;\n",
       "    flex-flow: column nowrap;\n",
       "    padding: 0.1em;\n",
       "    margin: 0.1em;\n",
       "    direction: ltr;\n",
       "}\n",
       ".features .f {\n",
       "    font-family: sans-serif;\n",
       "    font-size: x-small;\n",
       "    font-weight: normal;\n",
       "    color: #5555bb;\n",
       "}\n",
       ".word .features div,.word .features span {\n",
       "    padding: 0;\n",
       "    margin: -0.1rem 0;\n",
       "}\n",
       "\n",
       ".hl {\n",
       "    background-color: #ffee66;\n",
       "}\n",
       "</style>\n"
      ],
      "text/plain": [
       "<IPython.core.display.HTML object>"
      ]
     },
     "metadata": {},
     "output_type": "display_data"
    }
   ],
   "source": [
    "B = Bhsa(api, 'books')"
   ]
  },
  {
   "cell_type": "markdown",
   "metadata": {},
   "source": [
    "# Compact code to print all bible book names in English"
   ]
  },
  {
   "cell_type": "code",
   "execution_count": 11,
   "metadata": {},
   "outputs": [
    {
     "name": "stdout",
     "output_type": "stream",
     "text": [
      "['Genesis', 'Exodus', 'Leviticus', 'Numbers', 'Deuteronomy', 'Joshua', 'Judges', '1_Samuel', '2_Samuel', '1_Kings', '2_Kings', 'Isaiah', 'Jeremiah', 'Ezekiel', 'Hosea', 'Joel', 'Amos', 'Obadiah', 'Jonah', 'Micah', 'Nahum', 'Habakkuk', 'Zephaniah', 'Haggai', 'Zechariah', 'Malachi', 'Psalms', 'Job', 'Proverbs', 'Ruth', 'Song_of_songs', 'Ecclesiastes', 'Lamentations', 'Esther', 'Daniel', 'Ezra', 'Nehemiah', '1_Chronicles', '2_Chronicles']\n"
     ]
    }
   ],
   "source": [
    "print([T.bookName(b, lang='en') for b in F.otype.s('book')])"
   ]
  },
  {
   "cell_type": "markdown",
   "metadata": {},
   "source": [
    "# Get supported language info"
   ]
  },
  {
   "cell_type": "code",
   "execution_count": 8,
   "metadata": {},
   "outputs": [
    {
     "data": {
      "text/plain": [
       "{'': {'language': 'default', 'languageEnglish': 'default'},\n",
       " 'am': {'language': 'ኣማርኛ', 'languageEnglish': 'amharic'},\n",
       " 'ar': {'language': 'العَرَبِية', 'languageEnglish': 'arabic'},\n",
       " 'bn': {'language': 'বাংলা', 'languageEnglish': 'bengali'},\n",
       " 'da': {'language': 'Dansk', 'languageEnglish': 'danish'},\n",
       " 'de': {'language': 'Deutsch', 'languageEnglish': 'german'},\n",
       " 'el': {'language': 'Ελληνικά', 'languageEnglish': 'greek'},\n",
       " 'en': {'language': 'English', 'languageEnglish': 'english'},\n",
       " 'es': {'language': 'Español', 'languageEnglish': 'spanish'},\n",
       " 'fa': {'language': 'فارسی', 'languageEnglish': 'farsi'},\n",
       " 'fr': {'language': 'Français', 'languageEnglish': 'french'},\n",
       " 'he': {'language': 'עברית', 'languageEnglish': 'hebrew'},\n",
       " 'hi': {'language': 'हिन्दी', 'languageEnglish': 'hindi'},\n",
       " 'id': {'language': 'Bahasa Indonesia', 'languageEnglish': 'indonesian'},\n",
       " 'ja': {'language': '日本語', 'languageEnglish': 'japanese'},\n",
       " 'ko': {'language': '한국어', 'languageEnglish': 'korean'},\n",
       " 'la': {'language': 'Latina', 'languageEnglish': 'latin'},\n",
       " 'nl': {'language': 'Nederlands', 'languageEnglish': 'dutch'},\n",
       " 'pa': {'language': 'ਪੰਜਾਬੀ', 'languageEnglish': 'punjabi'},\n",
       " 'pt': {'language': 'Português', 'languageEnglish': 'portuguese'},\n",
       " 'ru': {'language': 'Русский', 'languageEnglish': 'russian'},\n",
       " 'sw': {'language': 'Kiswahili', 'languageEnglish': 'swahili'},\n",
       " 'syc': {'language': 'ܠܫܢܐ ܣܘܪܝܝܐ', 'languageEnglish': 'syriac'},\n",
       " 'tr': {'language': 'Türkçe', 'languageEnglish': 'turkish'},\n",
       " 'ur': {'language': 'اُردُو', 'languageEnglish': 'urdu'},\n",
       " 'yo': {'language': 'èdè Yorùbá', 'languageEnglish': 'yoruba'},\n",
       " 'zh': {'language': '中文', 'languageEnglish': 'chinese'}}"
      ]
     },
     "execution_count": 8,
     "metadata": {},
     "output_type": "execute_result"
    }
   ],
   "source": [
    "T.languages"
   ]
  },
  {
   "cell_type": "markdown",
   "metadata": {},
   "source": [
    "# Print all book names in all languages"
   ]
  },
  {
   "cell_type": "code",
   "execution_count": 12,
   "metadata": {},
   "outputs": [
    {
     "name": "stdout",
     "output_type": "stream",
     "text": [
      " = default = default\n",
      "Genesis, Exodus, Leviticus, Numeri, Deuteronomium, Josua, Judices, Samuel_I, Samuel_II, Reges_I, Reges_II, Jesaia, Jeremia, Ezechiel, Hosea, Joel, Amos, Obadia, Jona, Micha, Nahum, Habakuk, Zephania, Haggai, Sacharia, Maleachi, Psalmi, Iob, Proverbia, Ruth, Canticum, Ecclesiastes, Threni, Esther, Daniel, Esra, Nehemia, Chronica_I, Chronica_II\n",
      "\n",
      "am = amharic = ኣማርኛ\n",
      "ኦሪት_ዘፍጥረት, ኦሪት_ዘጸአት, ኦሪት_ዘሌዋውያን, ኦሪት_ዘኍልቍ, ኦሪት_ዘዳግም, መጽሐፈ_ኢያሱ_ወልደ_ነዌ, መጽሐፈ_መሣፍንት, መጽሐፈ_ሳሙኤል_ቀዳማዊ, መጽሐፈ_ሳሙኤል_ካል, መጽሐፈ_ነገሥት_ቀዳማዊ።, መጽሐፈ_ነገሥት_ካልዕ።, ትንቢተ_ኢሳይያስ, ትንቢተ_ኤርምያስ, ትንቢተ_ሕዝቅኤል, ትንቢተ_ሆሴዕ, ትንቢተ_ኢዮኤል, ትንቢተ_አሞጽ, ትንቢተ_አብድዩ, ትንቢተ_ዮናስ, ትንቢተ_ሚክያስ, ትንቢተ_ናሆም, ትንቢተ_ዕንባቆም, ትንቢተ_ሶፎንያስ, ትንቢተ_ሐጌ, ትንቢተ_ዘካርያስ, ትንቢተ_ሚልክያ, መዝሙረ_ዳዊት, መጽሐፈ_ኢዮብ።, መጽሐፈ_ምሳሌ, መጽሐፈ_ሩት, መኃልየ_መኃልይ_ዘሰሎሞን, መጽሐፈ_መክብብ, ሰቆቃው_ኤርምያስ, መጽሐፈ_አስቴር።, ትንቢተ_ዳንኤል, መጽሐፈ_ዕዝራ።, መጽሐፈ_ነህምያ።, መጽሐፈ_ዜና_መዋዕል_ቀዳማዊ።, መጽሐፈ_ዜና_መዋዕል_ካልዕ።\n",
      "\n",
      "ar = arabic = العَرَبِية\n",
      "تكوين, خروج, لاويين, عدد, تثنية, يشوع, قضاة, 1_صموئيل, 2_صموئيل, 1_ملوك, 2_ملوك, اشعياء, ارميا, حزقيال, هوشع, يوئيل, عاموس, عوبديا, يونان, ميخا, ناحوم, حبقوق, صفنيا, حجى, زكريا, ملاخي, مزامير, ايوب, امثال, راعوث, نشيد_الانشاد, جامعة, مراثي, استير, دانيال, عزرا, نحميا, 1_اخبار, 2_اخبار\n",
      "\n",
      "bn = bengali = বাংলা\n",
      "আদিপুস্তক, যাত্রাপুস্তক, লেবীয়_পুস্তক, গণনা_পুস্তক, দ্বিতীয়_বিবরণ, যোশুয়া, বিচারকচরিত, সামুয়েল_১, সামুয়েল_২, রাজাবলি_১, রাজাবলি_২, ইসাইয়া, যেরেমিয়া, এজেকিয়েল, হোসেয়া, যোয়েল, আমোস, ওবাদিয়া, যোনা, মিখা, নাহুম, হাবাকুক, জেফানিয়া, হগয়, জাখারিয়া, মালাখি, সামসঙ্গীত, যোব, প্রবচন, রুথ, পরম_গীত, উপদেশক, বিলাপ_গাথা, এস্থার, দানিয়েল, এজরা, নেহেমিয়া, বংশাবলি_১, বংশাবলি_২\n",
      "\n",
      "da = danish = Dansk\n",
      "1.Mosebog, 2.Mosebog, 3.Mosebog, 4.Mosebog, 5.Mosebog, Josva, Dommer, 1.Samuel, 2.Samuel, 1.Kongebog, 2.Kongebog, Esajas, Jeremias, Ezekiel, Hoseas, Joel, Amos, Obadias, Jonas, Mika, Nahum, Habakkuk, Sefanias, Haggaj, Zakarias, Malakias, Salmerne, Job, Ordsprogene, Ruth, Højsangen, Prædikeren, Klagesangene, Ester, Daniel, Ezra, Nehemias, 1.Krønikebog, 2.Krønikebog\n",
      "\n",
      "de = german = Deutsch\n",
      "Genesis, Exodus, Levitikus, Numeri, Deuteronomium, Josua, Richter, 1_Samuel, 2_Samuel, 1_Könige, 2_Könige, Jesaja, Jeremia, Ezechiel, Hosea, Joel, Amos, Obadja, Jona, Micha, Nahum, Habakuk, Zefanja, Haggai, Sacharja, Maleachi, Psalmen, Ijob, Sprichwörter, Rut, Hoheslied, Kohelet, Klagelieder, Ester, Daniel, Esra, Nehemia, 1_Chronik, 2_Chronik\n",
      "\n",
      "el = greek = Ελληνικά\n",
      "Γένεση, Έξοδος, Λευιτικό, Αριθμοί, Δευτερονόμιο, Ιησούς, Κριταί, Σαμουήλ_A', Σαμουήλ_Β', Βασιλείς_A', Βασιλείς_Β', Ησαΐας, Ιερεμίας, Ιεζεκιήλ, Ωσηέ, Ιωήλ, Αμώς, Οβδιού, Ιωνάς, Μιχαίας, Ναούμ, Αβακκούμ, Σοφονίας, Αγγαίος, Ζαχαρίας, Μαλαχίας, Ψαλμοί, Ιώβ, Παροιμίαι, Ρουθ, Άσμα_Ασμάτων, Εκκλησιαστής, Θρήνοι, Εσθήρ, Δανιήλ, Έσδρας, Νεεμίας, Χρονικά_Α', Χρονικά_Β'\n",
      "\n",
      "en = english = English\n",
      "Genesis, Exodus, Leviticus, Numbers, Deuteronomy, Joshua, Judges, 1_Samuel, 2_Samuel, 1_Kings, 2_Kings, Isaiah, Jeremiah, Ezekiel, Hosea, Joel, Amos, Obadiah, Jonah, Micah, Nahum, Habakkuk, Zephaniah, Haggai, Zechariah, Malachi, Psalms, Job, Proverbs, Ruth, Song_of_songs, Ecclesiastes, Lamentations, Esther, Daniel, Ezra, Nehemiah, 1_Chronicles, 2_Chronicles\n",
      "\n",
      "es = spanish = Español\n",
      "Génesis, Éxodo, Levítico, Números, Deuteronomio, Josué, Jueces, 1_Samuel, 2_Samuel, 1_Reyes, 2_Reyes, Isaías, Jeremías, Ezequiel, Oseas, Joel, Amós, Abdías, Jonás, Miqueas, Nahúm, Habacuc, Sofonías, Hageo, Zacarías, Malaquías, Salmos, Job, Proverbios, Rut, Cantares, Eclesiastés, Lamentaciones, Ester, Daniel, Esdras, Nehemías, 1_Crónicas, 2_Crónicas\n",
      "\n",
      "fa = farsi = فارسی\n",
      "پيدايش, خروج, لاويان, اعداد, تثنيه, يوشع, داوران, اول_سموئيل, دوم_سموئيل, اول_پادشاهان, دوم_پادشاهان, اشعیا, اِرميا, حزقیال, هوشع, يوئيل, عاموس, عوبديا, يونس, ميكاه, ناحوم, حبقوق, صفنيا, حجی, زآريا, ملاآی, مزامير, ايوب, امثال, روت, غزل_غزلهای_سليمان, جامعه, مراثی_ارميا, استر, دانيال, عزرا, نحميا, اول_تواريخ_ايام, دوم_تواريخ\n",
      "\n",
      "fr = french = Français\n",
      "Genèse, Exode, Lévitique, Nombres, Deutéronome, Josué, Juges, 1_Samuel, 2_Samuel, 1_Rois, 2_Rois, Isaïe, Jérémie, Ézéchiel, Osée, Joël, Amos, Abdias, Jonas, Michée, Nahoum, Habaquq, Sophonie, Aggée, Zacharie, Malachie, Psaumes, Job, Proverbes, Ruth, Cantique_des_Cantiques, Ecclésiaste, Lamentations, Esther, Daniel, Esdras, Néhémie, 1_Chroniques, 2_Chroniques\n",
      "\n",
      "he = hebrew = עברית\n",
      "בראשית, שמות, ויקרא, במדבר, דברים, יהושע, שופטים, שמואל_א, שמואל_ב, מלכים_א, מלכים_ב, ישעיהו, ירמיהו, יחזקאל, הושע, יואל, עמוס, עובדיה, יונה, מיכה, נחום, חבקוק, צפניה, חגי, זכריה, מלאכי, תהילים, איוב, משלי, רות, שיר_השירים, קהלת, איכה, אסתר, דניאל, עזרא, נחמיה, דברי_הימים_א, דברי_הימים_ב\n",
      "\n",
      "hi = hindi = हिन्दी\n",
      "उत्पाति, निर्गमन, लैव्यव्यवस्थ, गिनती, व्यवस्थाविवरण, यहोशू, न्यायियों, 1_शमूएल, 2_शमूएल, 1_राजाओं, 2_राजाओं, यशायाह, यिर्मयाह, यहेजकेल, होशे, योएल, आमोस, ओबधाह, योना, मीका, नहूम, हबक्कूक, सपन्याह, हाग्गै, जकर्याह, मलाकी, भजन_संहिता, अय्यूब, नीतिबचन, रुत, श्रेष्ठगीत, सभोपदेशक, विलापगेत, एस्तेर, दानिय्यल, एज्रा, नहेम्याह, 1_इतिहास, 2_इतिहास\n",
      "\n",
      "id = indonesian = Bahasa Indonesia\n",
      "Kejadian, Keluaran, Imamat, Bilangan, Ulangan, Yosua, Hakim-hakim, 1_Samuel, 2_Samuel, 1_Raja-raja, 2_Raja-raja, Yesaya, Yeremia, Yehezkiel, Hosea, Yoel, Amos, Obaja, Yunus, Mikha, Nahum, Habakuk, Zefanya, Hagai, Zakharia, Maleakhi, Mazmur, Ayub, Amsal, Rut, Kidung_Agung, Pengkhutbah, Ratapan, Ester, Daniel, Ezra, Nehemia, 1_Tawarikh, 2_Tawarikh\n",
      "\n",
      "ja = japanese = 日本語\n",
      "創世記, 出エジプト記, レビ記, 民数記, 申命記, ヨシュア記, 士師記, サムエル記第一, サムエル記第二, 列王記第一, 列王記第二, イザヤ書, エレミア書, エゼキエル書, ホセア書, ヨエル書, アモス書, オバデア書, ヨナ書, ミカ書, ナホム書, ハバクク書, ゼパニア書, ハガイ書, ゼカリア書, マラキ書, 詩篇, ヨブ記, 箴言, ルツ記, 雅歌, 伝道者の書, 哀歌, エステル記, ダニエル書, エズラ記, ネヘミア記, 歴代誌第一, 歴代誌第二\n",
      "\n",
      "ko = korean = 한국어\n",
      "창세기, 출애굽기, 레위기, 민수기, 신명기, 여호수아, 사사기, 사무엘상, 사무엘하, 열왕기상, 열왕기하, 이사야, 예레미야, 에스겔, 호세아, 요엘, 아모스, 오바댜, 요나, 미가, 나훔, 하박국, 스바냐, 학개, 스가랴, 말라기, 시편, 욥기, 잠언, 룻기, 아가, 전도서, 예레미야애가, 에스더, 다니엘, 에스라, 느헤미야, 역대상, 역대하\n",
      "\n",
      "la = latin = Latina\n",
      "Genesis, Exodus, Leviticus, Numeri, Deuteronomium, Josua, Judices, Samuel_I, Samuel_II, Reges_I, Reges_II, Jesaia, Jeremia, Ezechiel, Hosea, Joel, Amos, Obadia, Jona, Micha, Nahum, Habakuk, Zephania, Haggai, Sacharia, Maleachi, Psalmi, Iob, Proverbia, Ruth, Canticum, Ecclesiastes, Threni, Esther, Daniel, Esra, Nehemia, Chronica_I, Chronica_II\n",
      "\n",
      "nl = dutch = Nederlands\n",
      "Genesis, Exodus, Leviticus, Numeri, Deuteronomium, Jozua, Richteren, 1_Samuel, 2_Samuel, 1_Koningen, 2_Koningen, Jesaja, Jeremia, Ezechiel, Hosea, Joël, Amos, Obadja, Jona, Micha, Nahum, Habakuk, Zefanja, Haggaï, Zacharia, Maleachi, Psalmen, Job, Spreuken, Ruth, Hooglied, Prediker, Klaagliederen, Esther, Daniel, Ezra, Nehemia, 1_Kronieken, 2_Kronieken\n",
      "\n",
      "pa = punjabi = ਪੰਜਾਬੀ\n",
      "ਉਤਪਤ, ਕੂਚ, ਲੇਵੀਆਂ_ਦੀ_ਪੋਥੀ, ਗਿਣਤੀ, ਬਿਵਸਥਾ_ਸਾਰ, ਯਹੋਸ਼ੁਆ, ਨਿਆਂਈਆਂ_ਦੀ_ਪੋਥੀ, 1_ਸਮੂਏਲ, 2_ਸਮੂਏਲ, 1_ਰਾਜਿਆਂ, 2_ਰਾਜਿਆਂ, ਯਸਾਯਾਹ, ਯਿਰਮਿਯਾਹ, ਹਿਜ਼ਕੀਏਲ, ਹੋਸ਼ੇਆ, ਯੋਏਲ, ਆਮੋਸ, ਓਬਦਯਾਹ, ਯੂਨਾਹ, ਮੀਕਾਹ, ਨਹੂਮ, ਹਬਕੱੂਕ, ਸਫ਼ਨਯਾਹ, ਹੱਜਈ, ਜ਼ਕਰਯਾਹ, ਮਲਾਕੀ, ਜ਼ਬੂਰ, ਅੱਯੂਬ, ਕਹਾਉਤਾਂ, ਰੂਥ, ਸਲੇਮਾਨ_ਦਾ_ਗੀਤ, ਉਪਦੇਸ਼ਕ, ਵਿਰਲਾਪ, ਅਸਤਰ, ਦਾਨੀਏਲ, ਅਜ਼ਰਾ, ਨਹਮਯਾਹ, 1_ਇਤਹਾਸ, 2_ਇਤਹਾਸ\n",
      "\n",
      "pt = portuguese = Português\n",
      "Gênesis, Êxodo, Levítico, Números, Deuteronômio, Josué, Juízes, 1_Samuel, 2_Samuel, 1_Reis, 2_Reis, Isaías, Jeremias, Ezequiel, Oséias, Joel, Amós, Obadias, Jonas, Miquéias, Naum, Habacuque, Sofonias, Ageu, Zacarias, Malaquis, Salmos, Jó, Provérbios, Rute, Cantares_de_Salomâo, Eclesiastes, Lamentações, Ester, Daniel, Esdras, Neemias, 1_Crônicas, 2_Crônicas\n",
      "\n",
      "ru = russian = Русский\n",
      "Бытия, Исход, Левит, Числа, Второзаконие, ИисусНавин, КнигаСудей, 1-я_Царств, 2-я_Царств, 3-я_Царств, 4-я_Царств, Исаия, Иеремия, Иезекииль, Осия, Иоиль, Амос, Авдия, Иона, Михей, Наум, Аввакум, Софония, Аггей, Захария, Малахия, Псалтирь, Иов, Притчи, Руфь, ПесниПесней, Екклесиаст, ПлачИеремии, Есфирь, Даниил, Ездра, Неемия, 1-я_Паралипоменон, 2-я_Паралипоменон\n",
      "\n",
      "sw = swahili = Kiswahili\n",
      "Mwanzo, Kutoka, Mambo_ya_Walawi, Hesabu, Kumbukumbu_la_Torati, Yoshua, Waamuzi, 1_Samweli, 2_Samweli, 1_Wafalme, 2_Wafalme, Isaya, Yeremia, Ezekieli, Hosea, Yoeli, Amosi, Obadia, Yona, Mika, Nahumu, Habakuki, Sefania, Hagai, Zekaria, Malaki, Zaburi, Ayubu, Mithali, Ruthi, Wimbo_Ulio_Bora, Mhubiri, Maombolezo, Esta, Danieli, Ezra, Nehemia, 1_Mambo_ya_Nyakati, 2_Mambo_ya_Nyakati\n",
      "\n",
      "syc = syriac = ܠܫܢܐ ܣܘܪܝܝܐ\n",
      "ܒܪܝܬܐ, ܡܦܩܢܐ, ܟܗܢ̈ܐ, ܡܢܝܢܐ, ܬܢܝܢ_ܢܡܘܣܐ, ܝܫܘܥ_ܒܪܢܘܢ, ܕܝܢ̈ܐ, ܐ_ܫܡܘܐܝܠ, ܒ_ܫܡܘܐܝܠ, ܐ_ܡܠܟ̈ܐ, ܒ_ܡܠܟ̈ܐ, ܐܫܥܝܐ, ܐܪܡܝܐ, ܚܙܩܝܐܝܠ, ܗܘܫܥ, ܝܘܐܝܠ, ܥܡܘܣ, ܥܘܒܕܝܐ, ܝܘܢܢ, ܡܝܟ݂ܐ, ܢܚܘܡ, ܚܒ݂ܩܘܩ, ܨܦܢܝܐ, ܚܓܝ, ܙܟ݂ܪܝܐ, ܡܠܐܟ݂ܝ, ܡܙܡܘܪ̈ܐ, ܐܝܘܒ݂, ܡܬܠ̈ܐ, ܪܥܘܬ݂, ܬܫܒܚܬ_ܬܫܒܚ̈ܬ݂ܐ, ܩܘܗܠܬ, ܐܘܠܝ̈ܬ݂ܐ, ܐܣܬܝܪ, ܕܢܝܐܝܠ, ܥܙܪܐ, ܢܚܡܝܐ, ܐ_ܒܪܝܡܝܢ, ܒ_ܒܪܝܡܝܢ\n",
      "\n",
      "tr = turkish = Türkçe\n",
      "Yaratılış, Mısır'dan_Çıkış, Levililer, Çölde_Sayım, Yasa'nın_Tekrar, Yeşu, Hakimler, 1_Samuel, 2_Samuel, 1_Krallar, 2_Krallar, Yeşaya, Yeremya, Hezekiel, Hoşea, Yoel, Amos, Ovadya, Yunus, Mika, Nahum, Habakkuk, Sefanya, Hagay, Zekeriya, Malaki, Mezmurlar, Eyüp, Süleyman'ın_Özdeyişleri, Rut, Ezgiler_Ezgisi, Vaiz, Ağıtlar, Ester, Daniel, Ezra, Nehemya, 1_Tarihler, 2_Tarihler\n",
      "\n",
      "ur = urdu = اُردُو\n",
      "پیدائش, خروج, احبار, گنتی, استثناء, یشوع, قضاة, اوّل_سموئیل, دوم_سموئیل, اوّل_سلاطین, دوم_سلاطین, یسعیاہ, یرمیاہ, حزقی_ایل, ہوسیع, یوایل, عاموس, عبدیاہ, یونس, میکاہ, نا_حُوم, حبقّوق, صفنیاہ, حجيّ, زکریاہ, ملاکی, زبُور, ایّوب, امثال, روت, غزل_الغزلات, واعظ, نوحہ, ایستر, دانیال, عز_را, نحمیاہ, اوّل_تواریخ, دوم_تو_اریخ\n",
      "\n",
      "yo = yoruba = èdè Yorùbá\n",
      "Genesisi, Eksodu, Lefitiku, Numeri, Deuteronomi, Josua, Awọn_Onidajọ, Samueli_Kinni, Samueli_Keji, Awon_Ọba_Kinni, Awon_Ọba_Keji, Isaiah, Jeremiah, Esekieli, Hosea, Joeli, Amọsi, Obadiah, Jonà, Mika, Nahumu, Habakkuku, Sefaniah, Haggai, Sekariah, Malaki, Psalmu, Jobu, Òwe, Rutu, Orin_Solomọni, Oniwasu, Ẹkún_Jeremiah, Esteri, Danieli, Esra, Nehemiah, Kronika_Kinni, Kronika_Keji\n",
      "\n",
      "zh = chinese = 中文\n",
      "创世记, 出埃及记, 利未记, 民数记, 申命记, 约书亚记, Judges, 撒母耳记上, 撒母耳记下, 列王纪上, 列王纪下, 以赛亚书, 耶利米书, 以西结书, 何西阿书, 约珥书, 阿摩司书, 俄巴底亚书, 约拿书, 弥迦书, 那鸿书, 哈巴谷书, 西番雅书, 哈该书, 撒迦利亚书, 玛拉基书, 诗篇, 以斯帖记, 箴言, 路得记, 雅歌, 传道书, 耶利米哀歌, 以斯帖记, 但以理书, 以斯拉记, 尼希米记, 历代志上, 历代志下\n",
      "\n"
     ]
    }
   ],
   "source": [
    "for (lang, data) in T.languages.items():\n",
    "  print(f'{lang} = {data[\"languageEnglish\"]} = {data[\"language\"]}')\n",
    "  book_list = [T.bookName(b, lang=lang) for b in F.otype.s('book')]\n",
    "  print(', '.join(book_list))\n",
    "  print('')"
   ]
  },
  {
   "cell_type": "code",
   "execution_count": null,
   "metadata": {},
   "outputs": [],
   "source": []
  }
 ],
 "metadata": {
  "kernelspec": {
   "display_name": "Python 3",
   "language": "python",
   "name": "python3"
  },
  "language_info": {
   "codemirror_mode": {
    "name": "ipython",
    "version": 3
   },
   "file_extension": ".py",
   "mimetype": "text/x-python",
   "name": "python",
   "nbconvert_exporter": "python",
   "pygments_lexer": "ipython3",
   "version": "3.7.0"
  }
 },
 "nbformat": 4,
 "nbformat_minor": 2
}
