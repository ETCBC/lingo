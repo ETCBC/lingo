{
 "cells": [
  {
   "cell_type": "code",
   "execution_count": 13,
   "metadata": {
    "ExecuteTime": {
     "end_time": "2018-05-09T13:52:56.726798Z",
     "start_time": "2018-05-09T13:52:56.660991Z"
    }
   },
   "outputs": [],
   "source": [
    "import os\n",
    "\n",
    "from tf.fabric import Fabric\n",
    "from tf.extra.bhsa import Bhsa"
   ]
  },
  {
   "cell_type": "code",
   "execution_count": 2,
   "metadata": {
    "ExecuteTime": {
     "end_time": "2018-05-09T13:53:03.953876Z",
     "start_time": "2018-05-09T13:52:57.594126Z"
    },
    "scrolled": true
   },
   "outputs": [
    {
     "name": "stdout",
     "output_type": "stream",
     "text": [
      "This is Text-Fabric 5.5.25\n",
      "Api reference : https://dans-labs.github.io/text-fabric/Api/General/\n",
      "Tutorial      : https://github.com/Dans-labs/text-fabric/blob/master/docs/tutorial.ipynb\n",
      "Example data  : https://github.com/Dans-labs/text-fabric-data\n",
      "\n",
      "114 features found and 0 ignored\n",
      "  0.00s loading features ...\n",
      "  5.44s All features loaded/computed - for details use loadLog()\n"
     ]
    }
   ],
   "source": [
    "VERSION = 'c'\n",
    "BHSA = f'bhsa/tf/{VERSION}'\n",
    "\n",
    "TF = Fabric(locations=['~/github/etcbc'], modules=[BHSA])\n",
    "api = TF.load('')\n",
    "api.makeAvailableIn(globals())"
   ]
  },
  {
   "cell_type": "code",
   "execution_count": 3,
   "metadata": {
    "ExecuteTime": {
     "end_time": "2018-05-09T13:53:08.257131Z",
     "start_time": "2018-05-09T13:53:05.845570Z"
    }
   },
   "outputs": [
    {
     "data": {
      "text/markdown": [
       "**Documentation:** <a target=\"_blank\" href=\"https://etcbc.github.io/bhsa\" title=\"{provenance of this corpus}\">BHSA</a> <a target=\"_blank\" href=\"https://etcbc.github.io/bhsa/features/hebrew/c/0_home.html\" title=\"BHSA feature documentation\">Feature docs</a> <a target=\"_blank\" href=\"https://dans-labs.github.io/text-fabric/Api/Bhsa/\" title=\"BHSA API documentation\">BHSA API</a> <a target=\"_blank\" href=\"https://dans-labs.github.io/text-fabric/Api/General/\" title=\"text-fabric-api\">Text-Fabric API 5.5.25</a> <a target=\"_blank\" href=\"https://dans-labs.github.io/text-fabric/Api/General/#search-templates\" title=\"Search Templates Introduction and Reference\">Search Reference</a>"
      ],
      "text/plain": [
       "<IPython.core.display.Markdown object>"
      ]
     },
     "metadata": {},
     "output_type": "display_data"
    },
    {
     "data": {
      "text/markdown": [
       "\n",
       "This notebook online:\n",
       "<a target=\"_blank\" href=\"http://nbviewer.jupyter.org/github/etcbc/lingo/blob/master/bits-and-pieces/books.ipynb\">NBViewer</a>\n",
       "<a target=\"_blank\" href=\"https://github.com/etcbc/lingo/blob/master/bits-and-pieces/books.ipynb\">GitHub</a>\n"
      ],
      "text/plain": [
       "<IPython.core.display.Markdown object>"
      ]
     },
     "metadata": {},
     "output_type": "display_data"
    },
    {
     "data": {
      "text/html": [
       "\n",
       "<style type=\"text/css\">\n",
       ".verse {\n",
       "    display: flex;\n",
       "    flex-flow: row wrap;\n",
       "    direction: rtl;\n",
       "}\n",
       ".vl {\n",
       "    display: flex;\n",
       "    flex-flow: column nowrap;\n",
       "    justify-content: flex-end;\n",
       "    align-items: flex-end;\n",
       "    direction: ltr;\n",
       "    width: 100%;\n",
       "}\n",
       ".outeritem {\n",
       "    display: flex;\n",
       "    flex-flow: row wrap;\n",
       "    direction: rtl;\n",
       "}\n",
       ".sentence,.clause,.phrase {\n",
       "    margin-top: -1.2em;\n",
       "    margin-left: 1em;\n",
       "    background: #ffffff none repeat scroll 0 0;\n",
       "    padding: 0 0.3em;\n",
       "    border-style: solid;\n",
       "    border-radius: 0.2em;\n",
       "    font-size: small;\n",
       "    display: block;\n",
       "    width: fit-content;\n",
       "    max-width: fit-content;\n",
       "    direction: ltr;\n",
       "}\n",
       ".atoms {\n",
       "    display: flex;\n",
       "    flex-flow: row wrap;\n",
       "    margin: 0.3em;\n",
       "    padding: 0.3em;\n",
       "    direction: rtl;\n",
       "    background-color: #ffffff;\n",
       "}\n",
       ".satom,.catom,.patom {\n",
       "    margin: 0.3em;\n",
       "    padding: 0.3em;\n",
       "    border-radius: 0.3em;\n",
       "    border-style: solid;\n",
       "    display: flex;\n",
       "    flex-flow: column nowrap;\n",
       "    direction: rtl;\n",
       "    background-color: #ffffff;\n",
       "}\n",
       ".sentence {\n",
       "    border-color: #aa3333;\n",
       "    border-width: 1px;\n",
       "}\n",
       ".clause {\n",
       "    border-color: #aaaa33;\n",
       "    border-width: 1px;\n",
       "}\n",
       ".phrase {\n",
       "    border-color: #33aaaa;\n",
       "    border-width: 1px;\n",
       "}\n",
       ".satom {\n",
       "    border-color: #aa3333;\n",
       "    border-width: 4px;\n",
       "}\n",
       ".catom {\n",
       "    border-color: #aaaa33;\n",
       "    border-width: 3px;\n",
       "}\n",
       ".patom {\n",
       "    border-color: #33aaaa;\n",
       "    border-width: 3px;\n",
       "}\n",
       ".word {\n",
       "    padding: 0.1em;\n",
       "    margin: 0.1em;\n",
       "    border-radius: 0.1em;\n",
       "    border: 1px solid #cccccc;\n",
       "    display: flex;\n",
       "    flex-flow: column nowrap;\n",
       "    direction: rtl;\n",
       "    background-color: #ffffff;\n",
       "}\n",
       ".lextp {\n",
       "    padding: 0.1em;\n",
       "    margin: 0.1em;\n",
       "    border-radius: 0.1em;\n",
       "    border: 2px solid #888888;\n",
       "    width: fit-content;\n",
       "    display: flex;\n",
       "    flex-flow: column nowrap;\n",
       "    direction: rtl;\n",
       "    background-color: #ffffff;\n",
       "}\n",
       ".occs {\n",
       "    font-size: x-small;\n",
       "}\n",
       ".satom.l,.catom.l,.patom.l {\n",
       "    border-left-style: dotted\n",
       "}\n",
       ".satom.r,.catom.r,.patom.r {\n",
       "    border-right-style: dotted\n",
       "}\n",
       ".satom.L,.catom.L,.patom.L {\n",
       "    border-left-style: none\n",
       "}\n",
       ".satom.R,.catom.R,.patom.R {\n",
       "    border-right-style: none\n",
       "}\n",
       ".h,.h a:visited,.h a:link {\n",
       "    font-family: \"Ezra SIL\", \"SBL Hebrew\", sans-serif;\n",
       "    font-size: large;\n",
       "    color: #000044;\n",
       "    direction: rtl;\n",
       "    text-decoration: none;\n",
       "}\n",
       ".hb,.hb a:visited,.hb a:link {\n",
       "    font-family: \"Ezra SIL\", \"SBL Hebrew\", sans-serif;\n",
       "    font-size: large;\n",
       "    direction: rtl;\n",
       "    text-decoration: none;\n",
       "}\n",
       ".rela,.function,.typ {\n",
       "    font-family: monospace;\n",
       "    font-size: small;\n",
       "    color: #0000bb;\n",
       "}\n",
       ".pdp,.pdp a:visited,.pdp a:link {\n",
       "    font-family: monospace;\n",
       "    font-size: medium;\n",
       "    color: #0000bb;\n",
       "    text-decoration: none;\n",
       "}\n",
       ".voc_lex {\n",
       "    font-family: monospace;\n",
       "    font-size: medium;\n",
       "    color: #0000bb;\n",
       "}\n",
       ".vs {\n",
       "    font-family: monospace;\n",
       "    font-size: medium;\n",
       "    font-weight: bold;\n",
       "    color: #0000bb;\n",
       "}\n",
       ".vt {\n",
       "    font-family: monospace;\n",
       "    font-size: medium;\n",
       "    font-weight: bold;\n",
       "    color: #0000bb;\n",
       "}\n",
       ".gloss {\n",
       "    font-family: sans-serif;\n",
       "    font-size: small;\n",
       "    font-weight: normal;\n",
       "    color: #444444;\n",
       "}\n",
       ".vrs {\n",
       "    font-family: sans-serif;\n",
       "    font-size: small;\n",
       "    font-weight: bold;\n",
       "    color: #444444;\n",
       "}\n",
       ".nd {\n",
       "    font-family: monospace;\n",
       "    font-size: x-small;\n",
       "    color: #999999;\n",
       "}\n",
       ".features {\n",
       "    font-family: monospace;\n",
       "    font-size: medium;\n",
       "    font-weight: bold;\n",
       "    color: #0a6611;\n",
       "    display: flex;\n",
       "    flex-flow: column nowrap;\n",
       "    padding: 0.1em;\n",
       "    margin: 0.1em;\n",
       "    direction: ltr;\n",
       "}\n",
       ".features .f {\n",
       "    font-family: sans-serif;\n",
       "    font-size: x-small;\n",
       "    font-weight: normal;\n",
       "    color: #5555bb;\n",
       "}\n",
       ".word .features div,.word .features span {\n",
       "    padding: 0;\n",
       "    margin: -0.1rem 0;\n",
       "}\n",
       "\n",
       ".hl {\n",
       "    background-color: #ffee66;\n",
       "}\n",
       "</style>\n"
      ],
      "text/plain": [
       "<IPython.core.display.HTML object>"
      ]
     },
     "metadata": {},
     "output_type": "display_data"
    }
   ],
   "source": [
    "B = Bhsa(api, 'books')"
   ]
  },
  {
   "cell_type": "code",
   "execution_count": 4,
   "metadata": {},
   "outputs": [
    {
     "data": {
      "text/plain": [
       "'word'"
      ]
     },
     "execution_count": 4,
     "metadata": {},
     "output_type": "execute_result"
    }
   ],
   "source": [
    "slotType = F.otype.slotType\n",
    "slotType"
   ]
  },
  {
   "cell_type": "code",
   "execution_count": 5,
   "metadata": {},
   "outputs": [
    {
     "data": {
      "text/plain": [
       "{'book', 'chapter', 'verse'}"
      ]
     },
     "execution_count": 5,
     "metadata": {},
     "output_type": "execute_result"
    }
   ],
   "source": [
    "sectionTypes = set(T.sectionTypes)\n",
    "sectionTypes"
   ]
  },
  {
   "cell_type": "code",
   "execution_count": 6,
   "metadata": {},
   "outputs": [
    {
     "data": {
      "text/plain": [
       "[447553,\n",
       " 447554,\n",
       " 447555,\n",
       " 447556,\n",
       " 447557,\n",
       " 447558,\n",
       " 447559,\n",
       " 447560,\n",
       " 447561,\n",
       " 447562,\n",
       " 751542,\n",
       " 751543,\n",
       " 751544,\n",
       " 751545,\n",
       " 751546,\n",
       " 751547,\n",
       " 751548,\n",
       " 751549,\n",
       " 751550,\n",
       " 751551,\n",
       " 426824,\n",
       " 426825,\n",
       " 426826,\n",
       " 426827,\n",
       " 426828,\n",
       " 426829,\n",
       " 426830,\n",
       " 426831,\n",
       " 426832,\n",
       " 426833,\n",
       " 300001,\n",
       " 300002,\n",
       " 300003,\n",
       " 300004,\n",
       " 300005,\n",
       " 300006,\n",
       " 300007,\n",
       " 300008,\n",
       " 300009,\n",
       " 300010]"
      ]
     },
     "execution_count": 6,
     "metadata": {},
     "output_type": "execute_result"
    }
   ],
   "source": [
    "testNodes = (\n",
    "  list(F.otype.s('clause')[20000:20010]) + \n",
    "  list(F.otype.s('phrase')[100000:100010]) + \n",
    "  list(F.otype.s('chapter')[200:210]) +\n",
    "  list(F.otype.s('word')[300000:300010])\n",
    ")\n",
    "testNodes"
   ]
  },
  {
   "cell_type": "code",
   "execution_count": 7,
   "metadata": {},
   "outputs": [],
   "source": [
    "textInfo = {}\n",
    "sectionInfo = {}"
   ]
  },
  {
   "cell_type": "code",
   "execution_count": 8,
   "metadata": {},
   "outputs": [],
   "source": [
    "for n in testNodes:\n",
    "  nType = F.otype.v(n)\n",
    "  if nType not in sectionTypes:\n",
    "    sns = [n] if nType == slotType else L.d(n, otype=slotType)\n",
    "    textInfo[n] = T.text(sns)\n",
    "    sParts = T.sectionFromNode(n)\n",
    "    nParts = len(sParts)\n",
    "    sParts += (None,) * (4 - nParts)\n",
    "    sectionInfo[n] = sParts"
   ]
  },
  {
   "cell_type": "code",
   "execution_count": 9,
   "metadata": {},
   "outputs": [
    {
     "data": {
      "text/plain": [
       "{447553: 'וְיָרְקָ֖ה בְּפָנָ֑יו ',\n",
       " 447554: 'וְעָֽנְתָה֙ ',\n",
       " 447555: 'וְאָ֣מְרָ֔ה ',\n",
       " 447556: 'כָּ֚כָה יֵעָשֶׂ֣ה לָאִ֔ישׁ ',\n",
       " 447557: 'אֲשֶׁ֥ר לֹא־יִבְנֶ֖ה אֶת־בֵּ֥ית אָחִֽיו׃ ',\n",
       " 447558: 'וְנִקְרָ֥א שְׁמֹ֖ו בְּיִשְׂרָאֵ֑ל ',\n",
       " 447559: 'בֵּ֖ית חֲל֥וּץ הַנָּֽעַל׃ ס ',\n",
       " 447560: 'כִּֽי־יִנָּצ֨וּ אֲנָשִׁ֤ים יַחְדָּו֙ אִ֣ישׁ וְאָחִ֔יו ',\n",
       " 447561: 'וְקָֽרְבָה֙ אֵ֣שֶׁת הָֽאֶחָ֔ד ',\n",
       " 447562: 'לְהַצִּ֥יל אֶת־אִישָּׁ֖הּ מִיַּ֣ד מַכֵּ֑הוּ ',\n",
       " 751542: 'וְ',\n",
       " 751543: 'הִנֵּ֛ה ',\n",
       " 751544: 'כָּל־אִ֥ישׁ יִשְׂרָאֵ֖ל ',\n",
       " 751545: 'בָּאִ֣ים ',\n",
       " 751546: 'אֶל־הַמֶּ֑לֶךְ ',\n",
       " 751547: 'וַ',\n",
       " 751548: 'יֹּאמְר֣וּ ',\n",
       " 751549: 'אֶל־הַמֶּ֡לֶךְ ',\n",
       " 751550: 'מַדּוּעַ֩ ',\n",
       " 751551: 'גְּנָב֨וּךָ ',\n",
       " 300001: 'הָיָ֥ה ',\n",
       " 300002: 'מַטִּ֖יף ',\n",
       " 300003: 'הָ',\n",
       " 300004: 'עָ֥ם ',\n",
       " 300005: 'הַ',\n",
       " 300006: 'זֶּֽה׃ ',\n",
       " 300007: 'אָסֹ֨ף ',\n",
       " 300008: 'אֶאֱסֹ֜ף ',\n",
       " 300009: 'יַעֲקֹ֣ב ',\n",
       " 300010: 'כֻּלָּ֗ךְ '}"
      ]
     },
     "execution_count": 9,
     "metadata": {},
     "output_type": "execute_result"
    }
   ],
   "source": [
    "textInfo"
   ]
  },
  {
   "cell_type": "code",
   "execution_count": 10,
   "metadata": {},
   "outputs": [
    {
     "data": {
      "text/plain": [
       "{447553: ('Deuteronomy', 25, 9, None),\n",
       " 447554: ('Deuteronomy', 25, 9, None),\n",
       " 447555: ('Deuteronomy', 25, 9, None),\n",
       " 447556: ('Deuteronomy', 25, 9, None),\n",
       " 447557: ('Deuteronomy', 25, 9, None),\n",
       " 447558: ('Deuteronomy', 25, 10, None),\n",
       " 447559: ('Deuteronomy', 25, 10, None),\n",
       " 447560: ('Deuteronomy', 25, 11, None),\n",
       " 447561: ('Deuteronomy', 25, 11, None),\n",
       " 447562: ('Deuteronomy', 25, 11, None),\n",
       " 751542: ('2_Samuel', 19, 42, None),\n",
       " 751543: ('2_Samuel', 19, 42, None),\n",
       " 751544: ('2_Samuel', 19, 42, None),\n",
       " 751545: ('2_Samuel', 19, 42, None),\n",
       " 751546: ('2_Samuel', 19, 42, None),\n",
       " 751547: ('2_Samuel', 19, 42, None),\n",
       " 751548: ('2_Samuel', 19, 42, None),\n",
       " 751549: ('2_Samuel', 19, 42, None),\n",
       " 751550: ('2_Samuel', 19, 42, None),\n",
       " 751551: ('2_Samuel', 19, 42, None),\n",
       " 300001: ('Micah', 2, 11, None),\n",
       " 300002: ('Micah', 2, 11, None),\n",
       " 300003: ('Micah', 2, 11, None),\n",
       " 300004: ('Micah', 2, 11, None),\n",
       " 300005: ('Micah', 2, 11, None),\n",
       " 300006: ('Micah', 2, 11, None),\n",
       " 300007: ('Micah', 2, 12, None),\n",
       " 300008: ('Micah', 2, 12, None),\n",
       " 300009: ('Micah', 2, 12, None),\n",
       " 300010: ('Micah', 2, 12, None)}"
      ]
     },
     "execution_count": 10,
     "metadata": {},
     "output_type": "execute_result"
    }
   ],
   "source": [
    "sectionInfo"
   ]
  },
  {
   "cell_type": "code",
   "execution_count": 11,
   "metadata": {},
   "outputs": [],
   "source": [
    "def getContext(api, nodes):\n",
    "  F = api.F\n",
    "  Fs = api.Fs\n",
    "  Fall = api.Fall\n",
    "  T = api.T\n",
    "  L = api.L\n",
    "  slotType = F.otype.slotType\n",
    "  sectionTypes = set(T.sectionTypes)\n",
    "\n",
    "  rows = []\n",
    "  feats = tuple(sorted(Fall()))\n",
    "  rows.append(('node',) + tuple(T.sectionTypes) + feats + ('text',))\n",
    "  for n in sorted(nodes):\n",
    "    nType = F.otype.v(n)\n",
    "    sParts = T.sectionFromNode(n)\n",
    "    nParts = len(sParts)\n",
    "    section = sParts + ((None,) * (3 - nParts))\n",
    "    if nType in sectionTypes:\n",
    "      text = ''\n",
    "    else:\n",
    "      sns = [n] if nType == slotType else L.d(n, otype=slotType)\n",
    "      text = T.text(sns)\n",
    "    rows.append((n,) + section + tuple(Fs(f).v(n) for f in feats) + (text,))\n",
    "  return tuple(rows)"
   ]
  },
  {
   "cell_type": "code",
   "execution_count": 18,
   "metadata": {},
   "outputs": [],
   "source": [
    "data = getContext(api, testNodes)\n",
    "testFile = os.path.expanduser('~/Downloads/test.csv')\n",
    "with open(testFile, 'w', encoding=\"utf_16_le\") as tf:\n",
    "  tf.write('\\ufeff')\n",
    "  for row in data:\n",
    "    tf.write('\\t'.join('' if r is None else str(r) for r in row))\n",
    "    tf.write('\\n')"
   ]
  },
  {
   "cell_type": "code",
   "execution_count": null,
   "metadata": {},
   "outputs": [],
   "source": []
  }
 ],
 "metadata": {
  "kernelspec": {
   "display_name": "Python 3",
   "language": "python",
   "name": "python3"
  },
  "language_info": {
   "codemirror_mode": {
    "name": "ipython",
    "version": 3
   },
   "file_extension": ".py",
   "mimetype": "text/x-python",
   "name": "python",
   "nbconvert_exporter": "python",
   "pygments_lexer": "ipython3",
   "version": "3.7.0"
  }
 },
 "nbformat": 4,
 "nbformat_minor": 2
}
