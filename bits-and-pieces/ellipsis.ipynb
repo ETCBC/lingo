{
 "cells": [
  {
   "cell_type": "markdown",
   "metadata": {},
   "source": [
    "This is an exercise based on a question by Stephen Ku:\n",
    "\n",
    ">I'm searching for direct objects within an `Ellp` clause whose `Pred` is not in the immediately preceding clause.\n",
    "\n",
    ">My logic is that if there is already a verb in the immediately preceding clause, then any verb found in a clause prior to the immediately preceding clause is probably not for the direct object in the `Ellp`.\n",
    "\n",
    "> The query below searches for two `Pred`s in two clauses preceding and `Ellp` in which the direct object is found.\n",
    "\n",
    ">The assumption is that in this scenario, the first `Pred` does not go with the direct object, but this assumption is not always true.\n",
    "\n",
    ">Is there a way to search more accurately for a `Pred`/`Objc` pair in which the `Pred` and `Objc` can be several clauses apart (even when there is an intervening `Pred`) and the results are always correct? Can `mother` be used somehow for this?"
   ]
  },
  {
   "cell_type": "code",
   "execution_count": null,
   "id": "false-illustration",
   "metadata": {},
   "outputs": [],
   "source": [
    "import collections\n",
    "from tf.fabric import Fabric"
   ]
  },
  {
   "cell_type": "code",
   "execution_count": 1,
   "metadata": {},
   "outputs": [],
   "source": [
    "query1 = \"\"\"\n",
    "sentence\n",
    "  c1:clause\n",
    "    phrase function=Pred\n",
    "      word pdp=verb\n",
    "  c2:clause\n",
    "    phrase function=Pred\n",
    "  c3:clause typ=Ellp\n",
    "    phrase function=Objc\n",
    "      word pdp=subs|nmpr|prps|prde|prin\n",
    "  c1 << c2\n",
    "  c2 << c3\n",
    "\"\"\""
   ]
  },
  {
   "cell_type": "markdown",
   "metadata": {},
   "source": [
    "Let's see what is happening here."
   ]
  },
  {
   "cell_type": "markdown",
   "metadata": {},
   "source": [
    "# Load data\n",
    "We load the some features of the\n",
    "[BHSA](https://github.com/etcbc/bhsa) data.\n",
    "See the [feature documentation](https://etcbc.github.io/bhsa/features/hebrew/2017/0_home.html) for more info."
   ]
  },
  {
   "cell_type": "code",
   "execution_count": 17,
   "metadata": {},
   "outputs": [
    {
     "name": "stdout",
     "output_type": "stream",
     "text": [
      "This is Text-Fabric 3.2.2\n",
      "Api reference : https://github.com/Dans-labs/text-fabric/wiki/Api\n",
      "Tutorial      : https://github.com/Dans-labs/text-fabric/blob/master/docs/tutorial.ipynb\n",
      "Example data  : https://github.com/Dans-labs/text-fabric-data\n",
      "\n",
      "115 features found and 0 ignored\n",
      "  0.00s loading features ...\n",
      "   |     0.09s B function             from /Users/dirk/github/etcbc/BHSA/tf/2017\n",
      "   |     3.38s B mother               from /Users/dirk/github/etcbc/BHSA/tf/2017\n",
      "   |     0.00s Feature overview: 109 for nodes; 5 for edges; 1 configs; 7 computed\n",
      "  9.97s All features loaded/computed - for details use loadLog()\n"
     ]
    }
   ],
   "source": [
    "BHSA = \"BHSA/tf/2017\"\n",
    "\n",
    "TF = Fabric(locations=\"~/github/etcbc\", modules=BHSA)\n",
    "api = TF.load(\n",
    "    \"\"\"\n",
    "    function\n",
    "    mother\n",
    "\"\"\"\n",
    ")\n",
    "api.makeAvailableIn(globals())"
   ]
  },
  {
   "cell_type": "code",
   "execution_count": 8,
   "metadata": {},
   "outputs": [],
   "source": [
    "results = list(S.search(query1))"
   ]
  },
  {
   "cell_type": "code",
   "execution_count": 9,
   "metadata": {},
   "outputs": [
    {
     "data": {
      "text/plain": [
       "1410"
      ]
     },
     "execution_count": 9,
     "metadata": {},
     "output_type": "execute_result"
    }
   ],
   "source": [
    "len(results)"
   ]
  },
  {
   "cell_type": "code",
   "execution_count": 11,
   "metadata": {
    "lines_to_next_cell": 2
   },
   "outputs": [
    {
     "name": "stdout",
     "output_type": "stream",
     "text": [
      "sentence[כָּל־קֳבֵ֗ל דִּי֩ מִן־...] clause[כָּל־קֳבֵ֗ל דִּי֩ מִן־...] phrase[שְׁלִ֔יחַ ] שְׁלִ֔יחַ  clause[לְבַקָּרָ֥א עַל־יְה֖וּד וְ...] phrase[לְבַקָּרָ֥א ] clause[וְכֹל֙ כְּסַ֣ף וּדְהַ֔ב ] phrase[כֹל֙ כְּסַ֣ף וּדְהַ֔ב ] דְהַ֔ב \n",
      "sentence[כָּל־קֳבֵ֗ל דִּי֩ מִן־...] clause[כָּל־קֳבֵ֗ל דִּי֩ מִן־...] phrase[שְׁלִ֔יחַ ] שְׁלִ֔יחַ  clause[וּלְהֵיבָלָ֖ה כְּסַ֣ף וּ...] phrase[לְהֵיבָלָ֖ה ] clause[וְכֹל֙ כְּסַ֣ף וּדְהַ֔ב ] phrase[כֹל֙ כְּסַ֣ף וּדְהַ֔ב ] דְהַ֔ב \n",
      "sentence[כָּל־קֳבֵ֗ל דִּי֩ מִן־...] clause[כָּל־קֳבֵ֗ל דִּי֩ מִן־...] phrase[שְׁלִ֔יחַ ] שְׁלִ֔יחַ  clause[דִּֽי־מַלְכָּ֣א וְיָעֲטֹ֗והִי הִתְנַדַּ֨בוּ֙ ...] phrase[הִתְנַדַּ֨בוּ֙ ] clause[וְכֹל֙ כְּסַ֣ף וּדְהַ֔ב ] phrase[כֹל֙ כְּסַ֣ף וּדְהַ֔ב ] דְהַ֔ב \n",
      "sentence[כָּל־קֳבֵ֗ל דִּי֩ מִן־...] clause[כָּל־קֳבֵ֗ל דִּי֩ מִן־...] phrase[שְׁלִ֔יחַ ] שְׁלִ֔יחַ  clause[לְבַקָּרָ֥א עַל־יְה֖וּד וְ...] phrase[לְבַקָּרָ֥א ] clause[וְכֹל֙ כְּסַ֣ף וּדְהַ֔ב ] phrase[כֹל֙ כְּסַ֣ף וּדְהַ֔ב ] כֹל֙ \n",
      "sentence[כָּל־קֳבֵ֗ל דִּי֩ מִן־...] clause[כָּל־קֳבֵ֗ל דִּי֩ מִן־...] phrase[שְׁלִ֔יחַ ] שְׁלִ֔יחַ  clause[וּלְהֵיבָלָ֖ה כְּסַ֣ף וּ...] phrase[לְהֵיבָלָ֖ה ] clause[וְכֹל֙ כְּסַ֣ף וּדְהַ֔ב ] phrase[כֹל֙ כְּסַ֣ף וּדְהַ֔ב ] כֹל֙ \n",
      "sentence[כָּל־קֳבֵ֗ל דִּי֩ מִן־...] clause[כָּל־קֳבֵ֗ל דִּי֩ מִן־...] phrase[שְׁלִ֔יחַ ] שְׁלִ֔יחַ  clause[דִּֽי־מַלְכָּ֣א וְיָעֲטֹ֗והִי הִתְנַדַּ֨בוּ֙ ...] phrase[הִתְנַדַּ֨בוּ֙ ] clause[וְכֹל֙ כְּסַ֣ף וּדְהַ֔ב ] phrase[כֹל֙ כְּסַ֣ף וּדְהַ֔ב ] כֹל֙ \n",
      "sentence[כָּל־קֳבֵ֗ל דִּי֩ מִן־...] clause[כָּל־קֳבֵ֗ל דִּי֩ מִן־...] phrase[שְׁלִ֔יחַ ] שְׁלִ֔יחַ  clause[לְבַקָּרָ֥א עַל־יְה֖וּד וְ...] phrase[לְבַקָּרָ֥א ] clause[וְכֹל֙ כְּסַ֣ף וּדְהַ֔ב ] phrase[כֹל֙ כְּסַ֣ף וּדְהַ֔ב ] כְּסַ֣ף \n",
      "sentence[כָּל־קֳבֵ֗ל דִּי֩ מִן־...] clause[כָּל־קֳבֵ֗ל דִּי֩ מִן־...] phrase[שְׁלִ֔יחַ ] שְׁלִ֔יחַ  clause[וּלְהֵיבָלָ֖ה כְּסַ֣ף וּ...] phrase[לְהֵיבָלָ֖ה ] clause[וְכֹל֙ כְּסַ֣ף וּדְהַ֔ב ] phrase[כֹל֙ כְּסַ֣ף וּדְהַ֔ב ] כְּסַ֣ף \n",
      "sentence[כָּל־קֳבֵ֗ל דִּי֩ מִן־...] clause[כָּל־קֳבֵ֗ל דִּי֩ מִן־...] phrase[שְׁלִ֔יחַ ] שְׁלִ֔יחַ  clause[דִּֽי־מַלְכָּ֣א וְיָעֲטֹ֗והִי הִתְנַדַּ֨בוּ֙ ...] phrase[הִתְנַדַּ֨בוּ֙ ] clause[וְכֹל֙ כְּסַ֣ף וּדְהַ֔ב ] phrase[כֹל֙ כְּסַ֣ף וּדְהַ֔ב ] כְּסַ֣ף \n",
      "sentence[כָּל־קֳבֵ֗ל דִּי֩ מִן־...] clause[לְבַקָּרָ֥א עַל־יְה֖וּד וְ...] phrase[לְבַקָּרָ֥א ] בַקָּרָ֥א  clause[וּלְהֵיבָלָ֖ה כְּסַ֣ף וּ...] phrase[לְהֵיבָלָ֖ה ] clause[וְכֹל֙ כְּסַ֣ף וּדְהַ֔ב ] phrase[כֹל֙ כְּסַ֣ף וּדְהַ֔ב ] דְהַ֔ב \n"
     ]
    }
   ],
   "source": [
    "for r in results[0:10]:\n",
    "    print(S.glean(r))"
   ]
  },
  {
   "cell_type": "markdown",
   "metadata": {},
   "source": [
    "# Mothers and phrases\n",
    "\n",
    "Just to make sure: are there mother edges that arrive at an `Objc` phrase or at a `Pred` phrase?\n",
    "Let's explore the distribution of mother edges.\n",
    "First we need to see between what node types they occur, and then we see between what\n",
    "phrase functions they occur."
   ]
  },
  {
   "cell_type": "markdown",
   "metadata": {
    "lines_to_next_cell": 2
   },
   "source": [
    "We start with a generic function that shows the distribution of a data set.\n",
    "Think of the data set as a mapping from nodes to sets of nodes.\n",
    "If we have a property of nodes, we want to see how many times a nodes with property value1\n",
    "are mapped to nodes of property value 2.\n",
    "\n",
    "The next function takes `data`, which is a node mapping to sets, and `dataKey`, which is a *function* that gives a value for each node."
   ]
  },
  {
   "cell_type": "code",
   "execution_count": 35,
   "metadata": {},
   "outputs": [],
   "source": [
    "def showDist(data, dataKey):\n",
    "    dataDist = collections.Counter()\n",
    "    for (p, ms) in data.items():\n",
    "        for m in ms:\n",
    "            dataDist[(dataKey(p), dataKey(m))] += 1\n",
    "    for (combi, amount) in sorted(\n",
    "        dataDist.items(),\n",
    "        key=lambda x: (-x[1], x[0]),\n",
    "    ):\n",
    "        print(f'{amount:>3} x {\" => \".join(str(s) for s in combi)}')"
   ]
  },
  {
   "cell_type": "markdown",
   "metadata": {},
   "source": [
    "First we get the distribution of node types between which mother edges may occur."
   ]
  },
  {
   "cell_type": "code",
   "execution_count": 36,
   "metadata": {},
   "outputs": [
    {
     "name": "stdout",
     "output_type": "stream",
     "text": [
      "89580 x clause_atom => clause_atom\n",
      "34883 x subphrase => word\n",
      "22009 x subphrase => subphrase\n",
      "13907 x clause => clause\n",
      "12497 x phrase_atom => phrase_atom\n",
      "5716 x clause => phrase\n",
      "1835 x phrase_atom => word\n",
      "1167 x clause => word\n",
      "506 x phrase => phrase\n",
      " 51 x phrase => clause\n",
      "  8 x phrase => word\n"
     ]
    }
   ],
   "source": [
    "allMothers = {}\n",
    "\n",
    "for n in N():\n",
    "    allMothers[n] = set(E.mother.f(n))\n",
    "\n",
    "showDist(allMothers, F.otype.v)"
   ]
  },
  {
   "cell_type": "markdown",
   "metadata": {},
   "source": [
    "Given that there are more than 250,000 phrases, it is clear that the mother relation is only used very sparsely among phrases. We are going to show how many times there are mothers between phrases with specified `function`s.\n",
    "\n",
    "Probably, we should look at phrase_atoms."
   ]
  },
  {
   "cell_type": "code",
   "execution_count": 37,
   "metadata": {},
   "outputs": [],
   "source": [
    "phraseMothers = collections.defaultdict(set)\n",
    "\n",
    "for p in F.otype.s(\"phrase_atom\"):\n",
    "    mothers = E.mother.f(p)\n",
    "    for m in mothers:\n",
    "        if F.otype.v(m) == \"phrase_atom\":\n",
    "            phraseMothers[p].add(m)"
   ]
  },
  {
   "cell_type": "code",
   "execution_count": 38,
   "metadata": {},
   "outputs": [
    {
     "data": {
      "text/plain": [
       "12497"
      ]
     },
     "execution_count": 38,
     "metadata": {},
     "output_type": "execute_result"
    }
   ],
   "source": [
    "len(phraseMothers)"
   ]
  },
  {
   "cell_type": "code",
   "execution_count": 39,
   "metadata": {
    "lines_to_next_cell": 2
   },
   "outputs": [
    {
     "name": "stdout",
     "output_type": "stream",
     "text": [
      "12497 x None => None\n"
     ]
    }
   ],
   "source": [
    "showDist(phraseMothers, F.function.v)"
   ]
  },
  {
   "cell_type": "markdown",
   "metadata": {
    "lines_to_next_cell": 2
   },
   "source": [
    "Ah, phrase_atoms do not have functions!\n",
    "We just take the function of the phrase they are contained in."
   ]
  },
  {
   "cell_type": "code",
   "execution_count": 40,
   "metadata": {},
   "outputs": [],
   "source": [
    "def getFunction(pa):\n",
    "    return F.function.v(L.u(pa, otype=\"phrase\")[0])"
   ]
  },
  {
   "cell_type": "code",
   "execution_count": 41,
   "metadata": {},
   "outputs": [
    {
     "name": "stdout",
     "output_type": "stream",
     "text": [
      "3875 x Subj => Subj\n",
      "2502 x Objc => Objc\n",
      "2278 x Cmpl => Cmpl\n",
      "1598 x PreC => PreC\n",
      "917 x Adju => Adju\n",
      "451 x Time => Time\n",
      "312 x Loca => Loca\n",
      "244 x Frnt => Frnt\n",
      "202 x Voct => Voct\n",
      " 62 x Modi => Modi\n",
      " 23 x PreO => PreO\n",
      " 19 x PrAd => PrAd\n",
      "  8 x PreS => PreS\n",
      "  4 x PrcS => PrcS\n",
      "  1 x PtcO => PtcO\n",
      "  1 x Ques => Ques\n"
     ]
    }
   ],
   "source": [
    "showDist(phraseMothers, getFunction)"
   ]
  },
  {
   "cell_type": "markdown",
   "metadata": {},
   "source": [
    "That's a pity. It seems that the mother edges between phrase_atoms only link phrase_atoms in the same phrase.\n",
    "\n",
    "Let's have a look at the mothers between phrases after all."
   ]
  },
  {
   "cell_type": "code",
   "execution_count": 42,
   "metadata": {},
   "outputs": [],
   "source": [
    "phraseMothers = collections.defaultdict(set)\n",
    "\n",
    "for p in F.otype.s(\"phrase\"):\n",
    "    mothers = E.mother.f(p)\n",
    "    for m in mothers:\n",
    "        if F.otype.v(m) == \"phrase\":\n",
    "            phraseMothers[p].add(m)"
   ]
  },
  {
   "cell_type": "code",
   "execution_count": 43,
   "metadata": {},
   "outputs": [
    {
     "name": "stdout",
     "output_type": "stream",
     "text": [
      "123 x Subj => Frnt\n",
      " 72 x PrAd => Objc\n",
      " 66 x PrAd => Subj\n",
      " 59 x PrAd => Pred\n",
      " 32 x PreO => Frnt\n",
      " 31 x PrAd => PreO\n",
      " 22 x PreC => Frnt\n",
      " 20 x Modi => Frnt\n",
      " 17 x Cmpl => Frnt\n",
      " 14 x Objc => Frnt\n",
      " 11 x Pred => Frnt\n",
      " 10 x IntS => Frnt\n",
      "  6 x NCoS => Frnt\n",
      "  4 x PrAd => Cmpl\n",
      "  3 x PrAd => Rela\n",
      "  2 x Adju => Frnt\n",
      "  2 x Loca => Frnt\n",
      "  2 x PrAd => PreC\n",
      "  2 x Time => Frnt\n",
      "  1 x Conj => Frnt\n",
      "  1 x ExsS => Frnt\n",
      "  1 x ModS => Frnt\n",
      "  1 x PrAd => Adju\n",
      "  1 x PrAd => Conj\n",
      "  1 x PrAd => IntS\n",
      "  1 x PrAd => Modi\n",
      "  1 x Ques => Frnt\n"
     ]
    }
   ],
   "source": [
    "showDist(phraseMothers, F.function.v)"
   ]
  },
  {
   "cell_type": "markdown",
   "metadata": {},
   "source": [
    "All cases have to do with `Frnt` and `PreAd`. So the mother is definitely not helping out with Stephen's original question."
   ]
  }
 ],
 "metadata": {
  "kernelspec": {
   "display_name": "Python 3",
   "language": "python",
   "name": "python3"
  },
  "language_info": {
   "codemirror_mode": {
    "name": "ipython",
    "version": 3
   },
   "file_extension": ".py",
   "mimetype": "text/x-python",
   "name": "python",
   "nbconvert_exporter": "python",
   "pygments_lexer": "ipython3",
   "version": "3.6.4"
  }
 },
 "nbformat": 4,
 "nbformat_minor": 2
}
