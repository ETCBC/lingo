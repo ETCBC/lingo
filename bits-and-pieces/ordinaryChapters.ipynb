{
 "cells": [
  {
   "cell_type": "markdown",
   "metadata": {},
   "source": [
    "# Chapters with only \"frequent\" words\n",
    "\n",
    "Task: find the chapters without more than 20 rare words, where a rare word has a frequency (as lexeme) of less than 70.\n",
    "\n",
    "A question posed by Oliver Glanz."
   ]
  },
  {
   "cell_type": "code",
   "execution_count": 1,
   "metadata": {},
   "outputs": [],
   "source": [
    "from tf.fabric import Fabric"
   ]
  },
  {
   "cell_type": "code",
   "execution_count": 2,
   "metadata": {},
   "outputs": [
    {
     "name": "stdout",
     "output_type": "stream",
     "text": [
      "This is Text-Fabric 7.0.3\n",
      "Api reference : https://dans-labs.github.io/text-fabric/Api/General/\n",
      "Tutorial      : https://github.com/Dans-labs/text-fabric/blob/master/docs/tutorial.ipynb\n",
      "Example data  : https://github.com/Dans-labs/text-fabric-data\n",
      "\n",
      "114 features found and 0 ignored\n"
     ]
    }
   ],
   "source": [
    "TF = Fabric(modules='etcbc/bhsa/tf/c')"
   ]
  },
  {
   "cell_type": "code",
   "execution_count": 6,
   "metadata": {},
   "outputs": [],
   "source": [
    "api = TF.load('freq_lex', silent=True)"
   ]
  },
  {
   "cell_type": "code",
   "execution_count": 9,
   "metadata": {},
   "outputs": [
    {
     "data": {
      "text/plain": [
       "[('computed-data', ('C Computed', 'Call AllComputeds', 'Cs ComputedString')),\n",
       " ('edge-features', ('E Edge', 'Eall AllEdges', 'Es EdgeString')),\n",
       " ('loading', ('TF', 'ensureLoaded', 'ignored', 'loadLog')),\n",
       " ('locality', ('L Locality',)),\n",
       " ('messaging', ('cache', 'error', 'indent', 'info', 'reset')),\n",
       " ('navigating-nodes', ('N Nodes', 'sortKey', 'otypeRank', 'sortNodes')),\n",
       " ('node-features', ('F Feature', 'Fall AllFeatures', 'Fs FeatureString')),\n",
       " ('search', ('S Search',)),\n",
       " ('text', ('T Text',))]"
      ]
     },
     "execution_count": 9,
     "metadata": {},
     "output_type": "execute_result"
    }
   ],
   "source": [
    "api.makeAvailableIn(globals())"
   ]
  },
  {
   "cell_type": "code",
   "execution_count": 19,
   "metadata": {},
   "outputs": [],
   "source": [
    "FREQ = 70\n",
    "AMOUNT = 20"
   ]
  },
  {
   "cell_type": "markdown",
   "metadata": {},
   "source": [
    "## Query\n",
    "\n",
    "A straightforward query is:"
   ]
  },
  {
   "cell_type": "code",
   "execution_count": 22,
   "metadata": {},
   "outputs": [],
   "source": [
    "query = f'''\n",
    "chapter\n",
    "/without/\n",
    "  word freq_lex<{FREQ}\n",
    "  < word freq_lex<{FREQ}\n",
    "  < word freq_lex<{FREQ}\n",
    "  < word freq_lex<{FREQ}\n",
    "  < word freq_lex<{FREQ}\n",
    "  < word freq_lex<{FREQ}\n",
    "  < word freq_lex<{FREQ}\n",
    "  < word freq_lex<{FREQ}\n",
    "  < word freq_lex<{FREQ}\n",
    "  < word freq_lex<{FREQ}\n",
    "  < word freq_lex<{FREQ}\n",
    "  < word freq_lex<{FREQ}\n",
    "  < word freq_lex<{FREQ}\n",
    "  < word freq_lex<{FREQ}\n",
    "  < word freq_lex<{FREQ}\n",
    "  < word freq_lex<{FREQ}\n",
    "  < word freq_lex<{FREQ}\n",
    "  < word freq_lex<{FREQ}\n",
    "  < word freq_lex<{FREQ}\n",
    "  < word freq_lex<{FREQ}\n",
    "/-/\n",
    "'''"
   ]
  },
  {
   "cell_type": "markdown",
   "metadata": {},
   "source": [
    "Two problems with this query:\n",
    "\n",
    "* it is very inelegant\n",
    "* it does not perform, in fact, you cannot wait for it.\n",
    "\n",
    "So, better not search with this one."
   ]
  },
  {
   "cell_type": "code",
   "execution_count": 24,
   "metadata": {},
   "outputs": [
    {
     "name": "stdout",
     "output_type": "stream",
     "text": [
      "  0.00s start query\n",
      "  0.00s end query\n"
     ]
    },
    {
     "data": {
      "text/plain": [
       "1"
      ]
     },
     "execution_count": 24,
     "metadata": {},
     "output_type": "execute_result"
    }
   ],
   "source": [
    "indent(reset=True)\n",
    "info('start query')\n",
    "# results = S.search(query, limit=1)\n",
    "info('end query')\n",
    "len(results)"
   ]
  },
  {
   "cell_type": "markdown",
   "metadata": {},
   "source": [
    "# By hand\n",
    "\n",
    "On the other hand, with a bit of hand coding it is very easy, and almost instantaneous:"
   ]
  },
  {
   "cell_type": "code",
   "execution_count": 32,
   "metadata": {},
   "outputs": [
    {
     "name": "stdout",
     "output_type": "stream",
     "text": [
      "60 chapters out of 929\n"
     ]
    }
   ],
   "source": [
    "results = []\n",
    "allChapters = F.otype.s('chapter')\n",
    "\n",
    "for chapter in allChapters:\n",
    "    if len([\n",
    "        word for word in L.d(chapter, otype='word') if F.freq_lex.v(word) < FREQ\n",
    "    ]) < AMOUNT:\n",
    "        results.append(chapter)\n",
    "        \n",
    "print(f'{len(results)} chapters out of {len(allChapters)}')"
   ]
  },
  {
   "cell_type": "code",
   "execution_count": 33,
   "metadata": {},
   "outputs": [
    {
     "name": "stdout",
     "output_type": "stream",
     "text": [
      "Exodus 11\n",
      "Exodus 24\n",
      "Leviticus 17\n",
      "Deuteronomy 30\n",
      "Joshua 23\n",
      "Isaiah 12\n",
      "Isaiah 39\n",
      "Jeremiah 45\n",
      "Ezekiel 15\n",
      "Hosea 3\n",
      "Joel 3\n",
      "Psalms 1\n",
      "Psalms 3\n",
      "Psalms 4\n",
      "Psalms 13\n",
      "Psalms 14\n",
      "Psalms 15\n",
      "Psalms 20\n",
      "Psalms 23\n",
      "Psalms 24\n",
      "Psalms 26\n",
      "Psalms 43\n",
      "Psalms 47\n",
      "Psalms 53\n",
      "Psalms 54\n",
      "Psalms 61\n",
      "Psalms 67\n",
      "Psalms 70\n",
      "Psalms 82\n",
      "Psalms 86\n",
      "Psalms 87\n",
      "Psalms 93\n",
      "Psalms 97\n",
      "Psalms 99\n",
      "Psalms 100\n",
      "Psalms 101\n",
      "Psalms 110\n",
      "Psalms 113\n",
      "Psalms 114\n",
      "Psalms 115\n",
      "Psalms 117\n",
      "Psalms 120\n",
      "Psalms 121\n",
      "Psalms 122\n",
      "Psalms 123\n",
      "Psalms 124\n",
      "Psalms 125\n",
      "Psalms 126\n",
      "Psalms 127\n",
      "Psalms 128\n",
      "Psalms 130\n",
      "Psalms 131\n",
      "Psalms 133\n",
      "Psalms 134\n",
      "Psalms 136\n",
      "Psalms 138\n",
      "Psalms 150\n",
      "Job 25\n",
      "Esther 10\n",
      "2_Chronicles 27\n"
     ]
    }
   ],
   "source": [
    "for chapter in results:\n",
    "    print('{} {}'.format(*T.sectionFromNode(chapter)))"
   ]
  },
  {
   "cell_type": "code",
   "execution_count": null,
   "metadata": {},
   "outputs": [],
   "source": []
  }
 ],
 "metadata": {
  "kernelspec": {
   "display_name": "Python 3",
   "language": "python",
   "name": "python3"
  },
  "language_info": {
   "codemirror_mode": {
    "name": "ipython",
    "version": 3
   },
   "file_extension": ".py",
   "mimetype": "text/x-python",
   "name": "python",
   "nbconvert_exporter": "python",
   "pygments_lexer": "ipython3",
   "version": "3.7.1"
  }
 },
 "nbformat": 4,
 "nbformat_minor": 2
}
