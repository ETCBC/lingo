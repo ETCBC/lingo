{
 "cells": [
  {
   "cell_type": "markdown",
   "metadata": {},
   "source": [
    "# Chapters with only \"frequent\" words\n",
    "\n",
    "Task: find the chapters without more than 20 rare words, where a rare word has a frequency (as lexeme) of less than 70.\n",
    "\n",
    "A question posed by Oliver Glanz."
   ]
  },
  {
   "cell_type": "code",
   "execution_count": 1,
   "metadata": {},
   "outputs": [],
   "source": [
    "%load_ext autoreload\n",
    "%autoreload 2"
   ]
  },
  {
   "cell_type": "code",
   "execution_count": 25,
   "metadata": {},
   "outputs": [],
   "source": [
    "import os"
   ]
  },
  {
   "cell_type": "code",
   "execution_count": 26,
   "metadata": {},
   "outputs": [],
   "source": [
    "from tf.fabric import Fabric\n",
    "from tf.app import use\n",
    "from tf.lib import writeSets, readSets"
   ]
  },
  {
   "cell_type": "code",
   "execution_count": 27,
   "metadata": {},
   "outputs": [
    {
     "name": "stdout",
     "output_type": "stream",
     "text": [
      "This is Text-Fabric 7.0.3\n",
      "Api reference : https://dans-labs.github.io/text-fabric/Api/General/\n",
      "Tutorial      : https://github.com/Dans-labs/text-fabric/blob/master/docs/tutorial.ipynb\n",
      "Example data  : https://github.com/Dans-labs/text-fabric-data\n",
      "\n",
      "114 features found and 0 ignored\n"
     ]
    }
   ],
   "source": [
    "TF = Fabric(modules='etcbc/bhsa/tf/c')"
   ]
  },
  {
   "cell_type": "code",
   "execution_count": 28,
   "metadata": {},
   "outputs": [],
   "source": [
    "api = TF.load('book freq_lex', silent=True)"
   ]
  },
  {
   "cell_type": "code",
   "execution_count": 29,
   "metadata": {},
   "outputs": [
    {
     "data": {
      "text/markdown": [
       "**Documentation:** <a target=\"_blank\" href=\"https://etcbc.github.io/bhsa\" title=\"provenance of BHSA = Biblia Hebraica Stuttgartensia Amstelodamensis\">BHSA</a> <a target=\"_blank\" href=\"https://dans-labs.github.io/text-fabric/Writing/Hebrew\" title=\"('Hebrew characters and transcriptions',)\">Character table</a> <a target=\"_blank\" href=\"https://etcbc.github.io/bhsa/features/hebrew/c/0_home.html\" title=\"BHSA feature documentation\">Feature docs</a> <a target=\"_blank\" href=\"https://dans-labs.github.io/text-fabric/Api/Bhsa/\" title=\"bhsa API documentation\">bhsa API</a> <a target=\"_blank\" href=\"https://dans-labs.github.io/text-fabric/Api/General/\" title=\"text-fabric-api\">Text-Fabric API 7.0.3</a> <a target=\"_blank\" href=\"https://dans-labs.github.io/text-fabric/Search/#search-templates\" title=\"Search Templates Introduction and Reference\">Search Reference</a>"
      ],
      "text/plain": [
       "<IPython.core.display.Markdown object>"
      ]
     },
     "metadata": {},
     "output_type": "display_data"
    },
    {
     "data": {
      "text/html": [
       "<details open><summary><b>Loaded features</b>:</summary>\n",
       "<p><b>etcbc/bhsa/tf/c</b>: <a target=\"_blank\" href=\"https://github.com/etcbc/bhsa/tree/master/tf/c\" title=\"/Users/dirk/text-fabric-data/etcbc/bhsa/tf/c/book.tf\">book</a>  <a target=\"_blank\" href=\"https://github.com/etcbc/bhsa/tree/master/tf/c\" title=\"/Users/dirk/text-fabric-data/etcbc/bhsa/tf/c/freq_lex.tf\">freq_lex</a>  <a target=\"_blank\" href=\"https://github.com/etcbc/bhsa/tree/master/tf/c\" title=\"/Users/dirk/text-fabric-data/etcbc/bhsa/tf/c/otype.tf\">otype</a>  <b><i><a target=\"_blank\" href=\"https://github.com/etcbc/bhsa/tree/master/tf/c\" title=\"/Users/dirk/text-fabric-data/etcbc/bhsa/tf/c/oslots.tf\">oslots</a></i></b> </p></details>"
      ],
      "text/plain": [
       "<IPython.core.display.HTML object>"
      ]
     },
     "metadata": {},
     "output_type": "display_data"
    },
    {
     "data": {
      "text/html": [
       "\n",
       "<style>\n",
       "@font-face {\n",
       "  font-family: \"Ezra SIL\";\n",
       "  src: url('https://github.com/Dans-labs/text-fabric/blob/master/tf/server/static/fonts/SILEOT.ttf?raw=true');\n",
       "  src: url('https://github.com/Dans-labs/text-fabric/blob/master/tf/server/static/fonts/SILEOT.woff?raw=true') format('woff');\n",
       "}\n",
       "</style>\n",
       "\n",
       "<style type=\"text/css\">\n",
       ".features {\n",
       "    font-family: monospace;\n",
       "    font-size: medium;\n",
       "    font-weight: bold;\n",
       "    color: #0a6611;\n",
       "    display: flex;\n",
       "    flex-flow: column nowrap;\n",
       "    padding: 0.1em;\n",
       "    margin: 0.1em;\n",
       "    direction: ltr;\n",
       "}\n",
       ".features div,.features span {\n",
       "    padding: 0;\n",
       "    margin: -0.1rem 0;\n",
       "}\n",
       ".features .f {\n",
       "    font-family: sans-serif;\n",
       "    font-size: x-small;\n",
       "    font-weight: normal;\n",
       "    color: #5555bb;\n",
       "}\n",
       ".features .xft {\n",
       "  color: #000000;\n",
       "  background-color: #eeeeee;\n",
       "  font-size: medium;\n",
       "  margin: 0.1em 0em;\n",
       "}\n",
       ".features .xft .f {\n",
       "  color: #000000;\n",
       "  background-color: #eeeeee;\n",
       "  font-style: italic;\n",
       "  font-size: small;\n",
       "  font-weight: normal;\n",
       "}\n",
       ".verse {\n",
       "    display: flex;\n",
       "    flex-flow: row wrap;\n",
       "    direction: rtl;\n",
       "}\n",
       ".vl {\n",
       "    display: flex;\n",
       "    flex-flow: column nowrap;\n",
       "    justify-content: flex-end;\n",
       "    align-items: flex-end;\n",
       "    direction: ltr;\n",
       "    width: 100%;\n",
       "}\n",
       ".outeritem {\n",
       "    display: flex;\n",
       "    flex-flow: row wrap;\n",
       "    direction: rtl;\n",
       "}\n",
       ".sentence,.clause,.phrase {\n",
       "    margin-top: -1.2em;\n",
       "    margin-left: 1em;\n",
       "    background: #ffffff none repeat scroll 0 0;\n",
       "    padding: 0 0.3em;\n",
       "    border-style: solid;\n",
       "    border-radius: 0.2em;\n",
       "    font-size: small;\n",
       "    display: block;\n",
       "    width: fit-content;\n",
       "    max-width: fit-content;\n",
       "    direction: ltr;\n",
       "}\n",
       ".atoms {\n",
       "    display: flex;\n",
       "    flex-flow: row wrap;\n",
       "    margin: 0.3em;\n",
       "    padding: 0.3em;\n",
       "    direction: rtl;\n",
       "    background-color: #ffffff;\n",
       "}\n",
       ".satom,.catom,.patom {\n",
       "    margin: 0.3em;\n",
       "    padding: 0.3em;\n",
       "    border-radius: 0.3em;\n",
       "    border-style: solid;\n",
       "    display: flex;\n",
       "    flex-flow: column nowrap;\n",
       "    direction: rtl;\n",
       "    background-color: #ffffff;\n",
       "}\n",
       ".sentence {\n",
       "    border-color: #aa3333;\n",
       "    border-width: 1px;\n",
       "}\n",
       ".clause {\n",
       "    border-color: #aaaa33;\n",
       "    border-width: 1px;\n",
       "}\n",
       ".phrase {\n",
       "    border-color: #33aaaa;\n",
       "    border-width: 1px;\n",
       "}\n",
       ".satom {\n",
       "    border-color: #aa3333;\n",
       "    border-width: 4px;\n",
       "}\n",
       ".catom {\n",
       "    border-color: #aaaa33;\n",
       "    border-width: 3px;\n",
       "}\n",
       ".patom {\n",
       "    border-color: #33aaaa;\n",
       "    border-width: 3px;\n",
       "}\n",
       ".word {\n",
       "    padding: 0.1em;\n",
       "    margin: 0.1em;\n",
       "    border-radius: 0.1em;\n",
       "    border: 1px solid #cccccc;\n",
       "    display: flex;\n",
       "    flex-flow: column nowrap;\n",
       "    direction: rtl;\n",
       "    background-color: #ffffff;\n",
       "}\n",
       ".lextp {\n",
       "    padding: 0.1em;\n",
       "    margin: 0.1em;\n",
       "    border-radius: 0.1em;\n",
       "    border: 2px solid #888888;\n",
       "    width: fit-content;\n",
       "    display: flex;\n",
       "    flex-flow: column nowrap;\n",
       "    direction: rtl;\n",
       "    background-color: #ffffff;\n",
       "}\n",
       ".occs {\n",
       "    font-size: x-small;\n",
       "}\n",
       ".satom.l,.catom.l,.patom.l {\n",
       "    border-left-style: dotted\n",
       "}\n",
       ".satom.r,.catom.r,.patom.r {\n",
       "    border-right-style: dotted\n",
       "}\n",
       ".satom.L,.catom.L,.patom.L {\n",
       "    border-left-style: none\n",
       "}\n",
       ".satom.R,.catom.R,.patom.R {\n",
       "    border-right-style: none\n",
       "}\n",
       ".tr,.tr a:visited,.tr a:link {\n",
       "    font-family: sans-serif;\n",
       "    font-size: large;\n",
       "    color: #000044;\n",
       "    direction: ltr;\n",
       "    text-decoration: none;\n",
       "}\n",
       ".trb,.trb a:visited,.trb a:link {\n",
       "    font-family: sans-serif;\n",
       "    font-size: normal;\n",
       "    direction: ltr;\n",
       "    text-decoration: none;\n",
       "}\n",
       ".prb,.prb a:visited,.prb a:link {\n",
       "    font-family: sans-serif;\n",
       "    font-size: large;\n",
       "    direction: ltr;\n",
       "    text-decoration: none;\n",
       "}\n",
       ".h,.h a:visited,.h a:link {\n",
       "    font-family: \"Ezra SIL\", \"SBL Hebrew\", sans-serif;\n",
       "    font-size: large;\n",
       "    color: #000044;\n",
       "    direction: rtl;\n",
       "    text-decoration: none;\n",
       "}\n",
       ".hb,.hb a:visited,.hb a:link {\n",
       "    font-family: \"Ezra SIL\", \"SBL Hebrew\", sans-serif;\n",
       "    font-size: large;\n",
       "    line-height: 1.8;\n",
       "    direction: rtl;\n",
       "    text-decoration: none;\n",
       "}\n",
       ".vn {\n",
       "  font-size: small !important;\n",
       "  padding-right: 1em;\n",
       "}\n",
       ".rela,.function,.typ {\n",
       "    font-family: monospace;\n",
       "    font-size: small;\n",
       "    color: #0000bb;\n",
       "}\n",
       ".pdp,.pdp a:visited,.pdp a:link {\n",
       "    font-family: monospace;\n",
       "    font-size: medium;\n",
       "    color: #0000bb;\n",
       "    text-decoration: none;\n",
       "}\n",
       ".voc_lex {\n",
       "    font-family: monospace;\n",
       "    font-size: medium;\n",
       "    color: #0000bb;\n",
       "}\n",
       ".vs {\n",
       "    font-family: monospace;\n",
       "    font-size: medium;\n",
       "    font-weight: bold;\n",
       "    color: #0000bb;\n",
       "}\n",
       ".vt {\n",
       "    font-family: monospace;\n",
       "    font-size: medium;\n",
       "    font-weight: bold;\n",
       "    color: #0000bb;\n",
       "}\n",
       ".gloss {\n",
       "    font-family: sans-serif;\n",
       "    font-size: small;\n",
       "    font-weight: normal;\n",
       "    color: #444444;\n",
       "}\n",
       ".vrs {\n",
       "    font-family: sans-serif;\n",
       "    font-size: small;\n",
       "    font-weight: bold;\n",
       "    color: #444444;\n",
       "}\n",
       ".nd {\n",
       "    font-family: monospace;\n",
       "    font-size: x-small;\n",
       "    color: #999999;\n",
       "}\n",
       ".hl {\n",
       "    background-color: #ffee66;\n",
       "}\n",
       "</style>\n"
      ],
      "text/plain": [
       "<IPython.core.display.HTML object>"
      ]
     },
     "metadata": {},
     "output_type": "display_data"
    },
    {
     "data": {
      "text/html": [
       "<details open><summary><b>API members</b>:</summary>\n",
       "<a target=\"_blank\" href=\"https://dans-labs.github.io/text-fabric/Api/General/#computed-data\" title=\"doc\">C Computed</a>, <a target=\"_blank\" href=\"https://dans-labs.github.io/text-fabric/Api/General/#computed-data\" title=\"doc\">Call AllComputeds</a>, <a target=\"_blank\" href=\"https://dans-labs.github.io/text-fabric/Api/General/#computed-data\" title=\"doc\">Cs ComputedString</a><br/>\n",
       "<a target=\"_blank\" href=\"https://dans-labs.github.io/text-fabric/Api/General/#edge-features\" title=\"doc\">E Edge</a>, <a target=\"_blank\" href=\"https://dans-labs.github.io/text-fabric/Api/General/#edge-features\" title=\"doc\">Eall AllEdges</a>, <a target=\"_blank\" href=\"https://dans-labs.github.io/text-fabric/Api/General/#edge-features\" title=\"doc\">Es EdgeString</a><br/>\n",
       "<a target=\"_blank\" href=\"https://dans-labs.github.io/text-fabric/Api/General/#loading\" title=\"doc\">TF</a>, <a target=\"_blank\" href=\"https://dans-labs.github.io/text-fabric/Api/General/#loading\" title=\"doc\">ensureLoaded</a>, <a target=\"_blank\" href=\"https://dans-labs.github.io/text-fabric/Api/General/#loading\" title=\"doc\">ignored</a>, <a target=\"_blank\" href=\"https://dans-labs.github.io/text-fabric/Api/General/#loading\" title=\"doc\">loadLog</a><br/>\n",
       "<a target=\"_blank\" href=\"https://dans-labs.github.io/text-fabric/Api/General/#locality\" title=\"doc\">L Locality</a><br/>\n",
       "<a target=\"_blank\" href=\"https://dans-labs.github.io/text-fabric/Api/General/#messaging\" title=\"doc\">cache</a>, <a target=\"_blank\" href=\"https://dans-labs.github.io/text-fabric/Api/General/#messaging\" title=\"doc\">error</a>, <a target=\"_blank\" href=\"https://dans-labs.github.io/text-fabric/Api/General/#messaging\" title=\"doc\">indent</a>, <a target=\"_blank\" href=\"https://dans-labs.github.io/text-fabric/Api/General/#messaging\" title=\"doc\">info</a>, <a target=\"_blank\" href=\"https://dans-labs.github.io/text-fabric/Api/General/#messaging\" title=\"doc\">reset</a><br/>\n",
       "<a target=\"_blank\" href=\"https://dans-labs.github.io/text-fabric/Api/General/#navigating-nodes\" title=\"doc\">N Nodes</a>, <a target=\"_blank\" href=\"https://dans-labs.github.io/text-fabric/Api/General/#navigating-nodes\" title=\"doc\">sortKey</a>, <a target=\"_blank\" href=\"https://dans-labs.github.io/text-fabric/Api/General/#navigating-nodes\" title=\"doc\">otypeRank</a>, <a target=\"_blank\" href=\"https://dans-labs.github.io/text-fabric/Api/General/#navigating-nodes\" title=\"doc\">sortNodes</a><br/>\n",
       "<a target=\"_blank\" href=\"https://dans-labs.github.io/text-fabric/Api/General/#node-features\" title=\"doc\">F Feature</a>, <a target=\"_blank\" href=\"https://dans-labs.github.io/text-fabric/Api/General/#node-features\" title=\"doc\">Fall AllFeatures</a>, <a target=\"_blank\" href=\"https://dans-labs.github.io/text-fabric/Api/General/#node-features\" title=\"doc\">Fs FeatureString</a><br/>\n",
       "<a target=\"_blank\" href=\"https://dans-labs.github.io/text-fabric/Api/General/#search\" title=\"doc\">S Search</a><br/>\n",
       "<a target=\"_blank\" href=\"https://dans-labs.github.io/text-fabric/Api/General/#text\" title=\"doc\">T Text</a></details>"
      ],
      "text/plain": [
       "<IPython.core.display.HTML object>"
      ]
     },
     "metadata": {},
     "output_type": "display_data"
    }
   ],
   "source": [
    "A = use('bhsa', api=api, hoist=globals())"
   ]
  },
  {
   "cell_type": "code",
   "execution_count": 30,
   "metadata": {},
   "outputs": [],
   "source": [
    "FREQ = 70\n",
    "AMOUNT = 20"
   ]
  },
  {
   "cell_type": "markdown",
   "metadata": {},
   "source": [
    "## Query\n",
    "\n",
    "A straightforward query is:"
   ]
  },
  {
   "cell_type": "code",
   "execution_count": 31,
   "metadata": {},
   "outputs": [],
   "source": [
    "query = f'''\n",
    "chapter\n",
    "/without/\n",
    "  word freq_lex<{FREQ}\n",
    "  < word freq_lex<{FREQ}\n",
    "  < word freq_lex<{FREQ}\n",
    "  < word freq_lex<{FREQ}\n",
    "  < word freq_lex<{FREQ}\n",
    "  < word freq_lex<{FREQ}\n",
    "  < word freq_lex<{FREQ}\n",
    "  < word freq_lex<{FREQ}\n",
    "  < word freq_lex<{FREQ}\n",
    "  < word freq_lex<{FREQ}\n",
    "  < word freq_lex<{FREQ}\n",
    "  < word freq_lex<{FREQ}\n",
    "  < word freq_lex<{FREQ}\n",
    "  < word freq_lex<{FREQ}\n",
    "  < word freq_lex<{FREQ}\n",
    "  < word freq_lex<{FREQ}\n",
    "  < word freq_lex<{FREQ}\n",
    "  < word freq_lex<{FREQ}\n",
    "  < word freq_lex<{FREQ}\n",
    "  < word freq_lex<{FREQ}\n",
    "/-/\n",
    "'''"
   ]
  },
  {
   "cell_type": "markdown",
   "metadata": {},
   "source": [
    "Two problems with this query:\n",
    "\n",
    "* it is very inelegant\n",
    "* it does not perform, in fact, you cannot wait for it.\n",
    "\n",
    "So, better not search with this one."
   ]
  },
  {
   "cell_type": "code",
   "execution_count": 32,
   "metadata": {},
   "outputs": [],
   "source": [
    "# indent(reset=True)\n",
    "# info('start query')\n",
    "# results = S.search(query, limit=1)\n",
    "# info('end query')\n",
    "# len(results)"
   ]
  },
  {
   "cell_type": "markdown",
   "metadata": {},
   "source": [
    "# By hand\n",
    "\n",
    "On the other hand, with a bit of hand coding it is very easy, and almost instantaneous:"
   ]
  },
  {
   "cell_type": "code",
   "execution_count": 33,
   "metadata": {},
   "outputs": [
    {
     "name": "stdout",
     "output_type": "stream",
     "text": [
      "60 chapters out of 929\n"
     ]
    }
   ],
   "source": [
    "results = []\n",
    "allChapters = F.otype.s('chapter')\n",
    "\n",
    "for chapter in allChapters:\n",
    "    if len([\n",
    "        word for word in L.d(chapter, otype='word') if F.freq_lex.v(word) < FREQ\n",
    "    ]) < AMOUNT:\n",
    "        results.append(chapter)\n",
    "        \n",
    "print(f'{len(results)} chapters out of {len(allChapters)}')"
   ]
  },
  {
   "cell_type": "code",
   "execution_count": 34,
   "metadata": {},
   "outputs": [
    {
     "name": "stdout",
     "output_type": "stream",
     "text": [
      "Exodus 11, 24\n",
      "Leviticus 17\n",
      "Deuteronomy 30\n",
      "Joshua 23\n",
      "Isaiah 12, 39\n",
      "Jeremiah 45\n",
      "Ezekiel 15\n",
      "Hosea 3\n",
      "Joel 3\n",
      "Psalms 1, 3, 4, 13, 14, 15, 20, 23, 24, 26, 43, 47, 53, 54, 61, 67, 70, 82, 86, 87, 93, 97, 99, 100, 101, 110, 113, 114, 115, 117, 120, 121, 122, 123, 124, 125, 126, 127, 128, 130, 131, 133, 134, 136, 138, 150\n",
      "Job 25\n",
      "Esther 10\n",
      "2_Chronicles 27\n"
     ]
    }
   ],
   "source": [
    "resultsByBook = dict()\n",
    "\n",
    "for chapter in results:\n",
    "    (bk, ch, vs) = T.sectionFromNode(chapter)\n",
    "    resultsByBook.setdefault(bk, []).append(ch)\n",
    "    \n",
    "for (bk, chps) in resultsByBook.items():\n",
    "    print('{} {}'.format(bk, ', '.join(str(c) for c in chps)))"
   ]
  },
  {
   "cell_type": "markdown",
   "metadata": {},
   "source": [
    "# Custom sets\n",
    "\n",
    "Once you have these chapters, you can put them in a set and use them in queries.\n",
    "\n",
    "We show how to query results as far as they occur in an \"ordinary\" chapter.\n",
    "\n",
    "First we search for a phenomenon in all chapters. The phenomenon is a clause with a subject consisting of a single noun in\n",
    "the plural and a verb in the plural."
   ]
  },
  {
   "cell_type": "code",
   "execution_count": 35,
   "metadata": {},
   "outputs": [],
   "source": [
    "sets = dict(ochapter=set(results))"
   ]
  },
  {
   "cell_type": "code",
   "execution_count": 36,
   "metadata": {},
   "outputs": [],
   "source": [
    "query1 = '''\n",
    "verse\n",
    "  clause\n",
    "    phrase function=Pred\n",
    "      word pdp=verb nu=sg\n",
    "    phrase function=Subj\n",
    "      =: word pdp=subs nu=pl\n",
    "      :=\n",
    "'''"
   ]
  },
  {
   "cell_type": "code",
   "execution_count": 37,
   "metadata": {},
   "outputs": [
    {
     "name": "stdout",
     "output_type": "stream",
     "text": [
      "  2.32s 263 results\n"
     ]
    }
   ],
   "source": [
    "results1 = A.search(query1)"
   ]
  },
  {
   "cell_type": "code",
   "execution_count": 38,
   "metadata": {},
   "outputs": [
    {
     "data": {
      "text/markdown": [
       "n | verse | clause | phrase | word | phrase | word\n",
       "--- | --- | --- | --- | --- | --- | ---\n",
       "1|<span class=\"hb\"><a class=\"vn\" href=\"https://shebanq.ancient-data.org/hebrew/text?book=Genesis&chapter=1&verse=1&version=c&mr=m&qw=q&tp=txt_p&tr=hb&wget=v&qget=v&nget=vt\" title=\"Genesis 1:1\" sec=\"Genesis 1:1\">Genesis 1:1</a>בְּרֵאשִׁ֖ית בָּרָ֣א אֱלֹהִ֑ים אֵ֥ת הַשָּׁמַ֖יִם וְאֵ֥ת הָאָֽרֶץ׃ </span>|<span class=\"hb\">בְּרֵאשִׁ֖ית בָּרָ֣א אֱלֹהִ֑ים אֵ֥ת הַשָּׁמַ֖יִם וְאֵ֥ת הָאָֽרֶץ׃ </span>|<span class=\"hb\">בָּרָ֣א </span>|<span class=\"hb\">בָּרָ֣א </span>|<span class=\"hb\">אֱלֹהִ֑ים </span>|<span class=\"hb\">אֱלֹהִ֑ים </span>\n",
       "2|<span class=\"hb\"><a class=\"vn\" href=\"https://shebanq.ancient-data.org/hebrew/text?book=Genesis&chapter=1&verse=3&version=c&mr=m&qw=q&tp=txt_p&tr=hb&wget=v&qget=v&nget=vt\" title=\"Genesis 1:3\" sec=\"Genesis 1:3\">Genesis 1:3</a>וַיֹּ֥אמֶר אֱלֹהִ֖ים יְהִ֣י אֹ֑ור וַֽיְהִי־אֹֽור׃ </span>|<span class=\"hb\">וַיֹּ֥אמֶר אֱלֹהִ֖ים </span>|<span class=\"hb\">יֹּ֥אמֶר </span>|<span class=\"hb\">יֹּ֥אמֶר </span>|<span class=\"hb\">אֱלֹהִ֖ים </span>|<span class=\"hb\">אֱלֹהִ֖ים </span>\n",
       "3|<span class=\"hb\"><a class=\"vn\" href=\"https://shebanq.ancient-data.org/hebrew/text?book=Genesis&chapter=1&verse=4&version=c&mr=m&qw=q&tp=txt_p&tr=hb&wget=v&qget=v&nget=vt\" title=\"Genesis 1:4\" sec=\"Genesis 1:4\">Genesis 1:4</a>וַיַּ֧רְא אֱלֹהִ֛ים אֶת־הָאֹ֖ור כִּי־טֹ֑וב וַיַּבְדֵּ֣ל אֱלֹהִ֔ים בֵּ֥ין הָאֹ֖ור וּבֵ֥ין הַחֹֽשֶׁךְ׃ </span>|<span class=\"hb\">וַיַּ֧רְא אֱלֹהִ֛ים אֶת־הָאֹ֖ור </span>|<span class=\"hb\">יַּ֧רְא </span>|<span class=\"hb\">יַּ֧רְא </span>|<span class=\"hb\">אֱלֹהִ֛ים </span>|<span class=\"hb\">אֱלֹהִ֛ים </span>\n",
       "4|<span class=\"hb\"><a class=\"vn\" href=\"https://shebanq.ancient-data.org/hebrew/text?book=Genesis&chapter=1&verse=4&version=c&mr=m&qw=q&tp=txt_p&tr=hb&wget=v&qget=v&nget=vt\" title=\"Genesis 1:4\" sec=\"Genesis 1:4\">Genesis 1:4</a>וַיַּ֧רְא אֱלֹהִ֛ים אֶת־הָאֹ֖ור כִּי־טֹ֑וב וַיַּבְדֵּ֣ל אֱלֹהִ֔ים בֵּ֥ין הָאֹ֖ור וּבֵ֥ין הַחֹֽשֶׁךְ׃ </span>|<span class=\"hb\">וַיַּבְדֵּ֣ל אֱלֹהִ֔ים בֵּ֥ין הָאֹ֖ור וּבֵ֥ין הַחֹֽשֶׁךְ׃ </span>|<span class=\"hb\">יַּבְדֵּ֣ל </span>|<span class=\"hb\">יַּבְדֵּ֣ל </span>|<span class=\"hb\">אֱלֹהִ֔ים </span>|<span class=\"hb\">אֱלֹהִ֔ים </span>\n",
       "5|<span class=\"hb\"><a class=\"vn\" href=\"https://shebanq.ancient-data.org/hebrew/text?book=Genesis&chapter=1&verse=5&version=c&mr=m&qw=q&tp=txt_p&tr=hb&wget=v&qget=v&nget=vt\" title=\"Genesis 1:5\" sec=\"Genesis 1:5\">Genesis 1:5</a>וַיִּקְרָ֨א אֱלֹהִ֤ים׀ לָאֹור֙ יֹ֔ום וְלַחֹ֖שֶׁךְ קָ֣רָא לָ֑יְלָה וַֽיְהִי־עֶ֥רֶב וַֽיְהִי־בֹ֖קֶר יֹ֥ום אֶחָֽד׃ פ </span>|<span class=\"hb\">וַיִּקְרָ֨א אֱלֹהִ֤ים׀ לָאֹור֙ יֹ֔ום </span>|<span class=\"hb\">יִּקְרָ֨א </span>|<span class=\"hb\">יִּקְרָ֨א </span>|<span class=\"hb\">אֱלֹהִ֤ים׀ </span>|<span class=\"hb\">אֱלֹהִ֤ים׀ </span>\n",
       "6|<span class=\"hb\"><a class=\"vn\" href=\"https://shebanq.ancient-data.org/hebrew/text?book=Genesis&chapter=1&verse=6&version=c&mr=m&qw=q&tp=txt_p&tr=hb&wget=v&qget=v&nget=vt\" title=\"Genesis 1:6\" sec=\"Genesis 1:6\">Genesis 1:6</a>וַיֹּ֣אמֶר אֱלֹהִ֔ים יְהִ֥י רָקִ֖יעַ בְּתֹ֣וךְ הַמָּ֑יִם וִיהִ֣י מַבְדִּ֔יל בֵּ֥ין מַ֖יִם לָמָֽיִם׃ </span>|<span class=\"hb\">וַיֹּ֣אמֶר אֱלֹהִ֔ים </span>|<span class=\"hb\">יֹּ֣אמֶר </span>|<span class=\"hb\">יֹּ֣אמֶר </span>|<span class=\"hb\">אֱלֹהִ֔ים </span>|<span class=\"hb\">אֱלֹהִ֔ים </span>\n",
       "7|<span class=\"hb\"><a class=\"vn\" href=\"https://shebanq.ancient-data.org/hebrew/text?book=Genesis&chapter=1&verse=7&version=c&mr=m&qw=q&tp=txt_p&tr=hb&wget=v&qget=v&nget=vt\" title=\"Genesis 1:7\" sec=\"Genesis 1:7\">Genesis 1:7</a>וַיַּ֣עַשׂ אֱלֹהִים֮ אֶת־הָרָקִיעַ֒ וַיַּבְדֵּ֗ל בֵּ֤ין הַמַּ֨יִם֙ אֲשֶׁר֙ מִתַּ֣חַת לָרָקִ֔יעַ וּבֵ֣ין הַמַּ֔יִם אֲשֶׁ֖ר מֵעַ֣ל לָרָקִ֑יעַ וַֽיְהִי־כֵֽן׃ </span>|<span class=\"hb\">וַיַּ֣עַשׂ אֱלֹהִים֮ אֶת־הָרָקִיעַ֒ </span>|<span class=\"hb\">יַּ֣עַשׂ </span>|<span class=\"hb\">יַּ֣עַשׂ </span>|<span class=\"hb\">אֱלֹהִים֮ </span>|<span class=\"hb\">אֱלֹהִים֮ </span>\n",
       "8|<span class=\"hb\"><a class=\"vn\" href=\"https://shebanq.ancient-data.org/hebrew/text?book=Genesis&chapter=1&verse=8&version=c&mr=m&qw=q&tp=txt_p&tr=hb&wget=v&qget=v&nget=vt\" title=\"Genesis 1:8\" sec=\"Genesis 1:8\">Genesis 1:8</a>וַיִּקְרָ֧א אֱלֹהִ֛ים לָֽרָקִ֖יעַ שָׁמָ֑יִם וַֽיְהִי־עֶ֥רֶב וַֽיְהִי־בֹ֖קֶר יֹ֥ום שֵׁנִֽי׃ פ </span>|<span class=\"hb\">וַיִּקְרָ֧א אֱלֹהִ֛ים לָֽרָקִ֖יעַ שָׁמָ֑יִם </span>|<span class=\"hb\">יִּקְרָ֧א </span>|<span class=\"hb\">יִּקְרָ֧א </span>|<span class=\"hb\">אֱלֹהִ֛ים </span>|<span class=\"hb\">אֱלֹהִ֛ים </span>\n",
       "9|<span class=\"hb\"><a class=\"vn\" href=\"https://shebanq.ancient-data.org/hebrew/text?book=Genesis&chapter=1&verse=9&version=c&mr=m&qw=q&tp=txt_p&tr=hb&wget=v&qget=v&nget=vt\" title=\"Genesis 1:9\" sec=\"Genesis 1:9\">Genesis 1:9</a>וַיֹּ֣אמֶר אֱלֹהִ֗ים יִקָּו֨וּ הַמַּ֜יִם מִתַּ֤חַת הַשָּׁמַ֨יִם֙ אֶל־מָקֹ֣ום אֶחָ֔ד וְתֵרָאֶ֖ה הַיַּבָּשָׁ֑ה וַֽיְהִי־כֵֽן׃ </span>|<span class=\"hb\">וַיֹּ֣אמֶר אֱלֹהִ֗ים </span>|<span class=\"hb\">יֹּ֣אמֶר </span>|<span class=\"hb\">יֹּ֣אמֶר </span>|<span class=\"hb\">אֱלֹהִ֗ים </span>|<span class=\"hb\">אֱלֹהִ֗ים </span>\n",
       "10|<span class=\"hb\"><a class=\"vn\" href=\"https://shebanq.ancient-data.org/hebrew/text?book=Genesis&chapter=1&verse=10&version=c&mr=m&qw=q&tp=txt_p&tr=hb&wget=v&qget=v&nget=vt\" title=\"Genesis 1:10\" sec=\"Genesis 1:10\">Genesis 1:10</a>וַיִּקְרָ֨א אֱלֹהִ֤ים׀ לַיַּבָּשָׁה֙ אֶ֔רֶץ וּלְמִקְוֵ֥ה הַמַּ֖יִם קָרָ֣א יַמִּ֑ים וַיַּ֥רְא אֱלֹהִ֖ים כִּי־טֹֽוב׃ </span>|<span class=\"hb\">וַיִּקְרָ֨א אֱלֹהִ֤ים׀ לַיַּבָּשָׁה֙ אֶ֔רֶץ </span>|<span class=\"hb\">יִּקְרָ֨א </span>|<span class=\"hb\">יִּקְרָ֨א </span>|<span class=\"hb\">אֱלֹהִ֤ים׀ </span>|<span class=\"hb\">אֱלֹהִ֤ים׀ </span>"
      ],
      "text/plain": [
       "<IPython.core.display.Markdown object>"
      ]
     },
     "metadata": {},
     "output_type": "display_data"
    }
   ],
   "source": [
    "A.table(results1, start=1, end=10)"
   ]
  },
  {
   "cell_type": "markdown",
   "metadata": {},
   "source": [
    "Now we want to restrict results to ordinary chapters:"
   ]
  },
  {
   "cell_type": "code",
   "execution_count": 39,
   "metadata": {},
   "outputs": [],
   "source": [
    "query2 = '''\n",
    "ochapter\n",
    "  verse\n",
    "    clause\n",
    "      phrase function=Pred\n",
    "        word pdp=verb nu=sg\n",
    "      phrase function=Subj\n",
    "        =: word pdp=subs nu=pl\n",
    "        :=\n",
    "'''"
   ]
  },
  {
   "cell_type": "markdown",
   "metadata": {},
   "source": [
    "Note that we use the name of a set here: `ochapter`. \n",
    "It is not a known node type in the BHSA, so we have to tell it what it means.\n",
    "We do that by passing a dictionary of custom sets.\n",
    "The keys are the names of the sets, which are the values.\n",
    "\n",
    "Then we may use those keys in queries, everywhere where a node type is expected."
   ]
  },
  {
   "cell_type": "code",
   "execution_count": 40,
   "metadata": {},
   "outputs": [
    {
     "name": "stdout",
     "output_type": "stream",
     "text": [
      "  1.59s 7 results\n"
     ]
    }
   ],
   "source": [
    "results2 = A.search(query2, sets=sets)"
   ]
  },
  {
   "cell_type": "code",
   "execution_count": 41,
   "metadata": {},
   "outputs": [
    {
     "data": {
      "text/markdown": [
       "n | chapter | verse | clause | phrase | word | phrase | word\n",
       "--- | --- | --- | --- | --- | --- | --- | ---\n",
       "1|<span class=\"trb\"><a href=\"https://shebanq.ancient-data.org/hebrew/text?book=Psalmi&chapter=47&verse=1&version=c&mr=m&qw=q&tp=txt_p&tr=hb&wget=v&qget=v&nget=vt\" title=\"Psalms 47\" sec=\"Psalms 47\">Psalms 47</a></span>|<span class=\"hb\"><span class=\"vn\">Psalms 47:6</span>עָלָ֣ה אֱ֭לֹהִים בִּתְרוּעָ֑ה יְ֝הֹוָ֗ה בְּקֹ֣ול שֹׁופָֽר׃ </span>|<span class=\"hb\">עָלָ֣ה אֱ֭לֹהִים בִּתְרוּעָ֑ה </span>|<span class=\"hb\">עָלָ֣ה </span>|<span class=\"hb\">עָלָ֣ה </span>|<span class=\"hb\">אֱ֭לֹהִים </span>|<span class=\"hb\">אֱ֭לֹהִים </span>\n",
       "2|<span class=\"trb\"><a href=\"https://shebanq.ancient-data.org/hebrew/text?book=Psalmi&chapter=47&verse=1&version=c&mr=m&qw=q&tp=txt_p&tr=hb&wget=v&qget=v&nget=vt\" title=\"Psalms 47\" sec=\"Psalms 47\">Psalms 47</a></span>|<span class=\"hb\"><span class=\"vn\">Psalms 47:9</span>מָלַ֣ךְ אֱ֭לֹהִים עַל־גֹּויִ֑ם אֱ֝לֹהִ֗ים יָשַׁ֤ב׀ עַל־כִּסֵּ֬א קָדְשֹֽׁו׃ </span>|<span class=\"hb\">מָלַ֣ךְ אֱ֭לֹהִים עַל־גֹּויִ֑ם </span>|<span class=\"hb\">מָלַ֣ךְ </span>|<span class=\"hb\">מָלַ֣ךְ </span>|<span class=\"hb\">אֱ֭לֹהִים </span>|<span class=\"hb\">אֱ֭לֹהִים </span>\n",
       "3|<span class=\"trb\"><a href=\"https://shebanq.ancient-data.org/hebrew/text?book=Psalmi&chapter=47&verse=1&version=c&mr=m&qw=q&tp=txt_p&tr=hb&wget=v&qget=v&nget=vt\" title=\"Psalms 47\" sec=\"Psalms 47\">Psalms 47</a></span>|<span class=\"hb\"><span class=\"vn\">Psalms 47:9</span>מָלַ֣ךְ אֱ֭לֹהִים עַל־גֹּויִ֑ם אֱ֝לֹהִ֗ים יָשַׁ֤ב׀ עַל־כִּסֵּ֬א קָדְשֹֽׁו׃ </span>|<span class=\"hb\">אֱ֝לֹהִ֗ים יָשַׁ֤ב׀ עַל־כִּסֵּ֬א קָדְשֹֽׁו׃ </span>|<span class=\"hb\">יָשַׁ֤ב׀ </span>|<span class=\"hb\">יָשַׁ֤ב׀ </span>|<span class=\"hb\">אֱ֝לֹהִ֗ים </span>|<span class=\"hb\">אֱ֝לֹהִ֗ים </span>\n",
       "4|<span class=\"trb\"><a href=\"https://shebanq.ancient-data.org/hebrew/text?book=Psalmi&chapter=53&verse=1&version=c&mr=m&qw=q&tp=txt_p&tr=hb&wget=v&qget=v&nget=vt\" title=\"Psalms 53\" sec=\"Psalms 53\">Psalms 53</a></span>|<span class=\"hb\"><span class=\"vn\">Psalms 53:3</span>אֱֽלֹהִ֗ים מִשָּׁמַיִם֮ הִשְׁקִ֪יף עַֽל־בְּנֵ֫י אָדָ֥ם לִ֭רְאֹות הֲיֵ֣שׁ מַשְׂכִּ֑יל דֹּ֝רֵ֗שׁ אֶת־אֱלֹהִֽים׃ </span>|<span class=\"hb\">אֱֽלֹהִ֗ים מִשָּׁמַיִם֮ הִשְׁקִ֪יף עַֽל־בְּנֵ֫י אָדָ֥ם </span>|<span class=\"hb\">הִשְׁקִ֪יף </span>|<span class=\"hb\">הִשְׁקִ֪יף </span>|<span class=\"hb\">אֱֽלֹהִ֗ים </span>|<span class=\"hb\">אֱֽלֹהִ֗ים </span>\n",
       "5|<span class=\"trb\"><a href=\"https://shebanq.ancient-data.org/hebrew/text?book=Psalmi&chapter=53&verse=1&version=c&mr=m&qw=q&tp=txt_p&tr=hb&wget=v&qget=v&nget=vt\" title=\"Psalms 53\" sec=\"Psalms 53\">Psalms 53</a></span>|<span class=\"hb\"><span class=\"vn\">Psalms 53:6</span>שָׁ֤ם׀ פָּֽחֲדוּ־פַחַד֮ לֹא־הָ֪יָה֫ פָ֥חַד כִּֽי־אֱלֹהִ֗ים פִּ֭זַּר עַצְמֹ֣ות חֹנָ֑ךְ הֱ֝בִשֹׁ֗תָה כִּֽי־אֱלֹהִ֥ים מְאָסָֽם׃ </span>|<span class=\"hb\">כִּֽי־אֱלֹהִ֗ים פִּ֭זַּר עַצְמֹ֣ות חֹנָ֑ךְ </span>|<span class=\"hb\">פִּ֭זַּר </span>|<span class=\"hb\">פִּ֭זַּר </span>|<span class=\"hb\">אֱלֹהִ֗ים </span>|<span class=\"hb\">אֱלֹהִ֗ים </span>\n",
       "6|<span class=\"trb\"><a href=\"https://shebanq.ancient-data.org/hebrew/text?book=Psalmi&chapter=70&verse=1&version=c&mr=m&qw=q&tp=txt_p&tr=hb&wget=v&qget=v&nget=vt\" title=\"Psalms 70\" sec=\"Psalms 70\">Psalms 70</a></span>|<span class=\"hb\"><span class=\"vn\">Psalms 70:5</span>יָ֘שִׂ֤ישׂוּ וְיִשְׂמְח֨וּ׀ בְּךָ֗ כָּֽל־מְבַ֫קְשֶׁ֥יךָ וְיֹאמְר֣וּ תָ֭מִיד יִגְדַּ֣ל אֱלֹהִ֑ים אֹ֝הֲבֵ֗י יְשׁוּעָתֶֽךָ׃ </span>|<span class=\"hb\">יִגְדַּ֣ל אֱלֹהִ֑ים </span>|<span class=\"hb\">יִגְדַּ֣ל </span>|<span class=\"hb\">יִגְדַּ֣ל </span>|<span class=\"hb\">אֱלֹהִ֑ים </span>|<span class=\"hb\">אֱלֹהִ֑ים </span>\n",
       "7|<span class=\"trb\"><a href=\"https://shebanq.ancient-data.org/hebrew/text?book=Chronica_II&chapter=27&verse=1&version=c&mr=m&qw=q&tp=txt_p&tr=hb&wget=v&qget=v&nget=vt\" title=\"2_Chronicles 27\" sec=\"2_Chronicles 27\">2_Chronicles 27</a></span>|<span class=\"hb\"><span class=\"vn\">2_Chronicles 27:6</span>וַיִּתְחַזֵּ֖ק יֹותָ֑ם כִּ֚י הֵכִ֣ין דְּרָכָ֔יו לִפְנֵ֖י יְהוָ֥ה אֱלֹהָֽיו׃ </span>|<span class=\"hb\">כִּ֚י הֵכִ֣ין דְּרָכָ֔יו לִפְנֵ֖י יְהוָ֥ה אֱלֹהָֽיו׃ </span>|<span class=\"hb\">הֵכִ֣ין </span>|<span class=\"hb\">הֵכִ֣ין </span>|<span class=\"hb\">דְּרָכָ֔יו </span>|<span class=\"hb\">דְּרָכָ֔יו </span>"
      ],
      "text/plain": [
       "<IPython.core.display.Markdown object>"
      ]
     },
     "metadata": {},
     "output_type": "display_data"
    }
   ],
   "source": [
    "A.table(results2)"
   ]
  },
  {
   "cell_type": "markdown",
   "metadata": {},
   "source": [
    "## Custom sets in the browser\n",
    "\n",
    "We save the sets in a file.\n",
    "But before we do so, we also want to save all ordinary verses in a set, and all ordinary words. "
   ]
  },
  {
   "cell_type": "code",
   "execution_count": 42,
   "metadata": {},
   "outputs": [
    {
     "name": "stdout",
     "output_type": "stream",
     "text": [
      "  0.47s 2757 results\n"
     ]
    }
   ],
   "source": [
    "queryV = f'''\n",
    "verse\n",
    "/without/\n",
    "  word freq_lex<{FREQ}\n",
    "/-/\n",
    "'''\n",
    "resultsV = A.search(queryV, shallow=True)\n",
    "sets['overse'] = resultsV"
   ]
  },
  {
   "cell_type": "code",
   "execution_count": 43,
   "metadata": {},
   "outputs": [],
   "source": [
    "sets['oword'] = {w for w in F.otype.s('word') if F.freq_lex.v(w) >= FREQ}"
   ]
  },
  {
   "cell_type": "code",
   "execution_count": 44,
   "metadata": {},
   "outputs": [
    {
     "data": {
      "text/plain": [
       "True"
      ]
     },
     "execution_count": 44,
     "metadata": {},
     "output_type": "execute_result"
    }
   ],
   "source": [
    "SETS_FILE = os.path.expanduser('~/Downloads/ordinary.set')\n",
    "writeSets(sets, SETS_FILE)"
   ]
  },
  {
   "cell_type": "code",
   "execution_count": 45,
   "metadata": {},
   "outputs": [
    {
     "name": "stdout",
     "output_type": "stream",
     "text": [
      "ochapter with 60 nb 0\n",
      "overse with 2757 nb 0\n",
      "oword with 361485 nb 0\n"
     ]
    }
   ],
   "source": [
    "testSets = readSets(SETS_FILE)\n",
    "for s in sorted(testSets):\n",
    "    elems = len(testSets[s])\n",
    "    oelems = len(sets[s])\n",
    "    print(f'{s} with {elems} nb {elems - oelems}')"
   ]
  },
  {
   "cell_type": "markdown",
   "metadata": {},
   "source": [
    "# Appendix: investigation\n",
    "\n",
    "Let's investigate the number of ordinary chapters with shifting definitions of ordinary"
   ]
  },
  {
   "cell_type": "code",
   "execution_count": 31,
   "metadata": {},
   "outputs": [
    {
     "name": "stdout",
     "output_type": "stream",
     "text": [
      "There are 929 chapters, the longest is 1603 words\n"
     ]
    }
   ],
   "source": [
    "allChapters = F.otype.s('chapter')\n",
    "longestChapter = max(len(L.d(chapter, otype='word')) for chapter in allChapters)\n",
    "\n",
    "print(f'There are {len(allChapters)} chapters, the longest is {longestChapter} words')"
   ]
  },
  {
   "cell_type": "code",
   "execution_count": 32,
   "metadata": {},
   "outputs": [],
   "source": [
    "def getOrdinary(freq, amount):\n",
    "    results = []\n",
    "\n",
    "    for chapter in allChapters:\n",
    "        if len([\n",
    "            word for word in L.d(chapter, otype='word') if F.freq_lex.v(word) < freq\n",
    "        ]) < amount:\n",
    "            results.append(chapter)\n",
    "    return results"
   ]
  },
  {
   "cell_type": "code",
   "execution_count": 33,
   "metadata": {},
   "outputs": [],
   "source": [
    "def overview(freq):\n",
    "    for amount in range(20, 1700, 10):\n",
    "        results = getOrdinary(freq, amount)\n",
    "        print(f'for freq={freq:>3} and amount={amount:>4}: {len(results):>4} ordinary chapters')\n",
    "        if len(results) >= len(allChapters):\n",
    "            break"
   ]
  },
  {
   "cell_type": "code",
   "execution_count": 34,
   "metadata": {},
   "outputs": [
    {
     "name": "stdout",
     "output_type": "stream",
     "text": [
      "for freq= 40 and amount=  20:  140 ordinary chapters\n",
      "for freq= 40 and amount=  30:  279 ordinary chapters\n",
      "for freq= 40 and amount=  40:  419 ordinary chapters\n",
      "for freq= 40 and amount=  50:  561 ordinary chapters\n",
      "for freq= 40 and amount=  60:  670 ordinary chapters\n",
      "for freq= 40 and amount=  70:  758 ordinary chapters\n",
      "for freq= 40 and amount=  80:  810 ordinary chapters\n",
      "for freq= 40 and amount=  90:  837 ordinary chapters\n",
      "for freq= 40 and amount= 100:  861 ordinary chapters\n",
      "for freq= 40 and amount= 110:  874 ordinary chapters\n",
      "for freq= 40 and amount= 120:  885 ordinary chapters\n",
      "for freq= 40 and amount= 130:  888 ordinary chapters\n",
      "for freq= 40 and amount= 140:  894 ordinary chapters\n",
      "for freq= 40 and amount= 150:  900 ordinary chapters\n",
      "for freq= 40 and amount= 160:  906 ordinary chapters\n",
      "for freq= 40 and amount= 170:  908 ordinary chapters\n",
      "for freq= 40 and amount= 180:  912 ordinary chapters\n",
      "for freq= 40 and amount= 190:  915 ordinary chapters\n",
      "for freq= 40 and amount= 200:  916 ordinary chapters\n",
      "for freq= 40 and amount= 210:  917 ordinary chapters\n",
      "for freq= 40 and amount= 220:  919 ordinary chapters\n",
      "for freq= 40 and amount= 230:  920 ordinary chapters\n",
      "for freq= 40 and amount= 240:  923 ordinary chapters\n",
      "for freq= 40 and amount= 250:  923 ordinary chapters\n",
      "for freq= 40 and amount= 260:  923 ordinary chapters\n",
      "for freq= 40 and amount= 270:  923 ordinary chapters\n",
      "for freq= 40 and amount= 280:  923 ordinary chapters\n",
      "for freq= 40 and amount= 290:  923 ordinary chapters\n",
      "for freq= 40 and amount= 300:  923 ordinary chapters\n",
      "for freq= 40 and amount= 310:  923 ordinary chapters\n",
      "for freq= 40 and amount= 320:  924 ordinary chapters\n",
      "for freq= 40 and amount= 330:  924 ordinary chapters\n",
      "for freq= 40 and amount= 340:  924 ordinary chapters\n",
      "for freq= 40 and amount= 350:  925 ordinary chapters\n",
      "for freq= 40 and amount= 360:  925 ordinary chapters\n",
      "for freq= 40 and amount= 370:  925 ordinary chapters\n",
      "for freq= 40 and amount= 380:  926 ordinary chapters\n",
      "for freq= 40 and amount= 390:  926 ordinary chapters\n",
      "for freq= 40 and amount= 400:  926 ordinary chapters\n",
      "for freq= 40 and amount= 410:  926 ordinary chapters\n",
      "for freq= 40 and amount= 420:  926 ordinary chapters\n",
      "for freq= 40 and amount= 430:  927 ordinary chapters\n",
      "for freq= 40 and amount= 440:  927 ordinary chapters\n",
      "for freq= 40 and amount= 450:  928 ordinary chapters\n",
      "for freq= 40 and amount= 460:  928 ordinary chapters\n",
      "for freq= 40 and amount= 470:  928 ordinary chapters\n",
      "for freq= 40 and amount= 480:  928 ordinary chapters\n",
      "for freq= 40 and amount= 490:  928 ordinary chapters\n",
      "for freq= 40 and amount= 500:  929 ordinary chapters\n",
      "for freq= 70 and amount=  20:   60 ordinary chapters\n",
      "for freq= 70 and amount=  30:  138 ordinary chapters\n",
      "for freq= 70 and amount=  40:  234 ordinary chapters\n",
      "for freq= 70 and amount=  50:  333 ordinary chapters\n",
      "for freq= 70 and amount=  60:  452 ordinary chapters\n",
      "for freq= 70 and amount=  70:  551 ordinary chapters\n",
      "for freq= 70 and amount=  80:  646 ordinary chapters\n",
      "for freq= 70 and amount=  90:  736 ordinary chapters\n",
      "for freq= 70 and amount= 100:  789 ordinary chapters\n",
      "for freq= 70 and amount= 110:  815 ordinary chapters\n",
      "for freq= 70 and amount= 120:  842 ordinary chapters\n",
      "for freq= 70 and amount= 130:  858 ordinary chapters\n",
      "for freq= 70 and amount= 140:  864 ordinary chapters\n",
      "for freq= 70 and amount= 150:  875 ordinary chapters\n",
      "for freq= 70 and amount= 160:  883 ordinary chapters\n",
      "for freq= 70 and amount= 170:  890 ordinary chapters\n",
      "for freq= 70 and amount= 180:  895 ordinary chapters\n",
      "for freq= 70 and amount= 190:  900 ordinary chapters\n",
      "for freq= 70 and amount= 200:  908 ordinary chapters\n",
      "for freq= 70 and amount= 210:  910 ordinary chapters\n",
      "for freq= 70 and amount= 220:  915 ordinary chapters\n",
      "for freq= 70 and amount= 230:  916 ordinary chapters\n",
      "for freq= 70 and amount= 240:  916 ordinary chapters\n",
      "for freq= 70 and amount= 250:  920 ordinary chapters\n",
      "for freq= 70 and amount= 260:  922 ordinary chapters\n",
      "for freq= 70 and amount= 270:  922 ordinary chapters\n",
      "for freq= 70 and amount= 280:  923 ordinary chapters\n",
      "for freq= 70 and amount= 290:  923 ordinary chapters\n",
      "for freq= 70 and amount= 300:  923 ordinary chapters\n",
      "for freq= 70 and amount= 310:  923 ordinary chapters\n",
      "for freq= 70 and amount= 320:  923 ordinary chapters\n",
      "for freq= 70 and amount= 330:  923 ordinary chapters\n",
      "for freq= 70 and amount= 340:  923 ordinary chapters\n",
      "for freq= 70 and amount= 350:  923 ordinary chapters\n",
      "for freq= 70 and amount= 360:  923 ordinary chapters\n",
      "for freq= 70 and amount= 370:  923 ordinary chapters\n",
      "for freq= 70 and amount= 380:  923 ordinary chapters\n",
      "for freq= 70 and amount= 390:  924 ordinary chapters\n",
      "for freq= 70 and amount= 400:  925 ordinary chapters\n",
      "for freq= 70 and amount= 410:  926 ordinary chapters\n",
      "for freq= 70 and amount= 420:  926 ordinary chapters\n",
      "for freq= 70 and amount= 430:  926 ordinary chapters\n",
      "for freq= 70 and amount= 440:  926 ordinary chapters\n",
      "for freq= 70 and amount= 450:  926 ordinary chapters\n",
      "for freq= 70 and amount= 460:  926 ordinary chapters\n",
      "for freq= 70 and amount= 470:  927 ordinary chapters\n",
      "for freq= 70 and amount= 480:  928 ordinary chapters\n",
      "for freq= 70 and amount= 490:  928 ordinary chapters\n",
      "for freq= 70 and amount= 500:  928 ordinary chapters\n",
      "for freq= 70 and amount= 510:  928 ordinary chapters\n",
      "for freq= 70 and amount= 520:  928 ordinary chapters\n",
      "for freq= 70 and amount= 530:  928 ordinary chapters\n",
      "for freq= 70 and amount= 540:  928 ordinary chapters\n",
      "for freq= 70 and amount= 550:  928 ordinary chapters\n",
      "for freq= 70 and amount= 560:  928 ordinary chapters\n",
      "for freq= 70 and amount= 570:  928 ordinary chapters\n",
      "for freq= 70 and amount= 580:  928 ordinary chapters\n",
      "for freq= 70 and amount= 590:  929 ordinary chapters\n",
      "for freq=100 and amount=  20:   38 ordinary chapters\n",
      "for freq=100 and amount=  30:   90 ordinary chapters\n",
      "for freq=100 and amount=  40:  165 ordinary chapters\n",
      "for freq=100 and amount=  50:  256 ordinary chapters\n",
      "for freq=100 and amount=  60:  333 ordinary chapters\n",
      "for freq=100 and amount=  70:  432 ordinary chapters\n",
      "for freq=100 and amount=  80:  520 ordinary chapters\n",
      "for freq=100 and amount=  90:  602 ordinary chapters\n",
      "for freq=100 and amount= 100:  687 ordinary chapters\n",
      "for freq=100 and amount= 110:  747 ordinary chapters\n",
      "for freq=100 and amount= 120:  782 ordinary chapters\n",
      "for freq=100 and amount= 130:  817 ordinary chapters\n",
      "for freq=100 and amount= 140:  845 ordinary chapters\n",
      "for freq=100 and amount= 150:  856 ordinary chapters\n",
      "for freq=100 and amount= 160:  862 ordinary chapters\n",
      "for freq=100 and amount= 170:  874 ordinary chapters\n",
      "for freq=100 and amount= 180:  880 ordinary chapters\n",
      "for freq=100 and amount= 190:  891 ordinary chapters\n",
      "for freq=100 and amount= 200:  894 ordinary chapters\n",
      "for freq=100 and amount= 210:  899 ordinary chapters\n",
      "for freq=100 and amount= 220:  905 ordinary chapters\n",
      "for freq=100 and amount= 230:  908 ordinary chapters\n",
      "for freq=100 and amount= 240:  910 ordinary chapters\n",
      "for freq=100 and amount= 250:  912 ordinary chapters\n",
      "for freq=100 and amount= 260:  915 ordinary chapters\n",
      "for freq=100 and amount= 270:  918 ordinary chapters\n",
      "for freq=100 and amount= 280:  920 ordinary chapters\n",
      "for freq=100 and amount= 290:  920 ordinary chapters\n",
      "for freq=100 and amount= 300:  920 ordinary chapters\n",
      "for freq=100 and amount= 310:  921 ordinary chapters\n",
      "for freq=100 and amount= 320:  921 ordinary chapters\n",
      "for freq=100 and amount= 330:  922 ordinary chapters\n",
      "for freq=100 and amount= 340:  922 ordinary chapters\n",
      "for freq=100 and amount= 350:  922 ordinary chapters\n",
      "for freq=100 and amount= 360:  922 ordinary chapters\n",
      "for freq=100 and amount= 370:  923 ordinary chapters\n",
      "for freq=100 and amount= 380:  923 ordinary chapters\n",
      "for freq=100 and amount= 390:  923 ordinary chapters\n",
      "for freq=100 and amount= 400:  923 ordinary chapters\n",
      "for freq=100 and amount= 410:  923 ordinary chapters\n",
      "for freq=100 and amount= 420:  923 ordinary chapters\n",
      "for freq=100 and amount= 430:  923 ordinary chapters\n",
      "for freq=100 and amount= 440:  925 ordinary chapters\n",
      "for freq=100 and amount= 450:  926 ordinary chapters\n",
      "for freq=100 and amount= 460:  926 ordinary chapters\n",
      "for freq=100 and amount= 470:  926 ordinary chapters\n",
      "for freq=100 and amount= 480:  926 ordinary chapters\n",
      "for freq=100 and amount= 490:  926 ordinary chapters\n",
      "for freq=100 and amount= 500:  926 ordinary chapters\n",
      "for freq=100 and amount= 510:  927 ordinary chapters\n",
      "for freq=100 and amount= 520:  927 ordinary chapters\n",
      "for freq=100 and amount= 530:  927 ordinary chapters\n",
      "for freq=100 and amount= 540:  928 ordinary chapters\n",
      "for freq=100 and amount= 550:  928 ordinary chapters\n",
      "for freq=100 and amount= 560:  928 ordinary chapters\n",
      "for freq=100 and amount= 570:  928 ordinary chapters\n",
      "for freq=100 and amount= 580:  928 ordinary chapters\n",
      "for freq=100 and amount= 590:  928 ordinary chapters\n",
      "for freq=100 and amount= 600:  928 ordinary chapters\n",
      "for freq=100 and amount= 610:  928 ordinary chapters\n",
      "for freq=100 and amount= 620:  928 ordinary chapters\n",
      "for freq=100 and amount= 630:  928 ordinary chapters\n",
      "for freq=100 and amount= 640:  928 ordinary chapters\n",
      "for freq=100 and amount= 650:  928 ordinary chapters\n",
      "for freq=100 and amount= 660:  928 ordinary chapters\n",
      "for freq=100 and amount= 670:  929 ordinary chapters\n"
     ]
    }
   ],
   "source": [
    "for freq in (40, 70, 100):\n",
    "    overview(freq)"
   ]
  },
  {
   "cell_type": "code",
   "execution_count": null,
   "metadata": {},
   "outputs": [],
   "source": []
  }
 ],
 "metadata": {
  "kernelspec": {
   "display_name": "Python 3",
   "language": "python",
   "name": "python3"
  },
  "language_info": {
   "codemirror_mode": {
    "name": "ipython",
    "version": 3
   },
   "file_extension": ".py",
   "mimetype": "text/x-python",
   "name": "python",
   "nbconvert_exporter": "python",
   "pygments_lexer": "ipython3",
   "version": "3.7.1"
  }
 },
 "nbformat": 4,
 "nbformat_minor": 2
}
