{
 "cells": [
  {
   "cell_type": "markdown",
   "metadata": {},
   "source": [
    "# Chapters with only \"frequent\" words\n",
    "\n",
    "Task: find the chapters without more than 20 rare words, where a rare word has a frequency (as lexeme) of less than 70.\n",
    "\n",
    "A question posed by Oliver Glanz."
   ]
  },
  {
   "cell_type": "code",
   "execution_count": 1,
   "metadata": {},
   "outputs": [],
   "source": [
    "from tf.fabric import Fabric"
   ]
  },
  {
   "cell_type": "code",
   "execution_count": 2,
   "metadata": {},
   "outputs": [
    {
     "name": "stdout",
     "output_type": "stream",
     "text": [
      "This is Text-Fabric 7.0.3\n",
      "Api reference : https://dans-labs.github.io/text-fabric/Api/General/\n",
      "Tutorial      : https://github.com/Dans-labs/text-fabric/blob/master/docs/tutorial.ipynb\n",
      "Example data  : https://github.com/Dans-labs/text-fabric-data\n",
      "\n",
      "114 features found and 0 ignored\n"
     ]
    }
   ],
   "source": [
    "TF = Fabric(modules='etcbc/bhsa/tf/c')"
   ]
  },
  {
   "cell_type": "code",
   "execution_count": 6,
   "metadata": {},
   "outputs": [],
   "source": [
    "api = TF.load('freq_lex', silent=True)"
   ]
  },
  {
   "cell_type": "code",
   "execution_count": 9,
   "metadata": {},
   "outputs": [
    {
     "data": {
      "text/plain": [
       "[('computed-data', ('C Computed', 'Call AllComputeds', 'Cs ComputedString')),\n",
       " ('edge-features', ('E Edge', 'Eall AllEdges', 'Es EdgeString')),\n",
       " ('loading', ('TF', 'ensureLoaded', 'ignored', 'loadLog')),\n",
       " ('locality', ('L Locality',)),\n",
       " ('messaging', ('cache', 'error', 'indent', 'info', 'reset')),\n",
       " ('navigating-nodes', ('N Nodes', 'sortKey', 'otypeRank', 'sortNodes')),\n",
       " ('node-features', ('F Feature', 'Fall AllFeatures', 'Fs FeatureString')),\n",
       " ('search', ('S Search',)),\n",
       " ('text', ('T Text',))]"
      ]
     },
     "execution_count": 9,
     "metadata": {},
     "output_type": "execute_result"
    }
   ],
   "source": [
    "api.makeAvailableIn(globals())"
   ]
  },
  {
   "cell_type": "code",
   "execution_count": 43,
   "metadata": {},
   "outputs": [],
   "source": [
    "FREQ = 70\n",
    "AMOUNT = 20"
   ]
  },
  {
   "cell_type": "markdown",
   "metadata": {},
   "source": [
    "## Query\n",
    "\n",
    "A straightforward query is:"
   ]
  },
  {
   "cell_type": "code",
   "execution_count": 22,
   "metadata": {},
   "outputs": [],
   "source": [
    "query = f'''\n",
    "chapter\n",
    "/without/\n",
    "  word freq_lex<{FREQ}\n",
    "  < word freq_lex<{FREQ}\n",
    "  < word freq_lex<{FREQ}\n",
    "  < word freq_lex<{FREQ}\n",
    "  < word freq_lex<{FREQ}\n",
    "  < word freq_lex<{FREQ}\n",
    "  < word freq_lex<{FREQ}\n",
    "  < word freq_lex<{FREQ}\n",
    "  < word freq_lex<{FREQ}\n",
    "  < word freq_lex<{FREQ}\n",
    "  < word freq_lex<{FREQ}\n",
    "  < word freq_lex<{FREQ}\n",
    "  < word freq_lex<{FREQ}\n",
    "  < word freq_lex<{FREQ}\n",
    "  < word freq_lex<{FREQ}\n",
    "  < word freq_lex<{FREQ}\n",
    "  < word freq_lex<{FREQ}\n",
    "  < word freq_lex<{FREQ}\n",
    "  < word freq_lex<{FREQ}\n",
    "  < word freq_lex<{FREQ}\n",
    "/-/\n",
    "'''"
   ]
  },
  {
   "cell_type": "markdown",
   "metadata": {},
   "source": [
    "Two problems with this query:\n",
    "\n",
    "* it is very inelegant\n",
    "* it does not perform, in fact, you cannot wait for it.\n",
    "\n",
    "So, better not search with this one."
   ]
  },
  {
   "cell_type": "code",
   "execution_count": 34,
   "metadata": {},
   "outputs": [],
   "source": [
    "# indent(reset=True)\n",
    "# info('start query')\n",
    "# results = S.search(query, limit=1)\n",
    "# info('end query')\n",
    "# len(results)"
   ]
  },
  {
   "cell_type": "markdown",
   "metadata": {},
   "source": [
    "# By hand\n",
    "\n",
    "On the other hand, with a bit of hand coding it is very easy, and almost instantaneous:"
   ]
  },
  {
   "cell_type": "code",
   "execution_count": 42,
   "metadata": {},
   "outputs": [
    {
     "name": "stdout",
     "output_type": "stream",
     "text": [
      "789 chapters out of 929\n"
     ]
    }
   ],
   "source": [
    "results = []\n",
    "allChapters = F.otype.s('chapter')\n",
    "\n",
    "for chapter in allChapters:\n",
    "    if len([\n",
    "        word for word in L.d(chapter, otype='word') if F.freq_lex.v(word) < FREQ\n",
    "    ]) < AMOUNT:\n",
    "        results.append(chapter)\n",
    "        \n",
    "print(f'{len(results)} chapters out of {len(allChapters)}')"
   ]
  },
  {
   "cell_type": "code",
   "execution_count": 33,
   "metadata": {},
   "outputs": [
    {
     "name": "stdout",
     "output_type": "stream",
     "text": [
      "Exodus 11\n",
      "Exodus 24\n",
      "Leviticus 17\n",
      "Deuteronomy 30\n",
      "Joshua 23\n",
      "Isaiah 12\n",
      "Isaiah 39\n",
      "Jeremiah 45\n",
      "Ezekiel 15\n",
      "Hosea 3\n",
      "Joel 3\n",
      "Psalms 1\n",
      "Psalms 3\n",
      "Psalms 4\n",
      "Psalms 13\n",
      "Psalms 14\n",
      "Psalms 15\n",
      "Psalms 20\n",
      "Psalms 23\n",
      "Psalms 24\n",
      "Psalms 26\n",
      "Psalms 43\n",
      "Psalms 47\n",
      "Psalms 53\n",
      "Psalms 54\n",
      "Psalms 61\n",
      "Psalms 67\n",
      "Psalms 70\n",
      "Psalms 82\n",
      "Psalms 86\n",
      "Psalms 87\n",
      "Psalms 93\n",
      "Psalms 97\n",
      "Psalms 99\n",
      "Psalms 100\n",
      "Psalms 101\n",
      "Psalms 110\n",
      "Psalms 113\n",
      "Psalms 114\n",
      "Psalms 115\n",
      "Psalms 117\n",
      "Psalms 120\n",
      "Psalms 121\n",
      "Psalms 122\n",
      "Psalms 123\n",
      "Psalms 124\n",
      "Psalms 125\n",
      "Psalms 126\n",
      "Psalms 127\n",
      "Psalms 128\n",
      "Psalms 130\n",
      "Psalms 131\n",
      "Psalms 133\n",
      "Psalms 134\n",
      "Psalms 136\n",
      "Psalms 138\n",
      "Psalms 150\n",
      "Job 25\n",
      "Esther 10\n",
      "2_Chronicles 27\n"
     ]
    }
   ],
   "source": [
    "for chapter in results:\n",
    "    print('{} {}'.format(*T.sectionFromNode(chapter)))"
   ]
  },
  {
   "cell_type": "markdown",
   "metadata": {},
   "source": [
    "# Investigation\n",
    "\n",
    "Let's investigate the number of ordinary chapters with shifting definitions of ordinary"
   ]
  },
  {
   "cell_type": "code",
   "execution_count": 46,
   "metadata": {},
   "outputs": [
    {
     "name": "stdout",
     "output_type": "stream",
     "text": [
      "There are 929 chapters, the longest is 1603 words\n"
     ]
    }
   ],
   "source": [
    "allChapters = F.otype.s('chapter')\n",
    "longestChapter = max(len(L.d(chapter, otype='word')) for chapter in allChapters)\n",
    "\n",
    "print(f'There are {len(allChapters)} chapters, the longest is {longestChapter} words')"
   ]
  },
  {
   "cell_type": "code",
   "execution_count": 47,
   "metadata": {},
   "outputs": [],
   "source": [
    "def getOrdinary(freq, amount):\n",
    "    results = []\n",
    "\n",
    "    for chapter in allChapters:\n",
    "        if len([\n",
    "            word for word in L.d(chapter, otype='word') if F.freq_lex.v(word) < freq\n",
    "        ]) < amount:\n",
    "            results.append(chapter)\n",
    "    return results"
   ]
  },
  {
   "cell_type": "code",
   "execution_count": 54,
   "metadata": {},
   "outputs": [],
   "source": [
    "def overview(freq):\n",
    "    for amount in range(20, 1700, 10):\n",
    "        results = getOrdinary(freq, amount)\n",
    "        print(f'for freq={freq:>3} and amount={amount:>4}: {len(results):>4} ordinary chapters')\n",
    "        if len(results) >= len(allChapters):\n",
    "            break"
   ]
  },
  {
   "cell_type": "code",
   "execution_count": 57,
   "metadata": {},
   "outputs": [
    {
     "name": "stdout",
     "output_type": "stream",
     "text": [
      "for freq= 40 and amount=  20:  140 ordinary chapters\n",
      "for freq= 40 and amount=  30:  279 ordinary chapters\n",
      "for freq= 40 and amount=  40:  419 ordinary chapters\n",
      "for freq= 40 and amount=  50:  561 ordinary chapters\n",
      "for freq= 40 and amount=  60:  670 ordinary chapters\n",
      "for freq= 40 and amount=  70:  758 ordinary chapters\n",
      "for freq= 40 and amount=  80:  810 ordinary chapters\n",
      "for freq= 40 and amount=  90:  837 ordinary chapters\n",
      "for freq= 40 and amount= 100:  861 ordinary chapters\n",
      "for freq= 40 and amount= 110:  874 ordinary chapters\n",
      "for freq= 40 and amount= 120:  885 ordinary chapters\n",
      "for freq= 40 and amount= 130:  888 ordinary chapters\n",
      "for freq= 40 and amount= 140:  894 ordinary chapters\n",
      "for freq= 40 and amount= 150:  900 ordinary chapters\n",
      "for freq= 40 and amount= 160:  906 ordinary chapters\n",
      "for freq= 40 and amount= 170:  908 ordinary chapters\n",
      "for freq= 40 and amount= 180:  912 ordinary chapters\n",
      "for freq= 40 and amount= 190:  915 ordinary chapters\n",
      "for freq= 40 and amount= 200:  916 ordinary chapters\n",
      "for freq= 40 and amount= 210:  917 ordinary chapters\n",
      "for freq= 40 and amount= 220:  919 ordinary chapters\n",
      "for freq= 40 and amount= 230:  920 ordinary chapters\n",
      "for freq= 40 and amount= 240:  923 ordinary chapters\n",
      "for freq= 40 and amount= 250:  923 ordinary chapters\n",
      "for freq= 40 and amount= 260:  923 ordinary chapters\n",
      "for freq= 40 and amount= 270:  923 ordinary chapters\n",
      "for freq= 40 and amount= 280:  923 ordinary chapters\n",
      "for freq= 40 and amount= 290:  923 ordinary chapters\n",
      "for freq= 40 and amount= 300:  923 ordinary chapters\n",
      "for freq= 40 and amount= 310:  923 ordinary chapters\n",
      "for freq= 40 and amount= 320:  924 ordinary chapters\n",
      "for freq= 40 and amount= 330:  924 ordinary chapters\n",
      "for freq= 40 and amount= 340:  924 ordinary chapters\n",
      "for freq= 40 and amount= 350:  925 ordinary chapters\n",
      "for freq= 40 and amount= 360:  925 ordinary chapters\n",
      "for freq= 40 and amount= 370:  925 ordinary chapters\n",
      "for freq= 40 and amount= 380:  926 ordinary chapters\n",
      "for freq= 40 and amount= 390:  926 ordinary chapters\n",
      "for freq= 40 and amount= 400:  926 ordinary chapters\n",
      "for freq= 40 and amount= 410:  926 ordinary chapters\n",
      "for freq= 40 and amount= 420:  926 ordinary chapters\n",
      "for freq= 40 and amount= 430:  927 ordinary chapters\n",
      "for freq= 40 and amount= 440:  927 ordinary chapters\n",
      "for freq= 40 and amount= 450:  928 ordinary chapters\n",
      "for freq= 40 and amount= 460:  928 ordinary chapters\n",
      "for freq= 40 and amount= 470:  928 ordinary chapters\n",
      "for freq= 40 and amount= 480:  928 ordinary chapters\n",
      "for freq= 40 and amount= 490:  928 ordinary chapters\n",
      "for freq= 40 and amount= 500:  929 ordinary chapters\n",
      "for freq= 70 and amount=  20:   60 ordinary chapters\n",
      "for freq= 70 and amount=  30:  138 ordinary chapters\n",
      "for freq= 70 and amount=  40:  234 ordinary chapters\n",
      "for freq= 70 and amount=  50:  333 ordinary chapters\n",
      "for freq= 70 and amount=  60:  452 ordinary chapters\n",
      "for freq= 70 and amount=  70:  551 ordinary chapters\n",
      "for freq= 70 and amount=  80:  646 ordinary chapters\n",
      "for freq= 70 and amount=  90:  736 ordinary chapters\n",
      "for freq= 70 and amount= 100:  789 ordinary chapters\n",
      "for freq= 70 and amount= 110:  815 ordinary chapters\n",
      "for freq= 70 and amount= 120:  842 ordinary chapters\n",
      "for freq= 70 and amount= 130:  858 ordinary chapters\n",
      "for freq= 70 and amount= 140:  864 ordinary chapters\n",
      "for freq= 70 and amount= 150:  875 ordinary chapters\n",
      "for freq= 70 and amount= 160:  883 ordinary chapters\n",
      "for freq= 70 and amount= 170:  890 ordinary chapters\n",
      "for freq= 70 and amount= 180:  895 ordinary chapters\n",
      "for freq= 70 and amount= 190:  900 ordinary chapters\n",
      "for freq= 70 and amount= 200:  908 ordinary chapters\n",
      "for freq= 70 and amount= 210:  910 ordinary chapters\n",
      "for freq= 70 and amount= 220:  915 ordinary chapters\n",
      "for freq= 70 and amount= 230:  916 ordinary chapters\n",
      "for freq= 70 and amount= 240:  916 ordinary chapters\n",
      "for freq= 70 and amount= 250:  920 ordinary chapters\n",
      "for freq= 70 and amount= 260:  922 ordinary chapters\n",
      "for freq= 70 and amount= 270:  922 ordinary chapters\n",
      "for freq= 70 and amount= 280:  923 ordinary chapters\n",
      "for freq= 70 and amount= 290:  923 ordinary chapters\n",
      "for freq= 70 and amount= 300:  923 ordinary chapters\n",
      "for freq= 70 and amount= 310:  923 ordinary chapters\n",
      "for freq= 70 and amount= 320:  923 ordinary chapters\n",
      "for freq= 70 and amount= 330:  923 ordinary chapters\n",
      "for freq= 70 and amount= 340:  923 ordinary chapters\n",
      "for freq= 70 and amount= 350:  923 ordinary chapters\n",
      "for freq= 70 and amount= 360:  923 ordinary chapters\n",
      "for freq= 70 and amount= 370:  923 ordinary chapters\n",
      "for freq= 70 and amount= 380:  923 ordinary chapters\n",
      "for freq= 70 and amount= 390:  924 ordinary chapters\n",
      "for freq= 70 and amount= 400:  925 ordinary chapters\n",
      "for freq= 70 and amount= 410:  926 ordinary chapters\n",
      "for freq= 70 and amount= 420:  926 ordinary chapters\n",
      "for freq= 70 and amount= 430:  926 ordinary chapters\n",
      "for freq= 70 and amount= 440:  926 ordinary chapters\n",
      "for freq= 70 and amount= 450:  926 ordinary chapters\n",
      "for freq= 70 and amount= 460:  926 ordinary chapters\n",
      "for freq= 70 and amount= 470:  927 ordinary chapters\n",
      "for freq= 70 and amount= 480:  928 ordinary chapters\n",
      "for freq= 70 and amount= 490:  928 ordinary chapters\n",
      "for freq= 70 and amount= 500:  928 ordinary chapters\n",
      "for freq= 70 and amount= 510:  928 ordinary chapters\n",
      "for freq= 70 and amount= 520:  928 ordinary chapters\n",
      "for freq= 70 and amount= 530:  928 ordinary chapters\n",
      "for freq= 70 and amount= 540:  928 ordinary chapters\n",
      "for freq= 70 and amount= 550:  928 ordinary chapters\n",
      "for freq= 70 and amount= 560:  928 ordinary chapters\n",
      "for freq= 70 and amount= 570:  928 ordinary chapters\n",
      "for freq= 70 and amount= 580:  928 ordinary chapters\n",
      "for freq= 70 and amount= 590:  929 ordinary chapters\n",
      "for freq=100 and amount=  20:   38 ordinary chapters\n",
      "for freq=100 and amount=  30:   90 ordinary chapters\n",
      "for freq=100 and amount=  40:  165 ordinary chapters\n",
      "for freq=100 and amount=  50:  256 ordinary chapters\n",
      "for freq=100 and amount=  60:  333 ordinary chapters\n",
      "for freq=100 and amount=  70:  432 ordinary chapters\n",
      "for freq=100 and amount=  80:  520 ordinary chapters\n",
      "for freq=100 and amount=  90:  602 ordinary chapters\n",
      "for freq=100 and amount= 100:  687 ordinary chapters\n",
      "for freq=100 and amount= 110:  747 ordinary chapters\n",
      "for freq=100 and amount= 120:  782 ordinary chapters\n",
      "for freq=100 and amount= 130:  817 ordinary chapters\n",
      "for freq=100 and amount= 140:  845 ordinary chapters\n",
      "for freq=100 and amount= 150:  856 ordinary chapters\n",
      "for freq=100 and amount= 160:  862 ordinary chapters\n",
      "for freq=100 and amount= 170:  874 ordinary chapters\n",
      "for freq=100 and amount= 180:  880 ordinary chapters\n",
      "for freq=100 and amount= 190:  891 ordinary chapters\n",
      "for freq=100 and amount= 200:  894 ordinary chapters\n",
      "for freq=100 and amount= 210:  899 ordinary chapters\n",
      "for freq=100 and amount= 220:  905 ordinary chapters\n",
      "for freq=100 and amount= 230:  908 ordinary chapters\n",
      "for freq=100 and amount= 240:  910 ordinary chapters\n",
      "for freq=100 and amount= 250:  912 ordinary chapters\n",
      "for freq=100 and amount= 260:  915 ordinary chapters\n",
      "for freq=100 and amount= 270:  918 ordinary chapters\n",
      "for freq=100 and amount= 280:  920 ordinary chapters\n",
      "for freq=100 and amount= 290:  920 ordinary chapters\n",
      "for freq=100 and amount= 300:  920 ordinary chapters\n",
      "for freq=100 and amount= 310:  921 ordinary chapters\n",
      "for freq=100 and amount= 320:  921 ordinary chapters\n",
      "for freq=100 and amount= 330:  922 ordinary chapters\n",
      "for freq=100 and amount= 340:  922 ordinary chapters\n",
      "for freq=100 and amount= 350:  922 ordinary chapters\n",
      "for freq=100 and amount= 360:  922 ordinary chapters\n",
      "for freq=100 and amount= 370:  923 ordinary chapters\n",
      "for freq=100 and amount= 380:  923 ordinary chapters\n",
      "for freq=100 and amount= 390:  923 ordinary chapters\n",
      "for freq=100 and amount= 400:  923 ordinary chapters\n",
      "for freq=100 and amount= 410:  923 ordinary chapters\n",
      "for freq=100 and amount= 420:  923 ordinary chapters\n",
      "for freq=100 and amount= 430:  923 ordinary chapters\n",
      "for freq=100 and amount= 440:  925 ordinary chapters\n",
      "for freq=100 and amount= 450:  926 ordinary chapters\n",
      "for freq=100 and amount= 460:  926 ordinary chapters\n",
      "for freq=100 and amount= 470:  926 ordinary chapters\n",
      "for freq=100 and amount= 480:  926 ordinary chapters\n",
      "for freq=100 and amount= 490:  926 ordinary chapters\n",
      "for freq=100 and amount= 500:  926 ordinary chapters\n",
      "for freq=100 and amount= 510:  927 ordinary chapters\n",
      "for freq=100 and amount= 520:  927 ordinary chapters\n",
      "for freq=100 and amount= 530:  927 ordinary chapters\n",
      "for freq=100 and amount= 540:  928 ordinary chapters\n",
      "for freq=100 and amount= 550:  928 ordinary chapters\n",
      "for freq=100 and amount= 560:  928 ordinary chapters\n",
      "for freq=100 and amount= 570:  928 ordinary chapters\n",
      "for freq=100 and amount= 580:  928 ordinary chapters\n",
      "for freq=100 and amount= 590:  928 ordinary chapters\n",
      "for freq=100 and amount= 600:  928 ordinary chapters\n",
      "for freq=100 and amount= 610:  928 ordinary chapters\n",
      "for freq=100 and amount= 620:  928 ordinary chapters\n",
      "for freq=100 and amount= 630:  928 ordinary chapters\n",
      "for freq=100 and amount= 640:  928 ordinary chapters\n",
      "for freq=100 and amount= 650:  928 ordinary chapters\n",
      "for freq=100 and amount= 660:  928 ordinary chapters\n",
      "for freq=100 and amount= 670:  929 ordinary chapters\n"
     ]
    }
   ],
   "source": [
    "for freq in (40, 70, 100):\n",
    "    overview(freq)"
   ]
  },
  {
   "cell_type": "code",
   "execution_count": null,
   "metadata": {},
   "outputs": [],
   "source": []
  }
 ],
 "metadata": {
  "kernelspec": {
   "display_name": "Python 3",
   "language": "python",
   "name": "python3"
  },
  "language_info": {
   "codemirror_mode": {
    "name": "ipython",
    "version": 3
   },
   "file_extension": ".py",
   "mimetype": "text/x-python",
   "name": "python",
   "nbconvert_exporter": "python",
   "pygments_lexer": "ipython3",
   "version": "3.7.1"
  }
 },
 "nbformat": 4,
 "nbformat_minor": 2
}
