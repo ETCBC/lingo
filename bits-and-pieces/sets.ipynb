{
 "cells": [
  {
   "cell_type": "markdown",
   "metadata": {
    "toc": true
   },
   "source": [
    "<h1>Table of Contents<span class=\"tocSkip\"></span></h1>\n",
    "<div class=\"toc\"><ul class=\"toc-item\"></ul></div>"
   ]
  },
  {
   "cell_type": "code",
   "execution_count": 1,
   "metadata": {
    "ExecuteTime": {
     "end_time": "2018-05-22T19:05:44.915161Z",
     "start_time": "2018-05-22T19:05:44.908389Z"
    }
   },
   "outputs": [],
   "source": [
    "import os, collections"
   ]
  },
  {
   "cell_type": "code",
   "execution_count": 2,
   "metadata": {
    "ExecuteTime": {
     "end_time": "2018-05-22T19:05:44.933384Z",
     "start_time": "2018-05-22T19:05:44.918305Z"
    }
   },
   "outputs": [],
   "source": [
    "from tf.fabric import Fabric\n",
    "from tf.extra.bhsa import Bhsa"
   ]
  },
  {
   "cell_type": "markdown",
   "metadata": {},
   "source": [
    "# Load data\n",
    "We load the some features of the\n",
    "[BHSA](https://github.com/etcbc/bhsa) data.\n",
    "See the [feature documentation](https://etcbc.github.io/bhsa/features/hebrew/2017/0_home.html) for more info."
   ]
  },
  {
   "cell_type": "code",
   "execution_count": 3,
   "metadata": {
    "ExecuteTime": {
     "end_time": "2018-05-22T19:05:49.044307Z",
     "start_time": "2018-05-22T19:05:44.953428Z"
    },
    "scrolled": true
   },
   "outputs": [
    {
     "name": "stdout",
     "output_type": "stream",
     "text": [
      "This is Text-Fabric 4.1.2\n",
      "Api reference : https://dans-labs.github.io/text-fabric/Api/General/\n",
      "Tutorial      : https://github.com/Dans-labs/text-fabric/blob/master/docs/tutorial.ipynb\n",
      "Example data  : https://github.com/Dans-labs/text-fabric-data\n",
      "\n",
      "115 features found and 0 ignored\n",
      "  0.00s loading features ...\n",
      "   |     0.00s Feature overview: 109 for nodes; 5 for edges; 1 configs; 7 computed\n",
      "  4.07s All features loaded/computed - for details use loadLog()\n"
     ]
    }
   ],
   "source": [
    "BHSA = 'BHSA/tf/2017'\n",
    "\n",
    "TF = Fabric(locations='~/github/etcbc', modules=BHSA)\n",
    "api = TF.load('')\n",
    "api.makeAvailableIn(globals())"
   ]
  },
  {
   "cell_type": "code",
   "execution_count": 4,
   "metadata": {
    "ExecuteTime": {
     "end_time": "2018-05-22T19:05:50.339896Z",
     "start_time": "2018-05-22T19:05:49.047699Z"
    }
   },
   "outputs": [
    {
     "data": {
      "text/markdown": [
       "**Documentation:** <a target=\"_blank\" href=\"https://etcbc.github.io/bhsa\" title=\"{provenance of this corpus}\">BHSA</a> <a target=\"_blank\" href=\"https://etcbc.github.io/bhsa/features/hebrew/2017/0_home.html\" title=\"{CORPUS} feature documentation\">Feature docs</a> <a target=\"_blank\" href=\"https://dans-labs.github.io/text-fabric/Api/Bhsa/\" title=\"BHSA API documentation\">BHSA API</a> <a target=\"_blank\" href=\"https://dans-labs.github.io/text-fabric/Api/General/\" title=\"text-fabric-api\">Text-Fabric API 4.1.2</a> <a target=\"_blank\" href=\"https://dans-labs.github.io/text-fabric/Api/General/#search-templates\" title=\"Search Templates Introduction and Reference\">Search Reference</a>"
      ],
      "text/plain": [
       "<IPython.core.display.Markdown object>"
      ]
     },
     "metadata": {},
     "output_type": "display_data"
    },
    {
     "data": {
      "text/markdown": [
       "\n",
       "This notebook online:\n",
       "<a target=\"_blank\" href=\"http://nbviewer.jupyter.org/github/etcbc/lingo/blob/master/bits-and-pieces/sets.ipynb\">NBViewer</a>\n",
       "<a target=\"_blank\" href=\"https://github.com/etcbc/lingo/blob/master/bits-and-pieces/sets.ipynb\">GitHub</a>\n"
      ],
      "text/plain": [
       "<IPython.core.display.Markdown object>"
      ]
     },
     "metadata": {},
     "output_type": "display_data"
    },
    {
     "data": {
      "text/html": [
       "\n",
       "<style>\n",
       ".verse {\n",
       "    display: flex;\n",
       "    flex-flow: row wrap;\n",
       "    direction: rtl;\n",
       "}\n",
       ".vl {\n",
       "    display: flex;\n",
       "    flex-flow: column nowrap;\n",
       "    direction: ltr;\n",
       "}\n",
       ".sentence,.clause,.phrase {\n",
       "    margin-top: -1.2em;\n",
       "    margin-left: 1em;\n",
       "    background: #ffffff none repeat scroll 0 0;\n",
       "    padding: 0 0.3em;\n",
       "    border-style: solid;\n",
       "    border-radius: 0.2em;\n",
       "    font-size: small;\n",
       "    display: block;\n",
       "    width: fit-content;\n",
       "    max-width: fit-content;\n",
       "    direction: ltr;\n",
       "}\n",
       ".atoms {\n",
       "    display: flex;\n",
       "    flex-flow: row wrap;\n",
       "    margin: 0.3em;\n",
       "    padding: 0.3em;\n",
       "    direction: rtl;\n",
       "    background-color: #ffffff;\n",
       "}\n",
       ".satom,.catom,.patom {\n",
       "    margin: 0.3em;\n",
       "    padding: 0.3em;\n",
       "    border-radius: 0.3em;\n",
       "    border-style: solid;\n",
       "    display: flex;\n",
       "    flex-flow: column nowrap;\n",
       "    direction: rtl;\n",
       "    background-color: #ffffff;\n",
       "}\n",
       ".sentence {\n",
       "    border-color: #aa3333;\n",
       "    border-width: 1px;\n",
       "}\n",
       ".clause {\n",
       "    border-color: #aaaa33;\n",
       "    border-width: 1px;\n",
       "}\n",
       ".phrase {\n",
       "    border-color: #33aaaa;\n",
       "    border-width: 1px;\n",
       "}\n",
       ".satom {\n",
       "    border-color: #aa3333;\n",
       "    border-width: 4px;\n",
       "}\n",
       ".catom {\n",
       "    border-color: #aaaa33;\n",
       "    border-width: 3px;\n",
       "}\n",
       ".patom {\n",
       "    border-color: #33aaaa;\n",
       "    border-width: 3px;\n",
       "}\n",
       ".word {\n",
       "    padding: 0.1em;\n",
       "    margin: 0.1em;\n",
       "    border-radius: 0.1em;\n",
       "    border: 1px solid #cccccc;\n",
       "    display: flex;\n",
       "    flex-flow: column nowrap;\n",
       "    direction: rtl;\n",
       "    background-color: #ffffff;\n",
       "}\n",
       ".lex {\n",
       "    padding: 0.1em;\n",
       "    margin: 0.1em;\n",
       "    border-radius: 0.1em;\n",
       "    border: 2px solid #888888;\n",
       "    width: fit-content;\n",
       "    display: flex;\n",
       "    flex-flow: column nowrap;\n",
       "    direction: rtl;\n",
       "    background-color: #ffffff;\n",
       "}\n",
       ".satom.l,.catom.l,.patom.l {\n",
       "    border-left-style: dotted\n",
       "}\n",
       ".satom.r,.catom.r,.patom.r {\n",
       "    border-right-style: dotted\n",
       "}\n",
       ".satom.L,.catom.L,.patom.L {\n",
       "    border-left-style: none\n",
       "}\n",
       ".satom.R,.catom.R,.patom.R {\n",
       "    border-right-style: none\n",
       "}\n",
       ".h,.h :visited,.h :link {\n",
       "    font-family: \"Ezra SIL\", \"SBL Hebrew\", sans-serif;\n",
       "    font-size: large;\n",
       "    color: #000044;\n",
       "    direction: rtl;\n",
       "    text-decoration: none;\n",
       "}\n",
       ".rela,.function,.typ {\n",
       "    font-family: monospace;\n",
       "    font-size: small;\n",
       "    color: #0000bb;\n",
       "}\n",
       ".sp,.sp :visited,.sp :link {\n",
       "    font-family: monospace;\n",
       "    font-size: medium;\n",
       "    color: #0000bb;\n",
       "    text-decoration: none;\n",
       "}\n",
       ".vl {\n",
       "    font-family: monospace;\n",
       "    font-size: medium;\n",
       "    color: #0000bb;\n",
       "}\n",
       ".vvs {\n",
       "    font-family: monospace;\n",
       "    font-size: medium;\n",
       "    font-weight: bold;\n",
       "    color: #0000bb;\n",
       "}\n",
       ".vvt {\n",
       "    font-family: monospace;\n",
       "    font-size: medium;\n",
       "    color: #0000bb;\n",
       "}\n",
       ".gl {\n",
       "    font-family: sans-serif;\n",
       "    font-size: small;\n",
       "    color: #aaaaaa;\n",
       "}\n",
       ".vs {\n",
       "    font-family: sans-serif;\n",
       "    font-size: small;\n",
       "    font-weight: bold;\n",
       "    color: #444444;\n",
       "}\n",
       ".nd {\n",
       "    font-family: monospace;\n",
       "    font-size: x-small;\n",
       "    color: #999999;\n",
       "}\n",
       ".feat {\n",
       "    font-family: monospace;\n",
       "    font-size: medium;\n",
       "    font-weight: bold;\n",
       "    color: #0a6611;\n",
       "}\n",
       ".feat .f {\n",
       "    font-family: sans-serif;\n",
       "    font-size: x-small;\n",
       "    color: #5555bb;\n",
       "}\n",
       ".hl {\n",
       "    background-color: #ffee66;\n",
       "}\n",
       "</style>\n"
      ],
      "text/plain": [
       "<IPython.core.display.HTML object>"
      ]
     },
     "metadata": {},
     "output_type": "display_data"
    }
   ],
   "source": [
    "B = Bhsa(api, 'sets', version='2017')"
   ]
  },
  {
   "cell_type": "code",
   "execution_count": 5,
   "metadata": {
    "ExecuteTime": {
     "end_time": "2018-05-22T19:05:50.348987Z",
     "start_time": "2018-05-22T19:05:50.343828Z"
    }
   },
   "outputs": [
    {
     "name": "stdout",
     "output_type": "stream",
     "text": [
      "88101\n"
     ]
    }
   ],
   "source": [
    "print(len(F.otype.s('clause')))"
   ]
  },
  {
   "cell_type": "code",
   "execution_count": 6,
   "metadata": {
    "ExecuteTime": {
     "end_time": "2018-05-22T19:05:50.356307Z",
     "start_time": "2018-05-22T19:05:50.352133Z"
    }
   },
   "outputs": [],
   "source": [
    "dQuery = '''\n",
    "clause\n",
    "  =: phrase\n",
    "  <: phrase\n",
    "  :=\n",
    "'''"
   ]
  },
  {
   "cell_type": "code",
   "execution_count": 7,
   "metadata": {
    "ExecuteTime": {
     "end_time": "2018-05-22T19:05:55.668414Z",
     "start_time": "2018-05-22T19:05:54.624650Z"
    }
   },
   "outputs": [
    {
     "name": "stdout",
     "output_type": "stream",
     "text": [
      "23483 results\n"
     ]
    }
   ],
   "source": [
    "results = B.search(dQuery, shallow=True)"
   ]
  },
  {
   "cell_type": "code",
   "execution_count": 8,
   "metadata": {
    "ExecuteTime": {
     "end_time": "2018-05-22T19:05:56.991890Z",
     "start_time": "2018-05-22T19:05:56.985448Z"
    }
   },
   "outputs": [
    {
     "data": {
      "text/plain": [
       "set"
      ]
     },
     "execution_count": 8,
     "metadata": {},
     "output_type": "execute_result"
    }
   ],
   "source": [
    "type(results)"
   ]
  },
  {
   "cell_type": "code",
   "execution_count": 9,
   "metadata": {
    "ExecuteTime": {
     "end_time": "2018-05-22T19:03:35.947250Z",
     "start_time": "2018-05-22T19:03:35.939250Z"
    }
   },
   "outputs": [
    {
     "data": {
      "text/plain": [
       "427558"
      ]
     },
     "execution_count": 9,
     "metadata": {},
     "output_type": "execute_result"
    }
   ],
   "source": [
    "results[0]"
   ]
  },
  {
   "cell_type": "code",
   "execution_count": 11,
   "metadata": {
    "ExecuteTime": {
     "end_time": "2018-05-22T19:07:42.032960Z",
     "start_time": "2018-05-22T19:07:42.029161Z"
    }
   },
   "outputs": [],
   "source": [
    "tQuery = '''\n",
    "clause\n",
    "  phrase\n",
    "  phrase\n",
    "'''"
   ]
  },
  {
   "cell_type": "code",
   "execution_count": 12,
   "metadata": {
    "ExecuteTime": {
     "end_time": "2018-05-22T19:07:44.233399Z",
     "start_time": "2018-05-22T19:07:43.238637Z"
    }
   },
   "outputs": [
    {
     "name": "stdout",
     "output_type": "stream",
     "text": [
      "88101 results\n"
     ]
    }
   ],
   "source": [
    "results = B.search(tQuery, shallow=True)"
   ]
  },
  {
   "cell_type": "code",
   "execution_count": 13,
   "metadata": {
    "ExecuteTime": {
     "end_time": "2018-05-22T19:07:47.515903Z",
     "start_time": "2018-05-22T19:07:47.507333Z"
    }
   },
   "outputs": [
    {
     "data": {
      "text/plain": [
       "set"
      ]
     },
     "execution_count": 13,
     "metadata": {},
     "output_type": "execute_result"
    }
   ],
   "source": [
    "type(results)"
   ]
  },
  {
   "cell_type": "code",
   "execution_count": 14,
   "metadata": {
    "ExecuteTime": {
     "end_time": "2018-05-22T19:08:16.106157Z",
     "start_time": "2018-05-22T19:08:13.096955Z"
    }
   },
   "outputs": [
    {
     "name": "stdout",
     "output_type": "stream",
     "text": [
      "835471 results\n"
     ]
    }
   ],
   "source": [
    "results = B.search(tQuery, shallow=False)"
   ]
  },
  {
   "cell_type": "code",
   "execution_count": 6,
   "metadata": {
    "ExecuteTime": {
     "end_time": "2018-05-22T15:07:05.704569Z",
     "start_time": "2018-05-22T15:07:04.520287Z"
    }
   },
   "outputs": [
    {
     "name": "stdout",
     "output_type": "stream",
     "text": [
      "23483 results\n",
      "23483 two-phrase clauses\n"
     ]
    }
   ],
   "source": [
    "results = B.search(tQuery)\n",
    "dClauseSet = {r[0] for r in results}\n",
    "print(f'{len(dClauseSet)} two-phrase clauses')"
   ]
  },
  {
   "cell_type": "code",
   "execution_count": 16,
   "metadata": {
    "ExecuteTime": {
     "end_time": "2018-05-22T15:08:18.024490Z",
     "start_time": "2018-05-22T15:08:18.019352Z"
    }
   },
   "outputs": [],
   "source": [
    "query = '''\n",
    "dclause\n",
    "  phrase function=Pred\n",
    "'''"
   ]
  },
  {
   "cell_type": "code",
   "execution_count": 17,
   "metadata": {
    "ExecuteTime": {
     "end_time": "2018-05-22T15:08:19.793756Z",
     "start_time": "2018-05-22T15:08:19.313710Z"
    }
   },
   "outputs": [
    {
     "name": "stdout",
     "output_type": "stream",
     "text": [
      "   |     0.00s Feature overview: 109 for nodes; 5 for edges; 1 configs; 7 computed\n",
      "   |     0.00s Checking search template ...\n",
      "   |     0.01s Setting up search space for 2 objects ...\n",
      "   |     0.43s Constraining search space with 1 relations ...\n",
      "   |     0.43s Setting up retrieval plan ...\n",
      "   |     0.43s Ready to deliver results from 80553 nodes\n",
      "   |   Iterate over S.fetch() to get the results\n",
      "   |   See S.showPlan() to interpret the results\n"
     ]
    }
   ],
   "source": [
    "S.study(query, sets=dict(dclause=dClauseSet))"
   ]
  },
  {
   "cell_type": "code",
   "execution_count": 18,
   "metadata": {
    "ExecuteTime": {
     "end_time": "2018-05-22T15:08:20.899197Z",
     "start_time": "2018-05-22T15:08:20.874855Z"
    }
   },
   "outputs": [
    {
     "name": "stdout",
     "output_type": "stream",
     "text": [
      "   |   Search with 2 objects and 1 relations\n",
      "   |   Results are instantiations of the following objects:\n",
      "   |   node  0-dclause                           ( 23483   choices)\n",
      "   |   node  1-phrase                            ( 57070   choices)\n",
      "   |   Instantiations are computed along the following relations:\n",
      "   |   node                      0-dclause       ( 23483   choices)\n",
      "   |   edge  0-dclause       [[  1-phrase        (     0.7 choices)\n",
      "   |     1.53s The results are connected to the original search template as follows:\n",
      "   |    0     \n",
      "   |    1 R0  dclause\n",
      "   |    2 R1    phrase function=Pred\n",
      "   |    3     \n"
     ]
    }
   ],
   "source": [
    "S.showPlan(details=True)"
   ]
  },
  {
   "cell_type": "code",
   "execution_count": 19,
   "metadata": {
    "ExecuteTime": {
     "end_time": "2018-05-22T15:08:24.035580Z",
     "start_time": "2018-05-22T15:08:23.501870Z"
    }
   },
   "outputs": [
    {
     "name": "stdout",
     "output_type": "stream",
     "text": [
      "12138 results\n"
     ]
    }
   ],
   "source": [
    "results = B.search(query, sets=dict(dclause=dClauseSet))"
   ]
  },
  {
   "cell_type": "code",
   "execution_count": 17,
   "metadata": {
    "ExecuteTime": {
     "end_time": "2018-05-23T07:23:02.515872Z",
     "start_time": "2018-05-23T07:23:02.507632Z"
    }
   },
   "outputs": [],
   "source": [
    "def LnN(node, n, otype=None):\n",
    "    result = []\n",
    "    nextNode = node\n",
    "    for i in range(n):\n",
    "        nextNodes = L.n(nextNode, otype=otype)\n",
    "        if nextNodes:\n",
    "            nextNode = nextNodes[0]\n",
    "            result.append(nextNode)\n",
    "        else:\n",
    "            break\n",
    "    return result"
   ]
  },
  {
   "cell_type": "code",
   "execution_count": 18,
   "metadata": {
    "ExecuteTime": {
     "end_time": "2018-05-23T07:23:02.990100Z",
     "start_time": "2018-05-23T07:23:02.983330Z"
    }
   },
   "outputs": [
    {
     "data": {
      "text/plain": [
       "[2, 3, 4]"
      ]
     },
     "execution_count": 18,
     "metadata": {},
     "output_type": "execute_result"
    }
   ],
   "source": [
    "LnN(1, 3, otype='word')"
   ]
  },
  {
   "cell_type": "code",
   "execution_count": null,
   "metadata": {},
   "outputs": [],
   "source": []
  }
 ],
 "metadata": {
  "kernelspec": {
   "display_name": "Python 3",
   "language": "python",
   "name": "python3"
  },
  "language_info": {
   "codemirror_mode": {
    "name": "ipython",
    "version": 3
   },
   "file_extension": ".py",
   "mimetype": "text/x-python",
   "name": "python",
   "nbconvert_exporter": "python",
   "pygments_lexer": "ipython3",
   "version": "3.6.5"
  },
  "toc": {
   "base_numbering": 1,
   "nav_menu": {},
   "number_sections": true,
   "sideBar": true,
   "skip_h1_title": true,
   "title_cell": "Table of Contents",
   "title_sidebar": "Contents",
   "toc_cell": true,
   "toc_position": {},
   "toc_section_display": true,
   "toc_window_display": false
  }
 },
 "nbformat": 4,
 "nbformat_minor": 2
}
