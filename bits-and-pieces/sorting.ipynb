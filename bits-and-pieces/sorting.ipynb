{
 "cells": [
  {
   "cell_type": "code",
   "execution_count": 1,
   "metadata": {},
   "outputs": [],
   "source": [
    "%load_ext autoreload\n",
    "%autoreload 2"
   ]
  },
  {
   "cell_type": "code",
   "execution_count": 2,
   "metadata": {},
   "outputs": [],
   "source": [
    "from tf.app import use"
   ]
  },
  {
   "cell_type": "code",
   "execution_count": 3,
   "metadata": {},
   "outputs": [
    {
     "name": "stdout",
     "output_type": "stream",
     "text": [
      "Using etcbc/bhsa/tf - c r1.5 in /Users/dirk/text-fabric-data\n",
      "Using etcbc/phono/tf - c r1.2 in /Users/dirk/text-fabric-data\n",
      "Using etcbc/parallels/tf - c r1.2 in /Users/dirk/text-fabric-data\n"
     ]
    },
    {
     "data": {
      "text/markdown": [
       "**Documentation:** <a target=\"_blank\" href=\"https://etcbc.github.io/bhsa\" title=\"provenance of BHSA = Biblia Hebraica Stuttgartensia Amstelodamensis\">BHSA</a> <a target=\"_blank\" href=\"https://dans-labs.github.io/text-fabric/writing/hebrew.html\" title=\"('Hebrew characters and transcriptions',)\">Character table</a> <a target=\"_blank\" href=\"https://etcbc.github.io/bhsa/features/hebrew/c/0_home.html\" title=\"BHSA feature documentation\">Feature docs</a> <a target=\"_blank\" href=\"https://dans-labs.github.io/text-fabric/Api/Bhsa/\" title=\"bhsa API documentation\">bhsa API</a> <a target=\"_blank\" href=\"https://dans-labs.github.io/text-fabric/Api/General/\" title=\"text-fabric-api\">Text-Fabric API 7.1.1</a> <a target=\"_blank\" href=\"https://dans-labs.github.io/text-fabric/Search/#search-templates\" title=\"Search Templates Introduction and Reference\">Search Reference</a>"
      ],
      "text/plain": [
       "<IPython.core.display.Markdown object>"
      ]
     },
     "metadata": {},
     "output_type": "display_data"
    },
    {
     "data": {
      "text/html": [
       "<details open><summary><b>Loaded features</b>:</summary>\n",
       "<p><b>BHSA = Biblia Hebraica Stuttgartensia Amstelodamensis</b>: <a target=\"_blank\" href=\"https://etcbc.github.io/bhsa/features/hebrew/c/book.html\" title=\"/Users/dirk/text-fabric-data/etcbc/bhsa/tf/c/book.tf\">book</a>  <a target=\"_blank\" href=\"https://etcbc.github.io/bhsa/features/hebrew/c/book@am.html\" title=\"/Users/dirk/text-fabric-data/etcbc/bhsa/tf/c/book@am.tf\">book@ll</a>  <a target=\"_blank\" href=\"https://etcbc.github.io/bhsa/features/hebrew/c/chapter.html\" title=\"/Users/dirk/text-fabric-data/etcbc/bhsa/tf/c/chapter.tf\">chapter</a>  <a target=\"_blank\" href=\"https://etcbc.github.io/bhsa/features/hebrew/c/code.html\" title=\"/Users/dirk/text-fabric-data/etcbc/bhsa/tf/c/code.tf\">code</a>  <a target=\"_blank\" href=\"https://etcbc.github.io/bhsa/features/hebrew/c/det.html\" title=\"/Users/dirk/text-fabric-data/etcbc/bhsa/tf/c/det.tf\">det</a>  <a target=\"_blank\" href=\"https://etcbc.github.io/bhsa/features/hebrew/c/freq_lex.html\" title=\"/Users/dirk/text-fabric-data/etcbc/bhsa/tf/c/freq_lex.tf\">freq_lex</a>  <a target=\"_blank\" href=\"https://etcbc.github.io/bhsa/features/hebrew/c/function.html\" title=\"/Users/dirk/text-fabric-data/etcbc/bhsa/tf/c/function.tf\">function</a>  <a target=\"_blank\" href=\"https://etcbc.github.io/bhsa/features/hebrew/c/g_word.html\" title=\"/Users/dirk/text-fabric-data/etcbc/bhsa/tf/c/g_word.tf\">g_word</a>  <a target=\"_blank\" href=\"https://etcbc.github.io/bhsa/features/hebrew/c/g_word_utf8.html\" title=\"/Users/dirk/text-fabric-data/etcbc/bhsa/tf/c/g_word_utf8.tf\">g_word_utf8</a>  <a target=\"_blank\" href=\"https://etcbc.github.io/bhsa/features/hebrew/c/gloss.html\" title=\"/Users/dirk/text-fabric-data/etcbc/bhsa/tf/c/gloss.tf\">gloss</a>  <a target=\"_blank\" href=\"https://etcbc.github.io/bhsa/features/hebrew/c/gn.html\" title=\"/Users/dirk/text-fabric-data/etcbc/bhsa/tf/c/gn.tf\">gn</a>  <a target=\"_blank\" href=\"https://etcbc.github.io/bhsa/features/hebrew/c/label.html\" title=\"/Users/dirk/text-fabric-data/etcbc/bhsa/tf/c/label.tf\">label</a>  <a target=\"_blank\" href=\"https://etcbc.github.io/bhsa/features/hebrew/c/language.html\" title=\"/Users/dirk/text-fabric-data/etcbc/bhsa/tf/c/language.tf\">language</a>  <a target=\"_blank\" href=\"https://etcbc.github.io/bhsa/features/hebrew/c/lex.html\" title=\"/Users/dirk/text-fabric-data/etcbc/bhsa/tf/c/lex.tf\">lex</a>  <a target=\"_blank\" href=\"https://etcbc.github.io/bhsa/features/hebrew/c/lex_utf8.html\" title=\"/Users/dirk/text-fabric-data/etcbc/bhsa/tf/c/lex_utf8.tf\">lex_utf8</a>  <a target=\"_blank\" href=\"https://etcbc.github.io/bhsa/features/hebrew/c/ls.html\" title=\"/Users/dirk/text-fabric-data/etcbc/bhsa/tf/c/ls.tf\">ls</a>  <a target=\"_blank\" href=\"https://etcbc.github.io/bhsa/features/hebrew/c/nametype.html\" title=\"/Users/dirk/text-fabric-data/etcbc/bhsa/tf/c/nametype.tf\">nametype</a>  <a target=\"_blank\" href=\"https://etcbc.github.io/bhsa/features/hebrew/c/nu.html\" title=\"/Users/dirk/text-fabric-data/etcbc/bhsa/tf/c/nu.tf\">nu</a>  <a target=\"_blank\" href=\"https://etcbc.github.io/bhsa/features/hebrew/c/number.html\" title=\"/Users/dirk/text-fabric-data/etcbc/bhsa/tf/c/number.tf\">number</a>  <a target=\"_blank\" href=\"https://etcbc.github.io/bhsa/features/hebrew/c/otype.html\" title=\"/Users/dirk/text-fabric-data/etcbc/bhsa/tf/c/otype.tf\">otype</a>  <a target=\"_blank\" href=\"https://etcbc.github.io/bhsa/features/hebrew/c/pdp.html\" title=\"/Users/dirk/text-fabric-data/etcbc/bhsa/tf/c/pdp.tf\">pdp</a>  <a target=\"_blank\" href=\"https://etcbc.github.io/bhsa/features/hebrew/c/prs_gn.html\" title=\"/Users/dirk/text-fabric-data/etcbc/bhsa/tf/c/prs_gn.tf\">prs_gn</a>  <a target=\"_blank\" href=\"https://etcbc.github.io/bhsa/features/hebrew/c/prs_nu.html\" title=\"/Users/dirk/text-fabric-data/etcbc/bhsa/tf/c/prs_nu.tf\">prs_nu</a>  <a target=\"_blank\" href=\"https://etcbc.github.io/bhsa/features/hebrew/c/prs_ps.html\" title=\"/Users/dirk/text-fabric-data/etcbc/bhsa/tf/c/prs_ps.tf\">prs_ps</a>  <a target=\"_blank\" href=\"https://etcbc.github.io/bhsa/features/hebrew/c/ps.html\" title=\"/Users/dirk/text-fabric-data/etcbc/bhsa/tf/c/ps.tf\">ps</a>  <a target=\"_blank\" href=\"https://etcbc.github.io/bhsa/features/hebrew/c/qere.html\" title=\"/Users/dirk/text-fabric-data/etcbc/bhsa/tf/c/qere.tf\">qere</a>  <a target=\"_blank\" href=\"https://etcbc.github.io/bhsa/features/hebrew/c/qere_trailer.html\" title=\"/Users/dirk/text-fabric-data/etcbc/bhsa/tf/c/qere_trailer.tf\">qere_trailer</a>  <a target=\"_blank\" href=\"https://etcbc.github.io/bhsa/features/hebrew/c/qere_trailer_utf8.html\" title=\"/Users/dirk/text-fabric-data/etcbc/bhsa/tf/c/qere_trailer_utf8.tf\">qere_trailer_utf8</a>  <a target=\"_blank\" href=\"https://etcbc.github.io/bhsa/features/hebrew/c/qere_utf8.html\" title=\"/Users/dirk/text-fabric-data/etcbc/bhsa/tf/c/qere_utf8.tf\">qere_utf8</a>  <a target=\"_blank\" href=\"https://etcbc.github.io/bhsa/features/hebrew/c/rank_lex.html\" title=\"/Users/dirk/text-fabric-data/etcbc/bhsa/tf/c/rank_lex.tf\">rank_lex</a>  <a target=\"_blank\" href=\"https://etcbc.github.io/bhsa/features/hebrew/c/rela.html\" title=\"/Users/dirk/text-fabric-data/etcbc/bhsa/tf/c/rela.tf\">rela</a>  <a target=\"_blank\" href=\"https://etcbc.github.io/bhsa/features/hebrew/c/sp.html\" title=\"/Users/dirk/text-fabric-data/etcbc/bhsa/tf/c/sp.tf\">sp</a>  <a target=\"_blank\" href=\"https://etcbc.github.io/bhsa/features/hebrew/c/st.html\" title=\"/Users/dirk/text-fabric-data/etcbc/bhsa/tf/c/st.tf\">st</a>  <a target=\"_blank\" href=\"https://etcbc.github.io/bhsa/features/hebrew/c/trailer.html\" title=\"/Users/dirk/text-fabric-data/etcbc/bhsa/tf/c/trailer.tf\">trailer</a>  <a target=\"_blank\" href=\"https://etcbc.github.io/bhsa/features/hebrew/c/trailer_utf8.html\" title=\"/Users/dirk/text-fabric-data/etcbc/bhsa/tf/c/trailer_utf8.tf\">trailer_utf8</a>  <a target=\"_blank\" href=\"https://etcbc.github.io/bhsa/features/hebrew/c/txt.html\" title=\"/Users/dirk/text-fabric-data/etcbc/bhsa/tf/c/txt.tf\">txt</a>  <a target=\"_blank\" href=\"https://etcbc.github.io/bhsa/features/hebrew/c/typ.html\" title=\"/Users/dirk/text-fabric-data/etcbc/bhsa/tf/c/typ.tf\">typ</a>  <a target=\"_blank\" href=\"https://etcbc.github.io/bhsa/features/hebrew/c/verse.html\" title=\"/Users/dirk/text-fabric-data/etcbc/bhsa/tf/c/verse.tf\">verse</a>  <a target=\"_blank\" href=\"https://etcbc.github.io/bhsa/features/hebrew/c/voc_lex.html\" title=\"/Users/dirk/text-fabric-data/etcbc/bhsa/tf/c/voc_lex.tf\">voc_lex</a>  <a target=\"_blank\" href=\"https://etcbc.github.io/bhsa/features/hebrew/c/voc_lex_utf8.html\" title=\"/Users/dirk/text-fabric-data/etcbc/bhsa/tf/c/voc_lex_utf8.tf\">voc_lex_utf8</a>  <a target=\"_blank\" href=\"https://etcbc.github.io/bhsa/features/hebrew/c/vs.html\" title=\"/Users/dirk/text-fabric-data/etcbc/bhsa/tf/c/vs.tf\">vs</a>  <a target=\"_blank\" href=\"https://etcbc.github.io/bhsa/features/hebrew/c/vt.html\" title=\"/Users/dirk/text-fabric-data/etcbc/bhsa/tf/c/vt.tf\">vt</a>  <b><i><a target=\"_blank\" href=\"https://etcbc.github.io/bhsa/features/hebrew/c/mother.html\" title=\"/Users/dirk/text-fabric-data/etcbc/bhsa/tf/c/mother.tf\">mother</a></i></b>  <b><i><a target=\"_blank\" href=\"https://etcbc.github.io/bhsa/features/hebrew/c/oslots.html\" title=\"/Users/dirk/text-fabric-data/etcbc/bhsa/tf/c/oslots.tf\">oslots</a></i></b> </p><p><b>Parallel Passages</b>: <b><i><a target=\"_blank\" href=\"https://nbviewer.jupyter.org/github/etcbc/parallels/blob/master/programs/parallels.ipynb\" title=\"/Users/dirk/text-fabric-data/etcbc/parallels/tf/c/crossref.tf\">crossref</a></i></b> </p><p><b>Phonetic Transcriptions</b>: <a target=\"_blank\" href=\"https://nbviewer.jupyter.org/github/etcbc/phono/blob/master/programs/phono.ipynb\" title=\"/Users/dirk/text-fabric-data/etcbc/phono/tf/c/phono.tf\">phono</a>  <a target=\"_blank\" href=\"https://nbviewer.jupyter.org/github/etcbc/phono/blob/master/programs/phono.ipynb\" title=\"/Users/dirk/text-fabric-data/etcbc/phono/tf/c/phono_trailer.tf\">phono_trailer</a> </p></details>"
      ],
      "text/plain": [
       "<IPython.core.display.HTML object>"
      ]
     },
     "metadata": {},
     "output_type": "display_data"
    },
    {
     "data": {
      "text/html": [
       "\n",
       "<style>\n",
       "@font-face {\n",
       "  font-family: \"Ezra SIL\";\n",
       "  src: url('https://github.com/Dans-labs/text-fabric/blob/master/tf/server/static/fonts/SILEOT.ttf?raw=true');\n",
       "  src: url('https://github.com/Dans-labs/text-fabric/blob/master/tf/server/static/fonts/SILEOT.woff?raw=true') format('woff');\n",
       "}\n",
       "</style>\n",
       "\n",
       "<style type=\"text/css\">\n",
       ".features {\n",
       "    font-family: monospace;\n",
       "    font-size: medium;\n",
       "    font-weight: bold;\n",
       "    color: #0a6611;\n",
       "    display: flex;\n",
       "    flex-flow: column nowrap;\n",
       "    padding: 0.1em;\n",
       "    margin: 0.1em;\n",
       "    direction: ltr;\n",
       "}\n",
       ".features div,.features span {\n",
       "    padding: 0;\n",
       "    margin: -0.1rem 0;\n",
       "}\n",
       ".features .f {\n",
       "    font-family: sans-serif;\n",
       "    font-size: x-small;\n",
       "    font-weight: normal;\n",
       "    color: #5555bb;\n",
       "}\n",
       ".features .xft {\n",
       "  color: #000000;\n",
       "  background-color: #eeeeee;\n",
       "  font-size: medium;\n",
       "  margin: 0.1em 0em;\n",
       "}\n",
       ".features .xft .f {\n",
       "  color: #000000;\n",
       "  background-color: #eeeeee;\n",
       "  font-style: italic;\n",
       "  font-size: small;\n",
       "  font-weight: normal;\n",
       "}\n",
       ".verse {\n",
       "    display: flex;\n",
       "    flex-flow: row wrap;\n",
       "    direction: rtl;\n",
       "}\n",
       ".vl {\n",
       "    display: flex;\n",
       "    flex-flow: column nowrap;\n",
       "    justify-content: flex-end;\n",
       "    align-items: flex-end;\n",
       "    direction: ltr;\n",
       "    width: 100%;\n",
       "}\n",
       ".outeritem {\n",
       "    display: flex;\n",
       "    flex-flow: row wrap;\n",
       "    direction: rtl;\n",
       "}\n",
       ".sentence,.clause,.phrase {\n",
       "    margin-top: -1.2em;\n",
       "    margin-left: 1em;\n",
       "    background: #ffffff none repeat scroll 0 0;\n",
       "    padding: 0 0.3em;\n",
       "    border-style: solid;\n",
       "    border-radius: 0.2em;\n",
       "    font-size: small;\n",
       "    display: block;\n",
       "    width: fit-content;\n",
       "    max-width: fit-content;\n",
       "    direction: ltr;\n",
       "}\n",
       ".atoms {\n",
       "    display: flex;\n",
       "    flex-flow: row wrap;\n",
       "    margin: 0.3em;\n",
       "    padding: 0.3em;\n",
       "    direction: rtl;\n",
       "    background-color: #ffffff;\n",
       "}\n",
       ".satom,.catom,.patom {\n",
       "    margin: 0.3em;\n",
       "    padding: 0.3em;\n",
       "    border-radius: 0.3em;\n",
       "    border-style: solid;\n",
       "    display: flex;\n",
       "    flex-flow: column nowrap;\n",
       "    direction: rtl;\n",
       "    background-color: #ffffff;\n",
       "}\n",
       ".sentence {\n",
       "    border-color: #aa3333;\n",
       "    border-width: 1px;\n",
       "}\n",
       ".clause {\n",
       "    border-color: #aaaa33;\n",
       "    border-width: 1px;\n",
       "}\n",
       ".phrase {\n",
       "    border-color: #33aaaa;\n",
       "    border-width: 1px;\n",
       "}\n",
       ".satom {\n",
       "    border-color: #aa3333;\n",
       "    border-width: 4px;\n",
       "}\n",
       ".catom {\n",
       "    border-color: #aaaa33;\n",
       "    border-width: 3px;\n",
       "}\n",
       ".patom {\n",
       "    border-color: #33aaaa;\n",
       "    border-width: 3px;\n",
       "}\n",
       ".word {\n",
       "    padding: 0.1em;\n",
       "    margin: 0.1em;\n",
       "    border-radius: 0.1em;\n",
       "    border: 1px solid #cccccc;\n",
       "    display: flex;\n",
       "    flex-flow: column nowrap;\n",
       "    direction: rtl;\n",
       "    background-color: #ffffff;\n",
       "}\n",
       ".lextp {\n",
       "    padding: 0.1em;\n",
       "    margin: 0.1em;\n",
       "    border-radius: 0.1em;\n",
       "    border: 2px solid #888888;\n",
       "    width: fit-content;\n",
       "    display: flex;\n",
       "    flex-flow: column nowrap;\n",
       "    direction: rtl;\n",
       "    background-color: #ffffff;\n",
       "}\n",
       ".occs {\n",
       "    font-size: x-small;\n",
       "}\n",
       ".satom.l,.catom.l,.patom.l {\n",
       "    border-left-style: dotted\n",
       "}\n",
       ".satom.r,.catom.r,.patom.r {\n",
       "    border-right-style: dotted\n",
       "}\n",
       ".satom.L,.catom.L,.patom.L {\n",
       "    border-left-style: none\n",
       "}\n",
       ".satom.R,.catom.R,.patom.R {\n",
       "    border-right-style: none\n",
       "}\n",
       ".tr,.tr a:visited,.tr a:link {\n",
       "    font-family: sans-serif;\n",
       "    font-size: large;\n",
       "    color: #000044;\n",
       "    direction: ltr;\n",
       "    text-decoration: none;\n",
       "}\n",
       ".trb,.trb a:visited,.trb a:link {\n",
       "    font-family: sans-serif;\n",
       "    font-size: normal;\n",
       "    direction: ltr;\n",
       "    text-decoration: none;\n",
       "}\n",
       ".prb,.prb a:visited,.prb a:link {\n",
       "    font-family: sans-serif;\n",
       "    font-size: large;\n",
       "    direction: ltr;\n",
       "    text-decoration: none;\n",
       "}\n",
       ".h,.h a:visited,.h a:link {\n",
       "    font-family: \"Ezra SIL\", \"SBL Hebrew\", sans-serif;\n",
       "    font-size: large;\n",
       "    color: #000044;\n",
       "    direction: rtl;\n",
       "    text-decoration: none;\n",
       "}\n",
       ".hb,.hb a:visited,.hb a:link {\n",
       "    font-family: \"Ezra SIL\", \"SBL Hebrew\", sans-serif;\n",
       "    font-size: large;\n",
       "    line-height: 1.8;\n",
       "    direction: rtl;\n",
       "    text-decoration: none;\n",
       "}\n",
       ".vn {\n",
       "  font-size: small !important;\n",
       "  padding-right: 1em;\n",
       "}\n",
       ".rela,.function,.typ {\n",
       "    font-family: monospace;\n",
       "    font-size: small;\n",
       "    color: #0000bb;\n",
       "}\n",
       ".pdp,.pdp a:visited,.pdp a:link {\n",
       "    font-family: monospace;\n",
       "    font-size: medium;\n",
       "    color: #0000bb;\n",
       "    text-decoration: none;\n",
       "}\n",
       ".voc_lex {\n",
       "    font-family: monospace;\n",
       "    font-size: medium;\n",
       "    color: #0000bb;\n",
       "}\n",
       ".vs {\n",
       "    font-family: monospace;\n",
       "    font-size: medium;\n",
       "    font-weight: bold;\n",
       "    color: #0000bb;\n",
       "}\n",
       ".vt {\n",
       "    font-family: monospace;\n",
       "    font-size: medium;\n",
       "    font-weight: bold;\n",
       "    color: #0000bb;\n",
       "}\n",
       ".gloss {\n",
       "    font-family: sans-serif;\n",
       "    font-size: small;\n",
       "    font-weight: normal;\n",
       "    color: #444444;\n",
       "}\n",
       ".vrs {\n",
       "    font-family: sans-serif;\n",
       "    font-size: small;\n",
       "    font-weight: bold;\n",
       "    color: #444444;\n",
       "}\n",
       ".nd {\n",
       "    font-family: monospace;\n",
       "    font-size: x-small;\n",
       "    color: #999999;\n",
       "}\n",
       ".hl {\n",
       "    background-color: #ffee66;\n",
       "}\n",
       "</style>\n"
      ],
      "text/plain": [
       "<IPython.core.display.HTML object>"
      ]
     },
     "metadata": {},
     "output_type": "display_data"
    },
    {
     "name": "stdout",
     "output_type": "stream",
     "text": [
      "WARNING: API member \"sortKeyTuple\" not documented\n"
     ]
    },
    {
     "data": {
      "text/html": [
       "<details open><summary><b>API members</b>:</summary>\n",
       "<a target=\"_blank\" href=\"https://dans-labs.github.io/text-fabric/Api/General/#computed-data\" title=\"doc\">C Computed</a>, <a target=\"_blank\" href=\"https://dans-labs.github.io/text-fabric/Api/General/#computed-data\" title=\"doc\">Call AllComputeds</a>, <a target=\"_blank\" href=\"https://dans-labs.github.io/text-fabric/Api/General/#computed-data\" title=\"doc\">Cs ComputedString</a><br/>\n",
       "<a target=\"_blank\" href=\"https://dans-labs.github.io/text-fabric/Api/General/#edge-features\" title=\"doc\">E Edge</a>, <a target=\"_blank\" href=\"https://dans-labs.github.io/text-fabric/Api/General/#edge-features\" title=\"doc\">Eall AllEdges</a>, <a target=\"_blank\" href=\"https://dans-labs.github.io/text-fabric/Api/General/#edge-features\" title=\"doc\">Es EdgeString</a><br/>\n",
       "<a target=\"_blank\" href=\"https://dans-labs.github.io/text-fabric/Api/General/#loading\" title=\"doc\">TF</a>, <a target=\"_blank\" href=\"https://dans-labs.github.io/text-fabric/Api/General/#loading\" title=\"doc\">ensureLoaded</a>, <a target=\"_blank\" href=\"https://dans-labs.github.io/text-fabric/Api/General/#loading\" title=\"doc\">ignored</a>, <a target=\"_blank\" href=\"https://dans-labs.github.io/text-fabric/Api/General/#loading\" title=\"doc\">loadLog</a><br/>\n",
       "<a target=\"_blank\" href=\"https://dans-labs.github.io/text-fabric/Api/General/#locality\" title=\"doc\">L Locality</a><br/>\n",
       "<a target=\"_blank\" href=\"https://dans-labs.github.io/text-fabric/Api/General/#messaging\" title=\"doc\">cache</a>, <a target=\"_blank\" href=\"https://dans-labs.github.io/text-fabric/Api/General/#messaging\" title=\"doc\">error</a>, <a target=\"_blank\" href=\"https://dans-labs.github.io/text-fabric/Api/General/#messaging\" title=\"doc\">indent</a>, <a target=\"_blank\" href=\"https://dans-labs.github.io/text-fabric/Api/General/#messaging\" title=\"doc\">info</a>, <a target=\"_blank\" href=\"https://dans-labs.github.io/text-fabric/Api/General/#messaging\" title=\"doc\">reset</a><br/>\n",
       "<a target=\"_blank\" href=\"https://dans-labs.github.io/text-fabric/Api/General/#navigating-nodes\" title=\"doc\">N Nodes</a>, <a target=\"_blank\" href=\"https://dans-labs.github.io/text-fabric/Api/General/#navigating-nodes\" title=\"doc\">sortKey</a>, <a target=\"_blank\" href=\"https://dans-labs.github.io/text-fabric/Api/General/#navigating-nodes\" title=\"doc\">otypeRank</a>, <a target=\"_blank\" href=\"https://dans-labs.github.io/text-fabric/Api/General/#navigating-nodes\" title=\"doc\">sortNodes</a><br/>\n",
       "<a target=\"_blank\" href=\"https://dans-labs.github.io/text-fabric/Api/General/#node-features\" title=\"doc\">F Feature</a>, <a target=\"_blank\" href=\"https://dans-labs.github.io/text-fabric/Api/General/#node-features\" title=\"doc\">Fall AllFeatures</a>, <a target=\"_blank\" href=\"https://dans-labs.github.io/text-fabric/Api/General/#node-features\" title=\"doc\">Fs FeatureString</a><br/>\n",
       "<a target=\"_blank\" href=\"https://dans-labs.github.io/text-fabric/Api/General/#search\" title=\"doc\">S Search</a><br/>\n",
       "<a target=\"_blank\" href=\"https://dans-labs.github.io/text-fabric/Api/General/#text\" title=\"doc\">T Text</a></details>"
      ],
      "text/plain": [
       "<IPython.core.display.HTML object>"
      ]
     },
     "metadata": {},
     "output_type": "display_data"
    }
   ],
   "source": [
    "A = use(\"ETCBC/bhsa\", hoist=globals())"
   ]
  },
  {
   "cell_type": "code",
   "execution_count": 4,
   "metadata": {},
   "outputs": [],
   "source": [
    "def desc(r):\n",
    "    return -r[0]"
   ]
  },
  {
   "cell_type": "code",
   "execution_count": 5,
   "metadata": {},
   "outputs": [],
   "source": [
    "q = \"\"\"\n",
    "verse\n",
    "  clause\n",
    "    =: phrase function=Pred\n",
    "      word nu=pl\n",
    "    <: phrase function=Subj\n",
    "      word nu=sg\n",
    "\"\"\""
   ]
  },
  {
   "cell_type": "code",
   "execution_count": 6,
   "metadata": {},
   "outputs": [
    {
     "name": "stdout",
     "output_type": "stream",
     "text": [
      "  1.49s 154 results\n"
     ]
    },
    {
     "data": {
      "text/markdown": [
       "n | verse | clause | phrase | word | phrase | word\n",
       "--- | --- | --- | --- | --- | --- | ---\n",
       "1|<span class=\"hb\"><a class=\"vn\" href=\"https://shebanq.ancient-data.org/hebrew/text?book=Chronica_II&chapter=26&verse=2&version=c&mr=m&qw=q&tp=txt_p&tr=hb&wget=v&qget=v&nget=vt\" title=\"2_Chronicles 26:2\" sec=\"2_Chronicles 26:2\">2_Chronicles 26:2</a>ה֚וּא בָּנָ֣ה אֶת־אֵילֹ֔ות וַיְשִׁיבֶ֖הָ לִֽיהוּדָ֑ה אַחֲרֵ֥י שְׁכַֽב־הַמֶּ֖לֶךְ עִם־אֲבֹתָֽיו׃ פ </span>|<span class=\"hb\">אַחֲרֵ֥י שְׁכַֽב־הַמֶּ֖לֶךְ עִם־אֲבֹתָֽיו׃ פ </span>|<span class=\"hb\">אַחֲרֵ֥י שְׁכַֽב־</span>|<span class=\"hb\">אַחֲרֵ֥י </span>|<span class=\"hb\">הַמֶּ֖לֶךְ </span>|<span class=\"hb\">מֶּ֖לֶךְ </span>\n",
       "2|<span class=\"hb\"><a class=\"vn\" href=\"https://shebanq.ancient-data.org/hebrew/text?book=Chronica_II&chapter=25&verse=14&version=c&mr=m&qw=q&tp=txt_p&tr=hb&wget=v&qget=v&nget=vt\" title=\"2_Chronicles 25:14\" sec=\"2_Chronicles 25:14\">2_Chronicles 25:14</a>וַיְהִ֗י אַחֲרֵ֨י בֹ֤וא אֲמַצְיָ֨הוּ֙ מֵֽהַכֹּ֣ות אֶת־אֲדֹומִ֔ים וַיָּבֵ֗א אֶת־אֱלֹהֵי֙ בְּנֵ֣י שֵׂעִ֔יר וַיַּֽעֲמִידֵ֥ם לֹ֖ו לֵאלֹהִ֑ים וְלִפְנֵיהֶ֥ם יִֽשְׁתַּחֲוֶ֖ה וְלָהֶ֥ם יְקַטֵּֽר׃ </span>|<span class=\"hb\">אַחֲרֵ֨י בֹ֤וא אֲמַצְיָ֨הוּ֙ </span>|<span class=\"hb\">אַחֲרֵ֨י בֹ֤וא </span>|<span class=\"hb\">אַחֲרֵ֨י </span>|<span class=\"hb\">אֲמַצְיָ֨הוּ֙ </span>|<span class=\"hb\">אֲמַצְיָ֨הוּ֙ </span>\n",
       "3|<span class=\"hb\"><a class=\"vn\" href=\"https://shebanq.ancient-data.org/hebrew/text?book=Chronica_II&chapter=20&verse=1&version=c&mr=m&qw=q&tp=txt_p&tr=hb&wget=v&qget=v&nget=vt\" title=\"2_Chronicles 20:1\" sec=\"2_Chronicles 20:1\">2_Chronicles 20:1</a>וַיְהִ֣י אַֽחֲרֵיכֵ֡ן בָּ֣אוּ בְנֵי־מֹואָב֩ וּבְנֵ֨י עַמֹּ֜ון וְעִמָּהֶ֧ם׀ מֵֽהָעַמֹּונִ֛ים עַל־יְהֹושָׁפָ֖ט לַמִּלְחָמָֽה׃ </span>|<span class=\"hb\">בָּ֣אוּ בְנֵי־מֹואָב֩ וּבְנֵ֨י עַמֹּ֜ון עַל־יְהֹושָׁפָ֖ט לַמִּלְחָמָֽה׃ </span>|<span class=\"hb\">בָּ֣אוּ </span>|<span class=\"hb\">בָּ֣אוּ </span>|<span class=\"hb\">בְנֵי־מֹואָב֩ וּבְנֵ֨י עַמֹּ֜ון </span>|<span class=\"hb\">עַמֹּ֜ון </span>\n",
       "4|<span class=\"hb\"><a class=\"vn\" href=\"https://shebanq.ancient-data.org/hebrew/text?book=Chronica_II&chapter=20&verse=1&version=c&mr=m&qw=q&tp=txt_p&tr=hb&wget=v&qget=v&nget=vt\" title=\"2_Chronicles 20:1\" sec=\"2_Chronicles 20:1\">2_Chronicles 20:1</a>וַיְהִ֣י אַֽחֲרֵיכֵ֡ן בָּ֣אוּ בְנֵי־מֹואָב֩ וּבְנֵ֨י עַמֹּ֜ון וְעִמָּהֶ֧ם׀ מֵֽהָעַמֹּונִ֛ים עַל־יְהֹושָׁפָ֖ט לַמִּלְחָמָֽה׃ </span>|<span class=\"hb\">בָּ֣אוּ בְנֵי־מֹואָב֩ וּבְנֵ֨י עַמֹּ֜ון עַל־יְהֹושָׁפָ֖ט לַמִּלְחָמָֽה׃ </span>|<span class=\"hb\">בָּ֣אוּ </span>|<span class=\"hb\">בָּ֣אוּ </span>|<span class=\"hb\">בְנֵי־מֹואָב֩ וּבְנֵ֨י עַמֹּ֜ון </span>|<span class=\"hb\">מֹואָב֩ </span>\n",
       "5|<span class=\"hb\"><a class=\"vn\" href=\"https://shebanq.ancient-data.org/hebrew/text?book=Chronica_I&chapter=1&verse=43&version=c&mr=m&qw=q&tp=txt_p&tr=hb&wget=v&qget=v&nget=vt\" title=\"1_Chronicles 1:43\" sec=\"1_Chronicles 1:43\">1_Chronicles 1:43</a>וְאֵ֣לֶּה הַמְּלָכִ֗ים אֲשֶׁ֤ר מָלְכוּ֙ בְּאֶ֣רֶץ אֱדֹ֔ום לִפְנֵ֥י מְלָךְ־מֶ֖לֶךְ לִבְנֵ֣י יִשְׂרָאֵ֑ל בֶּ֚לַע בֶּן־בְּעֹ֔ור וְשֵׁ֥ם עִירֹ֖ו דִּנְהָֽבָה׃ </span>|<span class=\"hb\">לִפְנֵ֥י מְלָךְ־מֶ֖לֶךְ לִבְנֵ֣י יִשְׂרָאֵ֑ל </span>|<span class=\"hb\">לִפְנֵ֥י מְלָךְ־</span>|<span class=\"hb\">פְנֵ֥י </span>|<span class=\"hb\">מֶ֖לֶךְ </span>|<span class=\"hb\">מֶ֖לֶךְ </span>\n",
       "6|<span class=\"hb\"><a class=\"vn\" href=\"https://shebanq.ancient-data.org/hebrew/text?book=Daniel&chapter=6&verse=8&version=c&mr=m&qw=q&tp=txt_p&tr=hb&wget=v&qget=v&nget=vt\" title=\"Daniel 6:8\" sec=\"Daniel 6:8\">Daniel 6:8</a>אִתְיָעַ֜טוּ כֹּ֣ל׀ סָרְכֵ֣י מַלְכוּתָ֗א סִגְנַיָּ֤א וַֽאֲחַשְׁדַּרְפְּנַיָּא֙ הַדָּֽבְרַיָּ֣א וּפַחֲוָתָ֔א לְקַיָּמָ֤ה קְיָם֙ מַלְכָּ֔א וּלְתַקָּפָ֖ה אֱסָ֑ר דִּ֣י כָל־דִּֽי־יִבְעֵ֣ה בָ֠עוּ מִן־כָּל־אֱלָ֨הּ וֶֽאֱנָ֜שׁ עַד־יֹומִ֣ין תְּלָתִ֗ין לָהֵן֙ מִנָּ֣ךְ מַלְכָּ֔א יִתְרְמֵ֕א לְגֹ֖ב אַרְיָוָתָֽא׃ </span>|<span class=\"hb\">אִתְיָעַ֜טוּ כֹּ֣ל׀ סָרְכֵ֣י מַלְכוּתָ֗א סִגְנַיָּ֤א וַֽאֲחַשְׁדַּרְפְּנַיָּא֙ הַדָּֽבְרַיָּ֣א וּפַחֲוָתָ֔א </span>|<span class=\"hb\">אִתְיָעַ֜טוּ </span>|<span class=\"hb\">אִתְיָעַ֜טוּ </span>|<span class=\"hb\">כֹּ֣ל׀ סָרְכֵ֣י מַלְכוּתָ֗א סִגְנַיָּ֤א וַֽאֲחַשְׁדַּרְפְּנַיָּא֙ הַדָּֽבְרַיָּ֣א וּפַחֲוָתָ֔א </span>|<span class=\"hb\">כֹּ֣ל׀ </span>\n",
       "7|<span class=\"hb\"><a class=\"vn\" href=\"https://shebanq.ancient-data.org/hebrew/text?book=Daniel&chapter=6&verse=8&version=c&mr=m&qw=q&tp=txt_p&tr=hb&wget=v&qget=v&nget=vt\" title=\"Daniel 6:8\" sec=\"Daniel 6:8\">Daniel 6:8</a>אִתְיָעַ֜טוּ כֹּ֣ל׀ סָרְכֵ֣י מַלְכוּתָ֗א סִגְנַיָּ֤א וַֽאֲחַשְׁדַּרְפְּנַיָּא֙ הַדָּֽבְרַיָּ֣א וּפַחֲוָתָ֔א לְקַיָּמָ֤ה קְיָם֙ מַלְכָּ֔א וּלְתַקָּפָ֖ה אֱסָ֑ר דִּ֣י כָל־דִּֽי־יִבְעֵ֣ה בָ֠עוּ מִן־כָּל־אֱלָ֨הּ וֶֽאֱנָ֜שׁ עַד־יֹומִ֣ין תְּלָתִ֗ין לָהֵן֙ מִנָּ֣ךְ מַלְכָּ֔א יִתְרְמֵ֕א לְגֹ֖ב אַרְיָוָתָֽא׃ </span>|<span class=\"hb\">אִתְיָעַ֜טוּ כֹּ֣ל׀ סָרְכֵ֣י מַלְכוּתָ֗א סִגְנַיָּ֤א וַֽאֲחַשְׁדַּרְפְּנַיָּא֙ הַדָּֽבְרַיָּ֣א וּפַחֲוָתָ֔א </span>|<span class=\"hb\">אִתְיָעַ֜טוּ </span>|<span class=\"hb\">אִתְיָעַ֜טוּ </span>|<span class=\"hb\">כֹּ֣ל׀ סָרְכֵ֣י מַלְכוּתָ֗א סִגְנַיָּ֤א וַֽאֲחַשְׁדַּרְפְּנַיָּא֙ הַדָּֽבְרַיָּ֣א וּפַחֲוָתָ֔א </span>|<span class=\"hb\">מַלְכוּתָ֗א </span>\n",
       "8|<span class=\"hb\"><a class=\"vn\" href=\"https://shebanq.ancient-data.org/hebrew/text?book=Daniel&chapter=3&verse=16&version=c&mr=m&qw=q&tp=txt_p&tr=hb&wget=v&qget=v&nget=vt\" title=\"Daniel 3:16\" sec=\"Daniel 3:16\">Daniel 3:16</a>עֲנֹ֗ו שַׁדְרַ֤ךְ מֵישַׁךְ֙ וַעֲבֵ֣ד נְגֹ֔ו וְאָמְרִ֖ין לְמַלְכָּ֑א נְבֽוּכַדְנֶצַּ֔ר לָֽא־חַשְׁחִ֨ין אֲנַ֧חְנָה עַל־דְּנָ֛ה פִּתְגָ֖ם לַהֲתָבוּתָֽךְ׃ </span>|<span class=\"hb\">עֲנֹ֗ו שַׁדְרַ֤ךְ מֵישַׁךְ֙ וַעֲבֵ֣ד נְגֹ֔ו </span>|<span class=\"hb\">עֲנֹ֗ו </span>|<span class=\"hb\">עֲנֹ֗ו </span>|<span class=\"hb\">שַׁדְרַ֤ךְ מֵישַׁךְ֙ וַעֲבֵ֣ד נְגֹ֔ו </span>|<span class=\"hb\">שַׁדְרַ֤ךְ </span>\n",
       "9|<span class=\"hb\"><a class=\"vn\" href=\"https://shebanq.ancient-data.org/hebrew/text?book=Daniel&chapter=3&verse=16&version=c&mr=m&qw=q&tp=txt_p&tr=hb&wget=v&qget=v&nget=vt\" title=\"Daniel 3:16\" sec=\"Daniel 3:16\">Daniel 3:16</a>עֲנֹ֗ו שַׁדְרַ֤ךְ מֵישַׁךְ֙ וַעֲבֵ֣ד נְגֹ֔ו וְאָמְרִ֖ין לְמַלְכָּ֑א נְבֽוּכַדְנֶצַּ֔ר לָֽא־חַשְׁחִ֨ין אֲנַ֧חְנָה עַל־דְּנָ֛ה פִּתְגָ֖ם לַהֲתָבוּתָֽךְ׃ </span>|<span class=\"hb\">עֲנֹ֗ו שַׁדְרַ֤ךְ מֵישַׁךְ֙ וַעֲבֵ֣ד נְגֹ֔ו </span>|<span class=\"hb\">עֲנֹ֗ו </span>|<span class=\"hb\">עֲנֹ֗ו </span>|<span class=\"hb\">שַׁדְרַ֤ךְ מֵישַׁךְ֙ וַעֲבֵ֣ד נְגֹ֔ו </span>|<span class=\"hb\">מֵישַׁךְ֙ </span>\n",
       "10|<span class=\"hb\"><a class=\"vn\" href=\"https://shebanq.ancient-data.org/hebrew/text?book=Daniel&chapter=3&verse=16&version=c&mr=m&qw=q&tp=txt_p&tr=hb&wget=v&qget=v&nget=vt\" title=\"Daniel 3:16\" sec=\"Daniel 3:16\">Daniel 3:16</a>עֲנֹ֗ו שַׁדְרַ֤ךְ מֵישַׁךְ֙ וַעֲבֵ֣ד נְגֹ֔ו וְאָמְרִ֖ין לְמַלְכָּ֑א נְבֽוּכַדְנֶצַּ֔ר לָֽא־חַשְׁחִ֨ין אֲנַ֧חְנָה עַל־דְּנָ֛ה פִּתְגָ֖ם לַהֲתָבוּתָֽךְ׃ </span>|<span class=\"hb\">עֲנֹ֗ו שַׁדְרַ֤ךְ מֵישַׁךְ֙ וַעֲבֵ֣ד נְגֹ֔ו </span>|<span class=\"hb\">עֲנֹ֗ו </span>|<span class=\"hb\">עֲנֹ֗ו </span>|<span class=\"hb\">שַׁדְרַ֤ךְ מֵישַׁךְ֙ וַעֲבֵ֣ד נְגֹ֔ו </span>|<span class=\"hb\">עֲבֵ֣ד נְגֹ֔ו </span>"
      ],
      "text/plain": [
       "<IPython.core.display.Markdown object>"
      ]
     },
     "metadata": {},
     "output_type": "display_data"
    }
   ],
   "source": [
    "results = A.search(q, sort=desc)\n",
    "A.table(results, start=1, end=10)"
   ]
  },
  {
   "cell_type": "code",
   "execution_count": 7,
   "metadata": {},
   "outputs": [
    {
     "name": "stdout",
     "output_type": "stream",
     "text": [
      "  1.66s 154 results\n"
     ]
    },
    {
     "data": {
      "text/markdown": [
       "n | verse | clause | phrase | word | phrase | word\n",
       "--- | --- | --- | --- | --- | --- | ---\n",
       "1|<span class=\"hb\"><a class=\"vn\" href=\"https://shebanq.ancient-data.org/hebrew/text?book=Genesis&chapter=1&verse=9&version=c&mr=m&qw=q&tp=txt_p&tr=hb&wget=v&qget=v&nget=vt\" title=\"Genesis 1:9\" sec=\"Genesis 1:9\">Genesis 1:9</a>וַיֹּ֣אמֶר אֱלֹהִ֗ים יִקָּו֨וּ הַמַּ֜יִם מִתַּ֤חַת הַשָּׁמַ֨יִם֙ אֶל־מָקֹ֣ום אֶחָ֔ד וְתֵרָאֶ֖ה הַיַּבָּשָׁ֑ה וַֽיְהִי־כֵֽן׃ </span>|<span class=\"hb\">יִקָּו֨וּ הַמַּ֜יִם מִתַּ֤חַת הַשָּׁמַ֨יִם֙ אֶל־מָקֹ֣ום אֶחָ֔ד </span>|<span class=\"hb\">יִקָּו֨וּ </span>|<span class=\"hb\">יִקָּו֨וּ </span>|<span class=\"hb\">הַמַּ֜יִם מִתַּ֤חַת הַשָּׁמַ֨יִם֙ </span>|<span class=\"hb\">תַּ֤חַת </span>\n",
       "2|<span class=\"hb\"><a class=\"vn\" href=\"https://shebanq.ancient-data.org/hebrew/text?book=Genesis&chapter=13&verse=10&version=c&mr=m&qw=q&tp=txt_p&tr=hb&wget=v&qget=v&nget=vt\" title=\"Genesis 13:10\" sec=\"Genesis 13:10\">Genesis 13:10</a>וַיִּשָּׂא־לֹ֣וט אֶת־עֵינָ֗יו וַיַּרְא֙ אֶת־כָּל־כִּכַּ֣ר הַיַּרְדֵּ֔ן כִּ֥י כֻלָּ֖הּ מַשְׁקֶ֑ה לִפְנֵ֣י׀ שַׁחֵ֣ת יְהוָ֗ה אֶת־סְדֹם֙ וְאֶת־עֲמֹרָ֔ה כְּגַן־יְהוָה֙ כְּאֶ֣רֶץ מִצְרַ֔יִם בֹּאֲכָ֖ה צֹֽעַר׃ </span>|<span class=\"hb\">לִפְנֵ֣י׀ שַׁחֵ֣ת יְהוָ֗ה אֶת־סְדֹם֙ וְאֶת־עֲמֹרָ֔ה </span>|<span class=\"hb\">לִפְנֵ֣י׀ שַׁחֵ֣ת </span>|<span class=\"hb\">פְנֵ֣י׀ </span>|<span class=\"hb\">יְהוָ֗ה </span>|<span class=\"hb\">יְהוָ֗ה </span>\n",
       "3|<span class=\"hb\"><a class=\"vn\" href=\"https://shebanq.ancient-data.org/hebrew/text?book=Genesis&chapter=13&verse=14&version=c&mr=m&qw=q&tp=txt_p&tr=hb&wget=v&qget=v&nget=vt\" title=\"Genesis 13:14\" sec=\"Genesis 13:14\">Genesis 13:14</a>וַֽיהוָ֞ה אָמַ֣ר אֶל־אַבְרָ֗ם אַחֲרֵי֙ הִפָּֽרֶד־לֹ֣וט מֵֽעִמֹּ֔ו שָׂ֣א נָ֤א עֵינֶ֨יךָ֙ וּרְאֵ֔ה מִן־הַמָּקֹ֖ום אֲשֶׁר־אַתָּ֣ה שָׁ֑ם צָפֹ֥נָה וָנֶ֖גְבָּה וָקֵ֥דְמָה וָיָֽמָּה׃ </span>|<span class=\"hb\">אַחֲרֵי֙ הִפָּֽרֶד־לֹ֣וט מֵֽעִמֹּ֔ו </span>|<span class=\"hb\">אַחֲרֵי֙ הִפָּֽרֶד־</span>|<span class=\"hb\">אַחֲרֵי֙ </span>|<span class=\"hb\">לֹ֣וט </span>|<span class=\"hb\">לֹ֣וט </span>\n",
       "4|<span class=\"hb\"><a class=\"vn\" href=\"https://shebanq.ancient-data.org/hebrew/text?book=Genesis&chapter=27&verse=41&version=c&mr=m&qw=q&tp=txt_p&tr=hb&wget=v&qget=v&nget=vt\" title=\"Genesis 27:41\" sec=\"Genesis 27:41\">Genesis 27:41</a>וַיִּשְׂטֹ֤ם עֵשָׂו֙ אֶֽת־יַעֲקֹ֔ב עַל־הַ֨בְּרָכָ֔ה אֲשֶׁ֥ר בֵּרֲכֹ֖ו אָבִ֑יו וַיֹּ֨אמֶר עֵשָׂ֜ו בְּלִבֹּ֗ו יִקְרְבוּ֙ יְמֵי֙ אֵ֣בֶל אָבִ֔י וְאַֽהַרְגָ֖ה אֶת־יַעֲקֹ֥ב אָחִֽי׃ </span>|<span class=\"hb\">יִקְרְבוּ֙ יְמֵי֙ אֵ֣בֶל אָבִ֔י </span>|<span class=\"hb\">יִקְרְבוּ֙ </span>|<span class=\"hb\">יִקְרְבוּ֙ </span>|<span class=\"hb\">יְמֵי֙ אֵ֣בֶל אָבִ֔י </span>|<span class=\"hb\">אֵ֣בֶל </span>\n",
       "5|<span class=\"hb\"><a class=\"vn\" href=\"https://shebanq.ancient-data.org/hebrew/text?book=Genesis&chapter=27&verse=41&version=c&mr=m&qw=q&tp=txt_p&tr=hb&wget=v&qget=v&nget=vt\" title=\"Genesis 27:41\" sec=\"Genesis 27:41\">Genesis 27:41</a>וַיִּשְׂטֹ֤ם עֵשָׂו֙ אֶֽת־יַעֲקֹ֔ב עַל־הַ֨בְּרָכָ֔ה אֲשֶׁ֥ר בֵּרֲכֹ֖ו אָבִ֑יו וַיֹּ֨אמֶר עֵשָׂ֜ו בְּלִבֹּ֗ו יִקְרְבוּ֙ יְמֵי֙ אֵ֣בֶל אָבִ֔י וְאַֽהַרְגָ֖ה אֶת־יַעֲקֹ֥ב אָחִֽי׃ </span>|<span class=\"hb\">יִקְרְבוּ֙ יְמֵי֙ אֵ֣בֶל אָבִ֔י </span>|<span class=\"hb\">יִקְרְבוּ֙ </span>|<span class=\"hb\">יִקְרְבוּ֙ </span>|<span class=\"hb\">יְמֵי֙ אֵ֣בֶל אָבִ֔י </span>|<span class=\"hb\">אָבִ֔י </span>\n",
       "6|<span class=\"hb\"><a class=\"vn\" href=\"https://shebanq.ancient-data.org/hebrew/text?book=Genesis&chapter=36&verse=31&version=c&mr=m&qw=q&tp=txt_p&tr=hb&wget=v&qget=v&nget=vt\" title=\"Genesis 36:31\" sec=\"Genesis 36:31\">Genesis 36:31</a>וְאֵ֨לֶּה֙ הַמְּלָכִ֔ים אֲשֶׁ֥ר מָלְכ֖וּ בְּאֶ֣רֶץ אֱדֹ֑ום לִפְנֵ֥י מְלָךְ־מֶ֖לֶךְ לִבְנֵ֥י יִשְׂרָאֵֽל׃ </span>|<span class=\"hb\">לִפְנֵ֥י מְלָךְ־מֶ֖לֶךְ לִבְנֵ֥י יִשְׂרָאֵֽל׃ </span>|<span class=\"hb\">לִפְנֵ֥י מְלָךְ־</span>|<span class=\"hb\">פְנֵ֥י </span>|<span class=\"hb\">מֶ֖לֶךְ </span>|<span class=\"hb\">מֶ֖לֶךְ </span>\n",
       "7|<span class=\"hb\"><a class=\"vn\" href=\"https://shebanq.ancient-data.org/hebrew/text?book=Genesis&chapter=40&verse=1&version=c&mr=m&qw=q&tp=txt_p&tr=hb&wget=v&qget=v&nget=vt\" title=\"Genesis 40:1\" sec=\"Genesis 40:1\">Genesis 40:1</a>וַיְהִ֗י אַחַר֙ הַדְּבָרִ֣ים הָאֵ֔לֶּה חָֽטְא֛וּ מַשְׁקֵ֥ה מֶֽלֶךְ־מִצְרַ֖יִם וְהָאֹפֶ֑ה לַאֲדֹנֵיהֶ֖ם לְמֶ֥לֶךְ מִצְרָֽיִם׃ </span>|<span class=\"hb\">חָֽטְא֛וּ מַשְׁקֵ֥ה מֶֽלֶךְ־מִצְרַ֖יִם וְהָאֹפֶ֑ה לַאֲדֹנֵיהֶ֖ם לְמֶ֥לֶךְ מִצְרָֽיִם׃ </span>|<span class=\"hb\">חָֽטְא֛וּ </span>|<span class=\"hb\">חָֽטְא֛וּ </span>|<span class=\"hb\">מַשְׁקֵ֥ה מֶֽלֶךְ־מִצְרַ֖יִם וְהָאֹפֶ֑ה </span>|<span class=\"hb\">מַשְׁקֵ֥ה </span>\n",
       "8|<span class=\"hb\"><a class=\"vn\" href=\"https://shebanq.ancient-data.org/hebrew/text?book=Genesis&chapter=40&verse=1&version=c&mr=m&qw=q&tp=txt_p&tr=hb&wget=v&qget=v&nget=vt\" title=\"Genesis 40:1\" sec=\"Genesis 40:1\">Genesis 40:1</a>וַיְהִ֗י אַחַר֙ הַדְּבָרִ֣ים הָאֵ֔לֶּה חָֽטְא֛וּ מַשְׁקֵ֥ה מֶֽלֶךְ־מִצְרַ֖יִם וְהָאֹפֶ֑ה לַאֲדֹנֵיהֶ֖ם לְמֶ֥לֶךְ מִצְרָֽיִם׃ </span>|<span class=\"hb\">חָֽטְא֛וּ מַשְׁקֵ֥ה מֶֽלֶךְ־מִצְרַ֖יִם וְהָאֹפֶ֑ה לַאֲדֹנֵיהֶ֖ם לְמֶ֥לֶךְ מִצְרָֽיִם׃ </span>|<span class=\"hb\">חָֽטְא֛וּ </span>|<span class=\"hb\">חָֽטְא֛וּ </span>|<span class=\"hb\">מַשְׁקֵ֥ה מֶֽלֶךְ־מִצְרַ֖יִם וְהָאֹפֶ֑ה </span>|<span class=\"hb\">מֶֽלֶךְ־</span>\n",
       "9|<span class=\"hb\"><a class=\"vn\" href=\"https://shebanq.ancient-data.org/hebrew/text?book=Genesis&chapter=40&verse=1&version=c&mr=m&qw=q&tp=txt_p&tr=hb&wget=v&qget=v&nget=vt\" title=\"Genesis 40:1\" sec=\"Genesis 40:1\">Genesis 40:1</a>וַיְהִ֗י אַחַר֙ הַדְּבָרִ֣ים הָאֵ֔לֶּה חָֽטְא֛וּ מַשְׁקֵ֥ה מֶֽלֶךְ־מִצְרַ֖יִם וְהָאֹפֶ֑ה לַאֲדֹנֵיהֶ֖ם לְמֶ֥לֶךְ מִצְרָֽיִם׃ </span>|<span class=\"hb\">חָֽטְא֛וּ מַשְׁקֵ֥ה מֶֽלֶךְ־מִצְרַ֖יִם וְהָאֹפֶ֑ה לַאֲדֹנֵיהֶ֖ם לְמֶ֥לֶךְ מִצְרָֽיִם׃ </span>|<span class=\"hb\">חָֽטְא֛וּ </span>|<span class=\"hb\">חָֽטְא֛וּ </span>|<span class=\"hb\">מַשְׁקֵ֥ה מֶֽלֶךְ־מִצְרַ֖יִם וְהָאֹפֶ֑ה </span>|<span class=\"hb\">מִצְרַ֖יִם </span>\n",
       "10|<span class=\"hb\"><a class=\"vn\" href=\"https://shebanq.ancient-data.org/hebrew/text?book=Genesis&chapter=40&verse=1&version=c&mr=m&qw=q&tp=txt_p&tr=hb&wget=v&qget=v&nget=vt\" title=\"Genesis 40:1\" sec=\"Genesis 40:1\">Genesis 40:1</a>וַיְהִ֗י אַחַר֙ הַדְּבָרִ֣ים הָאֵ֔לֶּה חָֽטְא֛וּ מַשְׁקֵ֥ה מֶֽלֶךְ־מִצְרַ֖יִם וְהָאֹפֶ֑ה לַאֲדֹנֵיהֶ֖ם לְמֶ֥לֶךְ מִצְרָֽיִם׃ </span>|<span class=\"hb\">חָֽטְא֛וּ מַשְׁקֵ֥ה מֶֽלֶךְ־מִצְרַ֖יִם וְהָאֹפֶ֑ה לַאֲדֹנֵיהֶ֖ם לְמֶ֥לֶךְ מִצְרָֽיִם׃ </span>|<span class=\"hb\">חָֽטְא֛וּ </span>|<span class=\"hb\">חָֽטְא֛וּ </span>|<span class=\"hb\">מַשְׁקֵ֥ה מֶֽלֶךְ־מִצְרַ֖יִם וְהָאֹפֶ֑ה </span>|<span class=\"hb\">אֹפֶ֑ה </span>"
      ],
      "text/plain": [
       "<IPython.core.display.Markdown object>"
      ]
     },
     "metadata": {},
     "output_type": "display_data"
    }
   ],
   "source": [
    "results = A.search(q, sort=True)\n",
    "A.table(results, start=1, end=10)"
   ]
  },
  {
   "cell_type": "code",
   "execution_count": 8,
   "metadata": {},
   "outputs": [
    {
     "name": "stdout",
     "output_type": "stream",
     "text": [
      "  1.58s 154 results\n"
     ]
    },
    {
     "data": {
      "text/markdown": [
       "n | verse | clause | phrase | word | phrase | word\n",
       "--- | --- | --- | --- | --- | --- | ---\n",
       "1|<span class=\"hb\"><a class=\"vn\" href=\"https://shebanq.ancient-data.org/hebrew/text?book=Psalmi&chapter=92&verse=10&version=c&mr=m&qw=q&tp=txt_p&tr=hb&wget=v&qget=v&nget=vt\" title=\"Psalms 92:10\" sec=\"Psalms 92:10\">Psalms 92:10</a>כִּ֤י הִנֵּ֪ה אֹיְבֶ֡יךָ׀ יְֽהוָ֗ה כִּֽי־הִנֵּ֣ה אֹיְבֶ֣יךָ יֹאבֵ֑דוּ יִ֝תְפָּרְד֗וּ כָּל־פֹּ֥עֲלֵי אָֽוֶן׃ </span>|<span class=\"hb\">יִ֝תְפָּרְד֗וּ כָּל־פֹּ֥עֲלֵי אָֽוֶן׃ </span>|<span class=\"hb\">יִ֝תְפָּרְד֗וּ </span>|<span class=\"hb\">יִ֝תְפָּרְד֗וּ </span>|<span class=\"hb\">כָּל־פֹּ֥עֲלֵי אָֽוֶן׃ </span>|<span class=\"hb\">כָּל־</span>\n",
       "2|<span class=\"hb\"><a class=\"vn\" href=\"https://shebanq.ancient-data.org/hebrew/text?book=Psalmi&chapter=92&verse=10&version=c&mr=m&qw=q&tp=txt_p&tr=hb&wget=v&qget=v&nget=vt\" title=\"Psalms 92:10\" sec=\"Psalms 92:10\">Psalms 92:10</a>כִּ֤י הִנֵּ֪ה אֹיְבֶ֡יךָ׀ יְֽהוָ֗ה כִּֽי־הִנֵּ֣ה אֹיְבֶ֣יךָ יֹאבֵ֑דוּ יִ֝תְפָּרְד֗וּ כָּל־פֹּ֥עֲלֵי אָֽוֶן׃ </span>|<span class=\"hb\">יִ֝תְפָּרְד֗וּ כָּל־פֹּ֥עֲלֵי אָֽוֶן׃ </span>|<span class=\"hb\">יִ֝תְפָּרְד֗וּ </span>|<span class=\"hb\">יִ֝תְפָּרְד֗וּ </span>|<span class=\"hb\">כָּל־פֹּ֥עֲלֵי אָֽוֶן׃ </span>|<span class=\"hb\">אָֽוֶן׃ </span>\n",
       "3|<span class=\"hb\"><a class=\"vn\" href=\"https://shebanq.ancient-data.org/hebrew/text?book=Jesaia&chapter=44&verse=11&version=c&mr=m&qw=q&tp=txt_p&tr=hb&wget=v&qget=v&nget=vt\" title=\"Isaiah 44:11\" sec=\"Isaiah 44:11\">Isaiah 44:11</a>הֵ֤ן כָּל־חֲבֵרָיו֙ יֵבֹ֔שׁוּ וְחָרָשִׁ֥ים הֵ֖מָּה מֵֽאָדָ֑ם יִֽתְקַבְּצ֤וּ כֻלָּם֙ יַֽעֲמֹ֔דוּ יִפְחֲד֖וּ יֵבֹ֥שׁוּ יָֽחַד׃ </span>|<span class=\"hb\">יִֽתְקַבְּצ֤וּ כֻלָּם֙ </span>|<span class=\"hb\">יִֽתְקַבְּצ֤וּ </span>|<span class=\"hb\">יִֽתְקַבְּצ֤וּ </span>|<span class=\"hb\">כֻלָּם֙ </span>|<span class=\"hb\">כֻלָּם֙ </span>\n",
       "4|<span class=\"hb\"><a class=\"vn\" href=\"https://shebanq.ancient-data.org/hebrew/text?book=Psalmi&chapter=2&verse=2&version=c&mr=m&qw=q&tp=txt_p&tr=hb&wget=v&qget=v&nget=vt\" title=\"Psalms 2:2\" sec=\"Psalms 2:2\">Psalms 2:2</a>יִ֥תְיַצְּב֨וּ׀ מַלְכֵי־אֶ֗רֶץ וְרֹוזְנִ֥ים נֹֽוסְדוּ־יָ֑חַד עַל־יְ֝הוָה וְעַל־מְשִׁיחֹֽו׃ </span>|<span class=\"hb\">יִ֥תְיַצְּב֨וּ׀ מַלְכֵי־אֶ֗רֶץ </span>|<span class=\"hb\">יִ֥תְיַצְּב֨וּ׀ </span>|<span class=\"hb\">יִ֥תְיַצְּב֨וּ׀ </span>|<span class=\"hb\">מַלְכֵי־אֶ֗רֶץ </span>|<span class=\"hb\">אֶ֗רֶץ </span>\n",
       "5|<span class=\"hb\"><a class=\"vn\" href=\"https://shebanq.ancient-data.org/hebrew/text?book=Iob&chapter=3&verse=9&version=c&mr=m&qw=q&tp=txt_p&tr=hb&wget=v&qget=v&nget=vt\" title=\"Job 3:9\" sec=\"Job 3:9\">Job 3:9</a>יֶחְשְׁכוּ֮ כֹּוכְבֵ֪י נִ֫שְׁפֹּ֥ו יְקַו־לְאֹ֥ור וָאַ֑יִן וְאַל־יִ֝רְאֶ֗ה בְּעַפְעַפֵּי־שָֽׁחַר׃ </span>|<span class=\"hb\">יֶחְשְׁכוּ֮ כֹּוכְבֵ֪י נִ֫שְׁפֹּ֥ו </span>|<span class=\"hb\">יֶחְשְׁכוּ֮ </span>|<span class=\"hb\">יֶחְשְׁכוּ֮ </span>|<span class=\"hb\">כֹּוכְבֵ֪י נִ֫שְׁפֹּ֥ו </span>|<span class=\"hb\">נִ֫שְׁפֹּ֥ו </span>\n",
       "6|<span class=\"hb\"><a class=\"vn\" href=\"https://shebanq.ancient-data.org/hebrew/text?book=Hosea&chapter=4&verse=6&version=c&mr=m&qw=q&tp=txt_p&tr=hb&wget=v&qget=v&nget=vt\" title=\"Hosea 4:6\" sec=\"Hosea 4:6\">Hosea 4:6</a>נִדְמ֥וּ עַמִּ֖י מִבְּלִ֣י הַדָּ֑עַת כִּֽי־אַתָּ֞ה הַדַּ֣עַת מָאַ֗סְתָּ וְאֶמְאָֽסְאךָ֙ מִכַּהֵ֣ן לִ֔י וַתִּשְׁכַּח֙ תֹּורַ֣ת אֱלֹהֶ֔יךָ אֶשְׁכַּ֥ח בָּנֶ֖יךָ גַּם־אָֽנִי׃ </span>|<span class=\"hb\">נִדְמ֥וּ עַמִּ֖י מִבְּלִ֣י הַדָּ֑עַת </span>|<span class=\"hb\">נִדְמ֥וּ </span>|<span class=\"hb\">נִדְמ֥וּ </span>|<span class=\"hb\">עַמִּ֖י </span>|<span class=\"hb\">עַמִּ֖י </span>\n",
       "7|<span class=\"hb\"><a class=\"vn\" href=\"https://shebanq.ancient-data.org/hebrew/text?book=Exodus&chapter=12&verse=41&version=c&mr=m&qw=q&tp=txt_p&tr=hb&wget=v&qget=v&nget=vt\" title=\"Exodus 12:41\" sec=\"Exodus 12:41\">Exodus 12:41</a>וַיְהִ֗י מִקֵּץ֙ שְׁלֹשִׁ֣ים שָׁנָ֔ה וְאַרְבַּ֥ע מֵאֹ֖ות שָׁנָ֑ה וַיְהִ֗י בְּעֶ֨צֶם֙ הַיֹּ֣ום הַזֶּ֔ה יָֽצְא֛וּ כָּל־צִבְאֹ֥ות יְהוָ֖ה מֵאֶ֥רֶץ מִצְרָֽיִם׃ </span>|<span class=\"hb\">יָֽצְא֛וּ כָּל־צִבְאֹ֥ות יְהוָ֖ה מֵאֶ֥רֶץ מִצְרָֽיִם׃ </span>|<span class=\"hb\">יָֽצְא֛וּ </span>|<span class=\"hb\">יָֽצְא֛וּ </span>|<span class=\"hb\">כָּל־צִבְאֹ֥ות יְהוָ֖ה </span>|<span class=\"hb\">כָּל־</span>\n",
       "8|<span class=\"hb\"><a class=\"vn\" href=\"https://shebanq.ancient-data.org/hebrew/text?book=Exodus&chapter=12&verse=41&version=c&mr=m&qw=q&tp=txt_p&tr=hb&wget=v&qget=v&nget=vt\" title=\"Exodus 12:41\" sec=\"Exodus 12:41\">Exodus 12:41</a>וַיְהִ֗י מִקֵּץ֙ שְׁלֹשִׁ֣ים שָׁנָ֔ה וְאַרְבַּ֥ע מֵאֹ֖ות שָׁנָ֑ה וַיְהִ֗י בְּעֶ֨צֶם֙ הַיֹּ֣ום הַזֶּ֔ה יָֽצְא֛וּ כָּל־צִבְאֹ֥ות יְהוָ֖ה מֵאֶ֥רֶץ מִצְרָֽיִם׃ </span>|<span class=\"hb\">יָֽצְא֛וּ כָּל־צִבְאֹ֥ות יְהוָ֖ה מֵאֶ֥רֶץ מִצְרָֽיִם׃ </span>|<span class=\"hb\">יָֽצְא֛וּ </span>|<span class=\"hb\">יָֽצְא֛וּ </span>|<span class=\"hb\">כָּל־צִבְאֹ֥ות יְהוָ֖ה </span>|<span class=\"hb\">יְהוָ֖ה </span>\n",
       "9|<span class=\"hb\"><a class=\"vn\" href=\"https://shebanq.ancient-data.org/hebrew/text?book=Josua&chapter=6&verse=5&version=c&mr=m&qw=q&tp=txt_p&tr=hb&wget=v&qget=v&nget=vt\" title=\"Joshua 6:5\" sec=\"Joshua 6:5\">Joshua 6:5</a>וְהָיָ֞ה בִּמְשֹׁ֣ךְ׀ בְּקֶ֣רֶן הַיֹּובֵ֗ל כְּשָׁמְעֲכֶם֙ אֶת־קֹ֣ול הַשֹּׁופָ֔ר יָרִ֥יעוּ כָל־הָעָ֖ם תְּרוּעָ֣ה גְדֹולָ֑ה וְנָ֨פְלָ֜ה חֹומַ֤ת הָעִיר֙ תַּחְתֶּ֔יהָ וְעָל֥וּ הָעָ֖ם אִ֥ישׁ נֶגְדֹּֽו׃ </span>|<span class=\"hb\">יָרִ֥יעוּ כָל־הָעָ֖ם תְּרוּעָ֣ה גְדֹולָ֑ה </span>|<span class=\"hb\">יָרִ֥יעוּ </span>|<span class=\"hb\">יָרִ֥יעוּ </span>|<span class=\"hb\">כָל־הָעָ֖ם </span>|<span class=\"hb\">כָל־</span>\n",
       "10|<span class=\"hb\"><a class=\"vn\" href=\"https://shebanq.ancient-data.org/hebrew/text?book=Josua&chapter=6&verse=5&version=c&mr=m&qw=q&tp=txt_p&tr=hb&wget=v&qget=v&nget=vt\" title=\"Joshua 6:5\" sec=\"Joshua 6:5\">Joshua 6:5</a>וְהָיָ֞ה בִּמְשֹׁ֣ךְ׀ בְּקֶ֣רֶן הַיֹּובֵ֗ל כְּשָׁמְעֲכֶם֙ אֶת־קֹ֣ול הַשֹּׁופָ֔ר יָרִ֥יעוּ כָל־הָעָ֖ם תְּרוּעָ֣ה גְדֹולָ֑ה וְנָ֨פְלָ֜ה חֹומַ֤ת הָעִיר֙ תַּחְתֶּ֔יהָ וְעָל֥וּ הָעָ֖ם אִ֥ישׁ נֶגְדֹּֽו׃ </span>|<span class=\"hb\">יָרִ֥יעוּ כָל־הָעָ֖ם תְּרוּעָ֣ה גְדֹולָ֑ה </span>|<span class=\"hb\">יָרִ֥יעוּ </span>|<span class=\"hb\">יָרִ֥יעוּ </span>|<span class=\"hb\">כָל־הָעָ֖ם </span>|<span class=\"hb\">עָ֖ם </span>"
      ],
      "text/plain": [
       "<IPython.core.display.Markdown object>"
      ]
     },
     "metadata": {},
     "output_type": "display_data"
    }
   ],
   "source": [
    "results = A.search(q, sort=False)\n",
    "A.table(results, start=1, end=10)"
   ]
  }
 ],
 "metadata": {
  "kernelspec": {
   "display_name": "Python 3",
   "language": "python",
   "name": "python3"
  },
  "language_info": {
   "codemirror_mode": {
    "name": "ipython",
    "version": 3
   },
   "file_extension": ".py",
   "mimetype": "text/x-python",
   "name": "python",
   "nbconvert_exporter": "python",
   "pygments_lexer": "ipython3",
   "version": "3.7.1"
  }
 },
 "nbformat": 4,
 "nbformat_minor": 2
}
