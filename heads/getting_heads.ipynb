{
 "cells": [
  {
   "cell_type": "markdown",
   "metadata": {},
   "source": [
    "# Getting Heads 😶\n",
    "## By Cody Kingham, in collaboration with Christiaan Erwich\n",
    "\n",
    "## Problem Description\n",
    "The ETCBC's BHSA core data does not contain the standard syntax tree format. This also means that syntactic and functional relationships between individual words are not mapped in a transparent or easily accessible way. In some cases, fine-grained relationships are ignored altogether. For example, for a given noun phrase (NP), there is no explicit way of obtaining its head noun (i.e. the noun itself without any modifying elements). This causes numerous problems for research in the realm of semantics. For instance, it is currently very difficult to calculate the complete person, gender, and number (PGN) of a given subject phrase. That is because PGN is stored at the word level only. But this is a very inadequate representation. Phrases in the ETCBC often contain coordinate relationships within the phrase. So even if one selects the first \"noun\" in the phrase and checks for its PGN value, they may overlook the presence of another noun which makes the phrase plural. Ideally, the phrase itself would have a PGN feature. But before this kind of data is created, it is necessary to separate the head words of a phrase from their modifying elements such as adjectives, determiners, or nouns in construct (genitive) relations.\n",
    "\n",
    "A head word can be defined as the word for which a phrase type is named after. A phrase type can be NP for noun phrase or VP for verb phrase. In this notebook, we experiment with and build the functions stored in `heads.py` in order to export a set of Text-Fabric edge features. The edge features represent a mapping from a phrase node to its head element. \n",
    "\n",
    "This goal requires us to think carefully about the way inter-word, semantic relations are reflected in the ETCBC's data. The ETCBC *does* contain some rudimentary semantic embeddings through the so-called [subphrase](https://etcbc.github.io/bhsa/features/hebrew/c/otype). These can be utilized to isolate head words from secondary elements. A subphrase should *not* be thought of as a smaller, embedded phrase, like the ETCBC's phrase-atom (though it sometimes must indadequately fill that role). Rather, the subphrase is a way to encode relationships between words below the level of a phrase(atom), hence \"sub.\" A subphrase can be a single word, or it can be a collection of words. A word can be in multiple subphrases, but can not be in more than 3 (due to the limitations of the data creation program, [parsephrases](http://www.etcbc.nl/datacreation/#ps3.p)).\n",
    "\n",
    "## Method\n",
    "The types of phrases represented in the ETCBC include `NP` (noun phrase), `VP` (verb phrase), `PrNP` (proper noun phrase), `PP` (prepositional phrase), `AdvP` (adverbial phrase), and [eight others](https://etcbc.github.io/bhsa/features/hebrew/c/typ). For some of these types, isolating the head word is a simple affair. By coordinating a word's phrase-dependent part of speech with its enclosing phrase's type, one can identify the head word. For a `VP`, that would mean simply finding the word within the phrase that has a `pdp` (phrase dependent part of speech) value of `verb`. Or for a prepositional phrase, find the word with a `pdp` of `prep`.\n",
    "\n",
    "The `NP` and `PrNP`, on the other hand, present special challenges. These phrases often contain multiple words with a modifying relation to the head noun. An example of this is the construct relation (e.g. \"Son of Jacob\"). The problem becomes particularly thorny when relations like the construct are chained together so that one is faced with the choice between multiple potential head nouns.\n",
    "\n",
    "To navigate the problem, we must use the feature [rela (relationship)](https://etcbc.github.io/bhsa/features/hebrew/c/rela) stored on `subphrase`s in addition to the `pdp` and phrase `type` features. In order to isolate the head word of a `NP`, we look for a word within the phrase that has a `pdp` value of `subs` (i.e. noun). We then obtain a list of all the `subphrase`s which contain that word using the [L.u Text-Fabric method](https://github.com/Dans-labs/text-fabric/wiki/Api#locality). We then use the list of subphrase node numbers to create a list of all subphrase relations containing the word. If the list contains *any* dependent relations, then the word is automatically excluded from being a head word and we can move on to the next candidate. One final check is required for candidate words at the level of the `phrase`: the same procedure described above for `subphrase`s must be performed for `phrase_atom` relations. This means excluding words within a `phrase_atom` with a dependent relation to another `phrase_atom` within the `phrase`. If the head of a *`phrase_atom`* is being calculated, this step is not necessary.\n",
    "\n",
    "There are only two possible `subphrase` or `phrase_atom` relations for a valid head word: `NA` or `par`/`Para`. `NA` means that no relation is reflected. The word is independent. The `par` (`subphrase`) and `Para` (`phrase_atom`) stands for parallel relations, i.e. coordinates. These words require one further test, that is, it must be verified that their mother (using the [edge feature](https://github.com/Dans-labs/text-fabric/wiki/Api#edge-features) \"[mother](https://etcbc.github.io/bhsa/features/hebrew/c/mother.html)\") is itself a head word. To do this step thus requires us to keep track of those words within the phrase which have been validated. We can do so with a simple list."
   ]
  },
  {
   "cell_type": "markdown",
   "metadata": {},
   "source": [
    "## Code Development\n",
    "\n",
    "Below we experiment with the code and develop the functions that will extract the head nouns. This involves a good deal of manual inspections of the results before exporting the Text-Fabric features.\n",
    "\n",
    "The code is written immediately below. Associated questions that arise while writing or evaluating the code are contained in the subsequent section."
   ]
  },
  {
   "cell_type": "code",
   "execution_count": 203,
   "metadata": {},
   "outputs": [
    {
     "data": {
      "text/markdown": [
       "**Documentation:** <a target=\"_blank\" href=\"https://etcbc.github.io/bhsa\" title=\"{provenance of this corpus}\">BHSA</a> <a target=\"_blank\" href=\"https://etcbc.github.io/bhsa/features/hebrew/c/0_home.html\" title=\"{CORPUS} feature documentation\">Feature docs</a> <a target=\"_blank\" href=\"https://etcbc.github.io/bhsa/api.html\" title=\"BHSA API documentation\">BHSA API</a> <a target=\"_blank\" href=\"https://github.com/Dans-labs/text-fabric/wiki/api\" title=\"text-fabric-api\">Text-Fabric API</a>"
      ],
      "text/plain": [
       "<IPython.core.display.Markdown object>"
      ]
     },
     "metadata": {},
     "output_type": "display_data"
    },
    {
     "data": {
      "text/markdown": [
       "\n",
       "This notebook online:\n",
       "<a target=\"_blank\" href=\"http://nbviewer.jupyter.org/github/etcbc/lingo/blob/master/heads/getting_heads.ipynb\">NBViewer</a>\n",
       "<a target=\"_blank\" href=\"https://github.com/etcbc/lingo/blob/master/heads/getting_heads.ipynb\">GitHub</a>\n"
      ],
      "text/plain": [
       "<IPython.core.display.Markdown object>"
      ]
     },
     "metadata": {},
     "output_type": "display_data"
    },
    {
     "data": {
      "text/html": [
       "\n",
       "<style>\n",
       ".verse {\n",
       "    display: flex;\n",
       "    flex-flow: row wrap;\n",
       "    direction: rtl;\n",
       "}\n",
       ".vl {\n",
       "    display: flex;\n",
       "    flex-flow: column nowrap;\n",
       "    direction: ltr;\n",
       "}\n",
       ".sentence,.clause,.phrase {\n",
       "    margin-top: -1.2em;\n",
       "    margin-left: 1em;\n",
       "    background: #ffffff none repeat scroll 0 0;\n",
       "    padding: 0 0.3em;\n",
       "    border-style: solid;\n",
       "    border-radius: 0.2em;\n",
       "    font-size: small;\n",
       "    display: block;\n",
       "    width: fit-content;\n",
       "    max-width: fit-content;\n",
       "    direction: ltr;\n",
       "}\n",
       ".atoms {\n",
       "    display: flex;\n",
       "    flex-flow: row wrap;\n",
       "    margin: 0.3em;\n",
       "    padding: 0.3em;\n",
       "    direction: rtl;\n",
       "    background-color: #ffffff;\n",
       "}\n",
       ".satom,.catom,.patom {\n",
       "    margin: 0.3em;\n",
       "    padding: 0.3em;\n",
       "    border-radius: 0.3em;\n",
       "    border-style: solid;\n",
       "    display: flex;\n",
       "    flex-flow: column nowrap;\n",
       "    direction: rtl;\n",
       "    background-color: #ffffff;\n",
       "}\n",
       ".sentence {\n",
       "    border-color: #aa3333;\n",
       "    border-width: 1px;\n",
       "}\n",
       ".clause {\n",
       "    border-color: #aaaa33;\n",
       "    border-width: 1px;\n",
       "}\n",
       ".phrase {\n",
       "    border-color: #33aaaa;\n",
       "    border-width: 1px;\n",
       "}\n",
       ".satom {\n",
       "    border-color: #aa3333;\n",
       "    border-width: 4px;\n",
       "}\n",
       ".catom {\n",
       "    border-color: #aaaa33;\n",
       "    border-width: 3px;\n",
       "}\n",
       ".patom {\n",
       "    border-color: #33aaaa;\n",
       "    border-width: 3px;\n",
       "}\n",
       ".word {\n",
       "    padding: 0.1em;\n",
       "    margin: 0.1em;\n",
       "    border-radius: 0.1em;\n",
       "    border: 1px solid #cccccc;\n",
       "    display: flex;\n",
       "    flex-flow: column nowrap;\n",
       "    direction: rtl;\n",
       "    background-color: #ffffff;\n",
       "}\n",
       ".satom.l,.catom.l,.patom.l {\n",
       "    border-left-style: dotted\n",
       "}\n",
       ".satom.r,.catom.r,.patom.r {\n",
       "    border-right-style: dotted\n",
       "}\n",
       ".satom.L,.catom.L,.patom.L {\n",
       "    border-left-style: none\n",
       "}\n",
       ".satom.R,.catom.R,.patom.R {\n",
       "    border-right-style: none\n",
       "}\n",
       ".h {\n",
       "    font-family: \"Ezra SIL\", \"SBL Hebrew\", sans-serif;\n",
       "    font-size: large;\n",
       "    direction: rtl;\n",
       "}\n",
       ".rela,.function,.typ {\n",
       "    font-family: monospace;\n",
       "    font-size: small;\n",
       "    color: #0000bb;\n",
       "}\n",
       ".sp {\n",
       "    font-family: monospace;\n",
       "    font-size: medium;\n",
       "    color: #0000bb;\n",
       "}\n",
       ".gl {\n",
       "    font-family: sans-serif;\n",
       "    font-size: small;\n",
       "    color: #aaaaaa;\n",
       "}\n",
       ".vs {\n",
       "    font-family: sans-serif;\n",
       "    font-size: small;\n",
       "    font-weight: bold;\n",
       "    color: #444444;\n",
       "}\n",
       ".nd {\n",
       "    font-family: monospace;\n",
       "    font-size: x-small;\n",
       "    color: #999999;\n",
       "}\n",
       ".hl {\n",
       "    background-color: #ffee66;\n",
       "}\n",
       "</style>\n"
      ],
      "text/plain": [
       "<IPython.core.display.HTML object>"
      ]
     },
     "metadata": {},
     "output_type": "display_data"
    }
   ],
   "source": [
    "import collections, os, sys, random\n",
    "\n",
    "# Load Text-Fabric and B (visualizer)\n",
    "# separate import of tf.fabric not needed with bhsa module\n",
    "locations = ('~/github', 'etcbc/bhsa', 'getting_heads')\n",
    "sys.path.append(os.path.expanduser(f'{locations[0]}/{locations[1]}/programs')) # add BHSA module to path for Python\n",
    "from bhsa import Bhsa \n",
    "B = Bhsa(*locations) # import TF\n",
    "B.api.makeAvailableIn(globals()) # globalize\n",
    "\n",
    "# load TF features:\n",
    "B.load('''\n",
    "      book chapter verse\n",
    "      typ pdp rela mother \n",
    "      function lex sp ls\n",
    "       ''')"
   ]
  },
  {
   "cell_type": "code",
   "execution_count": 311,
   "metadata": {},
   "outputs": [],
   "source": [
    "def get_heads(phrase):\n",
    "    '''\n",
    "    Extracts and returns the heads of a supplied\n",
    "    phrase or phrase atom based on that phrase's type\n",
    "    and the relations reflected within the phrase.\n",
    "    \n",
    "    --input--\n",
    "    phrase(atom) node number\n",
    "    \n",
    "    --output--\n",
    "    tuple of head word node(s) \n",
    "    '''\n",
    "    \n",
    "    # mapping from phrase type to good part of speech values for heads\n",
    "    head_pdps = {'VP': {'verb'},                   # verb \n",
    "                 'NP': {'subs', 'adjv'},           # noun \n",
    "                 'PrNP': {'nmpr', 'subs'},         # proper-noun \n",
    "                 'AdvP': {'advb', 'nmpr', 'subs'}, # adverbial \n",
    "                 'PP': {'prep'},                   # prepositional \n",
    "                 'CP': {'conj', 'prep'},           # conjunctive\n",
    "                 'PPrP': {'prps'},                 # personal pronoun\n",
    "                 'DPrP': {'prde'},                 # demonstrative pronoun\n",
    "                 'IPrP': {'prin'},                 # interrogative pronoun\n",
    "                 'InjP': {'intj'},                 # interjectional\n",
    "                 'NegP': {'nega'},                 # negative\n",
    "                 'InrP': {'inrg'},                 # interrogative\n",
    "                 'AdjP': {'adjv'}                  # adjective\n",
    "                } \n",
    "    \n",
    "    # get phrase-head's part of speech value and list of candidate matches\n",
    "    phrase_type = F.typ.v(phrase)\n",
    "    head_candidates = [w for w in L.d(phrase, 'word')\n",
    "                          if F.pdp.v(w) in head_pdps[phrase_type]]\n",
    "        \n",
    "    # VP with verbs require no further processing, return the head verb\n",
    "    if phrase_type == 'VP':        \n",
    "        return tuple(head_candidates)\n",
    "        \n",
    "    # go head-hunting!\n",
    "    heads = []\n",
    "    \n",
    "    for word in head_candidates:\n",
    "        \n",
    "        # gather the word's subphrase (+ phrase_atom if otype is phrase) relations\n",
    "        word_phrases = list(L.u(word, 'subphrase'))\n",
    "        word_phrases += list(L.u(word, 'phrase_atom')) if (F.otype.v(phrase) == 'phrase') else list()\n",
    "        word_relas = set(F.rela.v(phr) for phr in word_phrases) or {'NA'}\n",
    "        \n",
    "        # check (sub)phrase relations for independency\n",
    "        if word_relas - {'NA', 'par', 'Para'}: \n",
    "            continue\n",
    "            \n",
    "        # check parallel relations for independency\n",
    "        elif word_relas & {'par', 'Para'} and mother_is_head(word_phrases, heads):\n",
    "            this_head = find_quantified(word) or find_attributed(word) or word\n",
    "            heads.append(this_head)\n",
    "            \n",
    "        # save all others as heads, check for quantifiers first\n",
    "        else:\n",
    "            this_head = find_quantified(word) or find_attributed(word) or word\n",
    "            heads.append(this_head)\n",
    "            \n",
    "    return tuple(sorted(set(heads)))\n",
    "            \n",
    "def mother_is_head(word_phrases, previous_heads):\n",
    "    \n",
    "    '''\n",
    "    Test and validate parallel relationships for independency.\n",
    "    Must gather the mother for each relation and check whether \n",
    "    the mother contains a head word. \n",
    "    \n",
    "    --input--\n",
    "    * list of phrase nodes for a given word (includes subphrases)\n",
    "    * list of previously approved heads\n",
    "    \n",
    "    --output--\n",
    "    boolean\n",
    "    '''\n",
    "    \n",
    "    # get word's enclosing phrases that are parallel\n",
    "    parallel_phrases = [ph for ph in word_phrases if F.rela.v(ph) in {'par', 'Para'}]\n",
    "    # get the mother for the parallel phrases\n",
    "    parallel_mothers = [E.mother.f(ph)[0] for ph in parallel_phrases] \n",
    "    # get mothers' words, by mother\n",
    "    parallel_mom_words = [set(L.d(mom, 'word')) for mom in parallel_mothers]\n",
    "    # test for head in each mother\n",
    "    test_mothers = [bool(phrs_words & set(previous_heads)) for phrs_words in parallel_mom_words] \n",
    "    \n",
    "    return bool(test_mothers)\n",
    "    \n",
    "\n",
    "def find_quantified(word):\n",
    "    \n",
    "    '''        \n",
    "    Check whether a head candidate is a quantifier (e.g. כל).\n",
    "    If it is, find the quantified noun if there is one.\n",
    "    Quantifiers are connected with the modified noun\n",
    "    either by a subphrase relation of \"rec\" for nomen \n",
    "    regens. In this case, the quantifier word node is the\n",
    "    mother itself. In other cases, the noun is related to the\n",
    "    number via the \"atr\" (attributive) subphrase relation. In this\n",
    "    case, the edge relation is connected from the substantive\n",
    "    to the number's subphrase.\n",
    "    \n",
    "    --input--\n",
    "    word node\n",
    "    \n",
    "    --output--\n",
    "    new word node or None\n",
    "    '''\n",
    "    \n",
    "    custom_quants = {'KL/', 'M<V/', 'JTR/'} # quantifier lexemes, others?\n",
    "    good_pdps = {'subs', # substantive\n",
    "                 'nmpr', # proper noun\n",
    "                 'prde', # demonstrative\n",
    "                 'prps', # pronoun\n",
    "                 'verb'} # \"verb\" for participles, see the inquiries below.\n",
    "    \n",
    "    if F.lex.v(word) not in custom_quants and F.ls.v(word) not in {'card', 'ordn'}:\n",
    "        return None\n",
    "    \n",
    "    # first check rec relations for valid quantified noun:\n",
    "    rectum = next((sp for sp in E.mother.t(word) if F.rela.v(sp) == 'rec'), 0) # extract the rectum\n",
    "    noun = next((w for w in L.d(rectum, 'word') if F.pdp.v(w) in good_pdps), 0) # filter words for noun\n",
    "    num_check = F.ls.v(L.u(noun, 'lex')[0]) if noun else ''\n",
    "    if noun and num_check not in {'card', 'ordn'}:\n",
    "        return noun\n",
    "    \n",
    "    # check the adjunct relation if no rec found:\n",
    "    subphrases = sorted(L.u(word, 'subphrase'))    \n",
    "    # move progressively from smallest to largest subphrase, stop when non-cardinal noun is found\n",
    "    for sp in subphrases:        \n",
    "        candidates = sorted(daughter for daughter in E.mother.t(sp) if F.rela.v(daughter) == 'adj')        \n",
    "        for candi in candidates:\n",
    "            noun = next((w for w in L.d(candi, 'word') if F.pdp.v(w) in good_pdps), 0)\n",
    "            num_check = F.ls.v(L.u(noun, 'lex')[0]) if noun else ''\n",
    "            if noun and num_check not in {'card', 'ordn'}:                \n",
    "                return noun\n",
    "    \n",
    "    # all else are non-quantifiers\n",
    "    return None\n",
    "\n",
    "def find_attributed(word):\n",
    "    \n",
    "    '''        \n",
    "    Check whether the head candidate is an adjective.\n",
    "    If it is, retrieve its attributed noun via the\n",
    "    regens (rec) relationship.\n",
    "    \n",
    "    This function is similar to the quantified function.\n",
    "    \n",
    "    --input--\n",
    "    word node\n",
    "    \n",
    "    --output--\n",
    "    new word node or None\n",
    "    '''\n",
    "    \n",
    "    if F.pdp.v(word) != 'adjv':\n",
    "        return None\n",
    "    \n",
    "    # check rec relations for valid attributed noun:\n",
    "    rectum = next((sp for sp in E.mother.t(word) if F.rela.v(sp) == 'rec'), 0) # extract the rectum\n",
    "    noun = next((w for w in L.d(rectum, 'word') if F.pdp.v(w) == 'subs'), 0) # filter words for noun\n",
    "    if noun:\n",
    "        return noun\n",
    "    \n",
    "    # sanity check: adjectives should not \n",
    "    # pass through this algorithm without a noun assignment\n",
    "    if F.typ.v(L.u(word, 'phrase')) == 'NP':\n",
    "        raise Exception(f'adjective head assignment on NP {L.u(word, \"phrase\")} at word {word}')\n",
    "    else:\n",
    "        return None"
   ]
  },
  {
   "cell_type": "code",
   "execution_count": 300,
   "metadata": {},
   "outputs": [
    {
     "data": {
      "text/plain": [
       "[1439137]"
      ]
     },
     "execution_count": 300,
     "metadata": {},
     "output_type": "execute_result"
    }
   ],
   "source": [
    "[w for w in F.otype.s('lex') if F.lex.v(w) == 'JTR/']"
   ]
  },
  {
   "cell_type": "code",
   "execution_count": 302,
   "metadata": {},
   "outputs": [
    {
     "data": {
      "text/plain": [
       "'remainder'"
      ]
     },
     "execution_count": 302,
     "metadata": {},
     "output_type": "execute_result"
    }
   ],
   "source": [
    "F.gloss.v(1439137)"
   ]
  },
  {
   "cell_type": "code",
   "execution_count": 312,
   "metadata": {},
   "outputs": [
    {
     "data": {
      "text/plain": [
       "['אֵיפָ֛ה ']"
      ]
     },
     "execution_count": 312,
     "metadata": {},
     "output_type": "execute_result"
    }
   ],
   "source": [
    "[T.text([w]) for w in get_heads(701567)]"
   ]
  },
  {
   "cell_type": "code",
   "execution_count": 308,
   "metadata": {},
   "outputs": [
    {
     "name": "stdout",
     "output_type": "stream",
     "text": [
      "subphrase \ttext \trelation \tmother\n",
      "עֲשִׂירִ֧ית הָאֵיפָ֛ה  1325080 NA ()\n",
      "עֲשִׂירִ֧ית  1325078 NA ()\n",
      "הָאֵיפָ֛ה  1325079 rec (87409,)\n",
      "סֹ֖לֶת  1325081 adj (1325080,)\n"
     ]
    }
   ],
   "source": [
    "show_subphrases(701567)"
   ]
  },
  {
   "cell_type": "code",
   "execution_count": 309,
   "metadata": {},
   "outputs": [
    {
     "data": {
      "text/plain": [
       "[87409]"
      ]
     },
     "execution_count": 309,
     "metadata": {},
     "output_type": "execute_result"
    }
   ],
   "source": [
    "L.d(1325078, 'word')"
   ]
  },
  {
   "cell_type": "code",
   "execution_count": 310,
   "metadata": {},
   "outputs": [
    {
     "data": {
      "text/plain": [
       "'ordn'"
      ]
     },
     "execution_count": 310,
     "metadata": {},
     "output_type": "execute_result"
    }
   ],
   "source": [
    "F.ls.v(L.u(87409, 'lex')[0])"
   ]
  },
  {
   "cell_type": "markdown",
   "metadata": {},
   "source": [
    "## Tests\n",
    "\n",
    "Testing the get heads function and measuring the results.\n",
    "\n",
    "### Simple Test\n",
    "Apply the function to all the phrases in the HB. Record those cases which fail to receive a head assignment."
   ]
  },
  {
   "cell_type": "code",
   "execution_count": 225,
   "metadata": {},
   "outputs": [
    {
     "data": {
      "text/plain": [
       "2"
      ]
     },
     "execution_count": 225,
     "metadata": {},
     "output_type": "execute_result"
    }
   ],
   "source": [
    "headless = []\n",
    "total = 0\n",
    "\n",
    "for phrase in F.otype.s('phrase'):\n",
    "    \n",
    "    total += 1\n",
    "    \n",
    "    heads = get_heads(phrase)\n",
    "    \n",
    "    if not heads:\n",
    "        headless.append((phrase,))\n",
    "        \n",
    "len(headless)"
   ]
  },
  {
   "cell_type": "code",
   "execution_count": 199,
   "metadata": {},
   "outputs": [
    {
     "data": {
      "text/markdown": [
       "\n",
       "## Result 0\n",
       "(**phrase** `841977`)\n"
      ],
      "text/plain": [
       "<IPython.core.display.Markdown object>"
      ]
     },
     "metadata": {},
     "output_type": "display_data"
    },
    {
     "data": {
      "text/html": [
       "<div class=\"verse  \">\n",
       "\n",
       "    <div class=\"vl\">\n",
       "        <div class=\"vs\"><a target=\"_blank\" href=\"https://shebanq.ancient-data.org/hebrew/text?book=Psalmi&chapter=59&verse=4&version=c&mr=m&qw=q&tp=txt_p&tr=hb&wget=v&qget=v&nget=vt\" title=\"show this passage in SHEBANQ\">Psalms 59:4</a></div><div class=\"nd\">1430232</div>\n",
       "    </div>\n",
       "\n",
       "<div class=\"satom  L \">\n",
       "\n",
       "    <div class=\"sentence\"><a target=\"_blank\" href=\"https://shebanq.ancient-data.org/hebrew/text?book=Psalmi&chapter=59&verse=4&version=c&mr=m&qw=q&tp=txt_p&tr=hb&wget=v&qget=v&nget=vt\" title=\"Psalms 59:4\">sentence</a> <span class=\"nd\">1219911</span> \n",
       "    </div>\n",
       "    <div class=\"atoms\">\n",
       "\n",
       "<div class=\"catom  \">\n",
       "\n",
       "    <div class=\"clause\"><a target=\"_blank\" href=\"https://shebanq.ancient-data.org/hebrew/text?book=Psalmi&chapter=59&verse=4&version=c&mr=m&qw=q&tp=txt_p&tr=hb&wget=v&qget=v&nget=vt\" title=\"Psalms 59:4\">clause</a> <span class=\"nd\">492968</span>  <span class=\"rela\">NA</span> <span class=\"typ\">xQt0</span>\n",
       "    </div>\n",
       "    <div class=\"atoms\">\n",
       "\n",
       "<div class=\"patom  \">\n",
       "\n",
       "    <div class=\"phrase\"><a target=\"_blank\" href=\"https://shebanq.ancient-data.org/hebrew/text?book=Psalmi&chapter=59&verse=4&version=c&mr=m&qw=q&tp=txt_p&tr=hb&wget=v&qget=v&nget=vt\" title=\"Psalms 59:4\">phrase</a> <span class=\"nd\">841970</span>  <span class=\"function\">Conj</span> <span class=\"typ\">CP</span>\n",
       "    </div>\n",
       "    <div class=\"atoms\">\n",
       "\n",
       "<div class=\"word  \">\n",
       "<div class=\"h\">כִּ֤י </div>\n",
       "<div class=\"sp\"><a target=\"_blank\" href=\"https://shebanq.ancient-data.org/hebrew/text?book=Psalmi&chapter=59&verse=4&version=c&mr=m&qw=q&tp=txt_p&tr=hb&wget=v&qget=v&nget=vt\" title=\"Psalms 59:4\">conj</a></div>\n",
       "<div class=\"gl\">that</div>\n",
       "\n",
       "</div>\n",
       "\n",
       "\n",
       "    </div>\n",
       "\n",
       "\n",
       "</div>\n",
       "\n",
       "<div class=\"patom  \">\n",
       "\n",
       "    <div class=\"phrase\"><a target=\"_blank\" href=\"https://shebanq.ancient-data.org/hebrew/text?book=Psalmi&chapter=59&verse=4&version=c&mr=m&qw=q&tp=txt_p&tr=hb&wget=v&qget=v&nget=vt\" title=\"Psalms 59:4\">phrase</a> <span class=\"nd\">841971</span>  <span class=\"function\">Intj</span> <span class=\"typ\">InjP</span>\n",
       "    </div>\n",
       "    <div class=\"atoms\">\n",
       "\n",
       "<div class=\"word  \">\n",
       "<div class=\"h\">הִנֵּ֪ה </div>\n",
       "<div class=\"sp\"><a target=\"_blank\" href=\"https://shebanq.ancient-data.org/hebrew/text?book=Psalmi&chapter=59&verse=4&version=c&mr=m&qw=q&tp=txt_p&tr=hb&wget=v&qget=v&nget=vt\" title=\"Psalms 59:4\">intj</a></div>\n",
       "<div class=\"gl\">behold</div>\n",
       "\n",
       "</div>\n",
       "\n",
       "\n",
       "    </div>\n",
       "\n",
       "\n",
       "</div>\n",
       "\n",
       "<div class=\"patom  \">\n",
       "\n",
       "    <div class=\"phrase\"><a target=\"_blank\" href=\"https://shebanq.ancient-data.org/hebrew/text?book=Psalmi&chapter=59&verse=4&version=c&mr=m&qw=q&tp=txt_p&tr=hb&wget=v&qget=v&nget=vt\" title=\"Psalms 59:4\">phrase</a> <span class=\"nd\">841972</span>  <span class=\"function\">Pred</span> <span class=\"typ\">VP</span>\n",
       "    </div>\n",
       "    <div class=\"atoms\">\n",
       "\n",
       "<div class=\"word  \">\n",
       "<div class=\"h\">אָֽרְב֡וּ </div>\n",
       "<div class=\"sp\"><a target=\"_blank\" href=\"https://shebanq.ancient-data.org/hebrew/text?book=Psalmi&chapter=59&verse=4&version=c&mr=m&qw=q&tp=txt_p&tr=hb&wget=v&qget=v&nget=vt\" title=\"Psalms 59:4\">verb</a></div>\n",
       "<div class=\"gl\">lie in ambush</div>\n",
       "\n",
       "</div>\n",
       "\n",
       "\n",
       "    </div>\n",
       "\n",
       "\n",
       "</div>\n",
       "\n",
       "<div class=\"patom  \">\n",
       "\n",
       "    <div class=\"phrase\"><a target=\"_blank\" href=\"https://shebanq.ancient-data.org/hebrew/text?book=Psalmi&chapter=59&verse=4&version=c&mr=m&qw=q&tp=txt_p&tr=hb&wget=v&qget=v&nget=vt\" title=\"Psalms 59:4\">phrase</a> <span class=\"nd\">841973</span>  <span class=\"function\">Cmpl</span> <span class=\"typ\">PP</span>\n",
       "    </div>\n",
       "    <div class=\"atoms\">\n",
       "\n",
       "<div class=\"word  \">\n",
       "<div class=\"h\">לְ</div>\n",
       "<div class=\"sp\"><a target=\"_blank\" href=\"https://shebanq.ancient-data.org/hebrew/text?book=Psalmi&chapter=59&verse=4&version=c&mr=m&qw=q&tp=txt_p&tr=hb&wget=v&qget=v&nget=vt\" title=\"Psalms 59:4\">prep</a></div>\n",
       "<div class=\"gl\">to</div>\n",
       "\n",
       "</div>\n",
       "\n",
       "<div class=\"word  \">\n",
       "<div class=\"h\">נַפְשִׁ֗י </div>\n",
       "<div class=\"sp\"><a target=\"_blank\" href=\"https://shebanq.ancient-data.org/hebrew/text?book=Psalmi&chapter=59&verse=4&version=c&mr=m&qw=q&tp=txt_p&tr=hb&wget=v&qget=v&nget=vt\" title=\"Psalms 59:4\">subs</a></div>\n",
       "<div class=\"gl\">soul</div>\n",
       "\n",
       "</div>\n",
       "\n",
       "\n",
       "    </div>\n",
       "\n",
       "\n",
       "</div>\n",
       "\n",
       "\n",
       "    </div>\n",
       "\n",
       "\n",
       "</div>\n",
       "\n",
       "<div class=\"catom  \">\n",
       "\n",
       "    <div class=\"clause\"><a target=\"_blank\" href=\"https://shebanq.ancient-data.org/hebrew/text?book=Psalmi&chapter=59&verse=4&version=c&mr=m&qw=q&tp=txt_p&tr=hb&wget=v&qget=v&nget=vt\" title=\"Psalms 59:4\">clause</a> <span class=\"nd\">492969</span>  <span class=\"rela\">Coor</span> <span class=\"typ\">ZYqX</span>\n",
       "    </div>\n",
       "    <div class=\"atoms\">\n",
       "\n",
       "<div class=\"patom  \">\n",
       "\n",
       "    <div class=\"phrase\"><a target=\"_blank\" href=\"https://shebanq.ancient-data.org/hebrew/text?book=Psalmi&chapter=59&verse=4&version=c&mr=m&qw=q&tp=txt_p&tr=hb&wget=v&qget=v&nget=vt\" title=\"Psalms 59:4\">phrase</a> <span class=\"nd\">841974</span>  <span class=\"function\">Pred</span> <span class=\"typ\">VP</span>\n",
       "    </div>\n",
       "    <div class=\"atoms\">\n",
       "\n",
       "<div class=\"word  \">\n",
       "<div class=\"h\">יָג֣וּרוּ </div>\n",
       "<div class=\"sp\"><a target=\"_blank\" href=\"https://shebanq.ancient-data.org/hebrew/text?book=Psalmi&chapter=59&verse=4&version=c&mr=m&qw=q&tp=txt_p&tr=hb&wget=v&qget=v&nget=vt\" title=\"Psalms 59:4\">verb</a></div>\n",
       "<div class=\"gl\">attack</div>\n",
       "\n",
       "</div>\n",
       "\n",
       "\n",
       "    </div>\n",
       "\n",
       "\n",
       "</div>\n",
       "\n",
       "<div class=\"patom  \">\n",
       "\n",
       "    <div class=\"phrase\"><a target=\"_blank\" href=\"https://shebanq.ancient-data.org/hebrew/text?book=Psalmi&chapter=59&verse=4&version=c&mr=m&qw=q&tp=txt_p&tr=hb&wget=v&qget=v&nget=vt\" title=\"Psalms 59:4\">phrase</a> <span class=\"nd\">841975</span>  <span class=\"function\">Cmpl</span> <span class=\"typ\">PP</span>\n",
       "    </div>\n",
       "    <div class=\"atoms\">\n",
       "\n",
       "<div class=\"word  \">\n",
       "<div class=\"h\">עָלַ֣י </div>\n",
       "<div class=\"sp\"><a target=\"_blank\" href=\"https://shebanq.ancient-data.org/hebrew/text?book=Psalmi&chapter=59&verse=4&version=c&mr=m&qw=q&tp=txt_p&tr=hb&wget=v&qget=v&nget=vt\" title=\"Psalms 59:4\">prep</a></div>\n",
       "<div class=\"gl\">upon</div>\n",
       "\n",
       "</div>\n",
       "\n",
       "\n",
       "    </div>\n",
       "\n",
       "\n",
       "</div>\n",
       "\n",
       "<div class=\"patom  \">\n",
       "\n",
       "    <div class=\"phrase\"><a target=\"_blank\" href=\"https://shebanq.ancient-data.org/hebrew/text?book=Psalmi&chapter=59&verse=4&version=c&mr=m&qw=q&tp=txt_p&tr=hb&wget=v&qget=v&nget=vt\" title=\"Psalms 59:4\">phrase</a> <span class=\"nd\">841976</span>  <span class=\"function\">Subj</span> <span class=\"typ\">NP</span>\n",
       "    </div>\n",
       "    <div class=\"atoms\">\n",
       "\n",
       "<div class=\"word  \">\n",
       "<div class=\"h\">עַזִ֑ים </div>\n",
       "<div class=\"sp\"><a target=\"_blank\" href=\"https://shebanq.ancient-data.org/hebrew/text?book=Psalmi&chapter=59&verse=4&version=c&mr=m&qw=q&tp=txt_p&tr=hb&wget=v&qget=v&nget=vt\" title=\"Psalms 59:4\">adjv</a></div>\n",
       "<div class=\"gl\">strong</div>\n",
       "\n",
       "</div>\n",
       "\n",
       "\n",
       "    </div>\n",
       "\n",
       "\n",
       "</div>\n",
       "\n",
       "<div class=\"patom   hl\">\n",
       "\n",
       "    <div class=\"phrase\"><a target=\"_blank\" href=\"https://shebanq.ancient-data.org/hebrew/text?book=Psalmi&chapter=59&verse=4&version=c&mr=m&qw=q&tp=txt_p&tr=hb&wget=v&qget=v&nget=vt\" title=\"Psalms 59:4\">phrase</a> <span class=\"nd\">841977</span>  <span class=\"function\">Adju</span> <span class=\"typ\">NP</span>\n",
       "    </div>\n",
       "    <div class=\"atoms\">\n",
       "\n",
       "<div class=\"word  \">\n",
       "<div class=\"h\">לֹא־</div>\n",
       "<div class=\"sp\"><a target=\"_blank\" href=\"https://shebanq.ancient-data.org/hebrew/text?book=Psalmi&chapter=59&verse=4&version=c&mr=m&qw=q&tp=txt_p&tr=hb&wget=v&qget=v&nget=vt\" title=\"Psalms 59:4\">nega</a></div>\n",
       "<div class=\"gl\">not</div>\n",
       "\n",
       "</div>\n",
       "\n",
       "<div class=\"word  \">\n",
       "<div class=\"h\">פִשְׁעִ֖י </div>\n",
       "<div class=\"sp\"><a target=\"_blank\" href=\"https://shebanq.ancient-data.org/hebrew/text?book=Psalmi&chapter=59&verse=4&version=c&mr=m&qw=q&tp=txt_p&tr=hb&wget=v&qget=v&nget=vt\" title=\"Psalms 59:4\">subs</a></div>\n",
       "<div class=\"gl\">rebellion</div>\n",
       "\n",
       "</div>\n",
       "\n",
       "<div class=\"word  \">\n",
       "<div class=\"h\">וְ</div>\n",
       "<div class=\"sp\"><a target=\"_blank\" href=\"https://shebanq.ancient-data.org/hebrew/text?book=Psalmi&chapter=59&verse=4&version=c&mr=m&qw=q&tp=txt_p&tr=hb&wget=v&qget=v&nget=vt\" title=\"Psalms 59:4\">conj</a></div>\n",
       "<div class=\"gl\">and</div>\n",
       "\n",
       "</div>\n",
       "\n",
       "<div class=\"word  \">\n",
       "<div class=\"h\">לֹא־</div>\n",
       "<div class=\"sp\"><a target=\"_blank\" href=\"https://shebanq.ancient-data.org/hebrew/text?book=Psalmi&chapter=59&verse=4&version=c&mr=m&qw=q&tp=txt_p&tr=hb&wget=v&qget=v&nget=vt\" title=\"Psalms 59:4\">nega</a></div>\n",
       "<div class=\"gl\">not</div>\n",
       "\n",
       "</div>\n",
       "\n",
       "<div class=\"word  \">\n",
       "<div class=\"h\">חַטָּאתִ֣י </div>\n",
       "<div class=\"sp\"><a target=\"_blank\" href=\"https://shebanq.ancient-data.org/hebrew/text?book=Psalmi&chapter=59&verse=4&version=c&mr=m&qw=q&tp=txt_p&tr=hb&wget=v&qget=v&nget=vt\" title=\"Psalms 59:4\">subs</a></div>\n",
       "<div class=\"gl\">sin</div>\n",
       "\n",
       "</div>\n",
       "\n",
       "\n",
       "    </div>\n",
       "\n",
       "\n",
       "</div>\n",
       "\n",
       "\n",
       "    </div>\n",
       "\n",
       "\n",
       "</div>\n",
       "\n",
       "<div class=\"catom  \">\n",
       "\n",
       "    <div class=\"clause\"><a target=\"_blank\" href=\"https://shebanq.ancient-data.org/hebrew/text?book=Psalmi&chapter=59&verse=4&version=c&mr=m&qw=q&tp=txt_p&tr=hb&wget=v&qget=v&nget=vt\" title=\"Psalms 59:4\">clause</a> <span class=\"nd\">492970</span>  <span class=\"rela\">NA</span> <span class=\"typ\">Voct</span>\n",
       "    </div>\n",
       "    <div class=\"atoms\">\n",
       "\n",
       "<div class=\"patom  \">\n",
       "\n",
       "    <div class=\"phrase\"><a target=\"_blank\" href=\"https://shebanq.ancient-data.org/hebrew/text?book=Psalmi&chapter=59&verse=4&version=c&mr=m&qw=q&tp=txt_p&tr=hb&wget=v&qget=v&nget=vt\" title=\"Psalms 59:4\">phrase</a> <span class=\"nd\">841978</span>  <span class=\"function\">Voct</span> <span class=\"typ\">PrNP</span>\n",
       "    </div>\n",
       "    <div class=\"atoms\">\n",
       "\n",
       "<div class=\"word  \">\n",
       "<div class=\"h\">יְהוָֽה׃ </div>\n",
       "<div class=\"sp\"><a target=\"_blank\" href=\"https://shebanq.ancient-data.org/hebrew/text?book=Psalmi&chapter=59&verse=4&version=c&mr=m&qw=q&tp=txt_p&tr=hb&wget=v&qget=v&nget=vt\" title=\"Psalms 59:4\">nmpr</a></div>\n",
       "<div class=\"gl\">YHWH</div>\n",
       "\n",
       "</div>\n",
       "\n",
       "\n",
       "    </div>\n",
       "\n",
       "\n",
       "</div>\n",
       "\n",
       "\n",
       "    </div>\n",
       "\n",
       "\n",
       "</div>\n",
       "\n",
       "\n",
       "    </div>\n",
       "\n",
       "\n",
       "</div>\n",
       "\n",
       "\n",
       "</div>\n"
      ],
      "text/plain": [
       "<IPython.core.display.HTML object>"
      ]
     },
     "metadata": {},
     "output_type": "display_data"
    },
    {
     "data": {
      "text/markdown": [
       "\n",
       "## Result 1\n",
       "(**phrase** `865701`)\n"
      ],
      "text/plain": [
       "<IPython.core.display.Markdown object>"
      ]
     },
     "metadata": {},
     "output_type": "display_data"
    },
    {
     "data": {
      "text/html": [
       "<div class=\"verse  \">\n",
       "\n",
       "    <div class=\"vl\">\n",
       "        <div class=\"vs\"><a target=\"_blank\" href=\"https://shebanq.ancient-data.org/hebrew/text?book=Proverbia&chapter=23&verse=29&version=c&mr=m&qw=q&tp=txt_p&tr=hb&wget=v&qget=v&nget=vt\" title=\"show this passage in SHEBANQ\">Proverbs 23:29</a></div><div class=\"nd\">1433608</div>\n",
       "    </div>\n",
       "\n",
       "<div class=\"satom  \">\n",
       "\n",
       "    <div class=\"sentence\"><a target=\"_blank\" href=\"https://shebanq.ancient-data.org/hebrew/text?book=Proverbia&chapter=23&verse=29&version=c&mr=m&qw=q&tp=txt_p&tr=hb&wget=v&qget=v&nget=vt\" title=\"Proverbs 23:29\">sentence</a> <span class=\"nd\">1226759</span> \n",
       "    </div>\n",
       "    <div class=\"atoms\">\n",
       "\n",
       "<div class=\"catom  \">\n",
       "\n",
       "    <div class=\"clause\"><a target=\"_blank\" href=\"https://shebanq.ancient-data.org/hebrew/text?book=Proverbia&chapter=23&verse=29&version=c&mr=m&qw=q&tp=txt_p&tr=hb&wget=v&qget=v&nget=vt\" title=\"Proverbs 23:29\">clause</a> <span class=\"nd\">502111</span>  <span class=\"rela\">NA</span> <span class=\"typ\">NmCl</span>\n",
       "    </div>\n",
       "    <div class=\"atoms\">\n",
       "\n",
       "<div class=\"patom  \">\n",
       "\n",
       "    <div class=\"phrase\"><a target=\"_blank\" href=\"https://shebanq.ancient-data.org/hebrew/text?book=Proverbia&chapter=23&verse=29&version=c&mr=m&qw=q&tp=txt_p&tr=hb&wget=v&qget=v&nget=vt\" title=\"Proverbs 23:29\">phrase</a> <span class=\"nd\">865700</span>  <span class=\"function\">PreC</span> <span class=\"typ\">PP</span>\n",
       "    </div>\n",
       "    <div class=\"atoms\">\n",
       "\n",
       "<div class=\"word  \">\n",
       "<div class=\"h\">לְ</div>\n",
       "<div class=\"sp\"><a target=\"_blank\" href=\"https://shebanq.ancient-data.org/hebrew/text?book=Proverbia&chapter=23&verse=29&version=c&mr=m&qw=q&tp=txt_p&tr=hb&wget=v&qget=v&nget=vt\" title=\"Proverbs 23:29\">prep</a></div>\n",
       "<div class=\"gl\">to</div>\n",
       "\n",
       "</div>\n",
       "\n",
       "<div class=\"word  \">\n",
       "<div class=\"h\">מִ֨י </div>\n",
       "<div class=\"sp\"><a target=\"_blank\" href=\"https://shebanq.ancient-data.org/hebrew/text?book=Proverbia&chapter=23&verse=29&version=c&mr=m&qw=q&tp=txt_p&tr=hb&wget=v&qget=v&nget=vt\" title=\"Proverbs 23:29\">prin</a></div>\n",
       "<div class=\"gl\">who</div>\n",
       "\n",
       "</div>\n",
       "\n",
       "\n",
       "    </div>\n",
       "\n",
       "\n",
       "</div>\n",
       "\n",
       "<div class=\"patom   hl\">\n",
       "\n",
       "    <div class=\"phrase\"><a target=\"_blank\" href=\"https://shebanq.ancient-data.org/hebrew/text?book=Proverbia&chapter=23&verse=29&version=c&mr=m&qw=q&tp=txt_p&tr=hb&wget=v&qget=v&nget=vt\" title=\"Proverbs 23:29\">phrase</a> <span class=\"nd\">865701</span>  <span class=\"function\">Subj</span> <span class=\"typ\">NP</span>\n",
       "    </div>\n",
       "    <div class=\"atoms\">\n",
       "\n",
       "<div class=\"word  \">\n",
       "<div class=\"h\">אֹ֥וי </div>\n",
       "<div class=\"sp\"><a target=\"_blank\" href=\"https://shebanq.ancient-data.org/hebrew/text?book=Proverbia&chapter=23&verse=29&version=c&mr=m&qw=q&tp=txt_p&tr=hb&wget=v&qget=v&nget=vt\" title=\"Proverbs 23:29\">intj</a></div>\n",
       "<div class=\"gl\">woe</div>\n",
       "\n",
       "</div>\n",
       "\n",
       "\n",
       "    </div>\n",
       "\n",
       "\n",
       "</div>\n",
       "\n",
       "\n",
       "    </div>\n",
       "\n",
       "\n",
       "</div>\n",
       "\n",
       "\n",
       "    </div>\n",
       "\n",
       "\n",
       "</div>\n",
       "\n",
       "<div class=\"satom  \">\n",
       "\n",
       "    <div class=\"sentence\"><a target=\"_blank\" href=\"https://shebanq.ancient-data.org/hebrew/text?book=Proverbia&chapter=23&verse=29&version=c&mr=m&qw=q&tp=txt_p&tr=hb&wget=v&qget=v&nget=vt\" title=\"Proverbs 23:29\">sentence</a> <span class=\"nd\">1226760</span> \n",
       "    </div>\n",
       "    <div class=\"atoms\">\n",
       "\n",
       "<div class=\"catom  \">\n",
       "\n",
       "    <div class=\"clause\"><a target=\"_blank\" href=\"https://shebanq.ancient-data.org/hebrew/text?book=Proverbia&chapter=23&verse=29&version=c&mr=m&qw=q&tp=txt_p&tr=hb&wget=v&qget=v&nget=vt\" title=\"Proverbs 23:29\">clause</a> <span class=\"nd\">502112</span>  <span class=\"rela\">NA</span> <span class=\"typ\">NmCl</span>\n",
       "    </div>\n",
       "    <div class=\"atoms\">\n",
       "\n",
       "<div class=\"patom  \">\n",
       "\n",
       "    <div class=\"phrase\"><a target=\"_blank\" href=\"https://shebanq.ancient-data.org/hebrew/text?book=Proverbia&chapter=23&verse=29&version=c&mr=m&qw=q&tp=txt_p&tr=hb&wget=v&qget=v&nget=vt\" title=\"Proverbs 23:29\">phrase</a> <span class=\"nd\">865702</span>  <span class=\"function\">PreC</span> <span class=\"typ\">PP</span>\n",
       "    </div>\n",
       "    <div class=\"atoms\">\n",
       "\n",
       "<div class=\"word  \">\n",
       "<div class=\"h\">לְ</div>\n",
       "<div class=\"sp\"><a target=\"_blank\" href=\"https://shebanq.ancient-data.org/hebrew/text?book=Proverbia&chapter=23&verse=29&version=c&mr=m&qw=q&tp=txt_p&tr=hb&wget=v&qget=v&nget=vt\" title=\"Proverbs 23:29\">prep</a></div>\n",
       "<div class=\"gl\">to</div>\n",
       "\n",
       "</div>\n",
       "\n",
       "<div class=\"word  \">\n",
       "<div class=\"h\">מִ֪י </div>\n",
       "<div class=\"sp\"><a target=\"_blank\" href=\"https://shebanq.ancient-data.org/hebrew/text?book=Proverbia&chapter=23&verse=29&version=c&mr=m&qw=q&tp=txt_p&tr=hb&wget=v&qget=v&nget=vt\" title=\"Proverbs 23:29\">prin</a></div>\n",
       "<div class=\"gl\">who</div>\n",
       "\n",
       "</div>\n",
       "\n",
       "\n",
       "    </div>\n",
       "\n",
       "\n",
       "</div>\n",
       "\n",
       "<div class=\"patom  \">\n",
       "\n",
       "    <div class=\"phrase\"><a target=\"_blank\" href=\"https://shebanq.ancient-data.org/hebrew/text?book=Proverbia&chapter=23&verse=29&version=c&mr=m&qw=q&tp=txt_p&tr=hb&wget=v&qget=v&nget=vt\" title=\"Proverbs 23:29\">phrase</a> <span class=\"nd\">865703</span>  <span class=\"function\">Subj</span> <span class=\"typ\">NP</span>\n",
       "    </div>\n",
       "    <div class=\"atoms\">\n",
       "\n",
       "<div class=\"word  \">\n",
       "<div class=\"h\">אֲבֹ֡וי </div>\n",
       "<div class=\"sp\"><a target=\"_blank\" href=\"https://shebanq.ancient-data.org/hebrew/text?book=Proverbia&chapter=23&verse=29&version=c&mr=m&qw=q&tp=txt_p&tr=hb&wget=v&qget=v&nget=vt\" title=\"Proverbs 23:29\">subs</a></div>\n",
       "<div class=\"gl\">desire</div>\n",
       "\n",
       "</div>\n",
       "\n",
       "\n",
       "    </div>\n",
       "\n",
       "\n",
       "</div>\n",
       "\n",
       "\n",
       "    </div>\n",
       "\n",
       "\n",
       "</div>\n",
       "\n",
       "\n",
       "    </div>\n",
       "\n",
       "\n",
       "</div>\n",
       "\n",
       "<div class=\"satom  \">\n",
       "\n",
       "    <div class=\"sentence\"><a target=\"_blank\" href=\"https://shebanq.ancient-data.org/hebrew/text?book=Proverbia&chapter=23&verse=29&version=c&mr=m&qw=q&tp=txt_p&tr=hb&wget=v&qget=v&nget=vt\" title=\"Proverbs 23:29\">sentence</a> <span class=\"nd\">1226761</span> \n",
       "    </div>\n",
       "    <div class=\"atoms\">\n",
       "\n",
       "<div class=\"catom  \">\n",
       "\n",
       "    <div class=\"clause\"><a target=\"_blank\" href=\"https://shebanq.ancient-data.org/hebrew/text?book=Proverbia&chapter=23&verse=29&version=c&mr=m&qw=q&tp=txt_p&tr=hb&wget=v&qget=v&nget=vt\" title=\"Proverbs 23:29\">clause</a> <span class=\"nd\">502113</span>  <span class=\"rela\">NA</span> <span class=\"typ\">NmCl</span>\n",
       "    </div>\n",
       "    <div class=\"atoms\">\n",
       "\n",
       "<div class=\"patom  \">\n",
       "\n",
       "    <div class=\"phrase\"><a target=\"_blank\" href=\"https://shebanq.ancient-data.org/hebrew/text?book=Proverbia&chapter=23&verse=29&version=c&mr=m&qw=q&tp=txt_p&tr=hb&wget=v&qget=v&nget=vt\" title=\"Proverbs 23:29\">phrase</a> <span class=\"nd\">865704</span>  <span class=\"function\">PreC</span> <span class=\"typ\">PP</span>\n",
       "    </div>\n",
       "    <div class=\"atoms\">\n",
       "\n",
       "<div class=\"word  \">\n",
       "<div class=\"h\">לְ</div>\n",
       "<div class=\"sp\"><a target=\"_blank\" href=\"https://shebanq.ancient-data.org/hebrew/text?book=Proverbia&chapter=23&verse=29&version=c&mr=m&qw=q&tp=txt_p&tr=hb&wget=v&qget=v&nget=vt\" title=\"Proverbs 23:29\">prep</a></div>\n",
       "<div class=\"gl\">to</div>\n",
       "\n",
       "</div>\n",
       "\n",
       "<div class=\"word  \">\n",
       "<div class=\"h\">מִ֤י </div>\n",
       "<div class=\"sp\"><a target=\"_blank\" href=\"https://shebanq.ancient-data.org/hebrew/text?book=Proverbia&chapter=23&verse=29&version=c&mr=m&qw=q&tp=txt_p&tr=hb&wget=v&qget=v&nget=vt\" title=\"Proverbs 23:29\">prin</a></div>\n",
       "<div class=\"gl\">who</div>\n",
       "\n",
       "</div>\n",
       "\n",
       "\n",
       "    </div>\n",
       "\n",
       "\n",
       "</div>\n",
       "\n",
       "<div class=\"patom  \">\n",
       "\n",
       "    <div class=\"phrase\"><a target=\"_blank\" href=\"https://shebanq.ancient-data.org/hebrew/text?book=Proverbia&chapter=23&verse=29&version=c&mr=m&qw=q&tp=txt_p&tr=hb&wget=v&qget=v&nget=vt\" title=\"Proverbs 23:29\">phrase</a> <span class=\"nd\">865705</span>  <span class=\"function\">Subj</span> <span class=\"typ\">NP</span>\n",
       "    </div>\n",
       "    <div class=\"atoms\">\n",
       "\n",
       "<div class=\"word  \">\n",
       "<div class=\"h\">מִדְיָנִ֨ים ׀ </div>\n",
       "<div class=\"sp\"><a target=\"_blank\" href=\"https://shebanq.ancient-data.org/hebrew/text?book=Proverbia&chapter=23&verse=29&version=c&mr=m&qw=q&tp=txt_p&tr=hb&wget=v&qget=v&nget=vt\" title=\"Proverbs 23:29\">subs</a></div>\n",
       "<div class=\"gl\">contention</div>\n",
       "\n",
       "</div>\n",
       "\n",
       "\n",
       "    </div>\n",
       "\n",
       "\n",
       "</div>\n",
       "\n",
       "\n",
       "    </div>\n",
       "\n",
       "\n",
       "</div>\n",
       "\n",
       "\n",
       "    </div>\n",
       "\n",
       "\n",
       "</div>\n",
       "\n",
       "<div class=\"satom  \">\n",
       "\n",
       "    <div class=\"sentence\"><a target=\"_blank\" href=\"https://shebanq.ancient-data.org/hebrew/text?book=Proverbia&chapter=23&verse=29&version=c&mr=m&qw=q&tp=txt_p&tr=hb&wget=v&qget=v&nget=vt\" title=\"Proverbs 23:29\">sentence</a> <span class=\"nd\">1226762</span> \n",
       "    </div>\n",
       "    <div class=\"atoms\">\n",
       "\n",
       "<div class=\"catom  \">\n",
       "\n",
       "    <div class=\"clause\"><a target=\"_blank\" href=\"https://shebanq.ancient-data.org/hebrew/text?book=Proverbia&chapter=23&verse=29&version=c&mr=m&qw=q&tp=txt_p&tr=hb&wget=v&qget=v&nget=vt\" title=\"Proverbs 23:29\">clause</a> <span class=\"nd\">502114</span>  <span class=\"rela\">NA</span> <span class=\"typ\">NmCl</span>\n",
       "    </div>\n",
       "    <div class=\"atoms\">\n",
       "\n",
       "<div class=\"patom  \">\n",
       "\n",
       "    <div class=\"phrase\"><a target=\"_blank\" href=\"https://shebanq.ancient-data.org/hebrew/text?book=Proverbia&chapter=23&verse=29&version=c&mr=m&qw=q&tp=txt_p&tr=hb&wget=v&qget=v&nget=vt\" title=\"Proverbs 23:29\">phrase</a> <span class=\"nd\">865706</span>  <span class=\"function\">PreC</span> <span class=\"typ\">PP</span>\n",
       "    </div>\n",
       "    <div class=\"atoms\">\n",
       "\n",
       "<div class=\"word  \">\n",
       "<div class=\"h\">לְ</div>\n",
       "<div class=\"sp\"><a target=\"_blank\" href=\"https://shebanq.ancient-data.org/hebrew/text?book=Proverbia&chapter=23&verse=29&version=c&mr=m&qw=q&tp=txt_p&tr=hb&wget=v&qget=v&nget=vt\" title=\"Proverbs 23:29\">prep</a></div>\n",
       "<div class=\"gl\">to</div>\n",
       "\n",
       "</div>\n",
       "\n",
       "<div class=\"word  \">\n",
       "<div class=\"h\">מִ֥י </div>\n",
       "<div class=\"sp\"><a target=\"_blank\" href=\"https://shebanq.ancient-data.org/hebrew/text?book=Proverbia&chapter=23&verse=29&version=c&mr=m&qw=q&tp=txt_p&tr=hb&wget=v&qget=v&nget=vt\" title=\"Proverbs 23:29\">prin</a></div>\n",
       "<div class=\"gl\">who</div>\n",
       "\n",
       "</div>\n",
       "\n",
       "\n",
       "    </div>\n",
       "\n",
       "\n",
       "</div>\n",
       "\n",
       "<div class=\"patom  \">\n",
       "\n",
       "    <div class=\"phrase\"><a target=\"_blank\" href=\"https://shebanq.ancient-data.org/hebrew/text?book=Proverbia&chapter=23&verse=29&version=c&mr=m&qw=q&tp=txt_p&tr=hb&wget=v&qget=v&nget=vt\" title=\"Proverbs 23:29\">phrase</a> <span class=\"nd\">865707</span>  <span class=\"function\">Subj</span> <span class=\"typ\">NP</span>\n",
       "    </div>\n",
       "    <div class=\"atoms\">\n",
       "\n",
       "<div class=\"word  \">\n",
       "<div class=\"h\">שִׂ֗יחַ </div>\n",
       "<div class=\"sp\"><a target=\"_blank\" href=\"https://shebanq.ancient-data.org/hebrew/text?book=Proverbia&chapter=23&verse=29&version=c&mr=m&qw=q&tp=txt_p&tr=hb&wget=v&qget=v&nget=vt\" title=\"Proverbs 23:29\">subs</a></div>\n",
       "<div class=\"gl\">concern</div>\n",
       "\n",
       "</div>\n",
       "\n",
       "\n",
       "    </div>\n",
       "\n",
       "\n",
       "</div>\n",
       "\n",
       "\n",
       "    </div>\n",
       "\n",
       "\n",
       "</div>\n",
       "\n",
       "\n",
       "    </div>\n",
       "\n",
       "\n",
       "</div>\n",
       "\n",
       "<div class=\"satom  \">\n",
       "\n",
       "    <div class=\"sentence\"><a target=\"_blank\" href=\"https://shebanq.ancient-data.org/hebrew/text?book=Proverbia&chapter=23&verse=29&version=c&mr=m&qw=q&tp=txt_p&tr=hb&wget=v&qget=v&nget=vt\" title=\"Proverbs 23:29\">sentence</a> <span class=\"nd\">1226763</span> \n",
       "    </div>\n",
       "    <div class=\"atoms\">\n",
       "\n",
       "<div class=\"catom  \">\n",
       "\n",
       "    <div class=\"clause\"><a target=\"_blank\" href=\"https://shebanq.ancient-data.org/hebrew/text?book=Proverbia&chapter=23&verse=29&version=c&mr=m&qw=q&tp=txt_p&tr=hb&wget=v&qget=v&nget=vt\" title=\"Proverbs 23:29\">clause</a> <span class=\"nd\">502115</span>  <span class=\"rela\">NA</span> <span class=\"typ\">NmCl</span>\n",
       "    </div>\n",
       "    <div class=\"atoms\">\n",
       "\n",
       "<div class=\"patom  \">\n",
       "\n",
       "    <div class=\"phrase\"><a target=\"_blank\" href=\"https://shebanq.ancient-data.org/hebrew/text?book=Proverbia&chapter=23&verse=29&version=c&mr=m&qw=q&tp=txt_p&tr=hb&wget=v&qget=v&nget=vt\" title=\"Proverbs 23:29\">phrase</a> <span class=\"nd\">865708</span>  <span class=\"function\">PreC</span> <span class=\"typ\">PP</span>\n",
       "    </div>\n",
       "    <div class=\"atoms\">\n",
       "\n",
       "<div class=\"word  \">\n",
       "<div class=\"h\">לְ֭</div>\n",
       "<div class=\"sp\"><a target=\"_blank\" href=\"https://shebanq.ancient-data.org/hebrew/text?book=Proverbia&chapter=23&verse=29&version=c&mr=m&qw=q&tp=txt_p&tr=hb&wget=v&qget=v&nget=vt\" title=\"Proverbs 23:29\">prep</a></div>\n",
       "<div class=\"gl\">to</div>\n",
       "\n",
       "</div>\n",
       "\n",
       "<div class=\"word  \">\n",
       "<div class=\"h\">מִי </div>\n",
       "<div class=\"sp\"><a target=\"_blank\" href=\"https://shebanq.ancient-data.org/hebrew/text?book=Proverbia&chapter=23&verse=29&version=c&mr=m&qw=q&tp=txt_p&tr=hb&wget=v&qget=v&nget=vt\" title=\"Proverbs 23:29\">prin</a></div>\n",
       "<div class=\"gl\">who</div>\n",
       "\n",
       "</div>\n",
       "\n",
       "\n",
       "    </div>\n",
       "\n",
       "\n",
       "</div>\n",
       "\n",
       "<div class=\"patom  l \">\n",
       "\n",
       "    <div class=\"phrase\"><a target=\"_blank\" href=\"https://shebanq.ancient-data.org/hebrew/text?book=Proverbia&chapter=23&verse=29&version=c&mr=m&qw=q&tp=txt_p&tr=hb&wget=v&qget=v&nget=vt\" title=\"Proverbs 23:29\">phrase</a> <span class=\"nd\">865709</span>  <span class=\"function\">Subj</span> <span class=\"typ\">NP</span>\n",
       "    </div>\n",
       "    <div class=\"atoms\">\n",
       "\n",
       "<div class=\"word  \">\n",
       "<div class=\"h\">פְּצָעִ֣ים </div>\n",
       "<div class=\"sp\"><a target=\"_blank\" href=\"https://shebanq.ancient-data.org/hebrew/text?book=Proverbia&chapter=23&verse=29&version=c&mr=m&qw=q&tp=txt_p&tr=hb&wget=v&qget=v&nget=vt\" title=\"Proverbs 23:29\">subs</a></div>\n",
       "<div class=\"gl\">bruise</div>\n",
       "\n",
       "</div>\n",
       "\n",
       "\n",
       "    </div>\n",
       "\n",
       "\n",
       "</div>\n",
       "\n",
       "<div class=\"patom  r \">\n",
       "\n",
       "    <div class=\"phrase\"><a target=\"_blank\" href=\"https://shebanq.ancient-data.org/hebrew/text?book=Proverbia&chapter=23&verse=29&version=c&mr=m&qw=q&tp=txt_p&tr=hb&wget=v&qget=v&nget=vt\" title=\"Proverbs 23:29\">phrase</a> <span class=\"nd\">865709</span>  <span class=\"function\">Subj</span> <span class=\"typ\">NP</span>\n",
       "    </div>\n",
       "    <div class=\"atoms\">\n",
       "\n",
       "<div class=\"word  \">\n",
       "<div class=\"h\">חִנָּ֑ם </div>\n",
       "<div class=\"sp\"><a target=\"_blank\" href=\"https://shebanq.ancient-data.org/hebrew/text?book=Proverbia&chapter=23&verse=29&version=c&mr=m&qw=q&tp=txt_p&tr=hb&wget=v&qget=v&nget=vt\" title=\"Proverbs 23:29\">advb</a></div>\n",
       "<div class=\"gl\">in vain</div>\n",
       "\n",
       "</div>\n",
       "\n",
       "\n",
       "    </div>\n",
       "\n",
       "\n",
       "</div>\n",
       "\n",
       "\n",
       "    </div>\n",
       "\n",
       "\n",
       "</div>\n",
       "\n",
       "\n",
       "    </div>\n",
       "\n",
       "\n",
       "</div>\n",
       "\n",
       "<div class=\"satom  \">\n",
       "\n",
       "    <div class=\"sentence\"><a target=\"_blank\" href=\"https://shebanq.ancient-data.org/hebrew/text?book=Proverbia&chapter=23&verse=29&version=c&mr=m&qw=q&tp=txt_p&tr=hb&wget=v&qget=v&nget=vt\" title=\"Proverbs 23:29\">sentence</a> <span class=\"nd\">1226764</span> \n",
       "    </div>\n",
       "    <div class=\"atoms\">\n",
       "\n",
       "<div class=\"catom  \">\n",
       "\n",
       "    <div class=\"clause\"><a target=\"_blank\" href=\"https://shebanq.ancient-data.org/hebrew/text?book=Proverbia&chapter=23&verse=29&version=c&mr=m&qw=q&tp=txt_p&tr=hb&wget=v&qget=v&nget=vt\" title=\"Proverbs 23:29\">clause</a> <span class=\"nd\">502116</span>  <span class=\"rela\">NA</span> <span class=\"typ\">NmCl</span>\n",
       "    </div>\n",
       "    <div class=\"atoms\">\n",
       "\n",
       "<div class=\"patom  \">\n",
       "\n",
       "    <div class=\"phrase\"><a target=\"_blank\" href=\"https://shebanq.ancient-data.org/hebrew/text?book=Proverbia&chapter=23&verse=29&version=c&mr=m&qw=q&tp=txt_p&tr=hb&wget=v&qget=v&nget=vt\" title=\"Proverbs 23:29\">phrase</a> <span class=\"nd\">865710</span>  <span class=\"function\">PreC</span> <span class=\"typ\">PP</span>\n",
       "    </div>\n",
       "    <div class=\"atoms\">\n",
       "\n",
       "<div class=\"word  \">\n",
       "<div class=\"h\">לְ֝</div>\n",
       "<div class=\"sp\"><a target=\"_blank\" href=\"https://shebanq.ancient-data.org/hebrew/text?book=Proverbia&chapter=23&verse=29&version=c&mr=m&qw=q&tp=txt_p&tr=hb&wget=v&qget=v&nget=vt\" title=\"Proverbs 23:29\">prep</a></div>\n",
       "<div class=\"gl\">to</div>\n",
       "\n",
       "</div>\n",
       "\n",
       "<div class=\"word  \">\n",
       "<div class=\"h\">מִ֗י </div>\n",
       "<div class=\"sp\"><a target=\"_blank\" href=\"https://shebanq.ancient-data.org/hebrew/text?book=Proverbia&chapter=23&verse=29&version=c&mr=m&qw=q&tp=txt_p&tr=hb&wget=v&qget=v&nget=vt\" title=\"Proverbs 23:29\">prin</a></div>\n",
       "<div class=\"gl\">who</div>\n",
       "\n",
       "</div>\n",
       "\n",
       "\n",
       "    </div>\n",
       "\n",
       "\n",
       "</div>\n",
       "\n",
       "<div class=\"patom  \">\n",
       "\n",
       "    <div class=\"phrase\"><a target=\"_blank\" href=\"https://shebanq.ancient-data.org/hebrew/text?book=Proverbia&chapter=23&verse=29&version=c&mr=m&qw=q&tp=txt_p&tr=hb&wget=v&qget=v&nget=vt\" title=\"Proverbs 23:29\">phrase</a> <span class=\"nd\">865711</span>  <span class=\"function\">Subj</span> <span class=\"typ\">NP</span>\n",
       "    </div>\n",
       "    <div class=\"atoms\">\n",
       "\n",
       "<div class=\"word  \">\n",
       "<div class=\"h\">חַכְלִל֥וּת </div>\n",
       "<div class=\"sp\"><a target=\"_blank\" href=\"https://shebanq.ancient-data.org/hebrew/text?book=Proverbia&chapter=23&verse=29&version=c&mr=m&qw=q&tp=txt_p&tr=hb&wget=v&qget=v&nget=vt\" title=\"Proverbs 23:29\">subs</a></div>\n",
       "<div class=\"gl\">dullness</div>\n",
       "\n",
       "</div>\n",
       "\n",
       "<div class=\"word  \">\n",
       "<div class=\"h\">עֵינָֽיִם׃ </div>\n",
       "<div class=\"sp\"><a target=\"_blank\" href=\"https://shebanq.ancient-data.org/hebrew/text?book=Proverbia&chapter=23&verse=29&version=c&mr=m&qw=q&tp=txt_p&tr=hb&wget=v&qget=v&nget=vt\" title=\"Proverbs 23:29\">subs</a></div>\n",
       "<div class=\"gl\">eye</div>\n",
       "\n",
       "</div>\n",
       "\n",
       "\n",
       "    </div>\n",
       "\n",
       "\n",
       "</div>\n",
       "\n",
       "\n",
       "    </div>\n",
       "\n",
       "\n",
       "</div>\n",
       "\n",
       "\n",
       "    </div>\n",
       "\n",
       "\n",
       "</div>\n",
       "\n",
       "\n",
       "</div>\n"
      ],
      "text/plain": [
       "<IPython.core.display.HTML object>"
      ]
     },
     "metadata": {},
     "output_type": "display_data"
    }
   ],
   "source": [
    "B.show(headless)"
   ]
  },
  {
   "cell_type": "code",
   "execution_count": 200,
   "metadata": {},
   "outputs": [
    {
     "name": "stdout",
     "output_type": "stream",
     "text": [
      "subphrase \ttext \trelation \tmother\n",
      "לֹא־פִשְׁעִ֖י  1384190 NA ()\n",
      "לֹא־ 1384188 NA ()\n",
      "פִשְׁעִ֖י  1384189 adj (1384188,)\n",
      "לֹא־חַטָּאתִ֣י  1384193 par (1384190,)\n",
      "לֹא־ 1384191 NA ()\n",
      "חַטָּאתִ֣י  1384192 adj (1384191,)\n"
     ]
    }
   ],
   "source": [
    "show_subphrases(841977)"
   ]
  },
  {
   "cell_type": "markdown",
   "metadata": {},
   "source": [
    "### Quality Tests\n",
    "\n",
    "What do the results look like? Start with noun-phrases, but retrieve interesting examples with more than a few words."
   ]
  },
  {
   "cell_type": "code",
   "execution_count": 313,
   "metadata": {},
   "outputs": [
    {
     "data": {
      "text/plain": [
       "2667"
      ]
     },
     "execution_count": 313,
     "metadata": {},
     "output_type": "execute_result"
    }
   ],
   "source": [
    "examples = []\n",
    "\n",
    "for phrase in F.typ.s('NP'):\n",
    "    \n",
    "    len_words = len(L.d(phrase, 'word'))\n",
    "    \n",
    "    if len_words > 5:\n",
    "    \n",
    "        heads = get_heads(phrase)\n",
    "    \n",
    "        examples.append(heads)\n",
    "    \n",
    "len(examples)"
   ]
  },
  {
   "cell_type": "code",
   "execution_count": 306,
   "metadata": {},
   "outputs": [],
   "source": [
    "random.shuffle(examples)"
   ]
  },
  {
   "cell_type": "code",
   "execution_count": 314,
   "metadata": {},
   "outputs": [],
   "source": [
    "#B.show(examples[:100])"
   ]
  },
  {
   "cell_type": "code",
   "execution_count": 244,
   "metadata": {},
   "outputs": [
    {
     "name": "stdout",
     "output_type": "stream",
     "text": [
      "subphrase \ttext \trelation \tmother\n",
      "רָאשֵׁי֙ הַמְשֹׁ֣רְרִ֔ים וְשִׁיר־תְּהִלָּ֥ה  1402016 NA ()\n",
      "רָאשֵׁי֙ הַמְשֹׁ֣רְרִ֔ים  1402012 NA ()\n",
      "רָאשֵׁי֙  1402010 NA ()\n",
      "הַמְשֹׁ֣רְרִ֔ים  1402011 rec (390474,)\n",
      "שִׁיר־תְּהִלָּ֥ה  1402015 par (1402012,)\n",
      "שִׁיר־ 1402013 NA ()\n",
      "תְּהִלָּ֥ה  1402014 adj (1402013,)\n",
      "הֹדֹ֖ות  1402017 par (1402016,)\n"
     ]
    }
   ],
   "source": [
    "show_subphrases(886937)"
   ]
  },
  {
   "cell_type": "code",
   "execution_count": 298,
   "metadata": {},
   "outputs": [
    {
     "data": {
      "text/plain": [
       "'NA'"
      ]
     },
     "execution_count": 298,
     "metadata": {},
     "output_type": "execute_result"
    }
   ],
   "source": [
    "F.rela.v(888463)"
   ]
  },
  {
   "cell_type": "markdown",
   "metadata": {},
   "source": [
    "## Data Discovery\n",
    "\n",
    "The queries which follow were written at different times during the code construction for the heads algorithm.\n",
    "\n",
    "In this section, important questions were asked whose answers are needed to ensure the code is written correctly. The BHSA data is queried to answer them. These are questions like, \"Do we need to check for relational independency for only noun phrases?\" (no); and \"does every phrase type have a word with a corresponding pdp?\" (no).\n",
    "\n",
    "### Make definitions available for exploration:"
   ]
  },
  {
   "cell_type": "code",
   "execution_count": 10,
   "metadata": {},
   "outputs": [],
   "source": [
    "# mapping from phrase type to its head part of speech\n",
    "type_to_pdp = {'VP': 'verb', # verb \n",
    "               'NP': 'subs', # noun \n",
    "               'PrNP': 'nmpr', # proper-noun \n",
    "               'AdvP': 'advb', # adverbial \n",
    "               'PP': 'prep', # prepositional \n",
    "               'CP': 'conj', # conjunctive\n",
    "               'PPrP': 'prps', # personal pronoun\n",
    "               'DPrP': 'prde', # demonstrative pronoun\n",
    "               'IPrP': 'prin', # interrogative pronoun\n",
    "               'InjP': 'intj', # interjectional\n",
    "               'NegP': 'nega', # negative\n",
    "               'InrP': 'inrg', # interrogative\n",
    "               'AdjP': 'adjv'} # adjective"
   ]
  },
  {
   "cell_type": "markdown",
   "metadata": {},
   "source": [
    "### Test for non-NP phrases with valid pdp but invalid head\n",
    "\n",
    "These tests demonstrate that subphrase relation checks are also needed for phrase types besides noun phrases. The only valid subphrase/phrase_atom relations for any potential head word is either `NA` or `par`/`Para`. While a few phrase types do not need additional relational checks, e.g. personal pronoun phrases, we can go ahead and consistently handle all phrases in the same way.\n",
    "\n",
    "The only exception to the above rule is the `VP`, for which there are 14 cases of the `VP`'s head word (verb) that is also in a subphrase with a regens (`rec`) relation.\n",
    "\n",
    "The operational question of these tests was:\n",
    "> Are there cases in which a non-NP phrase(atom) contains a word with the corresponding pdp value, but which is probably not a head?\n",
    "\n",
    "To answer the question, we first survey all cases where the phrase type's head candidate is in a subphrase with a relation that is not normally \"independent.\" Based on the survey, we manually check the most pertinent phrase types and results. The tests reveal that, indeed, relation checks are needed for many phrase types."
   ]
  },
  {
   "cell_type": "code",
   "execution_count": 11,
   "metadata": {},
   "outputs": [],
   "source": [
    "def test_pdp_safe(phrase_object='phrase_atom'):\n",
    "    \n",
    "    '''\n",
    "    Make a survey of phrase types and their matching pdp words,\n",
    "    count what kinds of subphrase relations these words \n",
    "    occurr in. The survey can then be used to investigate \n",
    "    whether phrase types besides noun phrases require relationship\n",
    "    checks for independency.\n",
    "    '''\n",
    "    \n",
    "    pdp_relas_survey = collections.defaultdict(lambda: collections.Counter())\n",
    "    headless = 0\n",
    "    \n",
    "    for phrase in F.otype.s(phrase_object):\n",
    "\n",
    "        typ = F.typ.v(phrase) # phrase type\n",
    "\n",
    "        # skip noun phrases\n",
    "        if typ in {'NP', 'PrNP'}: \n",
    "            continue\n",
    "\n",
    "        head_pdp = type_to_pdp[typ]\n",
    "\n",
    "        maybe_heads = [w for w in L.d(phrase, 'word') \n",
    "                           if F.pdp.v(w) == head_pdp]\n",
    "        \n",
    "        # this check shows that many\n",
    "        # phrases don't have a word \n",
    "        # with a corresponding pdp!\n",
    "        if not maybe_heads:\n",
    "            headless += 1\n",
    "\n",
    "        # survey the candidate heads' relations\n",
    "        for word in maybe_heads:\n",
    "\n",
    "            head_name = typ + '|' + head_pdp\n",
    "            subphrases = L.u(word, 'subphrase')\n",
    "            sp_relas = set(F.rela.v(sp) for sp in subphrases)\\\n",
    "                        if subphrases else {'NA'} # <- handle cases without any subphrases (i.e. verbs)\n",
    "\n",
    "            pdp_relas_survey[head_name].update(sp_relas)\n",
    "\n",
    "    print(f'phrases without matching pdp: {headless}\\n')\n",
    "    print('subphrase relation survey: ')\n",
    "    for name, rela_counts in pdp_relas_survey.items():\n",
    "\n",
    "        print(name)\n",
    "\n",
    "        for r, count in rela_counts.items():\n",
    "            print('\\t', r, '-', count)"
   ]
  },
  {
   "cell_type": "code",
   "execution_count": 12,
   "metadata": {},
   "outputs": [
    {
     "name": "stdout",
     "output_type": "stream",
     "text": [
      "phrases without matching pdp: 837\n",
      "\n",
      "subphrase relation survey: \n",
      "PP|prep\n",
      "\t NA - 64539\n",
      "\t par - 3822\n",
      "\t adj - 42\n",
      "\t rec - 9\n",
      "VP|verb\n",
      "\t NA - 69011\n",
      "\t rec - 14\n",
      "\t par - 1\n",
      "CP|conj\n",
      "\t NA - 53848\n",
      "AdvP|advb\n",
      "\t NA - 5137\n",
      "\t par - 102\n",
      "\t mod - 49\n",
      "\t adj - 1\n",
      "AdjP|adjv\n",
      "\t NA - 1854\n",
      "\t par - 138\n",
      "\t atr - 6\n",
      "\t adj - 3\n",
      "\t rec - 1\n",
      "InjP|intj\n",
      "\t NA - 1872\n",
      "\t par - 11\n",
      "DPrP|prde\n",
      "\t NA - 790\n",
      "NegP|nega\n",
      "\t NA - 6743\n",
      "PPrP|prps\n",
      "\t NA - 4468\n",
      "\t par - 9\n",
      "IPrP|prin\n",
      "\t NA - 797\n",
      "\t par - 1\n",
      "InrP|inrg\n",
      "\t NA - 1291\n",
      "\t par - 3\n"
     ]
    }
   ],
   "source": [
    "# for phrase_atoms\n",
    "test_pdp_safe()"
   ]
  },
  {
   "cell_type": "code",
   "execution_count": 13,
   "metadata": {},
   "outputs": [
    {
     "name": "stdout",
     "output_type": "stream",
     "text": [
      "phrases without matching pdp: 670\n",
      "\n",
      "subphrase relation survey: \n",
      "PP|prep\n",
      "\t NA - 62330\n",
      "\t par - 3676\n",
      "\t adj - 42\n",
      "\t rec - 10\n",
      "VP|verb\n",
      "\t NA - 69011\n",
      "\t rec - 14\n",
      "\t par - 1\n",
      "CP|conj\n",
      "\t NA - 52537\n",
      "AdvP|advb\n",
      "\t NA - 5089\n",
      "\t par - 101\n",
      "\t mod - 46\n",
      "\t adj - 1\n",
      "AdjP|adjv\n",
      "\t NA - 1803\n",
      "\t par - 119\n",
      "\t atr - 6\n",
      "\t adj - 3\n",
      "\t rec - 1\n",
      "InjP|intj\n",
      "\t NA - 1872\n",
      "\t par - 11\n",
      "DPrP|prde\n",
      "\t NA - 791\n",
      "NegP|nega\n",
      "\t NA - 6743\n",
      "PPrP|prps\n",
      "\t NA - 4388\n",
      "\t par - 9\n",
      "IPrP|prin\n",
      "\t NA - 797\n",
      "\t par - 1\n",
      "InrP|inrg\n",
      "\t NA - 1291\n",
      "\t par - 3\n"
     ]
    }
   ],
   "source": [
    "# and for phrases\n",
    "test_pdp_safe(phrase_object='phrase')"
   ]
  },
  {
   "cell_type": "markdown",
   "metadata": {},
   "source": [
    "^ These surveys tell us that for several of these phrase types, e.g. `InjP`, we can automatically take the word with the pdp value that corresponds with its phrase type as the head.\n",
    "\n",
    "There are also quite a few cases where the phrase type does not have a word with a matching pdp value: 837 for phrase atoms and 670 for phrases. In the subsequent section we will run tests to find out why this is the case.\n",
    "\n",
    "Back to the question of this section: There are 14 examples of VP with verbs that have a `rec` (nomen regens) relation. Are these heads or not? We check now..."
   ]
  },
  {
   "cell_type": "code",
   "execution_count": 14,
   "metadata": {},
   "outputs": [],
   "source": [
    "def find_and_show(search_pattern):\n",
    "    results = sorted(B.search(search_pattern))\n",
    "    print(len(results), 'results')\n",
    "    B.show(results)"
   ]
  },
  {
   "cell_type": "code",
   "execution_count": 15,
   "metadata": {},
   "outputs": [],
   "source": [
    "# run notebook locally to see HTML-formatted results for the below searches\n",
    "\n",
    "\n",
    "rec_verbs = '''\n",
    "\n",
    "phrase_atom typ=VP\n",
    "    subphrase rela=rec\n",
    "        word pdp=verb\n",
    "'''\n",
    "\n",
    "#find_and_show(rec_verbs) # uncomment me!"
   ]
  },
  {
   "cell_type": "markdown",
   "metadata": {},
   "source": [
    "In all 14 results, the verb serves as the true head word of the `VP`.\n",
    "\n",
    "*Note: The verb will prove to be an exception, as all other words in a `rec` relation are not head words*\n",
    "\n",
    "The `PP` also has some strange relations. We see what's going on with the same kind of inspection. First we look at the `rec` (regens) relations."
   ]
  },
  {
   "cell_type": "code",
   "execution_count": 16,
   "metadata": {},
   "outputs": [],
   "source": [
    "rec_preps = '''\n",
    "\n",
    "phrase_atom typ=PP\n",
    "    subphrase rela=rec\n",
    "        word pdp=prep\n",
    "'''\n",
    "\n",
    "#find_and_show(rec_preps) #uncomment me!"
   ]
  },
  {
   "cell_type": "markdown",
   "metadata": {},
   "source": [
    "The PP is different. In cases where the `phrase_atom` = `rec`, the preposition is *not* the head. Thus, the algorithm will need to check for these cases.\n",
    "\n",
    "Now for the `adj` subphrase relation in `PP`:"
   ]
  },
  {
   "cell_type": "code",
   "execution_count": 17,
   "metadata": {},
   "outputs": [],
   "source": [
    "adj_preps = '''\n",
    "\n",
    "phrase_atom typ=PP\n",
    "    subphrase rela=adj\n",
    "        word pdp=prep\n",
    "'''\n",
    "\n",
    "#find_and_show(adj_preps) # uncomment me!"
   ]
  },
  {
   "cell_type": "markdown",
   "metadata": {},
   "source": [
    "The results above show that the `adj` subphrase relation is also a non-head. These cases have to be excluded.\n",
    "\n",
    "Now we move on to test the **adverb** relations reflected in the survey..."
   ]
  },
  {
   "cell_type": "code",
   "execution_count": 18,
   "metadata": {},
   "outputs": [],
   "source": [
    "adv_adj = '''\n",
    "\n",
    "phrase_atom typ=AdvP\n",
    "    subphrase rela=adj\n",
    "        word pdp=advb\n",
    "\n",
    "'''\n",
    "\n",
    "#find_and_show(adv_adj) # uncomment me!"
   ]
  },
  {
   "cell_type": "markdown",
   "metadata": {},
   "source": [
    "The `adj` relationships in the adverbial phrase is also not a true head. Now for the `mod` (modifier) relation."
   ]
  },
  {
   "cell_type": "code",
   "execution_count": 19,
   "metadata": {},
   "outputs": [],
   "source": [
    "adv_mod = '''\n",
    "\n",
    "phrase_atom typ=AdvP\n",
    "    subphrase rela=mod\n",
    "        word pdp=advb\n",
    "\n",
    "'''\n",
    "\n",
    "#find_and_show(adv_mod) # uncomment me!"
   ]
  },
  {
   "cell_type": "markdown",
   "metadata": {},
   "source": [
    "In this case, it appears that `mod` is also an invalid relation for adverb phrases. And example is גם הלם ('also here') where גם is the adverb in `mod` relation, but the head is really הלם \"here\" (also an adverb). In several cases, the modifier modifies a verb. In these cases the \"head,\" often a participle or infinitive, acts as the adverb, even though it is not explicitly marked as such.\n",
    "\n",
    "Now we move on to the last examination, that of the `AdjP` (adjective phrase). There are three relations of interest:\n",
    "> atr - 6 <br>\n",
    "> adj - 3 <br>\n",
    "> rec - 1 <br>"
   ]
  },
  {
   "cell_type": "code",
   "execution_count": 20,
   "metadata": {},
   "outputs": [],
   "source": [
    "adj_atr = '''\n",
    "\n",
    "phrase_atom typ=AdjP\n",
    "    subphrase rela=atr\n",
    "        word pdp=adjv\n",
    "\n",
    "'''\n",
    "\n",
    "#find_and_show(adj_atr) # uncomment me!"
   ]
  },
  {
   "cell_type": "code",
   "execution_count": 21,
   "metadata": {},
   "outputs": [],
   "source": [
    "adj_adj = '''\n",
    "\n",
    "phrase_atom typ=AdjP\n",
    "    subphrase rela=adj\n",
    "        word pdp=adjv\n",
    "\n",
    "'''\n",
    "\n",
    "#find_and_show(adj_adj) # uncomment me!"
   ]
  },
  {
   "cell_type": "code",
   "execution_count": 22,
   "metadata": {},
   "outputs": [],
   "source": [
    "adj_rec = '''\n",
    "\n",
    "phrase_atom typ=AdjP\n",
    "    subphrase rela=rec\n",
    "        word pdp=adjv\n",
    "\n",
    "'''\n",
    "\n",
    "#find_and_show(adj_rec) # uncomment me!"
   ]
  },
  {
   "cell_type": "markdown",
   "metadata": {},
   "source": [
    "The results for the three searches above show indeed that the relations of `atr`, `adj`, and `rec` are not head words."
   ]
  },
  {
   "cell_type": "markdown",
   "metadata": {},
   "source": [
    "### Tests for phrase types without a word that has a valid pdp value\n",
    "\n",
    "The initial survey above revealed that 837 phrase atoms and 670 phrases lack a word with a corresponding pdp value. Here we investigate to see why that is the case. Is there a way to compensate for this problem? Are these truly phrases that lack heads?\n",
    "\n",
    "We run another survey and count the phrase types against the non-matching pdp values found within them. At this point, we must also exclude words that have dependent relations (as defined above, subphrase values of NA or parallel)."
   ]
  },
  {
   "cell_type": "code",
   "execution_count": 23,
   "metadata": {},
   "outputs": [
    {
     "name": "stdout",
     "output_type": "stream",
     "text": [
      "AdvP\n",
      "\t nmpr - 253\n",
      "\t subs - 499\n",
      "\t art - 190\n",
      "\t conj - 13\n",
      "PrNP\n",
      "\t subs - 9\n",
      "\t art - 3\n",
      "CP\n",
      "\t prep - 85\n",
      "\t subs - 79\n",
      "\t advb - 6\n",
      "NP\n",
      "\t adjv - 1\n",
      "\t intj - 1\n"
     ]
    }
   ],
   "source": [
    "count_no_pdp = collections.defaultdict(lambda: collections.Counter())\n",
    "record_no_pdp = collections.defaultdict(lambda: collections.defaultdict(list))\n",
    "\n",
    "for phrase in F.otype.s('phrase_atom'):\n",
    "    \n",
    "    typ = F.typ.v(phrase)\n",
    "    \n",
    "    # see if there is not corresponding pdp value\n",
    "    corres_pdp = type_to_pdp[typ]\n",
    "    corresponding_pdps = [w for w in L.d(phrase, 'word') \n",
    "                             if F.pdp.v(w) == corres_pdp]\n",
    "    \n",
    "    if not corresponding_pdps:\n",
    "        \n",
    "        # put potential heads here\n",
    "        maybe_heads = []\n",
    "        \n",
    "        # calculate subphrase relations\n",
    "        for word in L.d(phrase, 'word'):\n",
    "            \n",
    "            # get subphrase relations\n",
    "            word_subphrs = L.u(word, 'subphrase')\n",
    "            sp_relas = set(F.rela.v(sp) for sp in word_subphrs) or {'NA'}\n",
    "            \n",
    "            # check subphrase relations for independence\n",
    "            if sp_relas == {'NA'}:\n",
    "                maybe_heads.append(word)\n",
    "                \n",
    "            # test parallel relation for independence\n",
    "            elif sp_relas == {'NA', 'par'} or sp_relas == {'par'}:\n",
    "                \n",
    "                # check for good, head mothers\n",
    "                good_mothers = set(sp for w in maybe_heads for sp in L.u(w, 'subphrase'))\n",
    "                this_daughter = [sp for sp in word_subphrs if F.rela.v(sp) == 'par'][0]\n",
    "                this_mother = E.mother.f(this_daughter)\n",
    "                \n",
    "                if this_mother in good_mothers:\n",
    "                    maybe_heads.append(word)\n",
    "                    \n",
    "        # sanity check\n",
    "        # maybe_heads should have SOMETHING\n",
    "        if not maybe_heads:\n",
    "            raise Exception(f'phrase {phrase} looks HEADLESS!')\n",
    "        \n",
    "        # count pdp types\n",
    "        head_pdps = [F.pdp.v(w) for w in maybe_heads]\n",
    "        count_no_pdp[typ].update(head_pdps)\n",
    "        \n",
    "        # save for examination\n",
    "        for word in maybe_heads:\n",
    "            record_no_pdp[typ][F.pdp.v(word)].append((phrase, word))\n",
    "        \n",
    "for name, counts in count_no_pdp.items():\n",
    "\n",
    "    print(name)\n",
    "\n",
    "    for pdp, count in counts.items():\n",
    "        print('\\t', pdp, '-', count)"
   ]
  },
  {
   "cell_type": "markdown",
   "metadata": {},
   "source": [
    "These results are a bit puzzling. The numbers here are words within the phrase atoms that have NO subphrase relations. That means, for example, words such as הַ \"the\" do not appear to have any subphrase relation to their modified nouns. That again illustrates the shortcoming of the ETCBC data in this respect. There should be a relation from the article to the determined noun.\n",
    "\n",
    "From this point forward, I will begin working through all four phrase types and the cases reflected in the survey.\n",
    "\n",
    "Beginning with the `AdvP` type and the article. Upon some initial inspection, I've found that in many of the `AdvP` with the article, there is also a substantive (`subs`) that was found by the search. Are there any cases where there is no `nmpr` or `subs` found alongside the article? We can use the dict `record_no_pdp` which has recorded all cases reflected in the survey. Below I look to see if all 190 cases of an article in these `AdvP` phrases also has a corresponding noun."
   ]
  },
  {
   "cell_type": "code",
   "execution_count": 24,
   "metadata": {},
   "outputs": [
    {
     "name": "stdout",
     "output_type": "stream",
     "text": [
      "0 without nouns found...\n"
     ]
    }
   ],
   "source": [
    "no_noun = []\n",
    "\n",
    "for phrase in record_no_pdp['AdvP']['art']:\n",
    "    \n",
    "    pdps = set(F.pdp.v(w) for w in L.d(phrase[0], 'word'))\n",
    "    \n",
    "    if not {'nmpr', 'subs'} & pdps:\n",
    "        no_noun.append((phrase,))\n",
    "        \n",
    "print(len(no_noun), 'without nouns found...')"
   ]
  },
  {
   "cell_type": "markdown",
   "metadata": {},
   "source": [
    "There it is. So all cases of these articles can be discarded. In these cases, the noun serves as the head of the adverbial phrase. An example of this is when the noun marks the location of the action (hence adverb). \n",
    "\n",
    "Next, we check the conjunctions found in the adverbial phrases. Are any of those heads?"
   ]
  },
  {
   "cell_type": "code",
   "execution_count": 25,
   "metadata": {},
   "outputs": [],
   "source": [
    "#B.show(record_no_pdp['AdvP']['conj']) # uncomment me!"
   ]
  },
  {
   "cell_type": "markdown",
   "metadata": {},
   "source": [
    "All conjunctions in these `AdvP` phrases function to mark coordinate elements (only ו in these results). They can also be discarded as not possible heads.\n",
    "\n",
    "Now we investigate the `PrNP` results with `subs` and `art`..."
   ]
  },
  {
   "cell_type": "code",
   "execution_count": 26,
   "metadata": {},
   "outputs": [],
   "source": [
    "#B.show(record_no_pdp['PrNP']['subs']) # uncomment me!"
   ]
  },
  {
   "cell_type": "code",
   "execution_count": 27,
   "metadata": {},
   "outputs": [],
   "source": [
    "#B.show(record_no_pdp['PrNP']['art']) # uncomment me!"
   ]
  },
  {
   "cell_type": "markdown",
   "metadata": {},
   "source": [
    "The `art` relations reflected in the second search are not heads, but are all related to a substantive. All of the results in `subs` are heads. Thus, the only acceptable pdp for `PrNP` besides a proper noun is `subs`.\n",
    "\n",
    "Now we dig into `CP` results. 85 of them have no `pdp` of conjunction, but have a preposition instead. Let's see what's going on..."
   ]
  },
  {
   "cell_type": "code",
   "execution_count": 28,
   "metadata": {},
   "outputs": [],
   "source": [
    "#B.show(record_no_pdp['CP']['prep'][:20]) # uncomment me!"
   ]
  },
  {
   "cell_type": "markdown",
   "metadata": {},
   "source": [
    "These are very interesting results. These conjunction phrases are made up of constructions like ב+עבור and ב+טרם. Together these words function as a conjunction, but alone they are prepositions and particles. Is it even possible in this case to say that there is a \"head\"?\n",
    "\n",
    "It could be said that these combinations of words mean more than the sum of their parts; they are good examples of constructions, i.e. combinations of words whose meaning cannot be inferred simply from their individual words. Constructions illustrate the vague boundary between syntax and lexicon (cf. e.g. Goldberg, 1995, *Constructions*).\n",
    "\n",
    "While these words are indeed marked as conjunction phrases, it is better in this case to analyze them as prepositional phrases (which they also are...this is another shortcoming of our data, or perhaps a mistake??). Thus, the head is the preposition, not the prepositional object.\n",
    "\n",
    "We should expect that the remaining `subs` and `advb` groups are in fact the objects of those prepositions (and hence excluded). Let's test that assumption by looking for a preposition behind these words..."
   ]
  },
  {
   "cell_type": "code",
   "execution_count": 29,
   "metadata": {},
   "outputs": [
    {
     "name": "stdout",
     "output_type": "stream",
     "text": [
      "subs|advb with no preceding prepositions: 0\n"
     ]
    }
   ],
   "source": [
    "no_prep = []\n",
    "\n",
    "for (phrase, word) in record_no_pdp['CP']['subs'] + record_no_pdp['CP']['advb']:\n",
    "    \n",
    "    possible_prep = word - 1\n",
    "    \n",
    "    if F.sp.v(possible_prep) != 'prep':\n",
    "        no_prep.append((phrase, word))\n",
    "        \n",
    "print(f'subs|advb with no preceding prepositions: {len(no_prep)}')"
   ]
  },
  {
   "cell_type": "markdown",
   "metadata": {},
   "source": [
    "Here we see. We can confirm that none of the substantives or adverbs will be the head of a conjunction phrase. A preposition is the only other kind of head for the `CP` besides a conjunction itself.\n",
    "\n",
    "Finally, we're left with a last noun phrase (`NP`) for which no matching noun was found. The search found instead both `adjv` (adjective) and a `intj` (interjection). Let's see it."
   ]
  },
  {
   "cell_type": "code",
   "execution_count": 30,
   "metadata": {},
   "outputs": [],
   "source": [
    "#B.show(record_no_pdp['NP']['adjv']) # uncomment me"
   ]
  },
  {
   "cell_type": "markdown",
   "metadata": {},
   "source": [
    "This ^ one actually looks like a mistake in the BHSA data. The adjective ידיד \"beloved\" functions here as a substantive, and hence should have a phrase dependent part of speech of `subs` not `adjv`. This phrase will not receive a head relation, because the underlying data itself is flawed and should be fixed. Then a new run of the algorithm will assign the proper head."
   ]
  },
  {
   "cell_type": "code",
   "execution_count": 77,
   "metadata": {},
   "outputs": [],
   "source": [
    "#B.show(record_no_pdp['NP']['intj']) # uncomment me"
   ]
  },
  {
   "cell_type": "markdown",
   "metadata": {},
   "source": [
    "In this case, the word אוי \"woe\" functions like a noun. This thus appears to be another mislabeled `pdp` value, since it should read `subs`. This, like the previous example, will not receive a head value due to the mistake."
   ]
  },
  {
   "cell_type": "markdown",
   "metadata": {},
   "source": [
    "### Retrieving Quantified Words\n",
    "\n",
    "When the heads algorithm looks for a noun without any subphrase relations in the phrase, it will often return a quantifier noun such as a number, e.g. שבעה \"seven\", or such as another descriptor like כל. But these words function semantically in a more descriptive role than a head role. Thus, we want our algorithm to isolate quantified nouns from their quantifiers. To do that means we must first know how the ETCBC encodes the relationship between a quantifier and the quantified noun. \n",
    "\n",
    "In a previous algorithm used for quantified extraction, we looked for a nomen regens relation on the quantifier and located the noun within the related subphrase. This approach works well for the quantifier כל. But for cardinal numbers, the relation `adj` (adjunct) is often used as well (as seen in the surveys below).\n",
    "\n",
    "To illustrate with the search below, the quantifier שבעה \"seven\" has no nomen regens relation:"
   ]
  },
  {
   "cell_type": "code",
   "execution_count": 59,
   "metadata": {},
   "outputs": [],
   "source": [
    "#B.show([(2217,)]) # uncomment me!"
   ]
  },
  {
   "cell_type": "markdown",
   "metadata": {},
   "source": [
    "Rather than reflecting a regen/rectum relation, the second word שנים \"years,\" the quantified noun, has a subphrase relation of `adj` \"adjunct\":"
   ]
  },
  {
   "cell_type": "code",
   "execution_count": 60,
   "metadata": {},
   "outputs": [
    {
     "name": "stdout",
     "output_type": "stream",
     "text": [
      "שֶׁ֣בַע שָׁנִ֔ים וּשְׁמֹנֶ֥ה מֵאֹ֖ות שָׁנָ֑ה \n",
      "\n",
      "1300937 (subphrase)\n",
      "\t שָׁנִ֔ים \n",
      "\t rela: adj\n",
      "\n",
      "1300938 (subphrase)\n",
      "\t שֶׁ֣בַע שָׁנִ֔ים \n",
      "\t rela: NA\n",
      "\n"
     ]
    }
   ],
   "source": [
    "print(T.text(L.d(652840, 'word')))\n",
    "print()\n",
    "\n",
    "for sp in L.u(2218, 'subphrase'): # subphrases belonging to \"years\"\n",
    "    print(sp, '(subphrase)')\n",
    "    print('\\t', T.text(L.d(sp,'word')))\n",
    "    print('\\t', 'rela:',  F.rela.v(sp))\n",
    "    print()"
   ]
  },
  {
   "cell_type": "markdown",
   "metadata": {},
   "source": [
    "Let's see what other kinds of subphrase relations are reflected by quantifieds.\n",
    "\n",
    "Below we make a survey of all mother-daughter relations between a quantifier subphrase and its daughters. The goal is to isolate those relationships which contain the quantified noun. We work through examples to get an idea of the meaning of the features. And we write a few TF search queries further below to confirm hypotheses about these relationships."
   ]
  },
  {
   "cell_type": "code",
   "execution_count": 34,
   "metadata": {},
   "outputs": [
    {
     "name": "stdout",
     "output_type": "stream",
     "text": [
      ">XD/\n",
      "\t par - 62\n",
      "\t adj - 42\n",
      "\t rec - 69\n",
      "\t Appo - 1\n",
      "\t Spec - 6\n",
      "\t atr - 8\n",
      "\t mod - 4\n",
      "CNJM/\n",
      "\t rec - 345\n",
      "\t adj - 267\n",
      "\t par - 109\n",
      "\t mod - 14\n",
      "\t atr - 5\n",
      "\t Spec - 6\n",
      "\t dem - 3\n",
      "\t Sfxs - 1\n",
      ">RB</\n",
      "\t adj - 285\n",
      "\t par - 100\n",
      "\t rec - 113\n",
      "\t atr - 8\n",
      "\t Spec - 1\n",
      "\t mod - 1\n",
      "CB</\n",
      "\t par - 87\n",
      "\t adj - 268\n",
      "\t rec - 169\n",
      "\t mod - 1\n",
      "\t dem - 1\n",
      "\t atr - 23\n",
      "\t Spec - 4\n",
      "CLC/\n",
      "\t par - 148\n",
      "\t adj - 331\n",
      "\t rec - 175\n",
      "\t atr - 4\n",
      "\t dem - 1\n",
      "\t Spec - 1\n",
      "M>H/\n",
      "\t rec - 30\n",
      "\t adj - 302\n",
      "\t par - 217\n",
      "\t atr - 2\n",
      "CMNH/\n",
      "\t adj - 128\n",
      "\t par - 28\n",
      "\t rec - 8\n",
      "\t mod - 1\n",
      "TC</\n",
      "\t adj - 46\n",
      "\t par - 43\n",
      "\t rec - 22\n",
      "XMC/\n",
      "\t adj - 282\n",
      "\t par - 175\n",
      "\t rec - 96\n",
      "\t mod - 1\n",
      "\t Attr - 1\n",
      "\t atr - 4\n",
      "\t Spec - 2\n",
      "<FRH/\n",
      "\t adj - 96\n",
      "\t par - 16\n",
      "\t Spec - 1\n",
      "<FR=/\n",
      "\t adj - 11\n",
      "\t par - 6\n",
      "\t rec - 30\n",
      "CC/\n",
      "\t adj - 176\n",
      "\t par - 75\n",
      "\t rec - 103\n",
      "\t atr - 4\n",
      "<FRJM/\n",
      "\t adj - 209\n",
      "\t par - 149\n",
      "\t Spec - 1\n",
      "<FR/\n",
      "\t adj - 97\n",
      "\t par - 12\n",
      "\t mod - 2\n",
      "\t atr - 6\n",
      "\t rec - 2\n",
      "\t Spec - 2\n",
      "<FRH=/\n",
      "\t adj - 52\n",
      "\t rec - 49\n",
      "\t par - 10\n",
      "\t dem - 2\n",
      "\t Spec - 1\n",
      ">LP=/\n",
      "\t adj - 143\n",
      "\t rec - 33\n",
      "\t par - 198\n",
      "\t Spec - 1\n",
      "\t atr - 2\n",
      "<CTJ/\n",
      "\t adj - 13\n",
      "\t rec - 19\n",
      "\t par - 1\n",
      "RBW>/\n",
      "\t adj - 3\n",
      "\t par - 3\n",
      "XD/\n",
      "\t atr - 1\n",
      "\t Spec - 2\n",
      "CTJN/\n",
      "\t par - 1\n",
      "CT/\n",
      "TLT/\n",
      "\t adj - 2\n",
      "TRJN/\n",
      "\t rec - 2\n",
      ">LP/\n",
      "\t rec - 1\n",
      "<FRJN/\n",
      "TLTJN/\n"
     ]
    }
   ],
   "source": [
    "quant_relas = collections.defaultdict(lambda: collections.Counter())\n",
    "quant_ex = collections.defaultdict(lambda: collections.defaultdict(list))\n",
    "quants = [word for lex in F.ls.s('card') for word in L.d(lex, 'word')]\n",
    "\n",
    "for word in quants:\n",
    "    \n",
    "    subphrases = L.u(word, 'subphrase')\n",
    "    sp_daughters = [E.mother.t(sp) for sp in subphrases if E.mother.t(sp)]\n",
    "    sp_daughters += [E.mother.t(word)] if E.mother.t(word) else list()\n",
    "    sp_relas = [F.rela.v(sp[0]) for sp in sp_daughters]\n",
    "    quant_relas[F.lex.v(word)].update(sp_relas)\n",
    "    \n",
    "    for rela in sp_relas:\n",
    "        quant_ex[F.lex.v(word)][rela].append((L.u(word, 'phrase')[0], word))\n",
    "    \n",
    "for name, counts in quant_relas.items():\n",
    "\n",
    "    print(name)\n",
    "\n",
    "    for pdp, count in counts.items():\n",
    "        print('\\t', pdp, '-', count)"
   ]
  },
  {
   "cell_type": "markdown",
   "metadata": {},
   "source": [
    "Based on the inspection below, it can be seen that quantified nouns are connected to their quantifier via a subphrase relation of either `adj` (adjunctive) or `rec` (regens), as mentioned at the beginning of this inquiry."
   ]
  },
  {
   "cell_type": "code",
   "execution_count": 35,
   "metadata": {},
   "outputs": [],
   "source": [
    "#B.show(quant_ex['CB</']['rec']) # uncomment me!"
   ]
  },
  {
   "cell_type": "markdown",
   "metadata": {},
   "source": [
    "The query below shows that the relation `par` most frequently refers to a parallel number, e.g. שבעים ושבעה \"seventy and seven\" where \"and seven\" is in a parallel relationship."
   ]
  },
  {
   "cell_type": "code",
   "execution_count": 36,
   "metadata": {},
   "outputs": [],
   "source": [
    "#B.show(quant_ex['CB</']['par']) # uncomment me!"
   ]
  },
  {
   "cell_type": "markdown",
   "metadata": {},
   "source": [
    "The `atr` relation appears when an adjective is used to describe a quantifier:"
   ]
  },
  {
   "cell_type": "code",
   "execution_count": 140,
   "metadata": {},
   "outputs": [],
   "source": [
    "#B.show(quant_ex['>XD/']['atr']) # uncomment me!"
   ]
  },
  {
   "cell_type": "markdown",
   "metadata": {},
   "source": [
    "The `Spec` (phrase_atom rela) are cases where a phrase atom is used to add adjectival information about the quantifier."
   ]
  },
  {
   "cell_type": "code",
   "execution_count": 38,
   "metadata": {},
   "outputs": [],
   "source": [
    "#B.show(quant_ex['>XD/']['Spec']) # uncomment me!"
   ]
  },
  {
   "cell_type": "markdown",
   "metadata": {},
   "source": [
    "The `mod` relation are cases where the quantifier is modified with particles like גם or רק"
   ]
  },
  {
   "cell_type": "code",
   "execution_count": 39,
   "metadata": {},
   "outputs": [],
   "source": [
    "#B.show(quant_ex['CNJM/']['mod']) # uncomment me!"
   ]
  },
  {
   "cell_type": "markdown",
   "metadata": {},
   "source": [
    "The `dem` relation is when a demonstrative like אלה modifies the quantifier."
   ]
  },
  {
   "cell_type": "code",
   "execution_count": 40,
   "metadata": {},
   "outputs": [],
   "source": [
    "#B.show(quant_ex['CB</']['dem']) # uncomment me!"
   ]
  },
  {
   "cell_type": "markdown",
   "metadata": {},
   "source": [
    "Based on the analysis up to this point, there are two kinds of relations which lead back to the quantified noun: the `rec` (regens) and `adj` (adjunct) relations. What about in cases where both of these relations are present? Is there ever a case where it is ambiguous which relation contains the quantified noun?\n",
    "\n",
    "We use a TF search pattern to build a query for these cases. We look for cases that have three subphrases. The first has a word (`w1`) which is also contained in a lex object (second to bottom block) that has a `ls` (lexical set) value of `card` (cardinal number). Then we look for two other subphrases that have a relation either to the first subphrase (in the case of the `adj` rela) or the quantifier word contained in the first subphrase (in the case of a regens relation). Within `sp2` and `sp3`, we also select the first word so we can highlight it in the `B.show` below."
   ]
  },
  {
   "cell_type": "code",
   "execution_count": 41,
   "metadata": {},
   "outputs": [
    {
     "data": {
      "text/plain": [
       "245"
      ]
     },
     "execution_count": 41,
     "metadata": {},
     "output_type": "execute_result"
    }
   ],
   "source": [
    "quant_rec_adj = '''\n",
    "\n",
    "sp1:subphrase\n",
    "    w1:word\n",
    "\n",
    "sp2:subphrase rela=rec\n",
    "    =: word\n",
    "\n",
    "sp3:subphrase rela=adj\n",
    "    =: word\n",
    "\n",
    "lex ls=card\n",
    "   w2:word\n",
    "   \n",
    "w1 = w2\n",
    "w1 <mother- sp2\n",
    "sp1 <mother- sp3\n",
    "\n",
    "sp2 <: sp3\n",
    "'''\n",
    "\n",
    "quant_rec_adj = B.search(quant_rec_adj)\n",
    "\n",
    "len(quant_rec_adj)"
   ]
  },
  {
   "cell_type": "code",
   "execution_count": 144,
   "metadata": {},
   "outputs": [],
   "source": [
    "#B.show(sorted(quant_rec_adj)) # uncomment me!"
   ]
  },
  {
   "cell_type": "markdown",
   "metadata": {},
   "source": [
    "There are 245 cases with both relations. Based on inspection, it seems that the word in the `rec` relation is usually another quantifier. Are there cases where it is not?\n",
    "\n",
    "We apply a filter with a list comprehension to the results below to filter out cases where there is a cardinal number in `sp2`."
   ]
  },
  {
   "cell_type": "code",
   "execution_count": 63,
   "metadata": {},
   "outputs": [
    {
     "data": {
      "text/plain": [
       "5"
      ]
     },
     "execution_count": 63,
     "metadata": {},
     "output_type": "execute_result"
    }
   ],
   "source": [
    "non_card = [r for r in quant_rec_adj if F.ls.v(L.u(r[3], 'lex')[0]) != 'card']\n",
    "\n",
    "len(non_card)"
   ]
  },
  {
   "cell_type": "code",
   "execution_count": 65,
   "metadata": {},
   "outputs": [],
   "source": [
    "#B.show(non_card) # uncomment me!"
   ]
  },
  {
   "cell_type": "markdown",
   "metadata": {},
   "source": [
    "The example below illustrates a complexity here. We iterate through every subphrase in one of the phrases from the result above. We print the subphrase number, the text, the relation, and the number of the subphrase mother..."
   ]
  },
  {
   "cell_type": "code",
   "execution_count": 67,
   "metadata": {},
   "outputs": [
    {
     "name": "stdout",
     "output_type": "stream",
     "text": [
      "subphrase \ttext \trelation \tmother\n",
      "שְׁתֵּֽי־צִפֳּרִ֥ים חַיֹּ֖ות טְהֹרֹ֑ות  1316376 NA ()\n",
      "שְׁתֵּֽי־צִפֳּרִ֥ים  1316372 NA ()\n",
      "שְׁתֵּֽי־ 1316370 NA ()\n",
      "צִפֳּרִ֥ים  1316371 rec (60261,)\n",
      "חַיֹּ֖ות טְהֹרֹ֑ות  1316375 adj (1316372,)\n",
      "חַיֹּ֖ות  1316373 NA ()\n",
      "טְהֹרֹ֑ות  1316374 atr (1316373,)\n",
      "עֵ֣ץ אֶ֔רֶז  1316379 par (1316376,)\n",
      "עֵ֣ץ אֶ֔רֶז  1316380 NA ()\n",
      "עֵ֣ץ  1316377 NA ()\n",
      "אֶ֔רֶז  1316378 rec (60266,)\n",
      "שְׁנִ֥י תֹולַ֖עַת  1316383 par (1316380,)\n",
      "שְׁנִ֥י תֹולַ֖עַת  1316384 NA ()\n",
      "שְׁנִ֥י  1316381 NA ()\n",
      "תֹולַ֖עַת  1316382 rec (60269,)\n",
      "אֵזֹֽב׃  1316385 par (1316384,)\n"
     ]
    }
   ],
   "source": [
    "def show_subphrases(phrase_node):\n",
    "    print('subphrase', '\\ttext', '\\trelation', '\\tmother')\n",
    "    for sp in L.d(phrase_node, 'subphrase'):\n",
    "        print(T.text(L.d(sp, 'word')), sp, F.rela.v(sp), E.mother.f(sp))\n",
    "\n",
    "show_subphrases(686892)"
   ]
  },
  {
   "cell_type": "markdown",
   "metadata": {},
   "source": [
    "In the example of שְׁתֵּֽי־צִפֳּרִ֥ים \"two [of] birds\" there are is a `rec` relation between two and birds. Then there is an adjunct relation, `adj`, further describing the whole subphrase \"two birds\": חַיֹּ֖ות טְהֹרֹ֑ות \"pure beasts\". In this case, it is the `rec` relation which is the valid head, while \"pure beasts\" is a secondary description. This example illustrates that there should be a priority for the `rec` relationship. "
   ]
  },
  {
   "cell_type": "code",
   "execution_count": 46,
   "metadata": {},
   "outputs": [
    {
     "name": "stdout",
     "output_type": "stream",
     "text": [
      "שְׁלֹ֤שׁ סְאִים֙  1302818 NA ()\n",
      "שְׁלֹ֤שׁ  1302816 NA ()\n",
      "סְאִים֙  1302817 rec (7901,)\n",
      "קֶ֣מַח סֹ֔לֶת  1302821 adj (1302818,)\n",
      "קֶ֣מַח  1302819 NA ()\n",
      "סֹ֔לֶת  1302820 adj (1302819,)\n"
     ]
    }
   ],
   "source": [
    "show_subphrases(655920)"
   ]
  },
  {
   "cell_type": "markdown",
   "metadata": {},
   "source": [
    "This other example shows the same inner-structure, as do the other 3 that we've manually inspected. This confirms indeed that priority should be given when a noun is found in the `rec` relation. Afterwards, the `adj` relation is checked.\n",
    "\n",
    "Finally, we want to test that there always is a quantified noun in the `adj` relation. Are there other cases, based on the findings above, where the `adj` relation does not actually contain the quantified nouns? We create a looser query than the one above to cover all cases of the `adj` relation. Then we filter the results..."
   ]
  },
  {
   "cell_type": "code",
   "execution_count": 47,
   "metadata": {},
   "outputs": [
    {
     "data": {
      "text/plain": [
       "77"
      ]
     },
     "execution_count": 47,
     "metadata": {},
     "output_type": "execute_result"
    }
   ],
   "source": [
    "no_quants_adj = '''\n",
    "\n",
    "sp1:subphrase\n",
    "    w1:word\n",
    "\n",
    "sp2:subphrase rela=adj\n",
    "    =: word\n",
    "\n",
    "lex ls=card\n",
    "   w2:word\n",
    "   \n",
    "w1 = w2\n",
    "sp1 <mother- sp2\n",
    "'''\n",
    "\n",
    "no_quants_adj = sorted(B.search(no_quants_adj))\n",
    "no_quants_adj = [r for r in no_quants_adj if F.pdp.v(r[3]) not in {'subs', 'nmpr'}]\n",
    "\n",
    "len(no_quants_adj)"
   ]
  },
  {
   "cell_type": "code",
   "execution_count": 69,
   "metadata": {},
   "outputs": [],
   "source": [
    "#B.show(no_quants_adj[:10]) # uncomment me"
   ]
  },
  {
   "cell_type": "markdown",
   "metadata": {},
   "source": [
    "Many of the cases are due to the presence of an article or a determiner. \n",
    "\n",
    "In one case the noun that is present is a demonstrative pronoun (`prde`) אלה for which there is no further specification. For now we exclude determiners and demonstratives and consider their role afterwards."
   ]
  },
  {
   "cell_type": "code",
   "execution_count": 49,
   "metadata": {},
   "outputs": [
    {
     "data": {
      "text/plain": [
       "25"
      ]
     },
     "execution_count": 49,
     "metadata": {},
     "output_type": "execute_result"
    }
   ],
   "source": [
    "no_quants_adj = [r for r in no_quants_adj if F.pdp.v(r[3]) not in {'art', 'prde'}]\n",
    "\n",
    "len(no_quants_adj)"
   ]
  },
  {
   "cell_type": "code",
   "execution_count": 95,
   "metadata": {},
   "outputs": [],
   "source": [
    "#B.show(no_quants_adj) # uncomment me"
   ]
  },
  {
   "cell_type": "markdown",
   "metadata": {},
   "source": [
    "An interesting result occurrs in Micah 5:4 where the word in the adjunct position has a pdp of \"adjv\" (adjective) when it should be subs. This is a mistake in the data. In this case, the participle should be nominalized as a `subs`:"
   ]
  },
  {
   "cell_type": "code",
   "execution_count": 96,
   "metadata": {},
   "outputs": [
    {
     "name": "stdout",
     "output_type": "stream",
     "text": [
      "subphrase \ttext \trelation \tmother\n",
      "שִׁבְעָ֣ה רֹעִ֔ים  1379826 NA ()\n",
      "שִׁבְעָ֣ה  1379824 NA ()\n",
      "רֹעִ֔ים  1379825 adj (1379824,)\n",
      "שְׁמֹנָ֖ה נְסִיכֵ֥י אָדָֽם׃  1379831 par (1379826,)\n",
      "שְׁמֹנָ֖ה  1379827 NA ()\n",
      "נְסִיכֵ֥י אָדָֽם׃  1379830 adj (1379827,)\n",
      "נְסִיכֵ֥י  1379828 NA ()\n",
      "אָדָֽם׃  1379829 rec (300679,)\n"
     ]
    }
   ],
   "source": [
    "show_subphrases(829049)"
   ]
  },
  {
   "cell_type": "markdown",
   "metadata": {},
   "source": [
    "This case will be excluded from our algorithm due to the mistake.\n",
    "\n",
    "In other cases, the first word in the `adj` related subphrase is used as an adjective in a construct relation:"
   ]
  },
  {
   "cell_type": "code",
   "execution_count": 97,
   "metadata": {},
   "outputs": [
    {
     "name": "stdout",
     "output_type": "stream",
     "text": [
      "subphrase \ttext \trelation \tmother\n",
      "חֲמִשָּׁ֣ה  1342556 NA ()\n",
      "חַלֻּקֵֽי־אֲבָנִ֣ים׀  1342559 adj (1342556,)\n",
      "חַלֻּקֵֽי־ 1342557 NA ()\n",
      "אֲבָנִ֣ים׀  1342558 rec (151691,)\n"
     ]
    }
   ],
   "source": [
    "show_subphrases(738020)"
   ]
  },
  {
   "cell_type": "markdown",
   "metadata": {},
   "source": [
    "If we print the `pdp` values of the words within the related subphrase חלקי־אבנים, we will find the \"subs\":"
   ]
  },
  {
   "cell_type": "code",
   "execution_count": 98,
   "metadata": {},
   "outputs": [
    {
     "data": {
      "text/plain": [
       "['adjv', 'subs']"
      ]
     },
     "execution_count": 98,
     "metadata": {},
     "output_type": "execute_result"
    }
   ],
   "source": [
    "[F.pdp.v(w) for w in L.d(1342559,'word')]"
   ]
  },
  {
   "cell_type": "markdown",
   "metadata": {},
   "source": [
    "There are only a couple of these cases in the results. Thus, it will be safe for the algorithm to take the first `subs` pdp word that it comes across.\n",
    "\n",
    "Besides these cases, there are cases where there is no `subs` but a participle occurs as a `subs` with a pdp of `verb` due to the presence of satellite objects around the verb:"
   ]
  },
  {
   "cell_type": "code",
   "execution_count": 101,
   "metadata": {},
   "outputs": [],
   "source": [
    "#B.show([(702210,)]) # uncomment me"
   ]
  },
  {
   "cell_type": "markdown",
   "metadata": {},
   "source": [
    "For these cases, the algorithm should look for cases where there is no other pdp candidate and there is a verb that has a `vt` of participle.\n",
    "\n",
    "There are also several cases where the quantified noun is a personal pronoun, as exemplified below:"
   ]
  },
  {
   "cell_type": "code",
   "execution_count": 105,
   "metadata": {},
   "outputs": [],
   "source": [
    "#B.show([(867133,)]) # uncomment me"
   ]
  },
  {
   "cell_type": "markdown",
   "metadata": {},
   "source": [
    "These should be added to the set of acceptable quantified heads.\n",
    "\n",
    "Below we remove the cases accounted for thus far."
   ]
  },
  {
   "cell_type": "code",
   "execution_count": 107,
   "metadata": {},
   "outputs": [
    {
     "data": {
      "text/plain": [
       "5"
      ]
     },
     "execution_count": 107,
     "metadata": {},
     "output_type": "execute_result"
    }
   ],
   "source": [
    "no_quants_adj = [r for r in no_quants_adj if F.pdp.v(r[3]) not in {'adjv', 'verb', 'prps'}]\n",
    "\n",
    "len(no_quants_adj)"
   ]
  },
  {
   "cell_type": "code",
   "execution_count": 113,
   "metadata": {},
   "outputs": [],
   "source": [
    "#B.show(no_quants_adj) # uncomment me "
   ]
  },
  {
   "cell_type": "markdown",
   "metadata": {},
   "source": [
    "What remains is 5 instances of quantified prepositional phrases. These are cases where the number is truly acting in a nominal capacity. In these cases, the algorithm should not return any quantified nouns since the quantifier itself semantically functions as the noun."
   ]
  },
  {
   "cell_type": "code",
   "execution_count": 114,
   "metadata": {},
   "outputs": [
    {
     "data": {
      "text/plain": [
       "0"
      ]
     },
     "execution_count": 114,
     "metadata": {},
     "output_type": "execute_result"
    }
   ],
   "source": [
    "no_quants_adj = [r for r in no_quants_adj if F.pdp.v(r[3]) not in {'prep'}]\n",
    "\n",
    "len(no_quants_adj)"
   ]
  },
  {
   "cell_type": "markdown",
   "metadata": {},
   "source": [
    "That is all the cases in which there is not a traditional \"subs\" within the adjunct of a quantifier. The final set of acceptable `pdp` tags for a quantified noun in an `adj` related subphrase are as follows:"
   ]
  },
  {
   "cell_type": "code",
   "execution_count": 118,
   "metadata": {},
   "outputs": [],
   "source": [
    "acceptable_adj_quantifieds = {'subs', # noun\n",
    "                              'nmpr', # proper noun\n",
    "                              'prde', # demonsrative \n",
    "                              'prps', # pronoun\n",
    "                              'verb'} # for participles"
   ]
  },
  {
   "cell_type": "markdown",
   "metadata": {},
   "source": [
    "**The queries above raise the equivalent question for `rec` related, quantified subphrases:** Are there other kinds of acceptable quantified nouns in the `rec` relationship besides `subs` and `nmpr`? We make a query and test whether we also need a similar set to the one above."
   ]
  },
  {
   "cell_type": "code",
   "execution_count": 127,
   "metadata": {},
   "outputs": [
    {
     "data": {
      "text/plain": [
       "258"
      ]
     },
     "execution_count": 127,
     "metadata": {},
     "output_type": "execute_result"
    }
   ],
   "source": [
    "rec_quants = '''\n",
    "\n",
    "sp1:subphrase\n",
    "    w1:word\n",
    "\n",
    "sp2:subphrase rela=rec\n",
    "    =: word\n",
    "\n",
    "lex ls=card\n",
    "   w2:word\n",
    "   \n",
    "w1 = w2\n",
    "w1 <mother- sp2\n",
    "'''\n",
    "\n",
    "rec_quants = sorted(B.search(rec_quants))\n",
    "\n",
    " # apply filters:\n",
    "rec_quants = [r for r in rec_quants \n",
    "                  if F.pdp.v(r[3]) not in {'subs', 'nmpr'} \n",
    "                  and F.ls.v(L.u(r[3], 'lex')[0]) != 'card'\n",
    "             ]\n",
    "\n",
    "len(rec_quants)"
   ]
  },
  {
   "cell_type": "code",
   "execution_count": 129,
   "metadata": {},
   "outputs": [],
   "source": [
    "#B.show(rec_quants) # uncomment me"
   ]
  },
  {
   "cell_type": "markdown",
   "metadata": {},
   "source": [
    "Many of these appear to be cases where the article is in the first position followed by a `subs`. We exclude those below..."
   ]
  },
  {
   "cell_type": "code",
   "execution_count": 130,
   "metadata": {},
   "outputs": [
    {
     "data": {
      "text/plain": [
       "7"
      ]
     },
     "execution_count": 130,
     "metadata": {},
     "output_type": "execute_result"
    }
   ],
   "source": [
    "rec_quants = [r for r in rec_quants if F.pdp.v(r[3]) != 'art']\n",
    "\n",
    "len(rec_quants)"
   ]
  },
  {
   "cell_type": "code",
   "execution_count": 136,
   "metadata": {},
   "outputs": [],
   "source": [
    "#B.show(rec_quants) # uncomment me"
   ]
  },
  {
   "cell_type": "markdown",
   "metadata": {},
   "source": [
    "There are a couple cases where the demonstrative occurs in the quantified position, exemplified below:"
   ]
  },
  {
   "cell_type": "code",
   "execution_count": 138,
   "metadata": {},
   "outputs": [],
   "source": [
    "# B.show([(752231,)]) # uncomment me"
   ]
  },
  {
   "cell_type": "markdown",
   "metadata": {},
   "source": [
    "The rest of the cases seem to be problematic examples of prepositions. They are problematic since they should be coded with a relation of `adj` rather than `rec`. In any case, the sets of acceptable solutions should not include the preposition, the same as with the `adj`. \n",
    "\n",
    "Based on this analysis, the `rec` quantified subphrases can utilize the same check-set as the `adj` quantifieds.\n",
    "\n",
    "#### Conclusion\n",
    "This analysis has found that quantifieds should be processed in the order of `rec` subphrase relations first. If an acceptable part of speech tag is not found within the `rec` subphrase, then the subsequent `adj` subphrase (adjunct) should be checked. In a handfull of cases, there will not be a quantified noun since the quantifier itself functions as a nominal element. \n",
    "\n",
    "For both the `rec` and `adj` related subphrases, the same `pdp` check set can be used to isolate viable heads.\n",
    "\n",
    "#### Appendix: Which Subphrase?\n",
    "\n",
    "In cases where the quantified noun is related by the subphrase rela of `adj`, to which subphrase of the quantifier will it relate? It is assumed that it would relate to the largest one..."
   ]
  },
  {
   "cell_type": "code",
   "execution_count": 145,
   "metadata": {},
   "outputs": [
    {
     "name": "stdout",
     "output_type": "stream",
     "text": [
      "subphrase \ttext \trelation \tmother\n",
      "תְּשַׁ֤ע מֵאֹות֙ שָׁנָ֔ה  1300926 NA ()\n",
      "תְּשַׁ֤ע מֵאֹות֙  1300924 NA ()\n",
      "תְּשַׁ֤ע  1300922 NA ()\n",
      "מֵאֹות֙  1300923 rec (2190,)\n",
      "שָׁנָ֔ה  1300925 adj (1300924,)\n",
      "שְׁלֹשִׁ֖ים שָׁנָ֑ה  1300929 par (1300926,)\n",
      "שְׁלֹשִׁ֖ים  1300927 NA ()\n",
      "שָׁנָ֑ה  1300928 adj (1300927,)\n"
     ]
    }
   ],
   "source": [
    "show_subphrases(652825)"
   ]
  },
  {
   "cell_type": "markdown",
   "metadata": {},
   "source": [
    "Note that in this case, the largest subphrase contains also the quantified nouns: תשע מאות שנה. This is a bit problematic. How should we choose which subphrase to check for mother relations?\n",
    "\n",
    "A good solution would be to progressively move up from the smallest subphrase to the largest subphrase and check for relations on each one until it is found. That is what we follow in the algorithm."
   ]
  },
  {
   "cell_type": "markdown",
   "metadata": {},
   "source": [
    "### Adjective -> Subs Missed Results\n",
    "\n",
    "In the first test, several substantives are missed due to the presence of an adjectival element. Let's look at those cases and see what's going on. I have copied the phrase numbers of a few relevant examples."
   ]
  },
  {
   "cell_type": "code",
   "execution_count": 173,
   "metadata": {},
   "outputs": [],
   "source": [
    "adj_examples = [(771933,), (799523,)]\n",
    "\n",
    "#B.show(adj_examples) # uncomment me"
   ]
  },
  {
   "cell_type": "code",
   "execution_count": 175,
   "metadata": {},
   "outputs": [
    {
     "name": "stdout",
     "output_type": "stream",
     "text": [
      "subphrase \ttext \trelation \tmother\n",
      "קִצְרֵי־ 1355620 NA ()\n",
      "יָ֔ד  1355621 rec (207940,)\n"
     ]
    }
   ],
   "source": [
    "show_subphrases(adj_examples[0][0])"
   ]
  },
  {
   "cell_type": "code",
   "execution_count": 177,
   "metadata": {},
   "outputs": [
    {
     "name": "stdout",
     "output_type": "stream",
     "text": [
      "קִצְרֵי־ adjv\n",
      "יָ֔ד  subs\n"
     ]
    }
   ],
   "source": [
    "for word in L.d(adj_examples[0][0], 'word'):\n",
    "    print(T.text([word]), F.pdp.v(word))"
   ]
  },
  {
   "cell_type": "markdown",
   "metadata": {},
   "source": [
    "In this case, the substantive is not detected by the algorithm since it is in a dependent subphrase, a construct relation, with its modifying adjective. How to extract these nouns?\n",
    "\n",
    "This is very similar to the quantifier case, where the word in the rectum is actually the head (e.g. שתי שנה \"two years\" where \"two\" is registered as the head, but the substantive \"years\" is the semantic head). This kind of relationship is differentiated from non-heads by the fact that the adjective itself is independent. Thus, in cases where the adjective is independent and has a daughter rectum subphrase, the algorithm should retrive the attributed noun.\n",
    "\n",
    "**proposed solution**: Add `adjv` to the set of acceptable `pdp` for the `NP`. Any adjectives will be processed for dependency: most will fail that test. But for the dozens of cases where the adjective does not fail, the algorithm will apply a separate check for a `rec` related subphrase which contains the true head.\n",
    "\n",
    "### Participle -> Head Missed Results\n",
    "\n",
    "Other phrases that end up headless are noun phrases that have a participle which serves as a the nominal element, but since it has satellites is coded as a \"verb\":"
   ]
  },
  {
   "cell_type": "code",
   "execution_count": 184,
   "metadata": {},
   "outputs": [],
   "source": [
    "verb_examples = [(709010,), (711593,), (756104,)]\n",
    "\n",
    "#B.show(verb_examples) # uncomment me"
   ]
  },
  {
   "cell_type": "code",
   "execution_count": 182,
   "metadata": {},
   "outputs": [
    {
     "name": "stdout",
     "output_type": "stream",
     "text": [
      "subphrase \ttext \trelation \tmother\n",
      "מַעֲלֵ֧ה  1329344 NA ()\n",
      "גֵרָ֣ה  1329345 rec (101588,)\n",
      "\n",
      "subphrase \ttext \trelation \tmother\n",
      "פְצֽוּעַ־דַּכָּ֛א  1330312 NA ()\n",
      "פְצֽוּעַ־ 1330310 NA ()\n",
      "דַּכָּ֛א  1330311 rec (105909,)\n",
      "כְר֥וּת שָׁפְכָ֖ה  1330315 par (1330312,)\n",
      "כְר֥וּת  1330313 NA ()\n",
      "שָׁפְכָ֖ה  1330314 rec (105912,)\n",
      "\n",
      "subphrase \ttext \trelation \tmother\n",
      "מֻצַ֣ק  1348822 NA ()\n",
      "נְחֹ֑שֶׁת  1348823 rec (181180,)\n",
      "\n"
     ]
    }
   ],
   "source": [
    "for phrase in verb_examples:\n",
    "    show_subphrases(phrase[0])\n",
    "    print()"
   ]
  },
  {
   "cell_type": "markdown",
   "metadata": {},
   "source": [
    "There are mixed cases here due to the shortcomings of the current data model. In these cases, the participle is marked as a \"verb\" since it also has objects or descriptors. In the first example above, the noun גרה functions as the *object* of the verb. The head is מעלה. But the same logic does not hold for the second or third case. In the second case, ֹ פצוע־דכא gives an *attribute* or quality of שפכה. In the third case, מצק \"poured\", describes an attribute of נחשת \"bronze.\" Thus the opposite of example 1 is true, that is, the head noun is the attributed noun in the construct relation.\n",
    "\n",
    "Since the specific role of the noun or the verb is not specified at this lower phrase level, is there even a way to differentiate these cases?\n",
    "\n"
   ]
  },
  {
   "cell_type": "code",
   "execution_count": 187,
   "metadata": {},
   "outputs": [
    {
     "name": "stdout",
     "output_type": "stream",
     "text": [
      "709010\n",
      "מַעֲלֵ֧ה  adjv\n",
      "גֵרָ֣ה  subs\n",
      "\n",
      "711593\n",
      "פְצֽוּעַ־ adjv\n",
      "דַּכָּ֛א  subs\n",
      "וּ conj\n",
      "כְר֥וּת  adjv\n",
      "שָׁפְכָ֖ה  subs\n",
      "\n",
      "756104\n",
      "מֻצַ֣ק  adjv\n",
      "נְחֹ֑שֶׁת  subs\n",
      "\n"
     ]
    }
   ],
   "source": [
    "for phrase in verb_examples:\n",
    "    print(phrase[0])\n",
    "    for word in L.d(phrase[0], 'word'):\n",
    "        print(T.text([word]), F.pdp.v(word))\n",
    "    print()"
   ]
  },
  {
   "cell_type": "markdown",
   "metadata": {},
   "source": [
    "It actually appears that the database treats all 3 the same: as adjectives at the phrase-dependent part of speech level. Thus, these cases will receive the same treatments as the adjective cases above."
   ]
  },
  {
   "cell_type": "markdown",
   "metadata": {},
   "source": [
    "# Scratch Code\n",
    "\n",
    "What follows is code that I have written on the fly for testing the data. It is not intended to be a part of the notebook itself."
   ]
  },
  {
   "cell_type": "code",
   "execution_count": 52,
   "metadata": {},
   "outputs": [],
   "source": [
    "#B.show(quant_ex['>XD/']['rec'])"
   ]
  },
  {
   "cell_type": "code",
   "execution_count": 53,
   "metadata": {},
   "outputs": [
    {
     "data": {
      "text/plain": [
       "[89424]"
      ]
     },
     "execution_count": 53,
     "metadata": {},
     "output_type": "execute_result"
    }
   ],
   "source": [
    "give_heads(702392)"
   ]
  },
  {
   "cell_type": "code",
   "execution_count": 54,
   "metadata": {},
   "outputs": [
    {
     "name": "stdout",
     "output_type": "stream",
     "text": [
      "רֹעִ֔ים  300676 adjv\n"
     ]
    }
   ],
   "source": [
    "for w in L.d(1379825, 'word'):\n",
    "    print(T.text([w]), w, F.pdp.v(w))"
   ]
  },
  {
   "cell_type": "code",
   "execution_count": 55,
   "metadata": {},
   "outputs": [
    {
     "data": {
      "text/plain": [
       "'R<H['"
      ]
     },
     "execution_count": 55,
     "metadata": {},
     "output_type": "execute_result"
    }
   ],
   "source": [
    "F.lex.v(300676)"
   ]
  },
  {
   "cell_type": "code",
   "execution_count": 56,
   "metadata": {},
   "outputs": [
    {
     "data": {
      "text/plain": [
       "1304784"
      ]
     },
     "execution_count": 56,
     "metadata": {},
     "output_type": "execute_result"
    }
   ],
   "source": [
    "find_quantified(17903)"
   ]
  },
  {
   "cell_type": "code",
   "execution_count": 57,
   "metadata": {},
   "outputs": [
    {
     "data": {
      "text/plain": [
       "'עָשָׂ֖ר '"
      ]
     },
     "execution_count": 57,
     "metadata": {},
     "output_type": "execute_result"
    }
   ],
   "source": [
    "T.text(L.d(1304784, 'word'))"
   ]
  },
  {
   "cell_type": "code",
   "execution_count": 58,
   "metadata": {},
   "outputs": [
    {
     "data": {
      "text/plain": [
       "852"
      ]
     },
     "execution_count": 58,
     "metadata": {},
     "output_type": "execute_result"
    }
   ],
   "source": [
    "get_preps = '''\n",
    "phrase typ=PP\n",
    "    word pdp=prep\n",
    "    <: word pdp=prep\n",
    "'''\n",
    "\n",
    "get_preps = sorted(B.search(get_preps))\n",
    "\n",
    "len(get_preps)"
   ]
  }
 ],
 "metadata": {
  "kernelspec": {
   "display_name": "Python 3",
   "language": "python",
   "name": "python3"
  },
  "language_info": {
   "codemirror_mode": {
    "name": "ipython",
    "version": 3
   },
   "file_extension": ".py",
   "mimetype": "text/x-python",
   "name": "python",
   "nbconvert_exporter": "python",
   "pygments_lexer": "ipython3",
   "version": "3.6.3"
  }
 },
 "nbformat": 4,
 "nbformat_minor": 2
}
