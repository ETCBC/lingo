{
 "cells": [
  {
   "cell_type": "markdown",
   "metadata": {},
   "source": [
    "# Getting Heads 😶\n",
    "## By Cody Kingham, in collaboration with Christiaan Erwich\n",
    "\n",
    "## Problem Description\n",
    "The ETCBC's BHSA core data does not contain the standard syntax tree format. This also means that syntactic and functional relationships between individual words are not mapped in a transparent or easily accessible way. In some cases, fine-grained relationships are ignored altogether. For example, for a given noun phrase (NP), there is no explicit way of obtaining its head noun (i.e. the noun itself without any modifying elements). This causes numerous problems for research in the realm of semantics. For instance, it is currently very difficult to calculate the complete person, gender, and number (PGN) of a given subject phrase. That is because PGN is stored at the word level only. But this is a very inadequate representation. Phrases in the ETCBC often contain coordinate relationships within the phrase. So even if one selects the first `noun` in the phrase and checks for its PGN value, they may overlook the presence of another noun which makes the phrase plural. Ideally, the phrase itself would have a PGN feature. But before this kind of data is created, it is necessary to separate the head words of a phrase from their modifying elements such as adjectives, determiners, or nouns in construct (genitive) relations.\n",
    "\n",
    "A head word can be defined as the word for which a phrase type is named after. Examples of phrase types are `NP` (noun phrase) or `VP` (verb phrase). In this notebook, we experiment with and build the functions stored in `heads.py` in order to export a set of Text-Fabric edge features. The edge features represent a mapping from a phrase node to its head element.\n",
    "\n",
    "This goal requires us to think carefully about the way inter-word, semantic relations are reflected in the ETCBC's data. The ETCBC *does* contain some rudimentary semantic embeddings through the so-called [subphrase](https://etcbc.github.io/bhsa/features/hebrew/c/otype). These can be utilized to isolate head words from secondary elements. A subphrase should *not* be thought of as a smaller, embedded phrase, like the ETCBC's phrase-atom (though it sometimes must inadequately fill that role). Rather, the subphrase is a way to encode relationships between words below the level of a phrase(atom), hence \"sub.\" A subphrase can be a single word, or it can be a collection of words. A word can be in multiple subphrases, but can not be in more than 3 (due to the limitations of the data creation program, [parsephrases](http://www.etcbc.nl/datacreation/#ps3.p)).\n",
    "\n",
    "## Method\n",
    "The types of phrases represented in the ETCBC include `NP` (noun phrase), `VP` (verb phrase), `PrNP` (proper noun phrase), `PP` (prepositional phrase), `AdvP` (adverbial phrase), and [eight others](https://etcbc.github.io/bhsa/features/hebrew/c/typ). For some of these types, isolating the head word is a simple affair. By coordinating a word's phrase-dependent part of speech with its enclosing phrase's type, one can identify the head word. For a `VP`, that would mean simply finding the word within the phrase that has a `pdp` (phrase dependent part of speech) value of `verb`. Or for a prepositional phrase, find the word with a `pdp` of `prep`.\n",
    "\n",
    "The `NP` and `PrNP`, on the other hand, present special challenges. These phrases often contain multiple words with a modifying relation to the head noun. An example of this is the construct relation (e.g. \"Son of Jacob\"). The problem becomes particularly thorny when relations like the construct are chained together so that one is faced with the choice between multiple potential head nouns.\n",
    "\n",
    "To navigate the problem, we must use the feature [`rela` (relationship)](https://etcbc.github.io/bhsa/features/hebrew/c/rela) stored on `subphrase`s in addition to the `pdp` and phrase `type` features. In order to isolate the head word of a `NP`, we look for a word within the phrase that has a `pdp` value of `subs` (i.e. noun). We then obtain a list of all the `subphrase`s which contain that word using the [L.u Text-Fabric method](https://github.com/Dans-labs/text-fabric/wiki/Api#locality). We then use the list of subphrase node numbers to create a list of all subphrase relations containing the word. If the list contains *any* dependent relations, then the word is automatically excluded from being a head word and we can move on to the next candidate. One final check is required for candidate words at the level of the `phrase`: the same procedure described above for `subphrase`s must be performed for `phrase_atom` relations. This means excluding words within a `phrase_atom` with a dependent relation to another `phrase_atom` within the `phrase`. If the head of a *`phrase_atom`* is being calculated, this step is not necessary.\n",
    "\n",
    "There are only two possible `subphrase` or `phrase_atom` relations for a valid head word: `NA` or `par`/`Para` (the verb is an exception, which in a handful of cases does have a construct relation). `NA` means that no relation is reflected. The word is independent. The `par` (`subphrase`) and `Para` (`phrase_atom`) stands for parallel relations, i.e. coordinates. While coordinates are not formally the head, they are often an important part of how the grammatical and semantic relations are built. Thus we provide coordinates alongside the head noun. These words require one further test, that is, it must be verified that their mother (using the [edge feature](https://github.com/Dans-labs/text-fabric/wiki/Api#edge-features) \"[mother](https://etcbc.github.io/bhsa/features/hebrew/c/mother.html)\") is itself a head word. To do this step thus requires us to keep track of those words within the phrase which have been validated. We can do so with a simple list.\n",
    "\n",
    "## Results\n",
    "The function `get_heads` produces head word nodes on supplied phrase(atom) nodes. The results have been manually inspected for consistency.\n",
    "\n",
    "For phrase types other than the noun phrase, the results are very accurate. Some phrase types, like the conjunction phrase, do have unexpected forms. For instance, the phrase בעבור is coded as a conjunction phrase in the BHSA; in it, there is actually no word with a part of speech of `conjunction`. These kinds of cases are easily accounted for by making exceptions in the set of acceptable parts of speech.\n",
    "\n",
    "For noun phrases, the situation is different. In the majority of cases, the results are good. But there are a handful of cases that simply cannot be addressed using the current ETCBC data model without a solution that exceeds the bounds of this current project. The reason is that the current model does not transparently encode hierarchy between phrases and embedded phrases. For instance, both phrase atoms and subphrases have *some* overlapping features. But what is the relationship of a phrase atom to a subphrase? Or, what is the relation of one subphrase to another? These are only coded implicitly in the data. In reality, there are `subphrases` embedded within the ETCBC's subphrases which are not even registered in the BHSA data. While phrase atoms receive type codes, subphrases do not. Yet, subphrases are `phrases` too, which should also have type codes. Another problem is that the precise level of embedding for the subphrases are not provided. Subphrases are presented as equal constituents, even though some subphrases are contained within others. These kinds of problems make a simple method, such as applied here, inadequate. But more importantly, they highlight the shortcomings of the ETCBC data model.\n",
    "\n",
    "The members of the ETCBC are aware of the inadequacy of that data model to represent complex phrases, and a change is in the pipeline to address it. However, it remains to be seen how long those changes might take. For now, the functions produced and modified in this NB will suffice to provide a temporary solution for those who require head words from BHSA phrases."
   ]
  },
  {
   "cell_type": "markdown",
   "metadata": {},
   "source": [
    "## Code Development\n",
    "\n",
    "Below we experiment with the code and develop the functions that will extract the head nouns. This involves a good deal of manual inspections of the results before exporting the Text-Fabric features.\n",
    "\n",
    "The code is written immediately below. Associated questions that arise while writing or evaluating the code are contained in the subsequent section."
   ]
  },
  {
   "cell_type": "code",
   "execution_count": 1,
   "metadata": {},
   "outputs": [
    {
     "data": {
      "text/markdown": [
       "**Documentation:** <a target=\"_blank\" href=\"https://etcbc.github.io/bhsa\" title=\"provenance of this corpus\">BHSA</a> <a target=\"_blank\" href=\"https://dans-labs.github.io/text-fabric/writing/hebrew/.html\" title=\"Hebrew characters and transcriptions\">Character table</a> <a target=\"_blank\" href=\"https://etcbc.github.io/bhsa/features/hebrew/c/0_home.html\" title=\"BHSA feature documentation\">Feature docs</a> <a target=\"_blank\" href=\"https://dans-labs.github.io/text-fabric/Api/Bhsa/\" title=\"BHSA API documentation\">BHSA API</a> <a target=\"_blank\" href=\"https://dans-labs.github.io/text-fabric/Api/General/\" title=\"text-fabric-api\">Text-Fabric API 6.4.6</a> <a target=\"_blank\" href=\"https://dans-labs.github.io/text-fabric/Api/General/#search-templates\" title=\"Search Templates Introduction and Reference\">Search Reference</a>"
      ],
      "text/plain": [
       "<IPython.core.display.Markdown object>"
      ]
     },
     "metadata": {},
     "output_type": "display_data"
    },
    {
     "data": {
      "text/html": [
       "<details open><summary><b>Loaded features</b>:</summary>\n",
       "<a target=\"_blank\" href=\"https://etcbc.github.io/bhsa/features/hebrew/c/book@ll.html\" title=\"info\">book@ll</a> <a target=\"_blank\" href=\"https://etcbc.github.io/bhsa/features/hebrew/c/book.html\" title=\"info\">book</a> <a target=\"_blank\" href=\"https://etcbc.github.io/bhsa/features/hebrew/c/chapter.html\" title=\"info\">chapter</a> <a target=\"_blank\" href=\"https://etcbc.github.io/bhsa/features/hebrew/c/function.html\" title=\"info\">function</a> <a target=\"_blank\" href=\"https://etcbc.github.io/bhsa/features/hebrew/c/gloss.html\" title=\"info\">gloss</a> <a target=\"_blank\" href=\"https://etcbc.github.io/bhsa/features/hebrew/c/label.html\" title=\"info\">label</a> <a target=\"_blank\" href=\"https://etcbc.github.io/bhsa/features/hebrew/c/language.html\" title=\"info\">language</a> <a target=\"_blank\" href=\"https://etcbc.github.io/bhsa/features/hebrew/c/lex.html\" title=\"info\">lex</a> <a target=\"_blank\" href=\"https://etcbc.github.io/bhsa/features/hebrew/c/ls.html\" title=\"info\">ls</a> <a target=\"_blank\" href=\"https://etcbc.github.io/bhsa/features/hebrew/c/number.html\" title=\"info\">number</a> <a target=\"_blank\" href=\"https://etcbc.github.io/bhsa/features/hebrew/c/otype.html\" title=\"info\">otype</a> <a target=\"_blank\" href=\"https://etcbc.github.io/bhsa/features/hebrew/c/pdp.html\" title=\"info\">pdp</a> <a target=\"_blank\" href=\"https://etcbc.github.io/bhsa/features/hebrew/c/rela.html\" title=\"info\">rela</a> <a target=\"_blank\" href=\"https://etcbc.github.io/bhsa/features/hebrew/c/sp.html\" title=\"info\">sp</a> <a target=\"_blank\" href=\"https://etcbc.github.io/bhsa/features/hebrew/c/typ.html\" title=\"info\">typ</a> <a target=\"_blank\" href=\"https://etcbc.github.io/bhsa/features/hebrew/c/verse.html\" title=\"info\">verse</a> <a target=\"_blank\" href=\"https://etcbc.github.io/bhsa/features/hebrew/c/voc_lex.html\" title=\"info\">voc_lex</a> <a target=\"_blank\" href=\"https://etcbc.github.io/bhsa/features/hebrew/c/voc_lex_utf8.html\" title=\"info\">voc_lex_utf8</a> <a target=\"_blank\" href=\"https://etcbc.github.io/bhsa/features/hebrew/c/vs.html\" title=\"info\">vs</a> <a target=\"_blank\" href=\"https://etcbc.github.io/bhsa/features/hebrew/c/vt.html\" title=\"info\">vt</a> <a target=\"_blank\" href=\"https://etcbc.github.io/bhsa/features/hebrew/c/mother.html\" title=\"info\">mother</a> <a target=\"_blank\" href=\"https://etcbc.github.io/bhsa/features/hebrew/c/oslots.html\" title=\"info\">oslots</a></details>"
      ],
      "text/plain": [
       "<IPython.core.display.HTML object>"
      ]
     },
     "metadata": {},
     "output_type": "display_data"
    },
    {
     "data": {
      "text/markdown": [
       "\n",
       "This notebook online:\n",
       "<a target=\"_blank\" href=\"https://nbviewer.jupyter.org/github/etcbc/lingo/blob/master/heads/getting_heads.ipynb\">NBViewer</a>\n",
       "<a target=\"_blank\" href=\"https://github.com/etcbc/lingo/blob/master/heads/getting_heads.ipynb\">GitHub</a>\n"
      ],
      "text/plain": [
       "<IPython.core.display.Markdown object>"
      ]
     },
     "metadata": {},
     "output_type": "display_data"
    },
    {
     "data": {
      "text/html": [
       "\n",
       "<style>\n",
       "@font-face {\n",
       "  font-family: \"Ezra SIL\";\n",
       "  src: url('https://github.com/Dans-labs/text-fabric/blob/master/tf/server/static/fonts/SILEOT.ttf?raw=true');\n",
       "  src: url('https://github.com/Dans-labs/text-fabric/blob/master/tf/server/static/fonts/SILEOT.woff?raw=true') format('woff');\n",
       "}\n",
       "</style>\n",
       "\n",
       "<style type=\"text/css\">\n",
       ".verse {\n",
       "    display: flex;\n",
       "    flex-flow: row wrap;\n",
       "    direction: rtl;\n",
       "}\n",
       ".vl {\n",
       "    display: flex;\n",
       "    flex-flow: column nowrap;\n",
       "    justify-content: flex-end;\n",
       "    align-items: flex-end;\n",
       "    direction: ltr;\n",
       "    width: 100%;\n",
       "}\n",
       ".outeritem {\n",
       "    display: flex;\n",
       "    flex-flow: row wrap;\n",
       "    direction: rtl;\n",
       "}\n",
       ".sentence,.clause,.phrase {\n",
       "    margin-top: -1.2em;\n",
       "    margin-left: 1em;\n",
       "    background: #ffffff none repeat scroll 0 0;\n",
       "    padding: 0 0.3em;\n",
       "    border-style: solid;\n",
       "    border-radius: 0.2em;\n",
       "    font-size: small;\n",
       "    display: block;\n",
       "    width: fit-content;\n",
       "    max-width: fit-content;\n",
       "    direction: ltr;\n",
       "}\n",
       ".atoms {\n",
       "    display: flex;\n",
       "    flex-flow: row wrap;\n",
       "    margin: 0.3em;\n",
       "    padding: 0.3em;\n",
       "    direction: rtl;\n",
       "    background-color: #ffffff;\n",
       "}\n",
       ".satom,.catom,.patom {\n",
       "    margin: 0.3em;\n",
       "    padding: 0.3em;\n",
       "    border-radius: 0.3em;\n",
       "    border-style: solid;\n",
       "    display: flex;\n",
       "    flex-flow: column nowrap;\n",
       "    direction: rtl;\n",
       "    background-color: #ffffff;\n",
       "}\n",
       ".sentence {\n",
       "    border-color: #aa3333;\n",
       "    border-width: 1px;\n",
       "}\n",
       ".clause {\n",
       "    border-color: #aaaa33;\n",
       "    border-width: 1px;\n",
       "}\n",
       ".phrase {\n",
       "    border-color: #33aaaa;\n",
       "    border-width: 1px;\n",
       "}\n",
       ".satom {\n",
       "    border-color: #aa3333;\n",
       "    border-width: 4px;\n",
       "}\n",
       ".catom {\n",
       "    border-color: #aaaa33;\n",
       "    border-width: 3px;\n",
       "}\n",
       ".patom {\n",
       "    border-color: #33aaaa;\n",
       "    border-width: 3px;\n",
       "}\n",
       ".word {\n",
       "    padding: 0.1em;\n",
       "    margin: 0.1em;\n",
       "    border-radius: 0.1em;\n",
       "    border: 1px solid #cccccc;\n",
       "    display: flex;\n",
       "    flex-flow: column nowrap;\n",
       "    direction: rtl;\n",
       "    background-color: #ffffff;\n",
       "}\n",
       ".lextp {\n",
       "    padding: 0.1em;\n",
       "    margin: 0.1em;\n",
       "    border-radius: 0.1em;\n",
       "    border: 2px solid #888888;\n",
       "    width: fit-content;\n",
       "    display: flex;\n",
       "    flex-flow: column nowrap;\n",
       "    direction: rtl;\n",
       "    background-color: #ffffff;\n",
       "}\n",
       ".occs {\n",
       "    font-size: x-small;\n",
       "}\n",
       ".satom.l,.catom.l,.patom.l {\n",
       "    border-left-style: dotted\n",
       "}\n",
       ".satom.r,.catom.r,.patom.r {\n",
       "    border-right-style: dotted\n",
       "}\n",
       ".satom.L,.catom.L,.patom.L {\n",
       "    border-left-style: none\n",
       "}\n",
       ".satom.R,.catom.R,.patom.R {\n",
       "    border-right-style: none\n",
       "}\n",
       ".tr,.tr a:visited,.tr a:link {\n",
       "    font-family: sans-serif;\n",
       "    font-size: large;\n",
       "    color: #000044;\n",
       "    direction: ltr;\n",
       "    text-decoration: none;\n",
       "}\n",
       ".trb,.trb a:visited,.trb a:link {\n",
       "    font-family: sans-serif;\n",
       "    font-size: normal;\n",
       "    direction: ltr;\n",
       "    text-decoration: none;\n",
       "}\n",
       ".prb,.prb a:visited,.prb a:link {\n",
       "    font-family: sans-serif;\n",
       "    font-size: large;\n",
       "    direction: ltr;\n",
       "    text-decoration: none;\n",
       "}\n",
       ".h,.h a:visited,.h a:link {\n",
       "    font-family: \"Ezra SIL\", \"SBL Hebrew\", sans-serif;\n",
       "    font-size: large;\n",
       "    color: #000044;\n",
       "    direction: rtl;\n",
       "    text-decoration: none;\n",
       "}\n",
       ".hb,.hb a:visited,.hb a:link {\n",
       "    font-family: \"Ezra SIL\", \"SBL Hebrew\", sans-serif;\n",
       "    font-size: large;\n",
       "    line-height: 1.8;\n",
       "    direction: rtl;\n",
       "    text-decoration: none;\n",
       "}\n",
       ".vn {\n",
       "  font-size: small !important;\n",
       "  padding-right: 1em;\n",
       "}\n",
       ".rela,.function,.typ {\n",
       "    font-family: monospace;\n",
       "    font-size: small;\n",
       "    color: #0000bb;\n",
       "}\n",
       ".pdp,.pdp a:visited,.pdp a:link {\n",
       "    font-family: monospace;\n",
       "    font-size: medium;\n",
       "    color: #0000bb;\n",
       "    text-decoration: none;\n",
       "}\n",
       ".voc_lex {\n",
       "    font-family: monospace;\n",
       "    font-size: medium;\n",
       "    color: #0000bb;\n",
       "}\n",
       ".vs {\n",
       "    font-family: monospace;\n",
       "    font-size: medium;\n",
       "    font-weight: bold;\n",
       "    color: #0000bb;\n",
       "}\n",
       ".vt {\n",
       "    font-family: monospace;\n",
       "    font-size: medium;\n",
       "    font-weight: bold;\n",
       "    color: #0000bb;\n",
       "}\n",
       ".gloss {\n",
       "    font-family: sans-serif;\n",
       "    font-size: small;\n",
       "    font-weight: normal;\n",
       "    color: #444444;\n",
       "}\n",
       ".vrs {\n",
       "    font-family: sans-serif;\n",
       "    font-size: small;\n",
       "    font-weight: bold;\n",
       "    color: #444444;\n",
       "}\n",
       ".nd {\n",
       "    font-family: monospace;\n",
       "    font-size: x-small;\n",
       "    color: #999999;\n",
       "}\n",
       ".features {\n",
       "    font-family: monospace;\n",
       "    font-size: medium;\n",
       "    font-weight: bold;\n",
       "    color: #0a6611;\n",
       "    display: flex;\n",
       "    flex-flow: column nowrap;\n",
       "    padding: 0.1em;\n",
       "    margin: 0.1em;\n",
       "    direction: ltr;\n",
       "}\n",
       ".features .f {\n",
       "    font-family: sans-serif;\n",
       "    font-size: x-small;\n",
       "    font-weight: normal;\n",
       "    color: #5555bb;\n",
       "}\n",
       ".word .features div,.word .features span {\n",
       "    padding: 0;\n",
       "    margin: -0.1rem 0;\n",
       "}\n",
       "\n",
       ".hl {\n",
       "    background-color: #ffee66;\n",
       "}\n",
       "</style>\n"
      ],
      "text/plain": [
       "<IPython.core.display.HTML object>"
      ]
     },
     "metadata": {},
     "output_type": "display_data"
    }
   ],
   "source": [
    "import collections, os, sys, random\n",
    "from pprint import pprint\n",
    "from tf.fabric import Fabric\n",
    "from tf.extra.bhsa import Bhsa\n",
    "\n",
    "# load Text-Fabric and data\n",
    "data_loc = [\"~/github/etcbc/bhsa/tf/c\"]\n",
    "TF = Fabric(locations=data_loc, silent=True)\n",
    "api = TF.load(\n",
    "    \"\"\"\n",
    "              book chapter verse\n",
    "              typ pdp rela mother \n",
    "              function lex sp ls\n",
    "              \"\"\",\n",
    "    silent=True,\n",
    ")\n",
    "\n",
    "F, E, T, L = api.F, api.E, api.T, api.L  # TF data methods\n",
    "B = Bhsa(api, name=\"getting_heads\", version=\"c\")  # BHSA visualizer"
   ]
  },
  {
   "cell_type": "code",
   "execution_count": 2,
   "metadata": {
    "lines_to_end_of_cell_marker": 2
   },
   "outputs": [],
   "source": [
    "def get_heads(phrase):\n",
    "    \"\"\"\n",
    "    Extracts and returns the heads of a supplied\n",
    "    phrase or phrase atom based on that phrase's type\n",
    "    and the relations reflected within the phrase.\n",
    "\n",
    "    --input--\n",
    "    phrase(atom) node number\n",
    "\n",
    "    --output--\n",
    "    tuple of head word node(s)\n",
    "    \"\"\"\n",
    "\n",
    "    # mapping from phrase type to good part of speech values for heads\n",
    "    head_pdps = {\n",
    "        \"VP\": {\"verb\"},  # verb\n",
    "        \"NP\": {\"subs\", \"adjv\", \"nmpr\"},  # noun\n",
    "        \"PrNP\": {\"nmpr\", \"subs\"},  # proper-noun\n",
    "        \"AdvP\": {\"advb\", \"nmpr\", \"subs\"},  # adverbial\n",
    "        \"PP\": {\"prep\"},  # prepositional\n",
    "        \"CP\": {\"conj\", \"prep\"},  # conjunctive\n",
    "        \"PPrP\": {\"prps\"},  # personal pronoun\n",
    "        \"DPrP\": {\"prde\"},  # demonstrative pronoun\n",
    "        \"IPrP\": {\"prin\"},  # interrogative pronoun\n",
    "        \"InjP\": {\"intj\"},  # interjectional\n",
    "        \"NegP\": {\"nega\"},  # negative\n",
    "        \"InrP\": {\"inrg\"},  # interrogative\n",
    "        \"AdjP\": {\"adjv\"},  # adjective\n",
    "    }\n",
    "\n",
    "    # get phrase-head's part of speech value and list of candidate matches\n",
    "    phrase_type = F.typ.v(phrase)\n",
    "    head_candidates = [\n",
    "        w for w in L.d(phrase, \"word\") if F.pdp.v(w) in head_pdps[phrase_type]\n",
    "    ]\n",
    "\n",
    "    # VP with verbs require no further processing, return the head verb\n",
    "    if phrase_type == \"VP\":\n",
    "        return tuple(head_candidates)\n",
    "\n",
    "    # go head-hunting!\n",
    "    heads = []\n",
    "\n",
    "    for word in head_candidates:\n",
    "\n",
    "        # gather the word's subphrase (+ phrase_atom if otype is phrase) relations\n",
    "        word_phrases = list(L.u(word, \"subphrase\"))\n",
    "        word_phrases += (\n",
    "            list(L.u(word, \"phrase_atom\"))\n",
    "            if (F.otype.v(phrase) == \"phrase\")\n",
    "            else list()\n",
    "        )\n",
    "        word_relas = set(F.rela.v(phr) for phr in word_phrases) or {\"NA\"}\n",
    "\n",
    "        # check (sub)phrase relations for independency\n",
    "        if word_relas - {\"NA\", \"par\", \"Para\"}:\n",
    "            continue\n",
    "\n",
    "        # check parallel relations for independency\n",
    "        elif word_relas & {\"par\", \"Para\"} and mother_is_head(word_phrases, heads):\n",
    "            this_head = find_quantified(word) or find_attributed(word) or word\n",
    "            heads.append(this_head)\n",
    "\n",
    "        # save all others as heads, check for quantifiers first\n",
    "        elif word_relas == {\"NA\"}:\n",
    "            this_head = find_quantified(word) or find_attributed(word) or word\n",
    "            heads.append(this_head)\n",
    "\n",
    "    return tuple(sorted(set(heads)))\n",
    "\n",
    "\n",
    "def mother_is_head(word_phrases, previous_heads):\n",
    "\n",
    "    \"\"\"\n",
    "    Test and validate parallel relationships for independency.\n",
    "    Must gather the mother for each relation and check whether\n",
    "    the mother contains a head word.\n",
    "\n",
    "    --input--\n",
    "    * list of phrase nodes for a given word (includes subphrases)\n",
    "    * list of previously approved heads\n",
    "\n",
    "    --output--\n",
    "    boolean\n",
    "    \"\"\"\n",
    "\n",
    "    # get word's enclosing phrases that are parallel\n",
    "    parallel_phrases = [ph for ph in word_phrases if F.rela.v(ph) in {\"par\", \"Para\"}]\n",
    "    # get the mother for the parallel phrases\n",
    "    parallel_mothers = [E.mother.f(ph)[0] for ph in parallel_phrases]\n",
    "    # get mothers' words, by mother\n",
    "    parallel_mom_words = [set(L.d(mom, \"word\")) for mom in parallel_mothers]\n",
    "    # test for head in each mother\n",
    "    test_mothers = [\n",
    "        bool(phrs_words & set(previous_heads)) for phrs_words in parallel_mom_words\n",
    "    ]\n",
    "\n",
    "    return all(test_mothers)\n",
    "\n",
    "\n",
    "def find_quantified(word):\n",
    "\n",
    "    \"\"\"\n",
    "    Check whether a head candidate is a quantifier (e.g. כל).\n",
    "    If it is, find the quantified noun if there is one.\n",
    "    Quantifiers are connected with the modified noun\n",
    "    either by a subphrase relation of \"rec\" for nomen\n",
    "    regens. In this case, the quantifier word node is the\n",
    "    mother itself. In other cases, the noun is related to the\n",
    "    number via the `atr` (attributive) subphrase relation. In this\n",
    "    case, the edge relation is connected from the substantive\n",
    "    to the number's subphrase.\n",
    "\n",
    "    --input--\n",
    "    word node\n",
    "\n",
    "    --output--\n",
    "    new word node or None\n",
    "    \"\"\"\n",
    "\n",
    "    custom_quants = {\n",
    "        \"KL/\",\n",
    "        \"M<V/\",\n",
    "        \"JTR/\",  # quantifier lexemes, others?\n",
    "        \"M<FR/\",\n",
    "        \"XYJ/\",\n",
    "    }\n",
    "    good_pdps = {\n",
    "        \"subs\",  # substantive\n",
    "        \"nmpr\",  # proper noun\n",
    "        \"prde\",  # demonstrative\n",
    "        \"prps\",  # pronoun\n",
    "        \"verb\",\n",
    "    }  # \"verb\" for participles, see the inquiries below.\n",
    "\n",
    "    if F.lex.v(word) not in custom_quants and F.ls.v(word) not in {\"card\", \"ordn\"}:\n",
    "        return None\n",
    "\n",
    "    # first check rec relations for valid quantified noun:\n",
    "    rectum = next(\n",
    "        (sp for sp in E.mother.t(word) if F.rela.v(sp) == \"rec\"), 0\n",
    "    )  # extract the rectum\n",
    "    noun = next(\n",
    "        (w for w in L.d(rectum, \"word\") if F.pdp.v(w) in good_pdps), 0\n",
    "    )  # filter words for noun\n",
    "    num_check = F.ls.v(L.u(noun, \"lex\")[0]) if noun else \"\"\n",
    "    if noun and num_check not in {\"card\", \"ordn\"}:\n",
    "        return noun\n",
    "\n",
    "    # check the adjunct relation if no rec found:\n",
    "    subphrases = sorted(L.u(word, \"subphrase\"))\n",
    "    # move progressively from smallest to largest subphrase, stop when non-cardinal noun is found\n",
    "    for sp in subphrases:\n",
    "        candidates = sorted(\n",
    "            daughter for daughter in E.mother.t(sp) if F.rela.v(daughter) == \"adj\"\n",
    "        )\n",
    "        for candi in candidates:\n",
    "            noun = next((w for w in L.d(candi, \"word\") if F.pdp.v(w) in good_pdps), 0)\n",
    "            num_check = F.ls.v(L.u(noun, \"lex\")[0]) if noun else \"\"\n",
    "            if noun and num_check not in {\"card\", \"ordn\"}:\n",
    "                return noun\n",
    "\n",
    "    # all else are non-quantifiers\n",
    "    return None\n",
    "\n",
    "\n",
    "def find_attributed(word):\n",
    "\n",
    "    \"\"\"\n",
    "    Check whether the head candidate is an adjective.\n",
    "    If it is, retrieve its attributed noun via the\n",
    "    regens (rec) relationship.\n",
    "\n",
    "    This function is similar to the quantified function.\n",
    "\n",
    "    --input--\n",
    "    word node\n",
    "\n",
    "    --output--\n",
    "    new word node or None\n",
    "    \"\"\"\n",
    "\n",
    "    if F.pdp.v(word) != \"adjv\":\n",
    "        return None\n",
    "\n",
    "    # check rec relations for valid attributed noun:\n",
    "    rectum = next(\n",
    "        (sp for sp in E.mother.t(word) if F.rela.v(sp) == \"rec\"), 0\n",
    "    )  # extract the rectum\n",
    "    noun = next(\n",
    "        (w for w in L.d(rectum, \"word\") if F.pdp.v(w) == \"subs\"), 0\n",
    "    )  # filter words for noun\n",
    "    if noun:\n",
    "        return noun\n",
    "\n",
    "    # sanity check: adjectives should not\n",
    "    # pass through this algorithm without a noun assignment\n",
    "    if F.typ.v(L.u(word, \"phrase\")) == \"NP\":\n",
    "        raise Exception(\n",
    "            f'adjective head assignment on NP {L.u(word, \"phrase\")} at word {word}'\n",
    "        )\n",
    "    else:\n",
    "        return None"
   ]
  },
  {
   "cell_type": "markdown",
   "metadata": {
    "lines_to_next_cell": 2
   },
   "source": [
    "## Tests\n",
    "\n",
    "Testing the get heads function and measuring the results.\n",
    "\n",
    "### Test Functions"
   ]
  },
  {
   "cell_type": "code",
   "execution_count": 3,
   "metadata": {},
   "outputs": [],
   "source": [
    "def show_subphrases(phrase_node):\n",
    "    \"\"\"\n",
    "    Inspect subphrases and their relations to each other.\n",
    "    \"\"\"\n",
    "    print(\"subphrase\", \"\\ttext\", \"\\trelation\", \"\\tmother\")\n",
    "    for sp in L.d(phrase_node, \"subphrase\"):\n",
    "        print(T.text(L.d(sp, \"word\")), sp, F.rela.v(sp), E.mother.f(sp))"
   ]
  },
  {
   "cell_type": "markdown",
   "metadata": {},
   "source": [
    "### Simple Test\n",
    "Apply the function to all the phrases in the Hebrew Bible. Record those cases which fail to receive a head assignment."
   ]
  },
  {
   "cell_type": "code",
   "execution_count": 4,
   "metadata": {},
   "outputs": [
    {
     "data": {
      "text/plain": [
       "2"
      ]
     },
     "execution_count": 4,
     "metadata": {},
     "output_type": "execute_result"
    }
   ],
   "source": [
    "headless = []\n",
    "total = 0\n",
    "\n",
    "for phrase in F.otype.s(\"phrase\"):\n",
    "\n",
    "    total += 1\n",
    "\n",
    "    heads = get_heads(phrase)\n",
    "\n",
    "    if not heads:\n",
    "        headless.append((phrase,))\n",
    "\n",
    "len(headless)"
   ]
  },
  {
   "cell_type": "markdown",
   "metadata": {},
   "source": [
    "### Quality Tests\n",
    "\n",
    "What do the results look like? Start with noun-phrases, but retrieve interesting examples with more than a few words."
   ]
  },
  {
   "cell_type": "code",
   "execution_count": 5,
   "metadata": {},
   "outputs": [
    {
     "data": {
      "text/plain": [
       "2668"
      ]
     },
     "execution_count": 5,
     "metadata": {},
     "output_type": "execute_result"
    }
   ],
   "source": [
    "examples = []\n",
    "\n",
    "for phrase in F.typ.s(\"NP\"):\n",
    "\n",
    "    len_words = len(L.d(phrase, \"word\"))\n",
    "\n",
    "    if len_words > 5:\n",
    "\n",
    "        heads = get_heads(phrase)\n",
    "\n",
    "        examples.append(heads)\n",
    "\n",
    "len(examples)"
   ]
  },
  {
   "cell_type": "code",
   "execution_count": 6,
   "metadata": {},
   "outputs": [],
   "source": [
    "random.shuffle(examples)  # get samples at random"
   ]
  },
  {
   "cell_type": "code",
   "execution_count": 8,
   "metadata": {},
   "outputs": [
    {
     "data": {
      "text/markdown": [
       "\n",
       "\n",
       "**phrase** *1*\n",
       "\n"
      ],
      "text/plain": [
       "<IPython.core.display.Markdown object>"
      ]
     },
     "metadata": {},
     "output_type": "display_data"
    },
    {
     "data": {
      "text/html": [
       "<div class=\"atoms \" style=\"background-color: None;\">\n",
       "\n",
       "\n",
       "\n",
       "<div class=\"patom \" style=\"background-color: None;\">\n",
       "\n",
       "    <div class=\"phrase\">\n",
       "        <a href=\"https://shebanq.ancient-data.org/hebrew/text?book=Genesis&chapter=11&verse=25&version=c&mr=m&qw=q&tp=txt_p&tr=hb&wget=v&qget=v&nget=vt\" title=\"Genesis 11:25\" sec=\"Genesis 11:25\">phrase</a>   <span class=\"function\">Time</span> <span class=\"typ\">NP</span>\n",
       "    </div>\n",
       "    <div class=\"atoms\">\n",
       "\n",
       "<div class=\"word \" style=\"background-color: None;\">\n",
       "<div class=\"h\"><a target=\"_blank\" href=\"https://shebanq.ancient-data.org/hebrew/word?version=c&id=1TCOn\" title=\"show this lexeme in SHEBANQ\">תְּשַֽׁע־</a></div>\n",
       "<div class=\"features\"> <span class=\"pdp\"><a href=\"https://shebanq.ancient-data.org/hebrew/text?book=Genesis&chapter=11&verse=25&version=c&mr=m&qw=q&tp=txt_p&tr=hb&wget=v&qget=v&nget=vt\" title=\"Genesis 11:25\" sec=\"Genesis 11:25\">subs</a></span> <span class=\"gloss\">nine</span></div>\n",
       "\n",
       "\n",
       "</div>\n",
       "\n",
       "<div class=\"word \" style=\"background-color: None;\">\n",
       "<div class=\"h\"><a target=\"_blank\" href=\"https://shebanq.ancient-data.org/hebrew/word?version=c&id=1OFRHn\" title=\"show this lexeme in SHEBANQ\">עֶשְׂרֵ֥ה </a></div>\n",
       "<div class=\"features\"> <span class=\"pdp\"><a href=\"https://shebanq.ancient-data.org/hebrew/text?book=Genesis&chapter=11&verse=25&version=c&mr=m&qw=q&tp=txt_p&tr=hb&wget=v&qget=v&nget=vt\" title=\"Genesis 11:25\" sec=\"Genesis 11:25\">subs</a></span> <span class=\"gloss\">-teen</span></div>\n",
       "\n",
       "\n",
       "</div>\n",
       "\n",
       "<div class=\"word  hl\">\n",
       "<div class=\"h\"><a target=\"_blank\" href=\"https://shebanq.ancient-data.org/hebrew/word?version=c&id=1CNHn\" title=\"show this lexeme in SHEBANQ\">שָׁנָ֖ה </a></div>\n",
       "<div class=\"features\"> <span class=\"pdp\"><a href=\"https://shebanq.ancient-data.org/hebrew/text?book=Genesis&chapter=11&verse=25&version=c&mr=m&qw=q&tp=txt_p&tr=hb&wget=v&qget=v&nget=vt\" title=\"Genesis 11:25\" sec=\"Genesis 11:25\">subs</a></span> <span class=\"gloss\">year</span></div>\n",
       "\n",
       "\n",
       "</div>\n",
       "\n",
       "<div class=\"word \" style=\"background-color: None;\">\n",
       "<div class=\"h\"><a target=\"_blank\" href=\"https://shebanq.ancient-data.org/hebrew/word?version=c&id=1W\" title=\"show this lexeme in SHEBANQ\">וּ</a></div>\n",
       "<div class=\"features\"> <span class=\"pdp\"><a href=\"https://shebanq.ancient-data.org/hebrew/text?book=Genesis&chapter=11&verse=25&version=c&mr=m&qw=q&tp=txt_p&tr=hb&wget=v&qget=v&nget=vt\" title=\"Genesis 11:25\" sec=\"Genesis 11:25\">conj</a></span> <span class=\"gloss\">and</span></div>\n",
       "\n",
       "\n",
       "</div>\n",
       "\n",
       "<div class=\"word \" style=\"background-color: None;\">\n",
       "<div class=\"h\"><a target=\"_blank\" href=\"https://shebanq.ancient-data.org/hebrew/word?version=c&id=1MAHn\" title=\"show this lexeme in SHEBANQ\">מְאַ֣ת </a></div>\n",
       "<div class=\"features\"> <span class=\"pdp\"><a href=\"https://shebanq.ancient-data.org/hebrew/text?book=Genesis&chapter=11&verse=25&version=c&mr=m&qw=q&tp=txt_p&tr=hb&wget=v&qget=v&nget=vt\" title=\"Genesis 11:25\" sec=\"Genesis 11:25\">subs</a></span> <span class=\"gloss\">hundred</span></div>\n",
       "\n",
       "\n",
       "</div>\n",
       "\n",
       "<div class=\"word  hl\">\n",
       "<div class=\"h\"><a target=\"_blank\" href=\"https://shebanq.ancient-data.org/hebrew/word?version=c&id=1CNHn\" title=\"show this lexeme in SHEBANQ\">שָׁנָ֑ה </a></div>\n",
       "<div class=\"features\"> <span class=\"pdp\"><a href=\"https://shebanq.ancient-data.org/hebrew/text?book=Genesis&chapter=11&verse=25&version=c&mr=m&qw=q&tp=txt_p&tr=hb&wget=v&qget=v&nget=vt\" title=\"Genesis 11:25\" sec=\"Genesis 11:25\">subs</a></span> <span class=\"gloss\">year</span></div>\n",
       "\n",
       "\n",
       "</div>\n",
       "\n",
       "\n",
       "    </div>\n",
       "\n",
       "\n",
       "</div>\n",
       "\n",
       "\n",
       "</div>\n"
      ],
      "text/plain": [
       "<IPython.core.display.HTML object>"
      ]
     },
     "metadata": {},
     "output_type": "display_data"
    },
    {
     "data": {
      "text/markdown": [
       "\n",
       "\n",
       "**phrase** *2*\n",
       "\n"
      ],
      "text/plain": [
       "<IPython.core.display.Markdown object>"
      ]
     },
     "metadata": {},
     "output_type": "display_data"
    },
    {
     "data": {
      "text/html": [
       "<div class=\"atoms \" style=\"background-color: None;\">\n",
       "\n",
       "\n",
       "\n",
       "<div class=\"patom \" style=\"background-color: None;\">\n",
       "\n",
       "    <div class=\"phrase\">\n",
       "        <a href=\"https://shebanq.ancient-data.org/hebrew/text?book=Exodus&chapter=29&verse=23&version=c&mr=m&qw=q&tp=txt_p&tr=hb&wget=v&qget=v&nget=vt\" title=\"Exodus 29:23\" sec=\"Exodus 29:23\">phrase</a>   <span class=\"function\">Objc</span> <span class=\"typ\">NP</span>\n",
       "    </div>\n",
       "    <div class=\"atoms\">\n",
       "\n",
       "<div class=\"word  hl\">\n",
       "<div class=\"h\"><a target=\"_blank\" href=\"https://shebanq.ancient-data.org/hebrew/word?version=c&id=1KKRn\" title=\"show this lexeme in SHEBANQ\">כִכַּ֨ר </a></div>\n",
       "<div class=\"features\"> <span class=\"pdp\"><a href=\"https://shebanq.ancient-data.org/hebrew/text?book=Exodus&chapter=29&verse=23&version=c&mr=m&qw=q&tp=txt_p&tr=hb&wget=v&qget=v&nget=vt\" title=\"Exodus 29:23\" sec=\"Exodus 29:23\">subs</a></span> <span class=\"gloss\">disk</span></div>\n",
       "\n",
       "\n",
       "</div>\n",
       "\n",
       "<div class=\"word \" style=\"background-color: None;\">\n",
       "<div class=\"h\"><a target=\"_blank\" href=\"https://shebanq.ancient-data.org/hebrew/word?version=c&id=1LXMn\" title=\"show this lexeme in SHEBANQ\">לֶ֜חֶם </a></div>\n",
       "<div class=\"features\"> <span class=\"pdp\"><a href=\"https://shebanq.ancient-data.org/hebrew/text?book=Exodus&chapter=29&verse=23&version=c&mr=m&qw=q&tp=txt_p&tr=hb&wget=v&qget=v&nget=vt\" title=\"Exodus 29:23\" sec=\"Exodus 29:23\">subs</a></span> <span class=\"gloss\">bread</span></div>\n",
       "\n",
       "\n",
       "</div>\n",
       "\n",
       "<div class=\"word \" style=\"background-color: None;\">\n",
       "<div class=\"h\"><a target=\"_blank\" href=\"https://shebanq.ancient-data.org/hebrew/word?version=c&id=1AXDn\" title=\"show this lexeme in SHEBANQ\">אַחַ֗ת </a></div>\n",
       "<div class=\"features\"> <span class=\"pdp\"><a href=\"https://shebanq.ancient-data.org/hebrew/text?book=Exodus&chapter=29&verse=23&version=c&mr=m&qw=q&tp=txt_p&tr=hb&wget=v&qget=v&nget=vt\" title=\"Exodus 29:23\" sec=\"Exodus 29:23\">subs</a></span> <span class=\"gloss\">one</span></div>\n",
       "\n",
       "\n",
       "</div>\n",
       "\n",
       "<div class=\"word \" style=\"background-color: None;\">\n",
       "<div class=\"h\"><a target=\"_blank\" href=\"https://shebanq.ancient-data.org/hebrew/word?version=c&id=1W\" title=\"show this lexeme in SHEBANQ\">וַֽ</a></div>\n",
       "<div class=\"features\"> <span class=\"pdp\"><a href=\"https://shebanq.ancient-data.org/hebrew/text?book=Exodus&chapter=29&verse=23&version=c&mr=m&qw=q&tp=txt_p&tr=hb&wget=v&qget=v&nget=vt\" title=\"Exodus 29:23\" sec=\"Exodus 29:23\">conj</a></span> <span class=\"gloss\">and</span></div>\n",
       "\n",
       "\n",
       "</div>\n",
       "\n",
       "<div class=\"word  hl\">\n",
       "<div class=\"h\"><a target=\"_blank\" href=\"https://shebanq.ancient-data.org/hebrew/word?version=c&id=1XLHn\" title=\"show this lexeme in SHEBANQ\">חַלַּ֨ת </a></div>\n",
       "<div class=\"features\"> <span class=\"pdp\"><a href=\"https://shebanq.ancient-data.org/hebrew/text?book=Exodus&chapter=29&verse=23&version=c&mr=m&qw=q&tp=txt_p&tr=hb&wget=v&qget=v&nget=vt\" title=\"Exodus 29:23\" sec=\"Exodus 29:23\">subs</a></span> <span class=\"gloss\">bread</span></div>\n",
       "\n",
       "\n",
       "</div>\n",
       "\n",
       "<div class=\"word \" style=\"background-color: None;\">\n",
       "<div class=\"h\"><a target=\"_blank\" href=\"https://shebanq.ancient-data.org/hebrew/word?version=c&id=1LXMn\" title=\"show this lexeme in SHEBANQ\">לֶ֥חֶם </a></div>\n",
       "<div class=\"features\"> <span class=\"pdp\"><a href=\"https://shebanq.ancient-data.org/hebrew/text?book=Exodus&chapter=29&verse=23&version=c&mr=m&qw=q&tp=txt_p&tr=hb&wget=v&qget=v&nget=vt\" title=\"Exodus 29:23\" sec=\"Exodus 29:23\">subs</a></span> <span class=\"gloss\">bread</span></div>\n",
       "\n",
       "\n",
       "</div>\n",
       "\n",
       "<div class=\"word \" style=\"background-color: None;\">\n",
       "<div class=\"h\"><a target=\"_blank\" href=\"https://shebanq.ancient-data.org/hebrew/word?version=c&id=1CMNn\" title=\"show this lexeme in SHEBANQ\">שֶׁ֛מֶן </a></div>\n",
       "<div class=\"features\"> <span class=\"pdp\"><a href=\"https://shebanq.ancient-data.org/hebrew/text?book=Exodus&chapter=29&verse=23&version=c&mr=m&qw=q&tp=txt_p&tr=hb&wget=v&qget=v&nget=vt\" title=\"Exodus 29:23\" sec=\"Exodus 29:23\">subs</a></span> <span class=\"gloss\">oil</span></div>\n",
       "\n",
       "\n",
       "</div>\n",
       "\n",
       "<div class=\"word \" style=\"background-color: None;\">\n",
       "<div class=\"h\"><a target=\"_blank\" href=\"https://shebanq.ancient-data.org/hebrew/word?version=c&id=1AXDn\" title=\"show this lexeme in SHEBANQ\">אַחַ֖ת </a></div>\n",
       "<div class=\"features\"> <span class=\"pdp\"><a href=\"https://shebanq.ancient-data.org/hebrew/text?book=Exodus&chapter=29&verse=23&version=c&mr=m&qw=q&tp=txt_p&tr=hb&wget=v&qget=v&nget=vt\" title=\"Exodus 29:23\" sec=\"Exodus 29:23\">subs</a></span> <span class=\"gloss\">one</span></div>\n",
       "\n",
       "\n",
       "</div>\n",
       "\n",
       "<div class=\"word \" style=\"background-color: None;\">\n",
       "<div class=\"h\"><a target=\"_blank\" href=\"https://shebanq.ancient-data.org/hebrew/word?version=c&id=1W\" title=\"show this lexeme in SHEBANQ\">וְ</a></div>\n",
       "<div class=\"features\"> <span class=\"pdp\"><a href=\"https://shebanq.ancient-data.org/hebrew/text?book=Exodus&chapter=29&verse=23&version=c&mr=m&qw=q&tp=txt_p&tr=hb&wget=v&qget=v&nget=vt\" title=\"Exodus 29:23\" sec=\"Exodus 29:23\">conj</a></span> <span class=\"gloss\">and</span></div>\n",
       "\n",
       "\n",
       "</div>\n",
       "\n",
       "<div class=\"word  hl\">\n",
       "<div class=\"h\"><a target=\"_blank\" href=\"https://shebanq.ancient-data.org/hebrew/word?version=c&id=1RQJQn\" title=\"show this lexeme in SHEBANQ\">רָקִ֣יק </a></div>\n",
       "<div class=\"features\"> <span class=\"pdp\"><a href=\"https://shebanq.ancient-data.org/hebrew/text?book=Exodus&chapter=29&verse=23&version=c&mr=m&qw=q&tp=txt_p&tr=hb&wget=v&qget=v&nget=vt\" title=\"Exodus 29:23\" sec=\"Exodus 29:23\">subs</a></span> <span class=\"gloss\">wafer</span></div>\n",
       "\n",
       "\n",
       "</div>\n",
       "\n",
       "<div class=\"word \" style=\"background-color: None;\">\n",
       "<div class=\"h\"><a target=\"_blank\" href=\"https://shebanq.ancient-data.org/hebrew/word?version=c&id=1AXDn\" title=\"show this lexeme in SHEBANQ\">אֶחָ֑ד </a></div>\n",
       "<div class=\"features\"> <span class=\"pdp\"><a href=\"https://shebanq.ancient-data.org/hebrew/text?book=Exodus&chapter=29&verse=23&version=c&mr=m&qw=q&tp=txt_p&tr=hb&wget=v&qget=v&nget=vt\" title=\"Exodus 29:23\" sec=\"Exodus 29:23\">subs</a></span> <span class=\"gloss\">one</span></div>\n",
       "\n",
       "\n",
       "</div>\n",
       "\n",
       "\n",
       "    </div>\n",
       "\n",
       "\n",
       "</div>\n",
       "\n",
       "\n",
       "</div>\n"
      ],
      "text/plain": [
       "<IPython.core.display.HTML object>"
      ]
     },
     "metadata": {},
     "output_type": "display_data"
    },
    {
     "data": {
      "text/markdown": [
       "\n",
       "\n",
       "**phrase** *3*\n",
       "\n"
      ],
      "text/plain": [
       "<IPython.core.display.Markdown object>"
      ]
     },
     "metadata": {},
     "output_type": "display_data"
    },
    {
     "data": {
      "text/html": [
       "<div class=\"atoms \" style=\"background-color: None;\">\n",
       "\n",
       "\n",
       "\n",
       "<div class=\"patom \" style=\"background-color: None;\">\n",
       "\n",
       "    <div class=\"phrase\">\n",
       "        <a href=\"https://shebanq.ancient-data.org/hebrew/text?book=Numeri&chapter=1&verse=31&version=c&mr=m&qw=q&tp=txt_p&tr=hb&wget=v&qget=v&nget=vt\" title=\"Numbers 1:31\" sec=\"Numbers 1:31\">phrase</a>   <span class=\"function\">PreC</span> <span class=\"typ\">NP</span>\n",
       "    </div>\n",
       "    <div class=\"atoms\">\n",
       "\n",
       "<div class=\"word  hl\">\n",
       "<div class=\"h\"><a target=\"_blank\" href=\"https://shebanq.ancient-data.org/hebrew/word?version=c&id=1CBOn\" title=\"show this lexeme in SHEBANQ\">שִׁבְעָ֧ה </a></div>\n",
       "<div class=\"features\"> <span class=\"pdp\"><a href=\"https://shebanq.ancient-data.org/hebrew/text?book=Numeri&chapter=1&verse=31&version=c&mr=m&qw=q&tp=txt_p&tr=hb&wget=v&qget=v&nget=vt\" title=\"Numbers 1:31\" sec=\"Numbers 1:31\">subs</a></span> <span class=\"gloss\">seven</span></div>\n",
       "\n",
       "\n",
       "</div>\n",
       "\n",
       "<div class=\"word \" style=\"background-color: None;\">\n",
       "<div class=\"h\"><a target=\"_blank\" href=\"https://shebanq.ancient-data.org/hebrew/word?version=c&id=1W\" title=\"show this lexeme in SHEBANQ\">וַ</a></div>\n",
       "<div class=\"features\"> <span class=\"pdp\"><a href=\"https://shebanq.ancient-data.org/hebrew/text?book=Numeri&chapter=1&verse=31&version=c&mr=m&qw=q&tp=txt_p&tr=hb&wget=v&qget=v&nget=vt\" title=\"Numbers 1:31\" sec=\"Numbers 1:31\">conj</a></span> <span class=\"gloss\">and</span></div>\n",
       "\n",
       "\n",
       "</div>\n",
       "\n",
       "<div class=\"word  hl\">\n",
       "<div class=\"h\"><a target=\"_blank\" href=\"https://shebanq.ancient-data.org/hebrew/word?version=c&id=1XMCn\" title=\"show this lexeme in SHEBANQ\">חֲמִשִּׁ֛ים </a></div>\n",
       "<div class=\"features\"> <span class=\"pdp\"><a href=\"https://shebanq.ancient-data.org/hebrew/text?book=Numeri&chapter=1&verse=31&version=c&mr=m&qw=q&tp=txt_p&tr=hb&wget=v&qget=v&nget=vt\" title=\"Numbers 1:31\" sec=\"Numbers 1:31\">subs</a></span> <span class=\"gloss\">five</span></div>\n",
       "\n",
       "\n",
       "</div>\n",
       "\n",
       "<div class=\"word \" style=\"background-color: None;\">\n",
       "<div class=\"h\"><a target=\"_blank\" href=\"https://shebanq.ancient-data.org/hebrew/word?version=c&id=1ALPin\" title=\"show this lexeme in SHEBANQ\">אֶ֖לֶף </a></div>\n",
       "<div class=\"features\"> <span class=\"pdp\"><a href=\"https://shebanq.ancient-data.org/hebrew/text?book=Numeri&chapter=1&verse=31&version=c&mr=m&qw=q&tp=txt_p&tr=hb&wget=v&qget=v&nget=vt\" title=\"Numbers 1:31\" sec=\"Numbers 1:31\">subs</a></span> <span class=\"gloss\">thousand</span></div>\n",
       "\n",
       "\n",
       "</div>\n",
       "\n",
       "<div class=\"word \" style=\"background-color: None;\">\n",
       "<div class=\"h\"><a target=\"_blank\" href=\"https://shebanq.ancient-data.org/hebrew/word?version=c&id=1W\" title=\"show this lexeme in SHEBANQ\">וְ</a></div>\n",
       "<div class=\"features\"> <span class=\"pdp\"><a href=\"https://shebanq.ancient-data.org/hebrew/text?book=Numeri&chapter=1&verse=31&version=c&mr=m&qw=q&tp=txt_p&tr=hb&wget=v&qget=v&nget=vt\" title=\"Numbers 1:31\" sec=\"Numbers 1:31\">conj</a></span> <span class=\"gloss\">and</span></div>\n",
       "\n",
       "\n",
       "</div>\n",
       "\n",
       "<div class=\"word  hl\">\n",
       "<div class=\"h\"><a target=\"_blank\" href=\"https://shebanq.ancient-data.org/hebrew/word?version=c&id=1ARBOn\" title=\"show this lexeme in SHEBANQ\">אַרְבַּ֥ע </a></div>\n",
       "<div class=\"features\"> <span class=\"pdp\"><a href=\"https://shebanq.ancient-data.org/hebrew/text?book=Numeri&chapter=1&verse=31&version=c&mr=m&qw=q&tp=txt_p&tr=hb&wget=v&qget=v&nget=vt\" title=\"Numbers 1:31\" sec=\"Numbers 1:31\">subs</a></span> <span class=\"gloss\">four</span></div>\n",
       "\n",
       "\n",
       "</div>\n",
       "\n",
       "<div class=\"word \" style=\"background-color: None;\">\n",
       "<div class=\"h\"><a target=\"_blank\" href=\"https://shebanq.ancient-data.org/hebrew/word?version=c&id=1MAHn\" title=\"show this lexeme in SHEBANQ\">מֵאֹֽות׃ פ </a></div>\n",
       "<div class=\"features\"> <span class=\"pdp\"><a href=\"https://shebanq.ancient-data.org/hebrew/text?book=Numeri&chapter=1&verse=31&version=c&mr=m&qw=q&tp=txt_p&tr=hb&wget=v&qget=v&nget=vt\" title=\"Numbers 1:31\" sec=\"Numbers 1:31\">subs</a></span> <span class=\"gloss\">hundred</span></div>\n",
       "\n",
       "\n",
       "</div>\n",
       "\n",
       "\n",
       "    </div>\n",
       "\n",
       "\n",
       "</div>\n",
       "\n",
       "\n",
       "</div>\n"
      ],
      "text/plain": [
       "<IPython.core.display.HTML object>"
      ]
     },
     "metadata": {},
     "output_type": "display_data"
    },
    {
     "data": {
      "text/markdown": [
       "\n",
       "\n",
       "**phrase** *4*\n",
       "\n"
      ],
      "text/plain": [
       "<IPython.core.display.Markdown object>"
      ]
     },
     "metadata": {},
     "output_type": "display_data"
    },
    {
     "data": {
      "text/html": [
       "<div class=\"atoms \" style=\"background-color: None;\">\n",
       "\n",
       "\n",
       "\n",
       "<div class=\"patom  l\" style=\"background-color: None;\">\n",
       "\n",
       "    <div class=\"phrase\">\n",
       "        <a href=\"https://shebanq.ancient-data.org/hebrew/text?book=Josua&chapter=13&verse=11&version=c&mr=m&qw=q&tp=txt_p&tr=hb&wget=v&qget=v&nget=vt\" title=\"Joshua 13:11\" sec=\"Joshua 13:11\">phrase</a>   <span class=\"function\">Loca</span> <span class=\"typ\">PrNP</span>\n",
       "    </div>\n",
       "    <div class=\"atoms\">\n",
       "\n",
       "<div class=\"word \" style=\"background-color: None;\">\n",
       "<div class=\"h\"><a target=\"_blank\" href=\"https://shebanq.ancient-data.org/hebrew/word?version=c&id=1H\" title=\"show this lexeme in SHEBANQ\">הַ</a></div>\n",
       "<div class=\"features\"> <span class=\"pdp\"><a href=\"https://shebanq.ancient-data.org/hebrew/text?book=Josua&chapter=13&verse=11&version=c&mr=m&qw=q&tp=txt_p&tr=hb&wget=v&qget=v&nget=vt\" title=\"Joshua 13:11\" sec=\"Joshua 13:11\">art</a></span> <span class=\"gloss\">the</span></div>\n",
       "\n",
       "\n",
       "</div>\n",
       "\n",
       "<div class=\"word \" style=\"background-color: None;\">\n",
       "<div class=\"h\"><a target=\"_blank\" href=\"https://shebanq.ancient-data.org/hebrew/word?version=c&id=1GLODn\" title=\"show this lexeme in SHEBANQ\">גִּלְעָ֞ד </a></div>\n",
       "<div class=\"features\"> <span class=\"pdp\"><a href=\"https://shebanq.ancient-data.org/hebrew/text?book=Josua&chapter=13&verse=11&version=c&mr=m&qw=q&tp=txt_p&tr=hb&wget=v&qget=v&nget=vt\" title=\"Joshua 13:11\" sec=\"Joshua 13:11\">nmpr</a></span> <span class=\"gloss\">Gilead</span></div>\n",
       "\n",
       "\n",
       "</div>\n",
       "\n",
       "\n",
       "    </div>\n",
       "\n",
       "\n",
       "</div>\n",
       "\n",
       "<div class=\"patom  r l\" style=\"background-color: None;\">\n",
       "\n",
       "    <div class=\"phrase\">\n",
       "        <a href=\"https://shebanq.ancient-data.org/hebrew/text?book=Josua&chapter=13&verse=11&version=c&mr=m&qw=q&tp=txt_p&tr=hb&wget=v&qget=v&nget=vt\" title=\"Joshua 13:11\" sec=\"Joshua 13:11\">phrase</a>   <span class=\"function\">Loca</span> <span class=\"typ\">PrNP</span>\n",
       "    </div>\n",
       "    <div class=\"atoms\">\n",
       "\n",
       "<div class=\"word \" style=\"background-color: None;\">\n",
       "<div class=\"h\"><a target=\"_blank\" href=\"https://shebanq.ancient-data.org/hebrew/word?version=c&id=1W\" title=\"show this lexeme in SHEBANQ\">וּ</a></div>\n",
       "<div class=\"features\"> <span class=\"pdp\"><a href=\"https://shebanq.ancient-data.org/hebrew/text?book=Josua&chapter=13&verse=11&version=c&mr=m&qw=q&tp=txt_p&tr=hb&wget=v&qget=v&nget=vt\" title=\"Joshua 13:11\" sec=\"Joshua 13:11\">conj</a></span> <span class=\"gloss\">and</span></div>\n",
       "\n",
       "\n",
       "</div>\n",
       "\n",
       "\n",
       "    </div>\n",
       "\n",
       "\n",
       "</div>\n",
       "\n",
       "<div class=\"patom  r l\" style=\"background-color: None;\">\n",
       "\n",
       "    <div class=\"phrase\">\n",
       "        <a href=\"https://shebanq.ancient-data.org/hebrew/text?book=Josua&chapter=13&verse=11&version=c&mr=m&qw=q&tp=txt_p&tr=hb&wget=v&qget=v&nget=vt\" title=\"Joshua 13:11\" sec=\"Joshua 13:11\">phrase</a>   <span class=\"function\">Loca</span> <span class=\"typ\">PrNP</span>\n",
       "    </div>\n",
       "    <div class=\"atoms\">\n",
       "\n",
       "<div class=\"word  hl\">\n",
       "<div class=\"h\"><a target=\"_blank\" href=\"https://shebanq.ancient-data.org/hebrew/word?version=c&id=1GBWLn\" title=\"show this lexeme in SHEBANQ\">גְב֧וּל </a></div>\n",
       "<div class=\"features\"> <span class=\"pdp\"><a href=\"https://shebanq.ancient-data.org/hebrew/text?book=Josua&chapter=13&verse=11&version=c&mr=m&qw=q&tp=txt_p&tr=hb&wget=v&qget=v&nget=vt\" title=\"Joshua 13:11\" sec=\"Joshua 13:11\">subs</a></span> <span class=\"gloss\">boundary</span></div>\n",
       "\n",
       "\n",
       "</div>\n",
       "\n",
       "<div class=\"word \" style=\"background-color: None;\">\n",
       "<div class=\"h\"><a target=\"_blank\" href=\"https://shebanq.ancient-data.org/hebrew/word?version=c&id=1H\" title=\"show this lexeme in SHEBANQ\">הַ</a></div>\n",
       "<div class=\"features\"> <span class=\"pdp\"><a href=\"https://shebanq.ancient-data.org/hebrew/text?book=Josua&chapter=13&verse=11&version=c&mr=m&qw=q&tp=txt_p&tr=hb&wget=v&qget=v&nget=vt\" title=\"Joshua 13:11\" sec=\"Joshua 13:11\">art</a></span> <span class=\"gloss\">the</span></div>\n",
       "\n",
       "\n",
       "</div>\n",
       "\n",
       "<div class=\"word  hl\">\n",
       "<div class=\"h\"><a target=\"_blank\" href=\"https://shebanq.ancient-data.org/hebrew/word?version=c&id=1GCWRJn\" title=\"show this lexeme in SHEBANQ\">גְּשׁוּרִ֣י </a></div>\n",
       "<div class=\"features\"> <span class=\"pdp\"><a href=\"https://shebanq.ancient-data.org/hebrew/text?book=Josua&chapter=13&verse=11&version=c&mr=m&qw=q&tp=txt_p&tr=hb&wget=v&qget=v&nget=vt\" title=\"Joshua 13:11\" sec=\"Joshua 13:11\">subs</a></span> <span class=\"gloss\">Geshurite</span></div>\n",
       "\n",
       "\n",
       "</div>\n",
       "\n",
       "<div class=\"word \" style=\"background-color: None;\">\n",
       "<div class=\"h\"><a target=\"_blank\" href=\"https://shebanq.ancient-data.org/hebrew/word?version=c&id=1W\" title=\"show this lexeme in SHEBANQ\">וְ</a></div>\n",
       "<div class=\"features\"> <span class=\"pdp\"><a href=\"https://shebanq.ancient-data.org/hebrew/text?book=Josua&chapter=13&verse=11&version=c&mr=m&qw=q&tp=txt_p&tr=hb&wget=v&qget=v&nget=vt\" title=\"Joshua 13:11\" sec=\"Joshua 13:11\">conj</a></span> <span class=\"gloss\">and</span></div>\n",
       "\n",
       "\n",
       "</div>\n",
       "\n",
       "<div class=\"word \" style=\"background-color: None;\">\n",
       "<div class=\"h\"><a target=\"_blank\" href=\"https://shebanq.ancient-data.org/hebrew/word?version=c&id=1H\" title=\"show this lexeme in SHEBANQ\">הַ</a></div>\n",
       "<div class=\"features\"> <span class=\"pdp\"><a href=\"https://shebanq.ancient-data.org/hebrew/text?book=Josua&chapter=13&verse=11&version=c&mr=m&qw=q&tp=txt_p&tr=hb&wget=v&qget=v&nget=vt\" title=\"Joshua 13:11\" sec=\"Joshua 13:11\">art</a></span> <span class=\"gloss\">the</span></div>\n",
       "\n",
       "\n",
       "</div>\n",
       "\n",
       "<div class=\"word  hl\">\n",
       "<div class=\"h\"><a target=\"_blank\" href=\"https://shebanq.ancient-data.org/hebrew/word?version=c&id=1MOKTJn\" title=\"show this lexeme in SHEBANQ\">מַּעֲכָתִ֗י </a></div>\n",
       "<div class=\"features\"> <span class=\"pdp\"><a href=\"https://shebanq.ancient-data.org/hebrew/text?book=Josua&chapter=13&verse=11&version=c&mr=m&qw=q&tp=txt_p&tr=hb&wget=v&qget=v&nget=vt\" title=\"Joshua 13:11\" sec=\"Joshua 13:11\">subs</a></span> <span class=\"gloss\">Maacathite</span></div>\n",
       "\n",
       "\n",
       "</div>\n",
       "\n",
       "\n",
       "    </div>\n",
       "\n",
       "\n",
       "</div>\n",
       "\n",
       "<div class=\"patom  r l\" style=\"background-color: None;\">\n",
       "\n",
       "    <div class=\"phrase\">\n",
       "        <a href=\"https://shebanq.ancient-data.org/hebrew/text?book=Josua&chapter=13&verse=11&version=c&mr=m&qw=q&tp=txt_p&tr=hb&wget=v&qget=v&nget=vt\" title=\"Joshua 13:11\" sec=\"Joshua 13:11\">phrase</a>   <span class=\"function\">Loca</span> <span class=\"typ\">PrNP</span>\n",
       "    </div>\n",
       "    <div class=\"atoms\">\n",
       "\n",
       "<div class=\"word \" style=\"background-color: None;\">\n",
       "<div class=\"h\"><a target=\"_blank\" href=\"https://shebanq.ancient-data.org/hebrew/word?version=c&id=1W\" title=\"show this lexeme in SHEBANQ\">וְ</a></div>\n",
       "<div class=\"features\"> <span class=\"pdp\"><a href=\"https://shebanq.ancient-data.org/hebrew/text?book=Josua&chapter=13&verse=11&version=c&mr=m&qw=q&tp=txt_p&tr=hb&wget=v&qget=v&nget=vt\" title=\"Joshua 13:11\" sec=\"Joshua 13:11\">conj</a></span> <span class=\"gloss\">and</span></div>\n",
       "\n",
       "\n",
       "</div>\n",
       "\n",
       "\n",
       "    </div>\n",
       "\n",
       "\n",
       "</div>\n",
       "\n",
       "<div class=\"patom  r l\" style=\"background-color: None;\">\n",
       "\n",
       "    <div class=\"phrase\">\n",
       "        <a href=\"https://shebanq.ancient-data.org/hebrew/text?book=Josua&chapter=13&verse=11&version=c&mr=m&qw=q&tp=txt_p&tr=hb&wget=v&qget=v&nget=vt\" title=\"Joshua 13:11\" sec=\"Joshua 13:11\">phrase</a>   <span class=\"function\">Loca</span> <span class=\"typ\">PrNP</span>\n",
       "    </div>\n",
       "    <div class=\"atoms\">\n",
       "\n",
       "<div class=\"word \" style=\"background-color: None;\">\n",
       "<div class=\"h\"><a target=\"_blank\" href=\"https://shebanq.ancient-data.org/hebrew/word?version=c&id=1KLn\" title=\"show this lexeme in SHEBANQ\">כֹ֨ל </a></div>\n",
       "<div class=\"features\"> <span class=\"pdp\"><a href=\"https://shebanq.ancient-data.org/hebrew/text?book=Josua&chapter=13&verse=11&version=c&mr=m&qw=q&tp=txt_p&tr=hb&wget=v&qget=v&nget=vt\" title=\"Joshua 13:11\" sec=\"Joshua 13:11\">subs</a></span> <span class=\"gloss\">whole</span></div>\n",
       "\n",
       "\n",
       "</div>\n",
       "\n",
       "<div class=\"word \" style=\"background-color: None;\">\n",
       "<div class=\"h\"><a target=\"_blank\" href=\"https://shebanq.ancient-data.org/hebrew/word?version=c&id=1HRn\" title=\"show this lexeme in SHEBANQ\">הַ֥ר </a></div>\n",
       "<div class=\"features\"> <span class=\"pdp\"><a href=\"https://shebanq.ancient-data.org/hebrew/text?book=Josua&chapter=13&verse=11&version=c&mr=m&qw=q&tp=txt_p&tr=hb&wget=v&qget=v&nget=vt\" title=\"Joshua 13:11\" sec=\"Joshua 13:11\">subs</a></span> <span class=\"gloss\">mountain</span></div>\n",
       "\n",
       "\n",
       "</div>\n",
       "\n",
       "<div class=\"word \" style=\"background-color: None;\">\n",
       "<div class=\"h\"><a target=\"_blank\" href=\"https://shebanq.ancient-data.org/hebrew/word?version=c&id=1XRMWNn\" title=\"show this lexeme in SHEBANQ\">חֶרְמֹ֛ון </a></div>\n",
       "<div class=\"features\"> <span class=\"pdp\"><a href=\"https://shebanq.ancient-data.org/hebrew/text?book=Josua&chapter=13&verse=11&version=c&mr=m&qw=q&tp=txt_p&tr=hb&wget=v&qget=v&nget=vt\" title=\"Joshua 13:11\" sec=\"Joshua 13:11\">nmpr</a></span> <span class=\"gloss\">Hermon</span></div>\n",
       "\n",
       "\n",
       "</div>\n",
       "\n",
       "<div class=\"word \" style=\"background-color: None;\">\n",
       "<div class=\"h\"><a target=\"_blank\" href=\"https://shebanq.ancient-data.org/hebrew/word?version=c&id=1W\" title=\"show this lexeme in SHEBANQ\">וְ</a></div>\n",
       "<div class=\"features\"> <span class=\"pdp\"><a href=\"https://shebanq.ancient-data.org/hebrew/text?book=Josua&chapter=13&verse=11&version=c&mr=m&qw=q&tp=txt_p&tr=hb&wget=v&qget=v&nget=vt\" title=\"Joshua 13:11\" sec=\"Joshua 13:11\">conj</a></span> <span class=\"gloss\">and</span></div>\n",
       "\n",
       "\n",
       "</div>\n",
       "\n",
       "<div class=\"word \" style=\"background-color: None;\">\n",
       "<div class=\"h\"><a target=\"_blank\" href=\"https://shebanq.ancient-data.org/hebrew/word?version=c&id=1KLn\" title=\"show this lexeme in SHEBANQ\">כָל־</a></div>\n",
       "<div class=\"features\"> <span class=\"pdp\"><a href=\"https://shebanq.ancient-data.org/hebrew/text?book=Josua&chapter=13&verse=11&version=c&mr=m&qw=q&tp=txt_p&tr=hb&wget=v&qget=v&nget=vt\" title=\"Joshua 13:11\" sec=\"Joshua 13:11\">subs</a></span> <span class=\"gloss\">whole</span></div>\n",
       "\n",
       "\n",
       "</div>\n",
       "\n",
       "<div class=\"word \" style=\"background-color: None;\">\n",
       "<div class=\"h\"><a target=\"_blank\" href=\"https://shebanq.ancient-data.org/hebrew/word?version=c&id=1H\" title=\"show this lexeme in SHEBANQ\">הַ</a></div>\n",
       "<div class=\"features\"> <span class=\"pdp\"><a href=\"https://shebanq.ancient-data.org/hebrew/text?book=Josua&chapter=13&verse=11&version=c&mr=m&qw=q&tp=txt_p&tr=hb&wget=v&qget=v&nget=vt\" title=\"Joshua 13:11\" sec=\"Joshua 13:11\">art</a></span> <span class=\"gloss\">the</span></div>\n",
       "\n",
       "\n",
       "</div>\n",
       "\n",
       "<div class=\"word \" style=\"background-color: None;\">\n",
       "<div class=\"h\"><a target=\"_blank\" href=\"https://shebanq.ancient-data.org/hebrew/word?version=c&id=1BCNn\" title=\"show this lexeme in SHEBANQ\">בָּשָׁ֖ן </a></div>\n",
       "<div class=\"features\"> <span class=\"pdp\"><a href=\"https://shebanq.ancient-data.org/hebrew/text?book=Josua&chapter=13&verse=11&version=c&mr=m&qw=q&tp=txt_p&tr=hb&wget=v&qget=v&nget=vt\" title=\"Joshua 13:11\" sec=\"Joshua 13:11\">nmpr</a></span> <span class=\"gloss\">Bashan</span></div>\n",
       "\n",
       "\n",
       "</div>\n",
       "\n",
       "\n",
       "    </div>\n",
       "\n",
       "\n",
       "</div>\n",
       "\n",
       "<div class=\"patom  r\" style=\"background-color: None;\">\n",
       "\n",
       "    <div class=\"phrase\">\n",
       "        <a href=\"https://shebanq.ancient-data.org/hebrew/text?book=Josua&chapter=13&verse=11&version=c&mr=m&qw=q&tp=txt_p&tr=hb&wget=v&qget=v&nget=vt\" title=\"Joshua 13:11\" sec=\"Joshua 13:11\">phrase</a>   <span class=\"function\">Loca</span> <span class=\"typ\">PrNP</span>\n",
       "    </div>\n",
       "    <div class=\"atoms\">\n",
       "\n",
       "<div class=\"word \" style=\"background-color: None;\">\n",
       "<div class=\"h\"><a target=\"_blank\" href=\"https://shebanq.ancient-data.org/hebrew/word?version=c&id=1OD\" title=\"show this lexeme in SHEBANQ\">עַד־</a></div>\n",
       "<div class=\"features\"> <span class=\"pdp\"><a href=\"https://shebanq.ancient-data.org/hebrew/text?book=Josua&chapter=13&verse=11&version=c&mr=m&qw=q&tp=txt_p&tr=hb&wget=v&qget=v&nget=vt\" title=\"Joshua 13:11\" sec=\"Joshua 13:11\">prep</a></span> <span class=\"gloss\">unto</span></div>\n",
       "\n",
       "\n",
       "</div>\n",
       "\n",
       "<div class=\"word \" style=\"background-color: None;\">\n",
       "<div class=\"h\"><a target=\"_blank\" href=\"https://shebanq.ancient-data.org/hebrew/word?version=c&id=1SLKHn\" title=\"show this lexeme in SHEBANQ\">סַלְכָֽה׃ </a></div>\n",
       "<div class=\"features\"> <span class=\"pdp\"><a href=\"https://shebanq.ancient-data.org/hebrew/text?book=Josua&chapter=13&verse=11&version=c&mr=m&qw=q&tp=txt_p&tr=hb&wget=v&qget=v&nget=vt\" title=\"Joshua 13:11\" sec=\"Joshua 13:11\">nmpr</a></span> <span class=\"gloss\">Salecah</span></div>\n",
       "\n",
       "\n",
       "</div>\n",
       "\n",
       "\n",
       "    </div>\n",
       "\n",
       "\n",
       "</div>\n",
       "\n",
       "\n",
       "</div>\n"
      ],
      "text/plain": [
       "<IPython.core.display.HTML object>"
      ]
     },
     "metadata": {},
     "output_type": "display_data"
    },
    {
     "data": {
      "text/markdown": [
       "\n",
       "\n",
       "**phrase** *5*\n",
       "\n"
      ],
      "text/plain": [
       "<IPython.core.display.Markdown object>"
      ]
     },
     "metadata": {},
     "output_type": "display_data"
    },
    {
     "data": {
      "text/html": [
       "<div class=\"atoms \" style=\"background-color: None;\">\n",
       "\n",
       "\n",
       "\n",
       "<div class=\"patom \" style=\"background-color: None;\">\n",
       "\n",
       "    <div class=\"phrase\">\n",
       "        <a href=\"https://shebanq.ancient-data.org/hebrew/text?book=Samuel_I&chapter=18&verse=4&version=c&mr=m&qw=q&tp=txt_p&tr=hb&wget=v&qget=v&nget=vt\" title=\"1_Samuel 18:4\" sec=\"1_Samuel 18:4\">phrase</a>   <span class=\"function\">Objc</span> <span class=\"typ\">NP</span>\n",
       "    </div>\n",
       "    <div class=\"atoms\">\n",
       "\n",
       "<div class=\"word  hl\">\n",
       "<div class=\"h\"><a target=\"_blank\" href=\"https://shebanq.ancient-data.org/hebrew/word?version=c&id=1MDn\" title=\"show this lexeme in SHEBANQ\">מַדָּ֕יו </a></div>\n",
       "<div class=\"features\"> <span class=\"pdp\"><a href=\"https://shebanq.ancient-data.org/hebrew/text?book=Samuel_I&chapter=18&verse=4&version=c&mr=m&qw=q&tp=txt_p&tr=hb&wget=v&qget=v&nget=vt\" title=\"1_Samuel 18:4\" sec=\"1_Samuel 18:4\">subs</a></span> <span class=\"gloss\">cloth</span></div>\n",
       "\n",
       "\n",
       "</div>\n",
       "\n",
       "<div class=\"word \" style=\"background-color: None;\">\n",
       "<div class=\"h\"><a target=\"_blank\" href=\"https://shebanq.ancient-data.org/hebrew/word?version=c&id=1W\" title=\"show this lexeme in SHEBANQ\">וְ</a></div>\n",
       "<div class=\"features\"> <span class=\"pdp\"><a href=\"https://shebanq.ancient-data.org/hebrew/text?book=Samuel_I&chapter=18&verse=4&version=c&mr=m&qw=q&tp=txt_p&tr=hb&wget=v&qget=v&nget=vt\" title=\"1_Samuel 18:4\" sec=\"1_Samuel 18:4\">conj</a></span> <span class=\"gloss\">and</span></div>\n",
       "\n",
       "\n",
       "</div>\n",
       "\n",
       "<div class=\"word \" style=\"background-color: None;\">\n",
       "<div class=\"h\"><a target=\"_blank\" href=\"https://shebanq.ancient-data.org/hebrew/word?version=c&id=1OD\" title=\"show this lexeme in SHEBANQ\">עַד־</a></div>\n",
       "<div class=\"features\"> <span class=\"pdp\"><a href=\"https://shebanq.ancient-data.org/hebrew/text?book=Samuel_I&chapter=18&verse=4&version=c&mr=m&qw=q&tp=txt_p&tr=hb&wget=v&qget=v&nget=vt\" title=\"1_Samuel 18:4\" sec=\"1_Samuel 18:4\">prep</a></span> <span class=\"gloss\">unto</span></div>\n",
       "\n",
       "\n",
       "</div>\n",
       "\n",
       "<div class=\"word \" style=\"background-color: None;\">\n",
       "<div class=\"h\"><a target=\"_blank\" href=\"https://shebanq.ancient-data.org/hebrew/word?version=c&id=1XRBn\" title=\"show this lexeme in SHEBANQ\">חַרְבֹּ֥ו </a></div>\n",
       "<div class=\"features\"> <span class=\"pdp\"><a href=\"https://shebanq.ancient-data.org/hebrew/text?book=Samuel_I&chapter=18&verse=4&version=c&mr=m&qw=q&tp=txt_p&tr=hb&wget=v&qget=v&nget=vt\" title=\"1_Samuel 18:4\" sec=\"1_Samuel 18:4\">subs</a></span> <span class=\"gloss\">dagger</span></div>\n",
       "\n",
       "\n",
       "</div>\n",
       "\n",
       "<div class=\"word \" style=\"background-color: None;\">\n",
       "<div class=\"h\"><a target=\"_blank\" href=\"https://shebanq.ancient-data.org/hebrew/word?version=c&id=1W\" title=\"show this lexeme in SHEBANQ\">וְ</a></div>\n",
       "<div class=\"features\"> <span class=\"pdp\"><a href=\"https://shebanq.ancient-data.org/hebrew/text?book=Samuel_I&chapter=18&verse=4&version=c&mr=m&qw=q&tp=txt_p&tr=hb&wget=v&qget=v&nget=vt\" title=\"1_Samuel 18:4\" sec=\"1_Samuel 18:4\">conj</a></span> <span class=\"gloss\">and</span></div>\n",
       "\n",
       "\n",
       "</div>\n",
       "\n",
       "<div class=\"word \" style=\"background-color: None;\">\n",
       "<div class=\"h\"><a target=\"_blank\" href=\"https://shebanq.ancient-data.org/hebrew/word?version=c&id=1OD\" title=\"show this lexeme in SHEBANQ\">עַד־</a></div>\n",
       "<div class=\"features\"> <span class=\"pdp\"><a href=\"https://shebanq.ancient-data.org/hebrew/text?book=Samuel_I&chapter=18&verse=4&version=c&mr=m&qw=q&tp=txt_p&tr=hb&wget=v&qget=v&nget=vt\" title=\"1_Samuel 18:4\" sec=\"1_Samuel 18:4\">prep</a></span> <span class=\"gloss\">unto</span></div>\n",
       "\n",
       "\n",
       "</div>\n",
       "\n",
       "<div class=\"word \" style=\"background-color: None;\">\n",
       "<div class=\"h\"><a target=\"_blank\" href=\"https://shebanq.ancient-data.org/hebrew/word?version=c&id=1QCTn\" title=\"show this lexeme in SHEBANQ\">קַשְׁתֹּ֖ו </a></div>\n",
       "<div class=\"features\"> <span class=\"pdp\"><a href=\"https://shebanq.ancient-data.org/hebrew/text?book=Samuel_I&chapter=18&verse=4&version=c&mr=m&qw=q&tp=txt_p&tr=hb&wget=v&qget=v&nget=vt\" title=\"1_Samuel 18:4\" sec=\"1_Samuel 18:4\">subs</a></span> <span class=\"gloss\">bow</span></div>\n",
       "\n",
       "\n",
       "</div>\n",
       "\n",
       "<div class=\"word \" style=\"background-color: None;\">\n",
       "<div class=\"h\"><a target=\"_blank\" href=\"https://shebanq.ancient-data.org/hebrew/word?version=c&id=1W\" title=\"show this lexeme in SHEBANQ\">וְ</a></div>\n",
       "<div class=\"features\"> <span class=\"pdp\"><a href=\"https://shebanq.ancient-data.org/hebrew/text?book=Samuel_I&chapter=18&verse=4&version=c&mr=m&qw=q&tp=txt_p&tr=hb&wget=v&qget=v&nget=vt\" title=\"1_Samuel 18:4\" sec=\"1_Samuel 18:4\">conj</a></span> <span class=\"gloss\">and</span></div>\n",
       "\n",
       "\n",
       "</div>\n",
       "\n",
       "<div class=\"word \" style=\"background-color: None;\">\n",
       "<div class=\"h\"><a target=\"_blank\" href=\"https://shebanq.ancient-data.org/hebrew/word?version=c&id=1OD\" title=\"show this lexeme in SHEBANQ\">עַד־</a></div>\n",
       "<div class=\"features\"> <span class=\"pdp\"><a href=\"https://shebanq.ancient-data.org/hebrew/text?book=Samuel_I&chapter=18&verse=4&version=c&mr=m&qw=q&tp=txt_p&tr=hb&wget=v&qget=v&nget=vt\" title=\"1_Samuel 18:4\" sec=\"1_Samuel 18:4\">prep</a></span> <span class=\"gloss\">unto</span></div>\n",
       "\n",
       "\n",
       "</div>\n",
       "\n",
       "<div class=\"word \" style=\"background-color: None;\">\n",
       "<div class=\"h\"><a target=\"_blank\" href=\"https://shebanq.ancient-data.org/hebrew/word?version=c&id=1XGWRin\" title=\"show this lexeme in SHEBANQ\">חֲגֹרֹֽו׃ </a></div>\n",
       "<div class=\"features\"> <span class=\"pdp\"><a href=\"https://shebanq.ancient-data.org/hebrew/text?book=Samuel_I&chapter=18&verse=4&version=c&mr=m&qw=q&tp=txt_p&tr=hb&wget=v&qget=v&nget=vt\" title=\"1_Samuel 18:4\" sec=\"1_Samuel 18:4\">subs</a></span> <span class=\"gloss\">girdle</span></div>\n",
       "\n",
       "\n",
       "</div>\n",
       "\n",
       "\n",
       "    </div>\n",
       "\n",
       "\n",
       "</div>\n",
       "\n",
       "\n",
       "</div>\n"
      ],
      "text/plain": [
       "<IPython.core.display.HTML object>"
      ]
     },
     "metadata": {},
     "output_type": "display_data"
    },
    {
     "data": {
      "text/markdown": [
       "\n",
       "\n",
       "**phrase** *6*\n",
       "\n"
      ],
      "text/plain": [
       "<IPython.core.display.Markdown object>"
      ]
     },
     "metadata": {},
     "output_type": "display_data"
    },
    {
     "data": {
      "text/html": [
       "<div class=\"atoms \" style=\"background-color: None;\">\n",
       "\n",
       "\n",
       "\n",
       "<div class=\"patom  l\" style=\"background-color: None;\">\n",
       "\n",
       "    <div class=\"phrase\">\n",
       "        <a href=\"https://shebanq.ancient-data.org/hebrew/text?book=Samuel_II&chapter=3&verse=29&version=c&mr=m&qw=q&tp=txt_p&tr=hb&wget=v&qget=v&nget=vt\" title=\"2_Samuel 3:29\" sec=\"2_Samuel 3:29\">phrase</a>   <span class=\"function\">Subj</span> <span class=\"typ\">NP</span>\n",
       "    </div>\n",
       "    <div class=\"atoms\">\n",
       "\n",
       "<div class=\"word  hl\">\n",
       "<div class=\"h\"><a target=\"_blank\" href=\"https://shebanq.ancient-data.org/hebrew/word?version=c&id=1ZWBv\" title=\"show this lexeme in SHEBANQ\">זָ֠ב </a></div>\n",
       "<div class=\"features\"> <span class=\"pdp\"><a href=\"https://shebanq.ancient-data.org/hebrew/text?book=Samuel_II&chapter=3&verse=29&version=c&mr=m&qw=q&tp=txt_p&tr=hb&wget=v&qget=v&nget=vt\" title=\"2_Samuel 3:29\" sec=\"2_Samuel 3:29\">subs</a></span> <span class=\"gloss\">flow</span> <span class=\"vs\">qal</span> <span class=\"vt\">ptca</span></div>\n",
       "\n",
       "\n",
       "</div>\n",
       "\n",
       "<div class=\"word \" style=\"background-color: None;\">\n",
       "<div class=\"h\"><a target=\"_blank\" href=\"https://shebanq.ancient-data.org/hebrew/word?version=c&id=1W\" title=\"show this lexeme in SHEBANQ\">וּ</a></div>\n",
       "<div class=\"features\"> <span class=\"pdp\"><a href=\"https://shebanq.ancient-data.org/hebrew/text?book=Samuel_II&chapter=3&verse=29&version=c&mr=m&qw=q&tp=txt_p&tr=hb&wget=v&qget=v&nget=vt\" title=\"2_Samuel 3:29\" sec=\"2_Samuel 3:29\">conj</a></span> <span class=\"gloss\">and</span></div>\n",
       "\n",
       "\n",
       "</div>\n",
       "\n",
       "<div class=\"word  hl\">\n",
       "<div class=\"h\"><a target=\"_blank\" href=\"https://shebanq.ancient-data.org/hebrew/word?version=c&id=1YROv\" title=\"show this lexeme in SHEBANQ\">מְצֹרָ֞ע </a></div>\n",
       "<div class=\"features\"> <span class=\"pdp\"><a href=\"https://shebanq.ancient-data.org/hebrew/text?book=Samuel_II&chapter=3&verse=29&version=c&mr=m&qw=q&tp=txt_p&tr=hb&wget=v&qget=v&nget=vt\" title=\"2_Samuel 3:29\" sec=\"2_Samuel 3:29\">subs</a></span> <span class=\"gloss\">have skin-disease</span> <span class=\"vs\">pual</span> <span class=\"vt\">ptcp</span></div>\n",
       "\n",
       "\n",
       "</div>\n",
       "\n",
       "\n",
       "    </div>\n",
       "\n",
       "\n",
       "</div>\n",
       "\n",
       "<div class=\"patom  r l\" style=\"background-color: None;\">\n",
       "\n",
       "    <div class=\"phrase\">\n",
       "        <a href=\"https://shebanq.ancient-data.org/hebrew/text?book=Samuel_II&chapter=3&verse=29&version=c&mr=m&qw=q&tp=txt_p&tr=hb&wget=v&qget=v&nget=vt\" title=\"2_Samuel 3:29\" sec=\"2_Samuel 3:29\">phrase</a>   <span class=\"function\">Subj</span> <span class=\"typ\">NP</span>\n",
       "    </div>\n",
       "    <div class=\"atoms\">\n",
       "\n",
       "<div class=\"word \" style=\"background-color: None;\">\n",
       "<div class=\"h\"><a target=\"_blank\" href=\"https://shebanq.ancient-data.org/hebrew/word?version=c&id=1W\" title=\"show this lexeme in SHEBANQ\">וַ</a></div>\n",
       "<div class=\"features\"> <span class=\"pdp\"><a href=\"https://shebanq.ancient-data.org/hebrew/text?book=Samuel_II&chapter=3&verse=29&version=c&mr=m&qw=q&tp=txt_p&tr=hb&wget=v&qget=v&nget=vt\" title=\"2_Samuel 3:29\" sec=\"2_Samuel 3:29\">conj</a></span> <span class=\"gloss\">and</span></div>\n",
       "\n",
       "\n",
       "</div>\n",
       "\n",
       "\n",
       "    </div>\n",
       "\n",
       "\n",
       "</div>\n",
       "\n",
       "<div class=\"patom  r\" style=\"background-color: None;\">\n",
       "\n",
       "    <div class=\"phrase\">\n",
       "        <a href=\"https://shebanq.ancient-data.org/hebrew/text?book=Samuel_II&chapter=3&verse=29&version=c&mr=m&qw=q&tp=txt_p&tr=hb&wget=v&qget=v&nget=vt\" title=\"2_Samuel 3:29\" sec=\"2_Samuel 3:29\">phrase</a>   <span class=\"function\">Subj</span> <span class=\"typ\">NP</span>\n",
       "    </div>\n",
       "    <div class=\"atoms\">\n",
       "\n",
       "<div class=\"word \" style=\"background-color: None;\">\n",
       "<div class=\"h\"><a target=\"_blank\" href=\"https://shebanq.ancient-data.org/hebrew/word?version=c&id=1XSRn\" title=\"show this lexeme in SHEBANQ\">חֲסַר־</a></div>\n",
       "<div class=\"features\"> <span class=\"pdp\"><a href=\"https://shebanq.ancient-data.org/hebrew/text?book=Samuel_II&chapter=3&verse=29&version=c&mr=m&qw=q&tp=txt_p&tr=hb&wget=v&qget=v&nget=vt\" title=\"2_Samuel 3:29\" sec=\"2_Samuel 3:29\">adjv</a></span> <span class=\"gloss\">lacking</span></div>\n",
       "\n",
       "\n",
       "</div>\n",
       "\n",
       "<div class=\"word  hl\">\n",
       "<div class=\"h\"><a target=\"_blank\" href=\"https://shebanq.ancient-data.org/hebrew/word?version=c&id=1LXMn\" title=\"show this lexeme in SHEBANQ\">לָֽחֶם׃ </a></div>\n",
       "<div class=\"features\"> <span class=\"pdp\"><a href=\"https://shebanq.ancient-data.org/hebrew/text?book=Samuel_II&chapter=3&verse=29&version=c&mr=m&qw=q&tp=txt_p&tr=hb&wget=v&qget=v&nget=vt\" title=\"2_Samuel 3:29\" sec=\"2_Samuel 3:29\">subs</a></span> <span class=\"gloss\">bread</span></div>\n",
       "\n",
       "\n",
       "</div>\n",
       "\n",
       "\n",
       "    </div>\n",
       "\n",
       "\n",
       "</div>\n",
       "\n",
       "\n",
       "</div>\n"
      ],
      "text/plain": [
       "<IPython.core.display.HTML object>"
      ]
     },
     "metadata": {},
     "output_type": "display_data"
    },
    {
     "data": {
      "text/markdown": [
       "\n",
       "\n",
       "**phrase** *7*\n",
       "\n"
      ],
      "text/plain": [
       "<IPython.core.display.Markdown object>"
      ]
     },
     "metadata": {},
     "output_type": "display_data"
    },
    {
     "data": {
      "text/html": [
       "<div class=\"atoms \" style=\"background-color: None;\">\n",
       "\n",
       "\n",
       "\n",
       "<div class=\"patom \" style=\"background-color: None;\">\n",
       "\n",
       "    <div class=\"phrase\">\n",
       "        <a href=\"https://shebanq.ancient-data.org/hebrew/text?book=Samuel_II&chapter=13&verse=36&version=c&mr=m&qw=q&tp=txt_p&tr=hb&wget=v&qget=v&nget=vt\" title=\"2_Samuel 13:36\" sec=\"2_Samuel 13:36\">phrase</a>   <span class=\"function\">Subj</span> <span class=\"typ\">NP</span>\n",
       "    </div>\n",
       "    <div class=\"atoms\">\n",
       "\n",
       "<div class=\"word \" style=\"background-color: None;\">\n",
       "<div class=\"h\"><a target=\"_blank\" href=\"https://shebanq.ancient-data.org/hebrew/word?version=c&id=1GM\" title=\"show this lexeme in SHEBANQ\">גַם־</a></div>\n",
       "<div class=\"features\"> <span class=\"pdp\"><a href=\"https://shebanq.ancient-data.org/hebrew/text?book=Samuel_II&chapter=13&verse=36&version=c&mr=m&qw=q&tp=txt_p&tr=hb&wget=v&qget=v&nget=vt\" title=\"2_Samuel 13:36\" sec=\"2_Samuel 13:36\">advb</a></span> <span class=\"gloss\">even</span></div>\n",
       "\n",
       "\n",
       "</div>\n",
       "\n",
       "<div class=\"word \" style=\"background-color: None;\">\n",
       "<div class=\"h\"><a target=\"_blank\" href=\"https://shebanq.ancient-data.org/hebrew/word?version=c&id=1H\" title=\"show this lexeme in SHEBANQ\">הַ</a></div>\n",
       "<div class=\"features\"> <span class=\"pdp\"><a href=\"https://shebanq.ancient-data.org/hebrew/text?book=Samuel_II&chapter=13&verse=36&version=c&mr=m&qw=q&tp=txt_p&tr=hb&wget=v&qget=v&nget=vt\" title=\"2_Samuel 13:36\" sec=\"2_Samuel 13:36\">art</a></span> <span class=\"gloss\">the</span></div>\n",
       "\n",
       "\n",
       "</div>\n",
       "\n",
       "<div class=\"word  hl\">\n",
       "<div class=\"h\"><a target=\"_blank\" href=\"https://shebanq.ancient-data.org/hebrew/word?version=c&id=1MLKn\" title=\"show this lexeme in SHEBANQ\">מֶּ֨לֶךְ֙ </a></div>\n",
       "<div class=\"features\"> <span class=\"pdp\"><a href=\"https://shebanq.ancient-data.org/hebrew/text?book=Samuel_II&chapter=13&verse=36&version=c&mr=m&qw=q&tp=txt_p&tr=hb&wget=v&qget=v&nget=vt\" title=\"2_Samuel 13:36\" sec=\"2_Samuel 13:36\">subs</a></span> <span class=\"gloss\">king</span></div>\n",
       "\n",
       "\n",
       "</div>\n",
       "\n",
       "<div class=\"word \" style=\"background-color: None;\">\n",
       "<div class=\"h\"><a target=\"_blank\" href=\"https://shebanq.ancient-data.org/hebrew/word?version=c&id=1W\" title=\"show this lexeme in SHEBANQ\">וְ</a></div>\n",
       "<div class=\"features\"> <span class=\"pdp\"><a href=\"https://shebanq.ancient-data.org/hebrew/text?book=Samuel_II&chapter=13&verse=36&version=c&mr=m&qw=q&tp=txt_p&tr=hb&wget=v&qget=v&nget=vt\" title=\"2_Samuel 13:36\" sec=\"2_Samuel 13:36\">conj</a></span> <span class=\"gloss\">and</span></div>\n",
       "\n",
       "\n",
       "</div>\n",
       "\n",
       "<div class=\"word \" style=\"background-color: None;\">\n",
       "<div class=\"h\"><a target=\"_blank\" href=\"https://shebanq.ancient-data.org/hebrew/word?version=c&id=1KLn\" title=\"show this lexeme in SHEBANQ\">כָל־</a></div>\n",
       "<div class=\"features\"> <span class=\"pdp\"><a href=\"https://shebanq.ancient-data.org/hebrew/text?book=Samuel_II&chapter=13&verse=36&version=c&mr=m&qw=q&tp=txt_p&tr=hb&wget=v&qget=v&nget=vt\" title=\"2_Samuel 13:36\" sec=\"2_Samuel 13:36\">subs</a></span> <span class=\"gloss\">whole</span></div>\n",
       "\n",
       "\n",
       "</div>\n",
       "\n",
       "<div class=\"word  hl\">\n",
       "<div class=\"h\"><a target=\"_blank\" href=\"https://shebanq.ancient-data.org/hebrew/word?version=c&id=1OBDn\" title=\"show this lexeme in SHEBANQ\">עֲבָדָ֔יו </a></div>\n",
       "<div class=\"features\"> <span class=\"pdp\"><a href=\"https://shebanq.ancient-data.org/hebrew/text?book=Samuel_II&chapter=13&verse=36&version=c&mr=m&qw=q&tp=txt_p&tr=hb&wget=v&qget=v&nget=vt\" title=\"2_Samuel 13:36\" sec=\"2_Samuel 13:36\">subs</a></span> <span class=\"gloss\">servant</span></div>\n",
       "\n",
       "\n",
       "</div>\n",
       "\n",
       "\n",
       "    </div>\n",
       "\n",
       "\n",
       "</div>\n",
       "\n",
       "\n",
       "</div>\n"
      ],
      "text/plain": [
       "<IPython.core.display.HTML object>"
      ]
     },
     "metadata": {},
     "output_type": "display_data"
    },
    {
     "data": {
      "text/markdown": [
       "\n",
       "\n",
       "**phrase** *8*\n",
       "\n"
      ],
      "text/plain": [
       "<IPython.core.display.Markdown object>"
      ]
     },
     "metadata": {},
     "output_type": "display_data"
    },
    {
     "data": {
      "text/html": [
       "<div class=\"atoms \" style=\"background-color: None;\">\n",
       "\n",
       "\n",
       "\n",
       "<div class=\"patom \" style=\"background-color: None;\">\n",
       "\n",
       "    <div class=\"phrase\">\n",
       "        <a href=\"https://shebanq.ancient-data.org/hebrew/text?book=Reges_II&chapter=6&verse=14&version=c&mr=m&qw=q&tp=txt_p&tr=hb&wget=v&qget=v&nget=vt\" title=\"2_Kings 6:14\" sec=\"2_Kings 6:14\">phrase</a>   <span class=\"function\">Objc</span> <span class=\"typ\">NP</span>\n",
       "    </div>\n",
       "    <div class=\"atoms\">\n",
       "\n",
       "<div class=\"word  hl\">\n",
       "<div class=\"h\"><a target=\"_blank\" href=\"https://shebanq.ancient-data.org/hebrew/word?version=c&id=1SWSn\" title=\"show this lexeme in SHEBANQ\">סוּסִ֥ים </a></div>\n",
       "<div class=\"features\"> <span class=\"pdp\"><a href=\"https://shebanq.ancient-data.org/hebrew/text?book=Reges_II&chapter=6&verse=14&version=c&mr=m&qw=q&tp=txt_p&tr=hb&wget=v&qget=v&nget=vt\" title=\"2_Kings 6:14\" sec=\"2_Kings 6:14\">subs</a></span> <span class=\"gloss\">horse</span></div>\n",
       "\n",
       "\n",
       "</div>\n",
       "\n",
       "<div class=\"word \" style=\"background-color: None;\">\n",
       "<div class=\"h\"><a target=\"_blank\" href=\"https://shebanq.ancient-data.org/hebrew/word?version=c&id=1W\" title=\"show this lexeme in SHEBANQ\">וְ</a></div>\n",
       "<div class=\"features\"> <span class=\"pdp\"><a href=\"https://shebanq.ancient-data.org/hebrew/text?book=Reges_II&chapter=6&verse=14&version=c&mr=m&qw=q&tp=txt_p&tr=hb&wget=v&qget=v&nget=vt\" title=\"2_Kings 6:14\" sec=\"2_Kings 6:14\">conj</a></span> <span class=\"gloss\">and</span></div>\n",
       "\n",
       "\n",
       "</div>\n",
       "\n",
       "<div class=\"word  hl\">\n",
       "<div class=\"h\"><a target=\"_blank\" href=\"https://shebanq.ancient-data.org/hebrew/word?version=c&id=1RKBn\" title=\"show this lexeme in SHEBANQ\">רֶ֖כֶב </a></div>\n",
       "<div class=\"features\"> <span class=\"pdp\"><a href=\"https://shebanq.ancient-data.org/hebrew/text?book=Reges_II&chapter=6&verse=14&version=c&mr=m&qw=q&tp=txt_p&tr=hb&wget=v&qget=v&nget=vt\" title=\"2_Kings 6:14\" sec=\"2_Kings 6:14\">subs</a></span> <span class=\"gloss\">chariot</span></div>\n",
       "\n",
       "\n",
       "</div>\n",
       "\n",
       "<div class=\"word \" style=\"background-color: None;\">\n",
       "<div class=\"h\"><a target=\"_blank\" href=\"https://shebanq.ancient-data.org/hebrew/word?version=c&id=1W\" title=\"show this lexeme in SHEBANQ\">וְ</a></div>\n",
       "<div class=\"features\"> <span class=\"pdp\"><a href=\"https://shebanq.ancient-data.org/hebrew/text?book=Reges_II&chapter=6&verse=14&version=c&mr=m&qw=q&tp=txt_p&tr=hb&wget=v&qget=v&nget=vt\" title=\"2_Kings 6:14\" sec=\"2_Kings 6:14\">conj</a></span> <span class=\"gloss\">and</span></div>\n",
       "\n",
       "\n",
       "</div>\n",
       "\n",
       "<div class=\"word  hl\">\n",
       "<div class=\"h\"><a target=\"_blank\" href=\"https://shebanq.ancient-data.org/hebrew/word?version=c&id=1XJLn\" title=\"show this lexeme in SHEBANQ\">חַ֣יִל </a></div>\n",
       "<div class=\"features\"> <span class=\"pdp\"><a href=\"https://shebanq.ancient-data.org/hebrew/text?book=Reges_II&chapter=6&verse=14&version=c&mr=m&qw=q&tp=txt_p&tr=hb&wget=v&qget=v&nget=vt\" title=\"2_Kings 6:14\" sec=\"2_Kings 6:14\">subs</a></span> <span class=\"gloss\">power</span></div>\n",
       "\n",
       "\n",
       "</div>\n",
       "\n",
       "<div class=\"word \" style=\"background-color: None;\">\n",
       "<div class=\"h\"><a target=\"_blank\" href=\"https://shebanq.ancient-data.org/hebrew/word?version=c&id=1KBDn\" title=\"show this lexeme in SHEBANQ\">כָּבֵ֑ד </a></div>\n",
       "<div class=\"features\"> <span class=\"pdp\"><a href=\"https://shebanq.ancient-data.org/hebrew/text?book=Reges_II&chapter=6&verse=14&version=c&mr=m&qw=q&tp=txt_p&tr=hb&wget=v&qget=v&nget=vt\" title=\"2_Kings 6:14\" sec=\"2_Kings 6:14\">adjv</a></span> <span class=\"gloss\">heavy</span></div>\n",
       "\n",
       "\n",
       "</div>\n",
       "\n",
       "\n",
       "    </div>\n",
       "\n",
       "\n",
       "</div>\n",
       "\n",
       "\n",
       "</div>\n"
      ],
      "text/plain": [
       "<IPython.core.display.HTML object>"
      ]
     },
     "metadata": {},
     "output_type": "display_data"
    },
    {
     "data": {
      "text/markdown": [
       "\n",
       "\n",
       "**phrase** *9*\n",
       "\n"
      ],
      "text/plain": [
       "<IPython.core.display.Markdown object>"
      ]
     },
     "metadata": {},
     "output_type": "display_data"
    },
    {
     "data": {
      "text/html": [
       "<div class=\"atoms \" style=\"background-color: None;\">\n",
       "\n",
       "\n",
       "\n",
       "<div class=\"patom \" style=\"background-color: None;\">\n",
       "\n",
       "    <div class=\"phrase\">\n",
       "        <a href=\"https://shebanq.ancient-data.org/hebrew/text?book=Reges_II&chapter=7&verse=6&version=c&mr=m&qw=q&tp=txt_p&tr=hb&wget=v&qget=v&nget=vt\" title=\"2_Kings 7:6\" sec=\"2_Kings 7:6\">phrase</a>   <span class=\"function\">Objc</span> <span class=\"typ\">NP</span>\n",
       "    </div>\n",
       "    <div class=\"atoms\">\n",
       "\n",
       "<div class=\"word  hl\">\n",
       "<div class=\"h\"><a target=\"_blank\" href=\"https://shebanq.ancient-data.org/hebrew/word?version=c&id=1QWLn\" title=\"show this lexeme in SHEBANQ\">קֹ֥ול </a></div>\n",
       "<div class=\"features\"> <span class=\"pdp\"><a href=\"https://shebanq.ancient-data.org/hebrew/text?book=Reges_II&chapter=7&verse=6&version=c&mr=m&qw=q&tp=txt_p&tr=hb&wget=v&qget=v&nget=vt\" title=\"2_Kings 7:6\" sec=\"2_Kings 7:6\">subs</a></span> <span class=\"gloss\">sound</span></div>\n",
       "\n",
       "\n",
       "</div>\n",
       "\n",
       "<div class=\"word \" style=\"background-color: None;\">\n",
       "<div class=\"h\"><a target=\"_blank\" href=\"https://shebanq.ancient-data.org/hebrew/word?version=c&id=1RKBn\" title=\"show this lexeme in SHEBANQ\">רֶ֨כֶב֙ </a></div>\n",
       "<div class=\"features\"> <span class=\"pdp\"><a href=\"https://shebanq.ancient-data.org/hebrew/text?book=Reges_II&chapter=7&verse=6&version=c&mr=m&qw=q&tp=txt_p&tr=hb&wget=v&qget=v&nget=vt\" title=\"2_Kings 7:6\" sec=\"2_Kings 7:6\">subs</a></span> <span class=\"gloss\">chariot</span></div>\n",
       "\n",
       "\n",
       "</div>\n",
       "\n",
       "<div class=\"word  hl\">\n",
       "<div class=\"h\"><a target=\"_blank\" href=\"https://shebanq.ancient-data.org/hebrew/word?version=c&id=1QWLn\" title=\"show this lexeme in SHEBANQ\">קֹ֣ול </a></div>\n",
       "<div class=\"features\"> <span class=\"pdp\"><a href=\"https://shebanq.ancient-data.org/hebrew/text?book=Reges_II&chapter=7&verse=6&version=c&mr=m&qw=q&tp=txt_p&tr=hb&wget=v&qget=v&nget=vt\" title=\"2_Kings 7:6\" sec=\"2_Kings 7:6\">subs</a></span> <span class=\"gloss\">sound</span></div>\n",
       "\n",
       "\n",
       "</div>\n",
       "\n",
       "<div class=\"word \" style=\"background-color: None;\">\n",
       "<div class=\"h\"><a target=\"_blank\" href=\"https://shebanq.ancient-data.org/hebrew/word?version=c&id=1SWSn\" title=\"show this lexeme in SHEBANQ\">ס֔וּס </a></div>\n",
       "<div class=\"features\"> <span class=\"pdp\"><a href=\"https://shebanq.ancient-data.org/hebrew/text?book=Reges_II&chapter=7&verse=6&version=c&mr=m&qw=q&tp=txt_p&tr=hb&wget=v&qget=v&nget=vt\" title=\"2_Kings 7:6\" sec=\"2_Kings 7:6\">subs</a></span> <span class=\"gloss\">horse</span></div>\n",
       "\n",
       "\n",
       "</div>\n",
       "\n",
       "<div class=\"word  hl\">\n",
       "<div class=\"h\"><a target=\"_blank\" href=\"https://shebanq.ancient-data.org/hebrew/word?version=c&id=1QWLn\" title=\"show this lexeme in SHEBANQ\">קֹ֖ול </a></div>\n",
       "<div class=\"features\"> <span class=\"pdp\"><a href=\"https://shebanq.ancient-data.org/hebrew/text?book=Reges_II&chapter=7&verse=6&version=c&mr=m&qw=q&tp=txt_p&tr=hb&wget=v&qget=v&nget=vt\" title=\"2_Kings 7:6\" sec=\"2_Kings 7:6\">subs</a></span> <span class=\"gloss\">sound</span></div>\n",
       "\n",
       "\n",
       "</div>\n",
       "\n",
       "<div class=\"word \" style=\"background-color: None;\">\n",
       "<div class=\"h\"><a target=\"_blank\" href=\"https://shebanq.ancient-data.org/hebrew/word?version=c&id=1XJLn\" title=\"show this lexeme in SHEBANQ\">חַ֣יִל </a></div>\n",
       "<div class=\"features\"> <span class=\"pdp\"><a href=\"https://shebanq.ancient-data.org/hebrew/text?book=Reges_II&chapter=7&verse=6&version=c&mr=m&qw=q&tp=txt_p&tr=hb&wget=v&qget=v&nget=vt\" title=\"2_Kings 7:6\" sec=\"2_Kings 7:6\">subs</a></span> <span class=\"gloss\">power</span></div>\n",
       "\n",
       "\n",
       "</div>\n",
       "\n",
       "<div class=\"word \" style=\"background-color: None;\">\n",
       "<div class=\"h\"><a target=\"_blank\" href=\"https://shebanq.ancient-data.org/hebrew/word?version=c&id=1GDWLn\" title=\"show this lexeme in SHEBANQ\">גָּדֹ֑ול </a></div>\n",
       "<div class=\"features\"> <span class=\"pdp\"><a href=\"https://shebanq.ancient-data.org/hebrew/text?book=Reges_II&chapter=7&verse=6&version=c&mr=m&qw=q&tp=txt_p&tr=hb&wget=v&qget=v&nget=vt\" title=\"2_Kings 7:6\" sec=\"2_Kings 7:6\">adjv</a></span> <span class=\"gloss\">great</span></div>\n",
       "\n",
       "\n",
       "</div>\n",
       "\n",
       "\n",
       "    </div>\n",
       "\n",
       "\n",
       "</div>\n",
       "\n",
       "\n",
       "</div>\n"
      ],
      "text/plain": [
       "<IPython.core.display.HTML object>"
      ]
     },
     "metadata": {},
     "output_type": "display_data"
    },
    {
     "data": {
      "text/markdown": [
       "\n",
       "\n",
       "**phrase** *10*\n",
       "\n"
      ],
      "text/plain": [
       "<IPython.core.display.Markdown object>"
      ]
     },
     "metadata": {},
     "output_type": "display_data"
    },
    {
     "data": {
      "text/html": [
       "<div class=\"atoms \" style=\"background-color: None;\">\n",
       "\n",
       "\n",
       "\n",
       "<div class=\"patom \" style=\"background-color: None;\">\n",
       "\n",
       "    <div class=\"phrase\">\n",
       "        <a href=\"https://shebanq.ancient-data.org/hebrew/text?book=Jeremia&chapter=41&verse=1&version=c&mr=m&qw=q&tp=txt_p&tr=hb&wget=v&qget=v&nget=vt\" title=\"Jeremiah 41:1\" sec=\"Jeremiah 41:1\">phrase</a>   <span class=\"function\">Subj</span> <span class=\"typ\">NP</span>\n",
       "    </div>\n",
       "    <div class=\"atoms\">\n",
       "\n",
       "<div class=\"word  hl\">\n",
       "<div class=\"h\"><a target=\"_blank\" href=\"https://shebanq.ancient-data.org/hebrew/word?version=c&id=1RBiin\" title=\"show this lexeme in SHEBANQ\">רַבֵּ֨י </a></div>\n",
       "<div class=\"features\"> <span class=\"pdp\"><a href=\"https://shebanq.ancient-data.org/hebrew/text?book=Jeremia&chapter=41&verse=1&version=c&mr=m&qw=q&tp=txt_p&tr=hb&wget=v&qget=v&nget=vt\" title=\"Jeremiah 41:1\" sec=\"Jeremiah 41:1\">subs</a></span> <span class=\"gloss\">chief</span></div>\n",
       "\n",
       "\n",
       "</div>\n",
       "\n",
       "<div class=\"word \" style=\"background-color: None;\">\n",
       "<div class=\"h\"><a target=\"_blank\" href=\"https://shebanq.ancient-data.org/hebrew/word?version=c&id=1H\" title=\"show this lexeme in SHEBANQ\">הַ</a></div>\n",
       "<div class=\"features\"> <span class=\"pdp\"><a href=\"https://shebanq.ancient-data.org/hebrew/text?book=Jeremia&chapter=41&verse=1&version=c&mr=m&qw=q&tp=txt_p&tr=hb&wget=v&qget=v&nget=vt\" title=\"Jeremiah 41:1\" sec=\"Jeremiah 41:1\">art</a></span> <span class=\"gloss\">the</span></div>\n",
       "\n",
       "\n",
       "</div>\n",
       "\n",
       "<div class=\"word \" style=\"background-color: None;\">\n",
       "<div class=\"h\"><a target=\"_blank\" href=\"https://shebanq.ancient-data.org/hebrew/word?version=c&id=1MLKn\" title=\"show this lexeme in SHEBANQ\">מֶּ֜לֶךְ </a></div>\n",
       "<div class=\"features\"> <span class=\"pdp\"><a href=\"https://shebanq.ancient-data.org/hebrew/text?book=Jeremia&chapter=41&verse=1&version=c&mr=m&qw=q&tp=txt_p&tr=hb&wget=v&qget=v&nget=vt\" title=\"Jeremiah 41:1\" sec=\"Jeremiah 41:1\">subs</a></span> <span class=\"gloss\">king</span></div>\n",
       "\n",
       "\n",
       "</div>\n",
       "\n",
       "<div class=\"word \" style=\"background-color: None;\">\n",
       "<div class=\"h\"><a target=\"_blank\" href=\"https://shebanq.ancient-data.org/hebrew/word?version=c&id=1W\" title=\"show this lexeme in SHEBANQ\">וַ</a></div>\n",
       "<div class=\"features\"> <span class=\"pdp\"><a href=\"https://shebanq.ancient-data.org/hebrew/text?book=Jeremia&chapter=41&verse=1&version=c&mr=m&qw=q&tp=txt_p&tr=hb&wget=v&qget=v&nget=vt\" title=\"Jeremiah 41:1\" sec=\"Jeremiah 41:1\">conj</a></span> <span class=\"gloss\">and</span></div>\n",
       "\n",
       "\n",
       "</div>\n",
       "\n",
       "<div class=\"word \" style=\"background-color: None;\">\n",
       "<div class=\"h\"><a target=\"_blank\" href=\"https://shebanq.ancient-data.org/hebrew/word?version=c&id=1OFRHin\" title=\"show this lexeme in SHEBANQ\">עֲשָׂרָ֨ה </a></div>\n",
       "<div class=\"features\"> <span class=\"pdp\"><a href=\"https://shebanq.ancient-data.org/hebrew/text?book=Jeremia&chapter=41&verse=1&version=c&mr=m&qw=q&tp=txt_p&tr=hb&wget=v&qget=v&nget=vt\" title=\"Jeremiah 41:1\" sec=\"Jeremiah 41:1\">subs</a></span> <span class=\"gloss\">ten</span></div>\n",
       "\n",
       "\n",
       "</div>\n",
       "\n",
       "<div class=\"word  hl\">\n",
       "<div class=\"h\"><a target=\"_blank\" href=\"https://shebanq.ancient-data.org/hebrew/word?version=c&id=1AJCn\" title=\"show this lexeme in SHEBANQ\">אֲנָשִׁ֥ים </a></div>\n",
       "<div class=\"features\"> <span class=\"pdp\"><a href=\"https://shebanq.ancient-data.org/hebrew/text?book=Jeremia&chapter=41&verse=1&version=c&mr=m&qw=q&tp=txt_p&tr=hb&wget=v&qget=v&nget=vt\" title=\"Jeremiah 41:1\" sec=\"Jeremiah 41:1\">subs</a></span> <span class=\"gloss\">man</span></div>\n",
       "\n",
       "\n",
       "</div>\n",
       "\n",
       "\n",
       "    </div>\n",
       "\n",
       "\n",
       "</div>\n",
       "\n",
       "\n",
       "</div>\n"
      ],
      "text/plain": [
       "<IPython.core.display.HTML object>"
      ]
     },
     "metadata": {},
     "output_type": "display_data"
    },
    {
     "data": {
      "text/markdown": [
       "\n",
       "\n",
       "**phrase** *11*\n",
       "\n"
      ],
      "text/plain": [
       "<IPython.core.display.Markdown object>"
      ]
     },
     "metadata": {},
     "output_type": "display_data"
    },
    {
     "data": {
      "text/html": [
       "<div class=\"atoms \" style=\"background-color: None;\">\n",
       "\n",
       "\n",
       "\n",
       "<div class=\"patom  l\" style=\"background-color: None;\">\n",
       "\n",
       "    <div class=\"phrase\">\n",
       "        <a href=\"https://shebanq.ancient-data.org/hebrew/text?book=Ezechiel&chapter=38&verse=20&version=c&mr=m&qw=q&tp=txt_p&tr=hb&wget=v&qget=v&nget=vt\" title=\"Ezekiel 38:20\" sec=\"Ezekiel 38:20\">phrase</a>   <span class=\"function\">Subj</span> <span class=\"typ\">NP</span>\n",
       "    </div>\n",
       "    <div class=\"atoms\">\n",
       "\n",
       "<div class=\"word  hl\">\n",
       "<div class=\"h\"><a target=\"_blank\" href=\"https://shebanq.ancient-data.org/hebrew/word?version=c&id=1DGn\" title=\"show this lexeme in SHEBANQ\">דְּגֵ֣י </a></div>\n",
       "<div class=\"features\"> <span class=\"pdp\"><a href=\"https://shebanq.ancient-data.org/hebrew/text?book=Ezechiel&chapter=38&verse=20&version=c&mr=m&qw=q&tp=txt_p&tr=hb&wget=v&qget=v&nget=vt\" title=\"Ezekiel 38:20\" sec=\"Ezekiel 38:20\">subs</a></span> <span class=\"gloss\">fish</span></div>\n",
       "\n",
       "\n",
       "</div>\n",
       "\n",
       "<div class=\"word \" style=\"background-color: None;\">\n",
       "<div class=\"h\"><a target=\"_blank\" href=\"https://shebanq.ancient-data.org/hebrew/word?version=c&id=1H\" title=\"show this lexeme in SHEBANQ\">הַ</a></div>\n",
       "<div class=\"features\"> <span class=\"pdp\"><a href=\"https://shebanq.ancient-data.org/hebrew/text?book=Ezechiel&chapter=38&verse=20&version=c&mr=m&qw=q&tp=txt_p&tr=hb&wget=v&qget=v&nget=vt\" title=\"Ezekiel 38:20\" sec=\"Ezekiel 38:20\">art</a></span> <span class=\"gloss\">the</span></div>\n",
       "\n",
       "\n",
       "</div>\n",
       "\n",
       "<div class=\"word \" style=\"background-color: None;\">\n",
       "<div class=\"h\"><a target=\"_blank\" href=\"https://shebanq.ancient-data.org/hebrew/word?version=c&id=1JMn\" title=\"show this lexeme in SHEBANQ\">יָּם֩ </a></div>\n",
       "<div class=\"features\"> <span class=\"pdp\"><a href=\"https://shebanq.ancient-data.org/hebrew/text?book=Ezechiel&chapter=38&verse=20&version=c&mr=m&qw=q&tp=txt_p&tr=hb&wget=v&qget=v&nget=vt\" title=\"Ezekiel 38:20\" sec=\"Ezekiel 38:20\">subs</a></span> <span class=\"gloss\">sea</span></div>\n",
       "\n",
       "\n",
       "</div>\n",
       "\n",
       "<div class=\"word \" style=\"background-color: None;\">\n",
       "<div class=\"h\"><a target=\"_blank\" href=\"https://shebanq.ancient-data.org/hebrew/word?version=c&id=1W\" title=\"show this lexeme in SHEBANQ\">וְ</a></div>\n",
       "<div class=\"features\"> <span class=\"pdp\"><a href=\"https://shebanq.ancient-data.org/hebrew/text?book=Ezechiel&chapter=38&verse=20&version=c&mr=m&qw=q&tp=txt_p&tr=hb&wget=v&qget=v&nget=vt\" title=\"Ezekiel 38:20\" sec=\"Ezekiel 38:20\">conj</a></span> <span class=\"gloss\">and</span></div>\n",
       "\n",
       "\n",
       "</div>\n",
       "\n",
       "<div class=\"word  hl\">\n",
       "<div class=\"h\"><a target=\"_blank\" href=\"https://shebanq.ancient-data.org/hebrew/word?version=c&id=1OWPn\" title=\"show this lexeme in SHEBANQ\">עֹ֨וף </a></div>\n",
       "<div class=\"features\"> <span class=\"pdp\"><a href=\"https://shebanq.ancient-data.org/hebrew/text?book=Ezechiel&chapter=38&verse=20&version=c&mr=m&qw=q&tp=txt_p&tr=hb&wget=v&qget=v&nget=vt\" title=\"Ezekiel 38:20\" sec=\"Ezekiel 38:20\">subs</a></span> <span class=\"gloss\">birds</span></div>\n",
       "\n",
       "\n",
       "</div>\n",
       "\n",
       "<div class=\"word \" style=\"background-color: None;\">\n",
       "<div class=\"h\"><a target=\"_blank\" href=\"https://shebanq.ancient-data.org/hebrew/word?version=c&id=1H\" title=\"show this lexeme in SHEBANQ\">הַ</a></div>\n",
       "<div class=\"features\"> <span class=\"pdp\"><a href=\"https://shebanq.ancient-data.org/hebrew/text?book=Ezechiel&chapter=38&verse=20&version=c&mr=m&qw=q&tp=txt_p&tr=hb&wget=v&qget=v&nget=vt\" title=\"Ezekiel 38:20\" sec=\"Ezekiel 38:20\">art</a></span> <span class=\"gloss\">the</span></div>\n",
       "\n",
       "\n",
       "</div>\n",
       "\n",
       "<div class=\"word \" style=\"background-color: None;\">\n",
       "<div class=\"h\"><a target=\"_blank\" href=\"https://shebanq.ancient-data.org/hebrew/word?version=c&id=1CMJMn\" title=\"show this lexeme in SHEBANQ\">שָּׁמַ֜יִם </a></div>\n",
       "<div class=\"features\"> <span class=\"pdp\"><a href=\"https://shebanq.ancient-data.org/hebrew/text?book=Ezechiel&chapter=38&verse=20&version=c&mr=m&qw=q&tp=txt_p&tr=hb&wget=v&qget=v&nget=vt\" title=\"Ezekiel 38:20\" sec=\"Ezekiel 38:20\">subs</a></span> <span class=\"gloss\">heavens</span></div>\n",
       "\n",
       "\n",
       "</div>\n",
       "\n",
       "<div class=\"word \" style=\"background-color: None;\">\n",
       "<div class=\"h\"><a target=\"_blank\" href=\"https://shebanq.ancient-data.org/hebrew/word?version=c&id=1W\" title=\"show this lexeme in SHEBANQ\">וְ</a></div>\n",
       "<div class=\"features\"> <span class=\"pdp\"><a href=\"https://shebanq.ancient-data.org/hebrew/text?book=Ezechiel&chapter=38&verse=20&version=c&mr=m&qw=q&tp=txt_p&tr=hb&wget=v&qget=v&nget=vt\" title=\"Ezekiel 38:20\" sec=\"Ezekiel 38:20\">conj</a></span> <span class=\"gloss\">and</span></div>\n",
       "\n",
       "\n",
       "</div>\n",
       "\n",
       "<div class=\"word  hl\">\n",
       "<div class=\"h\"><a target=\"_blank\" href=\"https://shebanq.ancient-data.org/hebrew/word?version=c&id=1XJHn\" title=\"show this lexeme in SHEBANQ\">חַיַּ֣ת </a></div>\n",
       "<div class=\"features\"> <span class=\"pdp\"><a href=\"https://shebanq.ancient-data.org/hebrew/text?book=Ezechiel&chapter=38&verse=20&version=c&mr=m&qw=q&tp=txt_p&tr=hb&wget=v&qget=v&nget=vt\" title=\"Ezekiel 38:20\" sec=\"Ezekiel 38:20\">subs</a></span> <span class=\"gloss\">wild animal</span></div>\n",
       "\n",
       "\n",
       "</div>\n",
       "\n",
       "<div class=\"word \" style=\"background-color: None;\">\n",
       "<div class=\"h\"><a target=\"_blank\" href=\"https://shebanq.ancient-data.org/hebrew/word?version=c&id=1H\" title=\"show this lexeme in SHEBANQ\">הַ</a></div>\n",
       "<div class=\"features\"> <span class=\"pdp\"><a href=\"https://shebanq.ancient-data.org/hebrew/text?book=Ezechiel&chapter=38&verse=20&version=c&mr=m&qw=q&tp=txt_p&tr=hb&wget=v&qget=v&nget=vt\" title=\"Ezekiel 38:20\" sec=\"Ezekiel 38:20\">art</a></span> <span class=\"gloss\">the</span></div>\n",
       "\n",
       "\n",
       "</div>\n",
       "\n",
       "<div class=\"word \" style=\"background-color: None;\">\n",
       "<div class=\"h\"><a target=\"_blank\" href=\"https://shebanq.ancient-data.org/hebrew/word?version=c&id=1FDHn\" title=\"show this lexeme in SHEBANQ\">שָּׂדֶ֗ה </a></div>\n",
       "<div class=\"features\"> <span class=\"pdp\"><a href=\"https://shebanq.ancient-data.org/hebrew/text?book=Ezechiel&chapter=38&verse=20&version=c&mr=m&qw=q&tp=txt_p&tr=hb&wget=v&qget=v&nget=vt\" title=\"Ezekiel 38:20\" sec=\"Ezekiel 38:20\">subs</a></span> <span class=\"gloss\">open field</span></div>\n",
       "\n",
       "\n",
       "</div>\n",
       "\n",
       "<div class=\"word \" style=\"background-color: None;\">\n",
       "<div class=\"h\"><a target=\"_blank\" href=\"https://shebanq.ancient-data.org/hebrew/word?version=c&id=1W\" title=\"show this lexeme in SHEBANQ\">וְ</a></div>\n",
       "<div class=\"features\"> <span class=\"pdp\"><a href=\"https://shebanq.ancient-data.org/hebrew/text?book=Ezechiel&chapter=38&verse=20&version=c&mr=m&qw=q&tp=txt_p&tr=hb&wget=v&qget=v&nget=vt\" title=\"Ezekiel 38:20\" sec=\"Ezekiel 38:20\">conj</a></span> <span class=\"gloss\">and</span></div>\n",
       "\n",
       "\n",
       "</div>\n",
       "\n",
       "<div class=\"word \" style=\"background-color: None;\">\n",
       "<div class=\"h\"><a target=\"_blank\" href=\"https://shebanq.ancient-data.org/hebrew/word?version=c&id=1KLn\" title=\"show this lexeme in SHEBANQ\">כָל־</a></div>\n",
       "<div class=\"features\"> <span class=\"pdp\"><a href=\"https://shebanq.ancient-data.org/hebrew/text?book=Ezechiel&chapter=38&verse=20&version=c&mr=m&qw=q&tp=txt_p&tr=hb&wget=v&qget=v&nget=vt\" title=\"Ezekiel 38:20\" sec=\"Ezekiel 38:20\">subs</a></span> <span class=\"gloss\">whole</span></div>\n",
       "\n",
       "\n",
       "</div>\n",
       "\n",
       "<div class=\"word \" style=\"background-color: None;\">\n",
       "<div class=\"h\"><a target=\"_blank\" href=\"https://shebanq.ancient-data.org/hebrew/word?version=c&id=1H\" title=\"show this lexeme in SHEBANQ\">הָ</a></div>\n",
       "<div class=\"features\"> <span class=\"pdp\"><a href=\"https://shebanq.ancient-data.org/hebrew/text?book=Ezechiel&chapter=38&verse=20&version=c&mr=m&qw=q&tp=txt_p&tr=hb&wget=v&qget=v&nget=vt\" title=\"Ezekiel 38:20\" sec=\"Ezekiel 38:20\">art</a></span> <span class=\"gloss\">the</span></div>\n",
       "\n",
       "\n",
       "</div>\n",
       "\n",
       "<div class=\"word  hl\">\n",
       "<div class=\"h\"><a target=\"_blank\" href=\"https://shebanq.ancient-data.org/hebrew/word?version=c&id=1RMFn\" title=\"show this lexeme in SHEBANQ\">רֶ֨מֶשׂ֙ </a></div>\n",
       "<div class=\"features\"> <span class=\"pdp\"><a href=\"https://shebanq.ancient-data.org/hebrew/text?book=Ezechiel&chapter=38&verse=20&version=c&mr=m&qw=q&tp=txt_p&tr=hb&wget=v&qget=v&nget=vt\" title=\"Ezekiel 38:20\" sec=\"Ezekiel 38:20\">subs</a></span> <span class=\"gloss\">creeping animals</span></div>\n",
       "\n",
       "\n",
       "</div>\n",
       "\n",
       "\n",
       "    </div>\n",
       "\n",
       "\n",
       "</div>\n",
       "\n",
       "<div class=\"patom  r l\" style=\"background-color: None;\">\n",
       "\n",
       "    <div class=\"phrase\">\n",
       "        <a href=\"https://shebanq.ancient-data.org/hebrew/text?book=Ezechiel&chapter=38&verse=20&version=c&mr=m&qw=q&tp=txt_p&tr=hb&wget=v&qget=v&nget=vt\" title=\"Ezekiel 38:20\" sec=\"Ezekiel 38:20\">phrase</a>   <span class=\"function\">Subj</span> <span class=\"typ\">NP</span>\n",
       "    </div>\n",
       "    <div class=\"atoms\">\n",
       "\n",
       "<div class=\"word \" style=\"background-color: None;\">\n",
       "<div class=\"h\"><a target=\"_blank\" href=\"https://shebanq.ancient-data.org/hebrew/word?version=c&id=1W\" title=\"show this lexeme in SHEBANQ\">וְ</a></div>\n",
       "<div class=\"features\"> <span class=\"pdp\"><a href=\"https://shebanq.ancient-data.org/hebrew/text?book=Ezechiel&chapter=38&verse=20&version=c&mr=m&qw=q&tp=txt_p&tr=hb&wget=v&qget=v&nget=vt\" title=\"Ezekiel 38:20\" sec=\"Ezekiel 38:20\">conj</a></span> <span class=\"gloss\">and</span></div>\n",
       "\n",
       "\n",
       "</div>\n",
       "\n",
       "\n",
       "    </div>\n",
       "\n",
       "\n",
       "</div>\n",
       "\n",
       "<div class=\"patom  r\" style=\"background-color: None;\">\n",
       "\n",
       "    <div class=\"phrase\">\n",
       "        <a href=\"https://shebanq.ancient-data.org/hebrew/text?book=Ezechiel&chapter=38&verse=20&version=c&mr=m&qw=q&tp=txt_p&tr=hb&wget=v&qget=v&nget=vt\" title=\"Ezekiel 38:20\" sec=\"Ezekiel 38:20\">phrase</a>   <span class=\"function\">Subj</span> <span class=\"typ\">NP</span>\n",
       "    </div>\n",
       "    <div class=\"atoms\">\n",
       "\n",
       "<div class=\"word \" style=\"background-color: None;\">\n",
       "<div class=\"h\"><a target=\"_blank\" href=\"https://shebanq.ancient-data.org/hebrew/word?version=c&id=1KLn\" title=\"show this lexeme in SHEBANQ\">כֹל֙ </a></div>\n",
       "<div class=\"features\"> <span class=\"pdp\"><a href=\"https://shebanq.ancient-data.org/hebrew/text?book=Ezechiel&chapter=38&verse=20&version=c&mr=m&qw=q&tp=txt_p&tr=hb&wget=v&qget=v&nget=vt\" title=\"Ezekiel 38:20\" sec=\"Ezekiel 38:20\">subs</a></span> <span class=\"gloss\">whole</span></div>\n",
       "\n",
       "\n",
       "</div>\n",
       "\n",
       "<div class=\"word \" style=\"background-color: None;\">\n",
       "<div class=\"h\"><a target=\"_blank\" href=\"https://shebanq.ancient-data.org/hebrew/word?version=c&id=1H\" title=\"show this lexeme in SHEBANQ\">הָֽ</a></div>\n",
       "<div class=\"features\"> <span class=\"pdp\"><a href=\"https://shebanq.ancient-data.org/hebrew/text?book=Ezechiel&chapter=38&verse=20&version=c&mr=m&qw=q&tp=txt_p&tr=hb&wget=v&qget=v&nget=vt\" title=\"Ezekiel 38:20\" sec=\"Ezekiel 38:20\">art</a></span> <span class=\"gloss\">the</span></div>\n",
       "\n",
       "\n",
       "</div>\n",
       "\n",
       "<div class=\"word  hl\">\n",
       "<div class=\"h\"><a target=\"_blank\" href=\"https://shebanq.ancient-data.org/hebrew/word?version=c&id=1ADMn\" title=\"show this lexeme in SHEBANQ\">אָדָ֔ם </a></div>\n",
       "<div class=\"features\"> <span class=\"pdp\"><a href=\"https://shebanq.ancient-data.org/hebrew/text?book=Ezechiel&chapter=38&verse=20&version=c&mr=m&qw=q&tp=txt_p&tr=hb&wget=v&qget=v&nget=vt\" title=\"Ezekiel 38:20\" sec=\"Ezekiel 38:20\">subs</a></span> <span class=\"gloss\">human, mankind</span></div>\n",
       "\n",
       "\n",
       "</div>\n",
       "\n",
       "\n",
       "    </div>\n",
       "\n",
       "\n",
       "</div>\n",
       "\n",
       "\n",
       "</div>\n"
      ],
      "text/plain": [
       "<IPython.core.display.HTML object>"
      ]
     },
     "metadata": {},
     "output_type": "display_data"
    },
    {
     "data": {
      "text/markdown": [
       "\n",
       "\n",
       "**phrase** *12*\n",
       "\n"
      ],
      "text/plain": [
       "<IPython.core.display.Markdown object>"
      ]
     },
     "metadata": {},
     "output_type": "display_data"
    },
    {
     "data": {
      "text/html": [
       "<div class=\"atoms \" style=\"background-color: None;\">\n",
       "\n",
       "\n",
       "\n",
       "<div class=\"patom \" style=\"background-color: None;\">\n",
       "\n",
       "    <div class=\"phrase\">\n",
       "        <a href=\"https://shebanq.ancient-data.org/hebrew/text?book=Haggai&chapter=2&verse=9&version=c&mr=m&qw=q&tp=txt_p&tr=hb&wget=v&qget=v&nget=vt\" title=\"Haggai 2:9\" sec=\"Haggai 2:9\">phrase</a>   <span class=\"function\">Subj</span> <span class=\"typ\">NP</span>\n",
       "    </div>\n",
       "    <div class=\"atoms\">\n",
       "\n",
       "<div class=\"word  hl\">\n",
       "<div class=\"h\"><a target=\"_blank\" href=\"https://shebanq.ancient-data.org/hebrew/word?version=c&id=1KBWDn\" title=\"show this lexeme in SHEBANQ\">כְּבֹוד֩ </a></div>\n",
       "<div class=\"features\"> <span class=\"pdp\"><a href=\"https://shebanq.ancient-data.org/hebrew/text?book=Haggai&chapter=2&verse=9&version=c&mr=m&qw=q&tp=txt_p&tr=hb&wget=v&qget=v&nget=vt\" title=\"Haggai 2:9\" sec=\"Haggai 2:9\">subs</a></span> <span class=\"gloss\">weight</span></div>\n",
       "\n",
       "\n",
       "</div>\n",
       "\n",
       "<div class=\"word \" style=\"background-color: None;\">\n",
       "<div class=\"h\"><a target=\"_blank\" href=\"https://shebanq.ancient-data.org/hebrew/word?version=c&id=1H\" title=\"show this lexeme in SHEBANQ\">הַ</a></div>\n",
       "<div class=\"features\"> <span class=\"pdp\"><a href=\"https://shebanq.ancient-data.org/hebrew/text?book=Haggai&chapter=2&verse=9&version=c&mr=m&qw=q&tp=txt_p&tr=hb&wget=v&qget=v&nget=vt\" title=\"Haggai 2:9\" sec=\"Haggai 2:9\">art</a></span> <span class=\"gloss\">the</span></div>\n",
       "\n",
       "\n",
       "</div>\n",
       "\n",
       "<div class=\"word \" style=\"background-color: None;\">\n",
       "<div class=\"h\"><a target=\"_blank\" href=\"https://shebanq.ancient-data.org/hebrew/word?version=c&id=1BJTn\" title=\"show this lexeme in SHEBANQ\">בַּ֨יִת </a></div>\n",
       "<div class=\"features\"> <span class=\"pdp\"><a href=\"https://shebanq.ancient-data.org/hebrew/text?book=Haggai&chapter=2&verse=9&version=c&mr=m&qw=q&tp=txt_p&tr=hb&wget=v&qget=v&nget=vt\" title=\"Haggai 2:9\" sec=\"Haggai 2:9\">subs</a></span> <span class=\"gloss\">house</span></div>\n",
       "\n",
       "\n",
       "</div>\n",
       "\n",
       "<div class=\"word \" style=\"background-color: None;\">\n",
       "<div class=\"h\"><a target=\"_blank\" href=\"https://shebanq.ancient-data.org/hebrew/word?version=c&id=1H\" title=\"show this lexeme in SHEBANQ\">הַ</a></div>\n",
       "<div class=\"features\"> <span class=\"pdp\"><a href=\"https://shebanq.ancient-data.org/hebrew/text?book=Haggai&chapter=2&verse=9&version=c&mr=m&qw=q&tp=txt_p&tr=hb&wget=v&qget=v&nget=vt\" title=\"Haggai 2:9\" sec=\"Haggai 2:9\">art</a></span> <span class=\"gloss\">the</span></div>\n",
       "\n",
       "\n",
       "</div>\n",
       "\n",
       "<div class=\"word \" style=\"background-color: None;\">\n",
       "<div class=\"h\"><a target=\"_blank\" href=\"https://shebanq.ancient-data.org/hebrew/word?version=c&id=1ZH\" title=\"show this lexeme in SHEBANQ\">זֶּ֤ה </a></div>\n",
       "<div class=\"features\"> <span class=\"pdp\"><a href=\"https://shebanq.ancient-data.org/hebrew/text?book=Haggai&chapter=2&verse=9&version=c&mr=m&qw=q&tp=txt_p&tr=hb&wget=v&qget=v&nget=vt\" title=\"Haggai 2:9\" sec=\"Haggai 2:9\">prde</a></span> <span class=\"gloss\">this</span></div>\n",
       "\n",
       "\n",
       "</div>\n",
       "\n",
       "<div class=\"word \" style=\"background-color: None;\">\n",
       "<div class=\"h\"><a target=\"_blank\" href=\"https://shebanq.ancient-data.org/hebrew/word?version=c&id=1H\" title=\"show this lexeme in SHEBANQ\">הָ</a></div>\n",
       "<div class=\"features\"> <span class=\"pdp\"><a href=\"https://shebanq.ancient-data.org/hebrew/text?book=Haggai&chapter=2&verse=9&version=c&mr=m&qw=q&tp=txt_p&tr=hb&wget=v&qget=v&nget=vt\" title=\"Haggai 2:9\" sec=\"Haggai 2:9\">art</a></span> <span class=\"gloss\">the</span></div>\n",
       "\n",
       "\n",
       "</div>\n",
       "\n",
       "<div class=\"word \" style=\"background-color: None;\">\n",
       "<div class=\"h\"><a target=\"_blank\" href=\"https://shebanq.ancient-data.org/hebrew/word?version=c&id=1AXRWNn\" title=\"show this lexeme in SHEBANQ\">אַֽחֲרֹון֙ </a></div>\n",
       "<div class=\"features\"> <span class=\"pdp\"><a href=\"https://shebanq.ancient-data.org/hebrew/text?book=Haggai&chapter=2&verse=9&version=c&mr=m&qw=q&tp=txt_p&tr=hb&wget=v&qget=v&nget=vt\" title=\"Haggai 2:9\" sec=\"Haggai 2:9\">adjv</a></span> <span class=\"gloss\">at the back</span></div>\n",
       "\n",
       "\n",
       "</div>\n",
       "\n",
       "\n",
       "    </div>\n",
       "\n",
       "\n",
       "</div>\n",
       "\n",
       "\n",
       "</div>\n"
      ],
      "text/plain": [
       "<IPython.core.display.HTML object>"
      ]
     },
     "metadata": {},
     "output_type": "display_data"
    },
    {
     "data": {
      "text/markdown": [
       "\n",
       "\n",
       "**phrase** *13*\n",
       "\n"
      ],
      "text/plain": [
       "<IPython.core.display.Markdown object>"
      ]
     },
     "metadata": {},
     "output_type": "display_data"
    },
    {
     "data": {
      "text/html": [
       "<div class=\"atoms \" style=\"background-color: None;\">\n",
       "\n",
       "\n",
       "\n",
       "<div class=\"patom  l\" style=\"background-color: None;\">\n",
       "\n",
       "    <div class=\"phrase\">\n",
       "        <a href=\"https://shebanq.ancient-data.org/hebrew/text?book=Sacharia&chapter=7&verse=7&version=c&mr=m&qw=q&tp=txt_p&tr=hb&wget=v&qget=v&nget=vt\" title=\"Zechariah 7:7\" sec=\"Zechariah 7:7\">phrase</a>   <span class=\"function\">Subj</span> <span class=\"typ\">NP</span>\n",
       "    </div>\n",
       "    <div class=\"atoms\">\n",
       "\n",
       "<div class=\"word  hl\">\n",
       "<div class=\"h\"><a target=\"_blank\" href=\"https://shebanq.ancient-data.org/hebrew/word?version=c&id=1OJRn\" title=\"show this lexeme in SHEBANQ\">עָרֶ֖יהָ </a></div>\n",
       "<div class=\"features\"> <span class=\"pdp\"><a href=\"https://shebanq.ancient-data.org/hebrew/text?book=Sacharia&chapter=7&verse=7&version=c&mr=m&qw=q&tp=txt_p&tr=hb&wget=v&qget=v&nget=vt\" title=\"Zechariah 7:7\" sec=\"Zechariah 7:7\">subs</a></span> <span class=\"gloss\">town</span></div>\n",
       "\n",
       "\n",
       "</div>\n",
       "\n",
       "\n",
       "    </div>\n",
       "\n",
       "\n",
       "</div>\n",
       "\n",
       "<div class=\"patom  r l\" style=\"background-color: None;\">\n",
       "\n",
       "    <div class=\"phrase\">\n",
       "        <a href=\"https://shebanq.ancient-data.org/hebrew/text?book=Sacharia&chapter=7&verse=7&version=c&mr=m&qw=q&tp=txt_p&tr=hb&wget=v&qget=v&nget=vt\" title=\"Zechariah 7:7\" sec=\"Zechariah 7:7\">phrase</a>   <span class=\"function\">Subj</span> <span class=\"typ\">NP</span>\n",
       "    </div>\n",
       "    <div class=\"atoms\">\n",
       "\n",
       "<div class=\"word \" style=\"background-color: None;\">\n",
       "<div class=\"h\"><a target=\"_blank\" href=\"https://shebanq.ancient-data.org/hebrew/word?version=c&id=1SBJBn\" title=\"show this lexeme in SHEBANQ\">סְבִיבֹתֶ֑יהָ </a></div>\n",
       "<div class=\"features\"> <span class=\"pdp\"><a href=\"https://shebanq.ancient-data.org/hebrew/text?book=Sacharia&chapter=7&verse=7&version=c&mr=m&qw=q&tp=txt_p&tr=hb&wget=v&qget=v&nget=vt\" title=\"Zechariah 7:7\" sec=\"Zechariah 7:7\">subs</a></span> <span class=\"gloss\">surrounding</span></div>\n",
       "\n",
       "\n",
       "</div>\n",
       "\n",
       "\n",
       "    </div>\n",
       "\n",
       "\n",
       "</div>\n",
       "\n",
       "<div class=\"patom  r l\" style=\"background-color: None;\">\n",
       "\n",
       "    <div class=\"phrase\">\n",
       "        <a href=\"https://shebanq.ancient-data.org/hebrew/text?book=Sacharia&chapter=7&verse=7&version=c&mr=m&qw=q&tp=txt_p&tr=hb&wget=v&qget=v&nget=vt\" title=\"Zechariah 7:7\" sec=\"Zechariah 7:7\">phrase</a>   <span class=\"function\">Subj</span> <span class=\"typ\">NP</span>\n",
       "    </div>\n",
       "    <div class=\"atoms\">\n",
       "\n",
       "<div class=\"word \" style=\"background-color: None;\">\n",
       "<div class=\"h\"><a target=\"_blank\" href=\"https://shebanq.ancient-data.org/hebrew/word?version=c&id=1W\" title=\"show this lexeme in SHEBANQ\">וְ</a></div>\n",
       "<div class=\"features\"> <span class=\"pdp\"><a href=\"https://shebanq.ancient-data.org/hebrew/text?book=Sacharia&chapter=7&verse=7&version=c&mr=m&qw=q&tp=txt_p&tr=hb&wget=v&qget=v&nget=vt\" title=\"Zechariah 7:7\" sec=\"Zechariah 7:7\">conj</a></span> <span class=\"gloss\">and</span></div>\n",
       "\n",
       "\n",
       "</div>\n",
       "\n",
       "\n",
       "    </div>\n",
       "\n",
       "\n",
       "</div>\n",
       "\n",
       "<div class=\"patom  r\" style=\"background-color: None;\">\n",
       "\n",
       "    <div class=\"phrase\">\n",
       "        <a href=\"https://shebanq.ancient-data.org/hebrew/text?book=Sacharia&chapter=7&verse=7&version=c&mr=m&qw=q&tp=txt_p&tr=hb&wget=v&qget=v&nget=vt\" title=\"Zechariah 7:7\" sec=\"Zechariah 7:7\">phrase</a>   <span class=\"function\">Subj</span> <span class=\"typ\">NP</span>\n",
       "    </div>\n",
       "    <div class=\"atoms\">\n",
       "\n",
       "<div class=\"word \" style=\"background-color: None;\">\n",
       "<div class=\"h\"><a target=\"_blank\" href=\"https://shebanq.ancient-data.org/hebrew/word?version=c&id=1H\" title=\"show this lexeme in SHEBANQ\">הַ</a></div>\n",
       "<div class=\"features\"> <span class=\"pdp\"><a href=\"https://shebanq.ancient-data.org/hebrew/text?book=Sacharia&chapter=7&verse=7&version=c&mr=m&qw=q&tp=txt_p&tr=hb&wget=v&qget=v&nget=vt\" title=\"Zechariah 7:7\" sec=\"Zechariah 7:7\">art</a></span> <span class=\"gloss\">the</span></div>\n",
       "\n",
       "\n",
       "</div>\n",
       "\n",
       "<div class=\"word  hl\">\n",
       "<div class=\"h\"><a target=\"_blank\" href=\"https://shebanq.ancient-data.org/hebrew/word?version=c&id=1NGBn\" title=\"show this lexeme in SHEBANQ\">נֶּ֥גֶב </a></div>\n",
       "<div class=\"features\"> <span class=\"pdp\"><a href=\"https://shebanq.ancient-data.org/hebrew/text?book=Sacharia&chapter=7&verse=7&version=c&mr=m&qw=q&tp=txt_p&tr=hb&wget=v&qget=v&nget=vt\" title=\"Zechariah 7:7\" sec=\"Zechariah 7:7\">subs</a></span> <span class=\"gloss\">south</span></div>\n",
       "\n",
       "\n",
       "</div>\n",
       "\n",
       "<div class=\"word \" style=\"background-color: None;\">\n",
       "<div class=\"h\"><a target=\"_blank\" href=\"https://shebanq.ancient-data.org/hebrew/word?version=c&id=1W\" title=\"show this lexeme in SHEBANQ\">וְ</a></div>\n",
       "<div class=\"features\"> <span class=\"pdp\"><a href=\"https://shebanq.ancient-data.org/hebrew/text?book=Sacharia&chapter=7&verse=7&version=c&mr=m&qw=q&tp=txt_p&tr=hb&wget=v&qget=v&nget=vt\" title=\"Zechariah 7:7\" sec=\"Zechariah 7:7\">conj</a></span> <span class=\"gloss\">and</span></div>\n",
       "\n",
       "\n",
       "</div>\n",
       "\n",
       "<div class=\"word \" style=\"background-color: None;\">\n",
       "<div class=\"h\"><a target=\"_blank\" href=\"https://shebanq.ancient-data.org/hebrew/word?version=c&id=1H\" title=\"show this lexeme in SHEBANQ\">הַ</a></div>\n",
       "<div class=\"features\"> <span class=\"pdp\"><a href=\"https://shebanq.ancient-data.org/hebrew/text?book=Sacharia&chapter=7&verse=7&version=c&mr=m&qw=q&tp=txt_p&tr=hb&wget=v&qget=v&nget=vt\" title=\"Zechariah 7:7\" sec=\"Zechariah 7:7\">art</a></span> <span class=\"gloss\">the</span></div>\n",
       "\n",
       "\n",
       "</div>\n",
       "\n",
       "<div class=\"word  hl\">\n",
       "<div class=\"h\"><a target=\"_blank\" href=\"https://shebanq.ancient-data.org/hebrew/word?version=c&id=1CPLHin\" title=\"show this lexeme in SHEBANQ\">שְּׁפֵלָ֖ה </a></div>\n",
       "<div class=\"features\"> <span class=\"pdp\"><a href=\"https://shebanq.ancient-data.org/hebrew/text?book=Sacharia&chapter=7&verse=7&version=c&mr=m&qw=q&tp=txt_p&tr=hb&wget=v&qget=v&nget=vt\" title=\"Zechariah 7:7\" sec=\"Zechariah 7:7\">subs</a></span> <span class=\"gloss\">low land</span></div>\n",
       "\n",
       "\n",
       "</div>\n",
       "\n",
       "\n",
       "    </div>\n",
       "\n",
       "\n",
       "</div>\n",
       "\n",
       "\n",
       "</div>\n"
      ],
      "text/plain": [
       "<IPython.core.display.HTML object>"
      ]
     },
     "metadata": {},
     "output_type": "display_data"
    },
    {
     "data": {
      "text/markdown": [
       "\n",
       "\n",
       "**phrase** *14*\n",
       "\n"
      ],
      "text/plain": [
       "<IPython.core.display.Markdown object>"
      ]
     },
     "metadata": {},
     "output_type": "display_data"
    },
    {
     "data": {
      "text/html": [
       "<div class=\"atoms \" style=\"background-color: None;\">\n",
       "\n",
       "\n",
       "\n",
       "<div class=\"patom  l\" style=\"background-color: None;\">\n",
       "\n",
       "    <div class=\"phrase\">\n",
       "        <a href=\"https://shebanq.ancient-data.org/hebrew/text?book=Esther&chapter=1&verse=4&version=c&mr=m&qw=q&tp=txt_p&tr=hb&wget=v&qget=v&nget=vt\" title=\"Esther 1:4\" sec=\"Esther 1:4\">phrase</a>   <span class=\"function\">Time</span> <span class=\"typ\">NP</span>\n",
       "    </div>\n",
       "    <div class=\"atoms\">\n",
       "\n",
       "<div class=\"word  hl\">\n",
       "<div class=\"h\"><a target=\"_blank\" href=\"https://shebanq.ancient-data.org/hebrew/word?version=c&id=1JWMn\" title=\"show this lexeme in SHEBANQ\">יָמִ֣ים </a></div>\n",
       "<div class=\"features\"> <span class=\"pdp\"><a href=\"https://shebanq.ancient-data.org/hebrew/text?book=Esther&chapter=1&verse=4&version=c&mr=m&qw=q&tp=txt_p&tr=hb&wget=v&qget=v&nget=vt\" title=\"Esther 1:4\" sec=\"Esther 1:4\">subs</a></span> <span class=\"gloss\">day</span></div>\n",
       "\n",
       "\n",
       "</div>\n",
       "\n",
       "<div class=\"word \" style=\"background-color: None;\">\n",
       "<div class=\"h\"><a target=\"_blank\" href=\"https://shebanq.ancient-data.org/hebrew/word?version=c&id=1RBn\" title=\"show this lexeme in SHEBANQ\">רַבִּ֔ים </a></div>\n",
       "<div class=\"features\"> <span class=\"pdp\"><a href=\"https://shebanq.ancient-data.org/hebrew/text?book=Esther&chapter=1&verse=4&version=c&mr=m&qw=q&tp=txt_p&tr=hb&wget=v&qget=v&nget=vt\" title=\"Esther 1:4\" sec=\"Esther 1:4\">adjv</a></span> <span class=\"gloss\">much</span></div>\n",
       "\n",
       "\n",
       "</div>\n",
       "\n",
       "\n",
       "    </div>\n",
       "\n",
       "\n",
       "</div>\n",
       "\n",
       "<div class=\"patom  r\" style=\"background-color: None;\">\n",
       "\n",
       "    <div class=\"phrase\">\n",
       "        <a href=\"https://shebanq.ancient-data.org/hebrew/text?book=Esther&chapter=1&verse=4&version=c&mr=m&qw=q&tp=txt_p&tr=hb&wget=v&qget=v&nget=vt\" title=\"Esther 1:4\" sec=\"Esther 1:4\">phrase</a>   <span class=\"function\">Time</span> <span class=\"typ\">NP</span>\n",
       "    </div>\n",
       "    <div class=\"atoms\">\n",
       "\n",
       "<div class=\"word \" style=\"background-color: None;\">\n",
       "<div class=\"h\"><a target=\"_blank\" href=\"https://shebanq.ancient-data.org/hebrew/word?version=c&id=1CMNHn\" title=\"show this lexeme in SHEBANQ\">שְׁמֹונִ֥ים </a></div>\n",
       "<div class=\"features\"> <span class=\"pdp\"><a href=\"https://shebanq.ancient-data.org/hebrew/text?book=Esther&chapter=1&verse=4&version=c&mr=m&qw=q&tp=txt_p&tr=hb&wget=v&qget=v&nget=vt\" title=\"Esther 1:4\" sec=\"Esther 1:4\">subs</a></span> <span class=\"gloss\">eight</span></div>\n",
       "\n",
       "\n",
       "</div>\n",
       "\n",
       "<div class=\"word \" style=\"background-color: None;\">\n",
       "<div class=\"h\"><a target=\"_blank\" href=\"https://shebanq.ancient-data.org/hebrew/word?version=c&id=1W\" title=\"show this lexeme in SHEBANQ\">וּ</a></div>\n",
       "<div class=\"features\"> <span class=\"pdp\"><a href=\"https://shebanq.ancient-data.org/hebrew/text?book=Esther&chapter=1&verse=4&version=c&mr=m&qw=q&tp=txt_p&tr=hb&wget=v&qget=v&nget=vt\" title=\"Esther 1:4\" sec=\"Esther 1:4\">conj</a></span> <span class=\"gloss\">and</span></div>\n",
       "\n",
       "\n",
       "</div>\n",
       "\n",
       "<div class=\"word \" style=\"background-color: None;\">\n",
       "<div class=\"h\"><a target=\"_blank\" href=\"https://shebanq.ancient-data.org/hebrew/word?version=c&id=1MAHn\" title=\"show this lexeme in SHEBANQ\">מְאַ֖ת </a></div>\n",
       "<div class=\"features\"> <span class=\"pdp\"><a href=\"https://shebanq.ancient-data.org/hebrew/text?book=Esther&chapter=1&verse=4&version=c&mr=m&qw=q&tp=txt_p&tr=hb&wget=v&qget=v&nget=vt\" title=\"Esther 1:4\" sec=\"Esther 1:4\">subs</a></span> <span class=\"gloss\">hundred</span></div>\n",
       "\n",
       "\n",
       "</div>\n",
       "\n",
       "<div class=\"word \" style=\"background-color: None;\">\n",
       "<div class=\"h\"><a target=\"_blank\" href=\"https://shebanq.ancient-data.org/hebrew/word?version=c&id=1JWMn\" title=\"show this lexeme in SHEBANQ\">יֹֽום׃ </a></div>\n",
       "<div class=\"features\"> <span class=\"pdp\"><a href=\"https://shebanq.ancient-data.org/hebrew/text?book=Esther&chapter=1&verse=4&version=c&mr=m&qw=q&tp=txt_p&tr=hb&wget=v&qget=v&nget=vt\" title=\"Esther 1:4\" sec=\"Esther 1:4\">subs</a></span> <span class=\"gloss\">day</span></div>\n",
       "\n",
       "\n",
       "</div>\n",
       "\n",
       "\n",
       "    </div>\n",
       "\n",
       "\n",
       "</div>\n",
       "\n",
       "\n",
       "</div>\n"
      ],
      "text/plain": [
       "<IPython.core.display.HTML object>"
      ]
     },
     "metadata": {},
     "output_type": "display_data"
    },
    {
     "data": {
      "text/markdown": [
       "\n",
       "\n",
       "**phrase** *15*\n",
       "\n"
      ],
      "text/plain": [
       "<IPython.core.display.Markdown object>"
      ]
     },
     "metadata": {},
     "output_type": "display_data"
    },
    {
     "data": {
      "text/html": [
       "<div class=\"atoms \" style=\"background-color: None;\">\n",
       "\n",
       "\n",
       "\n",
       "<div class=\"patom \" style=\"background-color: None;\">\n",
       "\n",
       "    <div class=\"phrase\">\n",
       "        <a href=\"https://shebanq.ancient-data.org/hebrew/text?book=Daniel&chapter=3&verse=10&version=c&mr=m&qw=q&tp=txt_p&tr=hb&wget=v&qget=v&nget=vt\" title=\"Daniel 3:10\" sec=\"Daniel 3:10\">phrase</a>   <span class=\"function\">Objc</span> <span class=\"typ\">NP</span>\n",
       "    </div>\n",
       "    <div class=\"atoms\">\n",
       "\n",
       "<div class=\"word  hl\">\n",
       "<div class=\"h\"><a target=\"_blank\" href=\"https://shebanq.ancient-data.org/hebrew/word?version=c&id=2QLn\" title=\"show this lexeme in SHEBANQ\">קָ֣ל </a></div>\n",
       "<div class=\"features\"> <span class=\"pdp\"><a href=\"https://shebanq.ancient-data.org/hebrew/text?book=Daniel&chapter=3&verse=10&version=c&mr=m&qw=q&tp=txt_p&tr=hb&wget=v&qget=v&nget=vt\" title=\"Daniel 3:10\" sec=\"Daniel 3:10\">subs</a></span> <span class=\"gloss\">voice</span></div>\n",
       "\n",
       "\n",
       "</div>\n",
       "\n",
       "<div class=\"word \" style=\"background-color: None;\">\n",
       "<div class=\"h\"><a target=\"_blank\" href=\"https://shebanq.ancient-data.org/hebrew/word?version=c&id=2QRNn\" title=\"show this lexeme in SHEBANQ\">קַרְנָ֣א </a></div>\n",
       "<div class=\"features\"> <span class=\"pdp\"><a href=\"https://shebanq.ancient-data.org/hebrew/text?book=Daniel&chapter=3&verse=10&version=c&mr=m&qw=q&tp=txt_p&tr=hb&wget=v&qget=v&nget=vt\" title=\"Daniel 3:10\" sec=\"Daniel 3:10\">subs</a></span> <span class=\"gloss\">horn</span></div>\n",
       "\n",
       "\n",
       "</div>\n",
       "\n",
       "<div class=\"word  hl\">\n",
       "<div class=\"h\"><a target=\"_blank\" href=\"https://shebanq.ancient-data.org/hebrew/word?version=c&id=2MCRWQJn\" title=\"show this lexeme in SHEBANQ\">מַ֠שְׁרֹקִיתָא </a></div>\n",
       "<div class=\"features\"> <span class=\"pdp\"><a href=\"https://shebanq.ancient-data.org/hebrew/text?book=Daniel&chapter=3&verse=10&version=c&mr=m&qw=q&tp=txt_p&tr=hb&wget=v&qget=v&nget=vt\" title=\"Daniel 3:10\" sec=\"Daniel 3:10\">subs</a></span> <span class=\"gloss\">pipe</span></div>\n",
       "\n",
       "\n",
       "</div>\n",
       "\n",
       "<div class=\"word  hl\">\n",
       "<div class=\"h\"><a target=\"_blank\" href=\"https://shebanq.ancient-data.org/hebrew/word?version=c&id=2QTRSn\" title=\"show this lexeme in SHEBANQ\">קַתְרֹ֨וס </a></div>\n",
       "<div class=\"features\"> <span class=\"pdp\"><a href=\"https://shebanq.ancient-data.org/hebrew/text?book=Daniel&chapter=3&verse=10&version=c&mr=m&qw=q&tp=txt_p&tr=hb&wget=v&qget=v&nget=vt\" title=\"Daniel 3:10\" sec=\"Daniel 3:10\">subs</a></span> <span class=\"gloss\">zither</span></div>\n",
       "\n",
       "\n",
       "</div>\n",
       "\n",
       "<div class=\"word  hl\">\n",
       "<div class=\"h\"><a target=\"_blank\" href=\"https://shebanq.ancient-data.org/hebrew/word?version=c&id=2FBKAn\" title=\"show this lexeme in SHEBANQ\">שַׂבְּכָ֤א </a></div>\n",
       "<div class=\"features\"> <span class=\"pdp\"><a href=\"https://shebanq.ancient-data.org/hebrew/text?book=Daniel&chapter=3&verse=10&version=c&mr=m&qw=q&tp=txt_p&tr=hb&wget=v&qget=v&nget=vt\" title=\"Daniel 3:10\" sec=\"Daniel 3:10\">subs</a></span> <span class=\"gloss\">sambuca</span></div>\n",
       "\n",
       "\n",
       "</div>\n",
       "\n",
       "<div class=\"word  hl\">\n",
       "<div class=\"h\"><a target=\"_blank\" href=\"https://shebanq.ancient-data.org/hebrew/word?version=c&id=2PSNTRJNn\" title=\"show this lexeme in SHEBANQ\">פְסַנְתֵּרִין֙ </a></div>\n",
       "<div class=\"features\"> <span class=\"pdp\"><a href=\"https://shebanq.ancient-data.org/hebrew/text?book=Daniel&chapter=3&verse=10&version=c&mr=m&qw=q&tp=txt_p&tr=hb&wget=v&qget=v&nget=vt\" title=\"Daniel 3:10\" sec=\"Daniel 3:10\">subs</a></span> <span class=\"gloss\">psaltery</span></div>\n",
       "\n",
       "\n",
       "</div>\n",
       "\n",
       "<div class=\"word \" style=\"background-color: None;\">\n",
       "<div class=\"h\"><a target=\"_blank\" href=\"https://shebanq.ancient-data.org/hebrew/word?version=c&id=2W\" title=\"show this lexeme in SHEBANQ\">וְ</a></div>\n",
       "<div class=\"features\"> <span class=\"pdp\"><a href=\"https://shebanq.ancient-data.org/hebrew/text?book=Daniel&chapter=3&verse=10&version=c&mr=m&qw=q&tp=txt_p&tr=hb&wget=v&qget=v&nget=vt\" title=\"Daniel 3:10\" sec=\"Daniel 3:10\">conj</a></span> <span class=\"gloss\">and</span></div>\n",
       "\n",
       "\n",
       "</div>\n",
       "\n",
       "<div class=\"word  hl\">\n",
       "<div class=\"h\"><a target=\"_blank\" href=\"https://shebanq.ancient-data.org/hebrew/word?version=c&id=2SWMPNJHn\" title=\"show this lexeme in SHEBANQ\">סוּפֹּ֣נְיָ֔ה </a></div>\n",
       "<div class=\"features\"> <span class=\"pdp\"><a href=\"https://shebanq.ancient-data.org/hebrew/text?book=Daniel&chapter=3&verse=10&version=c&mr=m&qw=q&tp=txt_p&tr=hb&wget=v&qget=v&nget=vt\" title=\"Daniel 3:10\" sec=\"Daniel 3:10\">subs</a></span> <span class=\"gloss\">symphony</span></div>\n",
       "\n",
       "\n",
       "</div>\n",
       "\n",
       "<div class=\"word \" style=\"background-color: None;\">\n",
       "<div class=\"h\"><a target=\"_blank\" href=\"https://shebanq.ancient-data.org/hebrew/word?version=c&id=2W\" title=\"show this lexeme in SHEBANQ\">וְ</a></div>\n",
       "<div class=\"features\"> <span class=\"pdp\"><a href=\"https://shebanq.ancient-data.org/hebrew/text?book=Daniel&chapter=3&verse=10&version=c&mr=m&qw=q&tp=txt_p&tr=hb&wget=v&qget=v&nget=vt\" title=\"Daniel 3:10\" sec=\"Daniel 3:10\">conj</a></span> <span class=\"gloss\">and</span></div>\n",
       "\n",
       "\n",
       "</div>\n",
       "\n",
       "<div class=\"word \" style=\"background-color: None;\">\n",
       "<div class=\"h\"><a target=\"_blank\" href=\"https://shebanq.ancient-data.org/hebrew/word?version=c&id=2KLn\" title=\"show this lexeme in SHEBANQ\">כֹ֖ל </a></div>\n",
       "<div class=\"features\"> <span class=\"pdp\"><a href=\"https://shebanq.ancient-data.org/hebrew/text?book=Daniel&chapter=3&verse=10&version=c&mr=m&qw=q&tp=txt_p&tr=hb&wget=v&qget=v&nget=vt\" title=\"Daniel 3:10\" sec=\"Daniel 3:10\">subs</a></span> <span class=\"gloss\">whole</span></div>\n",
       "\n",
       "\n",
       "</div>\n",
       "\n",
       "<div class=\"word  hl\">\n",
       "<div class=\"h\"><a target=\"_blank\" href=\"https://shebanq.ancient-data.org/hebrew/word?version=c&id=2ZNn\" title=\"show this lexeme in SHEBANQ\">זְנֵ֣י </a></div>\n",
       "<div class=\"features\"> <span class=\"pdp\"><a href=\"https://shebanq.ancient-data.org/hebrew/text?book=Daniel&chapter=3&verse=10&version=c&mr=m&qw=q&tp=txt_p&tr=hb&wget=v&qget=v&nget=vt\" title=\"Daniel 3:10\" sec=\"Daniel 3:10\">subs</a></span> <span class=\"gloss\">sort</span></div>\n",
       "\n",
       "\n",
       "</div>\n",
       "\n",
       "<div class=\"word \" style=\"background-color: None;\">\n",
       "<div class=\"h\"><a target=\"_blank\" href=\"https://shebanq.ancient-data.org/hebrew/word?version=c&id=2ZMRn\" title=\"show this lexeme in SHEBANQ\">זְמָרָ֑א </a></div>\n",
       "<div class=\"features\"> <span class=\"pdp\"><a href=\"https://shebanq.ancient-data.org/hebrew/text?book=Daniel&chapter=3&verse=10&version=c&mr=m&qw=q&tp=txt_p&tr=hb&wget=v&qget=v&nget=vt\" title=\"Daniel 3:10\" sec=\"Daniel 3:10\">subs</a></span> <span class=\"gloss\">music for strings</span></div>\n",
       "\n",
       "\n",
       "</div>\n",
       "\n",
       "\n",
       "    </div>\n",
       "\n",
       "\n",
       "</div>\n",
       "\n",
       "\n",
       "</div>\n"
      ],
      "text/plain": [
       "<IPython.core.display.HTML object>"
      ]
     },
     "metadata": {},
     "output_type": "display_data"
    },
    {
     "data": {
      "text/markdown": [
       "\n",
       "\n",
       "**phrase** *16*\n",
       "\n"
      ],
      "text/plain": [
       "<IPython.core.display.Markdown object>"
      ]
     },
     "metadata": {},
     "output_type": "display_data"
    },
    {
     "data": {
      "text/html": [
       "<div class=\"atoms \" style=\"background-color: None;\">\n",
       "\n",
       "\n",
       "\n",
       "<div class=\"patom  l\" style=\"background-color: None;\">\n",
       "\n",
       "    <div class=\"phrase\">\n",
       "        <a href=\"https://shebanq.ancient-data.org/hebrew/text?book=Daniel&chapter=11&verse=8&version=c&mr=m&qw=q&tp=txt_p&tr=hb&wget=v&qget=v&nget=vt\" title=\"Daniel 11:8\" sec=\"Daniel 11:8\">phrase</a>   <span class=\"function\">Objc</span> <span class=\"typ\">NP</span>\n",
       "    </div>\n",
       "    <div class=\"atoms\">\n",
       "\n",
       "<div class=\"word \" style=\"background-color: None;\">\n",
       "<div class=\"h\"><a target=\"_blank\" href=\"https://shebanq.ancient-data.org/hebrew/word?version=c&id=1GM\" title=\"show this lexeme in SHEBANQ\">גַ֣ם </a></div>\n",
       "<div class=\"features\"> <span class=\"pdp\"><a href=\"https://shebanq.ancient-data.org/hebrew/text?book=Daniel&chapter=11&verse=8&version=c&mr=m&qw=q&tp=txt_p&tr=hb&wget=v&qget=v&nget=vt\" title=\"Daniel 11:8\" sec=\"Daniel 11:8\">advb</a></span> <span class=\"gloss\">even</span></div>\n",
       "\n",
       "\n",
       "</div>\n",
       "\n",
       "<div class=\"word  hl\">\n",
       "<div class=\"h\"><a target=\"_blank\" href=\"https://shebanq.ancient-data.org/hebrew/word?version=c&id=1ALHJMn\" title=\"show this lexeme in SHEBANQ\">אֱֽלֹהֵיהֶ֡ם </a></div>\n",
       "<div class=\"features\"> <span class=\"pdp\"><a href=\"https://shebanq.ancient-data.org/hebrew/text?book=Daniel&chapter=11&verse=8&version=c&mr=m&qw=q&tp=txt_p&tr=hb&wget=v&qget=v&nget=vt\" title=\"Daniel 11:8\" sec=\"Daniel 11:8\">subs</a></span> <span class=\"gloss\">god(s)</span></div>\n",
       "\n",
       "\n",
       "</div>\n",
       "\n",
       "\n",
       "    </div>\n",
       "\n",
       "\n",
       "</div>\n",
       "\n",
       "<div class=\"patom  r l\" style=\"background-color: None;\">\n",
       "\n",
       "    <div class=\"phrase\">\n",
       "        <a href=\"https://shebanq.ancient-data.org/hebrew/text?book=Daniel&chapter=11&verse=8&version=c&mr=m&qw=q&tp=txt_p&tr=hb&wget=v&qget=v&nget=vt\" title=\"Daniel 11:8\" sec=\"Daniel 11:8\">phrase</a>   <span class=\"function\">Objc</span> <span class=\"typ\">NP</span>\n",
       "    </div>\n",
       "    <div class=\"atoms\">\n",
       "\n",
       "<div class=\"word \" style=\"background-color: None;\">\n",
       "<div class=\"h\"><a target=\"_blank\" href=\"https://shebanq.ancient-data.org/hebrew/word?version=c&id=1OM\" title=\"show this lexeme in SHEBANQ\">עִם־</a></div>\n",
       "<div class=\"features\"> <span class=\"pdp\"><a href=\"https://shebanq.ancient-data.org/hebrew/text?book=Daniel&chapter=11&verse=8&version=c&mr=m&qw=q&tp=txt_p&tr=hb&wget=v&qget=v&nget=vt\" title=\"Daniel 11:8\" sec=\"Daniel 11:8\">prep</a></span> <span class=\"gloss\">with</span></div>\n",
       "\n",
       "\n",
       "</div>\n",
       "\n",
       "<div class=\"word \" style=\"background-color: None;\">\n",
       "<div class=\"h\"><a target=\"_blank\" href=\"https://shebanq.ancient-data.org/hebrew/word?version=c&id=1NSJKin\" title=\"show this lexeme in SHEBANQ\">נְסִֽכֵיהֶם֩ </a></div>\n",
       "<div class=\"features\"> <span class=\"pdp\"><a href=\"https://shebanq.ancient-data.org/hebrew/text?book=Daniel&chapter=11&verse=8&version=c&mr=m&qw=q&tp=txt_p&tr=hb&wget=v&qget=v&nget=vt\" title=\"Daniel 11:8\" sec=\"Daniel 11:8\">subs</a></span> <span class=\"gloss\">libation</span></div>\n",
       "\n",
       "\n",
       "</div>\n",
       "\n",
       "\n",
       "    </div>\n",
       "\n",
       "\n",
       "</div>\n",
       "\n",
       "<div class=\"patom  r\" style=\"background-color: None;\">\n",
       "\n",
       "    <div class=\"phrase\">\n",
       "        <a href=\"https://shebanq.ancient-data.org/hebrew/text?book=Daniel&chapter=11&verse=8&version=c&mr=m&qw=q&tp=txt_p&tr=hb&wget=v&qget=v&nget=vt\" title=\"Daniel 11:8\" sec=\"Daniel 11:8\">phrase</a>   <span class=\"function\">Objc</span> <span class=\"typ\">NP</span>\n",
       "    </div>\n",
       "    <div class=\"atoms\">\n",
       "\n",
       "<div class=\"word \" style=\"background-color: None;\">\n",
       "<div class=\"h\"><a target=\"_blank\" href=\"https://shebanq.ancient-data.org/hebrew/word?version=c&id=1OM\" title=\"show this lexeme in SHEBANQ\">עִם־</a></div>\n",
       "<div class=\"features\"> <span class=\"pdp\"><a href=\"https://shebanq.ancient-data.org/hebrew/text?book=Daniel&chapter=11&verse=8&version=c&mr=m&qw=q&tp=txt_p&tr=hb&wget=v&qget=v&nget=vt\" title=\"Daniel 11:8\" sec=\"Daniel 11:8\">prep</a></span> <span class=\"gloss\">with</span></div>\n",
       "\n",
       "\n",
       "</div>\n",
       "\n",
       "<div class=\"word \" style=\"background-color: None;\">\n",
       "<div class=\"h\"><a target=\"_blank\" href=\"https://shebanq.ancient-data.org/hebrew/word?version=c&id=1KLJn\" title=\"show this lexeme in SHEBANQ\">כְּלֵ֨י </a></div>\n",
       "<div class=\"features\"> <span class=\"pdp\"><a href=\"https://shebanq.ancient-data.org/hebrew/text?book=Daniel&chapter=11&verse=8&version=c&mr=m&qw=q&tp=txt_p&tr=hb&wget=v&qget=v&nget=vt\" title=\"Daniel 11:8\" sec=\"Daniel 11:8\">subs</a></span> <span class=\"gloss\">tool</span></div>\n",
       "\n",
       "\n",
       "</div>\n",
       "\n",
       "<div class=\"word \" style=\"background-color: None;\">\n",
       "<div class=\"h\"><a target=\"_blank\" href=\"https://shebanq.ancient-data.org/hebrew/word?version=c&id=1XMDHn\" title=\"show this lexeme in SHEBANQ\">חֶמְדָּתָ֜ם </a></div>\n",
       "<div class=\"features\"> <span class=\"pdp\"><a href=\"https://shebanq.ancient-data.org/hebrew/text?book=Daniel&chapter=11&verse=8&version=c&mr=m&qw=q&tp=txt_p&tr=hb&wget=v&qget=v&nget=vt\" title=\"Daniel 11:8\" sec=\"Daniel 11:8\">subs</a></span> <span class=\"gloss\">what is desirable</span></div>\n",
       "\n",
       "\n",
       "</div>\n",
       "\n",
       "<div class=\"word \" style=\"background-color: None;\">\n",
       "<div class=\"h\"><a target=\"_blank\" href=\"https://shebanq.ancient-data.org/hebrew/word?version=c&id=1KSPn\" title=\"show this lexeme in SHEBANQ\">כֶּ֧סֶף </a></div>\n",
       "<div class=\"features\"> <span class=\"pdp\"><a href=\"https://shebanq.ancient-data.org/hebrew/text?book=Daniel&chapter=11&verse=8&version=c&mr=m&qw=q&tp=txt_p&tr=hb&wget=v&qget=v&nget=vt\" title=\"Daniel 11:8\" sec=\"Daniel 11:8\">subs</a></span> <span class=\"gloss\">silver</span></div>\n",
       "\n",
       "\n",
       "</div>\n",
       "\n",
       "<div class=\"word \" style=\"background-color: None;\">\n",
       "<div class=\"h\"><a target=\"_blank\" href=\"https://shebanq.ancient-data.org/hebrew/word?version=c&id=1W\" title=\"show this lexeme in SHEBANQ\">וְ</a></div>\n",
       "<div class=\"features\"> <span class=\"pdp\"><a href=\"https://shebanq.ancient-data.org/hebrew/text?book=Daniel&chapter=11&verse=8&version=c&mr=m&qw=q&tp=txt_p&tr=hb&wget=v&qget=v&nget=vt\" title=\"Daniel 11:8\" sec=\"Daniel 11:8\">conj</a></span> <span class=\"gloss\">and</span></div>\n",
       "\n",
       "\n",
       "</div>\n",
       "\n",
       "<div class=\"word \" style=\"background-color: None;\">\n",
       "<div class=\"h\"><a target=\"_blank\" href=\"https://shebanq.ancient-data.org/hebrew/word?version=c&id=1ZHBn\" title=\"show this lexeme in SHEBANQ\">זָהָ֛ב </a></div>\n",
       "<div class=\"features\"> <span class=\"pdp\"><a href=\"https://shebanq.ancient-data.org/hebrew/text?book=Daniel&chapter=11&verse=8&version=c&mr=m&qw=q&tp=txt_p&tr=hb&wget=v&qget=v&nget=vt\" title=\"Daniel 11:8\" sec=\"Daniel 11:8\">subs</a></span> <span class=\"gloss\">gold</span></div>\n",
       "\n",
       "\n",
       "</div>\n",
       "\n",
       "\n",
       "    </div>\n",
       "\n",
       "\n",
       "</div>\n",
       "\n",
       "\n",
       "</div>\n"
      ],
      "text/plain": [
       "<IPython.core.display.HTML object>"
      ]
     },
     "metadata": {},
     "output_type": "display_data"
    },
    {
     "data": {
      "text/markdown": [
       "\n",
       "\n",
       "**phrase** *17*\n",
       "\n"
      ],
      "text/plain": [
       "<IPython.core.display.Markdown object>"
      ]
     },
     "metadata": {},
     "output_type": "display_data"
    },
    {
     "data": {
      "text/html": [
       "<div class=\"atoms \" style=\"background-color: None;\">\n",
       "\n",
       "\n",
       "\n",
       "<div class=\"patom \" style=\"background-color: None;\">\n",
       "\n",
       "    <div class=\"phrase\">\n",
       "        <a href=\"https://shebanq.ancient-data.org/hebrew/text?book=Esra&chapter=8&verse=30&version=c&mr=m&qw=q&tp=txt_p&tr=hb&wget=v&qget=v&nget=vt\" title=\"Ezra 8:30\" sec=\"Ezra 8:30\">phrase</a>   <span class=\"function\">Objc</span> <span class=\"typ\">NP</span>\n",
       "    </div>\n",
       "    <div class=\"atoms\">\n",
       "\n",
       "<div class=\"word  hl\">\n",
       "<div class=\"h\"><a target=\"_blank\" href=\"https://shebanq.ancient-data.org/hebrew/word?version=c&id=1MCQLn\" title=\"show this lexeme in SHEBANQ\">מִשְׁקַ֛ל </a></div>\n",
       "<div class=\"features\"> <span class=\"pdp\"><a href=\"https://shebanq.ancient-data.org/hebrew/text?book=Esra&chapter=8&verse=30&version=c&mr=m&qw=q&tp=txt_p&tr=hb&wget=v&qget=v&nget=vt\" title=\"Ezra 8:30\" sec=\"Ezra 8:30\">subs</a></span> <span class=\"gloss\">weight</span></div>\n",
       "\n",
       "\n",
       "</div>\n",
       "\n",
       "<div class=\"word \" style=\"background-color: None;\">\n",
       "<div class=\"h\"><a target=\"_blank\" href=\"https://shebanq.ancient-data.org/hebrew/word?version=c&id=1H\" title=\"show this lexeme in SHEBANQ\">הַ</a></div>\n",
       "<div class=\"features\"> <span class=\"pdp\"><a href=\"https://shebanq.ancient-data.org/hebrew/text?book=Esra&chapter=8&verse=30&version=c&mr=m&qw=q&tp=txt_p&tr=hb&wget=v&qget=v&nget=vt\" title=\"Ezra 8:30\" sec=\"Ezra 8:30\">art</a></span> <span class=\"gloss\">the</span></div>\n",
       "\n",
       "\n",
       "</div>\n",
       "\n",
       "<div class=\"word \" style=\"background-color: None;\">\n",
       "<div class=\"h\"><a target=\"_blank\" href=\"https://shebanq.ancient-data.org/hebrew/word?version=c&id=1KSPn\" title=\"show this lexeme in SHEBANQ\">כֶּ֥סֶף </a></div>\n",
       "<div class=\"features\"> <span class=\"pdp\"><a href=\"https://shebanq.ancient-data.org/hebrew/text?book=Esra&chapter=8&verse=30&version=c&mr=m&qw=q&tp=txt_p&tr=hb&wget=v&qget=v&nget=vt\" title=\"Ezra 8:30\" sec=\"Ezra 8:30\">subs</a></span> <span class=\"gloss\">silver</span></div>\n",
       "\n",
       "\n",
       "</div>\n",
       "\n",
       "<div class=\"word \" style=\"background-color: None;\">\n",
       "<div class=\"h\"><a target=\"_blank\" href=\"https://shebanq.ancient-data.org/hebrew/word?version=c&id=1W\" title=\"show this lexeme in SHEBANQ\">וְ</a></div>\n",
       "<div class=\"features\"> <span class=\"pdp\"><a href=\"https://shebanq.ancient-data.org/hebrew/text?book=Esra&chapter=8&verse=30&version=c&mr=m&qw=q&tp=txt_p&tr=hb&wget=v&qget=v&nget=vt\" title=\"Ezra 8:30\" sec=\"Ezra 8:30\">conj</a></span> <span class=\"gloss\">and</span></div>\n",
       "\n",
       "\n",
       "</div>\n",
       "\n",
       "<div class=\"word \" style=\"background-color: None;\">\n",
       "<div class=\"h\"><a target=\"_blank\" href=\"https://shebanq.ancient-data.org/hebrew/word?version=c&id=1H\" title=\"show this lexeme in SHEBANQ\">הַ</a></div>\n",
       "<div class=\"features\"> <span class=\"pdp\"><a href=\"https://shebanq.ancient-data.org/hebrew/text?book=Esra&chapter=8&verse=30&version=c&mr=m&qw=q&tp=txt_p&tr=hb&wget=v&qget=v&nget=vt\" title=\"Ezra 8:30\" sec=\"Ezra 8:30\">art</a></span> <span class=\"gloss\">the</span></div>\n",
       "\n",
       "\n",
       "</div>\n",
       "\n",
       "<div class=\"word \" style=\"background-color: None;\">\n",
       "<div class=\"h\"><a target=\"_blank\" href=\"https://shebanq.ancient-data.org/hebrew/word?version=c&id=1ZHBn\" title=\"show this lexeme in SHEBANQ\">זָּהָ֖ב </a></div>\n",
       "<div class=\"features\"> <span class=\"pdp\"><a href=\"https://shebanq.ancient-data.org/hebrew/text?book=Esra&chapter=8&verse=30&version=c&mr=m&qw=q&tp=txt_p&tr=hb&wget=v&qget=v&nget=vt\" title=\"Ezra 8:30\" sec=\"Ezra 8:30\">subs</a></span> <span class=\"gloss\">gold</span></div>\n",
       "\n",
       "\n",
       "</div>\n",
       "\n",
       "<div class=\"word \" style=\"background-color: None;\">\n",
       "<div class=\"h\"><a target=\"_blank\" href=\"https://shebanq.ancient-data.org/hebrew/word?version=c&id=1W\" title=\"show this lexeme in SHEBANQ\">וְ</a></div>\n",
       "<div class=\"features\"> <span class=\"pdp\"><a href=\"https://shebanq.ancient-data.org/hebrew/text?book=Esra&chapter=8&verse=30&version=c&mr=m&qw=q&tp=txt_p&tr=hb&wget=v&qget=v&nget=vt\" title=\"Ezra 8:30\" sec=\"Ezra 8:30\">conj</a></span> <span class=\"gloss\">and</span></div>\n",
       "\n",
       "\n",
       "</div>\n",
       "\n",
       "<div class=\"word \" style=\"background-color: None;\">\n",
       "<div class=\"h\"><a target=\"_blank\" href=\"https://shebanq.ancient-data.org/hebrew/word?version=c&id=1H\" title=\"show this lexeme in SHEBANQ\">הַ</a></div>\n",
       "<div class=\"features\"> <span class=\"pdp\"><a href=\"https://shebanq.ancient-data.org/hebrew/text?book=Esra&chapter=8&verse=30&version=c&mr=m&qw=q&tp=txt_p&tr=hb&wget=v&qget=v&nget=vt\" title=\"Ezra 8:30\" sec=\"Ezra 8:30\">art</a></span> <span class=\"gloss\">the</span></div>\n",
       "\n",
       "\n",
       "</div>\n",
       "\n",
       "<div class=\"word \" style=\"background-color: None;\">\n",
       "<div class=\"h\"><a target=\"_blank\" href=\"https://shebanq.ancient-data.org/hebrew/word?version=c&id=1KLJn\" title=\"show this lexeme in SHEBANQ\">כֵּלִ֑ים </a></div>\n",
       "<div class=\"features\"> <span class=\"pdp\"><a href=\"https://shebanq.ancient-data.org/hebrew/text?book=Esra&chapter=8&verse=30&version=c&mr=m&qw=q&tp=txt_p&tr=hb&wget=v&qget=v&nget=vt\" title=\"Ezra 8:30\" sec=\"Ezra 8:30\">subs</a></span> <span class=\"gloss\">tool</span></div>\n",
       "\n",
       "\n",
       "</div>\n",
       "\n",
       "\n",
       "    </div>\n",
       "\n",
       "\n",
       "</div>\n",
       "\n",
       "\n",
       "</div>\n"
      ],
      "text/plain": [
       "<IPython.core.display.HTML object>"
      ]
     },
     "metadata": {},
     "output_type": "display_data"
    },
    {
     "data": {
      "text/markdown": [
       "\n",
       "\n",
       "**phrase** *18*\n",
       "\n"
      ],
      "text/plain": [
       "<IPython.core.display.Markdown object>"
      ]
     },
     "metadata": {},
     "output_type": "display_data"
    },
    {
     "data": {
      "text/html": [
       "<div class=\"atoms \" style=\"background-color: None;\">\n",
       "\n",
       "\n",
       "\n",
       "<div class=\"patom  l\" style=\"background-color: None;\">\n",
       "\n",
       "    <div class=\"phrase\">\n",
       "        <a href=\"https://shebanq.ancient-data.org/hebrew/text?book=Nehemia&chapter=13&verse=29&version=c&mr=m&qw=q&tp=txt_p&tr=hb&wget=v&qget=v&nget=vt\" title=\"Nehemiah 13:29\" sec=\"Nehemiah 13:29\">phrase</a>   <span class=\"function\">Cmpl</span> <span class=\"typ\">PP</span>\n",
       "    </div>\n",
       "    <div class=\"atoms\">\n",
       "\n",
       "<div class=\"word \" style=\"background-color: None;\">\n",
       "<div class=\"h\"><a target=\"_blank\" href=\"https://shebanq.ancient-data.org/hebrew/word?version=c&id=1OL\" title=\"show this lexeme in SHEBANQ\">עַ֚ל </a></div>\n",
       "<div class=\"features\"> <span class=\"pdp\"><a href=\"https://shebanq.ancient-data.org/hebrew/text?book=Nehemia&chapter=13&verse=29&version=c&mr=m&qw=q&tp=txt_p&tr=hb&wget=v&qget=v&nget=vt\" title=\"Nehemiah 13:29\" sec=\"Nehemiah 13:29\">prep</a></span> <span class=\"gloss\">upon</span></div>\n",
       "\n",
       "\n",
       "</div>\n",
       "\n",
       "<div class=\"word \" style=\"background-color: None;\">\n",
       "<div class=\"h\"><a target=\"_blank\" href=\"https://shebanq.ancient-data.org/hebrew/word?version=c&id=1GALJMn\" title=\"show this lexeme in SHEBANQ\">גָּאֳלֵ֣י </a></div>\n",
       "<div class=\"features\"> <span class=\"pdp\"><a href=\"https://shebanq.ancient-data.org/hebrew/text?book=Nehemia&chapter=13&verse=29&version=c&mr=m&qw=q&tp=txt_p&tr=hb&wget=v&qget=v&nget=vt\" title=\"Nehemiah 13:29\" sec=\"Nehemiah 13:29\">subs</a></span> <span class=\"gloss\">defilement</span></div>\n",
       "\n",
       "\n",
       "</div>\n",
       "\n",
       "<div class=\"word \" style=\"background-color: None;\">\n",
       "<div class=\"h\"><a target=\"_blank\" href=\"https://shebanq.ancient-data.org/hebrew/word?version=c&id=1H\" title=\"show this lexeme in SHEBANQ\">הַ</a></div>\n",
       "<div class=\"features\"> <span class=\"pdp\"><a href=\"https://shebanq.ancient-data.org/hebrew/text?book=Nehemia&chapter=13&verse=29&version=c&mr=m&qw=q&tp=txt_p&tr=hb&wget=v&qget=v&nget=vt\" title=\"Nehemiah 13:29\" sec=\"Nehemiah 13:29\">art</a></span> <span class=\"gloss\">the</span></div>\n",
       "\n",
       "\n",
       "</div>\n",
       "\n",
       "<div class=\"word \" style=\"background-color: None;\">\n",
       "<div class=\"h\"><a target=\"_blank\" href=\"https://shebanq.ancient-data.org/hebrew/word?version=c&id=1KHNHn\" title=\"show this lexeme in SHEBANQ\">כְּהֻנָּ֔ה </a></div>\n",
       "<div class=\"features\"> <span class=\"pdp\"><a href=\"https://shebanq.ancient-data.org/hebrew/text?book=Nehemia&chapter=13&verse=29&version=c&mr=m&qw=q&tp=txt_p&tr=hb&wget=v&qget=v&nget=vt\" title=\"Nehemiah 13:29\" sec=\"Nehemiah 13:29\">subs</a></span> <span class=\"gloss\">priesthood</span></div>\n",
       "\n",
       "\n",
       "</div>\n",
       "\n",
       "\n",
       "    </div>\n",
       "\n",
       "\n",
       "</div>\n",
       "\n",
       "<div class=\"patom  r l\" style=\"background-color: None;\">\n",
       "\n",
       "    <div class=\"phrase\">\n",
       "        <a href=\"https://shebanq.ancient-data.org/hebrew/text?book=Nehemia&chapter=13&verse=29&version=c&mr=m&qw=q&tp=txt_p&tr=hb&wget=v&qget=v&nget=vt\" title=\"Nehemiah 13:29\" sec=\"Nehemiah 13:29\">phrase</a>   <span class=\"function\">Cmpl</span> <span class=\"typ\">PP</span>\n",
       "    </div>\n",
       "    <div class=\"atoms\">\n",
       "\n",
       "<div class=\"word \" style=\"background-color: None;\">\n",
       "<div class=\"h\"><a target=\"_blank\" href=\"https://shebanq.ancient-data.org/hebrew/word?version=c&id=1W\" title=\"show this lexeme in SHEBANQ\">וּ</a></div>\n",
       "<div class=\"features\"> <span class=\"pdp\"><a href=\"https://shebanq.ancient-data.org/hebrew/text?book=Nehemia&chapter=13&verse=29&version=c&mr=m&qw=q&tp=txt_p&tr=hb&wget=v&qget=v&nget=vt\" title=\"Nehemiah 13:29\" sec=\"Nehemiah 13:29\">conj</a></span> <span class=\"gloss\">and</span></div>\n",
       "\n",
       "\n",
       "</div>\n",
       "\n",
       "\n",
       "    </div>\n",
       "\n",
       "\n",
       "</div>\n",
       "\n",
       "<div class=\"patom  r\" style=\"background-color: None;\">\n",
       "\n",
       "    <div class=\"phrase\">\n",
       "        <a href=\"https://shebanq.ancient-data.org/hebrew/text?book=Nehemia&chapter=13&verse=29&version=c&mr=m&qw=q&tp=txt_p&tr=hb&wget=v&qget=v&nget=vt\" title=\"Nehemiah 13:29\" sec=\"Nehemiah 13:29\">phrase</a>   <span class=\"function\">Cmpl</span> <span class=\"typ\">PP</span>\n",
       "    </div>\n",
       "    <div class=\"atoms\">\n",
       "\n",
       "<div class=\"word  hl\">\n",
       "<div class=\"h\"><a target=\"_blank\" href=\"https://shebanq.ancient-data.org/hebrew/word?version=c&id=1BRJTn\" title=\"show this lexeme in SHEBANQ\">בְרִ֥ית </a></div>\n",
       "<div class=\"features\"> <span class=\"pdp\"><a href=\"https://shebanq.ancient-data.org/hebrew/text?book=Nehemia&chapter=13&verse=29&version=c&mr=m&qw=q&tp=txt_p&tr=hb&wget=v&qget=v&nget=vt\" title=\"Nehemiah 13:29\" sec=\"Nehemiah 13:29\">subs</a></span> <span class=\"gloss\">covenant</span></div>\n",
       "\n",
       "\n",
       "</div>\n",
       "\n",
       "<div class=\"word \" style=\"background-color: None;\">\n",
       "<div class=\"h\"><a target=\"_blank\" href=\"https://shebanq.ancient-data.org/hebrew/word?version=c&id=1H\" title=\"show this lexeme in SHEBANQ\">הַ</a></div>\n",
       "<div class=\"features\"> <span class=\"pdp\"><a href=\"https://shebanq.ancient-data.org/hebrew/text?book=Nehemia&chapter=13&verse=29&version=c&mr=m&qw=q&tp=txt_p&tr=hb&wget=v&qget=v&nget=vt\" title=\"Nehemiah 13:29\" sec=\"Nehemiah 13:29\">art</a></span> <span class=\"gloss\">the</span></div>\n",
       "\n",
       "\n",
       "</div>\n",
       "\n",
       "<div class=\"word \" style=\"background-color: None;\">\n",
       "<div class=\"h\"><a target=\"_blank\" href=\"https://shebanq.ancient-data.org/hebrew/word?version=c&id=1KHNHn\" title=\"show this lexeme in SHEBANQ\">כְּהֻנָּ֖ה </a></div>\n",
       "<div class=\"features\"> <span class=\"pdp\"><a href=\"https://shebanq.ancient-data.org/hebrew/text?book=Nehemia&chapter=13&verse=29&version=c&mr=m&qw=q&tp=txt_p&tr=hb&wget=v&qget=v&nget=vt\" title=\"Nehemiah 13:29\" sec=\"Nehemiah 13:29\">subs</a></span> <span class=\"gloss\">priesthood</span></div>\n",
       "\n",
       "\n",
       "</div>\n",
       "\n",
       "<div class=\"word \" style=\"background-color: None;\">\n",
       "<div class=\"h\"><a target=\"_blank\" href=\"https://shebanq.ancient-data.org/hebrew/word?version=c&id=1W\" title=\"show this lexeme in SHEBANQ\">וְ</a></div>\n",
       "<div class=\"features\"> <span class=\"pdp\"><a href=\"https://shebanq.ancient-data.org/hebrew/text?book=Nehemia&chapter=13&verse=29&version=c&mr=m&qw=q&tp=txt_p&tr=hb&wget=v&qget=v&nget=vt\" title=\"Nehemiah 13:29\" sec=\"Nehemiah 13:29\">conj</a></span> <span class=\"gloss\">and</span></div>\n",
       "\n",
       "\n",
       "</div>\n",
       "\n",
       "<div class=\"word \" style=\"background-color: None;\">\n",
       "<div class=\"h\"><a target=\"_blank\" href=\"https://shebanq.ancient-data.org/hebrew/word?version=c&id=1H\" title=\"show this lexeme in SHEBANQ\">הַ</a></div>\n",
       "<div class=\"features\"> <span class=\"pdp\"><a href=\"https://shebanq.ancient-data.org/hebrew/text?book=Nehemia&chapter=13&verse=29&version=c&mr=m&qw=q&tp=txt_p&tr=hb&wget=v&qget=v&nget=vt\" title=\"Nehemiah 13:29\" sec=\"Nehemiah 13:29\">art</a></span> <span class=\"gloss\">the</span></div>\n",
       "\n",
       "\n",
       "</div>\n",
       "\n",
       "<div class=\"word \" style=\"background-color: None;\">\n",
       "<div class=\"h\"><a target=\"_blank\" href=\"https://shebanq.ancient-data.org/hebrew/word?version=c&id=1LWJn\" title=\"show this lexeme in SHEBANQ\">לְוִיִּֽם׃ </a></div>\n",
       "<div class=\"features\"> <span class=\"pdp\"><a href=\"https://shebanq.ancient-data.org/hebrew/text?book=Nehemia&chapter=13&verse=29&version=c&mr=m&qw=q&tp=txt_p&tr=hb&wget=v&qget=v&nget=vt\" title=\"Nehemiah 13:29\" sec=\"Nehemiah 13:29\">subs</a></span> <span class=\"gloss\">Levite</span></div>\n",
       "\n",
       "\n",
       "</div>\n",
       "\n",
       "\n",
       "    </div>\n",
       "\n",
       "\n",
       "</div>\n",
       "\n",
       "\n",
       "</div>\n"
      ],
      "text/plain": [
       "<IPython.core.display.HTML object>"
      ]
     },
     "metadata": {},
     "output_type": "display_data"
    },
    {
     "data": {
      "text/markdown": [
       "\n",
       "\n",
       "**phrase** *19*\n",
       "\n"
      ],
      "text/plain": [
       "<IPython.core.display.Markdown object>"
      ]
     },
     "metadata": {},
     "output_type": "display_data"
    },
    {
     "data": {
      "text/html": [
       "<div class=\"atoms \" style=\"background-color: None;\">\n",
       "\n",
       "\n",
       "\n",
       "<div class=\"patom \" style=\"background-color: None;\">\n",
       "\n",
       "    <div class=\"phrase\">\n",
       "        <a href=\"https://shebanq.ancient-data.org/hebrew/text?book=Chronica_I&chapter=5&verse=18&version=c&mr=m&qw=q&tp=txt_p&tr=hb&wget=v&qget=v&nget=vt\" title=\"1_Chronicles 5:18\" sec=\"1_Chronicles 5:18\">phrase</a>   <span class=\"function\">Adju</span> <span class=\"typ\">NP</span>\n",
       "    </div>\n",
       "    <div class=\"atoms\">\n",
       "\n",
       "<div class=\"word  hl\">\n",
       "<div class=\"h\"><a target=\"_blank\" href=\"https://shebanq.ancient-data.org/hebrew/word?version=c&id=1ARBOn\" title=\"show this lexeme in SHEBANQ\">אַרְבָּעִ֨ים </a></div>\n",
       "<div class=\"features\"> <span class=\"pdp\"><a href=\"https://shebanq.ancient-data.org/hebrew/text?book=Chronica_I&chapter=5&verse=18&version=c&mr=m&qw=q&tp=txt_p&tr=hb&wget=v&qget=v&nget=vt\" title=\"1_Chronicles 5:18\" sec=\"1_Chronicles 5:18\">subs</a></span> <span class=\"gloss\">four</span></div>\n",
       "\n",
       "\n",
       "</div>\n",
       "\n",
       "<div class=\"word \" style=\"background-color: None;\">\n",
       "<div class=\"h\"><a target=\"_blank\" href=\"https://shebanq.ancient-data.org/hebrew/word?version=c&id=1W\" title=\"show this lexeme in SHEBANQ\">וְ</a></div>\n",
       "<div class=\"features\"> <span class=\"pdp\"><a href=\"https://shebanq.ancient-data.org/hebrew/text?book=Chronica_I&chapter=5&verse=18&version=c&mr=m&qw=q&tp=txt_p&tr=hb&wget=v&qget=v&nget=vt\" title=\"1_Chronicles 5:18\" sec=\"1_Chronicles 5:18\">conj</a></span> <span class=\"gloss\">and</span></div>\n",
       "\n",
       "\n",
       "</div>\n",
       "\n",
       "<div class=\"word  hl\">\n",
       "<div class=\"h\"><a target=\"_blank\" href=\"https://shebanq.ancient-data.org/hebrew/word?version=c&id=1ARBOn\" title=\"show this lexeme in SHEBANQ\">אַרְבָּעָ֥ה </a></div>\n",
       "<div class=\"features\"> <span class=\"pdp\"><a href=\"https://shebanq.ancient-data.org/hebrew/text?book=Chronica_I&chapter=5&verse=18&version=c&mr=m&qw=q&tp=txt_p&tr=hb&wget=v&qget=v&nget=vt\" title=\"1_Chronicles 5:18\" sec=\"1_Chronicles 5:18\">subs</a></span> <span class=\"gloss\">four</span></div>\n",
       "\n",
       "\n",
       "</div>\n",
       "\n",
       "<div class=\"word \" style=\"background-color: None;\">\n",
       "<div class=\"h\"><a target=\"_blank\" href=\"https://shebanq.ancient-data.org/hebrew/word?version=c&id=1ALPin\" title=\"show this lexeme in SHEBANQ\">אֶ֛לֶף </a></div>\n",
       "<div class=\"features\"> <span class=\"pdp\"><a href=\"https://shebanq.ancient-data.org/hebrew/text?book=Chronica_I&chapter=5&verse=18&version=c&mr=m&qw=q&tp=txt_p&tr=hb&wget=v&qget=v&nget=vt\" title=\"1_Chronicles 5:18\" sec=\"1_Chronicles 5:18\">subs</a></span> <span class=\"gloss\">thousand</span></div>\n",
       "\n",
       "\n",
       "</div>\n",
       "\n",
       "<div class=\"word \" style=\"background-color: None;\">\n",
       "<div class=\"h\"><a target=\"_blank\" href=\"https://shebanq.ancient-data.org/hebrew/word?version=c&id=1W\" title=\"show this lexeme in SHEBANQ\">וּ</a></div>\n",
       "<div class=\"features\"> <span class=\"pdp\"><a href=\"https://shebanq.ancient-data.org/hebrew/text?book=Chronica_I&chapter=5&verse=18&version=c&mr=m&qw=q&tp=txt_p&tr=hb&wget=v&qget=v&nget=vt\" title=\"1_Chronicles 5:18\" sec=\"1_Chronicles 5:18\">conj</a></span> <span class=\"gloss\">and</span></div>\n",
       "\n",
       "\n",
       "</div>\n",
       "\n",
       "<div class=\"word  hl\">\n",
       "<div class=\"h\"><a target=\"_blank\" href=\"https://shebanq.ancient-data.org/hebrew/word?version=c&id=1CBOn\" title=\"show this lexeme in SHEBANQ\">שְׁבַע־</a></div>\n",
       "<div class=\"features\"> <span class=\"pdp\"><a href=\"https://shebanq.ancient-data.org/hebrew/text?book=Chronica_I&chapter=5&verse=18&version=c&mr=m&qw=q&tp=txt_p&tr=hb&wget=v&qget=v&nget=vt\" title=\"1_Chronicles 5:18\" sec=\"1_Chronicles 5:18\">subs</a></span> <span class=\"gloss\">seven</span></div>\n",
       "\n",
       "\n",
       "</div>\n",
       "\n",
       "<div class=\"word \" style=\"background-color: None;\">\n",
       "<div class=\"h\"><a target=\"_blank\" href=\"https://shebanq.ancient-data.org/hebrew/word?version=c&id=1MAHn\" title=\"show this lexeme in SHEBANQ\">מֵאֹ֥ות </a></div>\n",
       "<div class=\"features\"> <span class=\"pdp\"><a href=\"https://shebanq.ancient-data.org/hebrew/text?book=Chronica_I&chapter=5&verse=18&version=c&mr=m&qw=q&tp=txt_p&tr=hb&wget=v&qget=v&nget=vt\" title=\"1_Chronicles 5:18\" sec=\"1_Chronicles 5:18\">subs</a></span> <span class=\"gloss\">hundred</span></div>\n",
       "\n",
       "\n",
       "</div>\n",
       "\n",
       "<div class=\"word \" style=\"background-color: None;\">\n",
       "<div class=\"h\"><a target=\"_blank\" href=\"https://shebanq.ancient-data.org/hebrew/word?version=c&id=1W\" title=\"show this lexeme in SHEBANQ\">וְ</a></div>\n",
       "<div class=\"features\"> <span class=\"pdp\"><a href=\"https://shebanq.ancient-data.org/hebrew/text?book=Chronica_I&chapter=5&verse=18&version=c&mr=m&qw=q&tp=txt_p&tr=hb&wget=v&qget=v&nget=vt\" title=\"1_Chronicles 5:18\" sec=\"1_Chronicles 5:18\">conj</a></span> <span class=\"gloss\">and</span></div>\n",
       "\n",
       "\n",
       "</div>\n",
       "\n",
       "<div class=\"word  hl\">\n",
       "<div class=\"h\"><a target=\"_blank\" href=\"https://shebanq.ancient-data.org/hebrew/word?version=c&id=1CCn\" title=\"show this lexeme in SHEBANQ\">שִׁשִּׁ֖ים </a></div>\n",
       "<div class=\"features\"> <span class=\"pdp\"><a href=\"https://shebanq.ancient-data.org/hebrew/text?book=Chronica_I&chapter=5&verse=18&version=c&mr=m&qw=q&tp=txt_p&tr=hb&wget=v&qget=v&nget=vt\" title=\"1_Chronicles 5:18\" sec=\"1_Chronicles 5:18\">subs</a></span> <span class=\"gloss\">six</span></div>\n",
       "\n",
       "\n",
       "</div>\n",
       "\n",
       "\n",
       "    </div>\n",
       "\n",
       "\n",
       "</div>\n",
       "\n",
       "\n",
       "</div>\n"
      ],
      "text/plain": [
       "<IPython.core.display.HTML object>"
      ]
     },
     "metadata": {},
     "output_type": "display_data"
    },
    {
     "data": {
      "text/markdown": [
       "\n",
       "\n",
       "**phrase** *20*\n",
       "\n"
      ],
      "text/plain": [
       "<IPython.core.display.Markdown object>"
      ]
     },
     "metadata": {},
     "output_type": "display_data"
    },
    {
     "data": {
      "text/html": [
       "<div class=\"atoms \" style=\"background-color: None;\">\n",
       "\n",
       "\n",
       "\n",
       "<div class=\"patom \" style=\"background-color: None;\">\n",
       "\n",
       "    <div class=\"phrase\">\n",
       "        <a href=\"https://shebanq.ancient-data.org/hebrew/text?book=Chronica_I&chapter=16&verse=3&version=c&mr=m&qw=q&tp=txt_p&tr=hb&wget=v&qget=v&nget=vt\" title=\"1_Chronicles 16:3\" sec=\"1_Chronicles 16:3\">phrase</a>   <span class=\"function\">Objc</span> <span class=\"typ\">NP</span>\n",
       "    </div>\n",
       "    <div class=\"atoms\">\n",
       "\n",
       "<div class=\"word  hl\">\n",
       "<div class=\"h\"><a target=\"_blank\" href=\"https://shebanq.ancient-data.org/hebrew/word?version=c&id=1KKRn\" title=\"show this lexeme in SHEBANQ\">כִּכַּר־</a></div>\n",
       "<div class=\"features\"> <span class=\"pdp\"><a href=\"https://shebanq.ancient-data.org/hebrew/text?book=Chronica_I&chapter=16&verse=3&version=c&mr=m&qw=q&tp=txt_p&tr=hb&wget=v&qget=v&nget=vt\" title=\"1_Chronicles 16:3\" sec=\"1_Chronicles 16:3\">subs</a></span> <span class=\"gloss\">disk</span></div>\n",
       "\n",
       "\n",
       "</div>\n",
       "\n",
       "<div class=\"word \" style=\"background-color: None;\">\n",
       "<div class=\"h\"><a target=\"_blank\" href=\"https://shebanq.ancient-data.org/hebrew/word?version=c&id=1LXMn\" title=\"show this lexeme in SHEBANQ\">לֶ֔חֶם </a></div>\n",
       "<div class=\"features\"> <span class=\"pdp\"><a href=\"https://shebanq.ancient-data.org/hebrew/text?book=Chronica_I&chapter=16&verse=3&version=c&mr=m&qw=q&tp=txt_p&tr=hb&wget=v&qget=v&nget=vt\" title=\"1_Chronicles 16:3\" sec=\"1_Chronicles 16:3\">subs</a></span> <span class=\"gloss\">bread</span></div>\n",
       "\n",
       "\n",
       "</div>\n",
       "\n",
       "<div class=\"word \" style=\"background-color: None;\">\n",
       "<div class=\"h\"><a target=\"_blank\" href=\"https://shebanq.ancient-data.org/hebrew/word?version=c&id=1W\" title=\"show this lexeme in SHEBANQ\">וְ</a></div>\n",
       "<div class=\"features\"> <span class=\"pdp\"><a href=\"https://shebanq.ancient-data.org/hebrew/text?book=Chronica_I&chapter=16&verse=3&version=c&mr=m&qw=q&tp=txt_p&tr=hb&wget=v&qget=v&nget=vt\" title=\"1_Chronicles 16:3\" sec=\"1_Chronicles 16:3\">conj</a></span> <span class=\"gloss\">and</span></div>\n",
       "\n",
       "\n",
       "</div>\n",
       "\n",
       "<div class=\"word  hl\">\n",
       "<div class=\"h\"><a target=\"_blank\" href=\"https://shebanq.ancient-data.org/hebrew/word?version=c&id=1ACPRn\" title=\"show this lexeme in SHEBANQ\">אֶשְׁפָּ֖ר </a></div>\n",
       "<div class=\"features\"> <span class=\"pdp\"><a href=\"https://shebanq.ancient-data.org/hebrew/text?book=Chronica_I&chapter=16&verse=3&version=c&mr=m&qw=q&tp=txt_p&tr=hb&wget=v&qget=v&nget=vt\" title=\"1_Chronicles 16:3\" sec=\"1_Chronicles 16:3\">subs</a></span> <span class=\"gloss\">&lt;type of cake></span></div>\n",
       "\n",
       "\n",
       "</div>\n",
       "\n",
       "<div class=\"word \" style=\"background-color: None;\">\n",
       "<div class=\"h\"><a target=\"_blank\" href=\"https://shebanq.ancient-data.org/hebrew/word?version=c&id=1W\" title=\"show this lexeme in SHEBANQ\">וַ</a></div>\n",
       "<div class=\"features\"> <span class=\"pdp\"><a href=\"https://shebanq.ancient-data.org/hebrew/text?book=Chronica_I&chapter=16&verse=3&version=c&mr=m&qw=q&tp=txt_p&tr=hb&wget=v&qget=v&nget=vt\" title=\"1_Chronicles 16:3\" sec=\"1_Chronicles 16:3\">conj</a></span> <span class=\"gloss\">and</span></div>\n",
       "\n",
       "\n",
       "</div>\n",
       "\n",
       "<div class=\"word  hl\">\n",
       "<div class=\"h\"><a target=\"_blank\" href=\"https://shebanq.ancient-data.org/hebrew/word?version=c&id=1ACJCHn\" title=\"show this lexeme in SHEBANQ\">אֲשִׁישָֽׁה׃ </a></div>\n",
       "<div class=\"features\"> <span class=\"pdp\"><a href=\"https://shebanq.ancient-data.org/hebrew/text?book=Chronica_I&chapter=16&verse=3&version=c&mr=m&qw=q&tp=txt_p&tr=hb&wget=v&qget=v&nget=vt\" title=\"1_Chronicles 16:3\" sec=\"1_Chronicles 16:3\">subs</a></span> <span class=\"gloss\">raisin cake</span></div>\n",
       "\n",
       "\n",
       "</div>\n",
       "\n",
       "\n",
       "    </div>\n",
       "\n",
       "\n",
       "</div>\n",
       "\n",
       "\n",
       "</div>\n"
      ],
      "text/plain": [
       "<IPython.core.display.HTML object>"
      ]
     },
     "metadata": {},
     "output_type": "display_data"
    }
   ],
   "source": [
    "B.show(examples[:20], condenseType=\"phrase\")  # uncomment me"
   ]
  },
  {
   "cell_type": "markdown",
   "metadata": {},
   "source": [
    "## Data Discovery\n",
    "\n",
    "The queries which follow were written at different times during the code construction for the heads algorithm.\n",
    "\n",
    "In this section, important questions were asked whose answers are needed to ensure the code is written correctly. The BHSA data is queried to answer them. These are questions like, \"Do we need to check for relational independency for only noun phrases?\" (no); and \"does every phrase type have a word with a corresponding `pdp`?\" (no).\n",
    "\n",
    "### Make definitions available for exploration:"
   ]
  },
  {
   "cell_type": "code",
   "execution_count": 9,
   "metadata": {
    "lines_to_next_cell": 2
   },
   "outputs": [],
   "source": [
    "# mapping from phrase type to its head part of speech\n",
    "type_to_pdp = {\n",
    "    \"VP\": \"verb\",  # verb\n",
    "    \"NP\": \"subs\",  # noun\n",
    "    \"PrNP\": \"nmpr\",  # proper-noun\n",
    "    \"AdvP\": \"advb\",  # adverbial\n",
    "    \"PP\": \"prep\",  # prepositional\n",
    "    \"CP\": \"conj\",  # conjunctive\n",
    "    \"PPrP\": \"prps\",  # personal pronoun\n",
    "    \"DPrP\": \"prde\",  # demonstrative pronoun\n",
    "    \"IPrP\": \"prin\",  # interrogative pronoun\n",
    "    \"InjP\": \"intj\",  # interjectional\n",
    "    \"NegP\": \"nega\",  # negative\n",
    "    \"InrP\": \"inrg\",  # interrogative\n",
    "    \"AdjP\": \"adjv\",\n",
    "}  # adjective"
   ]
  },
  {
   "cell_type": "markdown",
   "metadata": {
    "lines_to_next_cell": 2
   },
   "source": [
    "### Test for non-NP phrases with valid `pdp` but invalid head\n",
    "\n",
    "These tests demonstrate that subphrase relation checks are also needed for phrase types besides noun phrases. The only valid subphrase/phrase_atom relations for any potential head word is either `NA` or `par`/`Para`. While a few phrase types do not need additional relational checks, e.g. personal pronoun phrases, we can go ahead and consistently handle all phrases in the same way.\n",
    "\n",
    "The only exception to the above rule is the `VP`, for which there are 14 cases of the `VP`'s head word (verb) that is also in a subphrase with a regens (`rec`) relation.\n",
    "\n",
    "The operational question of these tests was:\n",
    "> Are there cases in which a non-NP phrase(atom) contains a word with the corresponding `pdp` value, but which is probably not a head?\n",
    "\n",
    "To answer the question, we first survey all cases where the phrase type's head candidate is in a subphrase with a relation that is not normally \"independent.\" Based on the survey, we manually check the most pertinent phrase types and results. The tests reveal that, indeed, relation checks are needed for many phrase types."
   ]
  },
  {
   "cell_type": "code",
   "execution_count": 15,
   "metadata": {},
   "outputs": [],
   "source": [
    "def test_pdp_safe(phrase_object=\"phrase_atom\"):\n",
    "\n",
    "    \"\"\"\n",
    "    Make a survey of phrase types and their matching `pdp` words,\n",
    "    count what kinds of subphrase relations these words\n",
    "    occurr in. The survey can then be used to investigate\n",
    "    whether phrase types besides noun phrases require relationship\n",
    "    checks for independency.\n",
    "    \"\"\"\n",
    "\n",
    "    pdp_relas_survey = collections.defaultdict(lambda: collections.Counter())\n",
    "    headless = 0\n",
    "\n",
    "    for phrase in F.otype.s(phrase_object):\n",
    "\n",
    "        typ = F.typ.v(phrase)  # phrase type\n",
    "\n",
    "        head_pdp = type_to_pdp[typ]\n",
    "\n",
    "        maybe_heads = [w for w in L.d(phrase, \"word\") if F.pdp.v(w) == head_pdp]\n",
    "\n",
    "        # this check shows that many\n",
    "        # phrases don't have a word\n",
    "        # with a corresponding pdp!\n",
    "        if not maybe_heads:\n",
    "            headless += 1\n",
    "\n",
    "        # survey the candidate heads' relations\n",
    "        for word in maybe_heads:\n",
    "\n",
    "            head_name = typ + \"|\" + head_pdp\n",
    "            subphrases = L.u(word, \"subphrase\")\n",
    "            sp_relas = (\n",
    "                set(F.rela.v(sp) for sp in subphrases) if subphrases else {\"NA\"}\n",
    "            )  # <- handle cases without any subphrases (i.e. verbs)\n",
    "\n",
    "            pdp_relas_survey[head_name].update(sp_relas)\n",
    "\n",
    "    print(f\"{phrase_object}s without matching pdp: {headless}\\n\")\n",
    "    print(\"subphrase relation survey: \")\n",
    "    for name, rela_counts in pdp_relas_survey.items():\n",
    "\n",
    "        print(name)\n",
    "\n",
    "        for r, count in rela_counts.items():\n",
    "            print(\"\\t\", r, \"-\", count)"
   ]
  },
  {
   "cell_type": "code",
   "execution_count": 16,
   "metadata": {},
   "outputs": [
    {
     "name": "stdout",
     "output_type": "stream",
     "text": [
      "phrase_atoms without matching pdp: 847\n",
      "\n",
      "subphrase relation survey: \n",
      "PP|prep\n",
      "\t NA - 64521\n",
      "\t par - 3824\n",
      "\t adj - 42\n",
      "\t rec - 8\n",
      "VP|verb\n",
      "\t NA - 69010\n",
      "\t rec - 14\n",
      "\t par - 1\n",
      "NP|subs\n",
      "\t NA - 53881\n",
      "\t par - 5868\n",
      "\t rec - 11628\n",
      "\t adj - 2936\n",
      "\t atr - 69\n",
      "CP|conj\n",
      "\t NA - 53859\n",
      "AdvP|advb\n",
      "\t NA - 5131\n",
      "\t par - 102\n",
      "\t mod - 49\n",
      "\t adj - 1\n",
      "AdjP|adjv\n",
      "\t NA - 1848\n",
      "\t par - 135\n",
      "\t atr - 5\n",
      "\t adj - 3\n",
      "\t rec - 1\n",
      "InjP|intj\n",
      "\t NA - 1872\n",
      "\t par - 11\n",
      "DPrP|prde\n",
      "\t NA - 790\n",
      "PrNP|nmpr\n",
      "\t NA - 11794\n",
      "\t par - 1478\n",
      "\t adj - 210\n",
      "\t rec - 83\n",
      "NegP|nega\n",
      "\t NA - 6742\n",
      "PPrP|prps\n",
      "\t NA - 4468\n",
      "\t par - 9\n",
      "IPrP|prin\n",
      "\t NA - 797\n",
      "\t par - 1\n",
      "InrP|inrg\n",
      "\t NA - 1288\n",
      "\t par - 3\n"
     ]
    }
   ],
   "source": [
    "# for phrase_atoms\n",
    "test_pdp_safe()"
   ]
  },
  {
   "cell_type": "code",
   "execution_count": 17,
   "metadata": {
    "lines_to_next_cell": 2
   },
   "outputs": [
    {
     "name": "stdout",
     "output_type": "stream",
     "text": [
      "phrases without matching pdp: 679\n",
      "\n",
      "subphrase relation survey: \n",
      "PP|prep\n",
      "\t NA - 62315\n",
      "\t par - 3678\n",
      "\t adj - 42\n",
      "\t rec - 9\n",
      "VP|verb\n",
      "\t NA - 69010\n",
      "\t rec - 14\n",
      "\t par - 1\n",
      "NP|subs\n",
      "\t NA - 50092\n",
      "\t par - 5808\n",
      "\t rec - 11214\n",
      "\t adj - 2927\n",
      "\t atr - 51\n",
      "CP|conj\n",
      "\t NA - 52544\n",
      "AdvP|advb\n",
      "\t NA - 5083\n",
      "\t par - 101\n",
      "\t mod - 46\n",
      "\t adj - 1\n",
      "AdjP|adjv\n",
      "\t NA - 1800\n",
      "\t par - 118\n",
      "\t atr - 5\n",
      "\t adj - 3\n",
      "\t rec - 1\n",
      "InjP|intj\n",
      "\t NA - 1872\n",
      "\t par - 11\n",
      "DPrP|prde\n",
      "\t NA - 791\n",
      "PrNP|nmpr\n",
      "\t NA - 11138\n",
      "\t par - 1380\n",
      "\t rec - 1267\n",
      "\t adj - 209\n",
      "NegP|nega\n",
      "\t NA - 6742\n",
      "PPrP|prps\n",
      "\t NA - 4388\n",
      "\t par - 9\n",
      "IPrP|prin\n",
      "\t NA - 797\n",
      "\t par - 1\n",
      "InrP|inrg\n",
      "\t NA - 1288\n",
      "\t par - 3\n"
     ]
    }
   ],
   "source": [
    "# and for phrases\n",
    "test_pdp_safe(phrase_object=\"phrase\")"
   ]
  },
  {
   "cell_type": "markdown",
   "metadata": {
    "lines_to_next_cell": 2
   },
   "source": [
    "^ These surveys tell us that for several of these phrase types, e.g. `InjP`, we can automatically take the word with the `pdp` value that corresponds with its phrase type as the head.\n",
    "\n",
    "There are also quite a few cases where the phrase type does not have a word with a matching `pdp` value: 837 for phrase atoms and 670 for phrases. In the subsequent section we will run tests to find out why this is the case.\n",
    "\n",
    "Back to the question of this section: There are 14 examples of `VP` with verbs that have a `rec` (nomen regens) relation. Are these heads or not? We check now..."
   ]
  },
  {
   "cell_type": "code",
   "execution_count": 31,
   "metadata": {
    "lines_to_next_cell": 2
   },
   "outputs": [],
   "source": [
    "def find_and_show(search_pattern):\n",
    "    results = sorted(B.search(search_pattern))\n",
    "    print(len(results), \"results\")\n",
    "    B.show(results, end=20, condenseType=\"phrase\", withNodes=True)"
   ]
  },
  {
   "cell_type": "code",
   "execution_count": 32,
   "metadata": {},
   "outputs": [
    {
     "name": "stdout",
     "output_type": "stream",
     "text": [
      "  0.86s 14 results\n",
      "14 results\n"
     ]
    },
    {
     "data": {
      "text/markdown": [
       "\n",
       "\n",
       "**phrase** *1*\n",
       "\n"
      ],
      "text/plain": [
       "<IPython.core.display.Markdown object>"
      ]
     },
     "metadata": {},
     "output_type": "display_data"
    },
    {
     "data": {
      "text/html": [
       "<div class=\"atoms \" style=\"background-color: None;\">\n",
       "<a href=\"#\" class=\"nd\">664760</a>\n",
       "\n",
       "\n",
       "\n",
       "<div class=\"patom  hl\">\n",
       "\n",
       "    <div class=\"phrase\">\n",
       "        <a href=\"https://shebanq.ancient-data.org/hebrew/text?book=Genesis&chapter=38&verse=27&version=c&mr=m&qw=q&tp=txt_p&tr=hb&wget=v&qget=v&nget=vt\" title=\"Genesis 38:27\" sec=\"Genesis 38:27\">phrase</a> <a href=\"#\" class=\"nd\">664760</a>  <span class=\"function\">PreS</span> <span class=\"typ\">VP</span>\n",
       "    </div>\n",
       "    <div class=\"atoms\">\n",
       "\n",
       "<div class=\"word \" style=\"background-color: None;\">\n",
       "<a href=\"#\" class=\"nd\">21355</a>\n",
       "<div class=\"h\"><a target=\"_blank\" href=\"https://shebanq.ancient-data.org/hebrew/word?version=c&id=1B\" title=\"show this lexeme in SHEBANQ\">בְּ</a></div>\n",
       "<div class=\"features\"> <span class=\"pdp\"><a href=\"https://shebanq.ancient-data.org/hebrew/text?book=Genesis&chapter=38&verse=27&version=c&mr=m&qw=q&tp=txt_p&tr=hb&wget=v&qget=v&nget=vt\" title=\"Genesis 38:27\" sec=\"Genesis 38:27\">prep</a></span> <span class=\"gloss\">in</span></div>\n",
       "\n",
       "\n",
       "</div>\n",
       "\n",
       "<div class=\"word \" style=\"background-color: None;\">\n",
       "<a href=\"#\" class=\"nd\">21356</a>\n",
       "<div class=\"h\"><a target=\"_blank\" href=\"https://shebanq.ancient-data.org/hebrew/word?version=c&id=1OTn\" title=\"show this lexeme in SHEBANQ\">עֵ֣ת </a></div>\n",
       "<div class=\"features\"> <span class=\"pdp\"><a href=\"https://shebanq.ancient-data.org/hebrew/text?book=Genesis&chapter=38&verse=27&version=c&mr=m&qw=q&tp=txt_p&tr=hb&wget=v&qget=v&nget=vt\" title=\"Genesis 38:27\" sec=\"Genesis 38:27\">subs</a></span> <span class=\"gloss\">time</span></div>\n",
       "\n",
       "\n",
       "</div>\n",
       "\n",
       "<div class=\"word  hl\">\n",
       "<a href=\"#\" class=\"nd\">21357</a>\n",
       "<div class=\"h\"><a target=\"_blank\" href=\"https://shebanq.ancient-data.org/hebrew/word?version=c&id=1JLDv\" title=\"show this lexeme in SHEBANQ\">לִדְתָּ֑הּ </a></div>\n",
       "<div class=\"features\"> <span class=\"pdp\"><a href=\"https://shebanq.ancient-data.org/hebrew/text?book=Genesis&chapter=38&verse=27&version=c&mr=m&qw=q&tp=txt_p&tr=hb&wget=v&qget=v&nget=vt\" title=\"Genesis 38:27\" sec=\"Genesis 38:27\">verb</a></span> <span class=\"gloss\">bear</span> <span class=\"vs\">qal</span> <span class=\"vt\">infc</span></div>\n",
       "\n",
       "\n",
       "</div>\n",
       "\n",
       "\n",
       "    </div>\n",
       "\n",
       "\n",
       "</div>\n",
       "\n",
       "\n",
       "</div>\n"
      ],
      "text/plain": [
       "<IPython.core.display.HTML object>"
      ]
     },
     "metadata": {},
     "output_type": "display_data"
    },
    {
     "data": {
      "text/markdown": [
       "\n",
       "\n",
       "**phrase** *2*\n",
       "\n"
      ],
      "text/plain": [
       "<IPython.core.display.Markdown object>"
      ]
     },
     "metadata": {},
     "output_type": "display_data"
    },
    {
     "data": {
      "text/html": [
       "<div class=\"atoms \" style=\"background-color: None;\">\n",
       "<a href=\"#\" class=\"nd\">672346</a>\n",
       "\n",
       "\n",
       "\n",
       "<div class=\"patom  hl\">\n",
       "\n",
       "    <div class=\"phrase\">\n",
       "        <a href=\"https://shebanq.ancient-data.org/hebrew/text?book=Exodus&chapter=9&verse=16&version=c&mr=m&qw=q&tp=txt_p&tr=hb&wget=v&qget=v&nget=vt\" title=\"Exodus 9:16\" sec=\"Exodus 9:16\">phrase</a> <a href=\"#\" class=\"nd\">672346</a>  <span class=\"function\">PreS</span> <span class=\"typ\">VP</span>\n",
       "    </div>\n",
       "    <div class=\"atoms\">\n",
       "\n",
       "<div class=\"word \" style=\"background-color: None;\">\n",
       "<a href=\"#\" class=\"nd\">33361</a>\n",
       "<div class=\"h\"><a target=\"_blank\" href=\"https://shebanq.ancient-data.org/hebrew/word?version=c&id=1B\" title=\"show this lexeme in SHEBANQ\">בַּ</a></div>\n",
       "<div class=\"features\"> <span class=\"pdp\"><a href=\"https://shebanq.ancient-data.org/hebrew/text?book=Exodus&chapter=9&verse=16&version=c&mr=m&qw=q&tp=txt_p&tr=hb&wget=v&qget=v&nget=vt\" title=\"Exodus 9:16\" sec=\"Exodus 9:16\">prep</a></span> <span class=\"gloss\">in</span></div>\n",
       "\n",
       "\n",
       "</div>\n",
       "\n",
       "<div class=\"word \" style=\"background-color: None;\">\n",
       "<a href=\"#\" class=\"nd\">33362</a>\n",
       "<div class=\"h\"><a target=\"_blank\" href=\"https://shebanq.ancient-data.org/hebrew/word?version=c&id=1OBWRn\" title=\"show this lexeme in SHEBANQ\">עֲב֖וּר </a></div>\n",
       "<div class=\"features\"> <span class=\"pdp\"><a href=\"https://shebanq.ancient-data.org/hebrew/text?book=Exodus&chapter=9&verse=16&version=c&mr=m&qw=q&tp=txt_p&tr=hb&wget=v&qget=v&nget=vt\" title=\"Exodus 9:16\" sec=\"Exodus 9:16\">subs</a></span> <span class=\"gloss\">way</span></div>\n",
       "\n",
       "\n",
       "</div>\n",
       "\n",
       "<div class=\"word  hl\">\n",
       "<a href=\"#\" class=\"nd\">33363</a>\n",
       "<div class=\"h\"><a target=\"_blank\" href=\"https://shebanq.ancient-data.org/hebrew/word?version=c&id=1RAHv\" title=\"show this lexeme in SHEBANQ\">הַרְאֹתְךָ֣ </a></div>\n",
       "<div class=\"features\"> <span class=\"pdp\"><a href=\"https://shebanq.ancient-data.org/hebrew/text?book=Exodus&chapter=9&verse=16&version=c&mr=m&qw=q&tp=txt_p&tr=hb&wget=v&qget=v&nget=vt\" title=\"Exodus 9:16\" sec=\"Exodus 9:16\">verb</a></span> <span class=\"gloss\">see</span> <span class=\"vs\">hif</span> <span class=\"vt\">infc</span></div>\n",
       "\n",
       "\n",
       "</div>\n",
       "\n",
       "\n",
       "    </div>\n",
       "\n",
       "\n",
       "</div>\n",
       "\n",
       "\n",
       "</div>\n"
      ],
      "text/plain": [
       "<IPython.core.display.HTML object>"
      ]
     },
     "metadata": {},
     "output_type": "display_data"
    },
    {
     "data": {
      "text/markdown": [
       "\n",
       "\n",
       "**phrase** *3*\n",
       "\n"
      ],
      "text/plain": [
       "<IPython.core.display.Markdown object>"
      ]
     },
     "metadata": {},
     "output_type": "display_data"
    },
    {
     "data": {
      "text/html": [
       "<div class=\"atoms \" style=\"background-color: None;\">\n",
       "<a href=\"#\" class=\"nd\">691339</a>\n",
       "\n",
       "\n",
       "\n",
       "<div class=\"patom  hl\">\n",
       "\n",
       "    <div class=\"phrase\">\n",
       "        <a href=\"https://shebanq.ancient-data.org/hebrew/text?book=Leviticus&chapter=25&verse=50&version=c&mr=m&qw=q&tp=txt_p&tr=hb&wget=v&qget=v&nget=vt\" title=\"Leviticus 25:50\" sec=\"Leviticus 25:50\">phrase</a> <a href=\"#\" class=\"nd\">691339</a>  <span class=\"function\">PreS</span> <span class=\"typ\">VP</span>\n",
       "    </div>\n",
       "    <div class=\"atoms\">\n",
       "\n",
       "<div class=\"word \" style=\"background-color: None;\">\n",
       "<a href=\"#\" class=\"nd\">68049</a>\n",
       "<div class=\"h\"><a target=\"_blank\" href=\"https://shebanq.ancient-data.org/hebrew/word?version=c&id=1MN\" title=\"show this lexeme in SHEBANQ\">מִ</a></div>\n",
       "<div class=\"features\"> <span class=\"pdp\"><a href=\"https://shebanq.ancient-data.org/hebrew/text?book=Leviticus&chapter=25&verse=50&version=c&mr=m&qw=q&tp=txt_p&tr=hb&wget=v&qget=v&nget=vt\" title=\"Leviticus 25:50\" sec=\"Leviticus 25:50\">prep</a></span> <span class=\"gloss\">from</span></div>\n",
       "\n",
       "\n",
       "</div>\n",
       "\n",
       "<div class=\"word \" style=\"background-color: None;\">\n",
       "<a href=\"#\" class=\"nd\">68050</a>\n",
       "<div class=\"h\"><a target=\"_blank\" href=\"https://shebanq.ancient-data.org/hebrew/word?version=c&id=1CNHn\" title=\"show this lexeme in SHEBANQ\">שְּׁנַת֙ </a></div>\n",
       "<div class=\"features\"> <span class=\"pdp\"><a href=\"https://shebanq.ancient-data.org/hebrew/text?book=Leviticus&chapter=25&verse=50&version=c&mr=m&qw=q&tp=txt_p&tr=hb&wget=v&qget=v&nget=vt\" title=\"Leviticus 25:50\" sec=\"Leviticus 25:50\">subs</a></span> <span class=\"gloss\">year</span></div>\n",
       "\n",
       "\n",
       "</div>\n",
       "\n",
       "<div class=\"word  hl\">\n",
       "<a href=\"#\" class=\"nd\">68051</a>\n",
       "<div class=\"h\"><a target=\"_blank\" href=\"https://shebanq.ancient-data.org/hebrew/word?version=c&id=1MKRv\" title=\"show this lexeme in SHEBANQ\">הִמָּ֣כְרֹו </a></div>\n",
       "<div class=\"features\"> <span class=\"pdp\"><a href=\"https://shebanq.ancient-data.org/hebrew/text?book=Leviticus&chapter=25&verse=50&version=c&mr=m&qw=q&tp=txt_p&tr=hb&wget=v&qget=v&nget=vt\" title=\"Leviticus 25:50\" sec=\"Leviticus 25:50\">verb</a></span> <span class=\"gloss\">sell</span> <span class=\"vs\">nif</span> <span class=\"vt\">infc</span></div>\n",
       "\n",
       "\n",
       "</div>\n",
       "\n",
       "\n",
       "    </div>\n",
       "\n",
       "\n",
       "</div>\n",
       "\n",
       "\n",
       "</div>\n"
      ],
      "text/plain": [
       "<IPython.core.display.HTML object>"
      ]
     },
     "metadata": {},
     "output_type": "display_data"
    },
    {
     "data": {
      "text/markdown": [
       "\n",
       "\n",
       "**phrase** *4*\n",
       "\n"
      ],
      "text/plain": [
       "<IPython.core.display.Markdown object>"
      ]
     },
     "metadata": {},
     "output_type": "display_data"
    },
    {
     "data": {
      "text/html": [
       "<div class=\"atoms \" style=\"background-color: None;\">\n",
       "<a href=\"#\" class=\"nd\">760045</a>\n",
       "\n",
       "\n",
       "\n",
       "<div class=\"patom  hl\">\n",
       "\n",
       "    <div class=\"phrase\">\n",
       "        <a href=\"https://shebanq.ancient-data.org/hebrew/text?book=Reges_I&chapter=14&verse=28&version=c&mr=m&qw=q&tp=txt_p&tr=hb&wget=v&qget=v&nget=vt\" title=\"1_Kings 14:28\" sec=\"1_Kings 14:28\">phrase</a> <a href=\"#\" class=\"nd\">760045</a>  <span class=\"function\">Pred</span> <span class=\"typ\">VP</span>\n",
       "    </div>\n",
       "    <div class=\"atoms\">\n",
       "\n",
       "<div class=\"word \" style=\"background-color: None;\">\n",
       "<a href=\"#\" class=\"nd\">188292</a>\n",
       "<div class=\"h\"><a target=\"_blank\" href=\"https://shebanq.ancient-data.org/hebrew/word?version=c&id=1MN\" title=\"show this lexeme in SHEBANQ\">מִ</a></div>\n",
       "<div class=\"features\"> <span class=\"pdp\"><a href=\"https://shebanq.ancient-data.org/hebrew/text?book=Reges_I&chapter=14&verse=28&version=c&mr=m&qw=q&tp=txt_p&tr=hb&wget=v&qget=v&nget=vt\" title=\"1_Kings 14:28\" sec=\"1_Kings 14:28\">prep</a></span> <span class=\"gloss\">from</span></div>\n",
       "\n",
       "\n",
       "</div>\n",
       "\n",
       "<div class=\"word \" style=\"background-color: None;\">\n",
       "<a href=\"#\" class=\"nd\">188293</a>\n",
       "<div class=\"h\"><a target=\"_blank\" href=\"https://shebanq.ancient-data.org/hebrew/word?version=c&id=1DJn\" title=\"show this lexeme in SHEBANQ\">דֵּי־</a></div>\n",
       "<div class=\"features\"> <span class=\"pdp\"><a href=\"https://shebanq.ancient-data.org/hebrew/text?book=Reges_I&chapter=14&verse=28&version=c&mr=m&qw=q&tp=txt_p&tr=hb&wget=v&qget=v&nget=vt\" title=\"1_Kings 14:28\" sec=\"1_Kings 14:28\">subs</a></span> <span class=\"gloss\">sufficiency</span></div>\n",
       "\n",
       "\n",
       "</div>\n",
       "\n",
       "<div class=\"word  hl\">\n",
       "<a href=\"#\" class=\"nd\">188294</a>\n",
       "<div class=\"h\"><a target=\"_blank\" href=\"https://shebanq.ancient-data.org/hebrew/word?version=c&id=1BWAv\" title=\"show this lexeme in SHEBANQ\">בֹ֥א </a></div>\n",
       "<div class=\"features\"> <span class=\"pdp\"><a href=\"https://shebanq.ancient-data.org/hebrew/text?book=Reges_I&chapter=14&verse=28&version=c&mr=m&qw=q&tp=txt_p&tr=hb&wget=v&qget=v&nget=vt\" title=\"1_Kings 14:28\" sec=\"1_Kings 14:28\">verb</a></span> <span class=\"gloss\">come</span> <span class=\"vs\">qal</span> <span class=\"vt\">infc</span></div>\n",
       "\n",
       "\n",
       "</div>\n",
       "\n",
       "\n",
       "    </div>\n",
       "\n",
       "\n",
       "</div>\n",
       "\n",
       "\n",
       "</div>\n"
      ],
      "text/plain": [
       "<IPython.core.display.HTML object>"
      ]
     },
     "metadata": {},
     "output_type": "display_data"
    },
    {
     "data": {
      "text/markdown": [
       "\n",
       "\n",
       "**phrase** *5*\n",
       "\n"
      ],
      "text/plain": [
       "<IPython.core.display.Markdown object>"
      ]
     },
     "metadata": {},
     "output_type": "display_data"
    },
    {
     "data": {
      "text/html": [
       "<div class=\"atoms \" style=\"background-color: None;\">\n",
       "<a href=\"#\" class=\"nd\">765331</a>\n",
       "\n",
       "\n",
       "\n",
       "<div class=\"patom  hl\">\n",
       "\n",
       "    <div class=\"phrase\">\n",
       "        <a href=\"https://shebanq.ancient-data.org/hebrew/text?book=Reges_II&chapter=4&verse=8&version=c&mr=m&qw=q&tp=txt_p&tr=hb&wget=v&qget=v&nget=vt\" title=\"2_Kings 4:8\" sec=\"2_Kings 4:8\">phrase</a> <a href=\"#\" class=\"nd\">765331</a>  <span class=\"function\">PreS</span> <span class=\"typ\">VP</span>\n",
       "    </div>\n",
       "    <div class=\"atoms\">\n",
       "\n",
       "<div class=\"word \" style=\"background-color: None;\">\n",
       "<a href=\"#\" class=\"nd\">196651</a>\n",
       "<div class=\"h\"><a target=\"_blank\" href=\"https://shebanq.ancient-data.org/hebrew/word?version=c&id=1MN\" title=\"show this lexeme in SHEBANQ\">מִ</a></div>\n",
       "<div class=\"features\"> <span class=\"pdp\"><a href=\"https://shebanq.ancient-data.org/hebrew/text?book=Reges_II&chapter=4&verse=8&version=c&mr=m&qw=q&tp=txt_p&tr=hb&wget=v&qget=v&nget=vt\" title=\"2_Kings 4:8\" sec=\"2_Kings 4:8\">prep</a></span> <span class=\"gloss\">from</span></div>\n",
       "\n",
       "\n",
       "</div>\n",
       "\n",
       "<div class=\"word \" style=\"background-color: None;\">\n",
       "<a href=\"#\" class=\"nd\">196652</a>\n",
       "<div class=\"h\"><a target=\"_blank\" href=\"https://shebanq.ancient-data.org/hebrew/word?version=c&id=1DJn\" title=\"show this lexeme in SHEBANQ\">דֵּ֣י </a></div>\n",
       "<div class=\"features\"> <span class=\"pdp\"><a href=\"https://shebanq.ancient-data.org/hebrew/text?book=Reges_II&chapter=4&verse=8&version=c&mr=m&qw=q&tp=txt_p&tr=hb&wget=v&qget=v&nget=vt\" title=\"2_Kings 4:8\" sec=\"2_Kings 4:8\">subs</a></span> <span class=\"gloss\">sufficiency</span></div>\n",
       "\n",
       "\n",
       "</div>\n",
       "\n",
       "<div class=\"word  hl\">\n",
       "<a href=\"#\" class=\"nd\">196653</a>\n",
       "<div class=\"h\"><a target=\"_blank\" href=\"https://shebanq.ancient-data.org/hebrew/word?version=c&id=1OBRv\" title=\"show this lexeme in SHEBANQ\">עָבְרֹ֔ו </a></div>\n",
       "<div class=\"features\"> <span class=\"pdp\"><a href=\"https://shebanq.ancient-data.org/hebrew/text?book=Reges_II&chapter=4&verse=8&version=c&mr=m&qw=q&tp=txt_p&tr=hb&wget=v&qget=v&nget=vt\" title=\"2_Kings 4:8\" sec=\"2_Kings 4:8\">verb</a></span> <span class=\"gloss\">pass</span> <span class=\"vs\">qal</span> <span class=\"vt\">infc</span></div>\n",
       "\n",
       "\n",
       "</div>\n",
       "\n",
       "\n",
       "    </div>\n",
       "\n",
       "\n",
       "</div>\n",
       "\n",
       "\n",
       "</div>\n"
      ],
      "text/plain": [
       "<IPython.core.display.HTML object>"
      ]
     },
     "metadata": {},
     "output_type": "display_data"
    },
    {
     "data": {
      "text/markdown": [
       "\n",
       "\n",
       "**phrase** *6*\n",
       "\n"
      ],
      "text/plain": [
       "<IPython.core.display.Markdown object>"
      ]
     },
     "metadata": {},
     "output_type": "display_data"
    },
    {
     "data": {
      "text/html": [
       "<div class=\"atoms \" style=\"background-color: None;\">\n",
       "<a href=\"#\" class=\"nd\">770954</a>\n",
       "\n",
       "\n",
       "\n",
       "<div class=\"patom  hl\">\n",
       "\n",
       "    <div class=\"phrase\">\n",
       "        <a href=\"https://shebanq.ancient-data.org/hebrew/text?book=Reges_II&chapter=17&verse=25&version=c&mr=m&qw=q&tp=txt_p&tr=hb&wget=v&qget=v&nget=vt\" title=\"2_Kings 17:25\" sec=\"2_Kings 17:25\">phrase</a> <a href=\"#\" class=\"nd\">770954</a>  <span class=\"function\">PreS</span> <span class=\"typ\">VP</span>\n",
       "    </div>\n",
       "    <div class=\"atoms\">\n",
       "\n",
       "<div class=\"word \" style=\"background-color: None;\">\n",
       "<a href=\"#\" class=\"nd\">206121</a>\n",
       "<div class=\"h\"><a target=\"_blank\" href=\"https://shebanq.ancient-data.org/hebrew/word?version=c&id=1B\" title=\"show this lexeme in SHEBANQ\">בִּ</a></div>\n",
       "<div class=\"features\"> <span class=\"pdp\"><a href=\"https://shebanq.ancient-data.org/hebrew/text?book=Reges_II&chapter=17&verse=25&version=c&mr=m&qw=q&tp=txt_p&tr=hb&wget=v&qget=v&nget=vt\" title=\"2_Kings 17:25\" sec=\"2_Kings 17:25\">prep</a></span> <span class=\"gloss\">in</span></div>\n",
       "\n",
       "\n",
       "</div>\n",
       "\n",
       "<div class=\"word \" style=\"background-color: None;\">\n",
       "<a href=\"#\" class=\"nd\">206122</a>\n",
       "<div class=\"h\"><a target=\"_blank\" href=\"https://shebanq.ancient-data.org/hebrew/word?version=c&id=1TXLHn\" title=\"show this lexeme in SHEBANQ\">תְחִלַּת֙ </a></div>\n",
       "<div class=\"features\"> <span class=\"pdp\"><a href=\"https://shebanq.ancient-data.org/hebrew/text?book=Reges_II&chapter=17&verse=25&version=c&mr=m&qw=q&tp=txt_p&tr=hb&wget=v&qget=v&nget=vt\" title=\"2_Kings 17:25\" sec=\"2_Kings 17:25\">subs</a></span> <span class=\"gloss\">beginning</span></div>\n",
       "\n",
       "\n",
       "</div>\n",
       "\n",
       "<div class=\"word  hl\">\n",
       "<a href=\"#\" class=\"nd\">206123</a>\n",
       "<div class=\"h\"><a target=\"_blank\" href=\"https://shebanq.ancient-data.org/hebrew/word?version=c&id=1JCBv\" title=\"show this lexeme in SHEBANQ\">שִׁבְתָּ֣ם </a></div>\n",
       "<div class=\"features\"> <span class=\"pdp\"><a href=\"https://shebanq.ancient-data.org/hebrew/text?book=Reges_II&chapter=17&verse=25&version=c&mr=m&qw=q&tp=txt_p&tr=hb&wget=v&qget=v&nget=vt\" title=\"2_Kings 17:25\" sec=\"2_Kings 17:25\">verb</a></span> <span class=\"gloss\">sit</span> <span class=\"vs\">qal</span> <span class=\"vt\">infc</span></div>\n",
       "\n",
       "\n",
       "</div>\n",
       "\n",
       "\n",
       "    </div>\n",
       "\n",
       "\n",
       "</div>\n",
       "\n",
       "\n",
       "</div>\n"
      ],
      "text/plain": [
       "<IPython.core.display.HTML object>"
      ]
     },
     "metadata": {},
     "output_type": "display_data"
    },
    {
     "data": {
      "text/markdown": [
       "\n",
       "\n",
       "**phrase** *7*\n",
       "\n"
      ],
      "text/plain": [
       "<IPython.core.display.Markdown object>"
      ]
     },
     "metadata": {},
     "output_type": "display_data"
    },
    {
     "data": {
      "text/html": [
       "<div class=\"atoms \" style=\"background-color: None;\">\n",
       "<a href=\"#\" class=\"nd\">774060</a>\n",
       "\n",
       "\n",
       "\n",
       "<div class=\"patom  hl\">\n",
       "\n",
       "    <div class=\"phrase\">\n",
       "        <a href=\"https://shebanq.ancient-data.org/hebrew/text?book=Reges_II&chapter=25&verse=27&version=c&mr=m&qw=q&tp=txt_p&tr=hb&wget=v&qget=v&nget=vt\" title=\"2_Kings 25:27\" sec=\"2_Kings 25:27\">phrase</a> <a href=\"#\" class=\"nd\">774060</a>  <span class=\"function\">PreS</span> <span class=\"typ\">VP</span>\n",
       "    </div>\n",
       "    <div class=\"atoms\">\n",
       "\n",
       "<div class=\"word \" style=\"background-color: None;\">\n",
       "<a href=\"#\" class=\"nd\">212011</a>\n",
       "<div class=\"h\"><a target=\"_blank\" href=\"https://shebanq.ancient-data.org/hebrew/word?version=c&id=1B\" title=\"show this lexeme in SHEBANQ\">בִּ</a></div>\n",
       "<div class=\"features\"> <span class=\"pdp\"><a href=\"https://shebanq.ancient-data.org/hebrew/text?book=Reges_II&chapter=25&verse=27&version=c&mr=m&qw=q&tp=txt_p&tr=hb&wget=v&qget=v&nget=vt\" title=\"2_Kings 25:27\" sec=\"2_Kings 25:27\">prep</a></span> <span class=\"gloss\">in</span></div>\n",
       "\n",
       "\n",
       "</div>\n",
       "\n",
       "<div class=\"word \" style=\"background-color: None;\">\n",
       "<a href=\"#\" class=\"nd\">212012</a>\n",
       "<div class=\"h\"><a target=\"_blank\" href=\"https://shebanq.ancient-data.org/hebrew/word?version=c&id=1CNHn\" title=\"show this lexeme in SHEBANQ\">שְׁנַ֣ת </a></div>\n",
       "<div class=\"features\"> <span class=\"pdp\"><a href=\"https://shebanq.ancient-data.org/hebrew/text?book=Reges_II&chapter=25&verse=27&version=c&mr=m&qw=q&tp=txt_p&tr=hb&wget=v&qget=v&nget=vt\" title=\"2_Kings 25:27\" sec=\"2_Kings 25:27\">subs</a></span> <span class=\"gloss\">year</span></div>\n",
       "\n",
       "\n",
       "</div>\n",
       "\n",
       "<div class=\"word  hl\">\n",
       "<a href=\"#\" class=\"nd\">212013</a>\n",
       "<div class=\"h\"><a target=\"_blank\" href=\"https://shebanq.ancient-data.org/hebrew/word?version=c&id=1MLKv\" title=\"show this lexeme in SHEBANQ\">מָלְכֹ֗ו </a></div>\n",
       "<div class=\"features\"> <span class=\"pdp\"><a href=\"https://shebanq.ancient-data.org/hebrew/text?book=Reges_II&chapter=25&verse=27&version=c&mr=m&qw=q&tp=txt_p&tr=hb&wget=v&qget=v&nget=vt\" title=\"2_Kings 25:27\" sec=\"2_Kings 25:27\">verb</a></span> <span class=\"gloss\">be king</span> <span class=\"vs\">qal</span> <span class=\"vt\">infc</span></div>\n",
       "\n",
       "\n",
       "</div>\n",
       "\n",
       "\n",
       "    </div>\n",
       "\n",
       "\n",
       "</div>\n",
       "\n",
       "\n",
       "</div>\n"
      ],
      "text/plain": [
       "<IPython.core.display.HTML object>"
      ]
     },
     "metadata": {},
     "output_type": "display_data"
    },
    {
     "data": {
      "text/markdown": [
       "\n",
       "\n",
       "**phrase** *8*\n",
       "\n"
      ],
      "text/plain": [
       "<IPython.core.display.Markdown object>"
      ]
     },
     "metadata": {},
     "output_type": "display_data"
    },
    {
     "data": {
      "text/html": [
       "<div class=\"atoms \" style=\"background-color: None;\">\n",
       "<a href=\"#\" class=\"nd\">779643</a>\n",
       "\n",
       "\n",
       "\n",
       "<div class=\"patom  hl\">\n",
       "\n",
       "    <div class=\"phrase\">\n",
       "        <a href=\"https://shebanq.ancient-data.org/hebrew/text?book=Jesaia&chapter=28&verse=19&version=c&mr=m&qw=q&tp=txt_p&tr=hb&wget=v&qget=v&nget=vt\" title=\"Isaiah 28:19\" sec=\"Isaiah 28:19\">phrase</a> <a href=\"#\" class=\"nd\">779643</a>  <span class=\"function\">PreS</span> <span class=\"typ\">VP</span>\n",
       "    </div>\n",
       "    <div class=\"atoms\">\n",
       "\n",
       "<div class=\"word \" style=\"background-color: None;\">\n",
       "<a href=\"#\" class=\"nd\">221146</a>\n",
       "<div class=\"h\"><a target=\"_blank\" href=\"https://shebanq.ancient-data.org/hebrew/word?version=c&id=1MN\" title=\"show this lexeme in SHEBANQ\">מִ</a></div>\n",
       "<div class=\"features\"> <span class=\"pdp\"><a href=\"https://shebanq.ancient-data.org/hebrew/text?book=Jesaia&chapter=28&verse=19&version=c&mr=m&qw=q&tp=txt_p&tr=hb&wget=v&qget=v&nget=vt\" title=\"Isaiah 28:19\" sec=\"Isaiah 28:19\">prep</a></span> <span class=\"gloss\">from</span></div>\n",
       "\n",
       "\n",
       "</div>\n",
       "\n",
       "<div class=\"word \" style=\"background-color: None;\">\n",
       "<a href=\"#\" class=\"nd\">221147</a>\n",
       "<div class=\"h\"><a target=\"_blank\" href=\"https://shebanq.ancient-data.org/hebrew/word?version=c&id=1DJn\" title=\"show this lexeme in SHEBANQ\">דֵּ֤י </a></div>\n",
       "<div class=\"features\"> <span class=\"pdp\"><a href=\"https://shebanq.ancient-data.org/hebrew/text?book=Jesaia&chapter=28&verse=19&version=c&mr=m&qw=q&tp=txt_p&tr=hb&wget=v&qget=v&nget=vt\" title=\"Isaiah 28:19\" sec=\"Isaiah 28:19\">subs</a></span> <span class=\"gloss\">sufficiency</span></div>\n",
       "\n",
       "\n",
       "</div>\n",
       "\n",
       "<div class=\"word  hl\">\n",
       "<a href=\"#\" class=\"nd\">221148</a>\n",
       "<div class=\"h\"><a target=\"_blank\" href=\"https://shebanq.ancient-data.org/hebrew/word?version=c&id=1OBRv\" title=\"show this lexeme in SHEBANQ\">עָבְרֹו֙ </a></div>\n",
       "<div class=\"features\"> <span class=\"pdp\"><a href=\"https://shebanq.ancient-data.org/hebrew/text?book=Jesaia&chapter=28&verse=19&version=c&mr=m&qw=q&tp=txt_p&tr=hb&wget=v&qget=v&nget=vt\" title=\"Isaiah 28:19\" sec=\"Isaiah 28:19\">verb</a></span> <span class=\"gloss\">pass</span> <span class=\"vs\">qal</span> <span class=\"vt\">infc</span></div>\n",
       "\n",
       "\n",
       "</div>\n",
       "\n",
       "\n",
       "    </div>\n",
       "\n",
       "\n",
       "</div>\n",
       "\n",
       "\n",
       "</div>\n"
      ],
      "text/plain": [
       "<IPython.core.display.HTML object>"
      ]
     },
     "metadata": {},
     "output_type": "display_data"
    },
    {
     "data": {
      "text/markdown": [
       "\n",
       "\n",
       "**phrase** *9*\n",
       "\n"
      ],
      "text/plain": [
       "<IPython.core.display.Markdown object>"
      ]
     },
     "metadata": {},
     "output_type": "display_data"
    },
    {
     "data": {
      "text/html": [
       "<div class=\"atoms \" style=\"background-color: None;\">\n",
       "<a href=\"#\" class=\"nd\">799114</a>\n",
       "\n",
       "\n",
       "\n",
       "<div class=\"patom  hl\">\n",
       "\n",
       "    <div class=\"phrase\">\n",
       "        <a href=\"https://shebanq.ancient-data.org/hebrew/text?book=Jeremia&chapter=31&verse=20&version=c&mr=m&qw=q&tp=txt_p&tr=hb&wget=v&qget=v&nget=vt\" title=\"Jeremiah 31:20\" sec=\"Jeremiah 31:20\">phrase</a> <a href=\"#\" class=\"nd\">799114</a>  <span class=\"function\">PreS</span> <span class=\"typ\">VP</span>\n",
       "    </div>\n",
       "    <div class=\"atoms\">\n",
       "\n",
       "<div class=\"word \" style=\"background-color: None;\">\n",
       "<a href=\"#\" class=\"nd\">251009</a>\n",
       "<div class=\"h\"><a target=\"_blank\" href=\"https://shebanq.ancient-data.org/hebrew/word?version=c&id=1MN\" title=\"show this lexeme in SHEBANQ\">מִ</a></div>\n",
       "<div class=\"features\"> <span class=\"pdp\"><a href=\"https://shebanq.ancient-data.org/hebrew/text?book=Jeremia&chapter=31&verse=20&version=c&mr=m&qw=q&tp=txt_p&tr=hb&wget=v&qget=v&nget=vt\" title=\"Jeremiah 31:20\" sec=\"Jeremiah 31:20\">prep</a></span> <span class=\"gloss\">from</span></div>\n",
       "\n",
       "\n",
       "</div>\n",
       "\n",
       "<div class=\"word \" style=\"background-color: None;\">\n",
       "<a href=\"#\" class=\"nd\">251010</a>\n",
       "<div class=\"h\"><a target=\"_blank\" href=\"https://shebanq.ancient-data.org/hebrew/word?version=c&id=1DJn\" title=\"show this lexeme in SHEBANQ\">דֵּ֤י </a></div>\n",
       "<div class=\"features\"> <span class=\"pdp\"><a href=\"https://shebanq.ancient-data.org/hebrew/text?book=Jeremia&chapter=31&verse=20&version=c&mr=m&qw=q&tp=txt_p&tr=hb&wget=v&qget=v&nget=vt\" title=\"Jeremiah 31:20\" sec=\"Jeremiah 31:20\">subs</a></span> <span class=\"gloss\">sufficiency</span></div>\n",
       "\n",
       "\n",
       "</div>\n",
       "\n",
       "<div class=\"word  hl\">\n",
       "<a href=\"#\" class=\"nd\">251011</a>\n",
       "<div class=\"h\"><a target=\"_blank\" href=\"https://shebanq.ancient-data.org/hebrew/word?version=c&id=1DBRv\" title=\"show this lexeme in SHEBANQ\">דַבְּרִי֙ </a></div>\n",
       "<div class=\"features\"> <span class=\"pdp\"><a href=\"https://shebanq.ancient-data.org/hebrew/text?book=Jeremia&chapter=31&verse=20&version=c&mr=m&qw=q&tp=txt_p&tr=hb&wget=v&qget=v&nget=vt\" title=\"Jeremiah 31:20\" sec=\"Jeremiah 31:20\">verb</a></span> <span class=\"gloss\">speak</span> <span class=\"vs\">piel</span> <span class=\"vt\">infc</span></div>\n",
       "\n",
       "\n",
       "</div>\n",
       "\n",
       "\n",
       "    </div>\n",
       "\n",
       "\n",
       "</div>\n",
       "\n",
       "\n",
       "</div>\n"
      ],
      "text/plain": [
       "<IPython.core.display.HTML object>"
      ]
     },
     "metadata": {},
     "output_type": "display_data"
    },
    {
     "data": {
      "text/markdown": [
       "\n",
       "\n",
       "**phrase** *10*\n",
       "\n"
      ],
      "text/plain": [
       "<IPython.core.display.Markdown object>"
      ]
     },
     "metadata": {},
     "output_type": "display_data"
    },
    {
     "data": {
      "text/html": [
       "<div class=\"atoms \" style=\"background-color: None;\">\n",
       "<a href=\"#\" class=\"nd\">804887</a>\n",
       "\n",
       "\n",
       "\n",
       "<div class=\"patom  hl\">\n",
       "\n",
       "    <div class=\"phrase\">\n",
       "        <a href=\"https://shebanq.ancient-data.org/hebrew/text?book=Jeremia&chapter=49&verse=21&version=c&mr=m&qw=q&tp=txt_p&tr=hb&wget=v&qget=v&nget=vt\" title=\"Jeremiah 49:21\" sec=\"Jeremiah 49:21\">phrase</a> <a href=\"#\" class=\"nd\">804887</a>  <span class=\"function\">PreS</span> <span class=\"typ\">VP</span>\n",
       "    </div>\n",
       "    <div class=\"atoms\">\n",
       "\n",
       "<div class=\"word \" style=\"background-color: None;\">\n",
       "<a href=\"#\" class=\"nd\">261523</a>\n",
       "<div class=\"h\"><a target=\"_blank\" href=\"https://shebanq.ancient-data.org/hebrew/word?version=c&id=1MN\" title=\"show this lexeme in SHEBANQ\">מִ</a></div>\n",
       "<div class=\"features\"> <span class=\"pdp\"><a href=\"https://shebanq.ancient-data.org/hebrew/text?book=Jeremia&chapter=49&verse=21&version=c&mr=m&qw=q&tp=txt_p&tr=hb&wget=v&qget=v&nget=vt\" title=\"Jeremiah 49:21\" sec=\"Jeremiah 49:21\">prep</a></span> <span class=\"gloss\">from</span></div>\n",
       "\n",
       "\n",
       "</div>\n",
       "\n",
       "<div class=\"word \" style=\"background-color: None;\">\n",
       "<a href=\"#\" class=\"nd\">261524</a>\n",
       "<div class=\"h\"><a target=\"_blank\" href=\"https://shebanq.ancient-data.org/hebrew/word?version=c&id=1QWLn\" title=\"show this lexeme in SHEBANQ\">קֹּ֣ול </a></div>\n",
       "<div class=\"features\"> <span class=\"pdp\"><a href=\"https://shebanq.ancient-data.org/hebrew/text?book=Jeremia&chapter=49&verse=21&version=c&mr=m&qw=q&tp=txt_p&tr=hb&wget=v&qget=v&nget=vt\" title=\"Jeremiah 49:21\" sec=\"Jeremiah 49:21\">subs</a></span> <span class=\"gloss\">sound</span></div>\n",
       "\n",
       "\n",
       "</div>\n",
       "\n",
       "<div class=\"word  hl\">\n",
       "<a href=\"#\" class=\"nd\">261525</a>\n",
       "<div class=\"h\"><a target=\"_blank\" href=\"https://shebanq.ancient-data.org/hebrew/word?version=c&id=1NPLv\" title=\"show this lexeme in SHEBANQ\">נִפְלָ֔ם </a></div>\n",
       "<div class=\"features\"> <span class=\"pdp\"><a href=\"https://shebanq.ancient-data.org/hebrew/text?book=Jeremia&chapter=49&verse=21&version=c&mr=m&qw=q&tp=txt_p&tr=hb&wget=v&qget=v&nget=vt\" title=\"Jeremiah 49:21\" sec=\"Jeremiah 49:21\">verb</a></span> <span class=\"gloss\">fall</span> <span class=\"vs\">qal</span> <span class=\"vt\">infc</span></div>\n",
       "\n",
       "\n",
       "</div>\n",
       "\n",
       "\n",
       "    </div>\n",
       "\n",
       "\n",
       "</div>\n",
       "\n",
       "\n",
       "</div>\n"
      ],
      "text/plain": [
       "<IPython.core.display.HTML object>"
      ]
     },
     "metadata": {},
     "output_type": "display_data"
    },
    {
     "data": {
      "text/markdown": [
       "\n",
       "\n",
       "**phrase** *11*\n",
       "\n"
      ],
      "text/plain": [
       "<IPython.core.display.Markdown object>"
      ]
     },
     "metadata": {},
     "output_type": "display_data"
    },
    {
     "data": {
      "text/html": [
       "<div class=\"atoms \" style=\"background-color: None;\">\n",
       "<a href=\"#\" class=\"nd\">810542</a>\n",
       "\n",
       "\n",
       "\n",
       "<div class=\"patom  hl\">\n",
       "\n",
       "    <div class=\"phrase\">\n",
       "        <a href=\"https://shebanq.ancient-data.org/hebrew/text?book=Ezechiel&chapter=14&verse=15&version=c&mr=m&qw=q&tp=txt_p&tr=hb&wget=v&qget=v&nget=vt\" title=\"Ezekiel 14:15\" sec=\"Ezekiel 14:15\">phrase</a> <a href=\"#\" class=\"nd\">810542</a>  <span class=\"function\">PreC</span> <span class=\"typ\">VP</span>\n",
       "    </div>\n",
       "    <div class=\"atoms\">\n",
       "\n",
       "<div class=\"word \" style=\"background-color: None;\">\n",
       "<a href=\"#\" class=\"nd\">270676</a>\n",
       "<div class=\"h\"><a target=\"_blank\" href=\"https://shebanq.ancient-data.org/hebrew/word?version=c&id=1MN\" title=\"show this lexeme in SHEBANQ\">מִ</a></div>\n",
       "<div class=\"features\"> <span class=\"pdp\"><a href=\"https://shebanq.ancient-data.org/hebrew/text?book=Ezechiel&chapter=14&verse=15&version=c&mr=m&qw=q&tp=txt_p&tr=hb&wget=v&qget=v&nget=vt\" title=\"Ezekiel 14:15\" sec=\"Ezekiel 14:15\">prep</a></span> <span class=\"gloss\">from</span></div>\n",
       "\n",
       "\n",
       "</div>\n",
       "\n",
       "<div class=\"word \" style=\"background-color: None;\">\n",
       "<a href=\"#\" class=\"nd\">270677</a>\n",
       "<div class=\"h\"><a target=\"_blank\" href=\"https://shebanq.ancient-data.org/hebrew/word?version=c&id=1BLJn\" title=\"show this lexeme in SHEBANQ\">בְּלִ֣י </a></div>\n",
       "<div class=\"features\"> <span class=\"pdp\"><a href=\"https://shebanq.ancient-data.org/hebrew/text?book=Ezechiel&chapter=14&verse=15&version=c&mr=m&qw=q&tp=txt_p&tr=hb&wget=v&qget=v&nget=vt\" title=\"Ezekiel 14:15\" sec=\"Ezekiel 14:15\">subs</a></span> <span class=\"gloss\">destruction</span></div>\n",
       "\n",
       "\n",
       "</div>\n",
       "\n",
       "<div class=\"word  hl\">\n",
       "<a href=\"#\" class=\"nd\">270678</a>\n",
       "<div class=\"h\"><a target=\"_blank\" href=\"https://shebanq.ancient-data.org/hebrew/word?version=c&id=1OBRv\" title=\"show this lexeme in SHEBANQ\">עֹובֵ֔ר </a></div>\n",
       "<div class=\"features\"> <span class=\"pdp\"><a href=\"https://shebanq.ancient-data.org/hebrew/text?book=Ezechiel&chapter=14&verse=15&version=c&mr=m&qw=q&tp=txt_p&tr=hb&wget=v&qget=v&nget=vt\" title=\"Ezekiel 14:15\" sec=\"Ezekiel 14:15\">verb</a></span> <span class=\"gloss\">pass</span> <span class=\"vs\">qal</span> <span class=\"vt\">ptca</span></div>\n",
       "\n",
       "\n",
       "</div>\n",
       "\n",
       "\n",
       "    </div>\n",
       "\n",
       "\n",
       "</div>\n",
       "\n",
       "\n",
       "</div>\n"
      ],
      "text/plain": [
       "<IPython.core.display.HTML object>"
      ]
     },
     "metadata": {},
     "output_type": "display_data"
    },
    {
     "data": {
      "text/markdown": [
       "\n",
       "\n",
       "**phrase** *12*\n",
       "\n"
      ],
      "text/plain": [
       "<IPython.core.display.Markdown object>"
      ]
     },
     "metadata": {},
     "output_type": "display_data"
    },
    {
     "data": {
      "text/html": [
       "<div class=\"atoms \" style=\"background-color: None;\">\n",
       "<a href=\"#\" class=\"nd\">834935</a>\n",
       "\n",
       "\n",
       "\n",
       "<div class=\"patom  hl\">\n",
       "\n",
       "    <div class=\"phrase\">\n",
       "        <a href=\"https://shebanq.ancient-data.org/hebrew/text?book=Maleachi&chapter=2&verse=13&version=c&mr=m&qw=q&tp=txt_p&tr=hb&wget=v&qget=v&nget=vt\" title=\"Malachi 2:13\" sec=\"Malachi 2:13\">phrase</a> <a href=\"#\" class=\"nd\">834935</a>  <span class=\"function\">Pred</span> <span class=\"typ\">VP</span>\n",
       "    </div>\n",
       "    <div class=\"atoms\">\n",
       "\n",
       "<div class=\"word \" style=\"background-color: None;\">\n",
       "<a href=\"#\" class=\"nd\">310033</a>\n",
       "<div class=\"h\"><a target=\"_blank\" href=\"https://shebanq.ancient-data.org/hebrew/word?version=c&id=1MN\" title=\"show this lexeme in SHEBANQ\">מֵ</a></div>\n",
       "<div class=\"features\"> <span class=\"pdp\"><a href=\"https://shebanq.ancient-data.org/hebrew/text?book=Maleachi&chapter=2&verse=13&version=c&mr=m&qw=q&tp=txt_p&tr=hb&wget=v&qget=v&nget=vt\" title=\"Malachi 2:13\" sec=\"Malachi 2:13\">prep</a></span> <span class=\"gloss\">from</span></div>\n",
       "\n",
       "\n",
       "</div>\n",
       "\n",
       "<div class=\"word \" style=\"background-color: None;\">\n",
       "<a href=\"#\" class=\"nd\">310034</a>\n",
       "<div class=\"h\"><a target=\"_blank\" href=\"https://shebanq.ancient-data.org/hebrew/word?version=c&id=1AJNn\" title=\"show this lexeme in SHEBANQ\">אֵ֣ין </a></div>\n",
       "<div class=\"features\"> <span class=\"pdp\"><a href=\"https://shebanq.ancient-data.org/hebrew/text?book=Maleachi&chapter=2&verse=13&version=c&mr=m&qw=q&tp=txt_p&tr=hb&wget=v&qget=v&nget=vt\" title=\"Malachi 2:13\" sec=\"Malachi 2:13\">subs</a></span> <span class=\"gloss\">&lt;NEG></span></div>\n",
       "\n",
       "\n",
       "</div>\n",
       "\n",
       "<div class=\"word \" style=\"background-color: None;\">\n",
       "<a href=\"#\" class=\"nd\">310035</a>\n",
       "<div class=\"h\"><a target=\"_blank\" href=\"https://shebanq.ancient-data.org/hebrew/word?version=c&id=1OWDn\" title=\"show this lexeme in SHEBANQ\">עֹ֗וד </a></div>\n",
       "<div class=\"features\"> <span class=\"pdp\"><a href=\"https://shebanq.ancient-data.org/hebrew/text?book=Maleachi&chapter=2&verse=13&version=c&mr=m&qw=q&tp=txt_p&tr=hb&wget=v&qget=v&nget=vt\" title=\"Malachi 2:13\" sec=\"Malachi 2:13\">subs</a></span> <span class=\"gloss\">duration</span></div>\n",
       "\n",
       "\n",
       "</div>\n",
       "\n",
       "<div class=\"word  hl\">\n",
       "<a href=\"#\" class=\"nd\">310036</a>\n",
       "<div class=\"h\"><a target=\"_blank\" href=\"https://shebanq.ancient-data.org/hebrew/word?version=c&id=1PNHv\" title=\"show this lexeme in SHEBANQ\">פְּנֹות֙ </a></div>\n",
       "<div class=\"features\"> <span class=\"pdp\"><a href=\"https://shebanq.ancient-data.org/hebrew/text?book=Maleachi&chapter=2&verse=13&version=c&mr=m&qw=q&tp=txt_p&tr=hb&wget=v&qget=v&nget=vt\" title=\"Malachi 2:13\" sec=\"Malachi 2:13\">verb</a></span> <span class=\"gloss\">turn</span> <span class=\"vs\">qal</span> <span class=\"vt\">infc</span></div>\n",
       "\n",
       "\n",
       "</div>\n",
       "\n",
       "\n",
       "    </div>\n",
       "\n",
       "\n",
       "</div>\n",
       "\n",
       "\n",
       "</div>\n"
      ],
      "text/plain": [
       "<IPython.core.display.HTML object>"
      ]
     },
     "metadata": {},
     "output_type": "display_data"
    },
    {
     "data": {
      "text/markdown": [
       "\n",
       "\n",
       "**phrase** *13*\n",
       "\n"
      ],
      "text/plain": [
       "<IPython.core.display.Markdown object>"
      ]
     },
     "metadata": {},
     "output_type": "display_data"
    },
    {
     "data": {
      "text/html": [
       "<div class=\"atoms \" style=\"background-color: None;\">\n",
       "<a href=\"#\" class=\"nd\">902929</a>\n",
       "\n",
       "\n",
       "\n",
       "<div class=\"patom  hl\">\n",
       "\n",
       "    <div class=\"phrase\">\n",
       "        <a href=\"https://shebanq.ancient-data.org/hebrew/text?book=Chronica_II&chapter=31&verse=16&version=c&mr=m&qw=q&tp=txt_p&tr=hb&wget=v&qget=v&nget=vt\" title=\"2_Chronicles 31:16\" sec=\"2_Chronicles 31:16\">phrase</a> <a href=\"#\" class=\"nd\">902929</a>  <span class=\"function\">PreS</span> <span class=\"typ\">VP</span>\n",
       "    </div>\n",
       "    <div class=\"atoms\">\n",
       "\n",
       "<div class=\"word \" style=\"background-color: None;\">\n",
       "<a href=\"#\" class=\"nd\">422921</a>\n",
       "<div class=\"h\"><a target=\"_blank\" href=\"https://shebanq.ancient-data.org/hebrew/word?version=c&id=1MN\" title=\"show this lexeme in SHEBANQ\">מִ</a></div>\n",
       "<div class=\"features\"> <span class=\"pdp\"><a href=\"https://shebanq.ancient-data.org/hebrew/text?book=Chronica_II&chapter=31&verse=16&version=c&mr=m&qw=q&tp=txt_p&tr=hb&wget=v&qget=v&nget=vt\" title=\"2_Chronicles 31:16\" sec=\"2_Chronicles 31:16\">prep</a></span> <span class=\"gloss\">from</span></div>\n",
       "\n",
       "\n",
       "</div>\n",
       "\n",
       "<div class=\"word \" style=\"background-color: None;\">\n",
       "<a href=\"#\" class=\"nd\">422922</a>\n",
       "<div class=\"h\"><a target=\"_blank\" href=\"https://shebanq.ancient-data.org/hebrew/word?version=c&id=1L\" title=\"show this lexeme in SHEBANQ\">לְּ</a></div>\n",
       "<div class=\"features\"> <span class=\"pdp\"><a href=\"https://shebanq.ancient-data.org/hebrew/text?book=Chronica_II&chapter=31&verse=16&version=c&mr=m&qw=q&tp=txt_p&tr=hb&wget=v&qget=v&nget=vt\" title=\"2_Chronicles 31:16\" sec=\"2_Chronicles 31:16\">prep</a></span> <span class=\"gloss\">to</span></div>\n",
       "\n",
       "\n",
       "</div>\n",
       "\n",
       "<div class=\"word \" style=\"background-color: None;\">\n",
       "<a href=\"#\" class=\"nd\">422923</a>\n",
       "<div class=\"h\"><a target=\"_blank\" href=\"https://shebanq.ancient-data.org/hebrew/word?version=c&id=1BDn\" title=\"show this lexeme in SHEBANQ\">בַ֞ד </a></div>\n",
       "<div class=\"features\"> <span class=\"pdp\"><a href=\"https://shebanq.ancient-data.org/hebrew/text?book=Chronica_II&chapter=31&verse=16&version=c&mr=m&qw=q&tp=txt_p&tr=hb&wget=v&qget=v&nget=vt\" title=\"2_Chronicles 31:16\" sec=\"2_Chronicles 31:16\">subs</a></span> <span class=\"gloss\">linen, part, stave</span></div>\n",
       "\n",
       "\n",
       "</div>\n",
       "\n",
       "<div class=\"word  hl\">\n",
       "<a href=\"#\" class=\"nd\">422924</a>\n",
       "<div class=\"h\"><a target=\"_blank\" href=\"https://shebanq.ancient-data.org/hebrew/word?version=c&id=1JXFv\" title=\"show this lexeme in SHEBANQ\">הִתְיַחְשָׂ֣ם </a></div>\n",
       "<div class=\"features\"> <span class=\"pdp\"><a href=\"https://shebanq.ancient-data.org/hebrew/text?book=Chronica_II&chapter=31&verse=16&version=c&mr=m&qw=q&tp=txt_p&tr=hb&wget=v&qget=v&nget=vt\" title=\"2_Chronicles 31:16\" sec=\"2_Chronicles 31:16\">verb</a></span> <span class=\"gloss\">register</span> <span class=\"vs\">hit</span> <span class=\"vt\">infc</span></div>\n",
       "\n",
       "\n",
       "</div>\n",
       "\n",
       "\n",
       "    </div>\n",
       "\n",
       "\n",
       "</div>\n",
       "\n",
       "\n",
       "</div>\n"
      ],
      "text/plain": [
       "<IPython.core.display.HTML object>"
      ]
     },
     "metadata": {},
     "output_type": "display_data"
    },
    {
     "data": {
      "text/markdown": [
       "\n",
       "\n",
       "**phrase** *14*\n",
       "\n"
      ],
      "text/plain": [
       "<IPython.core.display.Markdown object>"
      ]
     },
     "metadata": {},
     "output_type": "display_data"
    },
    {
     "data": {
      "text/html": [
       "<div class=\"atoms \" style=\"background-color: None;\">\n",
       "<a href=\"#\" class=\"nd\">903656</a>\n",
       "\n",
       "\n",
       "\n",
       "<div class=\"patom  hl\">\n",
       "\n",
       "    <div class=\"phrase\">\n",
       "        <a href=\"https://shebanq.ancient-data.org/hebrew/text?book=Chronica_II&chapter=33&verse=19&version=c&mr=m&qw=q&tp=txt_p&tr=hb&wget=v&qget=v&nget=vt\" title=\"2_Chronicles 33:19\" sec=\"2_Chronicles 33:19\">phrase</a> <a href=\"#\" class=\"nd\">903656</a>  <span class=\"function\">PreS</span> <span class=\"typ\">VP</span>\n",
       "    </div>\n",
       "    <div class=\"atoms\">\n",
       "\n",
       "<div class=\"word \" style=\"background-color: None;\">\n",
       "<a href=\"#\" class=\"nd\">424337</a>\n",
       "<div class=\"h\"><a target=\"_blank\" href=\"https://shebanq.ancient-data.org/hebrew/word?version=c&id=1L\" title=\"show this lexeme in SHEBANQ\">לִ</a></div>\n",
       "<div class=\"features\"> <span class=\"pdp\"><a href=\"https://shebanq.ancient-data.org/hebrew/text?book=Chronica_II&chapter=33&verse=19&version=c&mr=m&qw=q&tp=txt_p&tr=hb&wget=v&qget=v&nget=vt\" title=\"2_Chronicles 33:19\" sec=\"2_Chronicles 33:19\">prep</a></span> <span class=\"gloss\">to</span></div>\n",
       "\n",
       "\n",
       "</div>\n",
       "\n",
       "<div class=\"word \" style=\"background-color: None;\">\n",
       "<a href=\"#\" class=\"nd\">424338</a>\n",
       "<div class=\"h\"><a target=\"_blank\" href=\"https://shebanq.ancient-data.org/hebrew/word?version=c&id=1PNHn\" title=\"show this lexeme in SHEBANQ\">פְנֵ֖י </a></div>\n",
       "<div class=\"features\"> <span class=\"pdp\"><a href=\"https://shebanq.ancient-data.org/hebrew/text?book=Chronica_II&chapter=33&verse=19&version=c&mr=m&qw=q&tp=txt_p&tr=hb&wget=v&qget=v&nget=vt\" title=\"2_Chronicles 33:19\" sec=\"2_Chronicles 33:19\">subs</a></span> <span class=\"gloss\">face</span></div>\n",
       "\n",
       "\n",
       "</div>\n",
       "\n",
       "<div class=\"word  hl\">\n",
       "<a href=\"#\" class=\"nd\">424339</a>\n",
       "<div class=\"h\"><a target=\"_blank\" href=\"https://shebanq.ancient-data.org/hebrew/word?version=c&id=1KNOv\" title=\"show this lexeme in SHEBANQ\">הִכָּנְעֹ֑ו </a></div>\n",
       "<div class=\"features\"> <span class=\"pdp\"><a href=\"https://shebanq.ancient-data.org/hebrew/text?book=Chronica_II&chapter=33&verse=19&version=c&mr=m&qw=q&tp=txt_p&tr=hb&wget=v&qget=v&nget=vt\" title=\"2_Chronicles 33:19\" sec=\"2_Chronicles 33:19\">verb</a></span> <span class=\"gloss\">be humble</span> <span class=\"vs\">nif</span> <span class=\"vt\">infc</span></div>\n",
       "\n",
       "\n",
       "</div>\n",
       "\n",
       "\n",
       "    </div>\n",
       "\n",
       "\n",
       "</div>\n",
       "\n",
       "\n",
       "</div>\n"
      ],
      "text/plain": [
       "<IPython.core.display.HTML object>"
      ]
     },
     "metadata": {},
     "output_type": "display_data"
    }
   ],
   "source": [
    "# run notebook locally to see HTML-formatted results for the below searches\n",
    "\n",
    "\n",
    "rec_verbs = \"\"\"\n",
    "\n",
    "phrase_atom typ=VP\n",
    "    subphrase rela=rec\n",
    "        word pdp=verb\n",
    "\"\"\"\n",
    "\n",
    "find_and_show(rec_verbs)"
   ]
  },
  {
   "cell_type": "markdown",
   "metadata": {},
   "source": [
    "In all 14 results, the verb serves as the true head word of the `VP`.\n",
    "\n",
    "*Note: The verb will prove to be an exception, as all other words in a `rec` relation are not head words*\n",
    "\n",
    "The `PP` also has some strange relations. We see what's going on with the same kind of inspection. First we look at the `rec` (regens) relations."
   ]
  },
  {
   "cell_type": "code",
   "execution_count": 33,
   "metadata": {},
   "outputs": [
    {
     "name": "stdout",
     "output_type": "stream",
     "text": [
      "  0.87s 12 results\n",
      "12 results\n"
     ]
    },
    {
     "data": {
      "text/markdown": [
       "\n",
       "\n",
       "**phrase** *1*\n",
       "\n"
      ],
      "text/plain": [
       "<IPython.core.display.Markdown object>"
      ]
     },
     "metadata": {},
     "output_type": "display_data"
    },
    {
     "data": {
      "text/html": [
       "<div class=\"atoms \" style=\"background-color: None;\">\n",
       "<a href=\"#\" class=\"nd\">701824</a>\n",
       "\n",
       "\n",
       "\n",
       "<div class=\"patom  hl\">\n",
       "\n",
       "    <div class=\"phrase\">\n",
       "        <a href=\"https://shebanq.ancient-data.org/hebrew/text?book=Numeri&chapter=29&verse=6&version=c&mr=m&qw=q&tp=txt_p&tr=hb&wget=v&qget=v&nget=vt\" title=\"Numbers 29:6\" sec=\"Numbers 29:6\">phrase</a> <a href=\"#\" class=\"nd\">701824</a>  <span class=\"function\">Adju</span> <span class=\"typ\">PP</span>\n",
       "    </div>\n",
       "    <div class=\"atoms\">\n",
       "\n",
       "<div class=\"word \" style=\"background-color: None;\">\n",
       "<a href=\"#\" class=\"nd\">87947</a>\n",
       "<div class=\"h\"><a target=\"_blank\" href=\"https://shebanq.ancient-data.org/hebrew/word?version=c&id=1MN\" title=\"show this lexeme in SHEBANQ\">מִ</a></div>\n",
       "<div class=\"features\"> <span class=\"pdp\"><a href=\"https://shebanq.ancient-data.org/hebrew/text?book=Numeri&chapter=29&verse=6&version=c&mr=m&qw=q&tp=txt_p&tr=hb&wget=v&qget=v&nget=vt\" title=\"Numbers 29:6\" sec=\"Numbers 29:6\">prep</a></span> <span class=\"gloss\">from</span></div>\n",
       "\n",
       "\n",
       "</div>\n",
       "\n",
       "<div class=\"word \" style=\"background-color: None;\">\n",
       "<a href=\"#\" class=\"nd\">87948</a>\n",
       "<div class=\"h\"><a target=\"_blank\" href=\"https://shebanq.ancient-data.org/hebrew/word?version=c&id=1L\" title=\"show this lexeme in SHEBANQ\">לְּ</a></div>\n",
       "<div class=\"features\"> <span class=\"pdp\"><a href=\"https://shebanq.ancient-data.org/hebrew/text?book=Numeri&chapter=29&verse=6&version=c&mr=m&qw=q&tp=txt_p&tr=hb&wget=v&qget=v&nget=vt\" title=\"Numbers 29:6\" sec=\"Numbers 29:6\">prep</a></span> <span class=\"gloss\">to</span></div>\n",
       "\n",
       "\n",
       "</div>\n",
       "\n",
       "<div class=\"word \" style=\"background-color: None;\">\n",
       "<a href=\"#\" class=\"nd\">87949</a>\n",
       "<div class=\"h\"><a target=\"_blank\" href=\"https://shebanq.ancient-data.org/hebrew/word?version=c&id=1BDn\" title=\"show this lexeme in SHEBANQ\">בַד֩ </a></div>\n",
       "<div class=\"features\"> <span class=\"pdp\"><a href=\"https://shebanq.ancient-data.org/hebrew/text?book=Numeri&chapter=29&verse=6&version=c&mr=m&qw=q&tp=txt_p&tr=hb&wget=v&qget=v&nget=vt\" title=\"Numbers 29:6\" sec=\"Numbers 29:6\">subs</a></span> <span class=\"gloss\">linen, part, stave</span></div>\n",
       "\n",
       "\n",
       "</div>\n",
       "\n",
       "<div class=\"word \" style=\"background-color: None;\">\n",
       "<a href=\"#\" class=\"nd\">87950</a>\n",
       "<div class=\"h\"><a target=\"_blank\" href=\"https://shebanq.ancient-data.org/hebrew/word?version=c&id=1OLHn\" title=\"show this lexeme in SHEBANQ\">עֹלַ֨ת </a></div>\n",
       "<div class=\"features\"> <span class=\"pdp\"><a href=\"https://shebanq.ancient-data.org/hebrew/text?book=Numeri&chapter=29&verse=6&version=c&mr=m&qw=q&tp=txt_p&tr=hb&wget=v&qget=v&nget=vt\" title=\"Numbers 29:6\" sec=\"Numbers 29:6\">subs</a></span> <span class=\"gloss\">burnt-offering</span></div>\n",
       "\n",
       "\n",
       "</div>\n",
       "\n",
       "<div class=\"word \" style=\"background-color: None;\">\n",
       "<a href=\"#\" class=\"nd\">87951</a>\n",
       "<div class=\"h\"><a target=\"_blank\" href=\"https://shebanq.ancient-data.org/hebrew/word?version=c&id=1H\" title=\"show this lexeme in SHEBANQ\">הַ</a></div>\n",
       "<div class=\"features\"> <span class=\"pdp\"><a href=\"https://shebanq.ancient-data.org/hebrew/text?book=Numeri&chapter=29&verse=6&version=c&mr=m&qw=q&tp=txt_p&tr=hb&wget=v&qget=v&nget=vt\" title=\"Numbers 29:6\" sec=\"Numbers 29:6\">art</a></span> <span class=\"gloss\">the</span></div>\n",
       "\n",
       "\n",
       "</div>\n",
       "\n",
       "<div class=\"word \" style=\"background-color: None;\">\n",
       "<a href=\"#\" class=\"nd\">87952</a>\n",
       "<div class=\"h\"><a target=\"_blank\" href=\"https://shebanq.ancient-data.org/hebrew/word?version=c&id=1XDCin\" title=\"show this lexeme in SHEBANQ\">חֹ֜דֶשׁ </a></div>\n",
       "<div class=\"features\"> <span class=\"pdp\"><a href=\"https://shebanq.ancient-data.org/hebrew/text?book=Numeri&chapter=29&verse=6&version=c&mr=m&qw=q&tp=txt_p&tr=hb&wget=v&qget=v&nget=vt\" title=\"Numbers 29:6\" sec=\"Numbers 29:6\">subs</a></span> <span class=\"gloss\">month</span></div>\n",
       "\n",
       "\n",
       "</div>\n",
       "\n",
       "<div class=\"word \" style=\"background-color: None;\">\n",
       "<a href=\"#\" class=\"nd\">87953</a>\n",
       "<div class=\"h\"><a target=\"_blank\" href=\"https://shebanq.ancient-data.org/hebrew/word?version=c&id=1W\" title=\"show this lexeme in SHEBANQ\">וּ</a></div>\n",
       "<div class=\"features\"> <span class=\"pdp\"><a href=\"https://shebanq.ancient-data.org/hebrew/text?book=Numeri&chapter=29&verse=6&version=c&mr=m&qw=q&tp=txt_p&tr=hb&wget=v&qget=v&nget=vt\" title=\"Numbers 29:6\" sec=\"Numbers 29:6\">conj</a></span> <span class=\"gloss\">and</span></div>\n",
       "\n",
       "\n",
       "</div>\n",
       "\n",
       "<div class=\"word \" style=\"background-color: None;\">\n",
       "<a href=\"#\" class=\"nd\">87954</a>\n",
       "<div class=\"h\"><a target=\"_blank\" href=\"https://shebanq.ancient-data.org/hebrew/word?version=c&id=1MNXHn\" title=\"show this lexeme in SHEBANQ\">מִנְחָתָ֗הּ </a></div>\n",
       "<div class=\"features\"> <span class=\"pdp\"><a href=\"https://shebanq.ancient-data.org/hebrew/text?book=Numeri&chapter=29&verse=6&version=c&mr=m&qw=q&tp=txt_p&tr=hb&wget=v&qget=v&nget=vt\" title=\"Numbers 29:6\" sec=\"Numbers 29:6\">subs</a></span> <span class=\"gloss\">present</span></div>\n",
       "\n",
       "\n",
       "</div>\n",
       "\n",
       "<div class=\"word \" style=\"background-color: None;\">\n",
       "<a href=\"#\" class=\"nd\">87955</a>\n",
       "<div class=\"h\"><a target=\"_blank\" href=\"https://shebanq.ancient-data.org/hebrew/word?version=c&id=1W\" title=\"show this lexeme in SHEBANQ\">וְ</a></div>\n",
       "<div class=\"features\"> <span class=\"pdp\"><a href=\"https://shebanq.ancient-data.org/hebrew/text?book=Numeri&chapter=29&verse=6&version=c&mr=m&qw=q&tp=txt_p&tr=hb&wget=v&qget=v&nget=vt\" title=\"Numbers 29:6\" sec=\"Numbers 29:6\">conj</a></span> <span class=\"gloss\">and</span></div>\n",
       "\n",
       "\n",
       "</div>\n",
       "\n",
       "<div class=\"word \" style=\"background-color: None;\">\n",
       "<a href=\"#\" class=\"nd\">87956</a>\n",
       "<div class=\"h\"><a target=\"_blank\" href=\"https://shebanq.ancient-data.org/hebrew/word?version=c&id=1OLHn\" title=\"show this lexeme in SHEBANQ\">עֹלַ֤ת </a></div>\n",
       "<div class=\"features\"> <span class=\"pdp\"><a href=\"https://shebanq.ancient-data.org/hebrew/text?book=Numeri&chapter=29&verse=6&version=c&mr=m&qw=q&tp=txt_p&tr=hb&wget=v&qget=v&nget=vt\" title=\"Numbers 29:6\" sec=\"Numbers 29:6\">subs</a></span> <span class=\"gloss\">burnt-offering</span></div>\n",
       "\n",
       "\n",
       "</div>\n",
       "\n",
       "<div class=\"word \" style=\"background-color: None;\">\n",
       "<a href=\"#\" class=\"nd\">87957</a>\n",
       "<div class=\"h\"><a target=\"_blank\" href=\"https://shebanq.ancient-data.org/hebrew/word?version=c&id=1H\" title=\"show this lexeme in SHEBANQ\">הַ</a></div>\n",
       "<div class=\"features\"> <span class=\"pdp\"><a href=\"https://shebanq.ancient-data.org/hebrew/text?book=Numeri&chapter=29&verse=6&version=c&mr=m&qw=q&tp=txt_p&tr=hb&wget=v&qget=v&nget=vt\" title=\"Numbers 29:6\" sec=\"Numbers 29:6\">art</a></span> <span class=\"gloss\">the</span></div>\n",
       "\n",
       "\n",
       "</div>\n",
       "\n",
       "<div class=\"word \" style=\"background-color: None;\">\n",
       "<a href=\"#\" class=\"nd\">87958</a>\n",
       "<div class=\"h\"><a target=\"_blank\" href=\"https://shebanq.ancient-data.org/hebrew/word?version=c&id=1TMJDn\" title=\"show this lexeme in SHEBANQ\">תָּמִיד֙ </a></div>\n",
       "<div class=\"features\"> <span class=\"pdp\"><a href=\"https://shebanq.ancient-data.org/hebrew/text?book=Numeri&chapter=29&verse=6&version=c&mr=m&qw=q&tp=txt_p&tr=hb&wget=v&qget=v&nget=vt\" title=\"Numbers 29:6\" sec=\"Numbers 29:6\">subs</a></span> <span class=\"gloss\">continuity</span></div>\n",
       "\n",
       "\n",
       "</div>\n",
       "\n",
       "<div class=\"word \" style=\"background-color: None;\">\n",
       "<a href=\"#\" class=\"nd\">87959</a>\n",
       "<div class=\"h\"><a target=\"_blank\" href=\"https://shebanq.ancient-data.org/hebrew/word?version=c&id=1W\" title=\"show this lexeme in SHEBANQ\">וּ</a></div>\n",
       "<div class=\"features\"> <span class=\"pdp\"><a href=\"https://shebanq.ancient-data.org/hebrew/text?book=Numeri&chapter=29&verse=6&version=c&mr=m&qw=q&tp=txt_p&tr=hb&wget=v&qget=v&nget=vt\" title=\"Numbers 29:6\" sec=\"Numbers 29:6\">conj</a></span> <span class=\"gloss\">and</span></div>\n",
       "\n",
       "\n",
       "</div>\n",
       "\n",
       "<div class=\"word \" style=\"background-color: None;\">\n",
       "<a href=\"#\" class=\"nd\">87960</a>\n",
       "<div class=\"h\"><a target=\"_blank\" href=\"https://shebanq.ancient-data.org/hebrew/word?version=c&id=1MNXHn\" title=\"show this lexeme in SHEBANQ\">מִנְחָתָ֔הּ </a></div>\n",
       "<div class=\"features\"> <span class=\"pdp\"><a href=\"https://shebanq.ancient-data.org/hebrew/text?book=Numeri&chapter=29&verse=6&version=c&mr=m&qw=q&tp=txt_p&tr=hb&wget=v&qget=v&nget=vt\" title=\"Numbers 29:6\" sec=\"Numbers 29:6\">subs</a></span> <span class=\"gloss\">present</span></div>\n",
       "\n",
       "\n",
       "</div>\n",
       "\n",
       "<div class=\"word \" style=\"background-color: None;\">\n",
       "<a href=\"#\" class=\"nd\">87961</a>\n",
       "<div class=\"h\"><a target=\"_blank\" href=\"https://shebanq.ancient-data.org/hebrew/word?version=c&id=1W\" title=\"show this lexeme in SHEBANQ\">וְ</a></div>\n",
       "<div class=\"features\"> <span class=\"pdp\"><a href=\"https://shebanq.ancient-data.org/hebrew/text?book=Numeri&chapter=29&verse=6&version=c&mr=m&qw=q&tp=txt_p&tr=hb&wget=v&qget=v&nget=vt\" title=\"Numbers 29:6\" sec=\"Numbers 29:6\">conj</a></span> <span class=\"gloss\">and</span></div>\n",
       "\n",
       "\n",
       "</div>\n",
       "\n",
       "<div class=\"word \" style=\"background-color: None;\">\n",
       "<a href=\"#\" class=\"nd\">87962</a>\n",
       "<div class=\"h\"><a target=\"_blank\" href=\"https://shebanq.ancient-data.org/hebrew/word?version=c&id=1NSKn\" title=\"show this lexeme in SHEBANQ\">נִסְכֵּיהֶ֖ם </a></div>\n",
       "<div class=\"features\"> <span class=\"pdp\"><a href=\"https://shebanq.ancient-data.org/hebrew/text?book=Numeri&chapter=29&verse=6&version=c&mr=m&qw=q&tp=txt_p&tr=hb&wget=v&qget=v&nget=vt\" title=\"Numbers 29:6\" sec=\"Numbers 29:6\">subs</a></span> <span class=\"gloss\">libation</span></div>\n",
       "\n",
       "\n",
       "</div>\n",
       "\n",
       "<div class=\"word  hl\">\n",
       "<a href=\"#\" class=\"nd\">87963</a>\n",
       "<div class=\"h\"><a target=\"_blank\" href=\"https://shebanq.ancient-data.org/hebrew/word?version=c&id=1K\" title=\"show this lexeme in SHEBANQ\">כְּ</a></div>\n",
       "<div class=\"features\"> <span class=\"pdp\"><a href=\"https://shebanq.ancient-data.org/hebrew/text?book=Numeri&chapter=29&verse=6&version=c&mr=m&qw=q&tp=txt_p&tr=hb&wget=v&qget=v&nget=vt\" title=\"Numbers 29:6\" sec=\"Numbers 29:6\">prep</a></span> <span class=\"gloss\">as</span></div>\n",
       "\n",
       "\n",
       "</div>\n",
       "\n",
       "<div class=\"word \" style=\"background-color: None;\">\n",
       "<a href=\"#\" class=\"nd\">87964</a>\n",
       "<div class=\"h\"><a target=\"_blank\" href=\"https://shebanq.ancient-data.org/hebrew/word?version=c&id=1MCPVn\" title=\"show this lexeme in SHEBANQ\">מִשְׁפָּטָ֑ם </a></div>\n",
       "<div class=\"features\"> <span class=\"pdp\"><a href=\"https://shebanq.ancient-data.org/hebrew/text?book=Numeri&chapter=29&verse=6&version=c&mr=m&qw=q&tp=txt_p&tr=hb&wget=v&qget=v&nget=vt\" title=\"Numbers 29:6\" sec=\"Numbers 29:6\">subs</a></span> <span class=\"gloss\">justice</span></div>\n",
       "\n",
       "\n",
       "</div>\n",
       "\n",
       "\n",
       "    </div>\n",
       "\n",
       "\n",
       "</div>\n",
       "\n",
       "\n",
       "</div>\n"
      ],
      "text/plain": [
       "<IPython.core.display.HTML object>"
      ]
     },
     "metadata": {},
     "output_type": "display_data"
    },
    {
     "data": {
      "text/markdown": [
       "\n",
       "\n",
       "**phrase** *2*\n",
       "\n"
      ],
      "text/plain": [
       "<IPython.core.display.Markdown object>"
      ]
     },
     "metadata": {},
     "output_type": "display_data"
    },
    {
     "data": {
      "text/html": [
       "<div class=\"atoms \" style=\"background-color: None;\">\n",
       "<a href=\"#\" class=\"nd\">729575</a>\n",
       "\n",
       "\n",
       "\n",
       "<div class=\"patom  hl\">\n",
       "\n",
       "    <div class=\"phrase\">\n",
       "        <a href=\"https://shebanq.ancient-data.org/hebrew/text?book=Judices&chapter=17&verse=5&version=c&mr=m&qw=q&tp=txt_p&tr=hb&wget=v&qget=v&nget=vt\" title=\"Judges 17:5\" sec=\"Judges 17:5\">phrase</a> <a href=\"#\" class=\"nd\">729575</a>  <span class=\"function\">Objc</span> <span class=\"typ\">PP</span>\n",
       "    </div>\n",
       "    <div class=\"atoms\">\n",
       "\n",
       "<div class=\"word \" style=\"background-color: None;\">\n",
       "<a href=\"#\" class=\"nd\">138117</a>\n",
       "<div class=\"h\"><a target=\"_blank\" href=\"https://shebanq.ancient-data.org/hebrew/word?version=c&id=1AT\" title=\"show this lexeme in SHEBANQ\">אֶת־</a></div>\n",
       "<div class=\"features\"> <span class=\"pdp\"><a href=\"https://shebanq.ancient-data.org/hebrew/text?book=Judices&chapter=17&verse=5&version=c&mr=m&qw=q&tp=txt_p&tr=hb&wget=v&qget=v&nget=vt\" title=\"Judges 17:5\" sec=\"Judges 17:5\">prep</a></span> <span class=\"gloss\">&lt;object marker></span></div>\n",
       "\n",
       "\n",
       "</div>\n",
       "\n",
       "<div class=\"word \" style=\"background-color: None;\">\n",
       "<a href=\"#\" class=\"nd\">138118</a>\n",
       "<div class=\"h\"><a target=\"_blank\" href=\"https://shebanq.ancient-data.org/hebrew/word?version=c&id=1JDn\" title=\"show this lexeme in SHEBANQ\">יַ֤ד </a></div>\n",
       "<div class=\"features\"> <span class=\"pdp\"><a href=\"https://shebanq.ancient-data.org/hebrew/text?book=Judices&chapter=17&verse=5&version=c&mr=m&qw=q&tp=txt_p&tr=hb&wget=v&qget=v&nget=vt\" title=\"Judges 17:5\" sec=\"Judges 17:5\">subs</a></span> <span class=\"gloss\">hand</span></div>\n",
       "\n",
       "\n",
       "</div>\n",
       "\n",
       "<div class=\"word \" style=\"background-color: None;\">\n",
       "<a href=\"#\" class=\"nd\">138119</a>\n",
       "<div class=\"h\"><a target=\"_blank\" href=\"https://shebanq.ancient-data.org/hebrew/word?version=c&id=1AXDn\" title=\"show this lexeme in SHEBANQ\">אַחַד֙ </a></div>\n",
       "<div class=\"features\"> <span class=\"pdp\"><a href=\"https://shebanq.ancient-data.org/hebrew/text?book=Judices&chapter=17&verse=5&version=c&mr=m&qw=q&tp=txt_p&tr=hb&wget=v&qget=v&nget=vt\" title=\"Judges 17:5\" sec=\"Judges 17:5\">subs</a></span> <span class=\"gloss\">one</span></div>\n",
       "\n",
       "\n",
       "</div>\n",
       "\n",
       "<div class=\"word  hl\">\n",
       "<a href=\"#\" class=\"nd\">138120</a>\n",
       "<div class=\"h\"><a target=\"_blank\" href=\"https://shebanq.ancient-data.org/hebrew/word?version=c&id=1MN\" title=\"show this lexeme in SHEBANQ\">מִ</a></div>\n",
       "<div class=\"features\"> <span class=\"pdp\"><a href=\"https://shebanq.ancient-data.org/hebrew/text?book=Judices&chapter=17&verse=5&version=c&mr=m&qw=q&tp=txt_p&tr=hb&wget=v&qget=v&nget=vt\" title=\"Judges 17:5\" sec=\"Judges 17:5\">prep</a></span> <span class=\"gloss\">from</span></div>\n",
       "\n",
       "\n",
       "</div>\n",
       "\n",
       "<div class=\"word \" style=\"background-color: None;\">\n",
       "<a href=\"#\" class=\"nd\">138121</a>\n",
       "<div class=\"h\"><a target=\"_blank\" href=\"https://shebanq.ancient-data.org/hebrew/word?version=c&id=1BNn\" title=\"show this lexeme in SHEBANQ\">בָּנָ֔יו </a></div>\n",
       "<div class=\"features\"> <span class=\"pdp\"><a href=\"https://shebanq.ancient-data.org/hebrew/text?book=Judices&chapter=17&verse=5&version=c&mr=m&qw=q&tp=txt_p&tr=hb&wget=v&qget=v&nget=vt\" title=\"Judges 17:5\" sec=\"Judges 17:5\">subs</a></span> <span class=\"gloss\">son</span></div>\n",
       "\n",
       "\n",
       "</div>\n",
       "\n",
       "\n",
       "    </div>\n",
       "\n",
       "\n",
       "</div>\n",
       "\n",
       "\n",
       "</div>\n"
      ],
      "text/plain": [
       "<IPython.core.display.HTML object>"
      ]
     },
     "metadata": {},
     "output_type": "display_data"
    },
    {
     "data": {
      "text/markdown": [
       "\n",
       "\n",
       "**phrase** *3*\n",
       "\n"
      ],
      "text/plain": [
       "<IPython.core.display.Markdown object>"
      ]
     },
     "metadata": {},
     "output_type": "display_data"
    },
    {
     "data": {
      "text/html": [
       "<div class=\"atoms \" style=\"background-color: None;\">\n",
       "<a href=\"#\" class=\"nd\">763550</a>\n",
       "\n",
       "\n",
       "\n",
       "<div class=\"patom  hl\">\n",
       "\n",
       "    <div class=\"phrase\">\n",
       "        <a href=\"https://shebanq.ancient-data.org/hebrew/text?book=Reges_I&chapter=22&verse=13&version=c&mr=m&qw=q&tp=txt_p&tr=hb&wget=v&qget=v&nget=vt\" title=\"1_Kings 22:13\" sec=\"1_Kings 22:13\">phrase</a> <a href=\"#\" class=\"nd\">763550</a>  <span class=\"function\">PreC</span> <span class=\"typ\">PP</span>\n",
       "    </div>\n",
       "    <div class=\"atoms\">\n",
       "\n",
       "<div class=\"word \" style=\"background-color: None;\">\n",
       "<a href=\"#\" class=\"nd\">193931</a>\n",
       "<div class=\"h\"><a target=\"_blank\" href=\"https://shebanq.ancient-data.org/hebrew/word?version=c&id=1K\" title=\"show this lexeme in SHEBANQ\">כִּ</a></div>\n",
       "<div class=\"features\"> <span class=\"pdp\"><a href=\"https://shebanq.ancient-data.org/hebrew/text?book=Reges_I&chapter=22&verse=13&version=c&mr=m&qw=q&tp=txt_p&tr=hb&wget=v&qget=v&nget=vt\" title=\"1_Kings 22:13\" sec=\"1_Kings 22:13\">prep</a></span> <span class=\"gloss\">as</span></div>\n",
       "\n",
       "\n",
       "</div>\n",
       "\n",
       "<div class=\"word \" style=\"background-color: None;\">\n",
       "<a href=\"#\" class=\"nd\">193932</a>\n",
       "<div class=\"h\"><a target=\"_blank\" href=\"https://shebanq.ancient-data.org/hebrew/word?version=c&id=1DBRn\" title=\"show this lexeme in SHEBANQ\">דְבַ֛ר </a></div>\n",
       "<div class=\"features\"> <span class=\"pdp\"><a href=\"https://shebanq.ancient-data.org/hebrew/text?book=Reges_I&chapter=22&verse=13&version=c&mr=m&qw=q&tp=txt_p&tr=hb&wget=v&qget=v&nget=vt\" title=\"1_Kings 22:13\" sec=\"1_Kings 22:13\">subs</a></span> <span class=\"gloss\">word</span></div>\n",
       "\n",
       "\n",
       "</div>\n",
       "\n",
       "<div class=\"word \" style=\"background-color: None;\">\n",
       "<a href=\"#\" class=\"nd\">193933</a>\n",
       "<div class=\"h\"><a target=\"_blank\" href=\"https://shebanq.ancient-data.org/hebrew/word?version=c&id=1AXDn\" title=\"show this lexeme in SHEBANQ\">אַחַ֥ד </a></div>\n",
       "<div class=\"features\"> <span class=\"pdp\"><a href=\"https://shebanq.ancient-data.org/hebrew/text?book=Reges_I&chapter=22&verse=13&version=c&mr=m&qw=q&tp=txt_p&tr=hb&wget=v&qget=v&nget=vt\" title=\"1_Kings 22:13\" sec=\"1_Kings 22:13\">subs</a></span> <span class=\"gloss\">one</span></div>\n",
       "\n",
       "\n",
       "</div>\n",
       "\n",
       "<div class=\"word  hl\">\n",
       "<a href=\"#\" class=\"nd\">193934</a>\n",
       "<div class=\"h\"><a target=\"_blank\" href=\"https://shebanq.ancient-data.org/hebrew/word?version=c&id=1MN\" title=\"show this lexeme in SHEBANQ\">מֵהֶ֖ם </a></div>\n",
       "<div class=\"features\"> <span class=\"pdp\"><a href=\"https://shebanq.ancient-data.org/hebrew/text?book=Reges_I&chapter=22&verse=13&version=c&mr=m&qw=q&tp=txt_p&tr=hb&wget=v&qget=v&nget=vt\" title=\"1_Kings 22:13\" sec=\"1_Kings 22:13\">prep</a></span> <span class=\"gloss\">from</span></div>\n",
       "\n",
       "\n",
       "</div>\n",
       "\n",
       "\n",
       "    </div>\n",
       "\n",
       "\n",
       "</div>\n",
       "\n",
       "\n",
       "</div>\n"
      ],
      "text/plain": [
       "<IPython.core.display.HTML object>"
      ]
     },
     "metadata": {},
     "output_type": "display_data"
    },
    {
     "data": {
      "text/markdown": [
       "\n",
       "\n",
       "**phrase** *4*\n",
       "\n"
      ],
      "text/plain": [
       "<IPython.core.display.Markdown object>"
      ]
     },
     "metadata": {},
     "output_type": "display_data"
    },
    {
     "data": {
      "text/html": [
       "<div class=\"atoms \" style=\"background-color: None;\">\n",
       "<a href=\"#\" class=\"nd\">793213</a>\n",
       "\n",
       "\n",
       "\n",
       "<div class=\"patom  hl\">\n",
       "\n",
       "    <div class=\"phrase\">\n",
       "        <a href=\"https://shebanq.ancient-data.org/hebrew/text?book=Jeremia&chapter=12&verse=4&version=c&mr=m&qw=q&tp=txt_p&tr=hb&wget=v&qget=v&nget=vt\" title=\"Jeremiah 12:4\" sec=\"Jeremiah 12:4\">phrase</a> <a href=\"#\" class=\"nd\">793213</a>  <span class=\"function\">Adju</span> <span class=\"typ\">PP</span>\n",
       "    </div>\n",
       "    <div class=\"atoms\">\n",
       "\n",
       "<div class=\"word \" style=\"background-color: None;\">\n",
       "<a href=\"#\" class=\"nd\">240898</a>\n",
       "<div class=\"h\"><a target=\"_blank\" href=\"https://shebanq.ancient-data.org/hebrew/word?version=c&id=1MN\" title=\"show this lexeme in SHEBANQ\">מֵ</a></div>\n",
       "<div class=\"features\"> <span class=\"pdp\"><a href=\"https://shebanq.ancient-data.org/hebrew/text?book=Jeremia&chapter=12&verse=4&version=c&mr=m&qw=q&tp=txt_p&tr=hb&wget=v&qget=v&nget=vt\" title=\"Jeremiah 12:4\" sec=\"Jeremiah 12:4\">prep</a></span> <span class=\"gloss\">from</span></div>\n",
       "\n",
       "\n",
       "</div>\n",
       "\n",
       "<div class=\"word \" style=\"background-color: None;\">\n",
       "<a href=\"#\" class=\"nd\">240899</a>\n",
       "<div class=\"h\"><a target=\"_blank\" href=\"https://shebanq.ancient-data.org/hebrew/word?version=c&id=1ROHn\" title=\"show this lexeme in SHEBANQ\">רָעַ֣ת </a></div>\n",
       "<div class=\"features\"> <span class=\"pdp\"><a href=\"https://shebanq.ancient-data.org/hebrew/text?book=Jeremia&chapter=12&verse=4&version=c&mr=m&qw=q&tp=txt_p&tr=hb&wget=v&qget=v&nget=vt\" title=\"Jeremiah 12:4\" sec=\"Jeremiah 12:4\">subs</a></span> <span class=\"gloss\">evil</span></div>\n",
       "\n",
       "\n",
       "</div>\n",
       "\n",
       "<div class=\"word \" style=\"background-color: None;\">\n",
       "<a href=\"#\" class=\"nd\">240900</a>\n",
       "<div class=\"h\"><a target=\"_blank\" href=\"https://shebanq.ancient-data.org/hebrew/word?version=c&id=1JCBv\" title=\"show this lexeme in SHEBANQ\">יֹֽשְׁבֵי־</a></div>\n",
       "<div class=\"features\"> <span class=\"pdp\"><a href=\"https://shebanq.ancient-data.org/hebrew/text?book=Jeremia&chapter=12&verse=4&version=c&mr=m&qw=q&tp=txt_p&tr=hb&wget=v&qget=v&nget=vt\" title=\"Jeremiah 12:4\" sec=\"Jeremiah 12:4\">subs</a></span> <span class=\"gloss\">sit</span> <span class=\"vs\">qal</span> <span class=\"vt\">ptca</span></div>\n",
       "\n",
       "\n",
       "</div>\n",
       "\n",
       "<div class=\"word  hl\">\n",
       "<a href=\"#\" class=\"nd\">240901</a>\n",
       "<div class=\"h\"><a target=\"_blank\" href=\"https://shebanq.ancient-data.org/hebrew/word?version=c&id=1B\" title=\"show this lexeme in SHEBANQ\">בָ֗הּ </a></div>\n",
       "<div class=\"features\"> <span class=\"pdp\"><a href=\"https://shebanq.ancient-data.org/hebrew/text?book=Jeremia&chapter=12&verse=4&version=c&mr=m&qw=q&tp=txt_p&tr=hb&wget=v&qget=v&nget=vt\" title=\"Jeremiah 12:4\" sec=\"Jeremiah 12:4\">prep</a></span> <span class=\"gloss\">in</span></div>\n",
       "\n",
       "\n",
       "</div>\n",
       "\n",
       "\n",
       "    </div>\n",
       "\n",
       "\n",
       "</div>\n",
       "\n",
       "\n",
       "</div>\n"
      ],
      "text/plain": [
       "<IPython.core.display.HTML object>"
      ]
     },
     "metadata": {},
     "output_type": "display_data"
    },
    {
     "data": {
      "text/markdown": [
       "\n",
       "\n",
       "**phrase** *5*\n",
       "\n"
      ],
      "text/plain": [
       "<IPython.core.display.Markdown object>"
      ]
     },
     "metadata": {},
     "output_type": "display_data"
    },
    {
     "data": {
      "text/html": [
       "<div class=\"atoms \" style=\"background-color: None;\">\n",
       "<a href=\"#\" class=\"nd\">848705</a>\n",
       "\n",
       "\n",
       "\n",
       "<div class=\"patom  hl\">\n",
       "\n",
       "    <div class=\"phrase\">\n",
       "        <a href=\"https://shebanq.ancient-data.org/hebrew/text?book=Psalmi&chapter=107&verse=34&version=c&mr=m&qw=q&tp=txt_p&tr=hb&wget=v&qget=v&nget=vt\" title=\"Psalms 107:34\" sec=\"Psalms 107:34\">phrase</a> <a href=\"#\" class=\"nd\">848705</a>  <span class=\"function\">Adju</span> <span class=\"typ\">PP</span>\n",
       "    </div>\n",
       "    <div class=\"atoms\">\n",
       "\n",
       "<div class=\"word \" style=\"background-color: None;\">\n",
       "<a href=\"#\" class=\"nd\">329764</a>\n",
       "<div class=\"h\"><a target=\"_blank\" href=\"https://shebanq.ancient-data.org/hebrew/word?version=c&id=1MN\" title=\"show this lexeme in SHEBANQ\">מֵ֝</a></div>\n",
       "<div class=\"features\"> <span class=\"pdp\"><a href=\"https://shebanq.ancient-data.org/hebrew/text?book=Psalmi&chapter=107&verse=34&version=c&mr=m&qw=q&tp=txt_p&tr=hb&wget=v&qget=v&nget=vt\" title=\"Psalms 107:34\" sec=\"Psalms 107:34\">prep</a></span> <span class=\"gloss\">from</span></div>\n",
       "\n",
       "\n",
       "</div>\n",
       "\n",
       "<div class=\"word \" style=\"background-color: None;\">\n",
       "<a href=\"#\" class=\"nd\">329765</a>\n",
       "<div class=\"h\"><a target=\"_blank\" href=\"https://shebanq.ancient-data.org/hebrew/word?version=c&id=1ROHn\" title=\"show this lexeme in SHEBANQ\">רָעַ֗ת </a></div>\n",
       "<div class=\"features\"> <span class=\"pdp\"><a href=\"https://shebanq.ancient-data.org/hebrew/text?book=Psalmi&chapter=107&verse=34&version=c&mr=m&qw=q&tp=txt_p&tr=hb&wget=v&qget=v&nget=vt\" title=\"Psalms 107:34\" sec=\"Psalms 107:34\">subs</a></span> <span class=\"gloss\">evil</span></div>\n",
       "\n",
       "\n",
       "</div>\n",
       "\n",
       "<div class=\"word \" style=\"background-color: None;\">\n",
       "<a href=\"#\" class=\"nd\">329766</a>\n",
       "<div class=\"h\"><a target=\"_blank\" href=\"https://shebanq.ancient-data.org/hebrew/word?version=c&id=1JCBv\" title=\"show this lexeme in SHEBANQ\">יֹ֣שְׁבֵי </a></div>\n",
       "<div class=\"features\"> <span class=\"pdp\"><a href=\"https://shebanq.ancient-data.org/hebrew/text?book=Psalmi&chapter=107&verse=34&version=c&mr=m&qw=q&tp=txt_p&tr=hb&wget=v&qget=v&nget=vt\" title=\"Psalms 107:34\" sec=\"Psalms 107:34\">subs</a></span> <span class=\"gloss\">sit</span> <span class=\"vs\">qal</span> <span class=\"vt\">ptca</span></div>\n",
       "\n",
       "\n",
       "</div>\n",
       "\n",
       "<div class=\"word  hl\">\n",
       "<a href=\"#\" class=\"nd\">329767</a>\n",
       "<div class=\"h\"><a target=\"_blank\" href=\"https://shebanq.ancient-data.org/hebrew/word?version=c&id=1B\" title=\"show this lexeme in SHEBANQ\">בָֽהּ׃ </a></div>\n",
       "<div class=\"features\"> <span class=\"pdp\"><a href=\"https://shebanq.ancient-data.org/hebrew/text?book=Psalmi&chapter=107&verse=34&version=c&mr=m&qw=q&tp=txt_p&tr=hb&wget=v&qget=v&nget=vt\" title=\"Psalms 107:34\" sec=\"Psalms 107:34\">prep</a></span> <span class=\"gloss\">in</span></div>\n",
       "\n",
       "\n",
       "</div>\n",
       "\n",
       "\n",
       "    </div>\n",
       "\n",
       "\n",
       "</div>\n",
       "\n",
       "\n",
       "</div>\n"
      ],
      "text/plain": [
       "<IPython.core.display.HTML object>"
      ]
     },
     "metadata": {},
     "output_type": "display_data"
    },
    {
     "data": {
      "text/markdown": [
       "\n",
       "\n",
       "**phrase** *6*\n",
       "\n"
      ],
      "text/plain": [
       "<IPython.core.display.Markdown object>"
      ]
     },
     "metadata": {},
     "output_type": "display_data"
    },
    {
     "data": {
      "text/html": [
       "<div class=\"atoms \" style=\"background-color: None;\">\n",
       "<a href=\"#\" class=\"nd\">893491</a>\n",
       "\n",
       "\n",
       "\n",
       "<div class=\"patom  hl\">\n",
       "\n",
       "    <div class=\"phrase\">\n",
       "        <a href=\"https://shebanq.ancient-data.org/hebrew/text?book=Chronica_I&chapter=25&verse=8&version=c&mr=m&qw=q&tp=txt_p&tr=hb&wget=v&qget=v&nget=vt\" title=\"1_Chronicles 25:8\" sec=\"1_Chronicles 25:8\">phrase</a> <a href=\"#\" class=\"nd\">893491</a>  <span class=\"function\">Adju</span> <span class=\"typ\">PP</span>\n",
       "    </div>\n",
       "    <div class=\"atoms\">\n",
       "\n",
       "<div class=\"word \" style=\"background-color: None;\">\n",
       "<a href=\"#\" class=\"nd\">404050</a>\n",
       "<div class=\"h\"><a target=\"_blank\" href=\"https://shebanq.ancient-data.org/hebrew/word?version=c&id=1L\" title=\"show this lexeme in SHEBANQ\">לְ</a></div>\n",
       "<div class=\"features\"> <span class=\"pdp\"><a href=\"https://shebanq.ancient-data.org/hebrew/text?book=Chronica_I&chapter=25&verse=8&version=c&mr=m&qw=q&tp=txt_p&tr=hb&wget=v&qget=v&nget=vt\" title=\"1_Chronicles 25:8\" sec=\"1_Chronicles 25:8\">prep</a></span> <span class=\"gloss\">to</span></div>\n",
       "\n",
       "\n",
       "</div>\n",
       "\n",
       "<div class=\"word \" style=\"background-color: None;\">\n",
       "<a href=\"#\" class=\"nd\">404051</a>\n",
       "<div class=\"h\"><a target=\"_blank\" href=\"https://shebanq.ancient-data.org/hebrew/word?version=c&id=1OMHn\" title=\"show this lexeme in SHEBANQ\">עֻמַּת֙ </a></div>\n",
       "<div class=\"features\"> <span class=\"pdp\"><a href=\"https://shebanq.ancient-data.org/hebrew/text?book=Chronica_I&chapter=25&verse=8&version=c&mr=m&qw=q&tp=txt_p&tr=hb&wget=v&qget=v&nget=vt\" title=\"1_Chronicles 25:8\" sec=\"1_Chronicles 25:8\">subs</a></span> <span class=\"gloss\">side</span></div>\n",
       "\n",
       "\n",
       "</div>\n",
       "\n",
       "<div class=\"word  hl\">\n",
       "<a href=\"#\" class=\"nd\">404052</a>\n",
       "<div class=\"h\"><a target=\"_blank\" href=\"https://shebanq.ancient-data.org/hebrew/word?version=c&id=1K\" title=\"show this lexeme in SHEBANQ\">כַּ</a></div>\n",
       "<div class=\"features\"> <span class=\"pdp\"><a href=\"https://shebanq.ancient-data.org/hebrew/text?book=Chronica_I&chapter=25&verse=8&version=c&mr=m&qw=q&tp=txt_p&tr=hb&wget=v&qget=v&nget=vt\" title=\"1_Chronicles 25:8\" sec=\"1_Chronicles 25:8\">prep</a></span> <span class=\"gloss\">as</span></div>\n",
       "\n",
       "\n",
       "</div>\n",
       "\n",
       "<div class=\"word \" style=\"background-color: None;\">\n",
       "<a href=\"#\" class=\"nd\">404053</a>\n",
       "<div class=\"h\"><a target=\"_blank\" href=\"https://shebanq.ancient-data.org/hebrew/word?version=c&id=1H\" title=\"show this lexeme in SHEBANQ\"></a></div>\n",
       "<div class=\"features\"> <span class=\"pdp\"><a href=\"https://shebanq.ancient-data.org/hebrew/text?book=Chronica_I&chapter=25&verse=8&version=c&mr=m&qw=q&tp=txt_p&tr=hb&wget=v&qget=v&nget=vt\" title=\"1_Chronicles 25:8\" sec=\"1_Chronicles 25:8\">art</a></span> <span class=\"gloss\">the</span></div>\n",
       "\n",
       "\n",
       "</div>\n",
       "\n",
       "<div class=\"word \" style=\"background-color: None;\">\n",
       "<a href=\"#\" class=\"nd\">404054</a>\n",
       "<div class=\"h\"><a target=\"_blank\" href=\"https://shebanq.ancient-data.org/hebrew/word?version=c&id=1QVNn\" title=\"show this lexeme in SHEBANQ\">קָּטֹ֣ן </a></div>\n",
       "<div class=\"features\"> <span class=\"pdp\"><a href=\"https://shebanq.ancient-data.org/hebrew/text?book=Chronica_I&chapter=25&verse=8&version=c&mr=m&qw=q&tp=txt_p&tr=hb&wget=v&qget=v&nget=vt\" title=\"1_Chronicles 25:8\" sec=\"1_Chronicles 25:8\">subs</a></span> <span class=\"gloss\">small</span></div>\n",
       "\n",
       "\n",
       "</div>\n",
       "\n",
       "<div class=\"word  hl\">\n",
       "<a href=\"#\" class=\"nd\">404055</a>\n",
       "<div class=\"h\"><a target=\"_blank\" href=\"https://shebanq.ancient-data.org/hebrew/word?version=c&id=1K\" title=\"show this lexeme in SHEBANQ\">כַּ</a></div>\n",
       "<div class=\"features\"> <span class=\"pdp\"><a href=\"https://shebanq.ancient-data.org/hebrew/text?book=Chronica_I&chapter=25&verse=8&version=c&mr=m&qw=q&tp=txt_p&tr=hb&wget=v&qget=v&nget=vt\" title=\"1_Chronicles 25:8\" sec=\"1_Chronicles 25:8\">prep</a></span> <span class=\"gloss\">as</span></div>\n",
       "\n",
       "\n",
       "</div>\n",
       "\n",
       "<div class=\"word \" style=\"background-color: None;\">\n",
       "<a href=\"#\" class=\"nd\">404056</a>\n",
       "<div class=\"h\"><a target=\"_blank\" href=\"https://shebanq.ancient-data.org/hebrew/word?version=c&id=1H\" title=\"show this lexeme in SHEBANQ\"></a></div>\n",
       "<div class=\"features\"> <span class=\"pdp\"><a href=\"https://shebanq.ancient-data.org/hebrew/text?book=Chronica_I&chapter=25&verse=8&version=c&mr=m&qw=q&tp=txt_p&tr=hb&wget=v&qget=v&nget=vt\" title=\"1_Chronicles 25:8\" sec=\"1_Chronicles 25:8\">art</a></span> <span class=\"gloss\">the</span></div>\n",
       "\n",
       "\n",
       "</div>\n",
       "\n",
       "<div class=\"word \" style=\"background-color: None;\">\n",
       "<a href=\"#\" class=\"nd\">404057</a>\n",
       "<div class=\"h\"><a target=\"_blank\" href=\"https://shebanq.ancient-data.org/hebrew/word?version=c&id=1GDWLn\" title=\"show this lexeme in SHEBANQ\">גָּדֹ֔ול </a></div>\n",
       "<div class=\"features\"> <span class=\"pdp\"><a href=\"https://shebanq.ancient-data.org/hebrew/text?book=Chronica_I&chapter=25&verse=8&version=c&mr=m&qw=q&tp=txt_p&tr=hb&wget=v&qget=v&nget=vt\" title=\"1_Chronicles 25:8\" sec=\"1_Chronicles 25:8\">subs</a></span> <span class=\"gloss\">great</span></div>\n",
       "\n",
       "\n",
       "</div>\n",
       "\n",
       "<div class=\"word \" style=\"background-color: None;\">\n",
       "<a href=\"#\" class=\"nd\">404058</a>\n",
       "<div class=\"h\"><a target=\"_blank\" href=\"https://shebanq.ancient-data.org/hebrew/word?version=c&id=1BJNv\" title=\"show this lexeme in SHEBANQ\">מֵבִ֖ין </a></div>\n",
       "<div class=\"features\"> <span class=\"pdp\"><a href=\"https://shebanq.ancient-data.org/hebrew/text?book=Chronica_I&chapter=25&verse=8&version=c&mr=m&qw=q&tp=txt_p&tr=hb&wget=v&qget=v&nget=vt\" title=\"1_Chronicles 25:8\" sec=\"1_Chronicles 25:8\">subs</a></span> <span class=\"gloss\">understand</span> <span class=\"vs\">hif</span> <span class=\"vt\">ptca</span></div>\n",
       "\n",
       "\n",
       "</div>\n",
       "\n",
       "<div class=\"word  hl\">\n",
       "<a href=\"#\" class=\"nd\">404059</a>\n",
       "<div class=\"h\"><a target=\"_blank\" href=\"https://shebanq.ancient-data.org/hebrew/word?version=c&id=1OM\" title=\"show this lexeme in SHEBANQ\">עִם־</a></div>\n",
       "<div class=\"features\"> <span class=\"pdp\"><a href=\"https://shebanq.ancient-data.org/hebrew/text?book=Chronica_I&chapter=25&verse=8&version=c&mr=m&qw=q&tp=txt_p&tr=hb&wget=v&qget=v&nget=vt\" title=\"1_Chronicles 25:8\" sec=\"1_Chronicles 25:8\">prep</a></span> <span class=\"gloss\">with</span></div>\n",
       "\n",
       "\n",
       "</div>\n",
       "\n",
       "<div class=\"word \" style=\"background-color: None;\">\n",
       "<a href=\"#\" class=\"nd\">404060</a>\n",
       "<div class=\"h\"><a target=\"_blank\" href=\"https://shebanq.ancient-data.org/hebrew/word?version=c&id=1TLMJDn\" title=\"show this lexeme in SHEBANQ\">תַּלְמִֽיד׃ פ </a></div>\n",
       "<div class=\"features\"> <span class=\"pdp\"><a href=\"https://shebanq.ancient-data.org/hebrew/text?book=Chronica_I&chapter=25&verse=8&version=c&mr=m&qw=q&tp=txt_p&tr=hb&wget=v&qget=v&nget=vt\" title=\"1_Chronicles 25:8\" sec=\"1_Chronicles 25:8\">subs</a></span> <span class=\"gloss\">scholar</span></div>\n",
       "\n",
       "\n",
       "</div>\n",
       "\n",
       "\n",
       "    </div>\n",
       "\n",
       "\n",
       "</div>\n",
       "\n",
       "\n",
       "</div>\n"
      ],
      "text/plain": [
       "<IPython.core.display.HTML object>"
      ]
     },
     "metadata": {},
     "output_type": "display_data"
    }
   ],
   "source": [
    "rec_preps = \"\"\"\n",
    "\n",
    "phrase_atom typ=PP\n",
    "    subphrase rela=rec\n",
    "        word pdp=prep\n",
    "\"\"\"\n",
    "\n",
    "find_and_show(rec_preps)"
   ]
  },
  {
   "cell_type": "markdown",
   "metadata": {},
   "source": [
    "The PP is different. In cases where the `phrase_atom` = `rec`, the preposition is *not* the head. Thus, the algorithm will need to check for these cases.\n",
    "\n",
    "Now for the `adj` subphrase relation in `PP`:"
   ]
  },
  {
   "cell_type": "code",
   "execution_count": 34,
   "metadata": {},
   "outputs": [
    {
     "name": "stdout",
     "output_type": "stream",
     "text": [
      "  0.88s 42 results\n",
      "42 results\n"
     ]
    },
    {
     "data": {
      "text/markdown": [
       "\n",
       "\n",
       "**phrase** *1*\n",
       "\n"
      ],
      "text/plain": [
       "<IPython.core.display.Markdown object>"
      ]
     },
     "metadata": {},
     "output_type": "display_data"
    },
    {
     "data": {
      "text/html": [
       "<div class=\"atoms \" style=\"background-color: None;\">\n",
       "<a href=\"#\" class=\"nd\">659013</a>\n",
       "\n",
       "\n",
       "\n",
       "<div class=\"patom  hl\">\n",
       "\n",
       "    <div class=\"phrase\">\n",
       "        <a href=\"https://shebanq.ancient-data.org/hebrew/text?book=Genesis&chapter=25&verse=18&version=c&mr=m&qw=q&tp=txt_p&tr=hb&wget=v&qget=v&nget=vt\" title=\"Genesis 25:18\" sec=\"Genesis 25:18\">phrase</a> <a href=\"#\" class=\"nd\">659013</a>  <span class=\"function\">Cmpl</span> <span class=\"typ\">PP</span>\n",
       "    </div>\n",
       "    <div class=\"atoms\">\n",
       "\n",
       "<div class=\"word \" style=\"background-color: None;\">\n",
       "<a href=\"#\" class=\"nd\">12691</a>\n",
       "<div class=\"h\"><a target=\"_blank\" href=\"https://shebanq.ancient-data.org/hebrew/word?version=c&id=1MN\" title=\"show this lexeme in SHEBANQ\">מֵֽ</a></div>\n",
       "<div class=\"features\"> <span class=\"pdp\"><a href=\"https://shebanq.ancient-data.org/hebrew/text?book=Genesis&chapter=25&verse=18&version=c&mr=m&qw=q&tp=txt_p&tr=hb&wget=v&qget=v&nget=vt\" title=\"Genesis 25:18\" sec=\"Genesis 25:18\">prep</a></span> <span class=\"gloss\">from</span></div>\n",
       "\n",
       "\n",
       "</div>\n",
       "\n",
       "<div class=\"word \" style=\"background-color: None;\">\n",
       "<a href=\"#\" class=\"nd\">12692</a>\n",
       "<div class=\"h\"><a target=\"_blank\" href=\"https://shebanq.ancient-data.org/hebrew/word?version=c&id=1XWJLHn\" title=\"show this lexeme in SHEBANQ\">חֲוִילָ֜ה </a></div>\n",
       "<div class=\"features\"> <span class=\"pdp\"><a href=\"https://shebanq.ancient-data.org/hebrew/text?book=Genesis&chapter=25&verse=18&version=c&mr=m&qw=q&tp=txt_p&tr=hb&wget=v&qget=v&nget=vt\" title=\"Genesis 25:18\" sec=\"Genesis 25:18\">nmpr</a></span> <span class=\"gloss\">Havilah</span></div>\n",
       "\n",
       "\n",
       "</div>\n",
       "\n",
       "<div class=\"word  hl\">\n",
       "<a href=\"#\" class=\"nd\">12693</a>\n",
       "<div class=\"h\"><a target=\"_blank\" href=\"https://shebanq.ancient-data.org/hebrew/word?version=c&id=1OD\" title=\"show this lexeme in SHEBANQ\">עַד־</a></div>\n",
       "<div class=\"features\"> <span class=\"pdp\"><a href=\"https://shebanq.ancient-data.org/hebrew/text?book=Genesis&chapter=25&verse=18&version=c&mr=m&qw=q&tp=txt_p&tr=hb&wget=v&qget=v&nget=vt\" title=\"Genesis 25:18\" sec=\"Genesis 25:18\">prep</a></span> <span class=\"gloss\">unto</span></div>\n",
       "\n",
       "\n",
       "</div>\n",
       "\n",
       "<div class=\"word \" style=\"background-color: None;\">\n",
       "<a href=\"#\" class=\"nd\">12694</a>\n",
       "<div class=\"h\"><a target=\"_blank\" href=\"https://shebanq.ancient-data.org/hebrew/word?version=c&id=1CWRiin\" title=\"show this lexeme in SHEBANQ\">שׁ֗וּר </a></div>\n",
       "<div class=\"features\"> <span class=\"pdp\"><a href=\"https://shebanq.ancient-data.org/hebrew/text?book=Genesis&chapter=25&verse=18&version=c&mr=m&qw=q&tp=txt_p&tr=hb&wget=v&qget=v&nget=vt\" title=\"Genesis 25:18\" sec=\"Genesis 25:18\">nmpr</a></span> <span class=\"gloss\">Shur</span></div>\n",
       "\n",
       "\n",
       "</div>\n",
       "\n",
       "\n",
       "    </div>\n",
       "\n",
       "\n",
       "</div>\n",
       "\n",
       "\n",
       "</div>\n"
      ],
      "text/plain": [
       "<IPython.core.display.HTML object>"
      ]
     },
     "metadata": {},
     "output_type": "display_data"
    },
    {
     "data": {
      "text/markdown": [
       "\n",
       "\n",
       "**phrase** *2*\n",
       "\n"
      ],
      "text/plain": [
       "<IPython.core.display.Markdown object>"
      ]
     },
     "metadata": {},
     "output_type": "display_data"
    },
    {
     "data": {
      "text/html": [
       "<div class=\"atoms \" style=\"background-color: None;\">\n",
       "<a href=\"#\" class=\"nd\">674965</a>\n",
       "\n",
       "\n",
       "\n",
       "<div class=\"patom  hl\">\n",
       "\n",
       "    <div class=\"phrase\">\n",
       "        <a href=\"https://shebanq.ancient-data.org/hebrew/text?book=Exodus&chapter=16&verse=21&version=c&mr=m&qw=q&tp=txt_p&tr=hb&wget=v&qget=v&nget=vt\" title=\"Exodus 16:21\" sec=\"Exodus 16:21\">phrase</a> <a href=\"#\" class=\"nd\">674965</a>  <span class=\"function\">Time</span> <span class=\"typ\">PP</span>\n",
       "    </div>\n",
       "    <div class=\"atoms\">\n",
       "\n",
       "<div class=\"word \" style=\"background-color: None;\">\n",
       "<a href=\"#\" class=\"nd\">37803</a>\n",
       "<div class=\"h\"><a target=\"_blank\" href=\"https://shebanq.ancient-data.org/hebrew/word?version=c&id=1B\" title=\"show this lexeme in SHEBANQ\">בַּ</a></div>\n",
       "<div class=\"features\"> <span class=\"pdp\"><a href=\"https://shebanq.ancient-data.org/hebrew/text?book=Exodus&chapter=16&verse=21&version=c&mr=m&qw=q&tp=txt_p&tr=hb&wget=v&qget=v&nget=vt\" title=\"Exodus 16:21\" sec=\"Exodus 16:21\">prep</a></span> <span class=\"gloss\">in</span></div>\n",
       "\n",
       "\n",
       "</div>\n",
       "\n",
       "<div class=\"word \" style=\"background-color: None;\">\n",
       "<a href=\"#\" class=\"nd\">37804</a>\n",
       "<div class=\"h\"><a target=\"_blank\" href=\"https://shebanq.ancient-data.org/hebrew/word?version=c&id=1H\" title=\"show this lexeme in SHEBANQ\"></a></div>\n",
       "<div class=\"features\"> <span class=\"pdp\"><a href=\"https://shebanq.ancient-data.org/hebrew/text?book=Exodus&chapter=16&verse=21&version=c&mr=m&qw=q&tp=txt_p&tr=hb&wget=v&qget=v&nget=vt\" title=\"Exodus 16:21\" sec=\"Exodus 16:21\">art</a></span> <span class=\"gloss\">the</span></div>\n",
       "\n",
       "\n",
       "</div>\n",
       "\n",
       "<div class=\"word \" style=\"background-color: None;\">\n",
       "<a href=\"#\" class=\"nd\">37805</a>\n",
       "<div class=\"h\"><a target=\"_blank\" href=\"https://shebanq.ancient-data.org/hebrew/word?version=c&id=1BQRin\" title=\"show this lexeme in SHEBANQ\">בֹּ֣קֶר </a></div>\n",
       "<div class=\"features\"> <span class=\"pdp\"><a href=\"https://shebanq.ancient-data.org/hebrew/text?book=Exodus&chapter=16&verse=21&version=c&mr=m&qw=q&tp=txt_p&tr=hb&wget=v&qget=v&nget=vt\" title=\"Exodus 16:21\" sec=\"Exodus 16:21\">subs</a></span> <span class=\"gloss\">morning</span></div>\n",
       "\n",
       "\n",
       "</div>\n",
       "\n",
       "<div class=\"word  hl\">\n",
       "<a href=\"#\" class=\"nd\">37806</a>\n",
       "<div class=\"h\"><a target=\"_blank\" href=\"https://shebanq.ancient-data.org/hebrew/word?version=c&id=1B\" title=\"show this lexeme in SHEBANQ\">בַּ</a></div>\n",
       "<div class=\"features\"> <span class=\"pdp\"><a href=\"https://shebanq.ancient-data.org/hebrew/text?book=Exodus&chapter=16&verse=21&version=c&mr=m&qw=q&tp=txt_p&tr=hb&wget=v&qget=v&nget=vt\" title=\"Exodus 16:21\" sec=\"Exodus 16:21\">prep</a></span> <span class=\"gloss\">in</span></div>\n",
       "\n",
       "\n",
       "</div>\n",
       "\n",
       "<div class=\"word \" style=\"background-color: None;\">\n",
       "<a href=\"#\" class=\"nd\">37807</a>\n",
       "<div class=\"h\"><a target=\"_blank\" href=\"https://shebanq.ancient-data.org/hebrew/word?version=c&id=1H\" title=\"show this lexeme in SHEBANQ\"></a></div>\n",
       "<div class=\"features\"> <span class=\"pdp\"><a href=\"https://shebanq.ancient-data.org/hebrew/text?book=Exodus&chapter=16&verse=21&version=c&mr=m&qw=q&tp=txt_p&tr=hb&wget=v&qget=v&nget=vt\" title=\"Exodus 16:21\" sec=\"Exodus 16:21\">art</a></span> <span class=\"gloss\">the</span></div>\n",
       "\n",
       "\n",
       "</div>\n",
       "\n",
       "<div class=\"word \" style=\"background-color: None;\">\n",
       "<a href=\"#\" class=\"nd\">37808</a>\n",
       "<div class=\"h\"><a target=\"_blank\" href=\"https://shebanq.ancient-data.org/hebrew/word?version=c&id=1BQRin\" title=\"show this lexeme in SHEBANQ\">בֹּ֔קֶר </a></div>\n",
       "<div class=\"features\"> <span class=\"pdp\"><a href=\"https://shebanq.ancient-data.org/hebrew/text?book=Exodus&chapter=16&verse=21&version=c&mr=m&qw=q&tp=txt_p&tr=hb&wget=v&qget=v&nget=vt\" title=\"Exodus 16:21\" sec=\"Exodus 16:21\">subs</a></span> <span class=\"gloss\">morning</span></div>\n",
       "\n",
       "\n",
       "</div>\n",
       "\n",
       "\n",
       "    </div>\n",
       "\n",
       "\n",
       "</div>\n",
       "\n",
       "\n",
       "</div>\n"
      ],
      "text/plain": [
       "<IPython.core.display.HTML object>"
      ]
     },
     "metadata": {},
     "output_type": "display_data"
    },
    {
     "data": {
      "text/markdown": [
       "\n",
       "\n",
       "**phrase** *3*\n",
       "\n"
      ],
      "text/plain": [
       "<IPython.core.display.Markdown object>"
      ]
     },
     "metadata": {},
     "output_type": "display_data"
    },
    {
     "data": {
      "text/html": [
       "<div class=\"atoms \" style=\"background-color: None;\">\n",
       "<a href=\"#\" class=\"nd\">675546</a>\n",
       "\n",
       "\n",
       "\n",
       "<div class=\"patom  hl\">\n",
       "\n",
       "    <div class=\"phrase\">\n",
       "        <a href=\"https://shebanq.ancient-data.org/hebrew/text?book=Exodus&chapter=18&verse=13&version=c&mr=m&qw=q&tp=txt_p&tr=hb&wget=v&qget=v&nget=vt\" title=\"Exodus 18:13\" sec=\"Exodus 18:13\">phrase</a> <a href=\"#\" class=\"nd\">675546</a>  <span class=\"function\">Time</span> <span class=\"typ\">PP</span>\n",
       "    </div>\n",
       "    <div class=\"atoms\">\n",
       "\n",
       "<div class=\"word \" style=\"background-color: None;\">\n",
       "<a href=\"#\" class=\"nd\">38736</a>\n",
       "<div class=\"h\"><a target=\"_blank\" href=\"https://shebanq.ancient-data.org/hebrew/word?version=c&id=1MN\" title=\"show this lexeme in SHEBANQ\">מִן־</a></div>\n",
       "<div class=\"features\"> <span class=\"pdp\"><a href=\"https://shebanq.ancient-data.org/hebrew/text?book=Exodus&chapter=18&verse=13&version=c&mr=m&qw=q&tp=txt_p&tr=hb&wget=v&qget=v&nget=vt\" title=\"Exodus 18:13\" sec=\"Exodus 18:13\">prep</a></span> <span class=\"gloss\">from</span></div>\n",
       "\n",
       "\n",
       "</div>\n",
       "\n",
       "<div class=\"word \" style=\"background-color: None;\">\n",
       "<a href=\"#\" class=\"nd\">38737</a>\n",
       "<div class=\"h\"><a target=\"_blank\" href=\"https://shebanq.ancient-data.org/hebrew/word?version=c&id=1H\" title=\"show this lexeme in SHEBANQ\">הַ</a></div>\n",
       "<div class=\"features\"> <span class=\"pdp\"><a href=\"https://shebanq.ancient-data.org/hebrew/text?book=Exodus&chapter=18&verse=13&version=c&mr=m&qw=q&tp=txt_p&tr=hb&wget=v&qget=v&nget=vt\" title=\"Exodus 18:13\" sec=\"Exodus 18:13\">art</a></span> <span class=\"gloss\">the</span></div>\n",
       "\n",
       "\n",
       "</div>\n",
       "\n",
       "<div class=\"word \" style=\"background-color: None;\">\n",
       "<a href=\"#\" class=\"nd\">38738</a>\n",
       "<div class=\"h\"><a target=\"_blank\" href=\"https://shebanq.ancient-data.org/hebrew/word?version=c&id=1BQRin\" title=\"show this lexeme in SHEBANQ\">בֹּ֖קֶר </a></div>\n",
       "<div class=\"features\"> <span class=\"pdp\"><a href=\"https://shebanq.ancient-data.org/hebrew/text?book=Exodus&chapter=18&verse=13&version=c&mr=m&qw=q&tp=txt_p&tr=hb&wget=v&qget=v&nget=vt\" title=\"Exodus 18:13\" sec=\"Exodus 18:13\">subs</a></span> <span class=\"gloss\">morning</span></div>\n",
       "\n",
       "\n",
       "</div>\n",
       "\n",
       "<div class=\"word  hl\">\n",
       "<a href=\"#\" class=\"nd\">38739</a>\n",
       "<div class=\"h\"><a target=\"_blank\" href=\"https://shebanq.ancient-data.org/hebrew/word?version=c&id=1OD\" title=\"show this lexeme in SHEBANQ\">עַד־</a></div>\n",
       "<div class=\"features\"> <span class=\"pdp\"><a href=\"https://shebanq.ancient-data.org/hebrew/text?book=Exodus&chapter=18&verse=13&version=c&mr=m&qw=q&tp=txt_p&tr=hb&wget=v&qget=v&nget=vt\" title=\"Exodus 18:13\" sec=\"Exodus 18:13\">prep</a></span> <span class=\"gloss\">unto</span></div>\n",
       "\n",
       "\n",
       "</div>\n",
       "\n",
       "<div class=\"word \" style=\"background-color: None;\">\n",
       "<a href=\"#\" class=\"nd\">38740</a>\n",
       "<div class=\"h\"><a target=\"_blank\" href=\"https://shebanq.ancient-data.org/hebrew/word?version=c&id=1H\" title=\"show this lexeme in SHEBANQ\">הָ</a></div>\n",
       "<div class=\"features\"> <span class=\"pdp\"><a href=\"https://shebanq.ancient-data.org/hebrew/text?book=Exodus&chapter=18&verse=13&version=c&mr=m&qw=q&tp=txt_p&tr=hb&wget=v&qget=v&nget=vt\" title=\"Exodus 18:13\" sec=\"Exodus 18:13\">art</a></span> <span class=\"gloss\">the</span></div>\n",
       "\n",
       "\n",
       "</div>\n",
       "\n",
       "<div class=\"word \" style=\"background-color: None;\">\n",
       "<a href=\"#\" class=\"nd\">38741</a>\n",
       "<div class=\"h\"><a target=\"_blank\" href=\"https://shebanq.ancient-data.org/hebrew/word?version=c&id=1ORBn\" title=\"show this lexeme in SHEBANQ\">עָֽרֶב׃ </a></div>\n",
       "<div class=\"features\"> <span class=\"pdp\"><a href=\"https://shebanq.ancient-data.org/hebrew/text?book=Exodus&chapter=18&verse=13&version=c&mr=m&qw=q&tp=txt_p&tr=hb&wget=v&qget=v&nget=vt\" title=\"Exodus 18:13\" sec=\"Exodus 18:13\">subs</a></span> <span class=\"gloss\">evening</span></div>\n",
       "\n",
       "\n",
       "</div>\n",
       "\n",
       "\n",
       "    </div>\n",
       "\n",
       "\n",
       "</div>\n",
       "\n",
       "\n",
       "</div>\n"
      ],
      "text/plain": [
       "<IPython.core.display.HTML object>"
      ]
     },
     "metadata": {},
     "output_type": "display_data"
    },
    {
     "data": {
      "text/markdown": [
       "\n",
       "\n",
       "**phrase** *4*\n",
       "\n"
      ],
      "text/plain": [
       "<IPython.core.display.Markdown object>"
      ]
     },
     "metadata": {},
     "output_type": "display_data"
    },
    {
     "data": {
      "text/html": [
       "<div class=\"atoms \" style=\"background-color: None;\">\n",
       "<a href=\"#\" class=\"nd\">675571</a>\n",
       "\n",
       "\n",
       "\n",
       "<div class=\"patom  hl\">\n",
       "\n",
       "    <div class=\"phrase\">\n",
       "        <a href=\"https://shebanq.ancient-data.org/hebrew/text?book=Exodus&chapter=18&verse=14&version=c&mr=m&qw=q&tp=txt_p&tr=hb&wget=v&qget=v&nget=vt\" title=\"Exodus 18:14\" sec=\"Exodus 18:14\">phrase</a> <a href=\"#\" class=\"nd\">675571</a>  <span class=\"function\">Time</span> <span class=\"typ\">PP</span>\n",
       "    </div>\n",
       "    <div class=\"atoms\">\n",
       "\n",
       "<div class=\"word \" style=\"background-color: None;\">\n",
       "<a href=\"#\" class=\"nd\">38778</a>\n",
       "<div class=\"h\"><a target=\"_blank\" href=\"https://shebanq.ancient-data.org/hebrew/word?version=c&id=1MN\" title=\"show this lexeme in SHEBANQ\">מִן־</a></div>\n",
       "<div class=\"features\"> <span class=\"pdp\"><a href=\"https://shebanq.ancient-data.org/hebrew/text?book=Exodus&chapter=18&verse=14&version=c&mr=m&qw=q&tp=txt_p&tr=hb&wget=v&qget=v&nget=vt\" title=\"Exodus 18:14\" sec=\"Exodus 18:14\">prep</a></span> <span class=\"gloss\">from</span></div>\n",
       "\n",
       "\n",
       "</div>\n",
       "\n",
       "<div class=\"word \" style=\"background-color: None;\">\n",
       "<a href=\"#\" class=\"nd\">38779</a>\n",
       "<div class=\"h\"><a target=\"_blank\" href=\"https://shebanq.ancient-data.org/hebrew/word?version=c&id=1BQRin\" title=\"show this lexeme in SHEBANQ\">בֹּ֥קֶר </a></div>\n",
       "<div class=\"features\"> <span class=\"pdp\"><a href=\"https://shebanq.ancient-data.org/hebrew/text?book=Exodus&chapter=18&verse=14&version=c&mr=m&qw=q&tp=txt_p&tr=hb&wget=v&qget=v&nget=vt\" title=\"Exodus 18:14\" sec=\"Exodus 18:14\">subs</a></span> <span class=\"gloss\">morning</span></div>\n",
       "\n",
       "\n",
       "</div>\n",
       "\n",
       "<div class=\"word  hl\">\n",
       "<a href=\"#\" class=\"nd\">38780</a>\n",
       "<div class=\"h\"><a target=\"_blank\" href=\"https://shebanq.ancient-data.org/hebrew/word?version=c&id=1OD\" title=\"show this lexeme in SHEBANQ\">עַד־</a></div>\n",
       "<div class=\"features\"> <span class=\"pdp\"><a href=\"https://shebanq.ancient-data.org/hebrew/text?book=Exodus&chapter=18&verse=14&version=c&mr=m&qw=q&tp=txt_p&tr=hb&wget=v&qget=v&nget=vt\" title=\"Exodus 18:14\" sec=\"Exodus 18:14\">prep</a></span> <span class=\"gloss\">unto</span></div>\n",
       "\n",
       "\n",
       "</div>\n",
       "\n",
       "<div class=\"word \" style=\"background-color: None;\">\n",
       "<a href=\"#\" class=\"nd\">38781</a>\n",
       "<div class=\"h\"><a target=\"_blank\" href=\"https://shebanq.ancient-data.org/hebrew/word?version=c&id=1ORBn\" title=\"show this lexeme in SHEBANQ\">עָֽרֶב׃ </a></div>\n",
       "<div class=\"features\"> <span class=\"pdp\"><a href=\"https://shebanq.ancient-data.org/hebrew/text?book=Exodus&chapter=18&verse=14&version=c&mr=m&qw=q&tp=txt_p&tr=hb&wget=v&qget=v&nget=vt\" title=\"Exodus 18:14\" sec=\"Exodus 18:14\">subs</a></span> <span class=\"gloss\">evening</span></div>\n",
       "\n",
       "\n",
       "</div>\n",
       "\n",
       "\n",
       "    </div>\n",
       "\n",
       "\n",
       "</div>\n",
       "\n",
       "\n",
       "</div>\n"
      ],
      "text/plain": [
       "<IPython.core.display.HTML object>"
      ]
     },
     "metadata": {},
     "output_type": "display_data"
    },
    {
     "data": {
      "text/markdown": [
       "\n",
       "\n",
       "**phrase** *5*\n",
       "\n"
      ],
      "text/plain": [
       "<IPython.core.display.Markdown object>"
      ]
     },
     "metadata": {},
     "output_type": "display_data"
    },
    {
     "data": {
      "text/html": [
       "<div class=\"atoms \" style=\"background-color: None;\">\n",
       "<a href=\"#\" class=\"nd\">676757</a>\n",
       "\n",
       "\n",
       "\n",
       "<div class=\"patom  l\" style=\"background-color: None;\">\n",
       "\n",
       "    <div class=\"phrase\">\n",
       "        <a href=\"https://shebanq.ancient-data.org/hebrew/text?book=Exodus&chapter=22&verse=3&version=c&mr=m&qw=q&tp=txt_p&tr=hb&wget=v&qget=v&nget=vt\" title=\"Exodus 22:3\" sec=\"Exodus 22:3\">phrase</a> <a href=\"#\" class=\"nd\">676757</a>  <span class=\"function\">Subj</span> <span class=\"typ\">NP</span>\n",
       "    </div>\n",
       "    <div class=\"atoms\">\n",
       "\n",
       "<div class=\"word \" style=\"background-color: None;\">\n",
       "<a href=\"#\" class=\"nd\">40647</a>\n",
       "<div class=\"h\"><a target=\"_blank\" href=\"https://shebanq.ancient-data.org/hebrew/word?version=c&id=1H\" title=\"show this lexeme in SHEBANQ\">הַ</a></div>\n",
       "<div class=\"features\"> <span class=\"pdp\"><a href=\"https://shebanq.ancient-data.org/hebrew/text?book=Exodus&chapter=22&verse=3&version=c&mr=m&qw=q&tp=txt_p&tr=hb&wget=v&qget=v&nget=vt\" title=\"Exodus 22:3\" sec=\"Exodus 22:3\">art</a></span> <span class=\"gloss\">the</span></div>\n",
       "\n",
       "\n",
       "</div>\n",
       "\n",
       "<div class=\"word \" style=\"background-color: None;\">\n",
       "<a href=\"#\" class=\"nd\">40648</a>\n",
       "<div class=\"h\"><a target=\"_blank\" href=\"https://shebanq.ancient-data.org/hebrew/word?version=c&id=1GNBHn\" title=\"show this lexeme in SHEBANQ\">גְּנֵבָ֗ה </a></div>\n",
       "<div class=\"features\"> <span class=\"pdp\"><a href=\"https://shebanq.ancient-data.org/hebrew/text?book=Exodus&chapter=22&verse=3&version=c&mr=m&qw=q&tp=txt_p&tr=hb&wget=v&qget=v&nget=vt\" title=\"Exodus 22:3\" sec=\"Exodus 22:3\">subs</a></span> <span class=\"gloss\">what is stolen</span></div>\n",
       "\n",
       "\n",
       "</div>\n",
       "\n",
       "\n",
       "    </div>\n",
       "\n",
       "\n",
       "</div>\n",
       "\n",
       "<div class=\"patom  r hl\">\n",
       "\n",
       "    <div class=\"phrase\">\n",
       "        <a href=\"https://shebanq.ancient-data.org/hebrew/text?book=Exodus&chapter=22&verse=3&version=c&mr=m&qw=q&tp=txt_p&tr=hb&wget=v&qget=v&nget=vt\" title=\"Exodus 22:3\" sec=\"Exodus 22:3\">phrase</a> <a href=\"#\" class=\"nd\">676757</a>  <span class=\"function\">Subj</span> <span class=\"typ\">NP</span>\n",
       "    </div>\n",
       "    <div class=\"atoms\">\n",
       "\n",
       "<div class=\"word \" style=\"background-color: None;\">\n",
       "<a href=\"#\" class=\"nd\">40649</a>\n",
       "<div class=\"h\"><a target=\"_blank\" href=\"https://shebanq.ancient-data.org/hebrew/word?version=c&id=1MN\" title=\"show this lexeme in SHEBANQ\">מִ</a></div>\n",
       "<div class=\"features\"> <span class=\"pdp\"><a href=\"https://shebanq.ancient-data.org/hebrew/text?book=Exodus&chapter=22&verse=3&version=c&mr=m&qw=q&tp=txt_p&tr=hb&wget=v&qget=v&nget=vt\" title=\"Exodus 22:3\" sec=\"Exodus 22:3\">prep</a></span> <span class=\"gloss\">from</span></div>\n",
       "\n",
       "\n",
       "</div>\n",
       "\n",
       "<div class=\"word \" style=\"background-color: None;\">\n",
       "<a href=\"#\" class=\"nd\">40650</a>\n",
       "<div class=\"h\"><a target=\"_blank\" href=\"https://shebanq.ancient-data.org/hebrew/word?version=c&id=1CWRn\" title=\"show this lexeme in SHEBANQ\">שֹּׁ֧ור </a></div>\n",
       "<div class=\"features\"> <span class=\"pdp\"><a href=\"https://shebanq.ancient-data.org/hebrew/text?book=Exodus&chapter=22&verse=3&version=c&mr=m&qw=q&tp=txt_p&tr=hb&wget=v&qget=v&nget=vt\" title=\"Exodus 22:3\" sec=\"Exodus 22:3\">subs</a></span> <span class=\"gloss\">bullock</span></div>\n",
       "\n",
       "\n",
       "</div>\n",
       "\n",
       "<div class=\"word  hl\">\n",
       "<a href=\"#\" class=\"nd\">40651</a>\n",
       "<div class=\"h\"><a target=\"_blank\" href=\"https://shebanq.ancient-data.org/hebrew/word?version=c&id=1OD\" title=\"show this lexeme in SHEBANQ\">עַד־</a></div>\n",
       "<div class=\"features\"> <span class=\"pdp\"><a href=\"https://shebanq.ancient-data.org/hebrew/text?book=Exodus&chapter=22&verse=3&version=c&mr=m&qw=q&tp=txt_p&tr=hb&wget=v&qget=v&nget=vt\" title=\"Exodus 22:3\" sec=\"Exodus 22:3\">prep</a></span> <span class=\"gloss\">unto</span></div>\n",
       "\n",
       "\n",
       "</div>\n",
       "\n",
       "<div class=\"word \" style=\"background-color: None;\">\n",
       "<a href=\"#\" class=\"nd\">40652</a>\n",
       "<div class=\"h\"><a target=\"_blank\" href=\"https://shebanq.ancient-data.org/hebrew/word?version=c&id=1XMWRn\" title=\"show this lexeme in SHEBANQ\">חֲמֹ֛ור </a></div>\n",
       "<div class=\"features\"> <span class=\"pdp\"><a href=\"https://shebanq.ancient-data.org/hebrew/text?book=Exodus&chapter=22&verse=3&version=c&mr=m&qw=q&tp=txt_p&tr=hb&wget=v&qget=v&nget=vt\" title=\"Exodus 22:3\" sec=\"Exodus 22:3\">subs</a></span> <span class=\"gloss\">he-ass</span></div>\n",
       "\n",
       "\n",
       "</div>\n",
       "\n",
       "<div class=\"word  hl\">\n",
       "<a href=\"#\" class=\"nd\">40653</a>\n",
       "<div class=\"h\"><a target=\"_blank\" href=\"https://shebanq.ancient-data.org/hebrew/word?version=c&id=1OD\" title=\"show this lexeme in SHEBANQ\">עַד־</a></div>\n",
       "<div class=\"features\"> <span class=\"pdp\"><a href=\"https://shebanq.ancient-data.org/hebrew/text?book=Exodus&chapter=22&verse=3&version=c&mr=m&qw=q&tp=txt_p&tr=hb&wget=v&qget=v&nget=vt\" title=\"Exodus 22:3\" sec=\"Exodus 22:3\">prep</a></span> <span class=\"gloss\">unto</span></div>\n",
       "\n",
       "\n",
       "</div>\n",
       "\n",
       "<div class=\"word \" style=\"background-color: None;\">\n",
       "<a href=\"#\" class=\"nd\">40654</a>\n",
       "<div class=\"h\"><a target=\"_blank\" href=\"https://shebanq.ancient-data.org/hebrew/word?version=c&id=1FHn\" title=\"show this lexeme in SHEBANQ\">שֶׂ֖ה </a></div>\n",
       "<div class=\"features\"> <span class=\"pdp\"><a href=\"https://shebanq.ancient-data.org/hebrew/text?book=Exodus&chapter=22&verse=3&version=c&mr=m&qw=q&tp=txt_p&tr=hb&wget=v&qget=v&nget=vt\" title=\"Exodus 22:3\" sec=\"Exodus 22:3\">subs</a></span> <span class=\"gloss\">lamb</span></div>\n",
       "\n",
       "\n",
       "</div>\n",
       "\n",
       "\n",
       "    </div>\n",
       "\n",
       "\n",
       "</div>\n",
       "\n",
       "\n",
       "</div>\n"
      ],
      "text/plain": [
       "<IPython.core.display.HTML object>"
      ]
     },
     "metadata": {},
     "output_type": "display_data"
    },
    {
     "data": {
      "text/markdown": [
       "\n",
       "\n",
       "**phrase** *6*\n",
       "\n"
      ],
      "text/plain": [
       "<IPython.core.display.Markdown object>"
      ]
     },
     "metadata": {},
     "output_type": "display_data"
    },
    {
     "data": {
      "text/html": [
       "<div class=\"atoms \" style=\"background-color: None;\">\n",
       "<a href=\"#\" class=\"nd\">677725</a>\n",
       "\n",
       "\n",
       "\n",
       "<div class=\"patom  hl\">\n",
       "\n",
       "    <div class=\"phrase\">\n",
       "        <a href=\"https://shebanq.ancient-data.org/hebrew/text?book=Exodus&chapter=25&verse=19&version=c&mr=m&qw=q&tp=txt_p&tr=hb&wget=v&qget=v&nget=vt\" title=\"Exodus 25:19\" sec=\"Exodus 25:19\">phrase</a> <a href=\"#\" class=\"nd\">677725</a>  <span class=\"function\">Adju</span> <span class=\"typ\">PP</span>\n",
       "    </div>\n",
       "    <div class=\"atoms\">\n",
       "\n",
       "<div class=\"word \" style=\"background-color: None;\">\n",
       "<a href=\"#\" class=\"nd\">42226</a>\n",
       "<div class=\"h\"><a target=\"_blank\" href=\"https://shebanq.ancient-data.org/hebrew/word?version=c&id=1MN\" title=\"show this lexeme in SHEBANQ\">מִ</a></div>\n",
       "<div class=\"features\"> <span class=\"pdp\"><a href=\"https://shebanq.ancient-data.org/hebrew/text?book=Exodus&chapter=25&verse=19&version=c&mr=m&qw=q&tp=txt_p&tr=hb&wget=v&qget=v&nget=vt\" title=\"Exodus 25:19\" sec=\"Exodus 25:19\">prep</a></span> <span class=\"gloss\">from</span></div>\n",
       "\n",
       "\n",
       "</div>\n",
       "\n",
       "<div class=\"word \" style=\"background-color: None;\">\n",
       "<a href=\"#\" class=\"nd\">42227</a>\n",
       "<div class=\"h\"><a target=\"_blank\" href=\"https://shebanq.ancient-data.org/hebrew/word?version=c&id=1QYHn\" title=\"show this lexeme in SHEBANQ\">קָּצָה֙ </a></div>\n",
       "<div class=\"features\"> <span class=\"pdp\"><a href=\"https://shebanq.ancient-data.org/hebrew/text?book=Exodus&chapter=25&verse=19&version=c&mr=m&qw=q&tp=txt_p&tr=hb&wget=v&qget=v&nget=vt\" title=\"Exodus 25:19\" sec=\"Exodus 25:19\">subs</a></span> <span class=\"gloss\">end</span></div>\n",
       "\n",
       "\n",
       "</div>\n",
       "\n",
       "<div class=\"word  hl\">\n",
       "<a href=\"#\" class=\"nd\">42228</a>\n",
       "<div class=\"h\"><a target=\"_blank\" href=\"https://shebanq.ancient-data.org/hebrew/word?version=c&id=1MN\" title=\"show this lexeme in SHEBANQ\">מִ</a></div>\n",
       "<div class=\"features\"> <span class=\"pdp\"><a href=\"https://shebanq.ancient-data.org/hebrew/text?book=Exodus&chapter=25&verse=19&version=c&mr=m&qw=q&tp=txt_p&tr=hb&wget=v&qget=v&nget=vt\" title=\"Exodus 25:19\" sec=\"Exodus 25:19\">prep</a></span> <span class=\"gloss\">from</span></div>\n",
       "\n",
       "\n",
       "</div>\n",
       "\n",
       "<div class=\"word \" style=\"background-color: None;\">\n",
       "<a href=\"#\" class=\"nd\">42229</a>\n",
       "<div class=\"h\"><a target=\"_blank\" href=\"https://shebanq.ancient-data.org/hebrew/word?version=c&id=1ZH\" title=\"show this lexeme in SHEBANQ\">זֶּ֔ה </a></div>\n",
       "<div class=\"features\"> <span class=\"pdp\"><a href=\"https://shebanq.ancient-data.org/hebrew/text?book=Exodus&chapter=25&verse=19&version=c&mr=m&qw=q&tp=txt_p&tr=hb&wget=v&qget=v&nget=vt\" title=\"Exodus 25:19\" sec=\"Exodus 25:19\">prde</a></span> <span class=\"gloss\">this</span></div>\n",
       "\n",
       "\n",
       "</div>\n",
       "\n",
       "\n",
       "    </div>\n",
       "\n",
       "\n",
       "</div>\n",
       "\n",
       "\n",
       "</div>\n"
      ],
      "text/plain": [
       "<IPython.core.display.HTML object>"
      ]
     },
     "metadata": {},
     "output_type": "display_data"
    },
    {
     "data": {
      "text/markdown": [
       "\n",
       "\n",
       "**phrase** *7*\n",
       "\n"
      ],
      "text/plain": [
       "<IPython.core.display.Markdown object>"
      ]
     },
     "metadata": {},
     "output_type": "display_data"
    },
    {
     "data": {
      "text/html": [
       "<div class=\"atoms \" style=\"background-color: None;\">\n",
       "<a href=\"#\" class=\"nd\">677728</a>\n",
       "\n",
       "\n",
       "\n",
       "<div class=\"patom  hl\">\n",
       "\n",
       "    <div class=\"phrase\">\n",
       "        <a href=\"https://shebanq.ancient-data.org/hebrew/text?book=Exodus&chapter=25&verse=19&version=c&mr=m&qw=q&tp=txt_p&tr=hb&wget=v&qget=v&nget=vt\" title=\"Exodus 25:19\" sec=\"Exodus 25:19\">phrase</a> <a href=\"#\" class=\"nd\">677728</a>  <span class=\"function\">Adju</span> <span class=\"typ\">PP</span>\n",
       "    </div>\n",
       "    <div class=\"atoms\">\n",
       "\n",
       "<div class=\"word \" style=\"background-color: None;\">\n",
       "<a href=\"#\" class=\"nd\">42233</a>\n",
       "<div class=\"h\"><a target=\"_blank\" href=\"https://shebanq.ancient-data.org/hebrew/word?version=c&id=1MN\" title=\"show this lexeme in SHEBANQ\">מִ</a></div>\n",
       "<div class=\"features\"> <span class=\"pdp\"><a href=\"https://shebanq.ancient-data.org/hebrew/text?book=Exodus&chapter=25&verse=19&version=c&mr=m&qw=q&tp=txt_p&tr=hb&wget=v&qget=v&nget=vt\" title=\"Exodus 25:19\" sec=\"Exodus 25:19\">prep</a></span> <span class=\"gloss\">from</span></div>\n",
       "\n",
       "\n",
       "</div>\n",
       "\n",
       "<div class=\"word \" style=\"background-color: None;\">\n",
       "<a href=\"#\" class=\"nd\">42234</a>\n",
       "<div class=\"h\"><a target=\"_blank\" href=\"https://shebanq.ancient-data.org/hebrew/word?version=c&id=1QYHn\" title=\"show this lexeme in SHEBANQ\">קָּצָ֖ה </a></div>\n",
       "<div class=\"features\"> <span class=\"pdp\"><a href=\"https://shebanq.ancient-data.org/hebrew/text?book=Exodus&chapter=25&verse=19&version=c&mr=m&qw=q&tp=txt_p&tr=hb&wget=v&qget=v&nget=vt\" title=\"Exodus 25:19\" sec=\"Exodus 25:19\">subs</a></span> <span class=\"gloss\">end</span></div>\n",
       "\n",
       "\n",
       "</div>\n",
       "\n",
       "<div class=\"word  hl\">\n",
       "<a href=\"#\" class=\"nd\">42235</a>\n",
       "<div class=\"h\"><a target=\"_blank\" href=\"https://shebanq.ancient-data.org/hebrew/word?version=c&id=1MN\" title=\"show this lexeme in SHEBANQ\">מִ</a></div>\n",
       "<div class=\"features\"> <span class=\"pdp\"><a href=\"https://shebanq.ancient-data.org/hebrew/text?book=Exodus&chapter=25&verse=19&version=c&mr=m&qw=q&tp=txt_p&tr=hb&wget=v&qget=v&nget=vt\" title=\"Exodus 25:19\" sec=\"Exodus 25:19\">prep</a></span> <span class=\"gloss\">from</span></div>\n",
       "\n",
       "\n",
       "</div>\n",
       "\n",
       "<div class=\"word \" style=\"background-color: None;\">\n",
       "<a href=\"#\" class=\"nd\">42236</a>\n",
       "<div class=\"h\"><a target=\"_blank\" href=\"https://shebanq.ancient-data.org/hebrew/word?version=c&id=1ZH\" title=\"show this lexeme in SHEBANQ\">זֶּ֑ה </a></div>\n",
       "<div class=\"features\"> <span class=\"pdp\"><a href=\"https://shebanq.ancient-data.org/hebrew/text?book=Exodus&chapter=25&verse=19&version=c&mr=m&qw=q&tp=txt_p&tr=hb&wget=v&qget=v&nget=vt\" title=\"Exodus 25:19\" sec=\"Exodus 25:19\">prde</a></span> <span class=\"gloss\">this</span></div>\n",
       "\n",
       "\n",
       "</div>\n",
       "\n",
       "\n",
       "    </div>\n",
       "\n",
       "\n",
       "</div>\n",
       "\n",
       "\n",
       "</div>\n"
      ],
      "text/plain": [
       "<IPython.core.display.HTML object>"
      ]
     },
     "metadata": {},
     "output_type": "display_data"
    },
    {
     "data": {
      "text/markdown": [
       "\n",
       "\n",
       "**phrase** *8*\n",
       "\n"
      ],
      "text/plain": [
       "<IPython.core.display.Markdown object>"
      ]
     },
     "metadata": {},
     "output_type": "display_data"
    },
    {
     "data": {
      "text/html": [
       "<div class=\"atoms \" style=\"background-color: None;\">\n",
       "<a href=\"#\" class=\"nd\">678437</a>\n",
       "\n",
       "\n",
       "\n",
       "<div class=\"patom  hl\">\n",
       "\n",
       "    <div class=\"phrase\">\n",
       "        <a href=\"https://shebanq.ancient-data.org/hebrew/text?book=Exodus&chapter=27&verse=21&version=c&mr=m&qw=q&tp=txt_p&tr=hb&wget=v&qget=v&nget=vt\" title=\"Exodus 27:21\" sec=\"Exodus 27:21\">phrase</a> <a href=\"#\" class=\"nd\">678437</a>  <span class=\"function\">Time</span> <span class=\"typ\">PP</span>\n",
       "    </div>\n",
       "    <div class=\"atoms\">\n",
       "\n",
       "<div class=\"word \" style=\"background-color: None;\">\n",
       "<a href=\"#\" class=\"nd\">43705</a>\n",
       "<div class=\"h\"><a target=\"_blank\" href=\"https://shebanq.ancient-data.org/hebrew/word?version=c&id=1MN\" title=\"show this lexeme in SHEBANQ\">מֵ</a></div>\n",
       "<div class=\"features\"> <span class=\"pdp\"><a href=\"https://shebanq.ancient-data.org/hebrew/text?book=Exodus&chapter=27&verse=21&version=c&mr=m&qw=q&tp=txt_p&tr=hb&wget=v&qget=v&nget=vt\" title=\"Exodus 27:21\" sec=\"Exodus 27:21\">prep</a></span> <span class=\"gloss\">from</span></div>\n",
       "\n",
       "\n",
       "</div>\n",
       "\n",
       "<div class=\"word \" style=\"background-color: None;\">\n",
       "<a href=\"#\" class=\"nd\">43706</a>\n",
       "<div class=\"h\"><a target=\"_blank\" href=\"https://shebanq.ancient-data.org/hebrew/word?version=c&id=1ORBn\" title=\"show this lexeme in SHEBANQ\">עֶ֥רֶב </a></div>\n",
       "<div class=\"features\"> <span class=\"pdp\"><a href=\"https://shebanq.ancient-data.org/hebrew/text?book=Exodus&chapter=27&verse=21&version=c&mr=m&qw=q&tp=txt_p&tr=hb&wget=v&qget=v&nget=vt\" title=\"Exodus 27:21\" sec=\"Exodus 27:21\">subs</a></span> <span class=\"gloss\">evening</span></div>\n",
       "\n",
       "\n",
       "</div>\n",
       "\n",
       "<div class=\"word  hl\">\n",
       "<a href=\"#\" class=\"nd\">43707</a>\n",
       "<div class=\"h\"><a target=\"_blank\" href=\"https://shebanq.ancient-data.org/hebrew/word?version=c&id=1OD\" title=\"show this lexeme in SHEBANQ\">עַד־</a></div>\n",
       "<div class=\"features\"> <span class=\"pdp\"><a href=\"https://shebanq.ancient-data.org/hebrew/text?book=Exodus&chapter=27&verse=21&version=c&mr=m&qw=q&tp=txt_p&tr=hb&wget=v&qget=v&nget=vt\" title=\"Exodus 27:21\" sec=\"Exodus 27:21\">prep</a></span> <span class=\"gloss\">unto</span></div>\n",
       "\n",
       "\n",
       "</div>\n",
       "\n",
       "<div class=\"word \" style=\"background-color: None;\">\n",
       "<a href=\"#\" class=\"nd\">43708</a>\n",
       "<div class=\"h\"><a target=\"_blank\" href=\"https://shebanq.ancient-data.org/hebrew/word?version=c&id=1BQRin\" title=\"show this lexeme in SHEBANQ\">בֹּ֖קֶר </a></div>\n",
       "<div class=\"features\"> <span class=\"pdp\"><a href=\"https://shebanq.ancient-data.org/hebrew/text?book=Exodus&chapter=27&verse=21&version=c&mr=m&qw=q&tp=txt_p&tr=hb&wget=v&qget=v&nget=vt\" title=\"Exodus 27:21\" sec=\"Exodus 27:21\">subs</a></span> <span class=\"gloss\">morning</span></div>\n",
       "\n",
       "\n",
       "</div>\n",
       "\n",
       "\n",
       "    </div>\n",
       "\n",
       "\n",
       "</div>\n",
       "\n",
       "\n",
       "</div>\n"
      ],
      "text/plain": [
       "<IPython.core.display.HTML object>"
      ]
     },
     "metadata": {},
     "output_type": "display_data"
    },
    {
     "data": {
      "text/markdown": [
       "\n",
       "\n",
       "**phrase** *9*\n",
       "\n"
      ],
      "text/plain": [
       "<IPython.core.display.Markdown object>"
      ]
     },
     "metadata": {},
     "output_type": "display_data"
    },
    {
     "data": {
      "text/html": [
       "<div class=\"atoms \" style=\"background-color: None;\">\n",
       "<a href=\"#\" class=\"nd\">679353</a>\n",
       "\n",
       "\n",
       "\n",
       "<div class=\"patom  hl\">\n",
       "\n",
       "    <div class=\"phrase\">\n",
       "        <a href=\"https://shebanq.ancient-data.org/hebrew/text?book=Exodus&chapter=30&verse=7&version=c&mr=m&qw=q&tp=txt_p&tr=hb&wget=v&qget=v&nget=vt\" title=\"Exodus 30:7\" sec=\"Exodus 30:7\">phrase</a> <a href=\"#\" class=\"nd\">679353</a>  <span class=\"function\">Time</span> <span class=\"typ\">PP</span>\n",
       "    </div>\n",
       "    <div class=\"atoms\">\n",
       "\n",
       "<div class=\"word \" style=\"background-color: None;\">\n",
       "<a href=\"#\" class=\"nd\">45628</a>\n",
       "<div class=\"h\"><a target=\"_blank\" href=\"https://shebanq.ancient-data.org/hebrew/word?version=c&id=1B\" title=\"show this lexeme in SHEBANQ\">בַּ</a></div>\n",
       "<div class=\"features\"> <span class=\"pdp\"><a href=\"https://shebanq.ancient-data.org/hebrew/text?book=Exodus&chapter=30&verse=7&version=c&mr=m&qw=q&tp=txt_p&tr=hb&wget=v&qget=v&nget=vt\" title=\"Exodus 30:7\" sec=\"Exodus 30:7\">prep</a></span> <span class=\"gloss\">in</span></div>\n",
       "\n",
       "\n",
       "</div>\n",
       "\n",
       "<div class=\"word \" style=\"background-color: None;\">\n",
       "<a href=\"#\" class=\"nd\">45629</a>\n",
       "<div class=\"h\"><a target=\"_blank\" href=\"https://shebanq.ancient-data.org/hebrew/word?version=c&id=1H\" title=\"show this lexeme in SHEBANQ\"></a></div>\n",
       "<div class=\"features\"> <span class=\"pdp\"><a href=\"https://shebanq.ancient-data.org/hebrew/text?book=Exodus&chapter=30&verse=7&version=c&mr=m&qw=q&tp=txt_p&tr=hb&wget=v&qget=v&nget=vt\" title=\"Exodus 30:7\" sec=\"Exodus 30:7\">art</a></span> <span class=\"gloss\">the</span></div>\n",
       "\n",
       "\n",
       "</div>\n",
       "\n",
       "<div class=\"word \" style=\"background-color: None;\">\n",
       "<a href=\"#\" class=\"nd\">45630</a>\n",
       "<div class=\"h\"><a target=\"_blank\" href=\"https://shebanq.ancient-data.org/hebrew/word?version=c&id=1BQRin\" title=\"show this lexeme in SHEBANQ\">בֹּ֣קֶר </a></div>\n",
       "<div class=\"features\"> <span class=\"pdp\"><a href=\"https://shebanq.ancient-data.org/hebrew/text?book=Exodus&chapter=30&verse=7&version=c&mr=m&qw=q&tp=txt_p&tr=hb&wget=v&qget=v&nget=vt\" title=\"Exodus 30:7\" sec=\"Exodus 30:7\">subs</a></span> <span class=\"gloss\">morning</span></div>\n",
       "\n",
       "\n",
       "</div>\n",
       "\n",
       "<div class=\"word  hl\">\n",
       "<a href=\"#\" class=\"nd\">45631</a>\n",
       "<div class=\"h\"><a target=\"_blank\" href=\"https://shebanq.ancient-data.org/hebrew/word?version=c&id=1B\" title=\"show this lexeme in SHEBANQ\">בַּ</a></div>\n",
       "<div class=\"features\"> <span class=\"pdp\"><a href=\"https://shebanq.ancient-data.org/hebrew/text?book=Exodus&chapter=30&verse=7&version=c&mr=m&qw=q&tp=txt_p&tr=hb&wget=v&qget=v&nget=vt\" title=\"Exodus 30:7\" sec=\"Exodus 30:7\">prep</a></span> <span class=\"gloss\">in</span></div>\n",
       "\n",
       "\n",
       "</div>\n",
       "\n",
       "<div class=\"word \" style=\"background-color: None;\">\n",
       "<a href=\"#\" class=\"nd\">45632</a>\n",
       "<div class=\"h\"><a target=\"_blank\" href=\"https://shebanq.ancient-data.org/hebrew/word?version=c&id=1H\" title=\"show this lexeme in SHEBANQ\"></a></div>\n",
       "<div class=\"features\"> <span class=\"pdp\"><a href=\"https://shebanq.ancient-data.org/hebrew/text?book=Exodus&chapter=30&verse=7&version=c&mr=m&qw=q&tp=txt_p&tr=hb&wget=v&qget=v&nget=vt\" title=\"Exodus 30:7\" sec=\"Exodus 30:7\">art</a></span> <span class=\"gloss\">the</span></div>\n",
       "\n",
       "\n",
       "</div>\n",
       "\n",
       "<div class=\"word \" style=\"background-color: None;\">\n",
       "<a href=\"#\" class=\"nd\">45633</a>\n",
       "<div class=\"h\"><a target=\"_blank\" href=\"https://shebanq.ancient-data.org/hebrew/word?version=c&id=1BQRin\" title=\"show this lexeme in SHEBANQ\">בֹּ֗קֶר </a></div>\n",
       "<div class=\"features\"> <span class=\"pdp\"><a href=\"https://shebanq.ancient-data.org/hebrew/text?book=Exodus&chapter=30&verse=7&version=c&mr=m&qw=q&tp=txt_p&tr=hb&wget=v&qget=v&nget=vt\" title=\"Exodus 30:7\" sec=\"Exodus 30:7\">subs</a></span> <span class=\"gloss\">morning</span></div>\n",
       "\n",
       "\n",
       "</div>\n",
       "\n",
       "\n",
       "    </div>\n",
       "\n",
       "\n",
       "</div>\n",
       "\n",
       "\n",
       "</div>\n"
      ],
      "text/plain": [
       "<IPython.core.display.HTML object>"
      ]
     },
     "metadata": {},
     "output_type": "display_data"
    },
    {
     "data": {
      "text/markdown": [
       "\n",
       "\n",
       "**phrase** *10*\n",
       "\n"
      ],
      "text/plain": [
       "<IPython.core.display.Markdown object>"
      ]
     },
     "metadata": {},
     "output_type": "display_data"
    },
    {
     "data": {
      "text/html": [
       "<div class=\"atoms \" style=\"background-color: None;\">\n",
       "<a href=\"#\" class=\"nd\">681309</a>\n",
       "\n",
       "\n",
       "\n",
       "<div class=\"patom  hl\">\n",
       "\n",
       "    <div class=\"phrase\">\n",
       "        <a href=\"https://shebanq.ancient-data.org/hebrew/text?book=Exodus&chapter=36&verse=3&version=c&mr=m&qw=q&tp=txt_p&tr=hb&wget=v&qget=v&nget=vt\" title=\"Exodus 36:3\" sec=\"Exodus 36:3\">phrase</a> <a href=\"#\" class=\"nd\">681309</a>  <span class=\"function\">Time</span> <span class=\"typ\">PP</span>\n",
       "    </div>\n",
       "    <div class=\"atoms\">\n",
       "\n",
       "<div class=\"word \" style=\"background-color: None;\">\n",
       "<a href=\"#\" class=\"nd\">49254</a>\n",
       "<div class=\"h\"><a target=\"_blank\" href=\"https://shebanq.ancient-data.org/hebrew/word?version=c&id=1B\" title=\"show this lexeme in SHEBANQ\">בַּ</a></div>\n",
       "<div class=\"features\"> <span class=\"pdp\"><a href=\"https://shebanq.ancient-data.org/hebrew/text?book=Exodus&chapter=36&verse=3&version=c&mr=m&qw=q&tp=txt_p&tr=hb&wget=v&qget=v&nget=vt\" title=\"Exodus 36:3\" sec=\"Exodus 36:3\">prep</a></span> <span class=\"gloss\">in</span></div>\n",
       "\n",
       "\n",
       "</div>\n",
       "\n",
       "<div class=\"word \" style=\"background-color: None;\">\n",
       "<a href=\"#\" class=\"nd\">49255</a>\n",
       "<div class=\"h\"><a target=\"_blank\" href=\"https://shebanq.ancient-data.org/hebrew/word?version=c&id=1H\" title=\"show this lexeme in SHEBANQ\"></a></div>\n",
       "<div class=\"features\"> <span class=\"pdp\"><a href=\"https://shebanq.ancient-data.org/hebrew/text?book=Exodus&chapter=36&verse=3&version=c&mr=m&qw=q&tp=txt_p&tr=hb&wget=v&qget=v&nget=vt\" title=\"Exodus 36:3\" sec=\"Exodus 36:3\">art</a></span> <span class=\"gloss\">the</span></div>\n",
       "\n",
       "\n",
       "</div>\n",
       "\n",
       "<div class=\"word \" style=\"background-color: None;\">\n",
       "<a href=\"#\" class=\"nd\">49256</a>\n",
       "<div class=\"h\"><a target=\"_blank\" href=\"https://shebanq.ancient-data.org/hebrew/word?version=c&id=1BQRin\" title=\"show this lexeme in SHEBANQ\">בֹּ֥קֶר </a></div>\n",
       "<div class=\"features\"> <span class=\"pdp\"><a href=\"https://shebanq.ancient-data.org/hebrew/text?book=Exodus&chapter=36&verse=3&version=c&mr=m&qw=q&tp=txt_p&tr=hb&wget=v&qget=v&nget=vt\" title=\"Exodus 36:3\" sec=\"Exodus 36:3\">subs</a></span> <span class=\"gloss\">morning</span></div>\n",
       "\n",
       "\n",
       "</div>\n",
       "\n",
       "<div class=\"word  hl\">\n",
       "<a href=\"#\" class=\"nd\">49257</a>\n",
       "<div class=\"h\"><a target=\"_blank\" href=\"https://shebanq.ancient-data.org/hebrew/word?version=c&id=1B\" title=\"show this lexeme in SHEBANQ\">בַּ</a></div>\n",
       "<div class=\"features\"> <span class=\"pdp\"><a href=\"https://shebanq.ancient-data.org/hebrew/text?book=Exodus&chapter=36&verse=3&version=c&mr=m&qw=q&tp=txt_p&tr=hb&wget=v&qget=v&nget=vt\" title=\"Exodus 36:3\" sec=\"Exodus 36:3\">prep</a></span> <span class=\"gloss\">in</span></div>\n",
       "\n",
       "\n",
       "</div>\n",
       "\n",
       "<div class=\"word \" style=\"background-color: None;\">\n",
       "<a href=\"#\" class=\"nd\">49258</a>\n",
       "<div class=\"h\"><a target=\"_blank\" href=\"https://shebanq.ancient-data.org/hebrew/word?version=c&id=1H\" title=\"show this lexeme in SHEBANQ\"></a></div>\n",
       "<div class=\"features\"> <span class=\"pdp\"><a href=\"https://shebanq.ancient-data.org/hebrew/text?book=Exodus&chapter=36&verse=3&version=c&mr=m&qw=q&tp=txt_p&tr=hb&wget=v&qget=v&nget=vt\" title=\"Exodus 36:3\" sec=\"Exodus 36:3\">art</a></span> <span class=\"gloss\">the</span></div>\n",
       "\n",
       "\n",
       "</div>\n",
       "\n",
       "<div class=\"word \" style=\"background-color: None;\">\n",
       "<a href=\"#\" class=\"nd\">49259</a>\n",
       "<div class=\"h\"><a target=\"_blank\" href=\"https://shebanq.ancient-data.org/hebrew/word?version=c&id=1BQRin\" title=\"show this lexeme in SHEBANQ\">בֹּֽקֶר׃ </a></div>\n",
       "<div class=\"features\"> <span class=\"pdp\"><a href=\"https://shebanq.ancient-data.org/hebrew/text?book=Exodus&chapter=36&verse=3&version=c&mr=m&qw=q&tp=txt_p&tr=hb&wget=v&qget=v&nget=vt\" title=\"Exodus 36:3\" sec=\"Exodus 36:3\">subs</a></span> <span class=\"gloss\">morning</span></div>\n",
       "\n",
       "\n",
       "</div>\n",
       "\n",
       "\n",
       "    </div>\n",
       "\n",
       "\n",
       "</div>\n",
       "\n",
       "\n",
       "</div>\n"
      ],
      "text/plain": [
       "<IPython.core.display.HTML object>"
      ]
     },
     "metadata": {},
     "output_type": "display_data"
    },
    {
     "data": {
      "text/markdown": [
       "\n",
       "\n",
       "**phrase** *11*\n",
       "\n"
      ],
      "text/plain": [
       "<IPython.core.display.Markdown object>"
      ]
     },
     "metadata": {},
     "output_type": "display_data"
    },
    {
     "data": {
      "text/html": [
       "<div class=\"atoms \" style=\"background-color: None;\">\n",
       "<a href=\"#\" class=\"nd\">684131</a>\n",
       "\n",
       "\n",
       "\n",
       "<div class=\"patom  hl\">\n",
       "\n",
       "    <div class=\"phrase\">\n",
       "        <a href=\"https://shebanq.ancient-data.org/hebrew/text?book=Leviticus&chapter=6&verse=5&version=c&mr=m&qw=q&tp=txt_p&tr=hb&wget=v&qget=v&nget=vt\" title=\"Leviticus 6:5\" sec=\"Leviticus 6:5\">phrase</a> <a href=\"#\" class=\"nd\">684131</a>  <span class=\"function\">Time</span> <span class=\"typ\">PP</span>\n",
       "    </div>\n",
       "    <div class=\"atoms\">\n",
       "\n",
       "<div class=\"word \" style=\"background-color: None;\">\n",
       "<a href=\"#\" class=\"nd\">55004</a>\n",
       "<div class=\"h\"><a target=\"_blank\" href=\"https://shebanq.ancient-data.org/hebrew/word?version=c&id=1B\" title=\"show this lexeme in SHEBANQ\">בַּ</a></div>\n",
       "<div class=\"features\"> <span class=\"pdp\"><a href=\"https://shebanq.ancient-data.org/hebrew/text?book=Leviticus&chapter=6&verse=5&version=c&mr=m&qw=q&tp=txt_p&tr=hb&wget=v&qget=v&nget=vt\" title=\"Leviticus 6:5\" sec=\"Leviticus 6:5\">prep</a></span> <span class=\"gloss\">in</span></div>\n",
       "\n",
       "\n",
       "</div>\n",
       "\n",
       "<div class=\"word \" style=\"background-color: None;\">\n",
       "<a href=\"#\" class=\"nd\">55005</a>\n",
       "<div class=\"h\"><a target=\"_blank\" href=\"https://shebanq.ancient-data.org/hebrew/word?version=c&id=1H\" title=\"show this lexeme in SHEBANQ\"></a></div>\n",
       "<div class=\"features\"> <span class=\"pdp\"><a href=\"https://shebanq.ancient-data.org/hebrew/text?book=Leviticus&chapter=6&verse=5&version=c&mr=m&qw=q&tp=txt_p&tr=hb&wget=v&qget=v&nget=vt\" title=\"Leviticus 6:5\" sec=\"Leviticus 6:5\">art</a></span> <span class=\"gloss\">the</span></div>\n",
       "\n",
       "\n",
       "</div>\n",
       "\n",
       "<div class=\"word \" style=\"background-color: None;\">\n",
       "<a href=\"#\" class=\"nd\">55006</a>\n",
       "<div class=\"h\"><a target=\"_blank\" href=\"https://shebanq.ancient-data.org/hebrew/word?version=c&id=1BQRin\" title=\"show this lexeme in SHEBANQ\">בֹּ֣קֶר </a></div>\n",
       "<div class=\"features\"> <span class=\"pdp\"><a href=\"https://shebanq.ancient-data.org/hebrew/text?book=Leviticus&chapter=6&verse=5&version=c&mr=m&qw=q&tp=txt_p&tr=hb&wget=v&qget=v&nget=vt\" title=\"Leviticus 6:5\" sec=\"Leviticus 6:5\">subs</a></span> <span class=\"gloss\">morning</span></div>\n",
       "\n",
       "\n",
       "</div>\n",
       "\n",
       "<div class=\"word  hl\">\n",
       "<a href=\"#\" class=\"nd\">55007</a>\n",
       "<div class=\"h\"><a target=\"_blank\" href=\"https://shebanq.ancient-data.org/hebrew/word?version=c&id=1B\" title=\"show this lexeme in SHEBANQ\">בַּ</a></div>\n",
       "<div class=\"features\"> <span class=\"pdp\"><a href=\"https://shebanq.ancient-data.org/hebrew/text?book=Leviticus&chapter=6&verse=5&version=c&mr=m&qw=q&tp=txt_p&tr=hb&wget=v&qget=v&nget=vt\" title=\"Leviticus 6:5\" sec=\"Leviticus 6:5\">prep</a></span> <span class=\"gloss\">in</span></div>\n",
       "\n",
       "\n",
       "</div>\n",
       "\n",
       "<div class=\"word \" style=\"background-color: None;\">\n",
       "<a href=\"#\" class=\"nd\">55008</a>\n",
       "<div class=\"h\"><a target=\"_blank\" href=\"https://shebanq.ancient-data.org/hebrew/word?version=c&id=1H\" title=\"show this lexeme in SHEBANQ\"></a></div>\n",
       "<div class=\"features\"> <span class=\"pdp\"><a href=\"https://shebanq.ancient-data.org/hebrew/text?book=Leviticus&chapter=6&verse=5&version=c&mr=m&qw=q&tp=txt_p&tr=hb&wget=v&qget=v&nget=vt\" title=\"Leviticus 6:5\" sec=\"Leviticus 6:5\">art</a></span> <span class=\"gloss\">the</span></div>\n",
       "\n",
       "\n",
       "</div>\n",
       "\n",
       "<div class=\"word \" style=\"background-color: None;\">\n",
       "<a href=\"#\" class=\"nd\">55009</a>\n",
       "<div class=\"h\"><a target=\"_blank\" href=\"https://shebanq.ancient-data.org/hebrew/word?version=c&id=1BQRin\" title=\"show this lexeme in SHEBANQ\">בֹּ֑קֶר </a></div>\n",
       "<div class=\"features\"> <span class=\"pdp\"><a href=\"https://shebanq.ancient-data.org/hebrew/text?book=Leviticus&chapter=6&verse=5&version=c&mr=m&qw=q&tp=txt_p&tr=hb&wget=v&qget=v&nget=vt\" title=\"Leviticus 6:5\" sec=\"Leviticus 6:5\">subs</a></span> <span class=\"gloss\">morning</span></div>\n",
       "\n",
       "\n",
       "</div>\n",
       "\n",
       "\n",
       "    </div>\n",
       "\n",
       "\n",
       "</div>\n",
       "\n",
       "\n",
       "</div>\n"
      ],
      "text/plain": [
       "<IPython.core.display.HTML object>"
      ]
     },
     "metadata": {},
     "output_type": "display_data"
    },
    {
     "data": {
      "text/markdown": [
       "\n",
       "\n",
       "**phrase** *12*\n",
       "\n"
      ],
      "text/plain": [
       "<IPython.core.display.Markdown object>"
      ]
     },
     "metadata": {},
     "output_type": "display_data"
    },
    {
     "data": {
      "text/html": [
       "<div class=\"atoms \" style=\"background-color: None;\">\n",
       "<a href=\"#\" class=\"nd\">686147</a>\n",
       "\n",
       "\n",
       "\n",
       "<div class=\"patom  l\" style=\"background-color: None;\">\n",
       "\n",
       "    <div class=\"phrase\">\n",
       "        <a href=\"https://shebanq.ancient-data.org/hebrew/text?book=Leviticus&chapter=13&verse=2&version=c&mr=m&qw=q&tp=txt_p&tr=hb&wget=v&qget=v&nget=vt\" title=\"Leviticus 13:2\" sec=\"Leviticus 13:2\">phrase</a> <a href=\"#\" class=\"nd\">686147</a>  <span class=\"function\">Cmpl</span> <span class=\"typ\">PP</span>\n",
       "    </div>\n",
       "    <div class=\"atoms\">\n",
       "\n",
       "<div class=\"word \" style=\"background-color: None;\">\n",
       "<a href=\"#\" class=\"nd\">58901</a>\n",
       "<div class=\"h\"><a target=\"_blank\" href=\"https://shebanq.ancient-data.org/hebrew/word?version=c&id=1AL\" title=\"show this lexeme in SHEBANQ\">אֶל־</a></div>\n",
       "<div class=\"features\"> <span class=\"pdp\"><a href=\"https://shebanq.ancient-data.org/hebrew/text?book=Leviticus&chapter=13&verse=2&version=c&mr=m&qw=q&tp=txt_p&tr=hb&wget=v&qget=v&nget=vt\" title=\"Leviticus 13:2\" sec=\"Leviticus 13:2\">prep</a></span> <span class=\"gloss\">to</span></div>\n",
       "\n",
       "\n",
       "</div>\n",
       "\n",
       "<div class=\"word \" style=\"background-color: None;\">\n",
       "<a href=\"#\" class=\"nd\">58902</a>\n",
       "<div class=\"h\"><a target=\"_blank\" href=\"https://shebanq.ancient-data.org/hebrew/word?version=c&id=1AHRNn\" title=\"show this lexeme in SHEBANQ\">אַהֲרֹ֣ן </a></div>\n",
       "<div class=\"features\"> <span class=\"pdp\"><a href=\"https://shebanq.ancient-data.org/hebrew/text?book=Leviticus&chapter=13&verse=2&version=c&mr=m&qw=q&tp=txt_p&tr=hb&wget=v&qget=v&nget=vt\" title=\"Leviticus 13:2\" sec=\"Leviticus 13:2\">nmpr</a></span> <span class=\"gloss\">Aaron</span></div>\n",
       "\n",
       "\n",
       "</div>\n",
       "\n",
       "\n",
       "    </div>\n",
       "\n",
       "\n",
       "</div>\n",
       "\n",
       "<div class=\"patom  r l\" style=\"background-color: None;\">\n",
       "\n",
       "    <div class=\"phrase\">\n",
       "        <a href=\"https://shebanq.ancient-data.org/hebrew/text?book=Leviticus&chapter=13&verse=2&version=c&mr=m&qw=q&tp=txt_p&tr=hb&wget=v&qget=v&nget=vt\" title=\"Leviticus 13:2\" sec=\"Leviticus 13:2\">phrase</a> <a href=\"#\" class=\"nd\">686147</a>  <span class=\"function\">Cmpl</span> <span class=\"typ\">PP</span>\n",
       "    </div>\n",
       "    <div class=\"atoms\">\n",
       "\n",
       "<div class=\"word \" style=\"background-color: None;\">\n",
       "<a href=\"#\" class=\"nd\">58903</a>\n",
       "<div class=\"h\"><a target=\"_blank\" href=\"https://shebanq.ancient-data.org/hebrew/word?version=c&id=1H\" title=\"show this lexeme in SHEBANQ\">הַ</a></div>\n",
       "<div class=\"features\"> <span class=\"pdp\"><a href=\"https://shebanq.ancient-data.org/hebrew/text?book=Leviticus&chapter=13&verse=2&version=c&mr=m&qw=q&tp=txt_p&tr=hb&wget=v&qget=v&nget=vt\" title=\"Leviticus 13:2\" sec=\"Leviticus 13:2\">art</a></span> <span class=\"gloss\">the</span></div>\n",
       "\n",
       "\n",
       "</div>\n",
       "\n",
       "<div class=\"word \" style=\"background-color: None;\">\n",
       "<a href=\"#\" class=\"nd\">58904</a>\n",
       "<div class=\"h\"><a target=\"_blank\" href=\"https://shebanq.ancient-data.org/hebrew/word?version=c&id=1KHNn\" title=\"show this lexeme in SHEBANQ\">כֹּהֵ֔ן </a></div>\n",
       "<div class=\"features\"> <span class=\"pdp\"><a href=\"https://shebanq.ancient-data.org/hebrew/text?book=Leviticus&chapter=13&verse=2&version=c&mr=m&qw=q&tp=txt_p&tr=hb&wget=v&qget=v&nget=vt\" title=\"Leviticus 13:2\" sec=\"Leviticus 13:2\">subs</a></span> <span class=\"gloss\">priest</span></div>\n",
       "\n",
       "\n",
       "</div>\n",
       "\n",
       "\n",
       "    </div>\n",
       "\n",
       "\n",
       "</div>\n",
       "\n",
       "<div class=\"patom  r l\" style=\"background-color: None;\">\n",
       "\n",
       "    <div class=\"phrase\">\n",
       "        <a href=\"https://shebanq.ancient-data.org/hebrew/text?book=Leviticus&chapter=13&verse=2&version=c&mr=m&qw=q&tp=txt_p&tr=hb&wget=v&qget=v&nget=vt\" title=\"Leviticus 13:2\" sec=\"Leviticus 13:2\">phrase</a> <a href=\"#\" class=\"nd\">686147</a>  <span class=\"function\">Cmpl</span> <span class=\"typ\">PP</span>\n",
       "    </div>\n",
       "    <div class=\"atoms\">\n",
       "\n",
       "<div class=\"word \" style=\"background-color: None;\">\n",
       "<a href=\"#\" class=\"nd\">58905</a>\n",
       "<div class=\"h\"><a target=\"_blank\" href=\"https://shebanq.ancient-data.org/hebrew/word?version=c&id=1AW\" title=\"show this lexeme in SHEBANQ\">אֹ֛ו </a></div>\n",
       "<div class=\"features\"> <span class=\"pdp\"><a href=\"https://shebanq.ancient-data.org/hebrew/text?book=Leviticus&chapter=13&verse=2&version=c&mr=m&qw=q&tp=txt_p&tr=hb&wget=v&qget=v&nget=vt\" title=\"Leviticus 13:2\" sec=\"Leviticus 13:2\">conj</a></span> <span class=\"gloss\">or</span></div>\n",
       "\n",
       "\n",
       "</div>\n",
       "\n",
       "\n",
       "    </div>\n",
       "\n",
       "\n",
       "</div>\n",
       "\n",
       "<div class=\"patom  r l hl\">\n",
       "\n",
       "    <div class=\"phrase\">\n",
       "        <a href=\"https://shebanq.ancient-data.org/hebrew/text?book=Leviticus&chapter=13&verse=2&version=c&mr=m&qw=q&tp=txt_p&tr=hb&wget=v&qget=v&nget=vt\" title=\"Leviticus 13:2\" sec=\"Leviticus 13:2\">phrase</a> <a href=\"#\" class=\"nd\">686147</a>  <span class=\"function\">Cmpl</span> <span class=\"typ\">PP</span>\n",
       "    </div>\n",
       "    <div class=\"atoms\">\n",
       "\n",
       "<div class=\"word \" style=\"background-color: None;\">\n",
       "<a href=\"#\" class=\"nd\">58906</a>\n",
       "<div class=\"h\"><a target=\"_blank\" href=\"https://shebanq.ancient-data.org/hebrew/word?version=c&id=1AL\" title=\"show this lexeme in SHEBANQ\">אֶל־</a></div>\n",
       "<div class=\"features\"> <span class=\"pdp\"><a href=\"https://shebanq.ancient-data.org/hebrew/text?book=Leviticus&chapter=13&verse=2&version=c&mr=m&qw=q&tp=txt_p&tr=hb&wget=v&qget=v&nget=vt\" title=\"Leviticus 13:2\" sec=\"Leviticus 13:2\">prep</a></span> <span class=\"gloss\">to</span></div>\n",
       "\n",
       "\n",
       "</div>\n",
       "\n",
       "<div class=\"word \" style=\"background-color: None;\">\n",
       "<a href=\"#\" class=\"nd\">58907</a>\n",
       "<div class=\"h\"><a target=\"_blank\" href=\"https://shebanq.ancient-data.org/hebrew/word?version=c&id=1AXDn\" title=\"show this lexeme in SHEBANQ\">אַחַ֥ד </a></div>\n",
       "<div class=\"features\"> <span class=\"pdp\"><a href=\"https://shebanq.ancient-data.org/hebrew/text?book=Leviticus&chapter=13&verse=2&version=c&mr=m&qw=q&tp=txt_p&tr=hb&wget=v&qget=v&nget=vt\" title=\"Leviticus 13:2\" sec=\"Leviticus 13:2\">subs</a></span> <span class=\"gloss\">one</span></div>\n",
       "\n",
       "\n",
       "</div>\n",
       "\n",
       "<div class=\"word  hl\">\n",
       "<a href=\"#\" class=\"nd\">58908</a>\n",
       "<div class=\"h\"><a target=\"_blank\" href=\"https://shebanq.ancient-data.org/hebrew/word?version=c&id=1MN\" title=\"show this lexeme in SHEBANQ\">מִ</a></div>\n",
       "<div class=\"features\"> <span class=\"pdp\"><a href=\"https://shebanq.ancient-data.org/hebrew/text?book=Leviticus&chapter=13&verse=2&version=c&mr=m&qw=q&tp=txt_p&tr=hb&wget=v&qget=v&nget=vt\" title=\"Leviticus 13:2\" sec=\"Leviticus 13:2\">prep</a></span> <span class=\"gloss\">from</span></div>\n",
       "\n",
       "\n",
       "</div>\n",
       "\n",
       "<div class=\"word \" style=\"background-color: None;\">\n",
       "<a href=\"#\" class=\"nd\">58909</a>\n",
       "<div class=\"h\"><a target=\"_blank\" href=\"https://shebanq.ancient-data.org/hebrew/word?version=c&id=1BNn\" title=\"show this lexeme in SHEBANQ\">בָּנָ֖יו </a></div>\n",
       "<div class=\"features\"> <span class=\"pdp\"><a href=\"https://shebanq.ancient-data.org/hebrew/text?book=Leviticus&chapter=13&verse=2&version=c&mr=m&qw=q&tp=txt_p&tr=hb&wget=v&qget=v&nget=vt\" title=\"Leviticus 13:2\" sec=\"Leviticus 13:2\">subs</a></span> <span class=\"gloss\">son</span></div>\n",
       "\n",
       "\n",
       "</div>\n",
       "\n",
       "\n",
       "    </div>\n",
       "\n",
       "\n",
       "</div>\n",
       "\n",
       "<div class=\"patom  r\" style=\"background-color: None;\">\n",
       "\n",
       "    <div class=\"phrase\">\n",
       "        <a href=\"https://shebanq.ancient-data.org/hebrew/text?book=Leviticus&chapter=13&verse=2&version=c&mr=m&qw=q&tp=txt_p&tr=hb&wget=v&qget=v&nget=vt\" title=\"Leviticus 13:2\" sec=\"Leviticus 13:2\">phrase</a> <a href=\"#\" class=\"nd\">686147</a>  <span class=\"function\">Cmpl</span> <span class=\"typ\">PP</span>\n",
       "    </div>\n",
       "    <div class=\"atoms\">\n",
       "\n",
       "<div class=\"word \" style=\"background-color: None;\">\n",
       "<a href=\"#\" class=\"nd\">58910</a>\n",
       "<div class=\"h\"><a target=\"_blank\" href=\"https://shebanq.ancient-data.org/hebrew/word?version=c&id=1H\" title=\"show this lexeme in SHEBANQ\">הַ</a></div>\n",
       "<div class=\"features\"> <span class=\"pdp\"><a href=\"https://shebanq.ancient-data.org/hebrew/text?book=Leviticus&chapter=13&verse=2&version=c&mr=m&qw=q&tp=txt_p&tr=hb&wget=v&qget=v&nget=vt\" title=\"Leviticus 13:2\" sec=\"Leviticus 13:2\">art</a></span> <span class=\"gloss\">the</span></div>\n",
       "\n",
       "\n",
       "</div>\n",
       "\n",
       "<div class=\"word \" style=\"background-color: None;\">\n",
       "<a href=\"#\" class=\"nd\">58911</a>\n",
       "<div class=\"h\"><a target=\"_blank\" href=\"https://shebanq.ancient-data.org/hebrew/word?version=c&id=1KHNn\" title=\"show this lexeme in SHEBANQ\">כֹּהֲנִֽים׃ </a></div>\n",
       "<div class=\"features\"> <span class=\"pdp\"><a href=\"https://shebanq.ancient-data.org/hebrew/text?book=Leviticus&chapter=13&verse=2&version=c&mr=m&qw=q&tp=txt_p&tr=hb&wget=v&qget=v&nget=vt\" title=\"Leviticus 13:2\" sec=\"Leviticus 13:2\">subs</a></span> <span class=\"gloss\">priest</span></div>\n",
       "\n",
       "\n",
       "</div>\n",
       "\n",
       "\n",
       "    </div>\n",
       "\n",
       "\n",
       "</div>\n",
       "\n",
       "\n",
       "</div>\n"
      ],
      "text/plain": [
       "<IPython.core.display.HTML object>"
      ]
     },
     "metadata": {},
     "output_type": "display_data"
    },
    {
     "data": {
      "text/markdown": [
       "\n",
       "\n",
       "**phrase** *13*\n",
       "\n"
      ],
      "text/plain": [
       "<IPython.core.display.Markdown object>"
      ]
     },
     "metadata": {},
     "output_type": "display_data"
    },
    {
     "data": {
      "text/html": [
       "<div class=\"atoms \" style=\"background-color: None;\">\n",
       "<a href=\"#\" class=\"nd\">695140</a>\n",
       "\n",
       "\n",
       "\n",
       "<div class=\"patom  hl\">\n",
       "\n",
       "    <div class=\"phrase\">\n",
       "        <a href=\"https://shebanq.ancient-data.org/hebrew/text?book=Numeri&chapter=9&verse=21&version=c&mr=m&qw=q&tp=txt_p&tr=hb&wget=v&qget=v&nget=vt\" title=\"Numbers 9:21\" sec=\"Numbers 9:21\">phrase</a> <a href=\"#\" class=\"nd\">695140</a>  <span class=\"function\">PreC</span> <span class=\"typ\">PP</span>\n",
       "    </div>\n",
       "    <div class=\"atoms\">\n",
       "\n",
       "<div class=\"word \" style=\"background-color: None;\">\n",
       "<a href=\"#\" class=\"nd\">76198</a>\n",
       "<div class=\"h\"><a target=\"_blank\" href=\"https://shebanq.ancient-data.org/hebrew/word?version=c&id=1MN\" title=\"show this lexeme in SHEBANQ\">מֵ</a></div>\n",
       "<div class=\"features\"> <span class=\"pdp\"><a href=\"https://shebanq.ancient-data.org/hebrew/text?book=Numeri&chapter=9&verse=21&version=c&mr=m&qw=q&tp=txt_p&tr=hb&wget=v&qget=v&nget=vt\" title=\"Numbers 9:21\" sec=\"Numbers 9:21\">prep</a></span> <span class=\"gloss\">from</span></div>\n",
       "\n",
       "\n",
       "</div>\n",
       "\n",
       "<div class=\"word \" style=\"background-color: None;\">\n",
       "<a href=\"#\" class=\"nd\">76199</a>\n",
       "<div class=\"h\"><a target=\"_blank\" href=\"https://shebanq.ancient-data.org/hebrew/word?version=c&id=1ORBn\" title=\"show this lexeme in SHEBANQ\">עֶ֣רֶב </a></div>\n",
       "<div class=\"features\"> <span class=\"pdp\"><a href=\"https://shebanq.ancient-data.org/hebrew/text?book=Numeri&chapter=9&verse=21&version=c&mr=m&qw=q&tp=txt_p&tr=hb&wget=v&qget=v&nget=vt\" title=\"Numbers 9:21\" sec=\"Numbers 9:21\">subs</a></span> <span class=\"gloss\">evening</span></div>\n",
       "\n",
       "\n",
       "</div>\n",
       "\n",
       "<div class=\"word  hl\">\n",
       "<a href=\"#\" class=\"nd\">76200</a>\n",
       "<div class=\"h\"><a target=\"_blank\" href=\"https://shebanq.ancient-data.org/hebrew/word?version=c&id=1OD\" title=\"show this lexeme in SHEBANQ\">עַד־</a></div>\n",
       "<div class=\"features\"> <span class=\"pdp\"><a href=\"https://shebanq.ancient-data.org/hebrew/text?book=Numeri&chapter=9&verse=21&version=c&mr=m&qw=q&tp=txt_p&tr=hb&wget=v&qget=v&nget=vt\" title=\"Numbers 9:21\" sec=\"Numbers 9:21\">prep</a></span> <span class=\"gloss\">unto</span></div>\n",
       "\n",
       "\n",
       "</div>\n",
       "\n",
       "<div class=\"word \" style=\"background-color: None;\">\n",
       "<a href=\"#\" class=\"nd\">76201</a>\n",
       "<div class=\"h\"><a target=\"_blank\" href=\"https://shebanq.ancient-data.org/hebrew/word?version=c&id=1BQRin\" title=\"show this lexeme in SHEBANQ\">בֹּ֔קֶר </a></div>\n",
       "<div class=\"features\"> <span class=\"pdp\"><a href=\"https://shebanq.ancient-data.org/hebrew/text?book=Numeri&chapter=9&verse=21&version=c&mr=m&qw=q&tp=txt_p&tr=hb&wget=v&qget=v&nget=vt\" title=\"Numbers 9:21\" sec=\"Numbers 9:21\">subs</a></span> <span class=\"gloss\">morning</span></div>\n",
       "\n",
       "\n",
       "</div>\n",
       "\n",
       "\n",
       "    </div>\n",
       "\n",
       "\n",
       "</div>\n",
       "\n",
       "\n",
       "</div>\n"
      ],
      "text/plain": [
       "<IPython.core.display.HTML object>"
      ]
     },
     "metadata": {},
     "output_type": "display_data"
    },
    {
     "data": {
      "text/markdown": [
       "\n",
       "\n",
       "**phrase** *14*\n",
       "\n"
      ],
      "text/plain": [
       "<IPython.core.display.Markdown object>"
      ]
     },
     "metadata": {},
     "output_type": "display_data"
    },
    {
     "data": {
      "text/html": [
       "<div class=\"atoms \" style=\"background-color: None;\">\n",
       "<a href=\"#\" class=\"nd\">701824</a>\n",
       "\n",
       "\n",
       "\n",
       "<div class=\"patom  hl\">\n",
       "\n",
       "    <div class=\"phrase\">\n",
       "        <a href=\"https://shebanq.ancient-data.org/hebrew/text?book=Numeri&chapter=29&verse=6&version=c&mr=m&qw=q&tp=txt_p&tr=hb&wget=v&qget=v&nget=vt\" title=\"Numbers 29:6\" sec=\"Numbers 29:6\">phrase</a> <a href=\"#\" class=\"nd\">701824</a>  <span class=\"function\">Adju</span> <span class=\"typ\">PP</span>\n",
       "    </div>\n",
       "    <div class=\"atoms\">\n",
       "\n",
       "<div class=\"word \" style=\"background-color: None;\">\n",
       "<a href=\"#\" class=\"nd\">87947</a>\n",
       "<div class=\"h\"><a target=\"_blank\" href=\"https://shebanq.ancient-data.org/hebrew/word?version=c&id=1MN\" title=\"show this lexeme in SHEBANQ\">מִ</a></div>\n",
       "<div class=\"features\"> <span class=\"pdp\"><a href=\"https://shebanq.ancient-data.org/hebrew/text?book=Numeri&chapter=29&verse=6&version=c&mr=m&qw=q&tp=txt_p&tr=hb&wget=v&qget=v&nget=vt\" title=\"Numbers 29:6\" sec=\"Numbers 29:6\">prep</a></span> <span class=\"gloss\">from</span></div>\n",
       "\n",
       "\n",
       "</div>\n",
       "\n",
       "<div class=\"word \" style=\"background-color: None;\">\n",
       "<a href=\"#\" class=\"nd\">87948</a>\n",
       "<div class=\"h\"><a target=\"_blank\" href=\"https://shebanq.ancient-data.org/hebrew/word?version=c&id=1L\" title=\"show this lexeme in SHEBANQ\">לְּ</a></div>\n",
       "<div class=\"features\"> <span class=\"pdp\"><a href=\"https://shebanq.ancient-data.org/hebrew/text?book=Numeri&chapter=29&verse=6&version=c&mr=m&qw=q&tp=txt_p&tr=hb&wget=v&qget=v&nget=vt\" title=\"Numbers 29:6\" sec=\"Numbers 29:6\">prep</a></span> <span class=\"gloss\">to</span></div>\n",
       "\n",
       "\n",
       "</div>\n",
       "\n",
       "<div class=\"word \" style=\"background-color: None;\">\n",
       "<a href=\"#\" class=\"nd\">87949</a>\n",
       "<div class=\"h\"><a target=\"_blank\" href=\"https://shebanq.ancient-data.org/hebrew/word?version=c&id=1BDn\" title=\"show this lexeme in SHEBANQ\">בַד֩ </a></div>\n",
       "<div class=\"features\"> <span class=\"pdp\"><a href=\"https://shebanq.ancient-data.org/hebrew/text?book=Numeri&chapter=29&verse=6&version=c&mr=m&qw=q&tp=txt_p&tr=hb&wget=v&qget=v&nget=vt\" title=\"Numbers 29:6\" sec=\"Numbers 29:6\">subs</a></span> <span class=\"gloss\">linen, part, stave</span></div>\n",
       "\n",
       "\n",
       "</div>\n",
       "\n",
       "<div class=\"word \" style=\"background-color: None;\">\n",
       "<a href=\"#\" class=\"nd\">87950</a>\n",
       "<div class=\"h\"><a target=\"_blank\" href=\"https://shebanq.ancient-data.org/hebrew/word?version=c&id=1OLHn\" title=\"show this lexeme in SHEBANQ\">עֹלַ֨ת </a></div>\n",
       "<div class=\"features\"> <span class=\"pdp\"><a href=\"https://shebanq.ancient-data.org/hebrew/text?book=Numeri&chapter=29&verse=6&version=c&mr=m&qw=q&tp=txt_p&tr=hb&wget=v&qget=v&nget=vt\" title=\"Numbers 29:6\" sec=\"Numbers 29:6\">subs</a></span> <span class=\"gloss\">burnt-offering</span></div>\n",
       "\n",
       "\n",
       "</div>\n",
       "\n",
       "<div class=\"word \" style=\"background-color: None;\">\n",
       "<a href=\"#\" class=\"nd\">87951</a>\n",
       "<div class=\"h\"><a target=\"_blank\" href=\"https://shebanq.ancient-data.org/hebrew/word?version=c&id=1H\" title=\"show this lexeme in SHEBANQ\">הַ</a></div>\n",
       "<div class=\"features\"> <span class=\"pdp\"><a href=\"https://shebanq.ancient-data.org/hebrew/text?book=Numeri&chapter=29&verse=6&version=c&mr=m&qw=q&tp=txt_p&tr=hb&wget=v&qget=v&nget=vt\" title=\"Numbers 29:6\" sec=\"Numbers 29:6\">art</a></span> <span class=\"gloss\">the</span></div>\n",
       "\n",
       "\n",
       "</div>\n",
       "\n",
       "<div class=\"word \" style=\"background-color: None;\">\n",
       "<a href=\"#\" class=\"nd\">87952</a>\n",
       "<div class=\"h\"><a target=\"_blank\" href=\"https://shebanq.ancient-data.org/hebrew/word?version=c&id=1XDCin\" title=\"show this lexeme in SHEBANQ\">חֹ֜דֶשׁ </a></div>\n",
       "<div class=\"features\"> <span class=\"pdp\"><a href=\"https://shebanq.ancient-data.org/hebrew/text?book=Numeri&chapter=29&verse=6&version=c&mr=m&qw=q&tp=txt_p&tr=hb&wget=v&qget=v&nget=vt\" title=\"Numbers 29:6\" sec=\"Numbers 29:6\">subs</a></span> <span class=\"gloss\">month</span></div>\n",
       "\n",
       "\n",
       "</div>\n",
       "\n",
       "<div class=\"word \" style=\"background-color: None;\">\n",
       "<a href=\"#\" class=\"nd\">87953</a>\n",
       "<div class=\"h\"><a target=\"_blank\" href=\"https://shebanq.ancient-data.org/hebrew/word?version=c&id=1W\" title=\"show this lexeme in SHEBANQ\">וּ</a></div>\n",
       "<div class=\"features\"> <span class=\"pdp\"><a href=\"https://shebanq.ancient-data.org/hebrew/text?book=Numeri&chapter=29&verse=6&version=c&mr=m&qw=q&tp=txt_p&tr=hb&wget=v&qget=v&nget=vt\" title=\"Numbers 29:6\" sec=\"Numbers 29:6\">conj</a></span> <span class=\"gloss\">and</span></div>\n",
       "\n",
       "\n",
       "</div>\n",
       "\n",
       "<div class=\"word \" style=\"background-color: None;\">\n",
       "<a href=\"#\" class=\"nd\">87954</a>\n",
       "<div class=\"h\"><a target=\"_blank\" href=\"https://shebanq.ancient-data.org/hebrew/word?version=c&id=1MNXHn\" title=\"show this lexeme in SHEBANQ\">מִנְחָתָ֗הּ </a></div>\n",
       "<div class=\"features\"> <span class=\"pdp\"><a href=\"https://shebanq.ancient-data.org/hebrew/text?book=Numeri&chapter=29&verse=6&version=c&mr=m&qw=q&tp=txt_p&tr=hb&wget=v&qget=v&nget=vt\" title=\"Numbers 29:6\" sec=\"Numbers 29:6\">subs</a></span> <span class=\"gloss\">present</span></div>\n",
       "\n",
       "\n",
       "</div>\n",
       "\n",
       "<div class=\"word \" style=\"background-color: None;\">\n",
       "<a href=\"#\" class=\"nd\">87955</a>\n",
       "<div class=\"h\"><a target=\"_blank\" href=\"https://shebanq.ancient-data.org/hebrew/word?version=c&id=1W\" title=\"show this lexeme in SHEBANQ\">וְ</a></div>\n",
       "<div class=\"features\"> <span class=\"pdp\"><a href=\"https://shebanq.ancient-data.org/hebrew/text?book=Numeri&chapter=29&verse=6&version=c&mr=m&qw=q&tp=txt_p&tr=hb&wget=v&qget=v&nget=vt\" title=\"Numbers 29:6\" sec=\"Numbers 29:6\">conj</a></span> <span class=\"gloss\">and</span></div>\n",
       "\n",
       "\n",
       "</div>\n",
       "\n",
       "<div class=\"word \" style=\"background-color: None;\">\n",
       "<a href=\"#\" class=\"nd\">87956</a>\n",
       "<div class=\"h\"><a target=\"_blank\" href=\"https://shebanq.ancient-data.org/hebrew/word?version=c&id=1OLHn\" title=\"show this lexeme in SHEBANQ\">עֹלַ֤ת </a></div>\n",
       "<div class=\"features\"> <span class=\"pdp\"><a href=\"https://shebanq.ancient-data.org/hebrew/text?book=Numeri&chapter=29&verse=6&version=c&mr=m&qw=q&tp=txt_p&tr=hb&wget=v&qget=v&nget=vt\" title=\"Numbers 29:6\" sec=\"Numbers 29:6\">subs</a></span> <span class=\"gloss\">burnt-offering</span></div>\n",
       "\n",
       "\n",
       "</div>\n",
       "\n",
       "<div class=\"word \" style=\"background-color: None;\">\n",
       "<a href=\"#\" class=\"nd\">87957</a>\n",
       "<div class=\"h\"><a target=\"_blank\" href=\"https://shebanq.ancient-data.org/hebrew/word?version=c&id=1H\" title=\"show this lexeme in SHEBANQ\">הַ</a></div>\n",
       "<div class=\"features\"> <span class=\"pdp\"><a href=\"https://shebanq.ancient-data.org/hebrew/text?book=Numeri&chapter=29&verse=6&version=c&mr=m&qw=q&tp=txt_p&tr=hb&wget=v&qget=v&nget=vt\" title=\"Numbers 29:6\" sec=\"Numbers 29:6\">art</a></span> <span class=\"gloss\">the</span></div>\n",
       "\n",
       "\n",
       "</div>\n",
       "\n",
       "<div class=\"word \" style=\"background-color: None;\">\n",
       "<a href=\"#\" class=\"nd\">87958</a>\n",
       "<div class=\"h\"><a target=\"_blank\" href=\"https://shebanq.ancient-data.org/hebrew/word?version=c&id=1TMJDn\" title=\"show this lexeme in SHEBANQ\">תָּמִיד֙ </a></div>\n",
       "<div class=\"features\"> <span class=\"pdp\"><a href=\"https://shebanq.ancient-data.org/hebrew/text?book=Numeri&chapter=29&verse=6&version=c&mr=m&qw=q&tp=txt_p&tr=hb&wget=v&qget=v&nget=vt\" title=\"Numbers 29:6\" sec=\"Numbers 29:6\">subs</a></span> <span class=\"gloss\">continuity</span></div>\n",
       "\n",
       "\n",
       "</div>\n",
       "\n",
       "<div class=\"word \" style=\"background-color: None;\">\n",
       "<a href=\"#\" class=\"nd\">87959</a>\n",
       "<div class=\"h\"><a target=\"_blank\" href=\"https://shebanq.ancient-data.org/hebrew/word?version=c&id=1W\" title=\"show this lexeme in SHEBANQ\">וּ</a></div>\n",
       "<div class=\"features\"> <span class=\"pdp\"><a href=\"https://shebanq.ancient-data.org/hebrew/text?book=Numeri&chapter=29&verse=6&version=c&mr=m&qw=q&tp=txt_p&tr=hb&wget=v&qget=v&nget=vt\" title=\"Numbers 29:6\" sec=\"Numbers 29:6\">conj</a></span> <span class=\"gloss\">and</span></div>\n",
       "\n",
       "\n",
       "</div>\n",
       "\n",
       "<div class=\"word \" style=\"background-color: None;\">\n",
       "<a href=\"#\" class=\"nd\">87960</a>\n",
       "<div class=\"h\"><a target=\"_blank\" href=\"https://shebanq.ancient-data.org/hebrew/word?version=c&id=1MNXHn\" title=\"show this lexeme in SHEBANQ\">מִנְחָתָ֔הּ </a></div>\n",
       "<div class=\"features\"> <span class=\"pdp\"><a href=\"https://shebanq.ancient-data.org/hebrew/text?book=Numeri&chapter=29&verse=6&version=c&mr=m&qw=q&tp=txt_p&tr=hb&wget=v&qget=v&nget=vt\" title=\"Numbers 29:6\" sec=\"Numbers 29:6\">subs</a></span> <span class=\"gloss\">present</span></div>\n",
       "\n",
       "\n",
       "</div>\n",
       "\n",
       "<div class=\"word \" style=\"background-color: None;\">\n",
       "<a href=\"#\" class=\"nd\">87961</a>\n",
       "<div class=\"h\"><a target=\"_blank\" href=\"https://shebanq.ancient-data.org/hebrew/word?version=c&id=1W\" title=\"show this lexeme in SHEBANQ\">וְ</a></div>\n",
       "<div class=\"features\"> <span class=\"pdp\"><a href=\"https://shebanq.ancient-data.org/hebrew/text?book=Numeri&chapter=29&verse=6&version=c&mr=m&qw=q&tp=txt_p&tr=hb&wget=v&qget=v&nget=vt\" title=\"Numbers 29:6\" sec=\"Numbers 29:6\">conj</a></span> <span class=\"gloss\">and</span></div>\n",
       "\n",
       "\n",
       "</div>\n",
       "\n",
       "<div class=\"word \" style=\"background-color: None;\">\n",
       "<a href=\"#\" class=\"nd\">87962</a>\n",
       "<div class=\"h\"><a target=\"_blank\" href=\"https://shebanq.ancient-data.org/hebrew/word?version=c&id=1NSKn\" title=\"show this lexeme in SHEBANQ\">נִסְכֵּיהֶ֖ם </a></div>\n",
       "<div class=\"features\"> <span class=\"pdp\"><a href=\"https://shebanq.ancient-data.org/hebrew/text?book=Numeri&chapter=29&verse=6&version=c&mr=m&qw=q&tp=txt_p&tr=hb&wget=v&qget=v&nget=vt\" title=\"Numbers 29:6\" sec=\"Numbers 29:6\">subs</a></span> <span class=\"gloss\">libation</span></div>\n",
       "\n",
       "\n",
       "</div>\n",
       "\n",
       "<div class=\"word  hl\">\n",
       "<a href=\"#\" class=\"nd\">87963</a>\n",
       "<div class=\"h\"><a target=\"_blank\" href=\"https://shebanq.ancient-data.org/hebrew/word?version=c&id=1K\" title=\"show this lexeme in SHEBANQ\">כְּ</a></div>\n",
       "<div class=\"features\"> <span class=\"pdp\"><a href=\"https://shebanq.ancient-data.org/hebrew/text?book=Numeri&chapter=29&verse=6&version=c&mr=m&qw=q&tp=txt_p&tr=hb&wget=v&qget=v&nget=vt\" title=\"Numbers 29:6\" sec=\"Numbers 29:6\">prep</a></span> <span class=\"gloss\">as</span></div>\n",
       "\n",
       "\n",
       "</div>\n",
       "\n",
       "<div class=\"word \" style=\"background-color: None;\">\n",
       "<a href=\"#\" class=\"nd\">87964</a>\n",
       "<div class=\"h\"><a target=\"_blank\" href=\"https://shebanq.ancient-data.org/hebrew/word?version=c&id=1MCPVn\" title=\"show this lexeme in SHEBANQ\">מִשְׁפָּטָ֑ם </a></div>\n",
       "<div class=\"features\"> <span class=\"pdp\"><a href=\"https://shebanq.ancient-data.org/hebrew/text?book=Numeri&chapter=29&verse=6&version=c&mr=m&qw=q&tp=txt_p&tr=hb&wget=v&qget=v&nget=vt\" title=\"Numbers 29:6\" sec=\"Numbers 29:6\">subs</a></span> <span class=\"gloss\">justice</span></div>\n",
       "\n",
       "\n",
       "</div>\n",
       "\n",
       "\n",
       "    </div>\n",
       "\n",
       "\n",
       "</div>\n",
       "\n",
       "\n",
       "</div>\n"
      ],
      "text/plain": [
       "<IPython.core.display.HTML object>"
      ]
     },
     "metadata": {},
     "output_type": "display_data"
    },
    {
     "data": {
      "text/markdown": [
       "\n",
       "\n",
       "**phrase** *15*\n",
       "\n"
      ],
      "text/plain": [
       "<IPython.core.display.Markdown object>"
      ]
     },
     "metadata": {},
     "output_type": "display_data"
    },
    {
     "data": {
      "text/html": [
       "<div class=\"atoms \" style=\"background-color: None;\">\n",
       "<a href=\"#\" class=\"nd\">702443</a>\n",
       "\n",
       "\n",
       "\n",
       "<div class=\"patom  l\" style=\"background-color: None;\">\n",
       "\n",
       "    <div class=\"phrase\">\n",
       "        <a href=\"https://shebanq.ancient-data.org/hebrew/text?book=Numeri&chapter=31&verse=30&version=c&mr=m&qw=q&tp=txt_p&tr=hb&wget=v&qget=v&nget=vt\" title=\"Numbers 31:30\" sec=\"Numbers 31:30\">phrase</a> <a href=\"#\" class=\"nd\">702443</a>  <span class=\"function\">Objc</span> <span class=\"typ\">NP</span>\n",
       "    </div>\n",
       "    <div class=\"atoms\">\n",
       "\n",
       "<div class=\"word \" style=\"background-color: None;\">\n",
       "<a href=\"#\" class=\"nd\">89462</a>\n",
       "<div class=\"h\"><a target=\"_blank\" href=\"https://shebanq.ancient-data.org/hebrew/word?version=c&id=1AXDn\" title=\"show this lexeme in SHEBANQ\">אֶחָ֣ד׀ </a></div>\n",
       "<div class=\"features\"> <span class=\"pdp\"><a href=\"https://shebanq.ancient-data.org/hebrew/text?book=Numeri&chapter=31&verse=30&version=c&mr=m&qw=q&tp=txt_p&tr=hb&wget=v&qget=v&nget=vt\" title=\"Numbers 31:30\" sec=\"Numbers 31:30\">subs</a></span> <span class=\"gloss\">one</span></div>\n",
       "\n",
       "\n",
       "</div>\n",
       "\n",
       "<div class=\"word \" style=\"background-color: None;\">\n",
       "<a href=\"#\" class=\"nd\">89463</a>\n",
       "<div class=\"h\"><a target=\"_blank\" href=\"https://shebanq.ancient-data.org/hebrew/word?version=c&id=1AXZv\" title=\"show this lexeme in SHEBANQ\">אָחֻ֣ז </a></div>\n",
       "<div class=\"features\"> <span class=\"pdp\"><a href=\"https://shebanq.ancient-data.org/hebrew/text?book=Numeri&chapter=31&verse=30&version=c&mr=m&qw=q&tp=txt_p&tr=hb&wget=v&qget=v&nget=vt\" title=\"Numbers 31:30\" sec=\"Numbers 31:30\">subs</a></span> <span class=\"gloss\">seize</span> <span class=\"vs\">qal</span> <span class=\"vt\">ptcp</span></div>\n",
       "\n",
       "\n",
       "</div>\n",
       "\n",
       "\n",
       "    </div>\n",
       "\n",
       "\n",
       "</div>\n",
       "\n",
       "<div class=\"patom  r l\" style=\"background-color: None;\">\n",
       "\n",
       "    <div class=\"phrase\">\n",
       "        <a href=\"https://shebanq.ancient-data.org/hebrew/text?book=Numeri&chapter=31&verse=30&version=c&mr=m&qw=q&tp=txt_p&tr=hb&wget=v&qget=v&nget=vt\" title=\"Numbers 31:30\" sec=\"Numbers 31:30\">phrase</a> <a href=\"#\" class=\"nd\">702443</a>  <span class=\"function\">Objc</span> <span class=\"typ\">NP</span>\n",
       "    </div>\n",
       "    <div class=\"atoms\">\n",
       "\n",
       "<div class=\"word \" style=\"background-color: None;\">\n",
       "<a href=\"#\" class=\"nd\">89464</a>\n",
       "<div class=\"h\"><a target=\"_blank\" href=\"https://shebanq.ancient-data.org/hebrew/word?version=c&id=1MN\" title=\"show this lexeme in SHEBANQ\">מִן־</a></div>\n",
       "<div class=\"features\"> <span class=\"pdp\"><a href=\"https://shebanq.ancient-data.org/hebrew/text?book=Numeri&chapter=31&verse=30&version=c&mr=m&qw=q&tp=txt_p&tr=hb&wget=v&qget=v&nget=vt\" title=\"Numbers 31:30\" sec=\"Numbers 31:30\">prep</a></span> <span class=\"gloss\">from</span></div>\n",
       "\n",
       "\n",
       "</div>\n",
       "\n",
       "<div class=\"word \" style=\"background-color: None;\">\n",
       "<a href=\"#\" class=\"nd\">89465</a>\n",
       "<div class=\"h\"><a target=\"_blank\" href=\"https://shebanq.ancient-data.org/hebrew/word?version=c&id=1H\" title=\"show this lexeme in SHEBANQ\">הַ</a></div>\n",
       "<div class=\"features\"> <span class=\"pdp\"><a href=\"https://shebanq.ancient-data.org/hebrew/text?book=Numeri&chapter=31&verse=30&version=c&mr=m&qw=q&tp=txt_p&tr=hb&wget=v&qget=v&nget=vt\" title=\"Numbers 31:30\" sec=\"Numbers 31:30\">art</a></span> <span class=\"gloss\">the</span></div>\n",
       "\n",
       "\n",
       "</div>\n",
       "\n",
       "<div class=\"word \" style=\"background-color: None;\">\n",
       "<a href=\"#\" class=\"nd\">89466</a>\n",
       "<div class=\"h\"><a target=\"_blank\" href=\"https://shebanq.ancient-data.org/hebrew/word?version=c&id=1XMCn\" title=\"show this lexeme in SHEBANQ\">חֲמִשִּׁ֗ים </a></div>\n",
       "<div class=\"features\"> <span class=\"pdp\"><a href=\"https://shebanq.ancient-data.org/hebrew/text?book=Numeri&chapter=31&verse=30&version=c&mr=m&qw=q&tp=txt_p&tr=hb&wget=v&qget=v&nget=vt\" title=\"Numbers 31:30\" sec=\"Numbers 31:30\">subs</a></span> <span class=\"gloss\">five</span></div>\n",
       "\n",
       "\n",
       "</div>\n",
       "\n",
       "\n",
       "    </div>\n",
       "\n",
       "\n",
       "</div>\n",
       "\n",
       "<div class=\"patom  r hl\">\n",
       "\n",
       "    <div class=\"phrase\">\n",
       "        <a href=\"https://shebanq.ancient-data.org/hebrew/text?book=Numeri&chapter=31&verse=30&version=c&mr=m&qw=q&tp=txt_p&tr=hb&wget=v&qget=v&nget=vt\" title=\"Numbers 31:30\" sec=\"Numbers 31:30\">phrase</a> <a href=\"#\" class=\"nd\">702443</a>  <span class=\"function\">Objc</span> <span class=\"typ\">NP</span>\n",
       "    </div>\n",
       "    <div class=\"atoms\">\n",
       "\n",
       "<div class=\"word \" style=\"background-color: None;\">\n",
       "<a href=\"#\" class=\"nd\">89467</a>\n",
       "<div class=\"h\"><a target=\"_blank\" href=\"https://shebanq.ancient-data.org/hebrew/word?version=c&id=1MN\" title=\"show this lexeme in SHEBANQ\">מִן־</a></div>\n",
       "<div class=\"features\"> <span class=\"pdp\"><a href=\"https://shebanq.ancient-data.org/hebrew/text?book=Numeri&chapter=31&verse=30&version=c&mr=m&qw=q&tp=txt_p&tr=hb&wget=v&qget=v&nget=vt\" title=\"Numbers 31:30\" sec=\"Numbers 31:30\">prep</a></span> <span class=\"gloss\">from</span></div>\n",
       "\n",
       "\n",
       "</div>\n",
       "\n",
       "<div class=\"word \" style=\"background-color: None;\">\n",
       "<a href=\"#\" class=\"nd\">89468</a>\n",
       "<div class=\"h\"><a target=\"_blank\" href=\"https://shebanq.ancient-data.org/hebrew/word?version=c&id=1H\" title=\"show this lexeme in SHEBANQ\">הָ</a></div>\n",
       "<div class=\"features\"> <span class=\"pdp\"><a href=\"https://shebanq.ancient-data.org/hebrew/text?book=Numeri&chapter=31&verse=30&version=c&mr=m&qw=q&tp=txt_p&tr=hb&wget=v&qget=v&nget=vt\" title=\"Numbers 31:30\" sec=\"Numbers 31:30\">art</a></span> <span class=\"gloss\">the</span></div>\n",
       "\n",
       "\n",
       "</div>\n",
       "\n",
       "<div class=\"word \" style=\"background-color: None;\">\n",
       "<a href=\"#\" class=\"nd\">89469</a>\n",
       "<div class=\"h\"><a target=\"_blank\" href=\"https://shebanq.ancient-data.org/hebrew/word?version=c&id=1ADMn\" title=\"show this lexeme in SHEBANQ\">אָדָ֧ם </a></div>\n",
       "<div class=\"features\"> <span class=\"pdp\"><a href=\"https://shebanq.ancient-data.org/hebrew/text?book=Numeri&chapter=31&verse=30&version=c&mr=m&qw=q&tp=txt_p&tr=hb&wget=v&qget=v&nget=vt\" title=\"Numbers 31:30\" sec=\"Numbers 31:30\">subs</a></span> <span class=\"gloss\">human, mankind</span></div>\n",
       "\n",
       "\n",
       "</div>\n",
       "\n",
       "<div class=\"word \" style=\"background-color: None;\">\n",
       "<a href=\"#\" class=\"nd\">89470</a>\n",
       "<div class=\"h\"><a target=\"_blank\" href=\"https://shebanq.ancient-data.org/hebrew/word?version=c&id=1MN\" title=\"show this lexeme in SHEBANQ\">מִן־</a></div>\n",
       "<div class=\"features\"> <span class=\"pdp\"><a href=\"https://shebanq.ancient-data.org/hebrew/text?book=Numeri&chapter=31&verse=30&version=c&mr=m&qw=q&tp=txt_p&tr=hb&wget=v&qget=v&nget=vt\" title=\"Numbers 31:30\" sec=\"Numbers 31:30\">prep</a></span> <span class=\"gloss\">from</span></div>\n",
       "\n",
       "\n",
       "</div>\n",
       "\n",
       "<div class=\"word \" style=\"background-color: None;\">\n",
       "<a href=\"#\" class=\"nd\">89471</a>\n",
       "<div class=\"h\"><a target=\"_blank\" href=\"https://shebanq.ancient-data.org/hebrew/word?version=c&id=1H\" title=\"show this lexeme in SHEBANQ\">הַ</a></div>\n",
       "<div class=\"features\"> <span class=\"pdp\"><a href=\"https://shebanq.ancient-data.org/hebrew/text?book=Numeri&chapter=31&verse=30&version=c&mr=m&qw=q&tp=txt_p&tr=hb&wget=v&qget=v&nget=vt\" title=\"Numbers 31:30\" sec=\"Numbers 31:30\">art</a></span> <span class=\"gloss\">the</span></div>\n",
       "\n",
       "\n",
       "</div>\n",
       "\n",
       "<div class=\"word \" style=\"background-color: None;\">\n",
       "<a href=\"#\" class=\"nd\">89472</a>\n",
       "<div class=\"h\"><a target=\"_blank\" href=\"https://shebanq.ancient-data.org/hebrew/word?version=c&id=1BQRn\" title=\"show this lexeme in SHEBANQ\">בָּקָ֛ר </a></div>\n",
       "<div class=\"features\"> <span class=\"pdp\"><a href=\"https://shebanq.ancient-data.org/hebrew/text?book=Numeri&chapter=31&verse=30&version=c&mr=m&qw=q&tp=txt_p&tr=hb&wget=v&qget=v&nget=vt\" title=\"Numbers 31:30\" sec=\"Numbers 31:30\">subs</a></span> <span class=\"gloss\">cattle</span></div>\n",
       "\n",
       "\n",
       "</div>\n",
       "\n",
       "<div class=\"word \" style=\"background-color: None;\">\n",
       "<a href=\"#\" class=\"nd\">89473</a>\n",
       "<div class=\"h\"><a target=\"_blank\" href=\"https://shebanq.ancient-data.org/hebrew/word?version=c&id=1MN\" title=\"show this lexeme in SHEBANQ\">מִן־</a></div>\n",
       "<div class=\"features\"> <span class=\"pdp\"><a href=\"https://shebanq.ancient-data.org/hebrew/text?book=Numeri&chapter=31&verse=30&version=c&mr=m&qw=q&tp=txt_p&tr=hb&wget=v&qget=v&nget=vt\" title=\"Numbers 31:30\" sec=\"Numbers 31:30\">prep</a></span> <span class=\"gloss\">from</span></div>\n",
       "\n",
       "\n",
       "</div>\n",
       "\n",
       "<div class=\"word \" style=\"background-color: None;\">\n",
       "<a href=\"#\" class=\"nd\">89474</a>\n",
       "<div class=\"h\"><a target=\"_blank\" href=\"https://shebanq.ancient-data.org/hebrew/word?version=c&id=1H\" title=\"show this lexeme in SHEBANQ\">הַ</a></div>\n",
       "<div class=\"features\"> <span class=\"pdp\"><a href=\"https://shebanq.ancient-data.org/hebrew/text?book=Numeri&chapter=31&verse=30&version=c&mr=m&qw=q&tp=txt_p&tr=hb&wget=v&qget=v&nget=vt\" title=\"Numbers 31:30\" sec=\"Numbers 31:30\">art</a></span> <span class=\"gloss\">the</span></div>\n",
       "\n",
       "\n",
       "</div>\n",
       "\n",
       "<div class=\"word \" style=\"background-color: None;\">\n",
       "<a href=\"#\" class=\"nd\">89475</a>\n",
       "<div class=\"h\"><a target=\"_blank\" href=\"https://shebanq.ancient-data.org/hebrew/word?version=c&id=1XMWRn\" title=\"show this lexeme in SHEBANQ\">חֲמֹרִ֥ים </a></div>\n",
       "<div class=\"features\"> <span class=\"pdp\"><a href=\"https://shebanq.ancient-data.org/hebrew/text?book=Numeri&chapter=31&verse=30&version=c&mr=m&qw=q&tp=txt_p&tr=hb&wget=v&qget=v&nget=vt\" title=\"Numbers 31:30\" sec=\"Numbers 31:30\">subs</a></span> <span class=\"gloss\">he-ass</span></div>\n",
       "\n",
       "\n",
       "</div>\n",
       "\n",
       "<div class=\"word \" style=\"background-color: None;\">\n",
       "<a href=\"#\" class=\"nd\">89476</a>\n",
       "<div class=\"h\"><a target=\"_blank\" href=\"https://shebanq.ancient-data.org/hebrew/word?version=c&id=1W\" title=\"show this lexeme in SHEBANQ\">וּ</a></div>\n",
       "<div class=\"features\"> <span class=\"pdp\"><a href=\"https://shebanq.ancient-data.org/hebrew/text?book=Numeri&chapter=31&verse=30&version=c&mr=m&qw=q&tp=txt_p&tr=hb&wget=v&qget=v&nget=vt\" title=\"Numbers 31:30\" sec=\"Numbers 31:30\">conj</a></span> <span class=\"gloss\">and</span></div>\n",
       "\n",
       "\n",
       "</div>\n",
       "\n",
       "<div class=\"word \" style=\"background-color: None;\">\n",
       "<a href=\"#\" class=\"nd\">89477</a>\n",
       "<div class=\"h\"><a target=\"_blank\" href=\"https://shebanq.ancient-data.org/hebrew/word?version=c&id=1MN\" title=\"show this lexeme in SHEBANQ\">מִן־</a></div>\n",
       "<div class=\"features\"> <span class=\"pdp\"><a href=\"https://shebanq.ancient-data.org/hebrew/text?book=Numeri&chapter=31&verse=30&version=c&mr=m&qw=q&tp=txt_p&tr=hb&wget=v&qget=v&nget=vt\" title=\"Numbers 31:30\" sec=\"Numbers 31:30\">prep</a></span> <span class=\"gloss\">from</span></div>\n",
       "\n",
       "\n",
       "</div>\n",
       "\n",
       "<div class=\"word \" style=\"background-color: None;\">\n",
       "<a href=\"#\" class=\"nd\">89478</a>\n",
       "<div class=\"h\"><a target=\"_blank\" href=\"https://shebanq.ancient-data.org/hebrew/word?version=c&id=1H\" title=\"show this lexeme in SHEBANQ\">הַ</a></div>\n",
       "<div class=\"features\"> <span class=\"pdp\"><a href=\"https://shebanq.ancient-data.org/hebrew/text?book=Numeri&chapter=31&verse=30&version=c&mr=m&qw=q&tp=txt_p&tr=hb&wget=v&qget=v&nget=vt\" title=\"Numbers 31:30\" sec=\"Numbers 31:30\">art</a></span> <span class=\"gloss\">the</span></div>\n",
       "\n",
       "\n",
       "</div>\n",
       "\n",
       "<div class=\"word \" style=\"background-color: None;\">\n",
       "<a href=\"#\" class=\"nd\">89479</a>\n",
       "<div class=\"h\"><a target=\"_blank\" href=\"https://shebanq.ancient-data.org/hebrew/word?version=c&id=1YANn\" title=\"show this lexeme in SHEBANQ\">צֹּ֖אן </a></div>\n",
       "<div class=\"features\"> <span class=\"pdp\"><a href=\"https://shebanq.ancient-data.org/hebrew/text?book=Numeri&chapter=31&verse=30&version=c&mr=m&qw=q&tp=txt_p&tr=hb&wget=v&qget=v&nget=vt\" title=\"Numbers 31:30\" sec=\"Numbers 31:30\">subs</a></span> <span class=\"gloss\">cattle</span></div>\n",
       "\n",
       "\n",
       "</div>\n",
       "\n",
       "<div class=\"word  hl\">\n",
       "<a href=\"#\" class=\"nd\">89480</a>\n",
       "<div class=\"h\"><a target=\"_blank\" href=\"https://shebanq.ancient-data.org/hebrew/word?version=c&id=1MN\" title=\"show this lexeme in SHEBANQ\">מִ</a></div>\n",
       "<div class=\"features\"> <span class=\"pdp\"><a href=\"https://shebanq.ancient-data.org/hebrew/text?book=Numeri&chapter=31&verse=30&version=c&mr=m&qw=q&tp=txt_p&tr=hb&wget=v&qget=v&nget=vt\" title=\"Numbers 31:30\" sec=\"Numbers 31:30\">prep</a></span> <span class=\"gloss\">from</span></div>\n",
       "\n",
       "\n",
       "</div>\n",
       "\n",
       "<div class=\"word \" style=\"background-color: None;\">\n",
       "<a href=\"#\" class=\"nd\">89481</a>\n",
       "<div class=\"h\"><a target=\"_blank\" href=\"https://shebanq.ancient-data.org/hebrew/word?version=c&id=1KLn\" title=\"show this lexeme in SHEBANQ\">כָּל־</a></div>\n",
       "<div class=\"features\"> <span class=\"pdp\"><a href=\"https://shebanq.ancient-data.org/hebrew/text?book=Numeri&chapter=31&verse=30&version=c&mr=m&qw=q&tp=txt_p&tr=hb&wget=v&qget=v&nget=vt\" title=\"Numbers 31:30\" sec=\"Numbers 31:30\">subs</a></span> <span class=\"gloss\">whole</span></div>\n",
       "\n",
       "\n",
       "</div>\n",
       "\n",
       "<div class=\"word \" style=\"background-color: None;\">\n",
       "<a href=\"#\" class=\"nd\">89482</a>\n",
       "<div class=\"h\"><a target=\"_blank\" href=\"https://shebanq.ancient-data.org/hebrew/word?version=c&id=1H\" title=\"show this lexeme in SHEBANQ\">הַ</a></div>\n",
       "<div class=\"features\"> <span class=\"pdp\"><a href=\"https://shebanq.ancient-data.org/hebrew/text?book=Numeri&chapter=31&verse=30&version=c&mr=m&qw=q&tp=txt_p&tr=hb&wget=v&qget=v&nget=vt\" title=\"Numbers 31:30\" sec=\"Numbers 31:30\">art</a></span> <span class=\"gloss\">the</span></div>\n",
       "\n",
       "\n",
       "</div>\n",
       "\n",
       "<div class=\"word \" style=\"background-color: None;\">\n",
       "<a href=\"#\" class=\"nd\">89483</a>\n",
       "<div class=\"h\"><a target=\"_blank\" href=\"https://shebanq.ancient-data.org/hebrew/word?version=c&id=1BHMHn\" title=\"show this lexeme in SHEBANQ\">בְּהֵמָ֑ה </a></div>\n",
       "<div class=\"features\"> <span class=\"pdp\"><a href=\"https://shebanq.ancient-data.org/hebrew/text?book=Numeri&chapter=31&verse=30&version=c&mr=m&qw=q&tp=txt_p&tr=hb&wget=v&qget=v&nget=vt\" title=\"Numbers 31:30\" sec=\"Numbers 31:30\">subs</a></span> <span class=\"gloss\">cattle</span></div>\n",
       "\n",
       "\n",
       "</div>\n",
       "\n",
       "\n",
       "    </div>\n",
       "\n",
       "\n",
       "</div>\n",
       "\n",
       "\n",
       "</div>\n"
      ],
      "text/plain": [
       "<IPython.core.display.HTML object>"
      ]
     },
     "metadata": {},
     "output_type": "display_data"
    },
    {
     "data": {
      "text/markdown": [
       "\n",
       "\n",
       "**phrase** *16*\n",
       "\n"
      ],
      "text/plain": [
       "<IPython.core.display.Markdown object>"
      ]
     },
     "metadata": {},
     "output_type": "display_data"
    },
    {
     "data": {
      "text/html": [
       "<div class=\"atoms \" style=\"background-color: None;\">\n",
       "<a href=\"#\" class=\"nd\">705970</a>\n",
       "\n",
       "\n",
       "\n",
       "<div class=\"patom  hl\">\n",
       "\n",
       "    <div class=\"phrase\">\n",
       "        <a href=\"https://shebanq.ancient-data.org/hebrew/text?book=Deuteronomium&chapter=4&verse=37&version=c&mr=m&qw=q&tp=txt_p&tr=hb&wget=v&qget=v&nget=vt\" title=\"Deuteronomy 4:37\" sec=\"Deuteronomy 4:37\">phrase</a> <a href=\"#\" class=\"nd\">705970</a>  <span class=\"function\">Cmpl</span> <span class=\"typ\">PP</span>\n",
       "    </div>\n",
       "    <div class=\"atoms\">\n",
       "\n",
       "<div class=\"word \" style=\"background-color: None;\">\n",
       "<a href=\"#\" class=\"nd\">96035</a>\n",
       "<div class=\"h\"><a target=\"_blank\" href=\"https://shebanq.ancient-data.org/hebrew/word?version=c&id=1B\" title=\"show this lexeme in SHEBANQ\">בְּ</a></div>\n",
       "<div class=\"features\"> <span class=\"pdp\"><a href=\"https://shebanq.ancient-data.org/hebrew/text?book=Deuteronomium&chapter=4&verse=37&version=c&mr=m&qw=q&tp=txt_p&tr=hb&wget=v&qget=v&nget=vt\" title=\"Deuteronomy 4:37\" sec=\"Deuteronomy 4:37\">prep</a></span> <span class=\"gloss\">in</span></div>\n",
       "\n",
       "\n",
       "</div>\n",
       "\n",
       "<div class=\"word \" style=\"background-color: None;\">\n",
       "<a href=\"#\" class=\"nd\">96036</a>\n",
       "<div class=\"h\"><a target=\"_blank\" href=\"https://shebanq.ancient-data.org/hebrew/word?version=c&id=1ZROn\" title=\"show this lexeme in SHEBANQ\">זַרְעֹ֖ו </a></div>\n",
       "<div class=\"features\"> <span class=\"pdp\"><a href=\"https://shebanq.ancient-data.org/hebrew/text?book=Deuteronomium&chapter=4&verse=37&version=c&mr=m&qw=q&tp=txt_p&tr=hb&wget=v&qget=v&nget=vt\" title=\"Deuteronomy 4:37\" sec=\"Deuteronomy 4:37\">subs</a></span> <span class=\"gloss\">seed</span></div>\n",
       "\n",
       "\n",
       "</div>\n",
       "\n",
       "<div class=\"word  hl\">\n",
       "<a href=\"#\" class=\"nd\">96037</a>\n",
       "<div class=\"h\"><a target=\"_blank\" href=\"https://shebanq.ancient-data.org/hebrew/word?version=c&id=1AXRn\" title=\"show this lexeme in SHEBANQ\">אַחֲרָ֑יו </a></div>\n",
       "<div class=\"features\"> <span class=\"pdp\"><a href=\"https://shebanq.ancient-data.org/hebrew/text?book=Deuteronomium&chapter=4&verse=37&version=c&mr=m&qw=q&tp=txt_p&tr=hb&wget=v&qget=v&nget=vt\" title=\"Deuteronomy 4:37\" sec=\"Deuteronomy 4:37\">prep</a></span> <span class=\"gloss\">after</span></div>\n",
       "\n",
       "\n",
       "</div>\n",
       "\n",
       "\n",
       "    </div>\n",
       "\n",
       "\n",
       "</div>\n",
       "\n",
       "\n",
       "</div>\n"
      ],
      "text/plain": [
       "<IPython.core.display.HTML object>"
      ]
     },
     "metadata": {},
     "output_type": "display_data"
    },
    {
     "data": {
      "text/markdown": [
       "\n",
       "\n",
       "**phrase** *17*\n",
       "\n"
      ],
      "text/plain": [
       "<IPython.core.display.Markdown object>"
      ]
     },
     "metadata": {},
     "output_type": "display_data"
    },
    {
     "data": {
      "text/html": [
       "<div class=\"atoms \" style=\"background-color: None;\">\n",
       "<a href=\"#\" class=\"nd\">706038</a>\n",
       "\n",
       "\n",
       "\n",
       "<div class=\"patom  hl\">\n",
       "\n",
       "    <div class=\"phrase\">\n",
       "        <a href=\"https://shebanq.ancient-data.org/hebrew/text?book=Deuteronomium&chapter=4&verse=42&version=c&mr=m&qw=q&tp=txt_p&tr=hb&wget=v&qget=v&nget=vt\" title=\"Deuteronomy 4:42\" sec=\"Deuteronomy 4:42\">phrase</a> <a href=\"#\" class=\"nd\">706038</a>  <span class=\"function\">Cmpl</span> <span class=\"typ\">PP</span>\n",
       "    </div>\n",
       "    <div class=\"atoms\">\n",
       "\n",
       "<div class=\"word \" style=\"background-color: None;\">\n",
       "<a href=\"#\" class=\"nd\">96162</a>\n",
       "<div class=\"h\"><a target=\"_blank\" href=\"https://shebanq.ancient-data.org/hebrew/word?version=c&id=1AL\" title=\"show this lexeme in SHEBANQ\">אֶל־</a></div>\n",
       "<div class=\"features\"> <span class=\"pdp\"><a href=\"https://shebanq.ancient-data.org/hebrew/text?book=Deuteronomium&chapter=4&verse=42&version=c&mr=m&qw=q&tp=txt_p&tr=hb&wget=v&qget=v&nget=vt\" title=\"Deuteronomy 4:42\" sec=\"Deuteronomy 4:42\">prep</a></span> <span class=\"gloss\">to</span></div>\n",
       "\n",
       "\n",
       "</div>\n",
       "\n",
       "<div class=\"word \" style=\"background-color: None;\">\n",
       "<a href=\"#\" class=\"nd\">96163</a>\n",
       "<div class=\"h\"><a target=\"_blank\" href=\"https://shebanq.ancient-data.org/hebrew/word?version=c&id=1AXDn\" title=\"show this lexeme in SHEBANQ\">אַחַ֛ת </a></div>\n",
       "<div class=\"features\"> <span class=\"pdp\"><a href=\"https://shebanq.ancient-data.org/hebrew/text?book=Deuteronomium&chapter=4&verse=42&version=c&mr=m&qw=q&tp=txt_p&tr=hb&wget=v&qget=v&nget=vt\" title=\"Deuteronomy 4:42\" sec=\"Deuteronomy 4:42\">subs</a></span> <span class=\"gloss\">one</span></div>\n",
       "\n",
       "\n",
       "</div>\n",
       "\n",
       "<div class=\"word  hl\">\n",
       "<a href=\"#\" class=\"nd\">96164</a>\n",
       "<div class=\"h\"><a target=\"_blank\" href=\"https://shebanq.ancient-data.org/hebrew/word?version=c&id=1MN\" title=\"show this lexeme in SHEBANQ\">מִן־</a></div>\n",
       "<div class=\"features\"> <span class=\"pdp\"><a href=\"https://shebanq.ancient-data.org/hebrew/text?book=Deuteronomium&chapter=4&verse=42&version=c&mr=m&qw=q&tp=txt_p&tr=hb&wget=v&qget=v&nget=vt\" title=\"Deuteronomy 4:42\" sec=\"Deuteronomy 4:42\">prep</a></span> <span class=\"gloss\">from</span></div>\n",
       "\n",
       "\n",
       "</div>\n",
       "\n",
       "<div class=\"word \" style=\"background-color: None;\">\n",
       "<a href=\"#\" class=\"nd\">96165</a>\n",
       "<div class=\"h\"><a target=\"_blank\" href=\"https://shebanq.ancient-data.org/hebrew/word?version=c&id=1H\" title=\"show this lexeme in SHEBANQ\">הֶ</a></div>\n",
       "<div class=\"features\"> <span class=\"pdp\"><a href=\"https://shebanq.ancient-data.org/hebrew/text?book=Deuteronomium&chapter=4&verse=42&version=c&mr=m&qw=q&tp=txt_p&tr=hb&wget=v&qget=v&nget=vt\" title=\"Deuteronomy 4:42\" sec=\"Deuteronomy 4:42\">art</a></span> <span class=\"gloss\">the</span></div>\n",
       "\n",
       "\n",
       "</div>\n",
       "\n",
       "<div class=\"word \" style=\"background-color: None;\">\n",
       "<a href=\"#\" class=\"nd\">96166</a>\n",
       "<div class=\"h\"><a target=\"_blank\" href=\"https://shebanq.ancient-data.org/hebrew/word?version=c&id=1OJRn\" title=\"show this lexeme in SHEBANQ\">עָרִ֥ים </a></div>\n",
       "<div class=\"features\"> <span class=\"pdp\"><a href=\"https://shebanq.ancient-data.org/hebrew/text?book=Deuteronomium&chapter=4&verse=42&version=c&mr=m&qw=q&tp=txt_p&tr=hb&wget=v&qget=v&nget=vt\" title=\"Deuteronomy 4:42\" sec=\"Deuteronomy 4:42\">subs</a></span> <span class=\"gloss\">town</span></div>\n",
       "\n",
       "\n",
       "</div>\n",
       "\n",
       "<div class=\"word \" style=\"background-color: None;\">\n",
       "<a href=\"#\" class=\"nd\">96167</a>\n",
       "<div class=\"h\"><a target=\"_blank\" href=\"https://shebanq.ancient-data.org/hebrew/word?version=c&id=1H\" title=\"show this lexeme in SHEBANQ\">הָ</a></div>\n",
       "<div class=\"features\"> <span class=\"pdp\"><a href=\"https://shebanq.ancient-data.org/hebrew/text?book=Deuteronomium&chapter=4&verse=42&version=c&mr=m&qw=q&tp=txt_p&tr=hb&wget=v&qget=v&nget=vt\" title=\"Deuteronomy 4:42\" sec=\"Deuteronomy 4:42\">art</a></span> <span class=\"gloss\">the</span></div>\n",
       "\n",
       "\n",
       "</div>\n",
       "\n",
       "<div class=\"word \" style=\"background-color: None;\">\n",
       "<a href=\"#\" class=\"nd\">96168</a>\n",
       "<div class=\"h\"><a target=\"_blank\" href=\"https://shebanq.ancient-data.org/hebrew/word?version=c&id=1ALiii\" title=\"show this lexeme in SHEBANQ\">אֵ֖ל </a></div>\n",
       "<div class=\"features\"> <span class=\"pdp\"><a href=\"https://shebanq.ancient-data.org/hebrew/text?book=Deuteronomium&chapter=4&verse=42&version=c&mr=m&qw=q&tp=txt_p&tr=hb&wget=v&qget=v&nget=vt\" title=\"Deuteronomy 4:42\" sec=\"Deuteronomy 4:42\">prde</a></span> <span class=\"gloss\">these</span></div>\n",
       "\n",
       "\n",
       "</div>\n",
       "\n",
       "\n",
       "    </div>\n",
       "\n",
       "\n",
       "</div>\n",
       "\n",
       "\n",
       "</div>\n"
      ],
      "text/plain": [
       "<IPython.core.display.HTML object>"
      ]
     },
     "metadata": {},
     "output_type": "display_data"
    },
    {
     "data": {
      "text/markdown": [
       "\n",
       "\n",
       "**phrase** *18*\n",
       "\n"
      ],
      "text/plain": [
       "<IPython.core.display.Markdown object>"
      ]
     },
     "metadata": {},
     "output_type": "display_data"
    },
    {
     "data": {
      "text/html": [
       "<div class=\"atoms \" style=\"background-color: None;\">\n",
       "<a href=\"#\" class=\"nd\">709891</a>\n",
       "\n",
       "\n",
       "\n",
       "<div class=\"patom  hl\">\n",
       "\n",
       "    <div class=\"phrase\">\n",
       "        <a href=\"https://shebanq.ancient-data.org/hebrew/text?book=Deuteronomium&chapter=17&verse=8&version=c&mr=m&qw=q&tp=txt_p&tr=hb&wget=v&qget=v&nget=vt\" title=\"Deuteronomy 17:8\" sec=\"Deuteronomy 17:8\">phrase</a> <a href=\"#\" class=\"nd\">709891</a>  <span class=\"function\">Adju</span> <span class=\"typ\">PP</span>\n",
       "    </div>\n",
       "    <div class=\"atoms\">\n",
       "\n",
       "<div class=\"word \" style=\"background-color: None;\">\n",
       "<a href=\"#\" class=\"nd\">103115</a>\n",
       "<div class=\"h\"><a target=\"_blank\" href=\"https://shebanq.ancient-data.org/hebrew/word?version=c&id=1BJNn\" title=\"show this lexeme in SHEBANQ\">בֵּֽין־</a></div>\n",
       "<div class=\"features\"> <span class=\"pdp\"><a href=\"https://shebanq.ancient-data.org/hebrew/text?book=Deuteronomium&chapter=17&verse=8&version=c&mr=m&qw=q&tp=txt_p&tr=hb&wget=v&qget=v&nget=vt\" title=\"Deuteronomy 17:8\" sec=\"Deuteronomy 17:8\">prep</a></span> <span class=\"gloss\">interval</span></div>\n",
       "\n",
       "\n",
       "</div>\n",
       "\n",
       "<div class=\"word \" style=\"background-color: None;\">\n",
       "<a href=\"#\" class=\"nd\">103116</a>\n",
       "<div class=\"h\"><a target=\"_blank\" href=\"https://shebanq.ancient-data.org/hebrew/word?version=c&id=1DMn\" title=\"show this lexeme in SHEBANQ\">דָּ֨ם׀ </a></div>\n",
       "<div class=\"features\"> <span class=\"pdp\"><a href=\"https://shebanq.ancient-data.org/hebrew/text?book=Deuteronomium&chapter=17&verse=8&version=c&mr=m&qw=q&tp=txt_p&tr=hb&wget=v&qget=v&nget=vt\" title=\"Deuteronomy 17:8\" sec=\"Deuteronomy 17:8\">subs</a></span> <span class=\"gloss\">blood</span></div>\n",
       "\n",
       "\n",
       "</div>\n",
       "\n",
       "<div class=\"word  hl\">\n",
       "<a href=\"#\" class=\"nd\">103117</a>\n",
       "<div class=\"h\"><a target=\"_blank\" href=\"https://shebanq.ancient-data.org/hebrew/word?version=c&id=1L\" title=\"show this lexeme in SHEBANQ\">לְ</a></div>\n",
       "<div class=\"features\"> <span class=\"pdp\"><a href=\"https://shebanq.ancient-data.org/hebrew/text?book=Deuteronomium&chapter=17&verse=8&version=c&mr=m&qw=q&tp=txt_p&tr=hb&wget=v&qget=v&nget=vt\" title=\"Deuteronomy 17:8\" sec=\"Deuteronomy 17:8\">prep</a></span> <span class=\"gloss\">to</span></div>\n",
       "\n",
       "\n",
       "</div>\n",
       "\n",
       "<div class=\"word \" style=\"background-color: None;\">\n",
       "<a href=\"#\" class=\"nd\">103118</a>\n",
       "<div class=\"h\"><a target=\"_blank\" href=\"https://shebanq.ancient-data.org/hebrew/word?version=c&id=1DMn\" title=\"show this lexeme in SHEBANQ\">דָ֜ם </a></div>\n",
       "<div class=\"features\"> <span class=\"pdp\"><a href=\"https://shebanq.ancient-data.org/hebrew/text?book=Deuteronomium&chapter=17&verse=8&version=c&mr=m&qw=q&tp=txt_p&tr=hb&wget=v&qget=v&nget=vt\" title=\"Deuteronomy 17:8\" sec=\"Deuteronomy 17:8\">subs</a></span> <span class=\"gloss\">blood</span></div>\n",
       "\n",
       "\n",
       "</div>\n",
       "\n",
       "<div class=\"word \" style=\"background-color: None;\">\n",
       "<a href=\"#\" class=\"nd\">103119</a>\n",
       "<div class=\"h\"><a target=\"_blank\" href=\"https://shebanq.ancient-data.org/hebrew/word?version=c&id=1BJNn\" title=\"show this lexeme in SHEBANQ\">בֵּֽין־</a></div>\n",
       "<div class=\"features\"> <span class=\"pdp\"><a href=\"https://shebanq.ancient-data.org/hebrew/text?book=Deuteronomium&chapter=17&verse=8&version=c&mr=m&qw=q&tp=txt_p&tr=hb&wget=v&qget=v&nget=vt\" title=\"Deuteronomy 17:8\" sec=\"Deuteronomy 17:8\">prep</a></span> <span class=\"gloss\">interval</span></div>\n",
       "\n",
       "\n",
       "</div>\n",
       "\n",
       "<div class=\"word \" style=\"background-color: None;\">\n",
       "<a href=\"#\" class=\"nd\">103120</a>\n",
       "<div class=\"h\"><a target=\"_blank\" href=\"https://shebanq.ancient-data.org/hebrew/word?version=c&id=1DJNn\" title=\"show this lexeme in SHEBANQ\">דִּ֣ין </a></div>\n",
       "<div class=\"features\"> <span class=\"pdp\"><a href=\"https://shebanq.ancient-data.org/hebrew/text?book=Deuteronomium&chapter=17&verse=8&version=c&mr=m&qw=q&tp=txt_p&tr=hb&wget=v&qget=v&nget=vt\" title=\"Deuteronomy 17:8\" sec=\"Deuteronomy 17:8\">subs</a></span> <span class=\"gloss\">claim</span></div>\n",
       "\n",
       "\n",
       "</div>\n",
       "\n",
       "<div class=\"word  hl\">\n",
       "<a href=\"#\" class=\"nd\">103121</a>\n",
       "<div class=\"h\"><a target=\"_blank\" href=\"https://shebanq.ancient-data.org/hebrew/word?version=c&id=1L\" title=\"show this lexeme in SHEBANQ\">לְ</a></div>\n",
       "<div class=\"features\"> <span class=\"pdp\"><a href=\"https://shebanq.ancient-data.org/hebrew/text?book=Deuteronomium&chapter=17&verse=8&version=c&mr=m&qw=q&tp=txt_p&tr=hb&wget=v&qget=v&nget=vt\" title=\"Deuteronomy 17:8\" sec=\"Deuteronomy 17:8\">prep</a></span> <span class=\"gloss\">to</span></div>\n",
       "\n",
       "\n",
       "</div>\n",
       "\n",
       "<div class=\"word \" style=\"background-color: None;\">\n",
       "<a href=\"#\" class=\"nd\">103122</a>\n",
       "<div class=\"h\"><a target=\"_blank\" href=\"https://shebanq.ancient-data.org/hebrew/word?version=c&id=1DJNn\" title=\"show this lexeme in SHEBANQ\">דִ֗ין </a></div>\n",
       "<div class=\"features\"> <span class=\"pdp\"><a href=\"https://shebanq.ancient-data.org/hebrew/text?book=Deuteronomium&chapter=17&verse=8&version=c&mr=m&qw=q&tp=txt_p&tr=hb&wget=v&qget=v&nget=vt\" title=\"Deuteronomy 17:8\" sec=\"Deuteronomy 17:8\">subs</a></span> <span class=\"gloss\">claim</span></div>\n",
       "\n",
       "\n",
       "</div>\n",
       "\n",
       "<div class=\"word \" style=\"background-color: None;\">\n",
       "<a href=\"#\" class=\"nd\">103123</a>\n",
       "<div class=\"h\"><a target=\"_blank\" href=\"https://shebanq.ancient-data.org/hebrew/word?version=c&id=1W\" title=\"show this lexeme in SHEBANQ\">וּ</a></div>\n",
       "<div class=\"features\"> <span class=\"pdp\"><a href=\"https://shebanq.ancient-data.org/hebrew/text?book=Deuteronomium&chapter=17&verse=8&version=c&mr=m&qw=q&tp=txt_p&tr=hb&wget=v&qget=v&nget=vt\" title=\"Deuteronomy 17:8\" sec=\"Deuteronomy 17:8\">conj</a></span> <span class=\"gloss\">and</span></div>\n",
       "\n",
       "\n",
       "</div>\n",
       "\n",
       "<div class=\"word \" style=\"background-color: None;\">\n",
       "<a href=\"#\" class=\"nd\">103124</a>\n",
       "<div class=\"h\"><a target=\"_blank\" href=\"https://shebanq.ancient-data.org/hebrew/word?version=c&id=1BJNn\" title=\"show this lexeme in SHEBANQ\">בֵ֥ין </a></div>\n",
       "<div class=\"features\"> <span class=\"pdp\"><a href=\"https://shebanq.ancient-data.org/hebrew/text?book=Deuteronomium&chapter=17&verse=8&version=c&mr=m&qw=q&tp=txt_p&tr=hb&wget=v&qget=v&nget=vt\" title=\"Deuteronomy 17:8\" sec=\"Deuteronomy 17:8\">prep</a></span> <span class=\"gloss\">interval</span></div>\n",
       "\n",
       "\n",
       "</div>\n",
       "\n",
       "<div class=\"word \" style=\"background-color: None;\">\n",
       "<a href=\"#\" class=\"nd\">103125</a>\n",
       "<div class=\"h\"><a target=\"_blank\" href=\"https://shebanq.ancient-data.org/hebrew/word?version=c&id=1NGOn\" title=\"show this lexeme in SHEBANQ\">נֶ֨גַע֙ </a></div>\n",
       "<div class=\"features\"> <span class=\"pdp\"><a href=\"https://shebanq.ancient-data.org/hebrew/text?book=Deuteronomium&chapter=17&verse=8&version=c&mr=m&qw=q&tp=txt_p&tr=hb&wget=v&qget=v&nget=vt\" title=\"Deuteronomy 17:8\" sec=\"Deuteronomy 17:8\">subs</a></span> <span class=\"gloss\">stroke</span></div>\n",
       "\n",
       "\n",
       "</div>\n",
       "\n",
       "<div class=\"word  hl\">\n",
       "<a href=\"#\" class=\"nd\">103126</a>\n",
       "<div class=\"h\"><a target=\"_blank\" href=\"https://shebanq.ancient-data.org/hebrew/word?version=c&id=1L\" title=\"show this lexeme in SHEBANQ\">לָ</a></div>\n",
       "<div class=\"features\"> <span class=\"pdp\"><a href=\"https://shebanq.ancient-data.org/hebrew/text?book=Deuteronomium&chapter=17&verse=8&version=c&mr=m&qw=q&tp=txt_p&tr=hb&wget=v&qget=v&nget=vt\" title=\"Deuteronomy 17:8\" sec=\"Deuteronomy 17:8\">prep</a></span> <span class=\"gloss\">to</span></div>\n",
       "\n",
       "\n",
       "</div>\n",
       "\n",
       "<div class=\"word \" style=\"background-color: None;\">\n",
       "<a href=\"#\" class=\"nd\">103127</a>\n",
       "<div class=\"h\"><a target=\"_blank\" href=\"https://shebanq.ancient-data.org/hebrew/word?version=c&id=1NGOn\" title=\"show this lexeme in SHEBANQ\">נֶ֔גַע </a></div>\n",
       "<div class=\"features\"> <span class=\"pdp\"><a href=\"https://shebanq.ancient-data.org/hebrew/text?book=Deuteronomium&chapter=17&verse=8&version=c&mr=m&qw=q&tp=txt_p&tr=hb&wget=v&qget=v&nget=vt\" title=\"Deuteronomy 17:8\" sec=\"Deuteronomy 17:8\">subs</a></span> <span class=\"gloss\">stroke</span></div>\n",
       "\n",
       "\n",
       "</div>\n",
       "\n",
       "\n",
       "    </div>\n",
       "\n",
       "\n",
       "</div>\n",
       "\n",
       "\n",
       "</div>\n"
      ],
      "text/plain": [
       "<IPython.core.display.HTML object>"
      ]
     },
     "metadata": {},
     "output_type": "display_data"
    },
    {
     "data": {
      "text/markdown": [
       "\n",
       "\n",
       "**phrase** *19*\n",
       "\n"
      ],
      "text/plain": [
       "<IPython.core.display.Markdown object>"
      ]
     },
     "metadata": {},
     "output_type": "display_data"
    },
    {
     "data": {
      "text/html": [
       "<div class=\"atoms \" style=\"background-color: None;\">\n",
       "<a href=\"#\" class=\"nd\">722079</a>\n",
       "\n",
       "\n",
       "\n",
       "<div class=\"patom  hl\">\n",
       "\n",
       "    <div class=\"phrase\">\n",
       "        <a href=\"https://shebanq.ancient-data.org/hebrew/text?book=Josua&chapter=22&verse=27&version=c&mr=m&qw=q&tp=txt_p&tr=hb&wget=v&qget=v&nget=vt\" title=\"Joshua 22:27\" sec=\"Joshua 22:27\">phrase</a> <a href=\"#\" class=\"nd\">722079</a>  <span class=\"function\">Cmpl</span> <span class=\"typ\">PP</span>\n",
       "    </div>\n",
       "    <div class=\"atoms\">\n",
       "\n",
       "<div class=\"word \" style=\"background-color: None;\">\n",
       "<a href=\"#\" class=\"nd\">125932</a>\n",
       "<div class=\"h\"><a target=\"_blank\" href=\"https://shebanq.ancient-data.org/hebrew/word?version=c&id=1BJNn\" title=\"show this lexeme in SHEBANQ\">בֵּינֵ֣ינוּ </a></div>\n",
       "<div class=\"features\"> <span class=\"pdp\"><a href=\"https://shebanq.ancient-data.org/hebrew/text?book=Josua&chapter=22&verse=27&version=c&mr=m&qw=q&tp=txt_p&tr=hb&wget=v&qget=v&nget=vt\" title=\"Joshua 22:27\" sec=\"Joshua 22:27\">prep</a></span> <span class=\"gloss\">interval</span></div>\n",
       "\n",
       "\n",
       "</div>\n",
       "\n",
       "<div class=\"word \" style=\"background-color: None;\">\n",
       "<a href=\"#\" class=\"nd\">125933</a>\n",
       "<div class=\"h\"><a target=\"_blank\" href=\"https://shebanq.ancient-data.org/hebrew/word?version=c&id=1W\" title=\"show this lexeme in SHEBANQ\">וּ</a></div>\n",
       "<div class=\"features\"> <span class=\"pdp\"><a href=\"https://shebanq.ancient-data.org/hebrew/text?book=Josua&chapter=22&verse=27&version=c&mr=m&qw=q&tp=txt_p&tr=hb&wget=v&qget=v&nget=vt\" title=\"Joshua 22:27\" sec=\"Joshua 22:27\">conj</a></span> <span class=\"gloss\">and</span></div>\n",
       "\n",
       "\n",
       "</div>\n",
       "\n",
       "<div class=\"word \" style=\"background-color: None;\">\n",
       "<a href=\"#\" class=\"nd\">125934</a>\n",
       "<div class=\"h\"><a target=\"_blank\" href=\"https://shebanq.ancient-data.org/hebrew/word?version=c&id=1BJNn\" title=\"show this lexeme in SHEBANQ\">בֵינֵיכֶ֗ם </a></div>\n",
       "<div class=\"features\"> <span class=\"pdp\"><a href=\"https://shebanq.ancient-data.org/hebrew/text?book=Josua&chapter=22&verse=27&version=c&mr=m&qw=q&tp=txt_p&tr=hb&wget=v&qget=v&nget=vt\" title=\"Joshua 22:27\" sec=\"Joshua 22:27\">prep</a></span> <span class=\"gloss\">interval</span></div>\n",
       "\n",
       "\n",
       "</div>\n",
       "\n",
       "<div class=\"word \" style=\"background-color: None;\">\n",
       "<a href=\"#\" class=\"nd\">125935</a>\n",
       "<div class=\"h\"><a target=\"_blank\" href=\"https://shebanq.ancient-data.org/hebrew/word?version=c&id=1W\" title=\"show this lexeme in SHEBANQ\">וּ</a></div>\n",
       "<div class=\"features\"> <span class=\"pdp\"><a href=\"https://shebanq.ancient-data.org/hebrew/text?book=Josua&chapter=22&verse=27&version=c&mr=m&qw=q&tp=txt_p&tr=hb&wget=v&qget=v&nget=vt\" title=\"Joshua 22:27\" sec=\"Joshua 22:27\">conj</a></span> <span class=\"gloss\">and</span></div>\n",
       "\n",
       "\n",
       "</div>\n",
       "\n",
       "<div class=\"word \" style=\"background-color: None;\">\n",
       "<a href=\"#\" class=\"nd\">125936</a>\n",
       "<div class=\"h\"><a target=\"_blank\" href=\"https://shebanq.ancient-data.org/hebrew/word?version=c&id=1BJNn\" title=\"show this lexeme in SHEBANQ\">בֵ֣ין </a></div>\n",
       "<div class=\"features\"> <span class=\"pdp\"><a href=\"https://shebanq.ancient-data.org/hebrew/text?book=Josua&chapter=22&verse=27&version=c&mr=m&qw=q&tp=txt_p&tr=hb&wget=v&qget=v&nget=vt\" title=\"Joshua 22:27\" sec=\"Joshua 22:27\">prep</a></span> <span class=\"gloss\">interval</span></div>\n",
       "\n",
       "\n",
       "</div>\n",
       "\n",
       "<div class=\"word \" style=\"background-color: None;\">\n",
       "<a href=\"#\" class=\"nd\">125937</a>\n",
       "<div class=\"h\"><a target=\"_blank\" href=\"https://shebanq.ancient-data.org/hebrew/word?version=c&id=1DWRn\" title=\"show this lexeme in SHEBANQ\">דֹּרֹותֵינוּ֮ </a></div>\n",
       "<div class=\"features\"> <span class=\"pdp\"><a href=\"https://shebanq.ancient-data.org/hebrew/text?book=Josua&chapter=22&verse=27&version=c&mr=m&qw=q&tp=txt_p&tr=hb&wget=v&qget=v&nget=vt\" title=\"Joshua 22:27\" sec=\"Joshua 22:27\">subs</a></span> <span class=\"gloss\">generation</span></div>\n",
       "\n",
       "\n",
       "</div>\n",
       "\n",
       "<div class=\"word  hl\">\n",
       "<a href=\"#\" class=\"nd\">125938</a>\n",
       "<div class=\"h\"><a target=\"_blank\" href=\"https://shebanq.ancient-data.org/hebrew/word?version=c&id=1AXRn\" title=\"show this lexeme in SHEBANQ\">אַחֲרֵינוּ֒ </a></div>\n",
       "<div class=\"features\"> <span class=\"pdp\"><a href=\"https://shebanq.ancient-data.org/hebrew/text?book=Josua&chapter=22&verse=27&version=c&mr=m&qw=q&tp=txt_p&tr=hb&wget=v&qget=v&nget=vt\" title=\"Joshua 22:27\" sec=\"Joshua 22:27\">prep</a></span> <span class=\"gloss\">after</span></div>\n",
       "\n",
       "\n",
       "</div>\n",
       "\n",
       "\n",
       "    </div>\n",
       "\n",
       "\n",
       "</div>\n",
       "\n",
       "\n",
       "</div>\n"
      ],
      "text/plain": [
       "<IPython.core.display.HTML object>"
      ]
     },
     "metadata": {},
     "output_type": "display_data"
    },
    {
     "data": {
      "text/markdown": [
       "\n",
       "\n",
       "**phrase** *20*\n",
       "\n"
      ],
      "text/plain": [
       "<IPython.core.display.Markdown object>"
      ]
     },
     "metadata": {},
     "output_type": "display_data"
    },
    {
     "data": {
      "text/html": [
       "<div class=\"atoms \" style=\"background-color: None;\">\n",
       "<a href=\"#\" class=\"nd\">749909</a>\n",
       "\n",
       "\n",
       "\n",
       "<div class=\"patom  hl\">\n",
       "\n",
       "    <div class=\"phrase\">\n",
       "        <a href=\"https://shebanq.ancient-data.org/hebrew/text?book=Samuel_II&chapter=16&verse=23&version=c&mr=m&qw=q&tp=txt_p&tr=hb&wget=v&qget=v&nget=vt\" title=\"2_Samuel 16:23\" sec=\"2_Samuel 16:23\">phrase</a> <a href=\"#\" class=\"nd\">749909</a>  <span class=\"function\">Adju</span> <span class=\"typ\">PP</span>\n",
       "    </div>\n",
       "    <div class=\"atoms\">\n",
       "\n",
       "<div class=\"word \" style=\"background-color: None;\">\n",
       "<a href=\"#\" class=\"nd\">170284</a>\n",
       "<div class=\"h\"><a target=\"_blank\" href=\"https://shebanq.ancient-data.org/hebrew/word?version=c&id=1GM\" title=\"show this lexeme in SHEBANQ\">גַּם־</a></div>\n",
       "<div class=\"features\"> <span class=\"pdp\"><a href=\"https://shebanq.ancient-data.org/hebrew/text?book=Samuel_II&chapter=16&verse=23&version=c&mr=m&qw=q&tp=txt_p&tr=hb&wget=v&qget=v&nget=vt\" title=\"2_Samuel 16:23\" sec=\"2_Samuel 16:23\">advb</a></span> <span class=\"gloss\">even</span></div>\n",
       "\n",
       "\n",
       "</div>\n",
       "\n",
       "<div class=\"word \" style=\"background-color: None;\">\n",
       "<a href=\"#\" class=\"nd\">170285</a>\n",
       "<div class=\"h\"><a target=\"_blank\" href=\"https://shebanq.ancient-data.org/hebrew/word?version=c&id=1L\" title=\"show this lexeme in SHEBANQ\">לְ</a></div>\n",
       "<div class=\"features\"> <span class=\"pdp\"><a href=\"https://shebanq.ancient-data.org/hebrew/text?book=Samuel_II&chapter=16&verse=23&version=c&mr=m&qw=q&tp=txt_p&tr=hb&wget=v&qget=v&nget=vt\" title=\"2_Samuel 16:23\" sec=\"2_Samuel 16:23\">prep</a></span> <span class=\"gloss\">to</span></div>\n",
       "\n",
       "\n",
       "</div>\n",
       "\n",
       "<div class=\"word \" style=\"background-color: None;\">\n",
       "<a href=\"#\" class=\"nd\">170286</a>\n",
       "<div class=\"h\"><a target=\"_blank\" href=\"https://shebanq.ancient-data.org/hebrew/word?version=c&id=1DWDiin\" title=\"show this lexeme in SHEBANQ\">דָוִ֖ד </a></div>\n",
       "<div class=\"features\"> <span class=\"pdp\"><a href=\"https://shebanq.ancient-data.org/hebrew/text?book=Samuel_II&chapter=16&verse=23&version=c&mr=m&qw=q&tp=txt_p&tr=hb&wget=v&qget=v&nget=vt\" title=\"2_Samuel 16:23\" sec=\"2_Samuel 16:23\">nmpr</a></span> <span class=\"gloss\">David</span></div>\n",
       "\n",
       "\n",
       "</div>\n",
       "\n",
       "<div class=\"word \" style=\"background-color: None;\">\n",
       "<a href=\"#\" class=\"nd\">170287</a>\n",
       "<div class=\"h\"><a target=\"_blank\" href=\"https://shebanq.ancient-data.org/hebrew/word?version=c&id=1GM\" title=\"show this lexeme in SHEBANQ\">גַּ֥ם </a></div>\n",
       "<div class=\"features\"> <span class=\"pdp\"><a href=\"https://shebanq.ancient-data.org/hebrew/text?book=Samuel_II&chapter=16&verse=23&version=c&mr=m&qw=q&tp=txt_p&tr=hb&wget=v&qget=v&nget=vt\" title=\"2_Samuel 16:23\" sec=\"2_Samuel 16:23\">advb</a></span> <span class=\"gloss\">even</span></div>\n",
       "\n",
       "\n",
       "</div>\n",
       "\n",
       "<div class=\"word  hl\">\n",
       "<a href=\"#\" class=\"nd\">170288</a>\n",
       "<div class=\"h\"><a target=\"_blank\" href=\"https://shebanq.ancient-data.org/hebrew/word?version=c&id=1L\" title=\"show this lexeme in SHEBANQ\">לְ</a></div>\n",
       "<div class=\"features\"> <span class=\"pdp\"><a href=\"https://shebanq.ancient-data.org/hebrew/text?book=Samuel_II&chapter=16&verse=23&version=c&mr=m&qw=q&tp=txt_p&tr=hb&wget=v&qget=v&nget=vt\" title=\"2_Samuel 16:23\" sec=\"2_Samuel 16:23\">prep</a></span> <span class=\"gloss\">to</span></div>\n",
       "\n",
       "\n",
       "</div>\n",
       "\n",
       "<div class=\"word \" style=\"background-color: None;\">\n",
       "<a href=\"#\" class=\"nd\">170289</a>\n",
       "<div class=\"h\"><a target=\"_blank\" href=\"https://shebanq.ancient-data.org/hebrew/word?version=c&id=1ABCLWMn\" title=\"show this lexeme in SHEBANQ\">אַבְשָׁלֹֽם׃ ס </a></div>\n",
       "<div class=\"features\"> <span class=\"pdp\"><a href=\"https://shebanq.ancient-data.org/hebrew/text?book=Samuel_II&chapter=16&verse=23&version=c&mr=m&qw=q&tp=txt_p&tr=hb&wget=v&qget=v&nget=vt\" title=\"2_Samuel 16:23\" sec=\"2_Samuel 16:23\">nmpr</a></span> <span class=\"gloss\">Absalom</span></div>\n",
       "\n",
       "\n",
       "</div>\n",
       "\n",
       "\n",
       "    </div>\n",
       "\n",
       "\n",
       "</div>\n",
       "\n",
       "\n",
       "</div>\n"
      ],
      "text/plain": [
       "<IPython.core.display.HTML object>"
      ]
     },
     "metadata": {},
     "output_type": "display_data"
    }
   ],
   "source": [
    "adj_preps = \"\"\"\n",
    "\n",
    "phrase_atom typ=PP\n",
    "    subphrase rela=adj\n",
    "        word pdp=prep\n",
    "\"\"\"\n",
    "\n",
    "find_and_show(adj_preps)"
   ]
  },
  {
   "cell_type": "markdown",
   "metadata": {},
   "source": [
    "The results above show that the `adj` subphrase relation is also a non-head. These cases have to be excluded.\n",
    "\n",
    "Now we move on to test the **adverb** relations reflected in the survey..."
   ]
  },
  {
   "cell_type": "code",
   "execution_count": 35,
   "metadata": {},
   "outputs": [
    {
     "name": "stdout",
     "output_type": "stream",
     "text": [
      "  0.76s 1 result\n",
      "1 results\n"
     ]
    },
    {
     "data": {
      "text/markdown": [
       "\n",
       "\n",
       "**phrase** *1*\n",
       "\n"
      ],
      "text/plain": [
       "<IPython.core.display.Markdown object>"
      ]
     },
     "metadata": {},
     "output_type": "display_data"
    },
    {
     "data": {
      "text/html": [
       "<div class=\"atoms \" style=\"background-color: None;\">\n",
       "<a href=\"#\" class=\"nd\">883872</a>\n",
       "\n",
       "\n",
       "\n",
       "<div class=\"patom  hl\">\n",
       "\n",
       "    <div class=\"phrase\">\n",
       "        <a href=\"https://shebanq.ancient-data.org/hebrew/text?book=Nehemia&chapter=2&verse=2&version=c&mr=m&qw=q&tp=txt_p&tr=hb&wget=v&qget=v&nget=vt\" title=\"Nehemiah 2:2\" sec=\"Nehemiah 2:2\">phrase</a> <a href=\"#\" class=\"nd\">883872</a>  <span class=\"function\">Modi</span> <span class=\"typ\">AdvP</span>\n",
       "    </div>\n",
       "    <div class=\"atoms\">\n",
       "\n",
       "<div class=\"word \" style=\"background-color: None;\">\n",
       "<a href=\"#\" class=\"nd\">383762</a>\n",
       "<div class=\"h\"><a target=\"_blank\" href=\"https://shebanq.ancient-data.org/hebrew/word?version=c&id=1RBHv\" title=\"show this lexeme in SHEBANQ\">הַרְבֵּ֥ה </a></div>\n",
       "<div class=\"features\"> <span class=\"pdp\"><a href=\"https://shebanq.ancient-data.org/hebrew/text?book=Nehemia&chapter=2&verse=2&version=c&mr=m&qw=q&tp=txt_p&tr=hb&wget=v&qget=v&nget=vt\" title=\"Nehemiah 2:2\" sec=\"Nehemiah 2:2\">advb</a></span> <span class=\"gloss\">be many</span> <span class=\"vs\">hif</span> <span class=\"vt\">infa</span></div>\n",
       "\n",
       "\n",
       "</div>\n",
       "\n",
       "<div class=\"word  hl\">\n",
       "<a href=\"#\" class=\"nd\">383763</a>\n",
       "<div class=\"h\"><a target=\"_blank\" href=\"https://shebanq.ancient-data.org/hebrew/word?version=c&id=1MADn\" title=\"show this lexeme in SHEBANQ\">מְאֹֽד׃ </a></div>\n",
       "<div class=\"features\"> <span class=\"pdp\"><a href=\"https://shebanq.ancient-data.org/hebrew/text?book=Nehemia&chapter=2&verse=2&version=c&mr=m&qw=q&tp=txt_p&tr=hb&wget=v&qget=v&nget=vt\" title=\"Nehemiah 2:2\" sec=\"Nehemiah 2:2\">advb</a></span> <span class=\"gloss\">might</span></div>\n",
       "\n",
       "\n",
       "</div>\n",
       "\n",
       "\n",
       "    </div>\n",
       "\n",
       "\n",
       "</div>\n",
       "\n",
       "\n",
       "</div>\n"
      ],
      "text/plain": [
       "<IPython.core.display.HTML object>"
      ]
     },
     "metadata": {},
     "output_type": "display_data"
    }
   ],
   "source": [
    "adv_adj = \"\"\"\n",
    "\n",
    "phrase_atom typ=AdvP\n",
    "    subphrase rela=adj\n",
    "        word pdp=advb\n",
    "\n",
    "\"\"\"\n",
    "\n",
    "find_and_show(adv_adj)"
   ]
  },
  {
   "cell_type": "markdown",
   "metadata": {},
   "source": [
    "The `adj` relationships in the adverbial phrase is also not a true head. Now for the `mod` (modifier) relation."
   ]
  },
  {
   "cell_type": "code",
   "execution_count": 36,
   "metadata": {},
   "outputs": [
    {
     "name": "stdout",
     "output_type": "stream",
     "text": [
      "  0.77s 49 results\n",
      "49 results\n"
     ]
    },
    {
     "data": {
      "text/markdown": [
       "\n",
       "\n",
       "**phrase** *1*\n",
       "\n"
      ],
      "text/plain": [
       "<IPython.core.display.Markdown object>"
      ]
     },
     "metadata": {},
     "output_type": "display_data"
    },
    {
     "data": {
      "text/html": [
       "<div class=\"atoms \" style=\"background-color: None;\">\n",
       "<a href=\"#\" class=\"nd\">655580</a>\n",
       "\n",
       "\n",
       "\n",
       "<div class=\"patom  hl\">\n",
       "\n",
       "    <div class=\"phrase\">\n",
       "        <a href=\"https://shebanq.ancient-data.org/hebrew/text?book=Genesis&chapter=16&verse=13&version=c&mr=m&qw=q&tp=txt_p&tr=hb&wget=v&qget=v&nget=vt\" title=\"Genesis 16:13\" sec=\"Genesis 16:13\">phrase</a> <a href=\"#\" class=\"nd\">655580</a>  <span class=\"function\">Modi</span> <span class=\"typ\">AdvP</span>\n",
       "    </div>\n",
       "    <div class=\"atoms\">\n",
       "\n",
       "<div class=\"word  hl\">\n",
       "<a href=\"#\" class=\"nd\">7275</a>\n",
       "<div class=\"h\"><a target=\"_blank\" href=\"https://shebanq.ancient-data.org/hebrew/word?version=c&id=1GM\" title=\"show this lexeme in SHEBANQ\">גַ֥ם </a></div>\n",
       "<div class=\"features\"> <span class=\"pdp\"><a href=\"https://shebanq.ancient-data.org/hebrew/text?book=Genesis&chapter=16&verse=13&version=c&mr=m&qw=q&tp=txt_p&tr=hb&wget=v&qget=v&nget=vt\" title=\"Genesis 16:13\" sec=\"Genesis 16:13\">advb</a></span> <span class=\"gloss\">even</span></div>\n",
       "\n",
       "\n",
       "</div>\n",
       "\n",
       "<div class=\"word \" style=\"background-color: None;\">\n",
       "<a href=\"#\" class=\"nd\">7276</a>\n",
       "<div class=\"h\"><a target=\"_blank\" href=\"https://shebanq.ancient-data.org/hebrew/word?version=c&id=1HLM\" title=\"show this lexeme in SHEBANQ\">הֲלֹ֛ם </a></div>\n",
       "<div class=\"features\"> <span class=\"pdp\"><a href=\"https://shebanq.ancient-data.org/hebrew/text?book=Genesis&chapter=16&verse=13&version=c&mr=m&qw=q&tp=txt_p&tr=hb&wget=v&qget=v&nget=vt\" title=\"Genesis 16:13\" sec=\"Genesis 16:13\">advb</a></span> <span class=\"gloss\">hither</span></div>\n",
       "\n",
       "\n",
       "</div>\n",
       "\n",
       "\n",
       "    </div>\n",
       "\n",
       "\n",
       "</div>\n",
       "\n",
       "\n",
       "</div>\n"
      ],
      "text/plain": [
       "<IPython.core.display.HTML object>"
      ]
     },
     "metadata": {},
     "output_type": "display_data"
    },
    {
     "data": {
      "text/markdown": [
       "\n",
       "\n",
       "**phrase** *2*\n",
       "\n"
      ],
      "text/plain": [
       "<IPython.core.display.Markdown object>"
      ]
     },
     "metadata": {},
     "output_type": "display_data"
    },
    {
     "data": {
      "text/html": [
       "<div class=\"atoms \" style=\"background-color: None;\">\n",
       "<a href=\"#\" class=\"nd\">656048</a>\n",
       "\n",
       "\n",
       "\n",
       "<div class=\"patom  hl\">\n",
       "\n",
       "    <div class=\"phrase\">\n",
       "        <a href=\"https://shebanq.ancient-data.org/hebrew/text?book=Genesis&chapter=18&verse=13&version=c&mr=m&qw=q&tp=txt_p&tr=hb&wget=v&qget=v&nget=vt\" title=\"Genesis 18:13\" sec=\"Genesis 18:13\">phrase</a> <a href=\"#\" class=\"nd\">656048</a>  <span class=\"function\">Modi</span> <span class=\"typ\">AdvP</span>\n",
       "    </div>\n",
       "    <div class=\"atoms\">\n",
       "\n",
       "<div class=\"word  hl\">\n",
       "<a href=\"#\" class=\"nd\">8037</a>\n",
       "<div class=\"h\"><a target=\"_blank\" href=\"https://shebanq.ancient-data.org/hebrew/word?version=c&id=1AP\" title=\"show this lexeme in SHEBANQ\">אַ֥ף </a></div>\n",
       "<div class=\"features\"> <span class=\"pdp\"><a href=\"https://shebanq.ancient-data.org/hebrew/text?book=Genesis&chapter=18&verse=13&version=c&mr=m&qw=q&tp=txt_p&tr=hb&wget=v&qget=v&nget=vt\" title=\"Genesis 18:13\" sec=\"Genesis 18:13\">advb</a></span> <span class=\"gloss\">even</span></div>\n",
       "\n",
       "\n",
       "</div>\n",
       "\n",
       "<div class=\"word \" style=\"background-color: None;\">\n",
       "<a href=\"#\" class=\"nd\">8038</a>\n",
       "<div class=\"h\"><a target=\"_blank\" href=\"https://shebanq.ancient-data.org/hebrew/word?version=c&id=1AMNMi\" title=\"show this lexeme in SHEBANQ\">אֻמְנָ֛ם </a></div>\n",
       "<div class=\"features\"> <span class=\"pdp\"><a href=\"https://shebanq.ancient-data.org/hebrew/text?book=Genesis&chapter=18&verse=13&version=c&mr=m&qw=q&tp=txt_p&tr=hb&wget=v&qget=v&nget=vt\" title=\"Genesis 18:13\" sec=\"Genesis 18:13\">advb</a></span> <span class=\"gloss\">really</span></div>\n",
       "\n",
       "\n",
       "</div>\n",
       "\n",
       "\n",
       "    </div>\n",
       "\n",
       "\n",
       "</div>\n",
       "\n",
       "\n",
       "</div>\n"
      ],
      "text/plain": [
       "<IPython.core.display.HTML object>"
      ]
     },
     "metadata": {},
     "output_type": "display_data"
    },
    {
     "data": {
      "text/markdown": [
       "\n",
       "\n",
       "**phrase** *3*\n",
       "\n"
      ],
      "text/plain": [
       "<IPython.core.display.Markdown object>"
      ]
     },
     "metadata": {},
     "output_type": "display_data"
    },
    {
     "data": {
      "text/html": [
       "<div class=\"atoms \" style=\"background-color: None;\">\n",
       "<a href=\"#\" class=\"nd\">657025</a>\n",
       "\n",
       "\n",
       "\n",
       "<div class=\"patom  hl\">\n",
       "\n",
       "    <div class=\"phrase\">\n",
       "        <a href=\"https://shebanq.ancient-data.org/hebrew/text?book=Genesis&chapter=20&verse=12&version=c&mr=m&qw=q&tp=txt_p&tr=hb&wget=v&qget=v&nget=vt\" title=\"Genesis 20:12\" sec=\"Genesis 20:12\">phrase</a> <a href=\"#\" class=\"nd\">657025</a>  <span class=\"function\">Modi</span> <span class=\"typ\">AdvP</span>\n",
       "    </div>\n",
       "    <div class=\"atoms\">\n",
       "\n",
       "<div class=\"word  hl\">\n",
       "<a href=\"#\" class=\"nd\">9488</a>\n",
       "<div class=\"h\"><a target=\"_blank\" href=\"https://shebanq.ancient-data.org/hebrew/word?version=c&id=1GM\" title=\"show this lexeme in SHEBANQ\">גַם־</a></div>\n",
       "<div class=\"features\"> <span class=\"pdp\"><a href=\"https://shebanq.ancient-data.org/hebrew/text?book=Genesis&chapter=20&verse=12&version=c&mr=m&qw=q&tp=txt_p&tr=hb&wget=v&qget=v&nget=vt\" title=\"Genesis 20:12\" sec=\"Genesis 20:12\">advb</a></span> <span class=\"gloss\">even</span></div>\n",
       "\n",
       "\n",
       "</div>\n",
       "\n",
       "<div class=\"word \" style=\"background-color: None;\">\n",
       "<a href=\"#\" class=\"nd\">9489</a>\n",
       "<div class=\"h\"><a target=\"_blank\" href=\"https://shebanq.ancient-data.org/hebrew/word?version=c&id=1AMNH\" title=\"show this lexeme in SHEBANQ\">אָמְנָ֗ה </a></div>\n",
       "<div class=\"features\"> <span class=\"pdp\"><a href=\"https://shebanq.ancient-data.org/hebrew/text?book=Genesis&chapter=20&verse=12&version=c&mr=m&qw=q&tp=txt_p&tr=hb&wget=v&qget=v&nget=vt\" title=\"Genesis 20:12\" sec=\"Genesis 20:12\">advb</a></span> <span class=\"gloss\">indeed</span></div>\n",
       "\n",
       "\n",
       "</div>\n",
       "\n",
       "\n",
       "    </div>\n",
       "\n",
       "\n",
       "</div>\n",
       "\n",
       "\n",
       "</div>\n"
      ],
      "text/plain": [
       "<IPython.core.display.HTML object>"
      ]
     },
     "metadata": {},
     "output_type": "display_data"
    },
    {
     "data": {
      "text/markdown": [
       "\n",
       "\n",
       "**phrase** *4*\n",
       "\n"
      ],
      "text/plain": [
       "<IPython.core.display.Markdown object>"
      ]
     },
     "metadata": {},
     "output_type": "display_data"
    },
    {
     "data": {
      "text/html": [
       "<div class=\"atoms \" style=\"background-color: None;\">\n",
       "<a href=\"#\" class=\"nd\">661761</a>\n",
       "\n",
       "\n",
       "\n",
       "<div class=\"patom  hl\">\n",
       "\n",
       "    <div class=\"phrase\">\n",
       "        <a href=\"https://shebanq.ancient-data.org/hebrew/text?book=Genesis&chapter=31&verse=15&version=c&mr=m&qw=q&tp=txt_p&tr=hb&wget=v&qget=v&nget=vt\" title=\"Genesis 31:15\" sec=\"Genesis 31:15\">phrase</a> <a href=\"#\" class=\"nd\">661761</a>  <span class=\"function\">Modi</span> <span class=\"typ\">AdvP</span>\n",
       "    </div>\n",
       "    <div class=\"atoms\">\n",
       "\n",
       "<div class=\"word  hl\">\n",
       "<a href=\"#\" class=\"nd\">16648</a>\n",
       "<div class=\"h\"><a target=\"_blank\" href=\"https://shebanq.ancient-data.org/hebrew/word?version=c&id=1GM\" title=\"show this lexeme in SHEBANQ\">גַּם־</a></div>\n",
       "<div class=\"features\"> <span class=\"pdp\"><a href=\"https://shebanq.ancient-data.org/hebrew/text?book=Genesis&chapter=31&verse=15&version=c&mr=m&qw=q&tp=txt_p&tr=hb&wget=v&qget=v&nget=vt\" title=\"Genesis 31:15\" sec=\"Genesis 31:15\">advb</a></span> <span class=\"gloss\">even</span></div>\n",
       "\n",
       "\n",
       "</div>\n",
       "\n",
       "<div class=\"word \" style=\"background-color: None;\">\n",
       "<a href=\"#\" class=\"nd\">16649</a>\n",
       "<div class=\"h\"><a target=\"_blank\" href=\"https://shebanq.ancient-data.org/hebrew/word?version=c&id=1AKLv\" title=\"show this lexeme in SHEBANQ\">אָכֹ֖ול </a></div>\n",
       "<div class=\"features\"> <span class=\"pdp\"><a href=\"https://shebanq.ancient-data.org/hebrew/text?book=Genesis&chapter=31&verse=15&version=c&mr=m&qw=q&tp=txt_p&tr=hb&wget=v&qget=v&nget=vt\" title=\"Genesis 31:15\" sec=\"Genesis 31:15\">advb</a></span> <span class=\"gloss\">eat</span> <span class=\"vs\">qal</span> <span class=\"vt\">infa</span></div>\n",
       "\n",
       "\n",
       "</div>\n",
       "\n",
       "\n",
       "    </div>\n",
       "\n",
       "\n",
       "</div>\n",
       "\n",
       "\n",
       "</div>\n"
      ],
      "text/plain": [
       "<IPython.core.display.HTML object>"
      ]
     },
     "metadata": {},
     "output_type": "display_data"
    },
    {
     "data": {
      "text/markdown": [
       "\n",
       "\n",
       "**phrase** *5*\n",
       "\n"
      ],
      "text/plain": [
       "<IPython.core.display.Markdown object>"
      ]
     },
     "metadata": {},
     "output_type": "display_data"
    },
    {
     "data": {
      "text/html": [
       "<div class=\"atoms \" style=\"background-color: None;\">\n",
       "<a href=\"#\" class=\"nd\">665316</a>\n",
       "\n",
       "\n",
       "\n",
       "<div class=\"patom  hl\">\n",
       "\n",
       "    <div class=\"phrase\">\n",
       "        <a href=\"https://shebanq.ancient-data.org/hebrew/text?book=Genesis&chapter=40&verse=15&version=c&mr=m&qw=q&tp=txt_p&tr=hb&wget=v&qget=v&nget=vt\" title=\"Genesis 40:15\" sec=\"Genesis 40:15\">phrase</a> <a href=\"#\" class=\"nd\">665316</a>  <span class=\"function\">Loca</span> <span class=\"typ\">AdvP</span>\n",
       "    </div>\n",
       "    <div class=\"atoms\">\n",
       "\n",
       "<div class=\"word  hl\">\n",
       "<a href=\"#\" class=\"nd\">22190</a>\n",
       "<div class=\"h\"><a target=\"_blank\" href=\"https://shebanq.ancient-data.org/hebrew/word?version=c&id=1GM\" title=\"show this lexeme in SHEBANQ\">גַם־</a></div>\n",
       "<div class=\"features\"> <span class=\"pdp\"><a href=\"https://shebanq.ancient-data.org/hebrew/text?book=Genesis&chapter=40&verse=15&version=c&mr=m&qw=q&tp=txt_p&tr=hb&wget=v&qget=v&nget=vt\" title=\"Genesis 40:15\" sec=\"Genesis 40:15\">advb</a></span> <span class=\"gloss\">even</span></div>\n",
       "\n",
       "\n",
       "</div>\n",
       "\n",
       "<div class=\"word \" style=\"background-color: None;\">\n",
       "<a href=\"#\" class=\"nd\">22191</a>\n",
       "<div class=\"h\"><a target=\"_blank\" href=\"https://shebanq.ancient-data.org/hebrew/word?version=c&id=1PH\" title=\"show this lexeme in SHEBANQ\">פֹּה֙ </a></div>\n",
       "<div class=\"features\"> <span class=\"pdp\"><a href=\"https://shebanq.ancient-data.org/hebrew/text?book=Genesis&chapter=40&verse=15&version=c&mr=m&qw=q&tp=txt_p&tr=hb&wget=v&qget=v&nget=vt\" title=\"Genesis 40:15\" sec=\"Genesis 40:15\">advb</a></span> <span class=\"gloss\">here</span></div>\n",
       "\n",
       "\n",
       "</div>\n",
       "\n",
       "\n",
       "    </div>\n",
       "\n",
       "\n",
       "</div>\n",
       "\n",
       "\n",
       "</div>\n"
      ],
      "text/plain": [
       "<IPython.core.display.HTML object>"
      ]
     },
     "metadata": {},
     "output_type": "display_data"
    },
    {
     "data": {
      "text/markdown": [
       "\n",
       "\n",
       "**phrase** *6*\n",
       "\n"
      ],
      "text/plain": [
       "<IPython.core.display.Markdown object>"
      ]
     },
     "metadata": {},
     "output_type": "display_data"
    },
    {
     "data": {
      "text/html": [
       "<div class=\"atoms \" style=\"background-color: None;\">\n",
       "<a href=\"#\" class=\"nd\">667158</a>\n",
       "\n",
       "\n",
       "\n",
       "<div class=\"patom  hl\">\n",
       "\n",
       "    <div class=\"phrase\">\n",
       "        <a href=\"https://shebanq.ancient-data.org/hebrew/text?book=Genesis&chapter=44&verse=10&version=c&mr=m&qw=q&tp=txt_p&tr=hb&wget=v&qget=v&nget=vt\" title=\"Genesis 44:10\" sec=\"Genesis 44:10\">phrase</a> <a href=\"#\" class=\"nd\">667158</a>  <span class=\"function\">Time</span> <span class=\"typ\">AdvP</span>\n",
       "    </div>\n",
       "    <div class=\"atoms\">\n",
       "\n",
       "<div class=\"word  hl\">\n",
       "<a href=\"#\" class=\"nd\">25005</a>\n",
       "<div class=\"h\"><a target=\"_blank\" href=\"https://shebanq.ancient-data.org/hebrew/word?version=c&id=1GM\" title=\"show this lexeme in SHEBANQ\">גַּם־</a></div>\n",
       "<div class=\"features\"> <span class=\"pdp\"><a href=\"https://shebanq.ancient-data.org/hebrew/text?book=Genesis&chapter=44&verse=10&version=c&mr=m&qw=q&tp=txt_p&tr=hb&wget=v&qget=v&nget=vt\" title=\"Genesis 44:10\" sec=\"Genesis 44:10\">advb</a></span> <span class=\"gloss\">even</span></div>\n",
       "\n",
       "\n",
       "</div>\n",
       "\n",
       "<div class=\"word \" style=\"background-color: None;\">\n",
       "<a href=\"#\" class=\"nd\">25006</a>\n",
       "<div class=\"h\"><a target=\"_blank\" href=\"https://shebanq.ancient-data.org/hebrew/word?version=c&id=1OTH\" title=\"show this lexeme in SHEBANQ\">עַתָּ֥ה </a></div>\n",
       "<div class=\"features\"> <span class=\"pdp\"><a href=\"https://shebanq.ancient-data.org/hebrew/text?book=Genesis&chapter=44&verse=10&version=c&mr=m&qw=q&tp=txt_p&tr=hb&wget=v&qget=v&nget=vt\" title=\"Genesis 44:10\" sec=\"Genesis 44:10\">advb</a></span> <span class=\"gloss\">now</span></div>\n",
       "\n",
       "\n",
       "</div>\n",
       "\n",
       "\n",
       "    </div>\n",
       "\n",
       "\n",
       "</div>\n",
       "\n",
       "\n",
       "</div>\n"
      ],
      "text/plain": [
       "<IPython.core.display.HTML object>"
      ]
     },
     "metadata": {},
     "output_type": "display_data"
    },
    {
     "data": {
      "text/markdown": [
       "\n",
       "\n",
       "**phrase** *7*\n",
       "\n"
      ],
      "text/plain": [
       "<IPython.core.display.Markdown object>"
      ]
     },
     "metadata": {},
     "output_type": "display_data"
    },
    {
     "data": {
      "text/html": [
       "<div class=\"atoms \" style=\"background-color: None;\">\n",
       "<a href=\"#\" class=\"nd\">667895</a>\n",
       "\n",
       "\n",
       "\n",
       "<div class=\"patom  hl\">\n",
       "\n",
       "    <div class=\"phrase\">\n",
       "        <a href=\"https://shebanq.ancient-data.org/hebrew/text?book=Genesis&chapter=46&verse=4&version=c&mr=m&qw=q&tp=txt_p&tr=hb&wget=v&qget=v&nget=vt\" title=\"Genesis 46:4\" sec=\"Genesis 46:4\">phrase</a> <a href=\"#\" class=\"nd\">667895</a>  <span class=\"function\">Modi</span> <span class=\"typ\">AdvP</span>\n",
       "    </div>\n",
       "    <div class=\"atoms\">\n",
       "\n",
       "<div class=\"word  hl\">\n",
       "<a href=\"#\" class=\"nd\">26052</a>\n",
       "<div class=\"h\"><a target=\"_blank\" href=\"https://shebanq.ancient-data.org/hebrew/word?version=c&id=1GM\" title=\"show this lexeme in SHEBANQ\">גַם־</a></div>\n",
       "<div class=\"features\"> <span class=\"pdp\"><a href=\"https://shebanq.ancient-data.org/hebrew/text?book=Genesis&chapter=46&verse=4&version=c&mr=m&qw=q&tp=txt_p&tr=hb&wget=v&qget=v&nget=vt\" title=\"Genesis 46:4\" sec=\"Genesis 46:4\">advb</a></span> <span class=\"gloss\">even</span></div>\n",
       "\n",
       "\n",
       "</div>\n",
       "\n",
       "<div class=\"word \" style=\"background-color: None;\">\n",
       "<a href=\"#\" class=\"nd\">26053</a>\n",
       "<div class=\"h\"><a target=\"_blank\" href=\"https://shebanq.ancient-data.org/hebrew/word?version=c&id=1OLHv\" title=\"show this lexeme in SHEBANQ\">עָלֹ֑ה </a></div>\n",
       "<div class=\"features\"> <span class=\"pdp\"><a href=\"https://shebanq.ancient-data.org/hebrew/text?book=Genesis&chapter=46&verse=4&version=c&mr=m&qw=q&tp=txt_p&tr=hb&wget=v&qget=v&nget=vt\" title=\"Genesis 46:4\" sec=\"Genesis 46:4\">advb</a></span> <span class=\"gloss\">ascend</span> <span class=\"vs\">qal</span> <span class=\"vt\">infa</span></div>\n",
       "\n",
       "\n",
       "</div>\n",
       "\n",
       "\n",
       "    </div>\n",
       "\n",
       "\n",
       "</div>\n",
       "\n",
       "\n",
       "</div>\n"
      ],
      "text/plain": [
       "<IPython.core.display.HTML object>"
      ]
     },
     "metadata": {},
     "output_type": "display_data"
    },
    {
     "data": {
      "text/markdown": [
       "\n",
       "\n",
       "**phrase** *8*\n",
       "\n"
      ],
      "text/plain": [
       "<IPython.core.display.Markdown object>"
      ]
     },
     "metadata": {},
     "output_type": "display_data"
    },
    {
     "data": {
      "text/html": [
       "<div class=\"atoms \" style=\"background-color: None;\">\n",
       "<a href=\"#\" class=\"nd\">672097</a>\n",
       "\n",
       "\n",
       "\n",
       "<div class=\"patom  hl\">\n",
       "\n",
       "    <div class=\"phrase\">\n",
       "        <a href=\"https://shebanq.ancient-data.org/hebrew/text?book=Exodus&chapter=8&verse=24&version=c&mr=m&qw=q&tp=txt_p&tr=hb&wget=v&qget=v&nget=vt\" title=\"Exodus 8:24\" sec=\"Exodus 8:24\">phrase</a> <a href=\"#\" class=\"nd\">672097</a>  <span class=\"function\">Modi</span> <span class=\"typ\">AdvP</span>\n",
       "    </div>\n",
       "    <div class=\"atoms\">\n",
       "\n",
       "<div class=\"word  hl\">\n",
       "<a href=\"#\" class=\"nd\">32927</a>\n",
       "<div class=\"h\"><a target=\"_blank\" href=\"https://shebanq.ancient-data.org/hebrew/word?version=c&id=1RQ\" title=\"show this lexeme in SHEBANQ\">רַ֛ק </a></div>\n",
       "<div class=\"features\"> <span class=\"pdp\"><a href=\"https://shebanq.ancient-data.org/hebrew/text?book=Exodus&chapter=8&verse=24&version=c&mr=m&qw=q&tp=txt_p&tr=hb&wget=v&qget=v&nget=vt\" title=\"Exodus 8:24\" sec=\"Exodus 8:24\">advb</a></span> <span class=\"gloss\">only</span></div>\n",
       "\n",
       "\n",
       "</div>\n",
       "\n",
       "<div class=\"word \" style=\"background-color: None;\">\n",
       "<a href=\"#\" class=\"nd\">32928</a>\n",
       "<div class=\"h\"><a target=\"_blank\" href=\"https://shebanq.ancient-data.org/hebrew/word?version=c&id=1RXQv\" title=\"show this lexeme in SHEBANQ\">הַרְחֵ֥ק </a></div>\n",
       "<div class=\"features\"> <span class=\"pdp\"><a href=\"https://shebanq.ancient-data.org/hebrew/text?book=Exodus&chapter=8&verse=24&version=c&mr=m&qw=q&tp=txt_p&tr=hb&wget=v&qget=v&nget=vt\" title=\"Exodus 8:24\" sec=\"Exodus 8:24\">advb</a></span> <span class=\"gloss\">be far</span> <span class=\"vs\">hif</span> <span class=\"vt\">infa</span></div>\n",
       "\n",
       "\n",
       "</div>\n",
       "\n",
       "\n",
       "    </div>\n",
       "\n",
       "\n",
       "</div>\n",
       "\n",
       "\n",
       "</div>\n"
      ],
      "text/plain": [
       "<IPython.core.display.HTML object>"
      ]
     },
     "metadata": {},
     "output_type": "display_data"
    },
    {
     "data": {
      "text/markdown": [
       "\n",
       "\n",
       "**phrase** *9*\n",
       "\n"
      ],
      "text/plain": [
       "<IPython.core.display.Markdown object>"
      ]
     },
     "metadata": {},
     "output_type": "display_data"
    },
    {
     "data": {
      "text/html": [
       "<div class=\"atoms \" style=\"background-color: None;\">\n",
       "<a href=\"#\" class=\"nd\">697540</a>\n",
       "\n",
       "\n",
       "\n",
       "<div class=\"patom  hl\">\n",
       "\n",
       "    <div class=\"phrase\">\n",
       "        <a href=\"https://shebanq.ancient-data.org/hebrew/text?book=Numeri&chapter=16&verse=13&version=c&mr=m&qw=q&tp=txt_p&tr=hb&wget=v&qget=v&nget=vt\" title=\"Numbers 16:13\" sec=\"Numbers 16:13\">phrase</a> <a href=\"#\" class=\"nd\">697540</a>  <span class=\"function\">Modi</span> <span class=\"typ\">AdvP</span>\n",
       "    </div>\n",
       "    <div class=\"atoms\">\n",
       "\n",
       "<div class=\"word  hl\">\n",
       "<a href=\"#\" class=\"nd\">80306</a>\n",
       "<div class=\"h\"><a target=\"_blank\" href=\"https://shebanq.ancient-data.org/hebrew/word?version=c&id=1GM\" title=\"show this lexeme in SHEBANQ\">גַּם־</a></div>\n",
       "<div class=\"features\"> <span class=\"pdp\"><a href=\"https://shebanq.ancient-data.org/hebrew/text?book=Numeri&chapter=16&verse=13&version=c&mr=m&qw=q&tp=txt_p&tr=hb&wget=v&qget=v&nget=vt\" title=\"Numbers 16:13\" sec=\"Numbers 16:13\">advb</a></span> <span class=\"gloss\">even</span></div>\n",
       "\n",
       "\n",
       "</div>\n",
       "\n",
       "<div class=\"word \" style=\"background-color: None;\">\n",
       "<a href=\"#\" class=\"nd\">80307</a>\n",
       "<div class=\"h\"><a target=\"_blank\" href=\"https://shebanq.ancient-data.org/hebrew/word?version=c&id=1FRRv\" title=\"show this lexeme in SHEBANQ\">הִשְׂתָּרֵֽר׃ </a></div>\n",
       "<div class=\"features\"> <span class=\"pdp\"><a href=\"https://shebanq.ancient-data.org/hebrew/text?book=Numeri&chapter=16&verse=13&version=c&mr=m&qw=q&tp=txt_p&tr=hb&wget=v&qget=v&nget=vt\" title=\"Numbers 16:13\" sec=\"Numbers 16:13\">advb</a></span> <span class=\"gloss\">rule</span> <span class=\"vs\">hit</span> <span class=\"vt\">infa</span></div>\n",
       "\n",
       "\n",
       "</div>\n",
       "\n",
       "\n",
       "    </div>\n",
       "\n",
       "\n",
       "</div>\n",
       "\n",
       "\n",
       "</div>\n"
      ],
      "text/plain": [
       "<IPython.core.display.HTML object>"
      ]
     },
     "metadata": {},
     "output_type": "display_data"
    },
    {
     "data": {
      "text/markdown": [
       "\n",
       "\n",
       "**phrase** *10*\n",
       "\n"
      ],
      "text/plain": [
       "<IPython.core.display.Markdown object>"
      ]
     },
     "metadata": {},
     "output_type": "display_data"
    },
    {
     "data": {
      "text/html": [
       "<div class=\"atoms \" style=\"background-color: None;\">\n",
       "<a href=\"#\" class=\"nd\">700460</a>\n",
       "\n",
       "\n",
       "\n",
       "<div class=\"patom  hl\">\n",
       "\n",
       "    <div class=\"phrase\">\n",
       "        <a href=\"https://shebanq.ancient-data.org/hebrew/text?book=Numeri&chapter=23&verse=25&version=c&mr=m&qw=q&tp=txt_p&tr=hb&wget=v&qget=v&nget=vt\" title=\"Numbers 23:25\" sec=\"Numbers 23:25\">phrase</a> <a href=\"#\" class=\"nd\">700460</a>  <span class=\"function\">Modi</span> <span class=\"typ\">AdvP</span>\n",
       "    </div>\n",
       "    <div class=\"atoms\">\n",
       "\n",
       "<div class=\"word  hl\">\n",
       "<a href=\"#\" class=\"nd\">85109</a>\n",
       "<div class=\"h\"><a target=\"_blank\" href=\"https://shebanq.ancient-data.org/hebrew/word?version=c&id=1GM\" title=\"show this lexeme in SHEBANQ\">גַּם־</a></div>\n",
       "<div class=\"features\"> <span class=\"pdp\"><a href=\"https://shebanq.ancient-data.org/hebrew/text?book=Numeri&chapter=23&verse=25&version=c&mr=m&qw=q&tp=txt_p&tr=hb&wget=v&qget=v&nget=vt\" title=\"Numbers 23:25\" sec=\"Numbers 23:25\">advb</a></span> <span class=\"gloss\">even</span></div>\n",
       "\n",
       "\n",
       "</div>\n",
       "\n",
       "<div class=\"word \" style=\"background-color: None;\">\n",
       "<a href=\"#\" class=\"nd\">85110</a>\n",
       "<div class=\"h\"><a target=\"_blank\" href=\"https://shebanq.ancient-data.org/hebrew/word?version=c&id=1QBBv\" title=\"show this lexeme in SHEBANQ\">קֹ֖ב </a></div>\n",
       "<div class=\"features\"> <span class=\"pdp\"><a href=\"https://shebanq.ancient-data.org/hebrew/text?book=Numeri&chapter=23&verse=25&version=c&mr=m&qw=q&tp=txt_p&tr=hb&wget=v&qget=v&nget=vt\" title=\"Numbers 23:25\" sec=\"Numbers 23:25\">advb</a></span> <span class=\"gloss\">curse</span> <span class=\"vs\">qal</span> <span class=\"vt\">infc</span></div>\n",
       "\n",
       "\n",
       "</div>\n",
       "\n",
       "\n",
       "    </div>\n",
       "\n",
       "\n",
       "</div>\n",
       "\n",
       "\n",
       "</div>\n"
      ],
      "text/plain": [
       "<IPython.core.display.HTML object>"
      ]
     },
     "metadata": {},
     "output_type": "display_data"
    },
    {
     "data": {
      "text/markdown": [
       "\n",
       "\n",
       "**phrase** *11*\n",
       "\n"
      ],
      "text/plain": [
       "<IPython.core.display.Markdown object>"
      ]
     },
     "metadata": {},
     "output_type": "display_data"
    },
    {
     "data": {
      "text/html": [
       "<div class=\"atoms \" style=\"background-color: None;\">\n",
       "<a href=\"#\" class=\"nd\">700463</a>\n",
       "\n",
       "\n",
       "\n",
       "<div class=\"patom  hl\">\n",
       "\n",
       "    <div class=\"phrase\">\n",
       "        <a href=\"https://shebanq.ancient-data.org/hebrew/text?book=Numeri&chapter=23&verse=25&version=c&mr=m&qw=q&tp=txt_p&tr=hb&wget=v&qget=v&nget=vt\" title=\"Numbers 23:25\" sec=\"Numbers 23:25\">phrase</a> <a href=\"#\" class=\"nd\">700463</a>  <span class=\"function\">Modi</span> <span class=\"typ\">AdvP</span>\n",
       "    </div>\n",
       "    <div class=\"atoms\">\n",
       "\n",
       "<div class=\"word  hl\">\n",
       "<a href=\"#\" class=\"nd\">85113</a>\n",
       "<div class=\"h\"><a target=\"_blank\" href=\"https://shebanq.ancient-data.org/hebrew/word?version=c&id=1GM\" title=\"show this lexeme in SHEBANQ\">גַּם־</a></div>\n",
       "<div class=\"features\"> <span class=\"pdp\"><a href=\"https://shebanq.ancient-data.org/hebrew/text?book=Numeri&chapter=23&verse=25&version=c&mr=m&qw=q&tp=txt_p&tr=hb&wget=v&qget=v&nget=vt\" title=\"Numbers 23:25\" sec=\"Numbers 23:25\">advb</a></span> <span class=\"gloss\">even</span></div>\n",
       "\n",
       "\n",
       "</div>\n",
       "\n",
       "<div class=\"word \" style=\"background-color: None;\">\n",
       "<a href=\"#\" class=\"nd\">85114</a>\n",
       "<div class=\"h\"><a target=\"_blank\" href=\"https://shebanq.ancient-data.org/hebrew/word?version=c&id=1BRKv\" title=\"show this lexeme in SHEBANQ\">בָּרֵ֖ךְ </a></div>\n",
       "<div class=\"features\"> <span class=\"pdp\"><a href=\"https://shebanq.ancient-data.org/hebrew/text?book=Numeri&chapter=23&verse=25&version=c&mr=m&qw=q&tp=txt_p&tr=hb&wget=v&qget=v&nget=vt\" title=\"Numbers 23:25\" sec=\"Numbers 23:25\">advb</a></span> <span class=\"gloss\">bless</span> <span class=\"vs\">piel</span> <span class=\"vt\">infa</span></div>\n",
       "\n",
       "\n",
       "</div>\n",
       "\n",
       "\n",
       "    </div>\n",
       "\n",
       "\n",
       "</div>\n",
       "\n",
       "\n",
       "</div>\n"
      ],
      "text/plain": [
       "<IPython.core.display.HTML object>"
      ]
     },
     "metadata": {},
     "output_type": "display_data"
    },
    {
     "data": {
      "text/markdown": [
       "\n",
       "\n",
       "**phrase** *12*\n",
       "\n"
      ],
      "text/plain": [
       "<IPython.core.display.Markdown object>"
      ]
     },
     "metadata": {},
     "output_type": "display_data"
    },
    {
     "data": {
      "text/html": [
       "<div class=\"atoms \" style=\"background-color: None;\">\n",
       "<a href=\"#\" class=\"nd\">705225</a>\n",
       "\n",
       "\n",
       "\n",
       "<div class=\"patom  l\" style=\"background-color: None;\">\n",
       "\n",
       "    <div class=\"phrase\">\n",
       "        <a href=\"https://shebanq.ancient-data.org/hebrew/text?book=Deuteronomium&chapter=3&verse=5&version=c&mr=m&qw=q&tp=txt_p&tr=hb&wget=v&qget=v&nget=vt\" title=\"Deuteronomy 3:5\" sec=\"Deuteronomy 3:5\">phrase</a> <a href=\"#\" class=\"nd\">705225</a>  <span class=\"function\">Adju</span> <span class=\"typ\">PP</span>\n",
       "    </div>\n",
       "    <div class=\"atoms\">\n",
       "\n",
       "<div class=\"word \" style=\"background-color: None;\">\n",
       "<a href=\"#\" class=\"nd\">94602</a>\n",
       "<div class=\"h\"><a target=\"_blank\" href=\"https://shebanq.ancient-data.org/hebrew/word?version=c&id=1L\" title=\"show this lexeme in SHEBANQ\">לְ</a></div>\n",
       "<div class=\"features\"> <span class=\"pdp\"><a href=\"https://shebanq.ancient-data.org/hebrew/text?book=Deuteronomium&chapter=3&verse=5&version=c&mr=m&qw=q&tp=txt_p&tr=hb&wget=v&qget=v&nget=vt\" title=\"Deuteronomy 3:5\" sec=\"Deuteronomy 3:5\">prep</a></span> <span class=\"gloss\">to</span></div>\n",
       "\n",
       "\n",
       "</div>\n",
       "\n",
       "<div class=\"word \" style=\"background-color: None;\">\n",
       "<a href=\"#\" class=\"nd\">94603</a>\n",
       "<div class=\"h\"><a target=\"_blank\" href=\"https://shebanq.ancient-data.org/hebrew/word?version=c&id=1BDn\" title=\"show this lexeme in SHEBANQ\">בַ֛ד </a></div>\n",
       "<div class=\"features\"> <span class=\"pdp\"><a href=\"https://shebanq.ancient-data.org/hebrew/text?book=Deuteronomium&chapter=3&verse=5&version=c&mr=m&qw=q&tp=txt_p&tr=hb&wget=v&qget=v&nget=vt\" title=\"Deuteronomy 3:5\" sec=\"Deuteronomy 3:5\">subs</a></span> <span class=\"gloss\">linen, part, stave</span></div>\n",
       "\n",
       "\n",
       "</div>\n",
       "\n",
       "\n",
       "    </div>\n",
       "\n",
       "\n",
       "</div>\n",
       "\n",
       "<div class=\"patom  r l\" style=\"background-color: None;\">\n",
       "\n",
       "    <div class=\"phrase\">\n",
       "        <a href=\"https://shebanq.ancient-data.org/hebrew/text?book=Deuteronomium&chapter=3&verse=5&version=c&mr=m&qw=q&tp=txt_p&tr=hb&wget=v&qget=v&nget=vt\" title=\"Deuteronomy 3:5\" sec=\"Deuteronomy 3:5\">phrase</a> <a href=\"#\" class=\"nd\">705225</a>  <span class=\"function\">Adju</span> <span class=\"typ\">PP</span>\n",
       "    </div>\n",
       "    <div class=\"atoms\">\n",
       "\n",
       "<div class=\"word \" style=\"background-color: None;\">\n",
       "<a href=\"#\" class=\"nd\">94604</a>\n",
       "<div class=\"h\"><a target=\"_blank\" href=\"https://shebanq.ancient-data.org/hebrew/word?version=c&id=1MN\" title=\"show this lexeme in SHEBANQ\">מֵ</a></div>\n",
       "<div class=\"features\"> <span class=\"pdp\"><a href=\"https://shebanq.ancient-data.org/hebrew/text?book=Deuteronomium&chapter=3&verse=5&version=c&mr=m&qw=q&tp=txt_p&tr=hb&wget=v&qget=v&nget=vt\" title=\"Deuteronomy 3:5\" sec=\"Deuteronomy 3:5\">prep</a></span> <span class=\"gloss\">from</span></div>\n",
       "\n",
       "\n",
       "</div>\n",
       "\n",
       "<div class=\"word \" style=\"background-color: None;\">\n",
       "<a href=\"#\" class=\"nd\">94605</a>\n",
       "<div class=\"h\"><a target=\"_blank\" href=\"https://shebanq.ancient-data.org/hebrew/word?version=c&id=1OJRn\" title=\"show this lexeme in SHEBANQ\">עָרֵ֥י </a></div>\n",
       "<div class=\"features\"> <span class=\"pdp\"><a href=\"https://shebanq.ancient-data.org/hebrew/text?book=Deuteronomium&chapter=3&verse=5&version=c&mr=m&qw=q&tp=txt_p&tr=hb&wget=v&qget=v&nget=vt\" title=\"Deuteronomy 3:5\" sec=\"Deuteronomy 3:5\">subs</a></span> <span class=\"gloss\">town</span></div>\n",
       "\n",
       "\n",
       "</div>\n",
       "\n",
       "<div class=\"word \" style=\"background-color: None;\">\n",
       "<a href=\"#\" class=\"nd\">94606</a>\n",
       "<div class=\"h\"><a target=\"_blank\" href=\"https://shebanq.ancient-data.org/hebrew/word?version=c&id=1H\" title=\"show this lexeme in SHEBANQ\">הַ</a></div>\n",
       "<div class=\"features\"> <span class=\"pdp\"><a href=\"https://shebanq.ancient-data.org/hebrew/text?book=Deuteronomium&chapter=3&verse=5&version=c&mr=m&qw=q&tp=txt_p&tr=hb&wget=v&qget=v&nget=vt\" title=\"Deuteronomy 3:5\" sec=\"Deuteronomy 3:5\">art</a></span> <span class=\"gloss\">the</span></div>\n",
       "\n",
       "\n",
       "</div>\n",
       "\n",
       "<div class=\"word \" style=\"background-color: None;\">\n",
       "<a href=\"#\" class=\"nd\">94607</a>\n",
       "<div class=\"h\"><a target=\"_blank\" href=\"https://shebanq.ancient-data.org/hebrew/word?version=c&id=1PRZJin\" title=\"show this lexeme in SHEBANQ\">פְּרָזִ֖י </a></div>\n",
       "<div class=\"features\"> <span class=\"pdp\"><a href=\"https://shebanq.ancient-data.org/hebrew/text?book=Deuteronomium&chapter=3&verse=5&version=c&mr=m&qw=q&tp=txt_p&tr=hb&wget=v&qget=v&nget=vt\" title=\"Deuteronomy 3:5\" sec=\"Deuteronomy 3:5\">subs</a></span> <span class=\"gloss\">open country</span></div>\n",
       "\n",
       "\n",
       "</div>\n",
       "\n",
       "\n",
       "    </div>\n",
       "\n",
       "\n",
       "</div>\n",
       "\n",
       "<div class=\"patom  r hl\">\n",
       "\n",
       "    <div class=\"phrase\">\n",
       "        <a href=\"https://shebanq.ancient-data.org/hebrew/text?book=Deuteronomium&chapter=3&verse=5&version=c&mr=m&qw=q&tp=txt_p&tr=hb&wget=v&qget=v&nget=vt\" title=\"Deuteronomy 3:5\" sec=\"Deuteronomy 3:5\">phrase</a> <a href=\"#\" class=\"nd\">705225</a>  <span class=\"function\">Adju</span> <span class=\"typ\">PP</span>\n",
       "    </div>\n",
       "    <div class=\"atoms\">\n",
       "\n",
       "<div class=\"word \" style=\"background-color: None;\">\n",
       "<a href=\"#\" class=\"nd\">94608</a>\n",
       "<div class=\"h\"><a target=\"_blank\" href=\"https://shebanq.ancient-data.org/hebrew/word?version=c&id=1RBHv\" title=\"show this lexeme in SHEBANQ\">הַרְבֵּ֥ה </a></div>\n",
       "<div class=\"features\"> <span class=\"pdp\"><a href=\"https://shebanq.ancient-data.org/hebrew/text?book=Deuteronomium&chapter=3&verse=5&version=c&mr=m&qw=q&tp=txt_p&tr=hb&wget=v&qget=v&nget=vt\" title=\"Deuteronomy 3:5\" sec=\"Deuteronomy 3:5\">advb</a></span> <span class=\"gloss\">be many</span> <span class=\"vs\">hif</span> <span class=\"vt\">infa</span></div>\n",
       "\n",
       "\n",
       "</div>\n",
       "\n",
       "<div class=\"word  hl\">\n",
       "<a href=\"#\" class=\"nd\">94609</a>\n",
       "<div class=\"h\"><a target=\"_blank\" href=\"https://shebanq.ancient-data.org/hebrew/word?version=c&id=1MADn\" title=\"show this lexeme in SHEBANQ\">מְאֹֽד׃ </a></div>\n",
       "<div class=\"features\"> <span class=\"pdp\"><a href=\"https://shebanq.ancient-data.org/hebrew/text?book=Deuteronomium&chapter=3&verse=5&version=c&mr=m&qw=q&tp=txt_p&tr=hb&wget=v&qget=v&nget=vt\" title=\"Deuteronomy 3:5\" sec=\"Deuteronomy 3:5\">advb</a></span> <span class=\"gloss\">might</span></div>\n",
       "\n",
       "\n",
       "</div>\n",
       "\n",
       "\n",
       "    </div>\n",
       "\n",
       "\n",
       "</div>\n",
       "\n",
       "\n",
       "</div>\n"
      ],
      "text/plain": [
       "<IPython.core.display.HTML object>"
      ]
     },
     "metadata": {},
     "output_type": "display_data"
    },
    {
     "data": {
      "text/markdown": [
       "\n",
       "\n",
       "**phrase** *13*\n",
       "\n"
      ],
      "text/plain": [
       "<IPython.core.display.Markdown object>"
      ]
     },
     "metadata": {},
     "output_type": "display_data"
    },
    {
     "data": {
      "text/html": [
       "<div class=\"atoms \" style=\"background-color: None;\">\n",
       "<a href=\"#\" class=\"nd\">716546</a>\n",
       "\n",
       "\n",
       "\n",
       "<div class=\"patom  hl\">\n",
       "\n",
       "    <div class=\"phrase\">\n",
       "        <a href=\"https://shebanq.ancient-data.org/hebrew/text?book=Josua&chapter=3&verse=16&version=c&mr=m&qw=q&tp=txt_p&tr=hb&wget=v&qget=v&nget=vt\" title=\"Joshua 3:16\" sec=\"Joshua 3:16\">phrase</a> <a href=\"#\" class=\"nd\">716546</a>  <span class=\"function\">Modi</span> <span class=\"typ\">AdvP</span>\n",
       "    </div>\n",
       "    <div class=\"atoms\">\n",
       "\n",
       "<div class=\"word \" style=\"background-color: None;\">\n",
       "<a href=\"#\" class=\"nd\">114323</a>\n",
       "<div class=\"h\"><a target=\"_blank\" href=\"https://shebanq.ancient-data.org/hebrew/word?version=c&id=1RXQv\" title=\"show this lexeme in SHEBANQ\">הַרְחֵ֨ק </a></div>\n",
       "<div class=\"features\"> <span class=\"pdp\"><a href=\"https://shebanq.ancient-data.org/hebrew/text?book=Josua&chapter=3&verse=16&version=c&mr=m&qw=q&tp=txt_p&tr=hb&wget=v&qget=v&nget=vt\" title=\"Joshua 3:16\" sec=\"Joshua 3:16\">advb</a></span> <span class=\"gloss\">be far</span> <span class=\"vs\">hif</span> <span class=\"vt\">infa</span></div>\n",
       "\n",
       "\n",
       "</div>\n",
       "\n",
       "<div class=\"word  hl\">\n",
       "<a href=\"#\" class=\"nd\">114324</a>\n",
       "<div class=\"h\"><a target=\"_blank\" href=\"https://shebanq.ancient-data.org/hebrew/word?version=c&id=1MADn\" title=\"show this lexeme in SHEBANQ\">מְאֹ֜ד </a></div>\n",
       "<div class=\"features\"> <span class=\"pdp\"><a href=\"https://shebanq.ancient-data.org/hebrew/text?book=Josua&chapter=3&verse=16&version=c&mr=m&qw=q&tp=txt_p&tr=hb&wget=v&qget=v&nget=vt\" title=\"Joshua 3:16\" sec=\"Joshua 3:16\">advb</a></span> <span class=\"gloss\">might</span></div>\n",
       "\n",
       "\n",
       "</div>\n",
       "\n",
       "\n",
       "    </div>\n",
       "\n",
       "\n",
       "</div>\n",
       "\n",
       "\n",
       "</div>\n"
      ],
      "text/plain": [
       "<IPython.core.display.HTML object>"
      ]
     },
     "metadata": {},
     "output_type": "display_data"
    },
    {
     "data": {
      "text/markdown": [
       "\n",
       "\n",
       "**phrase** *14*\n",
       "\n"
      ],
      "text/plain": [
       "<IPython.core.display.Markdown object>"
      ]
     },
     "metadata": {},
     "output_type": "display_data"
    },
    {
     "data": {
      "text/html": [
       "<div class=\"atoms \" style=\"background-color: None;\">\n",
       "<a href=\"#\" class=\"nd\">719700</a>\n",
       "\n",
       "\n",
       "\n",
       "<div class=\"patom  hl\">\n",
       "\n",
       "    <div class=\"phrase\">\n",
       "        <a href=\"https://shebanq.ancient-data.org/hebrew/text?book=Josua&chapter=13&verse=1&version=c&mr=m&qw=q&tp=txt_p&tr=hb&wget=v&qget=v&nget=vt\" title=\"Joshua 13:1\" sec=\"Joshua 13:1\">phrase</a> <a href=\"#\" class=\"nd\">719700</a>  <span class=\"function\">Modi</span> <span class=\"typ\">AdvP</span>\n",
       "    </div>\n",
       "    <div class=\"atoms\">\n",
       "\n",
       "<div class=\"word \" style=\"background-color: None;\">\n",
       "<a href=\"#\" class=\"nd\">120380</a>\n",
       "<div class=\"h\"><a target=\"_blank\" href=\"https://shebanq.ancient-data.org/hebrew/word?version=c&id=1RBHv\" title=\"show this lexeme in SHEBANQ\">הַרְבֵּֽה־</a></div>\n",
       "<div class=\"features\"> <span class=\"pdp\"><a href=\"https://shebanq.ancient-data.org/hebrew/text?book=Josua&chapter=13&verse=1&version=c&mr=m&qw=q&tp=txt_p&tr=hb&wget=v&qget=v&nget=vt\" title=\"Joshua 13:1\" sec=\"Joshua 13:1\">advb</a></span> <span class=\"gloss\">be many</span> <span class=\"vs\">hif</span> <span class=\"vt\">infa</span></div>\n",
       "\n",
       "\n",
       "</div>\n",
       "\n",
       "<div class=\"word  hl\">\n",
       "<a href=\"#\" class=\"nd\">120381</a>\n",
       "<div class=\"h\"><a target=\"_blank\" href=\"https://shebanq.ancient-data.org/hebrew/word?version=c&id=1MADn\" title=\"show this lexeme in SHEBANQ\">מְאֹ֖ד </a></div>\n",
       "<div class=\"features\"> <span class=\"pdp\"><a href=\"https://shebanq.ancient-data.org/hebrew/text?book=Josua&chapter=13&verse=1&version=c&mr=m&qw=q&tp=txt_p&tr=hb&wget=v&qget=v&nget=vt\" title=\"Joshua 13:1\" sec=\"Joshua 13:1\">advb</a></span> <span class=\"gloss\">might</span></div>\n",
       "\n",
       "\n",
       "</div>\n",
       "\n",
       "\n",
       "    </div>\n",
       "\n",
       "\n",
       "</div>\n",
       "\n",
       "\n",
       "</div>\n"
      ],
      "text/plain": [
       "<IPython.core.display.HTML object>"
      ]
     },
     "metadata": {},
     "output_type": "display_data"
    },
    {
     "data": {
      "text/markdown": [
       "\n",
       "\n",
       "**phrase** *15*\n",
       "\n"
      ],
      "text/plain": [
       "<IPython.core.display.Markdown object>"
      ]
     },
     "metadata": {},
     "output_type": "display_data"
    },
    {
     "data": {
      "text/html": [
       "<div class=\"atoms \" style=\"background-color: None;\">\n",
       "<a href=\"#\" class=\"nd\">721834</a>\n",
       "\n",
       "\n",
       "\n",
       "<div class=\"patom  l\" style=\"background-color: None;\">\n",
       "\n",
       "    <div class=\"phrase\">\n",
       "        <a href=\"https://shebanq.ancient-data.org/hebrew/text?book=Josua&chapter=22&verse=8&version=c&mr=m&qw=q&tp=txt_p&tr=hb&wget=v&qget=v&nget=vt\" title=\"Joshua 22:8\" sec=\"Joshua 22:8\">phrase</a> <a href=\"#\" class=\"nd\">721834</a>  <span class=\"function\">Adju</span> <span class=\"typ\">PP</span>\n",
       "    </div>\n",
       "    <div class=\"atoms\">\n",
       "\n",
       "<div class=\"word \" style=\"background-color: None;\">\n",
       "<a href=\"#\" class=\"nd\">125415</a>\n",
       "<div class=\"h\"><a target=\"_blank\" href=\"https://shebanq.ancient-data.org/hebrew/word?version=c&id=1B\" title=\"show this lexeme in SHEBANQ\">בִּ</a></div>\n",
       "<div class=\"features\"> <span class=\"pdp\"><a href=\"https://shebanq.ancient-data.org/hebrew/text?book=Josua&chapter=22&verse=8&version=c&mr=m&qw=q&tp=txt_p&tr=hb&wget=v&qget=v&nget=vt\" title=\"Joshua 22:8\" sec=\"Joshua 22:8\">prep</a></span> <span class=\"gloss\">in</span></div>\n",
       "\n",
       "\n",
       "</div>\n",
       "\n",
       "<div class=\"word \" style=\"background-color: None;\">\n",
       "<a href=\"#\" class=\"nd\">125416</a>\n",
       "<div class=\"h\"><a target=\"_blank\" href=\"https://shebanq.ancient-data.org/hebrew/word?version=c&id=1NKSJMn\" title=\"show this lexeme in SHEBANQ\">נְכָסִ֨ים </a></div>\n",
       "<div class=\"features\"> <span class=\"pdp\"><a href=\"https://shebanq.ancient-data.org/hebrew/text?book=Josua&chapter=22&verse=8&version=c&mr=m&qw=q&tp=txt_p&tr=hb&wget=v&qget=v&nget=vt\" title=\"Joshua 22:8\" sec=\"Joshua 22:8\">subs</a></span> <span class=\"gloss\">riches</span></div>\n",
       "\n",
       "\n",
       "</div>\n",
       "\n",
       "<div class=\"word \" style=\"background-color: None;\">\n",
       "<a href=\"#\" class=\"nd\">125417</a>\n",
       "<div class=\"h\"><a target=\"_blank\" href=\"https://shebanq.ancient-data.org/hebrew/word?version=c&id=1RBn\" title=\"show this lexeme in SHEBANQ\">רַבִּ֜ים </a></div>\n",
       "<div class=\"features\"> <span class=\"pdp\"><a href=\"https://shebanq.ancient-data.org/hebrew/text?book=Josua&chapter=22&verse=8&version=c&mr=m&qw=q&tp=txt_p&tr=hb&wget=v&qget=v&nget=vt\" title=\"Joshua 22:8\" sec=\"Joshua 22:8\">adjv</a></span> <span class=\"gloss\">much</span></div>\n",
       "\n",
       "\n",
       "</div>\n",
       "\n",
       "\n",
       "    </div>\n",
       "\n",
       "\n",
       "</div>\n",
       "\n",
       "<div class=\"patom  r l\" style=\"background-color: None;\">\n",
       "\n",
       "    <div class=\"phrase\">\n",
       "        <a href=\"https://shebanq.ancient-data.org/hebrew/text?book=Josua&chapter=22&verse=8&version=c&mr=m&qw=q&tp=txt_p&tr=hb&wget=v&qget=v&nget=vt\" title=\"Joshua 22:8\" sec=\"Joshua 22:8\">phrase</a> <a href=\"#\" class=\"nd\">721834</a>  <span class=\"function\">Adju</span> <span class=\"typ\">PP</span>\n",
       "    </div>\n",
       "    <div class=\"atoms\">\n",
       "\n",
       "<div class=\"word \" style=\"background-color: None;\">\n",
       "<a href=\"#\" class=\"nd\">125421</a>\n",
       "<div class=\"h\"><a target=\"_blank\" href=\"https://shebanq.ancient-data.org/hebrew/word?version=c&id=1W\" title=\"show this lexeme in SHEBANQ\">וּ</a></div>\n",
       "<div class=\"features\"> <span class=\"pdp\"><a href=\"https://shebanq.ancient-data.org/hebrew/text?book=Josua&chapter=22&verse=8&version=c&mr=m&qw=q&tp=txt_p&tr=hb&wget=v&qget=v&nget=vt\" title=\"Joshua 22:8\" sec=\"Joshua 22:8\">conj</a></span> <span class=\"gloss\">and</span></div>\n",
       "\n",
       "\n",
       "</div>\n",
       "\n",
       "\n",
       "    </div>\n",
       "\n",
       "\n",
       "</div>\n",
       "\n",
       "<div class=\"patom  r l\" style=\"background-color: None;\">\n",
       "\n",
       "    <div class=\"phrase\">\n",
       "        <a href=\"https://shebanq.ancient-data.org/hebrew/text?book=Josua&chapter=22&verse=8&version=c&mr=m&qw=q&tp=txt_p&tr=hb&wget=v&qget=v&nget=vt\" title=\"Joshua 22:8\" sec=\"Joshua 22:8\">phrase</a> <a href=\"#\" class=\"nd\">721834</a>  <span class=\"function\">Adju</span> <span class=\"typ\">PP</span>\n",
       "    </div>\n",
       "    <div class=\"atoms\">\n",
       "\n",
       "<div class=\"word \" style=\"background-color: None;\">\n",
       "<a href=\"#\" class=\"nd\">125422</a>\n",
       "<div class=\"h\"><a target=\"_blank\" href=\"https://shebanq.ancient-data.org/hebrew/word?version=c&id=1B\" title=\"show this lexeme in SHEBANQ\">בְ</a></div>\n",
       "<div class=\"features\"> <span class=\"pdp\"><a href=\"https://shebanq.ancient-data.org/hebrew/text?book=Josua&chapter=22&verse=8&version=c&mr=m&qw=q&tp=txt_p&tr=hb&wget=v&qget=v&nget=vt\" title=\"Joshua 22:8\" sec=\"Joshua 22:8\">prep</a></span> <span class=\"gloss\">in</span></div>\n",
       "\n",
       "\n",
       "</div>\n",
       "\n",
       "<div class=\"word \" style=\"background-color: None;\">\n",
       "<a href=\"#\" class=\"nd\">125423</a>\n",
       "<div class=\"h\"><a target=\"_blank\" href=\"https://shebanq.ancient-data.org/hebrew/word?version=c&id=1MQNHn\" title=\"show this lexeme in SHEBANQ\">מִקְנֶ֣ה </a></div>\n",
       "<div class=\"features\"> <span class=\"pdp\"><a href=\"https://shebanq.ancient-data.org/hebrew/text?book=Josua&chapter=22&verse=8&version=c&mr=m&qw=q&tp=txt_p&tr=hb&wget=v&qget=v&nget=vt\" title=\"Joshua 22:8\" sec=\"Joshua 22:8\">subs</a></span> <span class=\"gloss\">purchase</span></div>\n",
       "\n",
       "\n",
       "</div>\n",
       "\n",
       "<div class=\"word \" style=\"background-color: None;\">\n",
       "<a href=\"#\" class=\"nd\">125424</a>\n",
       "<div class=\"h\"><a target=\"_blank\" href=\"https://shebanq.ancient-data.org/hebrew/word?version=c&id=1RBn\" title=\"show this lexeme in SHEBANQ\">רַב־</a></div>\n",
       "<div class=\"features\"> <span class=\"pdp\"><a href=\"https://shebanq.ancient-data.org/hebrew/text?book=Josua&chapter=22&verse=8&version=c&mr=m&qw=q&tp=txt_p&tr=hb&wget=v&qget=v&nget=vt\" title=\"Joshua 22:8\" sec=\"Joshua 22:8\">adjv</a></span> <span class=\"gloss\">much</span></div>\n",
       "\n",
       "\n",
       "</div>\n",
       "\n",
       "<div class=\"word \" style=\"background-color: None;\">\n",
       "<a href=\"#\" class=\"nd\">125425</a>\n",
       "<div class=\"h\"><a target=\"_blank\" href=\"https://shebanq.ancient-data.org/hebrew/word?version=c&id=1MADn\" title=\"show this lexeme in SHEBANQ\">מְאֹ֔ד </a></div>\n",
       "<div class=\"features\"> <span class=\"pdp\"><a href=\"https://shebanq.ancient-data.org/hebrew/text?book=Josua&chapter=22&verse=8&version=c&mr=m&qw=q&tp=txt_p&tr=hb&wget=v&qget=v&nget=vt\" title=\"Joshua 22:8\" sec=\"Joshua 22:8\">advb</a></span> <span class=\"gloss\">might</span></div>\n",
       "\n",
       "\n",
       "</div>\n",
       "\n",
       "\n",
       "    </div>\n",
       "\n",
       "\n",
       "</div>\n",
       "\n",
       "<div class=\"patom  r l\" style=\"background-color: None;\">\n",
       "\n",
       "    <div class=\"phrase\">\n",
       "        <a href=\"https://shebanq.ancient-data.org/hebrew/text?book=Josua&chapter=22&verse=8&version=c&mr=m&qw=q&tp=txt_p&tr=hb&wget=v&qget=v&nget=vt\" title=\"Joshua 22:8\" sec=\"Joshua 22:8\">phrase</a> <a href=\"#\" class=\"nd\">721834</a>  <span class=\"function\">Adju</span> <span class=\"typ\">PP</span>\n",
       "    </div>\n",
       "    <div class=\"atoms\">\n",
       "\n",
       "<div class=\"word \" style=\"background-color: None;\">\n",
       "<a href=\"#\" class=\"nd\">125426</a>\n",
       "<div class=\"h\"><a target=\"_blank\" href=\"https://shebanq.ancient-data.org/hebrew/word?version=c&id=1B\" title=\"show this lexeme in SHEBANQ\">בְּ</a></div>\n",
       "<div class=\"features\"> <span class=\"pdp\"><a href=\"https://shebanq.ancient-data.org/hebrew/text?book=Josua&chapter=22&verse=8&version=c&mr=m&qw=q&tp=txt_p&tr=hb&wget=v&qget=v&nget=vt\" title=\"Joshua 22:8\" sec=\"Joshua 22:8\">prep</a></span> <span class=\"gloss\">in</span></div>\n",
       "\n",
       "\n",
       "</div>\n",
       "\n",
       "<div class=\"word \" style=\"background-color: None;\">\n",
       "<a href=\"#\" class=\"nd\">125427</a>\n",
       "<div class=\"h\"><a target=\"_blank\" href=\"https://shebanq.ancient-data.org/hebrew/word?version=c&id=1KSPn\" title=\"show this lexeme in SHEBANQ\">כֶ֨סֶף </a></div>\n",
       "<div class=\"features\"> <span class=\"pdp\"><a href=\"https://shebanq.ancient-data.org/hebrew/text?book=Josua&chapter=22&verse=8&version=c&mr=m&qw=q&tp=txt_p&tr=hb&wget=v&qget=v&nget=vt\" title=\"Joshua 22:8\" sec=\"Joshua 22:8\">subs</a></span> <span class=\"gloss\">silver</span></div>\n",
       "\n",
       "\n",
       "</div>\n",
       "\n",
       "<div class=\"word \" style=\"background-color: None;\">\n",
       "<a href=\"#\" class=\"nd\">125428</a>\n",
       "<div class=\"h\"><a target=\"_blank\" href=\"https://shebanq.ancient-data.org/hebrew/word?version=c&id=1W\" title=\"show this lexeme in SHEBANQ\">וּ</a></div>\n",
       "<div class=\"features\"> <span class=\"pdp\"><a href=\"https://shebanq.ancient-data.org/hebrew/text?book=Josua&chapter=22&verse=8&version=c&mr=m&qw=q&tp=txt_p&tr=hb&wget=v&qget=v&nget=vt\" title=\"Joshua 22:8\" sec=\"Joshua 22:8\">conj</a></span> <span class=\"gloss\">and</span></div>\n",
       "\n",
       "\n",
       "</div>\n",
       "\n",
       "<div class=\"word \" style=\"background-color: None;\">\n",
       "<a href=\"#\" class=\"nd\">125429</a>\n",
       "<div class=\"h\"><a target=\"_blank\" href=\"https://shebanq.ancient-data.org/hebrew/word?version=c&id=1B\" title=\"show this lexeme in SHEBANQ\">בְ</a></div>\n",
       "<div class=\"features\"> <span class=\"pdp\"><a href=\"https://shebanq.ancient-data.org/hebrew/text?book=Josua&chapter=22&verse=8&version=c&mr=m&qw=q&tp=txt_p&tr=hb&wget=v&qget=v&nget=vt\" title=\"Joshua 22:8\" sec=\"Joshua 22:8\">prep</a></span> <span class=\"gloss\">in</span></div>\n",
       "\n",
       "\n",
       "</div>\n",
       "\n",
       "<div class=\"word \" style=\"background-color: None;\">\n",
       "<a href=\"#\" class=\"nd\">125430</a>\n",
       "<div class=\"h\"><a target=\"_blank\" href=\"https://shebanq.ancient-data.org/hebrew/word?version=c&id=1ZHBn\" title=\"show this lexeme in SHEBANQ\">זָהָ֜ב </a></div>\n",
       "<div class=\"features\"> <span class=\"pdp\"><a href=\"https://shebanq.ancient-data.org/hebrew/text?book=Josua&chapter=22&verse=8&version=c&mr=m&qw=q&tp=txt_p&tr=hb&wget=v&qget=v&nget=vt\" title=\"Joshua 22:8\" sec=\"Joshua 22:8\">subs</a></span> <span class=\"gloss\">gold</span></div>\n",
       "\n",
       "\n",
       "</div>\n",
       "\n",
       "<div class=\"word \" style=\"background-color: None;\">\n",
       "<a href=\"#\" class=\"nd\">125431</a>\n",
       "<div class=\"h\"><a target=\"_blank\" href=\"https://shebanq.ancient-data.org/hebrew/word?version=c&id=1W\" title=\"show this lexeme in SHEBANQ\">וּ</a></div>\n",
       "<div class=\"features\"> <span class=\"pdp\"><a href=\"https://shebanq.ancient-data.org/hebrew/text?book=Josua&chapter=22&verse=8&version=c&mr=m&qw=q&tp=txt_p&tr=hb&wget=v&qget=v&nget=vt\" title=\"Joshua 22:8\" sec=\"Joshua 22:8\">conj</a></span> <span class=\"gloss\">and</span></div>\n",
       "\n",
       "\n",
       "</div>\n",
       "\n",
       "<div class=\"word \" style=\"background-color: None;\">\n",
       "<a href=\"#\" class=\"nd\">125432</a>\n",
       "<div class=\"h\"><a target=\"_blank\" href=\"https://shebanq.ancient-data.org/hebrew/word?version=c&id=1B\" title=\"show this lexeme in SHEBANQ\">בִ</a></div>\n",
       "<div class=\"features\"> <span class=\"pdp\"><a href=\"https://shebanq.ancient-data.org/hebrew/text?book=Josua&chapter=22&verse=8&version=c&mr=m&qw=q&tp=txt_p&tr=hb&wget=v&qget=v&nget=vt\" title=\"Joshua 22:8\" sec=\"Joshua 22:8\">prep</a></span> <span class=\"gloss\">in</span></div>\n",
       "\n",
       "\n",
       "</div>\n",
       "\n",
       "<div class=\"word \" style=\"background-color: None;\">\n",
       "<a href=\"#\" class=\"nd\">125433</a>\n",
       "<div class=\"h\"><a target=\"_blank\" href=\"https://shebanq.ancient-data.org/hebrew/word?version=c&id=1NXCTn\" title=\"show this lexeme in SHEBANQ\">נְחֹ֧שֶׁת </a></div>\n",
       "<div class=\"features\"> <span class=\"pdp\"><a href=\"https://shebanq.ancient-data.org/hebrew/text?book=Josua&chapter=22&verse=8&version=c&mr=m&qw=q&tp=txt_p&tr=hb&wget=v&qget=v&nget=vt\" title=\"Joshua 22:8\" sec=\"Joshua 22:8\">subs</a></span> <span class=\"gloss\">bronze</span></div>\n",
       "\n",
       "\n",
       "</div>\n",
       "\n",
       "<div class=\"word \" style=\"background-color: None;\">\n",
       "<a href=\"#\" class=\"nd\">125434</a>\n",
       "<div class=\"h\"><a target=\"_blank\" href=\"https://shebanq.ancient-data.org/hebrew/word?version=c&id=1W\" title=\"show this lexeme in SHEBANQ\">וּ</a></div>\n",
       "<div class=\"features\"> <span class=\"pdp\"><a href=\"https://shebanq.ancient-data.org/hebrew/text?book=Josua&chapter=22&verse=8&version=c&mr=m&qw=q&tp=txt_p&tr=hb&wget=v&qget=v&nget=vt\" title=\"Joshua 22:8\" sec=\"Joshua 22:8\">conj</a></span> <span class=\"gloss\">and</span></div>\n",
       "\n",
       "\n",
       "</div>\n",
       "\n",
       "<div class=\"word \" style=\"background-color: None;\">\n",
       "<a href=\"#\" class=\"nd\">125435</a>\n",
       "<div class=\"h\"><a target=\"_blank\" href=\"https://shebanq.ancient-data.org/hebrew/word?version=c&id=1B\" title=\"show this lexeme in SHEBANQ\">בְ</a></div>\n",
       "<div class=\"features\"> <span class=\"pdp\"><a href=\"https://shebanq.ancient-data.org/hebrew/text?book=Josua&chapter=22&verse=8&version=c&mr=m&qw=q&tp=txt_p&tr=hb&wget=v&qget=v&nget=vt\" title=\"Joshua 22:8\" sec=\"Joshua 22:8\">prep</a></span> <span class=\"gloss\">in</span></div>\n",
       "\n",
       "\n",
       "</div>\n",
       "\n",
       "<div class=\"word \" style=\"background-color: None;\">\n",
       "<a href=\"#\" class=\"nd\">125436</a>\n",
       "<div class=\"h\"><a target=\"_blank\" href=\"https://shebanq.ancient-data.org/hebrew/word?version=c&id=1BRZLn\" title=\"show this lexeme in SHEBANQ\">בַרְזֶ֛ל </a></div>\n",
       "<div class=\"features\"> <span class=\"pdp\"><a href=\"https://shebanq.ancient-data.org/hebrew/text?book=Josua&chapter=22&verse=8&version=c&mr=m&qw=q&tp=txt_p&tr=hb&wget=v&qget=v&nget=vt\" title=\"Joshua 22:8\" sec=\"Joshua 22:8\">subs</a></span> <span class=\"gloss\">iron</span></div>\n",
       "\n",
       "\n",
       "</div>\n",
       "\n",
       "<div class=\"word \" style=\"background-color: None;\">\n",
       "<a href=\"#\" class=\"nd\">125437</a>\n",
       "<div class=\"h\"><a target=\"_blank\" href=\"https://shebanq.ancient-data.org/hebrew/word?version=c&id=1W\" title=\"show this lexeme in SHEBANQ\">וּ</a></div>\n",
       "<div class=\"features\"> <span class=\"pdp\"><a href=\"https://shebanq.ancient-data.org/hebrew/text?book=Josua&chapter=22&verse=8&version=c&mr=m&qw=q&tp=txt_p&tr=hb&wget=v&qget=v&nget=vt\" title=\"Joshua 22:8\" sec=\"Joshua 22:8\">conj</a></span> <span class=\"gloss\">and</span></div>\n",
       "\n",
       "\n",
       "</div>\n",
       "\n",
       "<div class=\"word \" style=\"background-color: None;\">\n",
       "<a href=\"#\" class=\"nd\">125438</a>\n",
       "<div class=\"h\"><a target=\"_blank\" href=\"https://shebanq.ancient-data.org/hebrew/word?version=c&id=1B\" title=\"show this lexeme in SHEBANQ\">בִ</a></div>\n",
       "<div class=\"features\"> <span class=\"pdp\"><a href=\"https://shebanq.ancient-data.org/hebrew/text?book=Josua&chapter=22&verse=8&version=c&mr=m&qw=q&tp=txt_p&tr=hb&wget=v&qget=v&nget=vt\" title=\"Joshua 22:8\" sec=\"Joshua 22:8\">prep</a></span> <span class=\"gloss\">in</span></div>\n",
       "\n",
       "\n",
       "</div>\n",
       "\n",
       "<div class=\"word \" style=\"background-color: None;\">\n",
       "<a href=\"#\" class=\"nd\">125439</a>\n",
       "<div class=\"h\"><a target=\"_blank\" href=\"https://shebanq.ancient-data.org/hebrew/word?version=c&id=1FLMHn\" title=\"show this lexeme in SHEBANQ\">שְׂלָמֹ֖ות </a></div>\n",
       "<div class=\"features\"> <span class=\"pdp\"><a href=\"https://shebanq.ancient-data.org/hebrew/text?book=Josua&chapter=22&verse=8&version=c&mr=m&qw=q&tp=txt_p&tr=hb&wget=v&qget=v&nget=vt\" title=\"Joshua 22:8\" sec=\"Joshua 22:8\">subs</a></span> <span class=\"gloss\">wrapper</span></div>\n",
       "\n",
       "\n",
       "</div>\n",
       "\n",
       "\n",
       "    </div>\n",
       "\n",
       "\n",
       "</div>\n",
       "\n",
       "<div class=\"patom  r hl\">\n",
       "\n",
       "    <div class=\"phrase\">\n",
       "        <a href=\"https://shebanq.ancient-data.org/hebrew/text?book=Josua&chapter=22&verse=8&version=c&mr=m&qw=q&tp=txt_p&tr=hb&wget=v&qget=v&nget=vt\" title=\"Joshua 22:8\" sec=\"Joshua 22:8\">phrase</a> <a href=\"#\" class=\"nd\">721834</a>  <span class=\"function\">Adju</span> <span class=\"typ\">PP</span>\n",
       "    </div>\n",
       "    <div class=\"atoms\">\n",
       "\n",
       "<div class=\"word \" style=\"background-color: None;\">\n",
       "<a href=\"#\" class=\"nd\">125440</a>\n",
       "<div class=\"h\"><a target=\"_blank\" href=\"https://shebanq.ancient-data.org/hebrew/word?version=c&id=1RBHv\" title=\"show this lexeme in SHEBANQ\">הַרְבֵּ֣ה </a></div>\n",
       "<div class=\"features\"> <span class=\"pdp\"><a href=\"https://shebanq.ancient-data.org/hebrew/text?book=Josua&chapter=22&verse=8&version=c&mr=m&qw=q&tp=txt_p&tr=hb&wget=v&qget=v&nget=vt\" title=\"Joshua 22:8\" sec=\"Joshua 22:8\">advb</a></span> <span class=\"gloss\">be many</span> <span class=\"vs\">hif</span> <span class=\"vt\">infa</span></div>\n",
       "\n",
       "\n",
       "</div>\n",
       "\n",
       "<div class=\"word  hl\">\n",
       "<a href=\"#\" class=\"nd\">125441</a>\n",
       "<div class=\"h\"><a target=\"_blank\" href=\"https://shebanq.ancient-data.org/hebrew/word?version=c&id=1MADn\" title=\"show this lexeme in SHEBANQ\">מְאֹ֑ד </a></div>\n",
       "<div class=\"features\"> <span class=\"pdp\"><a href=\"https://shebanq.ancient-data.org/hebrew/text?book=Josua&chapter=22&verse=8&version=c&mr=m&qw=q&tp=txt_p&tr=hb&wget=v&qget=v&nget=vt\" title=\"Joshua 22:8\" sec=\"Joshua 22:8\">advb</a></span> <span class=\"gloss\">might</span></div>\n",
       "\n",
       "\n",
       "</div>\n",
       "\n",
       "\n",
       "    </div>\n",
       "\n",
       "\n",
       "</div>\n",
       "\n",
       "\n",
       "</div>\n"
      ],
      "text/plain": [
       "<IPython.core.display.HTML object>"
      ]
     },
     "metadata": {},
     "output_type": "display_data"
    },
    {
     "data": {
      "text/markdown": [
       "\n",
       "\n",
       "**phrase** *16*\n",
       "\n"
      ],
      "text/plain": [
       "<IPython.core.display.Markdown object>"
      ]
     },
     "metadata": {},
     "output_type": "display_data"
    },
    {
     "data": {
      "text/html": [
       "<div class=\"atoms \" style=\"background-color: None;\">\n",
       "<a href=\"#\" class=\"nd\">731154</a>\n",
       "\n",
       "\n",
       "\n",
       "<div class=\"patom  hl\">\n",
       "\n",
       "    <div class=\"phrase\">\n",
       "        <a href=\"https://shebanq.ancient-data.org/hebrew/text?book=Judices&chapter=20&verse=39&version=c&mr=m&qw=q&tp=txt_p&tr=hb&wget=v&qget=v&nget=vt\" title=\"Judges 20:39\" sec=\"Judges 20:39\">phrase</a> <a href=\"#\" class=\"nd\">731154</a>  <span class=\"function\">Modi</span> <span class=\"typ\">AdvP</span>\n",
       "    </div>\n",
       "    <div class=\"atoms\">\n",
       "\n",
       "<div class=\"word  hl\">\n",
       "<a href=\"#\" class=\"nd\">140793</a>\n",
       "<div class=\"h\"><a target=\"_blank\" href=\"https://shebanq.ancient-data.org/hebrew/word?version=c&id=1AK\" title=\"show this lexeme in SHEBANQ\">אַךְ֩ </a></div>\n",
       "<div class=\"features\"> <span class=\"pdp\"><a href=\"https://shebanq.ancient-data.org/hebrew/text?book=Judices&chapter=20&verse=39&version=c&mr=m&qw=q&tp=txt_p&tr=hb&wget=v&qget=v&nget=vt\" title=\"Judges 20:39\" sec=\"Judges 20:39\">advb</a></span> <span class=\"gloss\">only</span></div>\n",
       "\n",
       "\n",
       "</div>\n",
       "\n",
       "<div class=\"word \" style=\"background-color: None;\">\n",
       "<a href=\"#\" class=\"nd\">140794</a>\n",
       "<div class=\"h\"><a target=\"_blank\" href=\"https://shebanq.ancient-data.org/hebrew/word?version=c&id=1NGPv\" title=\"show this lexeme in SHEBANQ\">נִגֹּ֨וף </a></div>\n",
       "<div class=\"features\"> <span class=\"pdp\"><a href=\"https://shebanq.ancient-data.org/hebrew/text?book=Judices&chapter=20&verse=39&version=c&mr=m&qw=q&tp=txt_p&tr=hb&wget=v&qget=v&nget=vt\" title=\"Judges 20:39\" sec=\"Judges 20:39\">advb</a></span> <span class=\"gloss\">hurt</span> <span class=\"vs\">nif</span> <span class=\"vt\">infa</span></div>\n",
       "\n",
       "\n",
       "</div>\n",
       "\n",
       "\n",
       "    </div>\n",
       "\n",
       "\n",
       "</div>\n",
       "\n",
       "\n",
       "</div>\n"
      ],
      "text/plain": [
       "<IPython.core.display.HTML object>"
      ]
     },
     "metadata": {},
     "output_type": "display_data"
    },
    {
     "data": {
      "text/markdown": [
       "\n",
       "\n",
       "**phrase** *17*\n",
       "\n"
      ],
      "text/plain": [
       "<IPython.core.display.Markdown object>"
      ]
     },
     "metadata": {},
     "output_type": "display_data"
    },
    {
     "data": {
      "text/html": [
       "<div class=\"atoms \" style=\"background-color: None;\">\n",
       "<a href=\"#\" class=\"nd\">735506</a>\n",
       "\n",
       "\n",
       "\n",
       "<div class=\"patom  hl\">\n",
       "\n",
       "    <div class=\"phrase\">\n",
       "        <a href=\"https://shebanq.ancient-data.org/hebrew/text?book=Samuel_I&chapter=12&verse=16&version=c&mr=m&qw=q&tp=txt_p&tr=hb&wget=v&qget=v&nget=vt\" title=\"1_Samuel 12:16\" sec=\"1_Samuel 12:16\">phrase</a> <a href=\"#\" class=\"nd\">735506</a>  <span class=\"function\">Time</span> <span class=\"typ\">AdvP</span>\n",
       "    </div>\n",
       "    <div class=\"atoms\">\n",
       "\n",
       "<div class=\"word  hl\">\n",
       "<a href=\"#\" class=\"nd\">147570</a>\n",
       "<div class=\"h\"><a target=\"_blank\" href=\"https://shebanq.ancient-data.org/hebrew/word?version=c&id=1GM\" title=\"show this lexeme in SHEBANQ\">גַּם־</a></div>\n",
       "<div class=\"features\"> <span class=\"pdp\"><a href=\"https://shebanq.ancient-data.org/hebrew/text?book=Samuel_I&chapter=12&verse=16&version=c&mr=m&qw=q&tp=txt_p&tr=hb&wget=v&qget=v&nget=vt\" title=\"1_Samuel 12:16\" sec=\"1_Samuel 12:16\">advb</a></span> <span class=\"gloss\">even</span></div>\n",
       "\n",
       "\n",
       "</div>\n",
       "\n",
       "<div class=\"word \" style=\"background-color: None;\">\n",
       "<a href=\"#\" class=\"nd\">147571</a>\n",
       "<div class=\"h\"><a target=\"_blank\" href=\"https://shebanq.ancient-data.org/hebrew/word?version=c&id=1OTH\" title=\"show this lexeme in SHEBANQ\">עַתָּה֙ </a></div>\n",
       "<div class=\"features\"> <span class=\"pdp\"><a href=\"https://shebanq.ancient-data.org/hebrew/text?book=Samuel_I&chapter=12&verse=16&version=c&mr=m&qw=q&tp=txt_p&tr=hb&wget=v&qget=v&nget=vt\" title=\"1_Samuel 12:16\" sec=\"1_Samuel 12:16\">advb</a></span> <span class=\"gloss\">now</span></div>\n",
       "\n",
       "\n",
       "</div>\n",
       "\n",
       "\n",
       "    </div>\n",
       "\n",
       "\n",
       "</div>\n",
       "\n",
       "\n",
       "</div>\n"
      ],
      "text/plain": [
       "<IPython.core.display.HTML object>"
      ]
     },
     "metadata": {},
     "output_type": "display_data"
    },
    {
     "data": {
      "text/markdown": [
       "\n",
       "\n",
       "**phrase** *18*\n",
       "\n"
      ],
      "text/plain": [
       "<IPython.core.display.Markdown object>"
      ]
     },
     "metadata": {},
     "output_type": "display_data"
    },
    {
     "data": {
      "text/html": [
       "<div class=\"atoms \" style=\"background-color: None;\">\n",
       "<a href=\"#\" class=\"nd\">741485</a>\n",
       "\n",
       "\n",
       "\n",
       "<div class=\"patom  l hl\">\n",
       "\n",
       "    <div class=\"phrase\">\n",
       "        <a href=\"https://shebanq.ancient-data.org/hebrew/text?book=Samuel_I&chapter=25&verse=16&version=c&mr=m&qw=q&tp=txt_p&tr=hb&wget=v&qget=v&nget=vt\" title=\"1_Samuel 25:16\" sec=\"1_Samuel 25:16\">phrase</a> <a href=\"#\" class=\"nd\">741485</a>  <span class=\"function\">Time</span> <span class=\"typ\">AdvP</span>\n",
       "    </div>\n",
       "    <div class=\"atoms\">\n",
       "\n",
       "<div class=\"word  hl\">\n",
       "<a href=\"#\" class=\"nd\">156845</a>\n",
       "<div class=\"h\"><a target=\"_blank\" href=\"https://shebanq.ancient-data.org/hebrew/word?version=c&id=1GM\" title=\"show this lexeme in SHEBANQ\">גַּם־</a></div>\n",
       "<div class=\"features\"> <span class=\"pdp\"><a href=\"https://shebanq.ancient-data.org/hebrew/text?book=Samuel_I&chapter=25&verse=16&version=c&mr=m&qw=q&tp=txt_p&tr=hb&wget=v&qget=v&nget=vt\" title=\"1_Samuel 25:16\" sec=\"1_Samuel 25:16\">advb</a></span> <span class=\"gloss\">even</span></div>\n",
       "\n",
       "\n",
       "</div>\n",
       "\n",
       "<div class=\"word \" style=\"background-color: None;\">\n",
       "<a href=\"#\" class=\"nd\">156846</a>\n",
       "<div class=\"h\"><a target=\"_blank\" href=\"https://shebanq.ancient-data.org/hebrew/word?version=c&id=1LJLHn\" title=\"show this lexeme in SHEBANQ\">לַ֖יְלָה </a></div>\n",
       "<div class=\"features\"> <span class=\"pdp\"><a href=\"https://shebanq.ancient-data.org/hebrew/text?book=Samuel_I&chapter=25&verse=16&version=c&mr=m&qw=q&tp=txt_p&tr=hb&wget=v&qget=v&nget=vt\" title=\"1_Samuel 25:16\" sec=\"1_Samuel 25:16\">advb</a></span> <span class=\"gloss\">night</span></div>\n",
       "\n",
       "\n",
       "</div>\n",
       "\n",
       "<div class=\"word  hl\">\n",
       "<a href=\"#\" class=\"nd\">156847</a>\n",
       "<div class=\"h\"><a target=\"_blank\" href=\"https://shebanq.ancient-data.org/hebrew/word?version=c&id=1GM\" title=\"show this lexeme in SHEBANQ\">גַּם־</a></div>\n",
       "<div class=\"features\"> <span class=\"pdp\"><a href=\"https://shebanq.ancient-data.org/hebrew/text?book=Samuel_I&chapter=25&verse=16&version=c&mr=m&qw=q&tp=txt_p&tr=hb&wget=v&qget=v&nget=vt\" title=\"1_Samuel 25:16\" sec=\"1_Samuel 25:16\">advb</a></span> <span class=\"gloss\">even</span></div>\n",
       "\n",
       "\n",
       "</div>\n",
       "\n",
       "<div class=\"word \" style=\"background-color: None;\">\n",
       "<a href=\"#\" class=\"nd\">156848</a>\n",
       "<div class=\"h\"><a target=\"_blank\" href=\"https://shebanq.ancient-data.org/hebrew/word?version=c&id=1JWMM\" title=\"show this lexeme in SHEBANQ\">יֹומָ֑ם </a></div>\n",
       "<div class=\"features\"> <span class=\"pdp\"><a href=\"https://shebanq.ancient-data.org/hebrew/text?book=Samuel_I&chapter=25&verse=16&version=c&mr=m&qw=q&tp=txt_p&tr=hb&wget=v&qget=v&nget=vt\" title=\"1_Samuel 25:16\" sec=\"1_Samuel 25:16\">advb</a></span> <span class=\"gloss\">by day</span></div>\n",
       "\n",
       "\n",
       "</div>\n",
       "\n",
       "\n",
       "    </div>\n",
       "\n",
       "\n",
       "</div>\n",
       "\n",
       "<div class=\"patom  r\" style=\"background-color: None;\">\n",
       "\n",
       "    <div class=\"phrase\">\n",
       "        <a href=\"https://shebanq.ancient-data.org/hebrew/text?book=Samuel_I&chapter=25&verse=16&version=c&mr=m&qw=q&tp=txt_p&tr=hb&wget=v&qget=v&nget=vt\" title=\"1_Samuel 25:16\" sec=\"1_Samuel 25:16\">phrase</a> <a href=\"#\" class=\"nd\">741485</a>  <span class=\"function\">Time</span> <span class=\"typ\">AdvP</span>\n",
       "    </div>\n",
       "    <div class=\"atoms\">\n",
       "\n",
       "<div class=\"word \" style=\"background-color: None;\">\n",
       "<a href=\"#\" class=\"nd\">156849</a>\n",
       "<div class=\"h\"><a target=\"_blank\" href=\"https://shebanq.ancient-data.org/hebrew/word?version=c&id=1KLn\" title=\"show this lexeme in SHEBANQ\">כָּל־</a></div>\n",
       "<div class=\"features\"> <span class=\"pdp\"><a href=\"https://shebanq.ancient-data.org/hebrew/text?book=Samuel_I&chapter=25&verse=16&version=c&mr=m&qw=q&tp=txt_p&tr=hb&wget=v&qget=v&nget=vt\" title=\"1_Samuel 25:16\" sec=\"1_Samuel 25:16\">subs</a></span> <span class=\"gloss\">whole</span></div>\n",
       "\n",
       "\n",
       "</div>\n",
       "\n",
       "<div class=\"word \" style=\"background-color: None;\">\n",
       "<a href=\"#\" class=\"nd\">156850</a>\n",
       "<div class=\"h\"><a target=\"_blank\" href=\"https://shebanq.ancient-data.org/hebrew/word?version=c&id=1JWMn\" title=\"show this lexeme in SHEBANQ\">יְמֵ֛י </a></div>\n",
       "<div class=\"features\"> <span class=\"pdp\"><a href=\"https://shebanq.ancient-data.org/hebrew/text?book=Samuel_I&chapter=25&verse=16&version=c&mr=m&qw=q&tp=txt_p&tr=hb&wget=v&qget=v&nget=vt\" title=\"1_Samuel 25:16\" sec=\"1_Samuel 25:16\">subs</a></span> <span class=\"gloss\">day</span></div>\n",
       "\n",
       "\n",
       "</div>\n",
       "\n",
       "\n",
       "    </div>\n",
       "\n",
       "\n",
       "</div>\n",
       "\n",
       "\n",
       "</div>\n"
      ],
      "text/plain": [
       "<IPython.core.display.HTML object>"
      ]
     },
     "metadata": {},
     "output_type": "display_data"
    },
    {
     "data": {
      "text/markdown": [
       "\n",
       "\n",
       "**phrase** *19*\n",
       "\n"
      ],
      "text/plain": [
       "<IPython.core.display.Markdown object>"
      ]
     },
     "metadata": {},
     "output_type": "display_data"
    },
    {
     "data": {
      "text/html": [
       "<div class=\"atoms \" style=\"background-color: None;\">\n",
       "<a href=\"#\" class=\"nd\">744756</a>\n",
       "\n",
       "\n",
       "\n",
       "<div class=\"patom  hl\">\n",
       "\n",
       "    <div class=\"phrase\">\n",
       "        <a href=\"https://shebanq.ancient-data.org/hebrew/text?book=Samuel_II&chapter=3&verse=17&version=c&mr=m&qw=q&tp=txt_p&tr=hb&wget=v&qget=v&nget=vt\" title=\"2_Samuel 3:17\" sec=\"2_Samuel 3:17\">phrase</a> <a href=\"#\" class=\"nd\">744756</a>  <span class=\"function\">Time</span> <span class=\"typ\">AdvP</span>\n",
       "    </div>\n",
       "    <div class=\"atoms\">\n",
       "\n",
       "<div class=\"word  hl\">\n",
       "<a href=\"#\" class=\"nd\">162031</a>\n",
       "<div class=\"h\"><a target=\"_blank\" href=\"https://shebanq.ancient-data.org/hebrew/word?version=c&id=1GM\" title=\"show this lexeme in SHEBANQ\">גַּם־</a></div>\n",
       "<div class=\"features\"> <span class=\"pdp\"><a href=\"https://shebanq.ancient-data.org/hebrew/text?book=Samuel_II&chapter=3&verse=17&version=c&mr=m&qw=q&tp=txt_p&tr=hb&wget=v&qget=v&nget=vt\" title=\"2_Samuel 3:17\" sec=\"2_Samuel 3:17\">advb</a></span> <span class=\"gloss\">even</span></div>\n",
       "\n",
       "\n",
       "</div>\n",
       "\n",
       "<div class=\"word \" style=\"background-color: None;\">\n",
       "<a href=\"#\" class=\"nd\">162032</a>\n",
       "<div class=\"h\"><a target=\"_blank\" href=\"https://shebanq.ancient-data.org/hebrew/word?version=c&id=1TMWLn\" title=\"show this lexeme in SHEBANQ\">תְּמֹול֙ </a></div>\n",
       "<div class=\"features\"> <span class=\"pdp\"><a href=\"https://shebanq.ancient-data.org/hebrew/text?book=Samuel_II&chapter=3&verse=17&version=c&mr=m&qw=q&tp=txt_p&tr=hb&wget=v&qget=v&nget=vt\" title=\"2_Samuel 3:17\" sec=\"2_Samuel 3:17\">advb</a></span> <span class=\"gloss\">yesterday</span></div>\n",
       "\n",
       "\n",
       "</div>\n",
       "\n",
       "<div class=\"word  hl\">\n",
       "<a href=\"#\" class=\"nd\">162033</a>\n",
       "<div class=\"h\"><a target=\"_blank\" href=\"https://shebanq.ancient-data.org/hebrew/word?version=c&id=1GM\" title=\"show this lexeme in SHEBANQ\">גַּם־</a></div>\n",
       "<div class=\"features\"> <span class=\"pdp\"><a href=\"https://shebanq.ancient-data.org/hebrew/text?book=Samuel_II&chapter=3&verse=17&version=c&mr=m&qw=q&tp=txt_p&tr=hb&wget=v&qget=v&nget=vt\" title=\"2_Samuel 3:17\" sec=\"2_Samuel 3:17\">advb</a></span> <span class=\"gloss\">even</span></div>\n",
       "\n",
       "\n",
       "</div>\n",
       "\n",
       "<div class=\"word \" style=\"background-color: None;\">\n",
       "<a href=\"#\" class=\"nd\">162034</a>\n",
       "<div class=\"h\"><a target=\"_blank\" href=\"https://shebanq.ancient-data.org/hebrew/word?version=c&id=1CLCWMn\" title=\"show this lexeme in SHEBANQ\">שִׁלְשֹׁ֔ם </a></div>\n",
       "<div class=\"features\"> <span class=\"pdp\"><a href=\"https://shebanq.ancient-data.org/hebrew/text?book=Samuel_II&chapter=3&verse=17&version=c&mr=m&qw=q&tp=txt_p&tr=hb&wget=v&qget=v&nget=vt\" title=\"2_Samuel 3:17\" sec=\"2_Samuel 3:17\">advb</a></span> <span class=\"gloss\">day before yesterday</span></div>\n",
       "\n",
       "\n",
       "</div>\n",
       "\n",
       "\n",
       "    </div>\n",
       "\n",
       "\n",
       "</div>\n",
       "\n",
       "\n",
       "</div>\n"
      ],
      "text/plain": [
       "<IPython.core.display.HTML object>"
      ]
     },
     "metadata": {},
     "output_type": "display_data"
    },
    {
     "data": {
      "text/markdown": [
       "\n",
       "\n",
       "**phrase** *20*\n",
       "\n"
      ],
      "text/plain": [
       "<IPython.core.display.Markdown object>"
      ]
     },
     "metadata": {},
     "output_type": "display_data"
    },
    {
     "data": {
      "text/html": [
       "<div class=\"atoms \" style=\"background-color: None;\">\n",
       "<a href=\"#\" class=\"nd\">745299</a>\n",
       "\n",
       "\n",
       "\n",
       "<div class=\"patom  hl\">\n",
       "\n",
       "    <div class=\"phrase\">\n",
       "        <a href=\"https://shebanq.ancient-data.org/hebrew/text?book=Samuel_II&chapter=5&verse=2&version=c&mr=m&qw=q&tp=txt_p&tr=hb&wget=v&qget=v&nget=vt\" title=\"2_Samuel 5:2\" sec=\"2_Samuel 5:2\">phrase</a> <a href=\"#\" class=\"nd\">745299</a>  <span class=\"function\">Time</span> <span class=\"typ\">AdvP</span>\n",
       "    </div>\n",
       "    <div class=\"atoms\">\n",
       "\n",
       "<div class=\"word  hl\">\n",
       "<a href=\"#\" class=\"nd\">162945</a>\n",
       "<div class=\"h\"><a target=\"_blank\" href=\"https://shebanq.ancient-data.org/hebrew/word?version=c&id=1GM\" title=\"show this lexeme in SHEBANQ\">גַּם־</a></div>\n",
       "<div class=\"features\"> <span class=\"pdp\"><a href=\"https://shebanq.ancient-data.org/hebrew/text?book=Samuel_II&chapter=5&verse=2&version=c&mr=m&qw=q&tp=txt_p&tr=hb&wget=v&qget=v&nget=vt\" title=\"2_Samuel 5:2\" sec=\"2_Samuel 5:2\">advb</a></span> <span class=\"gloss\">even</span></div>\n",
       "\n",
       "\n",
       "</div>\n",
       "\n",
       "<div class=\"word \" style=\"background-color: None;\">\n",
       "<a href=\"#\" class=\"nd\">162946</a>\n",
       "<div class=\"h\"><a target=\"_blank\" href=\"https://shebanq.ancient-data.org/hebrew/word?version=c&id=1ATMWLn\" title=\"show this lexeme in SHEBANQ\">אֶתְמֹ֣ול </a></div>\n",
       "<div class=\"features\"> <span class=\"pdp\"><a href=\"https://shebanq.ancient-data.org/hebrew/text?book=Samuel_II&chapter=5&verse=2&version=c&mr=m&qw=q&tp=txt_p&tr=hb&wget=v&qget=v&nget=vt\" title=\"2_Samuel 5:2\" sec=\"2_Samuel 5:2\">advb</a></span> <span class=\"gloss\">yesterday</span></div>\n",
       "\n",
       "\n",
       "</div>\n",
       "\n",
       "<div class=\"word  hl\">\n",
       "<a href=\"#\" class=\"nd\">162947</a>\n",
       "<div class=\"h\"><a target=\"_blank\" href=\"https://shebanq.ancient-data.org/hebrew/word?version=c&id=1GM\" title=\"show this lexeme in SHEBANQ\">גַּם־</a></div>\n",
       "<div class=\"features\"> <span class=\"pdp\"><a href=\"https://shebanq.ancient-data.org/hebrew/text?book=Samuel_II&chapter=5&verse=2&version=c&mr=m&qw=q&tp=txt_p&tr=hb&wget=v&qget=v&nget=vt\" title=\"2_Samuel 5:2\" sec=\"2_Samuel 5:2\">advb</a></span> <span class=\"gloss\">even</span></div>\n",
       "\n",
       "\n",
       "</div>\n",
       "\n",
       "<div class=\"word \" style=\"background-color: None;\">\n",
       "<a href=\"#\" class=\"nd\">162948</a>\n",
       "<div class=\"h\"><a target=\"_blank\" href=\"https://shebanq.ancient-data.org/hebrew/word?version=c&id=1CLCWMn\" title=\"show this lexeme in SHEBANQ\">שִׁלְשֹׁ֗ום </a></div>\n",
       "<div class=\"features\"> <span class=\"pdp\"><a href=\"https://shebanq.ancient-data.org/hebrew/text?book=Samuel_II&chapter=5&verse=2&version=c&mr=m&qw=q&tp=txt_p&tr=hb&wget=v&qget=v&nget=vt\" title=\"2_Samuel 5:2\" sec=\"2_Samuel 5:2\">advb</a></span> <span class=\"gloss\">day before yesterday</span></div>\n",
       "\n",
       "\n",
       "</div>\n",
       "\n",
       "\n",
       "    </div>\n",
       "\n",
       "\n",
       "</div>\n",
       "\n",
       "\n",
       "</div>\n"
      ],
      "text/plain": [
       "<IPython.core.display.HTML object>"
      ]
     },
     "metadata": {},
     "output_type": "display_data"
    }
   ],
   "source": [
    "adv_mod = \"\"\"\n",
    "\n",
    "phrase_atom typ=AdvP\n",
    "    subphrase rela=mod\n",
    "        word pdp=advb\n",
    "\n",
    "\"\"\"\n",
    "\n",
    "find_and_show(adv_mod)"
   ]
  },
  {
   "cell_type": "markdown",
   "metadata": {},
   "source": [
    "In this case, it appears that `mod` is also an invalid relation for adverb phrases. And example is גם הלם ('also here') where גם is the adverb in `mod` relation, but the head is really הלם \"here\" (also an adverb). In several cases, the modifier modifies a verb. In these cases the \"head,\" often a participle or infinitive, acts as the adverb, even though it is not explicitly marked as such.\n",
    "\n",
    "Now we move on to the last examination, that of the `AdjP` (adjective phrase). There are three relations of interest:\n",
    "> `atr` - 6 <br>\n",
    "> `adj` - 3 <br>\n",
    "> `rec` - 1 <br>"
   ]
  },
  {
   "cell_type": "code",
   "execution_count": 37,
   "metadata": {},
   "outputs": [
    {
     "name": "stdout",
     "output_type": "stream",
     "text": [
      "  0.77s 5 results\n",
      "5 results\n"
     ]
    },
    {
     "data": {
      "text/markdown": [
       "\n",
       "\n",
       "**phrase** *1*\n",
       "\n"
      ],
      "text/plain": [
       "<IPython.core.display.Markdown object>"
      ]
     },
     "metadata": {},
     "output_type": "display_data"
    },
    {
     "data": {
      "text/html": [
       "<div class=\"atoms \" style=\"background-color: None;\">\n",
       "<a href=\"#\" class=\"nd\">661695</a>\n",
       "\n",
       "\n",
       "\n",
       "<div class=\"patom  hl\">\n",
       "\n",
       "    <div class=\"phrase\">\n",
       "        <a href=\"https://shebanq.ancient-data.org/hebrew/text?book=Genesis&chapter=31&verse=10&version=c&mr=m&qw=q&tp=txt_p&tr=hb&wget=v&qget=v&nget=vt\" title=\"Genesis 31:10\" sec=\"Genesis 31:10\">phrase</a> <a href=\"#\" class=\"nd\">661695</a>  <span class=\"function\">PreC</span> <span class=\"typ\">AdjP</span>\n",
       "    </div>\n",
       "    <div class=\"atoms\">\n",
       "\n",
       "<div class=\"word \" style=\"background-color: None;\">\n",
       "<a href=\"#\" class=\"nd\">16552</a>\n",
       "<div class=\"h\"><a target=\"_blank\" href=\"https://shebanq.ancient-data.org/hebrew/word?version=c&id=1OQDn\" title=\"show this lexeme in SHEBANQ\">עֲקֻדִּ֥ים </a></div>\n",
       "<div class=\"features\"> <span class=\"pdp\"><a href=\"https://shebanq.ancient-data.org/hebrew/text?book=Genesis&chapter=31&verse=10&version=c&mr=m&qw=q&tp=txt_p&tr=hb&wget=v&qget=v&nget=vt\" title=\"Genesis 31:10\" sec=\"Genesis 31:10\">adjv</a></span> <span class=\"gloss\">twisted</span></div>\n",
       "\n",
       "\n",
       "</div>\n",
       "\n",
       "<div class=\"word  hl\">\n",
       "<a href=\"#\" class=\"nd\">16553</a>\n",
       "<div class=\"h\"><a target=\"_blank\" href=\"https://shebanq.ancient-data.org/hebrew/word?version=c&id=1NQDin\" title=\"show this lexeme in SHEBANQ\">נְקֻדִּ֖ים </a></div>\n",
       "<div class=\"features\"> <span class=\"pdp\"><a href=\"https://shebanq.ancient-data.org/hebrew/text?book=Genesis&chapter=31&verse=10&version=c&mr=m&qw=q&tp=txt_p&tr=hb&wget=v&qget=v&nget=vt\" title=\"Genesis 31:10\" sec=\"Genesis 31:10\">adjv</a></span> <span class=\"gloss\">speckled</span></div>\n",
       "\n",
       "\n",
       "</div>\n",
       "\n",
       "<div class=\"word \" style=\"background-color: None;\">\n",
       "<a href=\"#\" class=\"nd\">16554</a>\n",
       "<div class=\"h\"><a target=\"_blank\" href=\"https://shebanq.ancient-data.org/hebrew/word?version=c&id=1W\" title=\"show this lexeme in SHEBANQ\">וּ</a></div>\n",
       "<div class=\"features\"> <span class=\"pdp\"><a href=\"https://shebanq.ancient-data.org/hebrew/text?book=Genesis&chapter=31&verse=10&version=c&mr=m&qw=q&tp=txt_p&tr=hb&wget=v&qget=v&nget=vt\" title=\"Genesis 31:10\" sec=\"Genesis 31:10\">conj</a></span> <span class=\"gloss\">and</span></div>\n",
       "\n",
       "\n",
       "</div>\n",
       "\n",
       "<div class=\"word  hl\">\n",
       "<a href=\"#\" class=\"nd\">16555</a>\n",
       "<div class=\"h\"><a target=\"_blank\" href=\"https://shebanq.ancient-data.org/hebrew/word?version=c&id=1BRDin\" title=\"show this lexeme in SHEBANQ\">בְרֻדִּֽים׃ </a></div>\n",
       "<div class=\"features\"> <span class=\"pdp\"><a href=\"https://shebanq.ancient-data.org/hebrew/text?book=Genesis&chapter=31&verse=10&version=c&mr=m&qw=q&tp=txt_p&tr=hb&wget=v&qget=v&nget=vt\" title=\"Genesis 31:10\" sec=\"Genesis 31:10\">adjv</a></span> <span class=\"gloss\">speckled</span></div>\n",
       "\n",
       "\n",
       "</div>\n",
       "\n",
       "\n",
       "    </div>\n",
       "\n",
       "\n",
       "</div>\n",
       "\n",
       "\n",
       "</div>\n"
      ],
      "text/plain": [
       "<IPython.core.display.HTML object>"
      ]
     },
     "metadata": {},
     "output_type": "display_data"
    },
    {
     "data": {
      "text/markdown": [
       "\n",
       "\n",
       "**phrase** *2*\n",
       "\n"
      ],
      "text/plain": [
       "<IPython.core.display.Markdown object>"
      ]
     },
     "metadata": {},
     "output_type": "display_data"
    },
    {
     "data": {
      "text/html": [
       "<div class=\"atoms \" style=\"background-color: None;\">\n",
       "<a href=\"#\" class=\"nd\">661716</a>\n",
       "\n",
       "\n",
       "\n",
       "<div class=\"patom  hl\">\n",
       "\n",
       "    <div class=\"phrase\">\n",
       "        <a href=\"https://shebanq.ancient-data.org/hebrew/text?book=Genesis&chapter=31&verse=12&version=c&mr=m&qw=q&tp=txt_p&tr=hb&wget=v&qget=v&nget=vt\" title=\"Genesis 31:12\" sec=\"Genesis 31:12\">phrase</a> <a href=\"#\" class=\"nd\">661716</a>  <span class=\"function\">PreC</span> <span class=\"typ\">AdjP</span>\n",
       "    </div>\n",
       "    <div class=\"atoms\">\n",
       "\n",
       "<div class=\"word \" style=\"background-color: None;\">\n",
       "<a href=\"#\" class=\"nd\">16584</a>\n",
       "<div class=\"h\"><a target=\"_blank\" href=\"https://shebanq.ancient-data.org/hebrew/word?version=c&id=1OQDn\" title=\"show this lexeme in SHEBANQ\">עֲקֻדִּ֥ים </a></div>\n",
       "<div class=\"features\"> <span class=\"pdp\"><a href=\"https://shebanq.ancient-data.org/hebrew/text?book=Genesis&chapter=31&verse=12&version=c&mr=m&qw=q&tp=txt_p&tr=hb&wget=v&qget=v&nget=vt\" title=\"Genesis 31:12\" sec=\"Genesis 31:12\">adjv</a></span> <span class=\"gloss\">twisted</span></div>\n",
       "\n",
       "\n",
       "</div>\n",
       "\n",
       "<div class=\"word  hl\">\n",
       "<a href=\"#\" class=\"nd\">16585</a>\n",
       "<div class=\"h\"><a target=\"_blank\" href=\"https://shebanq.ancient-data.org/hebrew/word?version=c&id=1NQDin\" title=\"show this lexeme in SHEBANQ\">נְקֻדִּ֖ים </a></div>\n",
       "<div class=\"features\"> <span class=\"pdp\"><a href=\"https://shebanq.ancient-data.org/hebrew/text?book=Genesis&chapter=31&verse=12&version=c&mr=m&qw=q&tp=txt_p&tr=hb&wget=v&qget=v&nget=vt\" title=\"Genesis 31:12\" sec=\"Genesis 31:12\">adjv</a></span> <span class=\"gloss\">speckled</span></div>\n",
       "\n",
       "\n",
       "</div>\n",
       "\n",
       "<div class=\"word \" style=\"background-color: None;\">\n",
       "<a href=\"#\" class=\"nd\">16586</a>\n",
       "<div class=\"h\"><a target=\"_blank\" href=\"https://shebanq.ancient-data.org/hebrew/word?version=c&id=1W\" title=\"show this lexeme in SHEBANQ\">וּ</a></div>\n",
       "<div class=\"features\"> <span class=\"pdp\"><a href=\"https://shebanq.ancient-data.org/hebrew/text?book=Genesis&chapter=31&verse=12&version=c&mr=m&qw=q&tp=txt_p&tr=hb&wget=v&qget=v&nget=vt\" title=\"Genesis 31:12\" sec=\"Genesis 31:12\">conj</a></span> <span class=\"gloss\">and</span></div>\n",
       "\n",
       "\n",
       "</div>\n",
       "\n",
       "<div class=\"word  hl\">\n",
       "<a href=\"#\" class=\"nd\">16587</a>\n",
       "<div class=\"h\"><a target=\"_blank\" href=\"https://shebanq.ancient-data.org/hebrew/word?version=c&id=1BRDin\" title=\"show this lexeme in SHEBANQ\">בְרֻדִּ֑ים </a></div>\n",
       "<div class=\"features\"> <span class=\"pdp\"><a href=\"https://shebanq.ancient-data.org/hebrew/text?book=Genesis&chapter=31&verse=12&version=c&mr=m&qw=q&tp=txt_p&tr=hb&wget=v&qget=v&nget=vt\" title=\"Genesis 31:12\" sec=\"Genesis 31:12\">adjv</a></span> <span class=\"gloss\">speckled</span></div>\n",
       "\n",
       "\n",
       "</div>\n",
       "\n",
       "\n",
       "    </div>\n",
       "\n",
       "\n",
       "</div>\n",
       "\n",
       "\n",
       "</div>\n"
      ],
      "text/plain": [
       "<IPython.core.display.HTML object>"
      ]
     },
     "metadata": {},
     "output_type": "display_data"
    },
    {
     "data": {
      "text/markdown": [
       "\n",
       "\n",
       "**phrase** *3*\n",
       "\n"
      ],
      "text/plain": [
       "<IPython.core.display.Markdown object>"
      ]
     },
     "metadata": {},
     "output_type": "display_data"
    },
    {
     "data": {
      "text/html": [
       "<div class=\"atoms \" style=\"background-color: None;\">\n",
       "<a href=\"#\" class=\"nd\">715006</a>\n",
       "\n",
       "\n",
       "\n",
       "<div class=\"patom  hl\">\n",
       "\n",
       "    <div class=\"phrase\">\n",
       "        <a href=\"https://shebanq.ancient-data.org/hebrew/text?book=Deuteronomium&chapter=32&verse=24&version=c&mr=m&qw=q&tp=txt_p&tr=hb&wget=v&qget=v&nget=vt\" title=\"Deuteronomy 32:24\" sec=\"Deuteronomy 32:24\">phrase</a> <a href=\"#\" class=\"nd\">715006</a>  <span class=\"function\">PreC</span> <span class=\"typ\">AdjP</span>\n",
       "    </div>\n",
       "    <div class=\"atoms\">\n",
       "\n",
       "<div class=\"word \" style=\"background-color: None;\">\n",
       "<a href=\"#\" class=\"nd\">111758</a>\n",
       "<div class=\"h\"><a target=\"_blank\" href=\"https://shebanq.ancient-data.org/hebrew/word?version=c&id=1LXMiv\" title=\"show this lexeme in SHEBANQ\">לְחֻ֥מֵי </a></div>\n",
       "<div class=\"features\"> <span class=\"pdp\"><a href=\"https://shebanq.ancient-data.org/hebrew/text?book=Deuteronomium&chapter=32&verse=24&version=c&mr=m&qw=q&tp=txt_p&tr=hb&wget=v&qget=v&nget=vt\" title=\"Deuteronomy 32:24\" sec=\"Deuteronomy 32:24\">adjv</a></span> <span class=\"gloss\">feed</span> <span class=\"vs\">qal</span> <span class=\"vt\">ptcp</span></div>\n",
       "\n",
       "\n",
       "</div>\n",
       "\n",
       "<div class=\"word \" style=\"background-color: None;\">\n",
       "<a href=\"#\" class=\"nd\">111759</a>\n",
       "<div class=\"h\"><a target=\"_blank\" href=\"https://shebanq.ancient-data.org/hebrew/word?version=c&id=1RCPn\" title=\"show this lexeme in SHEBANQ\">רֶ֖שֶׁף </a></div>\n",
       "<div class=\"features\"> <span class=\"pdp\"><a href=\"https://shebanq.ancient-data.org/hebrew/text?book=Deuteronomium&chapter=32&verse=24&version=c&mr=m&qw=q&tp=txt_p&tr=hb&wget=v&qget=v&nget=vt\" title=\"Deuteronomy 32:24\" sec=\"Deuteronomy 32:24\">subs</a></span> <span class=\"gloss\">flame</span></div>\n",
       "\n",
       "\n",
       "</div>\n",
       "\n",
       "<div class=\"word \" style=\"background-color: None;\">\n",
       "<a href=\"#\" class=\"nd\">111760</a>\n",
       "<div class=\"h\"><a target=\"_blank\" href=\"https://shebanq.ancient-data.org/hebrew/word?version=c&id=1W\" title=\"show this lexeme in SHEBANQ\">וְ</a></div>\n",
       "<div class=\"features\"> <span class=\"pdp\"><a href=\"https://shebanq.ancient-data.org/hebrew/text?book=Deuteronomium&chapter=32&verse=24&version=c&mr=m&qw=q&tp=txt_p&tr=hb&wget=v&qget=v&nget=vt\" title=\"Deuteronomy 32:24\" sec=\"Deuteronomy 32:24\">conj</a></span> <span class=\"gloss\">and</span></div>\n",
       "\n",
       "\n",
       "</div>\n",
       "\n",
       "<div class=\"word \" style=\"background-color: None;\">\n",
       "<a href=\"#\" class=\"nd\">111761</a>\n",
       "<div class=\"h\"><a target=\"_blank\" href=\"https://shebanq.ancient-data.org/hebrew/word?version=c&id=1QVBn\" title=\"show this lexeme in SHEBANQ\">קֶ֣טֶב </a></div>\n",
       "<div class=\"features\"> <span class=\"pdp\"><a href=\"https://shebanq.ancient-data.org/hebrew/text?book=Deuteronomium&chapter=32&verse=24&version=c&mr=m&qw=q&tp=txt_p&tr=hb&wget=v&qget=v&nget=vt\" title=\"Deuteronomy 32:24\" sec=\"Deuteronomy 32:24\">subs</a></span> <span class=\"gloss\">sting</span></div>\n",
       "\n",
       "\n",
       "</div>\n",
       "\n",
       "<div class=\"word  hl\">\n",
       "<a href=\"#\" class=\"nd\">111762</a>\n",
       "<div class=\"h\"><a target=\"_blank\" href=\"https://shebanq.ancient-data.org/hebrew/word?version=c&id=1MRJRJn\" title=\"show this lexeme in SHEBANQ\">מְרִירִ֑י </a></div>\n",
       "<div class=\"features\"> <span class=\"pdp\"><a href=\"https://shebanq.ancient-data.org/hebrew/text?book=Deuteronomium&chapter=32&verse=24&version=c&mr=m&qw=q&tp=txt_p&tr=hb&wget=v&qget=v&nget=vt\" title=\"Deuteronomy 32:24\" sec=\"Deuteronomy 32:24\">adjv</a></span> <span class=\"gloss\">bitter</span></div>\n",
       "\n",
       "\n",
       "</div>\n",
       "\n",
       "\n",
       "    </div>\n",
       "\n",
       "\n",
       "</div>\n",
       "\n",
       "\n",
       "</div>\n"
      ],
      "text/plain": [
       "<IPython.core.display.HTML object>"
      ]
     },
     "metadata": {},
     "output_type": "display_data"
    }
   ],
   "source": [
    "adj_atr = \"\"\"\n",
    "\n",
    "phrase_atom typ=AdjP\n",
    "    subphrase rela=atr\n",
    "        word pdp=adjv\n",
    "\n",
    "\"\"\"\n",
    "\n",
    "find_and_show(adj_atr)"
   ]
  },
  {
   "cell_type": "code",
   "execution_count": 38,
   "metadata": {},
   "outputs": [
    {
     "name": "stdout",
     "output_type": "stream",
     "text": [
      "  0.78s 3 results\n",
      "3 results\n"
     ]
    },
    {
     "data": {
      "text/markdown": [
       "\n",
       "\n",
       "**phrase** *1*\n",
       "\n"
      ],
      "text/plain": [
       "<IPython.core.display.Markdown object>"
      ]
     },
     "metadata": {},
     "output_type": "display_data"
    },
    {
     "data": {
      "text/html": [
       "<div class=\"atoms \" style=\"background-color: None;\">\n",
       "<a href=\"#\" class=\"nd\">686718</a>\n",
       "\n",
       "\n",
       "\n",
       "<div class=\"patom  hl\">\n",
       "\n",
       "    <div class=\"phrase\">\n",
       "        <a href=\"https://shebanq.ancient-data.org/hebrew/text?book=Leviticus&chapter=13&verse=43&version=c&mr=m&qw=q&tp=txt_p&tr=hb&wget=v&qget=v&nget=vt\" title=\"Leviticus 13:43\" sec=\"Leviticus 13:43\">phrase</a> <a href=\"#\" class=\"nd\">686718</a>  <span class=\"function\">PreC</span> <span class=\"typ\">AdjP</span>\n",
       "    </div>\n",
       "    <div class=\"atoms\">\n",
       "\n",
       "<div class=\"word \" style=\"background-color: None;\">\n",
       "<a href=\"#\" class=\"nd\">59788</a>\n",
       "<div class=\"h\"><a target=\"_blank\" href=\"https://shebanq.ancient-data.org/hebrew/word?version=c&id=1LBNn\" title=\"show this lexeme in SHEBANQ\">לְבָנָ֣ה </a></div>\n",
       "<div class=\"features\"> <span class=\"pdp\"><a href=\"https://shebanq.ancient-data.org/hebrew/text?book=Leviticus&chapter=13&verse=43&version=c&mr=m&qw=q&tp=txt_p&tr=hb&wget=v&qget=v&nget=vt\" title=\"Leviticus 13:43\" sec=\"Leviticus 13:43\">adjv</a></span> <span class=\"gloss\">white</span></div>\n",
       "\n",
       "\n",
       "</div>\n",
       "\n",
       "<div class=\"word  hl\">\n",
       "<a href=\"#\" class=\"nd\">59789</a>\n",
       "<div class=\"h\"><a target=\"_blank\" href=\"https://shebanq.ancient-data.org/hebrew/word?version=c&id=1ADMDMn\" title=\"show this lexeme in SHEBANQ\">אֲדַמְדֶּ֔מֶת </a></div>\n",
       "<div class=\"features\"> <span class=\"pdp\"><a href=\"https://shebanq.ancient-data.org/hebrew/text?book=Leviticus&chapter=13&verse=43&version=c&mr=m&qw=q&tp=txt_p&tr=hb&wget=v&qget=v&nget=vt\" title=\"Leviticus 13:43\" sec=\"Leviticus 13:43\">adjv</a></span> <span class=\"gloss\">reddish</span></div>\n",
       "\n",
       "\n",
       "</div>\n",
       "\n",
       "\n",
       "    </div>\n",
       "\n",
       "\n",
       "</div>\n",
       "\n",
       "\n",
       "</div>\n"
      ],
      "text/plain": [
       "<IPython.core.display.HTML object>"
      ]
     },
     "metadata": {},
     "output_type": "display_data"
    },
    {
     "data": {
      "text/markdown": [
       "\n",
       "\n",
       "**phrase** *2*\n",
       "\n"
      ],
      "text/plain": [
       "<IPython.core.display.Markdown object>"
      ]
     },
     "metadata": {},
     "output_type": "display_data"
    },
    {
     "data": {
      "text/html": [
       "<div class=\"atoms \" style=\"background-color: None;\">\n",
       "<a href=\"#\" class=\"nd\">853166</a>\n",
       "\n",
       "\n",
       "\n",
       "<div class=\"patom  hl\">\n",
       "\n",
       "    <div class=\"phrase\">\n",
       "        <a href=\"https://shebanq.ancient-data.org/hebrew/text?book=Iob&chapter=1&verse=8&version=c&mr=m&qw=q&tp=txt_p&tr=hb&wget=v&qget=v&nget=vt\" title=\"Job 1:8\" sec=\"Job 1:8\">phrase</a> <a href=\"#\" class=\"nd\">853166</a>  <span class=\"function\">PreC</span> <span class=\"typ\">AdjP</span>\n",
       "    </div>\n",
       "    <div class=\"atoms\">\n",
       "\n",
       "<div class=\"word \" style=\"background-color: None;\">\n",
       "<a href=\"#\" class=\"nd\">336212</a>\n",
       "<div class=\"h\"><a target=\"_blank\" href=\"https://shebanq.ancient-data.org/hebrew/word?version=c&id=1TMn\" title=\"show this lexeme in SHEBANQ\">תָּ֧ם </a></div>\n",
       "<div class=\"features\"> <span class=\"pdp\"><a href=\"https://shebanq.ancient-data.org/hebrew/text?book=Iob&chapter=1&verse=8&version=c&mr=m&qw=q&tp=txt_p&tr=hb&wget=v&qget=v&nget=vt\" title=\"Job 1:8\" sec=\"Job 1:8\">adjv</a></span> <span class=\"gloss\">complete</span></div>\n",
       "\n",
       "\n",
       "</div>\n",
       "\n",
       "<div class=\"word \" style=\"background-color: None;\">\n",
       "<a href=\"#\" class=\"nd\">336213</a>\n",
       "<div class=\"h\"><a target=\"_blank\" href=\"https://shebanq.ancient-data.org/hebrew/word?version=c&id=1W\" title=\"show this lexeme in SHEBANQ\">וְ</a></div>\n",
       "<div class=\"features\"> <span class=\"pdp\"><a href=\"https://shebanq.ancient-data.org/hebrew/text?book=Iob&chapter=1&verse=8&version=c&mr=m&qw=q&tp=txt_p&tr=hb&wget=v&qget=v&nget=vt\" title=\"Job 1:8\" sec=\"Job 1:8\">conj</a></span> <span class=\"gloss\">and</span></div>\n",
       "\n",
       "\n",
       "</div>\n",
       "\n",
       "<div class=\"word \" style=\"background-color: None;\">\n",
       "<a href=\"#\" class=\"nd\">336214</a>\n",
       "<div class=\"h\"><a target=\"_blank\" href=\"https://shebanq.ancient-data.org/hebrew/word?version=c&id=1JCRn\" title=\"show this lexeme in SHEBANQ\">יָשָׁ֛ר </a></div>\n",
       "<div class=\"features\"> <span class=\"pdp\"><a href=\"https://shebanq.ancient-data.org/hebrew/text?book=Iob&chapter=1&verse=8&version=c&mr=m&qw=q&tp=txt_p&tr=hb&wget=v&qget=v&nget=vt\" title=\"Job 1:8\" sec=\"Job 1:8\">adjv</a></span> <span class=\"gloss\">right</span></div>\n",
       "\n",
       "\n",
       "</div>\n",
       "\n",
       "<div class=\"word  hl\">\n",
       "<a href=\"#\" class=\"nd\">336215</a>\n",
       "<div class=\"h\"><a target=\"_blank\" href=\"https://shebanq.ancient-data.org/hebrew/word?version=c&id=1JRAn\" title=\"show this lexeme in SHEBANQ\">יְרֵ֥א </a></div>\n",
       "<div class=\"features\"> <span class=\"pdp\"><a href=\"https://shebanq.ancient-data.org/hebrew/text?book=Iob&chapter=1&verse=8&version=c&mr=m&qw=q&tp=txt_p&tr=hb&wget=v&qget=v&nget=vt\" title=\"Job 1:8\" sec=\"Job 1:8\">adjv</a></span> <span class=\"gloss\">afraid</span></div>\n",
       "\n",
       "\n",
       "</div>\n",
       "\n",
       "<div class=\"word \" style=\"background-color: None;\">\n",
       "<a href=\"#\" class=\"nd\">336216</a>\n",
       "<div class=\"h\"><a target=\"_blank\" href=\"https://shebanq.ancient-data.org/hebrew/word?version=c&id=1ALHJMn\" title=\"show this lexeme in SHEBANQ\">אֱלֹהִ֖ים </a></div>\n",
       "<div class=\"features\"> <span class=\"pdp\"><a href=\"https://shebanq.ancient-data.org/hebrew/text?book=Iob&chapter=1&verse=8&version=c&mr=m&qw=q&tp=txt_p&tr=hb&wget=v&qget=v&nget=vt\" title=\"Job 1:8\" sec=\"Job 1:8\">subs</a></span> <span class=\"gloss\">god(s)</span></div>\n",
       "\n",
       "\n",
       "</div>\n",
       "\n",
       "\n",
       "    </div>\n",
       "\n",
       "\n",
       "</div>\n",
       "\n",
       "\n",
       "</div>\n"
      ],
      "text/plain": [
       "<IPython.core.display.HTML object>"
      ]
     },
     "metadata": {},
     "output_type": "display_data"
    },
    {
     "data": {
      "text/markdown": [
       "\n",
       "\n",
       "**phrase** *3*\n",
       "\n"
      ],
      "text/plain": [
       "<IPython.core.display.Markdown object>"
      ]
     },
     "metadata": {},
     "output_type": "display_data"
    },
    {
     "data": {
      "text/html": [
       "<div class=\"atoms \" style=\"background-color: None;\">\n",
       "<a href=\"#\" class=\"nd\">853425</a>\n",
       "\n",
       "\n",
       "\n",
       "<div class=\"patom  hl\">\n",
       "\n",
       "    <div class=\"phrase\">\n",
       "        <a href=\"https://shebanq.ancient-data.org/hebrew/text?book=Iob&chapter=2&verse=3&version=c&mr=m&qw=q&tp=txt_p&tr=hb&wget=v&qget=v&nget=vt\" title=\"Job 2:3\" sec=\"Job 2:3\">phrase</a> <a href=\"#\" class=\"nd\">853425</a>  <span class=\"function\">PreC</span> <span class=\"typ\">AdjP</span>\n",
       "    </div>\n",
       "    <div class=\"atoms\">\n",
       "\n",
       "<div class=\"word \" style=\"background-color: None;\">\n",
       "<a href=\"#\" class=\"nd\">336595</a>\n",
       "<div class=\"h\"><a target=\"_blank\" href=\"https://shebanq.ancient-data.org/hebrew/word?version=c&id=1TMn\" title=\"show this lexeme in SHEBANQ\">תָּ֧ם </a></div>\n",
       "<div class=\"features\"> <span class=\"pdp\"><a href=\"https://shebanq.ancient-data.org/hebrew/text?book=Iob&chapter=2&verse=3&version=c&mr=m&qw=q&tp=txt_p&tr=hb&wget=v&qget=v&nget=vt\" title=\"Job 2:3\" sec=\"Job 2:3\">adjv</a></span> <span class=\"gloss\">complete</span></div>\n",
       "\n",
       "\n",
       "</div>\n",
       "\n",
       "<div class=\"word \" style=\"background-color: None;\">\n",
       "<a href=\"#\" class=\"nd\">336596</a>\n",
       "<div class=\"h\"><a target=\"_blank\" href=\"https://shebanq.ancient-data.org/hebrew/word?version=c&id=1W\" title=\"show this lexeme in SHEBANQ\">וְ</a></div>\n",
       "<div class=\"features\"> <span class=\"pdp\"><a href=\"https://shebanq.ancient-data.org/hebrew/text?book=Iob&chapter=2&verse=3&version=c&mr=m&qw=q&tp=txt_p&tr=hb&wget=v&qget=v&nget=vt\" title=\"Job 2:3\" sec=\"Job 2:3\">conj</a></span> <span class=\"gloss\">and</span></div>\n",
       "\n",
       "\n",
       "</div>\n",
       "\n",
       "<div class=\"word \" style=\"background-color: None;\">\n",
       "<a href=\"#\" class=\"nd\">336597</a>\n",
       "<div class=\"h\"><a target=\"_blank\" href=\"https://shebanq.ancient-data.org/hebrew/word?version=c&id=1JCRn\" title=\"show this lexeme in SHEBANQ\">יָשָׁ֛ר </a></div>\n",
       "<div class=\"features\"> <span class=\"pdp\"><a href=\"https://shebanq.ancient-data.org/hebrew/text?book=Iob&chapter=2&verse=3&version=c&mr=m&qw=q&tp=txt_p&tr=hb&wget=v&qget=v&nget=vt\" title=\"Job 2:3\" sec=\"Job 2:3\">adjv</a></span> <span class=\"gloss\">right</span></div>\n",
       "\n",
       "\n",
       "</div>\n",
       "\n",
       "<div class=\"word  hl\">\n",
       "<a href=\"#\" class=\"nd\">336598</a>\n",
       "<div class=\"h\"><a target=\"_blank\" href=\"https://shebanq.ancient-data.org/hebrew/word?version=c&id=1JRAn\" title=\"show this lexeme in SHEBANQ\">יְרֵ֥א </a></div>\n",
       "<div class=\"features\"> <span class=\"pdp\"><a href=\"https://shebanq.ancient-data.org/hebrew/text?book=Iob&chapter=2&verse=3&version=c&mr=m&qw=q&tp=txt_p&tr=hb&wget=v&qget=v&nget=vt\" title=\"Job 2:3\" sec=\"Job 2:3\">adjv</a></span> <span class=\"gloss\">afraid</span></div>\n",
       "\n",
       "\n",
       "</div>\n",
       "\n",
       "<div class=\"word \" style=\"background-color: None;\">\n",
       "<a href=\"#\" class=\"nd\">336599</a>\n",
       "<div class=\"h\"><a target=\"_blank\" href=\"https://shebanq.ancient-data.org/hebrew/word?version=c&id=1ALHJMn\" title=\"show this lexeme in SHEBANQ\">אֱלֹהִ֖ים </a></div>\n",
       "<div class=\"features\"> <span class=\"pdp\"><a href=\"https://shebanq.ancient-data.org/hebrew/text?book=Iob&chapter=2&verse=3&version=c&mr=m&qw=q&tp=txt_p&tr=hb&wget=v&qget=v&nget=vt\" title=\"Job 2:3\" sec=\"Job 2:3\">subs</a></span> <span class=\"gloss\">god(s)</span></div>\n",
       "\n",
       "\n",
       "</div>\n",
       "\n",
       "\n",
       "    </div>\n",
       "\n",
       "\n",
       "</div>\n",
       "\n",
       "\n",
       "</div>\n"
      ],
      "text/plain": [
       "<IPython.core.display.HTML object>"
      ]
     },
     "metadata": {},
     "output_type": "display_data"
    }
   ],
   "source": [
    "adj_adj = \"\"\"\n",
    "\n",
    "phrase_atom typ=AdjP\n",
    "    subphrase rela=adj\n",
    "        word pdp=adjv\n",
    "\n",
    "\"\"\"\n",
    "\n",
    "find_and_show(adj_adj)"
   ]
  },
  {
   "cell_type": "code",
   "execution_count": 39,
   "metadata": {},
   "outputs": [
    {
     "name": "stdout",
     "output_type": "stream",
     "text": [
      "  0.83s 1 result\n",
      "1 results\n"
     ]
    },
    {
     "data": {
      "text/markdown": [
       "\n",
       "\n",
       "**phrase** *1*\n",
       "\n"
      ],
      "text/plain": [
       "<IPython.core.display.Markdown object>"
      ]
     },
     "metadata": {},
     "output_type": "display_data"
    },
    {
     "data": {
      "text/html": [
       "<div class=\"atoms \" style=\"background-color: None;\">\n",
       "<a href=\"#\" class=\"nd\">715006</a>\n",
       "\n",
       "\n",
       "\n",
       "<div class=\"patom  hl\">\n",
       "\n",
       "    <div class=\"phrase\">\n",
       "        <a href=\"https://shebanq.ancient-data.org/hebrew/text?book=Deuteronomium&chapter=32&verse=24&version=c&mr=m&qw=q&tp=txt_p&tr=hb&wget=v&qget=v&nget=vt\" title=\"Deuteronomy 32:24\" sec=\"Deuteronomy 32:24\">phrase</a> <a href=\"#\" class=\"nd\">715006</a>  <span class=\"function\">PreC</span> <span class=\"typ\">AdjP</span>\n",
       "    </div>\n",
       "    <div class=\"atoms\">\n",
       "\n",
       "<div class=\"word \" style=\"background-color: None;\">\n",
       "<a href=\"#\" class=\"nd\">111758</a>\n",
       "<div class=\"h\"><a target=\"_blank\" href=\"https://shebanq.ancient-data.org/hebrew/word?version=c&id=1LXMiv\" title=\"show this lexeme in SHEBANQ\">לְחֻ֥מֵי </a></div>\n",
       "<div class=\"features\"> <span class=\"pdp\"><a href=\"https://shebanq.ancient-data.org/hebrew/text?book=Deuteronomium&chapter=32&verse=24&version=c&mr=m&qw=q&tp=txt_p&tr=hb&wget=v&qget=v&nget=vt\" title=\"Deuteronomy 32:24\" sec=\"Deuteronomy 32:24\">adjv</a></span> <span class=\"gloss\">feed</span> <span class=\"vs\">qal</span> <span class=\"vt\">ptcp</span></div>\n",
       "\n",
       "\n",
       "</div>\n",
       "\n",
       "<div class=\"word \" style=\"background-color: None;\">\n",
       "<a href=\"#\" class=\"nd\">111759</a>\n",
       "<div class=\"h\"><a target=\"_blank\" href=\"https://shebanq.ancient-data.org/hebrew/word?version=c&id=1RCPn\" title=\"show this lexeme in SHEBANQ\">רֶ֖שֶׁף </a></div>\n",
       "<div class=\"features\"> <span class=\"pdp\"><a href=\"https://shebanq.ancient-data.org/hebrew/text?book=Deuteronomium&chapter=32&verse=24&version=c&mr=m&qw=q&tp=txt_p&tr=hb&wget=v&qget=v&nget=vt\" title=\"Deuteronomy 32:24\" sec=\"Deuteronomy 32:24\">subs</a></span> <span class=\"gloss\">flame</span></div>\n",
       "\n",
       "\n",
       "</div>\n",
       "\n",
       "<div class=\"word \" style=\"background-color: None;\">\n",
       "<a href=\"#\" class=\"nd\">111760</a>\n",
       "<div class=\"h\"><a target=\"_blank\" href=\"https://shebanq.ancient-data.org/hebrew/word?version=c&id=1W\" title=\"show this lexeme in SHEBANQ\">וְ</a></div>\n",
       "<div class=\"features\"> <span class=\"pdp\"><a href=\"https://shebanq.ancient-data.org/hebrew/text?book=Deuteronomium&chapter=32&verse=24&version=c&mr=m&qw=q&tp=txt_p&tr=hb&wget=v&qget=v&nget=vt\" title=\"Deuteronomy 32:24\" sec=\"Deuteronomy 32:24\">conj</a></span> <span class=\"gloss\">and</span></div>\n",
       "\n",
       "\n",
       "</div>\n",
       "\n",
       "<div class=\"word \" style=\"background-color: None;\">\n",
       "<a href=\"#\" class=\"nd\">111761</a>\n",
       "<div class=\"h\"><a target=\"_blank\" href=\"https://shebanq.ancient-data.org/hebrew/word?version=c&id=1QVBn\" title=\"show this lexeme in SHEBANQ\">קֶ֣טֶב </a></div>\n",
       "<div class=\"features\"> <span class=\"pdp\"><a href=\"https://shebanq.ancient-data.org/hebrew/text?book=Deuteronomium&chapter=32&verse=24&version=c&mr=m&qw=q&tp=txt_p&tr=hb&wget=v&qget=v&nget=vt\" title=\"Deuteronomy 32:24\" sec=\"Deuteronomy 32:24\">subs</a></span> <span class=\"gloss\">sting</span></div>\n",
       "\n",
       "\n",
       "</div>\n",
       "\n",
       "<div class=\"word  hl\">\n",
       "<a href=\"#\" class=\"nd\">111762</a>\n",
       "<div class=\"h\"><a target=\"_blank\" href=\"https://shebanq.ancient-data.org/hebrew/word?version=c&id=1MRJRJn\" title=\"show this lexeme in SHEBANQ\">מְרִירִ֑י </a></div>\n",
       "<div class=\"features\"> <span class=\"pdp\"><a href=\"https://shebanq.ancient-data.org/hebrew/text?book=Deuteronomium&chapter=32&verse=24&version=c&mr=m&qw=q&tp=txt_p&tr=hb&wget=v&qget=v&nget=vt\" title=\"Deuteronomy 32:24\" sec=\"Deuteronomy 32:24\">adjv</a></span> <span class=\"gloss\">bitter</span></div>\n",
       "\n",
       "\n",
       "</div>\n",
       "\n",
       "\n",
       "    </div>\n",
       "\n",
       "\n",
       "</div>\n",
       "\n",
       "\n",
       "</div>\n"
      ],
      "text/plain": [
       "<IPython.core.display.HTML object>"
      ]
     },
     "metadata": {},
     "output_type": "display_data"
    }
   ],
   "source": [
    "adj_rec = \"\"\"\n",
    "\n",
    "phrase_atom typ=AdjP\n",
    "    subphrase rela=rec\n",
    "        word pdp=adjv\n",
    "\n",
    "\"\"\"\n",
    "\n",
    "find_and_show(adj_rec)"
   ]
  },
  {
   "cell_type": "markdown",
   "metadata": {},
   "source": [
    "The results for the three searches above show indeed that the relations of `atr`, `adj`, and `rec` are not head words."
   ]
  },
  {
   "cell_type": "markdown",
   "metadata": {},
   "source": [
    "### Tests for phrase types without a word that has a valid `pdp` value\n",
    "\n",
    "The initial survey above revealed that 837 phrase atoms and 670 phrases lack a word with a corresponding `pdp` value. Here we investigate to see why that is the case. Is there a way to compensate for this problem? Are these truly phrases that lack heads?\n",
    "\n",
    "We run another survey and count the phrase types against the non-matching `pdp` values found within them. At this point, we must also exclude words that have dependent relations (as defined above, subphrase values of NA or parallel)."
   ]
  },
  {
   "cell_type": "code",
   "execution_count": 49,
   "metadata": {},
   "outputs": [
    {
     "name": "stdout",
     "output_type": "stream",
     "text": [
      "AdvP\n",
      "\t nmpr - 253\n",
      "\t subs - 499\n",
      "\t art - 190\n",
      "\t conj - 13\n",
      "PrNP\n",
      "\t subs - 9\n",
      "\t art - 3\n",
      "CP\n",
      "\t prep - 85\n",
      "\t subs - 79\n",
      "\t advb - 6\n",
      "NP\n",
      "\t intj - 1\n"
     ]
    }
   ],
   "source": [
    "count_no_pdp = collections.defaultdict(lambda: collections.Counter())\n",
    "record_no_pdp = collections.defaultdict(lambda: collections.defaultdict(list))\n",
    "\n",
    "for phrase in F.otype.s(\"phrase_atom\"):\n",
    "\n",
    "    typ = F.typ.v(phrase)\n",
    "\n",
    "    # see if there is not corresponding `pdp` value\n",
    "    corres_pdp = type_to_pdp[typ]\n",
    "    corresponding_pdps = [w for w in L.d(phrase, \"word\") if F.pdp.v(w) == corres_pdp]\n",
    "\n",
    "    if not corresponding_pdps:\n",
    "\n",
    "        # put potential heads here\n",
    "        maybe_heads = []\n",
    "\n",
    "        # calculate subphrase relations\n",
    "        for word in L.d(phrase, \"word\"):\n",
    "\n",
    "            # get subphrase relations\n",
    "            word_subphrs = L.u(word, \"subphrase\")\n",
    "            sp_relas = set(F.rela.v(sp) for sp in word_subphrs) or {\"NA\"}\n",
    "\n",
    "            # check subphrase relations for independence\n",
    "            if sp_relas == {\"NA\"}:\n",
    "                maybe_heads.append(word)\n",
    "\n",
    "            # test parallel relation for independence\n",
    "            elif sp_relas == {\"NA\", \"par\"} or sp_relas == {\"par\"}:\n",
    "\n",
    "                # check for good, head mothers\n",
    "                good_mothers = set(\n",
    "                    sp for w in maybe_heads for sp in L.u(w, \"subphrase\")\n",
    "                )\n",
    "                this_daughter = [sp for sp in word_subphrs if F.rela.v(sp) == \"par\"][0]\n",
    "                this_mother = E.mother.f(this_daughter)\n",
    "\n",
    "                if this_mother in good_mothers:\n",
    "                    maybe_heads.append(word)\n",
    "\n",
    "        # sanity check\n",
    "        # maybe_heads should have SOMETHING\n",
    "        if not maybe_heads:\n",
    "            raise Exception(f\"phrase {phrase} looks HEADLESS!\")\n",
    "\n",
    "        # count pdp types\n",
    "        head_pdps = [F.pdp.v(w) for w in maybe_heads]\n",
    "        count_no_pdp[typ].update(head_pdps)\n",
    "\n",
    "        # save for examination\n",
    "        for word in maybe_heads:\n",
    "            record_no_pdp[typ][F.pdp.v(word)].append((phrase, word))\n",
    "\n",
    "for name, counts in count_no_pdp.items():\n",
    "\n",
    "    print(name)\n",
    "\n",
    "    for pdp, count in counts.items():\n",
    "        print(\"\\t\", pdp, \"-\", count)"
   ]
  },
  {
   "cell_type": "markdown",
   "metadata": {},
   "source": [
    "These results are a bit puzzling. The numbers here are words within the phrase atoms that have NO subphrase relations. That means, for example, words such as הַ \"the\" do not appear to have any subphrase relation to their modified nouns. That again illustrates the shortcoming of the ETCBC data in this respect. There should be a relation from the article to the determined noun.\n",
    "\n",
    "From this point forward, I will begin working through all four phrase types and the cases reflected in the survey.\n",
    "\n",
    "Beginning with the `AdvP` type and the article. Upon some initial inspection, I've found that in many of the `AdvP` with the article, there is also a substantive (`subs`) that was found by the search. Are there any cases where there is no `nmpr` or `subs` found alongside the article? We can use the dict `record_no_pdp` which has recorded all cases reflected in the survey. Below I look to see if all 190 cases of an article in these `AdvP` phrases also has a corresponding noun."
   ]
  },
  {
   "cell_type": "code",
   "execution_count": 50,
   "metadata": {},
   "outputs": [
    {
     "name": "stdout",
     "output_type": "stream",
     "text": [
      "0 without nouns found...\n"
     ]
    }
   ],
   "source": [
    "no_noun = []\n",
    "\n",
    "for phrase in record_no_pdp[\"AdvP\"][\"art\"]:\n",
    "\n",
    "    pdps = set(F.pdp.v(w) for w in L.d(phrase[0], \"word\"))\n",
    "\n",
    "    if not {\"nmpr\", \"subs\"} & pdps:\n",
    "        no_noun.append((phrase,))\n",
    "\n",
    "print(len(no_noun), \"without nouns found...\")"
   ]
  },
  {
   "cell_type": "markdown",
   "metadata": {},
   "source": [
    "There it is. So all cases of these articles can be discarded. In these cases, the noun serves as the head of the adverbial phrase. An example of this is when the noun marks the location of the action (hence adverb).\n",
    "\n",
    "Next, we check the conjunctions found in the adverbial phrases. Are any of those heads?"
   ]
  },
  {
   "cell_type": "code",
   "execution_count": 51,
   "metadata": {},
   "outputs": [],
   "source": [
    "# B.show(record_no_pdp['AdvP']['conj']) # uncomment me!"
   ]
  },
  {
   "cell_type": "markdown",
   "metadata": {},
   "source": [
    "All conjunctions in these `AdvP` phrases function to mark coordinate elements (only ו in these results). They can also be discarded as not possible heads.\n",
    "\n",
    "Now we investigate the `PrNP` results with `subs` and `art`..."
   ]
  },
  {
   "cell_type": "code",
   "execution_count": 52,
   "metadata": {},
   "outputs": [],
   "source": [
    "# B.show(record_no_pdp['PrNP']['subs']) # uncomment me!"
   ]
  },
  {
   "cell_type": "code",
   "execution_count": 53,
   "metadata": {},
   "outputs": [],
   "source": [
    "# B.show(record_no_pdp['PrNP']['art']) # uncomment me!"
   ]
  },
  {
   "cell_type": "markdown",
   "metadata": {},
   "source": [
    "The `art` relations reflected in the second search are not heads, but are all related to a substantive. All of the results in `subs` are heads. Thus, the only acceptable `pdp` for `PrNP` besides a proper noun is `subs`.\n",
    "\n",
    "Now we dig into `CP` results. 85 of them have no `pdp` of conjunction, but have a preposition instead. Let's see what's going on..."
   ]
  },
  {
   "cell_type": "code",
   "execution_count": 54,
   "metadata": {},
   "outputs": [],
   "source": [
    "# B.show(record_no_pdp['CP']['prep'][:20]) # uncomment me!"
   ]
  },
  {
   "cell_type": "markdown",
   "metadata": {},
   "source": [
    "These are very interesting results. These conjunction phrases are made up of constructions like ב+עבור and ב+טרם. Together these words function as a conjunction, but alone they are prepositions and particles. Is it even possible in this case to say that there is a \"head\"?\n",
    "\n",
    "It could be said that these combinations of words mean more than the sum of their parts; they are good examples of constructions, i.e. combinations of words whose meaning cannot be inferred simply from their individual words. Constructions illustrate the vague boundary between syntax and lexicon (cf. e.g. Goldberg, 1995, *Constructions*).\n",
    "\n",
    "While these words are indeed marked as conjunction phrases, it is better in this case to analyse them as prepositional phrases (which they also are...this is another shortcoming of our data, or perhaps a mistake??). Thus, the head is the preposition, not the prepositional object.\n",
    "\n",
    "We should expect that the remaining `subs` and `advb` groups are in fact the objects of those prepositions (and hence excluded). Let's test that assumption by looking for a preposition behind these words..."
   ]
  },
  {
   "cell_type": "code",
   "execution_count": 55,
   "metadata": {},
   "outputs": [
    {
     "name": "stdout",
     "output_type": "stream",
     "text": [
      "subs|advb with no preceding prepositions: 0\n"
     ]
    }
   ],
   "source": [
    "no_prep = []\n",
    "\n",
    "for (phrase, word) in record_no_pdp[\"CP\"][\"subs\"] + record_no_pdp[\"CP\"][\"advb\"]:\n",
    "\n",
    "    possible_prep = word - 1\n",
    "\n",
    "    if F.sp.v(possible_prep) != \"prep\":\n",
    "        no_prep.append((phrase, word))\n",
    "\n",
    "print(f\"subs|advb with no preceding prepositions: {len(no_prep)}\")"
   ]
  },
  {
   "cell_type": "markdown",
   "metadata": {},
   "source": [
    "Here we see. We can confirm that none of the nouns or adverbs will be the head of a conjunction phrase. A preposition is the only other kind of head for the `CP` besides a conjunction itself.\n",
    "\n",
    "Finally, we're left with a last noun phrase (`NP`) for which no matching noun was found. The search found instead both `adjv` (adjective) and a `intj` (interjection). Let's see it."
   ]
  },
  {
   "cell_type": "code",
   "execution_count": 56,
   "metadata": {},
   "outputs": [],
   "source": [
    "# B.show(record_no_pdp['NP']['intj']) # uncomment me"
   ]
  },
  {
   "cell_type": "markdown",
   "metadata": {},
   "source": [
    "In this case, the word אוי \"woe\" functions like a noun. This thus appears to be another mislabelled `pdp` value, since it should read `subs`. This, like the previous example, will not receive a head value due to the mistake."
   ]
  },
  {
   "cell_type": "markdown",
   "metadata": {},
   "source": [
    "### Retrieving Quantified Words\n",
    "\n",
    "When the heads algorithm looks for a noun without any subphrase relations in the phrase, it will often return a quantifier noun such as a number, e.g. שבעה \"seven\", or such as another descriptor like כל. But these words function semantically in a more descriptive role than a head role. Thus, we want our algorithm to isolate quantified nouns from their quantifiers. To do that means we must first know how the ETCBC encodes the relationship between a quantifier and the quantified noun.\n",
    "\n",
    "In a previous algorithm used for quantified extraction, we looked for a nomen regens relation on the quantifier and located the noun within the related subphrase. This approach works well for the quantifier כל. But for cardinal numbers, the relation `adj` (adjunct) is often used as well (as seen in the surveys below).\n",
    "\n",
    "To illustrate with the search below, the quantifier שבעה \"seven\" has no nomen regens relation:"
   ]
  },
  {
   "cell_type": "code",
   "execution_count": 57,
   "metadata": {},
   "outputs": [],
   "source": [
    "# B.show([(2217,)]) # uncomment me!"
   ]
  },
  {
   "cell_type": "markdown",
   "metadata": {},
   "source": [
    "Rather than reflecting a regen/rectum relation, the second word שנים \"years,\" the quantified noun, has a subphrase relation of `adj` \"adjunct\":"
   ]
  },
  {
   "cell_type": "code",
   "execution_count": 58,
   "metadata": {},
   "outputs": [
    {
     "name": "stdout",
     "output_type": "stream",
     "text": [
      "שֶׁ֣בַע שָׁנִ֔ים וּשְׁמֹנֶ֥ה מֵאֹ֖ות שָׁנָ֑ה \n",
      "\n",
      "1301096 (subphrase)\n",
      "\t שָׁנִ֔ים \n",
      "\t rela: adj\n",
      "\n",
      "1301097 (subphrase)\n",
      "\t שֶׁ֣בַע שָׁנִ֔ים \n",
      "\t rela: NA\n",
      "\n"
     ]
    }
   ],
   "source": [
    "print(T.text(L.d(652883, \"word\")))\n",
    "print()\n",
    "\n",
    "for sp in L.u(2218, \"subphrase\"):  # subphrases belonging to \"years\"\n",
    "    print(sp, \"(subphrase)\")\n",
    "    print(\"\\t\", T.text(L.d(sp, \"word\")))\n",
    "    print(\"\\t\", \"rela:\", F.rela.v(sp))\n",
    "    print()"
   ]
  },
  {
   "cell_type": "markdown",
   "metadata": {},
   "source": [
    "Let's see what other kinds of subphrase relations are reflected by quantifieds.\n",
    "\n",
    "Below we make a survey of all mother-daughter relations between a quantifier subphrase and its daughters. The goal is to isolate those relationships which contain the quantified noun. We work through examples to get an idea of the meaning of the features. And we write a few TF search queries further below to confirm hypotheses about these relationships."
   ]
  },
  {
   "cell_type": "code",
   "execution_count": 59,
   "metadata": {},
   "outputs": [
    {
     "name": "stdout",
     "output_type": "stream",
     "text": [
      ">XD/\n",
      "\t par - 62\n",
      "\t adj - 42\n",
      "\t rec - 69\n",
      "\t Appo - 1\n",
      "\t Spec - 6\n",
      "\t atr - 8\n",
      "\t mod - 4\n",
      "CNJM/\n",
      "\t rec - 345\n",
      "\t adj - 267\n",
      "\t par - 109\n",
      "\t mod - 14\n",
      "\t atr - 5\n",
      "\t Spec - 6\n",
      "\t dem - 3\n",
      "\t Sfxs - 1\n",
      ">RB</\n",
      "\t adj - 285\n",
      "\t par - 100\n",
      "\t rec - 113\n",
      "\t atr - 8\n",
      "\t Spec - 1\n",
      "\t mod - 1\n",
      "CB</\n",
      "\t par - 87\n",
      "\t adj - 268\n",
      "\t rec - 169\n",
      "\t mod - 1\n",
      "\t dem - 1\n",
      "\t atr - 23\n",
      "\t Spec - 4\n",
      "CLC/\n",
      "\t par - 148\n",
      "\t adj - 331\n",
      "\t rec - 175\n",
      "\t atr - 4\n",
      "\t dem - 1\n",
      "\t Spec - 1\n",
      "M>H/\n",
      "\t rec - 30\n",
      "\t adj - 302\n",
      "\t par - 217\n",
      "\t atr - 2\n",
      "CMNH/\n",
      "\t adj - 128\n",
      "\t par - 28\n",
      "\t rec - 8\n",
      "\t mod - 1\n",
      "TC</\n",
      "\t adj - 46\n",
      "\t par - 43\n",
      "\t rec - 22\n",
      "XMC/\n",
      "\t adj - 282\n",
      "\t par - 175\n",
      "\t rec - 96\n",
      "\t mod - 1\n",
      "\t Attr - 1\n",
      "\t atr - 4\n",
      "\t Spec - 2\n",
      "<FRH/\n",
      "\t adj - 96\n",
      "\t par - 16\n",
      "\t Spec - 1\n",
      "<FR=/\n",
      "\t adj - 11\n",
      "\t par - 6\n",
      "\t rec - 30\n",
      "CC/\n",
      "\t adj - 176\n",
      "\t par - 75\n",
      "\t rec - 103\n",
      "\t atr - 4\n",
      "<FRJM/\n",
      "\t adj - 209\n",
      "\t par - 149\n",
      "\t Spec - 1\n",
      "<FR/\n",
      "\t adj - 97\n",
      "\t par - 12\n",
      "\t mod - 2\n",
      "\t atr - 6\n",
      "\t rec - 2\n",
      "\t Spec - 2\n",
      "<FRH=/\n",
      "\t adj - 52\n",
      "\t rec - 49\n",
      "\t par - 10\n",
      "\t dem - 2\n",
      "\t Spec - 1\n",
      ">LP=/\n",
      "\t adj - 143\n",
      "\t rec - 33\n",
      "\t par - 198\n",
      "\t Spec - 1\n",
      "\t atr - 2\n",
      "<CTJ/\n",
      "\t adj - 13\n",
      "\t rec - 19\n",
      "\t par - 1\n",
      "RBW>/\n",
      "\t adj - 3\n",
      "\t par - 3\n",
      "XD/\n",
      "\t atr - 1\n",
      "\t Spec - 2\n",
      "CTJN/\n",
      "\t par - 1\n",
      "CT/\n",
      "TLT/\n",
      "\t adj - 2\n",
      "TRJN/\n",
      "\t rec - 2\n",
      ">LP/\n",
      "\t rec - 1\n",
      "<FRJN/\n",
      "TLTJN/\n"
     ]
    }
   ],
   "source": [
    "quant_relas = collections.defaultdict(lambda: collections.Counter())\n",
    "quant_ex = collections.defaultdict(lambda: collections.defaultdict(list))\n",
    "quants = [word for lex in F.ls.s(\"card\") for word in L.d(lex, \"word\")]\n",
    "\n",
    "for word in quants:\n",
    "\n",
    "    subphrases = L.u(word, \"subphrase\")\n",
    "    sp_daughters = [E.mother.t(sp) for sp in subphrases if E.mother.t(sp)]\n",
    "    sp_daughters += [E.mother.t(word)] if E.mother.t(word) else list()\n",
    "    sp_relas = [F.rela.v(sp[0]) for sp in sp_daughters]\n",
    "    quant_relas[F.lex.v(word)].update(sp_relas)\n",
    "\n",
    "    for rela in sp_relas:\n",
    "        quant_ex[F.lex.v(word)][rela].append((L.u(word, \"phrase\")[0], word))\n",
    "\n",
    "for name, counts in quant_relas.items():\n",
    "\n",
    "    print(name)\n",
    "\n",
    "    for pdp, count in counts.items():\n",
    "        print(\"\\t\", pdp, \"-\", count)"
   ]
  },
  {
   "cell_type": "markdown",
   "metadata": {},
   "source": [
    "Based on the inspection below, it can be seen that quantified nouns are connected to their quantifier via a subphrase relation of either `adj` (adjunctive) or `rec` (regens), as mentioned at the beginning of this inquiry."
   ]
  },
  {
   "cell_type": "code",
   "execution_count": 60,
   "metadata": {},
   "outputs": [],
   "source": [
    "# B.show(quant_ex['CB</']['rec']) # uncomment me!"
   ]
  },
  {
   "cell_type": "markdown",
   "metadata": {},
   "source": [
    "The query below shows that the relation `par` most frequently refers to a parallel number, e.g. שבעים ושבעה \"seventy and seven\" where \"and seven\" is in a parallel relationship."
   ]
  },
  {
   "cell_type": "code",
   "execution_count": 61,
   "metadata": {},
   "outputs": [],
   "source": [
    "# B.show(quant_ex['CB</']['par']) # uncomment me!"
   ]
  },
  {
   "cell_type": "markdown",
   "metadata": {},
   "source": [
    "The `atr` relation appears when an adjective is used to describe a quantifier:"
   ]
  },
  {
   "cell_type": "code",
   "execution_count": 62,
   "metadata": {},
   "outputs": [],
   "source": [
    "# B.show(quant_ex['>XD/']['atr']) # uncomment me!"
   ]
  },
  {
   "cell_type": "markdown",
   "metadata": {},
   "source": [
    "The `Spec` (`phrase_atom` `rela`) are cases where a phrase atom is used to add adjectival information about the quantifier."
   ]
  },
  {
   "cell_type": "code",
   "execution_count": 63,
   "metadata": {},
   "outputs": [],
   "source": [
    "# B.show(quant_ex['>XD/']['Spec']) # uncomment me!"
   ]
  },
  {
   "cell_type": "markdown",
   "metadata": {},
   "source": [
    "The `mod` relation are cases where the quantifier is modified with particles like גם or רק"
   ]
  },
  {
   "cell_type": "code",
   "execution_count": 64,
   "metadata": {},
   "outputs": [],
   "source": [
    "# B.show(quant_ex['CNJM/']['mod']) # uncomment me!"
   ]
  },
  {
   "cell_type": "markdown",
   "metadata": {},
   "source": [
    "The `dem` relation is when a demonstrative like אלה modifies the quantifier."
   ]
  },
  {
   "cell_type": "code",
   "execution_count": 65,
   "metadata": {},
   "outputs": [],
   "source": [
    "# B.show(quant_ex['CB</']['dem']) # uncomment me!"
   ]
  },
  {
   "cell_type": "markdown",
   "metadata": {},
   "source": [
    "Based on the analysis up to this point, there are two kinds of relations which lead back to the quantified noun: the `rec` (regens) and `adj` (adjunct) relations. What about in cases where both of these relations are present? Is there ever a case where it is ambiguous which relation contains the quantified noun?\n",
    "\n",
    "We use a TF search pattern to build a query for these cases. We look for cases that have three subphrases. The first has a word (`w1`) which is also contained in a lex object (second to bottom block) that has a `ls` (lexical set) value of `card` (cardinal number). Then we look for two other subphrases that have a relation either to the first subphrase (in the case of `rela=adj`) or the quantifier word contained in the first subphrase (in the case of a regens relation). Within `sp2` and `sp3`, we also select the first word so we can highlight it in the `B.show` below."
   ]
  },
  {
   "cell_type": "code",
   "execution_count": 66,
   "metadata": {},
   "outputs": [
    {
     "data": {
      "text/plain": [
       "245"
      ]
     },
     "execution_count": 66,
     "metadata": {},
     "output_type": "execute_result"
    }
   ],
   "source": [
    "quant_rec_adj = \"\"\"\n",
    "\n",
    "sp1:subphrase\n",
    "    w1:word\n",
    "\n",
    "sp2:subphrase rela=rec\n",
    "    =: word\n",
    "\n",
    "sp3:subphrase rela=adj\n",
    "    =: word\n",
    "\n",
    "lex ls=card\n",
    "   w2:word\n",
    "   \n",
    "w1 = w2\n",
    "w1 <mother- sp2\n",
    "sp1 <mother- sp3\n",
    "\n",
    "sp2 <: sp3\n",
    "\"\"\"\n",
    "\n",
    "quant_rec_adj = B.search(quant_rec_adj)\n",
    "\n",
    "len(quant_rec_adj)"
   ]
  },
  {
   "cell_type": "code",
   "execution_count": 67,
   "metadata": {},
   "outputs": [],
   "source": [
    "# B.show(sorted(quant_rec_adj)) # uncomment me!"
   ]
  },
  {
   "cell_type": "markdown",
   "metadata": {},
   "source": [
    "There are 245 cases with both relations. Based on inspection, it seems that the word in the `rec` relation is usually another quantifier. Are there cases where it is not?\n",
    "\n",
    "We apply a filter with a list comprehension to the results below to filter out cases where there is a cardinal number in `sp2`."
   ]
  },
  {
   "cell_type": "code",
   "execution_count": 68,
   "metadata": {},
   "outputs": [
    {
     "data": {
      "text/plain": [
       "5"
      ]
     },
     "execution_count": 68,
     "metadata": {},
     "output_type": "execute_result"
    }
   ],
   "source": [
    "non_card = [r for r in quant_rec_adj if F.ls.v(L.u(r[3], \"lex\")[0]) != \"card\"]\n",
    "\n",
    "len(non_card)"
   ]
  },
  {
   "cell_type": "code",
   "execution_count": 69,
   "metadata": {},
   "outputs": [],
   "source": [
    "# B.show(non_card) # uncomment me!"
   ]
  },
  {
   "cell_type": "markdown",
   "metadata": {},
   "source": [
    "The example below illustrates a complexity here. We iterate through every subphrase in one of the phrases from the result above. We print the subphrase number, the text, the relation, and the number of the subphrase mother..."
   ]
  },
  {
   "cell_type": "code",
   "execution_count": 70,
   "metadata": {},
   "outputs": [
    {
     "name": "stdout",
     "output_type": "stream",
     "text": [
      "subphrase \ttext \trelation \tmother\n",
      "שְׁתֵּֽי־צִפֳּרִ֥ים חַיֹּ֖ות טְהֹרֹ֑ות  1316539 NA ()\n",
      "שְׁתֵּֽי־צִפֳּרִ֥ים  1316535 NA ()\n",
      "שְׁתֵּֽי־ 1316533 NA ()\n",
      "צִפֳּרִ֥ים  1316534 rec (60261,)\n",
      "חַיֹּ֖ות טְהֹרֹ֑ות  1316538 adj (1316535,)\n",
      "חַיֹּ֖ות  1316536 NA ()\n",
      "טְהֹרֹ֑ות  1316537 atr (1316536,)\n",
      "עֵ֣ץ אֶ֔רֶז  1316542 par (1316539,)\n",
      "עֵ֣ץ אֶ֔רֶז  1316543 NA ()\n",
      "עֵ֣ץ  1316540 NA ()\n",
      "אֶ֔רֶז  1316541 rec (60266,)\n",
      "שְׁנִ֥י תֹולַ֖עַת  1316546 par (1316543,)\n",
      "שְׁנִ֥י תֹולַ֖עַת  1316547 NA ()\n",
      "שְׁנִ֥י  1316544 NA ()\n",
      "תֹולַ֖עַת  1316545 rec (60269,)\n",
      "אֵזֹֽב׃  1316548 par (1316547,)\n"
     ]
    }
   ],
   "source": [
    "show_subphrases(686936)"
   ]
  },
  {
   "cell_type": "markdown",
   "metadata": {},
   "source": [
    "In the example of שְׁתֵּֽי־צִפֳּרִ֥ים \"two [of] birds\" there are is a `rec` relation between two and birds. Then there is an adjunct relation, `adj`, further describing the whole subphrase \"two birds\": חַיֹּ֖ות טְהֹרֹ֑ות \"pure beasts\". In this case, it is the `rec` relation which is the valid head, while \"pure beasts\" is a secondary description. This example illustrates that there should be a priority for the `rec` relationship."
   ]
  },
  {
   "cell_type": "code",
   "execution_count": 71,
   "metadata": {},
   "outputs": [
    {
     "name": "stdout",
     "output_type": "stream",
     "text": [
      "subphrase \ttext \trelation \tmother\n",
      "שְׁתֵּי֙ הָעֲבֹתֹ֣ת  1314251 NA ()\n",
      "שְׁתֵּי֙  1314249 NA ()\n",
      "הָעֲבֹתֹ֣ת  1314250 rec (51341,)\n",
      "הַזָּהָ֔ב  1314252 adj (1314251,)\n"
     ]
    }
   ],
   "source": [
    "show_subphrases(682231)"
   ]
  },
  {
   "cell_type": "markdown",
   "metadata": {},
   "source": [
    "This other example shows the same inner-structure, as do the other 3 that we've manually inspected. This confirms indeed that priority should be given when a noun is found in the `rec` relation. Afterwards, the `adj` relation is checked.\n",
    "\n",
    "\n",
    "Finally, we want to test that there always is a quantified noun in the `adj` relation. Are there other cases, based on the findings above, where the `adj` relation does not actually contain the quantified nouns? We create a looser query than the one above to cover all cases of the `adj` relation. Then we filter the results..."
   ]
  },
  {
   "cell_type": "code",
   "execution_count": 72,
   "metadata": {},
   "outputs": [
    {
     "data": {
      "text/plain": [
       "77"
      ]
     },
     "execution_count": 72,
     "metadata": {},
     "output_type": "execute_result"
    }
   ],
   "source": [
    "no_quants_adj = \"\"\"\n",
    "\n",
    "sp1:subphrase\n",
    "    w1:word\n",
    "\n",
    "sp2:subphrase rela=adj\n",
    "    =: word\n",
    "\n",
    "lex ls=card\n",
    "   w2:word\n",
    "   \n",
    "w1 = w2\n",
    "sp1 <mother- sp2\n",
    "\"\"\"\n",
    "\n",
    "no_quants_adj = sorted(B.search(no_quants_adj))\n",
    "no_quants_adj = [r for r in no_quants_adj if F.pdp.v(r[3]) not in {\"subs\", \"nmpr\"}]\n",
    "\n",
    "len(no_quants_adj)"
   ]
  },
  {
   "cell_type": "code",
   "execution_count": 73,
   "metadata": {},
   "outputs": [],
   "source": [
    "# B.show(no_quants_adj[:10]) # uncomment me"
   ]
  },
  {
   "cell_type": "markdown",
   "metadata": {},
   "source": [
    "Many of the cases are due to the presence of an article or a determiner.\n",
    "\n",
    "In one case the noun that is present is a demonstrative pronoun (`prde`) אלה for which there is no further specification. For now we exclude determiners and demonstratives and consider their role afterwards."
   ]
  },
  {
   "cell_type": "code",
   "execution_count": 74,
   "metadata": {},
   "outputs": [
    {
     "data": {
      "text/plain": [
       "25"
      ]
     },
     "execution_count": 74,
     "metadata": {},
     "output_type": "execute_result"
    }
   ],
   "source": [
    "no_quants_adj = [r for r in no_quants_adj if F.pdp.v(r[3]) not in {\"art\", \"prde\"}]\n",
    "\n",
    "len(no_quants_adj)"
   ]
  },
  {
   "cell_type": "code",
   "execution_count": 75,
   "metadata": {},
   "outputs": [],
   "source": [
    "# B.show(sorted(no_quants_adj)) # uncomment me"
   ]
  },
  {
   "cell_type": "markdown",
   "metadata": {},
   "source": [
    "An interesting result occurs in Micah 5:4 where the word in the adjunct position has a `pdp` of `adjv` (adjective) when it should be subs. This is a mistake in the data. In this case, the participle should be nominalised as a `subs`:"
   ]
  },
  {
   "cell_type": "code",
   "execution_count": 76,
   "metadata": {},
   "outputs": [
    {
     "name": "stdout",
     "output_type": "stream",
     "text": [
      "subphrase \ttext \trelation \tmother\n",
      "שִׁבְעָ֣ה רֹעִ֔ים  1379983 NA ()\n",
      "שִׁבְעָ֣ה  1379981 NA ()\n",
      "רֹעִ֔ים  1379982 adj (1379981,)\n",
      "שְׁמֹנָ֖ה נְסִיכֵ֥י אָדָֽם׃  1379988 par (1379983,)\n",
      "שְׁמֹנָ֖ה  1379984 NA ()\n",
      "נְסִיכֵ֥י אָדָֽם׃  1379987 adj (1379984,)\n",
      "נְסִיכֵ֥י  1379985 NA ()\n",
      "אָדָֽם׃  1379986 rec (300679,)\n"
     ]
    }
   ],
   "source": [
    "show_subphrases(829120)"
   ]
  },
  {
   "cell_type": "code",
   "execution_count": 77,
   "metadata": {},
   "outputs": [],
   "source": [
    "# B.show([(829120,)])"
   ]
  },
  {
   "cell_type": "markdown",
   "metadata": {},
   "source": [
    "This case will be excluded from our algorithm due to the mistake.\n",
    "\n",
    "In other cases, the first word in the `adj` related subphrase is used as an adjective in a construct relation:"
   ]
  },
  {
   "cell_type": "code",
   "execution_count": 78,
   "metadata": {},
   "outputs": [
    {
     "name": "stdout",
     "output_type": "stream",
     "text": [
      "subphrase \ttext \trelation \tmother\n",
      "חֲמִשָּׁ֣ה  1342693 NA ()\n",
      "חַלֻּקֵֽי־אֲבָנִ֣ים׀  1342696 adj (1342693,)\n",
      "חַלֻּקֵֽי־ 1342694 NA ()\n",
      "אֲבָנִ֣ים׀  1342695 rec (151691,)\n"
     ]
    }
   ],
   "source": [
    "show_subphrases(738097)"
   ]
  },
  {
   "cell_type": "markdown",
   "metadata": {},
   "source": [
    "If we print the `pdp` values of the words within the related subphrase חלקי־אבנים, we will find the \"subs\":"
   ]
  },
  {
   "cell_type": "code",
   "execution_count": 79,
   "metadata": {},
   "outputs": [
    {
     "data": {
      "text/plain": [
       "['adjv', 'subs']"
      ]
     },
     "execution_count": 79,
     "metadata": {},
     "output_type": "execute_result"
    }
   ],
   "source": [
    "[F.pdp.v(w) for w in L.d(1342696, \"word\")]"
   ]
  },
  {
   "cell_type": "markdown",
   "metadata": {},
   "source": [
    "There are only a couple of these cases in the results. Thus, it will be safe for the algorithm to take the first `s43ubs` word that it comes across.\n",
    "\n",
    "Besides these cases, there are cases where there is no `subs` but a participle occurs as a `subs` with a `pdp` of `verb` due to the presence of satellite objects around the verb:"
   ]
  },
  {
   "cell_type": "code",
   "execution_count": 80,
   "metadata": {},
   "outputs": [],
   "source": [
    "# B.show([(898716,)]) # uncomment me"
   ]
  },
  {
   "cell_type": "markdown",
   "metadata": {},
   "source": [
    "For these cases, the algorithm should look for cases where there is no other `pdp` candidate and there is a verb that has a `vt` of participle.\n",
    "\n",
    "There are also several cases where the quantified noun is a personal pronoun, as exemplified below:"
   ]
  },
  {
   "cell_type": "code",
   "execution_count": 81,
   "metadata": {},
   "outputs": [],
   "source": [
    "# B.show([(867246,)]) # uncomment me"
   ]
  },
  {
   "cell_type": "markdown",
   "metadata": {},
   "source": [
    "These should be added to the set of acceptable quantified heads.\n",
    "\n",
    "Below we remove the cases accounted for thus far."
   ]
  },
  {
   "cell_type": "code",
   "execution_count": 82,
   "metadata": {},
   "outputs": [
    {
     "data": {
      "text/plain": [
       "5"
      ]
     },
     "execution_count": 82,
     "metadata": {},
     "output_type": "execute_result"
    }
   ],
   "source": [
    "no_quants_adj = [\n",
    "    r for r in no_quants_adj if F.pdp.v(r[3]) not in {\"adjv\", \"verb\", \"prps\"}\n",
    "]\n",
    "\n",
    "len(no_quants_adj)"
   ]
  },
  {
   "cell_type": "code",
   "execution_count": 83,
   "metadata": {},
   "outputs": [],
   "source": [
    "# B.show(no_quants_adj) # uncomment me"
   ]
  },
  {
   "cell_type": "markdown",
   "metadata": {},
   "source": [
    "What remains is 5 instances of quantified prepositional phrases. These are cases where the number is truly acting in a nominal capacity. In these cases, the algorithm should not return any quantified nouns since the quantifier itself semantically functions as the noun."
   ]
  },
  {
   "cell_type": "code",
   "execution_count": 84,
   "metadata": {},
   "outputs": [
    {
     "data": {
      "text/plain": [
       "0"
      ]
     },
     "execution_count": 84,
     "metadata": {},
     "output_type": "execute_result"
    }
   ],
   "source": [
    "no_quants_adj = [r for r in no_quants_adj if F.pdp.v(r[3]) not in {\"prep\"}]\n",
    "\n",
    "len(no_quants_adj)"
   ]
  },
  {
   "cell_type": "markdown",
   "metadata": {},
   "source": [
    "That is all the cases in which there is not a traditional \"subs\" within the adjunct of a quantifier. The final set of acceptable `pdp` tags for a quantified noun in an `adj` related subphrase are as follows:"
   ]
  },
  {
   "cell_type": "code",
   "execution_count": 85,
   "metadata": {},
   "outputs": [],
   "source": [
    "acceptable_adj_quantifieds = {\n",
    "    \"subs\",  # noun\n",
    "    \"nmpr\",  # proper noun\n",
    "    \"prde\",  # demonsrative\n",
    "    \"prps\",  # pronoun\n",
    "    \"verb\",\n",
    "}  # for participles"
   ]
  },
  {
   "cell_type": "markdown",
   "metadata": {},
   "source": [
    "**The queries above raise the equivalent question for `rec` related, quantified subphrases:** Are there other kinds of acceptable quantified nouns in the `rec` relationship besides `subs` and `nmpr`? We make a query and test whether we also need a similar set to the one above."
   ]
  },
  {
   "cell_type": "code",
   "execution_count": 86,
   "metadata": {},
   "outputs": [
    {
     "data": {
      "text/plain": [
       "258"
      ]
     },
     "execution_count": 86,
     "metadata": {},
     "output_type": "execute_result"
    }
   ],
   "source": [
    "rec_quants = \"\"\"\n",
    "\n",
    "sp1:subphrase\n",
    "    w1:word\n",
    "\n",
    "sp2:subphrase rela=rec\n",
    "    =: word\n",
    "\n",
    "lex ls=card\n",
    "   w2:word\n",
    "   \n",
    "w1 = w2\n",
    "w1 <mother- sp2\n",
    "\"\"\"\n",
    "\n",
    "rec_quants = sorted(B.search(rec_quants))\n",
    "\n",
    "# apply filters:\n",
    "rec_quants = [\n",
    "    r\n",
    "    for r in rec_quants\n",
    "    if F.pdp.v(r[3]) not in {\"subs\", \"nmpr\"} and F.ls.v(L.u(r[3], \"lex\")[0]) != \"card\"\n",
    "]\n",
    "\n",
    "len(rec_quants)"
   ]
  },
  {
   "cell_type": "code",
   "execution_count": 87,
   "metadata": {},
   "outputs": [],
   "source": [
    "# B.show(rec_quants) # uncomment me"
   ]
  },
  {
   "cell_type": "markdown",
   "metadata": {},
   "source": [
    "Many of these appear to be cases where the article is in the first position followed by a `subs`. We exclude those below..."
   ]
  },
  {
   "cell_type": "code",
   "execution_count": 88,
   "metadata": {},
   "outputs": [
    {
     "data": {
      "text/plain": [
       "7"
      ]
     },
     "execution_count": 88,
     "metadata": {},
     "output_type": "execute_result"
    }
   ],
   "source": [
    "rec_quants = [r for r in rec_quants if F.pdp.v(r[3]) != \"art\"]\n",
    "\n",
    "len(rec_quants)"
   ]
  },
  {
   "cell_type": "code",
   "execution_count": 89,
   "metadata": {},
   "outputs": [],
   "source": [
    "# B.show(rec_quants) # uncomment me"
   ]
  },
  {
   "cell_type": "markdown",
   "metadata": {},
   "source": [
    "There are a couple cases where the demonstrative occurs in the quantified position, exemplified below:"
   ]
  },
  {
   "cell_type": "code",
   "execution_count": 90,
   "metadata": {},
   "outputs": [],
   "source": [
    "# B.show([(676421,)]) # uncomment me"
   ]
  },
  {
   "cell_type": "markdown",
   "metadata": {},
   "source": [
    "The rest of the cases seem to be problematic examples of prepositions. They are problematic since they should be coded with a relation of `adj` rather than `rec`. In any case, the sets of acceptable solutions should not include the preposition, the same as with the `adj`.\n",
    "\n",
    "Based on this analysis, the `rec` quantified subphrases can utilize the same check-set as the `adj` quantifieds.\n",
    "\n",
    "#### Conclusion\n",
    "This analysis has found that quantifieds should be processed in the order of `rec` subphrase relations first. If an acceptable part of speech tag is not found within the `rec` subphrase, then the subsequent `adj` subphrase (adjunct) should be checked. In a handful of cases, there will not be a quantified noun since the quantifier itself functions as a nominal element.\n",
    "\n",
    "For both the `rec` and `adj` related subphrases, the same `pdp` check set can be used to isolate viable heads.\n",
    "\n",
    "#### Appendix: Which Subphrase?\n",
    "\n",
    "In cases where the quantified noun is related by the subphrase `rela=adj`, to which subphrase of the quantifier will it relate? It is assumed that it would relate to the largest one..."
   ]
  },
  {
   "cell_type": "markdown",
   "metadata": {},
   "source": [
    "A good solution would be to progressively move up from the smallest subphrase to the largest subphrase and check for relations on each one until it is found. That is what we follow in the algorithm."
   ]
  },
  {
   "cell_type": "markdown",
   "metadata": {},
   "source": [
    "### Adjective -> Subs Missed Results\n",
    "\n",
    "In the first test, several nouns are missed due to the presence of an adjectival element. Let's look at those cases and see what's going on. I have copied the phrase numbers of a few relevant examples."
   ]
  },
  {
   "cell_type": "code",
   "execution_count": 91,
   "metadata": {},
   "outputs": [],
   "source": [
    "adj_examples = [(771933,), (799523,)]\n",
    "\n",
    "# B.show(adj_examples) # uncomment me"
   ]
  },
  {
   "cell_type": "code",
   "execution_count": 92,
   "metadata": {},
   "outputs": [
    {
     "name": "stdout",
     "output_type": "stream",
     "text": [
      "subphrase \ttext \trelation \tmother\n",
      "בֶן־ 1355711 NA ()\n",
      "אָמֹ֔וץ  1355712 rec (207817,)\n"
     ]
    }
   ],
   "source": [
    "show_subphrases(adj_examples[0][0])"
   ]
  },
  {
   "cell_type": "code",
   "execution_count": 93,
   "metadata": {},
   "outputs": [
    {
     "name": "stdout",
     "output_type": "stream",
     "text": [
      "יְשַֽׁעְיָ֣הוּ  nmpr\n",
      "בֶן־ subs\n",
      "אָמֹ֔וץ  nmpr\n"
     ]
    }
   ],
   "source": [
    "for word in L.d(adj_examples[0][0], \"word\"):\n",
    "    print(T.text([word]), F.pdp.v(word))"
   ]
  },
  {
   "cell_type": "markdown",
   "metadata": {},
   "source": [
    "In this case, the substantive is not detected by the algorithm since it is in a dependent subphrase, a construct relation, with its modifying adjective. How to extract these nouns?\n",
    "\n",
    "This is very similar to the quantifier case, where the word in the rectum is actually the head (e.g. שתי שנה \"two years\" where \"two\" is registered as the head, but the substantive \"years\" is the semantic head). This kind of relationship is differentiated from non-heads by the fact that the adjective itself is independent. Thus, in cases where the adjective is independent and has a daughter rectum subphrase, the algorithm should retrieve the attributed noun.\n",
    "\n",
    "**proposed solution**: Add `adjv` to the set of acceptable `pdp` for the `NP`. Any adjectives will be processed for dependency: most will fail that test. But for the dozens of cases where the adjective does not fail, the algorithm will apply a separate check for a `rec` related subphrase which contains the true head.\n",
    "\n",
    "### Participle -> Head Missed Results\n",
    "\n",
    "Other phrases that end up headless are noun phrases that have a participle which serves as a the nominal element, but since it has satellites is coded as a \"verb\":"
   ]
  },
  {
   "cell_type": "code",
   "execution_count": 94,
   "metadata": {},
   "outputs": [],
   "source": [
    "verb_examples = [(709010,), (711593,), (756104,)]\n",
    "\n",
    "# B.show(verb_examples) # uncomment me"
   ]
  },
  {
   "cell_type": "code",
   "execution_count": 95,
   "metadata": {},
   "outputs": [
    {
     "name": "stdout",
     "output_type": "stream",
     "text": [
      "subphrase \ttext \trelation \tmother\n",
      "\n",
      "subphrase \ttext \trelation \tmother\n",
      "\n",
      "subphrase \ttext \trelation \tmother\n",
      "\n"
     ]
    }
   ],
   "source": [
    "for phrase in verb_examples:\n",
    "    show_subphrases(phrase[0])\n",
    "    print()"
   ]
  },
  {
   "cell_type": "markdown",
   "metadata": {},
   "source": [
    "There are mixed cases here due to the shortcomings of the current data model. In these cases, the participle is marked as a \"verb\" since it also has objects or descriptors. In the first example above, the noun גרה functions as the *object* of the verb. The head is מעלה. But the same logic does not hold for the second or third case. In the second case, ֹ פצוע־דכא gives an *attribute* or quality of שפכה. In the third case, מצק \"poured\", describes an attribute of נחשת \"bronze.\" Thus the opposite of example 1 is true, that is, the head noun is the attributed noun in the construct relation.\n",
    "\n",
    "Since the specific role of the noun or the verb is not specified at this lower phrase level, is there even a way to differentiate these cases?\n",
    "\n"
   ]
  },
  {
   "cell_type": "code",
   "execution_count": 96,
   "metadata": {},
   "outputs": [
    {
     "name": "stdout",
     "output_type": "stream",
     "text": [
      "709010\n",
      "וְ conj\n",
      "\n",
      "711593\n",
      "אֵ֥ין  nega\n",
      "\n",
      "756104\n",
      "בֵיתֹו֩  subs\n",
      "\n"
     ]
    }
   ],
   "source": [
    "for phrase in verb_examples:\n",
    "    print(phrase[0])\n",
    "    for word in L.d(phrase[0], \"word\"):\n",
    "        print(T.text([word]), F.pdp.v(word))\n",
    "    print()"
   ]
  },
  {
   "cell_type": "markdown",
   "metadata": {},
   "source": [
    "It actually appears that the database treats all 3 the same: as adjectives at the phrase-dependent part of speech level. Thus, these cases will receive the same treatments as the adjective cases above."
   ]
  },
  {
   "cell_type": "markdown",
   "metadata": {},
   "source": [
    "### `KL/` relation problems\n",
    "\n",
    "I found an instance in Number 3:15 where the subphrase relationship that connects כל with its quantified noun is `atr` .That is probably wrong. Are there other cases with the same problem?"
   ]
  },
  {
   "cell_type": "code",
   "execution_count": 97,
   "metadata": {},
   "outputs": [
    {
     "data": {
      "text/plain": [
       "0"
      ]
     },
     "execution_count": 97,
     "metadata": {},
     "output_type": "execute_result"
    }
   ],
   "source": [
    "kl_prob = \"\"\"\n",
    "\n",
    "sp1:subphrase\n",
    "    w1:word lex=KL/ st=a\n",
    "\n",
    "sp2:subphrase rela=atr\n",
    "\n",
    "sp2 -mother> sp1\n",
    "sp2 >> sp1\n",
    "w1 :: sp1\n",
    "\"\"\"\n",
    "\n",
    "kl_prob = sorted(B.search(kl_prob))\n",
    "\n",
    "len(kl_prob)"
   ]
  },
  {
   "cell_type": "code",
   "execution_count": 98,
   "metadata": {},
   "outputs": [],
   "source": [
    "# B.show(kl_prob) # uncomment me"
   ]
  },
  {
   "cell_type": "markdown",
   "metadata": {},
   "source": [
    "It seems that the adjectives are not nominalised in this construction as `pdp` of `subs`. Most of the findings are adjectives in construct with כל. But there are several cases of the participle also.\n",
    "\n",
    "Is this encoding correct?\n",
    "\n",
    "If the `rela` code were properly `rec` as most are, then this would simply be a matter of adding an additional acceptable `pdp` to the list within the `get_quantified` function."
   ]
  },
  {
   "cell_type": "code",
   "execution_count": 99,
   "metadata": {},
   "outputs": [
    {
     "data": {
      "text/plain": [
       "0"
      ]
     },
     "execution_count": 99,
     "metadata": {},
     "output_type": "execute_result"
    }
   ],
   "source": [
    "# kl_prob = [r for r in kl_prob if not {'adjv'} and set(F.pdp.v(w) for w in L.d(r[2]))]\n",
    "\n",
    "len(kl_prob)"
   ]
  },
  {
   "cell_type": "code",
   "execution_count": 100,
   "metadata": {},
   "outputs": [
    {
     "data": {
      "text/plain": [
       "0"
      ]
     },
     "execution_count": 100,
     "metadata": {},
     "output_type": "execute_result"
    }
   ],
   "source": [
    "kl_prob = set(r[0] for r in kl_prob)\n",
    "\n",
    "len(kl_prob)"
   ]
  },
  {
   "cell_type": "markdown",
   "metadata": {},
   "source": [
    "### Subphrase by Subphrase Approach?\n",
    "\n",
    "Experimenting with switching from a word-by-word approach to a subphrase-by-subphrase. The first iteration of the `get_heads` function iterated word by word to identify valid heads with independent subphrase relations. A more efficient, and methodologically sound approach would be to work from the subphrase down to the word. Here I experiment with such a method."
   ]
  },
  {
   "cell_type": "code",
   "execution_count": 193,
   "metadata": {},
   "outputs": [],
   "source": [
    "test_phrases = [\n",
    "    ph\n",
    "    for ph in F.typ.s(\"NP\")\n",
    "    if len(L.d(ph, \"word\")) == 5 and F.otype.v(ph) == \"phrase\"\n",
    "]"
   ]
  },
  {
   "cell_type": "code",
   "execution_count": 194,
   "metadata": {},
   "outputs": [
    {
     "data": {
      "text/plain": [
       "655731"
      ]
     },
     "execution_count": 194,
     "metadata": {},
     "output_type": "execute_result"
    }
   ],
   "source": [
    "test = test_phrases[20]\n",
    "\n",
    "test"
   ]
  },
  {
   "cell_type": "code",
   "execution_count": 195,
   "metadata": {},
   "outputs": [
    {
     "name": "stdout",
     "output_type": "stream",
     "text": [
      "subphrase \ttext \trelation \tmother\n",
      "יְלִ֥יד בֵּֽיתְךָ֖  1302879 NA ()\n",
      "יְלִ֥יד  1302877 NA ()\n",
      "בֵּֽיתְךָ֖  1302878 rec (7530,)\n",
      "מִקְנַ֣ת כַּסְפֶּ֑ךָ  1302882 par (1302879,)\n",
      "מִקְנַ֣ת  1302880 NA ()\n",
      "כַּסְפֶּ֑ךָ  1302881 rec (7533,)\n"
     ]
    }
   ],
   "source": [
    "show_subphrases(test)"
   ]
  },
  {
   "cell_type": "code",
   "execution_count": 196,
   "metadata": {},
   "outputs": [
    {
     "data": {
      "text/plain": [
       "[1302879, 1302877, 1302880]"
      ]
     },
     "execution_count": 196,
     "metadata": {},
     "output_type": "execute_result"
    }
   ],
   "source": [
    "head_cands = [sp for sp in L.d(test, \"subphrase\") if F.rela.v(sp) == \"NA\"]\n",
    "\n",
    "head_cands"
   ]
  },
  {
   "cell_type": "markdown",
   "metadata": {},
   "source": [
    "Note above that the heads are those within NA relations that consist of single words. How consistent is this? Are there any cases where the head does not receive its own individual subphrase with a NA relation? Or are there cases of NA relations of non-head elements? Below we run a couple of tests, and then we build a primitive head finder based on this hypothesis in order to manually inspect what happens."
   ]
  },
  {
   "cell_type": "code",
   "execution_count": 201,
   "metadata": {},
   "outputs": [
    {
     "name": "stdout",
     "output_type": "stream",
     "text": [
      "example found: \n",
      "23 (1300568,) {'rec'}\n",
      "search complete with 0 results\n"
     ]
    }
   ],
   "source": [
    "for word in F.otype.s(\"word\"):\n",
    "\n",
    "    subphrases = L.u(word, \"subphrase\")\n",
    "\n",
    "    if not subphrases:\n",
    "        continue\n",
    "\n",
    "    sp_relas = set(F.rela.v(sp) for sp in subphrases)\n",
    "\n",
    "    if not {\"NA\", \"par\"} & sp_relas:\n",
    "        print(\"example found: \")\n",
    "        print(word, subphrases, sp_relas)\n",
    "        break\n",
    "\n",
    "print(\"search complete with 0 results\")"
   ]
  },
  {
   "cell_type": "code",
   "execution_count": 202,
   "metadata": {},
   "outputs": [
    {
     "data": {
      "text/plain": [
       "'תְהֹ֑ום '"
      ]
     },
     "execution_count": 202,
     "metadata": {},
     "output_type": "execute_result"
    }
   ],
   "source": [
    "T.text(L.d(1300568, \"word\"))"
   ]
  },
  {
   "cell_type": "code",
   "execution_count": 224,
   "metadata": {},
   "outputs": [
    {
     "data": {
      "text/plain": [
       "45161"
      ]
     },
     "execution_count": 224,
     "metadata": {},
     "output_type": "execute_result"
    }
   ],
   "source": [
    "no_na = \"\"\"\n",
    "\n",
    "sp1:subphrase\n",
    "    w1:word\n",
    "sp2:subphrase\n",
    "\n",
    "sp2 -mother> w1\n",
    "\"\"\"\n",
    "\n",
    "no_na = sorted(S.search(no_na))\n",
    "\n",
    "len(no_na)"
   ]
  },
  {
   "cell_type": "code",
   "execution_count": 229,
   "metadata": {},
   "outputs": [
    {
     "name": "stdout",
     "output_type": "stream",
     "text": [
      "words with construct relation and no NA subphrase: 0\n"
     ]
    }
   ],
   "source": [
    "no_na_filtered = []\n",
    "\n",
    "for r in no_na:\n",
    "\n",
    "    reg = r[1]\n",
    "\n",
    "    reg_subphrases = L.u(reg, \"subphrase\")\n",
    "    reg_sp_relas = set(F.rela.v(sp) for sp in reg_subphrases)\n",
    "\n",
    "    if \"NA\" not in reg_sp_relas:\n",
    "        no_na_filtered.append(r)\n",
    "\n",
    "print(f\"words with construct relation and no NA subphrase: {len(no_na_filtered)}\")"
   ]
  },
  {
   "cell_type": "markdown",
   "metadata": {},
   "source": [
    "The search above shows that in any case that a word is in a construct relation with a subphrase, a NA (no relation) subphrase exists.\n",
    "\n",
    "Let's broaden the inquiry a bit. What are the specific situations in which there is NO non-related subphrase at all. What kinds of relations are present? What kinds of phrases are they?"
   ]
  },
  {
   "cell_type": "code",
   "execution_count": 236,
   "metadata": {
    "lines_to_end_of_cell_marker": 2
   },
   "outputs": [
    {
     "name": "stdout",
     "output_type": "stream",
     "text": [
      "Counter({'NO subphrases': 215258, 'has NA': 37952})\n"
     ]
    }
   ],
   "source": [
    "na_survey = collections.Counter()\n",
    "\n",
    "for phrase in F.otype.s(\"phrase\"):\n",
    "\n",
    "    subphrase_relas = tuple(\n",
    "        sorted(set(F.rela.v(sp) for sp in L.d(phrase, \"subphrase\")))\n",
    "    )\n",
    "\n",
    "    if not subphrase_relas:\n",
    "        na_survey[\"NO subphrases\"] += 1\n",
    "\n",
    "    elif \"NA\" in subphrase_relas:\n",
    "        na_survey[\"has NA\"] += 1\n",
    "\n",
    "    else:\n",
    "        na_survey[subphrase_relas] += 1\n",
    "\n",
    "pprint(na_survey)"
   ]
  },
  {
   "cell_type": "markdown",
   "metadata": {
    "lines_to_next_cell": 2
   },
   "source": [
    "This count shows that there are only two situations in the data: either\n",
    "\n",
    "1) a phrase has no subphrases present, or\n",
    "\n",
    "2) it has a subphrase with a relation of \"NA\". There are NO cases of phrases that lack an NA subphrase but have other relations. That is good for our hypothesis...\n",
    "\n",
    "In the experiment below, two important assumptions are made about the head:\n",
    "\n",
    "**First**, it is assumed that **the head is the first valid `pdp` word in the phrase**, with the exception of quantifieds and attributed nouns which are handled differently.\n",
    "\n",
    "**Second**, it is assumed that the **first NA-relation subphrase contains the head**. We test that assumption by manually inspecting the output."
   ]
  },
  {
   "cell_type": "code",
   "execution_count": 292,
   "metadata": {},
   "outputs": [],
   "source": [
    "def primitive_head_hunter(phrase):\n",
    "\n",
    "    \"\"\"\n",
    "    Looks at noun phrases for heads.\n",
    "    \"\"\"\n",
    "\n",
    "    good_pdp = {\"subs\", \"nmpr\"}\n",
    "\n",
    "    subphrase_candidates = [\n",
    "        sp\n",
    "        for sp in L.d(phrase, \"subphrase\")\n",
    "        if F.rela.v(sp) == \"NA\" and F.rela.v(L.u(sp, \"phrase_atom\")[0]) == \"NA\"\n",
    "    ]\n",
    "\n",
    "    # handle simple phrases\n",
    "    if not subphrase_candidates:\n",
    "        head_candidates = [w for w in L.d(phrase, \"word\") if F.pdp.v(w) in good_pdp]\n",
    "        try:\n",
    "            return (head_candidates[0],)\n",
    "        except:\n",
    "            print(f\"exception at {phrase}\")\n",
    "\n",
    "    # attempt simple head assignment\n",
    "    first_na_subphrase = subphrase_candidates[0]\n",
    "    try:\n",
    "        the_head = next(\n",
    "            w for w in L.d(first_na_subphrase, \"word\") if F.pdp.v(w) in good_pdp\n",
    "        )\n",
    "        return (the_head,)\n",
    "    except:\n",
    "        if F.pdp.v(L.d(first_na_subphrase, \"word\")[0]) == \"adjv\":\n",
    "            pass\n",
    "        else:\n",
    "            raise Exception(phrase)"
   ]
  },
  {
   "cell_type": "code",
   "execution_count": 296,
   "metadata": {},
   "outputs": [],
   "source": [
    "test_results = [primitive_head_hunter(ph) for ph in test_phrases]\n",
    "\n",
    "random.shuffle(test_results)"
   ]
  },
  {
   "cell_type": "code",
   "execution_count": 298,
   "metadata": {},
   "outputs": [],
   "source": [
    "# B.show(test_results) # uncomment me"
   ]
  },
  {
   "cell_type": "markdown",
   "metadata": {},
   "source": [
    "As it turns out, the assumption about NA phrase type is workable. But the complications of this approach (explained below) make it an unlikely solution for now."
   ]
  },
  {
   "cell_type": "markdown",
   "metadata": {},
   "source": [
    "#### Conclusion\n",
    "\n",
    "I've done some initial testing with the subphrase by subphrase approach. It is a promising method, but requires a more complicated implementation with nested searches through each level of the phrase hierarchy. A simple subphrase by subphrase approach is not sufficient—one needs to go phrase by phrase, `phrase_atom` by `phrase_atom`, `subphrase` by `subphrase`, and even beyond. It is a recursive problem that cannot be navigated with the present, limited data model. There is more to say about the present state of the data model which I will save for the final report.\n",
    "\n",
    "At present, the word-by-word approach provides an elegant (though limited) solution that is able to navigate the quirks of the present data model and provide an acceptable level of accuracy, with some exceptions for more complicated phrase constructions."
   ]
  },
  {
   "cell_type": "markdown",
   "metadata": {},
   "source": [
    "## Handling Parallels\n",
    "\n",
    "What is the best way to handle parallel head elements? In general, a phrase has only one real \"head\". That is, often the first head element determines the grammatical gender or number of the verb (thanks to Constantijn Sikkel for this conversation). Yet, the nouns which are coordinate to the head are often of interest for both grammatical and semantic studies.\n",
    "\n",
    "There are two approaches to collecting coordinate heads. One is to check for every word with a relation of \"parallel\" whether its mother is already established as a head. Another approach is to recursively search for nouns that are coordinate with the head word. Up until this inquiry, I have opted for option 1 due to the complexity of checking necessary relationships for a head candidate. But a phrase in Deuteronomy 12:17 is then missed by this current approach, since there is there a chain of head nouns in construct with the quantifier מעשר \"tenth\". These cases are missed.\n",
    "\n",
    "It is possible to edit the algorithm to accommodate these cases. But the example raises the broader question of whether option 1 is truly sufficient and methodologically sound. In this section, I test whether option 2 is a better alternative. First, we are unsure about how to separate a head word from a larger, paralleled subphrase. In option 1, individual words are tested, each for dependent relationships. But option 2 will go the opposite direction: beginning at the subphrase level and working down to the word. Does this affect our ability to separate the head noun of the phrase?"
   ]
  },
  {
   "cell_type": "code",
   "execution_count": 40,
   "metadata": {},
   "outputs": [],
   "source": [
    "def OLD_get_heads(phrase):\n",
    "    \"\"\"\n",
    "    Extracts and returns the heads of a supplied\n",
    "    phrase or phrase atom based on that phrase's type\n",
    "    and the relations reflected within the phrase.\n",
    "\n",
    "    --input--\n",
    "    phrase(atom) node number\n",
    "\n",
    "    --output--\n",
    "    tuple of head word node(s)\n",
    "    \"\"\"\n",
    "\n",
    "    # mapping from phrase type to good part of speech values for heads\n",
    "    head_pdps = {\n",
    "        \"VP\": {\"verb\"},  # verb\n",
    "        \"NP\": {\"subs\", \"adjv\", \"nmpr\"},  # noun\n",
    "        \"PrNP\": {\"nmpr\", \"subs\"},  # proper-noun\n",
    "        \"AdvP\": {\"advb\", \"nmpr\", \"subs\"},  # adverbial\n",
    "        \"PP\": {\"prep\"},  # prepositional\n",
    "        \"CP\": {\"conj\", \"prep\"},  # conjunctive\n",
    "        \"PPrP\": {\"prps\"},  # personal pronoun\n",
    "        \"DPrP\": {\"prde\"},  # demonstrative pronoun\n",
    "        \"IPrP\": {\"prin\"},  # interrogative pronoun\n",
    "        \"InjP\": {\"intj\"},  # interjectional\n",
    "        \"NegP\": {\"nega\"},  # negative\n",
    "        \"InrP\": {\"inrg\"},  # interrogative\n",
    "        \"AdjP\": {\"adjv\"},  # adjective\n",
    "    }\n",
    "\n",
    "    # get phrase-head's part of speech value and list of candidate matches\n",
    "    phrase_type = F.typ.v(phrase)\n",
    "    head_candidates = [\n",
    "        w for w in L.d(phrase, \"word\") if F.pdp.v(w) in head_pdps[phrase_type]\n",
    "    ]\n",
    "\n",
    "    # VP with verbs require no further processing, return the head verb\n",
    "    if phrase_type == \"VP\":\n",
    "        return tuple(head_candidates)\n",
    "\n",
    "    # go head-hunting!\n",
    "    heads = []\n",
    "\n",
    "    for word in head_candidates:\n",
    "\n",
    "        # gather the word's subphrase (+ phrase_atom if otype is phrase) relations\n",
    "        word_phrases = list(L.u(word, \"subphrase\"))\n",
    "        word_phrases += (\n",
    "            list(L.u(word, \"phrase_atom\"))\n",
    "            if (F.otype.v(phrase) == \"phrase\")\n",
    "            else list()\n",
    "        )\n",
    "        word_relas = set(F.rela.v(phr) for phr in word_phrases) or {\"NA\"}\n",
    "\n",
    "        # check (sub)phrase relations for independency\n",
    "        if word_relas - {\"NA\", \"par\", \"Para\"}:\n",
    "            continue\n",
    "\n",
    "        # check parallel relations for independency\n",
    "        elif word_relas & {\"par\", \"Para\"} and mother_is_head(word_phrases, heads):\n",
    "            this_head = find_quantified(word) or find_attributed(word) or word\n",
    "            heads.append(this_head)\n",
    "\n",
    "        # save all others as heads, check for quantifiers first\n",
    "        elif word_relas == {\"NA\"}:\n",
    "            this_head = find_quantified(word) or find_attributed(word) or word\n",
    "            heads.append(this_head)\n",
    "\n",
    "    return tuple(sorted(set(heads)))\n",
    "\n",
    "\n",
    "def mother_is_head(word_phrases, previous_heads):\n",
    "\n",
    "    \"\"\"\n",
    "    Test and validate parallel relationships for independency.\n",
    "    Must gather the mother for each relation and check whether\n",
    "    the mother contains a head word.\n",
    "\n",
    "    --input--\n",
    "    * list of phrase nodes for a given word (includes subphrases)\n",
    "    * list of previously approved heads\n",
    "\n",
    "    --output--\n",
    "    boolean\n",
    "    \"\"\"\n",
    "\n",
    "    # get word's enclosing phrases that are parallel\n",
    "    parallel_phrases = [ph for ph in word_phrases if F.rela.v(ph) in {\"par\", \"Para\"}]\n",
    "    # get the mother for the parallel phrases\n",
    "    parallel_mothers = [E.mother.f(ph)[0] for ph in parallel_phrases]\n",
    "    # get mothers' words, by mother\n",
    "    parallel_mom_words = [set(L.d(mom, \"word\")) for mom in parallel_mothers]\n",
    "    # test for head in each mother\n",
    "    test_mothers = [\n",
    "        bool(phrs_words & set(previous_heads)) for phrs_words in parallel_mom_words\n",
    "    ]\n",
    "\n",
    "    return all(test_mothers)"
   ]
  },
  {
   "cell_type": "markdown",
   "metadata": {},
   "source": [
    "### How many subphrases with a parallel relation to a validated head consist of more than one word?\n",
    "\n",
    "We take the first head element for every noun phrase and check its parallel elements."
   ]
  },
  {
   "cell_type": "code",
   "execution_count": 41,
   "metadata": {},
   "outputs": [
    {
     "name": "stdout",
     "output_type": "stream",
     "text": [
      "length: 1\n",
      "\t 3346\n",
      "length: 2\n",
      "\t 686\n",
      "length: 3\n",
      "\t 86\n",
      "length: 4\n",
      "\t 24\n",
      "length: 9\n",
      "\t 10\n",
      "length: 5\n",
      "\t 4\n",
      "length: 6\n",
      "\t 3\n"
     ]
    }
   ],
   "source": [
    "par_word_count = collections.Counter()\n",
    "par_word_list = collections.defaultdict(list)\n",
    "\n",
    "for np in F.typ.s(\"NP\"):\n",
    "\n",
    "    heads = OLD_get_heads(np)\n",
    "\n",
    "    if not heads:\n",
    "        continue\n",
    "\n",
    "    the_head = heads[0]\n",
    "\n",
    "    if not L.u(the_head, \"subphrase\"):\n",
    "        continue\n",
    "\n",
    "    head_smallest_sp = sorted(sp for sp in L.u(the_head, \"subphrase\"))[0]\n",
    "\n",
    "    par_daughter = [d for d in E.mother.t(head_smallest_sp) if F.rela.v(d) == \"par\"]\n",
    "\n",
    "    for pd in par_daughter:\n",
    "\n",
    "        word_length = len(L.d(par_daughter[0], \"word\"))\n",
    "\n",
    "        par_word_count[word_length] += 1\n",
    "        par_word_list[word_length].append((the_head, head_smallest_sp))\n",
    "\n",
    "for w_count, count in par_word_count.items():\n",
    "    print(\"length:\", w_count)\n",
    "    print(\"\\t\", count)"
   ]
  },
  {
   "cell_type": "markdown",
   "metadata": {},
   "source": [
    "Let's see some of the larger cases..."
   ]
  },
  {
   "cell_type": "code",
   "execution_count": 47,
   "metadata": {},
   "outputs": [
    {
     "data": {
      "text/markdown": [
       "\n",
       "\n",
       "**phrase** *1*\n",
       "\n"
      ],
      "text/plain": [
       "<IPython.core.display.Markdown object>"
      ]
     },
     "metadata": {},
     "output_type": "display_data"
    },
    {
     "data": {
      "text/html": [
       "<div class=\"atoms \" style=\"background-color: None;\">\n",
       "<a href=\"#\" class=\"nd\">713759</a>\n",
       "\n",
       "\n",
       "\n",
       "<div class=\"patom  l\" style=\"background-color: None;\">\n",
       "\n",
       "    <div class=\"phrase\">\n",
       "        <a href=\"https://shebanq.ancient-data.org/hebrew/text?book=Deuteronomium&chapter=29&verse=2&version=c&mr=m&qw=q&tp=txt_p&tr=hb&wget=v&qget=v&nget=vt\" title=\"Deuteronomy 29:2\" sec=\"Deuteronomy 29:2\">phrase</a> <a href=\"#\" class=\"nd\">713759</a>  <span class=\"function\">Objc</span> <span class=\"typ\">NP</span>\n",
       "    </div>\n",
       "    <div class=\"atoms\">\n",
       "\n",
       "<div class=\"word \" style=\"background-color: None;\">\n",
       "<a href=\"#\" class=\"nd\">109564</a>\n",
       "<div class=\"h\"><a target=\"_blank\" href=\"https://shebanq.ancient-data.org/hebrew/word?version=c&id=1H\" title=\"show this lexeme in SHEBANQ\">הַ</a></div>\n",
       "<div class=\"features\"> <span class=\"pdp\"><a href=\"https://shebanq.ancient-data.org/hebrew/text?book=Deuteronomium&chapter=29&verse=2&version=c&mr=m&qw=q&tp=txt_p&tr=hb&wget=v&qget=v&nget=vt\" title=\"Deuteronomy 29:2\" sec=\"Deuteronomy 29:2\">art</a></span> <span class=\"gloss\">the</span></div>\n",
       "\n",
       "\n",
       "</div>\n",
       "\n",
       "<div class=\"word \" style=\"background-color: None;\">\n",
       "<a href=\"#\" class=\"nd\">109565</a>\n",
       "<div class=\"h\"><a target=\"_blank\" href=\"https://shebanq.ancient-data.org/hebrew/word?version=c&id=1MSHn\" title=\"show this lexeme in SHEBANQ\">מַּסֹּות֙ </a></div>\n",
       "<div class=\"features\"> <span class=\"pdp\"><a href=\"https://shebanq.ancient-data.org/hebrew/text?book=Deuteronomium&chapter=29&verse=2&version=c&mr=m&qw=q&tp=txt_p&tr=hb&wget=v&qget=v&nget=vt\" title=\"Deuteronomy 29:2\" sec=\"Deuteronomy 29:2\">subs</a></span> <span class=\"gloss\">proving</span></div>\n",
       "\n",
       "\n",
       "</div>\n",
       "\n",
       "<div class=\"word \" style=\"background-color: None;\">\n",
       "<a href=\"#\" class=\"nd\">109566</a>\n",
       "<div class=\"h\"><a target=\"_blank\" href=\"https://shebanq.ancient-data.org/hebrew/word?version=c&id=1H\" title=\"show this lexeme in SHEBANQ\">הַ</a></div>\n",
       "<div class=\"features\"> <span class=\"pdp\"><a href=\"https://shebanq.ancient-data.org/hebrew/text?book=Deuteronomium&chapter=29&verse=2&version=c&mr=m&qw=q&tp=txt_p&tr=hb&wget=v&qget=v&nget=vt\" title=\"Deuteronomy 29:2\" sec=\"Deuteronomy 29:2\">art</a></span> <span class=\"gloss\">the</span></div>\n",
       "\n",
       "\n",
       "</div>\n",
       "\n",
       "<div class=\"word \" style=\"background-color: None;\">\n",
       "<a href=\"#\" class=\"nd\">109567</a>\n",
       "<div class=\"h\"><a target=\"_blank\" href=\"https://shebanq.ancient-data.org/hebrew/word?version=c&id=1GDWLn\" title=\"show this lexeme in SHEBANQ\">גְּדֹלֹ֔ת </a></div>\n",
       "<div class=\"features\"> <span class=\"pdp\"><a href=\"https://shebanq.ancient-data.org/hebrew/text?book=Deuteronomium&chapter=29&verse=2&version=c&mr=m&qw=q&tp=txt_p&tr=hb&wget=v&qget=v&nget=vt\" title=\"Deuteronomy 29:2\" sec=\"Deuteronomy 29:2\">adjv</a></span> <span class=\"gloss\">great</span></div>\n",
       "\n",
       "\n",
       "</div>\n",
       "\n",
       "\n",
       "    </div>\n",
       "\n",
       "\n",
       "</div>\n",
       "\n",
       "<div class=\"patom  r\" style=\"background-color: None;\">\n",
       "\n",
       "    <div class=\"phrase\">\n",
       "        <a href=\"https://shebanq.ancient-data.org/hebrew/text?book=Deuteronomium&chapter=29&verse=2&version=c&mr=m&qw=q&tp=txt_p&tr=hb&wget=v&qget=v&nget=vt\" title=\"Deuteronomy 29:2\" sec=\"Deuteronomy 29:2\">phrase</a> <a href=\"#\" class=\"nd\">713759</a>  <span class=\"function\">Objc</span> <span class=\"typ\">NP</span>\n",
       "    </div>\n",
       "    <div class=\"atoms\">\n",
       "\n",
       "<div class=\"word \" style=\"background-color: None;\">\n",
       "<a href=\"#\" class=\"nd\">109571</a>\n",
       "<div class=\"h\"><a target=\"_blank\" href=\"https://shebanq.ancient-data.org/hebrew/word?version=c&id=1H\" title=\"show this lexeme in SHEBANQ\">הָ</a></div>\n",
       "<div class=\"features\"> <span class=\"pdp\"><a href=\"https://shebanq.ancient-data.org/hebrew/text?book=Deuteronomium&chapter=29&verse=2&version=c&mr=m&qw=q&tp=txt_p&tr=hb&wget=v&qget=v&nget=vt\" title=\"Deuteronomy 29:2\" sec=\"Deuteronomy 29:2\">art</a></span> <span class=\"gloss\">the</span></div>\n",
       "\n",
       "\n",
       "</div>\n",
       "\n",
       "<div class=\"word  hl\">\n",
       "<a href=\"#\" class=\"nd\">109572</a>\n",
       "<div class=\"h\"><a target=\"_blank\" href=\"https://shebanq.ancient-data.org/hebrew/word?version=c&id=1AWTn\" title=\"show this lexeme in SHEBANQ\">אֹתֹ֧ת </a></div>\n",
       "<div class=\"features\"> <span class=\"pdp\"><a href=\"https://shebanq.ancient-data.org/hebrew/text?book=Deuteronomium&chapter=29&verse=2&version=c&mr=m&qw=q&tp=txt_p&tr=hb&wget=v&qget=v&nget=vt\" title=\"Deuteronomy 29:2\" sec=\"Deuteronomy 29:2\">subs</a></span> <span class=\"gloss\">sign</span></div>\n",
       "\n",
       "\n",
       "</div>\n",
       "\n",
       "<div class=\"word \" style=\"background-color: None;\">\n",
       "<a href=\"#\" class=\"nd\">109573</a>\n",
       "<div class=\"h\"><a target=\"_blank\" href=\"https://shebanq.ancient-data.org/hebrew/word?version=c&id=1W\" title=\"show this lexeme in SHEBANQ\">וְ</a></div>\n",
       "<div class=\"features\"> <span class=\"pdp\"><a href=\"https://shebanq.ancient-data.org/hebrew/text?book=Deuteronomium&chapter=29&verse=2&version=c&mr=m&qw=q&tp=txt_p&tr=hb&wget=v&qget=v&nget=vt\" title=\"Deuteronomy 29:2\" sec=\"Deuteronomy 29:2\">conj</a></span> <span class=\"gloss\">and</span></div>\n",
       "\n",
       "\n",
       "</div>\n",
       "\n",
       "<div class=\"word \" style=\"background-color: None;\">\n",
       "<a href=\"#\" class=\"nd\">109574</a>\n",
       "<div class=\"h\"><a target=\"_blank\" href=\"https://shebanq.ancient-data.org/hebrew/word?version=c&id=1H\" title=\"show this lexeme in SHEBANQ\">הַ</a></div>\n",
       "<div class=\"features\"> <span class=\"pdp\"><a href=\"https://shebanq.ancient-data.org/hebrew/text?book=Deuteronomium&chapter=29&verse=2&version=c&mr=m&qw=q&tp=txt_p&tr=hb&wget=v&qget=v&nget=vt\" title=\"Deuteronomy 29:2\" sec=\"Deuteronomy 29:2\">art</a></span> <span class=\"gloss\">the</span></div>\n",
       "\n",
       "\n",
       "</div>\n",
       "\n",
       "<div class=\"word \" style=\"background-color: None;\">\n",
       "<a href=\"#\" class=\"nd\">109575</a>\n",
       "<div class=\"h\"><a target=\"_blank\" href=\"https://shebanq.ancient-data.org/hebrew/word?version=c&id=1MWPTn\" title=\"show this lexeme in SHEBANQ\">מֹּפְתִ֛ים </a></div>\n",
       "<div class=\"features\"> <span class=\"pdp\"><a href=\"https://shebanq.ancient-data.org/hebrew/text?book=Deuteronomium&chapter=29&verse=2&version=c&mr=m&qw=q&tp=txt_p&tr=hb&wget=v&qget=v&nget=vt\" title=\"Deuteronomy 29:2\" sec=\"Deuteronomy 29:2\">subs</a></span> <span class=\"gloss\">sign</span></div>\n",
       "\n",
       "\n",
       "</div>\n",
       "\n",
       "<div class=\"word \" style=\"background-color: None;\">\n",
       "<a href=\"#\" class=\"nd\">109576</a>\n",
       "<div class=\"h\"><a target=\"_blank\" href=\"https://shebanq.ancient-data.org/hebrew/word?version=c&id=1H\" title=\"show this lexeme in SHEBANQ\">הַ</a></div>\n",
       "<div class=\"features\"> <span class=\"pdp\"><a href=\"https://shebanq.ancient-data.org/hebrew/text?book=Deuteronomium&chapter=29&verse=2&version=c&mr=m&qw=q&tp=txt_p&tr=hb&wget=v&qget=v&nget=vt\" title=\"Deuteronomy 29:2\" sec=\"Deuteronomy 29:2\">art</a></span> <span class=\"gloss\">the</span></div>\n",
       "\n",
       "\n",
       "</div>\n",
       "\n",
       "<div class=\"word \" style=\"background-color: None;\">\n",
       "<a href=\"#\" class=\"nd\">109577</a>\n",
       "<div class=\"h\"><a target=\"_blank\" href=\"https://shebanq.ancient-data.org/hebrew/word?version=c&id=1GDWLn\" title=\"show this lexeme in SHEBANQ\">גְּדֹלִ֖ים </a></div>\n",
       "<div class=\"features\"> <span class=\"pdp\"><a href=\"https://shebanq.ancient-data.org/hebrew/text?book=Deuteronomium&chapter=29&verse=2&version=c&mr=m&qw=q&tp=txt_p&tr=hb&wget=v&qget=v&nget=vt\" title=\"Deuteronomy 29:2\" sec=\"Deuteronomy 29:2\">adjv</a></span> <span class=\"gloss\">great</span></div>\n",
       "\n",
       "\n",
       "</div>\n",
       "\n",
       "<div class=\"word \" style=\"background-color: None;\">\n",
       "<a href=\"#\" class=\"nd\">109578</a>\n",
       "<div class=\"h\"><a target=\"_blank\" href=\"https://shebanq.ancient-data.org/hebrew/word?version=c&id=1H\" title=\"show this lexeme in SHEBANQ\">הָ</a></div>\n",
       "<div class=\"features\"> <span class=\"pdp\"><a href=\"https://shebanq.ancient-data.org/hebrew/text?book=Deuteronomium&chapter=29&verse=2&version=c&mr=m&qw=q&tp=txt_p&tr=hb&wget=v&qget=v&nget=vt\" title=\"Deuteronomy 29:2\" sec=\"Deuteronomy 29:2\">art</a></span> <span class=\"gloss\">the</span></div>\n",
       "\n",
       "\n",
       "</div>\n",
       "\n",
       "<div class=\"word \" style=\"background-color: None;\">\n",
       "<a href=\"#\" class=\"nd\">109579</a>\n",
       "<div class=\"h\"><a target=\"_blank\" href=\"https://shebanq.ancient-data.org/hebrew/word?version=c&id=1HM\" title=\"show this lexeme in SHEBANQ\">הֵֽם׃ </a></div>\n",
       "<div class=\"features\"> <span class=\"pdp\"><a href=\"https://shebanq.ancient-data.org/hebrew/text?book=Deuteronomium&chapter=29&verse=2&version=c&mr=m&qw=q&tp=txt_p&tr=hb&wget=v&qget=v&nget=vt\" title=\"Deuteronomy 29:2\" sec=\"Deuteronomy 29:2\">prde</a></span> <span class=\"gloss\">they</span></div>\n",
       "\n",
       "\n",
       "</div>\n",
       "\n",
       "\n",
       "    </div>\n",
       "\n",
       "\n",
       "</div>\n",
       "\n",
       "\n",
       "</div>\n"
      ],
      "text/plain": [
       "<IPython.core.display.HTML object>"
      ]
     },
     "metadata": {},
     "output_type": "display_data"
    },
    {
     "data": {
      "text/markdown": [
       "\n",
       "\n",
       "**phrase** *2*\n",
       "\n"
      ],
      "text/plain": [
       "<IPython.core.display.Markdown object>"
      ]
     },
     "metadata": {},
     "output_type": "display_data"
    },
    {
     "data": {
      "text/html": [
       "<div class=\"atoms \" style=\"background-color: None;\">\n",
       "<a href=\"#\" class=\"nd\">897414</a>\n",
       "\n",
       "\n",
       "\n",
       "<div class=\"patom \" style=\"background-color: None;\">\n",
       "\n",
       "    <div class=\"phrase\">\n",
       "        <a href=\"https://shebanq.ancient-data.org/hebrew/text?book=Chronica_II&chapter=11&verse=11&version=c&mr=m&qw=q&tp=txt_p&tr=hb&wget=v&qget=v&nget=vt\" title=\"2_Chronicles 11:11\" sec=\"2_Chronicles 11:11\">phrase</a> <a href=\"#\" class=\"nd\">897414</a>  <span class=\"function\">Objc</span> <span class=\"typ\">NP</span>\n",
       "    </div>\n",
       "    <div class=\"atoms\">\n",
       "\n",
       "<div class=\"word  hl\">\n",
       "<a href=\"#\" class=\"nd\">412359</a>\n",
       "<div class=\"h\"><a target=\"_blank\" href=\"https://shebanq.ancient-data.org/hebrew/word?version=c&id=1NGJDn\" title=\"show this lexeme in SHEBANQ\">נְגִידִ֔ים </a></div>\n",
       "<div class=\"features\"> <span class=\"pdp\"><a href=\"https://shebanq.ancient-data.org/hebrew/text?book=Chronica_II&chapter=11&verse=11&version=c&mr=m&qw=q&tp=txt_p&tr=hb&wget=v&qget=v&nget=vt\" title=\"2_Chronicles 11:11\" sec=\"2_Chronicles 11:11\">subs</a></span> <span class=\"gloss\">chief</span></div>\n",
       "\n",
       "\n",
       "</div>\n",
       "\n",
       "<div class=\"word \" style=\"background-color: None;\">\n",
       "<a href=\"#\" class=\"nd\">412360</a>\n",
       "<div class=\"h\"><a target=\"_blank\" href=\"https://shebanq.ancient-data.org/hebrew/word?version=c&id=1W\" title=\"show this lexeme in SHEBANQ\">וְ</a></div>\n",
       "<div class=\"features\"> <span class=\"pdp\"><a href=\"https://shebanq.ancient-data.org/hebrew/text?book=Chronica_II&chapter=11&verse=11&version=c&mr=m&qw=q&tp=txt_p&tr=hb&wget=v&qget=v&nget=vt\" title=\"2_Chronicles 11:11\" sec=\"2_Chronicles 11:11\">conj</a></span> <span class=\"gloss\">and</span></div>\n",
       "\n",
       "\n",
       "</div>\n",
       "\n",
       "<div class=\"word \" style=\"background-color: None;\">\n",
       "<a href=\"#\" class=\"nd\">412361</a>\n",
       "<div class=\"h\"><a target=\"_blank\" href=\"https://shebanq.ancient-data.org/hebrew/word?version=c&id=1AWYRn\" title=\"show this lexeme in SHEBANQ\">אֹצְרֹ֥ות </a></div>\n",
       "<div class=\"features\"> <span class=\"pdp\"><a href=\"https://shebanq.ancient-data.org/hebrew/text?book=Chronica_II&chapter=11&verse=11&version=c&mr=m&qw=q&tp=txt_p&tr=hb&wget=v&qget=v&nget=vt\" title=\"2_Chronicles 11:11\" sec=\"2_Chronicles 11:11\">subs</a></span> <span class=\"gloss\">supply</span></div>\n",
       "\n",
       "\n",
       "</div>\n",
       "\n",
       "<div class=\"word \" style=\"background-color: None;\">\n",
       "<a href=\"#\" class=\"nd\">412362</a>\n",
       "<div class=\"h\"><a target=\"_blank\" href=\"https://shebanq.ancient-data.org/hebrew/word?version=c&id=1MAKLn\" title=\"show this lexeme in SHEBANQ\">מַאֲכָ֖ל </a></div>\n",
       "<div class=\"features\"> <span class=\"pdp\"><a href=\"https://shebanq.ancient-data.org/hebrew/text?book=Chronica_II&chapter=11&verse=11&version=c&mr=m&qw=q&tp=txt_p&tr=hb&wget=v&qget=v&nget=vt\" title=\"2_Chronicles 11:11\" sec=\"2_Chronicles 11:11\">subs</a></span> <span class=\"gloss\">food</span></div>\n",
       "\n",
       "\n",
       "</div>\n",
       "\n",
       "<div class=\"word \" style=\"background-color: None;\">\n",
       "<a href=\"#\" class=\"nd\">412363</a>\n",
       "<div class=\"h\"><a target=\"_blank\" href=\"https://shebanq.ancient-data.org/hebrew/word?version=c&id=1W\" title=\"show this lexeme in SHEBANQ\">וְ</a></div>\n",
       "<div class=\"features\"> <span class=\"pdp\"><a href=\"https://shebanq.ancient-data.org/hebrew/text?book=Chronica_II&chapter=11&verse=11&version=c&mr=m&qw=q&tp=txt_p&tr=hb&wget=v&qget=v&nget=vt\" title=\"2_Chronicles 11:11\" sec=\"2_Chronicles 11:11\">conj</a></span> <span class=\"gloss\">and</span></div>\n",
       "\n",
       "\n",
       "</div>\n",
       "\n",
       "<div class=\"word \" style=\"background-color: None;\">\n",
       "<a href=\"#\" class=\"nd\">412364</a>\n",
       "<div class=\"h\"><a target=\"_blank\" href=\"https://shebanq.ancient-data.org/hebrew/word?version=c&id=1CMNn\" title=\"show this lexeme in SHEBANQ\">שֶׁ֥מֶן </a></div>\n",
       "<div class=\"features\"> <span class=\"pdp\"><a href=\"https://shebanq.ancient-data.org/hebrew/text?book=Chronica_II&chapter=11&verse=11&version=c&mr=m&qw=q&tp=txt_p&tr=hb&wget=v&qget=v&nget=vt\" title=\"2_Chronicles 11:11\" sec=\"2_Chronicles 11:11\">subs</a></span> <span class=\"gloss\">oil</span></div>\n",
       "\n",
       "\n",
       "</div>\n",
       "\n",
       "<div class=\"word \" style=\"background-color: None;\">\n",
       "<a href=\"#\" class=\"nd\">412365</a>\n",
       "<div class=\"h\"><a target=\"_blank\" href=\"https://shebanq.ancient-data.org/hebrew/word?version=c&id=1W\" title=\"show this lexeme in SHEBANQ\">וָ</a></div>\n",
       "<div class=\"features\"> <span class=\"pdp\"><a href=\"https://shebanq.ancient-data.org/hebrew/text?book=Chronica_II&chapter=11&verse=11&version=c&mr=m&qw=q&tp=txt_p&tr=hb&wget=v&qget=v&nget=vt\" title=\"2_Chronicles 11:11\" sec=\"2_Chronicles 11:11\">conj</a></span> <span class=\"gloss\">and</span></div>\n",
       "\n",
       "\n",
       "</div>\n",
       "\n",
       "<div class=\"word \" style=\"background-color: None;\">\n",
       "<a href=\"#\" class=\"nd\">412366</a>\n",
       "<div class=\"h\"><a target=\"_blank\" href=\"https://shebanq.ancient-data.org/hebrew/word?version=c&id=1JJNn\" title=\"show this lexeme in SHEBANQ\">יָֽיִן׃ </a></div>\n",
       "<div class=\"features\"> <span class=\"pdp\"><a href=\"https://shebanq.ancient-data.org/hebrew/text?book=Chronica_II&chapter=11&verse=11&version=c&mr=m&qw=q&tp=txt_p&tr=hb&wget=v&qget=v&nget=vt\" title=\"2_Chronicles 11:11\" sec=\"2_Chronicles 11:11\">subs</a></span> <span class=\"gloss\">wine</span></div>\n",
       "\n",
       "\n",
       "</div>\n",
       "\n",
       "\n",
       "    </div>\n",
       "\n",
       "\n",
       "</div>\n",
       "\n",
       "\n",
       "</div>\n"
      ],
      "text/plain": [
       "<IPython.core.display.HTML object>"
      ]
     },
     "metadata": {},
     "output_type": "display_data"
    }
   ],
   "source": [
    "B.show(par_word_list[6], condenseType=\"phrase\", withNodes=True)"
   ]
  },
  {
   "cell_type": "code",
   "execution_count": 46,
   "metadata": {},
   "outputs": [
    {
     "name": "stdout",
     "output_type": "stream",
     "text": [
      "1409887 par אֹצְרֹ֥ות מַאֲכָ֖ל וְשֶׁ֥מֶן וָיָֽיִן׃ \n"
     ]
    }
   ],
   "source": [
    "ex_subphrase = par_word_list[6][1][1]\n",
    "\n",
    "for daughter in [d for d in E.mother.t(ex_subphrase) if F.rela.v(d) == \"par\"]:\n",
    "\n",
    "    print(daughter, F.rela.v(daughter), T.text(L.d(daughter, \"word\")))"
   ]
  },
  {
   "cell_type": "markdown",
   "metadata": {},
   "source": [
    "And now some examples of 2 word lengths..."
   ]
  },
  {
   "cell_type": "code",
   "execution_count": 49,
   "metadata": {},
   "outputs": [
    {
     "data": {
      "text/markdown": [
       "\n",
       "\n",
       "**phrase** *1*\n",
       "\n"
      ],
      "text/plain": [
       "<IPython.core.display.Markdown object>"
      ]
     },
     "metadata": {},
     "output_type": "display_data"
    },
    {
     "data": {
      "text/html": [
       "<div class=\"atoms \" style=\"background-color: None;\">\n",
       "<a href=\"#\" class=\"nd\">651919</a>\n",
       "\n",
       "\n",
       "\n",
       "<div class=\"patom \" style=\"background-color: None;\">\n",
       "\n",
       "    <div class=\"phrase\">\n",
       "        <a href=\"https://shebanq.ancient-data.org/hebrew/text?book=Genesis&chapter=2&verse=1&version=c&mr=m&qw=q&tp=txt_p&tr=hb&wget=v&qget=v&nget=vt\" title=\"Genesis 2:1\" sec=\"Genesis 2:1\">phrase</a> <a href=\"#\" class=\"nd\">651919</a>  <span class=\"function\">Subj</span> <span class=\"typ\">NP</span>\n",
       "    </div>\n",
       "    <div class=\"atoms\">\n",
       "\n",
       "<div class=\"word \" style=\"background-color: None;\">\n",
       "<a href=\"#\" class=\"nd\">676</a>\n",
       "<div class=\"h\"><a target=\"_blank\" href=\"https://shebanq.ancient-data.org/hebrew/word?version=c&id=1H\" title=\"show this lexeme in SHEBANQ\">הַ</a></div>\n",
       "<div class=\"features\"> <span class=\"pdp\"><a href=\"https://shebanq.ancient-data.org/hebrew/text?book=Genesis&chapter=2&verse=1&version=c&mr=m&qw=q&tp=txt_p&tr=hb&wget=v&qget=v&nget=vt\" title=\"Genesis 2:1\" sec=\"Genesis 2:1\">art</a></span> <span class=\"gloss\">the</span></div>\n",
       "\n",
       "\n",
       "</div>\n",
       "\n",
       "<div class=\"word  hl\">\n",
       "<a href=\"#\" class=\"nd\">677</a>\n",
       "<div class=\"h\"><a target=\"_blank\" href=\"https://shebanq.ancient-data.org/hebrew/word?version=c&id=1CMJMn\" title=\"show this lexeme in SHEBANQ\">שָּׁמַ֥יִם </a></div>\n",
       "<div class=\"features\"> <span class=\"pdp\"><a href=\"https://shebanq.ancient-data.org/hebrew/text?book=Genesis&chapter=2&verse=1&version=c&mr=m&qw=q&tp=txt_p&tr=hb&wget=v&qget=v&nget=vt\" title=\"Genesis 2:1\" sec=\"Genesis 2:1\">subs</a></span> <span class=\"gloss\">heavens</span></div>\n",
       "\n",
       "\n",
       "</div>\n",
       "\n",
       "<div class=\"word \" style=\"background-color: None;\">\n",
       "<a href=\"#\" class=\"nd\">678</a>\n",
       "<div class=\"h\"><a target=\"_blank\" href=\"https://shebanq.ancient-data.org/hebrew/word?version=c&id=1W\" title=\"show this lexeme in SHEBANQ\">וְ</a></div>\n",
       "<div class=\"features\"> <span class=\"pdp\"><a href=\"https://shebanq.ancient-data.org/hebrew/text?book=Genesis&chapter=2&verse=1&version=c&mr=m&qw=q&tp=txt_p&tr=hb&wget=v&qget=v&nget=vt\" title=\"Genesis 2:1\" sec=\"Genesis 2:1\">conj</a></span> <span class=\"gloss\">and</span></div>\n",
       "\n",
       "\n",
       "</div>\n",
       "\n",
       "<div class=\"word \" style=\"background-color: None;\">\n",
       "<a href=\"#\" class=\"nd\">679</a>\n",
       "<div class=\"h\"><a target=\"_blank\" href=\"https://shebanq.ancient-data.org/hebrew/word?version=c&id=1H\" title=\"show this lexeme in SHEBANQ\">הָ</a></div>\n",
       "<div class=\"features\"> <span class=\"pdp\"><a href=\"https://shebanq.ancient-data.org/hebrew/text?book=Genesis&chapter=2&verse=1&version=c&mr=m&qw=q&tp=txt_p&tr=hb&wget=v&qget=v&nget=vt\" title=\"Genesis 2:1\" sec=\"Genesis 2:1\">art</a></span> <span class=\"gloss\">the</span></div>\n",
       "\n",
       "\n",
       "</div>\n",
       "\n",
       "<div class=\"word \" style=\"background-color: None;\">\n",
       "<a href=\"#\" class=\"nd\">680</a>\n",
       "<div class=\"h\"><a target=\"_blank\" href=\"https://shebanq.ancient-data.org/hebrew/word?version=c&id=1ARYn\" title=\"show this lexeme in SHEBANQ\">אָ֖רֶץ </a></div>\n",
       "<div class=\"features\"> <span class=\"pdp\"><a href=\"https://shebanq.ancient-data.org/hebrew/text?book=Genesis&chapter=2&verse=1&version=c&mr=m&qw=q&tp=txt_p&tr=hb&wget=v&qget=v&nget=vt\" title=\"Genesis 2:1\" sec=\"Genesis 2:1\">subs</a></span> <span class=\"gloss\">earth</span></div>\n",
       "\n",
       "\n",
       "</div>\n",
       "\n",
       "<div class=\"word \" style=\"background-color: None;\">\n",
       "<a href=\"#\" class=\"nd\">681</a>\n",
       "<div class=\"h\"><a target=\"_blank\" href=\"https://shebanq.ancient-data.org/hebrew/word?version=c&id=1W\" title=\"show this lexeme in SHEBANQ\">וְ</a></div>\n",
       "<div class=\"features\"> <span class=\"pdp\"><a href=\"https://shebanq.ancient-data.org/hebrew/text?book=Genesis&chapter=2&verse=1&version=c&mr=m&qw=q&tp=txt_p&tr=hb&wget=v&qget=v&nget=vt\" title=\"Genesis 2:1\" sec=\"Genesis 2:1\">conj</a></span> <span class=\"gloss\">and</span></div>\n",
       "\n",
       "\n",
       "</div>\n",
       "\n",
       "<div class=\"word \" style=\"background-color: None;\">\n",
       "<a href=\"#\" class=\"nd\">682</a>\n",
       "<div class=\"h\"><a target=\"_blank\" href=\"https://shebanq.ancient-data.org/hebrew/word?version=c&id=1KLn\" title=\"show this lexeme in SHEBANQ\">כָל־</a></div>\n",
       "<div class=\"features\"> <span class=\"pdp\"><a href=\"https://shebanq.ancient-data.org/hebrew/text?book=Genesis&chapter=2&verse=1&version=c&mr=m&qw=q&tp=txt_p&tr=hb&wget=v&qget=v&nget=vt\" title=\"Genesis 2:1\" sec=\"Genesis 2:1\">subs</a></span> <span class=\"gloss\">whole</span></div>\n",
       "\n",
       "\n",
       "</div>\n",
       "\n",
       "<div class=\"word \" style=\"background-color: None;\">\n",
       "<a href=\"#\" class=\"nd\">683</a>\n",
       "<div class=\"h\"><a target=\"_blank\" href=\"https://shebanq.ancient-data.org/hebrew/word?version=c&id=1YBAn\" title=\"show this lexeme in SHEBANQ\">צְבָאָֽם׃ </a></div>\n",
       "<div class=\"features\"> <span class=\"pdp\"><a href=\"https://shebanq.ancient-data.org/hebrew/text?book=Genesis&chapter=2&verse=1&version=c&mr=m&qw=q&tp=txt_p&tr=hb&wget=v&qget=v&nget=vt\" title=\"Genesis 2:1\" sec=\"Genesis 2:1\">subs</a></span> <span class=\"gloss\">service</span></div>\n",
       "\n",
       "\n",
       "</div>\n",
       "\n",
       "\n",
       "    </div>\n",
       "\n",
       "\n",
       "</div>\n",
       "\n",
       "\n",
       "</div>\n"
      ],
      "text/plain": [
       "<IPython.core.display.HTML object>"
      ]
     },
     "metadata": {},
     "output_type": "display_data"
    },
    {
     "data": {
      "text/markdown": [
       "\n",
       "\n",
       "**phrase** *2*\n",
       "\n"
      ],
      "text/plain": [
       "<IPython.core.display.Markdown object>"
      ]
     },
     "metadata": {},
     "output_type": "display_data"
    },
    {
     "data": {
      "text/html": [
       "<div class=\"atoms \" style=\"background-color: None;\">\n",
       "<a href=\"#\" class=\"nd\">652841</a>\n",
       "\n",
       "\n",
       "\n",
       "<div class=\"patom \" style=\"background-color: None;\">\n",
       "\n",
       "    <div class=\"phrase\">\n",
       "        <a href=\"https://shebanq.ancient-data.org/hebrew/text?book=Genesis&chapter=5&verse=3&version=c&mr=m&qw=q&tp=txt_p&tr=hb&wget=v&qget=v&nget=vt\" title=\"Genesis 5:3\" sec=\"Genesis 5:3\">phrase</a> <a href=\"#\" class=\"nd\">652841</a>  <span class=\"function\">Time</span> <span class=\"typ\">NP</span>\n",
       "    </div>\n",
       "    <div class=\"atoms\">\n",
       "\n",
       "<div class=\"word  hl\">\n",
       "<a href=\"#\" class=\"nd\">2152</a>\n",
       "<div class=\"h\"><a target=\"_blank\" href=\"https://shebanq.ancient-data.org/hebrew/word?version=c&id=1CLCn\" title=\"show this lexeme in SHEBANQ\">שְׁלֹשִׁ֤ים </a></div>\n",
       "<div class=\"features\"> <span class=\"pdp\"><a href=\"https://shebanq.ancient-data.org/hebrew/text?book=Genesis&chapter=5&verse=3&version=c&mr=m&qw=q&tp=txt_p&tr=hb&wget=v&qget=v&nget=vt\" title=\"Genesis 5:3\" sec=\"Genesis 5:3\">subs</a></span> <span class=\"gloss\">three</span></div>\n",
       "\n",
       "\n",
       "</div>\n",
       "\n",
       "<div class=\"word \" style=\"background-color: None;\">\n",
       "<a href=\"#\" class=\"nd\">2153</a>\n",
       "<div class=\"h\"><a target=\"_blank\" href=\"https://shebanq.ancient-data.org/hebrew/word?version=c&id=1W\" title=\"show this lexeme in SHEBANQ\">וּ</a></div>\n",
       "<div class=\"features\"> <span class=\"pdp\"><a href=\"https://shebanq.ancient-data.org/hebrew/text?book=Genesis&chapter=5&verse=3&version=c&mr=m&qw=q&tp=txt_p&tr=hb&wget=v&qget=v&nget=vt\" title=\"Genesis 5:3\" sec=\"Genesis 5:3\">conj</a></span> <span class=\"gloss\">and</span></div>\n",
       "\n",
       "\n",
       "</div>\n",
       "\n",
       "<div class=\"word \" style=\"background-color: None;\">\n",
       "<a href=\"#\" class=\"nd\">2154</a>\n",
       "<div class=\"h\"><a target=\"_blank\" href=\"https://shebanq.ancient-data.org/hebrew/word?version=c&id=1MAHn\" title=\"show this lexeme in SHEBANQ\">מְאַת֙ </a></div>\n",
       "<div class=\"features\"> <span class=\"pdp\"><a href=\"https://shebanq.ancient-data.org/hebrew/text?book=Genesis&chapter=5&verse=3&version=c&mr=m&qw=q&tp=txt_p&tr=hb&wget=v&qget=v&nget=vt\" title=\"Genesis 5:3\" sec=\"Genesis 5:3\">subs</a></span> <span class=\"gloss\">hundred</span></div>\n",
       "\n",
       "\n",
       "</div>\n",
       "\n",
       "<div class=\"word \" style=\"background-color: None;\">\n",
       "<a href=\"#\" class=\"nd\">2155</a>\n",
       "<div class=\"h\"><a target=\"_blank\" href=\"https://shebanq.ancient-data.org/hebrew/word?version=c&id=1CNHn\" title=\"show this lexeme in SHEBANQ\">שָׁנָ֔ה </a></div>\n",
       "<div class=\"features\"> <span class=\"pdp\"><a href=\"https://shebanq.ancient-data.org/hebrew/text?book=Genesis&chapter=5&verse=3&version=c&mr=m&qw=q&tp=txt_p&tr=hb&wget=v&qget=v&nget=vt\" title=\"Genesis 5:3\" sec=\"Genesis 5:3\">subs</a></span> <span class=\"gloss\">year</span></div>\n",
       "\n",
       "\n",
       "</div>\n",
       "\n",
       "\n",
       "    </div>\n",
       "\n",
       "\n",
       "</div>\n",
       "\n",
       "\n",
       "</div>\n"
      ],
      "text/plain": [
       "<IPython.core.display.HTML object>"
      ]
     },
     "metadata": {},
     "output_type": "display_data"
    },
    {
     "data": {
      "text/markdown": [
       "\n",
       "\n",
       "**phrase** *3*\n",
       "\n"
      ],
      "text/plain": [
       "<IPython.core.display.Markdown object>"
      ]
     },
     "metadata": {},
     "output_type": "display_data"
    },
    {
     "data": {
      "text/html": [
       "<div class=\"atoms \" style=\"background-color: None;\">\n",
       "<a href=\"#\" class=\"nd\">653522</a>\n",
       "\n",
       "\n",
       "\n",
       "<div class=\"patom \" style=\"background-color: None;\">\n",
       "\n",
       "    <div class=\"phrase\">\n",
       "        <a href=\"https://shebanq.ancient-data.org/hebrew/text?book=Genesis&chapter=7&verse=24&version=c&mr=m&qw=q&tp=txt_p&tr=hb&wget=v&qget=v&nget=vt\" title=\"Genesis 7:24\" sec=\"Genesis 7:24\">phrase</a> <a href=\"#\" class=\"nd\">653522</a>  <span class=\"function\">Time</span> <span class=\"typ\">NP</span>\n",
       "    </div>\n",
       "    <div class=\"atoms\">\n",
       "\n",
       "<div class=\"word  hl\">\n",
       "<a href=\"#\" class=\"nd\">3540</a>\n",
       "<div class=\"h\"><a target=\"_blank\" href=\"https://shebanq.ancient-data.org/hebrew/word?version=c&id=1XMCn\" title=\"show this lexeme in SHEBANQ\">חֲמִשִּׁ֥ים </a></div>\n",
       "<div class=\"features\"> <span class=\"pdp\"><a href=\"https://shebanq.ancient-data.org/hebrew/text?book=Genesis&chapter=7&verse=24&version=c&mr=m&qw=q&tp=txt_p&tr=hb&wget=v&qget=v&nget=vt\" title=\"Genesis 7:24\" sec=\"Genesis 7:24\">subs</a></span> <span class=\"gloss\">five</span></div>\n",
       "\n",
       "\n",
       "</div>\n",
       "\n",
       "<div class=\"word \" style=\"background-color: None;\">\n",
       "<a href=\"#\" class=\"nd\">3541</a>\n",
       "<div class=\"h\"><a target=\"_blank\" href=\"https://shebanq.ancient-data.org/hebrew/word?version=c&id=1W\" title=\"show this lexeme in SHEBANQ\">וּ</a></div>\n",
       "<div class=\"features\"> <span class=\"pdp\"><a href=\"https://shebanq.ancient-data.org/hebrew/text?book=Genesis&chapter=7&verse=24&version=c&mr=m&qw=q&tp=txt_p&tr=hb&wget=v&qget=v&nget=vt\" title=\"Genesis 7:24\" sec=\"Genesis 7:24\">conj</a></span> <span class=\"gloss\">and</span></div>\n",
       "\n",
       "\n",
       "</div>\n",
       "\n",
       "<div class=\"word \" style=\"background-color: None;\">\n",
       "<a href=\"#\" class=\"nd\">3542</a>\n",
       "<div class=\"h\"><a target=\"_blank\" href=\"https://shebanq.ancient-data.org/hebrew/word?version=c&id=1MAHn\" title=\"show this lexeme in SHEBANQ\">מְאַ֖ת </a></div>\n",
       "<div class=\"features\"> <span class=\"pdp\"><a href=\"https://shebanq.ancient-data.org/hebrew/text?book=Genesis&chapter=7&verse=24&version=c&mr=m&qw=q&tp=txt_p&tr=hb&wget=v&qget=v&nget=vt\" title=\"Genesis 7:24\" sec=\"Genesis 7:24\">subs</a></span> <span class=\"gloss\">hundred</span></div>\n",
       "\n",
       "\n",
       "</div>\n",
       "\n",
       "<div class=\"word \" style=\"background-color: None;\">\n",
       "<a href=\"#\" class=\"nd\">3543</a>\n",
       "<div class=\"h\"><a target=\"_blank\" href=\"https://shebanq.ancient-data.org/hebrew/word?version=c&id=1JWMn\" title=\"show this lexeme in SHEBANQ\">יֹֽום׃ </a></div>\n",
       "<div class=\"features\"> <span class=\"pdp\"><a href=\"https://shebanq.ancient-data.org/hebrew/text?book=Genesis&chapter=7&verse=24&version=c&mr=m&qw=q&tp=txt_p&tr=hb&wget=v&qget=v&nget=vt\" title=\"Genesis 7:24\" sec=\"Genesis 7:24\">subs</a></span> <span class=\"gloss\">day</span></div>\n",
       "\n",
       "\n",
       "</div>\n",
       "\n",
       "\n",
       "    </div>\n",
       "\n",
       "\n",
       "</div>\n",
       "\n",
       "\n",
       "</div>\n"
      ],
      "text/plain": [
       "<IPython.core.display.HTML object>"
      ]
     },
     "metadata": {},
     "output_type": "display_data"
    }
   ],
   "source": [
    "B.show(par_word_list[2][:5], condenseType=\"phrase\", withNodes=True)"
   ]
  },
  {
   "cell_type": "markdown",
   "metadata": {},
   "source": [
    "These examples raise an important possibility. If we take the first word labeled \"subs\" (substantive) within the parallel, will that give us the coordinate head?\n",
    "\n",
    "Below is an example from Genesis 5:3 which shows a potential pitfall of the method 2 approach, and even of the current approach."
   ]
  },
  {
   "cell_type": "code",
   "execution_count": 50,
   "metadata": {},
   "outputs": [
    {
     "name": "stdout",
     "output_type": "stream",
     "text": [
      "652841 שְׁלֹשִׁ֤ים וּמְאַת֙ שָׁנָ֔ה \n",
      "subphrase \ttext \trelation \tmother\n",
      "שְׁלֹשִׁ֤ים  1301044 NA ()\n",
      "מְאַת֙ שָׁנָ֔ה  1301047 par (1301044,)\n",
      "מְאַת֙  1301045 NA ()\n",
      "שָׁנָ֔ה  1301046 rec (2154,)\n"
     ]
    }
   ],
   "source": [
    "example = L.d(T.nodeFromSection((\"Genesis\", 5, 3)), \"phrase\")[3]\n",
    "\n",
    "print(example, T.text(L.d(example, \"word\")))\n",
    "show_subphrases(example)"
   ]
  },
  {
   "cell_type": "markdown",
   "metadata": {},
   "source": [
    "The example above illustrates the shortcoming of even the current method of separating quantifiers and quantifieds, as seen in this result:"
   ]
  },
  {
   "cell_type": "code",
   "execution_count": 51,
   "metadata": {},
   "outputs": [
    {
     "data": {
      "text/plain": [
       "'שְׁלֹשִׁ֤ים |שָׁנָ֔ה '"
      ]
     },
     "execution_count": 51,
     "metadata": {},
     "output_type": "execute_result"
    }
   ],
   "source": [
    "\"|\".join(T.text([h]) for h in get_heads(example))"
   ]
  },
  {
   "cell_type": "markdown",
   "metadata": {},
   "source": [
    "The algorithm retrieves both \"thirty\" and \"year,\" even though the only head in this case is \"year\". This is a shortcoming of the quantifier function, which in this case has not detected a complex quantifier that is formed with a parallel relation.\n",
    "\n",
    "The quantifier algorithm should have passed שלשים along to another test before validating it as a head. That is, it should look for this case of a complex quantifier. This is actually another good reason to change the parallels finder to approach 2, so that parallels are processed at the head level rather than disconnected from it. In this setup, the algorithm will gather all parallels to the head. If the syntactic head is a quantifier. If it has no quantified noun, then the algorithm will look further at the parallel relationship to see if it is also a quantifier. If it is, then it will look to find that quantifier's substantive and return it instead. This is a complex recursive process that will have to be coded."
   ]
  },
  {
   "cell_type": "code",
   "execution_count": 157,
   "metadata": {},
   "outputs": [],
   "source": [
    "# B.show(par_word_list[3][:15]) # uncomment me"
   ]
  },
  {
   "cell_type": "markdown",
   "metadata": {},
   "source": [
    "### Are there cases where there is multiple coordinate relations with a single subphrase?"
   ]
  },
  {
   "cell_type": "code",
   "execution_count": 160,
   "metadata": {},
   "outputs": [
    {
     "data": {
      "text/plain": [
       "0"
      ]
     },
     "execution_count": 160,
     "metadata": {},
     "output_type": "execute_result"
    }
   ],
   "source": [
    "test_multiple_coor = \"\"\"\n",
    "\n",
    "sp1:subphrase\n",
    "sp2:subphrase rela=par\n",
    "sp3:subphrase rela=par\n",
    "\n",
    "sp2 -mother> sp1\n",
    "sp3 -mother> sp1\n",
    "\n",
    "sp2 # sp3\n",
    "\"\"\"\n",
    "\n",
    "test_multiple_coor = sorted(S.search(test_multiple_coor))\n",
    "\n",
    "len(test_multiple_coor)"
   ]
  },
  {
   "cell_type": "markdown",
   "metadata": {},
   "source": [
    "No, it does not happen. Thus, coordinate relations are chained to each other, not multiplied to a single mother."
   ]
  },
  {
   "cell_type": "markdown",
   "metadata": {},
   "source": [
    "#### Conclusions\n",
    "This inquiry sparked the one above it about the subphrase by subphrase approach. We have decided to table this method for now."
   ]
  }
 ],
 "metadata": {
  "jupytext": {
   "encoding": "# -*- coding: utf-8 -*-"
  },
  "kernelspec": {
   "display_name": "Python 3",
   "language": "python",
   "name": "python3"
  },
  "language_info": {
   "codemirror_mode": {
    "name": "ipython",
    "version": 3
   },
   "file_extension": ".py",
   "mimetype": "text/x-python",
   "name": "python",
   "nbconvert_exporter": "python",
   "pygments_lexer": "ipython3",
   "version": "3.7.0"
  }
 },
 "nbformat": 4,
 "nbformat_minor": 2
}
