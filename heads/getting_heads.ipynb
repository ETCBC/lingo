{
 "cells": [
  {
   "cell_type": "markdown",
   "metadata": {},
   "source": [
    "# Getting Heads 😶\n",
    "## By Cody Kingham & Christiaan Erwich\n",
    "\n",
    "## Problem Description\n",
    "The ETCBC's BHSA core data does not contain the standard syntax tree format. This also means that syntactic and functional relationships between individual words are not mapped in a transparent or easily accessible way. In some cases, fine-grained relationships are ignored altogether. For example, for a given noun phrase (NP), there is no explicit way of obtaining its head noun (i.e. the noun itself without any modifying elements). This causes numerous problems for research in the realm of semantics. For instance, it is currently very difficult to calculate the complete person, gender, and number (PGN) of a given subject phrase. That is because PGN is stored at the word level only. But this is a very inadequate representation. Phrases in the ETCBC often contain coordinate relationships within the phrase. So even if one selects the first \"noun\" in the phrase and checks for its PGN value, they may overlook the presence of another noun which makes the phrase plural. Ideally, the phrase itself would have a PGN feature. But before this kind of data is created, it is necessary to separate the head words of a phrase from their modifying elements such as adjectives, determiners, or nouns in construct (genitive) relations.\n",
    "\n",
    "A head word can be defined as the word for which a phrase type is named after. A phrase type can be NP for noun phrase or VP for verb phrase. In this notebook, we experiment with and build the functions stored in `heads.py` in order to export a set of Text-Fabric edge features. The edge features represent a mapping from a phrase node to its head element. \n",
    "\n",
    "This goal requires us to think carefully about the way inter-word, semantic relations are reflected in the ETCBC's data. The ETCBC *does* contain some rudimentary semantic embeddings through the so-called [subphrase](https://etcbc.github.io/bhsa/features/hebrew/c/otype). These can be utilized to isolate head words from secondary elements. A subphrase should *not* be thought of as a smaller, embedded phrase, like the ETCBC's phrase-atom (though it sometimes must indadequately fill that role). Rather, the subphrase is a way to encode relationships between words below the level of a phrase(atom), hence \"sub.\" A subphrase can be a single word, or it can be a collection of words. A word can be in multiple subphrases, but can not be in more than 3 (due to the limitations of the data creation program, [parsephrases](http://www.etcbc.nl/datacreation/#ps3.p)).\n",
    "\n",
    "## Method\n",
    "The types of phrases represented in the ETCBC include `NP` (noun phrase), `VP` (verb phrase), `PrNP` (proper noun phrase), `PP` (prepositional phrase), `AdvP` (adverbial phrase), and [eight others](https://etcbc.github.io/bhsa/features/hebrew/c/typ). For some of these types, isolating the head word is a simple affair. By coordinating a word's phrase-dependent part of speech with its enclosing phrase's type, one can identify the head word. For a `VP`, that would mean simply finding the word within the phrase that has a `pdp` (phrase dependent part of speech) value of `verb`. Or for a prepositional phrase, find the word with a `pdp` of `prep`.\n",
    "\n",
    "The `NP` and `PrNP`, on the other hand, present special challenges. These phrases often contain multiple words with a modifying relation to the head noun. An example of this is the construct relation (e.g. \"Son of Jacob\"). The problem becomes particularly thorny when relations like the construct are chained together so that one is faced with the choice between multiple potential head nouns.\n",
    "\n",
    "To navigate the problem, we must use the feature [rela (relationship)](https://etcbc.github.io/bhsa/features/hebrew/c/rela) stored on `subphrase`s in addition to the `pdp` and phrase `type` features. In order to isolate the head word of a `NP`, we look for a word within the phrase that has a `pdp` value of `subs` (i.e. noun). We then obtain a list of all the `subphrase`s which contain that word using the [L.u Text-Fabric method](https://github.com/Dans-labs/text-fabric/wiki/Api#locality). We then use the list of subphrase node numbers to create a list of all subphrase relations containing the word. If the list contains *any* dependent relations, then the word is automatically excluded from being a head word and we can move on to the next candidate. One final check is required for candidate words at the level of the `phrase`: the same procedure described above for `subphrase`s must be performed for `phrase_atom` relations. This means excluding words within a `phrase_atom` with a dependent relation to another `phrase_atom` within the `phrase`. If the head of a *`phrase_atom`* is being calculated, this step is not necessary.\n",
    "\n",
    "There are only two possible `subphrase` or `phrase_atom` relations for a valid head word: `NA` or `par`/`Para`. `NA` means that no relation is reflected. The word is independent. The `par` (`subphrase`) and `Para` (`phrase_atom`) stands for parallel relations, i.e. coordinates. These words require one further test, that is, it must be verified that their mother (using the [edge feature](https://github.com/Dans-labs/text-fabric/wiki/Api#edge-features) \"[mother](https://etcbc.github.io/bhsa/features/hebrew/c/mother.html)\") is itself a head word. To do this step thus requires us to keep track of those words within the phrase which have been validated. We can do so with a simple list."
   ]
  },
  {
   "cell_type": "markdown",
   "metadata": {},
   "source": [
    "## Code Development\n",
    "\n",
    "Below we experiment with the code and develop the functions that will extract the head nouns. This involves a good deal of manual inspections of the results before exporting the Text-Fabric features.\n",
    "\n",
    "The code is written immediately below. Associated questions that arise while writing or evaluating the code are contained in the subsequent section."
   ]
  },
  {
   "cell_type": "code",
   "execution_count": 1,
   "metadata": {},
   "outputs": [
    {
     "data": {
      "text/markdown": [
       "**Documentation:** <a target=\"_blank\" href=\"https://etcbc.github.io/bhsa\" title=\"{provenance of this corpus}\">BHSA</a> <a target=\"_blank\" href=\"https://etcbc.github.io/bhsa/features/hebrew/c/0_home.html\" title=\"{CORPUS} feature documentation\">Feature docs</a> <a target=\"_blank\" href=\"https://etcbc.github.io/bhsa/api.html\" title=\"BHSA API documentation\">BHSA API</a> <a target=\"_blank\" href=\"https://github.com/Dans-labs/text-fabric/wiki/api\" title=\"text-fabric-api\">Text-Fabric API</a>"
      ],
      "text/plain": [
       "<IPython.core.display.Markdown object>"
      ]
     },
     "metadata": {},
     "output_type": "display_data"
    },
    {
     "data": {
      "text/markdown": [
       "\n",
       "This notebook online:\n",
       "<a target=\"_blank\" href=\"http://nbviewer.jupyter.org/github/etcbc/lingo/blob/master/heads/getting_heads.ipynb\">NBViewer</a>\n",
       "<a target=\"_blank\" href=\"https://github.com/etcbc/lingo/blob/master/heads/getting_heads.ipynb\">GitHub</a>\n"
      ],
      "text/plain": [
       "<IPython.core.display.Markdown object>"
      ]
     },
     "metadata": {},
     "output_type": "display_data"
    },
    {
     "data": {
      "text/html": [
       "\n",
       "<style>\n",
       ".verse {\n",
       "    display: flex;\n",
       "    flex-flow: row wrap;\n",
       "    direction: rtl;\n",
       "}\n",
       ".vl {\n",
       "    display: flex;\n",
       "    flex-flow: column nowrap;\n",
       "    direction: ltr;\n",
       "}\n",
       ".sentence,.clause,.phrase {\n",
       "    margin-top: -1.2em;\n",
       "    margin-left: 1em;\n",
       "    background: #ffffff none repeat scroll 0 0;\n",
       "    padding: 0 0.3em;\n",
       "    border-style: solid;\n",
       "    border-radius: 0.2em;\n",
       "    font-size: small;\n",
       "    display: block;\n",
       "    width: fit-content;\n",
       "    max-width: fit-content;\n",
       "    direction: ltr;\n",
       "}\n",
       ".atoms {\n",
       "    display: flex;\n",
       "    flex-flow: row wrap;\n",
       "    margin: 0.3em;\n",
       "    padding: 0.3em;\n",
       "    direction: rtl;\n",
       "    background-color: #ffffff;\n",
       "}\n",
       ".satom,.catom,.patom {\n",
       "    margin: 0.3em;\n",
       "    padding: 0.3em;\n",
       "    border-radius: 0.3em;\n",
       "    border-style: solid;\n",
       "    display: flex;\n",
       "    flex-flow: column nowrap;\n",
       "    direction: rtl;\n",
       "    background-color: #ffffff;\n",
       "}\n",
       ".sentence {\n",
       "    border-color: #aa3333;\n",
       "    border-width: 1px;\n",
       "}\n",
       ".clause {\n",
       "    border-color: #aaaa33;\n",
       "    border-width: 1px;\n",
       "}\n",
       ".phrase {\n",
       "    border-color: #33aaaa;\n",
       "    border-width: 1px;\n",
       "}\n",
       ".satom {\n",
       "    border-color: #aa3333;\n",
       "    border-width: 4px;\n",
       "}\n",
       ".catom {\n",
       "    border-color: #aaaa33;\n",
       "    border-width: 3px;\n",
       "}\n",
       ".patom {\n",
       "    border-color: #33aaaa;\n",
       "    border-width: 3px;\n",
       "}\n",
       ".word {\n",
       "    padding: 0.1em;\n",
       "    margin: 0.1em;\n",
       "    border-radius: 0.1em;\n",
       "    border: 1px solid #cccccc;\n",
       "    display: flex;\n",
       "    flex-flow: column nowrap;\n",
       "    direction: rtl;\n",
       "    background-color: #ffffff;\n",
       "}\n",
       ".satom.l,.catom.l,.patom.l {\n",
       "    border-left-style: dotted\n",
       "}\n",
       ".satom.r,.catom.r,.patom.r {\n",
       "    border-right-style: dotted\n",
       "}\n",
       ".satom.L,.catom.L,.patom.L {\n",
       "    border-left-style: none\n",
       "}\n",
       ".satom.R,.catom.R,.patom.R {\n",
       "    border-right-style: none\n",
       "}\n",
       ".h {\n",
       "    font-family: \"Ezra SIL\", \"SBL Hebrew\", sans-serif;\n",
       "    font-size: large;\n",
       "    direction: rtl;\n",
       "}\n",
       ".rela,.function,.typ {\n",
       "    font-family: monospace;\n",
       "    font-size: small;\n",
       "    color: #0000bb;\n",
       "}\n",
       ".sp {\n",
       "    font-family: monospace;\n",
       "    font-size: medium;\n",
       "    color: #0000bb;\n",
       "}\n",
       ".gl {\n",
       "    font-family: sans-serif;\n",
       "    font-size: small;\n",
       "    color: #aaaaaa;\n",
       "}\n",
       ".vs {\n",
       "    font-family: sans-serif;\n",
       "    font-size: small;\n",
       "    font-weight: bold;\n",
       "    color: #444444;\n",
       "}\n",
       ".nd {\n",
       "    font-family: monospace;\n",
       "    font-size: x-small;\n",
       "    color: #999999;\n",
       "}\n",
       ".hl {\n",
       "    background-color: #ffee66;\n",
       "}\n",
       "</style>\n"
      ],
      "text/plain": [
       "<IPython.core.display.HTML object>"
      ]
     },
     "metadata": {},
     "output_type": "display_data"
    }
   ],
   "source": [
    "import collections, sys, os\n",
    "\n",
    "# Load Text-Fabric and B (visualizer)\n",
    "# separate import of tf.fabric not needed with bhsa module\n",
    "LOC = ('~/github', 'etcbc/bhsa', 'getting_heads')\n",
    "sys.path.append(os.path.expanduser(f'{LOC[0]}/{LOC[1]}/programs'))\n",
    "from bhsa import Bhsa \n",
    "B = Bhsa(*LOC)\n",
    "B.api.makeAvailableIn(globals())\n",
    "\n",
    "B.load('''\n",
    "      book chapter verse\n",
    "      typ pdp rela mother \n",
    "      function lex sp ls\n",
    "       ''')"
   ]
  },
  {
   "cell_type": "code",
   "execution_count": 38,
   "metadata": {},
   "outputs": [],
   "source": [
    "def give_heads(phrase):\n",
    "    '''\n",
    "    Extracts and returns the heads of a supplied\n",
    "    phrase or phrase atom based on that phrase's type\n",
    "    and the relations reflected within the phrase.\n",
    "    \n",
    "    --input--\n",
    "    phrase(atom) node number\n",
    "    \n",
    "    --output--\n",
    "    tuple of head word node(s) \n",
    "    '''\n",
    "    \n",
    "    # mapping from phrase type to good part of speech values for heads\n",
    "    head_pdps = {'VP': {'verb'},                   # verb \n",
    "                 'NP': {'subs'},                   # noun \n",
    "                 'PrNP': {'nmpr', 'subs'},         # proper-noun \n",
    "                 'AdvP': {'advb', 'nmpr', 'subs'}, # adverbial \n",
    "                 'PP': {'prep'},                   # prepositional \n",
    "                 'CP': {'conj', 'prep'},           # conjunctive\n",
    "                 'PPrP': {'prps'},                 # personal pronoun\n",
    "                 'DPrP': {'prde'},                 # demonstrative pronoun\n",
    "                 'IPrP': {'prin'},                 # interrogative pronoun\n",
    "                 'InjP': {'intj'},                 # interjectional\n",
    "                 'NegP': {'nega'},                 # negative\n",
    "                 'InrP': {'inrg'},                 # interrogative\n",
    "                 'AdjP': {'adjv'}                  # adjective\n",
    "                } \n",
    "    \n",
    "    # get phrase-head's part of speech value and list of candidate matches\n",
    "    phrase_type = F.typ.v(phrase)\n",
    "    head_candidates = [w for w in L.d(phrase, 'word')\n",
    "                          if F.pdp.v(w) in head_pdps[phrase_type]]\n",
    "        \n",
    "    # VP with verbs require no further processing, return the head verb\n",
    "    if phrase_type == 'VP':\n",
    "        return tuple(head_candidates[0])\n",
    "        \n",
    "    # go head-hunting!\n",
    "    heads = []\n",
    "    \n",
    "    for word in head_candidates:\n",
    "        \n",
    "        # gather the word's subphrase (+ phrase_atom if otype is phrase) relations\n",
    "        word_phrases = list(L.u(word, 'subphrase'))\n",
    "        word_phrases += list(L.u(word, 'phrase_atom')) if (F.otype.v(phrase) == 'phrase') else list()\n",
    "        word_relas = set(F.rela.v(phr) for phr in word_phrases) or {'NA'}\n",
    "        \n",
    "        # check (sub)phrase relations for independency\n",
    "        if word_relas - {'NA', 'par', 'Para'}: \n",
    "            continue\n",
    "            \n",
    "        # check parallel relations for independency\n",
    "        elif word_relas & {'par', 'Para'} and mother_is_head(word_phrases, heads):\n",
    "            heads.append(word)\n",
    "            \n",
    "        # save all others as heads, check for quantifiers first\n",
    "        else:\n",
    "            this_head = find_quantified(word) or word # check for quantifiers (e.g. כל); else take the word\n",
    "            heads.append(this_head)\n",
    "            \n",
    "    return heads\n",
    "            \n",
    "def mother_is_head(word_phrases, previous_heads):\n",
    "    \n",
    "    '''\n",
    "    Test and validate parallel relationships for independency.\n",
    "    Must gather the mother for each relation and check whether \n",
    "    the mother contains a head word. \n",
    "    \n",
    "    --input--\n",
    "    * list of phrase nodes for a given word (includes subphrases)\n",
    "    * list of previously approved heads\n",
    "    \n",
    "    --output--\n",
    "    boolean\n",
    "    '''\n",
    "    \n",
    "    # get word's enclosing phrases that are parallel\n",
    "    parallel_phrases = [ph for ph in word_phrases if F.rela.v(ph) in {'par', 'Para'}]\n",
    "    \n",
    "    # get the mother for the parallel phrases\n",
    "    parallel_mothers = [E.mother.f(ph)[0] for ph in parallel_phrases] \n",
    "    \n",
    "    # get mothers' words, by mother\n",
    "    parallel_mom_words = [set(L.d(mom, 'word')) for mom in parallel_mothers]\n",
    "    \n",
    "    # test for head in each mother\n",
    "    test_mothers = [bool(phrs_words & set(previous_heads)) for phrs_words in parallel_mom_words] \n",
    "    \n",
    "    return bool(test_mothers)\n",
    "    \n",
    "def find_quantified(word):\n",
    "    \n",
    "    '''    \n",
    "    Check whether a head candidate is a quantifier (e.g. כל).\n",
    "    If it is, walk down the construct chain until\n",
    "    the quantified noun is found.\n",
    "    \n",
    "    --input--\n",
    "    word node\n",
    "    \n",
    "    --output--\n",
    "    new word node or None\n",
    "    '''\n",
    "    \n",
    "    custom_quants = {'KL/', 'M<V/'} # quantifiers, others?\n",
    "    \n",
    "    if F.lex.v(word) not in custom_quants and F.ls.v(word) != 'card':\n",
    "        return None\n",
    "        \n",
    "    # climb down the construct chain\n",
    "    quantified = word\n",
    "    while E.mother.t(quantified) and F.rela.v(E.mother.t(quantified)[0]) == 'rec':\n",
    "        quantified = E.mother.t(quantified)[0]\n",
    "        \n",
    "    return quantified"
   ]
  },
  {
   "cell_type": "markdown",
   "metadata": {},
   "source": [
    "## Tests\n",
    "\n",
    "In this section, important questions are asked whose answers are needed to ensure the code is written correctly. The BHSA data is queried to answer them. These are questions like, \"Do we need to check for relational independency for only noun phrases?\" (no); and \"does every phrase type have a word with a corresponding pdp?\" (no).\n",
    "\n",
    "### Make definitions available for tests:"
   ]
  },
  {
   "cell_type": "code",
   "execution_count": 66,
   "metadata": {},
   "outputs": [],
   "source": [
    "# mapping from phrase type to its head part of speech\n",
    "type_to_pdp = {'VP': 'verb', # verb \n",
    "               'NP': 'subs', # noun \n",
    "               'PrNP': 'nmpr', # proper-noun \n",
    "               'AdvP': 'advb', # adverbial \n",
    "               'PP': 'prep', # prepositional \n",
    "               'CP': 'conj', # conjunctive\n",
    "               'PPrP': 'prps', # personal pronoun\n",
    "               'DPrP': 'prde', # demonstrative pronoun\n",
    "               'IPrP': 'prin', # interrogative pronoun\n",
    "               'InjP': 'intj', # interjectional\n",
    "               'NegP': 'nega', # negative\n",
    "               'InrP': 'inrg', # interrogative\n",
    "               'AdjP': 'adjv'} # adjective"
   ]
  },
  {
   "cell_type": "markdown",
   "metadata": {},
   "source": [
    "### Test for non-NP phrases with valid pdp but invalid head\n",
    "\n",
    "These tests demonstrate that subphrase relation checks are also needed for phrase types besides noun phrases. The only valid subphrase/phrase_atom relations for any potential head word is either `NA` or `par`/`Para`. While a few phrase types do not need additional relational checks, e.g. personal pronoun phrases, we can go ahead and consistently handle all phrases in the same way.\n",
    "\n",
    "The only exception to the above rule is the `VP`, for which there are 14 cases of the `VP`'s head word (verb) that is also in a subphrase with a regens (`rec`) relation.\n",
    "\n",
    "The operational question of these tests was:\n",
    "> Are there cases in which a non-NP phrase(atom) contains a word with the corresponding pdp value, but which is probably not a head?\n",
    "\n",
    "To answer the question, we first survey all cases where the phrase type's head candidate is in a subphrase with a relation that is not normally \"independent.\" Based on the survey, we manually check the most pertinent phrase types and results. The tests reveal that, indeed, relation checks are needed for many phrase types."
   ]
  },
  {
   "cell_type": "code",
   "execution_count": 57,
   "metadata": {},
   "outputs": [],
   "source": [
    "def test_pdp_safe(phrase_object='phrase_atom'):\n",
    "    \n",
    "    '''\n",
    "    Make a survey of phrase types and their matching pdp words,\n",
    "    count what kinds of subphrase relations these words \n",
    "    occurr in. The survey can then be used to investigate \n",
    "    whether phrase types besides noun phrases require relationship\n",
    "    checks for independency.\n",
    "    '''\n",
    "    \n",
    "    pdp_relas_survey = collections.defaultdict(lambda: collections.Counter())\n",
    "    headless = 0\n",
    "    \n",
    "    for phrase in F.otype.s(phrase_object):\n",
    "\n",
    "        typ = F.typ.v(phrase) # phrase type\n",
    "\n",
    "        # skip noun phrases\n",
    "        if typ in {'NP', 'PrNP'}: \n",
    "            continue\n",
    "\n",
    "        head_pdp = type_to_pdp[typ]\n",
    "\n",
    "        maybe_heads = [w for w in L.d(phrase, 'word') \n",
    "                           if F.pdp.v(w) == head_pdp]\n",
    "        \n",
    "        # this check shows that many\n",
    "        # phrases don't have a word \n",
    "        # with a corresponding pdp!\n",
    "        if not maybe_heads:\n",
    "            headless += 1\n",
    "\n",
    "        # survey the candidate heads' relations\n",
    "        for word in maybe_heads:\n",
    "\n",
    "            head_name = typ + '|' + head_pdp\n",
    "            subphrases = L.u(word, 'subphrase')\n",
    "            sp_relas = set(F.rela.v(sp) for sp in subphrases)\\\n",
    "                        if subphrases else {'NA'} # <- handle cases without any subphrases (i.e. verbs)\n",
    "\n",
    "            pdp_relas_survey[head_name].update(sp_relas)\n",
    "\n",
    "    print(f'phrases without matching pdp: {headless}\\n')\n",
    "    print('subphrase relation survey: ')\n",
    "    for name, rela_counts in pdp_relas_survey.items():\n",
    "\n",
    "        print(name)\n",
    "\n",
    "        for r, count in rela_counts.items():\n",
    "            print('\\t', r, '-', count)"
   ]
  },
  {
   "cell_type": "code",
   "execution_count": 58,
   "metadata": {},
   "outputs": [
    {
     "name": "stdout",
     "output_type": "stream",
     "text": [
      "phrases without matching pdp: 837\n",
      "\n",
      "subphrase relation survey: \n",
      "PP|prep\n",
      "\t NA - 64539\n",
      "\t par - 3822\n",
      "\t adj - 42\n",
      "\t rec - 9\n",
      "VP|verb\n",
      "\t NA - 69011\n",
      "\t rec - 14\n",
      "\t par - 1\n",
      "CP|conj\n",
      "\t NA - 53848\n",
      "AdvP|advb\n",
      "\t NA - 5137\n",
      "\t par - 102\n",
      "\t mod - 49\n",
      "\t adj - 1\n",
      "AdjP|adjv\n",
      "\t NA - 1854\n",
      "\t par - 138\n",
      "\t atr - 6\n",
      "\t adj - 3\n",
      "\t rec - 1\n",
      "InjP|intj\n",
      "\t NA - 1872\n",
      "\t par - 11\n",
      "DPrP|prde\n",
      "\t NA - 790\n",
      "NegP|nega\n",
      "\t NA - 6743\n",
      "PPrP|prps\n",
      "\t NA - 4468\n",
      "\t par - 9\n",
      "IPrP|prin\n",
      "\t NA - 797\n",
      "\t par - 1\n",
      "InrP|inrg\n",
      "\t NA - 1291\n",
      "\t par - 3\n"
     ]
    }
   ],
   "source": [
    "# for phrase_atoms\n",
    "test_pdp_safe()"
   ]
  },
  {
   "cell_type": "code",
   "execution_count": 59,
   "metadata": {},
   "outputs": [
    {
     "name": "stdout",
     "output_type": "stream",
     "text": [
      "phrases without matching pdp: 670\n",
      "\n",
      "subphrase relation survey: \n",
      "PP|prep\n",
      "\t NA - 62330\n",
      "\t par - 3676\n",
      "\t adj - 42\n",
      "\t rec - 10\n",
      "VP|verb\n",
      "\t NA - 69011\n",
      "\t rec - 14\n",
      "\t par - 1\n",
      "CP|conj\n",
      "\t NA - 52537\n",
      "AdvP|advb\n",
      "\t NA - 5089\n",
      "\t par - 101\n",
      "\t mod - 46\n",
      "\t adj - 1\n",
      "AdjP|adjv\n",
      "\t NA - 1803\n",
      "\t par - 119\n",
      "\t atr - 6\n",
      "\t adj - 3\n",
      "\t rec - 1\n",
      "InjP|intj\n",
      "\t NA - 1872\n",
      "\t par - 11\n",
      "DPrP|prde\n",
      "\t NA - 791\n",
      "NegP|nega\n",
      "\t NA - 6743\n",
      "PPrP|prps\n",
      "\t NA - 4388\n",
      "\t par - 9\n",
      "IPrP|prin\n",
      "\t NA - 797\n",
      "\t par - 1\n",
      "InrP|inrg\n",
      "\t NA - 1291\n",
      "\t par - 3\n"
     ]
    }
   ],
   "source": [
    "# and for phrases\n",
    "test_pdp_safe(phrase_object='phrase')"
   ]
  },
  {
   "cell_type": "markdown",
   "metadata": {},
   "source": [
    "^ These surveys tell us that for several of these phrase types, e.g. `InjP`, we can automatically take the word with the pdp value that corresponds with its phrase type as the head.\n",
    "\n",
    "There are also quite a few cases where the phrase type does not have a word with a matching pdp value: 837 for phrase atoms and 670 for phrases. In the subsequent section we will run tests to find out why this is the case.\n",
    "\n",
    "Back to the question of this section: There are 14 examples of VP with verbs that have a `rec` (nomen regens) relation. Are these heads or not? We check now..."
   ]
  },
  {
   "cell_type": "code",
   "execution_count": 60,
   "metadata": {},
   "outputs": [],
   "source": [
    "def find_and_show(search_pattern):\n",
    "    results = sorted(B.search(search_pattern))\n",
    "    print(len(results), 'results')\n",
    "    B.show(results)"
   ]
  },
  {
   "cell_type": "code",
   "execution_count": 12,
   "metadata": {},
   "outputs": [],
   "source": [
    "# run notebook locally to see HTML-formatted results for the below searches\n",
    "\n",
    "\n",
    "rec_verbs = '''\n",
    "\n",
    "phrase_atom typ=VP\n",
    "    subphrase rela=rec\n",
    "        word pdp=verb\n",
    "'''\n",
    "\n",
    "#find_and_show(rec_verbs) # uncomment me!"
   ]
  },
  {
   "cell_type": "markdown",
   "metadata": {},
   "source": [
    "In all 14 results, the verb serves as the true head word of the `VP`.\n",
    "\n",
    "*Note: The verb will prove to be an exception, as all other words in a `rec` relation are not head words*\n",
    "\n",
    "The `PP` also has some strange relations. We see what's going on with the same kind of inspection. First we look at the `rec` (regens) relations."
   ]
  },
  {
   "cell_type": "code",
   "execution_count": 69,
   "metadata": {},
   "outputs": [],
   "source": [
    "rec_preps = '''\n",
    "\n",
    "phrase_atom typ=PP\n",
    "    subphrase rela=rec\n",
    "        word pdp=prep\n",
    "'''\n",
    "\n",
    "#find_and_show(rec_preps) #uncomment me!"
   ]
  },
  {
   "cell_type": "markdown",
   "metadata": {},
   "source": [
    "The PP is different. In cases where the `phrase_atom` = `rec`, the preposition is *not* the head. Thus, the algorithm will need to check for these cases.\n",
    "\n",
    "Now for the `adj` subphrase relation in `PP`:"
   ]
  },
  {
   "cell_type": "code",
   "execution_count": 14,
   "metadata": {},
   "outputs": [],
   "source": [
    "adj_preps = '''\n",
    "\n",
    "phrase_atom typ=PP\n",
    "    subphrase rela=adj\n",
    "        word pdp=prep\n",
    "'''\n",
    "\n",
    "#find_and_show(adj_preps) # uncomment me!"
   ]
  },
  {
   "cell_type": "markdown",
   "metadata": {},
   "source": [
    "The results above show that the `adj` subphrase relation is also a non-head. These cases have to be excluded.\n",
    "\n",
    "Now we move on to test the **adverb** relations reflected in the survey..."
   ]
  },
  {
   "cell_type": "code",
   "execution_count": 15,
   "metadata": {},
   "outputs": [],
   "source": [
    "adv_adj = '''\n",
    "\n",
    "phrase_atom typ=AdvP\n",
    "    subphrase rela=adj\n",
    "        word pdp=advb\n",
    "\n",
    "'''\n",
    "\n",
    "#find_and_show(adv_adj) # uncomment me!"
   ]
  },
  {
   "cell_type": "markdown",
   "metadata": {},
   "source": [
    "The `adj` relationships in the adverbial phrase is also not a true head. Now for the `mod` (modifier) relation."
   ]
  },
  {
   "cell_type": "code",
   "execution_count": 16,
   "metadata": {},
   "outputs": [],
   "source": [
    "adv_mod = '''\n",
    "\n",
    "phrase_atom typ=AdvP\n",
    "    subphrase rela=mod\n",
    "        word pdp=advb\n",
    "\n",
    "'''\n",
    "\n",
    "#find_and_show(adv_mod) # uncomment me!"
   ]
  },
  {
   "cell_type": "markdown",
   "metadata": {},
   "source": [
    "In this case, it appears that `mod` is also an invalid relation for adverb phrases. And example is גם הלם ('also here') where גם is the adverb in `mod` relation, but the head is really הלם \"here\" (also an adverb). In several cases, the modifier modifies a verb. In these cases the \"head,\" often a participle or infinitive, acts as the adverb, even though it is not explicitly marked as such.\n",
    "\n",
    "Now we move on to the last examination, that of the `AdjP` (adjective phrase). There are three relations of interest:\n",
    "> atr - 6 <br>\n",
    "> adj - 3 <br>\n",
    "> rec - 1 <br>"
   ]
  },
  {
   "cell_type": "code",
   "execution_count": 17,
   "metadata": {},
   "outputs": [],
   "source": [
    "adj_atr = '''\n",
    "\n",
    "phrase_atom typ=AdjP\n",
    "    subphrase rela=atr\n",
    "        word pdp=adjv\n",
    "\n",
    "'''\n",
    "\n",
    "#find_and_show(adj_atr) # uncomment me!"
   ]
  },
  {
   "cell_type": "code",
   "execution_count": 18,
   "metadata": {},
   "outputs": [],
   "source": [
    "adj_adj = '''\n",
    "\n",
    "phrase_atom typ=AdjP\n",
    "    subphrase rela=adj\n",
    "        word pdp=adjv\n",
    "\n",
    "'''\n",
    "\n",
    "#find_and_show(adj_adj) # uncomment me!"
   ]
  },
  {
   "cell_type": "code",
   "execution_count": 19,
   "metadata": {},
   "outputs": [],
   "source": [
    "adj_rec = '''\n",
    "\n",
    "phrase_atom typ=AdjP\n",
    "    subphrase rela=rec\n",
    "        word pdp=adjv\n",
    "\n",
    "'''\n",
    "\n",
    "#find_and_show(adj_rec) # uncomment me!"
   ]
  },
  {
   "cell_type": "markdown",
   "metadata": {},
   "source": [
    "The results for the three searches above show indeed that the relations of `atr`, `adj`, and `rec` are not head words."
   ]
  },
  {
   "cell_type": "markdown",
   "metadata": {},
   "source": [
    "### Tests for phrase types without a word that has a valid pdp value\n",
    "\n",
    "The initial survey above revealed that 837 phrase atoms and 670 phrases lack a word with a corresponding pdp value. Here we investigate to see why that is the case. Is there a way to compensate for this problem? Are these truly phrases that lack heads?\n",
    "\n",
    "We run another survey and count the phrase types against the non-matching pdp values found within them. At this point, we must also exclude words that have dependent relations (as defined above, subphrase values of NA or parallel)."
   ]
  },
  {
   "cell_type": "code",
   "execution_count": 22,
   "metadata": {},
   "outputs": [
    {
     "name": "stdout",
     "output_type": "stream",
     "text": [
      "AdvP\n",
      "\t nmpr - 253\n",
      "\t subs - 499\n",
      "\t art - 190\n",
      "\t conj - 13\n",
      "PrNP\n",
      "\t subs - 9\n",
      "\t art - 3\n",
      "CP\n",
      "\t prep - 85\n",
      "\t subs - 79\n",
      "\t advb - 6\n",
      "NP\n",
      "\t adjv - 1\n",
      "\t intj - 1\n"
     ]
    }
   ],
   "source": [
    "count_no_pdp = collections.defaultdict(lambda: collections.Counter())\n",
    "record_no_pdp = collections.defaultdict(lambda: collections.defaultdict(list))\n",
    "\n",
    "for phrase in F.otype.s('phrase_atom'):\n",
    "    \n",
    "    typ = F.typ.v(phrase)\n",
    "    \n",
    "    # see if there is not corresponding pdp value\n",
    "    corres_pdp = type_to_pdp[typ]\n",
    "    corresponding_pdps = [w for w in L.d(phrase, 'word') \n",
    "                             if F.pdp.v(w) == corres_pdp]\n",
    "    \n",
    "    if not corresponding_pdps:\n",
    "        \n",
    "        # put potential heads here\n",
    "        maybe_heads = []\n",
    "        \n",
    "        # calculate subphrase relations\n",
    "        for word in L.d(phrase, 'word'):\n",
    "            \n",
    "            # get subphrase relations\n",
    "            word_subphrs = L.u(word, 'subphrase')\n",
    "            sp_relas = set(F.rela.v(sp) for sp in word_subphrs) or {'NA'}\n",
    "            \n",
    "            # check subphrase relations for independence\n",
    "            if sp_relas == {'NA'}:\n",
    "                maybe_heads.append(word)\n",
    "                \n",
    "            # test parallel relation for independence\n",
    "            elif sp_relas == {'NA', 'par'} or sp_relas == {'par'}:\n",
    "                \n",
    "                # check for good, head mothers\n",
    "                good_mothers = set(sp for w in maybe_heads for sp in L.u(w, 'subphrase'))\n",
    "                this_daughter = [sp for sp in word_subphrs if F.rela.v(sp) == 'par'][0]\n",
    "                this_mother = E.mother.f(this_daughter)\n",
    "                \n",
    "                if this_mother in good_mothers:\n",
    "                    maybe_heads.append(word)\n",
    "                    \n",
    "        # sanity check\n",
    "        # maybe_heads should have SOMETHING\n",
    "        if not maybe_heads:\n",
    "            raise Exception(f'phrase {phrase} looks HEADLESS!')\n",
    "        \n",
    "        # count pdp types\n",
    "        head_pdps = [F.pdp.v(w) for w in maybe_heads]\n",
    "        count_no_pdp[typ].update(head_pdps)\n",
    "        \n",
    "        # save for examination\n",
    "        for word in maybe_heads:\n",
    "            record_no_pdp[typ][F.pdp.v(word)].append((phrase, word))\n",
    "        \n",
    "for name, counts in count_no_pdp.items():\n",
    "\n",
    "    print(name)\n",
    "\n",
    "    for pdp, count in counts.items():\n",
    "        print('\\t', pdp, '-', count)"
   ]
  },
  {
   "cell_type": "markdown",
   "metadata": {},
   "source": [
    "These results are a bit puzzling. The numbers here are words within the phrase atoms that have NO subphrase relations. That means, for example, words such as הַ \"the\" do not appear to have any subphrase relation to their modified nouns. That again illustrates the shortcoming of the ETCBC data in this respect. There should be a relation from the article to the determined noun.\n",
    "\n",
    "From this point forward, I will begin working through all four phrase types and the cases reflected in the survey.\n",
    "\n",
    "Beginning with the `AdvP` type and the article. Upon some initial inspection, I've found that in many of the `AdvP` with the article, there is also a substantive (`subs`) that was found by the search. Are there any cases where there is no `nmpr` or `subs` found alongside the article? We can use the dict `record_no_pdp` which has recorded all cases reflected in the survey. Below I look to see if all 190 cases of an article in these `AdvP` phrases also has a corresponding noun."
   ]
  },
  {
   "cell_type": "code",
   "execution_count": 23,
   "metadata": {},
   "outputs": [
    {
     "name": "stdout",
     "output_type": "stream",
     "text": [
      "0 without nouns found...\n"
     ]
    }
   ],
   "source": [
    "no_noun = []\n",
    "\n",
    "for phrase in record_no_pdp['AdvP']['art']:\n",
    "    \n",
    "    pdps = set(F.pdp.v(w) for w in L.d(phrase[0], 'word'))\n",
    "    \n",
    "    if not {'nmpr', 'subs'} & pdps:\n",
    "        no_noun.append((phrase,))\n",
    "        \n",
    "print(len(no_noun), 'without nouns found...')"
   ]
  },
  {
   "cell_type": "markdown",
   "metadata": {},
   "source": [
    "There it is. So all cases of these articles can be discarded. In these cases, the noun serves as the head of the adverbial phrase. An example of this is when the noun marks the location of the action (hence adverb). \n",
    "\n",
    "Next, we check the conjunctions found in the adverbial phrases. Are any of those heads?"
   ]
  },
  {
   "cell_type": "code",
   "execution_count": 113,
   "metadata": {},
   "outputs": [],
   "source": [
    "#B.show(record_no_pdp['AdvP']['conj']) # uncomment me!"
   ]
  },
  {
   "cell_type": "markdown",
   "metadata": {},
   "source": [
    "All conjunctions in these `AdvP` phrases function to mark coordinate elements (only ו in these results). They can also be discarded as not possible heads.\n",
    "\n",
    "Now we investigate the `PrNP` results with `subs` and `art`..."
   ]
  },
  {
   "cell_type": "code",
   "execution_count": 27,
   "metadata": {},
   "outputs": [],
   "source": [
    "#B.show(record_no_pdp['PrNP']['subs']) # uncomment me!"
   ]
  },
  {
   "cell_type": "code",
   "execution_count": 29,
   "metadata": {},
   "outputs": [],
   "source": [
    "#B.show(record_no_pdp['PrNP']['art']) # uncomment me!"
   ]
  },
  {
   "cell_type": "markdown",
   "metadata": {},
   "source": [
    "The `art` relations reflected in the second search are not heads, but are all related to a substantive. All of the results in `subs` are heads. Thus, the only acceptable pdp for `PrNP` besides a proper noun is `subs`.\n",
    "\n",
    "Now we dig into `CP` results. 85 of them have no `pdp` of conjunction, but have a preposition instead. Let's see what's going on..."
   ]
  },
  {
   "cell_type": "code",
   "execution_count": 31,
   "metadata": {},
   "outputs": [],
   "source": [
    "#B.show(record_no_pdp['CP']['prep'][:20]) # uncomment me!"
   ]
  },
  {
   "cell_type": "markdown",
   "metadata": {},
   "source": [
    "These are very interesting results. These conjunction phrases are made up of constructions like ב+עבור and ב+טרם. Together these words function as a conjunction, but alone they are prepositions and particles. Is it even possible in this case to say that there is a \"head\"?\n",
    "\n",
    "It could be said that these combinations of words mean more than the sum of their parts; they are good examples of constructions, i.e. combinations of words whose meaning cannot be inferred simply from their individual words. Constructions illustrate the vague boundary between syntax and lexicon (cf. e.g. Goldberg, 1995, *Constructions*).\n",
    "\n",
    "While these words are indeed marked as conjunction phrases, it is better in this case to analyze them as prepositional phrases (which they also are...this is another shortcoming of our data, or perhaps a mistake??). Thus, the head is the preposition, not the prepositional object.\n",
    "\n",
    "We should expect that the remaining `subs` and `advb` groups are in fact the objects of those prepositions (and hence excluded). Let's test that assumption by looking for a preposition behind these words..."
   ]
  },
  {
   "cell_type": "code",
   "execution_count": 39,
   "metadata": {},
   "outputs": [
    {
     "name": "stdout",
     "output_type": "stream",
     "text": [
      "subs|advb with no preceding prepositions: 0\n"
     ]
    }
   ],
   "source": [
    "no_prep = []\n",
    "\n",
    "for (phrase, word) in record_no_pdp['CP']['subs'] + record_no_pdp['CP']['advb']:\n",
    "    \n",
    "    possible_prep = word - 1\n",
    "    \n",
    "    if F.sp.v(possible_prep) != 'prep':\n",
    "        no_prep.append((phrase, word))\n",
    "        \n",
    "print(f'subs|advb with no preceding prepositions: {len(no_prep)}')"
   ]
  },
  {
   "cell_type": "markdown",
   "metadata": {},
   "source": [
    "Here we see. We can confirm that none of the substantives or adverbs will be the head of a conjunction phrase. A preposition is the only other kind of head for the `CP` besides a conjunction itself.\n",
    "\n",
    "Finally, we're left with a last noun phrase (`NP`) for which no matching noun was found. The search found instead both `adjv` (adjective) and a `intj` (interjection). Let's see it."
   ]
  },
  {
   "cell_type": "code",
   "execution_count": 48,
   "metadata": {},
   "outputs": [],
   "source": [
    "#B.show(record_no_pdp['NP']['adjv']) # uncomment me"
   ]
  },
  {
   "cell_type": "markdown",
   "metadata": {},
   "source": [
    "This ^ one actually looks like a mistake in the BHSA data. The adjective ידיד \"beloved\" functions here as a substantive, and hence should have a phrase dependent part of speech of `subs` not `adjv`. This phrase will not receive a head relation, because the underlying data itself is flawed and should be fixed. Then a new run of the algorithm will assign the proper head."
   ]
  },
  {
   "cell_type": "code",
   "execution_count": 52,
   "metadata": {},
   "outputs": [],
   "source": [
    "#B.show(record_no_pdp['NP']['intj']) # uncomment me"
   ]
  },
  {
   "cell_type": "markdown",
   "metadata": {},
   "source": [
    "In this case, the word אוי \"woe\" functions like a noun. This thus appears to be another mislabeled `pdp` value, since it should read `subs`. This, like the previous example, will not receive a head value due to the mistake."
   ]
  },
  {
   "cell_type": "markdown",
   "metadata": {},
   "source": [
    "### Retrieving Quantified Words\n",
    "\n",
    "Words that are quantified with other words such as כל or cardinal numbers like שבעה will be missed by the algorithm. Instead, the number itself is identified as the head. This is undesirable, since quantifiers offer descriptive information about the noun itself. But how to extract the quantified word?\n",
    "\n",
    "In a previous algorithm used for quantified extraction, we looked for a nomen regens relation on the quantifier and located the noun within the related subphrase. A second look shows that this approach is flawed.\n",
    "\n",
    "In the example below, the quantifier שבעה \"seven\" has no nomen regens relation:"
   ]
  },
  {
   "cell_type": "code",
   "execution_count": 43,
   "metadata": {},
   "outputs": [
    {
     "data": {
      "text/markdown": [
       "\n",
       "## Result 0\n",
       "(**word** `2217`)\n"
      ],
      "text/plain": [
       "<IPython.core.display.Markdown object>"
      ]
     },
     "metadata": {},
     "output_type": "display_data"
    },
    {
     "data": {
      "text/html": [
       "<div class=\"verse  \">\n",
       "\n",
       "    <div class=\"vl\">\n",
       "        <div class=\"vs\"><a target=\"_blank\" href=\"https://shebanq.ancient-data.org/hebrew/text?book=Genesis&chapter=5&verse=7&version=c&mr=m&qw=q&tp=txt_p&tr=hb&wget=v&qget=v&nget=vt\" title=\"show this passage in SHEBANQ\">Genesis 5:7</a></div><div class=\"nd\">1414302</div>\n",
       "    </div>\n",
       "\n",
       "<div class=\"satom  \">\n",
       "\n",
       "    <div class=\"sentence\"><a target=\"_blank\" href=\"https://shebanq.ancient-data.org/hebrew/text?book=Genesis&chapter=5&verse=7&version=c&mr=m&qw=q&tp=txt_p&tr=hb&wget=v&qget=v&nget=vt\" title=\"Genesis 5:7\">sentence</a> <span class=\"nd\">1172537</span> \n",
       "    </div>\n",
       "    <div class=\"atoms\">\n",
       "\n",
       "<div class=\"catom  l \">\n",
       "\n",
       "    <div class=\"clause\"><a target=\"_blank\" href=\"https://shebanq.ancient-data.org/hebrew/text?book=Genesis&chapter=5&verse=7&version=c&mr=m&qw=q&tp=txt_p&tr=hb&wget=v&qget=v&nget=vt\" title=\"Genesis 5:7\">clause</a> <span class=\"nd\">427995</span>  <span class=\"rela\">NA</span> <span class=\"typ\">WayX</span>\n",
       "    </div>\n",
       "    <div class=\"atoms\">\n",
       "\n",
       "<div class=\"patom  \">\n",
       "\n",
       "    <div class=\"phrase\"><a target=\"_blank\" href=\"https://shebanq.ancient-data.org/hebrew/text?book=Genesis&chapter=5&verse=7&version=c&mr=m&qw=q&tp=txt_p&tr=hb&wget=v&qget=v&nget=vt\" title=\"Genesis 5:7\">phrase</a> <span class=\"nd\">652835</span>  <span class=\"function\">Conj</span> <span class=\"typ\">CP</span>\n",
       "    </div>\n",
       "    <div class=\"atoms\">\n",
       "\n",
       "<div class=\"word  \">\n",
       "<div class=\"h\">וַֽ</div>\n",
       "<div class=\"sp\"><a target=\"_blank\" href=\"https://shebanq.ancient-data.org/hebrew/text?book=Genesis&chapter=5&verse=7&version=c&mr=m&qw=q&tp=txt_p&tr=hb&wget=v&qget=v&nget=vt\" title=\"Genesis 5:7\">conj</a></div>\n",
       "<div class=\"gl\">and</div>\n",
       "\n",
       "</div>\n",
       "\n",
       "\n",
       "    </div>\n",
       "\n",
       "\n",
       "</div>\n",
       "\n",
       "<div class=\"patom  \">\n",
       "\n",
       "    <div class=\"phrase\"><a target=\"_blank\" href=\"https://shebanq.ancient-data.org/hebrew/text?book=Genesis&chapter=5&verse=7&version=c&mr=m&qw=q&tp=txt_p&tr=hb&wget=v&qget=v&nget=vt\" title=\"Genesis 5:7\">phrase</a> <span class=\"nd\">652836</span>  <span class=\"function\">Pred</span> <span class=\"typ\">VP</span>\n",
       "    </div>\n",
       "    <div class=\"atoms\">\n",
       "\n",
       "<div class=\"word  \">\n",
       "<div class=\"h\">יְחִי־</div>\n",
       "<div class=\"sp\"><a target=\"_blank\" href=\"https://shebanq.ancient-data.org/hebrew/text?book=Genesis&chapter=5&verse=7&version=c&mr=m&qw=q&tp=txt_p&tr=hb&wget=v&qget=v&nget=vt\" title=\"Genesis 5:7\">verb</a></div>\n",
       "<div class=\"gl\">be alive</div>\n",
       "\n",
       "</div>\n",
       "\n",
       "\n",
       "    </div>\n",
       "\n",
       "\n",
       "</div>\n",
       "\n",
       "<div class=\"patom  \">\n",
       "\n",
       "    <div class=\"phrase\"><a target=\"_blank\" href=\"https://shebanq.ancient-data.org/hebrew/text?book=Genesis&chapter=5&verse=7&version=c&mr=m&qw=q&tp=txt_p&tr=hb&wget=v&qget=v&nget=vt\" title=\"Genesis 5:7\">phrase</a> <span class=\"nd\">652837</span>  <span class=\"function\">Subj</span> <span class=\"typ\">PrNP</span>\n",
       "    </div>\n",
       "    <div class=\"atoms\">\n",
       "\n",
       "<div class=\"word  \">\n",
       "<div class=\"h\">שֵׁ֗ת </div>\n",
       "<div class=\"sp\"><a target=\"_blank\" href=\"https://shebanq.ancient-data.org/hebrew/text?book=Genesis&chapter=5&verse=7&version=c&mr=m&qw=q&tp=txt_p&tr=hb&wget=v&qget=v&nget=vt\" title=\"Genesis 5:7\">nmpr</a></div>\n",
       "<div class=\"gl\">Seth</div>\n",
       "\n",
       "</div>\n",
       "\n",
       "\n",
       "    </div>\n",
       "\n",
       "\n",
       "</div>\n",
       "\n",
       "\n",
       "    </div>\n",
       "\n",
       "\n",
       "</div>\n",
       "\n",
       "<div class=\"catom  \">\n",
       "\n",
       "    <div class=\"clause\"><a target=\"_blank\" href=\"https://shebanq.ancient-data.org/hebrew/text?book=Genesis&chapter=5&verse=7&version=c&mr=m&qw=q&tp=txt_p&tr=hb&wget=v&qget=v&nget=vt\" title=\"Genesis 5:7\">clause</a> <span class=\"nd\">427996</span>  <span class=\"rela\">Adju</span> <span class=\"typ\">InfC</span>\n",
       "    </div>\n",
       "    <div class=\"atoms\">\n",
       "\n",
       "<div class=\"patom  \">\n",
       "\n",
       "    <div class=\"phrase\"><a target=\"_blank\" href=\"https://shebanq.ancient-data.org/hebrew/text?book=Genesis&chapter=5&verse=7&version=c&mr=m&qw=q&tp=txt_p&tr=hb&wget=v&qget=v&nget=vt\" title=\"Genesis 5:7\">phrase</a> <span class=\"nd\">652838</span>  <span class=\"function\">PreS</span> <span class=\"typ\">VP</span>\n",
       "    </div>\n",
       "    <div class=\"atoms\">\n",
       "\n",
       "<div class=\"word  \">\n",
       "<div class=\"h\">אַֽחֲרֵי֙ </div>\n",
       "<div class=\"sp\"><a target=\"_blank\" href=\"https://shebanq.ancient-data.org/hebrew/text?book=Genesis&chapter=5&verse=7&version=c&mr=m&qw=q&tp=txt_p&tr=hb&wget=v&qget=v&nget=vt\" title=\"Genesis 5:7\">subs</a></div>\n",
       "<div class=\"gl\">after</div>\n",
       "\n",
       "</div>\n",
       "\n",
       "<div class=\"word  \">\n",
       "<div class=\"h\">הֹולִידֹ֣ו </div>\n",
       "<div class=\"sp\"><a target=\"_blank\" href=\"https://shebanq.ancient-data.org/hebrew/text?book=Genesis&chapter=5&verse=7&version=c&mr=m&qw=q&tp=txt_p&tr=hb&wget=v&qget=v&nget=vt\" title=\"Genesis 5:7\">verb</a></div>\n",
       "<div class=\"gl\">bear</div>\n",
       "\n",
       "</div>\n",
       "\n",
       "\n",
       "    </div>\n",
       "\n",
       "\n",
       "</div>\n",
       "\n",
       "<div class=\"patom  \">\n",
       "\n",
       "    <div class=\"phrase\"><a target=\"_blank\" href=\"https://shebanq.ancient-data.org/hebrew/text?book=Genesis&chapter=5&verse=7&version=c&mr=m&qw=q&tp=txt_p&tr=hb&wget=v&qget=v&nget=vt\" title=\"Genesis 5:7\">phrase</a> <span class=\"nd\">652839</span>  <span class=\"function\">Objc</span> <span class=\"typ\">PP</span>\n",
       "    </div>\n",
       "    <div class=\"atoms\">\n",
       "\n",
       "<div class=\"word  \">\n",
       "<div class=\"h\">אֶת־</div>\n",
       "<div class=\"sp\"><a target=\"_blank\" href=\"https://shebanq.ancient-data.org/hebrew/text?book=Genesis&chapter=5&verse=7&version=c&mr=m&qw=q&tp=txt_p&tr=hb&wget=v&qget=v&nget=vt\" title=\"Genesis 5:7\">prep</a></div>\n",
       "<div class=\"gl\">&lt;object marker></div>\n",
       "\n",
       "</div>\n",
       "\n",
       "<div class=\"word  \">\n",
       "<div class=\"h\">אֱנֹ֔ושׁ </div>\n",
       "<div class=\"sp\"><a target=\"_blank\" href=\"https://shebanq.ancient-data.org/hebrew/text?book=Genesis&chapter=5&verse=7&version=c&mr=m&qw=q&tp=txt_p&tr=hb&wget=v&qget=v&nget=vt\" title=\"Genesis 5:7\">nmpr</a></div>\n",
       "<div class=\"gl\">Enosh</div>\n",
       "\n",
       "</div>\n",
       "\n",
       "\n",
       "    </div>\n",
       "\n",
       "\n",
       "</div>\n",
       "\n",
       "\n",
       "    </div>\n",
       "\n",
       "\n",
       "</div>\n",
       "\n",
       "<div class=\"catom  r \">\n",
       "\n",
       "    <div class=\"clause\"><a target=\"_blank\" href=\"https://shebanq.ancient-data.org/hebrew/text?book=Genesis&chapter=5&verse=7&version=c&mr=m&qw=q&tp=txt_p&tr=hb&wget=v&qget=v&nget=vt\" title=\"Genesis 5:7\">clause</a> <span class=\"nd\">427995</span>  <span class=\"rela\">NA</span> <span class=\"typ\">WayX</span>\n",
       "    </div>\n",
       "    <div class=\"atoms\">\n",
       "\n",
       "<div class=\"patom  \">\n",
       "\n",
       "    <div class=\"phrase\"><a target=\"_blank\" href=\"https://shebanq.ancient-data.org/hebrew/text?book=Genesis&chapter=5&verse=7&version=c&mr=m&qw=q&tp=txt_p&tr=hb&wget=v&qget=v&nget=vt\" title=\"Genesis 5:7\">phrase</a> <span class=\"nd\">652840</span>  <span class=\"function\">Time</span> <span class=\"typ\">NP</span>\n",
       "    </div>\n",
       "    <div class=\"atoms\">\n",
       "\n",
       "<div class=\"word   hl\">\n",
       "<div class=\"h\">שֶׁ֣בַע </div>\n",
       "<div class=\"sp\"><a target=\"_blank\" href=\"https://shebanq.ancient-data.org/hebrew/text?book=Genesis&chapter=5&verse=7&version=c&mr=m&qw=q&tp=txt_p&tr=hb&wget=v&qget=v&nget=vt\" title=\"Genesis 5:7\">subs</a></div>\n",
       "<div class=\"gl\">seven</div>\n",
       "\n",
       "</div>\n",
       "\n",
       "<div class=\"word  \">\n",
       "<div class=\"h\">שָׁנִ֔ים </div>\n",
       "<div class=\"sp\"><a target=\"_blank\" href=\"https://shebanq.ancient-data.org/hebrew/text?book=Genesis&chapter=5&verse=7&version=c&mr=m&qw=q&tp=txt_p&tr=hb&wget=v&qget=v&nget=vt\" title=\"Genesis 5:7\">subs</a></div>\n",
       "<div class=\"gl\">year</div>\n",
       "\n",
       "</div>\n",
       "\n",
       "<div class=\"word  \">\n",
       "<div class=\"h\">וּ</div>\n",
       "<div class=\"sp\"><a target=\"_blank\" href=\"https://shebanq.ancient-data.org/hebrew/text?book=Genesis&chapter=5&verse=7&version=c&mr=m&qw=q&tp=txt_p&tr=hb&wget=v&qget=v&nget=vt\" title=\"Genesis 5:7\">conj</a></div>\n",
       "<div class=\"gl\">and</div>\n",
       "\n",
       "</div>\n",
       "\n",
       "<div class=\"word  \">\n",
       "<div class=\"h\">שְׁמֹנֶ֥ה </div>\n",
       "<div class=\"sp\"><a target=\"_blank\" href=\"https://shebanq.ancient-data.org/hebrew/text?book=Genesis&chapter=5&verse=7&version=c&mr=m&qw=q&tp=txt_p&tr=hb&wget=v&qget=v&nget=vt\" title=\"Genesis 5:7\">subs</a></div>\n",
       "<div class=\"gl\">eight</div>\n",
       "\n",
       "</div>\n",
       "\n",
       "<div class=\"word  \">\n",
       "<div class=\"h\">מֵאֹ֖ות </div>\n",
       "<div class=\"sp\"><a target=\"_blank\" href=\"https://shebanq.ancient-data.org/hebrew/text?book=Genesis&chapter=5&verse=7&version=c&mr=m&qw=q&tp=txt_p&tr=hb&wget=v&qget=v&nget=vt\" title=\"Genesis 5:7\">subs</a></div>\n",
       "<div class=\"gl\">hundred</div>\n",
       "\n",
       "</div>\n",
       "\n",
       "<div class=\"word  \">\n",
       "<div class=\"h\">שָׁנָ֑ה </div>\n",
       "<div class=\"sp\"><a target=\"_blank\" href=\"https://shebanq.ancient-data.org/hebrew/text?book=Genesis&chapter=5&verse=7&version=c&mr=m&qw=q&tp=txt_p&tr=hb&wget=v&qget=v&nget=vt\" title=\"Genesis 5:7\">subs</a></div>\n",
       "<div class=\"gl\">year</div>\n",
       "\n",
       "</div>\n",
       "\n",
       "\n",
       "    </div>\n",
       "\n",
       "\n",
       "</div>\n",
       "\n",
       "\n",
       "    </div>\n",
       "\n",
       "\n",
       "</div>\n",
       "\n",
       "\n",
       "    </div>\n",
       "\n",
       "\n",
       "</div>\n",
       "\n",
       "<div class=\"satom  \">\n",
       "\n",
       "    <div class=\"sentence\"><a target=\"_blank\" href=\"https://shebanq.ancient-data.org/hebrew/text?book=Genesis&chapter=5&verse=7&version=c&mr=m&qw=q&tp=txt_p&tr=hb&wget=v&qget=v&nget=vt\" title=\"Genesis 5:7\">sentence</a> <span class=\"nd\">1172538</span> \n",
       "    </div>\n",
       "    <div class=\"atoms\">\n",
       "\n",
       "<div class=\"catom  \">\n",
       "\n",
       "    <div class=\"clause\"><a target=\"_blank\" href=\"https://shebanq.ancient-data.org/hebrew/text?book=Genesis&chapter=5&verse=7&version=c&mr=m&qw=q&tp=txt_p&tr=hb&wget=v&qget=v&nget=vt\" title=\"Genesis 5:7\">clause</a> <span class=\"nd\">427997</span>  <span class=\"rela\">NA</span> <span class=\"typ\">Way0</span>\n",
       "    </div>\n",
       "    <div class=\"atoms\">\n",
       "\n",
       "<div class=\"patom  \">\n",
       "\n",
       "    <div class=\"phrase\"><a target=\"_blank\" href=\"https://shebanq.ancient-data.org/hebrew/text?book=Genesis&chapter=5&verse=7&version=c&mr=m&qw=q&tp=txt_p&tr=hb&wget=v&qget=v&nget=vt\" title=\"Genesis 5:7\">phrase</a> <span class=\"nd\">652841</span>  <span class=\"function\">Conj</span> <span class=\"typ\">CP</span>\n",
       "    </div>\n",
       "    <div class=\"atoms\">\n",
       "\n",
       "<div class=\"word  \">\n",
       "<div class=\"h\">וַ</div>\n",
       "<div class=\"sp\"><a target=\"_blank\" href=\"https://shebanq.ancient-data.org/hebrew/text?book=Genesis&chapter=5&verse=7&version=c&mr=m&qw=q&tp=txt_p&tr=hb&wget=v&qget=v&nget=vt\" title=\"Genesis 5:7\">conj</a></div>\n",
       "<div class=\"gl\">and</div>\n",
       "\n",
       "</div>\n",
       "\n",
       "\n",
       "    </div>\n",
       "\n",
       "\n",
       "</div>\n",
       "\n",
       "<div class=\"patom  \">\n",
       "\n",
       "    <div class=\"phrase\"><a target=\"_blank\" href=\"https://shebanq.ancient-data.org/hebrew/text?book=Genesis&chapter=5&verse=7&version=c&mr=m&qw=q&tp=txt_p&tr=hb&wget=v&qget=v&nget=vt\" title=\"Genesis 5:7\">phrase</a> <span class=\"nd\">652842</span>  <span class=\"function\">Pred</span> <span class=\"typ\">VP</span>\n",
       "    </div>\n",
       "    <div class=\"atoms\">\n",
       "\n",
       "<div class=\"word  \">\n",
       "<div class=\"h\">יֹּ֥ולֶד </div>\n",
       "<div class=\"sp\"><a target=\"_blank\" href=\"https://shebanq.ancient-data.org/hebrew/text?book=Genesis&chapter=5&verse=7&version=c&mr=m&qw=q&tp=txt_p&tr=hb&wget=v&qget=v&nget=vt\" title=\"Genesis 5:7\">verb</a></div>\n",
       "<div class=\"gl\">bear</div>\n",
       "\n",
       "</div>\n",
       "\n",
       "\n",
       "    </div>\n",
       "\n",
       "\n",
       "</div>\n",
       "\n",
       "<div class=\"patom  \">\n",
       "\n",
       "    <div class=\"phrase\"><a target=\"_blank\" href=\"https://shebanq.ancient-data.org/hebrew/text?book=Genesis&chapter=5&verse=7&version=c&mr=m&qw=q&tp=txt_p&tr=hb&wget=v&qget=v&nget=vt\" title=\"Genesis 5:7\">phrase</a> <span class=\"nd\">652843</span>  <span class=\"function\">Objc</span> <span class=\"typ\">NP</span>\n",
       "    </div>\n",
       "    <div class=\"atoms\">\n",
       "\n",
       "<div class=\"word  \">\n",
       "<div class=\"h\">בָּנִ֖ים </div>\n",
       "<div class=\"sp\"><a target=\"_blank\" href=\"https://shebanq.ancient-data.org/hebrew/text?book=Genesis&chapter=5&verse=7&version=c&mr=m&qw=q&tp=txt_p&tr=hb&wget=v&qget=v&nget=vt\" title=\"Genesis 5:7\">subs</a></div>\n",
       "<div class=\"gl\">son</div>\n",
       "\n",
       "</div>\n",
       "\n",
       "<div class=\"word  \">\n",
       "<div class=\"h\">וּ</div>\n",
       "<div class=\"sp\"><a target=\"_blank\" href=\"https://shebanq.ancient-data.org/hebrew/text?book=Genesis&chapter=5&verse=7&version=c&mr=m&qw=q&tp=txt_p&tr=hb&wget=v&qget=v&nget=vt\" title=\"Genesis 5:7\">conj</a></div>\n",
       "<div class=\"gl\">and</div>\n",
       "\n",
       "</div>\n",
       "\n",
       "<div class=\"word  \">\n",
       "<div class=\"h\">בָנֹֽות׃ </div>\n",
       "<div class=\"sp\"><a target=\"_blank\" href=\"https://shebanq.ancient-data.org/hebrew/text?book=Genesis&chapter=5&verse=7&version=c&mr=m&qw=q&tp=txt_p&tr=hb&wget=v&qget=v&nget=vt\" title=\"Genesis 5:7\">subs</a></div>\n",
       "<div class=\"gl\">daughter</div>\n",
       "\n",
       "</div>\n",
       "\n",
       "\n",
       "    </div>\n",
       "\n",
       "\n",
       "</div>\n",
       "\n",
       "\n",
       "    </div>\n",
       "\n",
       "\n",
       "</div>\n",
       "\n",
       "\n",
       "    </div>\n",
       "\n",
       "\n",
       "</div>\n",
       "\n",
       "\n",
       "</div>\n"
      ],
      "text/plain": [
       "<IPython.core.display.HTML object>"
      ]
     },
     "metadata": {},
     "output_type": "display_data"
    }
   ],
   "source": [
    "B.show([(2217,)]) # uncomment me!"
   ]
  },
  {
   "cell_type": "markdown",
   "metadata": {},
   "source": [
    "Rather than reflecting a regen/rectum relation, the second word שנים \"years,\" the quantified noun, has a subphrase relation of `adj` \"adjunct\":"
   ]
  },
  {
   "cell_type": "code",
   "execution_count": 51,
   "metadata": {},
   "outputs": [
    {
     "name": "stdout",
     "output_type": "stream",
     "text": [
      "שֶׁ֣בַע שָׁנִ֔ים וּשְׁמֹנֶ֥ה מֵאֹ֖ות שָׁנָ֑ה \n",
      "\n",
      "1300937 (subphrase)\n",
      "\t שָׁנִ֔ים \n",
      "\t rela: adj\n",
      "\n",
      "1300938 (subphrase)\n",
      "\t שֶׁ֣בַע שָׁנִ֔ים \n",
      "\t rela: NA\n",
      "\n"
     ]
    }
   ],
   "source": [
    "print(T.text(L.d(652840, 'word')))\n",
    "print()\n",
    "\n",
    "for sp in L.u(2218, 'subphrase'): # subphrases belonging to \"years\"\n",
    "    print(sp, '(subphrase)')\n",
    "    print('\\t', T.text(L.d(sp,'word')))\n",
    "    print('\\t', 'rela:',  F.rela.v(sp))\n",
    "    print()"
   ]
  },
  {
   "cell_type": "markdown",
   "metadata": {},
   "source": [
    "It is questionable why this relationship is marked as an \"adjunct.\" Let's see what other kinds of subphrase relations are reflected by quantifieds."
   ]
  },
  {
   "cell_type": "code",
   "execution_count": 83,
   "metadata": {},
   "outputs": [
    {
     "name": "stdout",
     "output_type": "stream",
     "text": [
      ">XD/\n",
      "\t par - 62\n",
      "\t adj - 42\n",
      "\t rec - 69\n",
      "\t Appo - 1\n",
      "\t Spec - 6\n",
      "\t atr - 8\n",
      "\t mod - 4\n",
      "CNJM/\n",
      "\t rec - 345\n",
      "\t adj - 267\n",
      "\t par - 109\n",
      "\t mod - 14\n",
      "\t atr - 5\n",
      "\t Spec - 6\n",
      "\t dem - 3\n",
      "\t Sfxs - 1\n",
      ">RB</\n",
      "\t adj - 285\n",
      "\t par - 100\n",
      "\t rec - 113\n",
      "\t atr - 8\n",
      "\t Spec - 1\n",
      "\t mod - 1\n",
      "CB</\n",
      "\t par - 87\n",
      "\t adj - 268\n",
      "\t rec - 169\n",
      "\t mod - 1\n",
      "\t dem - 1\n",
      "\t atr - 23\n",
      "\t Spec - 4\n",
      "CLC/\n",
      "\t par - 148\n",
      "\t adj - 331\n",
      "\t rec - 175\n",
      "\t atr - 4\n",
      "\t dem - 1\n",
      "\t Spec - 1\n",
      "M>H/\n",
      "\t rec - 30\n",
      "\t adj - 302\n",
      "\t par - 217\n",
      "\t atr - 2\n",
      "CMNH/\n",
      "\t adj - 128\n",
      "\t par - 28\n",
      "\t rec - 8\n",
      "\t mod - 1\n",
      "TC</\n",
      "\t adj - 46\n",
      "\t par - 43\n",
      "\t rec - 22\n",
      "XMC/\n",
      "\t adj - 282\n",
      "\t par - 175\n",
      "\t rec - 96\n",
      "\t mod - 1\n",
      "\t Attr - 1\n",
      "\t atr - 4\n",
      "\t Spec - 2\n",
      "<FRH/\n",
      "\t adj - 96\n",
      "\t par - 16\n",
      "\t Spec - 1\n",
      "<FR=/\n",
      "\t adj - 11\n",
      "\t par - 6\n",
      "\t rec - 30\n",
      "CC/\n",
      "\t adj - 176\n",
      "\t par - 75\n",
      "\t rec - 103\n",
      "\t atr - 4\n",
      "<FRJM/\n",
      "\t adj - 209\n",
      "\t par - 149\n",
      "\t Spec - 1\n",
      "<FR/\n",
      "\t adj - 97\n",
      "\t par - 12\n",
      "\t mod - 2\n",
      "\t atr - 6\n",
      "\t rec - 2\n",
      "\t Spec - 2\n",
      "<FRH=/\n",
      "\t adj - 52\n",
      "\t rec - 49\n",
      "\t par - 10\n",
      "\t dem - 2\n",
      "\t Spec - 1\n",
      ">LP=/\n",
      "\t adj - 143\n",
      "\t rec - 33\n",
      "\t par - 198\n",
      "\t Spec - 1\n",
      "\t atr - 2\n",
      "<CTJ/\n",
      "\t adj - 13\n",
      "\t rec - 19\n",
      "\t par - 1\n",
      "RBW>/\n",
      "\t adj - 3\n",
      "\t par - 3\n",
      "XD/\n",
      "\t atr - 1\n",
      "\t Spec - 2\n",
      "CTJN/\n",
      "\t par - 1\n",
      "CT/\n",
      "TLT/\n",
      "\t adj - 2\n",
      "TRJN/\n",
      "\t rec - 2\n",
      ">LP/\n",
      "\t rec - 1\n",
      "<FRJN/\n",
      "TLTJN/\n"
     ]
    }
   ],
   "source": [
    "quant_relas = collections.defaultdict(lambda: collections.Counter())\n",
    "quant_ex = collections.defaultdict(lambda: collections.defaultdict(list))\n",
    "quants = [word for lex in F.ls.s('card') for word in L.d(lex, 'word')]\n",
    "\n",
    "for word in quants:\n",
    "    \n",
    "    subphrases = L.u(word, 'subphrase')\n",
    "    sp_daughters = [E.mother.t(sp) for sp in subphrases if E.mother.t(sp)]\n",
    "    sp_daughters += [E.mother.t(word)] if E.mother.t(word) else list()\n",
    "    sp_relas = [F.rela.v(sp[0]) for sp in sp_daughters]\n",
    "    quant_relas[F.lex.v(word)].update(sp_relas)\n",
    "    \n",
    "    for rela in sp_relas:\n",
    "        quant_ex[F.lex.v(word)][rela].append((L.u(word, 'phrase')[0], word))\n",
    "    \n",
    "for name, counts in quant_relas.items():\n",
    "\n",
    "    print(name)\n",
    "\n",
    "    for pdp, count in counts.items():\n",
    "        print('\\t', pdp, '-', count)"
   ]
  },
  {
   "cell_type": "markdown",
   "metadata": {},
   "source": [
    "# Scratch Code\n",
    "\n",
    "What follows is code that I have written on the fly for testing the data. It is not intended to be a part of the notebook itself."
   ]
  },
  {
   "cell_type": "code",
   "execution_count": 1,
   "metadata": {},
   "outputs": [],
   "source": [
    "#B.show(quant_ex['>XD/']['rec'])"
   ]
  },
  {
   "cell_type": "code",
   "execution_count": 79,
   "metadata": {},
   "outputs": [
    {
     "data": {
      "text/plain": [
       "[89424]"
      ]
     },
     "execution_count": 79,
     "metadata": {},
     "output_type": "execute_result"
    }
   ],
   "source": [
    "give_heads(702392)"
   ]
  },
  {
   "cell_type": "code",
   "execution_count": 85,
   "metadata": {},
   "outputs": [
    {
     "name": "stdout",
     "output_type": "stream",
     "text": [
      "אֶת־ 17894\n",
      "שְׁתֵּ֤י  17895\n",
      "נָשָׁיו֙  17896\n",
      "וְ 17897\n",
      "אֶת־ 17898\n",
      "שְׁתֵּ֣י  17899\n",
      "שִׁפְחֹתָ֔יו  17900\n",
      "וְ 17901\n",
      "אֶת־ 17902\n",
      "אַחַ֥ד  17903\n",
      "עָשָׂ֖ר  17904\n",
      "יְלָדָ֑יו  17905\n"
     ]
    }
   ],
   "source": [
    "for w in L.d(662500, 'word'):\n",
    "    print(T.text([w]), w)"
   ]
  },
  {
   "cell_type": "code",
   "execution_count": 86,
   "metadata": {},
   "outputs": [
    {
     "data": {
      "text/plain": [
       "1304784"
      ]
     },
     "execution_count": 86,
     "metadata": {},
     "output_type": "execute_result"
    }
   ],
   "source": [
    "find_quantified(17903)"
   ]
  },
  {
   "cell_type": "code",
   "execution_count": 87,
   "metadata": {},
   "outputs": [
    {
     "data": {
      "text/plain": [
       "'עָשָׂ֖ר '"
      ]
     },
     "execution_count": 87,
     "metadata": {},
     "output_type": "execute_result"
    }
   ],
   "source": [
    "T.text(L.d(1304784, 'word'))"
   ]
  },
  {
   "cell_type": "code",
   "execution_count": 127,
   "metadata": {},
   "outputs": [
    {
     "data": {
      "text/plain": [
       "852"
      ]
     },
     "execution_count": 127,
     "metadata": {},
     "output_type": "execute_result"
    }
   ],
   "source": [
    "get_preps = '''\n",
    "phrase typ=PP\n",
    "    word pdp=prep\n",
    "    <: word pdp=prep\n",
    "'''\n",
    "\n",
    "get_preps = sorted(B.search(get_preps))\n",
    "\n",
    "len(get_preps)"
   ]
  },
  {
   "cell_type": "code",
   "execution_count": 123,
   "metadata": {},
   "outputs": [
    {
     "data": {
      "text/plain": [
       "()"
      ]
     },
     "execution_count": 123,
     "metadata": {},
     "output_type": "execute_result"
    }
   ],
   "source": [
    "L.d(806914, 'subphrase')"
   ]
  },
  {
   "cell_type": "code",
   "execution_count": 2,
   "metadata": {},
   "outputs": [],
   "source": [
    "#B.show(get_preps[:10])"
   ]
  },
  {
   "cell_type": "code",
   "execution_count": 93,
   "metadata": {},
   "outputs": [
    {
     "data": {
      "text/plain": [
       "[6978]"
      ]
     },
     "execution_count": 93,
     "metadata": {},
     "output_type": "execute_result"
    }
   ],
   "source": [
    "give_heads(get_preps[0][0])"
   ]
  },
  {
   "cell_type": "code",
   "execution_count": 95,
   "metadata": {},
   "outputs": [
    {
     "data": {
      "text/plain": [
       "'>T'"
      ]
     },
     "execution_count": 95,
     "metadata": {},
     "output_type": "execute_result"
    }
   ],
   "source": [
    "F.lex.v(6978)"
   ]
  },
  {
   "cell_type": "code",
   "execution_count": 98,
   "metadata": {},
   "outputs": [
    {
     "data": {
      "text/plain": [
       "()"
      ]
     },
     "execution_count": 98,
     "metadata": {},
     "output_type": "execute_result"
    }
   ],
   "source": [
    "E.mother.t(6978)"
   ]
  },
  {
   "cell_type": "code",
   "execution_count": 101,
   "metadata": {},
   "outputs": [
    {
     "data": {
      "text/plain": [
       "(1302560,)"
      ]
     },
     "execution_count": 101,
     "metadata": {},
     "output_type": "execute_result"
    }
   ],
   "source": [
    "L.u(6980, 'subphrase')"
   ]
  },
  {
   "cell_type": "code",
   "execution_count": 102,
   "metadata": {},
   "outputs": [
    {
     "data": {
      "text/plain": [
       "'NA'"
      ]
     },
     "execution_count": 102,
     "metadata": {},
     "output_type": "execute_result"
    }
   ],
   "source": [
    "F.rela.v(1302560)"
   ]
  },
  {
   "cell_type": "code",
   "execution_count": 103,
   "metadata": {},
   "outputs": [
    {
     "data": {
      "text/plain": [
       "(1302561,)"
      ]
     },
     "execution_count": 103,
     "metadata": {},
     "output_type": "execute_result"
    }
   ],
   "source": [
    "E.mother.t(1302560)"
   ]
  },
  {
   "cell_type": "code",
   "execution_count": null,
   "metadata": {},
   "outputs": [],
   "source": []
  }
 ],
 "metadata": {
  "kernelspec": {
   "display_name": "Python 3",
   "language": "python",
   "name": "python3"
  },
  "language_info": {
   "codemirror_mode": {
    "name": "ipython",
    "version": 3
   },
   "file_extension": ".py",
   "mimetype": "text/x-python",
   "name": "python",
   "nbconvert_exporter": "python",
   "pygments_lexer": "ipython3",
   "version": "3.6.3"
  }
 },
 "nbformat": 4,
 "nbformat_minor": 2
}
