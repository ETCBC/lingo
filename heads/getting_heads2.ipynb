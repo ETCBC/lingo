{
 "cells": [
  {
   "cell_type": "markdown",
   "metadata": {},
   "source": [
    "# Getting Heads 2\n",
    "\n",
    "This notebook aims to develop a new method of head detection using insights gained from the first version of this data. This new effort improves on the previous one in two main ways:\n",
    "\n",
    "* head selection is performed using Text Fabric templates, which offers a clearer, more transparent way to select and filter data\n",
    "* aims to track and address all edge cases\n",
    "\n",
    "Most of the rationale and rules generated in [getting_heads.ipynb](getting_heads.ipynb) are carried over to this present notebook."
   ]
  },
  {
   "cell_type": "code",
   "execution_count": 1,
   "metadata": {},
   "outputs": [],
   "source": [
    "from tf.app import use\n",
    "from IPython.display import display\n",
    "import collections, random, csv, re, textwrap\n",
    "import pandas as pd\n",
    "import matplotlib.pyplot as plt\n",
    "import seaborn as sns"
   ]
  },
  {
   "cell_type": "code",
   "execution_count": 2,
   "metadata": {},
   "outputs": [
    {
     "name": "stdout",
     "output_type": "stream",
     "text": [
      "Using etcbc/bhsa/tf - c r1.4 in /Users/cody/text-fabric-data\n",
      "Using etcbc/phono/tf - c r1.1 in /Users/cody/text-fabric-data\n",
      "Using etcbc/parallels/tf - c r1.1 in /Users/cody/text-fabric-data\n"
     ]
    },
    {
     "data": {
      "text/markdown": [
       "**Documentation:** <a target=\"_blank\" href=\"https://etcbc.github.io/bhsa\" title=\"provenance of BHSA = Biblia Hebraica Stuttgartensia Amstelodamensis\">BHSA</a> <a target=\"_blank\" href=\"https://dans-labs.github.io/text-fabric/Writing/Hebrew\" title=\"('Hebrew characters and transcriptions',)\">Character table</a> <a target=\"_blank\" href=\"https://etcbc.github.io/bhsa/features/hebrew/c/0_home.html\" title=\"BHSA feature documentation\">Feature docs</a> <a target=\"_blank\" href=\"https://dans-labs.github.io/text-fabric/Apps/Bhsa/\" title=\"bhsa API documentation\">bhsa API</a> <a target=\"_blank\" href=\"https://dans-labs.github.io/text-fabric/Api/General/\" title=\"text-fabric-api\">Text-Fabric API 7.2.1</a> <a target=\"_blank\" href=\"https://dans-labs.github.io/text-fabric/Use/Search/\" title=\"Search Templates Introduction and Reference\">Search Reference</a>"
      ],
      "text/plain": [
       "<IPython.core.display.Markdown object>"
      ]
     },
     "metadata": {},
     "output_type": "display_data"
    },
    {
     "data": {
      "text/html": [
       "<details open><summary><b>Loaded features</b>:</summary>\n",
       "<p><b>BHSA = Biblia Hebraica Stuttgartensia Amstelodamensis</b>: <a target=\"_blank\" href=\"https://etcbc.github.io/bhsa/features/hebrew/c/book.html\" title=\"/Users/cody/text-fabric-data/etcbc/bhsa/tf/c/book.tf\">book</a>  <a target=\"_blank\" href=\"https://etcbc.github.io/bhsa/features/hebrew/c/book@ll.html\" title=\"/Users/cody/text-fabric-data/etcbc/bhsa/tf/c/book@am.tf\">book@ll</a>  <a target=\"_blank\" href=\"https://etcbc.github.io/bhsa/features/hebrew/c/chapter.html\" title=\"/Users/cody/text-fabric-data/etcbc/bhsa/tf/c/chapter.tf\">chapter</a>  <a target=\"_blank\" href=\"https://etcbc.github.io/bhsa/features/hebrew/c/code.html\" title=\"/Users/cody/text-fabric-data/etcbc/bhsa/tf/c/code.tf\">code</a>  <a target=\"_blank\" href=\"https://etcbc.github.io/bhsa/features/hebrew/c/det.html\" title=\"/Users/cody/text-fabric-data/etcbc/bhsa/tf/c/det.tf\">det</a>  <a target=\"_blank\" href=\"https://etcbc.github.io/bhsa/features/hebrew/c/freq_lex.html\" title=\"/Users/cody/text-fabric-data/etcbc/bhsa/tf/c/freq_lex.tf\">freq_lex</a>  <a target=\"_blank\" href=\"https://etcbc.github.io/bhsa/features/hebrew/c/function.html\" title=\"/Users/cody/text-fabric-data/etcbc/bhsa/tf/c/function.tf\">function</a>  <a target=\"_blank\" href=\"https://etcbc.github.io/bhsa/features/hebrew/c/g_word.html\" title=\"/Users/cody/text-fabric-data/etcbc/bhsa/tf/c/g_word.tf\">g_word</a>  <a target=\"_blank\" href=\"https://etcbc.github.io/bhsa/features/hebrew/c/g_word_utf8.html\" title=\"/Users/cody/text-fabric-data/etcbc/bhsa/tf/c/g_word_utf8.tf\">g_word_utf8</a>  <a target=\"_blank\" href=\"https://etcbc.github.io/bhsa/features/hebrew/c/gloss.html\" title=\"/Users/cody/text-fabric-data/etcbc/bhsa/tf/c/gloss.tf\">gloss</a>  <a target=\"_blank\" href=\"https://etcbc.github.io/bhsa/features/hebrew/c/gn.html\" title=\"/Users/cody/text-fabric-data/etcbc/bhsa/tf/c/gn.tf\">gn</a>  <a target=\"_blank\" href=\"https://etcbc.github.io/bhsa/features/hebrew/c/label.html\" title=\"/Users/cody/text-fabric-data/etcbc/bhsa/tf/c/label.tf\">label</a>  <a target=\"_blank\" href=\"https://etcbc.github.io/bhsa/features/hebrew/c/language.html\" title=\"/Users/cody/text-fabric-data/etcbc/bhsa/tf/c/language.tf\">language</a>  <a target=\"_blank\" href=\"https://etcbc.github.io/bhsa/features/hebrew/c/lex.html\" title=\"/Users/cody/text-fabric-data/etcbc/bhsa/tf/c/lex.tf\">lex</a>  <a target=\"_blank\" href=\"https://etcbc.github.io/bhsa/features/hebrew/c/lex_utf8.html\" title=\"/Users/cody/text-fabric-data/etcbc/bhsa/tf/c/lex_utf8.tf\">lex_utf8</a>  <a target=\"_blank\" href=\"https://etcbc.github.io/bhsa/features/hebrew/c/ls.html\" title=\"/Users/cody/text-fabric-data/etcbc/bhsa/tf/c/ls.tf\">ls</a>  <a target=\"_blank\" href=\"https://etcbc.github.io/bhsa/features/hebrew/c/nametype.html\" title=\"/Users/cody/text-fabric-data/etcbc/bhsa/tf/c/nametype.tf\">nametype</a>  <a target=\"_blank\" href=\"https://etcbc.github.io/bhsa/features/hebrew/c/nu.html\" title=\"/Users/cody/text-fabric-data/etcbc/bhsa/tf/c/nu.tf\">nu</a>  <a target=\"_blank\" href=\"https://etcbc.github.io/bhsa/features/hebrew/c/number.html\" title=\"/Users/cody/text-fabric-data/etcbc/bhsa/tf/c/number.tf\">number</a>  <a target=\"_blank\" href=\"https://etcbc.github.io/bhsa/features/hebrew/c/otype.html\" title=\"/Users/cody/text-fabric-data/etcbc/bhsa/tf/c/otype.tf\">otype</a>  <a target=\"_blank\" href=\"https://etcbc.github.io/bhsa/features/hebrew/c/pdp.html\" title=\"/Users/cody/text-fabric-data/etcbc/bhsa/tf/c/pdp.tf\">pdp</a>  <a target=\"_blank\" href=\"https://etcbc.github.io/bhsa/features/hebrew/c/prs_gn.html\" title=\"/Users/cody/text-fabric-data/etcbc/bhsa/tf/c/prs_gn.tf\">prs_gn</a>  <a target=\"_blank\" href=\"https://etcbc.github.io/bhsa/features/hebrew/c/prs_nu.html\" title=\"/Users/cody/text-fabric-data/etcbc/bhsa/tf/c/prs_nu.tf\">prs_nu</a>  <a target=\"_blank\" href=\"https://etcbc.github.io/bhsa/features/hebrew/c/prs_ps.html\" title=\"/Users/cody/text-fabric-data/etcbc/bhsa/tf/c/prs_ps.tf\">prs_ps</a>  <a target=\"_blank\" href=\"https://etcbc.github.io/bhsa/features/hebrew/c/ps.html\" title=\"/Users/cody/text-fabric-data/etcbc/bhsa/tf/c/ps.tf\">ps</a>  <a target=\"_blank\" href=\"https://etcbc.github.io/bhsa/features/hebrew/c/qere.html\" title=\"/Users/cody/text-fabric-data/etcbc/bhsa/tf/c/qere.tf\">qere</a>  <a target=\"_blank\" href=\"https://etcbc.github.io/bhsa/features/hebrew/c/qere_trailer.html\" title=\"/Users/cody/text-fabric-data/etcbc/bhsa/tf/c/qere_trailer.tf\">qere_trailer</a>  <a target=\"_blank\" href=\"https://etcbc.github.io/bhsa/features/hebrew/c/qere_trailer_utf8.html\" title=\"/Users/cody/text-fabric-data/etcbc/bhsa/tf/c/qere_trailer_utf8.tf\">qere_trailer_utf8</a>  <a target=\"_blank\" href=\"https://etcbc.github.io/bhsa/features/hebrew/c/qere_utf8.html\" title=\"/Users/cody/text-fabric-data/etcbc/bhsa/tf/c/qere_utf8.tf\">qere_utf8</a>  <a target=\"_blank\" href=\"https://etcbc.github.io/bhsa/features/hebrew/c/rank_lex.html\" title=\"/Users/cody/text-fabric-data/etcbc/bhsa/tf/c/rank_lex.tf\">rank_lex</a>  <a target=\"_blank\" href=\"https://etcbc.github.io/bhsa/features/hebrew/c/rela.html\" title=\"/Users/cody/text-fabric-data/etcbc/bhsa/tf/c/rela.tf\">rela</a>  <a target=\"_blank\" href=\"https://etcbc.github.io/bhsa/features/hebrew/c/sp.html\" title=\"/Users/cody/text-fabric-data/etcbc/bhsa/tf/c/sp.tf\">sp</a>  <a target=\"_blank\" href=\"https://etcbc.github.io/bhsa/features/hebrew/c/st.html\" title=\"/Users/cody/text-fabric-data/etcbc/bhsa/tf/c/st.tf\">st</a>  <a target=\"_blank\" href=\"https://etcbc.github.io/bhsa/features/hebrew/c/trailer.html\" title=\"/Users/cody/text-fabric-data/etcbc/bhsa/tf/c/trailer.tf\">trailer</a>  <a target=\"_blank\" href=\"https://etcbc.github.io/bhsa/features/hebrew/c/trailer_utf8.html\" title=\"/Users/cody/text-fabric-data/etcbc/bhsa/tf/c/trailer_utf8.tf\">trailer_utf8</a>  <a target=\"_blank\" href=\"https://etcbc.github.io/bhsa/features/hebrew/c/txt.html\" title=\"/Users/cody/text-fabric-data/etcbc/bhsa/tf/c/txt.tf\">txt</a>  <a target=\"_blank\" href=\"https://etcbc.github.io/bhsa/features/hebrew/c/typ.html\" title=\"/Users/cody/text-fabric-data/etcbc/bhsa/tf/c/typ.tf\">typ</a>  <a target=\"_blank\" href=\"https://etcbc.github.io/bhsa/features/hebrew/c/verse.html\" title=\"/Users/cody/text-fabric-data/etcbc/bhsa/tf/c/verse.tf\">verse</a>  <a target=\"_blank\" href=\"https://etcbc.github.io/bhsa/features/hebrew/c/voc_lex.html\" title=\"/Users/cody/text-fabric-data/etcbc/bhsa/tf/c/voc_lex.tf\">voc_lex</a>  <a target=\"_blank\" href=\"https://etcbc.github.io/bhsa/features/hebrew/c/voc_lex_utf8.html\" title=\"/Users/cody/text-fabric-data/etcbc/bhsa/tf/c/voc_lex_utf8.tf\">voc_lex_utf8</a>  <a target=\"_blank\" href=\"https://etcbc.github.io/bhsa/features/hebrew/c/vs.html\" title=\"/Users/cody/text-fabric-data/etcbc/bhsa/tf/c/vs.tf\">vs</a>  <a target=\"_blank\" href=\"https://etcbc.github.io/bhsa/features/hebrew/c/vt.html\" title=\"/Users/cody/text-fabric-data/etcbc/bhsa/tf/c/vt.tf\">vt</a>  <b><i><a target=\"_blank\" href=\"https://etcbc.github.io/bhsa/features/hebrew/c/mother.html\" title=\"/Users/cody/text-fabric-data/etcbc/bhsa/tf/c/mother.tf\">mother</a></i></b>  <b><i><a target=\"_blank\" href=\"https://etcbc.github.io/bhsa/features/hebrew/c/oslots.html\" title=\"/Users/cody/text-fabric-data/etcbc/bhsa/tf/c/oslots.tf\">oslots</a></i></b> </p><p><b>Parallel Passages</b>: <b><i><a target=\"_blank\" href=\"https://nbviewer.jupyter.org/github/etcbc/parallels/blob/master/programs/parallels.ipynb\" title=\"/Users/cody/text-fabric-data/etcbc/parallels/tf/c/crossref.tf\">crossref</a></i></b> </p><p><b>Phonetic Transcriptions</b>: <a target=\"_blank\" href=\"https://nbviewer.jupyter.org/github/etcbc/phono/blob/master/programs/phono.ipynb\" title=\"/Users/cody/text-fabric-data/etcbc/phono/tf/c/phono.tf\">phono</a>  <a target=\"_blank\" href=\"https://nbviewer.jupyter.org/github/etcbc/phono/blob/master/programs/phono.ipynb\" title=\"/Users/cody/text-fabric-data/etcbc/phono/tf/c/phono_trailer.tf\">phono_trailer</a> </p></details>"
      ],
      "text/plain": [
       "<IPython.core.display.HTML object>"
      ]
     },
     "metadata": {},
     "output_type": "display_data"
    },
    {
     "data": {
      "text/html": [
       "<style>\n",
       "@font-face {\n",
       "  font-family: \"Ezra SIL\";\n",
       "  src: url('https://github.com/Dans-labs/text-fabric/blob/master/tf/server/static/fonts/SILEOT.ttf?raw=true');\n",
       "  src: url('https://github.com/Dans-labs/text-fabric/blob/master/tf/server/static/fonts/SILEOT.woff?raw=true') format('woff');\n",
       "}\n",
       ".features {\n",
       "    font-family: monospace;\n",
       "    font-size: medium;\n",
       "    font-weight: bold;\n",
       "    color: #0a6611;\n",
       "    display: flex;\n",
       "    flex-flow: column nowrap;\n",
       "    padding: 0.1em;\n",
       "    margin: 0.1em;\n",
       "    direction: ltr;\n",
       "}\n",
       ".features div,.features span {\n",
       "    padding: 0;\n",
       "    margin: -0.1rem 0;\n",
       "}\n",
       ".features .f {\n",
       "    font-family: sans-serif;\n",
       "    font-size: x-small;\n",
       "    font-weight: normal;\n",
       "    color: #5555bb;\n",
       "}\n",
       ".features .xft {\n",
       "  color: #000000;\n",
       "  background-color: #eeeeee;\n",
       "  font-size: medium;\n",
       "  margin: 0.1em 0em;\n",
       "}\n",
       ".features .xft .f {\n",
       "  color: #000000;\n",
       "  background-color: #eeeeee;\n",
       "  font-style: italic;\n",
       "  font-size: small;\n",
       "  font-weight: normal;\n",
       "}\n",
       ".verse {\n",
       "    display: flex;\n",
       "    flex-flow: row wrap;\n",
       "    direction: rtl;\n",
       "}\n",
       ".vl {\n",
       "    display: flex;\n",
       "    flex-flow: column nowrap;\n",
       "    justify-content: flex-end;\n",
       "    align-items: flex-end;\n",
       "    direction: ltr;\n",
       "    width: 100%;\n",
       "}\n",
       ".outeritem {\n",
       "    display: flex;\n",
       "    flex-flow: row wrap;\n",
       "    direction: rtl;\n",
       "}\n",
       ".sentence,.clause,.phrase {\n",
       "    margin-top: -1.2em;\n",
       "    margin-left: 1em;\n",
       "    background: #ffffff none repeat scroll 0 0;\n",
       "    padding: 0 0.3em;\n",
       "    border-style: solid;\n",
       "    border-radius: 0.2em;\n",
       "    font-size: small;\n",
       "    display: block;\n",
       "    width: fit-content;\n",
       "    max-width: fit-content;\n",
       "    direction: ltr;\n",
       "}\n",
       ".atoms {\n",
       "    display: flex;\n",
       "    flex-flow: row wrap;\n",
       "    margin: 0.3em;\n",
       "    padding: 0.3em;\n",
       "    direction: rtl;\n",
       "    background-color: #ffffff;\n",
       "}\n",
       ".satom,.catom,.patom {\n",
       "    margin: 0.3em;\n",
       "    padding: 0.3em;\n",
       "    border-radius: 0.3em;\n",
       "    border-style: solid;\n",
       "    display: flex;\n",
       "    flex-flow: column nowrap;\n",
       "    direction: rtl;\n",
       "    background-color: #ffffff;\n",
       "}\n",
       ".sentence {\n",
       "    border-color: #aa3333;\n",
       "    border-width: 1px;\n",
       "}\n",
       ".clause {\n",
       "    border-color: #aaaa33;\n",
       "    border-width: 1px;\n",
       "}\n",
       ".phrase {\n",
       "    border-color: #33aaaa;\n",
       "    border-width: 1px;\n",
       "}\n",
       ".satom {\n",
       "    border-color: #aa3333;\n",
       "    border-width: 4px;\n",
       "}\n",
       ".catom {\n",
       "    border-color: #aaaa33;\n",
       "    border-width: 3px;\n",
       "}\n",
       ".patom {\n",
       "    border-color: #33aaaa;\n",
       "    border-width: 3px;\n",
       "}\n",
       ".word {\n",
       "    padding: 0.1em;\n",
       "    margin: 0.1em;\n",
       "    border-radius: 0.1em;\n",
       "    border: 1px solid #cccccc;\n",
       "    display: flex;\n",
       "    flex-flow: column nowrap;\n",
       "    direction: rtl;\n",
       "    background-color: #ffffff;\n",
       "}\n",
       ".lextp {\n",
       "    padding: 0.1em;\n",
       "    margin: 0.1em;\n",
       "    border-radius: 0.1em;\n",
       "    border: 2px solid #888888;\n",
       "    width: fit-content;\n",
       "    display: flex;\n",
       "    flex-flow: column nowrap;\n",
       "    direction: rtl;\n",
       "    background-color: #ffffff;\n",
       "}\n",
       ".occs {\n",
       "    font-size: x-small;\n",
       "}\n",
       ".satom.l,.catom.l,.patom.l {\n",
       "    border-left-style: dotted\n",
       "}\n",
       ".satom.r,.catom.r,.patom.r {\n",
       "    border-right-style: dotted\n",
       "}\n",
       ".satom.lno,.catom.lno,.patom.lno {\n",
       "    border-left-style: none\n",
       "}\n",
       ".satom.rno,.catom.rno,.patom.rno {\n",
       "    border-right-style: none\n",
       "}\n",
       ".tr,.tr a:visited,.tr a:link {\n",
       "    font-family: sans-serif;\n",
       "    font-size: large;\n",
       "    color: #000044;\n",
       "    direction: ltr;\n",
       "    text-decoration: none;\n",
       "}\n",
       ".trb,.trb a:visited,.trb a:link {\n",
       "    font-family: sans-serif;\n",
       "    font-size: normal;\n",
       "    direction: ltr;\n",
       "    text-decoration: none;\n",
       "}\n",
       ".prb,.prb a:visited,.prb a:link {\n",
       "    font-family: sans-serif;\n",
       "    font-size: large;\n",
       "    direction: ltr;\n",
       "    text-decoration: none;\n",
       "}\n",
       ".h,.h a:visited,.h a:link {\n",
       "    font-family: \"Ezra SIL\", \"SBL Hebrew\", sans-serif;\n",
       "    font-size: large;\n",
       "    color: #000044;\n",
       "    direction: rtl;\n",
       "    text-decoration: none;\n",
       "}\n",
       ".hb,.hb a:visited,.hb a:link {\n",
       "    font-family: \"Ezra SIL\", \"SBL Hebrew\", sans-serif;\n",
       "    font-size: large;\n",
       "    line-height: 1.8;\n",
       "    direction: rtl;\n",
       "    text-decoration: none;\n",
       "}\n",
       ".vn {\n",
       "  font-size: small !important;\n",
       "  padding-right: 1em;\n",
       "}\n",
       ".rela,.function,.typ {\n",
       "    font-family: monospace;\n",
       "    font-size: small;\n",
       "    color: #0000bb;\n",
       "}\n",
       ".pdp,.pdp a:visited,.pdp a:link {\n",
       "    font-family: monospace;\n",
       "    font-size: medium;\n",
       "    color: #0000bb;\n",
       "    text-decoration: none;\n",
       "}\n",
       ".voc_lex {\n",
       "    font-family: monospace;\n",
       "    font-size: medium;\n",
       "    color: #0000bb;\n",
       "}\n",
       ".vs {\n",
       "    font-family: monospace;\n",
       "    font-size: medium;\n",
       "    font-weight: bold;\n",
       "    color: #0000bb;\n",
       "}\n",
       ".vt {\n",
       "    font-family: monospace;\n",
       "    font-size: medium;\n",
       "    font-weight: bold;\n",
       "    color: #0000bb;\n",
       "}\n",
       ".gloss {\n",
       "    font-family: sans-serif;\n",
       "    font-size: small;\n",
       "    font-weight: normal;\n",
       "    color: #444444;\n",
       "}\n",
       ".vrs {\n",
       "    font-family: sans-serif;\n",
       "    font-size: small;\n",
       "    font-weight: bold;\n",
       "    color: #444444;\n",
       "}\n",
       ".nd {\n",
       "    font-family: monospace;\n",
       "    font-size: x-small;\n",
       "    color: #999999;\n",
       "}\n",
       ".hl {\n",
       "    background-color: #ffee66;\n",
       "}\n",
       "span.hldot {\n",
       "\tbackground-color: var(--hl-strong);\n",
       "\tborder: 0.2rem solid var(--hl-rim);\n",
       "\tborder-radius: 0.4rem;\n",
       "\t/*\n",
       "\tdisplay: inline-block;\n",
       "\twidth: 0.8rem;\n",
       "\theight: 0.8rem;\n",
       "\t*/\n",
       "}\n",
       "span.hl {\n",
       "\tbackground-color: var(--hl-strong);\n",
       "\tborder-width: 0;\n",
       "\tborder-radius: 0.1rem;\n",
       "\tborder-style: solid;\n",
       "}\n",
       "\n",
       "span.hlup {\n",
       "\tborder-color: var(--hl-dark);\n",
       "\tborder-width: 0.1rem;\n",
       "\tborder-style: solid;\n",
       "\tborder-radius: 0.2rem;\n",
       "  padding: 0.2rem;\n",
       "}\n",
       "\n",
       ":root {\n",
       "\t--hl-strong:        hsla( 60, 100%,  70%, 0.9  );\n",
       "\t--hl-rim:           hsla( 55, 100%,  60%, 0.9  );\n",
       "\t--hl-dark:          hsla( 55, 100%,  40%, 0.9  );\n",
       "}\n",
       "</style>"
      ],
      "text/plain": [
       "<IPython.core.display.HTML object>"
      ]
     },
     "metadata": {},
     "output_type": "display_data"
    },
    {
     "data": {
      "text/html": [
       "<details open><summary><b>API members</b>:</summary>\n",
       "<a target=\"_blank\" href=\"https://dans-labs.github.io/text-fabric/Api/Computed/#computed-data\" title=\"doc\">C Computed</a>, <a target=\"_blank\" href=\"https://dans-labs.github.io/text-fabric/Api/Computed/#computed-data\" title=\"doc\">Call AllComputeds</a>, <a target=\"_blank\" href=\"https://dans-labs.github.io/text-fabric/Api/Computed/#computed-data\" title=\"doc\">Cs ComputedString</a><br/>\n",
       "<a target=\"_blank\" href=\"https://dans-labs.github.io/text-fabric/Api/Features/#edge-features\" title=\"doc\">E Edge</a>, <a target=\"_blank\" href=\"https://dans-labs.github.io/text-fabric/Api/Features/#edge-features\" title=\"doc\">Eall AllEdges</a>, <a target=\"_blank\" href=\"https://dans-labs.github.io/text-fabric/Api/Features/#edge-features\" title=\"doc\">Es EdgeString</a><br/>\n",
       "<a target=\"_blank\" href=\"https://dans-labs.github.io/text-fabric/Api/Fabric/#loading\" title=\"doc\">ensureLoaded</a>, <a target=\"_blank\" href=\"https://dans-labs.github.io/text-fabric/Api/Fabric/#loading\" title=\"doc\">TF</a>, <a target=\"_blank\" href=\"https://dans-labs.github.io/text-fabric/Api/Fabric/#loading\" title=\"doc\">ignored</a>, <a target=\"_blank\" href=\"https://dans-labs.github.io/text-fabric/Api/Fabric/#loading\" title=\"doc\">loadLog</a><br/>\n",
       "<a target=\"_blank\" href=\"https://dans-labs.github.io/text-fabric/Api/Locality/#locality\" title=\"doc\">L Locality</a><br/>\n",
       "<a target=\"_blank\" href=\"https://dans-labs.github.io/text-fabric/Api/Misc/#messaging\" title=\"doc\">cache</a>, <a target=\"_blank\" href=\"https://dans-labs.github.io/text-fabric/Api/Misc/#messaging\" title=\"doc\">error</a>, <a target=\"_blank\" href=\"https://dans-labs.github.io/text-fabric/Api/Misc/#messaging\" title=\"doc\">indent</a>, <a target=\"_blank\" href=\"https://dans-labs.github.io/text-fabric/Api/Misc/#messaging\" title=\"doc\">info</a>, <a target=\"_blank\" href=\"https://dans-labs.github.io/text-fabric/Api/Misc/#messaging\" title=\"doc\">reset</a><br/>\n",
       "<a target=\"_blank\" href=\"https://dans-labs.github.io/text-fabric/Api/Nodes/#navigating-nodes\" title=\"doc\">N Nodes</a>, <a target=\"_blank\" href=\"https://dans-labs.github.io/text-fabric/Api/Nodes/#navigating-nodes\" title=\"doc\">sortKey</a>, <a target=\"_blank\" href=\"https://dans-labs.github.io/text-fabric/Api/Nodes/#navigating-nodes\" title=\"doc\">sortKeyTuple</a>, <a target=\"_blank\" href=\"https://dans-labs.github.io/text-fabric/Api/Nodes/#navigating-nodes\" title=\"doc\">otypeRank</a>, <a target=\"_blank\" href=\"https://dans-labs.github.io/text-fabric/Api/Nodes/#navigating-nodes\" title=\"doc\">sortNodes</a><br/>\n",
       "<a target=\"_blank\" href=\"https://dans-labs.github.io/text-fabric/Api/Features/#node-features\" title=\"doc\">F Feature</a>, <a target=\"_blank\" href=\"https://dans-labs.github.io/text-fabric/Api/Features/#node-features\" title=\"doc\">Fall AllFeatures</a>, <a target=\"_blank\" href=\"https://dans-labs.github.io/text-fabric/Api/Features/#node-features\" title=\"doc\">Fs FeatureString</a><br/>\n",
       "<a target=\"_blank\" href=\"https://dans-labs.github.io/text-fabric/Api/Search/#search\" title=\"doc\">S Search</a><br/>\n",
       "<a target=\"_blank\" href=\"https://dans-labs.github.io/text-fabric/Api/Text/#text\" title=\"doc\">T Text</a></details>"
      ],
      "text/plain": [
       "<IPython.core.display.HTML object>"
      ]
     },
     "metadata": {},
     "output_type": "display_data"
    }
   ],
   "source": [
    "A = use('bhsa', hoist=globals())\n",
    "#print(f'running version {A.version} of BHSA...')"
   ]
  },
  {
   "cell_type": "markdown",
   "metadata": {},
   "source": [
    "# Defining Heads\n",
    "\n",
    "The basic definition of a phrase head from the previous version is carried over here, which is:\n",
    "> the word with a part of speech after which a phrase type is named\n",
    "\n",
    "As applied in the previous effort, this includes a secondary criterion:\n",
    "> the word which semantically determines grammatical agreement\n",
    "\n",
    "This latter case thus excludes quantifiers such as כל and cardinal numbers that are in construct or attribution to a given word.\n",
    "\n",
    "From the point of view of the ETCBC database, heads can be extracted using the `subphrase` object and its relations. These relations are not always coded in a transparent or beneficial way. But they are at least useful enough to disambiguate independent words from dependent words. From the ETCBC database perspective, we add a third criterion:\n",
    "> a word contained in an independent subphrase or a subphrase only dependent upon a quantifier\n",
    "\n",
    "\n",
    "## Tracking Head Selection\n",
    "\n",
    "Using the guiding principles listed above, we will follow a process of deduction for assigning heads to phrases. We select all phrases to track which heads are accounted for."
   ]
  },
  {
   "cell_type": "code",
   "execution_count": 3,
   "metadata": {},
   "outputs": [
    {
     "name": "stdout",
     "output_type": "stream",
     "text": [
      "  0.26s 253207 results\n"
     ]
    }
   ],
   "source": [
    "remaining_phrases = set(result[0] for result in A.search('phrase'))\n",
    "covered_phrases = set()\n",
    "remaining_types = list(feat[0] for feat in F.typ.freqList(nodeTypes='phrase'))"
   ]
  },
  {
   "cell_type": "markdown",
   "metadata": {},
   "source": [
    "All phrase to head assignments will be made in the dictionary below."
   ]
  },
  {
   "cell_type": "code",
   "execution_count": 4,
   "metadata": {},
   "outputs": [],
   "source": [
    "phrase2heads = collections.defaultdict(set)"
   ]
  },
  {
   "cell_type": "markdown",
   "metadata": {},
   "source": [
    "The functions below programmatically record the heads in `phrase2heads` and remove them from the remaining set. `query_heads` iterates through a dictionary of queries and calls `record_head` on each result. `heads_status` provides a simple readout of what phrases remain to be analyzed."
   ]
  },
  {
   "cell_type": "code",
   "execution_count": 5,
   "metadata": {},
   "outputs": [],
   "source": [
    "def record_head(phrase, head, mapping=phrase2heads, remaining=remaining_phrases, covered=covered_phrases):\n",
    "    '''\n",
    "    Simple function to track phrases\n",
    "    with heads that are accounted for\n",
    "    and to modify the phrase2heads\n",
    "    dict, which is a mapping from a phrase\n",
    "    node to its head nodes.\n",
    "    '''\n",
    "    # try/except accounts for phrases with plural heads, \n",
    "    # one of which is already recorded\n",
    "    try:\n",
    "          remaining.remove(phrase)\n",
    "    except: \n",
    "        pass\n",
    "    \n",
    "    if F.otype.v(phrase) == 'word':\n",
    "        raise Exception(f'node {phrase} is a word not a phrase!')\n",
    "    \n",
    "    mapping[phrase].add(head) # record it\n",
    "    covered.add(phrase)\n",
    "    \n",
    "def query_heads(querydict, phrasei=0, headi=1, sets={}):\n",
    "    '''\n",
    "    Runs queries on phrasetype/query dict.\n",
    "    Reports results.\n",
    "    Adds results.\n",
    "    \n",
    "    phrasei - the index of the phrase result in the search template.\n",
    "    headi - the index of the head result in the search template.\n",
    "    sets - custom sets for TF search\n",
    "    '''\n",
    "    for phrasetype, query in querydict.items():\n",
    "        print(f'running query on {phrasetype}')\n",
    "        results = A.search(query, silent=True, sets=sets)\n",
    "        print(f'\\t{len(results)} results found')\n",
    "        for res in results:\n",
    "            phrase, head = res[phrasei], res[headi]\n",
    "            record_head(phrase, head)\n",
    "            \n",
    "def heads_status():\n",
    "    # simply prints accounted vs unaccounted heads\n",
    "    print(f'{len(covered_phrases)} phrases matched with a head...')\n",
    "    print(f'{len(remaining_phrases)} phrases remaining...')"
   ]
  },
  {
   "cell_type": "code",
   "execution_count": 6,
   "metadata": {},
   "outputs": [],
   "source": [
    "# linguistic functions\n",
    "\n",
    "def no_intervening_prep(res, wordAi=1, wordBi=3):\n",
    "    '''\n",
    "    Filters out results that have\n",
    "    intervening prepositions between a\n",
    "    quantifier and its quantified.\n",
    "    This is not yet possible to do in Search\n",
    "    templates.\n",
    "    '''\n",
    "    # filter and return new results based on presence of intervening prep\n",
    "    new_results = []\n",
    "    for result in res:\n",
    "        wordA, wordB = result[wordAi], result[wordBi]\n",
    "        intervening_preps = list(w for w in range(wordA+1, wordB) if w in preps)\n",
    "        if not intervening_preps:\n",
    "            new_results.append((phrasea, head))\n",
    "    return new_results"
   ]
  },
  {
   "cell_type": "markdown",
   "metadata": {},
   "source": [
    "## Prepare Custom Sets"
   ]
  },
  {
   "cell_type": "code",
   "execution_count": 7,
   "metadata": {},
   "outputs": [
    {
     "name": "stdout",
     "output_type": "stream",
     "text": [
      "254624 independent phrase atoms ready...\n"
     ]
    }
   ],
   "source": [
    "# independent phrase atoms\n",
    "\n",
    "def climb_pa_chain(relalist, phrase_atom):\n",
    "    '''\n",
    "    Recursive function that climbs \n",
    "    down phrase_atom parallel chains\n",
    "    to identify all relations in the chain.\n",
    "    '''\n",
    "    mother = E.mother.f(phrase_atom)[0]\n",
    "    relalist.append(F.rela.v(mother))\n",
    "    if F.rela.v(mother) == 'Para':\n",
    "        climb_pa_chain(relalist, mother)\n",
    "        \n",
    "independent_phrasea = [pa for pa in F.otype.s('phrase_atom') if F.rela.v(pa) == 'NA']\n",
    "# check for independent parallel pa relations\n",
    "for pa in F.rela.s('Para'):  \n",
    "    chained_relas = []\n",
    "    climb_pa_chain(chained_relas, pa)\n",
    "    if not set(chained_relas) - {'NA', 'Para'}:\n",
    "        independent_phrasea.append(pa)\n",
    "        \n",
    "iphrase_atom = set(independent_phrasea)\n",
    "\n",
    "print(f'{len(iphrase_atom)} independent phrase atoms ready...')"
   ]
  },
  {
   "cell_type": "code",
   "execution_count": 8,
   "metadata": {},
   "outputs": [
    {
     "name": "stdout",
     "output_type": "stream",
     "text": [
      "  0.81s 127 results\n"
     ]
    }
   ],
   "source": [
    "custom_quants = {'KL/', 'M<V/', 'JTR/',\n",
    "                 'M<FR/', 'XYJ/', '<FRWN/'}\n",
    "\n",
    "quantlexs = '|'.join(custom_quants)\n",
    "\n",
    "# for the Hebrew idiom: בנ + quantifier for age\n",
    "son_quantifiers = set(res[0] for res in A.search('''\n",
    "\n",
    "word lex=BN/ st=c nu=sg\n",
    "<: word ls=card\n",
    "\n",
    "'''))\n",
    "\n",
    "# for use as quantifier set\n",
    "quantifiers = set(w for w in F.otype.s('word')\n",
    "                  if F.lex.v(w) in custom_quants\n",
    "                  or F.ls.v(w) == 'card')\n",
    "\n",
    "quantifiers |= (son_quantifiers)"
   ]
  },
  {
   "cell_type": "code",
   "execution_count": 9,
   "metadata": {},
   "outputs": [
    {
     "name": "stdout",
     "output_type": "stream",
     "text": [
      "  0.95s 159 results\n",
      "  0.96s 1459 results\n",
      "  0.86s 1 result\n",
      "  0.74s 1728 results\n",
      "76878 custom prepositions ready...\n"
     ]
    }
   ],
   "source": [
    "# prepare prepositions set\n",
    "\n",
    "preps = [w for w in F.otype.s('word') if F.pdp.v(w) == 'prep']\n",
    "\n",
    "# add special preps:\n",
    "preps.extend(A.search('''\n",
    "\n",
    "prep:word lex=BD/\n",
    "/with/\n",
    "phrase_atom\n",
    "    word pdp=prep lex=L\n",
    "    <: prep\n",
    "/-/\n",
    "\n",
    "''', shallow=True))\n",
    "\n",
    "# The prepositions below are custom prepositions which could be further investigated\n",
    "preps.extend(A.search('''\n",
    "\n",
    "prep:word st=c lex=PNH/|TWK/|QY/|QYH=/|<WD/\n",
    "/with/\n",
    "phrase_atom\n",
    "    word pdp=prep\n",
    "    <: prep\n",
    "/-/\n",
    "\n",
    "''', shallow=True))\n",
    "\n",
    "# The prepositions below are a bit more experimental and are restricted \n",
    "# to construct positions before cardinal numbers\n",
    "# for ראש, there are other relevant examples—but these have to be disambiguated\n",
    "# possibly if we have animacy measurement, we can generate ראש preps based on whether\n",
    "# the word it is construct to is animate or not\n",
    "preps.extend(A.search('''\n",
    "\n",
    "prep:word st=c lex=R>C/\n",
    "/with/\n",
    "phrase_atom\n",
    "    word pdp=prep\n",
    "    <: prep\n",
    "/-/\n",
    "/with/\n",
    "prep\n",
    "<: word ls=card\n",
    "/-/\n",
    "''', shallow=True))\n",
    "\n",
    "preps.extend(A.search('''\n",
    "\n",
    "word ls=ppre st=c lex#DRK/\n",
    "\n",
    "''', shallow=True))\n",
    "\n",
    "preps = set(preps)\n",
    "\n",
    "print(f'{len(preps)} custom prepositions ready...')"
   ]
  },
  {
   "cell_type": "code",
   "execution_count": 10,
   "metadata": {},
   "outputs": [
    {
     "name": "stdout",
     "output_type": "stream",
     "text": [
      "414289 non-quantifying words ready\n",
      "349706 non-prepositional words ready\n",
      "337411 non-prepositional, non-quantifier words ready\n"
     ]
    }
   ],
   "source": [
    "quantpreps = quantifiers|preps\n",
    "\n",
    "# non quantifiers\n",
    "non_quant = set(w for w in F.otype.s('word') if w not in quantifiers)\n",
    "\n",
    "# non prepositions\n",
    "non_prep = set(w for w in F.otype.s('word') if w not in preps)\n",
    "\n",
    "# non quantifiers or prepositions\n",
    "nonquantprep = set(w for w in F.otype.s('word') if w not in quantpreps)\n",
    "\n",
    "print(f'{len(non_quant)} non-quantifying words ready')\n",
    "print(f'{len(non_prep)} non-prepositional words ready')\n",
    "print(f'{len(nonquantprep)} non-prepositional, non-quantifier words ready')"
   ]
  },
  {
   "cell_type": "code",
   "execution_count": 11,
   "metadata": {},
   "outputs": [
    {
     "name": "stdout",
     "output_type": "stream",
     "text": [
      "  0.84s 76123 results\n",
      "76123 post prepositional words primed...\n",
      "350461 non-post prepositional words primed...\n"
     ]
    }
   ],
   "source": [
    "precede_prep = A.search('''\n",
    "\n",
    "word\n",
    "/with/\n",
    "phrase_atom\n",
    "    prep\n",
    "    <: ..\n",
    "/or/\n",
    "phrase_atom\n",
    "    prep\n",
    "    <: word pdp=art\n",
    "    <: ..\n",
    "/-/\n",
    "''', shallow=True, sets={'prep': preps})\n",
    "\n",
    "postprep = set(precede_prep)\n",
    "nonpostprep = set(w for w in F.otype.s('word') if w not in postprep)\n",
    "\n",
    "print(f'{len(postprep)} post prepositional words primed...')\n",
    "print(f'{len(nonpostprep)} non-post prepositional words primed...')"
   ]
  },
  {
   "cell_type": "code",
   "execution_count": 12,
   "metadata": {},
   "outputs": [],
   "source": [
    "sets = {'quant': quantifiers, \n",
    "        'prep': preps, \n",
    "        'nonprep': non_prep,\n",
    "        'nonquant': non_quant, \n",
    "        'nonquantprep': nonquantprep,\n",
    "        'iphrase_atom': iphrase_atom,\n",
    "        'postprep': postprep,\n",
    "        'nonpostprep': nonpostprep}"
   ]
  },
  {
   "cell_type": "markdown",
   "metadata": {},
   "source": [
    "# Simple Heads\n",
    "\n",
    "The selection of heads for certain phrase types is very straightforward. Those are defined in the templates below and are subsequently applied. These phrase types are selected based on the survey of their subphrase relations as found in the old notebook."
   ]
  },
  {
   "cell_type": "code",
   "execution_count": 13,
   "metadata": {},
   "outputs": [],
   "source": [
    "simp_heads = dict(\n",
    "\n",
    "PPrP = '''\n",
    "% personal pronoun\n",
    "\n",
    "phrase typ=PPrP\n",
    "    iphrase_atom\n",
    "        word pdp=prps\n",
    "\n",
    "''',\n",
    "\n",
    "DPrP = '''\n",
    "% demonstrative pronoun\n",
    "\n",
    "phrase typ=DPrP\n",
    "    iphrase_atom\n",
    "        word pdp=prde\n",
    "\n",
    "''',\n",
    "\n",
    "InjP = '''\n",
    "% interjectional\n",
    "\n",
    "phrase typ=InjP\n",
    "    iphrase_atom\n",
    "        word pdp=intj\n",
    "\n",
    "''',\n",
    "\n",
    "NegP = '''\n",
    "% negative\n",
    "\n",
    "phrase typ=NegP\n",
    "    iphrase_atom\n",
    "        word pdp=nega\n",
    "\n",
    "''',\n",
    "\n",
    "InrP = '''\n",
    "% interrogative\n",
    "\n",
    "phrase typ=InrP\n",
    "    iphrase_atom\n",
    "        word pdp=inrg\n",
    "\n",
    "''',\n",
    "    \n",
    "IPrP = '''\n",
    "% interrogative pronoun\n",
    "\n",
    "phrase typ=IPrP\n",
    "    iphrase_atom\n",
    "        word pdp=prin\n",
    "\n",
    "''',\n",
    "\n",
    ") # end of dictionary"
   ]
  },
  {
   "cell_type": "markdown",
   "metadata": {},
   "source": [
    "### Make Queries, Record Heads, See What Remains\n",
    "\n",
    "Here we run the queries and run `record_head` over each result. In all of the templates the head is the second item in the result tuple."
   ]
  },
  {
   "cell_type": "code",
   "execution_count": 14,
   "metadata": {},
   "outputs": [
    {
     "name": "stdout",
     "output_type": "stream",
     "text": [
      "running query on PPrP\n",
      "\t4386 results found\n",
      "running query on DPrP\n",
      "\t790 results found\n",
      "running query on InjP\n",
      "\t1883 results found\n",
      "running query on NegP\n",
      "\t6742 results found\n",
      "running query on InrP\n",
      "\t1291 results found\n",
      "running query on IPrP\n",
      "\t798 results found\n",
      "\n",
      " <><><><><><><><><><><><><><><><><><><><> \n",
      "\n",
      "15866 phrases matched with a head...\n",
      "237341 phrases remaining...\n"
     ]
    }
   ],
   "source": [
    "query_heads(simp_heads, headi=2, sets=sets)\n",
    "        \n",
    "print('\\n', '<>'*20, '\\n')\n",
    "heads_status()"
   ]
  },
  {
   "cell_type": "markdown",
   "metadata": {},
   "source": [
    "### Find Remaining Phrases\n",
    "\n",
    "What phrases with the above types remain unaccounted for?"
   ]
  },
  {
   "cell_type": "code",
   "execution_count": 15,
   "metadata": {},
   "outputs": [
    {
     "data": {
      "text/plain": [
       "0"
      ]
     },
     "execution_count": 15,
     "metadata": {},
     "output_type": "execute_result"
    }
   ],
   "source": [
    "unaccounted_simp = set(phrase for phrase in remaining_phrases\n",
    "                          if F.typ.v(phrase) in simp_heads)\n",
    "len(unaccounted_simp)"
   ]
  },
  {
   "cell_type": "code",
   "execution_count": 16,
   "metadata": {},
   "outputs": [
    {
     "name": "stdout",
     "output_type": "stream",
     "text": [
      "['VP', 'PP', 'CP', 'NP', 'PrNP', 'AdvP', 'AdjP']\n"
     ]
    }
   ],
   "source": [
    "for typ in simp_heads:\n",
    "    remaining_types.remove(typ)\n",
    "print(remaining_types)"
   ]
  },
  {
   "cell_type": "markdown",
   "metadata": {},
   "source": [
    "# Mostly Simple Heads\n",
    "\n",
    "The next set of heads require a bit more care since they can contain a bigger variety of relationships."
   ]
  },
  {
   "cell_type": "code",
   "execution_count": 17,
   "metadata": {},
   "outputs": [],
   "source": [
    "# configure display\n",
    "A.displaySetup(condenseType='phrase', withNodes=True, end=50)"
   ]
  },
  {
   "cell_type": "markdown",
   "metadata": {},
   "source": [
    "## VP\n",
    "There is only one complication for the VP: that is that there is one VP that has more than one verb:"
   ]
  },
  {
   "cell_type": "code",
   "execution_count": 18,
   "metadata": {},
   "outputs": [
    {
     "name": "stdout",
     "output_type": "stream",
     "text": [
      "  1.27s 1 result\n"
     ]
    },
    {
     "data": {
      "text/markdown": [
       "\n",
       "\n",
       "**phrase** *1*\n",
       "\n"
      ],
      "text/plain": [
       "<IPython.core.display.Markdown object>"
      ]
     },
     "metadata": {},
     "output_type": "display_data"
    },
    {
     "data": {
      "text/html": [
       "<a href=\"https://shebanq.ancient-data.org/hebrew/text?book=Chronica_I&chapter=24&verse=6&version=c&mr=m&qw=q&tp=txt_p&tr=hb&wget=v&qget=v&nget=vt\" title=\"show this passage in SHEBANQ\" sec=\"1_Chronicles 24:6\">1_Chronicles 24:6</a>\n",
       "<div class=\"atoms  \" >\n",
       "<a href=\"#\" class=\"nd\">511867</a>\n",
       "\n",
       "\n",
       "\n",
       "<div class=\"catom  \" >\n",
       "\n",
       "    <div class=\"clause \" >\n",
       "        <a href=\"https://shebanq.ancient-data.org/hebrew/text?book=Chronica_I&chapter=24&verse=6&version=c&mr=m&qw=q&tp=txt_p&tr=hb&wget=v&qget=v&nget=vt\" title=\"1_Chronicles 24:6\" sec=\"1_Chronicles 24:6\">clause</a> <a href=\"#\" class=\"nd\">511867</a>  <span class=\"typ\">Ptcp</span>\n",
       "    </div>\n",
       "    <div class=\"atoms\">\n",
       "\n",
       "<div class=\"patom  \" >\n",
       "\n",
       "    <div class=\"phrase \" >\n",
       "        <a href=\"https://shebanq.ancient-data.org/hebrew/text?book=Chronica_I&chapter=24&verse=6&version=c&mr=m&qw=q&tp=txt_p&tr=hb&wget=v&qget=v&nget=vt\" title=\"1_Chronicles 24:6\" sec=\"1_Chronicles 24:6\">phrase</a> <a href=\"#\" class=\"nd\">893309</a>  <span class=\"function\">Conj</span> <span class=\"typ\">CP</span>\n",
       "    </div>\n",
       "    <div class=\"atoms\">\n",
       "\n",
       "<div class=\"word  \" >\n",
       "<a href=\"#\" class=\"nd\">403601</a>\n",
       "<div class=\"h\"><a target=\"_blank\" href=\"https://shebanq.ancient-data.org/hebrew/word?version=c&id=1W\" title=\"show this lexeme in SHEBANQ\">וְ</a></div>\n",
       "<div class=\"features\"> <span class=\"pdp\"><a href=\"https://shebanq.ancient-data.org/hebrew/text?book=Chronica_I&chapter=24&verse=6&version=c&mr=m&qw=q&tp=txt_p&tr=hb&wget=v&qget=v&nget=vt\" title=\"1_Chronicles 24:6\" sec=\"1_Chronicles 24:6\">conj</a></span> <span class=\"gloss\">and</span></div>\n",
       "\n",
       "\n",
       "</div>\n",
       "\n",
       "\n",
       "    </div>\n",
       "\n",
       "\n",
       "</div>\n",
       "\n",
       "<div class=\"patom  hl\" >\n",
       "\n",
       "    <div class=\"phrase hl\" >\n",
       "        <a href=\"https://shebanq.ancient-data.org/hebrew/text?book=Chronica_I&chapter=24&verse=6&version=c&mr=m&qw=q&tp=txt_p&tr=hb&wget=v&qget=v&nget=vt\" title=\"1_Chronicles 24:6\" sec=\"1_Chronicles 24:6\">phrase</a> <a href=\"#\" class=\"nd\">893310</a>  <span class=\"function\">PreC</span> <span class=\"typ\">VP</span>\n",
       "    </div>\n",
       "    <div class=\"atoms\">\n",
       "\n",
       "<div class=\"word  \" >\n",
       "<a href=\"#\" class=\"nd\">403602</a>\n",
       "<div class=\"h\"><a target=\"_blank\" href=\"https://shebanq.ancient-data.org/hebrew/word?version=c&id=1AXZv\" title=\"show this lexeme in SHEBANQ\">אָחֻ֥ז׀ </a></div>\n",
       "<div class=\"features\"> <span class=\"pdp\"><a href=\"https://shebanq.ancient-data.org/hebrew/text?book=Chronica_I&chapter=24&verse=6&version=c&mr=m&qw=q&tp=txt_p&tr=hb&wget=v&qget=v&nget=vt\" title=\"1_Chronicles 24:6\" sec=\"1_Chronicles 24:6\">verb</a></span> <span class=\"gloss\">seize</span> <span class=\"vs\">qal</span> <span class=\"vt\">ptcp</span></div>\n",
       "\n",
       "\n",
       "</div>\n",
       "\n",
       "<div class=\"word  \" >\n",
       "<a href=\"#\" class=\"nd\">403603</a>\n",
       "<div class=\"h\"><a target=\"_blank\" href=\"https://shebanq.ancient-data.org/hebrew/word?version=c&id=1AXZv\" title=\"show this lexeme in SHEBANQ\">אָחֻ֖ז </a></div>\n",
       "<div class=\"features\"> <span class=\"pdp\"><a href=\"https://shebanq.ancient-data.org/hebrew/text?book=Chronica_I&chapter=24&verse=6&version=c&mr=m&qw=q&tp=txt_p&tr=hb&wget=v&qget=v&nget=vt\" title=\"1_Chronicles 24:6\" sec=\"1_Chronicles 24:6\">verb</a></span> <span class=\"gloss\">seize</span> <span class=\"vs\">qal</span> <span class=\"vt\">ptcp</span></div>\n",
       "\n",
       "\n",
       "</div>\n",
       "\n",
       "\n",
       "    </div>\n",
       "\n",
       "\n",
       "</div>\n",
       "\n",
       "<div class=\"patom  \" >\n",
       "\n",
       "    <div class=\"phrase \" >\n",
       "        <a href=\"https://shebanq.ancient-data.org/hebrew/text?book=Chronica_I&chapter=24&verse=6&version=c&mr=m&qw=q&tp=txt_p&tr=hb&wget=v&qget=v&nget=vt\" title=\"1_Chronicles 24:6\" sec=\"1_Chronicles 24:6\">phrase</a> <a href=\"#\" class=\"nd\">893311</a>  <span class=\"function\">Adju</span> <span class=\"typ\">PP</span>\n",
       "    </div>\n",
       "    <div class=\"atoms\">\n",
       "\n",
       "<div class=\"word  \" >\n",
       "<a href=\"#\" class=\"nd\">403604</a>\n",
       "<div class=\"h\"><a target=\"_blank\" href=\"https://shebanq.ancient-data.org/hebrew/word?version=c&id=1L\" title=\"show this lexeme in SHEBANQ\">לְ</a></div>\n",
       "<div class=\"features\"> <span class=\"pdp\"><a href=\"https://shebanq.ancient-data.org/hebrew/text?book=Chronica_I&chapter=24&verse=6&version=c&mr=m&qw=q&tp=txt_p&tr=hb&wget=v&qget=v&nget=vt\" title=\"1_Chronicles 24:6\" sec=\"1_Chronicles 24:6\">prep</a></span> <span class=\"gloss\">to</span></div>\n",
       "\n",
       "\n",
       "</div>\n",
       "\n",
       "<div class=\"word  \" >\n",
       "<a href=\"#\" class=\"nd\">403605</a>\n",
       "<div class=\"h\"><a target=\"_blank\" href=\"https://shebanq.ancient-data.org/hebrew/word?version=c&id=1AJTMRn\" title=\"show this lexeme in SHEBANQ\">אִיתָמָֽר׃ פ </a></div>\n",
       "<div class=\"features\"> <span class=\"pdp\"><a href=\"https://shebanq.ancient-data.org/hebrew/text?book=Chronica_I&chapter=24&verse=6&version=c&mr=m&qw=q&tp=txt_p&tr=hb&wget=v&qget=v&nget=vt\" title=\"1_Chronicles 24:6\" sec=\"1_Chronicles 24:6\">nmpr</a></span> <span class=\"gloss\">Ithamar</span></div>\n",
       "\n",
       "\n",
       "</div>\n",
       "\n",
       "\n",
       "    </div>\n",
       "\n",
       "\n",
       "</div>\n",
       "\n",
       "\n",
       "    </div>\n",
       "\n",
       "\n",
       "</div>\n",
       "\n",
       "\n",
       "</div>\n"
      ],
      "text/plain": [
       "<IPython.core.display.HTML object>"
      ]
     },
     "metadata": {},
     "output_type": "display_data"
    }
   ],
   "source": [
    "mult_verbs = A.search('''\n",
    "\n",
    "phrase typ=VP\n",
    "/with/\n",
    "    word pdp=verb\n",
    "    < word pdp=verb\n",
    "/-/\n",
    "''')\n",
    "A.show(mult_verbs, condenseType='clause')"
   ]
  },
  {
   "cell_type": "markdown",
   "metadata": {},
   "source": [
    "The template below excludes this case without ignoring VP's that do not necessarily begin with a verb."
   ]
  },
  {
   "cell_type": "code",
   "execution_count": 19,
   "metadata": {},
   "outputs": [
    {
     "name": "stdout",
     "output_type": "stream",
     "text": [
      "  1.59s 69024 results\n",
      "84890 phrases matched with a head...\n",
      "168317 phrases remaining...\n"
     ]
    }
   ],
   "source": [
    "VP = '''\n",
    "\n",
    "phrase typ=VP\n",
    "    \n",
    "    head:word pdp=verb\n",
    "    \n",
    "    /without/\n",
    "    phrase\n",
    "        word pdp=verb\n",
    "        < head\n",
    "    /-/\n",
    "\n",
    "'''\n",
    "\n",
    "VP_search = A.search(VP)\n",
    "\n",
    "for phrase, head in VP_search:\n",
    "    record_head(phrase, head)\n",
    "    \n",
    "heads_status()"
   ]
  },
  {
   "cell_type": "markdown",
   "metadata": {},
   "source": [
    "### VP Sanity Check\n",
    "\n",
    "We double check that the indicated phrase above only has one head."
   ]
  },
  {
   "cell_type": "code",
   "execution_count": 20,
   "metadata": {},
   "outputs": [
    {
     "data": {
      "text/plain": [
       "{403602}"
      ]
     },
     "execution_count": 20,
     "metadata": {},
     "output_type": "execute_result"
    }
   ],
   "source": [
    "phrase2heads[893310]"
   ]
  },
  {
   "cell_type": "markdown",
   "metadata": {},
   "source": [
    "See what's left..."
   ]
  },
  {
   "cell_type": "code",
   "execution_count": 21,
   "metadata": {},
   "outputs": [
    {
     "data": {
      "text/plain": [
       "0"
      ]
     },
     "execution_count": 21,
     "metadata": {},
     "output_type": "execute_result"
    }
   ],
   "source": [
    "unaccounted_vp = set(phrase for phrase in remaining_phrases\n",
    "                          if F.typ.v(phrase) == 'VP')\n",
    "len(unaccounted_vp)"
   ]
  },
  {
   "cell_type": "code",
   "execution_count": 22,
   "metadata": {},
   "outputs": [
    {
     "name": "stdout",
     "output_type": "stream",
     "text": [
      "['PP', 'CP', 'NP', 'PrNP', 'AdvP', 'AdjP']\n"
     ]
    }
   ],
   "source": [
    "remaining_types.remove('VP')\n",
    "print(remaining_types)"
   ]
  },
  {
   "cell_type": "markdown",
   "metadata": {},
   "source": [
    "## CP\n",
    "\n",
    "The conjunction phrase is relatively straightforward. But there are 1140 cases where the conjunction is technically headed by a preposition in the ETCBC data. These are phrases such as בטרם and בעבור (see the more detailed analysis in the prev. notebook). It is not clear at all why the ETCBC encodes these as conjunction phrases. This is almost certainly a confusion of the formal `typ` value and the functional `function` label (with a value of `Conj`). Nevertheless, here we make a choice to select the preposition as the true head.\n",
    "\n",
    "In a BHSA2, these cases ought to be repaired."
   ]
  },
  {
   "cell_type": "code",
   "execution_count": 23,
   "metadata": {},
   "outputs": [],
   "source": [
    "cp_heads = dict(\n",
    "\n",
    "conj = '''\n",
    "\n",
    "phrase typ=CP\n",
    "/without/\n",
    "    word pdp=prep\n",
    "/-/\n",
    "    iphrase_atom\n",
    "        head:word pdp=conj\n",
    "        /without/\n",
    "        phrase_atom\n",
    "            word pdp=conj\n",
    "            <: head\n",
    "        /-/\n",
    "\n",
    "''',\n",
    "    \n",
    "prep_conj = '''\n",
    "\n",
    "phrase typ=CP\n",
    "    iphrase_atom\n",
    "        =: word pdp=prep\n",
    "\n",
    "'''\n",
    "\n",
    ")\n",
    "\n"
   ]
  },
  {
   "cell_type": "code",
   "execution_count": 24,
   "metadata": {},
   "outputs": [
    {
     "name": "stdout",
     "output_type": "stream",
     "text": [
      "running query on conj\n",
      "\t51341 results found\n",
      "running query on prep_conj\n",
      "\t1140 results found\n",
      "\n",
      " <><><><><><><><><><><><><><><><><><><><> \n",
      "\n",
      "137371 phrases matched with a head...\n",
      "115836 phrases remaining...\n"
     ]
    }
   ],
   "source": [
    "query_heads(cp_heads, headi=2, sets=sets)\n",
    "        \n",
    "print('\\n', '<>'*20, '\\n')\n",
    "heads_status()"
   ]
  },
  {
   "cell_type": "markdown",
   "metadata": {},
   "source": [
    "### CP Sanity Check"
   ]
  },
  {
   "cell_type": "code",
   "execution_count": 25,
   "metadata": {},
   "outputs": [
    {
     "data": {
      "text/plain": [
       "0"
      ]
     },
     "execution_count": 25,
     "metadata": {},
     "output_type": "execute_result"
    }
   ],
   "source": [
    "unaccounted_cp = set(phrase for phrase in remaining_phrases\n",
    "                          if F.typ.v(phrase) == 'CP')\n",
    "len(unaccounted_cp)"
   ]
  },
  {
   "cell_type": "code",
   "execution_count": 26,
   "metadata": {},
   "outputs": [
    {
     "name": "stdout",
     "output_type": "stream",
     "text": [
      "['PP', 'NP', 'PrNP', 'AdvP', 'AdjP']\n"
     ]
    }
   ],
   "source": [
    "remaining_types.remove('CP')\n",
    "print(remaining_types)"
   ]
  },
  {
   "cell_type": "markdown",
   "metadata": {},
   "source": [
    "## AdjP\n",
    "\n",
    "The adjective phrase always occurs with a word that has a `pdp` of adjective: "
   ]
  },
  {
   "cell_type": "code",
   "execution_count": 27,
   "metadata": {},
   "outputs": [
    {
     "name": "stdout",
     "output_type": "stream",
     "text": [
      "  0.62s 0 results\n"
     ]
    },
    {
     "data": {
      "text/plain": [
       "[]"
      ]
     },
     "execution_count": 27,
     "metadata": {},
     "output_type": "execute_result"
    }
   ],
   "source": [
    "A.search('''\n",
    "\n",
    "phrase typ=AdjP\n",
    "/without/\n",
    "    word pdp=adjv\n",
    "/-/\n",
    "\n",
    "''')"
   ]
  },
  {
   "cell_type": "markdown",
   "metadata": {},
   "source": [
    "By playing with the `head:word pdp=` value below, I ascertain that there are 8 uses of `subs` as a head in this phrase type, and 1 use of `advb` as a head. These variants are due to the phrase containing multiple heads, with the first having a `pdp` of `adjv`, formally making the phrase an `AdjP`. \n",
    "\n",
    "The selection criteria is as follows. We want all cases in an adjective phrase where the word has a `pdp` of `adjv`, `subs`, or `advb`. The head candidate must not be found in a modifying subphrase, defined as `rela=adj|atr|rec|mod|dem` (remember that a word can often occur in multiple subphrases); and the only acceptable values for phrase_atom and subphrase relations are either `NA` (no relation), or `Para`/`par` (coordinate relation). In this latter case, it is expected here that the first requirement will prevent spurious parallel results (that is, words that are parallel not to a head but to a modiying element).\n",
    "\n",
    "The requirements are set in the pattern below."
   ]
  },
  {
   "cell_type": "code",
   "execution_count": 28,
   "metadata": {},
   "outputs": [
    {
     "name": "stdout",
     "output_type": "stream",
     "text": [
      "  1.50s 1871 results\n",
      "139120 phrases matched with a head...\n",
      "114087 phrases remaining...\n"
     ]
    }
   ],
   "source": [
    "AdjP = '''\n",
    "\n",
    "phrase typ=AdjP\n",
    "    iphrase_atom\n",
    "        head:word pdp=adjv|subs|advb\n",
    "        \n",
    "% require either NA subphrase relation\n",
    "% or no subphrase embedding:\n",
    "        /with/\n",
    "        subphrase rela=NA|par\n",
    "            head\n",
    "        /or/\n",
    "        /without/\n",
    "        subphrase\n",
    "            head\n",
    "        /-/\n",
    "        /-/\n",
    "        \n",
    "% exclude uses as modifier:\n",
    "        /without/\n",
    "        subphrase rela=adj|atr|rec|mod|dem\n",
    "            head\n",
    "        /-/\n",
    "        \n",
    "% ensure word is not immediately preceded by a construct form\n",
    "        /without/\n",
    "        phrase_atom\n",
    "            word st=c\n",
    "            <: head\n",
    "        /-/\n",
    "'''\n",
    "AdjP = A.search(AdjP, sets=sets)\n",
    "\n",
    "for res in AdjP:\n",
    "    phrase, head = res[0], res[2]\n",
    "    record_head(phrase, head)\n",
    "    \n",
    "heads_status()"
   ]
  },
  {
   "cell_type": "code",
   "execution_count": 29,
   "metadata": {},
   "outputs": [
    {
     "data": {
      "text/plain": [
       "0"
      ]
     },
     "execution_count": 29,
     "metadata": {},
     "output_type": "execute_result"
    }
   ],
   "source": [
    "unaccounted_AdjP = set(phrase for phrase in remaining_phrases\n",
    "                          if F.typ.v(phrase) == 'AdjP')\n",
    "len(unaccounted_AdjP)"
   ]
  },
  {
   "cell_type": "code",
   "execution_count": 30,
   "metadata": {},
   "outputs": [
    {
     "name": "stdout",
     "output_type": "stream",
     "text": [
      "['PP', 'NP', 'PrNP', 'AdvP']\n"
     ]
    }
   ],
   "source": [
    "remaining_types.remove('AdjP')\n",
    "print(remaining_types)"
   ]
  },
  {
   "cell_type": "markdown",
   "metadata": {},
   "source": [
    "## AdvP\n",
    "\n",
    "The adverb phrase has similar internal relations to AdjP. Thus, we apply the same basic template search.\n",
    "\n",
    "By modifying `pdp=` parameter, I have found 2 examples of a preposition in the AdvP, which is caused by a prepositional phrase_atom coordinated with the `AdvP` phrase atom. These mixed cases must be dealt with imperfectly by taking the preposition head literally. It is then up to the user of the heads feature to include/exclude cases such as these, or to depend on the phrase_atoms.\n",
    "\n",
    "There are two cases where an `inrg` serves as a head element. These are incorrect encodings, as they belong under their own phrase type of `InrP`. These should be fixed in BHSA2. For now the `inrg` is excluded as a phrase head as they are followed by a `advb` which is probably triggering these phrases' classification.\n",
    "\n",
    "There is one case in sentence 68 from Exodus 8:20 where a כל quantifier is incorrectly identified as a phrase head. This is because it precedes a prepositional element. That case is also excluded below."
   ]
  },
  {
   "cell_type": "code",
   "execution_count": 31,
   "metadata": {},
   "outputs": [
    {
     "name": "stdout",
     "output_type": "stream",
     "text": [
      "  1.57s 5776 results\n",
      "144779 phrases matched with a head...\n",
      "108428 phrases remaining...\n"
     ]
    }
   ],
   "source": [
    "AdvP = '''\n",
    "\n",
    "phrase typ=AdvP\n",
    "    iphrase_atom\n",
    "        head:word pdp=advb|subs|nmpr|prep\n",
    "        \n",
    "% require either NA subphrase relation\n",
    "% or no subphrase embedding:\n",
    "        /with/\n",
    "        subphrase rela=NA|par\n",
    "            head\n",
    "        /or/\n",
    "        /without/\n",
    "        subphrase\n",
    "            head\n",
    "        /-/\n",
    "        /-/\n",
    "        \n",
    "% exclude uses as modifier:\n",
    "        /without/\n",
    "        subphrase rela=adj|atr|rec|mod|dem\n",
    "            head\n",
    "        /-/\n",
    "        \n",
    "% ensure word is not immediately preceded by a construct form\n",
    "        /without/\n",
    "        phrase_atom\n",
    "            word st=c\n",
    "            <: head\n",
    "        /-/\n",
    "        \n",
    "% ensure word is not immediately preceded by a prepositional form\n",
    "        /without/\n",
    "        phrase_atom\n",
    "            word pdp=prep\n",
    "            <: head\n",
    "        /-/\n",
    "'''\n",
    "AdvP = A.search(AdvP, sets=sets)\n",
    "\n",
    "for res in AdvP:\n",
    "    phrase, head = res[0], res[2]\n",
    "    record_head(phrase, head)\n",
    "    \n",
    "heads_status()"
   ]
  },
  {
   "cell_type": "code",
   "execution_count": 32,
   "metadata": {},
   "outputs": [
    {
     "data": {
      "text/plain": [
       "0"
      ]
     },
     "execution_count": 32,
     "metadata": {},
     "output_type": "execute_result"
    }
   ],
   "source": [
    "unaccounted_AdvP = set(phrase for phrase in remaining_phrases\n",
    "                          if F.typ.v(phrase) == 'AdvP')\n",
    "len(unaccounted_AdvP)"
   ]
  },
  {
   "cell_type": "code",
   "execution_count": 33,
   "metadata": {},
   "outputs": [
    {
     "name": "stdout",
     "output_type": "stream",
     "text": [
      "['PP', 'NP', 'PrNP']\n"
     ]
    }
   ],
   "source": [
    "remaining_types.remove('AdvP')\n",
    "print(remaining_types)"
   ]
  },
  {
   "cell_type": "markdown",
   "metadata": {},
   "source": [
    "## PP\n",
    "\n",
    "The same method used above applies to prepositional phrases."
   ]
  },
  {
   "cell_type": "code",
   "execution_count": 34,
   "metadata": {},
   "outputs": [
    {
     "name": "stdout",
     "output_type": "stream",
     "text": [
      "  1.53s 61498 results\n",
      "202261 phrases matched with a head...\n",
      "50946 phrases remaining...\n"
     ]
    }
   ],
   "source": [
    "PP = '''\n",
    "\n",
    "phrase typ=PP\n",
    "    iphrase_atom\n",
    "        head:word pdp=prep\n",
    "        \n",
    "% require either NA subphrase relation\n",
    "% or no subphrase embedding:\n",
    "        /with/\n",
    "        subphrase rela=NA|par\n",
    "            head\n",
    "        /or/\n",
    "        /without/\n",
    "        subphrase\n",
    "            head\n",
    "        /-/\n",
    "        /-/\n",
    "        \n",
    "% exclude uses as modifier:\n",
    "        /without/\n",
    "        subphrase rela=adj|atr|rec|mod|dem\n",
    "            head\n",
    "        /-/\n",
    "        \n",
    "% ensure word is not immediately preceded by a construct form\n",
    "        /without/\n",
    "        phrase_atom\n",
    "            word st=c\n",
    "            <: head\n",
    "        /-/\n",
    "        \n",
    "% ensure word is not immediately preceded by a preposition\n",
    "        /without/\n",
    "        phrase_atom\n",
    "            word pdp=prep\n",
    "            <: head\n",
    "        /-/\n",
    "'''\n",
    "PP = A.search(PP, sets=sets)\n",
    "\n",
    "for res in PP:\n",
    "    phrase, head = res[0], res[2]\n",
    "    record_head(phrase, head)\n",
    "    \n",
    "heads_status()"
   ]
  },
  {
   "cell_type": "code",
   "execution_count": 35,
   "metadata": {},
   "outputs": [
    {
     "data": {
      "text/plain": [
       "0"
      ]
     },
     "execution_count": 35,
     "metadata": {},
     "output_type": "execute_result"
    }
   ],
   "source": [
    "unaccounted_PP = set(phrase for phrase in remaining_phrases\n",
    "                          if F.typ.v(phrase) == 'PP')\n",
    "len(unaccounted_PP)"
   ]
  },
  {
   "cell_type": "code",
   "execution_count": 36,
   "metadata": {},
   "outputs": [
    {
     "name": "stdout",
     "output_type": "stream",
     "text": [
      "['NP', 'PrNP']\n"
     ]
    }
   ],
   "source": [
    "remaining_types.remove('PP')\n",
    "print(remaining_types)"
   ]
  },
  {
   "cell_type": "markdown",
   "metadata": {},
   "source": [
    "## NP and PrNP\n",
    "\n",
    "The noun phrase is the most complicated for head selection due to the presence of quantifers. \n",
    "\n",
    "Note that some noun phrases contain other phrase types, such as `PP` or even `AdjP` that are not indicated in the present implementation of the data. BHSA2 should seek to remedy this by spinning new phrases with their own types for these."
   ]
  },
  {
   "cell_type": "code",
   "execution_count": 37,
   "metadata": {},
   "outputs": [
    {
     "name": "stdout",
     "output_type": "stream",
     "text": [
      "running query on NP_noqant\n",
      "\t57139 results found\n",
      "running query on NP_quant_alone\n",
      "\t1741 results found\n",
      "running query on NP_quantified\n",
      "\t5596 results found\n",
      "\n",
      " <><><><><><><><><><><><><><><><><><><><> \n",
      "\n",
      "253205 phrases matched with a head...\n",
      "2 phrases remaining...\n"
     ]
    }
   ],
   "source": [
    "NP_heads = dict(\n",
    "    \n",
    "NP_noqant = f'''\n",
    "\n",
    "phrase typ=NP|PrNP|DPrP|PPrP\n",
    "    iphrase_atom\n",
    "        head:nonquant pdp=subs|adjv|nmpr|prde|prps\n",
    "% require either NA subphrase relation\n",
    "% or no subphrase embedding:\n",
    "        /with/\n",
    "        subphrase rela=NA|par\n",
    "            head\n",
    "        /or/\n",
    "        /without/\n",
    "        subphrase\n",
    "            head\n",
    "        /-/\n",
    "        /-/\n",
    "        \n",
    "% exclude uses as modifier:\n",
    "        /without/\n",
    "        subphrase rela=adj|atr|rec|mod|dem\n",
    "            head\n",
    "        /-/\n",
    "        \n",
    "% ensure word is not immediately preceded by a construct form\n",
    "        /without/\n",
    "        phrase_atom\n",
    "            word st=c\n",
    "            <: head\n",
    "        /-/\n",
    "        \n",
    "% ensure word is not immediately preceded by a verb (participle) + preposition\n",
    "        /without/\n",
    "        phrase_atom\n",
    "            word sp=verb\n",
    "            <: prep\n",
    "            <: head\n",
    "        /-/\n",
    "        /without/\n",
    "        phrase_atom\n",
    "            word sp=verb\n",
    "            <: prep\n",
    "            <: word pdp=art\n",
    "            <: head\n",
    "        /-/\n",
    "''',\n",
    "\n",
    "NP_quant_alone = f'''\n",
    "\n",
    "phrase typ=NP|PrNP|DPrP|PPrP\n",
    "    iphrase_atom\n",
    "        quantifier:quant\n",
    "\n",
    "% quantifier does not precede a quantified element\n",
    "        /without/\n",
    "        subphrase\n",
    "            quantifier\n",
    "            < w1:nonquantprep pdp=adjv|subs|nmpr|prde|prps\n",
    "            /with/\n",
    "            = nonpostprep\n",
    "            /-/\n",
    "        /-/ \n",
    "        \n",
    "% quantifier is not construct with quantified element\n",
    "        /without/\n",
    "        quantifier\n",
    "        <mother- subphrase rela=rec\n",
    "            nonquantprep pdp=subs|nmpr|prde|prps\n",
    "        /-/\n",
    "        /without/\n",
    "        phrase_atom\n",
    "            quantifier st=c\n",
    "            <: nonquantprep pdp=subs|nmpr|prde|prps\n",
    "        /-/\n",
    "    \n",
    "% quantifier is not in another relation with a quantified element\n",
    "        /without/\n",
    "        s1:subphrase\n",
    "            quantifier\n",
    "        s2:subphrase rela=adj|atr|dem\n",
    "            w1:nonquantprep pdp=subs|nmpr|prde|prps\n",
    "            /with/\n",
    "            = nonpostprep\n",
    "            /-/\n",
    "% exclude cases where a prepositional object occurs non-adjacently\n",
    "            /without/\n",
    "            subphrase\n",
    "            /without/\n",
    "                quant\n",
    "            /-/\n",
    "                =: prep\n",
    "                w1\n",
    "            /-/\n",
    "        s1 <mother- s2\n",
    "        /-/\n",
    "\n",
    "% ensure quantifer is not in a quantifying chain\n",
    "% there are numerous possible relations\n",
    "        /without/\n",
    "        phrase\n",
    "            phrase_atom rela=NA|Para\n",
    "            /with/\n",
    "                s1:subphrase\n",
    "                    nonquantprep pdp=subs|nmpr|prde|prps\n",
    "                s2:subphrase rela=adj|atr\n",
    "                    word ls=card\n",
    "                s1 <mother- s2\n",
    "            /or/\n",
    "                s1:subphrase\n",
    "                    word ls=card\n",
    "                s2:subphrase rela=adj|atr\n",
    "                    nonquantprep pdp=subs|nmpr|prde|prps\n",
    "                    /with/\n",
    "                    = nonpostprep\n",
    "                    /-/\n",
    "                s1 <mother- s2\n",
    "            /or/\n",
    "                word ls=card\n",
    "                <mother- subphrase rela=rec\n",
    "                    nonquantprep pdp=subs|nmpr|prde|prps\n",
    "            /or/\n",
    "                nonquantprep pdp=subs|nmpr|prde|prps\n",
    "                <mother- subphrase rela=rec\n",
    "                    word ls=card\n",
    "            /or/\n",
    "                nonquantprep pdp=subs|nmpr|prde|prps st=c\n",
    "                <: word ls=card\n",
    "            /-/\n",
    "% quantifier is either a cardinal number of BN/ in chain\n",
    "            w1:word\n",
    "            /with/\n",
    "            ls=card prs=absent\n",
    "            /or/\n",
    "            lex=BN/ prs=absent\n",
    "            /-/\n",
    "            \n",
    "            quantifier = w1\n",
    "        /-/\n",
    "\n",
    "% exclude uses as modifier:\n",
    "        /without/\n",
    "        subphrase rela=adj|atr|rec|mod|dem\n",
    "            quantifier\n",
    "        /-/\n",
    "''',)\n",
    "\n",
    "NP_complex = dict(NP_quantified = '''\n",
    "\n",
    "phrase typ=NP|PrNP|DPrP|PPrP\n",
    "    iphrase_atom\n",
    "   \n",
    "% ensure that word is quantified with a head-word quantifier\n",
    "% NB: what follows is a long chain of specs on quantifier\n",
    "\n",
    "        quantifier:quant\n",
    "\n",
    "% quantifier not used in rec relations to non-prepositions\n",
    "        /without/\n",
    "        nonprep\n",
    "        <mother- subphrase rela=rec\n",
    "            quantifier\n",
    "            w1:word\n",
    "            /without/\n",
    "            phrase_atom\n",
    "                prep\n",
    "                <: w1\n",
    "            /-/\n",
    "            /without/\n",
    "            phrase_atom\n",
    "                prep\n",
    "                <: word pdp=art\n",
    "                <: w1\n",
    "            /-/\n",
    "            w1 = quantifier\n",
    "        /-/\n",
    "\n",
    "% quantifier not used in adj relations to non-quantifiers\n",
    "        /without/\n",
    "        subphrase\n",
    "        /with/\n",
    "            nonquant pdp#conj|art\n",
    "        /-/\n",
    "        <mother- subphrase rela=adj\n",
    "            quantifier\n",
    "        /-/\n",
    "\n",
    "% ------------------------------\n",
    "% NB: what follows is a long chain of specs on head\n",
    "\n",
    "% require adjacency to quantifier\n",
    "        <1: subphrase\n",
    "            head:nonquant pdp=subs|adjv|advb|nmpr|prde|prps\n",
    "    \n",
    "% quantified word is not a dependent modifier\n",
    "% exclude non-quant construct state\n",
    "            /without/\n",
    "            nonquant st=c\n",
    "            <: head\n",
    "            /-/\n",
    "            /without/\n",
    "            nonquant st=c\n",
    "            <: word pdp=art\n",
    "            <: head\n",
    "            /-/\n",
    "\n",
    "% exclude non-quant rec relas\n",
    "            /without/\n",
    "            nonquantprep\n",
    "            <mother- subphrase rela=rec\n",
    "                head\n",
    "            /-/\n",
    "    \n",
    "% exclude non-quant para rec relas\n",
    "            /without/\n",
    "            nonquantprep\n",
    "            <mother- subphrase rela=rec\n",
    "            <mother- subphrase rela=par\n",
    "                head\n",
    "            /-/\n",
    "        \n",
    "% exclude non-quant adjunct relas\n",
    "            /without/\n",
    "            subphrase\n",
    "            /without/\n",
    "                := quant\n",
    "            /-/\n",
    "            <mother- subphrase rela=adj\n",
    "                head \n",
    "            /-/\n",
    "    \n",
    "% exclude non-quant para adjunct relas\n",
    "            /without/\n",
    "            subphrase\n",
    "            /without/\n",
    "                := quant\n",
    "            /-/\n",
    "            <mother- subphrase rela=adj\n",
    "            <mother- subphrase rela=par\n",
    "                head\n",
    "            /-/\n",
    "\n",
    "% exclude demonstrative relas when demonstrative points to subphrase with words other than quantifiers\n",
    "            /without/\n",
    "            subphrase\n",
    "            /with/\n",
    "                nonquant pdp#art|conj\n",
    "            /-/\n",
    "            <mother- subphrase rela=dem\n",
    "                head \n",
    "            /-/\n",
    "\n",
    "% exclude all other kinds of relations\n",
    "            /without/\n",
    "            subphrase rela=atr|mod\n",
    "                head\n",
    "            /-/\n",
    "            \n",
    "% exclude words with immediately preceding prepositions\n",
    "            /without/\n",
    "            prep\n",
    "            <: head\n",
    "            /-/\n",
    "            /without/\n",
    "            prep\n",
    "            <: word pdp=art\n",
    "            <: head\n",
    "            /-/\n",
    "\n",
    "''',)\n",
    "\n",
    "query_heads(NP_heads, headi=2, sets=sets)\n",
    "query_heads(NP_complex, headi=4, sets=sets)\n",
    "print('\\n', '<>'*20, '\\n')\n",
    "heads_status()"
   ]
  },
  {
   "cell_type": "markdown",
   "metadata": {},
   "source": [
    "There are only 2 phrases left. Let's have a look at the remaining phrases..."
   ]
  },
  {
   "cell_type": "code",
   "execution_count": 43,
   "metadata": {},
   "outputs": [
    {
     "name": "stdout",
     "output_type": "stream",
     "text": [
      "phrase 4\n"
     ]
    },
    {
     "data": {
      "text/markdown": [
       "\n",
       "\n",
       "**Result** *842047*\n",
       "\n"
      ],
      "text/plain": [
       "<IPython.core.display.Markdown object>"
      ]
     },
     "metadata": {},
     "output_type": "display_data"
    },
    {
     "data": {
      "text/html": [
       "<a href=\"https://shebanq.ancient-data.org/hebrew/text?book=Psalmi&chapter=59&verse=4&version=c&mr=m&qw=q&tp=txt_p&tr=hb&wget=v&qget=v&nget=vt\" title=\"show this passage in SHEBANQ\" sec=\"Psalms 59:4\">Psalms 59:4</a>\n",
       "<div class=\"atoms  \" >\n",
       "<a href=\"#\" class=\"nd\">842047</a>\n",
       "\n",
       "\n",
       "\n",
       "<div class=\"patom  \" >\n",
       "\n",
       "    <div class=\"phrase \" >\n",
       "        <a href=\"https://shebanq.ancient-data.org/hebrew/text?book=Psalmi&chapter=59&verse=4&version=c&mr=m&qw=q&tp=txt_p&tr=hb&wget=v&qget=v&nget=vt\" title=\"Psalms 59:4\" sec=\"Psalms 59:4\">phrase</a> <a href=\"#\" class=\"nd\">842047</a>  <span class=\"function\">Adju</span> <span class=\"typ\">NP</span>\n",
       "    </div>\n",
       "    <div class=\"atoms\">\n",
       "\n",
       "<div class=\"word  \" >\n",
       "<a href=\"#\" class=\"nd\">320066</a>\n",
       "<div class=\"h\"><a target=\"_blank\" href=\"https://shebanq.ancient-data.org/hebrew/word?version=c&id=1LA\" title=\"show this lexeme in SHEBANQ\">לֹא־</a></div>\n",
       "<div class=\"features\"> <span class=\"pdp\"><a href=\"https://shebanq.ancient-data.org/hebrew/text?book=Psalmi&chapter=59&verse=4&version=c&mr=m&qw=q&tp=txt_p&tr=hb&wget=v&qget=v&nget=vt\" title=\"Psalms 59:4\" sec=\"Psalms 59:4\">nega</a></span> <span class=\"gloss\">not</span></div>\n",
       "\n",
       "\n",
       "</div>\n",
       "\n",
       "<div class=\"word  \" >\n",
       "<a href=\"#\" class=\"nd\">320067</a>\n",
       "<div class=\"h\"><a target=\"_blank\" href=\"https://shebanq.ancient-data.org/hebrew/word?version=c&id=1PCOn\" title=\"show this lexeme in SHEBANQ\">פִשְׁעִ֖י </a></div>\n",
       "<div class=\"features\"> <span class=\"pdp\"><a href=\"https://shebanq.ancient-data.org/hebrew/text?book=Psalmi&chapter=59&verse=4&version=c&mr=m&qw=q&tp=txt_p&tr=hb&wget=v&qget=v&nget=vt\" title=\"Psalms 59:4\" sec=\"Psalms 59:4\">subs</a></span> <span class=\"gloss\">rebellion</span></div>\n",
       "\n",
       "\n",
       "</div>\n",
       "\n",
       "<div class=\"word  \" >\n",
       "<a href=\"#\" class=\"nd\">320068</a>\n",
       "<div class=\"h\"><a target=\"_blank\" href=\"https://shebanq.ancient-data.org/hebrew/word?version=c&id=1W\" title=\"show this lexeme in SHEBANQ\">וְ</a></div>\n",
       "<div class=\"features\"> <span class=\"pdp\"><a href=\"https://shebanq.ancient-data.org/hebrew/text?book=Psalmi&chapter=59&verse=4&version=c&mr=m&qw=q&tp=txt_p&tr=hb&wget=v&qget=v&nget=vt\" title=\"Psalms 59:4\" sec=\"Psalms 59:4\">conj</a></span> <span class=\"gloss\">and</span></div>\n",
       "\n",
       "\n",
       "</div>\n",
       "\n",
       "<div class=\"word  \" >\n",
       "<a href=\"#\" class=\"nd\">320069</a>\n",
       "<div class=\"h\"><a target=\"_blank\" href=\"https://shebanq.ancient-data.org/hebrew/word?version=c&id=1LA\" title=\"show this lexeme in SHEBANQ\">לֹא־</a></div>\n",
       "<div class=\"features\"> <span class=\"pdp\"><a href=\"https://shebanq.ancient-data.org/hebrew/text?book=Psalmi&chapter=59&verse=4&version=c&mr=m&qw=q&tp=txt_p&tr=hb&wget=v&qget=v&nget=vt\" title=\"Psalms 59:4\" sec=\"Psalms 59:4\">nega</a></span> <span class=\"gloss\">not</span></div>\n",
       "\n",
       "\n",
       "</div>\n",
       "\n",
       "<div class=\"word  \" >\n",
       "<a href=\"#\" class=\"nd\">320070</a>\n",
       "<div class=\"h\"><a target=\"_blank\" href=\"https://shebanq.ancient-data.org/hebrew/word?version=c&id=1XVATn\" title=\"show this lexeme in SHEBANQ\">חַטָּאתִ֣י </a></div>\n",
       "<div class=\"features\"> <span class=\"pdp\"><a href=\"https://shebanq.ancient-data.org/hebrew/text?book=Psalmi&chapter=59&verse=4&version=c&mr=m&qw=q&tp=txt_p&tr=hb&wget=v&qget=v&nget=vt\" title=\"Psalms 59:4\" sec=\"Psalms 59:4\">subs</a></span> <span class=\"gloss\">sin</span></div>\n",
       "\n",
       "\n",
       "</div>\n",
       "\n",
       "\n",
       "    </div>\n",
       "\n",
       "\n",
       "</div>\n",
       "\n",
       "\n",
       "</div>\n"
      ],
      "text/plain": [
       "<IPython.core.display.HTML object>"
      ]
     },
     "metadata": {},
     "output_type": "display_data"
    },
    {
     "name": "stdout",
     "output_type": "stream",
     "text": [
      "phrase 2\n"
     ]
    },
    {
     "data": {
      "text/markdown": [
       "\n",
       "\n",
       "**Result** *865764*\n",
       "\n"
      ],
      "text/plain": [
       "<IPython.core.display.Markdown object>"
      ]
     },
     "metadata": {},
     "output_type": "display_data"
    },
    {
     "data": {
      "text/html": [
       "<a href=\"https://shebanq.ancient-data.org/hebrew/text?book=Proverbia&chapter=23&verse=29&version=c&mr=m&qw=q&tp=txt_p&tr=hb&wget=v&qget=v&nget=vt\" title=\"show this passage in SHEBANQ\" sec=\"Proverbs 23:29\">Proverbs 23:29</a>\n",
       "<div class=\"atoms  \" >\n",
       "<a href=\"#\" class=\"nd\">865764</a>\n",
       "\n",
       "\n",
       "\n",
       "<div class=\"patom  \" >\n",
       "\n",
       "    <div class=\"phrase \" >\n",
       "        <a href=\"https://shebanq.ancient-data.org/hebrew/text?book=Proverbia&chapter=23&verse=29&version=c&mr=m&qw=q&tp=txt_p&tr=hb&wget=v&qget=v&nget=vt\" title=\"Proverbs 23:29\" sec=\"Proverbs 23:29\">phrase</a> <a href=\"#\" class=\"nd\">865764</a>  <span class=\"function\">Subj</span> <span class=\"typ\">NP</span>\n",
       "    </div>\n",
       "    <div class=\"atoms\">\n",
       "\n",
       "<div class=\"word  \" >\n",
       "<a href=\"#\" class=\"nd\">353272</a>\n",
       "<div class=\"h\"><a target=\"_blank\" href=\"https://shebanq.ancient-data.org/hebrew/word?version=c&id=1AWJ\" title=\"show this lexeme in SHEBANQ\">אֹ֥וי </a></div>\n",
       "<div class=\"features\"> <span class=\"pdp\"><a href=\"https://shebanq.ancient-data.org/hebrew/text?book=Proverbia&chapter=23&verse=29&version=c&mr=m&qw=q&tp=txt_p&tr=hb&wget=v&qget=v&nget=vt\" title=\"Proverbs 23:29\" sec=\"Proverbs 23:29\">intj</a></span> <span class=\"gloss\">woe</span></div>\n",
       "\n",
       "\n",
       "</div>\n",
       "\n",
       "\n",
       "    </div>\n",
       "\n",
       "\n",
       "</div>\n",
       "\n",
       "\n",
       "</div>\n"
      ],
      "text/plain": [
       "<IPython.core.display.HTML object>"
      ]
     },
     "metadata": {},
     "output_type": "display_data"
    }
   ],
   "source": [
    "for phrase in list(remaining_phrases)[:100]:\n",
    "    print(f'phrase {F.number.v(phrase)}')\n",
    "    A.prettyTuple((phrase,), seqNumber=phrase)"
   ]
  },
  {
   "cell_type": "markdown",
   "metadata": {},
   "source": [
    "Here we have negatives and interjections serving as the phrase heads of noun phrases. That is a mistake by the database, and hence they are worthy of being patched. These issues should be addressed in a BHSA2.\n",
    "\n",
    "Furthermore, during the testing and development of these templates, a number of subphrase mistakes were found in the data. These primarily consist of missing relations between quantified elements and the cardinal number, as seen below. The code displays the phrases in question, their selected heads, and the subphrase relations found within them. The lack of a subphrase containing the number, or the lack of a relation from the number to the quantified has resulted in poorly-selected heads. Typically these relations are expressed with subphrase relations of `rec` or `adj`."
   ]
  },
  {
   "cell_type": "code",
   "execution_count": 38,
   "metadata": {},
   "outputs": [
    {
     "name": "stdout",
     "output_type": "stream",
     "text": [
      "  0.43s 1 result\n"
     ]
    },
    {
     "data": {
      "text/markdown": [
       "\n",
       "\n",
       "**Result** *Daniel 3:23*\n",
       "\n"
      ],
      "text/plain": [
       "<IPython.core.display.Markdown object>"
      ]
     },
     "metadata": {},
     "output_type": "display_data"
    },
    {
     "data": {
      "text/html": [
       "<a href=\"https://shebanq.ancient-data.org/hebrew/text?book=Daniel&chapter=3&verse=23&version=c&mr=m&qw=q&tp=txt_p&tr=hb&wget=v&qget=v&nget=vt\" title=\"show this passage in SHEBANQ\" sec=\"Daniel 3:23\">Daniel 3:23</a>\n",
       "<div class=\"atoms  \" >\n",
       "<a href=\"#\" class=\"nd\">877452</a>\n",
       "\n",
       "\n",
       "\n",
       "<div class=\"patom  l \" >\n",
       "\n",
       "    <div class=\"phrase \" >\n",
       "        <a href=\"https://shebanq.ancient-data.org/hebrew/text?book=Daniel&chapter=3&verse=23&version=c&mr=m&qw=q&tp=txt_p&tr=hb&wget=v&qget=v&nget=vt\" title=\"Daniel 3:23\" sec=\"Daniel 3:23\">phrase</a> <a href=\"#\" class=\"nd\">877452</a>  <span class=\"function\">Subj</span> <span class=\"typ\">NP</span>\n",
       "    </div>\n",
       "    <div class=\"atoms\">\n",
       "\n",
       "<div class=\"word  hl\" >\n",
       "<a href=\"#\" class=\"nd\">372116</a>\n",
       "<div class=\"h\"><a target=\"_blank\" href=\"https://shebanq.ancient-data.org/hebrew/word?version=c&id=2GBRn\" title=\"show this lexeme in SHEBANQ\">גֻבְרַיָּ֤א </a></div>\n",
       "<div class=\"features\"> <span class=\"pdp\"><a href=\"https://shebanq.ancient-data.org/hebrew/text?book=Daniel&chapter=3&verse=23&version=c&mr=m&qw=q&tp=txt_p&tr=hb&wget=v&qget=v&nget=vt\" title=\"Daniel 3:23\" sec=\"Daniel 3:23\">subs</a></span> <span class=\"gloss\">man</span></div>\n",
       "\n",
       "\n",
       "</div>\n",
       "\n",
       "<div class=\"word  \" >\n",
       "<a href=\"#\" class=\"nd\">372117</a>\n",
       "<div class=\"h\"><a target=\"_blank\" href=\"https://shebanq.ancient-data.org/hebrew/word?version=c&id=2ALK\" title=\"show this lexeme in SHEBANQ\">אִלֵּךְ֙ </a></div>\n",
       "<div class=\"features\"> <span class=\"pdp\"><a href=\"https://shebanq.ancient-data.org/hebrew/text?book=Daniel&chapter=3&verse=23&version=c&mr=m&qw=q&tp=txt_p&tr=hb&wget=v&qget=v&nget=vt\" title=\"Daniel 3:23\" sec=\"Daniel 3:23\">prde</a></span> <span class=\"gloss\">these</span></div>\n",
       "\n",
       "\n",
       "</div>\n",
       "\n",
       "<div class=\"word  hl\" >\n",
       "<a href=\"#\" class=\"nd\">372118</a>\n",
       "<div class=\"h\"><a target=\"_blank\" href=\"https://shebanq.ancient-data.org/hebrew/word?version=c&id=2TLTn\" title=\"show this lexeme in SHEBANQ\">תְּלָ֣תֵּהֹ֔ון </a></div>\n",
       "<div class=\"features\"> <span class=\"pdp\"><a href=\"https://shebanq.ancient-data.org/hebrew/text?book=Daniel&chapter=3&verse=23&version=c&mr=m&qw=q&tp=txt_p&tr=hb&wget=v&qget=v&nget=vt\" title=\"Daniel 3:23\" sec=\"Daniel 3:23\">subs</a></span> <span class=\"gloss\">three</span></div>\n",
       "\n",
       "\n",
       "</div>\n",
       "\n",
       "\n",
       "    </div>\n",
       "\n",
       "\n",
       "</div>\n",
       "\n",
       "<div class=\"patom  r \" >\n",
       "\n",
       "    <div class=\"phrase \" >\n",
       "        <a href=\"https://shebanq.ancient-data.org/hebrew/text?book=Daniel&chapter=3&verse=23&version=c&mr=m&qw=q&tp=txt_p&tr=hb&wget=v&qget=v&nget=vt\" title=\"Daniel 3:23\" sec=\"Daniel 3:23\">phrase</a> <a href=\"#\" class=\"nd\">877452</a>  <span class=\"function\">Subj</span> <span class=\"typ\">NP|PrNP</span>\n",
       "    </div>\n",
       "    <div class=\"atoms\">\n",
       "\n",
       "<div class=\"word  \" >\n",
       "<a href=\"#\" class=\"nd\">372119</a>\n",
       "<div class=\"h\"><a target=\"_blank\" href=\"https://shebanq.ancient-data.org/hebrew/word?version=c&id=2CDRKn\" title=\"show this lexeme in SHEBANQ\">שַׁדְרַ֥ךְ </a></div>\n",
       "<div class=\"features\"> <span class=\"pdp\"><a href=\"https://shebanq.ancient-data.org/hebrew/text?book=Daniel&chapter=3&verse=23&version=c&mr=m&qw=q&tp=txt_p&tr=hb&wget=v&qget=v&nget=vt\" title=\"Daniel 3:23\" sec=\"Daniel 3:23\">nmpr</a></span> <span class=\"gloss\">Shadrach</span></div>\n",
       "\n",
       "\n",
       "</div>\n",
       "\n",
       "<div class=\"word  \" >\n",
       "<a href=\"#\" class=\"nd\">372120</a>\n",
       "<div class=\"h\"><a target=\"_blank\" href=\"https://shebanq.ancient-data.org/hebrew/word?version=c&id=2MJCKn\" title=\"show this lexeme in SHEBANQ\">מֵישַׁ֖ךְ </a></div>\n",
       "<div class=\"features\"> <span class=\"pdp\"><a href=\"https://shebanq.ancient-data.org/hebrew/text?book=Daniel&chapter=3&verse=23&version=c&mr=m&qw=q&tp=txt_p&tr=hb&wget=v&qget=v&nget=vt\" title=\"Daniel 3:23\" sec=\"Daniel 3:23\">nmpr</a></span> <span class=\"gloss\">Meshach</span></div>\n",
       "\n",
       "\n",
       "</div>\n",
       "\n",
       "<div class=\"word  \" >\n",
       "<a href=\"#\" class=\"nd\">372121</a>\n",
       "<div class=\"h\"><a target=\"_blank\" href=\"https://shebanq.ancient-data.org/hebrew/word?version=c&id=2W\" title=\"show this lexeme in SHEBANQ\">וַ</a></div>\n",
       "<div class=\"features\"> <span class=\"pdp\"><a href=\"https://shebanq.ancient-data.org/hebrew/text?book=Daniel&chapter=3&verse=23&version=c&mr=m&qw=q&tp=txt_p&tr=hb&wget=v&qget=v&nget=vt\" title=\"Daniel 3:23\" sec=\"Daniel 3:23\">conj</a></span> <span class=\"gloss\">and</span></div>\n",
       "\n",
       "\n",
       "</div>\n",
       "\n",
       "<div class=\"word  \" >\n",
       "<a href=\"#\" class=\"nd\">372122</a>\n",
       "<div class=\"h\"><a target=\"_blank\" href=\"https://shebanq.ancient-data.org/hebrew/word?version=c&id=2OBD_NGWn\" title=\"show this lexeme in SHEBANQ\">עֲבֵ֣ד נְגֹ֑ו </a></div>\n",
       "<div class=\"features\"> <span class=\"pdp\"><a href=\"https://shebanq.ancient-data.org/hebrew/text?book=Daniel&chapter=3&verse=23&version=c&mr=m&qw=q&tp=txt_p&tr=hb&wget=v&qget=v&nget=vt\" title=\"Daniel 3:23\" sec=\"Daniel 3:23\">nmpr</a></span> <span class=\"gloss\">Abed-Nego</span></div>\n",
       "\n",
       "\n",
       "</div>\n",
       "\n",
       "\n",
       "    </div>\n",
       "\n",
       "\n",
       "</div>\n",
       "\n",
       "\n",
       "</div>\n"
      ],
      "text/plain": [
       "<IPython.core.display.HTML object>"
      ]
     },
     "metadata": {},
     "output_type": "display_data"
    },
    {
     "name": "stdout",
     "output_type": "stream",
     "text": [
      "גֻבְרַיָּ֤א  NA\n",
      "אִלֵּךְ֙  dem\n",
      "שַׁדְרַ֥ךְ  NA\n",
      "מֵישַׁ֖ךְ  par\n",
      "מֵישַׁ֖ךְ  NA\n",
      "עֲבֵ֣ד נְגֹ֑ו  par\n",
      "  0.42s 1 result\n"
     ]
    },
    {
     "data": {
      "text/markdown": [
       "\n",
       "\n",
       "**Result** *Daniel 9:25*\n",
       "\n"
      ],
      "text/plain": [
       "<IPython.core.display.Markdown object>"
      ]
     },
     "metadata": {},
     "output_type": "display_data"
    },
    {
     "data": {
      "text/html": [
       "<a href=\"https://shebanq.ancient-data.org/hebrew/text?book=Daniel&chapter=9&verse=25&version=c&mr=m&qw=q&tp=txt_p&tr=hb&wget=v&qget=v&nget=vt\" title=\"show this passage in SHEBANQ\" sec=\"Daniel 9:25\">Daniel 9:25</a>\n",
       "<div class=\"atoms  \" >\n",
       "<a href=\"#\" class=\"nd\">880173</a>\n",
       "\n",
       "\n",
       "\n",
       "<div class=\"patom  \" >\n",
       "\n",
       "    <div class=\"phrase \" >\n",
       "        <a href=\"https://shebanq.ancient-data.org/hebrew/text?book=Daniel&chapter=9&verse=25&version=c&mr=m&qw=q&tp=txt_p&tr=hb&wget=v&qget=v&nget=vt\" title=\"Daniel 9:25\" sec=\"Daniel 9:25\">phrase</a> <a href=\"#\" class=\"nd\">880173</a>  <span class=\"function\">Time</span> <span class=\"typ\">NP</span>\n",
       "    </div>\n",
       "    <div class=\"atoms\">\n",
       "\n",
       "<div class=\"word  hl\" >\n",
       "<a href=\"#\" class=\"nd\">376359</a>\n",
       "<div class=\"h\"><a target=\"_blank\" href=\"https://shebanq.ancient-data.org/hebrew/word?version=c&id=1CBWOn\" title=\"show this lexeme in SHEBANQ\">שָׁבֻעִ֞ים </a></div>\n",
       "<div class=\"features\"> <span class=\"pdp\"><a href=\"https://shebanq.ancient-data.org/hebrew/text?book=Daniel&chapter=9&verse=25&version=c&mr=m&qw=q&tp=txt_p&tr=hb&wget=v&qget=v&nget=vt\" title=\"Daniel 9:25\" sec=\"Daniel 9:25\">subs</a></span> <span class=\"gloss\">week</span></div>\n",
       "\n",
       "\n",
       "</div>\n",
       "\n",
       "<div class=\"word  hl\" >\n",
       "<a href=\"#\" class=\"nd\">376360</a>\n",
       "<div class=\"h\"><a target=\"_blank\" href=\"https://shebanq.ancient-data.org/hebrew/word?version=c&id=1CCn\" title=\"show this lexeme in SHEBANQ\">שִׁשִּׁ֣ים </a></div>\n",
       "<div class=\"features\"> <span class=\"pdp\"><a href=\"https://shebanq.ancient-data.org/hebrew/text?book=Daniel&chapter=9&verse=25&version=c&mr=m&qw=q&tp=txt_p&tr=hb&wget=v&qget=v&nget=vt\" title=\"Daniel 9:25\" sec=\"Daniel 9:25\">subs</a></span> <span class=\"gloss\">six</span></div>\n",
       "\n",
       "\n",
       "</div>\n",
       "\n",
       "<div class=\"word  \" >\n",
       "<a href=\"#\" class=\"nd\">376361</a>\n",
       "<div class=\"h\"><a target=\"_blank\" href=\"https://shebanq.ancient-data.org/hebrew/word?version=c&id=1W\" title=\"show this lexeme in SHEBANQ\">וּ</a></div>\n",
       "<div class=\"features\"> <span class=\"pdp\"><a href=\"https://shebanq.ancient-data.org/hebrew/text?book=Daniel&chapter=9&verse=25&version=c&mr=m&qw=q&tp=txt_p&tr=hb&wget=v&qget=v&nget=vt\" title=\"Daniel 9:25\" sec=\"Daniel 9:25\">conj</a></span> <span class=\"gloss\">and</span></div>\n",
       "\n",
       "\n",
       "</div>\n",
       "\n",
       "<div class=\"word  hl\" >\n",
       "<a href=\"#\" class=\"nd\">376362</a>\n",
       "<div class=\"h\"><a target=\"_blank\" href=\"https://shebanq.ancient-data.org/hebrew/word?version=c&id=1CNJMn\" title=\"show this lexeme in SHEBANQ\">שְׁנַ֗יִם </a></div>\n",
       "<div class=\"features\"> <span class=\"pdp\"><a href=\"https://shebanq.ancient-data.org/hebrew/text?book=Daniel&chapter=9&verse=25&version=c&mr=m&qw=q&tp=txt_p&tr=hb&wget=v&qget=v&nget=vt\" title=\"Daniel 9:25\" sec=\"Daniel 9:25\">subs</a></span> <span class=\"gloss\">two</span></div>\n",
       "\n",
       "\n",
       "</div>\n",
       "\n",
       "\n",
       "    </div>\n",
       "\n",
       "\n",
       "</div>\n",
       "\n",
       "\n",
       "</div>\n"
      ],
      "text/plain": [
       "<IPython.core.display.HTML object>"
      ]
     },
     "metadata": {},
     "output_type": "display_data"
    },
    {
     "name": "stdout",
     "output_type": "stream",
     "text": [
      "שָׁבֻעִ֞ים שִׁשִּׁ֣ים  NA\n",
      "שָׁבֻעִ֞ים  NA\n",
      "שִׁשִּׁ֣ים  par\n",
      "שְׁנַ֗יִם  par\n",
      "  0.42s 1 result\n"
     ]
    },
    {
     "data": {
      "text/markdown": [
       "\n",
       "\n",
       "**Result** *Ezra 1:9*\n",
       "\n"
      ],
      "text/plain": [
       "<IPython.core.display.Markdown object>"
      ]
     },
     "metadata": {},
     "output_type": "display_data"
    },
    {
     "data": {
      "text/html": [
       "<a href=\"https://shebanq.ancient-data.org/hebrew/text?book=Esra&chapter=1&verse=9&version=c&mr=m&qw=q&tp=txt_p&tr=hb&wget=v&qget=v&nget=vt\" title=\"show this passage in SHEBANQ\" sec=\"Ezra 1:9\">Ezra 1:9</a>\n",
       "<div class=\"atoms  \" >\n",
       "<a href=\"#\" class=\"nd\">881401</a>\n",
       "\n",
       "\n",
       "\n",
       "<div class=\"patom  \" >\n",
       "\n",
       "    <div class=\"phrase \" >\n",
       "        <a href=\"https://shebanq.ancient-data.org/hebrew/text?book=Esra&chapter=1&verse=9&version=c&mr=m&qw=q&tp=txt_p&tr=hb&wget=v&qget=v&nget=vt\" title=\"Ezra 1:9\" sec=\"Ezra 1:9\">phrase</a> <a href=\"#\" class=\"nd\">881401</a>  <span class=\"function\">PreC</span> <span class=\"typ\">NP</span>\n",
       "    </div>\n",
       "    <div class=\"atoms\">\n",
       "\n",
       "<div class=\"word  hl\" >\n",
       "<a href=\"#\" class=\"nd\">378379</a>\n",
       "<div class=\"h\"><a target=\"_blank\" href=\"https://shebanq.ancient-data.org/hebrew/word?version=c&id=1MXLPn\" title=\"show this lexeme in SHEBANQ\">מַחֲלָפִ֖ים </a></div>\n",
       "<div class=\"features\"> <span class=\"pdp\"><a href=\"https://shebanq.ancient-data.org/hebrew/text?book=Esra&chapter=1&verse=9&version=c&mr=m&qw=q&tp=txt_p&tr=hb&wget=v&qget=v&nget=vt\" title=\"Ezra 1:9\" sec=\"Ezra 1:9\">subs</a></span> <span class=\"gloss\">disease</span></div>\n",
       "\n",
       "\n",
       "</div>\n",
       "\n",
       "<div class=\"word  hl\" >\n",
       "<a href=\"#\" class=\"nd\">378380</a>\n",
       "<div class=\"h\"><a target=\"_blank\" href=\"https://shebanq.ancient-data.org/hebrew/word?version=c&id=1TCOn\" title=\"show this lexeme in SHEBANQ\">תִּשְׁעָ֥ה </a></div>\n",
       "<div class=\"features\"> <span class=\"pdp\"><a href=\"https://shebanq.ancient-data.org/hebrew/text?book=Esra&chapter=1&verse=9&version=c&mr=m&qw=q&tp=txt_p&tr=hb&wget=v&qget=v&nget=vt\" title=\"Ezra 1:9\" sec=\"Ezra 1:9\">subs</a></span> <span class=\"gloss\">nine</span></div>\n",
       "\n",
       "\n",
       "</div>\n",
       "\n",
       "<div class=\"word  \" >\n",
       "<a href=\"#\" class=\"nd\">378381</a>\n",
       "<div class=\"h\"><a target=\"_blank\" href=\"https://shebanq.ancient-data.org/hebrew/word?version=c&id=1W\" title=\"show this lexeme in SHEBANQ\">וְ</a></div>\n",
       "<div class=\"features\"> <span class=\"pdp\"><a href=\"https://shebanq.ancient-data.org/hebrew/text?book=Esra&chapter=1&verse=9&version=c&mr=m&qw=q&tp=txt_p&tr=hb&wget=v&qget=v&nget=vt\" title=\"Ezra 1:9\" sec=\"Ezra 1:9\">conj</a></span> <span class=\"gloss\">and</span></div>\n",
       "\n",
       "\n",
       "</div>\n",
       "\n",
       "<div class=\"word  hl\" >\n",
       "<a href=\"#\" class=\"nd\">378382</a>\n",
       "<div class=\"h\"><a target=\"_blank\" href=\"https://shebanq.ancient-data.org/hebrew/word?version=c&id=1OFRJMn\" title=\"show this lexeme in SHEBANQ\">עֶשְׂרִֽים׃ ס </a></div>\n",
       "<div class=\"features\"> <span class=\"pdp\"><a href=\"https://shebanq.ancient-data.org/hebrew/text?book=Esra&chapter=1&verse=9&version=c&mr=m&qw=q&tp=txt_p&tr=hb&wget=v&qget=v&nget=vt\" title=\"Ezra 1:9\" sec=\"Ezra 1:9\">subs</a></span> <span class=\"gloss\">twenty</span></div>\n",
       "\n",
       "\n",
       "</div>\n",
       "\n",
       "\n",
       "    </div>\n",
       "\n",
       "\n",
       "</div>\n",
       "\n",
       "\n",
       "</div>\n"
      ],
      "text/plain": [
       "<IPython.core.display.HTML object>"
      ]
     },
     "metadata": {},
     "output_type": "display_data"
    },
    {
     "name": "stdout",
     "output_type": "stream",
     "text": [
      "מַחֲלָפִ֖ים תִּשְׁעָ֥ה  NA\n",
      "מַחֲלָפִ֖ים  NA\n",
      "תִּשְׁעָ֥ה  par\n",
      "עֶשְׂרִֽים׃ ס  par\n",
      "  0.43s 1 result\n"
     ]
    },
    {
     "data": {
      "text/markdown": [
       "\n",
       "\n",
       "**Result** *Ezra 1:10*\n",
       "\n"
      ],
      "text/plain": [
       "<IPython.core.display.Markdown object>"
      ]
     },
     "metadata": {},
     "output_type": "display_data"
    },
    {
     "data": {
      "text/html": [
       "<a href=\"https://shebanq.ancient-data.org/hebrew/text?book=Esra&chapter=1&verse=10&version=c&mr=m&qw=q&tp=txt_p&tr=hb&wget=v&qget=v&nget=vt\" title=\"show this passage in SHEBANQ\" sec=\"Ezra 1:10\">Ezra 1:10</a>\n",
       "<div class=\"atoms  \" >\n",
       "<a href=\"#\" class=\"nd\">881404</a>\n",
       "\n",
       "\n",
       "\n",
       "<div class=\"patom  \" >\n",
       "\n",
       "    <div class=\"phrase \" >\n",
       "        <a href=\"https://shebanq.ancient-data.org/hebrew/text?book=Esra&chapter=1&verse=10&version=c&mr=m&qw=q&tp=txt_p&tr=hb&wget=v&qget=v&nget=vt\" title=\"Ezra 1:10\" sec=\"Ezra 1:10\">phrase</a> <a href=\"#\" class=\"nd\">881404</a>  <span class=\"function\">PreC</span> <span class=\"typ\">NP</span>\n",
       "    </div>\n",
       "    <div class=\"atoms\">\n",
       "\n",
       "<div class=\"word  hl\" >\n",
       "<a href=\"#\" class=\"nd\">378393</a>\n",
       "<div class=\"h\"><a target=\"_blank\" href=\"https://shebanq.ancient-data.org/hebrew/word?version=c&id=1KLJn\" title=\"show this lexeme in SHEBANQ\">כֵּלִ֥ים </a></div>\n",
       "<div class=\"features\"> <span class=\"pdp\"><a href=\"https://shebanq.ancient-data.org/hebrew/text?book=Esra&chapter=1&verse=10&version=c&mr=m&qw=q&tp=txt_p&tr=hb&wget=v&qget=v&nget=vt\" title=\"Ezra 1:10\" sec=\"Ezra 1:10\">subs</a></span> <span class=\"gloss\">tool</span></div>\n",
       "\n",
       "\n",
       "</div>\n",
       "\n",
       "<div class=\"word  \" >\n",
       "<a href=\"#\" class=\"nd\">378394</a>\n",
       "<div class=\"h\"><a target=\"_blank\" href=\"https://shebanq.ancient-data.org/hebrew/word?version=c&id=1AXRin\" title=\"show this lexeme in SHEBANQ\">אֲחֵרִ֖ים </a></div>\n",
       "<div class=\"features\"> <span class=\"pdp\"><a href=\"https://shebanq.ancient-data.org/hebrew/text?book=Esra&chapter=1&verse=10&version=c&mr=m&qw=q&tp=txt_p&tr=hb&wget=v&qget=v&nget=vt\" title=\"Ezra 1:10\" sec=\"Ezra 1:10\">adjv</a></span> <span class=\"gloss\">other</span></div>\n",
       "\n",
       "\n",
       "</div>\n",
       "\n",
       "<div class=\"word  hl\" >\n",
       "<a href=\"#\" class=\"nd\">378395</a>\n",
       "<div class=\"h\"><a target=\"_blank\" href=\"https://shebanq.ancient-data.org/hebrew/word?version=c&id=1ALPin\" title=\"show this lexeme in SHEBANQ\">אָֽלֶף׃ ס </a></div>\n",
       "<div class=\"features\"> <span class=\"pdp\"><a href=\"https://shebanq.ancient-data.org/hebrew/text?book=Esra&chapter=1&verse=10&version=c&mr=m&qw=q&tp=txt_p&tr=hb&wget=v&qget=v&nget=vt\" title=\"Ezra 1:10\" sec=\"Ezra 1:10\">subs</a></span> <span class=\"gloss\">thousand</span></div>\n",
       "\n",
       "\n",
       "</div>\n",
       "\n",
       "\n",
       "    </div>\n",
       "\n",
       "\n",
       "</div>\n",
       "\n",
       "\n",
       "</div>\n"
      ],
      "text/plain": [
       "<IPython.core.display.HTML object>"
      ]
     },
     "metadata": {},
     "output_type": "display_data"
    },
    {
     "name": "stdout",
     "output_type": "stream",
     "text": [
      "כֵּלִ֥ים  NA\n",
      "אֲחֵרִ֖ים  atr\n",
      "  0.40s 1 result\n"
     ]
    },
    {
     "data": {
      "text/markdown": [
       "\n",
       "\n",
       "**Result** *Ezra 8:20*\n",
       "\n"
      ],
      "text/plain": [
       "<IPython.core.display.Markdown object>"
      ]
     },
     "metadata": {},
     "output_type": "display_data"
    },
    {
     "data": {
      "text/html": [
       "<a href=\"https://shebanq.ancient-data.org/hebrew/text?book=Esra&chapter=8&verse=20&version=c&mr=m&qw=q&tp=txt_p&tr=hb&wget=v&qget=v&nget=vt\" title=\"show this passage in SHEBANQ\" sec=\"Ezra 8:20\">Ezra 8:20</a>\n",
       "<div class=\"atoms  \" >\n",
       "<a href=\"#\" class=\"nd\">882985</a>\n",
       "\n",
       "\n",
       "\n",
       "<div class=\"patom  \" >\n",
       "\n",
       "    <div class=\"phrase \" >\n",
       "        <a href=\"https://shebanq.ancient-data.org/hebrew/text?book=Esra&chapter=8&verse=20&version=c&mr=m&qw=q&tp=txt_p&tr=hb&wget=v&qget=v&nget=vt\" title=\"Ezra 8:20\" sec=\"Ezra 8:20\">phrase</a> <a href=\"#\" class=\"nd\">882985</a>  <span class=\"function\">Objc</span> <span class=\"typ\">NP</span>\n",
       "    </div>\n",
       "    <div class=\"atoms\">\n",
       "\n",
       "<div class=\"word  hl\" >\n",
       "<a href=\"#\" class=\"nd\">381870</a>\n",
       "<div class=\"h\"><a target=\"_blank\" href=\"https://shebanq.ancient-data.org/hebrew/word?version=c&id=1NTJNn\" title=\"show this lexeme in SHEBANQ\">נְתִינִ֖ים </a></div>\n",
       "<div class=\"features\"> <span class=\"pdp\"><a href=\"https://shebanq.ancient-data.org/hebrew/text?book=Esra&chapter=8&verse=20&version=c&mr=m&qw=q&tp=txt_p&tr=hb&wget=v&qget=v&nget=vt\" title=\"Ezra 8:20\" sec=\"Ezra 8:20\">subs</a></span> <span class=\"gloss\">temple slave</span></div>\n",
       "\n",
       "\n",
       "</div>\n",
       "\n",
       "<div class=\"word  hl\" >\n",
       "<a href=\"#\" class=\"nd\">381871</a>\n",
       "<div class=\"h\"><a target=\"_blank\" href=\"https://shebanq.ancient-data.org/hebrew/word?version=c&id=1MAHn\" title=\"show this lexeme in SHEBANQ\">מָאתַ֣יִם </a></div>\n",
       "<div class=\"features\"> <span class=\"pdp\"><a href=\"https://shebanq.ancient-data.org/hebrew/text?book=Esra&chapter=8&verse=20&version=c&mr=m&qw=q&tp=txt_p&tr=hb&wget=v&qget=v&nget=vt\" title=\"Ezra 8:20\" sec=\"Ezra 8:20\">subs</a></span> <span class=\"gloss\">hundred</span></div>\n",
       "\n",
       "\n",
       "</div>\n",
       "\n",
       "<div class=\"word  \" >\n",
       "<a href=\"#\" class=\"nd\">381872</a>\n",
       "<div class=\"h\"><a target=\"_blank\" href=\"https://shebanq.ancient-data.org/hebrew/word?version=c&id=1W\" title=\"show this lexeme in SHEBANQ\">וְ</a></div>\n",
       "<div class=\"features\"> <span class=\"pdp\"><a href=\"https://shebanq.ancient-data.org/hebrew/text?book=Esra&chapter=8&verse=20&version=c&mr=m&qw=q&tp=txt_p&tr=hb&wget=v&qget=v&nget=vt\" title=\"Ezra 8:20\" sec=\"Ezra 8:20\">conj</a></span> <span class=\"gloss\">and</span></div>\n",
       "\n",
       "\n",
       "</div>\n",
       "\n",
       "<div class=\"word  hl\" >\n",
       "<a href=\"#\" class=\"nd\">381873</a>\n",
       "<div class=\"h\"><a target=\"_blank\" href=\"https://shebanq.ancient-data.org/hebrew/word?version=c&id=1OFRJMn\" title=\"show this lexeme in SHEBANQ\">עֶשְׂרִ֑ים </a></div>\n",
       "<div class=\"features\"> <span class=\"pdp\"><a href=\"https://shebanq.ancient-data.org/hebrew/text?book=Esra&chapter=8&verse=20&version=c&mr=m&qw=q&tp=txt_p&tr=hb&wget=v&qget=v&nget=vt\" title=\"Ezra 8:20\" sec=\"Ezra 8:20\">subs</a></span> <span class=\"gloss\">twenty</span></div>\n",
       "\n",
       "\n",
       "</div>\n",
       "\n",
       "\n",
       "    </div>\n",
       "\n",
       "\n",
       "</div>\n",
       "\n",
       "\n",
       "</div>\n"
      ],
      "text/plain": [
       "<IPython.core.display.HTML object>"
      ]
     },
     "metadata": {},
     "output_type": "display_data"
    },
    {
     "name": "stdout",
     "output_type": "stream",
     "text": [
      "נְתִינִ֖ים  NA\n",
      "מָאתַ֣יִם  par\n",
      "מָאתַ֣יִם  NA\n",
      "עֶשְׂרִ֑ים  par\n",
      "  0.42s 1 result\n"
     ]
    },
    {
     "data": {
      "text/markdown": [
       "\n",
       "\n",
       "**Result** *1_Chronicles 12:29*\n",
       "\n"
      ],
      "text/plain": [
       "<IPython.core.display.Markdown object>"
      ]
     },
     "metadata": {},
     "output_type": "display_data"
    },
    {
     "data": {
      "text/html": [
       "<a href=\"https://shebanq.ancient-data.org/hebrew/text?book=Chronica_I&chapter=12&verse=29&version=c&mr=m&qw=q&tp=txt_p&tr=hb&wget=v&qget=v&nget=vt\" title=\"show this passage in SHEBANQ\" sec=\"1_Chronicles 12:29\">1_Chronicles 12:29</a>\n",
       "<div class=\"atoms  \" >\n",
       "<a href=\"#\" class=\"nd\">890391</a>\n",
       "\n",
       "\n",
       "\n",
       "<div class=\"patom  \" >\n",
       "\n",
       "    <div class=\"phrase \" >\n",
       "        <a href=\"https://shebanq.ancient-data.org/hebrew/text?book=Chronica_I&chapter=12&verse=29&version=c&mr=m&qw=q&tp=txt_p&tr=hb&wget=v&qget=v&nget=vt\" title=\"1_Chronicles 12:29\" sec=\"1_Chronicles 12:29\">phrase</a> <a href=\"#\" class=\"nd\">890391</a>  <span class=\"function\">PreC</span> <span class=\"typ\">NP</span>\n",
       "    </div>\n",
       "    <div class=\"atoms\">\n",
       "\n",
       "<div class=\"word  hl\" >\n",
       "<a href=\"#\" class=\"nd\">398214</a>\n",
       "<div class=\"h\"><a target=\"_blank\" href=\"https://shebanq.ancient-data.org/hebrew/word?version=c&id=1FRn\" title=\"show this lexeme in SHEBANQ\">שָׂרִ֖ים </a></div>\n",
       "<div class=\"features\"> <span class=\"pdp\"><a href=\"https://shebanq.ancient-data.org/hebrew/text?book=Chronica_I&chapter=12&verse=29&version=c&mr=m&qw=q&tp=txt_p&tr=hb&wget=v&qget=v&nget=vt\" title=\"1_Chronicles 12:29\" sec=\"1_Chronicles 12:29\">subs</a></span> <span class=\"gloss\">chief</span></div>\n",
       "\n",
       "\n",
       "</div>\n",
       "\n",
       "<div class=\"word  hl\" >\n",
       "<a href=\"#\" class=\"nd\">398215</a>\n",
       "<div class=\"h\"><a target=\"_blank\" href=\"https://shebanq.ancient-data.org/hebrew/word?version=c&id=1OFRJMn\" title=\"show this lexeme in SHEBANQ\">עֶשְׂרִ֥ים </a></div>\n",
       "<div class=\"features\"> <span class=\"pdp\"><a href=\"https://shebanq.ancient-data.org/hebrew/text?book=Chronica_I&chapter=12&verse=29&version=c&mr=m&qw=q&tp=txt_p&tr=hb&wget=v&qget=v&nget=vt\" title=\"1_Chronicles 12:29\" sec=\"1_Chronicles 12:29\">subs</a></span> <span class=\"gloss\">twenty</span></div>\n",
       "\n",
       "\n",
       "</div>\n",
       "\n",
       "<div class=\"word  \" >\n",
       "<a href=\"#\" class=\"nd\">398216</a>\n",
       "<div class=\"h\"><a target=\"_blank\" href=\"https://shebanq.ancient-data.org/hebrew/word?version=c&id=1W\" title=\"show this lexeme in SHEBANQ\">וּ</a></div>\n",
       "<div class=\"features\"> <span class=\"pdp\"><a href=\"https://shebanq.ancient-data.org/hebrew/text?book=Chronica_I&chapter=12&verse=29&version=c&mr=m&qw=q&tp=txt_p&tr=hb&wget=v&qget=v&nget=vt\" title=\"1_Chronicles 12:29\" sec=\"1_Chronicles 12:29\">conj</a></span> <span class=\"gloss\">and</span></div>\n",
       "\n",
       "\n",
       "</div>\n",
       "\n",
       "<div class=\"word  hl\" >\n",
       "<a href=\"#\" class=\"nd\">398217</a>\n",
       "<div class=\"h\"><a target=\"_blank\" href=\"https://shebanq.ancient-data.org/hebrew/word?version=c&id=1CNJMn\" title=\"show this lexeme in SHEBANQ\">שְׁנָֽיִם׃ ס </a></div>\n",
       "<div class=\"features\"> <span class=\"pdp\"><a href=\"https://shebanq.ancient-data.org/hebrew/text?book=Chronica_I&chapter=12&verse=29&version=c&mr=m&qw=q&tp=txt_p&tr=hb&wget=v&qget=v&nget=vt\" title=\"1_Chronicles 12:29\" sec=\"1_Chronicles 12:29\">subs</a></span> <span class=\"gloss\">two</span></div>\n",
       "\n",
       "\n",
       "</div>\n",
       "\n",
       "\n",
       "    </div>\n",
       "\n",
       "\n",
       "</div>\n",
       "\n",
       "\n",
       "</div>\n"
      ],
      "text/plain": [
       "<IPython.core.display.HTML object>"
      ]
     },
     "metadata": {},
     "output_type": "display_data"
    },
    {
     "name": "stdout",
     "output_type": "stream",
     "text": [
      "שָׂרִ֖ים עֶשְׂרִ֥ים  NA\n",
      "שָׂרִ֖ים  NA\n",
      "עֶשְׂרִ֥ים  par\n",
      "שְׁנָֽיִם׃ ס  par\n"
     ]
    }
   ],
   "source": [
    "# book, chapter, verse, clause_atom number, phrase number\n",
    "missing_quant_relas = [('Daniel', 3, 23, 444, 2),\n",
    "                       ('Daniel', 9, 25, 1423, 2),\n",
    "                       ('Ezra', 1, 9, 39, 1),\n",
    "                       ('Ezra', 1, 10, 42, 1),\n",
    "                       ('Ezra', 8, 20, 621, 3),\n",
    "                       ('1_Chronicles', 12, 29, 1071, 3)]\n",
    "\n",
    "phrases_to_patch = []\n",
    "\n",
    "for book, chapter, verse, clat_nu, phrase_nu  in missing_quant_relas:\n",
    "    findit = f'''    \n",
    "    book book@en={book}\n",
    "        chapter chapter={chapter}\n",
    "            verse verse={verse}\n",
    "                clause_atom number={clat_nu}\n",
    "                    phrase number={phrase_nu}\n",
    "    '''\n",
    "    phrase = A.search(textwrap.dedent(findit))[0][4]\n",
    "    \n",
    "    A.prettyTuple((phrase,)+tuple(phrase2heads[phrase]), withNodes=True, condenseType='phrase', seqNumber=f'{book} {chapter}:{verse}')    \n",
    "    for sp in L.d(phrase, 'subphrase'):\n",
    "        print(T.text(sp), F.rela.v(sp))\n",
    "        \n",
    "    phrases_to_patch.append(phrase)"
   ]
  },
  {
   "cell_type": "markdown",
   "metadata": {},
   "source": [
    "Perhaps it is significant that all of these examples come from the same cluster of books: Daniel, Ezra, and 1 Chronicles. This may indicate that the individual who encoded these texts did not understand the standard for relations of quantification in the ETCBC database. These are all cases that a `BHSA2` should address. For now, it is fair to correct them manually by removing all quantifiers selected as heads from these phrses.\n",
    "\n",
    "Two sets of patches are enacted below. The first patch fixes the two missing heads displayed further above. The second patch changes the values stored in phrase2heads for the problems displayed immediately above."
   ]
  },
  {
   "cell_type": "code",
   "execution_count": 39,
   "metadata": {},
   "outputs": [
    {
     "name": "stdout",
     "output_type": "stream",
     "text": [
      "running query on patch1\n",
      "\t2 results found\n",
      "running query on patch2\n",
      "\t1 results found\n",
      "\n",
      " <><><><><><><><><><><><><><><><><><><><> \n",
      "\n",
      "253207 phrases matched with a head...\n",
      "0 phrases remaining...\n",
      "\n",
      "Patching bad phrase heads...\n",
      "10 bad heads removed from dataset...\n"
     ]
    }
   ],
   "source": [
    "patched_heads = dict(\n",
    "\n",
    "patch1 = '''\n",
    "\n",
    "book book@en=Psalms\n",
    "    chapter chapter=59\n",
    "        verse verse=4\n",
    "            phrase number=4\n",
    "                word lex=L>\n",
    "''',\n",
    "patch2 = '''\n",
    "\n",
    "book book@en=Proverbs\n",
    "    chapter chapter=23\n",
    "        verse verse=29\n",
    "            phrase number=2\n",
    "                word lex=>WJ\n",
    "'''\n",
    ") # end of dict\n",
    "\n",
    "query_heads(patched_heads, phrasei=3, headi=4)\n",
    "print('\\n', '<>'*20, '\\n')\n",
    "heads_status()\n",
    "\n",
    "\n",
    "# next set of patches\n",
    "print('\\nPatching bad phrase heads...')\n",
    "removed_heads = 0\n",
    "for phrase in phrases_to_patch:\n",
    "    selectedheads = phrase2heads[phrase]\n",
    "    goodheads = set(h for h in selectedheads if h not in quantifiers)\n",
    "    removed_heads += len(selectedheads) - len(goodheads)\n",
    "    phrase2heads[phrase] = goodheads\n",
    "print(f'{removed_heads} bad heads removed from dataset...')"
   ]
  },
  {
   "cell_type": "code",
   "execution_count": 43,
   "metadata": {},
   "outputs": [
    {
     "data": {
      "text/markdown": [
       "\n",
       "\n",
       "**Result** *880173*\n",
       "\n"
      ],
      "text/plain": [
       "<IPython.core.display.Markdown object>"
      ]
     },
     "metadata": {},
     "output_type": "display_data"
    },
    {
     "data": {
      "text/html": [
       "<a href=\"https://shebanq.ancient-data.org/hebrew/text?book=Daniel&chapter=9&verse=25&version=c&mr=m&qw=q&tp=txt_p&tr=hb&wget=v&qget=v&nget=vt\" title=\"show this passage in SHEBANQ\" sec=\"Daniel 9:25\">Daniel 9:25</a>\n",
       "<div class=\"atoms  \" >\n",
       "<a href=\"#\" class=\"nd\">880173</a>\n",
       "\n",
       "\n",
       "\n",
       "<div class=\"patom  \" >\n",
       "\n",
       "    <div class=\"phrase \" >\n",
       "        <a href=\"https://shebanq.ancient-data.org/hebrew/text?book=Daniel&chapter=9&verse=25&version=c&mr=m&qw=q&tp=txt_p&tr=hb&wget=v&qget=v&nget=vt\" title=\"Daniel 9:25\" sec=\"Daniel 9:25\">phrase</a> <a href=\"#\" class=\"nd\">880173</a>  <span class=\"function\">Time</span> <span class=\"typ\">NP</span>\n",
       "    </div>\n",
       "    <div class=\"atoms\">\n",
       "\n",
       "<div class=\"word  hl\" >\n",
       "<a href=\"#\" class=\"nd\">376359</a>\n",
       "<div class=\"h\"><a target=\"_blank\" href=\"https://shebanq.ancient-data.org/hebrew/word?version=c&id=1CBWOn\" title=\"show this lexeme in SHEBANQ\">שָׁבֻעִ֞ים </a></div>\n",
       "<div class=\"features\"> <span class=\"pdp\"><a href=\"https://shebanq.ancient-data.org/hebrew/text?book=Daniel&chapter=9&verse=25&version=c&mr=m&qw=q&tp=txt_p&tr=hb&wget=v&qget=v&nget=vt\" title=\"Daniel 9:25\" sec=\"Daniel 9:25\">subs</a></span> <span class=\"gloss\">week</span></div>\n",
       "\n",
       "\n",
       "</div>\n",
       "\n",
       "<div class=\"word  \" >\n",
       "<a href=\"#\" class=\"nd\">376360</a>\n",
       "<div class=\"h\"><a target=\"_blank\" href=\"https://shebanq.ancient-data.org/hebrew/word?version=c&id=1CCn\" title=\"show this lexeme in SHEBANQ\">שִׁשִּׁ֣ים </a></div>\n",
       "<div class=\"features\"> <span class=\"pdp\"><a href=\"https://shebanq.ancient-data.org/hebrew/text?book=Daniel&chapter=9&verse=25&version=c&mr=m&qw=q&tp=txt_p&tr=hb&wget=v&qget=v&nget=vt\" title=\"Daniel 9:25\" sec=\"Daniel 9:25\">subs</a></span> <span class=\"gloss\">six</span></div>\n",
       "\n",
       "\n",
       "</div>\n",
       "\n",
       "<div class=\"word  \" >\n",
       "<a href=\"#\" class=\"nd\">376361</a>\n",
       "<div class=\"h\"><a target=\"_blank\" href=\"https://shebanq.ancient-data.org/hebrew/word?version=c&id=1W\" title=\"show this lexeme in SHEBANQ\">וּ</a></div>\n",
       "<div class=\"features\"> <span class=\"pdp\"><a href=\"https://shebanq.ancient-data.org/hebrew/text?book=Daniel&chapter=9&verse=25&version=c&mr=m&qw=q&tp=txt_p&tr=hb&wget=v&qget=v&nget=vt\" title=\"Daniel 9:25\" sec=\"Daniel 9:25\">conj</a></span> <span class=\"gloss\">and</span></div>\n",
       "\n",
       "\n",
       "</div>\n",
       "\n",
       "<div class=\"word  \" >\n",
       "<a href=\"#\" class=\"nd\">376362</a>\n",
       "<div class=\"h\"><a target=\"_blank\" href=\"https://shebanq.ancient-data.org/hebrew/word?version=c&id=1CNJMn\" title=\"show this lexeme in SHEBANQ\">שְׁנַ֗יִם </a></div>\n",
       "<div class=\"features\"> <span class=\"pdp\"><a href=\"https://shebanq.ancient-data.org/hebrew/text?book=Daniel&chapter=9&verse=25&version=c&mr=m&qw=q&tp=txt_p&tr=hb&wget=v&qget=v&nget=vt\" title=\"Daniel 9:25\" sec=\"Daniel 9:25\">subs</a></span> <span class=\"gloss\">two</span></div>\n",
       "\n",
       "\n",
       "</div>\n",
       "\n",
       "\n",
       "    </div>\n",
       "\n",
       "\n",
       "</div>\n",
       "\n",
       "\n",
       "</div>\n"
      ],
      "text/plain": [
       "<IPython.core.display.HTML object>"
      ]
     },
     "metadata": {},
     "output_type": "display_data"
    }
   ],
   "source": [
    "# sanity check for second group of head patches\n",
    "patch_ex = phrases_to_patch[1]\n",
    "A.prettyTuple((patch_ex,)+tuple(phrase2heads[patch_ex]), seqNumber=patch_ex)"
   ]
  },
  {
   "cell_type": "markdown",
   "metadata": {},
   "source": [
    "# Evaluating Heads v.2\n",
    "\n",
    "## Vs. Stephen Ku's Evaluation of `headsv.1`\n",
    "\n",
    "\n",
    "Stephen Ku has kindly and laboriously documented missing head cases for heads v.1 (from April 21, see doc [here](https://docs.google.com/document/d/1miNomMzlutDu-cVVXa153D7kO03El-J1-CWjt6N5xJk/edit)). Below, I display Stephen's feedback and check to make sure his examples are indeed cured."
   ]
  },
  {
   "cell_type": "code",
   "execution_count": 48,
   "metadata": {},
   "outputs": [
    {
     "data": {
      "text/html": [
       "<div>\n",
       "<style scoped>\n",
       "    .dataframe tbody tr th:only-of-type {\n",
       "        vertical-align: middle;\n",
       "    }\n",
       "\n",
       "    .dataframe tbody tr th {\n",
       "        vertical-align: top;\n",
       "    }\n",
       "\n",
       "    .dataframe thead th {\n",
       "        text-align: right;\n",
       "    }\n",
       "</style>\n",
       "<table border=\"1\" class=\"dataframe\">\n",
       "  <thead>\n",
       "    <tr style=\"text-align: right;\">\n",
       "      <th></th>\n",
       "      <th>Verse</th>\n",
       "      <th>Issue</th>\n",
       "      <th>Cause</th>\n",
       "      <th>Decision</th>\n",
       "    </tr>\n",
       "  </thead>\n",
       "  <tbody>\n",
       "    <tr>\n",
       "      <th>0</th>\n",
       "      <td>Gen 39:4</td>\n",
       "      <td>missing יֵשׁ after כֹּל</td>\n",
       "      <td>יֵשׁ is not in the same clause as כֹּל</td>\n",
       "      <td></td>\n",
       "    </tr>\n",
       "    <tr>\n",
       "      <th>1</th>\n",
       "      <td>Num 5:2</td>\n",
       "      <td>missing two כֹּל’s (the one before צָר֖וּעַ an...</td>\n",
       "      <td></td>\n",
       "      <td></td>\n",
       "    </tr>\n",
       "    <tr>\n",
       "      <th>2</th>\n",
       "      <td>Num 5:2</td>\n",
       "      <td>it’s able to find the last כֹ֖ל but not טָמֵא ...</td>\n",
       "      <td>טָמֵא belongs to another clause and is not mar...</td>\n",
       "      <td></td>\n",
       "    </tr>\n",
       "    <tr>\n",
       "      <th>3</th>\n",
       "      <td>Num 31:7</td>\n",
       "      <td>missing זָכָר after כֹּל</td>\n",
       "      <td>זָכָר is an adjective</td>\n",
       "      <td></td>\n",
       "    </tr>\n",
       "    <tr>\n",
       "      <th>4</th>\n",
       "      <td>Num 31:17</td>\n",
       "      <td>missing זָכָ֖ר after כֹּל</td>\n",
       "      <td>זָכָר is an adjective</td>\n",
       "      <td></td>\n",
       "    </tr>\n",
       "    <tr>\n",
       "      <th>5</th>\n",
       "      <td>Num 31:17</td>\n",
       "      <td>missing כֹּל before אִשָּׁה</td>\n",
       "      <td></td>\n",
       "      <td></td>\n",
       "    </tr>\n",
       "    <tr>\n",
       "      <th>6</th>\n",
       "      <td>Deut 25:18</td>\n",
       "      <td>missing חשׁל after כֹּל</td>\n",
       "      <td>נֶּחֱשָׁלִ֣ים belongs to another clause and is...</td>\n",
       "      <td></td>\n",
       "    </tr>\n",
       "    <tr>\n",
       "      <th>7</th>\n",
       "      <td>Judg 13:4</td>\n",
       "      <td>missing טָמֵֽא after כֹּל</td>\n",
       "      <td>טָמֵֽא is an adjective</td>\n",
       "      <td></td>\n",
       "    </tr>\n",
       "    <tr>\n",
       "      <th>8</th>\n",
       "      <td>1 Sam 14:36</td>\n",
       "      <td>missing טוֹב after כֹּל</td>\n",
       "      <td>טוֹב is an adjective</td>\n",
       "      <td></td>\n",
       "    </tr>\n",
       "    <tr>\n",
       "      <th>9</th>\n",
       "      <td>1 Kgs 11:15</td>\n",
       "      <td>missing זָכָר after כֹּל</td>\n",
       "      <td>זָכָר is an adjective</td>\n",
       "      <td></td>\n",
       "    </tr>\n",
       "    <tr>\n",
       "      <th>10</th>\n",
       "      <td>1 Kgs 11:16</td>\n",
       "      <td>missing זָכָר after כֹּל</td>\n",
       "      <td>זָכָר is an adjective</td>\n",
       "      <td></td>\n",
       "    </tr>\n",
       "    <tr>\n",
       "      <th>11</th>\n",
       "      <td>Isa 43:7</td>\n",
       "      <td>missing הַנִּקְרָ֣א after כֹּל</td>\n",
       "      <td>נִּקְרָ֣א belongs to another clause and is a verb</td>\n",
       "      <td></td>\n",
       "    </tr>\n",
       "    <tr>\n",
       "      <th>12</th>\n",
       "      <td>Ps 73:27</td>\n",
       "      <td>missing זֹונֶ֥ה after כֹּל</td>\n",
       "      <td>זֹונֶ֥ה belongs to another clause and is a verb</td>\n",
       "      <td></td>\n",
       "    </tr>\n",
       "    <tr>\n",
       "      <th>13</th>\n",
       "      <td>Ps 119:118</td>\n",
       "      <td>missing שֹׁוגִ֣ים after כֹּל</td>\n",
       "      <td>שֹׁוגִ֣ים belongs to another clause and is a verb</td>\n",
       "      <td></td>\n",
       "    </tr>\n",
       "    <tr>\n",
       "      <th>14</th>\n",
       "      <td>Job 40:11</td>\n",
       "      <td>missing גֵּ֝אֶ֗ה after כֹּל</td>\n",
       "      <td>גֵּ֝אֶ֗ה is an adjective</td>\n",
       "      <td></td>\n",
       "    </tr>\n",
       "    <tr>\n",
       "      <th>15</th>\n",
       "      <td>Job 40:12</td>\n",
       "      <td>missing גֵּ֝אֶ֗ה after כֹּל</td>\n",
       "      <td>גֵּ֝אֶ֗ה is an adjective</td>\n",
       "      <td></td>\n",
       "    </tr>\n",
       "    <tr>\n",
       "      <th>16</th>\n",
       "      <td>Prov 6:29</td>\n",
       "      <td>missing נֹּגֵ֥עַ after כֹּל</td>\n",
       "      <td>נֹּגֵ֥עַ belongs to another clause and is a verb</td>\n",
       "      <td></td>\n",
       "    </tr>\n",
       "    <tr>\n",
       "      <th>17</th>\n",
       "      <td>Prov 20:8</td>\n",
       "      <td>missing רָֽע after כֹּל</td>\n",
       "      <td>רָֽע is an adjective</td>\n",
       "      <td></td>\n",
       "    </tr>\n",
       "    <tr>\n",
       "      <th>18</th>\n",
       "      <td>2 Chr 13:9</td>\n",
       "      <td>missing בָּ֗א after כֹּל</td>\n",
       "      <td>בָּ֗א belongs to another clause and is a verb</td>\n",
       "      <td></td>\n",
       "    </tr>\n",
       "    <tr>\n",
       "      <th>19</th>\n",
       "      <td>2 Chr 22:1</td>\n",
       "      <td>missing רִאשֹׁנִים֙ after כֹּל</td>\n",
       "      <td>רִאשֹׁנִים֙ is an ordinal?</td>\n",
       "      <td></td>\n",
       "    </tr>\n",
       "  </tbody>\n",
       "</table>\n",
       "</div>"
      ],
      "text/plain": [
       "          Verse                                              Issue  \\\n",
       "0      Gen 39:4                            missing יֵשׁ after כֹּל   \n",
       "1       Num 5:2  missing two כֹּל’s (the one before צָר֖וּעַ an...   \n",
       "2       Num 5:2  it’s able to find the last כֹ֖ל but not טָמֵא ...   \n",
       "3      Num 31:7                           missing זָכָר after כֹּל   \n",
       "4     Num 31:17                          missing זָכָ֖ר after כֹּל   \n",
       "5     Num 31:17                        missing כֹּל before אִשָּׁה   \n",
       "6    Deut 25:18                            missing חשׁל after כֹּל   \n",
       "7     Judg 13:4                          missing טָמֵֽא after כֹּל   \n",
       "8   1 Sam 14:36                            missing טוֹב after כֹּל   \n",
       "9   1 Kgs 11:15                           missing זָכָר after כֹּל   \n",
       "10  1 Kgs 11:16                           missing זָכָר after כֹּל   \n",
       "11     Isa 43:7                     missing הַנִּקְרָ֣א after כֹּל   \n",
       "12     Ps 73:27                         missing זֹונֶ֥ה after כֹּל   \n",
       "13   Ps 119:118                       missing שֹׁוגִ֣ים after כֹּל   \n",
       "14    Job 40:11                        missing גֵּ֝אֶ֗ה after כֹּל   \n",
       "15    Job 40:12                        missing גֵּ֝אֶ֗ה after כֹּל   \n",
       "16    Prov 6:29                        missing נֹּגֵ֥עַ after כֹּל   \n",
       "17    Prov 20:8                            missing רָֽע after כֹּל   \n",
       "18   2 Chr 13:9                           missing בָּ֗א after כֹּל   \n",
       "19   2 Chr 22:1                     missing רִאשֹׁנִים֙ after כֹּל   \n",
       "\n",
       "                                                Cause Decision  \n",
       "0              יֵשׁ is not in the same clause as כֹּל           \n",
       "1                                                               \n",
       "2   טָמֵא belongs to another clause and is not mar...           \n",
       "3                               זָכָר is an adjective           \n",
       "4                               זָכָר is an adjective           \n",
       "5                                                               \n",
       "6   נֶּחֱשָׁלִ֣ים belongs to another clause and is...           \n",
       "7                              טָמֵֽא is an adjective           \n",
       "8                                טוֹב is an adjective           \n",
       "9                               זָכָר is an adjective           \n",
       "10                              זָכָר is an adjective           \n",
       "11  נִּקְרָ֣א belongs to another clause and is a verb           \n",
       "12    זֹונֶ֥ה belongs to another clause and is a verb           \n",
       "13  שֹׁוגִ֣ים belongs to another clause and is a verb           \n",
       "14                           גֵּ֝אֶ֗ה is an adjective           \n",
       "15                           גֵּ֝אֶ֗ה is an adjective           \n",
       "16   נֹּגֵ֥עַ belongs to another clause and is a verb           \n",
       "17                               רָֽע is an adjective           \n",
       "18      בָּ֗א belongs to another clause and is a verb           \n",
       "19                         רִאשֹׁנִים֙ is an ordinal?           "
      ]
     },
     "execution_count": 48,
     "metadata": {},
     "output_type": "execute_result"
    }
   ],
   "source": [
    "ku_eval = pd.read_csv('stephen_ku_heads_eval.csv', header=1).fillna('')\n",
    "ku_eval['Decision'] = ''\n",
    "ku_eval"
   ]
  },
  {
   "cell_type": "code",
   "execution_count": 49,
   "metadata": {},
   "outputs": [
    {
     "name": "stdout",
     "output_type": "stream",
     "text": [
      "Gen 39:4\n",
      "v1 issue: missing יֵשׁ after כֹּל\n",
      "v2 update: not yet going out of clause boundaries\n"
     ]
    },
    {
     "data": {
      "text/markdown": [
       "\n",
       "\n",
       "**Result** *Ku Eval 0*\n",
       "\n"
      ],
      "text/plain": [
       "<IPython.core.display.Markdown object>"
      ]
     },
     "metadata": {},
     "output_type": "display_data"
    },
    {
     "data": {
      "text/html": [
       "<a href=\"https://shebanq.ancient-data.org/hebrew/text?book=Genesis&chapter=39&verse=4&version=c&mr=m&qw=q&tp=txt_p&tr=hb&wget=v&qget=v&nget=vt\" title=\"show this passage in SHEBANQ\" sec=\"Genesis 39:4\">Genesis 39:4</a>\n",
       "<div class=\"atoms  \" >\n",
       "<a href=\"#\" class=\"nd\">431967</a>\n",
       "\n",
       "\n",
       "\n",
       "<div class=\"catom  l \" >\n",
       "\n",
       "    <div class=\"clause \" >\n",
       "        <a href=\"https://shebanq.ancient-data.org/hebrew/text?book=Genesis&chapter=39&verse=4&version=c&mr=m&qw=q&tp=txt_p&tr=hb&wget=v&qget=v&nget=vt\" title=\"Genesis 39:4\" sec=\"Genesis 39:4\">clause</a> <a href=\"#\" class=\"nd\">431967</a>  <span class=\"typ\">WxQ0|Defc</span>\n",
       "    </div>\n",
       "    <div class=\"atoms\">\n",
       "\n",
       "<div class=\"patom  \" >\n",
       "\n",
       "    <div class=\"phrase \" >\n",
       "        <a href=\"https://shebanq.ancient-data.org/hebrew/text?book=Genesis&chapter=39&verse=4&version=c&mr=m&qw=q&tp=txt_p&tr=hb&wget=v&qget=v&nget=vt\" title=\"Genesis 39:4\" sec=\"Genesis 39:4\">phrase</a> <a href=\"#\" class=\"nd\">664857</a>  <span class=\"function\">Conj</span> <span class=\"typ\">CP</span>\n",
       "    </div>\n",
       "    <div class=\"atoms\">\n",
       "\n",
       "<div class=\"word  \" >\n",
       "<a href=\"#\" class=\"nd\">21481</a>\n",
       "<div class=\"h\"><a target=\"_blank\" href=\"https://shebanq.ancient-data.org/hebrew/word?version=c&id=1W\" title=\"show this lexeme in SHEBANQ\">וְ</a></div>\n",
       "<div class=\"features\"> <span class=\"pdp\"><a href=\"https://shebanq.ancient-data.org/hebrew/text?book=Genesis&chapter=39&verse=4&version=c&mr=m&qw=q&tp=txt_p&tr=hb&wget=v&qget=v&nget=vt\" title=\"Genesis 39:4\" sec=\"Genesis 39:4\">conj</a></span> <span class=\"gloss\">and</span></div>\n",
       "\n",
       "\n",
       "</div>\n",
       "\n",
       "\n",
       "    </div>\n",
       "\n",
       "\n",
       "</div>\n",
       "\n",
       "<div class=\"patom  hl\" >\n",
       "\n",
       "    <div class=\"phrase hl\" >\n",
       "        <a href=\"https://shebanq.ancient-data.org/hebrew/text?book=Genesis&chapter=39&verse=4&version=c&mr=m&qw=q&tp=txt_p&tr=hb&wget=v&qget=v&nget=vt\" title=\"Genesis 39:4\" sec=\"Genesis 39:4\">phrase</a> <a href=\"#\" class=\"nd\">664858</a>  <span class=\"function\">Objc</span> <span class=\"typ\">NP</span>\n",
       "    </div>\n",
       "    <div class=\"atoms\">\n",
       "\n",
       "<div class=\"word  hl\" >\n",
       "<a href=\"#\" class=\"nd\">21482</a>\n",
       "<div class=\"h\"><a target=\"_blank\" href=\"https://shebanq.ancient-data.org/hebrew/word?version=c&id=1KLn\" title=\"show this lexeme in SHEBANQ\">כָל־</a></div>\n",
       "<div class=\"features\"> <span class=\"pdp\"><a href=\"https://shebanq.ancient-data.org/hebrew/text?book=Genesis&chapter=39&verse=4&version=c&mr=m&qw=q&tp=txt_p&tr=hb&wget=v&qget=v&nget=vt\" title=\"Genesis 39:4\" sec=\"Genesis 39:4\">subs</a></span> <span class=\"gloss\">whole</span></div>\n",
       "\n",
       "\n",
       "</div>\n",
       "\n",
       "\n",
       "    </div>\n",
       "\n",
       "\n",
       "</div>\n",
       "\n",
       "\n",
       "    </div>\n",
       "\n",
       "\n",
       "</div>\n",
       "\n",
       "<div class=\"catom  r \" >\n",
       "\n",
       "    <div class=\"clause \" >\n",
       "        <a href=\"https://shebanq.ancient-data.org/hebrew/text?book=Genesis&chapter=39&verse=4&version=c&mr=m&qw=q&tp=txt_p&tr=hb&wget=v&qget=v&nget=vt\" title=\"Genesis 39:4\" sec=\"Genesis 39:4\">clause</a> <a href=\"#\" class=\"nd\">431967</a>  <span class=\"typ\">WxQ0|ZQt0</span>\n",
       "    </div>\n",
       "    <div class=\"atoms\">\n",
       "\n",
       "<div class=\"patom  \" >\n",
       "\n",
       "    <div class=\"phrase \" >\n",
       "        <a href=\"https://shebanq.ancient-data.org/hebrew/text?book=Genesis&chapter=39&verse=4&version=c&mr=m&qw=q&tp=txt_p&tr=hb&wget=v&qget=v&nget=vt\" title=\"Genesis 39:4\" sec=\"Genesis 39:4\">phrase</a> <a href=\"#\" class=\"nd\">664861</a>  <span class=\"function\">Pred</span> <span class=\"typ\">VP</span>\n",
       "    </div>\n",
       "    <div class=\"atoms\">\n",
       "\n",
       "<div class=\"word  \" >\n",
       "<a href=\"#\" class=\"nd\">21485</a>\n",
       "<div class=\"h\"><a target=\"_blank\" href=\"https://shebanq.ancient-data.org/hebrew/word?version=c&id=1NTNv\" title=\"show this lexeme in SHEBANQ\">נָתַ֥ן </a></div>\n",
       "<div class=\"features\"> <span class=\"pdp\"><a href=\"https://shebanq.ancient-data.org/hebrew/text?book=Genesis&chapter=39&verse=4&version=c&mr=m&qw=q&tp=txt_p&tr=hb&wget=v&qget=v&nget=vt\" title=\"Genesis 39:4\" sec=\"Genesis 39:4\">verb</a></span> <span class=\"gloss\">give</span> <span class=\"vs\">qal</span> <span class=\"vt\">perf</span></div>\n",
       "\n",
       "\n",
       "</div>\n",
       "\n",
       "\n",
       "    </div>\n",
       "\n",
       "\n",
       "</div>\n",
       "\n",
       "<div class=\"patom  \" >\n",
       "\n",
       "    <div class=\"phrase \" >\n",
       "        <a href=\"https://shebanq.ancient-data.org/hebrew/text?book=Genesis&chapter=39&verse=4&version=c&mr=m&qw=q&tp=txt_p&tr=hb&wget=v&qget=v&nget=vt\" title=\"Genesis 39:4\" sec=\"Genesis 39:4\">phrase</a> <a href=\"#\" class=\"nd\">664862</a>  <span class=\"function\">Cmpl</span> <span class=\"typ\">PP</span>\n",
       "    </div>\n",
       "    <div class=\"atoms\">\n",
       "\n",
       "<div class=\"word  \" >\n",
       "<a href=\"#\" class=\"nd\">21486</a>\n",
       "<div class=\"h\"><a target=\"_blank\" href=\"https://shebanq.ancient-data.org/hebrew/word?version=c&id=1B\" title=\"show this lexeme in SHEBANQ\">בְּ</a></div>\n",
       "<div class=\"features\"> <span class=\"pdp\"><a href=\"https://shebanq.ancient-data.org/hebrew/text?book=Genesis&chapter=39&verse=4&version=c&mr=m&qw=q&tp=txt_p&tr=hb&wget=v&qget=v&nget=vt\" title=\"Genesis 39:4\" sec=\"Genesis 39:4\">prep</a></span> <span class=\"gloss\">in</span></div>\n",
       "\n",
       "\n",
       "</div>\n",
       "\n",
       "<div class=\"word  \" >\n",
       "<a href=\"#\" class=\"nd\">21487</a>\n",
       "<div class=\"h\"><a target=\"_blank\" href=\"https://shebanq.ancient-data.org/hebrew/word?version=c&id=1JDn\" title=\"show this lexeme in SHEBANQ\">יָדֹֽו׃ </a></div>\n",
       "<div class=\"features\"> <span class=\"pdp\"><a href=\"https://shebanq.ancient-data.org/hebrew/text?book=Genesis&chapter=39&verse=4&version=c&mr=m&qw=q&tp=txt_p&tr=hb&wget=v&qget=v&nget=vt\" title=\"Genesis 39:4\" sec=\"Genesis 39:4\">subs</a></span> <span class=\"gloss\">hand</span></div>\n",
       "\n",
       "\n",
       "</div>\n",
       "\n",
       "\n",
       "    </div>\n",
       "\n",
       "\n",
       "</div>\n",
       "\n",
       "\n",
       "    </div>\n",
       "\n",
       "\n",
       "</div>\n",
       "\n",
       "\n",
       "</div>\n"
      ],
      "text/plain": [
       "<IPython.core.display.HTML object>"
      ]
     },
     "metadata": {},
     "output_type": "display_data"
    },
    {
     "name": "stdout",
     "output_type": "stream",
     "text": [
      "Num 5:2\n",
      "v1 issue: missing two כֹּל’s (the one before צָר֖וּעַ and the one before זָ֑ב)\n",
      "v2 update: not yet going out of clause boundaries\n"
     ]
    },
    {
     "data": {
      "text/markdown": [
       "\n",
       "\n",
       "**Result** *Ku Eval 1*\n",
       "\n"
      ],
      "text/plain": [
       "<IPython.core.display.Markdown object>"
      ]
     },
     "metadata": {},
     "output_type": "display_data"
    },
    {
     "data": {
      "text/html": [
       "<a href=\"https://shebanq.ancient-data.org/hebrew/text?book=Numeri&chapter=5&verse=2&version=c&mr=m&qw=q&tp=txt_p&tr=hb&wget=v&qget=v&nget=vt\" title=\"show this passage in SHEBANQ\" sec=\"Numbers 5:2\">Numbers 5:2</a>\n",
       "<div class=\"atoms  \" >\n",
       "<a href=\"#\" class=\"nd\">441351</a>\n",
       "\n",
       "\n",
       "\n",
       "<div class=\"catom  \" >\n",
       "\n",
       "    <div class=\"clause \" >\n",
       "        <a href=\"https://shebanq.ancient-data.org/hebrew/text?book=Numeri&chapter=5&verse=2&version=c&mr=m&qw=q&tp=txt_p&tr=hb&wget=v&qget=v&nget=vt\" title=\"Numbers 5:2\" sec=\"Numbers 5:2\">clause</a> <a href=\"#\" class=\"nd\">441351</a>  <span class=\"typ\">WYq0</span>\n",
       "    </div>\n",
       "    <div class=\"atoms\">\n",
       "\n",
       "<div class=\"patom  \" >\n",
       "\n",
       "    <div class=\"phrase \" >\n",
       "        <a href=\"https://shebanq.ancient-data.org/hebrew/text?book=Numeri&chapter=5&verse=2&version=c&mr=m&qw=q&tp=txt_p&tr=hb&wget=v&qget=v&nget=vt\" title=\"Numbers 5:2\" sec=\"Numbers 5:2\">phrase</a> <a href=\"#\" class=\"nd\">693489</a>  <span class=\"function\">Conj</span> <span class=\"typ\">CP</span>\n",
       "    </div>\n",
       "    <div class=\"atoms\">\n",
       "\n",
       "<div class=\"word  \" >\n",
       "<a href=\"#\" class=\"nd\">72735</a>\n",
       "<div class=\"h\"><a target=\"_blank\" href=\"https://shebanq.ancient-data.org/hebrew/word?version=c&id=1W\" title=\"show this lexeme in SHEBANQ\">וִֽ</a></div>\n",
       "<div class=\"features\"> <span class=\"pdp\"><a href=\"https://shebanq.ancient-data.org/hebrew/text?book=Numeri&chapter=5&verse=2&version=c&mr=m&qw=q&tp=txt_p&tr=hb&wget=v&qget=v&nget=vt\" title=\"Numbers 5:2\" sec=\"Numbers 5:2\">conj</a></span> <span class=\"gloss\">and</span></div>\n",
       "\n",
       "\n",
       "</div>\n",
       "\n",
       "\n",
       "    </div>\n",
       "\n",
       "\n",
       "</div>\n",
       "\n",
       "<div class=\"patom  \" >\n",
       "\n",
       "    <div class=\"phrase \" >\n",
       "        <a href=\"https://shebanq.ancient-data.org/hebrew/text?book=Numeri&chapter=5&verse=2&version=c&mr=m&qw=q&tp=txt_p&tr=hb&wget=v&qget=v&nget=vt\" title=\"Numbers 5:2\" sec=\"Numbers 5:2\">phrase</a> <a href=\"#\" class=\"nd\">693490</a>  <span class=\"function\">Pred</span> <span class=\"typ\">VP</span>\n",
       "    </div>\n",
       "    <div class=\"atoms\">\n",
       "\n",
       "<div class=\"word  \" >\n",
       "<a href=\"#\" class=\"nd\">72736</a>\n",
       "<div class=\"h\"><a target=\"_blank\" href=\"https://shebanq.ancient-data.org/hebrew/word?version=c&id=1CLXv\" title=\"show this lexeme in SHEBANQ\">ישַׁלְּחוּ֙ </a></div>\n",
       "<div class=\"features\"> <span class=\"pdp\"><a href=\"https://shebanq.ancient-data.org/hebrew/text?book=Numeri&chapter=5&verse=2&version=c&mr=m&qw=q&tp=txt_p&tr=hb&wget=v&qget=v&nget=vt\" title=\"Numbers 5:2\" sec=\"Numbers 5:2\">verb</a></span> <span class=\"gloss\">send</span> <span class=\"vs\">piel</span> <span class=\"vt\">impf</span></div>\n",
       "\n",
       "\n",
       "</div>\n",
       "\n",
       "\n",
       "    </div>\n",
       "\n",
       "\n",
       "</div>\n",
       "\n",
       "<div class=\"patom  \" >\n",
       "\n",
       "    <div class=\"phrase \" >\n",
       "        <a href=\"https://shebanq.ancient-data.org/hebrew/text?book=Numeri&chapter=5&verse=2&version=c&mr=m&qw=q&tp=txt_p&tr=hb&wget=v&qget=v&nget=vt\" title=\"Numbers 5:2\" sec=\"Numbers 5:2\">phrase</a> <a href=\"#\" class=\"nd\">693491</a>  <span class=\"function\">Cmpl</span> <span class=\"typ\">PP</span>\n",
       "    </div>\n",
       "    <div class=\"atoms\">\n",
       "\n",
       "<div class=\"word  \" >\n",
       "<a href=\"#\" class=\"nd\">72737</a>\n",
       "<div class=\"h\"><a target=\"_blank\" href=\"https://shebanq.ancient-data.org/hebrew/word?version=c&id=1MN\" title=\"show this lexeme in SHEBANQ\">מִן־</a></div>\n",
       "<div class=\"features\"> <span class=\"pdp\"><a href=\"https://shebanq.ancient-data.org/hebrew/text?book=Numeri&chapter=5&verse=2&version=c&mr=m&qw=q&tp=txt_p&tr=hb&wget=v&qget=v&nget=vt\" title=\"Numbers 5:2\" sec=\"Numbers 5:2\">prep</a></span> <span class=\"gloss\">from</span></div>\n",
       "\n",
       "\n",
       "</div>\n",
       "\n",
       "<div class=\"word  \" >\n",
       "<a href=\"#\" class=\"nd\">72738</a>\n",
       "<div class=\"h\"><a target=\"_blank\" href=\"https://shebanq.ancient-data.org/hebrew/word?version=c&id=1H\" title=\"show this lexeme in SHEBANQ\">הַֽ</a></div>\n",
       "<div class=\"features\"> <span class=\"pdp\"><a href=\"https://shebanq.ancient-data.org/hebrew/text?book=Numeri&chapter=5&verse=2&version=c&mr=m&qw=q&tp=txt_p&tr=hb&wget=v&qget=v&nget=vt\" title=\"Numbers 5:2\" sec=\"Numbers 5:2\">art</a></span> <span class=\"gloss\">the</span></div>\n",
       "\n",
       "\n",
       "</div>\n",
       "\n",
       "<div class=\"word  \" >\n",
       "<a href=\"#\" class=\"nd\">72739</a>\n",
       "<div class=\"h\"><a target=\"_blank\" href=\"https://shebanq.ancient-data.org/hebrew/word?version=c&id=1MXNHn\" title=\"show this lexeme in SHEBANQ\">מַּחֲנֶ֔ה </a></div>\n",
       "<div class=\"features\"> <span class=\"pdp\"><a href=\"https://shebanq.ancient-data.org/hebrew/text?book=Numeri&chapter=5&verse=2&version=c&mr=m&qw=q&tp=txt_p&tr=hb&wget=v&qget=v&nget=vt\" title=\"Numbers 5:2\" sec=\"Numbers 5:2\">subs</a></span> <span class=\"gloss\">camp</span></div>\n",
       "\n",
       "\n",
       "</div>\n",
       "\n",
       "\n",
       "    </div>\n",
       "\n",
       "\n",
       "</div>\n",
       "\n",
       "<div class=\"patom  hl\" >\n",
       "\n",
       "    <div class=\"phrase hl\" >\n",
       "        <a href=\"https://shebanq.ancient-data.org/hebrew/text?book=Numeri&chapter=5&verse=2&version=c&mr=m&qw=q&tp=txt_p&tr=hb&wget=v&qget=v&nget=vt\" title=\"Numbers 5:2\" sec=\"Numbers 5:2\">phrase</a> <a href=\"#\" class=\"nd\">693492</a>  <span class=\"function\">Objc</span> <span class=\"typ\">NP</span>\n",
       "    </div>\n",
       "    <div class=\"atoms\">\n",
       "\n",
       "<div class=\"word  \" >\n",
       "<a href=\"#\" class=\"nd\">72740</a>\n",
       "<div class=\"h\"><a target=\"_blank\" href=\"https://shebanq.ancient-data.org/hebrew/word?version=c&id=1KLn\" title=\"show this lexeme in SHEBANQ\">כָּל־</a></div>\n",
       "<div class=\"features\"> <span class=\"pdp\"><a href=\"https://shebanq.ancient-data.org/hebrew/text?book=Numeri&chapter=5&verse=2&version=c&mr=m&qw=q&tp=txt_p&tr=hb&wget=v&qget=v&nget=vt\" title=\"Numbers 5:2\" sec=\"Numbers 5:2\">subs</a></span> <span class=\"gloss\">whole</span></div>\n",
       "\n",
       "\n",
       "</div>\n",
       "\n",
       "<div class=\"word  hl\" >\n",
       "<a href=\"#\" class=\"nd\">72741</a>\n",
       "<div class=\"h\"><a target=\"_blank\" href=\"https://shebanq.ancient-data.org/hebrew/word?version=c&id=1YROv\" title=\"show this lexeme in SHEBANQ\">צָר֖וּעַ </a></div>\n",
       "<div class=\"features\"> <span class=\"pdp\"><a href=\"https://shebanq.ancient-data.org/hebrew/text?book=Numeri&chapter=5&verse=2&version=c&mr=m&qw=q&tp=txt_p&tr=hb&wget=v&qget=v&nget=vt\" title=\"Numbers 5:2\" sec=\"Numbers 5:2\">subs</a></span> <span class=\"gloss\">have skin-disease</span> <span class=\"vs\">qal</span> <span class=\"vt\">ptcp</span></div>\n",
       "\n",
       "\n",
       "</div>\n",
       "\n",
       "<div class=\"word  \" >\n",
       "<a href=\"#\" class=\"nd\">72742</a>\n",
       "<div class=\"h\"><a target=\"_blank\" href=\"https://shebanq.ancient-data.org/hebrew/word?version=c&id=1W\" title=\"show this lexeme in SHEBANQ\">וְ</a></div>\n",
       "<div class=\"features\"> <span class=\"pdp\"><a href=\"https://shebanq.ancient-data.org/hebrew/text?book=Numeri&chapter=5&verse=2&version=c&mr=m&qw=q&tp=txt_p&tr=hb&wget=v&qget=v&nget=vt\" title=\"Numbers 5:2\" sec=\"Numbers 5:2\">conj</a></span> <span class=\"gloss\">and</span></div>\n",
       "\n",
       "\n",
       "</div>\n",
       "\n",
       "<div class=\"word  \" >\n",
       "<a href=\"#\" class=\"nd\">72743</a>\n",
       "<div class=\"h\"><a target=\"_blank\" href=\"https://shebanq.ancient-data.org/hebrew/word?version=c&id=1KLn\" title=\"show this lexeme in SHEBANQ\">כָל־</a></div>\n",
       "<div class=\"features\"> <span class=\"pdp\"><a href=\"https://shebanq.ancient-data.org/hebrew/text?book=Numeri&chapter=5&verse=2&version=c&mr=m&qw=q&tp=txt_p&tr=hb&wget=v&qget=v&nget=vt\" title=\"Numbers 5:2\" sec=\"Numbers 5:2\">subs</a></span> <span class=\"gloss\">whole</span></div>\n",
       "\n",
       "\n",
       "</div>\n",
       "\n",
       "<div class=\"word  hl\" >\n",
       "<a href=\"#\" class=\"nd\">72744</a>\n",
       "<div class=\"h\"><a target=\"_blank\" href=\"https://shebanq.ancient-data.org/hebrew/word?version=c&id=1ZWBv\" title=\"show this lexeme in SHEBANQ\">זָ֑ב </a></div>\n",
       "<div class=\"features\"> <span class=\"pdp\"><a href=\"https://shebanq.ancient-data.org/hebrew/text?book=Numeri&chapter=5&verse=2&version=c&mr=m&qw=q&tp=txt_p&tr=hb&wget=v&qget=v&nget=vt\" title=\"Numbers 5:2\" sec=\"Numbers 5:2\">subs</a></span> <span class=\"gloss\">flow</span> <span class=\"vs\">qal</span> <span class=\"vt\">ptca</span></div>\n",
       "\n",
       "\n",
       "</div>\n",
       "\n",
       "<div class=\"word  \" >\n",
       "<a href=\"#\" class=\"nd\">72745</a>\n",
       "<div class=\"h\"><a target=\"_blank\" href=\"https://shebanq.ancient-data.org/hebrew/word?version=c&id=1W\" title=\"show this lexeme in SHEBANQ\">וְ</a></div>\n",
       "<div class=\"features\"> <span class=\"pdp\"><a href=\"https://shebanq.ancient-data.org/hebrew/text?book=Numeri&chapter=5&verse=2&version=c&mr=m&qw=q&tp=txt_p&tr=hb&wget=v&qget=v&nget=vt\" title=\"Numbers 5:2\" sec=\"Numbers 5:2\">conj</a></span> <span class=\"gloss\">and</span></div>\n",
       "\n",
       "\n",
       "</div>\n",
       "\n",
       "<div class=\"word  hl\" >\n",
       "<a href=\"#\" class=\"nd\">72746</a>\n",
       "<div class=\"h\"><a target=\"_blank\" href=\"https://shebanq.ancient-data.org/hebrew/word?version=c&id=1KLn\" title=\"show this lexeme in SHEBANQ\">כֹ֖ל </a></div>\n",
       "<div class=\"features\"> <span class=\"pdp\"><a href=\"https://shebanq.ancient-data.org/hebrew/text?book=Numeri&chapter=5&verse=2&version=c&mr=m&qw=q&tp=txt_p&tr=hb&wget=v&qget=v&nget=vt\" title=\"Numbers 5:2\" sec=\"Numbers 5:2\">subs</a></span> <span class=\"gloss\">whole</span></div>\n",
       "\n",
       "\n",
       "</div>\n",
       "\n",
       "\n",
       "    </div>\n",
       "\n",
       "\n",
       "</div>\n",
       "\n",
       "\n",
       "    </div>\n",
       "\n",
       "\n",
       "</div>\n",
       "\n",
       "\n",
       "</div>\n"
      ],
      "text/plain": [
       "<IPython.core.display.HTML object>"
      ]
     },
     "metadata": {},
     "output_type": "display_data"
    },
    {
     "name": "stdout",
     "output_type": "stream",
     "text": [
      "Num 5:2\n",
      "v1 issue: it’s able to find the last כֹ֖ל but not טָמֵא following it\n",
      "v2 update: not yet going out of clause boundaries\n"
     ]
    },
    {
     "data": {
      "text/markdown": [
       "\n",
       "\n",
       "**Result** *Ku Eval 2*\n",
       "\n"
      ],
      "text/plain": [
       "<IPython.core.display.Markdown object>"
      ]
     },
     "metadata": {},
     "output_type": "display_data"
    },
    {
     "data": {
      "text/html": [
       "<a href=\"https://shebanq.ancient-data.org/hebrew/text?book=Numeri&chapter=5&verse=2&version=c&mr=m&qw=q&tp=txt_p&tr=hb&wget=v&qget=v&nget=vt\" title=\"show this passage in SHEBANQ\" sec=\"Numbers 5:2\">Numbers 5:2</a>\n",
       "<div class=\"atoms  \" >\n",
       "<a href=\"#\" class=\"nd\">441351</a>\n",
       "\n",
       "\n",
       "\n",
       "<div class=\"catom  \" >\n",
       "\n",
       "    <div class=\"clause \" >\n",
       "        <a href=\"https://shebanq.ancient-data.org/hebrew/text?book=Numeri&chapter=5&verse=2&version=c&mr=m&qw=q&tp=txt_p&tr=hb&wget=v&qget=v&nget=vt\" title=\"Numbers 5:2\" sec=\"Numbers 5:2\">clause</a> <a href=\"#\" class=\"nd\">441351</a>  <span class=\"typ\">WYq0</span>\n",
       "    </div>\n",
       "    <div class=\"atoms\">\n",
       "\n",
       "<div class=\"patom  \" >\n",
       "\n",
       "    <div class=\"phrase \" >\n",
       "        <a href=\"https://shebanq.ancient-data.org/hebrew/text?book=Numeri&chapter=5&verse=2&version=c&mr=m&qw=q&tp=txt_p&tr=hb&wget=v&qget=v&nget=vt\" title=\"Numbers 5:2\" sec=\"Numbers 5:2\">phrase</a> <a href=\"#\" class=\"nd\">693489</a>  <span class=\"function\">Conj</span> <span class=\"typ\">CP</span>\n",
       "    </div>\n",
       "    <div class=\"atoms\">\n",
       "\n",
       "<div class=\"word  \" >\n",
       "<a href=\"#\" class=\"nd\">72735</a>\n",
       "<div class=\"h\"><a target=\"_blank\" href=\"https://shebanq.ancient-data.org/hebrew/word?version=c&id=1W\" title=\"show this lexeme in SHEBANQ\">וִֽ</a></div>\n",
       "<div class=\"features\"> <span class=\"pdp\"><a href=\"https://shebanq.ancient-data.org/hebrew/text?book=Numeri&chapter=5&verse=2&version=c&mr=m&qw=q&tp=txt_p&tr=hb&wget=v&qget=v&nget=vt\" title=\"Numbers 5:2\" sec=\"Numbers 5:2\">conj</a></span> <span class=\"gloss\">and</span></div>\n",
       "\n",
       "\n",
       "</div>\n",
       "\n",
       "\n",
       "    </div>\n",
       "\n",
       "\n",
       "</div>\n",
       "\n",
       "<div class=\"patom  \" >\n",
       "\n",
       "    <div class=\"phrase \" >\n",
       "        <a href=\"https://shebanq.ancient-data.org/hebrew/text?book=Numeri&chapter=5&verse=2&version=c&mr=m&qw=q&tp=txt_p&tr=hb&wget=v&qget=v&nget=vt\" title=\"Numbers 5:2\" sec=\"Numbers 5:2\">phrase</a> <a href=\"#\" class=\"nd\">693490</a>  <span class=\"function\">Pred</span> <span class=\"typ\">VP</span>\n",
       "    </div>\n",
       "    <div class=\"atoms\">\n",
       "\n",
       "<div class=\"word  \" >\n",
       "<a href=\"#\" class=\"nd\">72736</a>\n",
       "<div class=\"h\"><a target=\"_blank\" href=\"https://shebanq.ancient-data.org/hebrew/word?version=c&id=1CLXv\" title=\"show this lexeme in SHEBANQ\">ישַׁלְּחוּ֙ </a></div>\n",
       "<div class=\"features\"> <span class=\"pdp\"><a href=\"https://shebanq.ancient-data.org/hebrew/text?book=Numeri&chapter=5&verse=2&version=c&mr=m&qw=q&tp=txt_p&tr=hb&wget=v&qget=v&nget=vt\" title=\"Numbers 5:2\" sec=\"Numbers 5:2\">verb</a></span> <span class=\"gloss\">send</span> <span class=\"vs\">piel</span> <span class=\"vt\">impf</span></div>\n",
       "\n",
       "\n",
       "</div>\n",
       "\n",
       "\n",
       "    </div>\n",
       "\n",
       "\n",
       "</div>\n",
       "\n",
       "<div class=\"patom  \" >\n",
       "\n",
       "    <div class=\"phrase \" >\n",
       "        <a href=\"https://shebanq.ancient-data.org/hebrew/text?book=Numeri&chapter=5&verse=2&version=c&mr=m&qw=q&tp=txt_p&tr=hb&wget=v&qget=v&nget=vt\" title=\"Numbers 5:2\" sec=\"Numbers 5:2\">phrase</a> <a href=\"#\" class=\"nd\">693491</a>  <span class=\"function\">Cmpl</span> <span class=\"typ\">PP</span>\n",
       "    </div>\n",
       "    <div class=\"atoms\">\n",
       "\n",
       "<div class=\"word  \" >\n",
       "<a href=\"#\" class=\"nd\">72737</a>\n",
       "<div class=\"h\"><a target=\"_blank\" href=\"https://shebanq.ancient-data.org/hebrew/word?version=c&id=1MN\" title=\"show this lexeme in SHEBANQ\">מִן־</a></div>\n",
       "<div class=\"features\"> <span class=\"pdp\"><a href=\"https://shebanq.ancient-data.org/hebrew/text?book=Numeri&chapter=5&verse=2&version=c&mr=m&qw=q&tp=txt_p&tr=hb&wget=v&qget=v&nget=vt\" title=\"Numbers 5:2\" sec=\"Numbers 5:2\">prep</a></span> <span class=\"gloss\">from</span></div>\n",
       "\n",
       "\n",
       "</div>\n",
       "\n",
       "<div class=\"word  \" >\n",
       "<a href=\"#\" class=\"nd\">72738</a>\n",
       "<div class=\"h\"><a target=\"_blank\" href=\"https://shebanq.ancient-data.org/hebrew/word?version=c&id=1H\" title=\"show this lexeme in SHEBANQ\">הַֽ</a></div>\n",
       "<div class=\"features\"> <span class=\"pdp\"><a href=\"https://shebanq.ancient-data.org/hebrew/text?book=Numeri&chapter=5&verse=2&version=c&mr=m&qw=q&tp=txt_p&tr=hb&wget=v&qget=v&nget=vt\" title=\"Numbers 5:2\" sec=\"Numbers 5:2\">art</a></span> <span class=\"gloss\">the</span></div>\n",
       "\n",
       "\n",
       "</div>\n",
       "\n",
       "<div class=\"word  \" >\n",
       "<a href=\"#\" class=\"nd\">72739</a>\n",
       "<div class=\"h\"><a target=\"_blank\" href=\"https://shebanq.ancient-data.org/hebrew/word?version=c&id=1MXNHn\" title=\"show this lexeme in SHEBANQ\">מַּחֲנֶ֔ה </a></div>\n",
       "<div class=\"features\"> <span class=\"pdp\"><a href=\"https://shebanq.ancient-data.org/hebrew/text?book=Numeri&chapter=5&verse=2&version=c&mr=m&qw=q&tp=txt_p&tr=hb&wget=v&qget=v&nget=vt\" title=\"Numbers 5:2\" sec=\"Numbers 5:2\">subs</a></span> <span class=\"gloss\">camp</span></div>\n",
       "\n",
       "\n",
       "</div>\n",
       "\n",
       "\n",
       "    </div>\n",
       "\n",
       "\n",
       "</div>\n",
       "\n",
       "<div class=\"patom  hl\" >\n",
       "\n",
       "    <div class=\"phrase hl\" >\n",
       "        <a href=\"https://shebanq.ancient-data.org/hebrew/text?book=Numeri&chapter=5&verse=2&version=c&mr=m&qw=q&tp=txt_p&tr=hb&wget=v&qget=v&nget=vt\" title=\"Numbers 5:2\" sec=\"Numbers 5:2\">phrase</a> <a href=\"#\" class=\"nd\">693492</a>  <span class=\"function\">Objc</span> <span class=\"typ\">NP</span>\n",
       "    </div>\n",
       "    <div class=\"atoms\">\n",
       "\n",
       "<div class=\"word  \" >\n",
       "<a href=\"#\" class=\"nd\">72740</a>\n",
       "<div class=\"h\"><a target=\"_blank\" href=\"https://shebanq.ancient-data.org/hebrew/word?version=c&id=1KLn\" title=\"show this lexeme in SHEBANQ\">כָּל־</a></div>\n",
       "<div class=\"features\"> <span class=\"pdp\"><a href=\"https://shebanq.ancient-data.org/hebrew/text?book=Numeri&chapter=5&verse=2&version=c&mr=m&qw=q&tp=txt_p&tr=hb&wget=v&qget=v&nget=vt\" title=\"Numbers 5:2\" sec=\"Numbers 5:2\">subs</a></span> <span class=\"gloss\">whole</span></div>\n",
       "\n",
       "\n",
       "</div>\n",
       "\n",
       "<div class=\"word  hl\" >\n",
       "<a href=\"#\" class=\"nd\">72741</a>\n",
       "<div class=\"h\"><a target=\"_blank\" href=\"https://shebanq.ancient-data.org/hebrew/word?version=c&id=1YROv\" title=\"show this lexeme in SHEBANQ\">צָר֖וּעַ </a></div>\n",
       "<div class=\"features\"> <span class=\"pdp\"><a href=\"https://shebanq.ancient-data.org/hebrew/text?book=Numeri&chapter=5&verse=2&version=c&mr=m&qw=q&tp=txt_p&tr=hb&wget=v&qget=v&nget=vt\" title=\"Numbers 5:2\" sec=\"Numbers 5:2\">subs</a></span> <span class=\"gloss\">have skin-disease</span> <span class=\"vs\">qal</span> <span class=\"vt\">ptcp</span></div>\n",
       "\n",
       "\n",
       "</div>\n",
       "\n",
       "<div class=\"word  \" >\n",
       "<a href=\"#\" class=\"nd\">72742</a>\n",
       "<div class=\"h\"><a target=\"_blank\" href=\"https://shebanq.ancient-data.org/hebrew/word?version=c&id=1W\" title=\"show this lexeme in SHEBANQ\">וְ</a></div>\n",
       "<div class=\"features\"> <span class=\"pdp\"><a href=\"https://shebanq.ancient-data.org/hebrew/text?book=Numeri&chapter=5&verse=2&version=c&mr=m&qw=q&tp=txt_p&tr=hb&wget=v&qget=v&nget=vt\" title=\"Numbers 5:2\" sec=\"Numbers 5:2\">conj</a></span> <span class=\"gloss\">and</span></div>\n",
       "\n",
       "\n",
       "</div>\n",
       "\n",
       "<div class=\"word  \" >\n",
       "<a href=\"#\" class=\"nd\">72743</a>\n",
       "<div class=\"h\"><a target=\"_blank\" href=\"https://shebanq.ancient-data.org/hebrew/word?version=c&id=1KLn\" title=\"show this lexeme in SHEBANQ\">כָל־</a></div>\n",
       "<div class=\"features\"> <span class=\"pdp\"><a href=\"https://shebanq.ancient-data.org/hebrew/text?book=Numeri&chapter=5&verse=2&version=c&mr=m&qw=q&tp=txt_p&tr=hb&wget=v&qget=v&nget=vt\" title=\"Numbers 5:2\" sec=\"Numbers 5:2\">subs</a></span> <span class=\"gloss\">whole</span></div>\n",
       "\n",
       "\n",
       "</div>\n",
       "\n",
       "<div class=\"word  hl\" >\n",
       "<a href=\"#\" class=\"nd\">72744</a>\n",
       "<div class=\"h\"><a target=\"_blank\" href=\"https://shebanq.ancient-data.org/hebrew/word?version=c&id=1ZWBv\" title=\"show this lexeme in SHEBANQ\">זָ֑ב </a></div>\n",
       "<div class=\"features\"> <span class=\"pdp\"><a href=\"https://shebanq.ancient-data.org/hebrew/text?book=Numeri&chapter=5&verse=2&version=c&mr=m&qw=q&tp=txt_p&tr=hb&wget=v&qget=v&nget=vt\" title=\"Numbers 5:2\" sec=\"Numbers 5:2\">subs</a></span> <span class=\"gloss\">flow</span> <span class=\"vs\">qal</span> <span class=\"vt\">ptca</span></div>\n",
       "\n",
       "\n",
       "</div>\n",
       "\n",
       "<div class=\"word  \" >\n",
       "<a href=\"#\" class=\"nd\">72745</a>\n",
       "<div class=\"h\"><a target=\"_blank\" href=\"https://shebanq.ancient-data.org/hebrew/word?version=c&id=1W\" title=\"show this lexeme in SHEBANQ\">וְ</a></div>\n",
       "<div class=\"features\"> <span class=\"pdp\"><a href=\"https://shebanq.ancient-data.org/hebrew/text?book=Numeri&chapter=5&verse=2&version=c&mr=m&qw=q&tp=txt_p&tr=hb&wget=v&qget=v&nget=vt\" title=\"Numbers 5:2\" sec=\"Numbers 5:2\">conj</a></span> <span class=\"gloss\">and</span></div>\n",
       "\n",
       "\n",
       "</div>\n",
       "\n",
       "<div class=\"word  hl\" >\n",
       "<a href=\"#\" class=\"nd\">72746</a>\n",
       "<div class=\"h\"><a target=\"_blank\" href=\"https://shebanq.ancient-data.org/hebrew/word?version=c&id=1KLn\" title=\"show this lexeme in SHEBANQ\">כֹ֖ל </a></div>\n",
       "<div class=\"features\"> <span class=\"pdp\"><a href=\"https://shebanq.ancient-data.org/hebrew/text?book=Numeri&chapter=5&verse=2&version=c&mr=m&qw=q&tp=txt_p&tr=hb&wget=v&qget=v&nget=vt\" title=\"Numbers 5:2\" sec=\"Numbers 5:2\">subs</a></span> <span class=\"gloss\">whole</span></div>\n",
       "\n",
       "\n",
       "</div>\n",
       "\n",
       "\n",
       "    </div>\n",
       "\n",
       "\n",
       "</div>\n",
       "\n",
       "\n",
       "    </div>\n",
       "\n",
       "\n",
       "</div>\n",
       "\n",
       "\n",
       "</div>\n"
      ],
      "text/plain": [
       "<IPython.core.display.HTML object>"
      ]
     },
     "metadata": {},
     "output_type": "display_data"
    },
    {
     "name": "stdout",
     "output_type": "stream",
     "text": [
      "Num 31:7\n",
      "v1 issue: missing זָכָר after כֹּל\n",
      "v2 update: fixed\n"
     ]
    },
    {
     "data": {
      "text/markdown": [
       "\n",
       "\n",
       "**Result** *Ku Eval 3*\n",
       "\n"
      ],
      "text/plain": [
       "<IPython.core.display.Markdown object>"
      ]
     },
     "metadata": {},
     "output_type": "display_data"
    },
    {
     "data": {
      "text/html": [
       "<a href=\"https://shebanq.ancient-data.org/hebrew/text?book=Numeri&chapter=31&verse=7&version=c&mr=m&qw=q&tp=txt_p&tr=hb&wget=v&qget=v&nget=vt\" title=\"show this passage in SHEBANQ\" sec=\"Numbers 31:7\">Numbers 31:7</a>\n",
       "<div class=\"atoms  \" >\n",
       "<a href=\"#\" class=\"nd\">444275</a>\n",
       "\n",
       "\n",
       "\n",
       "<div class=\"catom  \" >\n",
       "\n",
       "    <div class=\"clause \" >\n",
       "        <a href=\"https://shebanq.ancient-data.org/hebrew/text?book=Numeri&chapter=31&verse=7&version=c&mr=m&qw=q&tp=txt_p&tr=hb&wget=v&qget=v&nget=vt\" title=\"Numbers 31:7\" sec=\"Numbers 31:7\">clause</a> <a href=\"#\" class=\"nd\">444275</a>  <span class=\"typ\">Way0</span>\n",
       "    </div>\n",
       "    <div class=\"atoms\">\n",
       "\n",
       "<div class=\"patom  \" >\n",
       "\n",
       "    <div class=\"phrase \" >\n",
       "        <a href=\"https://shebanq.ancient-data.org/hebrew/text?book=Numeri&chapter=31&verse=7&version=c&mr=m&qw=q&tp=txt_p&tr=hb&wget=v&qget=v&nget=vt\" title=\"Numbers 31:7\" sec=\"Numbers 31:7\">phrase</a> <a href=\"#\" class=\"nd\">702270</a>  <span class=\"function\">Conj</span> <span class=\"typ\">CP</span>\n",
       "    </div>\n",
       "    <div class=\"atoms\">\n",
       "\n",
       "<div class=\"word  \" >\n",
       "<a href=\"#\" class=\"nd\">88990</a>\n",
       "<div class=\"h\"><a target=\"_blank\" href=\"https://shebanq.ancient-data.org/hebrew/word?version=c&id=1W\" title=\"show this lexeme in SHEBANQ\">וַ</a></div>\n",
       "<div class=\"features\"> <span class=\"pdp\"><a href=\"https://shebanq.ancient-data.org/hebrew/text?book=Numeri&chapter=31&verse=7&version=c&mr=m&qw=q&tp=txt_p&tr=hb&wget=v&qget=v&nget=vt\" title=\"Numbers 31:7\" sec=\"Numbers 31:7\">conj</a></span> <span class=\"gloss\">and</span></div>\n",
       "\n",
       "\n",
       "</div>\n",
       "\n",
       "\n",
       "    </div>\n",
       "\n",
       "\n",
       "</div>\n",
       "\n",
       "<div class=\"patom  \" >\n",
       "\n",
       "    <div class=\"phrase \" >\n",
       "        <a href=\"https://shebanq.ancient-data.org/hebrew/text?book=Numeri&chapter=31&verse=7&version=c&mr=m&qw=q&tp=txt_p&tr=hb&wget=v&qget=v&nget=vt\" title=\"Numbers 31:7\" sec=\"Numbers 31:7\">phrase</a> <a href=\"#\" class=\"nd\">702271</a>  <span class=\"function\">Pred</span> <span class=\"typ\">VP</span>\n",
       "    </div>\n",
       "    <div class=\"atoms\">\n",
       "\n",
       "<div class=\"word  \" >\n",
       "<a href=\"#\" class=\"nd\">88991</a>\n",
       "<div class=\"h\"><a target=\"_blank\" href=\"https://shebanq.ancient-data.org/hebrew/word?version=c&id=1HRGv\" title=\"show this lexeme in SHEBANQ\">יַּֽהַרְג֖וּ </a></div>\n",
       "<div class=\"features\"> <span class=\"pdp\"><a href=\"https://shebanq.ancient-data.org/hebrew/text?book=Numeri&chapter=31&verse=7&version=c&mr=m&qw=q&tp=txt_p&tr=hb&wget=v&qget=v&nget=vt\" title=\"Numbers 31:7\" sec=\"Numbers 31:7\">verb</a></span> <span class=\"gloss\">kill</span> <span class=\"vs\">qal</span> <span class=\"vt\">wayq</span></div>\n",
       "\n",
       "\n",
       "</div>\n",
       "\n",
       "\n",
       "    </div>\n",
       "\n",
       "\n",
       "</div>\n",
       "\n",
       "<div class=\"patom  hl\" >\n",
       "\n",
       "    <div class=\"phrase hl\" >\n",
       "        <a href=\"https://shebanq.ancient-data.org/hebrew/text?book=Numeri&chapter=31&verse=7&version=c&mr=m&qw=q&tp=txt_p&tr=hb&wget=v&qget=v&nget=vt\" title=\"Numbers 31:7\" sec=\"Numbers 31:7\">phrase</a> <a href=\"#\" class=\"nd\">702272</a>  <span class=\"function\">Objc</span> <span class=\"typ\">NP</span>\n",
       "    </div>\n",
       "    <div class=\"atoms\">\n",
       "\n",
       "<div class=\"word  \" >\n",
       "<a href=\"#\" class=\"nd\">88992</a>\n",
       "<div class=\"h\"><a target=\"_blank\" href=\"https://shebanq.ancient-data.org/hebrew/word?version=c&id=1KLn\" title=\"show this lexeme in SHEBANQ\">כָּל־</a></div>\n",
       "<div class=\"features\"> <span class=\"pdp\"><a href=\"https://shebanq.ancient-data.org/hebrew/text?book=Numeri&chapter=31&verse=7&version=c&mr=m&qw=q&tp=txt_p&tr=hb&wget=v&qget=v&nget=vt\" title=\"Numbers 31:7\" sec=\"Numbers 31:7\">subs</a></span> <span class=\"gloss\">whole</span></div>\n",
       "\n",
       "\n",
       "</div>\n",
       "\n",
       "<div class=\"word  hl\" >\n",
       "<a href=\"#\" class=\"nd\">88993</a>\n",
       "<div class=\"h\"><a target=\"_blank\" href=\"https://shebanq.ancient-data.org/hebrew/word?version=c&id=1ZKRin\" title=\"show this lexeme in SHEBANQ\">זָכָֽר׃ </a></div>\n",
       "<div class=\"features\"> <span class=\"pdp\"><a href=\"https://shebanq.ancient-data.org/hebrew/text?book=Numeri&chapter=31&verse=7&version=c&mr=m&qw=q&tp=txt_p&tr=hb&wget=v&qget=v&nget=vt\" title=\"Numbers 31:7\" sec=\"Numbers 31:7\">subs</a></span> <span class=\"gloss\">male</span></div>\n",
       "\n",
       "\n",
       "</div>\n",
       "\n",
       "\n",
       "    </div>\n",
       "\n",
       "\n",
       "</div>\n",
       "\n",
       "\n",
       "    </div>\n",
       "\n",
       "\n",
       "</div>\n",
       "\n",
       "\n",
       "</div>\n"
      ],
      "text/plain": [
       "<IPython.core.display.HTML object>"
      ]
     },
     "metadata": {},
     "output_type": "display_data"
    },
    {
     "name": "stdout",
     "output_type": "stream",
     "text": [
      "Num 31:17\n",
      "v1 issue: missing זָכָ֖ר after כֹּל\n",
      "v2 update: fixed\n"
     ]
    },
    {
     "data": {
      "text/markdown": [
       "\n",
       "\n",
       "**Result** *Ku Eval 4*\n",
       "\n"
      ],
      "text/plain": [
       "<IPython.core.display.Markdown object>"
      ]
     },
     "metadata": {},
     "output_type": "display_data"
    },
    {
     "data": {
      "text/html": [
       "<a href=\"https://shebanq.ancient-data.org/hebrew/text?book=Numeri&chapter=31&verse=17&version=c&mr=m&qw=q&tp=txt_p&tr=hb&wget=v&qget=v&nget=vt\" title=\"show this passage in SHEBANQ\" sec=\"Numbers 31:17\">Numbers 31:17</a>\n",
       "<div class=\"atoms  \" >\n",
       "<a href=\"#\" class=\"nd\">444294</a>\n",
       "\n",
       "\n",
       "\n",
       "<div class=\"catom  \" >\n",
       "\n",
       "    <div class=\"clause \" >\n",
       "        <a href=\"https://shebanq.ancient-data.org/hebrew/text?book=Numeri&chapter=31&verse=17&version=c&mr=m&qw=q&tp=txt_p&tr=hb&wget=v&qget=v&nget=vt\" title=\"Numbers 31:17\" sec=\"Numbers 31:17\">clause</a> <a href=\"#\" class=\"nd\">444294</a>  <span class=\"typ\">ZIm0</span>\n",
       "    </div>\n",
       "    <div class=\"atoms\">\n",
       "\n",
       "<div class=\"patom  \" >\n",
       "\n",
       "    <div class=\"phrase \" >\n",
       "        <a href=\"https://shebanq.ancient-data.org/hebrew/text?book=Numeri&chapter=31&verse=17&version=c&mr=m&qw=q&tp=txt_p&tr=hb&wget=v&qget=v&nget=vt\" title=\"Numbers 31:17\" sec=\"Numbers 31:17\">phrase</a> <a href=\"#\" class=\"nd\">702337</a>  <span class=\"function\">Pred</span> <span class=\"typ\">VP</span>\n",
       "    </div>\n",
       "    <div class=\"atoms\">\n",
       "\n",
       "<div class=\"word  \" >\n",
       "<a href=\"#\" class=\"nd\">89191</a>\n",
       "<div class=\"h\"><a target=\"_blank\" href=\"https://shebanq.ancient-data.org/hebrew/word?version=c&id=1HRGv\" title=\"show this lexeme in SHEBANQ\">הִרְג֥וּ </a></div>\n",
       "<div class=\"features\"> <span class=\"pdp\"><a href=\"https://shebanq.ancient-data.org/hebrew/text?book=Numeri&chapter=31&verse=17&version=c&mr=m&qw=q&tp=txt_p&tr=hb&wget=v&qget=v&nget=vt\" title=\"Numbers 31:17\" sec=\"Numbers 31:17\">verb</a></span> <span class=\"gloss\">kill</span> <span class=\"vs\">qal</span> <span class=\"vt\">impv</span></div>\n",
       "\n",
       "\n",
       "</div>\n",
       "\n",
       "\n",
       "    </div>\n",
       "\n",
       "\n",
       "</div>\n",
       "\n",
       "<div class=\"patom  l hl\" >\n",
       "\n",
       "    <div class=\"phrase hl\" >\n",
       "        <a href=\"https://shebanq.ancient-data.org/hebrew/text?book=Numeri&chapter=31&verse=17&version=c&mr=m&qw=q&tp=txt_p&tr=hb&wget=v&qget=v&nget=vt\" title=\"Numbers 31:17\" sec=\"Numbers 31:17\">phrase</a> <a href=\"#\" class=\"nd\">702338</a>  <span class=\"function\">Objc</span> <span class=\"typ\">NP</span>\n",
       "    </div>\n",
       "    <div class=\"atoms\">\n",
       "\n",
       "<div class=\"word  \" >\n",
       "<a href=\"#\" class=\"nd\">89192</a>\n",
       "<div class=\"h\"><a target=\"_blank\" href=\"https://shebanq.ancient-data.org/hebrew/word?version=c&id=1KLn\" title=\"show this lexeme in SHEBANQ\">כָל־</a></div>\n",
       "<div class=\"features\"> <span class=\"pdp\"><a href=\"https://shebanq.ancient-data.org/hebrew/text?book=Numeri&chapter=31&verse=17&version=c&mr=m&qw=q&tp=txt_p&tr=hb&wget=v&qget=v&nget=vt\" title=\"Numbers 31:17\" sec=\"Numbers 31:17\">subs</a></span> <span class=\"gloss\">whole</span></div>\n",
       "\n",
       "\n",
       "</div>\n",
       "\n",
       "<div class=\"word  hl\" >\n",
       "<a href=\"#\" class=\"nd\">89193</a>\n",
       "<div class=\"h\"><a target=\"_blank\" href=\"https://shebanq.ancient-data.org/hebrew/word?version=c&id=1ZKRin\" title=\"show this lexeme in SHEBANQ\">זָכָ֖ר </a></div>\n",
       "<div class=\"features\"> <span class=\"pdp\"><a href=\"https://shebanq.ancient-data.org/hebrew/text?book=Numeri&chapter=31&verse=17&version=c&mr=m&qw=q&tp=txt_p&tr=hb&wget=v&qget=v&nget=vt\" title=\"Numbers 31:17\" sec=\"Numbers 31:17\">subs</a></span> <span class=\"gloss\">male</span></div>\n",
       "\n",
       "\n",
       "</div>\n",
       "\n",
       "\n",
       "    </div>\n",
       "\n",
       "\n",
       "</div>\n",
       "\n",
       "<div class=\"patom  r hl\" >\n",
       "\n",
       "    <div class=\"phrase hl\" >\n",
       "        <a href=\"https://shebanq.ancient-data.org/hebrew/text?book=Numeri&chapter=31&verse=17&version=c&mr=m&qw=q&tp=txt_p&tr=hb&wget=v&qget=v&nget=vt\" title=\"Numbers 31:17\" sec=\"Numbers 31:17\">phrase</a> <a href=\"#\" class=\"nd\">702338</a>  <span class=\"function\">Objc</span> <span class=\"typ\">NP|PP</span>\n",
       "    </div>\n",
       "    <div class=\"atoms\">\n",
       "\n",
       "<div class=\"word  \" >\n",
       "<a href=\"#\" class=\"nd\">89194</a>\n",
       "<div class=\"h\"><a target=\"_blank\" href=\"https://shebanq.ancient-data.org/hebrew/word?version=c&id=1B\" title=\"show this lexeme in SHEBANQ\">בַּ</a></div>\n",
       "<div class=\"features\"> <span class=\"pdp\"><a href=\"https://shebanq.ancient-data.org/hebrew/text?book=Numeri&chapter=31&verse=17&version=c&mr=m&qw=q&tp=txt_p&tr=hb&wget=v&qget=v&nget=vt\" title=\"Numbers 31:17\" sec=\"Numbers 31:17\">prep</a></span> <span class=\"gloss\">in</span></div>\n",
       "\n",
       "\n",
       "</div>\n",
       "\n",
       "<div class=\"word  \" >\n",
       "<a href=\"#\" class=\"nd\">89195</a>\n",
       "<div class=\"h\"><a target=\"_blank\" href=\"https://shebanq.ancient-data.org/hebrew/word?version=c&id=1H\" title=\"show this lexeme in SHEBANQ\"></a></div>\n",
       "<div class=\"features\"> <span class=\"pdp\"><a href=\"https://shebanq.ancient-data.org/hebrew/text?book=Numeri&chapter=31&verse=17&version=c&mr=m&qw=q&tp=txt_p&tr=hb&wget=v&qget=v&nget=vt\" title=\"Numbers 31:17\" sec=\"Numbers 31:17\">art</a></span> <span class=\"gloss\">the</span></div>\n",
       "\n",
       "\n",
       "</div>\n",
       "\n",
       "<div class=\"word  \" >\n",
       "<a href=\"#\" class=\"nd\">89196</a>\n",
       "<div class=\"h\"><a target=\"_blank\" href=\"https://shebanq.ancient-data.org/hebrew/word?version=c&id=1VPn\" title=\"show this lexeme in SHEBANQ\">טָּ֑ף </a></div>\n",
       "<div class=\"features\"> <span class=\"pdp\"><a href=\"https://shebanq.ancient-data.org/hebrew/text?book=Numeri&chapter=31&verse=17&version=c&mr=m&qw=q&tp=txt_p&tr=hb&wget=v&qget=v&nget=vt\" title=\"Numbers 31:17\" sec=\"Numbers 31:17\">subs</a></span> <span class=\"gloss\">&lt;those unable to march></span></div>\n",
       "\n",
       "\n",
       "</div>\n",
       "\n",
       "\n",
       "    </div>\n",
       "\n",
       "\n",
       "</div>\n",
       "\n",
       "\n",
       "    </div>\n",
       "\n",
       "\n",
       "</div>\n",
       "\n",
       "\n",
       "</div>\n"
      ],
      "text/plain": [
       "<IPython.core.display.HTML object>"
      ]
     },
     "metadata": {},
     "output_type": "display_data"
    },
    {
     "name": "stdout",
     "output_type": "stream",
     "text": [
      "Num 31:17\n",
      "v1 issue: missing זָכָ֖ר after כֹּל\n",
      "v2 update: fixed\n"
     ]
    },
    {
     "data": {
      "text/markdown": [
       "\n",
       "\n",
       "**Result** *Ku Eval 4*\n",
       "\n"
      ],
      "text/plain": [
       "<IPython.core.display.Markdown object>"
      ]
     },
     "metadata": {},
     "output_type": "display_data"
    },
    {
     "data": {
      "text/html": [
       "<a href=\"https://shebanq.ancient-data.org/hebrew/text?book=Numeri&chapter=31&verse=17&version=c&mr=m&qw=q&tp=txt_p&tr=hb&wget=v&qget=v&nget=vt\" title=\"show this passage in SHEBANQ\" sec=\"Numbers 31:17\">Numbers 31:17</a>\n",
       "<div class=\"atoms  \" >\n",
       "<a href=\"#\" class=\"nd\">444295</a>\n",
       "\n",
       "\n",
       "\n",
       "<div class=\"catom  l \" >\n",
       "\n",
       "    <div class=\"clause \" >\n",
       "        <a href=\"https://shebanq.ancient-data.org/hebrew/text?book=Numeri&chapter=31&verse=17&version=c&mr=m&qw=q&tp=txt_p&tr=hb&wget=v&qget=v&nget=vt\" title=\"Numbers 31:17\" sec=\"Numbers 31:17\">clause</a> <a href=\"#\" class=\"nd\">444295</a>  <span class=\"typ\">WxI0|Defc</span>\n",
       "    </div>\n",
       "    <div class=\"atoms\">\n",
       "\n",
       "<div class=\"patom  \" >\n",
       "\n",
       "    <div class=\"phrase \" >\n",
       "        <a href=\"https://shebanq.ancient-data.org/hebrew/text?book=Numeri&chapter=31&verse=17&version=c&mr=m&qw=q&tp=txt_p&tr=hb&wget=v&qget=v&nget=vt\" title=\"Numbers 31:17\" sec=\"Numbers 31:17\">phrase</a> <a href=\"#\" class=\"nd\">702339</a>  <span class=\"function\">Conj</span> <span class=\"typ\">CP</span>\n",
       "    </div>\n",
       "    <div class=\"atoms\">\n",
       "\n",
       "<div class=\"word  \" >\n",
       "<a href=\"#\" class=\"nd\">89197</a>\n",
       "<div class=\"h\"><a target=\"_blank\" href=\"https://shebanq.ancient-data.org/hebrew/word?version=c&id=1W\" title=\"show this lexeme in SHEBANQ\">וְ</a></div>\n",
       "<div class=\"features\"> <span class=\"pdp\"><a href=\"https://shebanq.ancient-data.org/hebrew/text?book=Numeri&chapter=31&verse=17&version=c&mr=m&qw=q&tp=txt_p&tr=hb&wget=v&qget=v&nget=vt\" title=\"Numbers 31:17\" sec=\"Numbers 31:17\">conj</a></span> <span class=\"gloss\">and</span></div>\n",
       "\n",
       "\n",
       "</div>\n",
       "\n",
       "\n",
       "    </div>\n",
       "\n",
       "\n",
       "</div>\n",
       "\n",
       "<div class=\"patom  hl\" >\n",
       "\n",
       "    <div class=\"phrase hl\" >\n",
       "        <a href=\"https://shebanq.ancient-data.org/hebrew/text?book=Numeri&chapter=31&verse=17&version=c&mr=m&qw=q&tp=txt_p&tr=hb&wget=v&qget=v&nget=vt\" title=\"Numbers 31:17\" sec=\"Numbers 31:17\">phrase</a> <a href=\"#\" class=\"nd\">702340</a>  <span class=\"function\">Objc</span> <span class=\"typ\">NP</span>\n",
       "    </div>\n",
       "    <div class=\"atoms\">\n",
       "\n",
       "<div class=\"word  \" >\n",
       "<a href=\"#\" class=\"nd\">89198</a>\n",
       "<div class=\"h\"><a target=\"_blank\" href=\"https://shebanq.ancient-data.org/hebrew/word?version=c&id=1KLn\" title=\"show this lexeme in SHEBANQ\">כָל־</a></div>\n",
       "<div class=\"features\"> <span class=\"pdp\"><a href=\"https://shebanq.ancient-data.org/hebrew/text?book=Numeri&chapter=31&verse=17&version=c&mr=m&qw=q&tp=txt_p&tr=hb&wget=v&qget=v&nget=vt\" title=\"Numbers 31:17\" sec=\"Numbers 31:17\">subs</a></span> <span class=\"gloss\">whole</span></div>\n",
       "\n",
       "\n",
       "</div>\n",
       "\n",
       "<div class=\"word  hl\" >\n",
       "<a href=\"#\" class=\"nd\">89199</a>\n",
       "<div class=\"h\"><a target=\"_blank\" href=\"https://shebanq.ancient-data.org/hebrew/word?version=c&id=1ACHn\" title=\"show this lexeme in SHEBANQ\">אִשָּׁ֗ה </a></div>\n",
       "<div class=\"features\"> <span class=\"pdp\"><a href=\"https://shebanq.ancient-data.org/hebrew/text?book=Numeri&chapter=31&verse=17&version=c&mr=m&qw=q&tp=txt_p&tr=hb&wget=v&qget=v&nget=vt\" title=\"Numbers 31:17\" sec=\"Numbers 31:17\">subs</a></span> <span class=\"gloss\">woman</span></div>\n",
       "\n",
       "\n",
       "</div>\n",
       "\n",
       "\n",
       "    </div>\n",
       "\n",
       "\n",
       "</div>\n",
       "\n",
       "\n",
       "    </div>\n",
       "\n",
       "\n",
       "</div>\n",
       "\n",
       "<div class=\"catom  r \" >\n",
       "\n",
       "    <div class=\"clause \" >\n",
       "        <a href=\"https://shebanq.ancient-data.org/hebrew/text?book=Numeri&chapter=31&verse=17&version=c&mr=m&qw=q&tp=txt_p&tr=hb&wget=v&qget=v&nget=vt\" title=\"Numbers 31:17\" sec=\"Numbers 31:17\">clause</a> <a href=\"#\" class=\"nd\">444295</a>  <span class=\"typ\">WxI0|ZIm0</span>\n",
       "    </div>\n",
       "    <div class=\"atoms\">\n",
       "\n",
       "<div class=\"patom  \" >\n",
       "\n",
       "    <div class=\"phrase \" >\n",
       "        <a href=\"https://shebanq.ancient-data.org/hebrew/text?book=Numeri&chapter=31&verse=17&version=c&mr=m&qw=q&tp=txt_p&tr=hb&wget=v&qget=v&nget=vt\" title=\"Numbers 31:17\" sec=\"Numbers 31:17\">phrase</a> <a href=\"#\" class=\"nd\">702344</a>  <span class=\"function\">Pred</span> <span class=\"typ\">VP</span>\n",
       "    </div>\n",
       "    <div class=\"atoms\">\n",
       "\n",
       "<div class=\"word  \" >\n",
       "<a href=\"#\" class=\"nd\">89205</a>\n",
       "<div class=\"h\"><a target=\"_blank\" href=\"https://shebanq.ancient-data.org/hebrew/word?version=c&id=1HRGv\" title=\"show this lexeme in SHEBANQ\">הֲרֹֽגוּ׃ </a></div>\n",
       "<div class=\"features\"> <span class=\"pdp\"><a href=\"https://shebanq.ancient-data.org/hebrew/text?book=Numeri&chapter=31&verse=17&version=c&mr=m&qw=q&tp=txt_p&tr=hb&wget=v&qget=v&nget=vt\" title=\"Numbers 31:17\" sec=\"Numbers 31:17\">verb</a></span> <span class=\"gloss\">kill</span> <span class=\"vs\">qal</span> <span class=\"vt\">impv</span></div>\n",
       "\n",
       "\n",
       "</div>\n",
       "\n",
       "\n",
       "    </div>\n",
       "\n",
       "\n",
       "</div>\n",
       "\n",
       "\n",
       "    </div>\n",
       "\n",
       "\n",
       "</div>\n",
       "\n",
       "\n",
       "</div>\n"
      ],
      "text/plain": [
       "<IPython.core.display.HTML object>"
      ]
     },
     "metadata": {},
     "output_type": "display_data"
    },
    {
     "name": "stdout",
     "output_type": "stream",
     "text": [
      "Num 31:17\n",
      "v1 issue: missing כֹּל before אִשָּׁה\n",
      "v2 update: fixed\n"
     ]
    },
    {
     "data": {
      "text/markdown": [
       "\n",
       "\n",
       "**Result** *Ku Eval 5*\n",
       "\n"
      ],
      "text/plain": [
       "<IPython.core.display.Markdown object>"
      ]
     },
     "metadata": {},
     "output_type": "display_data"
    },
    {
     "data": {
      "text/html": [
       "<a href=\"https://shebanq.ancient-data.org/hebrew/text?book=Numeri&chapter=31&verse=17&version=c&mr=m&qw=q&tp=txt_p&tr=hb&wget=v&qget=v&nget=vt\" title=\"show this passage in SHEBANQ\" sec=\"Numbers 31:17\">Numbers 31:17</a>\n",
       "<div class=\"atoms  \" >\n",
       "<a href=\"#\" class=\"nd\">444294</a>\n",
       "\n",
       "\n",
       "\n",
       "<div class=\"catom  \" >\n",
       "\n",
       "    <div class=\"clause \" >\n",
       "        <a href=\"https://shebanq.ancient-data.org/hebrew/text?book=Numeri&chapter=31&verse=17&version=c&mr=m&qw=q&tp=txt_p&tr=hb&wget=v&qget=v&nget=vt\" title=\"Numbers 31:17\" sec=\"Numbers 31:17\">clause</a> <a href=\"#\" class=\"nd\">444294</a>  <span class=\"typ\">ZIm0</span>\n",
       "    </div>\n",
       "    <div class=\"atoms\">\n",
       "\n",
       "<div class=\"patom  \" >\n",
       "\n",
       "    <div class=\"phrase \" >\n",
       "        <a href=\"https://shebanq.ancient-data.org/hebrew/text?book=Numeri&chapter=31&verse=17&version=c&mr=m&qw=q&tp=txt_p&tr=hb&wget=v&qget=v&nget=vt\" title=\"Numbers 31:17\" sec=\"Numbers 31:17\">phrase</a> <a href=\"#\" class=\"nd\">702337</a>  <span class=\"function\">Pred</span> <span class=\"typ\">VP</span>\n",
       "    </div>\n",
       "    <div class=\"atoms\">\n",
       "\n",
       "<div class=\"word  \" >\n",
       "<a href=\"#\" class=\"nd\">89191</a>\n",
       "<div class=\"h\"><a target=\"_blank\" href=\"https://shebanq.ancient-data.org/hebrew/word?version=c&id=1HRGv\" title=\"show this lexeme in SHEBANQ\">הִרְג֥וּ </a></div>\n",
       "<div class=\"features\"> <span class=\"pdp\"><a href=\"https://shebanq.ancient-data.org/hebrew/text?book=Numeri&chapter=31&verse=17&version=c&mr=m&qw=q&tp=txt_p&tr=hb&wget=v&qget=v&nget=vt\" title=\"Numbers 31:17\" sec=\"Numbers 31:17\">verb</a></span> <span class=\"gloss\">kill</span> <span class=\"vs\">qal</span> <span class=\"vt\">impv</span></div>\n",
       "\n",
       "\n",
       "</div>\n",
       "\n",
       "\n",
       "    </div>\n",
       "\n",
       "\n",
       "</div>\n",
       "\n",
       "<div class=\"patom  l hl\" >\n",
       "\n",
       "    <div class=\"phrase hl\" >\n",
       "        <a href=\"https://shebanq.ancient-data.org/hebrew/text?book=Numeri&chapter=31&verse=17&version=c&mr=m&qw=q&tp=txt_p&tr=hb&wget=v&qget=v&nget=vt\" title=\"Numbers 31:17\" sec=\"Numbers 31:17\">phrase</a> <a href=\"#\" class=\"nd\">702338</a>  <span class=\"function\">Objc</span> <span class=\"typ\">NP</span>\n",
       "    </div>\n",
       "    <div class=\"atoms\">\n",
       "\n",
       "<div class=\"word  \" >\n",
       "<a href=\"#\" class=\"nd\">89192</a>\n",
       "<div class=\"h\"><a target=\"_blank\" href=\"https://shebanq.ancient-data.org/hebrew/word?version=c&id=1KLn\" title=\"show this lexeme in SHEBANQ\">כָל־</a></div>\n",
       "<div class=\"features\"> <span class=\"pdp\"><a href=\"https://shebanq.ancient-data.org/hebrew/text?book=Numeri&chapter=31&verse=17&version=c&mr=m&qw=q&tp=txt_p&tr=hb&wget=v&qget=v&nget=vt\" title=\"Numbers 31:17\" sec=\"Numbers 31:17\">subs</a></span> <span class=\"gloss\">whole</span></div>\n",
       "\n",
       "\n",
       "</div>\n",
       "\n",
       "<div class=\"word  hl\" >\n",
       "<a href=\"#\" class=\"nd\">89193</a>\n",
       "<div class=\"h\"><a target=\"_blank\" href=\"https://shebanq.ancient-data.org/hebrew/word?version=c&id=1ZKRin\" title=\"show this lexeme in SHEBANQ\">זָכָ֖ר </a></div>\n",
       "<div class=\"features\"> <span class=\"pdp\"><a href=\"https://shebanq.ancient-data.org/hebrew/text?book=Numeri&chapter=31&verse=17&version=c&mr=m&qw=q&tp=txt_p&tr=hb&wget=v&qget=v&nget=vt\" title=\"Numbers 31:17\" sec=\"Numbers 31:17\">subs</a></span> <span class=\"gloss\">male</span></div>\n",
       "\n",
       "\n",
       "</div>\n",
       "\n",
       "\n",
       "    </div>\n",
       "\n",
       "\n",
       "</div>\n",
       "\n",
       "<div class=\"patom  r hl\" >\n",
       "\n",
       "    <div class=\"phrase hl\" >\n",
       "        <a href=\"https://shebanq.ancient-data.org/hebrew/text?book=Numeri&chapter=31&verse=17&version=c&mr=m&qw=q&tp=txt_p&tr=hb&wget=v&qget=v&nget=vt\" title=\"Numbers 31:17\" sec=\"Numbers 31:17\">phrase</a> <a href=\"#\" class=\"nd\">702338</a>  <span class=\"function\">Objc</span> <span class=\"typ\">NP|PP</span>\n",
       "    </div>\n",
       "    <div class=\"atoms\">\n",
       "\n",
       "<div class=\"word  \" >\n",
       "<a href=\"#\" class=\"nd\">89194</a>\n",
       "<div class=\"h\"><a target=\"_blank\" href=\"https://shebanq.ancient-data.org/hebrew/word?version=c&id=1B\" title=\"show this lexeme in SHEBANQ\">בַּ</a></div>\n",
       "<div class=\"features\"> <span class=\"pdp\"><a href=\"https://shebanq.ancient-data.org/hebrew/text?book=Numeri&chapter=31&verse=17&version=c&mr=m&qw=q&tp=txt_p&tr=hb&wget=v&qget=v&nget=vt\" title=\"Numbers 31:17\" sec=\"Numbers 31:17\">prep</a></span> <span class=\"gloss\">in</span></div>\n",
       "\n",
       "\n",
       "</div>\n",
       "\n",
       "<div class=\"word  \" >\n",
       "<a href=\"#\" class=\"nd\">89195</a>\n",
       "<div class=\"h\"><a target=\"_blank\" href=\"https://shebanq.ancient-data.org/hebrew/word?version=c&id=1H\" title=\"show this lexeme in SHEBANQ\"></a></div>\n",
       "<div class=\"features\"> <span class=\"pdp\"><a href=\"https://shebanq.ancient-data.org/hebrew/text?book=Numeri&chapter=31&verse=17&version=c&mr=m&qw=q&tp=txt_p&tr=hb&wget=v&qget=v&nget=vt\" title=\"Numbers 31:17\" sec=\"Numbers 31:17\">art</a></span> <span class=\"gloss\">the</span></div>\n",
       "\n",
       "\n",
       "</div>\n",
       "\n",
       "<div class=\"word  \" >\n",
       "<a href=\"#\" class=\"nd\">89196</a>\n",
       "<div class=\"h\"><a target=\"_blank\" href=\"https://shebanq.ancient-data.org/hebrew/word?version=c&id=1VPn\" title=\"show this lexeme in SHEBANQ\">טָּ֑ף </a></div>\n",
       "<div class=\"features\"> <span class=\"pdp\"><a href=\"https://shebanq.ancient-data.org/hebrew/text?book=Numeri&chapter=31&verse=17&version=c&mr=m&qw=q&tp=txt_p&tr=hb&wget=v&qget=v&nget=vt\" title=\"Numbers 31:17\" sec=\"Numbers 31:17\">subs</a></span> <span class=\"gloss\">&lt;those unable to march></span></div>\n",
       "\n",
       "\n",
       "</div>\n",
       "\n",
       "\n",
       "    </div>\n",
       "\n",
       "\n",
       "</div>\n",
       "\n",
       "\n",
       "    </div>\n",
       "\n",
       "\n",
       "</div>\n",
       "\n",
       "\n",
       "</div>\n"
      ],
      "text/plain": [
       "<IPython.core.display.HTML object>"
      ]
     },
     "metadata": {},
     "output_type": "display_data"
    },
    {
     "name": "stdout",
     "output_type": "stream",
     "text": [
      "Num 31:17\n",
      "v1 issue: missing כֹּל before אִשָּׁה\n",
      "v2 update: fixed\n"
     ]
    },
    {
     "data": {
      "text/markdown": [
       "\n",
       "\n",
       "**Result** *Ku Eval 5*\n",
       "\n"
      ],
      "text/plain": [
       "<IPython.core.display.Markdown object>"
      ]
     },
     "metadata": {},
     "output_type": "display_data"
    },
    {
     "data": {
      "text/html": [
       "<a href=\"https://shebanq.ancient-data.org/hebrew/text?book=Numeri&chapter=31&verse=17&version=c&mr=m&qw=q&tp=txt_p&tr=hb&wget=v&qget=v&nget=vt\" title=\"show this passage in SHEBANQ\" sec=\"Numbers 31:17\">Numbers 31:17</a>\n",
       "<div class=\"atoms  \" >\n",
       "<a href=\"#\" class=\"nd\">444295</a>\n",
       "\n",
       "\n",
       "\n",
       "<div class=\"catom  l \" >\n",
       "\n",
       "    <div class=\"clause \" >\n",
       "        <a href=\"https://shebanq.ancient-data.org/hebrew/text?book=Numeri&chapter=31&verse=17&version=c&mr=m&qw=q&tp=txt_p&tr=hb&wget=v&qget=v&nget=vt\" title=\"Numbers 31:17\" sec=\"Numbers 31:17\">clause</a> <a href=\"#\" class=\"nd\">444295</a>  <span class=\"typ\">WxI0|Defc</span>\n",
       "    </div>\n",
       "    <div class=\"atoms\">\n",
       "\n",
       "<div class=\"patom  \" >\n",
       "\n",
       "    <div class=\"phrase \" >\n",
       "        <a href=\"https://shebanq.ancient-data.org/hebrew/text?book=Numeri&chapter=31&verse=17&version=c&mr=m&qw=q&tp=txt_p&tr=hb&wget=v&qget=v&nget=vt\" title=\"Numbers 31:17\" sec=\"Numbers 31:17\">phrase</a> <a href=\"#\" class=\"nd\">702339</a>  <span class=\"function\">Conj</span> <span class=\"typ\">CP</span>\n",
       "    </div>\n",
       "    <div class=\"atoms\">\n",
       "\n",
       "<div class=\"word  \" >\n",
       "<a href=\"#\" class=\"nd\">89197</a>\n",
       "<div class=\"h\"><a target=\"_blank\" href=\"https://shebanq.ancient-data.org/hebrew/word?version=c&id=1W\" title=\"show this lexeme in SHEBANQ\">וְ</a></div>\n",
       "<div class=\"features\"> <span class=\"pdp\"><a href=\"https://shebanq.ancient-data.org/hebrew/text?book=Numeri&chapter=31&verse=17&version=c&mr=m&qw=q&tp=txt_p&tr=hb&wget=v&qget=v&nget=vt\" title=\"Numbers 31:17\" sec=\"Numbers 31:17\">conj</a></span> <span class=\"gloss\">and</span></div>\n",
       "\n",
       "\n",
       "</div>\n",
       "\n",
       "\n",
       "    </div>\n",
       "\n",
       "\n",
       "</div>\n",
       "\n",
       "<div class=\"patom  hl\" >\n",
       "\n",
       "    <div class=\"phrase hl\" >\n",
       "        <a href=\"https://shebanq.ancient-data.org/hebrew/text?book=Numeri&chapter=31&verse=17&version=c&mr=m&qw=q&tp=txt_p&tr=hb&wget=v&qget=v&nget=vt\" title=\"Numbers 31:17\" sec=\"Numbers 31:17\">phrase</a> <a href=\"#\" class=\"nd\">702340</a>  <span class=\"function\">Objc</span> <span class=\"typ\">NP</span>\n",
       "    </div>\n",
       "    <div class=\"atoms\">\n",
       "\n",
       "<div class=\"word  \" >\n",
       "<a href=\"#\" class=\"nd\">89198</a>\n",
       "<div class=\"h\"><a target=\"_blank\" href=\"https://shebanq.ancient-data.org/hebrew/word?version=c&id=1KLn\" title=\"show this lexeme in SHEBANQ\">כָל־</a></div>\n",
       "<div class=\"features\"> <span class=\"pdp\"><a href=\"https://shebanq.ancient-data.org/hebrew/text?book=Numeri&chapter=31&verse=17&version=c&mr=m&qw=q&tp=txt_p&tr=hb&wget=v&qget=v&nget=vt\" title=\"Numbers 31:17\" sec=\"Numbers 31:17\">subs</a></span> <span class=\"gloss\">whole</span></div>\n",
       "\n",
       "\n",
       "</div>\n",
       "\n",
       "<div class=\"word  hl\" >\n",
       "<a href=\"#\" class=\"nd\">89199</a>\n",
       "<div class=\"h\"><a target=\"_blank\" href=\"https://shebanq.ancient-data.org/hebrew/word?version=c&id=1ACHn\" title=\"show this lexeme in SHEBANQ\">אִשָּׁ֗ה </a></div>\n",
       "<div class=\"features\"> <span class=\"pdp\"><a href=\"https://shebanq.ancient-data.org/hebrew/text?book=Numeri&chapter=31&verse=17&version=c&mr=m&qw=q&tp=txt_p&tr=hb&wget=v&qget=v&nget=vt\" title=\"Numbers 31:17\" sec=\"Numbers 31:17\">subs</a></span> <span class=\"gloss\">woman</span></div>\n",
       "\n",
       "\n",
       "</div>\n",
       "\n",
       "\n",
       "    </div>\n",
       "\n",
       "\n",
       "</div>\n",
       "\n",
       "\n",
       "    </div>\n",
       "\n",
       "\n",
       "</div>\n",
       "\n",
       "<div class=\"catom  r \" >\n",
       "\n",
       "    <div class=\"clause \" >\n",
       "        <a href=\"https://shebanq.ancient-data.org/hebrew/text?book=Numeri&chapter=31&verse=17&version=c&mr=m&qw=q&tp=txt_p&tr=hb&wget=v&qget=v&nget=vt\" title=\"Numbers 31:17\" sec=\"Numbers 31:17\">clause</a> <a href=\"#\" class=\"nd\">444295</a>  <span class=\"typ\">WxI0|ZIm0</span>\n",
       "    </div>\n",
       "    <div class=\"atoms\">\n",
       "\n",
       "<div class=\"patom  \" >\n",
       "\n",
       "    <div class=\"phrase \" >\n",
       "        <a href=\"https://shebanq.ancient-data.org/hebrew/text?book=Numeri&chapter=31&verse=17&version=c&mr=m&qw=q&tp=txt_p&tr=hb&wget=v&qget=v&nget=vt\" title=\"Numbers 31:17\" sec=\"Numbers 31:17\">phrase</a> <a href=\"#\" class=\"nd\">702344</a>  <span class=\"function\">Pred</span> <span class=\"typ\">VP</span>\n",
       "    </div>\n",
       "    <div class=\"atoms\">\n",
       "\n",
       "<div class=\"word  \" >\n",
       "<a href=\"#\" class=\"nd\">89205</a>\n",
       "<div class=\"h\"><a target=\"_blank\" href=\"https://shebanq.ancient-data.org/hebrew/word?version=c&id=1HRGv\" title=\"show this lexeme in SHEBANQ\">הֲרֹֽגוּ׃ </a></div>\n",
       "<div class=\"features\"> <span class=\"pdp\"><a href=\"https://shebanq.ancient-data.org/hebrew/text?book=Numeri&chapter=31&verse=17&version=c&mr=m&qw=q&tp=txt_p&tr=hb&wget=v&qget=v&nget=vt\" title=\"Numbers 31:17\" sec=\"Numbers 31:17\">verb</a></span> <span class=\"gloss\">kill</span> <span class=\"vs\">qal</span> <span class=\"vt\">impv</span></div>\n",
       "\n",
       "\n",
       "</div>\n",
       "\n",
       "\n",
       "    </div>\n",
       "\n",
       "\n",
       "</div>\n",
       "\n",
       "\n",
       "    </div>\n",
       "\n",
       "\n",
       "</div>\n",
       "\n",
       "\n",
       "</div>\n"
      ],
      "text/plain": [
       "<IPython.core.display.HTML object>"
      ]
     },
     "metadata": {},
     "output_type": "display_data"
    },
    {
     "name": "stdout",
     "output_type": "stream",
     "text": [
      "Deut 25:18\n",
      "v1 issue: missing חשׁל after כֹּל\n",
      "v2 update: not yet going out of clause boundaries\n"
     ]
    },
    {
     "data": {
      "text/markdown": [
       "\n",
       "\n",
       "**Result** *Ku Eval 6*\n",
       "\n"
      ],
      "text/plain": [
       "<IPython.core.display.Markdown object>"
      ]
     },
     "metadata": {},
     "output_type": "display_data"
    },
    {
     "data": {
      "text/html": [
       "<a href=\"https://shebanq.ancient-data.org/hebrew/text?book=Deuteronomium&chapter=25&verse=18&version=c&mr=m&qw=q&tp=txt_p&tr=hb&wget=v&qget=v&nget=vt\" title=\"show this passage in SHEBANQ\" sec=\"Deuteronomy 25:18\">Deuteronomy 25:18</a>\n",
       "<div class=\"atoms  \" >\n",
       "<a href=\"#\" class=\"nd\">447578</a>\n",
       "\n",
       "\n",
       "\n",
       "<div class=\"catom  \" >\n",
       "\n",
       "    <div class=\"clause \" >\n",
       "        <a href=\"https://shebanq.ancient-data.org/hebrew/text?book=Deuteronomium&chapter=25&verse=18&version=c&mr=m&qw=q&tp=txt_p&tr=hb&wget=v&qget=v&nget=vt\" title=\"Deuteronomy 25:18\" sec=\"Deuteronomy 25:18\">clause</a> <a href=\"#\" class=\"nd\">447578</a>  <span class=\"rela\">Coor</span> <span class=\"typ\">Way0</span>\n",
       "    </div>\n",
       "    <div class=\"atoms\">\n",
       "\n",
       "<div class=\"patom  \" >\n",
       "\n",
       "    <div class=\"phrase \" >\n",
       "        <a href=\"https://shebanq.ancient-data.org/hebrew/text?book=Deuteronomium&chapter=25&verse=18&version=c&mr=m&qw=q&tp=txt_p&tr=hb&wget=v&qget=v&nget=vt\" title=\"Deuteronomy 25:18\" sec=\"Deuteronomy 25:18\">phrase</a> <a href=\"#\" class=\"nd\">712409</a>  <span class=\"function\">Conj</span> <span class=\"typ\">CP</span>\n",
       "    </div>\n",
       "    <div class=\"atoms\">\n",
       "\n",
       "<div class=\"word  \" >\n",
       "<a href=\"#\" class=\"nd\">107109</a>\n",
       "<div class=\"h\"><a target=\"_blank\" href=\"https://shebanq.ancient-data.org/hebrew/word?version=c&id=1W\" title=\"show this lexeme in SHEBANQ\">וַ</a></div>\n",
       "<div class=\"features\"> <span class=\"pdp\"><a href=\"https://shebanq.ancient-data.org/hebrew/text?book=Deuteronomium&chapter=25&verse=18&version=c&mr=m&qw=q&tp=txt_p&tr=hb&wget=v&qget=v&nget=vt\" title=\"Deuteronomy 25:18\" sec=\"Deuteronomy 25:18\">conj</a></span> <span class=\"gloss\">and</span></div>\n",
       "\n",
       "\n",
       "</div>\n",
       "\n",
       "\n",
       "    </div>\n",
       "\n",
       "\n",
       "</div>\n",
       "\n",
       "<div class=\"patom  \" >\n",
       "\n",
       "    <div class=\"phrase \" >\n",
       "        <a href=\"https://shebanq.ancient-data.org/hebrew/text?book=Deuteronomium&chapter=25&verse=18&version=c&mr=m&qw=q&tp=txt_p&tr=hb&wget=v&qget=v&nget=vt\" title=\"Deuteronomy 25:18\" sec=\"Deuteronomy 25:18\">phrase</a> <a href=\"#\" class=\"nd\">712410</a>  <span class=\"function\">Pred</span> <span class=\"typ\">VP</span>\n",
       "    </div>\n",
       "    <div class=\"atoms\">\n",
       "\n",
       "<div class=\"word  \" >\n",
       "<a href=\"#\" class=\"nd\">107110</a>\n",
       "<div class=\"h\"><a target=\"_blank\" href=\"https://shebanq.ancient-data.org/hebrew/word?version=c&id=1ZNBv\" title=\"show this lexeme in SHEBANQ\">יְזַנֵּ֤ב </a></div>\n",
       "<div class=\"features\"> <span class=\"pdp\"><a href=\"https://shebanq.ancient-data.org/hebrew/text?book=Deuteronomium&chapter=25&verse=18&version=c&mr=m&qw=q&tp=txt_p&tr=hb&wget=v&qget=v&nget=vt\" title=\"Deuteronomy 25:18\" sec=\"Deuteronomy 25:18\">verb</a></span> <span class=\"gloss\">cut off</span> <span class=\"vs\">piel</span> <span class=\"vt\">wayq</span></div>\n",
       "\n",
       "\n",
       "</div>\n",
       "\n",
       "\n",
       "    </div>\n",
       "\n",
       "\n",
       "</div>\n",
       "\n",
       "<div class=\"patom  \" >\n",
       "\n",
       "    <div class=\"phrase \" >\n",
       "        <a href=\"https://shebanq.ancient-data.org/hebrew/text?book=Deuteronomium&chapter=25&verse=18&version=c&mr=m&qw=q&tp=txt_p&tr=hb&wget=v&qget=v&nget=vt\" title=\"Deuteronomy 25:18\" sec=\"Deuteronomy 25:18\">phrase</a> <a href=\"#\" class=\"nd\">712411</a>  <span class=\"function\">Cmpl</span> <span class=\"typ\">PP</span>\n",
       "    </div>\n",
       "    <div class=\"atoms\">\n",
       "\n",
       "<div class=\"word  \" >\n",
       "<a href=\"#\" class=\"nd\">107111</a>\n",
       "<div class=\"h\"><a target=\"_blank\" href=\"https://shebanq.ancient-data.org/hebrew/word?version=c&id=1B\" title=\"show this lexeme in SHEBANQ\">בְּךָ֙ </a></div>\n",
       "<div class=\"features\"> <span class=\"pdp\"><a href=\"https://shebanq.ancient-data.org/hebrew/text?book=Deuteronomium&chapter=25&verse=18&version=c&mr=m&qw=q&tp=txt_p&tr=hb&wget=v&qget=v&nget=vt\" title=\"Deuteronomy 25:18\" sec=\"Deuteronomy 25:18\">prep</a></span> <span class=\"gloss\">in</span></div>\n",
       "\n",
       "\n",
       "</div>\n",
       "\n",
       "\n",
       "    </div>\n",
       "\n",
       "\n",
       "</div>\n",
       "\n",
       "<div class=\"patom  hl\" >\n",
       "\n",
       "    <div class=\"phrase hl\" >\n",
       "        <a href=\"https://shebanq.ancient-data.org/hebrew/text?book=Deuteronomium&chapter=25&verse=18&version=c&mr=m&qw=q&tp=txt_p&tr=hb&wget=v&qget=v&nget=vt\" title=\"Deuteronomy 25:18\" sec=\"Deuteronomy 25:18\">phrase</a> <a href=\"#\" class=\"nd\">712412</a>  <span class=\"function\">Objc</span> <span class=\"typ\">NP</span>\n",
       "    </div>\n",
       "    <div class=\"atoms\">\n",
       "\n",
       "<div class=\"word  hl\" >\n",
       "<a href=\"#\" class=\"nd\">107112</a>\n",
       "<div class=\"h\"><a target=\"_blank\" href=\"https://shebanq.ancient-data.org/hebrew/word?version=c&id=1KLn\" title=\"show this lexeme in SHEBANQ\">כָּל־</a></div>\n",
       "<div class=\"features\"> <span class=\"pdp\"><a href=\"https://shebanq.ancient-data.org/hebrew/text?book=Deuteronomium&chapter=25&verse=18&version=c&mr=m&qw=q&tp=txt_p&tr=hb&wget=v&qget=v&nget=vt\" title=\"Deuteronomy 25:18\" sec=\"Deuteronomy 25:18\">subs</a></span> <span class=\"gloss\">whole</span></div>\n",
       "\n",
       "\n",
       "</div>\n",
       "\n",
       "\n",
       "    </div>\n",
       "\n",
       "\n",
       "</div>\n",
       "\n",
       "\n",
       "    </div>\n",
       "\n",
       "\n",
       "</div>\n",
       "\n",
       "\n",
       "</div>\n"
      ],
      "text/plain": [
       "<IPython.core.display.HTML object>"
      ]
     },
     "metadata": {},
     "output_type": "display_data"
    },
    {
     "name": "stdout",
     "output_type": "stream",
     "text": [
      "Judg 13:4\n",
      "v1 issue: missing טָמֵֽא after כֹּל\n",
      "v2 update: fixed\n"
     ]
    },
    {
     "data": {
      "text/markdown": [
       "\n",
       "\n",
       "**Result** *Ku Eval 7*\n",
       "\n"
      ],
      "text/plain": [
       "<IPython.core.display.Markdown object>"
      ]
     },
     "metadata": {},
     "output_type": "display_data"
    },
    {
     "data": {
      "text/html": [
       "<a href=\"https://shebanq.ancient-data.org/hebrew/text?book=Judices&chapter=13&verse=4&version=c&mr=m&qw=q&tp=txt_p&tr=hb&wget=v&qget=v&nget=vt\" title=\"show this passage in SHEBANQ\" sec=\"Judges 13:4\">Judges 13:4</a>\n",
       "<div class=\"atoms  \" >\n",
       "<a href=\"#\" class=\"nd\">452736</a>\n",
       "\n",
       "\n",
       "\n",
       "<div class=\"catom  \" >\n",
       "\n",
       "    <div class=\"clause \" >\n",
       "        <a href=\"https://shebanq.ancient-data.org/hebrew/text?book=Judices&chapter=13&verse=4&version=c&mr=m&qw=q&tp=txt_p&tr=hb&wget=v&qget=v&nget=vt\" title=\"Judges 13:4\" sec=\"Judges 13:4\">clause</a> <a href=\"#\" class=\"nd\">452736</a>  <span class=\"typ\">WxY0</span>\n",
       "    </div>\n",
       "    <div class=\"atoms\">\n",
       "\n",
       "<div class=\"patom  \" >\n",
       "\n",
       "    <div class=\"phrase \" >\n",
       "        <a href=\"https://shebanq.ancient-data.org/hebrew/text?book=Judices&chapter=13&verse=4&version=c&mr=m&qw=q&tp=txt_p&tr=hb&wget=v&qget=v&nget=vt\" title=\"Judges 13:4\" sec=\"Judges 13:4\">phrase</a> <a href=\"#\" class=\"nd\">727954</a>  <span class=\"function\">Conj</span> <span class=\"typ\">CP</span>\n",
       "    </div>\n",
       "    <div class=\"atoms\">\n",
       "\n",
       "<div class=\"word  \" >\n",
       "<a href=\"#\" class=\"nd\">135761</a>\n",
       "<div class=\"h\"><a target=\"_blank\" href=\"https://shebanq.ancient-data.org/hebrew/word?version=c&id=1W\" title=\"show this lexeme in SHEBANQ\">וְ</a></div>\n",
       "<div class=\"features\"> <span class=\"pdp\"><a href=\"https://shebanq.ancient-data.org/hebrew/text?book=Judices&chapter=13&verse=4&version=c&mr=m&qw=q&tp=txt_p&tr=hb&wget=v&qget=v&nget=vt\" title=\"Judges 13:4\" sec=\"Judges 13:4\">conj</a></span> <span class=\"gloss\">and</span></div>\n",
       "\n",
       "\n",
       "</div>\n",
       "\n",
       "\n",
       "    </div>\n",
       "\n",
       "\n",
       "</div>\n",
       "\n",
       "<div class=\"patom  \" >\n",
       "\n",
       "    <div class=\"phrase \" >\n",
       "        <a href=\"https://shebanq.ancient-data.org/hebrew/text?book=Judices&chapter=13&verse=4&version=c&mr=m&qw=q&tp=txt_p&tr=hb&wget=v&qget=v&nget=vt\" title=\"Judges 13:4\" sec=\"Judges 13:4\">phrase</a> <a href=\"#\" class=\"nd\">727955</a>  <span class=\"function\">Nega</span> <span class=\"typ\">NegP</span>\n",
       "    </div>\n",
       "    <div class=\"atoms\">\n",
       "\n",
       "<div class=\"word  \" >\n",
       "<a href=\"#\" class=\"nd\">135762</a>\n",
       "<div class=\"h\"><a target=\"_blank\" href=\"https://shebanq.ancient-data.org/hebrew/word?version=c&id=1ALi\" title=\"show this lexeme in SHEBANQ\">אַל־</a></div>\n",
       "<div class=\"features\"> <span class=\"pdp\"><a href=\"https://shebanq.ancient-data.org/hebrew/text?book=Judices&chapter=13&verse=4&version=c&mr=m&qw=q&tp=txt_p&tr=hb&wget=v&qget=v&nget=vt\" title=\"Judges 13:4\" sec=\"Judges 13:4\">nega</a></span> <span class=\"gloss\">not</span></div>\n",
       "\n",
       "\n",
       "</div>\n",
       "\n",
       "\n",
       "    </div>\n",
       "\n",
       "\n",
       "</div>\n",
       "\n",
       "<div class=\"patom  \" >\n",
       "\n",
       "    <div class=\"phrase \" >\n",
       "        <a href=\"https://shebanq.ancient-data.org/hebrew/text?book=Judices&chapter=13&verse=4&version=c&mr=m&qw=q&tp=txt_p&tr=hb&wget=v&qget=v&nget=vt\" title=\"Judges 13:4\" sec=\"Judges 13:4\">phrase</a> <a href=\"#\" class=\"nd\">727956</a>  <span class=\"function\">Pred</span> <span class=\"typ\">VP</span>\n",
       "    </div>\n",
       "    <div class=\"atoms\">\n",
       "\n",
       "<div class=\"word  \" >\n",
       "<a href=\"#\" class=\"nd\">135763</a>\n",
       "<div class=\"h\"><a target=\"_blank\" href=\"https://shebanq.ancient-data.org/hebrew/word?version=c&id=1AKLv\" title=\"show this lexeme in SHEBANQ\">תֹּאכְלִ֖י </a></div>\n",
       "<div class=\"features\"> <span class=\"pdp\"><a href=\"https://shebanq.ancient-data.org/hebrew/text?book=Judices&chapter=13&verse=4&version=c&mr=m&qw=q&tp=txt_p&tr=hb&wget=v&qget=v&nget=vt\" title=\"Judges 13:4\" sec=\"Judges 13:4\">verb</a></span> <span class=\"gloss\">eat</span> <span class=\"vs\">qal</span> <span class=\"vt\">impf</span></div>\n",
       "\n",
       "\n",
       "</div>\n",
       "\n",
       "\n",
       "    </div>\n",
       "\n",
       "\n",
       "</div>\n",
       "\n",
       "<div class=\"patom  hl\" >\n",
       "\n",
       "    <div class=\"phrase hl\" >\n",
       "        <a href=\"https://shebanq.ancient-data.org/hebrew/text?book=Judices&chapter=13&verse=4&version=c&mr=m&qw=q&tp=txt_p&tr=hb&wget=v&qget=v&nget=vt\" title=\"Judges 13:4\" sec=\"Judges 13:4\">phrase</a> <a href=\"#\" class=\"nd\">727957</a>  <span class=\"function\">Objc</span> <span class=\"typ\">NP</span>\n",
       "    </div>\n",
       "    <div class=\"atoms\">\n",
       "\n",
       "<div class=\"word  \" >\n",
       "<a href=\"#\" class=\"nd\">135764</a>\n",
       "<div class=\"h\"><a target=\"_blank\" href=\"https://shebanq.ancient-data.org/hebrew/word?version=c&id=1KLn\" title=\"show this lexeme in SHEBANQ\">כָּל־</a></div>\n",
       "<div class=\"features\"> <span class=\"pdp\"><a href=\"https://shebanq.ancient-data.org/hebrew/text?book=Judices&chapter=13&verse=4&version=c&mr=m&qw=q&tp=txt_p&tr=hb&wget=v&qget=v&nget=vt\" title=\"Judges 13:4\" sec=\"Judges 13:4\">subs</a></span> <span class=\"gloss\">whole</span></div>\n",
       "\n",
       "\n",
       "</div>\n",
       "\n",
       "<div class=\"word  hl\" >\n",
       "<a href=\"#\" class=\"nd\">135765</a>\n",
       "<div class=\"h\"><a target=\"_blank\" href=\"https://shebanq.ancient-data.org/hebrew/word?version=c&id=1VMAn\" title=\"show this lexeme in SHEBANQ\">טָמֵֽא׃ </a></div>\n",
       "<div class=\"features\"> <span class=\"pdp\"><a href=\"https://shebanq.ancient-data.org/hebrew/text?book=Judices&chapter=13&verse=4&version=c&mr=m&qw=q&tp=txt_p&tr=hb&wget=v&qget=v&nget=vt\" title=\"Judges 13:4\" sec=\"Judges 13:4\">subs</a></span> <span class=\"gloss\">unclean</span></div>\n",
       "\n",
       "\n",
       "</div>\n",
       "\n",
       "\n",
       "    </div>\n",
       "\n",
       "\n",
       "</div>\n",
       "\n",
       "\n",
       "    </div>\n",
       "\n",
       "\n",
       "</div>\n",
       "\n",
       "\n",
       "</div>\n"
      ],
      "text/plain": [
       "<IPython.core.display.HTML object>"
      ]
     },
     "metadata": {},
     "output_type": "display_data"
    },
    {
     "name": "stdout",
     "output_type": "stream",
     "text": [
      "1 Sam 14:36\n",
      "v1 issue: missing טוֹב after כֹּל\n",
      "v2 update: not yet going out of clause boundaries\n"
     ]
    },
    {
     "data": {
      "text/markdown": [
       "\n",
       "\n",
       "**Result** *Ku Eval 8*\n",
       "\n"
      ],
      "text/plain": [
       "<IPython.core.display.Markdown object>"
      ]
     },
     "metadata": {},
     "output_type": "display_data"
    },
    {
     "data": {
      "text/html": [
       "<a href=\"https://shebanq.ancient-data.org/hebrew/text?book=Samuel_I&chapter=14&verse=36&version=c&mr=m&qw=q&tp=txt_p&tr=hb&wget=v&qget=v&nget=vt\" title=\"show this passage in SHEBANQ\" sec=\"1_Samuel 14:36\">1_Samuel 14:36</a>\n",
       "<div class=\"atoms  \" >\n",
       "<a href=\"#\" class=\"nd\">455548</a>\n",
       "\n",
       "\n",
       "\n",
       "<div class=\"catom  l \" >\n",
       "\n",
       "    <div class=\"clause \" >\n",
       "        <a href=\"https://shebanq.ancient-data.org/hebrew/text?book=Samuel_I&chapter=14&verse=36&version=c&mr=m&qw=q&tp=txt_p&tr=hb&wget=v&qget=v&nget=vt\" title=\"1_Samuel 14:36\" sec=\"1_Samuel 14:36\">clause</a> <a href=\"#\" class=\"nd\">455548</a>  <span class=\"typ\">xIm0|Defc</span>\n",
       "    </div>\n",
       "    <div class=\"atoms\">\n",
       "\n",
       "<div class=\"patom  hl\" >\n",
       "\n",
       "    <div class=\"phrase hl\" >\n",
       "        <a href=\"https://shebanq.ancient-data.org/hebrew/text?book=Samuel_I&chapter=14&verse=36&version=c&mr=m&qw=q&tp=txt_p&tr=hb&wget=v&qget=v&nget=vt\" title=\"1_Samuel 14:36\" sec=\"1_Samuel 14:36\">phrase</a> <a href=\"#\" class=\"nd\">736484</a>  <span class=\"function\">Objc</span> <span class=\"typ\">NP</span>\n",
       "    </div>\n",
       "    <div class=\"atoms\">\n",
       "\n",
       "<div class=\"word  hl\" >\n",
       "<a href=\"#\" class=\"nd\">149171</a>\n",
       "<div class=\"h\"><a target=\"_blank\" href=\"https://shebanq.ancient-data.org/hebrew/word?version=c&id=1KLn\" title=\"show this lexeme in SHEBANQ\">כָּל־</a></div>\n",
       "<div class=\"features\"> <span class=\"pdp\"><a href=\"https://shebanq.ancient-data.org/hebrew/text?book=Samuel_I&chapter=14&verse=36&version=c&mr=m&qw=q&tp=txt_p&tr=hb&wget=v&qget=v&nget=vt\" title=\"1_Samuel 14:36\" sec=\"1_Samuel 14:36\">subs</a></span> <span class=\"gloss\">whole</span></div>\n",
       "\n",
       "\n",
       "</div>\n",
       "\n",
       "\n",
       "    </div>\n",
       "\n",
       "\n",
       "</div>\n",
       "\n",
       "\n",
       "    </div>\n",
       "\n",
       "\n",
       "</div>\n",
       "\n",
       "<div class=\"catom  r \" >\n",
       "\n",
       "    <div class=\"clause \" >\n",
       "        <a href=\"https://shebanq.ancient-data.org/hebrew/text?book=Samuel_I&chapter=14&verse=36&version=c&mr=m&qw=q&tp=txt_p&tr=hb&wget=v&qget=v&nget=vt\" title=\"1_Samuel 14:36\" sec=\"1_Samuel 14:36\">clause</a> <a href=\"#\" class=\"nd\">455548</a>  <span class=\"typ\">xIm0|ZIm0</span>\n",
       "    </div>\n",
       "    <div class=\"atoms\">\n",
       "\n",
       "<div class=\"patom  \" >\n",
       "\n",
       "    <div class=\"phrase \" >\n",
       "        <a href=\"https://shebanq.ancient-data.org/hebrew/text?book=Samuel_I&chapter=14&verse=36&version=c&mr=m&qw=q&tp=txt_p&tr=hb&wget=v&qget=v&nget=vt\" title=\"1_Samuel 14:36\" sec=\"1_Samuel 14:36\">phrase</a> <a href=\"#\" class=\"nd\">736488</a>  <span class=\"function\">Pred</span> <span class=\"typ\">VP</span>\n",
       "    </div>\n",
       "    <div class=\"atoms\">\n",
       "\n",
       "<div class=\"word  \" >\n",
       "<a href=\"#\" class=\"nd\">149176</a>\n",
       "<div class=\"h\"><a target=\"_blank\" href=\"https://shebanq.ancient-data.org/hebrew/word?version=c&id=1OFHv\" title=\"show this lexeme in SHEBANQ\">עֲשֵׂ֑ה ס </a></div>\n",
       "<div class=\"features\"> <span class=\"pdp\"><a href=\"https://shebanq.ancient-data.org/hebrew/text?book=Samuel_I&chapter=14&verse=36&version=c&mr=m&qw=q&tp=txt_p&tr=hb&wget=v&qget=v&nget=vt\" title=\"1_Samuel 14:36\" sec=\"1_Samuel 14:36\">verb</a></span> <span class=\"gloss\">make</span> <span class=\"vs\">qal</span> <span class=\"vt\">impv</span></div>\n",
       "\n",
       "\n",
       "</div>\n",
       "\n",
       "\n",
       "    </div>\n",
       "\n",
       "\n",
       "</div>\n",
       "\n",
       "\n",
       "    </div>\n",
       "\n",
       "\n",
       "</div>\n",
       "\n",
       "\n",
       "</div>\n"
      ],
      "text/plain": [
       "<IPython.core.display.HTML object>"
      ]
     },
     "metadata": {},
     "output_type": "display_data"
    },
    {
     "name": "stdout",
     "output_type": "stream",
     "text": [
      "1 Kgs 11:15\n",
      "v1 issue: missing זָכָר after כֹּל\n",
      "v2 update: fixed\n"
     ]
    },
    {
     "data": {
      "text/markdown": [
       "\n",
       "\n",
       "**Result** *Ku Eval 9*\n",
       "\n"
      ],
      "text/plain": [
       "<IPython.core.display.Markdown object>"
      ]
     },
     "metadata": {},
     "output_type": "display_data"
    },
    {
     "data": {
      "text/html": [
       "<a href=\"https://shebanq.ancient-data.org/hebrew/text?book=Reges_I&chapter=11&verse=15&version=c&mr=m&qw=q&tp=txt_p&tr=hb&wget=v&qget=v&nget=vt\" title=\"show this passage in SHEBANQ\" sec=\"1_Kings 11:15\">1_Kings 11:15</a>\n",
       "<div class=\"atoms  \" >\n",
       "<a href=\"#\" class=\"nd\">462722</a>\n",
       "\n",
       "\n",
       "\n",
       "<div class=\"catom  \" >\n",
       "\n",
       "    <div class=\"clause \" >\n",
       "        <a href=\"https://shebanq.ancient-data.org/hebrew/text?book=Reges_I&chapter=11&verse=15&version=c&mr=m&qw=q&tp=txt_p&tr=hb&wget=v&qget=v&nget=vt\" title=\"1_Kings 11:15\" sec=\"1_Kings 11:15\">clause</a> <a href=\"#\" class=\"nd\">462722</a>  <span class=\"rela\">Coor</span> <span class=\"typ\">Way0</span>\n",
       "    </div>\n",
       "    <div class=\"atoms\">\n",
       "\n",
       "<div class=\"patom  \" >\n",
       "\n",
       "    <div class=\"phrase \" >\n",
       "        <a href=\"https://shebanq.ancient-data.org/hebrew/text?book=Reges_I&chapter=11&verse=15&version=c&mr=m&qw=q&tp=txt_p&tr=hb&wget=v&qget=v&nget=vt\" title=\"1_Kings 11:15\" sec=\"1_Kings 11:15\">phrase</a> <a href=\"#\" class=\"nd\">758181</a>  <span class=\"function\">Conj</span> <span class=\"typ\">CP</span>\n",
       "    </div>\n",
       "    <div class=\"atoms\">\n",
       "\n",
       "<div class=\"word  \" >\n",
       "<a href=\"#\" class=\"nd\">185299</a>\n",
       "<div class=\"h\"><a target=\"_blank\" href=\"https://shebanq.ancient-data.org/hebrew/word?version=c&id=1W\" title=\"show this lexeme in SHEBANQ\">וַ</a></div>\n",
       "<div class=\"features\"> <span class=\"pdp\"><a href=\"https://shebanq.ancient-data.org/hebrew/text?book=Reges_I&chapter=11&verse=15&version=c&mr=m&qw=q&tp=txt_p&tr=hb&wget=v&qget=v&nget=vt\" title=\"1_Kings 11:15\" sec=\"1_Kings 11:15\">conj</a></span> <span class=\"gloss\">and</span></div>\n",
       "\n",
       "\n",
       "</div>\n",
       "\n",
       "\n",
       "    </div>\n",
       "\n",
       "\n",
       "</div>\n",
       "\n",
       "<div class=\"patom  \" >\n",
       "\n",
       "    <div class=\"phrase \" >\n",
       "        <a href=\"https://shebanq.ancient-data.org/hebrew/text?book=Reges_I&chapter=11&verse=15&version=c&mr=m&qw=q&tp=txt_p&tr=hb&wget=v&qget=v&nget=vt\" title=\"1_Kings 11:15\" sec=\"1_Kings 11:15\">phrase</a> <a href=\"#\" class=\"nd\">758182</a>  <span class=\"function\">Pred</span> <span class=\"typ\">VP</span>\n",
       "    </div>\n",
       "    <div class=\"atoms\">\n",
       "\n",
       "<div class=\"word  \" >\n",
       "<a href=\"#\" class=\"nd\">185300</a>\n",
       "<div class=\"h\"><a target=\"_blank\" href=\"https://shebanq.ancient-data.org/hebrew/word?version=c&id=1NKHv\" title=\"show this lexeme in SHEBANQ\">יַּ֥ךְ </a></div>\n",
       "<div class=\"features\"> <span class=\"pdp\"><a href=\"https://shebanq.ancient-data.org/hebrew/text?book=Reges_I&chapter=11&verse=15&version=c&mr=m&qw=q&tp=txt_p&tr=hb&wget=v&qget=v&nget=vt\" title=\"1_Kings 11:15\" sec=\"1_Kings 11:15\">verb</a></span> <span class=\"gloss\">strike</span> <span class=\"vs\">hif</span> <span class=\"vt\">wayq</span></div>\n",
       "\n",
       "\n",
       "</div>\n",
       "\n",
       "\n",
       "    </div>\n",
       "\n",
       "\n",
       "</div>\n",
       "\n",
       "<div class=\"patom  l hl\" >\n",
       "\n",
       "    <div class=\"phrase hl\" >\n",
       "        <a href=\"https://shebanq.ancient-data.org/hebrew/text?book=Reges_I&chapter=11&verse=15&version=c&mr=m&qw=q&tp=txt_p&tr=hb&wget=v&qget=v&nget=vt\" title=\"1_Kings 11:15\" sec=\"1_Kings 11:15\">phrase</a> <a href=\"#\" class=\"nd\">758183</a>  <span class=\"function\">Objc</span> <span class=\"typ\">NP</span>\n",
       "    </div>\n",
       "    <div class=\"atoms\">\n",
       "\n",
       "<div class=\"word  \" >\n",
       "<a href=\"#\" class=\"nd\">185301</a>\n",
       "<div class=\"h\"><a target=\"_blank\" href=\"https://shebanq.ancient-data.org/hebrew/word?version=c&id=1KLn\" title=\"show this lexeme in SHEBANQ\">כָּל־</a></div>\n",
       "<div class=\"features\"> <span class=\"pdp\"><a href=\"https://shebanq.ancient-data.org/hebrew/text?book=Reges_I&chapter=11&verse=15&version=c&mr=m&qw=q&tp=txt_p&tr=hb&wget=v&qget=v&nget=vt\" title=\"1_Kings 11:15\" sec=\"1_Kings 11:15\">subs</a></span> <span class=\"gloss\">whole</span></div>\n",
       "\n",
       "\n",
       "</div>\n",
       "\n",
       "<div class=\"word  hl\" >\n",
       "<a href=\"#\" class=\"nd\">185302</a>\n",
       "<div class=\"h\"><a target=\"_blank\" href=\"https://shebanq.ancient-data.org/hebrew/word?version=c&id=1ZKRin\" title=\"show this lexeme in SHEBANQ\">זָכָ֖ר </a></div>\n",
       "<div class=\"features\"> <span class=\"pdp\"><a href=\"https://shebanq.ancient-data.org/hebrew/text?book=Reges_I&chapter=11&verse=15&version=c&mr=m&qw=q&tp=txt_p&tr=hb&wget=v&qget=v&nget=vt\" title=\"1_Kings 11:15\" sec=\"1_Kings 11:15\">subs</a></span> <span class=\"gloss\">male</span></div>\n",
       "\n",
       "\n",
       "</div>\n",
       "\n",
       "\n",
       "    </div>\n",
       "\n",
       "\n",
       "</div>\n",
       "\n",
       "<div class=\"patom  r hl\" >\n",
       "\n",
       "    <div class=\"phrase hl\" >\n",
       "        <a href=\"https://shebanq.ancient-data.org/hebrew/text?book=Reges_I&chapter=11&verse=15&version=c&mr=m&qw=q&tp=txt_p&tr=hb&wget=v&qget=v&nget=vt\" title=\"1_Kings 11:15\" sec=\"1_Kings 11:15\">phrase</a> <a href=\"#\" class=\"nd\">758183</a>  <span class=\"function\">Objc</span> <span class=\"typ\">NP|PP</span>\n",
       "    </div>\n",
       "    <div class=\"atoms\">\n",
       "\n",
       "<div class=\"word  \" >\n",
       "<a href=\"#\" class=\"nd\">185303</a>\n",
       "<div class=\"h\"><a target=\"_blank\" href=\"https://shebanq.ancient-data.org/hebrew/word?version=c&id=1B\" title=\"show this lexeme in SHEBANQ\">בֶּ</a></div>\n",
       "<div class=\"features\"> <span class=\"pdp\"><a href=\"https://shebanq.ancient-data.org/hebrew/text?book=Reges_I&chapter=11&verse=15&version=c&mr=m&qw=q&tp=txt_p&tr=hb&wget=v&qget=v&nget=vt\" title=\"1_Kings 11:15\" sec=\"1_Kings 11:15\">prep</a></span> <span class=\"gloss\">in</span></div>\n",
       "\n",
       "\n",
       "</div>\n",
       "\n",
       "<div class=\"word  \" >\n",
       "<a href=\"#\" class=\"nd\">185304</a>\n",
       "<div class=\"h\"><a target=\"_blank\" href=\"https://shebanq.ancient-data.org/hebrew/word?version=c&id=1ADWMn\" title=\"show this lexeme in SHEBANQ\">אֱדֹֽום׃ </a></div>\n",
       "<div class=\"features\"> <span class=\"pdp\"><a href=\"https://shebanq.ancient-data.org/hebrew/text?book=Reges_I&chapter=11&verse=15&version=c&mr=m&qw=q&tp=txt_p&tr=hb&wget=v&qget=v&nget=vt\" title=\"1_Kings 11:15\" sec=\"1_Kings 11:15\">nmpr</a></span> <span class=\"gloss\">Edom</span></div>\n",
       "\n",
       "\n",
       "</div>\n",
       "\n",
       "\n",
       "    </div>\n",
       "\n",
       "\n",
       "</div>\n",
       "\n",
       "\n",
       "    </div>\n",
       "\n",
       "\n",
       "</div>\n",
       "\n",
       "\n",
       "</div>\n"
      ],
      "text/plain": [
       "<IPython.core.display.HTML object>"
      ]
     },
     "metadata": {},
     "output_type": "display_data"
    },
    {
     "name": "stdout",
     "output_type": "stream",
     "text": [
      "1 Kgs 11:16\n",
      "v1 issue: missing זָכָר after כֹּל\n",
      "v2 update: fixed\n"
     ]
    },
    {
     "data": {
      "text/markdown": [
       "\n",
       "\n",
       "**Result** *Ku Eval 10*\n",
       "\n"
      ],
      "text/plain": [
       "<IPython.core.display.Markdown object>"
      ]
     },
     "metadata": {},
     "output_type": "display_data"
    },
    {
     "data": {
      "text/html": [
       "<a href=\"https://shebanq.ancient-data.org/hebrew/text?book=Reges_I&chapter=11&verse=16&version=c&mr=m&qw=q&tp=txt_p&tr=hb&wget=v&qget=v&nget=vt\" title=\"show this passage in SHEBANQ\" sec=\"1_Kings 11:16\">1_Kings 11:16</a>\n",
       "<div class=\"atoms  \" >\n",
       "<a href=\"#\" class=\"nd\">462723</a>\n",
       "\n",
       "\n",
       "\n",
       "<div class=\"catom  \" >\n",
       "\n",
       "    <div class=\"clause \" >\n",
       "        <a href=\"https://shebanq.ancient-data.org/hebrew/text?book=Reges_I&chapter=11&verse=16&version=c&mr=m&qw=q&tp=txt_p&tr=hb&wget=v&qget=v&nget=vt\" title=\"1_Kings 11:16\" sec=\"1_Kings 11:16\">clause</a> <a href=\"#\" class=\"nd\">462723</a>  <span class=\"typ\">xQtX</span>\n",
       "    </div>\n",
       "    <div class=\"atoms\">\n",
       "\n",
       "<div class=\"patom  \" >\n",
       "\n",
       "    <div class=\"phrase \" >\n",
       "        <a href=\"https://shebanq.ancient-data.org/hebrew/text?book=Reges_I&chapter=11&verse=16&version=c&mr=m&qw=q&tp=txt_p&tr=hb&wget=v&qget=v&nget=vt\" title=\"1_Kings 11:16\" sec=\"1_Kings 11:16\">phrase</a> <a href=\"#\" class=\"nd\">758184</a>  <span class=\"function\">Conj</span> <span class=\"typ\">CP</span>\n",
       "    </div>\n",
       "    <div class=\"atoms\">\n",
       "\n",
       "<div class=\"word  \" >\n",
       "<a href=\"#\" class=\"nd\">185305</a>\n",
       "<div class=\"h\"><a target=\"_blank\" href=\"https://shebanq.ancient-data.org/hebrew/word?version=c&id=1KJ\" title=\"show this lexeme in SHEBANQ\">כִּ֣י </a></div>\n",
       "<div class=\"features\"> <span class=\"pdp\"><a href=\"https://shebanq.ancient-data.org/hebrew/text?book=Reges_I&chapter=11&verse=16&version=c&mr=m&qw=q&tp=txt_p&tr=hb&wget=v&qget=v&nget=vt\" title=\"1_Kings 11:16\" sec=\"1_Kings 11:16\">conj</a></span> <span class=\"gloss\">that</span></div>\n",
       "\n",
       "\n",
       "</div>\n",
       "\n",
       "\n",
       "    </div>\n",
       "\n",
       "\n",
       "</div>\n",
       "\n",
       "<div class=\"patom  \" >\n",
       "\n",
       "    <div class=\"phrase \" >\n",
       "        <a href=\"https://shebanq.ancient-data.org/hebrew/text?book=Reges_I&chapter=11&verse=16&version=c&mr=m&qw=q&tp=txt_p&tr=hb&wget=v&qget=v&nget=vt\" title=\"1_Kings 11:16\" sec=\"1_Kings 11:16\">phrase</a> <a href=\"#\" class=\"nd\">758185</a>  <span class=\"function\">Time</span> <span class=\"typ\">NP</span>\n",
       "    </div>\n",
       "    <div class=\"atoms\">\n",
       "\n",
       "<div class=\"word  \" >\n",
       "<a href=\"#\" class=\"nd\">185306</a>\n",
       "<div class=\"h\"><a target=\"_blank\" href=\"https://shebanq.ancient-data.org/hebrew/word?version=c&id=1CCn\" title=\"show this lexeme in SHEBANQ\">שֵׁ֧שֶׁת </a></div>\n",
       "<div class=\"features\"> <span class=\"pdp\"><a href=\"https://shebanq.ancient-data.org/hebrew/text?book=Reges_I&chapter=11&verse=16&version=c&mr=m&qw=q&tp=txt_p&tr=hb&wget=v&qget=v&nget=vt\" title=\"1_Kings 11:16\" sec=\"1_Kings 11:16\">subs</a></span> <span class=\"gloss\">six</span></div>\n",
       "\n",
       "\n",
       "</div>\n",
       "\n",
       "<div class=\"word  \" >\n",
       "<a href=\"#\" class=\"nd\">185307</a>\n",
       "<div class=\"h\"><a target=\"_blank\" href=\"https://shebanq.ancient-data.org/hebrew/word?version=c&id=1XDCin\" title=\"show this lexeme in SHEBANQ\">חֳדָשִׁ֛ים </a></div>\n",
       "<div class=\"features\"> <span class=\"pdp\"><a href=\"https://shebanq.ancient-data.org/hebrew/text?book=Reges_I&chapter=11&verse=16&version=c&mr=m&qw=q&tp=txt_p&tr=hb&wget=v&qget=v&nget=vt\" title=\"1_Kings 11:16\" sec=\"1_Kings 11:16\">subs</a></span> <span class=\"gloss\">month</span></div>\n",
       "\n",
       "\n",
       "</div>\n",
       "\n",
       "\n",
       "    </div>\n",
       "\n",
       "\n",
       "</div>\n",
       "\n",
       "<div class=\"patom  \" >\n",
       "\n",
       "    <div class=\"phrase \" >\n",
       "        <a href=\"https://shebanq.ancient-data.org/hebrew/text?book=Reges_I&chapter=11&verse=16&version=c&mr=m&qw=q&tp=txt_p&tr=hb&wget=v&qget=v&nget=vt\" title=\"1_Kings 11:16\" sec=\"1_Kings 11:16\">phrase</a> <a href=\"#\" class=\"nd\">758186</a>  <span class=\"function\">Pred</span> <span class=\"typ\">VP</span>\n",
       "    </div>\n",
       "    <div class=\"atoms\">\n",
       "\n",
       "<div class=\"word  \" >\n",
       "<a href=\"#\" class=\"nd\">185308</a>\n",
       "<div class=\"h\"><a target=\"_blank\" href=\"https://shebanq.ancient-data.org/hebrew/word?version=c&id=1JCBv\" title=\"show this lexeme in SHEBANQ\">יָֽשַׁב־</a></div>\n",
       "<div class=\"features\"> <span class=\"pdp\"><a href=\"https://shebanq.ancient-data.org/hebrew/text?book=Reges_I&chapter=11&verse=16&version=c&mr=m&qw=q&tp=txt_p&tr=hb&wget=v&qget=v&nget=vt\" title=\"1_Kings 11:16\" sec=\"1_Kings 11:16\">verb</a></span> <span class=\"gloss\">sit</span> <span class=\"vs\">qal</span> <span class=\"vt\">perf</span></div>\n",
       "\n",
       "\n",
       "</div>\n",
       "\n",
       "\n",
       "    </div>\n",
       "\n",
       "\n",
       "</div>\n",
       "\n",
       "<div class=\"patom  \" >\n",
       "\n",
       "    <div class=\"phrase \" >\n",
       "        <a href=\"https://shebanq.ancient-data.org/hebrew/text?book=Reges_I&chapter=11&verse=16&version=c&mr=m&qw=q&tp=txt_p&tr=hb&wget=v&qget=v&nget=vt\" title=\"1_Kings 11:16\" sec=\"1_Kings 11:16\">phrase</a> <a href=\"#\" class=\"nd\">758187</a>  <span class=\"function\">Cmpl</span> <span class=\"typ\">AdvP</span>\n",
       "    </div>\n",
       "    <div class=\"atoms\">\n",
       "\n",
       "<div class=\"word  \" >\n",
       "<a href=\"#\" class=\"nd\">185309</a>\n",
       "<div class=\"h\"><a target=\"_blank\" href=\"https://shebanq.ancient-data.org/hebrew/word?version=c&id=1CM\" title=\"show this lexeme in SHEBANQ\">שָׁ֥ם </a></div>\n",
       "<div class=\"features\"> <span class=\"pdp\"><a href=\"https://shebanq.ancient-data.org/hebrew/text?book=Reges_I&chapter=11&verse=16&version=c&mr=m&qw=q&tp=txt_p&tr=hb&wget=v&qget=v&nget=vt\" title=\"1_Kings 11:16\" sec=\"1_Kings 11:16\">advb</a></span> <span class=\"gloss\">there</span></div>\n",
       "\n",
       "\n",
       "</div>\n",
       "\n",
       "\n",
       "    </div>\n",
       "\n",
       "\n",
       "</div>\n",
       "\n",
       "<div class=\"patom  hl\" >\n",
       "\n",
       "    <div class=\"phrase hl\" >\n",
       "        <a href=\"https://shebanq.ancient-data.org/hebrew/text?book=Reges_I&chapter=11&verse=16&version=c&mr=m&qw=q&tp=txt_p&tr=hb&wget=v&qget=v&nget=vt\" title=\"1_Kings 11:16\" sec=\"1_Kings 11:16\">phrase</a> <a href=\"#\" class=\"nd\">758188</a>  <span class=\"function\">Subj</span> <span class=\"typ\">PrNP</span>\n",
       "    </div>\n",
       "    <div class=\"atoms\">\n",
       "\n",
       "<div class=\"word  hl\" >\n",
       "<a href=\"#\" class=\"nd\">185310</a>\n",
       "<div class=\"h\"><a target=\"_blank\" href=\"https://shebanq.ancient-data.org/hebrew/word?version=c&id=1JWABn\" title=\"show this lexeme in SHEBANQ\">יֹואָ֖ב </a></div>\n",
       "<div class=\"features\"> <span class=\"pdp\"><a href=\"https://shebanq.ancient-data.org/hebrew/text?book=Reges_I&chapter=11&verse=16&version=c&mr=m&qw=q&tp=txt_p&tr=hb&wget=v&qget=v&nget=vt\" title=\"1_Kings 11:16\" sec=\"1_Kings 11:16\">nmpr</a></span> <span class=\"gloss\">Joab</span></div>\n",
       "\n",
       "\n",
       "</div>\n",
       "\n",
       "<div class=\"word  \" >\n",
       "<a href=\"#\" class=\"nd\">185311</a>\n",
       "<div class=\"h\"><a target=\"_blank\" href=\"https://shebanq.ancient-data.org/hebrew/word?version=c&id=1W\" title=\"show this lexeme in SHEBANQ\">וְ</a></div>\n",
       "<div class=\"features\"> <span class=\"pdp\"><a href=\"https://shebanq.ancient-data.org/hebrew/text?book=Reges_I&chapter=11&verse=16&version=c&mr=m&qw=q&tp=txt_p&tr=hb&wget=v&qget=v&nget=vt\" title=\"1_Kings 11:16\" sec=\"1_Kings 11:16\">conj</a></span> <span class=\"gloss\">and</span></div>\n",
       "\n",
       "\n",
       "</div>\n",
       "\n",
       "<div class=\"word  \" >\n",
       "<a href=\"#\" class=\"nd\">185312</a>\n",
       "<div class=\"h\"><a target=\"_blank\" href=\"https://shebanq.ancient-data.org/hebrew/word?version=c&id=1KLn\" title=\"show this lexeme in SHEBANQ\">כָל־</a></div>\n",
       "<div class=\"features\"> <span class=\"pdp\"><a href=\"https://shebanq.ancient-data.org/hebrew/text?book=Reges_I&chapter=11&verse=16&version=c&mr=m&qw=q&tp=txt_p&tr=hb&wget=v&qget=v&nget=vt\" title=\"1_Kings 11:16\" sec=\"1_Kings 11:16\">subs</a></span> <span class=\"gloss\">whole</span></div>\n",
       "\n",
       "\n",
       "</div>\n",
       "\n",
       "<div class=\"word  hl\" >\n",
       "<a href=\"#\" class=\"nd\">185313</a>\n",
       "<div class=\"h\"><a target=\"_blank\" href=\"https://shebanq.ancient-data.org/hebrew/word?version=c&id=1JFRALn\" title=\"show this lexeme in SHEBANQ\">יִשְׂרָאֵ֑ל </a></div>\n",
       "<div class=\"features\"> <span class=\"pdp\"><a href=\"https://shebanq.ancient-data.org/hebrew/text?book=Reges_I&chapter=11&verse=16&version=c&mr=m&qw=q&tp=txt_p&tr=hb&wget=v&qget=v&nget=vt\" title=\"1_Kings 11:16\" sec=\"1_Kings 11:16\">nmpr</a></span> <span class=\"gloss\">Israel</span></div>\n",
       "\n",
       "\n",
       "</div>\n",
       "\n",
       "\n",
       "    </div>\n",
       "\n",
       "\n",
       "</div>\n",
       "\n",
       "\n",
       "    </div>\n",
       "\n",
       "\n",
       "</div>\n",
       "\n",
       "\n",
       "</div>\n"
      ],
      "text/plain": [
       "<IPython.core.display.HTML object>"
      ]
     },
     "metadata": {},
     "output_type": "display_data"
    },
    {
     "name": "stdout",
     "output_type": "stream",
     "text": [
      "1 Kgs 11:16\n",
      "v1 issue: missing זָכָר after כֹּל\n",
      "v2 update: fixed\n"
     ]
    },
    {
     "data": {
      "text/markdown": [
       "\n",
       "\n",
       "**Result** *Ku Eval 10*\n",
       "\n"
      ],
      "text/plain": [
       "<IPython.core.display.Markdown object>"
      ]
     },
     "metadata": {},
     "output_type": "display_data"
    },
    {
     "data": {
      "text/html": [
       "<a href=\"https://shebanq.ancient-data.org/hebrew/text?book=Reges_I&chapter=11&verse=16&version=c&mr=m&qw=q&tp=txt_p&tr=hb&wget=v&qget=v&nget=vt\" title=\"show this passage in SHEBANQ\" sec=\"1_Kings 11:16\">1_Kings 11:16</a>\n",
       "<div class=\"atoms  \" >\n",
       "<a href=\"#\" class=\"nd\">462724</a>\n",
       "\n",
       "\n",
       "\n",
       "<div class=\"catom  \" >\n",
       "\n",
       "    <div class=\"clause \" >\n",
       "        <a href=\"https://shebanq.ancient-data.org/hebrew/text?book=Reges_I&chapter=11&verse=16&version=c&mr=m&qw=q&tp=txt_p&tr=hb&wget=v&qget=v&nget=vt\" title=\"1_Kings 11:16\" sec=\"1_Kings 11:16\">clause</a> <a href=\"#\" class=\"nd\">462724</a>  <span class=\"typ\">xQt0</span>\n",
       "    </div>\n",
       "    <div class=\"atoms\">\n",
       "\n",
       "<div class=\"patom  \" >\n",
       "\n",
       "    <div class=\"phrase \" >\n",
       "        <a href=\"https://shebanq.ancient-data.org/hebrew/text?book=Reges_I&chapter=11&verse=16&version=c&mr=m&qw=q&tp=txt_p&tr=hb&wget=v&qget=v&nget=vt\" title=\"1_Kings 11:16\" sec=\"1_Kings 11:16\">phrase</a> <a href=\"#\" class=\"nd\">758189</a>  <span class=\"function\">Conj</span> <span class=\"typ\">CP</span>\n",
       "    </div>\n",
       "    <div class=\"atoms\">\n",
       "\n",
       "<div class=\"word  \" >\n",
       "<a href=\"#\" class=\"nd\">185314</a>\n",
       "<div class=\"h\"><a target=\"_blank\" href=\"https://shebanq.ancient-data.org/hebrew/word?version=c&id=1OD\" title=\"show this lexeme in SHEBANQ\">עַד־</a></div>\n",
       "<div class=\"features\"> <span class=\"pdp\"><a href=\"https://shebanq.ancient-data.org/hebrew/text?book=Reges_I&chapter=11&verse=16&version=c&mr=m&qw=q&tp=txt_p&tr=hb&wget=v&qget=v&nget=vt\" title=\"1_Kings 11:16\" sec=\"1_Kings 11:16\">conj</a></span> <span class=\"gloss\">unto</span></div>\n",
       "\n",
       "\n",
       "</div>\n",
       "\n",
       "\n",
       "    </div>\n",
       "\n",
       "\n",
       "</div>\n",
       "\n",
       "<div class=\"patom  \" >\n",
       "\n",
       "    <div class=\"phrase \" >\n",
       "        <a href=\"https://shebanq.ancient-data.org/hebrew/text?book=Reges_I&chapter=11&verse=16&version=c&mr=m&qw=q&tp=txt_p&tr=hb&wget=v&qget=v&nget=vt\" title=\"1_Kings 11:16\" sec=\"1_Kings 11:16\">phrase</a> <a href=\"#\" class=\"nd\">758190</a>  <span class=\"function\">Pred</span> <span class=\"typ\">VP</span>\n",
       "    </div>\n",
       "    <div class=\"atoms\">\n",
       "\n",
       "<div class=\"word  \" >\n",
       "<a href=\"#\" class=\"nd\">185315</a>\n",
       "<div class=\"h\"><a target=\"_blank\" href=\"https://shebanq.ancient-data.org/hebrew/word?version=c&id=1KRTv\" title=\"show this lexeme in SHEBANQ\">הִכְרִ֥ית </a></div>\n",
       "<div class=\"features\"> <span class=\"pdp\"><a href=\"https://shebanq.ancient-data.org/hebrew/text?book=Reges_I&chapter=11&verse=16&version=c&mr=m&qw=q&tp=txt_p&tr=hb&wget=v&qget=v&nget=vt\" title=\"1_Kings 11:16\" sec=\"1_Kings 11:16\">verb</a></span> <span class=\"gloss\">cut</span> <span class=\"vs\">hif</span> <span class=\"vt\">perf</span></div>\n",
       "\n",
       "\n",
       "</div>\n",
       "\n",
       "\n",
       "    </div>\n",
       "\n",
       "\n",
       "</div>\n",
       "\n",
       "<div class=\"patom  l hl\" >\n",
       "\n",
       "    <div class=\"phrase hl\" >\n",
       "        <a href=\"https://shebanq.ancient-data.org/hebrew/text?book=Reges_I&chapter=11&verse=16&version=c&mr=m&qw=q&tp=txt_p&tr=hb&wget=v&qget=v&nget=vt\" title=\"1_Kings 11:16\" sec=\"1_Kings 11:16\">phrase</a> <a href=\"#\" class=\"nd\">758191</a>  <span class=\"function\">Objc</span> <span class=\"typ\">NP</span>\n",
       "    </div>\n",
       "    <div class=\"atoms\">\n",
       "\n",
       "<div class=\"word  \" >\n",
       "<a href=\"#\" class=\"nd\">185316</a>\n",
       "<div class=\"h\"><a target=\"_blank\" href=\"https://shebanq.ancient-data.org/hebrew/word?version=c&id=1KLn\" title=\"show this lexeme in SHEBANQ\">כָּל־</a></div>\n",
       "<div class=\"features\"> <span class=\"pdp\"><a href=\"https://shebanq.ancient-data.org/hebrew/text?book=Reges_I&chapter=11&verse=16&version=c&mr=m&qw=q&tp=txt_p&tr=hb&wget=v&qget=v&nget=vt\" title=\"1_Kings 11:16\" sec=\"1_Kings 11:16\">subs</a></span> <span class=\"gloss\">whole</span></div>\n",
       "\n",
       "\n",
       "</div>\n",
       "\n",
       "<div class=\"word  hl\" >\n",
       "<a href=\"#\" class=\"nd\">185317</a>\n",
       "<div class=\"h\"><a target=\"_blank\" href=\"https://shebanq.ancient-data.org/hebrew/word?version=c&id=1ZKRin\" title=\"show this lexeme in SHEBANQ\">זָכָ֖ר </a></div>\n",
       "<div class=\"features\"> <span class=\"pdp\"><a href=\"https://shebanq.ancient-data.org/hebrew/text?book=Reges_I&chapter=11&verse=16&version=c&mr=m&qw=q&tp=txt_p&tr=hb&wget=v&qget=v&nget=vt\" title=\"1_Kings 11:16\" sec=\"1_Kings 11:16\">subs</a></span> <span class=\"gloss\">male</span></div>\n",
       "\n",
       "\n",
       "</div>\n",
       "\n",
       "\n",
       "    </div>\n",
       "\n",
       "\n",
       "</div>\n",
       "\n",
       "<div class=\"patom  r hl\" >\n",
       "\n",
       "    <div class=\"phrase hl\" >\n",
       "        <a href=\"https://shebanq.ancient-data.org/hebrew/text?book=Reges_I&chapter=11&verse=16&version=c&mr=m&qw=q&tp=txt_p&tr=hb&wget=v&qget=v&nget=vt\" title=\"1_Kings 11:16\" sec=\"1_Kings 11:16\">phrase</a> <a href=\"#\" class=\"nd\">758191</a>  <span class=\"function\">Objc</span> <span class=\"typ\">NP|PP</span>\n",
       "    </div>\n",
       "    <div class=\"atoms\">\n",
       "\n",
       "<div class=\"word  \" >\n",
       "<a href=\"#\" class=\"nd\">185318</a>\n",
       "<div class=\"h\"><a target=\"_blank\" href=\"https://shebanq.ancient-data.org/hebrew/word?version=c&id=1B\" title=\"show this lexeme in SHEBANQ\">בֶּ</a></div>\n",
       "<div class=\"features\"> <span class=\"pdp\"><a href=\"https://shebanq.ancient-data.org/hebrew/text?book=Reges_I&chapter=11&verse=16&version=c&mr=m&qw=q&tp=txt_p&tr=hb&wget=v&qget=v&nget=vt\" title=\"1_Kings 11:16\" sec=\"1_Kings 11:16\">prep</a></span> <span class=\"gloss\">in</span></div>\n",
       "\n",
       "\n",
       "</div>\n",
       "\n",
       "<div class=\"word  \" >\n",
       "<a href=\"#\" class=\"nd\">185319</a>\n",
       "<div class=\"h\"><a target=\"_blank\" href=\"https://shebanq.ancient-data.org/hebrew/word?version=c&id=1ADWMn\" title=\"show this lexeme in SHEBANQ\">אֱדֹֽום׃ </a></div>\n",
       "<div class=\"features\"> <span class=\"pdp\"><a href=\"https://shebanq.ancient-data.org/hebrew/text?book=Reges_I&chapter=11&verse=16&version=c&mr=m&qw=q&tp=txt_p&tr=hb&wget=v&qget=v&nget=vt\" title=\"1_Kings 11:16\" sec=\"1_Kings 11:16\">nmpr</a></span> <span class=\"gloss\">Edom</span></div>\n",
       "\n",
       "\n",
       "</div>\n",
       "\n",
       "\n",
       "    </div>\n",
       "\n",
       "\n",
       "</div>\n",
       "\n",
       "\n",
       "    </div>\n",
       "\n",
       "\n",
       "</div>\n",
       "\n",
       "\n",
       "</div>\n"
      ],
      "text/plain": [
       "<IPython.core.display.HTML object>"
      ]
     },
     "metadata": {},
     "output_type": "display_data"
    },
    {
     "name": "stdout",
     "output_type": "stream",
     "text": [
      "Isa 43:7\n",
      "v1 issue: missing הַנִּקְרָ֣א after כֹּל\n",
      "v2 update: not yet going out of clause boundaries\n"
     ]
    },
    {
     "data": {
      "text/markdown": [
       "\n",
       "\n",
       "**Result** *Ku Eval 11*\n",
       "\n"
      ],
      "text/plain": [
       "<IPython.core.display.Markdown object>"
      ]
     },
     "metadata": {},
     "output_type": "display_data"
    },
    {
     "data": {
      "text/html": [
       "<a href=\"https://shebanq.ancient-data.org/hebrew/text?book=Jesaia&chapter=43&verse=7&version=c&mr=m&qw=q&tp=txt_p&tr=hb&wget=v&qget=v&nget=vt\" title=\"show this passage in SHEBANQ\" sec=\"Isaiah 43:7\">Isaiah 43:7</a>\n",
       "<div class=\"atoms  \" >\n",
       "<a href=\"#\" class=\"nd\">471639</a>\n",
       "\n",
       "\n",
       "\n",
       "<div class=\"catom  \" >\n",
       "\n",
       "    <div class=\"clause \" >\n",
       "        <a href=\"https://shebanq.ancient-data.org/hebrew/text?book=Jesaia&chapter=43&verse=7&version=c&mr=m&qw=q&tp=txt_p&tr=hb&wget=v&qget=v&nget=vt\" title=\"Isaiah 43:7\" sec=\"Isaiah 43:7\">clause</a> <a href=\"#\" class=\"nd\">471639</a>  <span class=\"typ\">Ellp</span>\n",
       "    </div>\n",
       "    <div class=\"atoms\">\n",
       "\n",
       "<div class=\"patom  hl\" >\n",
       "\n",
       "    <div class=\"phrase hl\" >\n",
       "        <a href=\"https://shebanq.ancient-data.org/hebrew/text?book=Jesaia&chapter=43&verse=7&version=c&mr=m&qw=q&tp=txt_p&tr=hb&wget=v&qget=v&nget=vt\" title=\"Isaiah 43:7\" sec=\"Isaiah 43:7\">phrase</a> <a href=\"#\" class=\"nd\">783566</a>  <span class=\"function\">Objc</span> <span class=\"typ\">NP</span>\n",
       "    </div>\n",
       "    <div class=\"atoms\">\n",
       "\n",
       "<div class=\"word  hl\" >\n",
       "<a href=\"#\" class=\"nd\">227043</a>\n",
       "<div class=\"h\"><a target=\"_blank\" href=\"https://shebanq.ancient-data.org/hebrew/word?version=c&id=1KLn\" title=\"show this lexeme in SHEBANQ\">כֹּ֚ל </a></div>\n",
       "<div class=\"features\"> <span class=\"pdp\"><a href=\"https://shebanq.ancient-data.org/hebrew/text?book=Jesaia&chapter=43&verse=7&version=c&mr=m&qw=q&tp=txt_p&tr=hb&wget=v&qget=v&nget=vt\" title=\"Isaiah 43:7\" sec=\"Isaiah 43:7\">subs</a></span> <span class=\"gloss\">whole</span></div>\n",
       "\n",
       "\n",
       "</div>\n",
       "\n",
       "\n",
       "    </div>\n",
       "\n",
       "\n",
       "</div>\n",
       "\n",
       "\n",
       "    </div>\n",
       "\n",
       "\n",
       "</div>\n",
       "\n",
       "\n",
       "</div>\n"
      ],
      "text/plain": [
       "<IPython.core.display.HTML object>"
      ]
     },
     "metadata": {},
     "output_type": "display_data"
    },
    {
     "name": "stdout",
     "output_type": "stream",
     "text": [
      "Ps 73:27\n",
      "v1 issue: missing זֹונֶ֥ה after כֹּל\n",
      "v2 update: not yet going out of clause boundaries\n"
     ]
    },
    {
     "data": {
      "text/markdown": [
       "\n",
       "\n",
       "**Result** *Ku Eval 12*\n",
       "\n"
      ],
      "text/plain": [
       "<IPython.core.display.Markdown object>"
      ]
     },
     "metadata": {},
     "output_type": "display_data"
    },
    {
     "data": {
      "text/html": [
       "<a href=\"https://shebanq.ancient-data.org/hebrew/text?book=Psalmi&chapter=73&verse=27&version=c&mr=m&qw=q&tp=txt_p&tr=hb&wget=v&qget=v&nget=vt\" title=\"show this passage in SHEBANQ\" sec=\"Psalms 73:27\">Psalms 73:27</a>\n",
       "<div class=\"atoms  \" >\n",
       "<a href=\"#\" class=\"nd\">493806</a>\n",
       "\n",
       "\n",
       "\n",
       "<div class=\"catom  \" >\n",
       "\n",
       "    <div class=\"clause \" >\n",
       "        <a href=\"https://shebanq.ancient-data.org/hebrew/text?book=Psalmi&chapter=73&verse=27&version=c&mr=m&qw=q&tp=txt_p&tr=hb&wget=v&qget=v&nget=vt\" title=\"Psalms 73:27\" sec=\"Psalms 73:27\">clause</a> <a href=\"#\" class=\"nd\">493806</a>  <span class=\"rela\">Coor</span> <span class=\"typ\">ZQt0</span>\n",
       "    </div>\n",
       "    <div class=\"atoms\">\n",
       "\n",
       "<div class=\"patom  \" >\n",
       "\n",
       "    <div class=\"phrase \" >\n",
       "        <a href=\"https://shebanq.ancient-data.org/hebrew/text?book=Psalmi&chapter=73&verse=27&version=c&mr=m&qw=q&tp=txt_p&tr=hb&wget=v&qget=v&nget=vt\" title=\"Psalms 73:27\" sec=\"Psalms 73:27\">phrase</a> <a href=\"#\" class=\"nd\">843943</a>  <span class=\"function\">Pred</span> <span class=\"typ\">VP</span>\n",
       "    </div>\n",
       "    <div class=\"atoms\">\n",
       "\n",
       "<div class=\"word  \" >\n",
       "<a href=\"#\" class=\"nd\">322765</a>\n",
       "<div class=\"h\"><a target=\"_blank\" href=\"https://shebanq.ancient-data.org/hebrew/word?version=c&id=1YMTv\" title=\"show this lexeme in SHEBANQ\">הִ֝צְמַ֗תָּה </a></div>\n",
       "<div class=\"features\"> <span class=\"pdp\"><a href=\"https://shebanq.ancient-data.org/hebrew/text?book=Psalmi&chapter=73&verse=27&version=c&mr=m&qw=q&tp=txt_p&tr=hb&wget=v&qget=v&nget=vt\" title=\"Psalms 73:27\" sec=\"Psalms 73:27\">verb</a></span> <span class=\"gloss\">be silent</span> <span class=\"vs\">hif</span> <span class=\"vt\">perf</span></div>\n",
       "\n",
       "\n",
       "</div>\n",
       "\n",
       "\n",
       "    </div>\n",
       "\n",
       "\n",
       "</div>\n",
       "\n",
       "<div class=\"patom  hl\" >\n",
       "\n",
       "    <div class=\"phrase hl\" >\n",
       "        <a href=\"https://shebanq.ancient-data.org/hebrew/text?book=Psalmi&chapter=73&verse=27&version=c&mr=m&qw=q&tp=txt_p&tr=hb&wget=v&qget=v&nget=vt\" title=\"Psalms 73:27\" sec=\"Psalms 73:27\">phrase</a> <a href=\"#\" class=\"nd\">843944</a>  <span class=\"function\">Objc</span> <span class=\"typ\">NP</span>\n",
       "    </div>\n",
       "    <div class=\"atoms\">\n",
       "\n",
       "<div class=\"word  hl\" >\n",
       "<a href=\"#\" class=\"nd\">322766</a>\n",
       "<div class=\"h\"><a target=\"_blank\" href=\"https://shebanq.ancient-data.org/hebrew/word?version=c&id=1KLn\" title=\"show this lexeme in SHEBANQ\">כָּל־</a></div>\n",
       "<div class=\"features\"> <span class=\"pdp\"><a href=\"https://shebanq.ancient-data.org/hebrew/text?book=Psalmi&chapter=73&verse=27&version=c&mr=m&qw=q&tp=txt_p&tr=hb&wget=v&qget=v&nget=vt\" title=\"Psalms 73:27\" sec=\"Psalms 73:27\">subs</a></span> <span class=\"gloss\">whole</span></div>\n",
       "\n",
       "\n",
       "</div>\n",
       "\n",
       "\n",
       "    </div>\n",
       "\n",
       "\n",
       "</div>\n",
       "\n",
       "\n",
       "    </div>\n",
       "\n",
       "\n",
       "</div>\n",
       "\n",
       "\n",
       "</div>\n"
      ],
      "text/plain": [
       "<IPython.core.display.HTML object>"
      ]
     },
     "metadata": {},
     "output_type": "display_data"
    },
    {
     "name": "stdout",
     "output_type": "stream",
     "text": [
      "Ps 119:118\n",
      "v1 issue: missing שֹׁוגִ֣ים after כֹּל\n",
      "v2 update: not yet going out of clause boundaries\n"
     ]
    },
    {
     "data": {
      "text/markdown": [
       "\n",
       "\n",
       "**Result** *Ku Eval 13*\n",
       "\n"
      ],
      "text/plain": [
       "<IPython.core.display.Markdown object>"
      ]
     },
     "metadata": {},
     "output_type": "display_data"
    },
    {
     "data": {
      "text/html": [
       "<a href=\"https://shebanq.ancient-data.org/hebrew/text?book=Psalmi&chapter=119&verse=118&version=c&mr=m&qw=q&tp=txt_p&tr=hb&wget=v&qget=v&nget=vt\" title=\"show this passage in SHEBANQ\" sec=\"Psalms 119:118\">Psalms 119:118</a>\n",
       "<div class=\"atoms  \" >\n",
       "<a href=\"#\" class=\"nd\">496425</a>\n",
       "\n",
       "\n",
       "\n",
       "<div class=\"catom  \" >\n",
       "\n",
       "    <div class=\"clause \" >\n",
       "        <a href=\"https://shebanq.ancient-data.org/hebrew/text?book=Psalmi&chapter=119&verse=118&version=c&mr=m&qw=q&tp=txt_p&tr=hb&wget=v&qget=v&nget=vt\" title=\"Psalms 119:118\" sec=\"Psalms 119:118\">clause</a> <a href=\"#\" class=\"nd\">496425</a>  <span class=\"typ\">ZQt0</span>\n",
       "    </div>\n",
       "    <div class=\"atoms\">\n",
       "\n",
       "<div class=\"patom  \" >\n",
       "\n",
       "    <div class=\"phrase \" >\n",
       "        <a href=\"https://shebanq.ancient-data.org/hebrew/text?book=Psalmi&chapter=119&verse=118&version=c&mr=m&qw=q&tp=txt_p&tr=hb&wget=v&qget=v&nget=vt\" title=\"Psalms 119:118\" sec=\"Psalms 119:118\">phrase</a> <a href=\"#\" class=\"nd\">850462</a>  <span class=\"function\">Pred</span> <span class=\"typ\">VP</span>\n",
       "    </div>\n",
       "    <div class=\"atoms\">\n",
       "\n",
       "<div class=\"word  \" >\n",
       "<a href=\"#\" class=\"nd\">332217</a>\n",
       "<div class=\"h\"><a target=\"_blank\" href=\"https://shebanq.ancient-data.org/hebrew/word?version=c&id=1SLHv\" title=\"show this lexeme in SHEBANQ\">סָ֭לִיתָ </a></div>\n",
       "<div class=\"features\"> <span class=\"pdp\"><a href=\"https://shebanq.ancient-data.org/hebrew/text?book=Psalmi&chapter=119&verse=118&version=c&mr=m&qw=q&tp=txt_p&tr=hb&wget=v&qget=v&nget=vt\" title=\"Psalms 119:118\" sec=\"Psalms 119:118\">verb</a></span> <span class=\"gloss\">reject</span> <span class=\"vs\">qal</span> <span class=\"vt\">perf</span></div>\n",
       "\n",
       "\n",
       "</div>\n",
       "\n",
       "\n",
       "    </div>\n",
       "\n",
       "\n",
       "</div>\n",
       "\n",
       "<div class=\"patom  hl\" >\n",
       "\n",
       "    <div class=\"phrase hl\" >\n",
       "        <a href=\"https://shebanq.ancient-data.org/hebrew/text?book=Psalmi&chapter=119&verse=118&version=c&mr=m&qw=q&tp=txt_p&tr=hb&wget=v&qget=v&nget=vt\" title=\"Psalms 119:118\" sec=\"Psalms 119:118\">phrase</a> <a href=\"#\" class=\"nd\">850463</a>  <span class=\"function\">Objc</span> <span class=\"typ\">NP</span>\n",
       "    </div>\n",
       "    <div class=\"atoms\">\n",
       "\n",
       "<div class=\"word  hl\" >\n",
       "<a href=\"#\" class=\"nd\">332218</a>\n",
       "<div class=\"h\"><a target=\"_blank\" href=\"https://shebanq.ancient-data.org/hebrew/word?version=c&id=1KLn\" title=\"show this lexeme in SHEBANQ\">כָּל־</a></div>\n",
       "<div class=\"features\"> <span class=\"pdp\"><a href=\"https://shebanq.ancient-data.org/hebrew/text?book=Psalmi&chapter=119&verse=118&version=c&mr=m&qw=q&tp=txt_p&tr=hb&wget=v&qget=v&nget=vt\" title=\"Psalms 119:118\" sec=\"Psalms 119:118\">subs</a></span> <span class=\"gloss\">whole</span></div>\n",
       "\n",
       "\n",
       "</div>\n",
       "\n",
       "\n",
       "    </div>\n",
       "\n",
       "\n",
       "</div>\n",
       "\n",
       "\n",
       "    </div>\n",
       "\n",
       "\n",
       "</div>\n",
       "\n",
       "\n",
       "</div>\n"
      ],
      "text/plain": [
       "<IPython.core.display.HTML object>"
      ]
     },
     "metadata": {},
     "output_type": "display_data"
    },
    {
     "name": "stdout",
     "output_type": "stream",
     "text": [
      "Job 40:11\n",
      "v1 issue: missing גֵּ֝אֶ֗ה after כֹּל\n",
      "v2 update: fixed\n"
     ]
    },
    {
     "data": {
      "text/markdown": [
       "\n",
       "\n",
       "**Result** *Ku Eval 14*\n",
       "\n"
      ],
      "text/plain": [
       "<IPython.core.display.Markdown object>"
      ]
     },
     "metadata": {},
     "output_type": "display_data"
    },
    {
     "data": {
      "text/html": [
       "<a href=\"https://shebanq.ancient-data.org/hebrew/text?book=Iob&chapter=40&verse=11&version=c&mr=m&qw=q&tp=txt_p&tr=hb&wget=v&qget=v&nget=vt\" title=\"show this passage in SHEBANQ\" sec=\"Job 40:11\">Job 40:11</a>\n",
       "<div class=\"atoms  \" >\n",
       "<a href=\"#\" class=\"nd\">500267</a>\n",
       "\n",
       "\n",
       "\n",
       "<div class=\"catom  \" >\n",
       "\n",
       "    <div class=\"clause \" >\n",
       "        <a href=\"https://shebanq.ancient-data.org/hebrew/text?book=Iob&chapter=40&verse=11&version=c&mr=m&qw=q&tp=txt_p&tr=hb&wget=v&qget=v&nget=vt\" title=\"Job 40:11\" sec=\"Job 40:11\">clause</a> <a href=\"#\" class=\"nd\">500267</a>  <span class=\"typ\">WIm0</span>\n",
       "    </div>\n",
       "    <div class=\"atoms\">\n",
       "\n",
       "<div class=\"patom  \" >\n",
       "\n",
       "    <div class=\"phrase \" >\n",
       "        <a href=\"https://shebanq.ancient-data.org/hebrew/text?book=Iob&chapter=40&verse=11&version=c&mr=m&qw=q&tp=txt_p&tr=hb&wget=v&qget=v&nget=vt\" title=\"Job 40:11\" sec=\"Job 40:11\">phrase</a> <a href=\"#\" class=\"nd\">860845</a>  <span class=\"function\">Conj</span> <span class=\"typ\">CP</span>\n",
       "    </div>\n",
       "    <div class=\"atoms\">\n",
       "\n",
       "<div class=\"word  \" >\n",
       "<a href=\"#\" class=\"nd\">346212</a>\n",
       "<div class=\"h\"><a target=\"_blank\" href=\"https://shebanq.ancient-data.org/hebrew/word?version=c&id=1W\" title=\"show this lexeme in SHEBANQ\">וּ</a></div>\n",
       "<div class=\"features\"> <span class=\"pdp\"><a href=\"https://shebanq.ancient-data.org/hebrew/text?book=Iob&chapter=40&verse=11&version=c&mr=m&qw=q&tp=txt_p&tr=hb&wget=v&qget=v&nget=vt\" title=\"Job 40:11\" sec=\"Job 40:11\">conj</a></span> <span class=\"gloss\">and</span></div>\n",
       "\n",
       "\n",
       "</div>\n",
       "\n",
       "\n",
       "    </div>\n",
       "\n",
       "\n",
       "</div>\n",
       "\n",
       "<div class=\"patom  \" >\n",
       "\n",
       "    <div class=\"phrase \" >\n",
       "        <a href=\"https://shebanq.ancient-data.org/hebrew/text?book=Iob&chapter=40&verse=11&version=c&mr=m&qw=q&tp=txt_p&tr=hb&wget=v&qget=v&nget=vt\" title=\"Job 40:11\" sec=\"Job 40:11\">phrase</a> <a href=\"#\" class=\"nd\">860846</a>  <span class=\"function\">Pred</span> <span class=\"typ\">VP</span>\n",
       "    </div>\n",
       "    <div class=\"atoms\">\n",
       "\n",
       "<div class=\"word  \" >\n",
       "<a href=\"#\" class=\"nd\">346213</a>\n",
       "<div class=\"h\"><a target=\"_blank\" href=\"https://shebanq.ancient-data.org/hebrew/word?version=c&id=1RAHv\" title=\"show this lexeme in SHEBANQ\">רְאֵ֥ה </a></div>\n",
       "<div class=\"features\"> <span class=\"pdp\"><a href=\"https://shebanq.ancient-data.org/hebrew/text?book=Iob&chapter=40&verse=11&version=c&mr=m&qw=q&tp=txt_p&tr=hb&wget=v&qget=v&nget=vt\" title=\"Job 40:11\" sec=\"Job 40:11\">verb</a></span> <span class=\"gloss\">see</span> <span class=\"vs\">qal</span> <span class=\"vt\">impv</span></div>\n",
       "\n",
       "\n",
       "</div>\n",
       "\n",
       "\n",
       "    </div>\n",
       "\n",
       "\n",
       "</div>\n",
       "\n",
       "<div class=\"patom  hl\" >\n",
       "\n",
       "    <div class=\"phrase hl\" >\n",
       "        <a href=\"https://shebanq.ancient-data.org/hebrew/text?book=Iob&chapter=40&verse=11&version=c&mr=m&qw=q&tp=txt_p&tr=hb&wget=v&qget=v&nget=vt\" title=\"Job 40:11\" sec=\"Job 40:11\">phrase</a> <a href=\"#\" class=\"nd\">860847</a>  <span class=\"function\">Objc</span> <span class=\"typ\">NP</span>\n",
       "    </div>\n",
       "    <div class=\"atoms\">\n",
       "\n",
       "<div class=\"word  \" >\n",
       "<a href=\"#\" class=\"nd\">346214</a>\n",
       "<div class=\"h\"><a target=\"_blank\" href=\"https://shebanq.ancient-data.org/hebrew/word?version=c&id=1KLn\" title=\"show this lexeme in SHEBANQ\">כָל־</a></div>\n",
       "<div class=\"features\"> <span class=\"pdp\"><a href=\"https://shebanq.ancient-data.org/hebrew/text?book=Iob&chapter=40&verse=11&version=c&mr=m&qw=q&tp=txt_p&tr=hb&wget=v&qget=v&nget=vt\" title=\"Job 40:11\" sec=\"Job 40:11\">subs</a></span> <span class=\"gloss\">whole</span></div>\n",
       "\n",
       "\n",
       "</div>\n",
       "\n",
       "<div class=\"word  hl\" >\n",
       "<a href=\"#\" class=\"nd\">346215</a>\n",
       "<div class=\"h\"><a target=\"_blank\" href=\"https://shebanq.ancient-data.org/hebrew/word?version=c&id=1GAHn\" title=\"show this lexeme in SHEBANQ\">גֵּ֝אֶ֗ה </a></div>\n",
       "<div class=\"features\"> <span class=\"pdp\"><a href=\"https://shebanq.ancient-data.org/hebrew/text?book=Iob&chapter=40&verse=11&version=c&mr=m&qw=q&tp=txt_p&tr=hb&wget=v&qget=v&nget=vt\" title=\"Job 40:11\" sec=\"Job 40:11\">subs</a></span> <span class=\"gloss\">haughty</span></div>\n",
       "\n",
       "\n",
       "</div>\n",
       "\n",
       "\n",
       "    </div>\n",
       "\n",
       "\n",
       "</div>\n",
       "\n",
       "\n",
       "    </div>\n",
       "\n",
       "\n",
       "</div>\n",
       "\n",
       "\n",
       "</div>\n"
      ],
      "text/plain": [
       "<IPython.core.display.HTML object>"
      ]
     },
     "metadata": {},
     "output_type": "display_data"
    },
    {
     "name": "stdout",
     "output_type": "stream",
     "text": [
      "Job 40:12\n",
      "v1 issue: missing גֵּ֝אֶ֗ה after כֹּל\n",
      "v2 update: fixed\n"
     ]
    },
    {
     "data": {
      "text/markdown": [
       "\n",
       "\n",
       "**Result** *Ku Eval 15*\n",
       "\n"
      ],
      "text/plain": [
       "<IPython.core.display.Markdown object>"
      ]
     },
     "metadata": {},
     "output_type": "display_data"
    },
    {
     "data": {
      "text/html": [
       "<a href=\"https://shebanq.ancient-data.org/hebrew/text?book=Iob&chapter=40&verse=12&version=c&mr=m&qw=q&tp=txt_p&tr=hb&wget=v&qget=v&nget=vt\" title=\"show this passage in SHEBANQ\" sec=\"Job 40:12\">Job 40:12</a>\n",
       "<div class=\"atoms  \" >\n",
       "<a href=\"#\" class=\"nd\">500269</a>\n",
       "\n",
       "\n",
       "\n",
       "<div class=\"catom  \" >\n",
       "\n",
       "    <div class=\"clause \" >\n",
       "        <a href=\"https://shebanq.ancient-data.org/hebrew/text?book=Iob&chapter=40&verse=12&version=c&mr=m&qw=q&tp=txt_p&tr=hb&wget=v&qget=v&nget=vt\" title=\"Job 40:12\" sec=\"Job 40:12\">clause</a> <a href=\"#\" class=\"nd\">500269</a>  <span class=\"typ\">ZIm0</span>\n",
       "    </div>\n",
       "    <div class=\"atoms\">\n",
       "\n",
       "<div class=\"patom  \" >\n",
       "\n",
       "    <div class=\"phrase \" >\n",
       "        <a href=\"https://shebanq.ancient-data.org/hebrew/text?book=Iob&chapter=40&verse=12&version=c&mr=m&qw=q&tp=txt_p&tr=hb&wget=v&qget=v&nget=vt\" title=\"Job 40:12\" sec=\"Job 40:12\">phrase</a> <a href=\"#\" class=\"nd\">860850</a>  <span class=\"function\">Pred</span> <span class=\"typ\">VP</span>\n",
       "    </div>\n",
       "    <div class=\"atoms\">\n",
       "\n",
       "<div class=\"word  \" >\n",
       "<a href=\"#\" class=\"nd\">346218</a>\n",
       "<div class=\"h\"><a target=\"_blank\" href=\"https://shebanq.ancient-data.org/hebrew/word?version=c&id=1RAHv\" title=\"show this lexeme in SHEBANQ\">רְאֵ֣ה </a></div>\n",
       "<div class=\"features\"> <span class=\"pdp\"><a href=\"https://shebanq.ancient-data.org/hebrew/text?book=Iob&chapter=40&verse=12&version=c&mr=m&qw=q&tp=txt_p&tr=hb&wget=v&qget=v&nget=vt\" title=\"Job 40:12\" sec=\"Job 40:12\">verb</a></span> <span class=\"gloss\">see</span> <span class=\"vs\">qal</span> <span class=\"vt\">impv</span></div>\n",
       "\n",
       "\n",
       "</div>\n",
       "\n",
       "\n",
       "    </div>\n",
       "\n",
       "\n",
       "</div>\n",
       "\n",
       "<div class=\"patom  hl\" >\n",
       "\n",
       "    <div class=\"phrase hl\" >\n",
       "        <a href=\"https://shebanq.ancient-data.org/hebrew/text?book=Iob&chapter=40&verse=12&version=c&mr=m&qw=q&tp=txt_p&tr=hb&wget=v&qget=v&nget=vt\" title=\"Job 40:12\" sec=\"Job 40:12\">phrase</a> <a href=\"#\" class=\"nd\">860851</a>  <span class=\"function\">Objc</span> <span class=\"typ\">NP</span>\n",
       "    </div>\n",
       "    <div class=\"atoms\">\n",
       "\n",
       "<div class=\"word  \" >\n",
       "<a href=\"#\" class=\"nd\">346219</a>\n",
       "<div class=\"h\"><a target=\"_blank\" href=\"https://shebanq.ancient-data.org/hebrew/word?version=c&id=1KLn\" title=\"show this lexeme in SHEBANQ\">כָל־</a></div>\n",
       "<div class=\"features\"> <span class=\"pdp\"><a href=\"https://shebanq.ancient-data.org/hebrew/text?book=Iob&chapter=40&verse=12&version=c&mr=m&qw=q&tp=txt_p&tr=hb&wget=v&qget=v&nget=vt\" title=\"Job 40:12\" sec=\"Job 40:12\">subs</a></span> <span class=\"gloss\">whole</span></div>\n",
       "\n",
       "\n",
       "</div>\n",
       "\n",
       "<div class=\"word  hl\" >\n",
       "<a href=\"#\" class=\"nd\">346220</a>\n",
       "<div class=\"h\"><a target=\"_blank\" href=\"https://shebanq.ancient-data.org/hebrew/word?version=c&id=1GAHn\" title=\"show this lexeme in SHEBANQ\">גֵּ֭אֶה </a></div>\n",
       "<div class=\"features\"> <span class=\"pdp\"><a href=\"https://shebanq.ancient-data.org/hebrew/text?book=Iob&chapter=40&verse=12&version=c&mr=m&qw=q&tp=txt_p&tr=hb&wget=v&qget=v&nget=vt\" title=\"Job 40:12\" sec=\"Job 40:12\">subs</a></span> <span class=\"gloss\">haughty</span></div>\n",
       "\n",
       "\n",
       "</div>\n",
       "\n",
       "\n",
       "    </div>\n",
       "\n",
       "\n",
       "</div>\n",
       "\n",
       "\n",
       "    </div>\n",
       "\n",
       "\n",
       "</div>\n",
       "\n",
       "\n",
       "</div>\n"
      ],
      "text/plain": [
       "<IPython.core.display.HTML object>"
      ]
     },
     "metadata": {},
     "output_type": "display_data"
    },
    {
     "name": "stdout",
     "output_type": "stream",
     "text": [
      "Prov 6:29\n",
      "v1 issue: missing נֹּגֵ֥עַ after כֹּל\n",
      "v2 update: not yet going out of clause boundaries\n"
     ]
    },
    {
     "data": {
      "text/markdown": [
       "\n",
       "\n",
       "**Result** *Ku Eval 16*\n",
       "\n"
      ],
      "text/plain": [
       "<IPython.core.display.Markdown object>"
      ]
     },
     "metadata": {},
     "output_type": "display_data"
    },
    {
     "data": {
      "text/html": [
       "<a href=\"https://shebanq.ancient-data.org/hebrew/text?book=Proverbia&chapter=6&verse=29&version=c&mr=m&qw=q&tp=txt_p&tr=hb&wget=v&qget=v&nget=vt\" title=\"show this passage in SHEBANQ\" sec=\"Proverbs 6:29\">Proverbs 6:29</a>\n",
       "<div class=\"atoms  \" >\n",
       "<a href=\"#\" class=\"nd\">500863</a>\n",
       "\n",
       "\n",
       "\n",
       "<div class=\"catom  \" >\n",
       "\n",
       "    <div class=\"clause \" >\n",
       "        <a href=\"https://shebanq.ancient-data.org/hebrew/text?book=Proverbia&chapter=6&verse=29&version=c&mr=m&qw=q&tp=txt_p&tr=hb&wget=v&qget=v&nget=vt\" title=\"Proverbs 6:29\" sec=\"Proverbs 6:29\">clause</a> <a href=\"#\" class=\"nd\">500863</a>  <span class=\"typ\">xYqX</span>\n",
       "    </div>\n",
       "    <div class=\"atoms\">\n",
       "\n",
       "<div class=\"patom  \" >\n",
       "\n",
       "    <div class=\"phrase \" >\n",
       "        <a href=\"https://shebanq.ancient-data.org/hebrew/text?book=Proverbia&chapter=6&verse=29&version=c&mr=m&qw=q&tp=txt_p&tr=hb&wget=v&qget=v&nget=vt\" title=\"Proverbs 6:29\" sec=\"Proverbs 6:29\">phrase</a> <a href=\"#\" class=\"nd\">862467</a>  <span class=\"function\">Nega</span> <span class=\"typ\">NegP</span>\n",
       "    </div>\n",
       "    <div class=\"atoms\">\n",
       "\n",
       "<div class=\"word  \" >\n",
       "<a href=\"#\" class=\"nd\">348522</a>\n",
       "<div class=\"h\"><a target=\"_blank\" href=\"https://shebanq.ancient-data.org/hebrew/word?version=c&id=1LA\" title=\"show this lexeme in SHEBANQ\">לֹ֥א </a></div>\n",
       "<div class=\"features\"> <span class=\"pdp\"><a href=\"https://shebanq.ancient-data.org/hebrew/text?book=Proverbia&chapter=6&verse=29&version=c&mr=m&qw=q&tp=txt_p&tr=hb&wget=v&qget=v&nget=vt\" title=\"Proverbs 6:29\" sec=\"Proverbs 6:29\">nega</a></span> <span class=\"gloss\">not</span></div>\n",
       "\n",
       "\n",
       "</div>\n",
       "\n",
       "\n",
       "    </div>\n",
       "\n",
       "\n",
       "</div>\n",
       "\n",
       "<div class=\"patom  \" >\n",
       "\n",
       "    <div class=\"phrase \" >\n",
       "        <a href=\"https://shebanq.ancient-data.org/hebrew/text?book=Proverbia&chapter=6&verse=29&version=c&mr=m&qw=q&tp=txt_p&tr=hb&wget=v&qget=v&nget=vt\" title=\"Proverbs 6:29\" sec=\"Proverbs 6:29\">phrase</a> <a href=\"#\" class=\"nd\">862468</a>  <span class=\"function\">Pred</span> <span class=\"typ\">VP</span>\n",
       "    </div>\n",
       "    <div class=\"atoms\">\n",
       "\n",
       "<div class=\"word  \" >\n",
       "<a href=\"#\" class=\"nd\">348523</a>\n",
       "<div class=\"h\"><a target=\"_blank\" href=\"https://shebanq.ancient-data.org/hebrew/word?version=c&id=1NQHv\" title=\"show this lexeme in SHEBANQ\">יִ֝נָּקֶ֗ה </a></div>\n",
       "<div class=\"features\"> <span class=\"pdp\"><a href=\"https://shebanq.ancient-data.org/hebrew/text?book=Proverbia&chapter=6&verse=29&version=c&mr=m&qw=q&tp=txt_p&tr=hb&wget=v&qget=v&nget=vt\" title=\"Proverbs 6:29\" sec=\"Proverbs 6:29\">verb</a></span> <span class=\"gloss\">be clean</span> <span class=\"vs\">nif</span> <span class=\"vt\">impf</span></div>\n",
       "\n",
       "\n",
       "</div>\n",
       "\n",
       "\n",
       "    </div>\n",
       "\n",
       "\n",
       "</div>\n",
       "\n",
       "<div class=\"patom  hl\" >\n",
       "\n",
       "    <div class=\"phrase hl\" >\n",
       "        <a href=\"https://shebanq.ancient-data.org/hebrew/text?book=Proverbia&chapter=6&verse=29&version=c&mr=m&qw=q&tp=txt_p&tr=hb&wget=v&qget=v&nget=vt\" title=\"Proverbs 6:29\" sec=\"Proverbs 6:29\">phrase</a> <a href=\"#\" class=\"nd\">862469</a>  <span class=\"function\">Subj</span> <span class=\"typ\">NP</span>\n",
       "    </div>\n",
       "    <div class=\"atoms\">\n",
       "\n",
       "<div class=\"word  hl\" >\n",
       "<a href=\"#\" class=\"nd\">348524</a>\n",
       "<div class=\"h\"><a target=\"_blank\" href=\"https://shebanq.ancient-data.org/hebrew/word?version=c&id=1KLn\" title=\"show this lexeme in SHEBANQ\">כָּֽל־</a></div>\n",
       "<div class=\"features\"> <span class=\"pdp\"><a href=\"https://shebanq.ancient-data.org/hebrew/text?book=Proverbia&chapter=6&verse=29&version=c&mr=m&qw=q&tp=txt_p&tr=hb&wget=v&qget=v&nget=vt\" title=\"Proverbs 6:29\" sec=\"Proverbs 6:29\">subs</a></span> <span class=\"gloss\">whole</span></div>\n",
       "\n",
       "\n",
       "</div>\n",
       "\n",
       "\n",
       "    </div>\n",
       "\n",
       "\n",
       "</div>\n",
       "\n",
       "\n",
       "    </div>\n",
       "\n",
       "\n",
       "</div>\n",
       "\n",
       "\n",
       "</div>\n"
      ],
      "text/plain": [
       "<IPython.core.display.HTML object>"
      ]
     },
     "metadata": {},
     "output_type": "display_data"
    },
    {
     "name": "stdout",
     "output_type": "stream",
     "text": [
      "Prov 20:8\n",
      "v1 issue: missing רָֽע after כֹּל\n",
      "v2 update: fixed\n"
     ]
    },
    {
     "data": {
      "text/markdown": [
       "\n",
       "\n",
       "**Result** *Ku Eval 17*\n",
       "\n"
      ],
      "text/plain": [
       "<IPython.core.display.Markdown object>"
      ]
     },
     "metadata": {},
     "output_type": "display_data"
    },
    {
     "data": {
      "text/html": [
       "<a href=\"https://shebanq.ancient-data.org/hebrew/text?book=Proverbia&chapter=20&verse=8&version=c&mr=m&qw=q&tp=txt_p&tr=hb&wget=v&qget=v&nget=vt\" title=\"show this passage in SHEBANQ\" sec=\"Proverbs 20:8\">Proverbs 20:8</a>\n",
       "<div class=\"atoms  \" >\n",
       "<a href=\"#\" class=\"nd\">501856</a>\n",
       "\n",
       "\n",
       "\n",
       "<div class=\"catom  l \" >\n",
       "\n",
       "    <div class=\"clause \" >\n",
       "        <a href=\"https://shebanq.ancient-data.org/hebrew/text?book=Proverbia&chapter=20&verse=8&version=c&mr=m&qw=q&tp=txt_p&tr=hb&wget=v&qget=v&nget=vt\" title=\"Proverbs 20:8\" sec=\"Proverbs 20:8\">clause</a> <a href=\"#\" class=\"nd\">501856</a>  <span class=\"typ\">Ptcp|Defc</span>\n",
       "    </div>\n",
       "    <div class=\"atoms\">\n",
       "\n",
       "<div class=\"patom  \" >\n",
       "\n",
       "    <div class=\"phrase \" >\n",
       "        <a href=\"https://shebanq.ancient-data.org/hebrew/text?book=Proverbia&chapter=20&verse=8&version=c&mr=m&qw=q&tp=txt_p&tr=hb&wget=v&qget=v&nget=vt\" title=\"Proverbs 20:8\" sec=\"Proverbs 20:8\">phrase</a> <a href=\"#\" class=\"nd\">865036</a>  <span class=\"function\">Subj</span> <span class=\"typ\">NP</span>\n",
       "    </div>\n",
       "    <div class=\"atoms\">\n",
       "\n",
       "<div class=\"word  \" >\n",
       "<a href=\"#\" class=\"nd\">352194</a>\n",
       "<div class=\"h\"><a target=\"_blank\" href=\"https://shebanq.ancient-data.org/hebrew/word?version=c&id=1MLKn\" title=\"show this lexeme in SHEBANQ\">מֶ֗לֶךְ </a></div>\n",
       "<div class=\"features\"> <span class=\"pdp\"><a href=\"https://shebanq.ancient-data.org/hebrew/text?book=Proverbia&chapter=20&verse=8&version=c&mr=m&qw=q&tp=txt_p&tr=hb&wget=v&qget=v&nget=vt\" title=\"Proverbs 20:8\" sec=\"Proverbs 20:8\">subs</a></span> <span class=\"gloss\">king</span></div>\n",
       "\n",
       "\n",
       "</div>\n",
       "\n",
       "\n",
       "    </div>\n",
       "\n",
       "\n",
       "</div>\n",
       "\n",
       "\n",
       "    </div>\n",
       "\n",
       "\n",
       "</div>\n",
       "\n",
       "<div class=\"catom  r \" >\n",
       "\n",
       "    <div class=\"clause \" >\n",
       "        <a href=\"https://shebanq.ancient-data.org/hebrew/text?book=Proverbia&chapter=20&verse=8&version=c&mr=m&qw=q&tp=txt_p&tr=hb&wget=v&qget=v&nget=vt\" title=\"Proverbs 20:8\" sec=\"Proverbs 20:8\">clause</a> <a href=\"#\" class=\"nd\">501856</a>  <span class=\"typ\">Ptcp</span>\n",
       "    </div>\n",
       "    <div class=\"atoms\">\n",
       "\n",
       "<div class=\"patom  \" >\n",
       "\n",
       "    <div class=\"phrase \" >\n",
       "        <a href=\"https://shebanq.ancient-data.org/hebrew/text?book=Proverbia&chapter=20&verse=8&version=c&mr=m&qw=q&tp=txt_p&tr=hb&wget=v&qget=v&nget=vt\" title=\"Proverbs 20:8\" sec=\"Proverbs 20:8\">phrase</a> <a href=\"#\" class=\"nd\">865039</a>  <span class=\"function\">PreC</span> <span class=\"typ\">VP</span>\n",
       "    </div>\n",
       "    <div class=\"atoms\">\n",
       "\n",
       "<div class=\"word  \" >\n",
       "<a href=\"#\" class=\"nd\">352199</a>\n",
       "<div class=\"h\"><a target=\"_blank\" href=\"https://shebanq.ancient-data.org/hebrew/word?version=c&id=1ZRHv\" title=\"show this lexeme in SHEBANQ\">מְזָרֶ֖ה </a></div>\n",
       "<div class=\"features\"> <span class=\"pdp\"><a href=\"https://shebanq.ancient-data.org/hebrew/text?book=Proverbia&chapter=20&verse=8&version=c&mr=m&qw=q&tp=txt_p&tr=hb&wget=v&qget=v&nget=vt\" title=\"Proverbs 20:8\" sec=\"Proverbs 20:8\">verb</a></span> <span class=\"gloss\">scatter</span> <span class=\"vs\">piel</span> <span class=\"vt\">ptca</span></div>\n",
       "\n",
       "\n",
       "</div>\n",
       "\n",
       "\n",
       "    </div>\n",
       "\n",
       "\n",
       "</div>\n",
       "\n",
       "<div class=\"patom  \" >\n",
       "\n",
       "    <div class=\"phrase \" >\n",
       "        <a href=\"https://shebanq.ancient-data.org/hebrew/text?book=Proverbia&chapter=20&verse=8&version=c&mr=m&qw=q&tp=txt_p&tr=hb&wget=v&qget=v&nget=vt\" title=\"Proverbs 20:8\" sec=\"Proverbs 20:8\">phrase</a> <a href=\"#\" class=\"nd\">865040</a>  <span class=\"function\">Adju</span> <span class=\"typ\">PP</span>\n",
       "    </div>\n",
       "    <div class=\"atoms\">\n",
       "\n",
       "<div class=\"word  \" >\n",
       "<a href=\"#\" class=\"nd\">352200</a>\n",
       "<div class=\"h\"><a target=\"_blank\" href=\"https://shebanq.ancient-data.org/hebrew/word?version=c&id=1B\" title=\"show this lexeme in SHEBANQ\">בְ</a></div>\n",
       "<div class=\"features\"> <span class=\"pdp\"><a href=\"https://shebanq.ancient-data.org/hebrew/text?book=Proverbia&chapter=20&verse=8&version=c&mr=m&qw=q&tp=txt_p&tr=hb&wget=v&qget=v&nget=vt\" title=\"Proverbs 20:8\" sec=\"Proverbs 20:8\">prep</a></span> <span class=\"gloss\">in</span></div>\n",
       "\n",
       "\n",
       "</div>\n",
       "\n",
       "<div class=\"word  \" >\n",
       "<a href=\"#\" class=\"nd\">352201</a>\n",
       "<div class=\"h\"><a target=\"_blank\" href=\"https://shebanq.ancient-data.org/hebrew/word?version=c&id=1OJNn\" title=\"show this lexeme in SHEBANQ\">עֵינָ֣יו </a></div>\n",
       "<div class=\"features\"> <span class=\"pdp\"><a href=\"https://shebanq.ancient-data.org/hebrew/text?book=Proverbia&chapter=20&verse=8&version=c&mr=m&qw=q&tp=txt_p&tr=hb&wget=v&qget=v&nget=vt\" title=\"Proverbs 20:8\" sec=\"Proverbs 20:8\">subs</a></span> <span class=\"gloss\">eye</span></div>\n",
       "\n",
       "\n",
       "</div>\n",
       "\n",
       "\n",
       "    </div>\n",
       "\n",
       "\n",
       "</div>\n",
       "\n",
       "<div class=\"patom  hl\" >\n",
       "\n",
       "    <div class=\"phrase hl\" >\n",
       "        <a href=\"https://shebanq.ancient-data.org/hebrew/text?book=Proverbia&chapter=20&verse=8&version=c&mr=m&qw=q&tp=txt_p&tr=hb&wget=v&qget=v&nget=vt\" title=\"Proverbs 20:8\" sec=\"Proverbs 20:8\">phrase</a> <a href=\"#\" class=\"nd\">865041</a>  <span class=\"function\">Objc</span> <span class=\"typ\">NP</span>\n",
       "    </div>\n",
       "    <div class=\"atoms\">\n",
       "\n",
       "<div class=\"word  \" >\n",
       "<a href=\"#\" class=\"nd\">352202</a>\n",
       "<div class=\"h\"><a target=\"_blank\" href=\"https://shebanq.ancient-data.org/hebrew/word?version=c&id=1KLn\" title=\"show this lexeme in SHEBANQ\">כָּל־</a></div>\n",
       "<div class=\"features\"> <span class=\"pdp\"><a href=\"https://shebanq.ancient-data.org/hebrew/text?book=Proverbia&chapter=20&verse=8&version=c&mr=m&qw=q&tp=txt_p&tr=hb&wget=v&qget=v&nget=vt\" title=\"Proverbs 20:8\" sec=\"Proverbs 20:8\">subs</a></span> <span class=\"gloss\">whole</span></div>\n",
       "\n",
       "\n",
       "</div>\n",
       "\n",
       "<div class=\"word  hl\" >\n",
       "<a href=\"#\" class=\"nd\">352203</a>\n",
       "<div class=\"h\"><a target=\"_blank\" href=\"https://shebanq.ancient-data.org/hebrew/word?version=c&id=1ROn\" title=\"show this lexeme in SHEBANQ\">רָֽע׃ </a></div>\n",
       "<div class=\"features\"> <span class=\"pdp\"><a href=\"https://shebanq.ancient-data.org/hebrew/text?book=Proverbia&chapter=20&verse=8&version=c&mr=m&qw=q&tp=txt_p&tr=hb&wget=v&qget=v&nget=vt\" title=\"Proverbs 20:8\" sec=\"Proverbs 20:8\">subs</a></span> <span class=\"gloss\">evil</span></div>\n",
       "\n",
       "\n",
       "</div>\n",
       "\n",
       "\n",
       "    </div>\n",
       "\n",
       "\n",
       "</div>\n",
       "\n",
       "\n",
       "    </div>\n",
       "\n",
       "\n",
       "</div>\n",
       "\n",
       "\n",
       "</div>\n"
      ],
      "text/plain": [
       "<IPython.core.display.HTML object>"
      ]
     },
     "metadata": {},
     "output_type": "display_data"
    },
    {
     "name": "stdout",
     "output_type": "stream",
     "text": [
      "2 Chr 13:9\n",
      "v1 issue: missing בָּ֗א after כֹּל\n",
      "v2 update: not yet going out of clause boundaries\n"
     ]
    },
    {
     "data": {
      "text/markdown": [
       "\n",
       "\n",
       "**Result** *Ku Eval 18*\n",
       "\n"
      ],
      "text/plain": [
       "<IPython.core.display.Markdown object>"
      ]
     },
     "metadata": {},
     "output_type": "display_data"
    },
    {
     "data": {
      "text/html": [
       "<a href=\"https://shebanq.ancient-data.org/hebrew/text?book=Chronica_II&chapter=13&verse=9&version=c&mr=m&qw=q&tp=txt_p&tr=hb&wget=v&qget=v&nget=vt\" title=\"show this passage in SHEBANQ\" sec=\"2_Chronicles 13:9\">2_Chronicles 13:9</a>\n",
       "<div class=\"atoms  \" >\n",
       "<a href=\"#\" class=\"nd\">513398</a>\n",
       "\n",
       "\n",
       "\n",
       "<div class=\"catom  \" >\n",
       "\n",
       "    <div class=\"clause \" >\n",
       "        <a href=\"https://shebanq.ancient-data.org/hebrew/text?book=Chronica_II&chapter=13&verse=9&version=c&mr=m&qw=q&tp=txt_p&tr=hb&wget=v&qget=v&nget=vt\" title=\"2_Chronicles 13:9\" sec=\"2_Chronicles 13:9\">clause</a> <a href=\"#\" class=\"nd\">513398</a>  <span class=\"typ\">Ellp</span>\n",
       "    </div>\n",
       "    <div class=\"atoms\">\n",
       "\n",
       "<div class=\"patom  hl\" >\n",
       "\n",
       "    <div class=\"phrase hl\" >\n",
       "        <a href=\"https://shebanq.ancient-data.org/hebrew/text?book=Chronica_II&chapter=13&verse=9&version=c&mr=m&qw=q&tp=txt_p&tr=hb&wget=v&qget=v&nget=vt\" title=\"2_Chronicles 13:9\" sec=\"2_Chronicles 13:9\">phrase</a> <a href=\"#\" class=\"nd\">897827</a>  <span class=\"function\">Objc</span> <span class=\"typ\">NP</span>\n",
       "    </div>\n",
       "    <div class=\"atoms\">\n",
       "\n",
       "<div class=\"word  hl\" >\n",
       "<a href=\"#\" class=\"nd\">413167</a>\n",
       "<div class=\"h\"><a target=\"_blank\" href=\"https://shebanq.ancient-data.org/hebrew/word?version=c&id=1KLn\" title=\"show this lexeme in SHEBANQ\">כָּל־</a></div>\n",
       "<div class=\"features\"> <span class=\"pdp\"><a href=\"https://shebanq.ancient-data.org/hebrew/text?book=Chronica_II&chapter=13&verse=9&version=c&mr=m&qw=q&tp=txt_p&tr=hb&wget=v&qget=v&nget=vt\" title=\"2_Chronicles 13:9\" sec=\"2_Chronicles 13:9\">subs</a></span> <span class=\"gloss\">whole</span></div>\n",
       "\n",
       "\n",
       "</div>\n",
       "\n",
       "\n",
       "    </div>\n",
       "\n",
       "\n",
       "</div>\n",
       "\n",
       "\n",
       "    </div>\n",
       "\n",
       "\n",
       "</div>\n",
       "\n",
       "\n",
       "</div>\n"
      ],
      "text/plain": [
       "<IPython.core.display.HTML object>"
      ]
     },
     "metadata": {},
     "output_type": "display_data"
    },
    {
     "name": "stdout",
     "output_type": "stream",
     "text": [
      "2 Chr 22:1\n",
      "v1 issue: missing רִאשֹׁנִים֙ after כֹּל\n",
      "v2 update: fixed\n"
     ]
    },
    {
     "data": {
      "text/markdown": [
       "\n",
       "\n",
       "**Result** *Ku Eval 19*\n",
       "\n"
      ],
      "text/plain": [
       "<IPython.core.display.Markdown object>"
      ]
     },
     "metadata": {},
     "output_type": "display_data"
    },
    {
     "data": {
      "text/html": [
       "<a href=\"https://shebanq.ancient-data.org/hebrew/text?book=Chronica_II&chapter=22&verse=1&version=c&mr=m&qw=q&tp=txt_p&tr=hb&wget=v&qget=v&nget=vt\" title=\"show this passage in SHEBANQ\" sec=\"2_Chronicles 22:1\">2_Chronicles 22:1</a>\n",
       "<div class=\"atoms  \" >\n",
       "<a href=\"#\" class=\"nd\">514152</a>\n",
       "\n",
       "\n",
       "\n",
       "<div class=\"catom  \" >\n",
       "\n",
       "    <div class=\"clause \" >\n",
       "        <a href=\"https://shebanq.ancient-data.org/hebrew/text?book=Chronica_II&chapter=22&verse=1&version=c&mr=m&qw=q&tp=txt_p&tr=hb&wget=v&qget=v&nget=vt\" title=\"2_Chronicles 22:1\" sec=\"2_Chronicles 22:1\">clause</a> <a href=\"#\" class=\"nd\">514152</a>  <span class=\"typ\">xQtX</span>\n",
       "    </div>\n",
       "    <div class=\"atoms\">\n",
       "\n",
       "<div class=\"patom  \" >\n",
       "\n",
       "    <div class=\"phrase \" >\n",
       "        <a href=\"https://shebanq.ancient-data.org/hebrew/text?book=Chronica_II&chapter=22&verse=1&version=c&mr=m&qw=q&tp=txt_p&tr=hb&wget=v&qget=v&nget=vt\" title=\"2_Chronicles 22:1\" sec=\"2_Chronicles 22:1\">phrase</a> <a href=\"#\" class=\"nd\">900085</a>  <span class=\"function\">Conj</span> <span class=\"typ\">CP</span>\n",
       "    </div>\n",
       "    <div class=\"atoms\">\n",
       "\n",
       "<div class=\"word  \" >\n",
       "<a href=\"#\" class=\"nd\">417283</a>\n",
       "<div class=\"h\"><a target=\"_blank\" href=\"https://shebanq.ancient-data.org/hebrew/word?version=c&id=1KJ\" title=\"show this lexeme in SHEBANQ\">כִּ֤י </a></div>\n",
       "<div class=\"features\"> <span class=\"pdp\"><a href=\"https://shebanq.ancient-data.org/hebrew/text?book=Chronica_II&chapter=22&verse=1&version=c&mr=m&qw=q&tp=txt_p&tr=hb&wget=v&qget=v&nget=vt\" title=\"2_Chronicles 22:1\" sec=\"2_Chronicles 22:1\">conj</a></span> <span class=\"gloss\">that</span></div>\n",
       "\n",
       "\n",
       "</div>\n",
       "\n",
       "\n",
       "    </div>\n",
       "\n",
       "\n",
       "</div>\n",
       "\n",
       "<div class=\"patom  hl\" >\n",
       "\n",
       "    <div class=\"phrase hl\" >\n",
       "        <a href=\"https://shebanq.ancient-data.org/hebrew/text?book=Chronica_II&chapter=22&verse=1&version=c&mr=m&qw=q&tp=txt_p&tr=hb&wget=v&qget=v&nget=vt\" title=\"2_Chronicles 22:1\" sec=\"2_Chronicles 22:1\">phrase</a> <a href=\"#\" class=\"nd\">900086</a>  <span class=\"function\">Objc</span> <span class=\"typ\">NP</span>\n",
       "    </div>\n",
       "    <div class=\"atoms\">\n",
       "\n",
       "<div class=\"word  \" >\n",
       "<a href=\"#\" class=\"nd\">417284</a>\n",
       "<div class=\"h\"><a target=\"_blank\" href=\"https://shebanq.ancient-data.org/hebrew/word?version=c&id=1KLn\" title=\"show this lexeme in SHEBANQ\">כָל־</a></div>\n",
       "<div class=\"features\"> <span class=\"pdp\"><a href=\"https://shebanq.ancient-data.org/hebrew/text?book=Chronica_II&chapter=22&verse=1&version=c&mr=m&qw=q&tp=txt_p&tr=hb&wget=v&qget=v&nget=vt\" title=\"2_Chronicles 22:1\" sec=\"2_Chronicles 22:1\">subs</a></span> <span class=\"gloss\">whole</span></div>\n",
       "\n",
       "\n",
       "</div>\n",
       "\n",
       "<div class=\"word  \" >\n",
       "<a href=\"#\" class=\"nd\">417285</a>\n",
       "<div class=\"h\"><a target=\"_blank\" href=\"https://shebanq.ancient-data.org/hebrew/word?version=c&id=1H\" title=\"show this lexeme in SHEBANQ\">הָ</a></div>\n",
       "<div class=\"features\"> <span class=\"pdp\"><a href=\"https://shebanq.ancient-data.org/hebrew/text?book=Chronica_II&chapter=22&verse=1&version=c&mr=m&qw=q&tp=txt_p&tr=hb&wget=v&qget=v&nget=vt\" title=\"2_Chronicles 22:1\" sec=\"2_Chronicles 22:1\">art</a></span> <span class=\"gloss\">the</span></div>\n",
       "\n",
       "\n",
       "</div>\n",
       "\n",
       "<div class=\"word  hl\" >\n",
       "<a href=\"#\" class=\"nd\">417286</a>\n",
       "<div class=\"h\"><a target=\"_blank\" href=\"https://shebanq.ancient-data.org/hebrew/word?version=c&id=1RACWNn\" title=\"show this lexeme in SHEBANQ\">רִאשֹׁנִים֙ </a></div>\n",
       "<div class=\"features\"> <span class=\"pdp\"><a href=\"https://shebanq.ancient-data.org/hebrew/text?book=Chronica_II&chapter=22&verse=1&version=c&mr=m&qw=q&tp=txt_p&tr=hb&wget=v&qget=v&nget=vt\" title=\"2_Chronicles 22:1\" sec=\"2_Chronicles 22:1\">subs</a></span> <span class=\"gloss\">first</span></div>\n",
       "\n",
       "\n",
       "</div>\n",
       "\n",
       "\n",
       "    </div>\n",
       "\n",
       "\n",
       "</div>\n",
       "\n",
       "<div class=\"patom  \" >\n",
       "\n",
       "    <div class=\"phrase \" >\n",
       "        <a href=\"https://shebanq.ancient-data.org/hebrew/text?book=Chronica_II&chapter=22&verse=1&version=c&mr=m&qw=q&tp=txt_p&tr=hb&wget=v&qget=v&nget=vt\" title=\"2_Chronicles 22:1\" sec=\"2_Chronicles 22:1\">phrase</a> <a href=\"#\" class=\"nd\">900087</a>  <span class=\"function\">Pred</span> <span class=\"typ\">VP</span>\n",
       "    </div>\n",
       "    <div class=\"atoms\">\n",
       "\n",
       "<div class=\"word  \" >\n",
       "<a href=\"#\" class=\"nd\">417287</a>\n",
       "<div class=\"h\"><a target=\"_blank\" href=\"https://shebanq.ancient-data.org/hebrew/word?version=c&id=1HRGv\" title=\"show this lexeme in SHEBANQ\">הָרַ֣ג </a></div>\n",
       "<div class=\"features\"> <span class=\"pdp\"><a href=\"https://shebanq.ancient-data.org/hebrew/text?book=Chronica_II&chapter=22&verse=1&version=c&mr=m&qw=q&tp=txt_p&tr=hb&wget=v&qget=v&nget=vt\" title=\"2_Chronicles 22:1\" sec=\"2_Chronicles 22:1\">verb</a></span> <span class=\"gloss\">kill</span> <span class=\"vs\">qal</span> <span class=\"vt\">perf</span></div>\n",
       "\n",
       "\n",
       "</div>\n",
       "\n",
       "\n",
       "    </div>\n",
       "\n",
       "\n",
       "</div>\n",
       "\n",
       "<div class=\"patom  \" >\n",
       "\n",
       "    <div class=\"phrase \" >\n",
       "        <a href=\"https://shebanq.ancient-data.org/hebrew/text?book=Chronica_II&chapter=22&verse=1&version=c&mr=m&qw=q&tp=txt_p&tr=hb&wget=v&qget=v&nget=vt\" title=\"2_Chronicles 22:1\" sec=\"2_Chronicles 22:1\">phrase</a> <a href=\"#\" class=\"nd\">900088</a>  <span class=\"function\">Subj</span> <span class=\"typ\">NP</span>\n",
       "    </div>\n",
       "    <div class=\"atoms\">\n",
       "\n",
       "<div class=\"word  \" >\n",
       "<a href=\"#\" class=\"nd\">417288</a>\n",
       "<div class=\"h\"><a target=\"_blank\" href=\"https://shebanq.ancient-data.org/hebrew/word?version=c&id=1H\" title=\"show this lexeme in SHEBANQ\">הַ</a></div>\n",
       "<div class=\"features\"> <span class=\"pdp\"><a href=\"https://shebanq.ancient-data.org/hebrew/text?book=Chronica_II&chapter=22&verse=1&version=c&mr=m&qw=q&tp=txt_p&tr=hb&wget=v&qget=v&nget=vt\" title=\"2_Chronicles 22:1\" sec=\"2_Chronicles 22:1\">art</a></span> <span class=\"gloss\">the</span></div>\n",
       "\n",
       "\n",
       "</div>\n",
       "\n",
       "<div class=\"word  \" >\n",
       "<a href=\"#\" class=\"nd\">417289</a>\n",
       "<div class=\"h\"><a target=\"_blank\" href=\"https://shebanq.ancient-data.org/hebrew/word?version=c&id=1GDWDn\" title=\"show this lexeme in SHEBANQ\">גְּד֔וּד </a></div>\n",
       "<div class=\"features\"> <span class=\"pdp\"><a href=\"https://shebanq.ancient-data.org/hebrew/text?book=Chronica_II&chapter=22&verse=1&version=c&mr=m&qw=q&tp=txt_p&tr=hb&wget=v&qget=v&nget=vt\" title=\"2_Chronicles 22:1\" sec=\"2_Chronicles 22:1\">subs</a></span> <span class=\"gloss\">band</span></div>\n",
       "\n",
       "\n",
       "</div>\n",
       "\n",
       "\n",
       "    </div>\n",
       "\n",
       "\n",
       "</div>\n",
       "\n",
       "\n",
       "    </div>\n",
       "\n",
       "\n",
       "</div>\n",
       "\n",
       "\n",
       "</div>\n"
      ],
      "text/plain": [
       "<IPython.core.display.HTML object>"
      ]
     },
     "metadata": {},
     "output_type": "display_data"
    }
   ],
   "source": [
    "abb2book = {'Gen': 'Genesis', \n",
    "            'Num':'Numbers', \n",
    "            'Deut': 'Deuteronomy',\n",
    "            'Judg': 'Judges',\n",
    "            '1_Sam': '1_Samuel',\n",
    "            '1_Kgs': '1_Kings',\n",
    "            'Isa': 'Isaiah',\n",
    "            'Ps': 'Psalms',\n",
    "            'Job': 'Job',\n",
    "            'Prov': 'Proverbs',\n",
    "            '2_Chr': '2_Chronicles'}\n",
    "\n",
    "my_decisions = {'not yet going out of clause boundaries': {0,1, 2 ,6, 8, 11, 12 , 13, 16, 18},\n",
    "                'fixed': {3, 4, 5, 7, 9, 10, 14, 15, 17, 19},}\n",
    "\n",
    "for decision, numbers in my_decisions.items():\n",
    "    for num in numbers:\n",
    "        ku_eval.loc[num]['Decision'] = decision\n",
    "        \n",
    "\n",
    "for i, ref in enumerate(ku_eval.Verse):\n",
    "\n",
    "    book, ch_vs = ref.split() if not re.match('^\\d', ref) else ref.replace(' ', '_', 1).split()\n",
    "    book = abb2book[book.strip()]\n",
    "    chapter, verse = ch_vs.split(':')\n",
    "    \n",
    "    # get TF ref\n",
    "    tf_node = T.nodeFromSection((book, int(chapter), int(verse)))\n",
    "    for phrase in L.d(tf_node, 'phrase'):\n",
    "        if 'KL/' in [F.lex.v(w) for w in L.d(phrase, 'word')]:\n",
    "            print(ref)\n",
    "            print(f'v1 issue: {ku_eval.Issue[i]}')\n",
    "            print(f'v2 update: {ku_eval.Decision[i]}')\n",
    "            A.prettyTuple((phrase,)+tuple(phrase2heads[phrase]), seqNumber=f'Ku Eval {i}', condenseType='clause', withNodes=True)"
   ]
  },
  {
   "cell_type": "markdown",
   "metadata": {},
   "source": [
    "By way of overview, here are the previous issues and the new decisions."
   ]
  },
  {
   "cell_type": "code",
   "execution_count": 50,
   "metadata": {},
   "outputs": [
    {
     "data": {
      "text/html": [
       "<div>\n",
       "<style scoped>\n",
       "    .dataframe tbody tr th:only-of-type {\n",
       "        vertical-align: middle;\n",
       "    }\n",
       "\n",
       "    .dataframe tbody tr th {\n",
       "        vertical-align: top;\n",
       "    }\n",
       "\n",
       "    .dataframe thead th {\n",
       "        text-align: right;\n",
       "    }\n",
       "</style>\n",
       "<table border=\"1\" class=\"dataframe\">\n",
       "  <thead>\n",
       "    <tr style=\"text-align: right;\">\n",
       "      <th></th>\n",
       "      <th>Verse</th>\n",
       "      <th>Issue</th>\n",
       "      <th>Cause</th>\n",
       "      <th>Decision</th>\n",
       "    </tr>\n",
       "  </thead>\n",
       "  <tbody>\n",
       "    <tr>\n",
       "      <th>0</th>\n",
       "      <td>Gen 39:4</td>\n",
       "      <td>missing יֵשׁ after כֹּל</td>\n",
       "      <td>יֵשׁ is not in the same clause as כֹּל</td>\n",
       "      <td>not yet going out of clause boundaries</td>\n",
       "    </tr>\n",
       "    <tr>\n",
       "      <th>1</th>\n",
       "      <td>Num 5:2</td>\n",
       "      <td>missing two כֹּל’s (the one before צָר֖וּעַ an...</td>\n",
       "      <td></td>\n",
       "      <td>not yet going out of clause boundaries</td>\n",
       "    </tr>\n",
       "    <tr>\n",
       "      <th>2</th>\n",
       "      <td>Num 5:2</td>\n",
       "      <td>it’s able to find the last כֹ֖ל but not טָמֵא ...</td>\n",
       "      <td>טָמֵא belongs to another clause and is not mar...</td>\n",
       "      <td>not yet going out of clause boundaries</td>\n",
       "    </tr>\n",
       "    <tr>\n",
       "      <th>3</th>\n",
       "      <td>Num 31:7</td>\n",
       "      <td>missing זָכָר after כֹּל</td>\n",
       "      <td>זָכָר is an adjective</td>\n",
       "      <td>fixed</td>\n",
       "    </tr>\n",
       "    <tr>\n",
       "      <th>4</th>\n",
       "      <td>Num 31:17</td>\n",
       "      <td>missing זָכָ֖ר after כֹּל</td>\n",
       "      <td>זָכָר is an adjective</td>\n",
       "      <td>fixed</td>\n",
       "    </tr>\n",
       "    <tr>\n",
       "      <th>5</th>\n",
       "      <td>Num 31:17</td>\n",
       "      <td>missing כֹּל before אִשָּׁה</td>\n",
       "      <td></td>\n",
       "      <td>fixed</td>\n",
       "    </tr>\n",
       "    <tr>\n",
       "      <th>6</th>\n",
       "      <td>Deut 25:18</td>\n",
       "      <td>missing חשׁל after כֹּל</td>\n",
       "      <td>נֶּחֱשָׁלִ֣ים belongs to another clause and is...</td>\n",
       "      <td>not yet going out of clause boundaries</td>\n",
       "    </tr>\n",
       "    <tr>\n",
       "      <th>7</th>\n",
       "      <td>Judg 13:4</td>\n",
       "      <td>missing טָמֵֽא after כֹּל</td>\n",
       "      <td>טָמֵֽא is an adjective</td>\n",
       "      <td>fixed</td>\n",
       "    </tr>\n",
       "    <tr>\n",
       "      <th>8</th>\n",
       "      <td>1 Sam 14:36</td>\n",
       "      <td>missing טוֹב after כֹּל</td>\n",
       "      <td>טוֹב is an adjective</td>\n",
       "      <td>not yet going out of clause boundaries</td>\n",
       "    </tr>\n",
       "    <tr>\n",
       "      <th>9</th>\n",
       "      <td>1 Kgs 11:15</td>\n",
       "      <td>missing זָכָר after כֹּל</td>\n",
       "      <td>זָכָר is an adjective</td>\n",
       "      <td>fixed</td>\n",
       "    </tr>\n",
       "    <tr>\n",
       "      <th>10</th>\n",
       "      <td>1 Kgs 11:16</td>\n",
       "      <td>missing זָכָר after כֹּל</td>\n",
       "      <td>זָכָר is an adjective</td>\n",
       "      <td>fixed</td>\n",
       "    </tr>\n",
       "    <tr>\n",
       "      <th>11</th>\n",
       "      <td>Isa 43:7</td>\n",
       "      <td>missing הַנִּקְרָ֣א after כֹּל</td>\n",
       "      <td>נִּקְרָ֣א belongs to another clause and is a verb</td>\n",
       "      <td>not yet going out of clause boundaries</td>\n",
       "    </tr>\n",
       "    <tr>\n",
       "      <th>12</th>\n",
       "      <td>Ps 73:27</td>\n",
       "      <td>missing זֹונֶ֥ה after כֹּל</td>\n",
       "      <td>זֹונֶ֥ה belongs to another clause and is a verb</td>\n",
       "      <td>not yet going out of clause boundaries</td>\n",
       "    </tr>\n",
       "    <tr>\n",
       "      <th>13</th>\n",
       "      <td>Ps 119:118</td>\n",
       "      <td>missing שֹׁוגִ֣ים after כֹּל</td>\n",
       "      <td>שֹׁוגִ֣ים belongs to another clause and is a verb</td>\n",
       "      <td>not yet going out of clause boundaries</td>\n",
       "    </tr>\n",
       "    <tr>\n",
       "      <th>14</th>\n",
       "      <td>Job 40:11</td>\n",
       "      <td>missing גֵּ֝אֶ֗ה after כֹּל</td>\n",
       "      <td>גֵּ֝אֶ֗ה is an adjective</td>\n",
       "      <td>fixed</td>\n",
       "    </tr>\n",
       "    <tr>\n",
       "      <th>15</th>\n",
       "      <td>Job 40:12</td>\n",
       "      <td>missing גֵּ֝אֶ֗ה after כֹּל</td>\n",
       "      <td>גֵּ֝אֶ֗ה is an adjective</td>\n",
       "      <td>fixed</td>\n",
       "    </tr>\n",
       "    <tr>\n",
       "      <th>16</th>\n",
       "      <td>Prov 6:29</td>\n",
       "      <td>missing נֹּגֵ֥עַ after כֹּל</td>\n",
       "      <td>נֹּגֵ֥עַ belongs to another clause and is a verb</td>\n",
       "      <td>not yet going out of clause boundaries</td>\n",
       "    </tr>\n",
       "    <tr>\n",
       "      <th>17</th>\n",
       "      <td>Prov 20:8</td>\n",
       "      <td>missing רָֽע after כֹּל</td>\n",
       "      <td>רָֽע is an adjective</td>\n",
       "      <td>fixed</td>\n",
       "    </tr>\n",
       "    <tr>\n",
       "      <th>18</th>\n",
       "      <td>2 Chr 13:9</td>\n",
       "      <td>missing בָּ֗א after כֹּל</td>\n",
       "      <td>בָּ֗א belongs to another clause and is a verb</td>\n",
       "      <td>not yet going out of clause boundaries</td>\n",
       "    </tr>\n",
       "    <tr>\n",
       "      <th>19</th>\n",
       "      <td>2 Chr 22:1</td>\n",
       "      <td>missing רִאשֹׁנִים֙ after כֹּל</td>\n",
       "      <td>רִאשֹׁנִים֙ is an ordinal?</td>\n",
       "      <td>fixed</td>\n",
       "    </tr>\n",
       "  </tbody>\n",
       "</table>\n",
       "</div>"
      ],
      "text/plain": [
       "          Verse                                              Issue  \\\n",
       "0      Gen 39:4                            missing יֵשׁ after כֹּל   \n",
       "1       Num 5:2  missing two כֹּל’s (the one before צָר֖וּעַ an...   \n",
       "2       Num 5:2  it’s able to find the last כֹ֖ל but not טָמֵא ...   \n",
       "3      Num 31:7                           missing זָכָר after כֹּל   \n",
       "4     Num 31:17                          missing זָכָ֖ר after כֹּל   \n",
       "5     Num 31:17                        missing כֹּל before אִשָּׁה   \n",
       "6    Deut 25:18                            missing חשׁל after כֹּל   \n",
       "7     Judg 13:4                          missing טָמֵֽא after כֹּל   \n",
       "8   1 Sam 14:36                            missing טוֹב after כֹּל   \n",
       "9   1 Kgs 11:15                           missing זָכָר after כֹּל   \n",
       "10  1 Kgs 11:16                           missing זָכָר after כֹּל   \n",
       "11     Isa 43:7                     missing הַנִּקְרָ֣א after כֹּל   \n",
       "12     Ps 73:27                         missing זֹונֶ֥ה after כֹּל   \n",
       "13   Ps 119:118                       missing שֹׁוגִ֣ים after כֹּל   \n",
       "14    Job 40:11                        missing גֵּ֝אֶ֗ה after כֹּל   \n",
       "15    Job 40:12                        missing גֵּ֝אֶ֗ה after כֹּל   \n",
       "16    Prov 6:29                        missing נֹּגֵ֥עַ after כֹּל   \n",
       "17    Prov 20:8                            missing רָֽע after כֹּל   \n",
       "18   2 Chr 13:9                           missing בָּ֗א after כֹּל   \n",
       "19   2 Chr 22:1                     missing רִאשֹׁנִים֙ after כֹּל   \n",
       "\n",
       "                                                Cause  \\\n",
       "0              יֵשׁ is not in the same clause as כֹּל   \n",
       "1                                                       \n",
       "2   טָמֵא belongs to another clause and is not mar...   \n",
       "3                               זָכָר is an adjective   \n",
       "4                               זָכָר is an adjective   \n",
       "5                                                       \n",
       "6   נֶּחֱשָׁלִ֣ים belongs to another clause and is...   \n",
       "7                              טָמֵֽא is an adjective   \n",
       "8                                טוֹב is an adjective   \n",
       "9                               זָכָר is an adjective   \n",
       "10                              זָכָר is an adjective   \n",
       "11  נִּקְרָ֣א belongs to another clause and is a verb   \n",
       "12    זֹונֶ֥ה belongs to another clause and is a verb   \n",
       "13  שֹׁוגִ֣ים belongs to another clause and is a verb   \n",
       "14                           גֵּ֝אֶ֗ה is an adjective   \n",
       "15                           גֵּ֝אֶ֗ה is an adjective   \n",
       "16   נֹּגֵ֥עַ belongs to another clause and is a verb   \n",
       "17                               רָֽע is an adjective   \n",
       "18      בָּ֗א belongs to another clause and is a verb   \n",
       "19                         רִאשֹׁנִים֙ is an ordinal?   \n",
       "\n",
       "                                  Decision  \n",
       "0   not yet going out of clause boundaries  \n",
       "1   not yet going out of clause boundaries  \n",
       "2   not yet going out of clause boundaries  \n",
       "3                                    fixed  \n",
       "4                                    fixed  \n",
       "5                                    fixed  \n",
       "6   not yet going out of clause boundaries  \n",
       "7                                    fixed  \n",
       "8   not yet going out of clause boundaries  \n",
       "9                                    fixed  \n",
       "10                                   fixed  \n",
       "11  not yet going out of clause boundaries  \n",
       "12  not yet going out of clause boundaries  \n",
       "13  not yet going out of clause boundaries  \n",
       "14                                   fixed  \n",
       "15                                   fixed  \n",
       "16  not yet going out of clause boundaries  \n",
       "17                                   fixed  \n",
       "18  not yet going out of clause boundaries  \n",
       "19                                   fixed  "
      ]
     },
     "execution_count": 50,
     "metadata": {},
     "output_type": "execute_result"
    }
   ],
   "source": [
    "ku_eval"
   ]
  },
  {
   "cell_type": "markdown",
   "metadata": {},
   "source": [
    "As indicated in the decisions, I have decided to not yet extend beyond the clause boundaries for situations where כל quantifies an entire clause. That step may require further methodological evaluation about the role of clause and phrase embeddings. This is a task that is better suited within a whole new data model, such as BHSA2 can provide.\n",
    "\n",
    "All other cases have been fixed by the new heads selection procedures. This already shows that the new heads performs better than the previous version.\n",
    "\n",
    "## Statistical Evaluation\n",
    "\n",
    "Below I provide statistical counts and visualizations for the head assignments. "
   ]
  },
  {
   "cell_type": "code",
   "execution_count": 51,
   "metadata": {},
   "outputs": [],
   "source": [
    "typ2pdpcounts = collections.defaultdict(lambda: collections.Counter())\n",
    "\n",
    "for phrase, heads in phrase2heads.items():\n",
    "    typ = F.typ.v(phrase)\n",
    "    pdps = [F.pdp.v(head) for head in heads]\n",
    "    typ2pdpcounts[typ].update(pdps)\n",
    "    \n",
    "typ2pdpcounts = pd.DataFrame(typ2pdpcounts).fillna(0)"
   ]
  },
  {
   "cell_type": "code",
   "execution_count": 52,
   "metadata": {},
   "outputs": [
    {
     "name": "stdout",
     "output_type": "stream",
     "text": [
      "Parts of Speech for PPrP\n"
     ]
    },
    {
     "data": {
      "text/html": [
       "<div>\n",
       "<style scoped>\n",
       "    .dataframe tbody tr th:only-of-type {\n",
       "        vertical-align: middle;\n",
       "    }\n",
       "\n",
       "    .dataframe tbody tr th {\n",
       "        vertical-align: top;\n",
       "    }\n",
       "\n",
       "    .dataframe thead th {\n",
       "        text-align: right;\n",
       "    }\n",
       "</style>\n",
       "<table border=\"1\" class=\"dataframe\">\n",
       "  <thead>\n",
       "    <tr style=\"text-align: right;\">\n",
       "      <th></th>\n",
       "      <th>PPrP</th>\n",
       "    </tr>\n",
       "  </thead>\n",
       "  <tbody>\n",
       "    <tr>\n",
       "      <th>prps</th>\n",
       "      <td>4392.0</td>\n",
       "    </tr>\n",
       "    <tr>\n",
       "      <th>subs</th>\n",
       "      <td>224.0</td>\n",
       "    </tr>\n",
       "    <tr>\n",
       "      <th>nmpr</th>\n",
       "      <td>20.0</td>\n",
       "    </tr>\n",
       "  </tbody>\n",
       "</table>\n",
       "</div>"
      ],
      "text/plain": [
       "        PPrP\n",
       "prps  4392.0\n",
       "subs   224.0\n",
       "nmpr    20.0"
      ]
     },
     "metadata": {},
     "output_type": "display_data"
    },
    {
     "data": {
      "image/png": "[encoded data removed]",
      "text/plain": [
       "<Figure size 360x216 with 1 Axes>"
      ]
     },
     "metadata": {},
     "output_type": "display_data"
    },
    {
     "name": "stdout",
     "output_type": "stream",
     "text": [
      "Parts of Speech for DPrP\n"
     ]
    },
    {
     "data": {
      "text/html": [
       "<div>\n",
       "<style scoped>\n",
       "    .dataframe tbody tr th:only-of-type {\n",
       "        vertical-align: middle;\n",
       "    }\n",
       "\n",
       "    .dataframe tbody tr th {\n",
       "        vertical-align: top;\n",
       "    }\n",
       "\n",
       "    .dataframe thead th {\n",
       "        text-align: right;\n",
       "    }\n",
       "</style>\n",
       "<table border=\"1\" class=\"dataframe\">\n",
       "  <thead>\n",
       "    <tr style=\"text-align: right;\">\n",
       "      <th></th>\n",
       "      <th>DPrP</th>\n",
       "    </tr>\n",
       "  </thead>\n",
       "  <tbody>\n",
       "    <tr>\n",
       "      <th>prde</th>\n",
       "      <td>791.0</td>\n",
       "    </tr>\n",
       "  </tbody>\n",
       "</table>\n",
       "</div>"
      ],
      "text/plain": [
       "       DPrP\n",
       "prde  791.0"
      ]
     },
     "metadata": {},
     "output_type": "display_data"
    },
    {
     "data": {
      "image/png": "[encoded data removed]",
      "text/plain": [
       "<Figure size 360x216 with 1 Axes>"
      ]
     },
     "metadata": {},
     "output_type": "display_data"
    },
    {
     "name": "stdout",
     "output_type": "stream",
     "text": [
      "Parts of Speech for InjP\n"
     ]
    },
    {
     "data": {
      "text/html": [
       "<div>\n",
       "<style scoped>\n",
       "    .dataframe tbody tr th:only-of-type {\n",
       "        vertical-align: middle;\n",
       "    }\n",
       "\n",
       "    .dataframe tbody tr th {\n",
       "        vertical-align: top;\n",
       "    }\n",
       "\n",
       "    .dataframe thead th {\n",
       "        text-align: right;\n",
       "    }\n",
       "</style>\n",
       "<table border=\"1\" class=\"dataframe\">\n",
       "  <thead>\n",
       "    <tr style=\"text-align: right;\">\n",
       "      <th></th>\n",
       "      <th>InjP</th>\n",
       "    </tr>\n",
       "  </thead>\n",
       "  <tbody>\n",
       "    <tr>\n",
       "      <th>intj</th>\n",
       "      <td>1883.0</td>\n",
       "    </tr>\n",
       "  </tbody>\n",
       "</table>\n",
       "</div>"
      ],
      "text/plain": [
       "        InjP\n",
       "intj  1883.0"
      ]
     },
     "metadata": {},
     "output_type": "display_data"
    },
    {
     "data": {
      "image/png": "[encoded data removed]",
      "text/plain": [
       "<Figure size 360x216 with 1 Axes>"
      ]
     },
     "metadata": {},
     "output_type": "display_data"
    },
    {
     "name": "stdout",
     "output_type": "stream",
     "text": [
      "Parts of Speech for NegP\n"
     ]
    },
    {
     "data": {
      "text/html": [
       "<div>\n",
       "<style scoped>\n",
       "    .dataframe tbody tr th:only-of-type {\n",
       "        vertical-align: middle;\n",
       "    }\n",
       "\n",
       "    .dataframe tbody tr th {\n",
       "        vertical-align: top;\n",
       "    }\n",
       "\n",
       "    .dataframe thead th {\n",
       "        text-align: right;\n",
       "    }\n",
       "</style>\n",
       "<table border=\"1\" class=\"dataframe\">\n",
       "  <thead>\n",
       "    <tr style=\"text-align: right;\">\n",
       "      <th></th>\n",
       "      <th>NegP</th>\n",
       "    </tr>\n",
       "  </thead>\n",
       "  <tbody>\n",
       "    <tr>\n",
       "      <th>nega</th>\n",
       "      <td>6742.0</td>\n",
       "    </tr>\n",
       "  </tbody>\n",
       "</table>\n",
       "</div>"
      ],
      "text/plain": [
       "        NegP\n",
       "nega  6742.0"
      ]
     },
     "metadata": {},
     "output_type": "display_data"
    },
    {
     "data": {
      "image/png": "[encoded data removed]",
      "text/plain": [
       "<Figure size 360x216 with 1 Axes>"
      ]
     },
     "metadata": {},
     "output_type": "display_data"
    },
    {
     "name": "stdout",
     "output_type": "stream",
     "text": [
      "Parts of Speech for InrP\n"
     ]
    },
    {
     "data": {
      "text/html": [
       "<div>\n",
       "<style scoped>\n",
       "    .dataframe tbody tr th:only-of-type {\n",
       "        vertical-align: middle;\n",
       "    }\n",
       "\n",
       "    .dataframe tbody tr th {\n",
       "        vertical-align: top;\n",
       "    }\n",
       "\n",
       "    .dataframe thead th {\n",
       "        text-align: right;\n",
       "    }\n",
       "</style>\n",
       "<table border=\"1\" class=\"dataframe\">\n",
       "  <thead>\n",
       "    <tr style=\"text-align: right;\">\n",
       "      <th></th>\n",
       "      <th>InrP</th>\n",
       "    </tr>\n",
       "  </thead>\n",
       "  <tbody>\n",
       "    <tr>\n",
       "      <th>inrg</th>\n",
       "      <td>1291.0</td>\n",
       "    </tr>\n",
       "  </tbody>\n",
       "</table>\n",
       "</div>"
      ],
      "text/plain": [
       "        InrP\n",
       "inrg  1291.0"
      ]
     },
     "metadata": {},
     "output_type": "display_data"
    },
    {
     "data": {
      "image/png": "[encoded data removed]",
      "text/plain": [
       "<Figure size 360x216 with 1 Axes>"
      ]
     },
     "metadata": {},
     "output_type": "display_data"
    },
    {
     "name": "stdout",
     "output_type": "stream",
     "text": [
      "Parts of Speech for IPrP\n"
     ]
    },
    {
     "data": {
      "text/html": [
       "<div>\n",
       "<style scoped>\n",
       "    .dataframe tbody tr th:only-of-type {\n",
       "        vertical-align: middle;\n",
       "    }\n",
       "\n",
       "    .dataframe tbody tr th {\n",
       "        vertical-align: top;\n",
       "    }\n",
       "\n",
       "    .dataframe thead th {\n",
       "        text-align: right;\n",
       "    }\n",
       "</style>\n",
       "<table border=\"1\" class=\"dataframe\">\n",
       "  <thead>\n",
       "    <tr style=\"text-align: right;\">\n",
       "      <th></th>\n",
       "      <th>IPrP</th>\n",
       "    </tr>\n",
       "  </thead>\n",
       "  <tbody>\n",
       "    <tr>\n",
       "      <th>prin</th>\n",
       "      <td>798.0</td>\n",
       "    </tr>\n",
       "  </tbody>\n",
       "</table>\n",
       "</div>"
      ],
      "text/plain": [
       "       IPrP\n",
       "prin  798.0"
      ]
     },
     "metadata": {},
     "output_type": "display_data"
    },
    {
     "data": {
      "image/png": "[encoded data removed]",
      "text/plain": [
       "<Figure size 360x216 with 1 Axes>"
      ]
     },
     "metadata": {},
     "output_type": "display_data"
    },
    {
     "name": "stdout",
     "output_type": "stream",
     "text": [
      "Parts of Speech for VP\n"
     ]
    },
    {
     "data": {
      "text/html": [
       "<div>\n",
       "<style scoped>\n",
       "    .dataframe tbody tr th:only-of-type {\n",
       "        vertical-align: middle;\n",
       "    }\n",
       "\n",
       "    .dataframe tbody tr th {\n",
       "        vertical-align: top;\n",
       "    }\n",
       "\n",
       "    .dataframe thead th {\n",
       "        text-align: right;\n",
       "    }\n",
       "</style>\n",
       "<table border=\"1\" class=\"dataframe\">\n",
       "  <thead>\n",
       "    <tr style=\"text-align: right;\">\n",
       "      <th></th>\n",
       "      <th>VP</th>\n",
       "    </tr>\n",
       "  </thead>\n",
       "  <tbody>\n",
       "    <tr>\n",
       "      <th>verb</th>\n",
       "      <td>69024.0</td>\n",
       "    </tr>\n",
       "  </tbody>\n",
       "</table>\n",
       "</div>"
      ],
      "text/plain": [
       "           VP\n",
       "verb  69024.0"
      ]
     },
     "metadata": {},
     "output_type": "display_data"
    },
    {
     "data": {
      "image/png": "[encoded data removed]",
      "text/plain": [
       "<Figure size 360x216 with 1 Axes>"
      ]
     },
     "metadata": {},
     "output_type": "display_data"
    },
    {
     "name": "stdout",
     "output_type": "stream",
     "text": [
      "Parts of Speech for CP\n"
     ]
    },
    {
     "data": {
      "text/html": [
       "<div>\n",
       "<style scoped>\n",
       "    .dataframe tbody tr th:only-of-type {\n",
       "        vertical-align: middle;\n",
       "    }\n",
       "\n",
       "    .dataframe tbody tr th {\n",
       "        vertical-align: top;\n",
       "    }\n",
       "\n",
       "    .dataframe thead th {\n",
       "        text-align: right;\n",
       "    }\n",
       "</style>\n",
       "<table border=\"1\" class=\"dataframe\">\n",
       "  <thead>\n",
       "    <tr style=\"text-align: right;\">\n",
       "      <th></th>\n",
       "      <th>CP</th>\n",
       "    </tr>\n",
       "  </thead>\n",
       "  <tbody>\n",
       "    <tr>\n",
       "      <th>conj</th>\n",
       "      <td>51341.0</td>\n",
       "    </tr>\n",
       "    <tr>\n",
       "      <th>prep</th>\n",
       "      <td>1140.0</td>\n",
       "    </tr>\n",
       "  </tbody>\n",
       "</table>\n",
       "</div>"
      ],
      "text/plain": [
       "           CP\n",
       "conj  51341.0\n",
       "prep   1140.0"
      ]
     },
     "metadata": {},
     "output_type": "display_data"
    },
    {
     "data": {
      "image/png": "[encoded data removed]",
      "text/plain": [
       "<Figure size 360x216 with 1 Axes>"
      ]
     },
     "metadata": {},
     "output_type": "display_data"
    },
    {
     "name": "stdout",
     "output_type": "stream",
     "text": [
      "Parts of Speech for AdjP\n"
     ]
    },
    {
     "data": {
      "text/html": [
       "<div>\n",
       "<style scoped>\n",
       "    .dataframe tbody tr th:only-of-type {\n",
       "        vertical-align: middle;\n",
       "    }\n",
       "\n",
       "    .dataframe tbody tr th {\n",
       "        vertical-align: top;\n",
       "    }\n",
       "\n",
       "    .dataframe thead th {\n",
       "        text-align: right;\n",
       "    }\n",
       "</style>\n",
       "<table border=\"1\" class=\"dataframe\">\n",
       "  <thead>\n",
       "    <tr style=\"text-align: right;\">\n",
       "      <th></th>\n",
       "      <th>AdjP</th>\n",
       "    </tr>\n",
       "  </thead>\n",
       "  <tbody>\n",
       "    <tr>\n",
       "      <th>adjv</th>\n",
       "      <td>1866.0</td>\n",
       "    </tr>\n",
       "    <tr>\n",
       "      <th>subs</th>\n",
       "      <td>4.0</td>\n",
       "    </tr>\n",
       "    <tr>\n",
       "      <th>advb</th>\n",
       "      <td>1.0</td>\n",
       "    </tr>\n",
       "  </tbody>\n",
       "</table>\n",
       "</div>"
      ],
      "text/plain": [
       "        AdjP\n",
       "adjv  1866.0\n",
       "subs     4.0\n",
       "advb     1.0"
      ]
     },
     "metadata": {},
     "output_type": "display_data"
    },
    {
     "data": {
      "image/png": "[encoded data removed]",
      "text/plain": [
       "<Figure size 360x216 with 1 Axes>"
      ]
     },
     "metadata": {},
     "output_type": "display_data"
    },
    {
     "name": "stdout",
     "output_type": "stream",
     "text": [
      "Parts of Speech for AdvP\n"
     ]
    },
    {
     "data": {
      "text/html": [
       "<div>\n",
       "<style scoped>\n",
       "    .dataframe tbody tr th:only-of-type {\n",
       "        vertical-align: middle;\n",
       "    }\n",
       "\n",
       "    .dataframe tbody tr th {\n",
       "        vertical-align: top;\n",
       "    }\n",
       "\n",
       "    .dataframe thead th {\n",
       "        text-align: right;\n",
       "    }\n",
       "</style>\n",
       "<table border=\"1\" class=\"dataframe\">\n",
       "  <thead>\n",
       "    <tr style=\"text-align: right;\">\n",
       "      <th></th>\n",
       "      <th>AdvP</th>\n",
       "    </tr>\n",
       "  </thead>\n",
       "  <tbody>\n",
       "    <tr>\n",
       "      <th>advb</th>\n",
       "      <td>5172.0</td>\n",
       "    </tr>\n",
       "    <tr>\n",
       "      <th>subs</th>\n",
       "      <td>368.0</td>\n",
       "    </tr>\n",
       "    <tr>\n",
       "      <th>nmpr</th>\n",
       "      <td>234.0</td>\n",
       "    </tr>\n",
       "    <tr>\n",
       "      <th>prep</th>\n",
       "      <td>2.0</td>\n",
       "    </tr>\n",
       "  </tbody>\n",
       "</table>\n",
       "</div>"
      ],
      "text/plain": [
       "        AdvP\n",
       "advb  5172.0\n",
       "subs   368.0\n",
       "nmpr   234.0\n",
       "prep     2.0"
      ]
     },
     "metadata": {},
     "output_type": "display_data"
    },
    {
     "data": {
      "image/png": "[encoded data removed]",
      "text/plain": [
       "<Figure size 360x216 with 1 Axes>"
      ]
     },
     "metadata": {},
     "output_type": "display_data"
    },
    {
     "name": "stdout",
     "output_type": "stream",
     "text": [
      "Parts of Speech for PP\n"
     ]
    },
    {
     "data": {
      "text/html": [
       "<div>\n",
       "<style scoped>\n",
       "    .dataframe tbody tr th:only-of-type {\n",
       "        vertical-align: middle;\n",
       "    }\n",
       "\n",
       "    .dataframe tbody tr th {\n",
       "        vertical-align: top;\n",
       "    }\n",
       "\n",
       "    .dataframe thead th {\n",
       "        text-align: right;\n",
       "    }\n",
       "</style>\n",
       "<table border=\"1\" class=\"dataframe\">\n",
       "  <thead>\n",
       "    <tr style=\"text-align: right;\">\n",
       "      <th></th>\n",
       "      <th>PP</th>\n",
       "    </tr>\n",
       "  </thead>\n",
       "  <tbody>\n",
       "    <tr>\n",
       "      <th>prep</th>\n",
       "      <td>61498.0</td>\n",
       "    </tr>\n",
       "  </tbody>\n",
       "</table>\n",
       "</div>"
      ],
      "text/plain": [
       "           PP\n",
       "prep  61498.0"
      ]
     },
     "metadata": {},
     "output_type": "display_data"
    },
    {
     "data": {
      "image/png": "[encoded data removed]",
      "text/plain": [
       "<Figure size 360x216 with 1 Axes>"
      ]
     },
     "metadata": {},
     "output_type": "display_data"
    },
    {
     "name": "stdout",
     "output_type": "stream",
     "text": [
      "Parts of Speech for NP\n"
     ]
    },
    {
     "data": {
      "text/html": [
       "<div>\n",
       "<style scoped>\n",
       "    .dataframe tbody tr th:only-of-type {\n",
       "        vertical-align: middle;\n",
       "    }\n",
       "\n",
       "    .dataframe tbody tr th {\n",
       "        vertical-align: top;\n",
       "    }\n",
       "\n",
       "    .dataframe thead th {\n",
       "        text-align: right;\n",
       "    }\n",
       "</style>\n",
       "<table border=\"1\" class=\"dataframe\">\n",
       "  <thead>\n",
       "    <tr style=\"text-align: right;\">\n",
       "      <th></th>\n",
       "      <th>NP</th>\n",
       "    </tr>\n",
       "  </thead>\n",
       "  <tbody>\n",
       "    <tr>\n",
       "      <th>subs</th>\n",
       "      <td>44747.0</td>\n",
       "    </tr>\n",
       "    <tr>\n",
       "      <th>nmpr</th>\n",
       "      <td>146.0</td>\n",
       "    </tr>\n",
       "    <tr>\n",
       "      <th>adjv</th>\n",
       "      <td>121.0</td>\n",
       "    </tr>\n",
       "    <tr>\n",
       "      <th>prde</th>\n",
       "      <td>49.0</td>\n",
       "    </tr>\n",
       "    <tr>\n",
       "      <th>prps</th>\n",
       "      <td>4.0</td>\n",
       "    </tr>\n",
       "    <tr>\n",
       "      <th>nega</th>\n",
       "      <td>2.0</td>\n",
       "    </tr>\n",
       "    <tr>\n",
       "      <th>intj</th>\n",
       "      <td>1.0</td>\n",
       "    </tr>\n",
       "  </tbody>\n",
       "</table>\n",
       "</div>"
      ],
      "text/plain": [
       "           NP\n",
       "subs  44747.0\n",
       "nmpr    146.0\n",
       "adjv    121.0\n",
       "prde     49.0\n",
       "prps      4.0\n",
       "nega      2.0\n",
       "intj      1.0"
      ]
     },
     "metadata": {},
     "output_type": "display_data"
    },
    {
     "data": {
      "image/png": "[encoded data removed]",
      "text/plain": [
       "<Figure size 360x216 with 1 Axes>"
      ]
     },
     "metadata": {},
     "output_type": "display_data"
    },
    {
     "name": "stdout",
     "output_type": "stream",
     "text": [
      "Parts of Speech for PrNP\n"
     ]
    },
    {
     "data": {
      "text/html": [
       "<div>\n",
       "<style scoped>\n",
       "    .dataframe tbody tr th:only-of-type {\n",
       "        vertical-align: middle;\n",
       "    }\n",
       "\n",
       "    .dataframe tbody tr th {\n",
       "        vertical-align: top;\n",
       "    }\n",
       "\n",
       "    .dataframe thead th {\n",
       "        text-align: right;\n",
       "    }\n",
       "</style>\n",
       "<table border=\"1\" class=\"dataframe\">\n",
       "  <thead>\n",
       "    <tr style=\"text-align: right;\">\n",
       "      <th></th>\n",
       "      <th>PrNP</th>\n",
       "    </tr>\n",
       "  </thead>\n",
       "  <tbody>\n",
       "    <tr>\n",
       "      <th>nmpr</th>\n",
       "      <td>11633.0</td>\n",
       "    </tr>\n",
       "    <tr>\n",
       "      <th>subs</th>\n",
       "      <td>333.0</td>\n",
       "    </tr>\n",
       "    <tr>\n",
       "      <th>prps</th>\n",
       "      <td>1.0</td>\n",
       "    </tr>\n",
       "  </tbody>\n",
       "</table>\n",
       "</div>"
      ],
      "text/plain": [
       "         PrNP\n",
       "nmpr  11633.0\n",
       "subs    333.0\n",
       "prps      1.0"
      ]
     },
     "metadata": {},
     "output_type": "display_data"
    },
    {
     "data": {
      "image/png": "[encoded data removed]",
      "text/plain": [
       "<Figure size 360x216 with 1 Axes>"
      ]
     },
     "metadata": {},
     "output_type": "display_data"
    }
   ],
   "source": [
    "sns.set(style='whitegrid', font_scale=1.4)\n",
    "\n",
    "for typ in typ2pdpcounts:\n",
    "    positive = typ2pdpcounts[typ][typ2pdpcounts[typ] > 0].sort_values(ascending=False)\n",
    "    \n",
    "    print(f'Parts of Speech for {typ}')\n",
    "    display(pd.DataFrame(positive))\n",
    "    \n",
    "    plt.figure(figsize=(5, 3))\n",
    "    sns.barplot(x=positive.index, y=positive)\n",
    "    plt.ylabel('frequency')\n",
    "    plt.show()"
   ]
  },
  {
   "cell_type": "markdown",
   "metadata": {},
   "source": [
    "## Evaluating Quantifiers\n",
    "\n",
    "By far, quantifiers are the most tricky of issues involved in picking out heads. Let's evaluate how many and which quantifiers have been selected.\n",
    "\n",
    "In all cases, a quantifier should only be selected if it is not followed by a quantified noun. These quantifiers are selected with the `NP_quant_alone` query above, which identified 1723 cases (1723 less the 10 patched heads). A quantifier should not have been selected in any other case."
   ]
  },
  {
   "cell_type": "code",
   "execution_count": 53,
   "metadata": {},
   "outputs": [
    {
     "data": {
      "text/plain": [
       "0"
      ]
     },
     "execution_count": 53,
     "metadata": {},
     "output_type": "execute_result"
    }
   ],
   "source": [
    "len([head for phrase, heads in phrase2heads.items()\n",
    "            for head in heads if head in quantifiers\n",
    "            if F.typ.v(phrase) in {'NP', 'PrNP'}]) - (1733 - removed_heads)"
   ]
  },
  {
   "cell_type": "markdown",
   "metadata": {},
   "source": [
    "This is a good result. Let's check whether there are quantifiers in other phrase types."
   ]
  },
  {
   "cell_type": "code",
   "execution_count": 54,
   "metadata": {},
   "outputs": [
    {
     "data": {
      "text/markdown": [
       "\n",
       "\n",
       "**phrase** *1*\n",
       "\n"
      ],
      "text/plain": [
       "<IPython.core.display.Markdown object>"
      ]
     },
     "metadata": {},
     "output_type": "display_data"
    },
    {
     "data": {
      "text/html": [
       "<a href=\"https://shebanq.ancient-data.org/hebrew/text?book=Genesis&chapter=4&verse=15&version=c&mr=m&qw=q&tp=txt_p&tr=hb&wget=v&qget=v&nget=vt\" title=\"show this passage in SHEBANQ\" sec=\"Genesis 4:15\">Genesis 4:15</a>\n",
       "<div class=\"atoms  \" >\n",
       "<a href=\"#\" class=\"nd\">652681</a>\n",
       "\n",
       "\n",
       "\n",
       "<div class=\"patom  \" >\n",
       "\n",
       "    <div class=\"phrase \" >\n",
       "        <a href=\"https://shebanq.ancient-data.org/hebrew/text?book=Genesis&chapter=4&verse=15&version=c&mr=m&qw=q&tp=txt_p&tr=hb&wget=v&qget=v&nget=vt\" title=\"Genesis 4:15\" sec=\"Genesis 4:15\">phrase</a> <a href=\"#\" class=\"nd\">652681</a>  <span class=\"function\">Modi</span> <span class=\"typ\">AdvP</span>\n",
       "    </div>\n",
       "    <div class=\"atoms\">\n",
       "\n",
       "<div class=\"word  hl\" >\n",
       "<a href=\"#\" class=\"nd\">1915</a>\n",
       "<div class=\"h\"><a target=\"_blank\" href=\"https://shebanq.ancient-data.org/hebrew/word?version=c&id=1CBOn\" title=\"show this lexeme in SHEBANQ\">שִׁבְעָתַ֖יִם </a></div>\n",
       "<div class=\"features\"> <span class=\"pdp\"><a href=\"https://shebanq.ancient-data.org/hebrew/text?book=Genesis&chapter=4&verse=15&version=c&mr=m&qw=q&tp=txt_p&tr=hb&wget=v&qget=v&nget=vt\" title=\"Genesis 4:15\" sec=\"Genesis 4:15\">advb</a></span> <span class=\"gloss\">seven</span></div>\n",
       "\n",
       "\n",
       "</div>\n",
       "\n",
       "\n",
       "    </div>\n",
       "\n",
       "\n",
       "</div>\n",
       "\n",
       "\n",
       "</div>\n"
      ],
      "text/plain": [
       "<IPython.core.display.HTML object>"
      ]
     },
     "metadata": {},
     "output_type": "display_data"
    },
    {
     "data": {
      "text/markdown": [
       "\n",
       "\n",
       "**phrase** *2*\n",
       "\n"
      ],
      "text/plain": [
       "<IPython.core.display.Markdown object>"
      ]
     },
     "metadata": {},
     "output_type": "display_data"
    },
    {
     "data": {
      "text/html": [
       "<a href=\"https://shebanq.ancient-data.org/hebrew/text?book=Genesis&chapter=4&verse=24&version=c&mr=m&qw=q&tp=txt_p&tr=hb&wget=v&qget=v&nget=vt\" title=\"show this passage in SHEBANQ\" sec=\"Genesis 4:24\">Genesis 4:24</a>\n",
       "<div class=\"atoms  \" >\n",
       "<a href=\"#\" class=\"nd\">652779</a>\n",
       "\n",
       "\n",
       "\n",
       "<div class=\"patom  \" >\n",
       "\n",
       "    <div class=\"phrase \" >\n",
       "        <a href=\"https://shebanq.ancient-data.org/hebrew/text?book=Genesis&chapter=4&verse=24&version=c&mr=m&qw=q&tp=txt_p&tr=hb&wget=v&qget=v&nget=vt\" title=\"Genesis 4:24\" sec=\"Genesis 4:24\">phrase</a> <a href=\"#\" class=\"nd\">652779</a>  <span class=\"function\">Modi</span> <span class=\"typ\">AdvP</span>\n",
       "    </div>\n",
       "    <div class=\"atoms\">\n",
       "\n",
       "<div class=\"word  hl\" >\n",
       "<a href=\"#\" class=\"nd\">2068</a>\n",
       "<div class=\"h\"><a target=\"_blank\" href=\"https://shebanq.ancient-data.org/hebrew/word?version=c&id=1CBOn\" title=\"show this lexeme in SHEBANQ\">שִׁבְעָתַ֖יִם </a></div>\n",
       "<div class=\"features\"> <span class=\"pdp\"><a href=\"https://shebanq.ancient-data.org/hebrew/text?book=Genesis&chapter=4&verse=24&version=c&mr=m&qw=q&tp=txt_p&tr=hb&wget=v&qget=v&nget=vt\" title=\"Genesis 4:24\" sec=\"Genesis 4:24\">advb</a></span> <span class=\"gloss\">seven</span></div>\n",
       "\n",
       "\n",
       "</div>\n",
       "\n",
       "\n",
       "    </div>\n",
       "\n",
       "\n",
       "</div>\n",
       "\n",
       "\n",
       "</div>\n"
      ],
      "text/plain": [
       "<IPython.core.display.HTML object>"
      ]
     },
     "metadata": {},
     "output_type": "display_data"
    },
    {
     "data": {
      "text/markdown": [
       "\n",
       "\n",
       "**phrase** *3*\n",
       "\n"
      ],
      "text/plain": [
       "<IPython.core.display.Markdown object>"
      ]
     },
     "metadata": {},
     "output_type": "display_data"
    },
    {
     "data": {
      "text/html": [
       "<a href=\"https://shebanq.ancient-data.org/hebrew/text?book=Exodus&chapter=23&verse=30&version=c&mr=m&qw=q&tp=txt_p&tr=hb&wget=v&qget=v&nget=vt\" title=\"show this passage in SHEBANQ\" sec=\"Exodus 23:30\">Exodus 23:30</a>\n",
       "<div class=\"atoms  \" >\n",
       "<a href=\"#\" class=\"nd\">677350</a>\n",
       "\n",
       "\n",
       "\n",
       "<div class=\"patom  \" >\n",
       "\n",
       "    <div class=\"phrase \" >\n",
       "        <a href=\"https://shebanq.ancient-data.org/hebrew/text?book=Exodus&chapter=23&verse=30&version=c&mr=m&qw=q&tp=txt_p&tr=hb&wget=v&qget=v&nget=vt\" title=\"Exodus 23:30\" sec=\"Exodus 23:30\">phrase</a> <a href=\"#\" class=\"nd\">677350</a>  <span class=\"function\">Modi</span> <span class=\"typ\">AdvP</span>\n",
       "    </div>\n",
       "    <div class=\"atoms\">\n",
       "\n",
       "<div class=\"word  \" >\n",
       "<a href=\"#\" class=\"nd\">41535</a>\n",
       "<div class=\"h\"><a target=\"_blank\" href=\"https://shebanq.ancient-data.org/hebrew/word?version=c&id=1MOVn\" title=\"show this lexeme in SHEBANQ\">מְעַ֥ט </a></div>\n",
       "<div class=\"features\"> <span class=\"pdp\"><a href=\"https://shebanq.ancient-data.org/hebrew/text?book=Exodus&chapter=23&verse=30&version=c&mr=m&qw=q&tp=txt_p&tr=hb&wget=v&qget=v&nget=vt\" title=\"Exodus 23:30\" sec=\"Exodus 23:30\">advb</a></span> <span class=\"gloss\">little</span></div>\n",
       "\n",
       "\n",
       "</div>\n",
       "\n",
       "<div class=\"word  hl\" >\n",
       "<a href=\"#\" class=\"nd\">41536</a>\n",
       "<div class=\"h\"><a target=\"_blank\" href=\"https://shebanq.ancient-data.org/hebrew/word?version=c&id=1MOVn\" title=\"show this lexeme in SHEBANQ\">מְעַ֛ט </a></div>\n",
       "<div class=\"features\"> <span class=\"pdp\"><a href=\"https://shebanq.ancient-data.org/hebrew/text?book=Exodus&chapter=23&verse=30&version=c&mr=m&qw=q&tp=txt_p&tr=hb&wget=v&qget=v&nget=vt\" title=\"Exodus 23:30\" sec=\"Exodus 23:30\">advb</a></span> <span class=\"gloss\">little</span></div>\n",
       "\n",
       "\n",
       "</div>\n",
       "\n",
       "\n",
       "    </div>\n",
       "\n",
       "\n",
       "</div>\n",
       "\n",
       "\n",
       "</div>\n"
      ],
      "text/plain": [
       "<IPython.core.display.HTML object>"
      ]
     },
     "metadata": {},
     "output_type": "display_data"
    },
    {
     "data": {
      "text/markdown": [
       "\n",
       "\n",
       "**phrase** *4*\n",
       "\n"
      ],
      "text/plain": [
       "<IPython.core.display.Markdown object>"
      ]
     },
     "metadata": {},
     "output_type": "display_data"
    },
    {
     "data": {
      "text/html": [
       "<a href=\"https://shebanq.ancient-data.org/hebrew/text?book=Exodus&chapter=23&verse=30&version=c&mr=m&qw=q&tp=txt_p&tr=hb&wget=v&qget=v&nget=vt\" title=\"show this passage in SHEBANQ\" sec=\"Exodus 23:30\">Exodus 23:30</a>\n",
       "<div class=\"atoms  \" >\n",
       "<a href=\"#\" class=\"nd\">677350</a>\n",
       "\n",
       "\n",
       "\n",
       "<div class=\"patom  \" >\n",
       "\n",
       "    <div class=\"phrase \" >\n",
       "        <a href=\"https://shebanq.ancient-data.org/hebrew/text?book=Exodus&chapter=23&verse=30&version=c&mr=m&qw=q&tp=txt_p&tr=hb&wget=v&qget=v&nget=vt\" title=\"Exodus 23:30\" sec=\"Exodus 23:30\">phrase</a> <a href=\"#\" class=\"nd\">677350</a>  <span class=\"function\">Modi</span> <span class=\"typ\">AdvP</span>\n",
       "    </div>\n",
       "    <div class=\"atoms\">\n",
       "\n",
       "<div class=\"word  hl\" >\n",
       "<a href=\"#\" class=\"nd\">41535</a>\n",
       "<div class=\"h\"><a target=\"_blank\" href=\"https://shebanq.ancient-data.org/hebrew/word?version=c&id=1MOVn\" title=\"show this lexeme in SHEBANQ\">מְעַ֥ט </a></div>\n",
       "<div class=\"features\"> <span class=\"pdp\"><a href=\"https://shebanq.ancient-data.org/hebrew/text?book=Exodus&chapter=23&verse=30&version=c&mr=m&qw=q&tp=txt_p&tr=hb&wget=v&qget=v&nget=vt\" title=\"Exodus 23:30\" sec=\"Exodus 23:30\">advb</a></span> <span class=\"gloss\">little</span></div>\n",
       "\n",
       "\n",
       "</div>\n",
       "\n",
       "<div class=\"word  \" >\n",
       "<a href=\"#\" class=\"nd\">41536</a>\n",
       "<div class=\"h\"><a target=\"_blank\" href=\"https://shebanq.ancient-data.org/hebrew/word?version=c&id=1MOVn\" title=\"show this lexeme in SHEBANQ\">מְעַ֛ט </a></div>\n",
       "<div class=\"features\"> <span class=\"pdp\"><a href=\"https://shebanq.ancient-data.org/hebrew/text?book=Exodus&chapter=23&verse=30&version=c&mr=m&qw=q&tp=txt_p&tr=hb&wget=v&qget=v&nget=vt\" title=\"Exodus 23:30\" sec=\"Exodus 23:30\">advb</a></span> <span class=\"gloss\">little</span></div>\n",
       "\n",
       "\n",
       "</div>\n",
       "\n",
       "\n",
       "    </div>\n",
       "\n",
       "\n",
       "</div>\n",
       "\n",
       "\n",
       "</div>\n"
      ],
      "text/plain": [
       "<IPython.core.display.HTML object>"
      ]
     },
     "metadata": {},
     "output_type": "display_data"
    },
    {
     "data": {
      "text/markdown": [
       "\n",
       "\n",
       "**phrase** *5*\n",
       "\n"
      ],
      "text/plain": [
       "<IPython.core.display.Markdown object>"
      ]
     },
     "metadata": {},
     "output_type": "display_data"
    },
    {
     "data": {
      "text/html": [
       "<a href=\"https://shebanq.ancient-data.org/hebrew/text?book=Deuteronomium&chapter=7&verse=22&version=c&mr=m&qw=q&tp=txt_p&tr=hb&wget=v&qget=v&nget=vt\" title=\"show this passage in SHEBANQ\" sec=\"Deuteronomy 7:22\">Deuteronomy 7:22</a>\n",
       "<div class=\"atoms  \" >\n",
       "<a href=\"#\" class=\"nd\">706975</a>\n",
       "\n",
       "\n",
       "\n",
       "<div class=\"patom  \" >\n",
       "\n",
       "    <div class=\"phrase \" >\n",
       "        <a href=\"https://shebanq.ancient-data.org/hebrew/text?book=Deuteronomium&chapter=7&verse=22&version=c&mr=m&qw=q&tp=txt_p&tr=hb&wget=v&qget=v&nget=vt\" title=\"Deuteronomy 7:22\" sec=\"Deuteronomy 7:22\">phrase</a> <a href=\"#\" class=\"nd\">706975</a>  <span class=\"function\">Modi</span> <span class=\"typ\">AdvP</span>\n",
       "    </div>\n",
       "    <div class=\"atoms\">\n",
       "\n",
       "<div class=\"word  hl\" >\n",
       "<a href=\"#\" class=\"nd\">97910</a>\n",
       "<div class=\"h\"><a target=\"_blank\" href=\"https://shebanq.ancient-data.org/hebrew/word?version=c&id=1MOVn\" title=\"show this lexeme in SHEBANQ\">מְעַ֣ט </a></div>\n",
       "<div class=\"features\"> <span class=\"pdp\"><a href=\"https://shebanq.ancient-data.org/hebrew/text?book=Deuteronomium&chapter=7&verse=22&version=c&mr=m&qw=q&tp=txt_p&tr=hb&wget=v&qget=v&nget=vt\" title=\"Deuteronomy 7:22\" sec=\"Deuteronomy 7:22\">advb</a></span> <span class=\"gloss\">little</span></div>\n",
       "\n",
       "\n",
       "</div>\n",
       "\n",
       "<div class=\"word  \" >\n",
       "<a href=\"#\" class=\"nd\">97911</a>\n",
       "<div class=\"h\"><a target=\"_blank\" href=\"https://shebanq.ancient-data.org/hebrew/word?version=c&id=1MOVn\" title=\"show this lexeme in SHEBANQ\">מְעָ֑ט </a></div>\n",
       "<div class=\"features\"> <span class=\"pdp\"><a href=\"https://shebanq.ancient-data.org/hebrew/text?book=Deuteronomium&chapter=7&verse=22&version=c&mr=m&qw=q&tp=txt_p&tr=hb&wget=v&qget=v&nget=vt\" title=\"Deuteronomy 7:22\" sec=\"Deuteronomy 7:22\">advb</a></span> <span class=\"gloss\">little</span></div>\n",
       "\n",
       "\n",
       "</div>\n",
       "\n",
       "\n",
       "    </div>\n",
       "\n",
       "\n",
       "</div>\n",
       "\n",
       "\n",
       "</div>\n"
      ],
      "text/plain": [
       "<IPython.core.display.HTML object>"
      ]
     },
     "metadata": {},
     "output_type": "display_data"
    },
    {
     "data": {
      "text/markdown": [
       "\n",
       "\n",
       "**phrase** *6*\n",
       "\n"
      ],
      "text/plain": [
       "<IPython.core.display.Markdown object>"
      ]
     },
     "metadata": {},
     "output_type": "display_data"
    },
    {
     "data": {
      "text/html": [
       "<a href=\"https://shebanq.ancient-data.org/hebrew/text?book=Deuteronomium&chapter=7&verse=22&version=c&mr=m&qw=q&tp=txt_p&tr=hb&wget=v&qget=v&nget=vt\" title=\"show this passage in SHEBANQ\" sec=\"Deuteronomy 7:22\">Deuteronomy 7:22</a>\n",
       "<div class=\"atoms  \" >\n",
       "<a href=\"#\" class=\"nd\">706975</a>\n",
       "\n",
       "\n",
       "\n",
       "<div class=\"patom  \" >\n",
       "\n",
       "    <div class=\"phrase \" >\n",
       "        <a href=\"https://shebanq.ancient-data.org/hebrew/text?book=Deuteronomium&chapter=7&verse=22&version=c&mr=m&qw=q&tp=txt_p&tr=hb&wget=v&qget=v&nget=vt\" title=\"Deuteronomy 7:22\" sec=\"Deuteronomy 7:22\">phrase</a> <a href=\"#\" class=\"nd\">706975</a>  <span class=\"function\">Modi</span> <span class=\"typ\">AdvP</span>\n",
       "    </div>\n",
       "    <div class=\"atoms\">\n",
       "\n",
       "<div class=\"word  \" >\n",
       "<a href=\"#\" class=\"nd\">97910</a>\n",
       "<div class=\"h\"><a target=\"_blank\" href=\"https://shebanq.ancient-data.org/hebrew/word?version=c&id=1MOVn\" title=\"show this lexeme in SHEBANQ\">מְעַ֣ט </a></div>\n",
       "<div class=\"features\"> <span class=\"pdp\"><a href=\"https://shebanq.ancient-data.org/hebrew/text?book=Deuteronomium&chapter=7&verse=22&version=c&mr=m&qw=q&tp=txt_p&tr=hb&wget=v&qget=v&nget=vt\" title=\"Deuteronomy 7:22\" sec=\"Deuteronomy 7:22\">advb</a></span> <span class=\"gloss\">little</span></div>\n",
       "\n",
       "\n",
       "</div>\n",
       "\n",
       "<div class=\"word  hl\" >\n",
       "<a href=\"#\" class=\"nd\">97911</a>\n",
       "<div class=\"h\"><a target=\"_blank\" href=\"https://shebanq.ancient-data.org/hebrew/word?version=c&id=1MOVn\" title=\"show this lexeme in SHEBANQ\">מְעָ֑ט </a></div>\n",
       "<div class=\"features\"> <span class=\"pdp\"><a href=\"https://shebanq.ancient-data.org/hebrew/text?book=Deuteronomium&chapter=7&verse=22&version=c&mr=m&qw=q&tp=txt_p&tr=hb&wget=v&qget=v&nget=vt\" title=\"Deuteronomy 7:22\" sec=\"Deuteronomy 7:22\">advb</a></span> <span class=\"gloss\">little</span></div>\n",
       "\n",
       "\n",
       "</div>\n",
       "\n",
       "\n",
       "    </div>\n",
       "\n",
       "\n",
       "</div>\n",
       "\n",
       "\n",
       "</div>\n"
      ],
      "text/plain": [
       "<IPython.core.display.HTML object>"
      ]
     },
     "metadata": {},
     "output_type": "display_data"
    },
    {
     "data": {
      "text/markdown": [
       "\n",
       "\n",
       "**phrase** *7*\n",
       "\n"
      ],
      "text/plain": [
       "<IPython.core.display.Markdown object>"
      ]
     },
     "metadata": {},
     "output_type": "display_data"
    },
    {
     "data": {
      "text/html": [
       "<a href=\"https://shebanq.ancient-data.org/hebrew/text?book=Samuel_II&chapter=12&verse=6&version=c&mr=m&qw=q&tp=txt_p&tr=hb&wget=v&qget=v&nget=vt\" title=\"show this passage in SHEBANQ\" sec=\"2_Samuel 12:6\">2_Samuel 12:6</a>\n",
       "<div class=\"atoms  \" >\n",
       "<a href=\"#\" class=\"nd\">747419</a>\n",
       "\n",
       "\n",
       "\n",
       "<div class=\"patom  \" >\n",
       "\n",
       "    <div class=\"phrase \" >\n",
       "        <a href=\"https://shebanq.ancient-data.org/hebrew/text?book=Samuel_II&chapter=12&verse=6&version=c&mr=m&qw=q&tp=txt_p&tr=hb&wget=v&qget=v&nget=vt\" title=\"2_Samuel 12:6\" sec=\"2_Samuel 12:6\">phrase</a> <a href=\"#\" class=\"nd\">747419</a>  <span class=\"function\">Modi</span> <span class=\"typ\">AdvP</span>\n",
       "    </div>\n",
       "    <div class=\"atoms\">\n",
       "\n",
       "<div class=\"word  hl\" >\n",
       "<a href=\"#\" class=\"nd\">166495</a>\n",
       "<div class=\"h\"><a target=\"_blank\" href=\"https://shebanq.ancient-data.org/hebrew/word?version=c&id=1ARBOn\" title=\"show this lexeme in SHEBANQ\">אַרְבַּעְתָּ֑יִם </a></div>\n",
       "<div class=\"features\"> <span class=\"pdp\"><a href=\"https://shebanq.ancient-data.org/hebrew/text?book=Samuel_II&chapter=12&verse=6&version=c&mr=m&qw=q&tp=txt_p&tr=hb&wget=v&qget=v&nget=vt\" title=\"2_Samuel 12:6\" sec=\"2_Samuel 12:6\">advb</a></span> <span class=\"gloss\">four</span></div>\n",
       "\n",
       "\n",
       "</div>\n",
       "\n",
       "\n",
       "    </div>\n",
       "\n",
       "\n",
       "</div>\n",
       "\n",
       "\n",
       "</div>\n"
      ],
      "text/plain": [
       "<IPython.core.display.HTML object>"
      ]
     },
     "metadata": {},
     "output_type": "display_data"
    },
    {
     "data": {
      "text/markdown": [
       "\n",
       "\n",
       "**phrase** *8*\n",
       "\n"
      ],
      "text/plain": [
       "<IPython.core.display.Markdown object>"
      ]
     },
     "metadata": {},
     "output_type": "display_data"
    },
    {
     "data": {
      "text/html": [
       "<a href=\"https://shebanq.ancient-data.org/hebrew/text?book=Samuel_II&chapter=16&verse=1&version=c&mr=m&qw=q&tp=txt_p&tr=hb&wget=v&qget=v&nget=vt\" title=\"show this passage in SHEBANQ\" sec=\"2_Samuel 16:1\">2_Samuel 16:1</a>\n",
       "<div class=\"atoms  \" >\n",
       "<a href=\"#\" class=\"nd\">749586</a>\n",
       "\n",
       "\n",
       "\n",
       "<div class=\"patom  \" >\n",
       "\n",
       "    <div class=\"phrase \" >\n",
       "        <a href=\"https://shebanq.ancient-data.org/hebrew/text?book=Samuel_II&chapter=16&verse=1&version=c&mr=m&qw=q&tp=txt_p&tr=hb&wget=v&qget=v&nget=vt\" title=\"2_Samuel 16:1\" sec=\"2_Samuel 16:1\">phrase</a> <a href=\"#\" class=\"nd\">749586</a>  <span class=\"function\">Modi</span> <span class=\"typ\">AdvP</span>\n",
       "    </div>\n",
       "    <div class=\"atoms\">\n",
       "\n",
       "<div class=\"word  hl\" >\n",
       "<a href=\"#\" class=\"nd\">169746</a>\n",
       "<div class=\"h\"><a target=\"_blank\" href=\"https://shebanq.ancient-data.org/hebrew/word?version=c&id=1MOVn\" title=\"show this lexeme in SHEBANQ\">מְעַט֙ </a></div>\n",
       "<div class=\"features\"> <span class=\"pdp\"><a href=\"https://shebanq.ancient-data.org/hebrew/text?book=Samuel_II&chapter=16&verse=1&version=c&mr=m&qw=q&tp=txt_p&tr=hb&wget=v&qget=v&nget=vt\" title=\"2_Samuel 16:1\" sec=\"2_Samuel 16:1\">advb</a></span> <span class=\"gloss\">little</span></div>\n",
       "\n",
       "\n",
       "</div>\n",
       "\n",
       "\n",
       "    </div>\n",
       "\n",
       "\n",
       "</div>\n",
       "\n",
       "\n",
       "</div>\n"
      ],
      "text/plain": [
       "<IPython.core.display.HTML object>"
      ]
     },
     "metadata": {},
     "output_type": "display_data"
    },
    {
     "data": {
      "text/markdown": [
       "\n",
       "\n",
       "**phrase** *9*\n",
       "\n"
      ],
      "text/plain": [
       "<IPython.core.display.Markdown object>"
      ]
     },
     "metadata": {},
     "output_type": "display_data"
    },
    {
     "data": {
      "text/html": [
       "<a href=\"https://shebanq.ancient-data.org/hebrew/text?book=Reges_II&chapter=10&verse=18&version=c&mr=m&qw=q&tp=txt_p&tr=hb&wget=v&qget=v&nget=vt\" title=\"show this passage in SHEBANQ\" sec=\"2_Kings 10:18\">2_Kings 10:18</a>\n",
       "<div class=\"atoms  \" >\n",
       "<a href=\"#\" class=\"nd\">768569</a>\n",
       "\n",
       "\n",
       "\n",
       "<div class=\"patom  \" >\n",
       "\n",
       "    <div class=\"phrase \" >\n",
       "        <a href=\"https://shebanq.ancient-data.org/hebrew/text?book=Reges_II&chapter=10&verse=18&version=c&mr=m&qw=q&tp=txt_p&tr=hb&wget=v&qget=v&nget=vt\" title=\"2_Kings 10:18\" sec=\"2_Kings 10:18\">phrase</a> <a href=\"#\" class=\"nd\">768569</a>  <span class=\"function\">Modi</span> <span class=\"typ\">AdvP</span>\n",
       "    </div>\n",
       "    <div class=\"atoms\">\n",
       "\n",
       "<div class=\"word  hl\" >\n",
       "<a href=\"#\" class=\"nd\">201575</a>\n",
       "<div class=\"h\"><a target=\"_blank\" href=\"https://shebanq.ancient-data.org/hebrew/word?version=c&id=1MOVn\" title=\"show this lexeme in SHEBANQ\">מְעָ֑ט </a></div>\n",
       "<div class=\"features\"> <span class=\"pdp\"><a href=\"https://shebanq.ancient-data.org/hebrew/text?book=Reges_II&chapter=10&verse=18&version=c&mr=m&qw=q&tp=txt_p&tr=hb&wget=v&qget=v&nget=vt\" title=\"2_Kings 10:18\" sec=\"2_Kings 10:18\">advb</a></span> <span class=\"gloss\">little</span></div>\n",
       "\n",
       "\n",
       "</div>\n",
       "\n",
       "\n",
       "    </div>\n",
       "\n",
       "\n",
       "</div>\n",
       "\n",
       "\n",
       "</div>\n"
      ],
      "text/plain": [
       "<IPython.core.display.HTML object>"
      ]
     },
     "metadata": {},
     "output_type": "display_data"
    },
    {
     "data": {
      "text/markdown": [
       "\n",
       "\n",
       "**phrase** *10*\n",
       "\n"
      ],
      "text/plain": [
       "<IPython.core.display.Markdown object>"
      ]
     },
     "metadata": {},
     "output_type": "display_data"
    },
    {
     "data": {
      "text/html": [
       "<a href=\"https://shebanq.ancient-data.org/hebrew/text?book=Jesaia&chapter=30&verse=26&version=c&mr=m&qw=q&tp=txt_p&tr=hb&wget=v&qget=v&nget=vt\" title=\"show this passage in SHEBANQ\" sec=\"Isaiah 30:26\">Isaiah 30:26</a>\n",
       "<div class=\"atoms  \" >\n",
       "<a href=\"#\" class=\"nd\">780393</a>\n",
       "\n",
       "\n",
       "\n",
       "<div class=\"patom  \" >\n",
       "\n",
       "    <div class=\"phrase \" >\n",
       "        <a href=\"https://shebanq.ancient-data.org/hebrew/text?book=Jesaia&chapter=30&verse=26&version=c&mr=m&qw=q&tp=txt_p&tr=hb&wget=v&qget=v&nget=vt\" title=\"Isaiah 30:26\" sec=\"Isaiah 30:26\">phrase</a> <a href=\"#\" class=\"nd\">780393</a>  <span class=\"function\">Modi</span> <span class=\"typ\">AdvP</span>\n",
       "    </div>\n",
       "    <div class=\"atoms\">\n",
       "\n",
       "<div class=\"word  hl\" >\n",
       "<a href=\"#\" class=\"nd\">222298</a>\n",
       "<div class=\"h\"><a target=\"_blank\" href=\"https://shebanq.ancient-data.org/hebrew/word?version=c&id=1CBOn\" title=\"show this lexeme in SHEBANQ\">שִׁבְעָתַ֔יִם </a></div>\n",
       "<div class=\"features\"> <span class=\"pdp\"><a href=\"https://shebanq.ancient-data.org/hebrew/text?book=Jesaia&chapter=30&verse=26&version=c&mr=m&qw=q&tp=txt_p&tr=hb&wget=v&qget=v&nget=vt\" title=\"Isaiah 30:26\" sec=\"Isaiah 30:26\">advb</a></span> <span class=\"gloss\">seven</span></div>\n",
       "\n",
       "\n",
       "</div>\n",
       "\n",
       "\n",
       "    </div>\n",
       "\n",
       "\n",
       "</div>\n",
       "\n",
       "\n",
       "</div>\n"
      ],
      "text/plain": [
       "<IPython.core.display.HTML object>"
      ]
     },
     "metadata": {},
     "output_type": "display_data"
    },
    {
     "data": {
      "text/markdown": [
       "\n",
       "\n",
       "**phrase** *11*\n",
       "\n"
      ],
      "text/plain": [
       "<IPython.core.display.Markdown object>"
      ]
     },
     "metadata": {},
     "output_type": "display_data"
    },
    {
     "data": {
      "text/html": [
       "<a href=\"https://shebanq.ancient-data.org/hebrew/text?book=Jeremia&chapter=42&verse=2&version=c&mr=m&qw=q&tp=txt_p&tr=hb&wget=v&qget=v&nget=vt\" title=\"show this passage in SHEBANQ\" sec=\"Jeremiah 42:2\">Jeremiah 42:2</a>\n",
       "<div class=\"atoms  \" >\n",
       "<a href=\"#\" class=\"nd\">802718</a>\n",
       "\n",
       "\n",
       "\n",
       "<div class=\"patom  \" >\n",
       "\n",
       "    <div class=\"phrase \" >\n",
       "        <a href=\"https://shebanq.ancient-data.org/hebrew/text?book=Jeremia&chapter=42&verse=2&version=c&mr=m&qw=q&tp=txt_p&tr=hb&wget=v&qget=v&nget=vt\" title=\"Jeremiah 42:2\" sec=\"Jeremiah 42:2\">phrase</a> <a href=\"#\" class=\"nd\">802718</a>  <span class=\"function\">Modi</span> <span class=\"typ\">AdvP</span>\n",
       "    </div>\n",
       "    <div class=\"atoms\">\n",
       "\n",
       "<div class=\"word  hl\" >\n",
       "<a href=\"#\" class=\"nd\">257841</a>\n",
       "<div class=\"h\"><a target=\"_blank\" href=\"https://shebanq.ancient-data.org/hebrew/word?version=c&id=1MOVn\" title=\"show this lexeme in SHEBANQ\">מְעַט֙ </a></div>\n",
       "<div class=\"features\"> <span class=\"pdp\"><a href=\"https://shebanq.ancient-data.org/hebrew/text?book=Jeremia&chapter=42&verse=2&version=c&mr=m&qw=q&tp=txt_p&tr=hb&wget=v&qget=v&nget=vt\" title=\"Jeremiah 42:2\" sec=\"Jeremiah 42:2\">advb</a></span> <span class=\"gloss\">little</span></div>\n",
       "\n",
       "\n",
       "</div>\n",
       "\n",
       "\n",
       "    </div>\n",
       "\n",
       "\n",
       "</div>\n",
       "\n",
       "\n",
       "</div>\n"
      ],
      "text/plain": [
       "<IPython.core.display.HTML object>"
      ]
     },
     "metadata": {},
     "output_type": "display_data"
    },
    {
     "data": {
      "text/markdown": [
       "\n",
       "\n",
       "**phrase** *12*\n",
       "\n"
      ],
      "text/plain": [
       "<IPython.core.display.Markdown object>"
      ]
     },
     "metadata": {},
     "output_type": "display_data"
    },
    {
     "data": {
      "text/html": [
       "<a href=\"https://shebanq.ancient-data.org/hebrew/text?book=Jeremia&chapter=51&verse=33&version=c&mr=m&qw=q&tp=txt_p&tr=hb&wget=v&qget=v&nget=vt\" title=\"show this passage in SHEBANQ\" sec=\"Jeremiah 51:33\">Jeremiah 51:33</a>\n",
       "<div class=\"atoms  \" >\n",
       "<a href=\"#\" class=\"nd\">806024</a>\n",
       "\n",
       "\n",
       "\n",
       "<div class=\"patom  \" >\n",
       "\n",
       "    <div class=\"phrase \" >\n",
       "        <a href=\"https://shebanq.ancient-data.org/hebrew/text?book=Jeremia&chapter=51&verse=33&version=c&mr=m&qw=q&tp=txt_p&tr=hb&wget=v&qget=v&nget=vt\" title=\"Jeremiah 51:33\" sec=\"Jeremiah 51:33\">phrase</a> <a href=\"#\" class=\"nd\">806024</a>  <span class=\"function\">Modi</span> <span class=\"typ\">AdvP</span>\n",
       "    </div>\n",
       "    <div class=\"atoms\">\n",
       "\n",
       "<div class=\"word  hl\" >\n",
       "<a href=\"#\" class=\"nd\">263328</a>\n",
       "<div class=\"h\"><a target=\"_blank\" href=\"https://shebanq.ancient-data.org/hebrew/word?version=c&id=1MOVn\" title=\"show this lexeme in SHEBANQ\">מְעַ֔ט </a></div>\n",
       "<div class=\"features\"> <span class=\"pdp\"><a href=\"https://shebanq.ancient-data.org/hebrew/text?book=Jeremia&chapter=51&verse=33&version=c&mr=m&qw=q&tp=txt_p&tr=hb&wget=v&qget=v&nget=vt\" title=\"Jeremiah 51:33\" sec=\"Jeremiah 51:33\">advb</a></span> <span class=\"gloss\">little</span></div>\n",
       "\n",
       "\n",
       "</div>\n",
       "\n",
       "\n",
       "    </div>\n",
       "\n",
       "\n",
       "</div>\n",
       "\n",
       "\n",
       "</div>\n"
      ],
      "text/plain": [
       "<IPython.core.display.HTML object>"
      ]
     },
     "metadata": {},
     "output_type": "display_data"
    },
    {
     "data": {
      "text/markdown": [
       "\n",
       "\n",
       "**phrase** *13*\n",
       "\n"
      ],
      "text/plain": [
       "<IPython.core.display.Markdown object>"
      ]
     },
     "metadata": {},
     "output_type": "display_data"
    },
    {
     "data": {
      "text/html": [
       "<a href=\"https://shebanq.ancient-data.org/hebrew/text?book=Ezechiel&chapter=11&verse=16&version=c&mr=m&qw=q&tp=txt_p&tr=hb&wget=v&qget=v&nget=vt\" title=\"show this passage in SHEBANQ\" sec=\"Ezekiel 11:16\">Ezekiel 11:16</a>\n",
       "<div class=\"atoms  \" >\n",
       "<a href=\"#\" class=\"nd\">809512</a>\n",
       "\n",
       "\n",
       "\n",
       "<div class=\"patom  \" >\n",
       "\n",
       "    <div class=\"phrase \" >\n",
       "        <a href=\"https://shebanq.ancient-data.org/hebrew/text?book=Ezechiel&chapter=11&verse=16&version=c&mr=m&qw=q&tp=txt_p&tr=hb&wget=v&qget=v&nget=vt\" title=\"Ezekiel 11:16\" sec=\"Ezekiel 11:16\">phrase</a> <a href=\"#\" class=\"nd\">809512</a>  <span class=\"function\">Modi</span> <span class=\"typ\">AdvP</span>\n",
       "    </div>\n",
       "    <div class=\"atoms\">\n",
       "\n",
       "<div class=\"word  hl\" >\n",
       "<a href=\"#\" class=\"nd\">269147</a>\n",
       "<div class=\"h\"><a target=\"_blank\" href=\"https://shebanq.ancient-data.org/hebrew/word?version=c&id=1MOVn\" title=\"show this lexeme in SHEBANQ\">מְעַ֔ט </a></div>\n",
       "<div class=\"features\"> <span class=\"pdp\"><a href=\"https://shebanq.ancient-data.org/hebrew/text?book=Ezechiel&chapter=11&verse=16&version=c&mr=m&qw=q&tp=txt_p&tr=hb&wget=v&qget=v&nget=vt\" title=\"Ezekiel 11:16\" sec=\"Ezekiel 11:16\">advb</a></span> <span class=\"gloss\">little</span></div>\n",
       "\n",
       "\n",
       "</div>\n",
       "\n",
       "\n",
       "    </div>\n",
       "\n",
       "\n",
       "</div>\n",
       "\n",
       "\n",
       "</div>\n"
      ],
      "text/plain": [
       "<IPython.core.display.HTML object>"
      ]
     },
     "metadata": {},
     "output_type": "display_data"
    },
    {
     "data": {
      "text/markdown": [
       "\n",
       "\n",
       "**phrase** *14*\n",
       "\n"
      ],
      "text/plain": [
       "<IPython.core.display.Markdown object>"
      ]
     },
     "metadata": {},
     "output_type": "display_data"
    },
    {
     "data": {
      "text/html": [
       "<a href=\"https://shebanq.ancient-data.org/hebrew/text?book=Psalmi&chapter=8&verse=6&version=c&mr=m&qw=q&tp=txt_p&tr=hb&wget=v&qget=v&nget=vt\" title=\"show this passage in SHEBANQ\" sec=\"Psalms 8:6\">Psalms 8:6</a>\n",
       "<div class=\"atoms  \" >\n",
       "<a href=\"#\" class=\"nd\">835973</a>\n",
       "\n",
       "\n",
       "\n",
       "<div class=\"patom  \" >\n",
       "\n",
       "    <div class=\"phrase \" >\n",
       "        <a href=\"https://shebanq.ancient-data.org/hebrew/text?book=Psalmi&chapter=8&verse=6&version=c&mr=m&qw=q&tp=txt_p&tr=hb&wget=v&qget=v&nget=vt\" title=\"Psalms 8:6\" sec=\"Psalms 8:6\">phrase</a> <a href=\"#\" class=\"nd\">835973</a>  <span class=\"function\">Modi</span> <span class=\"typ\">AdvP</span>\n",
       "    </div>\n",
       "    <div class=\"atoms\">\n",
       "\n",
       "<div class=\"word  hl\" >\n",
       "<a href=\"#\" class=\"nd\">311515</a>\n",
       "<div class=\"h\"><a target=\"_blank\" href=\"https://shebanq.ancient-data.org/hebrew/word?version=c&id=1MOVn\" title=\"show this lexeme in SHEBANQ\">מְּ֭עַט </a></div>\n",
       "<div class=\"features\"> <span class=\"pdp\"><a href=\"https://shebanq.ancient-data.org/hebrew/text?book=Psalmi&chapter=8&verse=6&version=c&mr=m&qw=q&tp=txt_p&tr=hb&wget=v&qget=v&nget=vt\" title=\"Psalms 8:6\" sec=\"Psalms 8:6\">advb</a></span> <span class=\"gloss\">little</span></div>\n",
       "\n",
       "\n",
       "</div>\n",
       "\n",
       "\n",
       "    </div>\n",
       "\n",
       "\n",
       "</div>\n",
       "\n",
       "\n",
       "</div>\n"
      ],
      "text/plain": [
       "<IPython.core.display.HTML object>"
      ]
     },
     "metadata": {},
     "output_type": "display_data"
    },
    {
     "data": {
      "text/markdown": [
       "\n",
       "\n",
       "**phrase** *15*\n",
       "\n"
      ],
      "text/plain": [
       "<IPython.core.display.Markdown object>"
      ]
     },
     "metadata": {},
     "output_type": "display_data"
    },
    {
     "data": {
      "text/html": [
       "<a href=\"https://shebanq.ancient-data.org/hebrew/text?book=Psalmi&chapter=12&verse=7&version=c&mr=m&qw=q&tp=txt_p&tr=hb&wget=v&qget=v&nget=vt\" title=\"show this passage in SHEBANQ\" sec=\"Psalms 12:7\">Psalms 12:7</a>\n",
       "<div class=\"atoms  \" >\n",
       "<a href=\"#\" class=\"nd\">836397</a>\n",
       "\n",
       "\n",
       "\n",
       "<div class=\"patom  \" >\n",
       "\n",
       "    <div class=\"phrase \" >\n",
       "        <a href=\"https://shebanq.ancient-data.org/hebrew/text?book=Psalmi&chapter=12&verse=7&version=c&mr=m&qw=q&tp=txt_p&tr=hb&wget=v&qget=v&nget=vt\" title=\"Psalms 12:7\" sec=\"Psalms 12:7\">phrase</a> <a href=\"#\" class=\"nd\">836397</a>  <span class=\"function\">Modi</span> <span class=\"typ\">AdvP</span>\n",
       "    </div>\n",
       "    <div class=\"atoms\">\n",
       "\n",
       "<div class=\"word  hl\" >\n",
       "<a href=\"#\" class=\"nd\">312132</a>\n",
       "<div class=\"h\"><a target=\"_blank\" href=\"https://shebanq.ancient-data.org/hebrew/word?version=c&id=1CBOn\" title=\"show this lexeme in SHEBANQ\">שִׁבְעָתָֽיִם׃ </a></div>\n",
       "<div class=\"features\"> <span class=\"pdp\"><a href=\"https://shebanq.ancient-data.org/hebrew/text?book=Psalmi&chapter=12&verse=7&version=c&mr=m&qw=q&tp=txt_p&tr=hb&wget=v&qget=v&nget=vt\" title=\"Psalms 12:7\" sec=\"Psalms 12:7\">advb</a></span> <span class=\"gloss\">seven</span></div>\n",
       "\n",
       "\n",
       "</div>\n",
       "\n",
       "\n",
       "    </div>\n",
       "\n",
       "\n",
       "</div>\n",
       "\n",
       "\n",
       "</div>\n"
      ],
      "text/plain": [
       "<IPython.core.display.HTML object>"
      ]
     },
     "metadata": {},
     "output_type": "display_data"
    },
    {
     "data": {
      "text/markdown": [
       "\n",
       "\n",
       "**phrase** *16*\n",
       "\n"
      ],
      "text/plain": [
       "<IPython.core.display.Markdown object>"
      ]
     },
     "metadata": {},
     "output_type": "display_data"
    },
    {
     "data": {
      "text/html": [
       "<a href=\"https://shebanq.ancient-data.org/hebrew/text?book=Psalmi&chapter=79&verse=12&version=c&mr=m&qw=q&tp=txt_p&tr=hb&wget=v&qget=v&nget=vt\" title=\"show this passage in SHEBANQ\" sec=\"Psalms 79:12\">Psalms 79:12</a>\n",
       "<div class=\"atoms  \" >\n",
       "<a href=\"#\" class=\"nd\">845066</a>\n",
       "\n",
       "\n",
       "\n",
       "<div class=\"patom  \" >\n",
       "\n",
       "    <div class=\"phrase \" >\n",
       "        <a href=\"https://shebanq.ancient-data.org/hebrew/text?book=Psalmi&chapter=79&verse=12&version=c&mr=m&qw=q&tp=txt_p&tr=hb&wget=v&qget=v&nget=vt\" title=\"Psalms 79:12\" sec=\"Psalms 79:12\">phrase</a> <a href=\"#\" class=\"nd\">845066</a>  <span class=\"function\">Modi</span> <span class=\"typ\">AdvP</span>\n",
       "    </div>\n",
       "    <div class=\"atoms\">\n",
       "\n",
       "<div class=\"word  hl\" >\n",
       "<a href=\"#\" class=\"nd\">324385</a>\n",
       "<div class=\"h\"><a target=\"_blank\" href=\"https://shebanq.ancient-data.org/hebrew/word?version=c&id=1CBOn\" title=\"show this lexeme in SHEBANQ\">שִׁ֭בְעָתַיִם </a></div>\n",
       "<div class=\"features\"> <span class=\"pdp\"><a href=\"https://shebanq.ancient-data.org/hebrew/text?book=Psalmi&chapter=79&verse=12&version=c&mr=m&qw=q&tp=txt_p&tr=hb&wget=v&qget=v&nget=vt\" title=\"Psalms 79:12\" sec=\"Psalms 79:12\">advb</a></span> <span class=\"gloss\">seven</span></div>\n",
       "\n",
       "\n",
       "</div>\n",
       "\n",
       "\n",
       "    </div>\n",
       "\n",
       "\n",
       "</div>\n",
       "\n",
       "\n",
       "</div>\n"
      ],
      "text/plain": [
       "<IPython.core.display.HTML object>"
      ]
     },
     "metadata": {},
     "output_type": "display_data"
    },
    {
     "data": {
      "text/markdown": [
       "\n",
       "\n",
       "**phrase** *17*\n",
       "\n"
      ],
      "text/plain": [
       "<IPython.core.display.Markdown object>"
      ]
     },
     "metadata": {},
     "output_type": "display_data"
    },
    {
     "data": {
      "text/html": [
       "<a href=\"https://shebanq.ancient-data.org/hebrew/text?book=Iob&chapter=10&verse=20&version=c&mr=m&qw=q&tp=txt_p&tr=hb&wget=v&qget=v&nget=vt\" title=\"show this passage in SHEBANQ\" sec=\"Job 10:20\">Job 10:20</a>\n",
       "<div class=\"atoms  \" >\n",
       "<a href=\"#\" class=\"nd\">855120</a>\n",
       "\n",
       "\n",
       "\n",
       "<div class=\"patom  \" >\n",
       "\n",
       "    <div class=\"phrase \" >\n",
       "        <a href=\"https://shebanq.ancient-data.org/hebrew/text?book=Iob&chapter=10&verse=20&version=c&mr=m&qw=q&tp=txt_p&tr=hb&wget=v&qget=v&nget=vt\" title=\"Job 10:20\" sec=\"Job 10:20\">phrase</a> <a href=\"#\" class=\"nd\">855120</a>  <span class=\"function\">Modi</span> <span class=\"typ\">AdvP</span>\n",
       "    </div>\n",
       "    <div class=\"atoms\">\n",
       "\n",
       "<div class=\"word  hl\" >\n",
       "<a href=\"#\" class=\"nd\">338787</a>\n",
       "<div class=\"h\"><a target=\"_blank\" href=\"https://shebanq.ancient-data.org/hebrew/word?version=c&id=1MOVn\" title=\"show this lexeme in SHEBANQ\">מְּעָֽט׃ </a></div>\n",
       "<div class=\"features\"> <span class=\"pdp\"><a href=\"https://shebanq.ancient-data.org/hebrew/text?book=Iob&chapter=10&verse=20&version=c&mr=m&qw=q&tp=txt_p&tr=hb&wget=v&qget=v&nget=vt\" title=\"Job 10:20\" sec=\"Job 10:20\">advb</a></span> <span class=\"gloss\">little</span></div>\n",
       "\n",
       "\n",
       "</div>\n",
       "\n",
       "\n",
       "    </div>\n",
       "\n",
       "\n",
       "</div>\n",
       "\n",
       "\n",
       "</div>\n"
      ],
      "text/plain": [
       "<IPython.core.display.HTML object>"
      ]
     },
     "metadata": {},
     "output_type": "display_data"
    },
    {
     "data": {
      "text/markdown": [
       "\n",
       "\n",
       "**phrase** *18*\n",
       "\n"
      ],
      "text/plain": [
       "<IPython.core.display.Markdown object>"
      ]
     },
     "metadata": {},
     "output_type": "display_data"
    },
    {
     "data": {
      "text/html": [
       "<a href=\"https://shebanq.ancient-data.org/hebrew/text?book=Iob&chapter=24&verse=24&version=c&mr=m&qw=q&tp=txt_p&tr=hb&wget=v&qget=v&nget=vt\" title=\"show this passage in SHEBANQ\" sec=\"Job 24:24\">Job 24:24</a>\n",
       "<div class=\"atoms  \" >\n",
       "<a href=\"#\" class=\"nd\">857792</a>\n",
       "\n",
       "\n",
       "\n",
       "<div class=\"patom  \" >\n",
       "\n",
       "    <div class=\"phrase \" >\n",
       "        <a href=\"https://shebanq.ancient-data.org/hebrew/text?book=Iob&chapter=24&verse=24&version=c&mr=m&qw=q&tp=txt_p&tr=hb&wget=v&qget=v&nget=vt\" title=\"Job 24:24\" sec=\"Job 24:24\">phrase</a> <a href=\"#\" class=\"nd\">857792</a>  <span class=\"function\">Modi</span> <span class=\"typ\">AdvP</span>\n",
       "    </div>\n",
       "    <div class=\"atoms\">\n",
       "\n",
       "<div class=\"word  hl\" >\n",
       "<a href=\"#\" class=\"nd\">342165</a>\n",
       "<div class=\"h\"><a target=\"_blank\" href=\"https://shebanq.ancient-data.org/hebrew/word?version=c&id=1MOVn\" title=\"show this lexeme in SHEBANQ\">מְּעַ֨ט׀ </a></div>\n",
       "<div class=\"features\"> <span class=\"pdp\"><a href=\"https://shebanq.ancient-data.org/hebrew/text?book=Iob&chapter=24&verse=24&version=c&mr=m&qw=q&tp=txt_p&tr=hb&wget=v&qget=v&nget=vt\" title=\"Job 24:24\" sec=\"Job 24:24\">advb</a></span> <span class=\"gloss\">little</span></div>\n",
       "\n",
       "\n",
       "</div>\n",
       "\n",
       "\n",
       "    </div>\n",
       "\n",
       "\n",
       "</div>\n",
       "\n",
       "\n",
       "</div>\n"
      ],
      "text/plain": [
       "<IPython.core.display.HTML object>"
      ]
     },
     "metadata": {},
     "output_type": "display_data"
    },
    {
     "data": {
      "text/markdown": [
       "\n",
       "\n",
       "**phrase** *19*\n",
       "\n"
      ],
      "text/plain": [
       "<IPython.core.display.Markdown object>"
      ]
     },
     "metadata": {},
     "output_type": "display_data"
    },
    {
     "data": {
      "text/html": [
       "<a href=\"https://shebanq.ancient-data.org/hebrew/text?book=Proverbia&chapter=6&verse=31&version=c&mr=m&qw=q&tp=txt_p&tr=hb&wget=v&qget=v&nget=vt\" title=\"show this passage in SHEBANQ\" sec=\"Proverbs 6:31\">Proverbs 6:31</a>\n",
       "<div class=\"atoms  \" >\n",
       "<a href=\"#\" class=\"nd\">862485</a>\n",
       "\n",
       "\n",
       "\n",
       "<div class=\"patom  \" >\n",
       "\n",
       "    <div class=\"phrase \" >\n",
       "        <a href=\"https://shebanq.ancient-data.org/hebrew/text?book=Proverbia&chapter=6&verse=31&version=c&mr=m&qw=q&tp=txt_p&tr=hb&wget=v&qget=v&nget=vt\" title=\"Proverbs 6:31\" sec=\"Proverbs 6:31\">phrase</a> <a href=\"#\" class=\"nd\">862485</a>  <span class=\"function\">Modi</span> <span class=\"typ\">AdvP</span>\n",
       "    </div>\n",
       "    <div class=\"atoms\">\n",
       "\n",
       "<div class=\"word  hl\" >\n",
       "<a href=\"#\" class=\"nd\">348543</a>\n",
       "<div class=\"h\"><a target=\"_blank\" href=\"https://shebanq.ancient-data.org/hebrew/word?version=c&id=1CBOn\" title=\"show this lexeme in SHEBANQ\">שִׁבְעָתָ֑יִם </a></div>\n",
       "<div class=\"features\"> <span class=\"pdp\"><a href=\"https://shebanq.ancient-data.org/hebrew/text?book=Proverbia&chapter=6&verse=31&version=c&mr=m&qw=q&tp=txt_p&tr=hb&wget=v&qget=v&nget=vt\" title=\"Proverbs 6:31\" sec=\"Proverbs 6:31\">advb</a></span> <span class=\"gloss\">seven</span></div>\n",
       "\n",
       "\n",
       "</div>\n",
       "\n",
       "\n",
       "    </div>\n",
       "\n",
       "\n",
       "</div>\n",
       "\n",
       "\n",
       "</div>\n"
      ],
      "text/plain": [
       "<IPython.core.display.HTML object>"
      ]
     },
     "metadata": {},
     "output_type": "display_data"
    },
    {
     "data": {
      "text/markdown": [
       "\n",
       "\n",
       "**phrase** *20*\n",
       "\n"
      ],
      "text/plain": [
       "<IPython.core.display.Markdown object>"
      ]
     },
     "metadata": {},
     "output_type": "display_data"
    },
    {
     "data": {
      "text/html": [
       "<a href=\"https://shebanq.ancient-data.org/hebrew/text?book=Ruth&chapter=2&verse=7&version=c&mr=m&qw=q&tp=txt_p&tr=hb&wget=v&qget=v&nget=vt\" title=\"show this passage in SHEBANQ\" sec=\"Ruth 2:7\">Ruth 2:7</a>\n",
       "<div class=\"atoms  \" >\n",
       "<a href=\"#\" class=\"nd\">867938</a>\n",
       "\n",
       "\n",
       "\n",
       "<div class=\"patom  \" >\n",
       "\n",
       "    <div class=\"phrase \" >\n",
       "        <a href=\"https://shebanq.ancient-data.org/hebrew/text?book=Ruth&chapter=2&verse=7&version=c&mr=m&qw=q&tp=txt_p&tr=hb&wget=v&qget=v&nget=vt\" title=\"Ruth 2:7\" sec=\"Ruth 2:7\">phrase</a> <a href=\"#\" class=\"nd\">867938</a>  <span class=\"function\">Modi</span> <span class=\"typ\">AdvP</span>\n",
       "    </div>\n",
       "    <div class=\"atoms\">\n",
       "\n",
       "<div class=\"word  hl\" >\n",
       "<a href=\"#\" class=\"nd\">356376</a>\n",
       "<div class=\"h\"><a target=\"_blank\" href=\"https://shebanq.ancient-data.org/hebrew/word?version=c&id=1MOVn\" title=\"show this lexeme in SHEBANQ\">מְעָֽט׃ </a></div>\n",
       "<div class=\"features\"> <span class=\"pdp\"><a href=\"https://shebanq.ancient-data.org/hebrew/text?book=Ruth&chapter=2&verse=7&version=c&mr=m&qw=q&tp=txt_p&tr=hb&wget=v&qget=v&nget=vt\" title=\"Ruth 2:7\" sec=\"Ruth 2:7\">advb</a></span> <span class=\"gloss\">little</span></div>\n",
       "\n",
       "\n",
       "</div>\n",
       "\n",
       "\n",
       "    </div>\n",
       "\n",
       "\n",
       "</div>\n",
       "\n",
       "\n",
       "</div>\n"
      ],
      "text/plain": [
       "<IPython.core.display.HTML object>"
      ]
     },
     "metadata": {},
     "output_type": "display_data"
    },
    {
     "data": {
      "text/markdown": [
       "\n",
       "\n",
       "**phrase** *21*\n",
       "\n"
      ],
      "text/plain": [
       "<IPython.core.display.Markdown object>"
      ]
     },
     "metadata": {},
     "output_type": "display_data"
    },
    {
     "data": {
      "text/html": [
       "<a href=\"https://shebanq.ancient-data.org/hebrew/text?book=Ecclesiastes&chapter=5&verse=11&version=c&mr=m&qw=q&tp=txt_p&tr=hb&wget=v&qget=v&nget=vt\" title=\"show this passage in SHEBANQ\" sec=\"Ecclesiastes 5:11\">Ecclesiastes 5:11</a>\n",
       "<div class=\"atoms  \" >\n",
       "<a href=\"#\" class=\"nd\">871010</a>\n",
       "\n",
       "\n",
       "\n",
       "<div class=\"patom  \" >\n",
       "\n",
       "    <div class=\"phrase \" >\n",
       "        <a href=\"https://shebanq.ancient-data.org/hebrew/text?book=Ecclesiastes&chapter=5&verse=11&version=c&mr=m&qw=q&tp=txt_p&tr=hb&wget=v&qget=v&nget=vt\" title=\"Ecclesiastes 5:11\" sec=\"Ecclesiastes 5:11\">phrase</a> <a href=\"#\" class=\"nd\">871010</a>  <span class=\"function\">Modi</span> <span class=\"typ\">AdvP</span>\n",
       "    </div>\n",
       "    <div class=\"atoms\">\n",
       "\n",
       "<div class=\"word  hl\" >\n",
       "<a href=\"#\" class=\"nd\">361060</a>\n",
       "<div class=\"h\"><a target=\"_blank\" href=\"https://shebanq.ancient-data.org/hebrew/word?version=c&id=1MOVn\" title=\"show this lexeme in SHEBANQ\">מְעַ֥ט </a></div>\n",
       "<div class=\"features\"> <span class=\"pdp\"><a href=\"https://shebanq.ancient-data.org/hebrew/text?book=Ecclesiastes&chapter=5&verse=11&version=c&mr=m&qw=q&tp=txt_p&tr=hb&wget=v&qget=v&nget=vt\" title=\"Ecclesiastes 5:11\" sec=\"Ecclesiastes 5:11\">advb</a></span> <span class=\"gloss\">little</span></div>\n",
       "\n",
       "\n",
       "</div>\n",
       "\n",
       "\n",
       "    </div>\n",
       "\n",
       "\n",
       "</div>\n",
       "\n",
       "\n",
       "</div>\n"
      ],
      "text/plain": [
       "<IPython.core.display.HTML object>"
      ]
     },
     "metadata": {},
     "output_type": "display_data"
    }
   ],
   "source": [
    "A.show([(phrase, head) for phrase, heads in phrase2heads.items()\n",
    "            for head in heads if head in quantifiers\n",
    "            if F.typ.v(phrase) not in {'NP', 'PrNP'}], condenseType='phrase', withNodes=True)"
   ]
  },
  {
   "cell_type": "markdown",
   "metadata": {},
   "source": [
    "These quantifiers are all well-chosen. \n",
    "\n",
    "Next, I want to check whether there are any cases of a cardinal number and a substantive occuring together as head elements. These combinations often identify mismatched quantifiers."
   ]
  },
  {
   "cell_type": "code",
   "execution_count": 55,
   "metadata": {},
   "outputs": [
    {
     "data": {
      "text/plain": [
       "6"
      ]
     },
     "execution_count": 55,
     "metadata": {},
     "output_type": "execute_result"
    }
   ],
   "source": [
    "card_mix = [(phrase,)+tuple(heads) for phrase, heads in phrase2heads.items()\n",
    "                 if [w for w in heads if F.ls.v(w) == 'card']\n",
    "                 and [w for w in heads if F.ls.v(w) != 'card']]\n",
    "\n",
    "len(card_mix)"
   ]
  },
  {
   "cell_type": "code",
   "execution_count": 56,
   "metadata": {},
   "outputs": [
    {
     "data": {
      "text/markdown": [
       "\n",
       "\n",
       "**phrase** *1*\n",
       "\n"
      ],
      "text/plain": [
       "<IPython.core.display.Markdown object>"
      ]
     },
     "metadata": {},
     "output_type": "display_data"
    },
    {
     "data": {
      "text/html": [
       "<a href=\"https://shebanq.ancient-data.org/hebrew/text?book=Exodus&chapter=24&verse=9&version=c&mr=m&qw=q&tp=txt_p&tr=hb&wget=v&qget=v&nget=vt\" title=\"show this passage in SHEBANQ\" sec=\"Exodus 24:9\">Exodus 24:9</a>\n",
       "<div class=\"atoms  \" >\n",
       "<a href=\"#\" class=\"nd\">677497</a>\n",
       "\n",
       "\n",
       "\n",
       "<div class=\"patom  l \" >\n",
       "\n",
       "    <div class=\"phrase \" >\n",
       "        <a href=\"https://shebanq.ancient-data.org/hebrew/text?book=Exodus&chapter=24&verse=9&version=c&mr=m&qw=q&tp=txt_p&tr=hb&wget=v&qget=v&nget=vt\" title=\"Exodus 24:9\" sec=\"Exodus 24:9\">phrase</a> <a href=\"#\" class=\"nd\">677497</a>  <span class=\"function\">Subj</span> <span class=\"typ\">PrNP</span>\n",
       "    </div>\n",
       "    <div class=\"atoms\">\n",
       "\n",
       "<div class=\"word  hl\" >\n",
       "<a href=\"#\" class=\"nd\">41784</a>\n",
       "<div class=\"h\"><a target=\"_blank\" href=\"https://shebanq.ancient-data.org/hebrew/word?version=c&id=1MCHin\" title=\"show this lexeme in SHEBANQ\">מֹשֶׁ֖ה </a></div>\n",
       "<div class=\"features\"> <span class=\"pdp\"><a href=\"https://shebanq.ancient-data.org/hebrew/text?book=Exodus&chapter=24&verse=9&version=c&mr=m&qw=q&tp=txt_p&tr=hb&wget=v&qget=v&nget=vt\" title=\"Exodus 24:9\" sec=\"Exodus 24:9\">nmpr</a></span> <span class=\"gloss\">Moses</span></div>\n",
       "\n",
       "\n",
       "</div>\n",
       "\n",
       "<div class=\"word  \" >\n",
       "<a href=\"#\" class=\"nd\">41785</a>\n",
       "<div class=\"h\"><a target=\"_blank\" href=\"https://shebanq.ancient-data.org/hebrew/word?version=c&id=1W\" title=\"show this lexeme in SHEBANQ\">וְ</a></div>\n",
       "<div class=\"features\"> <span class=\"pdp\"><a href=\"https://shebanq.ancient-data.org/hebrew/text?book=Exodus&chapter=24&verse=9&version=c&mr=m&qw=q&tp=txt_p&tr=hb&wget=v&qget=v&nget=vt\" title=\"Exodus 24:9\" sec=\"Exodus 24:9\">conj</a></span> <span class=\"gloss\">and</span></div>\n",
       "\n",
       "\n",
       "</div>\n",
       "\n",
       "<div class=\"word  hl\" >\n",
       "<a href=\"#\" class=\"nd\">41786</a>\n",
       "<div class=\"h\"><a target=\"_blank\" href=\"https://shebanq.ancient-data.org/hebrew/word?version=c&id=1AHRNn\" title=\"show this lexeme in SHEBANQ\">אַהֲרֹ֑ן </a></div>\n",
       "<div class=\"features\"> <span class=\"pdp\"><a href=\"https://shebanq.ancient-data.org/hebrew/text?book=Exodus&chapter=24&verse=9&version=c&mr=m&qw=q&tp=txt_p&tr=hb&wget=v&qget=v&nget=vt\" title=\"Exodus 24:9\" sec=\"Exodus 24:9\">nmpr</a></span> <span class=\"gloss\">Aaron</span></div>\n",
       "\n",
       "\n",
       "</div>\n",
       "\n",
       "<div class=\"word  hl\" >\n",
       "<a href=\"#\" class=\"nd\">41787</a>\n",
       "<div class=\"h\"><a target=\"_blank\" href=\"https://shebanq.ancient-data.org/hebrew/word?version=c&id=1NDBn\" title=\"show this lexeme in SHEBANQ\">נָדָב֙ </a></div>\n",
       "<div class=\"features\"> <span class=\"pdp\"><a href=\"https://shebanq.ancient-data.org/hebrew/text?book=Exodus&chapter=24&verse=9&version=c&mr=m&qw=q&tp=txt_p&tr=hb&wget=v&qget=v&nget=vt\" title=\"Exodus 24:9\" sec=\"Exodus 24:9\">nmpr</a></span> <span class=\"gloss\">Nadab</span></div>\n",
       "\n",
       "\n",
       "</div>\n",
       "\n",
       "<div class=\"word  \" >\n",
       "<a href=\"#\" class=\"nd\">41788</a>\n",
       "<div class=\"h\"><a target=\"_blank\" href=\"https://shebanq.ancient-data.org/hebrew/word?version=c&id=1W\" title=\"show this lexeme in SHEBANQ\">וַ</a></div>\n",
       "<div class=\"features\"> <span class=\"pdp\"><a href=\"https://shebanq.ancient-data.org/hebrew/text?book=Exodus&chapter=24&verse=9&version=c&mr=m&qw=q&tp=txt_p&tr=hb&wget=v&qget=v&nget=vt\" title=\"Exodus 24:9\" sec=\"Exodus 24:9\">conj</a></span> <span class=\"gloss\">and</span></div>\n",
       "\n",
       "\n",
       "</div>\n",
       "\n",
       "<div class=\"word  hl\" >\n",
       "<a href=\"#\" class=\"nd\">41789</a>\n",
       "<div class=\"h\"><a target=\"_blank\" href=\"https://shebanq.ancient-data.org/hebrew/word?version=c&id=1ABJHWAn\" title=\"show this lexeme in SHEBANQ\">אֲבִיה֔וּא </a></div>\n",
       "<div class=\"features\"> <span class=\"pdp\"><a href=\"https://shebanq.ancient-data.org/hebrew/text?book=Exodus&chapter=24&verse=9&version=c&mr=m&qw=q&tp=txt_p&tr=hb&wget=v&qget=v&nget=vt\" title=\"Exodus 24:9\" sec=\"Exodus 24:9\">nmpr</a></span> <span class=\"gloss\">Abihu</span></div>\n",
       "\n",
       "\n",
       "</div>\n",
       "\n",
       "<div class=\"word  \" >\n",
       "<a href=\"#\" class=\"nd\">41790</a>\n",
       "<div class=\"h\"><a target=\"_blank\" href=\"https://shebanq.ancient-data.org/hebrew/word?version=c&id=1W\" title=\"show this lexeme in SHEBANQ\">וְ</a></div>\n",
       "<div class=\"features\"> <span class=\"pdp\"><a href=\"https://shebanq.ancient-data.org/hebrew/text?book=Exodus&chapter=24&verse=9&version=c&mr=m&qw=q&tp=txt_p&tr=hb&wget=v&qget=v&nget=vt\" title=\"Exodus 24:9\" sec=\"Exodus 24:9\">conj</a></span> <span class=\"gloss\">and</span></div>\n",
       "\n",
       "\n",
       "</div>\n",
       "\n",
       "<div class=\"word  hl\" >\n",
       "<a href=\"#\" class=\"nd\">41791</a>\n",
       "<div class=\"h\"><a target=\"_blank\" href=\"https://shebanq.ancient-data.org/hebrew/word?version=c&id=1CBOn\" title=\"show this lexeme in SHEBANQ\">שִׁבְעִ֖ים </a></div>\n",
       "<div class=\"features\"> <span class=\"pdp\"><a href=\"https://shebanq.ancient-data.org/hebrew/text?book=Exodus&chapter=24&verse=9&version=c&mr=m&qw=q&tp=txt_p&tr=hb&wget=v&qget=v&nget=vt\" title=\"Exodus 24:9\" sec=\"Exodus 24:9\">subs</a></span> <span class=\"gloss\">seven</span></div>\n",
       "\n",
       "\n",
       "</div>\n",
       "\n",
       "\n",
       "    </div>\n",
       "\n",
       "\n",
       "</div>\n",
       "\n",
       "<div class=\"patom  r \" >\n",
       "\n",
       "    <div class=\"phrase \" >\n",
       "        <a href=\"https://shebanq.ancient-data.org/hebrew/text?book=Exodus&chapter=24&verse=9&version=c&mr=m&qw=q&tp=txt_p&tr=hb&wget=v&qget=v&nget=vt\" title=\"Exodus 24:9\" sec=\"Exodus 24:9\">phrase</a> <a href=\"#\" class=\"nd\">677497</a>  <span class=\"function\">Subj</span> <span class=\"typ\">PrNP|PP</span>\n",
       "    </div>\n",
       "    <div class=\"atoms\">\n",
       "\n",
       "<div class=\"word  \" >\n",
       "<a href=\"#\" class=\"nd\">41792</a>\n",
       "<div class=\"h\"><a target=\"_blank\" href=\"https://shebanq.ancient-data.org/hebrew/word?version=c&id=1MN\" title=\"show this lexeme in SHEBANQ\">מִ</a></div>\n",
       "<div class=\"features\"> <span class=\"pdp\"><a href=\"https://shebanq.ancient-data.org/hebrew/text?book=Exodus&chapter=24&verse=9&version=c&mr=m&qw=q&tp=txt_p&tr=hb&wget=v&qget=v&nget=vt\" title=\"Exodus 24:9\" sec=\"Exodus 24:9\">prep</a></span> <span class=\"gloss\">from</span></div>\n",
       "\n",
       "\n",
       "</div>\n",
       "\n",
       "<div class=\"word  \" >\n",
       "<a href=\"#\" class=\"nd\">41793</a>\n",
       "<div class=\"h\"><a target=\"_blank\" href=\"https://shebanq.ancient-data.org/hebrew/word?version=c&id=1ZQNn\" title=\"show this lexeme in SHEBANQ\">זִּקְנֵ֥י </a></div>\n",
       "<div class=\"features\"> <span class=\"pdp\"><a href=\"https://shebanq.ancient-data.org/hebrew/text?book=Exodus&chapter=24&verse=9&version=c&mr=m&qw=q&tp=txt_p&tr=hb&wget=v&qget=v&nget=vt\" title=\"Exodus 24:9\" sec=\"Exodus 24:9\">subs</a></span> <span class=\"gloss\">old</span></div>\n",
       "\n",
       "\n",
       "</div>\n",
       "\n",
       "<div class=\"word  \" >\n",
       "<a href=\"#\" class=\"nd\">41794</a>\n",
       "<div class=\"h\"><a target=\"_blank\" href=\"https://shebanq.ancient-data.org/hebrew/word?version=c&id=1JFRALn\" title=\"show this lexeme in SHEBANQ\">יִשְׂרָאֵֽל׃ </a></div>\n",
       "<div class=\"features\"> <span class=\"pdp\"><a href=\"https://shebanq.ancient-data.org/hebrew/text?book=Exodus&chapter=24&verse=9&version=c&mr=m&qw=q&tp=txt_p&tr=hb&wget=v&qget=v&nget=vt\" title=\"Exodus 24:9\" sec=\"Exodus 24:9\">nmpr</a></span> <span class=\"gloss\">Israel</span></div>\n",
       "\n",
       "\n",
       "</div>\n",
       "\n",
       "\n",
       "    </div>\n",
       "\n",
       "\n",
       "</div>\n",
       "\n",
       "\n",
       "</div>\n"
      ],
      "text/plain": [
       "<IPython.core.display.HTML object>"
      ]
     },
     "metadata": {},
     "output_type": "display_data"
    },
    {
     "data": {
      "text/markdown": [
       "\n",
       "\n",
       "**phrase** *2*\n",
       "\n"
      ],
      "text/plain": [
       "<IPython.core.display.Markdown object>"
      ]
     },
     "metadata": {},
     "output_type": "display_data"
    },
    {
     "data": {
      "text/html": [
       "<a href=\"https://shebanq.ancient-data.org/hebrew/text?book=Josua&chapter=15&verse=32&version=c&mr=m&qw=q&tp=txt_p&tr=hb&wget=v&qget=v&nget=vt\" title=\"show this passage in SHEBANQ\" sec=\"Joshua 15:32\">Joshua 15:32</a>\n",
       "<div class=\"atoms  \" >\n",
       "<a href=\"#\" class=\"nd\">720376</a>\n",
       "\n",
       "\n",
       "\n",
       "<div class=\"patom  \" >\n",
       "\n",
       "    <div class=\"phrase \" >\n",
       "        <a href=\"https://shebanq.ancient-data.org/hebrew/text?book=Josua&chapter=15&verse=32&version=c&mr=m&qw=q&tp=txt_p&tr=hb&wget=v&qget=v&nget=vt\" title=\"Joshua 15:32\" sec=\"Joshua 15:32\">phrase</a> <a href=\"#\" class=\"nd\">720376</a>  <span class=\"function\">PreC</span> <span class=\"typ\">NP</span>\n",
       "    </div>\n",
       "    <div class=\"atoms\">\n",
       "\n",
       "<div class=\"word  hl\" >\n",
       "<a href=\"#\" class=\"nd\">121906</a>\n",
       "<div class=\"h\"><a target=\"_blank\" href=\"https://shebanq.ancient-data.org/hebrew/word?version=c&id=1OFRJMn\" title=\"show this lexeme in SHEBANQ\">עֶשְׂרִ֥ים </a></div>\n",
       "<div class=\"features\"> <span class=\"pdp\"><a href=\"https://shebanq.ancient-data.org/hebrew/text?book=Josua&chapter=15&verse=32&version=c&mr=m&qw=q&tp=txt_p&tr=hb&wget=v&qget=v&nget=vt\" title=\"Joshua 15:32\" sec=\"Joshua 15:32\">subs</a></span> <span class=\"gloss\">twenty</span></div>\n",
       "\n",
       "\n",
       "</div>\n",
       "\n",
       "<div class=\"word  \" >\n",
       "<a href=\"#\" class=\"nd\">121907</a>\n",
       "<div class=\"h\"><a target=\"_blank\" href=\"https://shebanq.ancient-data.org/hebrew/word?version=c&id=1W\" title=\"show this lexeme in SHEBANQ\">וָ</a></div>\n",
       "<div class=\"features\"> <span class=\"pdp\"><a href=\"https://shebanq.ancient-data.org/hebrew/text?book=Josua&chapter=15&verse=32&version=c&mr=m&qw=q&tp=txt_p&tr=hb&wget=v&qget=v&nget=vt\" title=\"Joshua 15:32\" sec=\"Joshua 15:32\">conj</a></span> <span class=\"gloss\">and</span></div>\n",
       "\n",
       "\n",
       "</div>\n",
       "\n",
       "<div class=\"word  hl\" >\n",
       "<a href=\"#\" class=\"nd\">121908</a>\n",
       "<div class=\"h\"><a target=\"_blank\" href=\"https://shebanq.ancient-data.org/hebrew/word?version=c&id=1TCOn\" title=\"show this lexeme in SHEBANQ\">תֵ֖שַׁע </a></div>\n",
       "<div class=\"features\"> <span class=\"pdp\"><a href=\"https://shebanq.ancient-data.org/hebrew/text?book=Josua&chapter=15&verse=32&version=c&mr=m&qw=q&tp=txt_p&tr=hb&wget=v&qget=v&nget=vt\" title=\"Joshua 15:32\" sec=\"Joshua 15:32\">subs</a></span> <span class=\"gloss\">nine</span></div>\n",
       "\n",
       "\n",
       "</div>\n",
       "\n",
       "<div class=\"word  \" >\n",
       "<a href=\"#\" class=\"nd\">121909</a>\n",
       "<div class=\"h\"><a target=\"_blank\" href=\"https://shebanq.ancient-data.org/hebrew/word?version=c&id=1W\" title=\"show this lexeme in SHEBANQ\">וְ</a></div>\n",
       "<div class=\"features\"> <span class=\"pdp\"><a href=\"https://shebanq.ancient-data.org/hebrew/text?book=Josua&chapter=15&verse=32&version=c&mr=m&qw=q&tp=txt_p&tr=hb&wget=v&qget=v&nget=vt\" title=\"Joshua 15:32\" sec=\"Joshua 15:32\">conj</a></span> <span class=\"gloss\">and</span></div>\n",
       "\n",
       "\n",
       "</div>\n",
       "\n",
       "<div class=\"word  hl\" >\n",
       "<a href=\"#\" class=\"nd\">121910</a>\n",
       "<div class=\"h\"><a target=\"_blank\" href=\"https://shebanq.ancient-data.org/hebrew/word?version=c&id=1XYRn\" title=\"show this lexeme in SHEBANQ\">חַצְרֵיהֶֽן׃ ס </a></div>\n",
       "<div class=\"features\"> <span class=\"pdp\"><a href=\"https://shebanq.ancient-data.org/hebrew/text?book=Josua&chapter=15&verse=32&version=c&mr=m&qw=q&tp=txt_p&tr=hb&wget=v&qget=v&nget=vt\" title=\"Joshua 15:32\" sec=\"Joshua 15:32\">subs</a></span> <span class=\"gloss\">court</span></div>\n",
       "\n",
       "\n",
       "</div>\n",
       "\n",
       "\n",
       "    </div>\n",
       "\n",
       "\n",
       "</div>\n",
       "\n",
       "\n",
       "</div>\n"
      ],
      "text/plain": [
       "<IPython.core.display.HTML object>"
      ]
     },
     "metadata": {},
     "output_type": "display_data"
    },
    {
     "data": {
      "text/markdown": [
       "\n",
       "\n",
       "**phrase** *3*\n",
       "\n"
      ],
      "text/plain": [
       "<IPython.core.display.Markdown object>"
      ]
     },
     "metadata": {},
     "output_type": "display_data"
    },
    {
     "data": {
      "text/html": [
       "<a href=\"https://shebanq.ancient-data.org/hebrew/text?book=Reges_II&chapter=1&verse=9&version=c&mr=m&qw=q&tp=txt_p&tr=hb&wget=v&qget=v&nget=vt\" title=\"show this passage in SHEBANQ\" sec=\"2_Kings 1:9\">2_Kings 1:9</a>\n",
       "<div class=\"atoms  \" >\n",
       "<a href=\"#\" class=\"nd\">764206</a>\n",
       "\n",
       "\n",
       "\n",
       "<div class=\"patom  \" >\n",
       "\n",
       "    <div class=\"phrase \" >\n",
       "        <a href=\"https://shebanq.ancient-data.org/hebrew/text?book=Reges_II&chapter=1&verse=9&version=c&mr=m&qw=q&tp=txt_p&tr=hb&wget=v&qget=v&nget=vt\" title=\"2_Kings 1:9\" sec=\"2_Kings 1:9\">phrase</a> <a href=\"#\" class=\"nd\">764206</a>  <span class=\"function\">Objc</span> <span class=\"typ\">NP</span>\n",
       "    </div>\n",
       "    <div class=\"atoms\">\n",
       "\n",
       "<div class=\"word  hl\" >\n",
       "<a href=\"#\" class=\"nd\">194958</a>\n",
       "<div class=\"h\"><a target=\"_blank\" href=\"https://shebanq.ancient-data.org/hebrew/word?version=c&id=1FRn\" title=\"show this lexeme in SHEBANQ\">שַׂר־</a></div>\n",
       "<div class=\"features\"> <span class=\"pdp\"><a href=\"https://shebanq.ancient-data.org/hebrew/text?book=Reges_II&chapter=1&verse=9&version=c&mr=m&qw=q&tp=txt_p&tr=hb&wget=v&qget=v&nget=vt\" title=\"2_Kings 1:9\" sec=\"2_Kings 1:9\">subs</a></span> <span class=\"gloss\">chief</span></div>\n",
       "\n",
       "\n",
       "</div>\n",
       "\n",
       "<div class=\"word  \" >\n",
       "<a href=\"#\" class=\"nd\">194959</a>\n",
       "<div class=\"h\"><a target=\"_blank\" href=\"https://shebanq.ancient-data.org/hebrew/word?version=c&id=1XMCn\" title=\"show this lexeme in SHEBANQ\">חֲמִשִּׁ֖ים </a></div>\n",
       "<div class=\"features\"> <span class=\"pdp\"><a href=\"https://shebanq.ancient-data.org/hebrew/text?book=Reges_II&chapter=1&verse=9&version=c&mr=m&qw=q&tp=txt_p&tr=hb&wget=v&qget=v&nget=vt\" title=\"2_Kings 1:9\" sec=\"2_Kings 1:9\">subs</a></span> <span class=\"gloss\">five</span></div>\n",
       "\n",
       "\n",
       "</div>\n",
       "\n",
       "<div class=\"word  \" >\n",
       "<a href=\"#\" class=\"nd\">194960</a>\n",
       "<div class=\"h\"><a target=\"_blank\" href=\"https://shebanq.ancient-data.org/hebrew/word?version=c&id=1W\" title=\"show this lexeme in SHEBANQ\">וַ</a></div>\n",
       "<div class=\"features\"> <span class=\"pdp\"><a href=\"https://shebanq.ancient-data.org/hebrew/text?book=Reges_II&chapter=1&verse=9&version=c&mr=m&qw=q&tp=txt_p&tr=hb&wget=v&qget=v&nget=vt\" title=\"2_Kings 1:9\" sec=\"2_Kings 1:9\">conj</a></span> <span class=\"gloss\">and</span></div>\n",
       "\n",
       "\n",
       "</div>\n",
       "\n",
       "<div class=\"word  hl\" >\n",
       "<a href=\"#\" class=\"nd\">194961</a>\n",
       "<div class=\"h\"><a target=\"_blank\" href=\"https://shebanq.ancient-data.org/hebrew/word?version=c&id=1XMCn\" title=\"show this lexeme in SHEBANQ\">חֲמִשָּׁ֑יו </a></div>\n",
       "<div class=\"features\"> <span class=\"pdp\"><a href=\"https://shebanq.ancient-data.org/hebrew/text?book=Reges_II&chapter=1&verse=9&version=c&mr=m&qw=q&tp=txt_p&tr=hb&wget=v&qget=v&nget=vt\" title=\"2_Kings 1:9\" sec=\"2_Kings 1:9\">subs</a></span> <span class=\"gloss\">five</span></div>\n",
       "\n",
       "\n",
       "</div>\n",
       "\n",
       "\n",
       "    </div>\n",
       "\n",
       "\n",
       "</div>\n",
       "\n",
       "\n",
       "</div>\n"
      ],
      "text/plain": [
       "<IPython.core.display.HTML object>"
      ]
     },
     "metadata": {},
     "output_type": "display_data"
    },
    {
     "data": {
      "text/markdown": [
       "\n",
       "\n",
       "**phrase** *4*\n",
       "\n"
      ],
      "text/plain": [
       "<IPython.core.display.Markdown object>"
      ]
     },
     "metadata": {},
     "output_type": "display_data"
    },
    {
     "data": {
      "text/html": [
       "<a href=\"https://shebanq.ancient-data.org/hebrew/text?book=Reges_II&chapter=1&verse=11&version=c&mr=m&qw=q&tp=txt_p&tr=hb&wget=v&qget=v&nget=vt\" title=\"show this passage in SHEBANQ\" sec=\"2_Kings 1:11\">2_Kings 1:11</a>\n",
       "<div class=\"atoms  \" >\n",
       "<a href=\"#\" class=\"nd\">764249</a>\n",
       "\n",
       "\n",
       "\n",
       "<div class=\"patom  \" >\n",
       "\n",
       "    <div class=\"phrase \" >\n",
       "        <a href=\"https://shebanq.ancient-data.org/hebrew/text?book=Reges_II&chapter=1&verse=11&version=c&mr=m&qw=q&tp=txt_p&tr=hb&wget=v&qget=v&nget=vt\" title=\"2_Kings 1:11\" sec=\"2_Kings 1:11\">phrase</a> <a href=\"#\" class=\"nd\">764249</a>  <span class=\"function\">Objc</span> <span class=\"typ\">NP</span>\n",
       "    </div>\n",
       "    <div class=\"atoms\">\n",
       "\n",
       "<div class=\"word  hl\" >\n",
       "<a href=\"#\" class=\"nd\">195024</a>\n",
       "<div class=\"h\"><a target=\"_blank\" href=\"https://shebanq.ancient-data.org/hebrew/word?version=c&id=1FRn\" title=\"show this lexeme in SHEBANQ\">שַׂר־</a></div>\n",
       "<div class=\"features\"> <span class=\"pdp\"><a href=\"https://shebanq.ancient-data.org/hebrew/text?book=Reges_II&chapter=1&verse=11&version=c&mr=m&qw=q&tp=txt_p&tr=hb&wget=v&qget=v&nget=vt\" title=\"2_Kings 1:11\" sec=\"2_Kings 1:11\">subs</a></span> <span class=\"gloss\">chief</span></div>\n",
       "\n",
       "\n",
       "</div>\n",
       "\n",
       "<div class=\"word  \" >\n",
       "<a href=\"#\" class=\"nd\">195025</a>\n",
       "<div class=\"h\"><a target=\"_blank\" href=\"https://shebanq.ancient-data.org/hebrew/word?version=c&id=1XMCn\" title=\"show this lexeme in SHEBANQ\">חֲמִשִּׁ֥ים </a></div>\n",
       "<div class=\"features\"> <span class=\"pdp\"><a href=\"https://shebanq.ancient-data.org/hebrew/text?book=Reges_II&chapter=1&verse=11&version=c&mr=m&qw=q&tp=txt_p&tr=hb&wget=v&qget=v&nget=vt\" title=\"2_Kings 1:11\" sec=\"2_Kings 1:11\">subs</a></span> <span class=\"gloss\">five</span></div>\n",
       "\n",
       "\n",
       "</div>\n",
       "\n",
       "<div class=\"word  \" >\n",
       "<a href=\"#\" class=\"nd\">195026</a>\n",
       "<div class=\"h\"><a target=\"_blank\" href=\"https://shebanq.ancient-data.org/hebrew/word?version=c&id=1AXRin\" title=\"show this lexeme in SHEBANQ\">אַחֵ֖ר </a></div>\n",
       "<div class=\"features\"> <span class=\"pdp\"><a href=\"https://shebanq.ancient-data.org/hebrew/text?book=Reges_II&chapter=1&verse=11&version=c&mr=m&qw=q&tp=txt_p&tr=hb&wget=v&qget=v&nget=vt\" title=\"2_Kings 1:11\" sec=\"2_Kings 1:11\">adjv</a></span> <span class=\"gloss\">other</span></div>\n",
       "\n",
       "\n",
       "</div>\n",
       "\n",
       "<div class=\"word  \" >\n",
       "<a href=\"#\" class=\"nd\">195027</a>\n",
       "<div class=\"h\"><a target=\"_blank\" href=\"https://shebanq.ancient-data.org/hebrew/word?version=c&id=1W\" title=\"show this lexeme in SHEBANQ\">וַ</a></div>\n",
       "<div class=\"features\"> <span class=\"pdp\"><a href=\"https://shebanq.ancient-data.org/hebrew/text?book=Reges_II&chapter=1&verse=11&version=c&mr=m&qw=q&tp=txt_p&tr=hb&wget=v&qget=v&nget=vt\" title=\"2_Kings 1:11\" sec=\"2_Kings 1:11\">conj</a></span> <span class=\"gloss\">and</span></div>\n",
       "\n",
       "\n",
       "</div>\n",
       "\n",
       "<div class=\"word  hl\" >\n",
       "<a href=\"#\" class=\"nd\">195028</a>\n",
       "<div class=\"h\"><a target=\"_blank\" href=\"https://shebanq.ancient-data.org/hebrew/word?version=c&id=1XMCn\" title=\"show this lexeme in SHEBANQ\">חֲמִשָּׁ֑יו </a></div>\n",
       "<div class=\"features\"> <span class=\"pdp\"><a href=\"https://shebanq.ancient-data.org/hebrew/text?book=Reges_II&chapter=1&verse=11&version=c&mr=m&qw=q&tp=txt_p&tr=hb&wget=v&qget=v&nget=vt\" title=\"2_Kings 1:11\" sec=\"2_Kings 1:11\">subs</a></span> <span class=\"gloss\">five</span></div>\n",
       "\n",
       "\n",
       "</div>\n",
       "\n",
       "\n",
       "    </div>\n",
       "\n",
       "\n",
       "</div>\n",
       "\n",
       "\n",
       "</div>\n"
      ],
      "text/plain": [
       "<IPython.core.display.HTML object>"
      ]
     },
     "metadata": {},
     "output_type": "display_data"
    },
    {
     "data": {
      "text/markdown": [
       "\n",
       "\n",
       "**phrase** *5*\n",
       "\n"
      ],
      "text/plain": [
       "<IPython.core.display.Markdown object>"
      ]
     },
     "metadata": {},
     "output_type": "display_data"
    },
    {
     "data": {
      "text/html": [
       "<a href=\"https://shebanq.ancient-data.org/hebrew/text?book=Reges_II&chapter=1&verse=13&version=c&mr=m&qw=q&tp=txt_p&tr=hb&wget=v&qget=v&nget=vt\" title=\"show this passage in SHEBANQ\" sec=\"2_Kings 1:13\">2_Kings 1:13</a>\n",
       "<div class=\"atoms  \" >\n",
       "<a href=\"#\" class=\"nd\">764287</a>\n",
       "\n",
       "\n",
       "\n",
       "<div class=\"patom  \" >\n",
       "\n",
       "    <div class=\"phrase \" >\n",
       "        <a href=\"https://shebanq.ancient-data.org/hebrew/text?book=Reges_II&chapter=1&verse=13&version=c&mr=m&qw=q&tp=txt_p&tr=hb&wget=v&qget=v&nget=vt\" title=\"2_Kings 1:13\" sec=\"2_Kings 1:13\">phrase</a> <a href=\"#\" class=\"nd\">764287</a>  <span class=\"function\">Objc</span> <span class=\"typ\">NP</span>\n",
       "    </div>\n",
       "    <div class=\"atoms\">\n",
       "\n",
       "<div class=\"word  hl\" >\n",
       "<a href=\"#\" class=\"nd\">195082</a>\n",
       "<div class=\"h\"><a target=\"_blank\" href=\"https://shebanq.ancient-data.org/hebrew/word?version=c&id=1FRn\" title=\"show this lexeme in SHEBANQ\">שַׂר־</a></div>\n",
       "<div class=\"features\"> <span class=\"pdp\"><a href=\"https://shebanq.ancient-data.org/hebrew/text?book=Reges_II&chapter=1&verse=13&version=c&mr=m&qw=q&tp=txt_p&tr=hb&wget=v&qget=v&nget=vt\" title=\"2_Kings 1:13\" sec=\"2_Kings 1:13\">subs</a></span> <span class=\"gloss\">chief</span></div>\n",
       "\n",
       "\n",
       "</div>\n",
       "\n",
       "<div class=\"word  \" >\n",
       "<a href=\"#\" class=\"nd\">195083</a>\n",
       "<div class=\"h\"><a target=\"_blank\" href=\"https://shebanq.ancient-data.org/hebrew/word?version=c&id=1XMCn\" title=\"show this lexeme in SHEBANQ\">חֲמִשִּׁ֥ים </a></div>\n",
       "<div class=\"features\"> <span class=\"pdp\"><a href=\"https://shebanq.ancient-data.org/hebrew/text?book=Reges_II&chapter=1&verse=13&version=c&mr=m&qw=q&tp=txt_p&tr=hb&wget=v&qget=v&nget=vt\" title=\"2_Kings 1:13\" sec=\"2_Kings 1:13\">subs</a></span> <span class=\"gloss\">five</span></div>\n",
       "\n",
       "\n",
       "</div>\n",
       "\n",
       "<div class=\"word  \" >\n",
       "<a href=\"#\" class=\"nd\">195084</a>\n",
       "<div class=\"h\"><a target=\"_blank\" href=\"https://shebanq.ancient-data.org/hebrew/word?version=c&id=1CLJCJn\" title=\"show this lexeme in SHEBANQ\">שְׁלִשִׁ֖ים </a></div>\n",
       "<div class=\"features\"> <span class=\"pdp\"><a href=\"https://shebanq.ancient-data.org/hebrew/text?book=Reges_II&chapter=1&verse=13&version=c&mr=m&qw=q&tp=txt_p&tr=hb&wget=v&qget=v&nget=vt\" title=\"2_Kings 1:13\" sec=\"2_Kings 1:13\">adjv</a></span> <span class=\"gloss\">third</span></div>\n",
       "\n",
       "\n",
       "</div>\n",
       "\n",
       "<div class=\"word  \" >\n",
       "<a href=\"#\" class=\"nd\">195085</a>\n",
       "<div class=\"h\"><a target=\"_blank\" href=\"https://shebanq.ancient-data.org/hebrew/word?version=c&id=1W\" title=\"show this lexeme in SHEBANQ\">וַ</a></div>\n",
       "<div class=\"features\"> <span class=\"pdp\"><a href=\"https://shebanq.ancient-data.org/hebrew/text?book=Reges_II&chapter=1&verse=13&version=c&mr=m&qw=q&tp=txt_p&tr=hb&wget=v&qget=v&nget=vt\" title=\"2_Kings 1:13\" sec=\"2_Kings 1:13\">conj</a></span> <span class=\"gloss\">and</span></div>\n",
       "\n",
       "\n",
       "</div>\n",
       "\n",
       "<div class=\"word  hl\" >\n",
       "<a href=\"#\" class=\"nd\">195086</a>\n",
       "<div class=\"h\"><a target=\"_blank\" href=\"https://shebanq.ancient-data.org/hebrew/word?version=c&id=1XMCn\" title=\"show this lexeme in SHEBANQ\">חֲמִשָּׁ֑יו </a></div>\n",
       "<div class=\"features\"> <span class=\"pdp\"><a href=\"https://shebanq.ancient-data.org/hebrew/text?book=Reges_II&chapter=1&verse=13&version=c&mr=m&qw=q&tp=txt_p&tr=hb&wget=v&qget=v&nget=vt\" title=\"2_Kings 1:13\" sec=\"2_Kings 1:13\">subs</a></span> <span class=\"gloss\">five</span></div>\n",
       "\n",
       "\n",
       "</div>\n",
       "\n",
       "\n",
       "    </div>\n",
       "\n",
       "\n",
       "</div>\n",
       "\n",
       "\n",
       "</div>\n"
      ],
      "text/plain": [
       "<IPython.core.display.HTML object>"
      ]
     },
     "metadata": {},
     "output_type": "display_data"
    },
    {
     "data": {
      "text/markdown": [
       "\n",
       "\n",
       "**phrase** *6*\n",
       "\n"
      ],
      "text/plain": [
       "<IPython.core.display.Markdown object>"
      ]
     },
     "metadata": {},
     "output_type": "display_data"
    },
    {
     "data": {
      "text/html": [
       "<a href=\"https://shebanq.ancient-data.org/hebrew/text?book=Nehemia&chapter=13&verse=20&version=c&mr=m&qw=q&tp=txt_p&tr=hb&wget=v&qget=v&nget=vt\" title=\"show this passage in SHEBANQ\" sec=\"Nehemiah 13:20\">Nehemiah 13:20</a>\n",
       "<div class=\"atoms  \" >\n",
       "<a href=\"#\" class=\"nd\">887266</a>\n",
       "\n",
       "\n",
       "\n",
       "<div class=\"patom  \" >\n",
       "\n",
       "    <div class=\"phrase \" >\n",
       "        <a href=\"https://shebanq.ancient-data.org/hebrew/text?book=Nehemia&chapter=13&verse=20&version=c&mr=m&qw=q&tp=txt_p&tr=hb&wget=v&qget=v&nget=vt\" title=\"Nehemiah 13:20\" sec=\"Nehemiah 13:20\">phrase</a> <a href=\"#\" class=\"nd\">887266</a>  <span class=\"function\">Modi</span> <span class=\"typ\">NP</span>\n",
       "    </div>\n",
       "    <div class=\"atoms\">\n",
       "\n",
       "<div class=\"word  hl\" >\n",
       "<a href=\"#\" class=\"nd\">391009</a>\n",
       "<div class=\"h\"><a target=\"_blank\" href=\"https://shebanq.ancient-data.org/hebrew/word?version=c&id=1POMn\" title=\"show this lexeme in SHEBANQ\">פַּ֥עַם </a></div>\n",
       "<div class=\"features\"> <span class=\"pdp\"><a href=\"https://shebanq.ancient-data.org/hebrew/text?book=Nehemia&chapter=13&verse=20&version=c&mr=m&qw=q&tp=txt_p&tr=hb&wget=v&qget=v&nget=vt\" title=\"Nehemiah 13:20\" sec=\"Nehemiah 13:20\">subs</a></span> <span class=\"gloss\">foot</span></div>\n",
       "\n",
       "\n",
       "</div>\n",
       "\n",
       "<div class=\"word  \" >\n",
       "<a href=\"#\" class=\"nd\">391010</a>\n",
       "<div class=\"h\"><a target=\"_blank\" href=\"https://shebanq.ancient-data.org/hebrew/word?version=c&id=1W\" title=\"show this lexeme in SHEBANQ\">וּ</a></div>\n",
       "<div class=\"features\"> <span class=\"pdp\"><a href=\"https://shebanq.ancient-data.org/hebrew/text?book=Nehemia&chapter=13&verse=20&version=c&mr=m&qw=q&tp=txt_p&tr=hb&wget=v&qget=v&nget=vt\" title=\"Nehemiah 13:20\" sec=\"Nehemiah 13:20\">conj</a></span> <span class=\"gloss\">and</span></div>\n",
       "\n",
       "\n",
       "</div>\n",
       "\n",
       "<div class=\"word  hl\" >\n",
       "<a href=\"#\" class=\"nd\">391011</a>\n",
       "<div class=\"h\"><a target=\"_blank\" href=\"https://shebanq.ancient-data.org/hebrew/word?version=c&id=1CNJMn\" title=\"show this lexeme in SHEBANQ\">שְׁתָּֽיִם׃ </a></div>\n",
       "<div class=\"features\"> <span class=\"pdp\"><a href=\"https://shebanq.ancient-data.org/hebrew/text?book=Nehemia&chapter=13&verse=20&version=c&mr=m&qw=q&tp=txt_p&tr=hb&wget=v&qget=v&nget=vt\" title=\"Nehemiah 13:20\" sec=\"Nehemiah 13:20\">subs</a></span> <span class=\"gloss\">two</span></div>\n",
       "\n",
       "\n",
       "</div>\n",
       "\n",
       "\n",
       "    </div>\n",
       "\n",
       "\n",
       "</div>\n",
       "\n",
       "\n",
       "</div>\n"
      ],
      "text/plain": [
       "<IPython.core.display.HTML object>"
      ]
     },
     "metadata": {},
     "output_type": "display_data"
    }
   ],
   "source": [
    "A.show(card_mix, condenseType='phrase', withNodes=True, end=100)"
   ]
  },
  {
   "cell_type": "markdown",
   "metadata": {},
   "source": [
    "It is good that there is only 6 such cases. All of these cases appear to be permissible combinations of quantifiers and nominals, where the quantifier stands as its own element. In the first case, it is perhaps conceivable that the quantifier should be omitted, and זכן be selected instead. However, such a situation is a semantic choice that cannot be easily automated. There are many additional concerns that this method would need to address.\n",
    "\n",
    "Next, I want to know whether any cardinal quantifiers have unfairly been excluded from head roles by the strict requirements for standalone quantifiers. This would occur in phrases that only contain standalone quantifiers. This will require a search of its own, followed by a comparison of the search's heads with the selected heads."
   ]
  },
  {
   "cell_type": "code",
   "execution_count": 57,
   "metadata": {},
   "outputs": [
    {
     "name": "stdout",
     "output_type": "stream",
     "text": [
      "  1.17s 1031 results\n"
     ]
    },
    {
     "data": {
      "text/plain": [
       "0"
      ]
     },
     "execution_count": 57,
     "metadata": {},
     "output_type": "execute_result"
    }
   ],
   "source": [
    "all_cards = A.search(f'''\n",
    "\n",
    "phrase typ=NP|PrNP\n",
    "\n",
    "% all non-conj./art. words in phrase are cardinals\n",
    "/where/\n",
    "    word pdp#conj|art\n",
    "/have/\n",
    "    ls=card\n",
    "/-/\n",
    "\n",
    "    phrase_atom rela=NA|Para\n",
    "        quantifier:quant\n",
    "\n",
    "% require either NA subphrase relation\n",
    "% or no subphrase embedding:\n",
    "        /with/\n",
    "        subphrase rela=NA|par\n",
    "            quantifier\n",
    "        /or/\n",
    "        /without/\n",
    "        subphrase\n",
    "            quantifier\n",
    "        /-/\n",
    "        /-/\n",
    "\n",
    "% exclude uses as modifier:\n",
    "        /without/\n",
    "        subphrase rela=adj|atr|rec|mod|dem\n",
    "            quantifier\n",
    "        /-/\n",
    "        \n",
    "% ensure word is not immediately preceded by a construct form\n",
    "        /without/\n",
    "        phrase_atom\n",
    "            word st=c\n",
    "            <: quantifier\n",
    "        /-/\n",
    "\n",
    "% ensure quantifier is not immediately preceded by a preposition\n",
    "        /without/\n",
    "        phrase_atom\n",
    "            word pdp=prep\n",
    "            <: quantifier\n",
    "        /-/\n",
    "        /without/\n",
    "        phrase_atom\n",
    "            word pdp=prep\n",
    "            <: word pdp=art\n",
    "            <: quantifier\n",
    "        /-/\n",
    "''', sets={'quant': quantifiers})\n",
    "\n",
    "all_cards_heads = set(res[2] for res in all_cards)\n",
    "select_cards_heads = set(head for phrase, heads in phrase2heads.items() for head in heads if F.ls.v(head) == 'card')\n",
    "\n",
    "len(all_cards_heads - select_cards_heads) "
   ]
  },
  {
   "cell_type": "markdown",
   "metadata": {},
   "source": [
    "This is a good result. The search found 1031 phrase heads in cardinal-only phrases. All of these heads are contained in the `heads2` dataset. \n",
    "\n",
    "Note that the `NP_quant_alone` pattern found more. This is expected since `NP_quant_alone` is a more sophisticated search that checks between phrase atoms for various relations. We have already tested above to make sure those selections are valid. But just to be sure, which results did the `all_cards` pattern above not find? Below is a small sampling. They often have to do with additional modifiers on the cardinal number contained in a separate phrase_atom."
   ]
  },
  {
   "cell_type": "code",
   "execution_count": 58,
   "metadata": {},
   "outputs": [
    {
     "data": {
      "text/markdown": [
       "\n",
       "\n",
       "**phrase** *1*\n",
       "\n"
      ],
      "text/plain": [
       "<IPython.core.display.Markdown object>"
      ]
     },
     "metadata": {},
     "output_type": "display_data"
    },
    {
     "data": {
      "text/html": [
       "<a href=\"https://shebanq.ancient-data.org/hebrew/text?book=Reges_I&chapter=10&verse=22&version=c&mr=m&qw=q&tp=txt_p&tr=hb&wget=v&qget=v&nget=vt\" title=\"show this passage in SHEBANQ\" sec=\"1_Kings 10:22\">1_Kings 10:22</a>\n",
       "<div class=\"atoms  \" >\n",
       "<a href=\"#\" class=\"nd\">757950</a>\n",
       "\n",
       "\n",
       "\n",
       "<div class=\"patom  l \" >\n",
       "\n",
       "    <div class=\"phrase \" >\n",
       "        <a href=\"https://shebanq.ancient-data.org/hebrew/text?book=Reges_I&chapter=10&verse=22&version=c&mr=m&qw=q&tp=txt_p&tr=hb&wget=v&qget=v&nget=vt\" title=\"1_Kings 10:22\" sec=\"1_Kings 10:22\">phrase</a> <a href=\"#\" class=\"nd\">757950</a>  <span class=\"function\">Time</span> <span class=\"typ\">NP</span>\n",
       "    </div>\n",
       "    <div class=\"atoms\">\n",
       "\n",
       "<div class=\"word  hl\" >\n",
       "<a href=\"#\" class=\"nd\">184839</a>\n",
       "<div class=\"h\"><a target=\"_blank\" href=\"https://shebanq.ancient-data.org/hebrew/word?version=c&id=1AXDn\" title=\"show this lexeme in SHEBANQ\">אַחַת֩ </a></div>\n",
       "<div class=\"features\"> <span class=\"pdp\"><a href=\"https://shebanq.ancient-data.org/hebrew/text?book=Reges_I&chapter=10&verse=22&version=c&mr=m&qw=q&tp=txt_p&tr=hb&wget=v&qget=v&nget=vt\" title=\"1_Kings 10:22\" sec=\"1_Kings 10:22\">subs</a></span> <span class=\"gloss\">one</span></div>\n",
       "\n",
       "\n",
       "</div>\n",
       "\n",
       "\n",
       "    </div>\n",
       "\n",
       "\n",
       "</div>\n",
       "\n",
       "<div class=\"patom  r \" >\n",
       "\n",
       "    <div class=\"phrase \" >\n",
       "        <a href=\"https://shebanq.ancient-data.org/hebrew/text?book=Reges_I&chapter=10&verse=22&version=c&mr=m&qw=q&tp=txt_p&tr=hb&wget=v&qget=v&nget=vt\" title=\"1_Kings 10:22\" sec=\"1_Kings 10:22\">phrase</a> <a href=\"#\" class=\"nd\">757950</a>  <span class=\"function\">Time</span> <span class=\"typ\">NP|PP</span>\n",
       "    </div>\n",
       "    <div class=\"atoms\">\n",
       "\n",
       "<div class=\"word  \" >\n",
       "<a href=\"#\" class=\"nd\">184840</a>\n",
       "<div class=\"h\"><a target=\"_blank\" href=\"https://shebanq.ancient-data.org/hebrew/word?version=c&id=1L\" title=\"show this lexeme in SHEBANQ\">לְ</a></div>\n",
       "<div class=\"features\"> <span class=\"pdp\"><a href=\"https://shebanq.ancient-data.org/hebrew/text?book=Reges_I&chapter=10&verse=22&version=c&mr=m&qw=q&tp=txt_p&tr=hb&wget=v&qget=v&nget=vt\" title=\"1_Kings 10:22\" sec=\"1_Kings 10:22\">prep</a></span> <span class=\"gloss\">to</span></div>\n",
       "\n",
       "\n",
       "</div>\n",
       "\n",
       "<div class=\"word  \" >\n",
       "<a href=\"#\" class=\"nd\">184841</a>\n",
       "<div class=\"h\"><a target=\"_blank\" href=\"https://shebanq.ancient-data.org/hebrew/word?version=c&id=1CLCn\" title=\"show this lexeme in SHEBANQ\">שָׁלֹ֨שׁ </a></div>\n",
       "<div class=\"features\"> <span class=\"pdp\"><a href=\"https://shebanq.ancient-data.org/hebrew/text?book=Reges_I&chapter=10&verse=22&version=c&mr=m&qw=q&tp=txt_p&tr=hb&wget=v&qget=v&nget=vt\" title=\"1_Kings 10:22\" sec=\"1_Kings 10:22\">subs</a></span> <span class=\"gloss\">three</span></div>\n",
       "\n",
       "\n",
       "</div>\n",
       "\n",
       "<div class=\"word  \" >\n",
       "<a href=\"#\" class=\"nd\">184842</a>\n",
       "<div class=\"h\"><a target=\"_blank\" href=\"https://shebanq.ancient-data.org/hebrew/word?version=c&id=1CNHn\" title=\"show this lexeme in SHEBANQ\">שָׁנִ֜ים </a></div>\n",
       "<div class=\"features\"> <span class=\"pdp\"><a href=\"https://shebanq.ancient-data.org/hebrew/text?book=Reges_I&chapter=10&verse=22&version=c&mr=m&qw=q&tp=txt_p&tr=hb&wget=v&qget=v&nget=vt\" title=\"1_Kings 10:22\" sec=\"1_Kings 10:22\">subs</a></span> <span class=\"gloss\">year</span></div>\n",
       "\n",
       "\n",
       "</div>\n",
       "\n",
       "\n",
       "    </div>\n",
       "\n",
       "\n",
       "</div>\n",
       "\n",
       "\n",
       "</div>\n"
      ],
      "text/plain": [
       "<IPython.core.display.HTML object>"
      ]
     },
     "metadata": {},
     "output_type": "display_data"
    },
    {
     "data": {
      "text/markdown": [
       "\n",
       "\n",
       "**phrase** *2*\n",
       "\n"
      ],
      "text/plain": [
       "<IPython.core.display.Markdown object>"
      ]
     },
     "metadata": {},
     "output_type": "display_data"
    },
    {
     "data": {
      "text/html": [
       "<a href=\"https://shebanq.ancient-data.org/hebrew/text?book=Esra&chapter=8&verse=24&version=c&mr=m&qw=q&tp=txt_p&tr=hb&wget=v&qget=v&nget=vt\" title=\"show this passage in SHEBANQ\" sec=\"Ezra 8:24\">Ezra 8:24</a>\n",
       "<div class=\"atoms  \" >\n",
       "<a href=\"#\" class=\"nd\">883029</a>\n",
       "\n",
       "\n",
       "\n",
       "<div class=\"patom  l \" >\n",
       "\n",
       "    <div class=\"phrase \" >\n",
       "        <a href=\"https://shebanq.ancient-data.org/hebrew/text?book=Esra&chapter=8&verse=24&version=c&mr=m&qw=q&tp=txt_p&tr=hb&wget=v&qget=v&nget=vt\" title=\"Ezra 8:24\" sec=\"Ezra 8:24\">phrase</a> <a href=\"#\" class=\"nd\">883029</a>  <span class=\"function\">Objc</span> <span class=\"typ\">NP</span>\n",
       "    </div>\n",
       "    <div class=\"atoms\">\n",
       "\n",
       "<div class=\"word  hl\" >\n",
       "<a href=\"#\" class=\"nd\">381959</a>\n",
       "<div class=\"h\"><a target=\"_blank\" href=\"https://shebanq.ancient-data.org/hebrew/word?version=c&id=1CNJMn\" title=\"show this lexeme in SHEBANQ\">שְׁנֵ֣ים </a></div>\n",
       "<div class=\"features\"> <span class=\"pdp\"><a href=\"https://shebanq.ancient-data.org/hebrew/text?book=Esra&chapter=8&verse=24&version=c&mr=m&qw=q&tp=txt_p&tr=hb&wget=v&qget=v&nget=vt\" title=\"Ezra 8:24\" sec=\"Ezra 8:24\">subs</a></span> <span class=\"gloss\">two</span></div>\n",
       "\n",
       "\n",
       "</div>\n",
       "\n",
       "<div class=\"word  \" >\n",
       "<a href=\"#\" class=\"nd\">381960</a>\n",
       "<div class=\"h\"><a target=\"_blank\" href=\"https://shebanq.ancient-data.org/hebrew/word?version=c&id=1OFRn\" title=\"show this lexeme in SHEBANQ\">עָשָׂ֑ר </a></div>\n",
       "<div class=\"features\"> <span class=\"pdp\"><a href=\"https://shebanq.ancient-data.org/hebrew/text?book=Esra&chapter=8&verse=24&version=c&mr=m&qw=q&tp=txt_p&tr=hb&wget=v&qget=v&nget=vt\" title=\"Ezra 8:24\" sec=\"Ezra 8:24\">subs</a></span> <span class=\"gloss\">-teen</span></div>\n",
       "\n",
       "\n",
       "</div>\n",
       "\n",
       "\n",
       "    </div>\n",
       "\n",
       "\n",
       "</div>\n",
       "\n",
       "<div class=\"patom  r \" >\n",
       "\n",
       "    <div class=\"phrase \" >\n",
       "        <a href=\"https://shebanq.ancient-data.org/hebrew/text?book=Esra&chapter=8&verse=24&version=c&mr=m&qw=q&tp=txt_p&tr=hb&wget=v&qget=v&nget=vt\" title=\"Ezra 8:24\" sec=\"Ezra 8:24\">phrase</a> <a href=\"#\" class=\"nd\">883029</a>  <span class=\"function\">Objc</span> <span class=\"typ\">NP|PP</span>\n",
       "    </div>\n",
       "    <div class=\"atoms\">\n",
       "\n",
       "<div class=\"word  \" >\n",
       "<a href=\"#\" class=\"nd\">381961</a>\n",
       "<div class=\"h\"><a target=\"_blank\" href=\"https://shebanq.ancient-data.org/hebrew/word?version=c&id=1L\" title=\"show this lexeme in SHEBANQ\">לְ</a></div>\n",
       "<div class=\"features\"> <span class=\"pdp\"><a href=\"https://shebanq.ancient-data.org/hebrew/text?book=Esra&chapter=8&verse=24&version=c&mr=m&qw=q&tp=txt_p&tr=hb&wget=v&qget=v&nget=vt\" title=\"Ezra 8:24\" sec=\"Ezra 8:24\">prep</a></span> <span class=\"gloss\">to</span></div>\n",
       "\n",
       "\n",
       "</div>\n",
       "\n",
       "<div class=\"word  \" >\n",
       "<a href=\"#\" class=\"nd\">381962</a>\n",
       "<div class=\"h\"><a target=\"_blank\" href=\"https://shebanq.ancient-data.org/hebrew/word?version=c&id=1CRBJHn\" title=\"show this lexeme in SHEBANQ\">שֵׁרֵֽבְיָ֣ה </a></div>\n",
       "<div class=\"features\"> <span class=\"pdp\"><a href=\"https://shebanq.ancient-data.org/hebrew/text?book=Esra&chapter=8&verse=24&version=c&mr=m&qw=q&tp=txt_p&tr=hb&wget=v&qget=v&nget=vt\" title=\"Ezra 8:24\" sec=\"Ezra 8:24\">nmpr</a></span> <span class=\"gloss\">Sherebiah</span></div>\n",
       "\n",
       "\n",
       "</div>\n",
       "\n",
       "<div class=\"word  \" >\n",
       "<a href=\"#\" class=\"nd\">381963</a>\n",
       "<div class=\"h\"><a target=\"_blank\" href=\"https://shebanq.ancient-data.org/hebrew/word?version=c&id=1XCBJHn\" title=\"show this lexeme in SHEBANQ\">חֲשַׁבְיָ֔ה </a></div>\n",
       "<div class=\"features\"> <span class=\"pdp\"><a href=\"https://shebanq.ancient-data.org/hebrew/text?book=Esra&chapter=8&verse=24&version=c&mr=m&qw=q&tp=txt_p&tr=hb&wget=v&qget=v&nget=vt\" title=\"Ezra 8:24\" sec=\"Ezra 8:24\">nmpr</a></span> <span class=\"gloss\">Hashabiah</span></div>\n",
       "\n",
       "\n",
       "</div>\n",
       "\n",
       "\n",
       "    </div>\n",
       "\n",
       "\n",
       "</div>\n",
       "\n",
       "\n",
       "</div>\n"
      ],
      "text/plain": [
       "<IPython.core.display.HTML object>"
      ]
     },
     "metadata": {},
     "output_type": "display_data"
    },
    {
     "data": {
      "text/markdown": [
       "\n",
       "\n",
       "**phrase** *3*\n",
       "\n"
      ],
      "text/plain": [
       "<IPython.core.display.Markdown object>"
      ]
     },
     "metadata": {},
     "output_type": "display_data"
    },
    {
     "data": {
      "text/html": [
       "<a href=\"https://shebanq.ancient-data.org/hebrew/text?book=Genesis&chapter=7&verse=2&version=c&mr=m&qw=q&tp=txt_p&tr=hb&wget=v&qget=v&nget=vt\" title=\"show this passage in SHEBANQ\" sec=\"Genesis 7:2\">Genesis 7:2</a>\n",
       "<div class=\"atoms  \" >\n",
       "<a href=\"#\" class=\"nd\">653340</a>\n",
       "\n",
       "\n",
       "\n",
       "<div class=\"patom  l \" >\n",
       "\n",
       "    <div class=\"phrase \" >\n",
       "        <a href=\"https://shebanq.ancient-data.org/hebrew/text?book=Genesis&chapter=7&verse=2&version=c&mr=m&qw=q&tp=txt_p&tr=hb&wget=v&qget=v&nget=vt\" title=\"Genesis 7:2\" sec=\"Genesis 7:2\">phrase</a> <a href=\"#\" class=\"nd\">653340</a>  <span class=\"function\">Objc</span> <span class=\"typ\">NP</span>\n",
       "    </div>\n",
       "    <div class=\"atoms\">\n",
       "\n",
       "<div class=\"word  hl\" >\n",
       "<a href=\"#\" class=\"nd\">3083</a>\n",
       "<div class=\"h\"><a target=\"_blank\" href=\"https://shebanq.ancient-data.org/hebrew/word?version=c&id=1CNJMn\" title=\"show this lexeme in SHEBANQ\">שְׁנַ֖יִם </a></div>\n",
       "<div class=\"features\"> <span class=\"pdp\"><a href=\"https://shebanq.ancient-data.org/hebrew/text?book=Genesis&chapter=7&verse=2&version=c&mr=m&qw=q&tp=txt_p&tr=hb&wget=v&qget=v&nget=vt\" title=\"Genesis 7:2\" sec=\"Genesis 7:2\">subs</a></span> <span class=\"gloss\">two</span></div>\n",
       "\n",
       "\n",
       "</div>\n",
       "\n",
       "\n",
       "    </div>\n",
       "\n",
       "\n",
       "</div>\n",
       "\n",
       "<div class=\"patom  r \" >\n",
       "\n",
       "    <div class=\"phrase \" >\n",
       "        <a href=\"https://shebanq.ancient-data.org/hebrew/text?book=Genesis&chapter=7&verse=2&version=c&mr=m&qw=q&tp=txt_p&tr=hb&wget=v&qget=v&nget=vt\" title=\"Genesis 7:2\" sec=\"Genesis 7:2\">phrase</a> <a href=\"#\" class=\"nd\">653340</a>  <span class=\"function\">Objc</span> <span class=\"typ\">NP</span>\n",
       "    </div>\n",
       "    <div class=\"atoms\">\n",
       "\n",
       "<div class=\"word  \" >\n",
       "<a href=\"#\" class=\"nd\">3084</a>\n",
       "<div class=\"h\"><a target=\"_blank\" href=\"https://shebanq.ancient-data.org/hebrew/word?version=c&id=1AJCn\" title=\"show this lexeme in SHEBANQ\">אִ֥ישׁ </a></div>\n",
       "<div class=\"features\"> <span class=\"pdp\"><a href=\"https://shebanq.ancient-data.org/hebrew/text?book=Genesis&chapter=7&verse=2&version=c&mr=m&qw=q&tp=txt_p&tr=hb&wget=v&qget=v&nget=vt\" title=\"Genesis 7:2\" sec=\"Genesis 7:2\">subs</a></span> <span class=\"gloss\">man</span></div>\n",
       "\n",
       "\n",
       "</div>\n",
       "\n",
       "<div class=\"word  \" >\n",
       "<a href=\"#\" class=\"nd\">3085</a>\n",
       "<div class=\"h\"><a target=\"_blank\" href=\"https://shebanq.ancient-data.org/hebrew/word?version=c&id=1W\" title=\"show this lexeme in SHEBANQ\">וְ</a></div>\n",
       "<div class=\"features\"> <span class=\"pdp\"><a href=\"https://shebanq.ancient-data.org/hebrew/text?book=Genesis&chapter=7&verse=2&version=c&mr=m&qw=q&tp=txt_p&tr=hb&wget=v&qget=v&nget=vt\" title=\"Genesis 7:2\" sec=\"Genesis 7:2\">conj</a></span> <span class=\"gloss\">and</span></div>\n",
       "\n",
       "\n",
       "</div>\n",
       "\n",
       "<div class=\"word  \" >\n",
       "<a href=\"#\" class=\"nd\">3086</a>\n",
       "<div class=\"h\"><a target=\"_blank\" href=\"https://shebanq.ancient-data.org/hebrew/word?version=c&id=1ACHn\" title=\"show this lexeme in SHEBANQ\">אִשְׁתֹּֽו׃ </a></div>\n",
       "<div class=\"features\"> <span class=\"pdp\"><a href=\"https://shebanq.ancient-data.org/hebrew/text?book=Genesis&chapter=7&verse=2&version=c&mr=m&qw=q&tp=txt_p&tr=hb&wget=v&qget=v&nget=vt\" title=\"Genesis 7:2\" sec=\"Genesis 7:2\">subs</a></span> <span class=\"gloss\">woman</span></div>\n",
       "\n",
       "\n",
       "</div>\n",
       "\n",
       "\n",
       "    </div>\n",
       "\n",
       "\n",
       "</div>\n",
       "\n",
       "\n",
       "</div>\n"
      ],
      "text/plain": [
       "<IPython.core.display.HTML object>"
      ]
     },
     "metadata": {},
     "output_type": "display_data"
    },
    {
     "data": {
      "text/markdown": [
       "\n",
       "\n",
       "**phrase** *4*\n",
       "\n"
      ],
      "text/plain": [
       "<IPython.core.display.Markdown object>"
      ]
     },
     "metadata": {},
     "output_type": "display_data"
    },
    {
     "data": {
      "text/html": [
       "<a href=\"https://shebanq.ancient-data.org/hebrew/text?book=Reges_II&chapter=1&verse=13&version=c&mr=m&qw=q&tp=txt_p&tr=hb&wget=v&qget=v&nget=vt\" title=\"show this passage in SHEBANQ\" sec=\"2_Kings 1:13\">2_Kings 1:13</a>\n",
       "<div class=\"atoms  \" >\n",
       "<a href=\"#\" class=\"nd\">764287</a>\n",
       "\n",
       "\n",
       "\n",
       "<div class=\"patom  \" >\n",
       "\n",
       "    <div class=\"phrase \" >\n",
       "        <a href=\"https://shebanq.ancient-data.org/hebrew/text?book=Reges_II&chapter=1&verse=13&version=c&mr=m&qw=q&tp=txt_p&tr=hb&wget=v&qget=v&nget=vt\" title=\"2_Kings 1:13\" sec=\"2_Kings 1:13\">phrase</a> <a href=\"#\" class=\"nd\">764287</a>  <span class=\"function\">Objc</span> <span class=\"typ\">NP</span>\n",
       "    </div>\n",
       "    <div class=\"atoms\">\n",
       "\n",
       "<div class=\"word  hl\" >\n",
       "<a href=\"#\" class=\"nd\">195082</a>\n",
       "<div class=\"h\"><a target=\"_blank\" href=\"https://shebanq.ancient-data.org/hebrew/word?version=c&id=1FRn\" title=\"show this lexeme in SHEBANQ\">שַׂר־</a></div>\n",
       "<div class=\"features\"> <span class=\"pdp\"><a href=\"https://shebanq.ancient-data.org/hebrew/text?book=Reges_II&chapter=1&verse=13&version=c&mr=m&qw=q&tp=txt_p&tr=hb&wget=v&qget=v&nget=vt\" title=\"2_Kings 1:13\" sec=\"2_Kings 1:13\">subs</a></span> <span class=\"gloss\">chief</span></div>\n",
       "\n",
       "\n",
       "</div>\n",
       "\n",
       "<div class=\"word  \" >\n",
       "<a href=\"#\" class=\"nd\">195083</a>\n",
       "<div class=\"h\"><a target=\"_blank\" href=\"https://shebanq.ancient-data.org/hebrew/word?version=c&id=1XMCn\" title=\"show this lexeme in SHEBANQ\">חֲמִשִּׁ֥ים </a></div>\n",
       "<div class=\"features\"> <span class=\"pdp\"><a href=\"https://shebanq.ancient-data.org/hebrew/text?book=Reges_II&chapter=1&verse=13&version=c&mr=m&qw=q&tp=txt_p&tr=hb&wget=v&qget=v&nget=vt\" title=\"2_Kings 1:13\" sec=\"2_Kings 1:13\">subs</a></span> <span class=\"gloss\">five</span></div>\n",
       "\n",
       "\n",
       "</div>\n",
       "\n",
       "<div class=\"word  \" >\n",
       "<a href=\"#\" class=\"nd\">195084</a>\n",
       "<div class=\"h\"><a target=\"_blank\" href=\"https://shebanq.ancient-data.org/hebrew/word?version=c&id=1CLJCJn\" title=\"show this lexeme in SHEBANQ\">שְׁלִשִׁ֖ים </a></div>\n",
       "<div class=\"features\"> <span class=\"pdp\"><a href=\"https://shebanq.ancient-data.org/hebrew/text?book=Reges_II&chapter=1&verse=13&version=c&mr=m&qw=q&tp=txt_p&tr=hb&wget=v&qget=v&nget=vt\" title=\"2_Kings 1:13\" sec=\"2_Kings 1:13\">adjv</a></span> <span class=\"gloss\">third</span></div>\n",
       "\n",
       "\n",
       "</div>\n",
       "\n",
       "<div class=\"word  \" >\n",
       "<a href=\"#\" class=\"nd\">195085</a>\n",
       "<div class=\"h\"><a target=\"_blank\" href=\"https://shebanq.ancient-data.org/hebrew/word?version=c&id=1W\" title=\"show this lexeme in SHEBANQ\">וַ</a></div>\n",
       "<div class=\"features\"> <span class=\"pdp\"><a href=\"https://shebanq.ancient-data.org/hebrew/text?book=Reges_II&chapter=1&verse=13&version=c&mr=m&qw=q&tp=txt_p&tr=hb&wget=v&qget=v&nget=vt\" title=\"2_Kings 1:13\" sec=\"2_Kings 1:13\">conj</a></span> <span class=\"gloss\">and</span></div>\n",
       "\n",
       "\n",
       "</div>\n",
       "\n",
       "<div class=\"word  hl\" >\n",
       "<a href=\"#\" class=\"nd\">195086</a>\n",
       "<div class=\"h\"><a target=\"_blank\" href=\"https://shebanq.ancient-data.org/hebrew/word?version=c&id=1XMCn\" title=\"show this lexeme in SHEBANQ\">חֲמִשָּׁ֑יו </a></div>\n",
       "<div class=\"features\"> <span class=\"pdp\"><a href=\"https://shebanq.ancient-data.org/hebrew/text?book=Reges_II&chapter=1&verse=13&version=c&mr=m&qw=q&tp=txt_p&tr=hb&wget=v&qget=v&nget=vt\" title=\"2_Kings 1:13\" sec=\"2_Kings 1:13\">subs</a></span> <span class=\"gloss\">five</span></div>\n",
       "\n",
       "\n",
       "</div>\n",
       "\n",
       "\n",
       "    </div>\n",
       "\n",
       "\n",
       "</div>\n",
       "\n",
       "\n",
       "</div>\n"
      ],
      "text/plain": [
       "<IPython.core.display.HTML object>"
      ]
     },
     "metadata": {},
     "output_type": "display_data"
    },
    {
     "data": {
      "text/markdown": [
       "\n",
       "\n",
       "**phrase** *5*\n",
       "\n"
      ],
      "text/plain": [
       "<IPython.core.display.Markdown object>"
      ]
     },
     "metadata": {},
     "output_type": "display_data"
    },
    {
     "data": {
      "text/html": [
       "<a href=\"https://shebanq.ancient-data.org/hebrew/text?book=Genesis&chapter=4&verse=24&version=c&mr=m&qw=q&tp=txt_p&tr=hb&wget=v&qget=v&nget=vt\" title=\"show this passage in SHEBANQ\" sec=\"Genesis 4:24\">Genesis 4:24</a>\n",
       "<div class=\"atoms  \" >\n",
       "<a href=\"#\" class=\"nd\">652779</a>\n",
       "\n",
       "\n",
       "\n",
       "<div class=\"patom  \" >\n",
       "\n",
       "    <div class=\"phrase \" >\n",
       "        <a href=\"https://shebanq.ancient-data.org/hebrew/text?book=Genesis&chapter=4&verse=24&version=c&mr=m&qw=q&tp=txt_p&tr=hb&wget=v&qget=v&nget=vt\" title=\"Genesis 4:24\" sec=\"Genesis 4:24\">phrase</a> <a href=\"#\" class=\"nd\">652779</a>  <span class=\"function\">Modi</span> <span class=\"typ\">AdvP</span>\n",
       "    </div>\n",
       "    <div class=\"atoms\">\n",
       "\n",
       "<div class=\"word  hl\" >\n",
       "<a href=\"#\" class=\"nd\">2068</a>\n",
       "<div class=\"h\"><a target=\"_blank\" href=\"https://shebanq.ancient-data.org/hebrew/word?version=c&id=1CBOn\" title=\"show this lexeme in SHEBANQ\">שִׁבְעָתַ֖יִם </a></div>\n",
       "<div class=\"features\"> <span class=\"pdp\"><a href=\"https://shebanq.ancient-data.org/hebrew/text?book=Genesis&chapter=4&verse=24&version=c&mr=m&qw=q&tp=txt_p&tr=hb&wget=v&qget=v&nget=vt\" title=\"Genesis 4:24\" sec=\"Genesis 4:24\">advb</a></span> <span class=\"gloss\">seven</span></div>\n",
       "\n",
       "\n",
       "</div>\n",
       "\n",
       "\n",
       "    </div>\n",
       "\n",
       "\n",
       "</div>\n",
       "\n",
       "\n",
       "</div>\n"
      ],
      "text/plain": [
       "<IPython.core.display.HTML object>"
      ]
     },
     "metadata": {},
     "output_type": "display_data"
    }
   ],
   "source": [
    "test = [(L.u(head, 'phrase')[0],)+tuple(phrase2heads[L.u(head, 'phrase')[0]]) for head in select_cards_heads - all_cards_heads]\n",
    "\n",
    "A.show(test, condenseType='phrase', withNodes=True, end=5)"
   ]
  },
  {
   "cell_type": "markdown",
   "metadata": {},
   "source": [
    "## Random Evaluations\n",
    "\n",
    "We have examined methodically the different aspects of the selected heads, including their statistical distribution in terms of parts of speech, as well as looking for mixed or missed heads within quantifiers. Now we turn to a less methodical, but nonetheless important, evaluation measure: that of random sampling and manual inspection. The code below aims to produce the most varied sets of manual sampling, accross a wide array of phrase types. Since some phrase types are statistically dominant, the code selects a random phrase type that is then used to select a random node of that type. The algorithm runs until producing 50 random samples, with no duplicates allowed. The sample set can be re-shuffled with new random results by running the first cell before displaying the results. There is also an option to pick results with more than a given number of heads, to show more complex examples."
   ]
  },
  {
   "cell_type": "markdown",
   "metadata": {},
   "source": [
    "### To-Fix:\n",
    "\n",
    "* 819364, missing אגפיך"
   ]
  },
  {
   "cell_type": "code",
   "execution_count": 40,
   "metadata": {},
   "outputs": [],
   "source": [
    "# RUNNING THIS REMOVES PREVIOUSLY DISPLAYED RESULTS\n",
    "\n",
    "min_words = 2\n",
    "min_heads = 1\n",
    "\n",
    "type2headresults = collections.defaultdict(list) # map types to result nodes\n",
    "maxlength = collections.defaultdict(lambda: collections.defaultdict(int))\n",
    "for phrase, heads in phrase2heads.items():\n",
    "    typ = F.typ.v(phrase)\n",
    "    type2headresults[typ].append((phrase,)+tuple(heads))\n",
    "    phrase_len, head_len = len(L.d(phrase,'word')), len(heads)\n",
    "    if phrase_len > maxlength[typ]['phrase']:\n",
    "        maxlength[typ]['phrase'] = phrase_len\n",
    "    if head_len > maxlength[typ]['head']:\n",
    "        maxlength[typ]['head'] = head_len\n",
    "\n",
    "samples = set() # to fill with 50\n",
    "while len(samples) < 50:\n",
    "        typ = random.choice(list(type2headresults.keys()))\n",
    "        while maxlength[typ]['phrase'] < min_words or maxlength[typ]['head'] < min_heads: # don't pick type without size threshold\n",
    "            typ = random.choice(list(type2headresults.keys()))\n",
    "            \n",
    "        choice = random.choice(type2headresults[typ])\n",
    "        while len(L.d(choice[0], 'word')) < min_words or len(choice[1:]) < min_heads:\n",
    "            choice = random.choice(type2headresults[typ])\n",
    "        samples.add(choice)\n",
    "        \n",
    "samples = list(samples)"
   ]
  },
  {
   "cell_type": "code",
   "execution_count": 41,
   "metadata": {},
   "outputs": [],
   "source": [
    "samples.insert(0, (819364,)+tuple(phrase2heads[819364]))"
   ]
  },
  {
   "cell_type": "markdown",
   "metadata": {},
   "source": [
    "<br>"
   ]
  },
  {
   "cell_type": "code",
   "execution_count": 42,
   "metadata": {},
   "outputs": [],
   "source": [
    "# for testing:\n",
    "# for sp in L.d(831697, 'subphrase'):\n",
    "#     print(sp, F.rela.v(sp), E.mother.f(sp), T.text(sp))"
   ]
  },
  {
   "cell_type": "code",
   "execution_count": 44,
   "metadata": {},
   "outputs": [
    {
     "data": {
      "text/plain": [
       "{1010158}"
      ]
     },
     "execution_count": 44,
     "metadata": {},
     "output_type": "execute_result"
    }
   ],
   "source": [
    "phrase2heads[751263]"
   ]
  },
  {
   "cell_type": "code",
   "execution_count": 46,
   "metadata": {},
   "outputs": [
    {
     "data": {
      "text/html": [
       "<a href=\"https://shebanq.ancient-data.org/hebrew/text?book=Samuel_II&chapter=19&verse=23&version=c&mr=m&qw=q&tp=txt_p&tr=hb&wget=v&qget=v&nget=vt\" title=\"show this passage in SHEBANQ\" sec=\"2_Samuel 19:23\">2_Samuel 19:23</a>\n",
       "<div class=\"patom  \" >\n",
       "\n",
       "    <div class=\"phrase \" >\n",
       "        <a href=\"https://shebanq.ancient-data.org/hebrew/text?book=Samuel_II&chapter=19&verse=23&version=c&mr=m&qw=q&tp=txt_p&tr=hb&wget=v&qget=v&nget=vt\" title=\"2_Samuel 19:23\" sec=\"2_Samuel 19:23\">phrase</a> <a href=\"#\" class=\"nd\">751263</a>  <span class=\"function\">Nega</span> <span class=\"typ\">NegP</span>\n",
       "    </div>\n",
       "    <div class=\"atoms\">\n",
       "\n",
       "<div class=\"word  \" >\n",
       "<a href=\"#\" class=\"nd\">172544</a>\n",
       "<div class=\"h\"><a target=\"_blank\" href=\"https://shebanq.ancient-data.org/hebrew/word?version=c&id=1Hi\" title=\"show this lexeme in SHEBANQ\">הֲ</a></div>\n",
       "<div class=\"features\"> <span class=\"pdp\"><a href=\"https://shebanq.ancient-data.org/hebrew/text?book=Samuel_II&chapter=19&verse=23&version=c&mr=m&qw=q&tp=txt_p&tr=hb&wget=v&qget=v&nget=vt\" title=\"2_Samuel 19:23\" sec=\"2_Samuel 19:23\">inrg</a></span> <span class=\"gloss\">&lt;interrogative></span></div>\n",
       "\n",
       "\n",
       "</div>\n",
       "\n",
       "<div class=\"word  \" >\n",
       "<a href=\"#\" class=\"nd\">172545</a>\n",
       "<div class=\"h\"><a target=\"_blank\" href=\"https://shebanq.ancient-data.org/hebrew/word?version=c&id=1LA\" title=\"show this lexeme in SHEBANQ\">לֹ֣וא </a></div>\n",
       "<div class=\"features\"> <span class=\"pdp\"><a href=\"https://shebanq.ancient-data.org/hebrew/text?book=Samuel_II&chapter=19&verse=23&version=c&mr=m&qw=q&tp=txt_p&tr=hb&wget=v&qget=v&nget=vt\" title=\"2_Samuel 19:23\" sec=\"2_Samuel 19:23\">nega</a></span> <span class=\"gloss\">not</span></div>\n",
       "\n",
       "\n",
       "</div>\n",
       "\n",
       "\n",
       "    </div>\n",
       "\n",
       "\n",
       "</div>\n"
      ],
      "text/plain": [
       "<IPython.core.display.HTML object>"
      ]
     },
     "metadata": {},
     "output_type": "display_data"
    }
   ],
   "source": [
    "A.pretty(1010158)"
   ]
  },
  {
   "cell_type": "code",
   "execution_count": 42,
   "metadata": {},
   "outputs": [
    {
     "data": {
      "text/markdown": [
       "\n",
       "\n",
       "**phrase** *1*\n",
       "\n"
      ],
      "text/plain": [
       "<IPython.core.display.Markdown object>"
      ]
     },
     "metadata": {},
     "output_type": "display_data"
    },
    {
     "data": {
      "text/html": [
       "<a href=\"https://shebanq.ancient-data.org/hebrew/text?book=Ezechiel&chapter=39&verse=4&version=c&mr=m&qw=q&tp=txt_p&tr=hb&wget=v&qget=v&nget=vt\" title=\"show this passage in SHEBANQ\" sec=\"Ezekiel 39:4\">Ezekiel 39:4</a>\n",
       "<div class=\"atoms  \" >\n",
       "<a href=\"#\" class=\"nd\">819364</a>\n",
       "\n",
       "\n",
       "\n",
       "<div class=\"patom  \" >\n",
       "\n",
       "    <div class=\"phrase \" >\n",
       "        <a href=\"https://shebanq.ancient-data.org/hebrew/text?book=Ezechiel&chapter=39&verse=4&version=c&mr=m&qw=q&tp=txt_p&tr=hb&wget=v&qget=v&nget=vt\" title=\"Ezekiel 39:4\" sec=\"Ezekiel 39:4\">phrase</a> <a href=\"#\" class=\"nd\">819364</a>  <span class=\"function\">Subj</span> <span class=\"typ\">PPrP</span>\n",
       "    </div>\n",
       "    <div class=\"atoms\">\n",
       "\n",
       "<div class=\"word  hl\" >\n",
       "<a href=\"#\" class=\"nd\">284400</a>\n",
       "<div class=\"h\"><a target=\"_blank\" href=\"https://shebanq.ancient-data.org/hebrew/word?version=c&id=1ATH\" title=\"show this lexeme in SHEBANQ\">אַתָּה֙ </a></div>\n",
       "<div class=\"features\"> <span class=\"pdp\"><a href=\"https://shebanq.ancient-data.org/hebrew/text?book=Ezechiel&chapter=39&verse=4&version=c&mr=m&qw=q&tp=txt_p&tr=hb&wget=v&qget=v&nget=vt\" title=\"Ezekiel 39:4\" sec=\"Ezekiel 39:4\">prps</a></span> <span class=\"gloss\">you</span></div>\n",
       "\n",
       "\n",
       "</div>\n",
       "\n",
       "<div class=\"word  \" >\n",
       "<a href=\"#\" class=\"nd\">284401</a>\n",
       "<div class=\"h\"><a target=\"_blank\" href=\"https://shebanq.ancient-data.org/hebrew/word?version=c&id=1W\" title=\"show this lexeme in SHEBANQ\">וְ</a></div>\n",
       "<div class=\"features\"> <span class=\"pdp\"><a href=\"https://shebanq.ancient-data.org/hebrew/text?book=Ezechiel&chapter=39&verse=4&version=c&mr=m&qw=q&tp=txt_p&tr=hb&wget=v&qget=v&nget=vt\" title=\"Ezekiel 39:4\" sec=\"Ezekiel 39:4\">conj</a></span> <span class=\"gloss\">and</span></div>\n",
       "\n",
       "\n",
       "</div>\n",
       "\n",
       "<div class=\"word  \" >\n",
       "<a href=\"#\" class=\"nd\">284402</a>\n",
       "<div class=\"h\"><a target=\"_blank\" href=\"https://shebanq.ancient-data.org/hebrew/word?version=c&id=1KLn\" title=\"show this lexeme in SHEBANQ\">כָל־</a></div>\n",
       "<div class=\"features\"> <span class=\"pdp\"><a href=\"https://shebanq.ancient-data.org/hebrew/text?book=Ezechiel&chapter=39&verse=4&version=c&mr=m&qw=q&tp=txt_p&tr=hb&wget=v&qget=v&nget=vt\" title=\"Ezekiel 39:4\" sec=\"Ezekiel 39:4\">subs</a></span> <span class=\"gloss\">whole</span></div>\n",
       "\n",
       "\n",
       "</div>\n",
       "\n",
       "<div class=\"word  hl\" >\n",
       "<a href=\"#\" class=\"nd\">284403</a>\n",
       "<div class=\"h\"><a target=\"_blank\" href=\"https://shebanq.ancient-data.org/hebrew/word?version=c&id=1AGPn\" title=\"show this lexeme in SHEBANQ\">אֲגַפֶּ֔יךָ </a></div>\n",
       "<div class=\"features\"> <span class=\"pdp\"><a href=\"https://shebanq.ancient-data.org/hebrew/text?book=Ezechiel&chapter=39&verse=4&version=c&mr=m&qw=q&tp=txt_p&tr=hb&wget=v&qget=v&nget=vt\" title=\"Ezekiel 39:4\" sec=\"Ezekiel 39:4\">subs</a></span> <span class=\"gloss\">troop</span></div>\n",
       "\n",
       "\n",
       "</div>\n",
       "\n",
       "<div class=\"word  \" >\n",
       "<a href=\"#\" class=\"nd\">284404</a>\n",
       "<div class=\"h\"><a target=\"_blank\" href=\"https://shebanq.ancient-data.org/hebrew/word?version=c&id=1W\" title=\"show this lexeme in SHEBANQ\">וְ</a></div>\n",
       "<div class=\"features\"> <span class=\"pdp\"><a href=\"https://shebanq.ancient-data.org/hebrew/text?book=Ezechiel&chapter=39&verse=4&version=c&mr=m&qw=q&tp=txt_p&tr=hb&wget=v&qget=v&nget=vt\" title=\"Ezekiel 39:4\" sec=\"Ezekiel 39:4\">conj</a></span> <span class=\"gloss\">and</span></div>\n",
       "\n",
       "\n",
       "</div>\n",
       "\n",
       "<div class=\"word  hl\" >\n",
       "<a href=\"#\" class=\"nd\">284405</a>\n",
       "<div class=\"h\"><a target=\"_blank\" href=\"https://shebanq.ancient-data.org/hebrew/word?version=c&id=1OMn\" title=\"show this lexeme in SHEBANQ\">עַמִּ֖ים </a></div>\n",
       "<div class=\"features\"> <span class=\"pdp\"><a href=\"https://shebanq.ancient-data.org/hebrew/text?book=Ezechiel&chapter=39&verse=4&version=c&mr=m&qw=q&tp=txt_p&tr=hb&wget=v&qget=v&nget=vt\" title=\"Ezekiel 39:4\" sec=\"Ezekiel 39:4\">subs</a></span> <span class=\"gloss\">people</span></div>\n",
       "\n",
       "\n",
       "</div>\n",
       "\n",
       "\n",
       "    </div>\n",
       "\n",
       "\n",
       "</div>\n",
       "\n",
       "\n",
       "</div>\n"
      ],
      "text/plain": [
       "<IPython.core.display.HTML object>"
      ]
     },
     "metadata": {},
     "output_type": "display_data"
    },
    {
     "data": {
      "text/markdown": [
       "\n",
       "\n",
       "**phrase** *2*\n",
       "\n"
      ],
      "text/plain": [
       "<IPython.core.display.Markdown object>"
      ]
     },
     "metadata": {},
     "output_type": "display_data"
    },
    {
     "data": {
      "text/html": [
       "<a href=\"https://shebanq.ancient-data.org/hebrew/text?book=Exodus&chapter=12&verse=50&version=c&mr=m&qw=q&tp=txt_p&tr=hb&wget=v&qget=v&nget=vt\" title=\"show this passage in SHEBANQ\" sec=\"Exodus 12:50\">Exodus 12:50</a>\n",
       "<div class=\"atoms  \" >\n",
       "<a href=\"#\" class=\"nd\">673702</a>\n",
       "\n",
       "\n",
       "\n",
       "<div class=\"patom  \" >\n",
       "\n",
       "    <div class=\"phrase \" >\n",
       "        <a href=\"https://shebanq.ancient-data.org/hebrew/text?book=Exodus&chapter=12&verse=50&version=c&mr=m&qw=q&tp=txt_p&tr=hb&wget=v&qget=v&nget=vt\" title=\"Exodus 12:50\" sec=\"Exodus 12:50\">phrase</a> <a href=\"#\" class=\"nd\">673702</a>  <span class=\"function\">Subj</span> <span class=\"typ\">NP</span>\n",
       "    </div>\n",
       "    <div class=\"atoms\">\n",
       "\n",
       "<div class=\"word  \" >\n",
       "<a href=\"#\" class=\"nd\">35730</a>\n",
       "<div class=\"h\"><a target=\"_blank\" href=\"https://shebanq.ancient-data.org/hebrew/word?version=c&id=1KLn\" title=\"show this lexeme in SHEBANQ\">כָּל־</a></div>\n",
       "<div class=\"features\"> <span class=\"pdp\"><a href=\"https://shebanq.ancient-data.org/hebrew/text?book=Exodus&chapter=12&verse=50&version=c&mr=m&qw=q&tp=txt_p&tr=hb&wget=v&qget=v&nget=vt\" title=\"Exodus 12:50\" sec=\"Exodus 12:50\">subs</a></span> <span class=\"gloss\">whole</span></div>\n",
       "\n",
       "\n",
       "</div>\n",
       "\n",
       "<div class=\"word  hl\" >\n",
       "<a href=\"#\" class=\"nd\">35731</a>\n",
       "<div class=\"h\"><a target=\"_blank\" href=\"https://shebanq.ancient-data.org/hebrew/word?version=c&id=1BNn\" title=\"show this lexeme in SHEBANQ\">בְּנֵ֣י </a></div>\n",
       "<div class=\"features\"> <span class=\"pdp\"><a href=\"https://shebanq.ancient-data.org/hebrew/text?book=Exodus&chapter=12&verse=50&version=c&mr=m&qw=q&tp=txt_p&tr=hb&wget=v&qget=v&nget=vt\" title=\"Exodus 12:50\" sec=\"Exodus 12:50\">subs</a></span> <span class=\"gloss\">son</span></div>\n",
       "\n",
       "\n",
       "</div>\n",
       "\n",
       "<div class=\"word  \" >\n",
       "<a href=\"#\" class=\"nd\">35732</a>\n",
       "<div class=\"h\"><a target=\"_blank\" href=\"https://shebanq.ancient-data.org/hebrew/word?version=c&id=1JFRALn\" title=\"show this lexeme in SHEBANQ\">יִשְׂרָאֵ֑ל </a></div>\n",
       "<div class=\"features\"> <span class=\"pdp\"><a href=\"https://shebanq.ancient-data.org/hebrew/text?book=Exodus&chapter=12&verse=50&version=c&mr=m&qw=q&tp=txt_p&tr=hb&wget=v&qget=v&nget=vt\" title=\"Exodus 12:50\" sec=\"Exodus 12:50\">nmpr</a></span> <span class=\"gloss\">Israel</span></div>\n",
       "\n",
       "\n",
       "</div>\n",
       "\n",
       "\n",
       "    </div>\n",
       "\n",
       "\n",
       "</div>\n",
       "\n",
       "\n",
       "</div>\n"
      ],
      "text/plain": [
       "<IPython.core.display.HTML object>"
      ]
     },
     "metadata": {},
     "output_type": "display_data"
    },
    {
     "data": {
      "text/markdown": [
       "\n",
       "\n",
       "**phrase** *3*\n",
       "\n"
      ],
      "text/plain": [
       "<IPython.core.display.Markdown object>"
      ]
     },
     "metadata": {},
     "output_type": "display_data"
    },
    {
     "data": {
      "text/html": [
       "<a href=\"https://shebanq.ancient-data.org/hebrew/text?book=Genesis&chapter=49&verse=12&version=c&mr=m&qw=q&tp=txt_p&tr=hb&wget=v&qget=v&nget=vt\" title=\"show this passage in SHEBANQ\" sec=\"Genesis 49:12\">Genesis 49:12</a>\n",
       "<div class=\"atoms  \" >\n",
       "<a href=\"#\" class=\"nd\">669008</a>\n",
       "\n",
       "\n",
       "\n",
       "<div class=\"patom  \" >\n",
       "\n",
       "    <div class=\"phrase \" >\n",
       "        <a href=\"https://shebanq.ancient-data.org/hebrew/text?book=Genesis&chapter=49&verse=12&version=c&mr=m&qw=q&tp=txt_p&tr=hb&wget=v&qget=v&nget=vt\" title=\"Genesis 49:12\" sec=\"Genesis 49:12\">phrase</a> <a href=\"#\" class=\"nd\">669008</a>  <span class=\"function\">PreC</span> <span class=\"typ\">AdjP</span>\n",
       "    </div>\n",
       "    <div class=\"atoms\">\n",
       "\n",
       "<div class=\"word  hl\" >\n",
       "<a href=\"#\" class=\"nd\">27941</a>\n",
       "<div class=\"h\"><a target=\"_blank\" href=\"https://shebanq.ancient-data.org/hebrew/word?version=c&id=1XKLJLJn\" title=\"show this lexeme in SHEBANQ\">חַכְלִילִ֥י </a></div>\n",
       "<div class=\"features\"> <span class=\"pdp\"><a href=\"https://shebanq.ancient-data.org/hebrew/text?book=Genesis&chapter=49&verse=12&version=c&mr=m&qw=q&tp=txt_p&tr=hb&wget=v&qget=v&nget=vt\" title=\"Genesis 49:12\" sec=\"Genesis 49:12\">adjv</a></span> <span class=\"gloss\">dull</span></div>\n",
       "\n",
       "\n",
       "</div>\n",
       "\n",
       "<div class=\"word  \" >\n",
       "<a href=\"#\" class=\"nd\">27942</a>\n",
       "<div class=\"h\"><a target=\"_blank\" href=\"https://shebanq.ancient-data.org/hebrew/word?version=c&id=1OJNn\" title=\"show this lexeme in SHEBANQ\">עֵינַ֖יִם </a></div>\n",
       "<div class=\"features\"> <span class=\"pdp\"><a href=\"https://shebanq.ancient-data.org/hebrew/text?book=Genesis&chapter=49&verse=12&version=c&mr=m&qw=q&tp=txt_p&tr=hb&wget=v&qget=v&nget=vt\" title=\"Genesis 49:12\" sec=\"Genesis 49:12\">subs</a></span> <span class=\"gloss\">eye</span></div>\n",
       "\n",
       "\n",
       "</div>\n",
       "\n",
       "\n",
       "    </div>\n",
       "\n",
       "\n",
       "</div>\n",
       "\n",
       "\n",
       "</div>\n"
      ],
      "text/plain": [
       "<IPython.core.display.HTML object>"
      ]
     },
     "metadata": {},
     "output_type": "display_data"
    },
    {
     "data": {
      "text/markdown": [
       "\n",
       "\n",
       "**phrase** *4*\n",
       "\n"
      ],
      "text/plain": [
       "<IPython.core.display.Markdown object>"
      ]
     },
     "metadata": {},
     "output_type": "display_data"
    },
    {
     "data": {
      "text/html": [
       "<a href=\"https://shebanq.ancient-data.org/hebrew/text?book=Esra&chapter=9&verse=1&version=c&mr=m&qw=q&tp=txt_p&tr=hb&wget=v&qget=v&nget=vt\" title=\"show this passage in SHEBANQ\" sec=\"Ezra 9:1\">Ezra 9:1</a>\n",
       "<div class=\"atoms  \" >\n",
       "<a href=\"#\" class=\"nd\">883134</a>\n",
       "\n",
       "\n",
       "\n",
       "<div class=\"patom  \" >\n",
       "\n",
       "    <div class=\"phrase \" >\n",
       "        <a href=\"https://shebanq.ancient-data.org/hebrew/text?book=Esra&chapter=9&verse=1&version=c&mr=m&qw=q&tp=txt_p&tr=hb&wget=v&qget=v&nget=vt\" title=\"Ezra 9:1\" sec=\"Ezra 9:1\">phrase</a> <a href=\"#\" class=\"nd\">883134</a>  <span class=\"function\">Pred</span> <span class=\"typ\">VP</span>\n",
       "    </div>\n",
       "    <div class=\"atoms\">\n",
       "\n",
       "<div class=\"word  \" >\n",
       "<a href=\"#\" class=\"nd\">382271</a>\n",
       "<div class=\"h\"><a target=\"_blank\" href=\"https://shebanq.ancient-data.org/hebrew/word?version=c&id=1L\" title=\"show this lexeme in SHEBANQ\">לֵ</a></div>\n",
       "<div class=\"features\"> <span class=\"pdp\"><a href=\"https://shebanq.ancient-data.org/hebrew/text?book=Esra&chapter=9&verse=1&version=c&mr=m&qw=q&tp=txt_p&tr=hb&wget=v&qget=v&nget=vt\" title=\"Ezra 9:1\" sec=\"Ezra 9:1\">prep</a></span> <span class=\"gloss\">to</span></div>\n",
       "\n",
       "\n",
       "</div>\n",
       "\n",
       "<div class=\"word  hl\" >\n",
       "<a href=\"#\" class=\"nd\">382272</a>\n",
       "<div class=\"h\"><a target=\"_blank\" href=\"https://shebanq.ancient-data.org/hebrew/word?version=c&id=1AMRv\" title=\"show this lexeme in SHEBANQ\">אמֹ֔ר </a></div>\n",
       "<div class=\"features\"> <span class=\"pdp\"><a href=\"https://shebanq.ancient-data.org/hebrew/text?book=Esra&chapter=9&verse=1&version=c&mr=m&qw=q&tp=txt_p&tr=hb&wget=v&qget=v&nget=vt\" title=\"Ezra 9:1\" sec=\"Ezra 9:1\">verb</a></span> <span class=\"gloss\">say</span> <span class=\"vs\">qal</span> <span class=\"vt\">infc</span></div>\n",
       "\n",
       "\n",
       "</div>\n",
       "\n",
       "\n",
       "    </div>\n",
       "\n",
       "\n",
       "</div>\n",
       "\n",
       "\n",
       "</div>\n"
      ],
      "text/plain": [
       "<IPython.core.display.HTML object>"
      ]
     },
     "metadata": {},
     "output_type": "display_data"
    },
    {
     "data": {
      "text/markdown": [
       "\n",
       "\n",
       "**phrase** *5*\n",
       "\n"
      ],
      "text/plain": [
       "<IPython.core.display.Markdown object>"
      ]
     },
     "metadata": {},
     "output_type": "display_data"
    },
    {
     "data": {
      "text/html": [
       "<a href=\"https://shebanq.ancient-data.org/hebrew/text?book=Exodus&chapter=33&verse=16&version=c&mr=m&qw=q&tp=txt_p&tr=hb&wget=v&qget=v&nget=vt\" title=\"show this passage in SHEBANQ\" sec=\"Exodus 33:16\">Exodus 33:16</a>\n",
       "<div class=\"atoms  \" >\n",
       "<a href=\"#\" class=\"nd\">680531</a>\n",
       "\n",
       "\n",
       "\n",
       "<div class=\"patom  \" >\n",
       "\n",
       "    <div class=\"phrase \" >\n",
       "        <a href=\"https://shebanq.ancient-data.org/hebrew/text?book=Exodus&chapter=33&verse=16&version=c&mr=m&qw=q&tp=txt_p&tr=hb&wget=v&qget=v&nget=vt\" title=\"Exodus 33:16\" sec=\"Exodus 33:16\">phrase</a> <a href=\"#\" class=\"nd\">680531</a>  <span class=\"function\">Subj</span> <span class=\"typ\">PPrP</span>\n",
       "    </div>\n",
       "    <div class=\"atoms\">\n",
       "\n",
       "<div class=\"word  hl\" >\n",
       "<a href=\"#\" class=\"nd\">47633</a>\n",
       "<div class=\"h\"><a target=\"_blank\" href=\"https://shebanq.ancient-data.org/hebrew/word?version=c&id=1ANJ\" title=\"show this lexeme in SHEBANQ\">אֲנִ֣י </a></div>\n",
       "<div class=\"features\"> <span class=\"pdp\"><a href=\"https://shebanq.ancient-data.org/hebrew/text?book=Exodus&chapter=33&verse=16&version=c&mr=m&qw=q&tp=txt_p&tr=hb&wget=v&qget=v&nget=vt\" title=\"Exodus 33:16\" sec=\"Exodus 33:16\">prps</a></span> <span class=\"gloss\">i</span></div>\n",
       "\n",
       "\n",
       "</div>\n",
       "\n",
       "<div class=\"word  \" >\n",
       "<a href=\"#\" class=\"nd\">47634</a>\n",
       "<div class=\"h\"><a target=\"_blank\" href=\"https://shebanq.ancient-data.org/hebrew/word?version=c&id=1W\" title=\"show this lexeme in SHEBANQ\">וְ</a></div>\n",
       "<div class=\"features\"> <span class=\"pdp\"><a href=\"https://shebanq.ancient-data.org/hebrew/text?book=Exodus&chapter=33&verse=16&version=c&mr=m&qw=q&tp=txt_p&tr=hb&wget=v&qget=v&nget=vt\" title=\"Exodus 33:16\" sec=\"Exodus 33:16\">conj</a></span> <span class=\"gloss\">and</span></div>\n",
       "\n",
       "\n",
       "</div>\n",
       "\n",
       "<div class=\"word  hl\" >\n",
       "<a href=\"#\" class=\"nd\">47635</a>\n",
       "<div class=\"h\"><a target=\"_blank\" href=\"https://shebanq.ancient-data.org/hebrew/word?version=c&id=1OMn\" title=\"show this lexeme in SHEBANQ\">עַמֶּ֔ךָ </a></div>\n",
       "<div class=\"features\"> <span class=\"pdp\"><a href=\"https://shebanq.ancient-data.org/hebrew/text?book=Exodus&chapter=33&verse=16&version=c&mr=m&qw=q&tp=txt_p&tr=hb&wget=v&qget=v&nget=vt\" title=\"Exodus 33:16\" sec=\"Exodus 33:16\">subs</a></span> <span class=\"gloss\">people</span></div>\n",
       "\n",
       "\n",
       "</div>\n",
       "\n",
       "\n",
       "    </div>\n",
       "\n",
       "\n",
       "</div>\n",
       "\n",
       "\n",
       "</div>\n"
      ],
      "text/plain": [
       "<IPython.core.display.HTML object>"
      ]
     },
     "metadata": {},
     "output_type": "display_data"
    },
    {
     "data": {
      "text/markdown": [
       "\n",
       "\n",
       "**phrase** *6*\n",
       "\n"
      ],
      "text/plain": [
       "<IPython.core.display.Markdown object>"
      ]
     },
     "metadata": {},
     "output_type": "display_data"
    },
    {
     "data": {
      "text/html": [
       "<a href=\"https://shebanq.ancient-data.org/hebrew/text?book=Proverbia&chapter=16&verse=2&version=c&mr=m&qw=q&tp=txt_p&tr=hb&wget=v&qget=v&nget=vt\" title=\"show this passage in SHEBANQ\" sec=\"Proverbs 16:2\">Proverbs 16:2</a>\n",
       "<div class=\"atoms  \" >\n",
       "<a href=\"#\" class=\"nd\">864226</a>\n",
       "\n",
       "\n",
       "\n",
       "<div class=\"patom  l \" >\n",
       "\n",
       "    <div class=\"phrase \" >\n",
       "        <a href=\"https://shebanq.ancient-data.org/hebrew/text?book=Proverbia&chapter=16&verse=2&version=c&mr=m&qw=q&tp=txt_p&tr=hb&wget=v&qget=v&nget=vt\" title=\"Proverbs 16:2\" sec=\"Proverbs 16:2\">phrase</a> <a href=\"#\" class=\"nd\">864226</a>  <span class=\"function\">PreC</span> <span class=\"typ\">AdjP</span>\n",
       "    </div>\n",
       "    <div class=\"atoms\">\n",
       "\n",
       "<div class=\"word  hl\" >\n",
       "<a href=\"#\" class=\"nd\">351026</a>\n",
       "<div class=\"h\"><a target=\"_blank\" href=\"https://shebanq.ancient-data.org/hebrew/word?version=c&id=1ZKn\" title=\"show this lexeme in SHEBANQ\">זַ֣ךְ </a></div>\n",
       "<div class=\"features\"> <span class=\"pdp\"><a href=\"https://shebanq.ancient-data.org/hebrew/text?book=Proverbia&chapter=16&verse=2&version=c&mr=m&qw=q&tp=txt_p&tr=hb&wget=v&qget=v&nget=vt\" title=\"Proverbs 16:2\" sec=\"Proverbs 16:2\">adjv</a></span> <span class=\"gloss\">pure</span></div>\n",
       "\n",
       "\n",
       "</div>\n",
       "\n",
       "\n",
       "    </div>\n",
       "\n",
       "\n",
       "</div>\n",
       "\n",
       "<div class=\"patom  r \" >\n",
       "\n",
       "    <div class=\"phrase \" >\n",
       "        <a href=\"https://shebanq.ancient-data.org/hebrew/text?book=Proverbia&chapter=16&verse=2&version=c&mr=m&qw=q&tp=txt_p&tr=hb&wget=v&qget=v&nget=vt\" title=\"Proverbs 16:2\" sec=\"Proverbs 16:2\">phrase</a> <a href=\"#\" class=\"nd\">864226</a>  <span class=\"function\">PreC</span> <span class=\"typ\">AdjP|PP</span>\n",
       "    </div>\n",
       "    <div class=\"atoms\">\n",
       "\n",
       "<div class=\"word  \" >\n",
       "<a href=\"#\" class=\"nd\">351027</a>\n",
       "<div class=\"h\"><a target=\"_blank\" href=\"https://shebanq.ancient-data.org/hebrew/word?version=c&id=1B\" title=\"show this lexeme in SHEBANQ\">בְּ</a></div>\n",
       "<div class=\"features\"> <span class=\"pdp\"><a href=\"https://shebanq.ancient-data.org/hebrew/text?book=Proverbia&chapter=16&verse=2&version=c&mr=m&qw=q&tp=txt_p&tr=hb&wget=v&qget=v&nget=vt\" title=\"Proverbs 16:2\" sec=\"Proverbs 16:2\">prep</a></span> <span class=\"gloss\">in</span></div>\n",
       "\n",
       "\n",
       "</div>\n",
       "\n",
       "<div class=\"word  \" >\n",
       "<a href=\"#\" class=\"nd\">351028</a>\n",
       "<div class=\"h\"><a target=\"_blank\" href=\"https://shebanq.ancient-data.org/hebrew/word?version=c&id=1OJNn\" title=\"show this lexeme in SHEBANQ\">עֵינָ֑יו </a></div>\n",
       "<div class=\"features\"> <span class=\"pdp\"><a href=\"https://shebanq.ancient-data.org/hebrew/text?book=Proverbia&chapter=16&verse=2&version=c&mr=m&qw=q&tp=txt_p&tr=hb&wget=v&qget=v&nget=vt\" title=\"Proverbs 16:2\" sec=\"Proverbs 16:2\">subs</a></span> <span class=\"gloss\">eye</span></div>\n",
       "\n",
       "\n",
       "</div>\n",
       "\n",
       "\n",
       "    </div>\n",
       "\n",
       "\n",
       "</div>\n",
       "\n",
       "\n",
       "</div>\n"
      ],
      "text/plain": [
       "<IPython.core.display.HTML object>"
      ]
     },
     "metadata": {},
     "output_type": "display_data"
    },
    {
     "data": {
      "text/markdown": [
       "\n",
       "\n",
       "**phrase** *7*\n",
       "\n"
      ],
      "text/plain": [
       "<IPython.core.display.Markdown object>"
      ]
     },
     "metadata": {},
     "output_type": "display_data"
    },
    {
     "data": {
      "text/html": [
       "<a href=\"https://shebanq.ancient-data.org/hebrew/text?book=Genesis&chapter=3&verse=13&version=c&mr=m&qw=q&tp=txt_p&tr=hb&wget=v&qget=v&nget=vt\" title=\"show this passage in SHEBANQ\" sec=\"Genesis 3:13\">Genesis 3:13</a>\n",
       "<div class=\"atoms  \" >\n",
       "<a href=\"#\" class=\"nd\">652356</a>\n",
       "\n",
       "\n",
       "\n",
       "<div class=\"patom  \" >\n",
       "\n",
       "    <div class=\"phrase \" >\n",
       "        <a href=\"https://shebanq.ancient-data.org/hebrew/text?book=Genesis&chapter=3&verse=13&version=c&mr=m&qw=q&tp=txt_p&tr=hb&wget=v&qget=v&nget=vt\" title=\"Genesis 3:13\" sec=\"Genesis 3:13\">phrase</a> <a href=\"#\" class=\"nd\">652356</a>  <span class=\"function\">Objc</span> <span class=\"typ\">IPrP</span>\n",
       "    </div>\n",
       "    <div class=\"atoms\">\n",
       "\n",
       "<div class=\"word  hl\" >\n",
       "<a href=\"#\" class=\"nd\">1413</a>\n",
       "<div class=\"h\"><a target=\"_blank\" href=\"https://shebanq.ancient-data.org/hebrew/word?version=c&id=1MH\" title=\"show this lexeme in SHEBANQ\">מַה־</a></div>\n",
       "<div class=\"features\"> <span class=\"pdp\"><a href=\"https://shebanq.ancient-data.org/hebrew/text?book=Genesis&chapter=3&verse=13&version=c&mr=m&qw=q&tp=txt_p&tr=hb&wget=v&qget=v&nget=vt\" title=\"Genesis 3:13\" sec=\"Genesis 3:13\">prin</a></span> <span class=\"gloss\">what</span></div>\n",
       "\n",
       "\n",
       "</div>\n",
       "\n",
       "<div class=\"word  \" >\n",
       "<a href=\"#\" class=\"nd\">1414</a>\n",
       "<div class=\"h\"><a target=\"_blank\" href=\"https://shebanq.ancient-data.org/hebrew/word?version=c&id=1ZAT\" title=\"show this lexeme in SHEBANQ\">זֹּ֣את </a></div>\n",
       "<div class=\"features\"> <span class=\"pdp\"><a href=\"https://shebanq.ancient-data.org/hebrew/text?book=Genesis&chapter=3&verse=13&version=c&mr=m&qw=q&tp=txt_p&tr=hb&wget=v&qget=v&nget=vt\" title=\"Genesis 3:13\" sec=\"Genesis 3:13\">prde</a></span> <span class=\"gloss\">this</span></div>\n",
       "\n",
       "\n",
       "</div>\n",
       "\n",
       "\n",
       "    </div>\n",
       "\n",
       "\n",
       "</div>\n",
       "\n",
       "\n",
       "</div>\n"
      ],
      "text/plain": [
       "<IPython.core.display.HTML object>"
      ]
     },
     "metadata": {},
     "output_type": "display_data"
    },
    {
     "data": {
      "text/markdown": [
       "\n",
       "\n",
       "**phrase** *8*\n",
       "\n"
      ],
      "text/plain": [
       "<IPython.core.display.Markdown object>"
      ]
     },
     "metadata": {},
     "output_type": "display_data"
    },
    {
     "data": {
      "text/html": [
       "<a href=\"https://shebanq.ancient-data.org/hebrew/text?book=Reges_II&chapter=5&verse=7&version=c&mr=m&qw=q&tp=txt_p&tr=hb&wget=v&qget=v&nget=vt\" title=\"show this passage in SHEBANQ\" sec=\"2_Kings 5:7\">2_Kings 5:7</a>\n",
       "<div class=\"atoms  \" >\n",
       "<a href=\"#\" class=\"nd\">765997</a>\n",
       "\n",
       "\n",
       "\n",
       "<div class=\"patom  \" >\n",
       "\n",
       "    <div class=\"phrase \" >\n",
       "        <a href=\"https://shebanq.ancient-data.org/hebrew/text?book=Reges_II&chapter=5&verse=7&version=c&mr=m&qw=q&tp=txt_p&tr=hb&wget=v&qget=v&nget=vt\" title=\"2_Kings 5:7\" sec=\"2_Kings 5:7\">phrase</a> <a href=\"#\" class=\"nd\">765997</a>  <span class=\"function\">Pred</span> <span class=\"typ\">VP</span>\n",
       "    </div>\n",
       "    <div class=\"atoms\">\n",
       "\n",
       "<div class=\"word  \" >\n",
       "<a href=\"#\" class=\"nd\">197614</a>\n",
       "<div class=\"h\"><a target=\"_blank\" href=\"https://shebanq.ancient-data.org/hebrew/word?version=c&id=1L\" title=\"show this lexeme in SHEBANQ\">לְ</a></div>\n",
       "<div class=\"features\"> <span class=\"pdp\"><a href=\"https://shebanq.ancient-data.org/hebrew/text?book=Reges_II&chapter=5&verse=7&version=c&mr=m&qw=q&tp=txt_p&tr=hb&wget=v&qget=v&nget=vt\" title=\"2_Kings 5:7\" sec=\"2_Kings 5:7\">prep</a></span> <span class=\"gloss\">to</span></div>\n",
       "\n",
       "\n",
       "</div>\n",
       "\n",
       "<div class=\"word  hl\" >\n",
       "<a href=\"#\" class=\"nd\">197615</a>\n",
       "<div class=\"h\"><a target=\"_blank\" href=\"https://shebanq.ancient-data.org/hebrew/word?version=c&id=1XJHv\" title=\"show this lexeme in SHEBANQ\">הַחֲיֹ֔ות </a></div>\n",
       "<div class=\"features\"> <span class=\"pdp\"><a href=\"https://shebanq.ancient-data.org/hebrew/text?book=Reges_II&chapter=5&verse=7&version=c&mr=m&qw=q&tp=txt_p&tr=hb&wget=v&qget=v&nget=vt\" title=\"2_Kings 5:7\" sec=\"2_Kings 5:7\">verb</a></span> <span class=\"gloss\">be alive</span> <span class=\"vs\">hif</span> <span class=\"vt\">infc</span></div>\n",
       "\n",
       "\n",
       "</div>\n",
       "\n",
       "\n",
       "    </div>\n",
       "\n",
       "\n",
       "</div>\n",
       "\n",
       "\n",
       "</div>\n"
      ],
      "text/plain": [
       "<IPython.core.display.HTML object>"
      ]
     },
     "metadata": {},
     "output_type": "display_data"
    },
    {
     "data": {
      "text/markdown": [
       "\n",
       "\n",
       "**phrase** *9*\n",
       "\n"
      ],
      "text/plain": [
       "<IPython.core.display.Markdown object>"
      ]
     },
     "metadata": {},
     "output_type": "display_data"
    },
    {
     "data": {
      "text/html": [
       "<a href=\"https://shebanq.ancient-data.org/hebrew/text?book=Chronica_II&chapter=18&verse=17&version=c&mr=m&qw=q&tp=txt_p&tr=hb&wget=v&qget=v&nget=vt\" title=\"show this passage in SHEBANQ\" sec=\"2_Chronicles 18:17\">2_Chronicles 18:17</a>\n",
       "<div class=\"atoms  \" >\n",
       "<a href=\"#\" class=\"nd\">898979</a>\n",
       "\n",
       "\n",
       "\n",
       "<div class=\"patom  \" >\n",
       "\n",
       "    <div class=\"phrase \" >\n",
       "        <a href=\"https://shebanq.ancient-data.org/hebrew/text?book=Chronica_II&chapter=18&verse=17&version=c&mr=m&qw=q&tp=txt_p&tr=hb&wget=v&qget=v&nget=vt\" title=\"2_Chronicles 18:17\" sec=\"2_Chronicles 18:17\">phrase</a> <a href=\"#\" class=\"nd\">898979</a>  <span class=\"function\">Conj</span> <span class=\"typ\">CP</span>\n",
       "    </div>\n",
       "    <div class=\"atoms\">\n",
       "\n",
       "<div class=\"word  hl\" >\n",
       "<a href=\"#\" class=\"nd\">415316</a>\n",
       "<div class=\"h\"><a target=\"_blank\" href=\"https://shebanq.ancient-data.org/hebrew/word?version=c&id=1KJ\" title=\"show this lexeme in SHEBANQ\">כִּ֥י </a></div>\n",
       "<div class=\"features\"> <span class=\"pdp\"><a href=\"https://shebanq.ancient-data.org/hebrew/text?book=Chronica_II&chapter=18&verse=17&version=c&mr=m&qw=q&tp=txt_p&tr=hb&wget=v&qget=v&nget=vt\" title=\"2_Chronicles 18:17\" sec=\"2_Chronicles 18:17\">conj</a></span> <span class=\"gloss\">that</span></div>\n",
       "\n",
       "\n",
       "</div>\n",
       "\n",
       "<div class=\"word  \" >\n",
       "<a href=\"#\" class=\"nd\">415317</a>\n",
       "<div class=\"h\"><a target=\"_blank\" href=\"https://shebanq.ancient-data.org/hebrew/word?version=c&id=1AM\" title=\"show this lexeme in SHEBANQ\">אִם־</a></div>\n",
       "<div class=\"features\"> <span class=\"pdp\"><a href=\"https://shebanq.ancient-data.org/hebrew/text?book=Chronica_II&chapter=18&verse=17&version=c&mr=m&qw=q&tp=txt_p&tr=hb&wget=v&qget=v&nget=vt\" title=\"2_Chronicles 18:17\" sec=\"2_Chronicles 18:17\">conj</a></span> <span class=\"gloss\">if</span></div>\n",
       "\n",
       "\n",
       "</div>\n",
       "\n",
       "\n",
       "    </div>\n",
       "\n",
       "\n",
       "</div>\n",
       "\n",
       "\n",
       "</div>\n"
      ],
      "text/plain": [
       "<IPython.core.display.HTML object>"
      ]
     },
     "metadata": {},
     "output_type": "display_data"
    },
    {
     "data": {
      "text/markdown": [
       "\n",
       "\n",
       "**phrase** *10*\n",
       "\n"
      ],
      "text/plain": [
       "<IPython.core.display.Markdown object>"
      ]
     },
     "metadata": {},
     "output_type": "display_data"
    },
    {
     "data": {
      "text/html": [
       "<a href=\"https://shebanq.ancient-data.org/hebrew/text?book=Exodus&chapter=22&verse=11&version=c&mr=m&qw=q&tp=txt_p&tr=hb&wget=v&qget=v&nget=vt\" title=\"show this passage in SHEBANQ\" sec=\"Exodus 22:11\">Exodus 22:11</a>\n",
       "<div class=\"atoms  \" >\n",
       "<a href=\"#\" class=\"nd\">676861</a>\n",
       "\n",
       "\n",
       "\n",
       "<div class=\"patom  \" >\n",
       "\n",
       "    <div class=\"phrase \" >\n",
       "        <a href=\"https://shebanq.ancient-data.org/hebrew/text?book=Exodus&chapter=22&verse=11&version=c&mr=m&qw=q&tp=txt_p&tr=hb&wget=v&qget=v&nget=vt\" title=\"Exodus 22:11\" sec=\"Exodus 22:11\">phrase</a> <a href=\"#\" class=\"nd\">676861</a>  <span class=\"function\">Cmpl</span> <span class=\"typ\">PP</span>\n",
       "    </div>\n",
       "    <div class=\"atoms\">\n",
       "\n",
       "<div class=\"word  hl\" >\n",
       "<a href=\"#\" class=\"nd\">40821</a>\n",
       "<div class=\"h\"><a target=\"_blank\" href=\"https://shebanq.ancient-data.org/hebrew/word?version=c&id=1MN\" title=\"show this lexeme in SHEBANQ\">מֵ</a></div>\n",
       "<div class=\"features\"> <span class=\"pdp\"><a href=\"https://shebanq.ancient-data.org/hebrew/text?book=Exodus&chapter=22&verse=11&version=c&mr=m&qw=q&tp=txt_p&tr=hb&wget=v&qget=v&nget=vt\" title=\"Exodus 22:11\" sec=\"Exodus 22:11\">prep</a></span> <span class=\"gloss\">from</span></div>\n",
       "\n",
       "\n",
       "</div>\n",
       "\n",
       "<div class=\"word  \" >\n",
       "<a href=\"#\" class=\"nd\">40822</a>\n",
       "<div class=\"h\"><a target=\"_blank\" href=\"https://shebanq.ancient-data.org/hebrew/word?version=c&id=1OM\" title=\"show this lexeme in SHEBANQ\">עִמֹּ֑ו </a></div>\n",
       "<div class=\"features\"> <span class=\"pdp\"><a href=\"https://shebanq.ancient-data.org/hebrew/text?book=Exodus&chapter=22&verse=11&version=c&mr=m&qw=q&tp=txt_p&tr=hb&wget=v&qget=v&nget=vt\" title=\"Exodus 22:11\" sec=\"Exodus 22:11\">prep</a></span> <span class=\"gloss\">with</span></div>\n",
       "\n",
       "\n",
       "</div>\n",
       "\n",
       "\n",
       "    </div>\n",
       "\n",
       "\n",
       "</div>\n",
       "\n",
       "\n",
       "</div>\n"
      ],
      "text/plain": [
       "<IPython.core.display.HTML object>"
      ]
     },
     "metadata": {},
     "output_type": "display_data"
    },
    {
     "data": {
      "text/markdown": [
       "\n",
       "\n",
       "**phrase** *11*\n",
       "\n"
      ],
      "text/plain": [
       "<IPython.core.display.Markdown object>"
      ]
     },
     "metadata": {},
     "output_type": "display_data"
    },
    {
     "data": {
      "text/html": [
       "<a href=\"https://shebanq.ancient-data.org/hebrew/text?book=Reges_I&chapter=9&verse=1&version=c&mr=m&qw=q&tp=txt_p&tr=hb&wget=v&qget=v&nget=vt\" title=\"show this passage in SHEBANQ\" sec=\"1_Kings 9:1\">1_Kings 9:1</a>\n",
       "<div class=\"atoms  \" >\n",
       "<a href=\"#\" class=\"nd\">757384</a>\n",
       "\n",
       "\n",
       "\n",
       "<div class=\"patom  \" >\n",
       "\n",
       "    <div class=\"phrase \" >\n",
       "        <a href=\"https://shebanq.ancient-data.org/hebrew/text?book=Reges_I&chapter=9&verse=1&version=c&mr=m&qw=q&tp=txt_p&tr=hb&wget=v&qget=v&nget=vt\" title=\"1_Kings 9:1\" sec=\"1_Kings 9:1\">phrase</a> <a href=\"#\" class=\"nd\">757384</a>  <span class=\"function\">Pred</span> <span class=\"typ\">VP</span>\n",
       "    </div>\n",
       "    <div class=\"atoms\">\n",
       "\n",
       "<div class=\"word  \" >\n",
       "<a href=\"#\" class=\"nd\">183667</a>\n",
       "<div class=\"h\"><a target=\"_blank\" href=\"https://shebanq.ancient-data.org/hebrew/word?version=c&id=1K\" title=\"show this lexeme in SHEBANQ\">כְּ</a></div>\n",
       "<div class=\"features\"> <span class=\"pdp\"><a href=\"https://shebanq.ancient-data.org/hebrew/text?book=Reges_I&chapter=9&verse=1&version=c&mr=m&qw=q&tp=txt_p&tr=hb&wget=v&qget=v&nget=vt\" title=\"1_Kings 9:1\" sec=\"1_Kings 9:1\">prep</a></span> <span class=\"gloss\">as</span></div>\n",
       "\n",
       "\n",
       "</div>\n",
       "\n",
       "<div class=\"word  hl\" >\n",
       "<a href=\"#\" class=\"nd\">183668</a>\n",
       "<div class=\"h\"><a target=\"_blank\" href=\"https://shebanq.ancient-data.org/hebrew/word?version=c&id=1KLHv\" title=\"show this lexeme in SHEBANQ\">כַלֹּ֣ות </a></div>\n",
       "<div class=\"features\"> <span class=\"pdp\"><a href=\"https://shebanq.ancient-data.org/hebrew/text?book=Reges_I&chapter=9&verse=1&version=c&mr=m&qw=q&tp=txt_p&tr=hb&wget=v&qget=v&nget=vt\" title=\"1_Kings 9:1\" sec=\"1_Kings 9:1\">verb</a></span> <span class=\"gloss\">be complete</span> <span class=\"vs\">piel</span> <span class=\"vt\">infc</span></div>\n",
       "\n",
       "\n",
       "</div>\n",
       "\n",
       "\n",
       "    </div>\n",
       "\n",
       "\n",
       "</div>\n",
       "\n",
       "\n",
       "</div>\n"
      ],
      "text/plain": [
       "<IPython.core.display.HTML object>"
      ]
     },
     "metadata": {},
     "output_type": "display_data"
    },
    {
     "data": {
      "text/markdown": [
       "\n",
       "\n",
       "**phrase** *12*\n",
       "\n"
      ],
      "text/plain": [
       "<IPython.core.display.Markdown object>"
      ]
     },
     "metadata": {},
     "output_type": "display_data"
    },
    {
     "data": {
      "text/html": [
       "<a href=\"https://shebanq.ancient-data.org/hebrew/text?book=Josua&chapter=4&verse=10&version=c&mr=m&qw=q&tp=txt_p&tr=hb&wget=v&qget=v&nget=vt\" title=\"show this passage in SHEBANQ\" sec=\"Joshua 4:10\">Joshua 4:10</a>\n",
       "<div class=\"atoms  \" >\n",
       "<a href=\"#\" class=\"nd\">716698</a>\n",
       "\n",
       "\n",
       "\n",
       "<div class=\"patom  \" >\n",
       "\n",
       "    <div class=\"phrase \" >\n",
       "        <a href=\"https://shebanq.ancient-data.org/hebrew/text?book=Josua&chapter=4&verse=10&version=c&mr=m&qw=q&tp=txt_p&tr=hb&wget=v&qget=v&nget=vt\" title=\"Joshua 4:10\" sec=\"Joshua 4:10\">phrase</a> <a href=\"#\" class=\"nd\">716698</a>  <span class=\"function\">Cmpl</span> <span class=\"typ\">PP</span>\n",
       "    </div>\n",
       "    <div class=\"atoms\">\n",
       "\n",
       "<div class=\"word  hl\" >\n",
       "<a href=\"#\" class=\"nd\">114628</a>\n",
       "<div class=\"h\"><a target=\"_blank\" href=\"https://shebanq.ancient-data.org/hebrew/word?version=c&id=1B\" title=\"show this lexeme in SHEBANQ\">בְּ</a></div>\n",
       "<div class=\"features\"> <span class=\"pdp\"><a href=\"https://shebanq.ancient-data.org/hebrew/text?book=Josua&chapter=4&verse=10&version=c&mr=m&qw=q&tp=txt_p&tr=hb&wget=v&qget=v&nget=vt\" title=\"Joshua 4:10\" sec=\"Joshua 4:10\">prep</a></span> <span class=\"gloss\">in</span></div>\n",
       "\n",
       "\n",
       "</div>\n",
       "\n",
       "<div class=\"word  \" >\n",
       "<a href=\"#\" class=\"nd\">114629</a>\n",
       "<div class=\"h\"><a target=\"_blank\" href=\"https://shebanq.ancient-data.org/hebrew/word?version=c&id=1TWKn\" title=\"show this lexeme in SHEBANQ\">תֹ֣וךְ </a></div>\n",
       "<div class=\"features\"> <span class=\"pdp\"><a href=\"https://shebanq.ancient-data.org/hebrew/text?book=Josua&chapter=4&verse=10&version=c&mr=m&qw=q&tp=txt_p&tr=hb&wget=v&qget=v&nget=vt\" title=\"Joshua 4:10\" sec=\"Joshua 4:10\">subs</a></span> <span class=\"gloss\">midst</span></div>\n",
       "\n",
       "\n",
       "</div>\n",
       "\n",
       "<div class=\"word  \" >\n",
       "<a href=\"#\" class=\"nd\">114630</a>\n",
       "<div class=\"h\"><a target=\"_blank\" href=\"https://shebanq.ancient-data.org/hebrew/word?version=c&id=1H\" title=\"show this lexeme in SHEBANQ\">הַ</a></div>\n",
       "<div class=\"features\"> <span class=\"pdp\"><a href=\"https://shebanq.ancient-data.org/hebrew/text?book=Josua&chapter=4&verse=10&version=c&mr=m&qw=q&tp=txt_p&tr=hb&wget=v&qget=v&nget=vt\" title=\"Joshua 4:10\" sec=\"Joshua 4:10\">art</a></span> <span class=\"gloss\">the</span></div>\n",
       "\n",
       "\n",
       "</div>\n",
       "\n",
       "<div class=\"word  \" >\n",
       "<a href=\"#\" class=\"nd\">114631</a>\n",
       "<div class=\"h\"><a target=\"_blank\" href=\"https://shebanq.ancient-data.org/hebrew/word?version=c&id=1JRDNn\" title=\"show this lexeme in SHEBANQ\">יַּרְדֵּן֒ </a></div>\n",
       "<div class=\"features\"> <span class=\"pdp\"><a href=\"https://shebanq.ancient-data.org/hebrew/text?book=Josua&chapter=4&verse=10&version=c&mr=m&qw=q&tp=txt_p&tr=hb&wget=v&qget=v&nget=vt\" title=\"Joshua 4:10\" sec=\"Joshua 4:10\">nmpr</a></span> <span class=\"gloss\">Jordan</span></div>\n",
       "\n",
       "\n",
       "</div>\n",
       "\n",
       "\n",
       "    </div>\n",
       "\n",
       "\n",
       "</div>\n",
       "\n",
       "\n",
       "</div>\n"
      ],
      "text/plain": [
       "<IPython.core.display.HTML object>"
      ]
     },
     "metadata": {},
     "output_type": "display_data"
    },
    {
     "data": {
      "text/markdown": [
       "\n",
       "\n",
       "**phrase** *13*\n",
       "\n"
      ],
      "text/plain": [
       "<IPython.core.display.Markdown object>"
      ]
     },
     "metadata": {},
     "output_type": "display_data"
    },
    {
     "data": {
      "text/html": [
       "<a href=\"https://shebanq.ancient-data.org/hebrew/text?book=Ezechiel&chapter=40&verse=21&version=c&mr=m&qw=q&tp=txt_p&tr=hb&wget=v&qget=v&nget=vt\" title=\"show this passage in SHEBANQ\" sec=\"Ezekiel 40:21\">Ezekiel 40:21</a>\n",
       "<div class=\"atoms  \" >\n",
       "<a href=\"#\" class=\"nd\">819905</a>\n",
       "\n",
       "\n",
       "\n",
       "<div class=\"patom  \" >\n",
       "\n",
       "    <div class=\"phrase \" >\n",
       "        <a href=\"https://shebanq.ancient-data.org/hebrew/text?book=Ezechiel&chapter=40&verse=21&version=c&mr=m&qw=q&tp=txt_p&tr=hb&wget=v&qget=v&nget=vt\" title=\"Ezekiel 40:21\" sec=\"Ezekiel 40:21\">phrase</a> <a href=\"#\" class=\"nd\">819905</a>  <span class=\"function\">PreC</span> <span class=\"typ\">PP</span>\n",
       "    </div>\n",
       "    <div class=\"atoms\">\n",
       "\n",
       "<div class=\"word  hl\" >\n",
       "<a href=\"#\" class=\"nd\">285436</a>\n",
       "<div class=\"h\"><a target=\"_blank\" href=\"https://shebanq.ancient-data.org/hebrew/word?version=c&id=1K\" title=\"show this lexeme in SHEBANQ\">כְּ</a></div>\n",
       "<div class=\"features\"> <span class=\"pdp\"><a href=\"https://shebanq.ancient-data.org/hebrew/text?book=Ezechiel&chapter=40&verse=21&version=c&mr=m&qw=q&tp=txt_p&tr=hb&wget=v&qget=v&nget=vt\" title=\"Ezekiel 40:21\" sec=\"Ezekiel 40:21\">prep</a></span> <span class=\"gloss\">as</span></div>\n",
       "\n",
       "\n",
       "</div>\n",
       "\n",
       "<div class=\"word  \" >\n",
       "<a href=\"#\" class=\"nd\">285437</a>\n",
       "<div class=\"h\"><a target=\"_blank\" href=\"https://shebanq.ancient-data.org/hebrew/word?version=c&id=1MDHn\" title=\"show this lexeme in SHEBANQ\">מִדַּ֖ת </a></div>\n",
       "<div class=\"features\"> <span class=\"pdp\"><a href=\"https://shebanq.ancient-data.org/hebrew/text?book=Ezechiel&chapter=40&verse=21&version=c&mr=m&qw=q&tp=txt_p&tr=hb&wget=v&qget=v&nget=vt\" title=\"Ezekiel 40:21\" sec=\"Ezekiel 40:21\">subs</a></span> <span class=\"gloss\">measured stretch</span></div>\n",
       "\n",
       "\n",
       "</div>\n",
       "\n",
       "<div class=\"word  \" >\n",
       "<a href=\"#\" class=\"nd\">285438</a>\n",
       "<div class=\"h\"><a target=\"_blank\" href=\"https://shebanq.ancient-data.org/hebrew/word?version=c&id=1H\" title=\"show this lexeme in SHEBANQ\">הַ</a></div>\n",
       "<div class=\"features\"> <span class=\"pdp\"><a href=\"https://shebanq.ancient-data.org/hebrew/text?book=Ezechiel&chapter=40&verse=21&version=c&mr=m&qw=q&tp=txt_p&tr=hb&wget=v&qget=v&nget=vt\" title=\"Ezekiel 40:21\" sec=\"Ezekiel 40:21\">art</a></span> <span class=\"gloss\">the</span></div>\n",
       "\n",
       "\n",
       "</div>\n",
       "\n",
       "<div class=\"word  \" >\n",
       "<a href=\"#\" class=\"nd\">285439</a>\n",
       "<div class=\"h\"><a target=\"_blank\" href=\"https://shebanq.ancient-data.org/hebrew/word?version=c&id=1CORn\" title=\"show this lexeme in SHEBANQ\">שַּׁ֣עַר </a></div>\n",
       "<div class=\"features\"> <span class=\"pdp\"><a href=\"https://shebanq.ancient-data.org/hebrew/text?book=Ezechiel&chapter=40&verse=21&version=c&mr=m&qw=q&tp=txt_p&tr=hb&wget=v&qget=v&nget=vt\" title=\"Ezekiel 40:21\" sec=\"Ezekiel 40:21\">subs</a></span> <span class=\"gloss\">gate</span></div>\n",
       "\n",
       "\n",
       "</div>\n",
       "\n",
       "<div class=\"word  \" >\n",
       "<a href=\"#\" class=\"nd\">285440</a>\n",
       "<div class=\"h\"><a target=\"_blank\" href=\"https://shebanq.ancient-data.org/hebrew/word?version=c&id=1H\" title=\"show this lexeme in SHEBANQ\">הָ</a></div>\n",
       "<div class=\"features\"> <span class=\"pdp\"><a href=\"https://shebanq.ancient-data.org/hebrew/text?book=Ezechiel&chapter=40&verse=21&version=c&mr=m&qw=q&tp=txt_p&tr=hb&wget=v&qget=v&nget=vt\" title=\"Ezekiel 40:21\" sec=\"Ezekiel 40:21\">art</a></span> <span class=\"gloss\">the</span></div>\n",
       "\n",
       "\n",
       "</div>\n",
       "\n",
       "<div class=\"word  \" >\n",
       "<a href=\"#\" class=\"nd\">285441</a>\n",
       "<div class=\"h\"><a target=\"_blank\" href=\"https://shebanq.ancient-data.org/hebrew/word?version=c&id=1RACWNn\" title=\"show this lexeme in SHEBANQ\">רִאשֹׁ֑ון </a></div>\n",
       "<div class=\"features\"> <span class=\"pdp\"><a href=\"https://shebanq.ancient-data.org/hebrew/text?book=Ezechiel&chapter=40&verse=21&version=c&mr=m&qw=q&tp=txt_p&tr=hb&wget=v&qget=v&nget=vt\" title=\"Ezekiel 40:21\" sec=\"Ezekiel 40:21\">adjv</a></span> <span class=\"gloss\">first</span></div>\n",
       "\n",
       "\n",
       "</div>\n",
       "\n",
       "\n",
       "    </div>\n",
       "\n",
       "\n",
       "</div>\n",
       "\n",
       "\n",
       "</div>\n"
      ],
      "text/plain": [
       "<IPython.core.display.HTML object>"
      ]
     },
     "metadata": {},
     "output_type": "display_data"
    },
    {
     "data": {
      "text/markdown": [
       "\n",
       "\n",
       "**phrase** *14*\n",
       "\n"
      ],
      "text/plain": [
       "<IPython.core.display.Markdown object>"
      ]
     },
     "metadata": {},
     "output_type": "display_data"
    },
    {
     "data": {
      "text/html": [
       "<a href=\"https://shebanq.ancient-data.org/hebrew/text?book=Samuel_I&chapter=25&verse=11&version=c&mr=m&qw=q&tp=txt_p&tr=hb&wget=v&qget=v&nget=vt\" title=\"show this passage in SHEBANQ\" sec=\"1_Samuel 25:11\">1_Samuel 25:11</a>\n",
       "<div class=\"atoms  \" >\n",
       "<a href=\"#\" class=\"nd\">741413</a>\n",
       "\n",
       "\n",
       "\n",
       "<div class=\"patom  l \" >\n",
       "\n",
       "    <div class=\"phrase \" >\n",
       "        <a href=\"https://shebanq.ancient-data.org/hebrew/text?book=Samuel_I&chapter=25&verse=11&version=c&mr=m&qw=q&tp=txt_p&tr=hb&wget=v&qget=v&nget=vt\" title=\"1_Samuel 25:11\" sec=\"1_Samuel 25:11\">phrase</a> <a href=\"#\" class=\"nd\">741413</a>  <span class=\"function\">PreC</span> <span class=\"typ\">InrP</span>\n",
       "    </div>\n",
       "    <div class=\"atoms\">\n",
       "\n",
       "<div class=\"word  hl\" >\n",
       "<a href=\"#\" class=\"nd\">156736</a>\n",
       "<div class=\"h\"><a target=\"_blank\" href=\"https://shebanq.ancient-data.org/hebrew/word?version=c&id=1AJ\" title=\"show this lexeme in SHEBANQ\">אֵ֥י </a></div>\n",
       "<div class=\"features\"> <span class=\"pdp\"><a href=\"https://shebanq.ancient-data.org/hebrew/text?book=Samuel_I&chapter=25&verse=11&version=c&mr=m&qw=q&tp=txt_p&tr=hb&wget=v&qget=v&nget=vt\" title=\"1_Samuel 25:11\" sec=\"1_Samuel 25:11\">inrg</a></span> <span class=\"gloss\">where</span></div>\n",
       "\n",
       "\n",
       "</div>\n",
       "\n",
       "\n",
       "    </div>\n",
       "\n",
       "\n",
       "</div>\n",
       "\n",
       "<div class=\"patom  r \" >\n",
       "\n",
       "    <div class=\"phrase \" >\n",
       "        <a href=\"https://shebanq.ancient-data.org/hebrew/text?book=Samuel_I&chapter=25&verse=11&version=c&mr=m&qw=q&tp=txt_p&tr=hb&wget=v&qget=v&nget=vt\" title=\"1_Samuel 25:11\" sec=\"1_Samuel 25:11\">phrase</a> <a href=\"#\" class=\"nd\">741413</a>  <span class=\"function\">PreC</span> <span class=\"typ\">InrP|PP</span>\n",
       "    </div>\n",
       "    <div class=\"atoms\">\n",
       "\n",
       "<div class=\"word  \" >\n",
       "<a href=\"#\" class=\"nd\">156737</a>\n",
       "<div class=\"h\"><a target=\"_blank\" href=\"https://shebanq.ancient-data.org/hebrew/word?version=c&id=1MN\" title=\"show this lexeme in SHEBANQ\">מִ</a></div>\n",
       "<div class=\"features\"> <span class=\"pdp\"><a href=\"https://shebanq.ancient-data.org/hebrew/text?book=Samuel_I&chapter=25&verse=11&version=c&mr=m&qw=q&tp=txt_p&tr=hb&wget=v&qget=v&nget=vt\" title=\"1_Samuel 25:11\" sec=\"1_Samuel 25:11\">prep</a></span> <span class=\"gloss\">from</span></div>\n",
       "\n",
       "\n",
       "</div>\n",
       "\n",
       "<div class=\"word  \" >\n",
       "<a href=\"#\" class=\"nd\">156738</a>\n",
       "<div class=\"h\"><a target=\"_blank\" href=\"https://shebanq.ancient-data.org/hebrew/word?version=c&id=1ZH\" title=\"show this lexeme in SHEBANQ\">זֶּ֖ה </a></div>\n",
       "<div class=\"features\"> <span class=\"pdp\"><a href=\"https://shebanq.ancient-data.org/hebrew/text?book=Samuel_I&chapter=25&verse=11&version=c&mr=m&qw=q&tp=txt_p&tr=hb&wget=v&qget=v&nget=vt\" title=\"1_Samuel 25:11\" sec=\"1_Samuel 25:11\">prde</a></span> <span class=\"gloss\">this</span></div>\n",
       "\n",
       "\n",
       "</div>\n",
       "\n",
       "\n",
       "    </div>\n",
       "\n",
       "\n",
       "</div>\n",
       "\n",
       "\n",
       "</div>\n"
      ],
      "text/plain": [
       "<IPython.core.display.HTML object>"
      ]
     },
     "metadata": {},
     "output_type": "display_data"
    },
    {
     "data": {
      "text/markdown": [
       "\n",
       "\n",
       "**phrase** *15*\n",
       "\n"
      ],
      "text/plain": [
       "<IPython.core.display.Markdown object>"
      ]
     },
     "metadata": {},
     "output_type": "display_data"
    },
    {
     "data": {
      "text/html": [
       "<a href=\"https://shebanq.ancient-data.org/hebrew/text?book=Threni&chapter=3&verse=26&version=c&mr=m&qw=q&tp=txt_p&tr=hb&wget=v&qget=v&nget=vt\" title=\"show this passage in SHEBANQ\" sec=\"Lamentations 3:26\">Lamentations 3:26</a>\n",
       "<div class=\"atoms  \" >\n",
       "<a href=\"#\" class=\"nd\">873375</a>\n",
       "\n",
       "\n",
       "\n",
       "<div class=\"patom  l \" >\n",
       "\n",
       "    <div class=\"phrase \" >\n",
       "        <a href=\"https://shebanq.ancient-data.org/hebrew/text?book=Threni&chapter=3&verse=26&version=c&mr=m&qw=q&tp=txt_p&tr=hb&wget=v&qget=v&nget=vt\" title=\"Lamentations 3:26\" sec=\"Lamentations 3:26\">phrase</a> <a href=\"#\" class=\"nd\">873375</a>  <span class=\"function\">PreC</span> <span class=\"typ\">AdjP</span>\n",
       "    </div>\n",
       "    <div class=\"atoms\">\n",
       "\n",
       "<div class=\"word  hl\" >\n",
       "<a href=\"#\" class=\"nd\">364639</a>\n",
       "<div class=\"h\"><a target=\"_blank\" href=\"https://shebanq.ancient-data.org/hebrew/word?version=c&id=1VWBn\" title=\"show this lexeme in SHEBANQ\">טֹ֤וב </a></div>\n",
       "<div class=\"features\"> <span class=\"pdp\"><a href=\"https://shebanq.ancient-data.org/hebrew/text?book=Threni&chapter=3&verse=26&version=c&mr=m&qw=q&tp=txt_p&tr=hb&wget=v&qget=v&nget=vt\" title=\"Lamentations 3:26\" sec=\"Lamentations 3:26\">adjv</a></span> <span class=\"gloss\">good</span></div>\n",
       "\n",
       "\n",
       "</div>\n",
       "\n",
       "\n",
       "    </div>\n",
       "\n",
       "\n",
       "</div>\n",
       "\n",
       "<div class=\"patom  r l \" >\n",
       "\n",
       "    <div class=\"phrase \" >\n",
       "        <a href=\"https://shebanq.ancient-data.org/hebrew/text?book=Threni&chapter=3&verse=26&version=c&mr=m&qw=q&tp=txt_p&tr=hb&wget=v&qget=v&nget=vt\" title=\"Lamentations 3:26\" sec=\"Lamentations 3:26\">phrase</a> <a href=\"#\" class=\"nd\">873375</a>  <span class=\"function\">PreC</span> <span class=\"typ\">AdjP|CP</span>\n",
       "    </div>\n",
       "    <div class=\"atoms\">\n",
       "\n",
       "<div class=\"word  \" >\n",
       "<a href=\"#\" class=\"nd\">364640</a>\n",
       "<div class=\"h\"><a target=\"_blank\" href=\"https://shebanq.ancient-data.org/hebrew/word?version=c&id=1W\" title=\"show this lexeme in SHEBANQ\">וְ</a></div>\n",
       "<div class=\"features\"> <span class=\"pdp\"><a href=\"https://shebanq.ancient-data.org/hebrew/text?book=Threni&chapter=3&verse=26&version=c&mr=m&qw=q&tp=txt_p&tr=hb&wget=v&qget=v&nget=vt\" title=\"Lamentations 3:26\" sec=\"Lamentations 3:26\">conj</a></span> <span class=\"gloss\">and</span></div>\n",
       "\n",
       "\n",
       "</div>\n",
       "\n",
       "\n",
       "    </div>\n",
       "\n",
       "\n",
       "</div>\n",
       "\n",
       "<div class=\"patom  r l \" >\n",
       "\n",
       "    <div class=\"phrase \" >\n",
       "        <a href=\"https://shebanq.ancient-data.org/hebrew/text?book=Threni&chapter=3&verse=26&version=c&mr=m&qw=q&tp=txt_p&tr=hb&wget=v&qget=v&nget=vt\" title=\"Lamentations 3:26\" sec=\"Lamentations 3:26\">phrase</a> <a href=\"#\" class=\"nd\">873375</a>  <span class=\"function\">PreC</span> <span class=\"typ\">AdjP|NP</span>\n",
       "    </div>\n",
       "    <div class=\"atoms\">\n",
       "\n",
       "<div class=\"word  hl\" >\n",
       "<a href=\"#\" class=\"nd\">364641</a>\n",
       "<div class=\"h\"><a target=\"_blank\" href=\"https://shebanq.ancient-data.org/hebrew/word?version=c&id=1JXJLn\" title=\"show this lexeme in SHEBANQ\">יָחִיל֙ </a></div>\n",
       "<div class=\"features\"> <span class=\"pdp\"><a href=\"https://shebanq.ancient-data.org/hebrew/text?book=Threni&chapter=3&verse=26&version=c&mr=m&qw=q&tp=txt_p&tr=hb&wget=v&qget=v&nget=vt\" title=\"Lamentations 3:26\" sec=\"Lamentations 3:26\">subs</a></span> <span class=\"gloss\">&lt;uncertain></span></div>\n",
       "\n",
       "\n",
       "</div>\n",
       "\n",
       "\n",
       "    </div>\n",
       "\n",
       "\n",
       "</div>\n",
       "\n",
       "<div class=\"patom  r l \" >\n",
       "\n",
       "    <div class=\"phrase \" >\n",
       "        <a href=\"https://shebanq.ancient-data.org/hebrew/text?book=Threni&chapter=3&verse=26&version=c&mr=m&qw=q&tp=txt_p&tr=hb&wget=v&qget=v&nget=vt\" title=\"Lamentations 3:26\" sec=\"Lamentations 3:26\">phrase</a> <a href=\"#\" class=\"nd\">873375</a>  <span class=\"function\">PreC</span> <span class=\"typ\">AdjP|CP</span>\n",
       "    </div>\n",
       "    <div class=\"atoms\">\n",
       "\n",
       "<div class=\"word  \" >\n",
       "<a href=\"#\" class=\"nd\">364642</a>\n",
       "<div class=\"h\"><a target=\"_blank\" href=\"https://shebanq.ancient-data.org/hebrew/word?version=c&id=1W\" title=\"show this lexeme in SHEBANQ\">וְ</a></div>\n",
       "<div class=\"features\"> <span class=\"pdp\"><a href=\"https://shebanq.ancient-data.org/hebrew/text?book=Threni&chapter=3&verse=26&version=c&mr=m&qw=q&tp=txt_p&tr=hb&wget=v&qget=v&nget=vt\" title=\"Lamentations 3:26\" sec=\"Lamentations 3:26\">conj</a></span> <span class=\"gloss\">and</span></div>\n",
       "\n",
       "\n",
       "</div>\n",
       "\n",
       "\n",
       "    </div>\n",
       "\n",
       "\n",
       "</div>\n",
       "\n",
       "<div class=\"patom  r \" >\n",
       "\n",
       "    <div class=\"phrase \" >\n",
       "        <a href=\"https://shebanq.ancient-data.org/hebrew/text?book=Threni&chapter=3&verse=26&version=c&mr=m&qw=q&tp=txt_p&tr=hb&wget=v&qget=v&nget=vt\" title=\"Lamentations 3:26\" sec=\"Lamentations 3:26\">phrase</a> <a href=\"#\" class=\"nd\">873375</a>  <span class=\"function\">PreC</span> <span class=\"typ\">AdjP|AdvP</span>\n",
       "    </div>\n",
       "    <div class=\"atoms\">\n",
       "\n",
       "<div class=\"word  hl\" >\n",
       "<a href=\"#\" class=\"nd\">364643</a>\n",
       "<div class=\"h\"><a target=\"_blank\" href=\"https://shebanq.ancient-data.org/hebrew/word?version=c&id=1DWMM\" title=\"show this lexeme in SHEBANQ\">דוּמָ֔ם </a></div>\n",
       "<div class=\"features\"> <span class=\"pdp\"><a href=\"https://shebanq.ancient-data.org/hebrew/text?book=Threni&chapter=3&verse=26&version=c&mr=m&qw=q&tp=txt_p&tr=hb&wget=v&qget=v&nget=vt\" title=\"Lamentations 3:26\" sec=\"Lamentations 3:26\">advb</a></span> <span class=\"gloss\">silently</span></div>\n",
       "\n",
       "\n",
       "</div>\n",
       "\n",
       "\n",
       "    </div>\n",
       "\n",
       "\n",
       "</div>\n",
       "\n",
       "\n",
       "</div>\n"
      ],
      "text/plain": [
       "<IPython.core.display.HTML object>"
      ]
     },
     "metadata": {},
     "output_type": "display_data"
    },
    {
     "data": {
      "text/markdown": [
       "\n",
       "\n",
       "**phrase** *16*\n",
       "\n"
      ],
      "text/plain": [
       "<IPython.core.display.Markdown object>"
      ]
     },
     "metadata": {},
     "output_type": "display_data"
    },
    {
     "data": {
      "text/html": [
       "<a href=\"https://shebanq.ancient-data.org/hebrew/text?book=Samuel_II&chapter=9&verse=13&version=c&mr=m&qw=q&tp=txt_p&tr=hb&wget=v&qget=v&nget=vt\" title=\"show this passage in SHEBANQ\" sec=\"2_Samuel 9:13\">2_Samuel 9:13</a>\n",
       "<div class=\"atoms  \" >\n",
       "<a href=\"#\" class=\"nd\">746642</a>\n",
       "\n",
       "\n",
       "\n",
       "<div class=\"patom  l \" >\n",
       "\n",
       "    <div class=\"phrase \" >\n",
       "        <a href=\"https://shebanq.ancient-data.org/hebrew/text?book=Samuel_II&chapter=9&verse=13&version=c&mr=m&qw=q&tp=txt_p&tr=hb&wget=v&qget=v&nget=vt\" title=\"2_Samuel 9:13\" sec=\"2_Samuel 9:13\">phrase</a> <a href=\"#\" class=\"nd\">746642</a>  <span class=\"function\">PreC</span> <span class=\"typ\">AdjP</span>\n",
       "    </div>\n",
       "    <div class=\"atoms\">\n",
       "\n",
       "<div class=\"word  hl\" >\n",
       "<a href=\"#\" class=\"nd\">165256</a>\n",
       "<div class=\"h\"><a target=\"_blank\" href=\"https://shebanq.ancient-data.org/hebrew/word?version=c&id=1PSXin\" title=\"show this lexeme in SHEBANQ\">פִּסֵּ֖חַ </a></div>\n",
       "<div class=\"features\"> <span class=\"pdp\"><a href=\"https://shebanq.ancient-data.org/hebrew/text?book=Samuel_II&chapter=9&verse=13&version=c&mr=m&qw=q&tp=txt_p&tr=hb&wget=v&qget=v&nget=vt\" title=\"2_Samuel 9:13\" sec=\"2_Samuel 9:13\">adjv</a></span> <span class=\"gloss\">lame</span></div>\n",
       "\n",
       "\n",
       "</div>\n",
       "\n",
       "\n",
       "    </div>\n",
       "\n",
       "\n",
       "</div>\n",
       "\n",
       "<div class=\"patom  r \" >\n",
       "\n",
       "    <div class=\"phrase \" >\n",
       "        <a href=\"https://shebanq.ancient-data.org/hebrew/text?book=Samuel_II&chapter=9&verse=13&version=c&mr=m&qw=q&tp=txt_p&tr=hb&wget=v&qget=v&nget=vt\" title=\"2_Samuel 9:13\" sec=\"2_Samuel 9:13\">phrase</a> <a href=\"#\" class=\"nd\">746642</a>  <span class=\"function\">PreC</span> <span class=\"typ\">AdjP|NP</span>\n",
       "    </div>\n",
       "    <div class=\"atoms\">\n",
       "\n",
       "<div class=\"word  \" >\n",
       "<a href=\"#\" class=\"nd\">165257</a>\n",
       "<div class=\"h\"><a target=\"_blank\" href=\"https://shebanq.ancient-data.org/hebrew/word?version=c&id=1CNJMn\" title=\"show this lexeme in SHEBANQ\">שְׁתֵּ֥י </a></div>\n",
       "<div class=\"features\"> <span class=\"pdp\"><a href=\"https://shebanq.ancient-data.org/hebrew/text?book=Samuel_II&chapter=9&verse=13&version=c&mr=m&qw=q&tp=txt_p&tr=hb&wget=v&qget=v&nget=vt\" title=\"2_Samuel 9:13\" sec=\"2_Samuel 9:13\">subs</a></span> <span class=\"gloss\">two</span></div>\n",
       "\n",
       "\n",
       "</div>\n",
       "\n",
       "<div class=\"word  \" >\n",
       "<a href=\"#\" class=\"nd\">165258</a>\n",
       "<div class=\"h\"><a target=\"_blank\" href=\"https://shebanq.ancient-data.org/hebrew/word?version=c&id=1RGLn\" title=\"show this lexeme in SHEBANQ\">רַגְלָֽיו׃ פ </a></div>\n",
       "<div class=\"features\"> <span class=\"pdp\"><a href=\"https://shebanq.ancient-data.org/hebrew/text?book=Samuel_II&chapter=9&verse=13&version=c&mr=m&qw=q&tp=txt_p&tr=hb&wget=v&qget=v&nget=vt\" title=\"2_Samuel 9:13\" sec=\"2_Samuel 9:13\">subs</a></span> <span class=\"gloss\">foot</span></div>\n",
       "\n",
       "\n",
       "</div>\n",
       "\n",
       "\n",
       "    </div>\n",
       "\n",
       "\n",
       "</div>\n",
       "\n",
       "\n",
       "</div>\n"
      ],
      "text/plain": [
       "<IPython.core.display.HTML object>"
      ]
     },
     "metadata": {},
     "output_type": "display_data"
    },
    {
     "data": {
      "text/markdown": [
       "\n",
       "\n",
       "**phrase** *17*\n",
       "\n"
      ],
      "text/plain": [
       "<IPython.core.display.Markdown object>"
      ]
     },
     "metadata": {},
     "output_type": "display_data"
    },
    {
     "data": {
      "text/html": [
       "<a href=\"https://shebanq.ancient-data.org/hebrew/text?book=Samuel_II&chapter=19&verse=23&version=c&mr=m&qw=q&tp=txt_p&tr=hb&wget=v&qget=v&nget=vt\" title=\"show this passage in SHEBANQ\" sec=\"2_Samuel 19:23\">2_Samuel 19:23</a>\n",
       "<div class=\"atoms  \" >\n",
       "<a href=\"#\" class=\"nd\">751263</a>\n",
       "\n",
       "\n",
       "\n",
       "<div class=\"patom  \" >\n",
       "\n",
       "    <div class=\"phrase \" >\n",
       "        <a href=\"https://shebanq.ancient-data.org/hebrew/text?book=Samuel_II&chapter=19&verse=23&version=c&mr=m&qw=q&tp=txt_p&tr=hb&wget=v&qget=v&nget=vt\" title=\"2_Samuel 19:23\" sec=\"2_Samuel 19:23\">phrase</a> <a href=\"#\" class=\"nd\">751263</a>  <span class=\"function\">Nega</span> <span class=\"typ\">NegP</span>\n",
       "    </div>\n",
       "    <div class=\"atoms\">\n",
       "\n",
       "<div class=\"word  \" >\n",
       "<a href=\"#\" class=\"nd\">172544</a>\n",
       "<div class=\"h\"><a target=\"_blank\" href=\"https://shebanq.ancient-data.org/hebrew/word?version=c&id=1Hi\" title=\"show this lexeme in SHEBANQ\">הֲ</a></div>\n",
       "<div class=\"features\"> <span class=\"pdp\"><a href=\"https://shebanq.ancient-data.org/hebrew/text?book=Samuel_II&chapter=19&verse=23&version=c&mr=m&qw=q&tp=txt_p&tr=hb&wget=v&qget=v&nget=vt\" title=\"2_Samuel 19:23\" sec=\"2_Samuel 19:23\">inrg</a></span> <span class=\"gloss\">&lt;interrogative></span></div>\n",
       "\n",
       "\n",
       "</div>\n",
       "\n",
       "<div class=\"word  hl\" >\n",
       "<a href=\"#\" class=\"nd\">172545</a>\n",
       "<div class=\"h\"><a target=\"_blank\" href=\"https://shebanq.ancient-data.org/hebrew/word?version=c&id=1LA\" title=\"show this lexeme in SHEBANQ\">לֹ֣וא </a></div>\n",
       "<div class=\"features\"> <span class=\"pdp\"><a href=\"https://shebanq.ancient-data.org/hebrew/text?book=Samuel_II&chapter=19&verse=23&version=c&mr=m&qw=q&tp=txt_p&tr=hb&wget=v&qget=v&nget=vt\" title=\"2_Samuel 19:23\" sec=\"2_Samuel 19:23\">nega</a></span> <span class=\"gloss\">not</span></div>\n",
       "\n",
       "\n",
       "</div>\n",
       "\n",
       "\n",
       "    </div>\n",
       "\n",
       "\n",
       "</div>\n",
       "\n",
       "\n",
       "</div>\n"
      ],
      "text/plain": [
       "<IPython.core.display.HTML object>"
      ]
     },
     "metadata": {},
     "output_type": "display_data"
    },
    {
     "data": {
      "text/markdown": [
       "\n",
       "\n",
       "**phrase** *18*\n",
       "\n"
      ],
      "text/plain": [
       "<IPython.core.display.Markdown object>"
      ]
     },
     "metadata": {},
     "output_type": "display_data"
    },
    {
     "data": {
      "text/html": [
       "<a href=\"https://shebanq.ancient-data.org/hebrew/text?book=Samuel_II&chapter=19&verse=4&version=c&mr=m&qw=q&tp=txt_p&tr=hb&wget=v&qget=v&nget=vt\" title=\"show this passage in SHEBANQ\" sec=\"2_Samuel 19:4\">2_Samuel 19:4</a>\n",
       "<div class=\"atoms  \" >\n",
       "<a href=\"#\" class=\"nd\">750946</a>\n",
       "\n",
       "\n",
       "\n",
       "<div class=\"patom  \" >\n",
       "\n",
       "    <div class=\"phrase \" >\n",
       "        <a href=\"https://shebanq.ancient-data.org/hebrew/text?book=Samuel_II&chapter=19&verse=4&version=c&mr=m&qw=q&tp=txt_p&tr=hb&wget=v&qget=v&nget=vt\" title=\"2_Samuel 19:4\" sec=\"2_Samuel 19:4\">phrase</a> <a href=\"#\" class=\"nd\">750946</a>  <span class=\"function\">Conj</span> <span class=\"typ\">CP</span>\n",
       "    </div>\n",
       "    <div class=\"atoms\">\n",
       "\n",
       "<div class=\"word  hl\" >\n",
       "<a href=\"#\" class=\"nd\">172007</a>\n",
       "<div class=\"h\"><a target=\"_blank\" href=\"https://shebanq.ancient-data.org/hebrew/word?version=c&id=1K\" title=\"show this lexeme in SHEBANQ\">כַּ</a></div>\n",
       "<div class=\"features\"> <span class=\"pdp\"><a href=\"https://shebanq.ancient-data.org/hebrew/text?book=Samuel_II&chapter=19&verse=4&version=c&mr=m&qw=q&tp=txt_p&tr=hb&wget=v&qget=v&nget=vt\" title=\"2_Samuel 19:4\" sec=\"2_Samuel 19:4\">prep</a></span> <span class=\"gloss\">as</span></div>\n",
       "\n",
       "\n",
       "</div>\n",
       "\n",
       "<div class=\"word  \" >\n",
       "<a href=\"#\" class=\"nd\">172008</a>\n",
       "<div class=\"h\"><a target=\"_blank\" href=\"https://shebanq.ancient-data.org/hebrew/word?version=c&id=1ACR\" title=\"show this lexeme in SHEBANQ\">אֲשֶׁ֣ר </a></div>\n",
       "<div class=\"features\"> <span class=\"pdp\"><a href=\"https://shebanq.ancient-data.org/hebrew/text?book=Samuel_II&chapter=19&verse=4&version=c&mr=m&qw=q&tp=txt_p&tr=hb&wget=v&qget=v&nget=vt\" title=\"2_Samuel 19:4\" sec=\"2_Samuel 19:4\">conj</a></span> <span class=\"gloss\">&lt;relative></span></div>\n",
       "\n",
       "\n",
       "</div>\n",
       "\n",
       "\n",
       "    </div>\n",
       "\n",
       "\n",
       "</div>\n",
       "\n",
       "\n",
       "</div>\n"
      ],
      "text/plain": [
       "<IPython.core.display.HTML object>"
      ]
     },
     "metadata": {},
     "output_type": "display_data"
    },
    {
     "data": {
      "text/markdown": [
       "\n",
       "\n",
       "**phrase** *19*\n",
       "\n"
      ],
      "text/plain": [
       "<IPython.core.display.Markdown object>"
      ]
     },
     "metadata": {},
     "output_type": "display_data"
    },
    {
     "data": {
      "text/html": [
       "<a href=\"https://shebanq.ancient-data.org/hebrew/text?book=Samuel_I&chapter=25&verse=40&version=c&mr=m&qw=q&tp=txt_p&tr=hb&wget=v&qget=v&nget=vt\" title=\"show this passage in SHEBANQ\" sec=\"1_Samuel 25:40\">1_Samuel 25:40</a>\n",
       "<div class=\"atoms  \" >\n",
       "<a href=\"#\" class=\"nd\">741896</a>\n",
       "\n",
       "\n",
       "\n",
       "<div class=\"patom  \" >\n",
       "\n",
       "    <div class=\"phrase \" >\n",
       "        <a href=\"https://shebanq.ancient-data.org/hebrew/text?book=Samuel_I&chapter=25&verse=40&version=c&mr=m&qw=q&tp=txt_p&tr=hb&wget=v&qget=v&nget=vt\" title=\"1_Samuel 25:40\" sec=\"1_Samuel 25:40\">phrase</a> <a href=\"#\" class=\"nd\">741896</a>  <span class=\"function\">Cmpl</span> <span class=\"typ\">AdvP</span>\n",
       "    </div>\n",
       "    <div class=\"atoms\">\n",
       "\n",
       "<div class=\"word  \" >\n",
       "<a href=\"#\" class=\"nd\">157463</a>\n",
       "<div class=\"h\"><a target=\"_blank\" href=\"https://shebanq.ancient-data.org/hebrew/word?version=c&id=1H\" title=\"show this lexeme in SHEBANQ\">הַ</a></div>\n",
       "<div class=\"features\"> <span class=\"pdp\"><a href=\"https://shebanq.ancient-data.org/hebrew/text?book=Samuel_I&chapter=25&verse=40&version=c&mr=m&qw=q&tp=txt_p&tr=hb&wget=v&qget=v&nget=vt\" title=\"1_Samuel 25:40\" sec=\"1_Samuel 25:40\">art</a></span> <span class=\"gloss\">the</span></div>\n",
       "\n",
       "\n",
       "</div>\n",
       "\n",
       "<div class=\"word  hl\" >\n",
       "<a href=\"#\" class=\"nd\">157464</a>\n",
       "<div class=\"h\"><a target=\"_blank\" href=\"https://shebanq.ancient-data.org/hebrew/word?version=c&id=1KRMLiin\" title=\"show this lexeme in SHEBANQ\">כַּרְמֶ֑לָה </a></div>\n",
       "<div class=\"features\"> <span class=\"pdp\"><a href=\"https://shebanq.ancient-data.org/hebrew/text?book=Samuel_I&chapter=25&verse=40&version=c&mr=m&qw=q&tp=txt_p&tr=hb&wget=v&qget=v&nget=vt\" title=\"1_Samuel 25:40\" sec=\"1_Samuel 25:40\">nmpr</a></span> <span class=\"gloss\">Carmel</span></div>\n",
       "\n",
       "\n",
       "</div>\n",
       "\n",
       "\n",
       "    </div>\n",
       "\n",
       "\n",
       "</div>\n",
       "\n",
       "\n",
       "</div>\n"
      ],
      "text/plain": [
       "<IPython.core.display.HTML object>"
      ]
     },
     "metadata": {},
     "output_type": "display_data"
    },
    {
     "data": {
      "text/markdown": [
       "\n",
       "\n",
       "**phrase** *20*\n",
       "\n"
      ],
      "text/plain": [
       "<IPython.core.display.Markdown object>"
      ]
     },
     "metadata": {},
     "output_type": "display_data"
    },
    {
     "data": {
      "text/html": [
       "<a href=\"https://shebanq.ancient-data.org/hebrew/text?book=Nehemia&chapter=8&verse=6&version=c&mr=m&qw=q&tp=txt_p&tr=hb&wget=v&qget=v&nget=vt\" title=\"show this passage in SHEBANQ\" sec=\"Nehemiah 8:6\">Nehemiah 8:6</a>\n",
       "<div class=\"atoms  \" >\n",
       "<a href=\"#\" class=\"nd\">885638</a>\n",
       "\n",
       "\n",
       "\n",
       "<div class=\"patom  \" >\n",
       "\n",
       "    <div class=\"phrase \" >\n",
       "        <a href=\"https://shebanq.ancient-data.org/hebrew/text?book=Nehemia&chapter=8&verse=6&version=c&mr=m&qw=q&tp=txt_p&tr=hb&wget=v&qget=v&nget=vt\" title=\"Nehemiah 8:6\" sec=\"Nehemiah 8:6\">phrase</a> <a href=\"#\" class=\"nd\">885638</a>  <span class=\"function\">Intj</span> <span class=\"typ\">InjP</span>\n",
       "    </div>\n",
       "    <div class=\"atoms\">\n",
       "\n",
       "<div class=\"word  hl\" >\n",
       "<a href=\"#\" class=\"nd\">387341</a>\n",
       "<div class=\"h\"><a target=\"_blank\" href=\"https://shebanq.ancient-data.org/hebrew/word?version=c&id=1AMN\" title=\"show this lexeme in SHEBANQ\">אָמֵ֤ן׀ </a></div>\n",
       "<div class=\"features\"> <span class=\"pdp\"><a href=\"https://shebanq.ancient-data.org/hebrew/text?book=Nehemia&chapter=8&verse=6&version=c&mr=m&qw=q&tp=txt_p&tr=hb&wget=v&qget=v&nget=vt\" title=\"Nehemiah 8:6\" sec=\"Nehemiah 8:6\">intj</a></span> <span class=\"gloss\">surely</span></div>\n",
       "\n",
       "\n",
       "</div>\n",
       "\n",
       "<div class=\"word  hl\" >\n",
       "<a href=\"#\" class=\"nd\">387342</a>\n",
       "<div class=\"h\"><a target=\"_blank\" href=\"https://shebanq.ancient-data.org/hebrew/word?version=c&id=1AMN\" title=\"show this lexeme in SHEBANQ\">אָמֵן֙ </a></div>\n",
       "<div class=\"features\"> <span class=\"pdp\"><a href=\"https://shebanq.ancient-data.org/hebrew/text?book=Nehemia&chapter=8&verse=6&version=c&mr=m&qw=q&tp=txt_p&tr=hb&wget=v&qget=v&nget=vt\" title=\"Nehemiah 8:6\" sec=\"Nehemiah 8:6\">intj</a></span> <span class=\"gloss\">surely</span></div>\n",
       "\n",
       "\n",
       "</div>\n",
       "\n",
       "\n",
       "    </div>\n",
       "\n",
       "\n",
       "</div>\n",
       "\n",
       "\n",
       "</div>\n"
      ],
      "text/plain": [
       "<IPython.core.display.HTML object>"
      ]
     },
     "metadata": {},
     "output_type": "display_data"
    },
    {
     "data": {
      "text/markdown": [
       "\n",
       "\n",
       "**phrase** *21*\n",
       "\n"
      ],
      "text/plain": [
       "<IPython.core.display.Markdown object>"
      ]
     },
     "metadata": {},
     "output_type": "display_data"
    },
    {
     "data": {
      "text/html": [
       "<a href=\"https://shebanq.ancient-data.org/hebrew/text?book=Iob&chapter=14&verse=13&version=c&mr=m&qw=q&tp=txt_p&tr=hb&wget=v&qget=v&nget=vt\" title=\"show this passage in SHEBANQ\" sec=\"Job 14:13\">Job 14:13</a>\n",
       "<div class=\"atoms  \" >\n",
       "<a href=\"#\" class=\"nd\">855797</a>\n",
       "\n",
       "\n",
       "\n",
       "<div class=\"patom  \" >\n",
       "\n",
       "    <div class=\"phrase \" >\n",
       "        <a href=\"https://shebanq.ancient-data.org/hebrew/text?book=Iob&chapter=14&verse=13&version=c&mr=m&qw=q&tp=txt_p&tr=hb&wget=v&qget=v&nget=vt\" title=\"Job 14:13\" sec=\"Job 14:13\">phrase</a> <a href=\"#\" class=\"nd\">855797</a>  <span class=\"function\">Pred</span> <span class=\"typ\">VP</span>\n",
       "    </div>\n",
       "    <div class=\"atoms\">\n",
       "\n",
       "<div class=\"word  \" >\n",
       "<a href=\"#\" class=\"nd\">339649</a>\n",
       "<div class=\"h\"><a target=\"_blank\" href=\"https://shebanq.ancient-data.org/hebrew/word?version=c&id=1OD\" title=\"show this lexeme in SHEBANQ\">עַד־</a></div>\n",
       "<div class=\"features\"> <span class=\"pdp\"><a href=\"https://shebanq.ancient-data.org/hebrew/text?book=Iob&chapter=14&verse=13&version=c&mr=m&qw=q&tp=txt_p&tr=hb&wget=v&qget=v&nget=vt\" title=\"Job 14:13\" sec=\"Job 14:13\">prep</a></span> <span class=\"gloss\">unto</span></div>\n",
       "\n",
       "\n",
       "</div>\n",
       "\n",
       "<div class=\"word  hl\" >\n",
       "<a href=\"#\" class=\"nd\">339650</a>\n",
       "<div class=\"h\"><a target=\"_blank\" href=\"https://shebanq.ancient-data.org/hebrew/word?version=c&id=1CWBv\" title=\"show this lexeme in SHEBANQ\">שׁ֣וּב </a></div>\n",
       "<div class=\"features\"> <span class=\"pdp\"><a href=\"https://shebanq.ancient-data.org/hebrew/text?book=Iob&chapter=14&verse=13&version=c&mr=m&qw=q&tp=txt_p&tr=hb&wget=v&qget=v&nget=vt\" title=\"Job 14:13\" sec=\"Job 14:13\">verb</a></span> <span class=\"gloss\">return</span> <span class=\"vs\">qal</span> <span class=\"vt\">infc</span></div>\n",
       "\n",
       "\n",
       "</div>\n",
       "\n",
       "\n",
       "    </div>\n",
       "\n",
       "\n",
       "</div>\n",
       "\n",
       "\n",
       "</div>\n"
      ],
      "text/plain": [
       "<IPython.core.display.HTML object>"
      ]
     },
     "metadata": {},
     "output_type": "display_data"
    },
    {
     "data": {
      "text/markdown": [
       "\n",
       "\n",
       "**phrase** *22*\n",
       "\n"
      ],
      "text/plain": [
       "<IPython.core.display.Markdown object>"
      ]
     },
     "metadata": {},
     "output_type": "display_data"
    },
    {
     "data": {
      "text/html": [
       "<a href=\"https://shebanq.ancient-data.org/hebrew/text?book=Genesis&chapter=12&verse=18&version=c&mr=m&qw=q&tp=txt_p&tr=hb&wget=v&qget=v&nget=vt\" title=\"show this passage in SHEBANQ\" sec=\"Genesis 12:18\">Genesis 12:18</a>\n",
       "<div class=\"atoms  \" >\n",
       "<a href=\"#\" class=\"nd\">654726</a>\n",
       "\n",
       "\n",
       "\n",
       "<div class=\"patom  \" >\n",
       "\n",
       "    <div class=\"phrase \" >\n",
       "        <a href=\"https://shebanq.ancient-data.org/hebrew/text?book=Genesis&chapter=12&verse=18&version=c&mr=m&qw=q&tp=txt_p&tr=hb&wget=v&qget=v&nget=vt\" title=\"Genesis 12:18\" sec=\"Genesis 12:18\">phrase</a> <a href=\"#\" class=\"nd\">654726</a>  <span class=\"function\">Objc</span> <span class=\"typ\">IPrP</span>\n",
       "    </div>\n",
       "    <div class=\"atoms\">\n",
       "\n",
       "<div class=\"word  hl\" >\n",
       "<a href=\"#\" class=\"nd\">5822</a>\n",
       "<div class=\"h\"><a target=\"_blank\" href=\"https://shebanq.ancient-data.org/hebrew/word?version=c&id=1MH\" title=\"show this lexeme in SHEBANQ\">מַה־</a></div>\n",
       "<div class=\"features\"> <span class=\"pdp\"><a href=\"https://shebanq.ancient-data.org/hebrew/text?book=Genesis&chapter=12&verse=18&version=c&mr=m&qw=q&tp=txt_p&tr=hb&wget=v&qget=v&nget=vt\" title=\"Genesis 12:18\" sec=\"Genesis 12:18\">prin</a></span> <span class=\"gloss\">what</span></div>\n",
       "\n",
       "\n",
       "</div>\n",
       "\n",
       "<div class=\"word  \" >\n",
       "<a href=\"#\" class=\"nd\">5823</a>\n",
       "<div class=\"h\"><a target=\"_blank\" href=\"https://shebanq.ancient-data.org/hebrew/word?version=c&id=1ZAT\" title=\"show this lexeme in SHEBANQ\">זֹּ֖את </a></div>\n",
       "<div class=\"features\"> <span class=\"pdp\"><a href=\"https://shebanq.ancient-data.org/hebrew/text?book=Genesis&chapter=12&verse=18&version=c&mr=m&qw=q&tp=txt_p&tr=hb&wget=v&qget=v&nget=vt\" title=\"Genesis 12:18\" sec=\"Genesis 12:18\">prde</a></span> <span class=\"gloss\">this</span></div>\n",
       "\n",
       "\n",
       "</div>\n",
       "\n",
       "\n",
       "    </div>\n",
       "\n",
       "\n",
       "</div>\n",
       "\n",
       "\n",
       "</div>\n"
      ],
      "text/plain": [
       "<IPython.core.display.HTML object>"
      ]
     },
     "metadata": {},
     "output_type": "display_data"
    },
    {
     "data": {
      "text/markdown": [
       "\n",
       "\n",
       "**phrase** *23*\n",
       "\n"
      ],
      "text/plain": [
       "<IPython.core.display.Markdown object>"
      ]
     },
     "metadata": {},
     "output_type": "display_data"
    },
    {
     "data": {
      "text/html": [
       "<a href=\"https://shebanq.ancient-data.org/hebrew/text?book=Proverbia&chapter=17&verse=26&version=c&mr=m&qw=q&tp=txt_p&tr=hb&wget=v&qget=v&nget=vt\" title=\"show this passage in SHEBANQ\" sec=\"Proverbs 17:26\">Proverbs 17:26</a>\n",
       "<div class=\"atoms  \" >\n",
       "<a href=\"#\" class=\"nd\">864613</a>\n",
       "\n",
       "\n",
       "\n",
       "<div class=\"patom  \" >\n",
       "\n",
       "    <div class=\"phrase \" >\n",
       "        <a href=\"https://shebanq.ancient-data.org/hebrew/text?book=Proverbia&chapter=17&verse=26&version=c&mr=m&qw=q&tp=txt_p&tr=hb&wget=v&qget=v&nget=vt\" title=\"Proverbs 17:26\" sec=\"Proverbs 17:26\">phrase</a> <a href=\"#\" class=\"nd\">864613</a>  <span class=\"function\">Adju</span> <span class=\"typ\">PP</span>\n",
       "    </div>\n",
       "    <div class=\"atoms\">\n",
       "\n",
       "<div class=\"word  hl\" >\n",
       "<a href=\"#\" class=\"nd\">351598</a>\n",
       "<div class=\"h\"><a target=\"_blank\" href=\"https://shebanq.ancient-data.org/hebrew/word?version=c&id=1OL\" title=\"show this lexeme in SHEBANQ\">עַל־</a></div>\n",
       "<div class=\"features\"> <span class=\"pdp\"><a href=\"https://shebanq.ancient-data.org/hebrew/text?book=Proverbia&chapter=17&verse=26&version=c&mr=m&qw=q&tp=txt_p&tr=hb&wget=v&qget=v&nget=vt\" title=\"Proverbs 17:26\" sec=\"Proverbs 17:26\">prep</a></span> <span class=\"gloss\">upon</span></div>\n",
       "\n",
       "\n",
       "</div>\n",
       "\n",
       "<div class=\"word  \" >\n",
       "<a href=\"#\" class=\"nd\">351599</a>\n",
       "<div class=\"h\"><a target=\"_blank\" href=\"https://shebanq.ancient-data.org/hebrew/word?version=c&id=1JCRin\" title=\"show this lexeme in SHEBANQ\">יֹֽשֶׁר׃ </a></div>\n",
       "<div class=\"features\"> <span class=\"pdp\"><a href=\"https://shebanq.ancient-data.org/hebrew/text?book=Proverbia&chapter=17&verse=26&version=c&mr=m&qw=q&tp=txt_p&tr=hb&wget=v&qget=v&nget=vt\" title=\"Proverbs 17:26\" sec=\"Proverbs 17:26\">subs</a></span> <span class=\"gloss\">uprightness</span></div>\n",
       "\n",
       "\n",
       "</div>\n",
       "\n",
       "\n",
       "    </div>\n",
       "\n",
       "\n",
       "</div>\n",
       "\n",
       "\n",
       "</div>\n"
      ],
      "text/plain": [
       "<IPython.core.display.HTML object>"
      ]
     },
     "metadata": {},
     "output_type": "display_data"
    },
    {
     "data": {
      "text/markdown": [
       "\n",
       "\n",
       "**phrase** *24*\n",
       "\n"
      ],
      "text/plain": [
       "<IPython.core.display.Markdown object>"
      ]
     },
     "metadata": {},
     "output_type": "display_data"
    },
    {
     "data": {
      "text/html": [
       "<a href=\"https://shebanq.ancient-data.org/hebrew/text?book=Iob&chapter=1&verse=1&version=c&mr=m&qw=q&tp=txt_p&tr=hb&wget=v&qget=v&nget=vt\" title=\"show this passage in SHEBANQ\" sec=\"Job 1:1\">Job 1:1</a>\n",
       "<div class=\"atoms  \" >\n",
       "<a href=\"#\" class=\"nd\">853056</a>\n",
       "\n",
       "\n",
       "\n",
       "<div class=\"patom  \" >\n",
       "\n",
       "    <div class=\"phrase \" >\n",
       "        <a href=\"https://shebanq.ancient-data.org/hebrew/text?book=Iob&chapter=1&verse=1&version=c&mr=m&qw=q&tp=txt_p&tr=hb&wget=v&qget=v&nget=vt\" title=\"Job 1:1\" sec=\"Job 1:1\">phrase</a> <a href=\"#\" class=\"nd\">853056</a>  <span class=\"function\">Subj</span> <span class=\"typ\">NP</span>\n",
       "    </div>\n",
       "    <div class=\"atoms\">\n",
       "\n",
       "<div class=\"word  \" >\n",
       "<a href=\"#\" class=\"nd\">336030</a>\n",
       "<div class=\"h\"><a target=\"_blank\" href=\"https://shebanq.ancient-data.org/hebrew/word?version=c&id=1H\" title=\"show this lexeme in SHEBANQ\">הָ</a></div>\n",
       "<div class=\"features\"> <span class=\"pdp\"><a href=\"https://shebanq.ancient-data.org/hebrew/text?book=Iob&chapter=1&verse=1&version=c&mr=m&qw=q&tp=txt_p&tr=hb&wget=v&qget=v&nget=vt\" title=\"Job 1:1\" sec=\"Job 1:1\">art</a></span> <span class=\"gloss\">the</span></div>\n",
       "\n",
       "\n",
       "</div>\n",
       "\n",
       "<div class=\"word  hl\" >\n",
       "<a href=\"#\" class=\"nd\">336031</a>\n",
       "<div class=\"h\"><a target=\"_blank\" href=\"https://shebanq.ancient-data.org/hebrew/word?version=c&id=1AJCn\" title=\"show this lexeme in SHEBANQ\">אִ֣ישׁ </a></div>\n",
       "<div class=\"features\"> <span class=\"pdp\"><a href=\"https://shebanq.ancient-data.org/hebrew/text?book=Iob&chapter=1&verse=1&version=c&mr=m&qw=q&tp=txt_p&tr=hb&wget=v&qget=v&nget=vt\" title=\"Job 1:1\" sec=\"Job 1:1\">subs</a></span> <span class=\"gloss\">man</span></div>\n",
       "\n",
       "\n",
       "</div>\n",
       "\n",
       "<div class=\"word  \" >\n",
       "<a href=\"#\" class=\"nd\">336032</a>\n",
       "<div class=\"h\"><a target=\"_blank\" href=\"https://shebanq.ancient-data.org/hebrew/word?version=c&id=1H\" title=\"show this lexeme in SHEBANQ\">הַ</a></div>\n",
       "<div class=\"features\"> <span class=\"pdp\"><a href=\"https://shebanq.ancient-data.org/hebrew/text?book=Iob&chapter=1&verse=1&version=c&mr=m&qw=q&tp=txt_p&tr=hb&wget=v&qget=v&nget=vt\" title=\"Job 1:1\" sec=\"Job 1:1\">art</a></span> <span class=\"gloss\">the</span></div>\n",
       "\n",
       "\n",
       "</div>\n",
       "\n",
       "<div class=\"word  \" >\n",
       "<a href=\"#\" class=\"nd\">336033</a>\n",
       "<div class=\"h\"><a target=\"_blank\" href=\"https://shebanq.ancient-data.org/hebrew/word?version=c&id=1HWA\" title=\"show this lexeme in SHEBANQ\">ה֗וּא </a></div>\n",
       "<div class=\"features\"> <span class=\"pdp\"><a href=\"https://shebanq.ancient-data.org/hebrew/text?book=Iob&chapter=1&verse=1&version=c&mr=m&qw=q&tp=txt_p&tr=hb&wget=v&qget=v&nget=vt\" title=\"Job 1:1\" sec=\"Job 1:1\">prde</a></span> <span class=\"gloss\">he</span></div>\n",
       "\n",
       "\n",
       "</div>\n",
       "\n",
       "\n",
       "    </div>\n",
       "\n",
       "\n",
       "</div>\n",
       "\n",
       "\n",
       "</div>\n"
      ],
      "text/plain": [
       "<IPython.core.display.HTML object>"
      ]
     },
     "metadata": {},
     "output_type": "display_data"
    },
    {
     "data": {
      "text/markdown": [
       "\n",
       "\n",
       "**phrase** *25*\n",
       "\n"
      ],
      "text/plain": [
       "<IPython.core.display.Markdown object>"
      ]
     },
     "metadata": {},
     "output_type": "display_data"
    },
    {
     "data": {
      "text/html": [
       "<a href=\"https://shebanq.ancient-data.org/hebrew/text?book=Jeremia&chapter=23&verse=25&version=c&mr=m&qw=q&tp=txt_p&tr=hb&wget=v&qget=v&nget=vt\" title=\"show this passage in SHEBANQ\" sec=\"Jeremiah 23:25\">Jeremiah 23:25</a>\n",
       "<div class=\"atoms  \" >\n",
       "<a href=\"#\" class=\"nd\">796636</a>\n",
       "\n",
       "\n",
       "\n",
       "<div class=\"patom  \" >\n",
       "\n",
       "    <div class=\"phrase \" >\n",
       "        <a href=\"https://shebanq.ancient-data.org/hebrew/text?book=Jeremia&chapter=23&verse=25&version=c&mr=m&qw=q&tp=txt_p&tr=hb&wget=v&qget=v&nget=vt\" title=\"Jeremiah 23:25\" sec=\"Jeremiah 23:25\">phrase</a> <a href=\"#\" class=\"nd\">796636</a>  <span class=\"function\">Pred</span> <span class=\"typ\">VP</span>\n",
       "    </div>\n",
       "    <div class=\"atoms\">\n",
       "\n",
       "<div class=\"word  \" >\n",
       "<a href=\"#\" class=\"nd\">246424</a>\n",
       "<div class=\"h\"><a target=\"_blank\" href=\"https://shebanq.ancient-data.org/hebrew/word?version=c&id=1L\" title=\"show this lexeme in SHEBANQ\">לֵ</a></div>\n",
       "<div class=\"features\"> <span class=\"pdp\"><a href=\"https://shebanq.ancient-data.org/hebrew/text?book=Jeremia&chapter=23&verse=25&version=c&mr=m&qw=q&tp=txt_p&tr=hb&wget=v&qget=v&nget=vt\" title=\"Jeremiah 23:25\" sec=\"Jeremiah 23:25\">prep</a></span> <span class=\"gloss\">to</span></div>\n",
       "\n",
       "\n",
       "</div>\n",
       "\n",
       "<div class=\"word  hl\" >\n",
       "<a href=\"#\" class=\"nd\">246425</a>\n",
       "<div class=\"h\"><a target=\"_blank\" href=\"https://shebanq.ancient-data.org/hebrew/word?version=c&id=1AMRv\" title=\"show this lexeme in SHEBANQ\">אמֹ֑ר </a></div>\n",
       "<div class=\"features\"> <span class=\"pdp\"><a href=\"https://shebanq.ancient-data.org/hebrew/text?book=Jeremia&chapter=23&verse=25&version=c&mr=m&qw=q&tp=txt_p&tr=hb&wget=v&qget=v&nget=vt\" title=\"Jeremiah 23:25\" sec=\"Jeremiah 23:25\">verb</a></span> <span class=\"gloss\">say</span> <span class=\"vs\">qal</span> <span class=\"vt\">infc</span></div>\n",
       "\n",
       "\n",
       "</div>\n",
       "\n",
       "\n",
       "    </div>\n",
       "\n",
       "\n",
       "</div>\n",
       "\n",
       "\n",
       "</div>\n"
      ],
      "text/plain": [
       "<IPython.core.display.HTML object>"
      ]
     },
     "metadata": {},
     "output_type": "display_data"
    },
    {
     "data": {
      "text/markdown": [
       "\n",
       "\n",
       "**phrase** *26*\n",
       "\n"
      ],
      "text/plain": [
       "<IPython.core.display.Markdown object>"
      ]
     },
     "metadata": {},
     "output_type": "display_data"
    },
    {
     "data": {
      "text/html": [
       "<a href=\"https://shebanq.ancient-data.org/hebrew/text?book=Psalmi&chapter=68&verse=35&version=c&mr=m&qw=q&tp=txt_p&tr=hb&wget=v&qget=v&nget=vt\" title=\"show this passage in SHEBANQ\" sec=\"Psalms 68:35\">Psalms 68:35</a>\n",
       "<div class=\"atoms  \" >\n",
       "<a href=\"#\" class=\"nd\">843099</a>\n",
       "\n",
       "\n",
       "\n",
       "<div class=\"patom  \" >\n",
       "\n",
       "    <div class=\"phrase \" >\n",
       "        <a href=\"https://shebanq.ancient-data.org/hebrew/text?book=Psalmi&chapter=68&verse=35&version=c&mr=m&qw=q&tp=txt_p&tr=hb&wget=v&qget=v&nget=vt\" title=\"Psalms 68:35\" sec=\"Psalms 68:35\">phrase</a> <a href=\"#\" class=\"nd\">843099</a>  <span class=\"function\">Cmpl</span> <span class=\"typ\">PP</span>\n",
       "    </div>\n",
       "    <div class=\"atoms\">\n",
       "\n",
       "<div class=\"word  hl\" >\n",
       "<a href=\"#\" class=\"nd\">321597</a>\n",
       "<div class=\"h\"><a target=\"_blank\" href=\"https://shebanq.ancient-data.org/hebrew/word?version=c&id=1L\" title=\"show this lexeme in SHEBANQ\">לֵֽ</a></div>\n",
       "<div class=\"features\"> <span class=\"pdp\"><a href=\"https://shebanq.ancient-data.org/hebrew/text?book=Psalmi&chapter=68&verse=35&version=c&mr=m&qw=q&tp=txt_p&tr=hb&wget=v&qget=v&nget=vt\" title=\"Psalms 68:35\" sec=\"Psalms 68:35\">prep</a></span> <span class=\"gloss\">to</span></div>\n",
       "\n",
       "\n",
       "</div>\n",
       "\n",
       "<div class=\"word  \" >\n",
       "<a href=\"#\" class=\"nd\">321598</a>\n",
       "<div class=\"h\"><a target=\"_blank\" href=\"https://shebanq.ancient-data.org/hebrew/word?version=c&id=1ALHJMn\" title=\"show this lexeme in SHEBANQ\">אלֹ֫הִ֥ים </a></div>\n",
       "<div class=\"features\"> <span class=\"pdp\"><a href=\"https://shebanq.ancient-data.org/hebrew/text?book=Psalmi&chapter=68&verse=35&version=c&mr=m&qw=q&tp=txt_p&tr=hb&wget=v&qget=v&nget=vt\" title=\"Psalms 68:35\" sec=\"Psalms 68:35\">subs</a></span> <span class=\"gloss\">god(s)</span></div>\n",
       "\n",
       "\n",
       "</div>\n",
       "\n",
       "\n",
       "    </div>\n",
       "\n",
       "\n",
       "</div>\n",
       "\n",
       "\n",
       "</div>\n"
      ],
      "text/plain": [
       "<IPython.core.display.HTML object>"
      ]
     },
     "metadata": {},
     "output_type": "display_data"
    },
    {
     "data": {
      "text/markdown": [
       "\n",
       "\n",
       "**phrase** *27*\n",
       "\n"
      ],
      "text/plain": [
       "<IPython.core.display.Markdown object>"
      ]
     },
     "metadata": {},
     "output_type": "display_data"
    },
    {
     "data": {
      "text/html": [
       "<a href=\"https://shebanq.ancient-data.org/hebrew/text?book=Samuel_II&chapter=6&verse=8&version=c&mr=m&qw=q&tp=txt_p&tr=hb&wget=v&qget=v&nget=vt\" title=\"show this passage in SHEBANQ\" sec=\"2_Samuel 6:8\">2_Samuel 6:8</a>\n",
       "<div class=\"atoms  \" >\n",
       "<a href=\"#\" class=\"nd\">745660</a>\n",
       "\n",
       "\n",
       "\n",
       "<div class=\"patom  \" >\n",
       "\n",
       "    <div class=\"phrase \" >\n",
       "        <a href=\"https://shebanq.ancient-data.org/hebrew/text?book=Samuel_II&chapter=6&verse=8&version=c&mr=m&qw=q&tp=txt_p&tr=hb&wget=v&qget=v&nget=vt\" title=\"2_Samuel 6:8\" sec=\"2_Samuel 6:8\">phrase</a> <a href=\"#\" class=\"nd\">745660</a>  <span class=\"function\">Conj</span> <span class=\"typ\">CP</span>\n",
       "    </div>\n",
       "    <div class=\"atoms\">\n",
       "\n",
       "<div class=\"word  hl\" >\n",
       "<a href=\"#\" class=\"nd\">163583</a>\n",
       "<div class=\"h\"><a target=\"_blank\" href=\"https://shebanq.ancient-data.org/hebrew/word?version=c&id=1OL\" title=\"show this lexeme in SHEBANQ\">עַל֩ </a></div>\n",
       "<div class=\"features\"> <span class=\"pdp\"><a href=\"https://shebanq.ancient-data.org/hebrew/text?book=Samuel_II&chapter=6&verse=8&version=c&mr=m&qw=q&tp=txt_p&tr=hb&wget=v&qget=v&nget=vt\" title=\"2_Samuel 6:8\" sec=\"2_Samuel 6:8\">prep</a></span> <span class=\"gloss\">upon</span></div>\n",
       "\n",
       "\n",
       "</div>\n",
       "\n",
       "<div class=\"word  \" >\n",
       "<a href=\"#\" class=\"nd\">163584</a>\n",
       "<div class=\"h\"><a target=\"_blank\" href=\"https://shebanq.ancient-data.org/hebrew/word?version=c&id=1ACR\" title=\"show this lexeme in SHEBANQ\">אֲשֶׁ֨ר </a></div>\n",
       "<div class=\"features\"> <span class=\"pdp\"><a href=\"https://shebanq.ancient-data.org/hebrew/text?book=Samuel_II&chapter=6&verse=8&version=c&mr=m&qw=q&tp=txt_p&tr=hb&wget=v&qget=v&nget=vt\" title=\"2_Samuel 6:8\" sec=\"2_Samuel 6:8\">conj</a></span> <span class=\"gloss\">&lt;relative></span></div>\n",
       "\n",
       "\n",
       "</div>\n",
       "\n",
       "\n",
       "    </div>\n",
       "\n",
       "\n",
       "</div>\n",
       "\n",
       "\n",
       "</div>\n"
      ],
      "text/plain": [
       "<IPython.core.display.HTML object>"
      ]
     },
     "metadata": {},
     "output_type": "display_data"
    },
    {
     "data": {
      "text/markdown": [
       "\n",
       "\n",
       "**phrase** *28*\n",
       "\n"
      ],
      "text/plain": [
       "<IPython.core.display.Markdown object>"
      ]
     },
     "metadata": {},
     "output_type": "display_data"
    },
    {
     "data": {
      "text/html": [
       "<a href=\"https://shebanq.ancient-data.org/hebrew/text?book=Iob&chapter=28&verse=20&version=c&mr=m&qw=q&tp=txt_p&tr=hb&wget=v&qget=v&nget=vt\" title=\"show this passage in SHEBANQ\" sec=\"Job 28:20\">Job 28:20</a>\n",
       "<div class=\"atoms  \" >\n",
       "<a href=\"#\" class=\"nd\">858264</a>\n",
       "\n",
       "\n",
       "\n",
       "<div class=\"patom  \" >\n",
       "\n",
       "    <div class=\"phrase \" >\n",
       "        <a href=\"https://shebanq.ancient-data.org/hebrew/text?book=Iob&chapter=28&verse=20&version=c&mr=m&qw=q&tp=txt_p&tr=hb&wget=v&qget=v&nget=vt\" title=\"Job 28:20\" sec=\"Job 28:20\">phrase</a> <a href=\"#\" class=\"nd\">858264</a>  <span class=\"function\">PreC</span> <span class=\"typ\">InrP</span>\n",
       "    </div>\n",
       "    <div class=\"atoms\">\n",
       "\n",
       "<div class=\"word  hl\" >\n",
       "<a href=\"#\" class=\"nd\">342779</a>\n",
       "<div class=\"h\"><a target=\"_blank\" href=\"https://shebanq.ancient-data.org/hebrew/word?version=c&id=1AJ\" title=\"show this lexeme in SHEBANQ\">אֵ֥י </a></div>\n",
       "<div class=\"features\"> <span class=\"pdp\"><a href=\"https://shebanq.ancient-data.org/hebrew/text?book=Iob&chapter=28&verse=20&version=c&mr=m&qw=q&tp=txt_p&tr=hb&wget=v&qget=v&nget=vt\" title=\"Job 28:20\" sec=\"Job 28:20\">inrg</a></span> <span class=\"gloss\">where</span></div>\n",
       "\n",
       "\n",
       "</div>\n",
       "\n",
       "<div class=\"word  \" >\n",
       "<a href=\"#\" class=\"nd\">342780</a>\n",
       "<div class=\"h\"><a target=\"_blank\" href=\"https://shebanq.ancient-data.org/hebrew/word?version=c&id=1ZH\" title=\"show this lexeme in SHEBANQ\">זֶ֝֗ה </a></div>\n",
       "<div class=\"features\"> <span class=\"pdp\"><a href=\"https://shebanq.ancient-data.org/hebrew/text?book=Iob&chapter=28&verse=20&version=c&mr=m&qw=q&tp=txt_p&tr=hb&wget=v&qget=v&nget=vt\" title=\"Job 28:20\" sec=\"Job 28:20\">prde</a></span> <span class=\"gloss\">this</span></div>\n",
       "\n",
       "\n",
       "</div>\n",
       "\n",
       "\n",
       "    </div>\n",
       "\n",
       "\n",
       "</div>\n",
       "\n",
       "\n",
       "</div>\n"
      ],
      "text/plain": [
       "<IPython.core.display.HTML object>"
      ]
     },
     "metadata": {},
     "output_type": "display_data"
    },
    {
     "data": {
      "text/markdown": [
       "\n",
       "\n",
       "**phrase** *29*\n",
       "\n"
      ],
      "text/plain": [
       "<IPython.core.display.Markdown object>"
      ]
     },
     "metadata": {},
     "output_type": "display_data"
    },
    {
     "data": {
      "text/html": [
       "<a href=\"https://shebanq.ancient-data.org/hebrew/text?book=Chronica_II&chapter=26&verse=20&version=c&mr=m&qw=q&tp=txt_p&tr=hb&wget=v&qget=v&nget=vt\" title=\"show this passage in SHEBANQ\" sec=\"2_Chronicles 26:20\">2_Chronicles 26:20</a>\n",
       "<div class=\"atoms  \" >\n",
       "<a href=\"#\" class=\"nd\">901547</a>\n",
       "\n",
       "\n",
       "\n",
       "<div class=\"patom  \" >\n",
       "\n",
       "    <div class=\"phrase \" >\n",
       "        <a href=\"https://shebanq.ancient-data.org/hebrew/text?book=Chronica_II&chapter=26&verse=20&version=c&mr=m&qw=q&tp=txt_p&tr=hb&wget=v&qget=v&nget=vt\" title=\"2_Chronicles 26:20\" sec=\"2_Chronicles 26:20\">phrase</a> <a href=\"#\" class=\"nd\">901547</a>  <span class=\"function\">Subj</span> <span class=\"typ\">PPrP</span>\n",
       "    </div>\n",
       "    <div class=\"atoms\">\n",
       "\n",
       "<div class=\"word  \" >\n",
       "<a href=\"#\" class=\"nd\">420065</a>\n",
       "<div class=\"h\"><a target=\"_blank\" href=\"https://shebanq.ancient-data.org/hebrew/word?version=c&id=1GM\" title=\"show this lexeme in SHEBANQ\">גַם־</a></div>\n",
       "<div class=\"features\"> <span class=\"pdp\"><a href=\"https://shebanq.ancient-data.org/hebrew/text?book=Chronica_II&chapter=26&verse=20&version=c&mr=m&qw=q&tp=txt_p&tr=hb&wget=v&qget=v&nget=vt\" title=\"2_Chronicles 26:20\" sec=\"2_Chronicles 26:20\">advb</a></span> <span class=\"gloss\">even</span></div>\n",
       "\n",
       "\n",
       "</div>\n",
       "\n",
       "<div class=\"word  hl\" >\n",
       "<a href=\"#\" class=\"nd\">420066</a>\n",
       "<div class=\"h\"><a target=\"_blank\" href=\"https://shebanq.ancient-data.org/hebrew/word?version=c&id=1HWA\" title=\"show this lexeme in SHEBANQ\">הוּא֙ </a></div>\n",
       "<div class=\"features\"> <span class=\"pdp\"><a href=\"https://shebanq.ancient-data.org/hebrew/text?book=Chronica_II&chapter=26&verse=20&version=c&mr=m&qw=q&tp=txt_p&tr=hb&wget=v&qget=v&nget=vt\" title=\"2_Chronicles 26:20\" sec=\"2_Chronicles 26:20\">prps</a></span> <span class=\"gloss\">he</span></div>\n",
       "\n",
       "\n",
       "</div>\n",
       "\n",
       "\n",
       "    </div>\n",
       "\n",
       "\n",
       "</div>\n",
       "\n",
       "\n",
       "</div>\n"
      ],
      "text/plain": [
       "<IPython.core.display.HTML object>"
      ]
     },
     "metadata": {},
     "output_type": "display_data"
    },
    {
     "data": {
      "text/markdown": [
       "\n",
       "\n",
       "**phrase** *30*\n",
       "\n"
      ],
      "text/plain": [
       "<IPython.core.display.Markdown object>"
      ]
     },
     "metadata": {},
     "output_type": "display_data"
    },
    {
     "data": {
      "text/html": [
       "<a href=\"https://shebanq.ancient-data.org/hebrew/text?book=Ezechiel&chapter=46&verse=12&version=c&mr=m&qw=q&tp=txt_p&tr=hb&wget=v&qget=v&nget=vt\" title=\"show this passage in SHEBANQ\" sec=\"Ezekiel 46:12\">Ezekiel 46:12</a>\n",
       "<div class=\"atoms  \" >\n",
       "<a href=\"#\" class=\"nd\">821731</a>\n",
       "\n",
       "\n",
       "\n",
       "<div class=\"patom  \" >\n",
       "\n",
       "    <div class=\"phrase \" >\n",
       "        <a href=\"https://shebanq.ancient-data.org/hebrew/text?book=Ezechiel&chapter=46&verse=12&version=c&mr=m&qw=q&tp=txt_p&tr=hb&wget=v&qget=v&nget=vt\" title=\"Ezekiel 46:12\" sec=\"Ezekiel 46:12\">phrase</a> <a href=\"#\" class=\"nd\">821731</a>  <span class=\"function\">Objc</span> <span class=\"typ\">PP</span>\n",
       "    </div>\n",
       "    <div class=\"atoms\">\n",
       "\n",
       "<div class=\"word  hl\" >\n",
       "<a href=\"#\" class=\"nd\">289354</a>\n",
       "<div class=\"h\"><a target=\"_blank\" href=\"https://shebanq.ancient-data.org/hebrew/word?version=c&id=1AT\" title=\"show this lexeme in SHEBANQ\">אֶת </a></div>\n",
       "<div class=\"features\"> <span class=\"pdp\"><a href=\"https://shebanq.ancient-data.org/hebrew/text?book=Ezechiel&chapter=46&verse=12&version=c&mr=m&qw=q&tp=txt_p&tr=hb&wget=v&qget=v&nget=vt\" title=\"Ezekiel 46:12\" sec=\"Ezekiel 46:12\">prep</a></span> <span class=\"gloss\">&lt;object marker></span></div>\n",
       "\n",
       "\n",
       "</div>\n",
       "\n",
       "<div class=\"word  \" >\n",
       "<a href=\"#\" class=\"nd\">289355</a>\n",
       "<div class=\"h\"><a target=\"_blank\" href=\"https://shebanq.ancient-data.org/hebrew/word?version=c&id=1H\" title=\"show this lexeme in SHEBANQ\">הַ</a></div>\n",
       "<div class=\"features\"> <span class=\"pdp\"><a href=\"https://shebanq.ancient-data.org/hebrew/text?book=Ezechiel&chapter=46&verse=12&version=c&mr=m&qw=q&tp=txt_p&tr=hb&wget=v&qget=v&nget=vt\" title=\"Ezekiel 46:12\" sec=\"Ezekiel 46:12\">art</a></span> <span class=\"gloss\">the</span></div>\n",
       "\n",
       "\n",
       "</div>\n",
       "\n",
       "<div class=\"word  \" >\n",
       "<a href=\"#\" class=\"nd\">289356</a>\n",
       "<div class=\"h\"><a target=\"_blank\" href=\"https://shebanq.ancient-data.org/hebrew/word?version=c&id=1CORn\" title=\"show this lexeme in SHEBANQ\">שַּׁ֨עַר֙ </a></div>\n",
       "<div class=\"features\"> <span class=\"pdp\"><a href=\"https://shebanq.ancient-data.org/hebrew/text?book=Ezechiel&chapter=46&verse=12&version=c&mr=m&qw=q&tp=txt_p&tr=hb&wget=v&qget=v&nget=vt\" title=\"Ezekiel 46:12\" sec=\"Ezekiel 46:12\">subs</a></span> <span class=\"gloss\">gate</span></div>\n",
       "\n",
       "\n",
       "</div>\n",
       "\n",
       "\n",
       "    </div>\n",
       "\n",
       "\n",
       "</div>\n",
       "\n",
       "\n",
       "</div>\n"
      ],
      "text/plain": [
       "<IPython.core.display.HTML object>"
      ]
     },
     "metadata": {},
     "output_type": "display_data"
    },
    {
     "data": {
      "text/markdown": [
       "\n",
       "\n",
       "**phrase** *31*\n",
       "\n"
      ],
      "text/plain": [
       "<IPython.core.display.Markdown object>"
      ]
     },
     "metadata": {},
     "output_type": "display_data"
    },
    {
     "data": {
      "text/html": [
       "<a href=\"https://shebanq.ancient-data.org/hebrew/text?book=Amos&chapter=4&verse=7&version=c&mr=m&qw=q&tp=txt_p&tr=hb&wget=v&qget=v&nget=vt\" title=\"show this passage in SHEBANQ\" sec=\"Amos 4:7\">Amos 4:7</a>\n",
       "<div class=\"atoms  \" >\n",
       "<a href=\"#\" class=\"nd\">826194</a>\n",
       "\n",
       "\n",
       "\n",
       "<div class=\"patom  \" >\n",
       "\n",
       "    <div class=\"phrase \" >\n",
       "        <a href=\"https://shebanq.ancient-data.org/hebrew/text?book=Amos&chapter=4&verse=7&version=c&mr=m&qw=q&tp=txt_p&tr=hb&wget=v&qget=v&nget=vt\" title=\"Amos 4:7\" sec=\"Amos 4:7\">phrase</a> <a href=\"#\" class=\"nd\">826194</a>  <span class=\"function\">Subj</span> <span class=\"typ\">PPrP</span>\n",
       "    </div>\n",
       "    <div class=\"atoms\">\n",
       "\n",
       "<div class=\"word  \" >\n",
       "<a href=\"#\" class=\"nd\">296345</a>\n",
       "<div class=\"h\"><a target=\"_blank\" href=\"https://shebanq.ancient-data.org/hebrew/word?version=c&id=1GM\" title=\"show this lexeme in SHEBANQ\">גַ֣ם </a></div>\n",
       "<div class=\"features\"> <span class=\"pdp\"><a href=\"https://shebanq.ancient-data.org/hebrew/text?book=Amos&chapter=4&verse=7&version=c&mr=m&qw=q&tp=txt_p&tr=hb&wget=v&qget=v&nget=vt\" title=\"Amos 4:7\" sec=\"Amos 4:7\">advb</a></span> <span class=\"gloss\">even</span></div>\n",
       "\n",
       "\n",
       "</div>\n",
       "\n",
       "<div class=\"word  hl\" >\n",
       "<a href=\"#\" class=\"nd\">296346</a>\n",
       "<div class=\"h\"><a target=\"_blank\" href=\"https://shebanq.ancient-data.org/hebrew/word?version=c&id=1ANKJ\" title=\"show this lexeme in SHEBANQ\">אָנֹכִי֩ </a></div>\n",
       "<div class=\"features\"> <span class=\"pdp\"><a href=\"https://shebanq.ancient-data.org/hebrew/text?book=Amos&chapter=4&verse=7&version=c&mr=m&qw=q&tp=txt_p&tr=hb&wget=v&qget=v&nget=vt\" title=\"Amos 4:7\" sec=\"Amos 4:7\">prps</a></span> <span class=\"gloss\">i</span></div>\n",
       "\n",
       "\n",
       "</div>\n",
       "\n",
       "\n",
       "    </div>\n",
       "\n",
       "\n",
       "</div>\n",
       "\n",
       "\n",
       "</div>\n"
      ],
      "text/plain": [
       "<IPython.core.display.HTML object>"
      ]
     },
     "metadata": {},
     "output_type": "display_data"
    },
    {
     "data": {
      "text/markdown": [
       "\n",
       "\n",
       "**phrase** *32*\n",
       "\n"
      ],
      "text/plain": [
       "<IPython.core.display.Markdown object>"
      ]
     },
     "metadata": {},
     "output_type": "display_data"
    },
    {
     "data": {
      "text/html": [
       "<a href=\"https://shebanq.ancient-data.org/hebrew/text?book=Canticum&chapter=7&verse=8&version=c&mr=m&qw=q&tp=txt_p&tr=hb&wget=v&qget=v&nget=vt\" title=\"show this passage in SHEBANQ\" sec=\"Song_of_songs 7:8\">Song_of_songs 7:8</a>\n",
       "<div class=\"atoms  \" >\n",
       "<a href=\"#\" class=\"nd\">869662</a>\n",
       "\n",
       "\n",
       "\n",
       "<div class=\"patom  l \" >\n",
       "\n",
       "    <div class=\"phrase \" >\n",
       "        <a href=\"https://shebanq.ancient-data.org/hebrew/text?book=Canticum&chapter=7&verse=8&version=c&mr=m&qw=q&tp=txt_p&tr=hb&wget=v&qget=v&nget=vt\" title=\"Song_of_songs 7:8\" sec=\"Song_of_songs 7:8\">phrase</a> <a href=\"#\" class=\"nd\">869662</a>  <span class=\"function\">Subj</span> <span class=\"typ\">DPrP</span>\n",
       "    </div>\n",
       "    <div class=\"atoms\">\n",
       "\n",
       "<div class=\"word  hl\" >\n",
       "<a href=\"#\" class=\"nd\">358955</a>\n",
       "<div class=\"h\"><a target=\"_blank\" href=\"https://shebanq.ancient-data.org/hebrew/word?version=c&id=1ZAT\" title=\"show this lexeme in SHEBANQ\">זֹ֤את </a></div>\n",
       "<div class=\"features\"> <span class=\"pdp\"><a href=\"https://shebanq.ancient-data.org/hebrew/text?book=Canticum&chapter=7&verse=8&version=c&mr=m&qw=q&tp=txt_p&tr=hb&wget=v&qget=v&nget=vt\" title=\"Song_of_songs 7:8\" sec=\"Song_of_songs 7:8\">prde</a></span> <span class=\"gloss\">this</span></div>\n",
       "\n",
       "\n",
       "</div>\n",
       "\n",
       "\n",
       "    </div>\n",
       "\n",
       "\n",
       "</div>\n",
       "\n",
       "<div class=\"patom  r \" >\n",
       "\n",
       "    <div class=\"phrase \" >\n",
       "        <a href=\"https://shebanq.ancient-data.org/hebrew/text?book=Canticum&chapter=7&verse=8&version=c&mr=m&qw=q&tp=txt_p&tr=hb&wget=v&qget=v&nget=vt\" title=\"Song_of_songs 7:8\" sec=\"Song_of_songs 7:8\">phrase</a> <a href=\"#\" class=\"nd\">869662</a>  <span class=\"function\">Subj</span> <span class=\"typ\">DPrP|NP</span>\n",
       "    </div>\n",
       "    <div class=\"atoms\">\n",
       "\n",
       "<div class=\"word  \" >\n",
       "<a href=\"#\" class=\"nd\">358956</a>\n",
       "<div class=\"h\"><a target=\"_blank\" href=\"https://shebanq.ancient-data.org/hebrew/word?version=c&id=1QWMHn\" title=\"show this lexeme in SHEBANQ\">קֹֽומָתֵךְ֙ </a></div>\n",
       "<div class=\"features\"> <span class=\"pdp\"><a href=\"https://shebanq.ancient-data.org/hebrew/text?book=Canticum&chapter=7&verse=8&version=c&mr=m&qw=q&tp=txt_p&tr=hb&wget=v&qget=v&nget=vt\" title=\"Song_of_songs 7:8\" sec=\"Song_of_songs 7:8\">subs</a></span> <span class=\"gloss\">height</span></div>\n",
       "\n",
       "\n",
       "</div>\n",
       "\n",
       "\n",
       "    </div>\n",
       "\n",
       "\n",
       "</div>\n",
       "\n",
       "\n",
       "</div>\n"
      ],
      "text/plain": [
       "<IPython.core.display.HTML object>"
      ]
     },
     "metadata": {},
     "output_type": "display_data"
    },
    {
     "data": {
      "text/markdown": [
       "\n",
       "\n",
       "**phrase** *33*\n",
       "\n"
      ],
      "text/plain": [
       "<IPython.core.display.Markdown object>"
      ]
     },
     "metadata": {},
     "output_type": "display_data"
    },
    {
     "data": {
      "text/html": [
       "<a href=\"https://shebanq.ancient-data.org/hebrew/text?book=Ecclesiastes&chapter=3&verse=7&version=c&mr=m&qw=q&tp=txt_p&tr=hb&wget=v&qget=v&nget=vt\" title=\"show this passage in SHEBANQ\" sec=\"Ecclesiastes 3:7\">Ecclesiastes 3:7</a>\n",
       "<div class=\"atoms  \" >\n",
       "<a href=\"#\" class=\"nd\">870490</a>\n",
       "\n",
       "\n",
       "\n",
       "<div class=\"patom  \" >\n",
       "\n",
       "    <div class=\"phrase \" >\n",
       "        <a href=\"https://shebanq.ancient-data.org/hebrew/text?book=Ecclesiastes&chapter=3&verse=7&version=c&mr=m&qw=q&tp=txt_p&tr=hb&wget=v&qget=v&nget=vt\" title=\"Ecclesiastes 3:7\" sec=\"Ecclesiastes 3:7\">phrase</a> <a href=\"#\" class=\"nd\">870490</a>  <span class=\"function\">Pred</span> <span class=\"typ\">VP</span>\n",
       "    </div>\n",
       "    <div class=\"atoms\">\n",
       "\n",
       "<div class=\"word  \" >\n",
       "<a href=\"#\" class=\"nd\">360230</a>\n",
       "<div class=\"h\"><a target=\"_blank\" href=\"https://shebanq.ancient-data.org/hebrew/word?version=c&id=1L\" title=\"show this lexeme in SHEBANQ\">לְ</a></div>\n",
       "<div class=\"features\"> <span class=\"pdp\"><a href=\"https://shebanq.ancient-data.org/hebrew/text?book=Ecclesiastes&chapter=3&verse=7&version=c&mr=m&qw=q&tp=txt_p&tr=hb&wget=v&qget=v&nget=vt\" title=\"Ecclesiastes 3:7\" sec=\"Ecclesiastes 3:7\">prep</a></span> <span class=\"gloss\">to</span></div>\n",
       "\n",
       "\n",
       "</div>\n",
       "\n",
       "<div class=\"word  hl\" >\n",
       "<a href=\"#\" class=\"nd\">360231</a>\n",
       "<div class=\"h\"><a target=\"_blank\" href=\"https://shebanq.ancient-data.org/hebrew/word?version=c&id=1DBRv\" title=\"show this lexeme in SHEBANQ\">דַבֵּֽר׃ </a></div>\n",
       "<div class=\"features\"> <span class=\"pdp\"><a href=\"https://shebanq.ancient-data.org/hebrew/text?book=Ecclesiastes&chapter=3&verse=7&version=c&mr=m&qw=q&tp=txt_p&tr=hb&wget=v&qget=v&nget=vt\" title=\"Ecclesiastes 3:7\" sec=\"Ecclesiastes 3:7\">verb</a></span> <span class=\"gloss\">speak</span> <span class=\"vs\">piel</span> <span class=\"vt\">infc</span></div>\n",
       "\n",
       "\n",
       "</div>\n",
       "\n",
       "\n",
       "    </div>\n",
       "\n",
       "\n",
       "</div>\n",
       "\n",
       "\n",
       "</div>\n"
      ],
      "text/plain": [
       "<IPython.core.display.HTML object>"
      ]
     },
     "metadata": {},
     "output_type": "display_data"
    },
    {
     "data": {
      "text/markdown": [
       "\n",
       "\n",
       "**phrase** *34*\n",
       "\n"
      ],
      "text/plain": [
       "<IPython.core.display.Markdown object>"
      ]
     },
     "metadata": {},
     "output_type": "display_data"
    },
    {
     "data": {
      "text/html": [
       "<a href=\"https://shebanq.ancient-data.org/hebrew/text?book=Exodus&chapter=32&verse=1&version=c&mr=m&qw=q&tp=txt_p&tr=hb&wget=v&qget=v&nget=vt\" title=\"show this passage in SHEBANQ\" sec=\"Exodus 32:1\">Exodus 32:1</a>\n",
       "<div class=\"atoms  \" >\n",
       "<a href=\"#\" class=\"nd\">679804</a>\n",
       "\n",
       "\n",
       "\n",
       "<div class=\"patom  l \" >\n",
       "\n",
       "    <div class=\"phrase \" >\n",
       "        <a href=\"https://shebanq.ancient-data.org/hebrew/text?book=Exodus&chapter=32&verse=1&version=c&mr=m&qw=q&tp=txt_p&tr=hb&wget=v&qget=v&nget=vt\" title=\"Exodus 32:1\" sec=\"Exodus 32:1\">phrase</a> <a href=\"#\" class=\"nd\">679804</a>  <span class=\"function\">Frnt</span> <span class=\"typ\">DPrP</span>\n",
       "    </div>\n",
       "    <div class=\"atoms\">\n",
       "\n",
       "<div class=\"word  hl\" >\n",
       "<a href=\"#\" class=\"nd\">46534</a>\n",
       "<div class=\"h\"><a target=\"_blank\" href=\"https://shebanq.ancient-data.org/hebrew/word?version=c&id=1ZH\" title=\"show this lexeme in SHEBANQ\">זֶ֣ה׀ </a></div>\n",
       "<div class=\"features\"> <span class=\"pdp\"><a href=\"https://shebanq.ancient-data.org/hebrew/text?book=Exodus&chapter=32&verse=1&version=c&mr=m&qw=q&tp=txt_p&tr=hb&wget=v&qget=v&nget=vt\" title=\"Exodus 32:1\" sec=\"Exodus 32:1\">prde</a></span> <span class=\"gloss\">this</span></div>\n",
       "\n",
       "\n",
       "</div>\n",
       "\n",
       "\n",
       "    </div>\n",
       "\n",
       "\n",
       "</div>\n",
       "\n",
       "<div class=\"patom  r l \" >\n",
       "\n",
       "    <div class=\"phrase \" >\n",
       "        <a href=\"https://shebanq.ancient-data.org/hebrew/text?book=Exodus&chapter=32&verse=1&version=c&mr=m&qw=q&tp=txt_p&tr=hb&wget=v&qget=v&nget=vt\" title=\"Exodus 32:1\" sec=\"Exodus 32:1\">phrase</a> <a href=\"#\" class=\"nd\">679804</a>  <span class=\"function\">Frnt</span> <span class=\"typ\">DPrP|PrNP</span>\n",
       "    </div>\n",
       "    <div class=\"atoms\">\n",
       "\n",
       "<div class=\"word  \" >\n",
       "<a href=\"#\" class=\"nd\">46535</a>\n",
       "<div class=\"h\"><a target=\"_blank\" href=\"https://shebanq.ancient-data.org/hebrew/word?version=c&id=1MCHin\" title=\"show this lexeme in SHEBANQ\">מֹשֶׁ֣ה </a></div>\n",
       "<div class=\"features\"> <span class=\"pdp\"><a href=\"https://shebanq.ancient-data.org/hebrew/text?book=Exodus&chapter=32&verse=1&version=c&mr=m&qw=q&tp=txt_p&tr=hb&wget=v&qget=v&nget=vt\" title=\"Exodus 32:1\" sec=\"Exodus 32:1\">nmpr</a></span> <span class=\"gloss\">Moses</span></div>\n",
       "\n",
       "\n",
       "</div>\n",
       "\n",
       "\n",
       "    </div>\n",
       "\n",
       "\n",
       "</div>\n",
       "\n",
       "<div class=\"patom  r \" >\n",
       "\n",
       "    <div class=\"phrase \" >\n",
       "        <a href=\"https://shebanq.ancient-data.org/hebrew/text?book=Exodus&chapter=32&verse=1&version=c&mr=m&qw=q&tp=txt_p&tr=hb&wget=v&qget=v&nget=vt\" title=\"Exodus 32:1\" sec=\"Exodus 32:1\">phrase</a> <a href=\"#\" class=\"nd\">679804</a>  <span class=\"function\">Frnt</span> <span class=\"typ\">DPrP|NP</span>\n",
       "    </div>\n",
       "    <div class=\"atoms\">\n",
       "\n",
       "<div class=\"word  \" >\n",
       "<a href=\"#\" class=\"nd\">46536</a>\n",
       "<div class=\"h\"><a target=\"_blank\" href=\"https://shebanq.ancient-data.org/hebrew/word?version=c&id=1H\" title=\"show this lexeme in SHEBANQ\">הָ</a></div>\n",
       "<div class=\"features\"> <span class=\"pdp\"><a href=\"https://shebanq.ancient-data.org/hebrew/text?book=Exodus&chapter=32&verse=1&version=c&mr=m&qw=q&tp=txt_p&tr=hb&wget=v&qget=v&nget=vt\" title=\"Exodus 32:1\" sec=\"Exodus 32:1\">art</a></span> <span class=\"gloss\">the</span></div>\n",
       "\n",
       "\n",
       "</div>\n",
       "\n",
       "<div class=\"word  \" >\n",
       "<a href=\"#\" class=\"nd\">46537</a>\n",
       "<div class=\"h\"><a target=\"_blank\" href=\"https://shebanq.ancient-data.org/hebrew/word?version=c&id=1AJCn\" title=\"show this lexeme in SHEBANQ\">אִ֗ישׁ </a></div>\n",
       "<div class=\"features\"> <span class=\"pdp\"><a href=\"https://shebanq.ancient-data.org/hebrew/text?book=Exodus&chapter=32&verse=1&version=c&mr=m&qw=q&tp=txt_p&tr=hb&wget=v&qget=v&nget=vt\" title=\"Exodus 32:1\" sec=\"Exodus 32:1\">subs</a></span> <span class=\"gloss\">man</span></div>\n",
       "\n",
       "\n",
       "</div>\n",
       "\n",
       "\n",
       "    </div>\n",
       "\n",
       "\n",
       "</div>\n",
       "\n",
       "\n",
       "</div>\n"
      ],
      "text/plain": [
       "<IPython.core.display.HTML object>"
      ]
     },
     "metadata": {},
     "output_type": "display_data"
    },
    {
     "data": {
      "text/markdown": [
       "\n",
       "\n",
       "**phrase** *35*\n",
       "\n"
      ],
      "text/plain": [
       "<IPython.core.display.Markdown object>"
      ]
     },
     "metadata": {},
     "output_type": "display_data"
    },
    {
     "data": {
      "text/html": [
       "<a href=\"https://shebanq.ancient-data.org/hebrew/text?book=Jeremia&chapter=5&verse=7&version=c&mr=m&qw=q&tp=txt_p&tr=hb&wget=v&qget=v&nget=vt\" title=\"show this passage in SHEBANQ\" sec=\"Jeremiah 5:7\">Jeremiah 5:7</a>\n",
       "<div class=\"atoms  \" >\n",
       "<a href=\"#\" class=\"nd\">790819</a>\n",
       "\n",
       "\n",
       "\n",
       "<div class=\"patom  l \" >\n",
       "\n",
       "    <div class=\"phrase \" >\n",
       "        <a href=\"https://shebanq.ancient-data.org/hebrew/text?book=Jeremia&chapter=5&verse=7&version=c&mr=m&qw=q&tp=txt_p&tr=hb&wget=v&qget=v&nget=vt\" title=\"Jeremiah 5:7\" sec=\"Jeremiah 5:7\">phrase</a> <a href=\"#\" class=\"nd\">790819</a>  <span class=\"function\">Ques</span> <span class=\"typ\">InrP</span>\n",
       "    </div>\n",
       "    <div class=\"atoms\">\n",
       "\n",
       "<div class=\"word  hl\" >\n",
       "<a href=\"#\" class=\"nd\">237230</a>\n",
       "<div class=\"h\"><a target=\"_blank\" href=\"https://shebanq.ancient-data.org/hebrew/word?version=c&id=1AJ\" title=\"show this lexeme in SHEBANQ\">אֵ֤י </a></div>\n",
       "<div class=\"features\"> <span class=\"pdp\"><a href=\"https://shebanq.ancient-data.org/hebrew/text?book=Jeremia&chapter=5&verse=7&version=c&mr=m&qw=q&tp=txt_p&tr=hb&wget=v&qget=v&nget=vt\" title=\"Jeremiah 5:7\" sec=\"Jeremiah 5:7\">inrg</a></span> <span class=\"gloss\">where</span></div>\n",
       "\n",
       "\n",
       "</div>\n",
       "\n",
       "\n",
       "    </div>\n",
       "\n",
       "\n",
       "</div>\n",
       "\n",
       "<div class=\"patom  r \" >\n",
       "\n",
       "    <div class=\"phrase \" >\n",
       "        <a href=\"https://shebanq.ancient-data.org/hebrew/text?book=Jeremia&chapter=5&verse=7&version=c&mr=m&qw=q&tp=txt_p&tr=hb&wget=v&qget=v&nget=vt\" title=\"Jeremiah 5:7\" sec=\"Jeremiah 5:7\">phrase</a> <a href=\"#\" class=\"nd\">790819</a>  <span class=\"function\">Ques</span> <span class=\"typ\">InrP|PP</span>\n",
       "    </div>\n",
       "    <div class=\"atoms\">\n",
       "\n",
       "<div class=\"word  \" >\n",
       "<a href=\"#\" class=\"nd\">237231</a>\n",
       "<div class=\"h\"><a target=\"_blank\" href=\"https://shebanq.ancient-data.org/hebrew/word?version=c&id=1L\" title=\"show this lexeme in SHEBANQ\">לָ</a></div>\n",
       "<div class=\"features\"> <span class=\"pdp\"><a href=\"https://shebanq.ancient-data.org/hebrew/text?book=Jeremia&chapter=5&verse=7&version=c&mr=m&qw=q&tp=txt_p&tr=hb&wget=v&qget=v&nget=vt\" title=\"Jeremiah 5:7\" sec=\"Jeremiah 5:7\">prep</a></span> <span class=\"gloss\">to</span></div>\n",
       "\n",
       "\n",
       "</div>\n",
       "\n",
       "<div class=\"word  \" >\n",
       "<a href=\"#\" class=\"nd\">237232</a>\n",
       "<div class=\"h\"><a target=\"_blank\" href=\"https://shebanq.ancient-data.org/hebrew/word?version=c&id=1ZAT\" title=\"show this lexeme in SHEBANQ\">זֹאת֙ </a></div>\n",
       "<div class=\"features\"> <span class=\"pdp\"><a href=\"https://shebanq.ancient-data.org/hebrew/text?book=Jeremia&chapter=5&verse=7&version=c&mr=m&qw=q&tp=txt_p&tr=hb&wget=v&qget=v&nget=vt\" title=\"Jeremiah 5:7\" sec=\"Jeremiah 5:7\">prde</a></span> <span class=\"gloss\">this</span></div>\n",
       "\n",
       "\n",
       "</div>\n",
       "\n",
       "\n",
       "    </div>\n",
       "\n",
       "\n",
       "</div>\n",
       "\n",
       "\n",
       "</div>\n"
      ],
      "text/plain": [
       "<IPython.core.display.HTML object>"
      ]
     },
     "metadata": {},
     "output_type": "display_data"
    },
    {
     "data": {
      "text/markdown": [
       "\n",
       "\n",
       "**phrase** *36*\n",
       "\n"
      ],
      "text/plain": [
       "<IPython.core.display.Markdown object>"
      ]
     },
     "metadata": {},
     "output_type": "display_data"
    },
    {
     "data": {
      "text/html": [
       "<a href=\"https://shebanq.ancient-data.org/hebrew/text?book=Ecclesiastes&chapter=2&verse=23&version=c&mr=m&qw=q&tp=txt_p&tr=hb&wget=v&qget=v&nget=vt\" title=\"show this passage in SHEBANQ\" sec=\"Ecclesiastes 2:23\">Ecclesiastes 2:23</a>\n",
       "<div class=\"atoms  \" >\n",
       "<a href=\"#\" class=\"nd\">870377</a>\n",
       "\n",
       "\n",
       "\n",
       "<div class=\"patom  \" >\n",
       "\n",
       "    <div class=\"phrase \" >\n",
       "        <a href=\"https://shebanq.ancient-data.org/hebrew/text?book=Ecclesiastes&chapter=2&verse=23&version=c&mr=m&qw=q&tp=txt_p&tr=hb&wget=v&qget=v&nget=vt\" title=\"Ecclesiastes 2:23\" sec=\"Ecclesiastes 2:23\">phrase</a> <a href=\"#\" class=\"nd\">870377</a>  <span class=\"function\">Frnt</span> <span class=\"typ\">DPrP</span>\n",
       "    </div>\n",
       "    <div class=\"atoms\">\n",
       "\n",
       "<div class=\"word  \" >\n",
       "<a href=\"#\" class=\"nd\">360058</a>\n",
       "<div class=\"h\"><a target=\"_blank\" href=\"https://shebanq.ancient-data.org/hebrew/word?version=c&id=1GM\" title=\"show this lexeme in SHEBANQ\">גַּם־</a></div>\n",
       "<div class=\"features\"> <span class=\"pdp\"><a href=\"https://shebanq.ancient-data.org/hebrew/text?book=Ecclesiastes&chapter=2&verse=23&version=c&mr=m&qw=q&tp=txt_p&tr=hb&wget=v&qget=v&nget=vt\" title=\"Ecclesiastes 2:23\" sec=\"Ecclesiastes 2:23\">advb</a></span> <span class=\"gloss\">even</span></div>\n",
       "\n",
       "\n",
       "</div>\n",
       "\n",
       "<div class=\"word  hl\" >\n",
       "<a href=\"#\" class=\"nd\">360059</a>\n",
       "<div class=\"h\"><a target=\"_blank\" href=\"https://shebanq.ancient-data.org/hebrew/word?version=c&id=1ZH\" title=\"show this lexeme in SHEBANQ\">זֶ֖ה </a></div>\n",
       "<div class=\"features\"> <span class=\"pdp\"><a href=\"https://shebanq.ancient-data.org/hebrew/text?book=Ecclesiastes&chapter=2&verse=23&version=c&mr=m&qw=q&tp=txt_p&tr=hb&wget=v&qget=v&nget=vt\" title=\"Ecclesiastes 2:23\" sec=\"Ecclesiastes 2:23\">prde</a></span> <span class=\"gloss\">this</span></div>\n",
       "\n",
       "\n",
       "</div>\n",
       "\n",
       "\n",
       "    </div>\n",
       "\n",
       "\n",
       "</div>\n",
       "\n",
       "\n",
       "</div>\n"
      ],
      "text/plain": [
       "<IPython.core.display.HTML object>"
      ]
     },
     "metadata": {},
     "output_type": "display_data"
    },
    {
     "data": {
      "text/markdown": [
       "\n",
       "\n",
       "**phrase** *37*\n",
       "\n"
      ],
      "text/plain": [
       "<IPython.core.display.Markdown object>"
      ]
     },
     "metadata": {},
     "output_type": "display_data"
    },
    {
     "data": {
      "text/html": [
       "<a href=\"https://shebanq.ancient-data.org/hebrew/text?book=Jeremia&chapter=39&verse=9&version=c&mr=m&qw=q&tp=txt_p&tr=hb&wget=v&qget=v&nget=vt\" title=\"show this passage in SHEBANQ\" sec=\"Jeremiah 39:9\">Jeremiah 39:9</a>\n",
       "<div class=\"atoms  \" >\n",
       "<a href=\"#\" class=\"nd\">802067</a>\n",
       "\n",
       "\n",
       "\n",
       "<div class=\"patom  l \" >\n",
       "\n",
       "    <div class=\"phrase \" >\n",
       "        <a href=\"https://shebanq.ancient-data.org/hebrew/text?book=Jeremia&chapter=39&verse=9&version=c&mr=m&qw=q&tp=txt_p&tr=hb&wget=v&qget=v&nget=vt\" title=\"Jeremiah 39:9\" sec=\"Jeremiah 39:9\">phrase</a> <a href=\"#\" class=\"nd\">802067</a>  <span class=\"function\">Subj</span> <span class=\"typ\">PrNP</span>\n",
       "    </div>\n",
       "    <div class=\"atoms\">\n",
       "\n",
       "<div class=\"word  hl\" >\n",
       "<a href=\"#\" class=\"nd\">256572</a>\n",
       "<div class=\"h\"><a target=\"_blank\" href=\"https://shebanq.ancient-data.org/hebrew/word?version=c&id=1NBWZRADNn\" title=\"show this lexeme in SHEBANQ\">נְבֽוּזַר־אֲדָ֥ן </a></div>\n",
       "<div class=\"features\"> <span class=\"pdp\"><a href=\"https://shebanq.ancient-data.org/hebrew/text?book=Jeremia&chapter=39&verse=9&version=c&mr=m&qw=q&tp=txt_p&tr=hb&wget=v&qget=v&nget=vt\" title=\"Jeremiah 39:9\" sec=\"Jeremiah 39:9\">nmpr</a></span> <span class=\"gloss\">Nebuzaradan</span></div>\n",
       "\n",
       "\n",
       "</div>\n",
       "\n",
       "\n",
       "    </div>\n",
       "\n",
       "\n",
       "</div>\n",
       "\n",
       "<div class=\"patom  r \" >\n",
       "\n",
       "    <div class=\"phrase \" >\n",
       "        <a href=\"https://shebanq.ancient-data.org/hebrew/text?book=Jeremia&chapter=39&verse=9&version=c&mr=m&qw=q&tp=txt_p&tr=hb&wget=v&qget=v&nget=vt\" title=\"Jeremiah 39:9\" sec=\"Jeremiah 39:9\">phrase</a> <a href=\"#\" class=\"nd\">802067</a>  <span class=\"function\">Subj</span> <span class=\"typ\">PrNP|NP</span>\n",
       "    </div>\n",
       "    <div class=\"atoms\">\n",
       "\n",
       "<div class=\"word  \" >\n",
       "<a href=\"#\" class=\"nd\">256573</a>\n",
       "<div class=\"h\"><a target=\"_blank\" href=\"https://shebanq.ancient-data.org/hebrew/word?version=c&id=1RBiin\" title=\"show this lexeme in SHEBANQ\">רַב־</a></div>\n",
       "<div class=\"features\"> <span class=\"pdp\"><a href=\"https://shebanq.ancient-data.org/hebrew/text?book=Jeremia&chapter=39&verse=9&version=c&mr=m&qw=q&tp=txt_p&tr=hb&wget=v&qget=v&nget=vt\" title=\"Jeremiah 39:9\" sec=\"Jeremiah 39:9\">subs</a></span> <span class=\"gloss\">chief</span></div>\n",
       "\n",
       "\n",
       "</div>\n",
       "\n",
       "<div class=\"word  \" >\n",
       "<a href=\"#\" class=\"nd\">256574</a>\n",
       "<div class=\"h\"><a target=\"_blank\" href=\"https://shebanq.ancient-data.org/hebrew/word?version=c&id=1VBXin\" title=\"show this lexeme in SHEBANQ\">טַבָּחִ֖ים </a></div>\n",
       "<div class=\"features\"> <span class=\"pdp\"><a href=\"https://shebanq.ancient-data.org/hebrew/text?book=Jeremia&chapter=39&verse=9&version=c&mr=m&qw=q&tp=txt_p&tr=hb&wget=v&qget=v&nget=vt\" title=\"Jeremiah 39:9\" sec=\"Jeremiah 39:9\">subs</a></span> <span class=\"gloss\">butcher</span></div>\n",
       "\n",
       "\n",
       "</div>\n",
       "\n",
       "\n",
       "    </div>\n",
       "\n",
       "\n",
       "</div>\n",
       "\n",
       "\n",
       "</div>\n"
      ],
      "text/plain": [
       "<IPython.core.display.HTML object>"
      ]
     },
     "metadata": {},
     "output_type": "display_data"
    },
    {
     "data": {
      "text/markdown": [
       "\n",
       "\n",
       "**phrase** *38*\n",
       "\n"
      ],
      "text/plain": [
       "<IPython.core.display.Markdown object>"
      ]
     },
     "metadata": {},
     "output_type": "display_data"
    },
    {
     "data": {
      "text/html": [
       "<a href=\"https://shebanq.ancient-data.org/hebrew/text?book=Psalmi&chapter=25&verse=12&version=c&mr=m&qw=q&tp=txt_p&tr=hb&wget=v&qget=v&nget=vt\" title=\"show this passage in SHEBANQ\" sec=\"Psalms 25:12\">Psalms 25:12</a>\n",
       "<div class=\"atoms  \" >\n",
       "<a href=\"#\" class=\"nd\">837853</a>\n",
       "\n",
       "\n",
       "\n",
       "<div class=\"patom  \" >\n",
       "\n",
       "    <div class=\"phrase \" >\n",
       "        <a href=\"https://shebanq.ancient-data.org/hebrew/text?book=Psalmi&chapter=25&verse=12&version=c&mr=m&qw=q&tp=txt_p&tr=hb&wget=v&qget=v&nget=vt\" title=\"Psalms 25:12\" sec=\"Psalms 25:12\">phrase</a> <a href=\"#\" class=\"nd\">837853</a>  <span class=\"function\">PreC</span> <span class=\"typ\">IPrP</span>\n",
       "    </div>\n",
       "    <div class=\"atoms\">\n",
       "\n",
       "<div class=\"word  hl\" >\n",
       "<a href=\"#\" class=\"nd\">314186</a>\n",
       "<div class=\"h\"><a target=\"_blank\" href=\"https://shebanq.ancient-data.org/hebrew/word?version=c&id=1MJ\" title=\"show this lexeme in SHEBANQ\">מִי־</a></div>\n",
       "<div class=\"features\"> <span class=\"pdp\"><a href=\"https://shebanq.ancient-data.org/hebrew/text?book=Psalmi&chapter=25&verse=12&version=c&mr=m&qw=q&tp=txt_p&tr=hb&wget=v&qget=v&nget=vt\" title=\"Psalms 25:12\" sec=\"Psalms 25:12\">prin</a></span> <span class=\"gloss\">who</span></div>\n",
       "\n",
       "\n",
       "</div>\n",
       "\n",
       "<div class=\"word  \" >\n",
       "<a href=\"#\" class=\"nd\">314187</a>\n",
       "<div class=\"h\"><a target=\"_blank\" href=\"https://shebanq.ancient-data.org/hebrew/word?version=c&id=1ZH\" title=\"show this lexeme in SHEBANQ\">זֶ֣ה </a></div>\n",
       "<div class=\"features\"> <span class=\"pdp\"><a href=\"https://shebanq.ancient-data.org/hebrew/text?book=Psalmi&chapter=25&verse=12&version=c&mr=m&qw=q&tp=txt_p&tr=hb&wget=v&qget=v&nget=vt\" title=\"Psalms 25:12\" sec=\"Psalms 25:12\">prde</a></span> <span class=\"gloss\">this</span></div>\n",
       "\n",
       "\n",
       "</div>\n",
       "\n",
       "\n",
       "    </div>\n",
       "\n",
       "\n",
       "</div>\n",
       "\n",
       "\n",
       "</div>\n"
      ],
      "text/plain": [
       "<IPython.core.display.HTML object>"
      ]
     },
     "metadata": {},
     "output_type": "display_data"
    },
    {
     "data": {
      "text/markdown": [
       "\n",
       "\n",
       "**phrase** *39*\n",
       "\n"
      ],
      "text/plain": [
       "<IPython.core.display.Markdown object>"
      ]
     },
     "metadata": {},
     "output_type": "display_data"
    },
    {
     "data": {
      "text/html": [
       "<a href=\"https://shebanq.ancient-data.org/hebrew/text?book=Josua&chapter=23&verse=8&version=c&mr=m&qw=q&tp=txt_p&tr=hb&wget=v&qget=v&nget=vt\" title=\"show this passage in SHEBANQ\" sec=\"Joshua 23:8\">Joshua 23:8</a>\n",
       "<div class=\"atoms  \" >\n",
       "<a href=\"#\" class=\"nd\">722297</a>\n",
       "\n",
       "\n",
       "\n",
       "<div class=\"patom  \" >\n",
       "\n",
       "    <div class=\"phrase \" >\n",
       "        <a href=\"https://shebanq.ancient-data.org/hebrew/text?book=Josua&chapter=23&verse=8&version=c&mr=m&qw=q&tp=txt_p&tr=hb&wget=v&qget=v&nget=vt\" title=\"Joshua 23:8\" sec=\"Joshua 23:8\">phrase</a> <a href=\"#\" class=\"nd\">722297</a>  <span class=\"function\">Conj</span> <span class=\"typ\">CP</span>\n",
       "    </div>\n",
       "    <div class=\"atoms\">\n",
       "\n",
       "<div class=\"word  hl\" >\n",
       "<a href=\"#\" class=\"nd\">126374</a>\n",
       "<div class=\"h\"><a target=\"_blank\" href=\"https://shebanq.ancient-data.org/hebrew/word?version=c&id=1KJ\" title=\"show this lexeme in SHEBANQ\">כִּ֛י </a></div>\n",
       "<div class=\"features\"> <span class=\"pdp\"><a href=\"https://shebanq.ancient-data.org/hebrew/text?book=Josua&chapter=23&verse=8&version=c&mr=m&qw=q&tp=txt_p&tr=hb&wget=v&qget=v&nget=vt\" title=\"Joshua 23:8\" sec=\"Joshua 23:8\">conj</a></span> <span class=\"gloss\">that</span></div>\n",
       "\n",
       "\n",
       "</div>\n",
       "\n",
       "<div class=\"word  \" >\n",
       "<a href=\"#\" class=\"nd\">126375</a>\n",
       "<div class=\"h\"><a target=\"_blank\" href=\"https://shebanq.ancient-data.org/hebrew/word?version=c&id=1AM\" title=\"show this lexeme in SHEBANQ\">אִם־</a></div>\n",
       "<div class=\"features\"> <span class=\"pdp\"><a href=\"https://shebanq.ancient-data.org/hebrew/text?book=Josua&chapter=23&verse=8&version=c&mr=m&qw=q&tp=txt_p&tr=hb&wget=v&qget=v&nget=vt\" title=\"Joshua 23:8\" sec=\"Joshua 23:8\">conj</a></span> <span class=\"gloss\">if</span></div>\n",
       "\n",
       "\n",
       "</div>\n",
       "\n",
       "\n",
       "    </div>\n",
       "\n",
       "\n",
       "</div>\n",
       "\n",
       "\n",
       "</div>\n"
      ],
      "text/plain": [
       "<IPython.core.display.HTML object>"
      ]
     },
     "metadata": {},
     "output_type": "display_data"
    },
    {
     "data": {
      "text/markdown": [
       "\n",
       "\n",
       "**phrase** *40*\n",
       "\n"
      ],
      "text/plain": [
       "<IPython.core.display.Markdown object>"
      ]
     },
     "metadata": {},
     "output_type": "display_data"
    },
    {
     "data": {
      "text/html": [
       "<a href=\"https://shebanq.ancient-data.org/hebrew/text?book=Exodus&chapter=7&verse=13&version=c&mr=m&qw=q&tp=txt_p&tr=hb&wget=v&qget=v&nget=vt\" title=\"show this passage in SHEBANQ\" sec=\"Exodus 7:13\">Exodus 7:13</a>\n",
       "<div class=\"atoms  \" >\n",
       "<a href=\"#\" class=\"nd\">671562</a>\n",
       "\n",
       "\n",
       "\n",
       "<div class=\"patom  \" >\n",
       "\n",
       "    <div class=\"phrase \" >\n",
       "        <a href=\"https://shebanq.ancient-data.org/hebrew/text?book=Exodus&chapter=7&verse=13&version=c&mr=m&qw=q&tp=txt_p&tr=hb&wget=v&qget=v&nget=vt\" title=\"Exodus 7:13\" sec=\"Exodus 7:13\">phrase</a> <a href=\"#\" class=\"nd\">671562</a>  <span class=\"function\">Conj</span> <span class=\"typ\">CP</span>\n",
       "    </div>\n",
       "    <div class=\"atoms\">\n",
       "\n",
       "<div class=\"word  hl\" >\n",
       "<a href=\"#\" class=\"nd\">32012</a>\n",
       "<div class=\"h\"><a target=\"_blank\" href=\"https://shebanq.ancient-data.org/hebrew/word?version=c&id=1K\" title=\"show this lexeme in SHEBANQ\">כַּ</a></div>\n",
       "<div class=\"features\"> <span class=\"pdp\"><a href=\"https://shebanq.ancient-data.org/hebrew/text?book=Exodus&chapter=7&verse=13&version=c&mr=m&qw=q&tp=txt_p&tr=hb&wget=v&qget=v&nget=vt\" title=\"Exodus 7:13\" sec=\"Exodus 7:13\">prep</a></span> <span class=\"gloss\">as</span></div>\n",
       "\n",
       "\n",
       "</div>\n",
       "\n",
       "<div class=\"word  \" >\n",
       "<a href=\"#\" class=\"nd\">32013</a>\n",
       "<div class=\"h\"><a target=\"_blank\" href=\"https://shebanq.ancient-data.org/hebrew/word?version=c&id=1ACR\" title=\"show this lexeme in SHEBANQ\">אֲשֶׁ֖ר </a></div>\n",
       "<div class=\"features\"> <span class=\"pdp\"><a href=\"https://shebanq.ancient-data.org/hebrew/text?book=Exodus&chapter=7&verse=13&version=c&mr=m&qw=q&tp=txt_p&tr=hb&wget=v&qget=v&nget=vt\" title=\"Exodus 7:13\" sec=\"Exodus 7:13\">conj</a></span> <span class=\"gloss\">&lt;relative></span></div>\n",
       "\n",
       "\n",
       "</div>\n",
       "\n",
       "\n",
       "    </div>\n",
       "\n",
       "\n",
       "</div>\n",
       "\n",
       "\n",
       "</div>\n"
      ],
      "text/plain": [
       "<IPython.core.display.HTML object>"
      ]
     },
     "metadata": {},
     "output_type": "display_data"
    },
    {
     "data": {
      "text/markdown": [
       "\n",
       "\n",
       "**phrase** *41*\n",
       "\n"
      ],
      "text/plain": [
       "<IPython.core.display.Markdown object>"
      ]
     },
     "metadata": {},
     "output_type": "display_data"
    },
    {
     "data": {
      "text/html": [
       "<a href=\"https://shebanq.ancient-data.org/hebrew/text?book=Reges_II&chapter=3&verse=13&version=c&mr=m&qw=q&tp=txt_p&tr=hb&wget=v&qget=v&nget=vt\" title=\"show this passage in SHEBANQ\" sec=\"2_Kings 3:13\">2_Kings 3:13</a>\n",
       "<div class=\"atoms  \" >\n",
       "<a href=\"#\" class=\"nd\">764981</a>\n",
       "\n",
       "\n",
       "\n",
       "<div class=\"patom  \" >\n",
       "\n",
       "    <div class=\"phrase \" >\n",
       "        <a href=\"https://shebanq.ancient-data.org/hebrew/text?book=Reges_II&chapter=3&verse=13&version=c&mr=m&qw=q&tp=txt_p&tr=hb&wget=v&qget=v&nget=vt\" title=\"2_Kings 3:13\" sec=\"2_Kings 3:13\">phrase</a> <a href=\"#\" class=\"nd\">764981</a>  <span class=\"function\">Pred</span> <span class=\"typ\">VP</span>\n",
       "    </div>\n",
       "    <div class=\"atoms\">\n",
       "\n",
       "<div class=\"word  \" >\n",
       "<a href=\"#\" class=\"nd\">196130</a>\n",
       "<div class=\"h\"><a target=\"_blank\" href=\"https://shebanq.ancient-data.org/hebrew/word?version=c&id=1L\" title=\"show this lexeme in SHEBANQ\">לָ</a></div>\n",
       "<div class=\"features\"> <span class=\"pdp\"><a href=\"https://shebanq.ancient-data.org/hebrew/text?book=Reges_II&chapter=3&verse=13&version=c&mr=m&qw=q&tp=txt_p&tr=hb&wget=v&qget=v&nget=vt\" title=\"2_Kings 3:13\" sec=\"2_Kings 3:13\">prep</a></span> <span class=\"gloss\">to</span></div>\n",
       "\n",
       "\n",
       "</div>\n",
       "\n",
       "<div class=\"word  hl\" >\n",
       "<a href=\"#\" class=\"nd\">196131</a>\n",
       "<div class=\"h\"><a target=\"_blank\" href=\"https://shebanq.ancient-data.org/hebrew/word?version=c&id=1NTNv\" title=\"show this lexeme in SHEBANQ\">תֵ֥ת </a></div>\n",
       "<div class=\"features\"> <span class=\"pdp\"><a href=\"https://shebanq.ancient-data.org/hebrew/text?book=Reges_II&chapter=3&verse=13&version=c&mr=m&qw=q&tp=txt_p&tr=hb&wget=v&qget=v&nget=vt\" title=\"2_Kings 3:13\" sec=\"2_Kings 3:13\">verb</a></span> <span class=\"gloss\">give</span> <span class=\"vs\">qal</span> <span class=\"vt\">infc</span></div>\n",
       "\n",
       "\n",
       "</div>\n",
       "\n",
       "\n",
       "    </div>\n",
       "\n",
       "\n",
       "</div>\n",
       "\n",
       "\n",
       "</div>\n"
      ],
      "text/plain": [
       "<IPython.core.display.HTML object>"
      ]
     },
     "metadata": {},
     "output_type": "display_data"
    },
    {
     "data": {
      "text/markdown": [
       "\n",
       "\n",
       "**phrase** *42*\n",
       "\n"
      ],
      "text/plain": [
       "<IPython.core.display.Markdown object>"
      ]
     },
     "metadata": {},
     "output_type": "display_data"
    },
    {
     "data": {
      "text/html": [
       "<a href=\"https://shebanq.ancient-data.org/hebrew/text?book=Psalmi&chapter=89&verse=53&version=c&mr=m&qw=q&tp=txt_p&tr=hb&wget=v&qget=v&nget=vt\" title=\"show this passage in SHEBANQ\" sec=\"Psalms 89:53\">Psalms 89:53</a>\n",
       "<div class=\"atoms  \" >\n",
       "<a href=\"#\" class=\"nd\">846326</a>\n",
       "\n",
       "\n",
       "\n",
       "<div class=\"patom  \" >\n",
       "\n",
       "    <div class=\"phrase \" >\n",
       "        <a href=\"https://shebanq.ancient-data.org/hebrew/text?book=Psalmi&chapter=89&verse=53&version=c&mr=m&qw=q&tp=txt_p&tr=hb&wget=v&qget=v&nget=vt\" title=\"Psalms 89:53\" sec=\"Psalms 89:53\">phrase</a> <a href=\"#\" class=\"nd\">846326</a>  <span class=\"function\">Intj</span> <span class=\"typ\">InjP</span>\n",
       "    </div>\n",
       "    <div class=\"atoms\">\n",
       "\n",
       "<div class=\"word  hl\" >\n",
       "<a href=\"#\" class=\"nd\">326216</a>\n",
       "<div class=\"h\"><a target=\"_blank\" href=\"https://shebanq.ancient-data.org/hebrew/word?version=c&id=1AMN\" title=\"show this lexeme in SHEBANQ\">אָ֘מֵ֥ן׀ </a></div>\n",
       "<div class=\"features\"> <span class=\"pdp\"><a href=\"https://shebanq.ancient-data.org/hebrew/text?book=Psalmi&chapter=89&verse=53&version=c&mr=m&qw=q&tp=txt_p&tr=hb&wget=v&qget=v&nget=vt\" title=\"Psalms 89:53\" sec=\"Psalms 89:53\">intj</a></span> <span class=\"gloss\">surely</span></div>\n",
       "\n",
       "\n",
       "</div>\n",
       "\n",
       "<div class=\"word  \" >\n",
       "<a href=\"#\" class=\"nd\">326217</a>\n",
       "<div class=\"h\"><a target=\"_blank\" href=\"https://shebanq.ancient-data.org/hebrew/word?version=c&id=1W\" title=\"show this lexeme in SHEBANQ\">וְ</a></div>\n",
       "<div class=\"features\"> <span class=\"pdp\"><a href=\"https://shebanq.ancient-data.org/hebrew/text?book=Psalmi&chapter=89&verse=53&version=c&mr=m&qw=q&tp=txt_p&tr=hb&wget=v&qget=v&nget=vt\" title=\"Psalms 89:53\" sec=\"Psalms 89:53\">conj</a></span> <span class=\"gloss\">and</span></div>\n",
       "\n",
       "\n",
       "</div>\n",
       "\n",
       "<div class=\"word  hl\" >\n",
       "<a href=\"#\" class=\"nd\">326218</a>\n",
       "<div class=\"h\"><a target=\"_blank\" href=\"https://shebanq.ancient-data.org/hebrew/word?version=c&id=1AMN\" title=\"show this lexeme in SHEBANQ\">אָמֵֽן׃ </a></div>\n",
       "<div class=\"features\"> <span class=\"pdp\"><a href=\"https://shebanq.ancient-data.org/hebrew/text?book=Psalmi&chapter=89&verse=53&version=c&mr=m&qw=q&tp=txt_p&tr=hb&wget=v&qget=v&nget=vt\" title=\"Psalms 89:53\" sec=\"Psalms 89:53\">intj</a></span> <span class=\"gloss\">surely</span></div>\n",
       "\n",
       "\n",
       "</div>\n",
       "\n",
       "\n",
       "    </div>\n",
       "\n",
       "\n",
       "</div>\n",
       "\n",
       "\n",
       "</div>\n"
      ],
      "text/plain": [
       "<IPython.core.display.HTML object>"
      ]
     },
     "metadata": {},
     "output_type": "display_data"
    },
    {
     "data": {
      "text/markdown": [
       "\n",
       "\n",
       "**phrase** *43*\n",
       "\n"
      ],
      "text/plain": [
       "<IPython.core.display.Markdown object>"
      ]
     },
     "metadata": {},
     "output_type": "display_data"
    },
    {
     "data": {
      "text/html": [
       "<a href=\"https://shebanq.ancient-data.org/hebrew/text?book=Genesis&chapter=20&verse=6&version=c&mr=m&qw=q&tp=txt_p&tr=hb&wget=v&qget=v&nget=vt\" title=\"show this passage in SHEBANQ\" sec=\"Genesis 20:6\">Genesis 20:6</a>\n",
       "<div class=\"atoms  \" >\n",
       "<a href=\"#\" class=\"nd\">656932</a>\n",
       "\n",
       "\n",
       "\n",
       "<div class=\"patom  \" >\n",
       "\n",
       "    <div class=\"phrase \" >\n",
       "        <a href=\"https://shebanq.ancient-data.org/hebrew/text?book=Genesis&chapter=20&verse=6&version=c&mr=m&qw=q&tp=txt_p&tr=hb&wget=v&qget=v&nget=vt\" title=\"Genesis 20:6\" sec=\"Genesis 20:6\">phrase</a> <a href=\"#\" class=\"nd\">656932</a>  <span class=\"function\">Subj</span> <span class=\"typ\">PPrP</span>\n",
       "    </div>\n",
       "    <div class=\"atoms\">\n",
       "\n",
       "<div class=\"word  \" >\n",
       "<a href=\"#\" class=\"nd\">9359</a>\n",
       "<div class=\"h\"><a target=\"_blank\" href=\"https://shebanq.ancient-data.org/hebrew/word?version=c&id=1GM\" title=\"show this lexeme in SHEBANQ\">גַּם־</a></div>\n",
       "<div class=\"features\"> <span class=\"pdp\"><a href=\"https://shebanq.ancient-data.org/hebrew/text?book=Genesis&chapter=20&verse=6&version=c&mr=m&qw=q&tp=txt_p&tr=hb&wget=v&qget=v&nget=vt\" title=\"Genesis 20:6\" sec=\"Genesis 20:6\">advb</a></span> <span class=\"gloss\">even</span></div>\n",
       "\n",
       "\n",
       "</div>\n",
       "\n",
       "<div class=\"word  hl\" >\n",
       "<a href=\"#\" class=\"nd\">9360</a>\n",
       "<div class=\"h\"><a target=\"_blank\" href=\"https://shebanq.ancient-data.org/hebrew/word?version=c&id=1ANKJ\" title=\"show this lexeme in SHEBANQ\">אָנֹכִ֛י </a></div>\n",
       "<div class=\"features\"> <span class=\"pdp\"><a href=\"https://shebanq.ancient-data.org/hebrew/text?book=Genesis&chapter=20&verse=6&version=c&mr=m&qw=q&tp=txt_p&tr=hb&wget=v&qget=v&nget=vt\" title=\"Genesis 20:6\" sec=\"Genesis 20:6\">prps</a></span> <span class=\"gloss\">i</span></div>\n",
       "\n",
       "\n",
       "</div>\n",
       "\n",
       "\n",
       "    </div>\n",
       "\n",
       "\n",
       "</div>\n",
       "\n",
       "\n",
       "</div>\n"
      ],
      "text/plain": [
       "<IPython.core.display.HTML object>"
      ]
     },
     "metadata": {},
     "output_type": "display_data"
    },
    {
     "data": {
      "text/markdown": [
       "\n",
       "\n",
       "**phrase** *44*\n",
       "\n"
      ],
      "text/plain": [
       "<IPython.core.display.Markdown object>"
      ]
     },
     "metadata": {},
     "output_type": "display_data"
    },
    {
     "data": {
      "text/html": [
       "<a href=\"https://shebanq.ancient-data.org/hebrew/text?book=Exodus&chapter=30&verse=4&version=c&mr=m&qw=q&tp=txt_p&tr=hb&wget=v&qget=v&nget=vt\" title=\"show this passage in SHEBANQ\" sec=\"Exodus 30:4\">Exodus 30:4</a>\n",
       "<div class=\"atoms  \" >\n",
       "<a href=\"#\" class=\"nd\">679324</a>\n",
       "\n",
       "\n",
       "\n",
       "<div class=\"patom  \" >\n",
       "\n",
       "    <div class=\"phrase \" >\n",
       "        <a href=\"https://shebanq.ancient-data.org/hebrew/text?book=Exodus&chapter=30&verse=4&version=c&mr=m&qw=q&tp=txt_p&tr=hb&wget=v&qget=v&nget=vt\" title=\"Exodus 30:4\" sec=\"Exodus 30:4\">phrase</a> <a href=\"#\" class=\"nd\">679324</a>  <span class=\"function\">Pred</span> <span class=\"typ\">VP</span>\n",
       "    </div>\n",
       "    <div class=\"atoms\">\n",
       "\n",
       "<div class=\"word  \" >\n",
       "<a href=\"#\" class=\"nd\">45582</a>\n",
       "<div class=\"h\"><a target=\"_blank\" href=\"https://shebanq.ancient-data.org/hebrew/word?version=c&id=1L\" title=\"show this lexeme in SHEBANQ\">לָ</a></div>\n",
       "<div class=\"features\"> <span class=\"pdp\"><a href=\"https://shebanq.ancient-data.org/hebrew/text?book=Exodus&chapter=30&verse=4&version=c&mr=m&qw=q&tp=txt_p&tr=hb&wget=v&qget=v&nget=vt\" title=\"Exodus 30:4\" sec=\"Exodus 30:4\">prep</a></span> <span class=\"gloss\">to</span></div>\n",
       "\n",
       "\n",
       "</div>\n",
       "\n",
       "<div class=\"word  hl\" >\n",
       "<a href=\"#\" class=\"nd\">45583</a>\n",
       "<div class=\"h\"><a target=\"_blank\" href=\"https://shebanq.ancient-data.org/hebrew/word?version=c&id=1NFAv\" title=\"show this lexeme in SHEBANQ\">שֵׂ֥את </a></div>\n",
       "<div class=\"features\"> <span class=\"pdp\"><a href=\"https://shebanq.ancient-data.org/hebrew/text?book=Exodus&chapter=30&verse=4&version=c&mr=m&qw=q&tp=txt_p&tr=hb&wget=v&qget=v&nget=vt\" title=\"Exodus 30:4\" sec=\"Exodus 30:4\">verb</a></span> <span class=\"gloss\">lift</span> <span class=\"vs\">qal</span> <span class=\"vt\">infc</span></div>\n",
       "\n",
       "\n",
       "</div>\n",
       "\n",
       "\n",
       "    </div>\n",
       "\n",
       "\n",
       "</div>\n",
       "\n",
       "\n",
       "</div>\n"
      ],
      "text/plain": [
       "<IPython.core.display.HTML object>"
      ]
     },
     "metadata": {},
     "output_type": "display_data"
    },
    {
     "data": {
      "text/markdown": [
       "\n",
       "\n",
       "**phrase** *45*\n",
       "\n"
      ],
      "text/plain": [
       "<IPython.core.display.Markdown object>"
      ]
     },
     "metadata": {},
     "output_type": "display_data"
    },
    {
     "data": {
      "text/html": [
       "<a href=\"https://shebanq.ancient-data.org/hebrew/text?book=Jona&chapter=1&verse=8&version=c&mr=m&qw=q&tp=txt_p&tr=hb&wget=v&qget=v&nget=vt\" title=\"show this passage in SHEBANQ\" sec=\"Jonah 1:8\">Jonah 1:8</a>\n",
       "<div class=\"atoms  \" >\n",
       "<a href=\"#\" class=\"nd\">827824</a>\n",
       "\n",
       "\n",
       "\n",
       "<div class=\"patom  l \" >\n",
       "\n",
       "    <div class=\"phrase \" >\n",
       "        <a href=\"https://shebanq.ancient-data.org/hebrew/text?book=Jona&chapter=1&verse=8&version=c&mr=m&qw=q&tp=txt_p&tr=hb&wget=v&qget=v&nget=vt\" title=\"Jonah 1:8\" sec=\"Jonah 1:8\">phrase</a> <a href=\"#\" class=\"nd\">827824</a>  <span class=\"function\">PreC</span> <span class=\"typ\">InrP</span>\n",
       "    </div>\n",
       "    <div class=\"atoms\">\n",
       "\n",
       "<div class=\"word  hl\" >\n",
       "<a href=\"#\" class=\"nd\">298747</a>\n",
       "<div class=\"h\"><a target=\"_blank\" href=\"https://shebanq.ancient-data.org/hebrew/word?version=c&id=1AJ\" title=\"show this lexeme in SHEBANQ\">אֵֽי־</a></div>\n",
       "<div class=\"features\"> <span class=\"pdp\"><a href=\"https://shebanq.ancient-data.org/hebrew/text?book=Jona&chapter=1&verse=8&version=c&mr=m&qw=q&tp=txt_p&tr=hb&wget=v&qget=v&nget=vt\" title=\"Jonah 1:8\" sec=\"Jonah 1:8\">inrg</a></span> <span class=\"gloss\">where</span></div>\n",
       "\n",
       "\n",
       "</div>\n",
       "\n",
       "\n",
       "    </div>\n",
       "\n",
       "\n",
       "</div>\n",
       "\n",
       "<div class=\"patom  r \" >\n",
       "\n",
       "    <div class=\"phrase \" >\n",
       "        <a href=\"https://shebanq.ancient-data.org/hebrew/text?book=Jona&chapter=1&verse=8&version=c&mr=m&qw=q&tp=txt_p&tr=hb&wget=v&qget=v&nget=vt\" title=\"Jonah 1:8\" sec=\"Jonah 1:8\">phrase</a> <a href=\"#\" class=\"nd\">827824</a>  <span class=\"function\">PreC</span> <span class=\"typ\">InrP|PP</span>\n",
       "    </div>\n",
       "    <div class=\"atoms\">\n",
       "\n",
       "<div class=\"word  \" >\n",
       "<a href=\"#\" class=\"nd\">298748</a>\n",
       "<div class=\"h\"><a target=\"_blank\" href=\"https://shebanq.ancient-data.org/hebrew/word?version=c&id=1MN\" title=\"show this lexeme in SHEBANQ\">מִ</a></div>\n",
       "<div class=\"features\"> <span class=\"pdp\"><a href=\"https://shebanq.ancient-data.org/hebrew/text?book=Jona&chapter=1&verse=8&version=c&mr=m&qw=q&tp=txt_p&tr=hb&wget=v&qget=v&nget=vt\" title=\"Jonah 1:8\" sec=\"Jonah 1:8\">prep</a></span> <span class=\"gloss\">from</span></div>\n",
       "\n",
       "\n",
       "</div>\n",
       "\n",
       "<div class=\"word  \" >\n",
       "<a href=\"#\" class=\"nd\">298749</a>\n",
       "<div class=\"h\"><a target=\"_blank\" href=\"https://shebanq.ancient-data.org/hebrew/word?version=c&id=1ZH\" title=\"show this lexeme in SHEBANQ\">זֶּ֥ה </a></div>\n",
       "<div class=\"features\"> <span class=\"pdp\"><a href=\"https://shebanq.ancient-data.org/hebrew/text?book=Jona&chapter=1&verse=8&version=c&mr=m&qw=q&tp=txt_p&tr=hb&wget=v&qget=v&nget=vt\" title=\"Jonah 1:8\" sec=\"Jonah 1:8\">prde</a></span> <span class=\"gloss\">this</span></div>\n",
       "\n",
       "\n",
       "</div>\n",
       "\n",
       "\n",
       "    </div>\n",
       "\n",
       "\n",
       "</div>\n",
       "\n",
       "\n",
       "</div>\n"
      ],
      "text/plain": [
       "<IPython.core.display.HTML object>"
      ]
     },
     "metadata": {},
     "output_type": "display_data"
    },
    {
     "data": {
      "text/markdown": [
       "\n",
       "\n",
       "**phrase** *46*\n",
       "\n"
      ],
      "text/plain": [
       "<IPython.core.display.Markdown object>"
      ]
     },
     "metadata": {},
     "output_type": "display_data"
    },
    {
     "data": {
      "text/html": [
       "<a href=\"https://shebanq.ancient-data.org/hebrew/text?book=Ezechiel&chapter=33&verse=32&version=c&mr=m&qw=q&tp=txt_p&tr=hb&wget=v&qget=v&nget=vt\" title=\"show this passage in SHEBANQ\" sec=\"Ezekiel 33:32\">Ezekiel 33:32</a>\n",
       "<div class=\"atoms  \" >\n",
       "<a href=\"#\" class=\"nd\">817521</a>\n",
       "\n",
       "\n",
       "\n",
       "<div class=\"patom  \" >\n",
       "\n",
       "    <div class=\"phrase \" >\n",
       "        <a href=\"https://shebanq.ancient-data.org/hebrew/text?book=Ezechiel&chapter=33&verse=32&version=c&mr=m&qw=q&tp=txt_p&tr=hb&wget=v&qget=v&nget=vt\" title=\"Ezekiel 33:32\" sec=\"Ezekiel 33:32\">phrase</a> <a href=\"#\" class=\"nd\">817521</a>  <span class=\"function\">PrAd</span> <span class=\"typ\">AdjP</span>\n",
       "    </div>\n",
       "    <div class=\"atoms\">\n",
       "\n",
       "<div class=\"word  hl\" >\n",
       "<a href=\"#\" class=\"nd\">281497</a>\n",
       "<div class=\"h\"><a target=\"_blank\" href=\"https://shebanq.ancient-data.org/hebrew/word?version=c&id=1JPHn\" title=\"show this lexeme in SHEBANQ\">יְפֵ֥ה </a></div>\n",
       "<div class=\"features\"> <span class=\"pdp\"><a href=\"https://shebanq.ancient-data.org/hebrew/text?book=Ezechiel&chapter=33&verse=32&version=c&mr=m&qw=q&tp=txt_p&tr=hb&wget=v&qget=v&nget=vt\" title=\"Ezekiel 33:32\" sec=\"Ezekiel 33:32\">adjv</a></span> <span class=\"gloss\">beautiful</span></div>\n",
       "\n",
       "\n",
       "</div>\n",
       "\n",
       "<div class=\"word  \" >\n",
       "<a href=\"#\" class=\"nd\">281498</a>\n",
       "<div class=\"h\"><a target=\"_blank\" href=\"https://shebanq.ancient-data.org/hebrew/word?version=c&id=1QWLn\" title=\"show this lexeme in SHEBANQ\">קֹ֖ול </a></div>\n",
       "<div class=\"features\"> <span class=\"pdp\"><a href=\"https://shebanq.ancient-data.org/hebrew/text?book=Ezechiel&chapter=33&verse=32&version=c&mr=m&qw=q&tp=txt_p&tr=hb&wget=v&qget=v&nget=vt\" title=\"Ezekiel 33:32\" sec=\"Ezekiel 33:32\">subs</a></span> <span class=\"gloss\">sound</span></div>\n",
       "\n",
       "\n",
       "</div>\n",
       "\n",
       "\n",
       "    </div>\n",
       "\n",
       "\n",
       "</div>\n",
       "\n",
       "\n",
       "</div>\n"
      ],
      "text/plain": [
       "<IPython.core.display.HTML object>"
      ]
     },
     "metadata": {},
     "output_type": "display_data"
    },
    {
     "data": {
      "text/markdown": [
       "\n",
       "\n",
       "**phrase** *47*\n",
       "\n"
      ],
      "text/plain": [
       "<IPython.core.display.Markdown object>"
      ]
     },
     "metadata": {},
     "output_type": "display_data"
    },
    {
     "data": {
      "text/html": [
       "<a href=\"https://shebanq.ancient-data.org/hebrew/text?book=Samuel_I&chapter=20&verse=8&version=c&mr=m&qw=q&tp=txt_p&tr=hb&wget=v&qget=v&nget=vt\" title=\"show this passage in SHEBANQ\" sec=\"1_Samuel 20:8\">1_Samuel 20:8</a>\n",
       "<div class=\"atoms  \" >\n",
       "<a href=\"#\" class=\"nd\">739345</a>\n",
       "\n",
       "\n",
       "\n",
       "<div class=\"patom  \" >\n",
       "\n",
       "    <div class=\"phrase \" >\n",
       "        <a href=\"https://shebanq.ancient-data.org/hebrew/text?book=Samuel_I&chapter=20&verse=8&version=c&mr=m&qw=q&tp=txt_p&tr=hb&wget=v&qget=v&nget=vt\" title=\"1_Samuel 20:8\" sec=\"1_Samuel 20:8\">phrase</a> <a href=\"#\" class=\"nd\">739345</a>  <span class=\"function\">Ques</span> <span class=\"typ\">InrP</span>\n",
       "    </div>\n",
       "    <div class=\"atoms\">\n",
       "\n",
       "<div class=\"word  hl\" >\n",
       "<a href=\"#\" class=\"nd\">153612</a>\n",
       "<div class=\"h\"><a target=\"_blank\" href=\"https://shebanq.ancient-data.org/hebrew/word?version=c&id=1LMH\" title=\"show this lexeme in SHEBANQ\">לָמָּה־</a></div>\n",
       "<div class=\"features\"> <span class=\"pdp\"><a href=\"https://shebanq.ancient-data.org/hebrew/text?book=Samuel_I&chapter=20&verse=8&version=c&mr=m&qw=q&tp=txt_p&tr=hb&wget=v&qget=v&nget=vt\" title=\"1_Samuel 20:8\" sec=\"1_Samuel 20:8\">inrg</a></span> <span class=\"gloss\">why</span></div>\n",
       "\n",
       "\n",
       "</div>\n",
       "\n",
       "<div class=\"word  \" >\n",
       "<a href=\"#\" class=\"nd\">153613</a>\n",
       "<div class=\"h\"><a target=\"_blank\" href=\"https://shebanq.ancient-data.org/hebrew/word?version=c&id=1ZH\" title=\"show this lexeme in SHEBANQ\">זֶּ֥ה </a></div>\n",
       "<div class=\"features\"> <span class=\"pdp\"><a href=\"https://shebanq.ancient-data.org/hebrew/text?book=Samuel_I&chapter=20&verse=8&version=c&mr=m&qw=q&tp=txt_p&tr=hb&wget=v&qget=v&nget=vt\" title=\"1_Samuel 20:8\" sec=\"1_Samuel 20:8\">prde</a></span> <span class=\"gloss\">this</span></div>\n",
       "\n",
       "\n",
       "</div>\n",
       "\n",
       "\n",
       "    </div>\n",
       "\n",
       "\n",
       "</div>\n",
       "\n",
       "\n",
       "</div>\n"
      ],
      "text/plain": [
       "<IPython.core.display.HTML object>"
      ]
     },
     "metadata": {},
     "output_type": "display_data"
    },
    {
     "data": {
      "text/markdown": [
       "\n",
       "\n",
       "**phrase** *48*\n",
       "\n"
      ],
      "text/plain": [
       "<IPython.core.display.Markdown object>"
      ]
     },
     "metadata": {},
     "output_type": "display_data"
    },
    {
     "data": {
      "text/html": [
       "<a href=\"https://shebanq.ancient-data.org/hebrew/text?book=Jeremia&chapter=50&verse=44&version=c&mr=m&qw=q&tp=txt_p&tr=hb&wget=v&qget=v&nget=vt\" title=\"show this passage in SHEBANQ\" sec=\"Jeremiah 50:44\">Jeremiah 50:44</a>\n",
       "<div class=\"atoms  \" >\n",
       "<a href=\"#\" class=\"nd\">805617</a>\n",
       "\n",
       "\n",
       "\n",
       "<div class=\"patom  \" >\n",
       "\n",
       "    <div class=\"phrase \" >\n",
       "        <a href=\"https://shebanq.ancient-data.org/hebrew/text?book=Jeremia&chapter=50&verse=44&version=c&mr=m&qw=q&tp=txt_p&tr=hb&wget=v&qget=v&nget=vt\" title=\"Jeremiah 50:44\" sec=\"Jeremiah 50:44\">phrase</a> <a href=\"#\" class=\"nd\">805617</a>  <span class=\"function\">Subj</span> <span class=\"typ\">IPrP</span>\n",
       "    </div>\n",
       "    <div class=\"atoms\">\n",
       "\n",
       "<div class=\"word  hl\" >\n",
       "<a href=\"#\" class=\"nd\">262700</a>\n",
       "<div class=\"h\"><a target=\"_blank\" href=\"https://shebanq.ancient-data.org/hebrew/word?version=c&id=1MJ\" title=\"show this lexeme in SHEBANQ\">מִֽי־</a></div>\n",
       "<div class=\"features\"> <span class=\"pdp\"><a href=\"https://shebanq.ancient-data.org/hebrew/text?book=Jeremia&chapter=50&verse=44&version=c&mr=m&qw=q&tp=txt_p&tr=hb&wget=v&qget=v&nget=vt\" title=\"Jeremiah 50:44\" sec=\"Jeremiah 50:44\">prin</a></span> <span class=\"gloss\">who</span></div>\n",
       "\n",
       "\n",
       "</div>\n",
       "\n",
       "<div class=\"word  \" >\n",
       "<a href=\"#\" class=\"nd\">262701</a>\n",
       "<div class=\"h\"><a target=\"_blank\" href=\"https://shebanq.ancient-data.org/hebrew/word?version=c&id=1ZH\" title=\"show this lexeme in SHEBANQ\">זֶ֣ה </a></div>\n",
       "<div class=\"features\"> <span class=\"pdp\"><a href=\"https://shebanq.ancient-data.org/hebrew/text?book=Jeremia&chapter=50&verse=44&version=c&mr=m&qw=q&tp=txt_p&tr=hb&wget=v&qget=v&nget=vt\" title=\"Jeremiah 50:44\" sec=\"Jeremiah 50:44\">prde</a></span> <span class=\"gloss\">this</span></div>\n",
       "\n",
       "\n",
       "</div>\n",
       "\n",
       "\n",
       "    </div>\n",
       "\n",
       "\n",
       "</div>\n",
       "\n",
       "\n",
       "</div>\n"
      ],
      "text/plain": [
       "<IPython.core.display.HTML object>"
      ]
     },
     "metadata": {},
     "output_type": "display_data"
    },
    {
     "data": {
      "text/markdown": [
       "\n",
       "\n",
       "**phrase** *49*\n",
       "\n"
      ],
      "text/plain": [
       "<IPython.core.display.Markdown object>"
      ]
     },
     "metadata": {},
     "output_type": "display_data"
    },
    {
     "data": {
      "text/html": [
       "<a href=\"https://shebanq.ancient-data.org/hebrew/text?book=Genesis&chapter=42&verse=28&version=c&mr=m&qw=q&tp=txt_p&tr=hb&wget=v&qget=v&nget=vt\" title=\"show this passage in SHEBANQ\" sec=\"Genesis 42:28\">Genesis 42:28</a>\n",
       "<div class=\"atoms  \" >\n",
       "<a href=\"#\" class=\"nd\">666397</a>\n",
       "\n",
       "\n",
       "\n",
       "<div class=\"patom  \" >\n",
       "\n",
       "    <div class=\"phrase \" >\n",
       "        <a href=\"https://shebanq.ancient-data.org/hebrew/text?book=Genesis&chapter=42&verse=28&version=c&mr=m&qw=q&tp=txt_p&tr=hb&wget=v&qget=v&nget=vt\" title=\"Genesis 42:28\" sec=\"Genesis 42:28\">phrase</a> <a href=\"#\" class=\"nd\">666397</a>  <span class=\"function\">Objc</span> <span class=\"typ\">IPrP</span>\n",
       "    </div>\n",
       "    <div class=\"atoms\">\n",
       "\n",
       "<div class=\"word  hl\" >\n",
       "<a href=\"#\" class=\"nd\">23929</a>\n",
       "<div class=\"h\"><a target=\"_blank\" href=\"https://shebanq.ancient-data.org/hebrew/word?version=c&id=1MH\" title=\"show this lexeme in SHEBANQ\">מַה־</a></div>\n",
       "<div class=\"features\"> <span class=\"pdp\"><a href=\"https://shebanq.ancient-data.org/hebrew/text?book=Genesis&chapter=42&verse=28&version=c&mr=m&qw=q&tp=txt_p&tr=hb&wget=v&qget=v&nget=vt\" title=\"Genesis 42:28\" sec=\"Genesis 42:28\">prin</a></span> <span class=\"gloss\">what</span></div>\n",
       "\n",
       "\n",
       "</div>\n",
       "\n",
       "<div class=\"word  \" >\n",
       "<a href=\"#\" class=\"nd\">23930</a>\n",
       "<div class=\"h\"><a target=\"_blank\" href=\"https://shebanq.ancient-data.org/hebrew/word?version=c&id=1ZAT\" title=\"show this lexeme in SHEBANQ\">זֹּ֛את </a></div>\n",
       "<div class=\"features\"> <span class=\"pdp\"><a href=\"https://shebanq.ancient-data.org/hebrew/text?book=Genesis&chapter=42&verse=28&version=c&mr=m&qw=q&tp=txt_p&tr=hb&wget=v&qget=v&nget=vt\" title=\"Genesis 42:28\" sec=\"Genesis 42:28\">prde</a></span> <span class=\"gloss\">this</span></div>\n",
       "\n",
       "\n",
       "</div>\n",
       "\n",
       "\n",
       "    </div>\n",
       "\n",
       "\n",
       "</div>\n",
       "\n",
       "\n",
       "</div>\n"
      ],
      "text/plain": [
       "<IPython.core.display.HTML object>"
      ]
     },
     "metadata": {},
     "output_type": "display_data"
    },
    {
     "data": {
      "text/markdown": [
       "\n",
       "\n",
       "**phrase** *50*\n",
       "\n"
      ],
      "text/plain": [
       "<IPython.core.display.Markdown object>"
      ]
     },
     "metadata": {},
     "output_type": "display_data"
    },
    {
     "data": {
      "text/html": [
       "<a href=\"https://shebanq.ancient-data.org/hebrew/text?book=Genesis&chapter=43&verse=16&version=c&mr=m&qw=q&tp=txt_p&tr=hb&wget=v&qget=v&nget=vt\" title=\"show this passage in SHEBANQ\" sec=\"Genesis 43:16\">Genesis 43:16</a>\n",
       "<div class=\"atoms  \" >\n",
       "<a href=\"#\" class=\"nd\">666773</a>\n",
       "\n",
       "\n",
       "\n",
       "<div class=\"patom  \" >\n",
       "\n",
       "    <div class=\"phrase \" >\n",
       "        <a href=\"https://shebanq.ancient-data.org/hebrew/text?book=Genesis&chapter=43&verse=16&version=c&mr=m&qw=q&tp=txt_p&tr=hb&wget=v&qget=v&nget=vt\" title=\"Genesis 43:16\" sec=\"Genesis 43:16\">phrase</a> <a href=\"#\" class=\"nd\">666773</a>  <span class=\"function\">Cmpl</span> <span class=\"typ\">AdvP</span>\n",
       "    </div>\n",
       "    <div class=\"atoms\">\n",
       "\n",
       "<div class=\"word  \" >\n",
       "<a href=\"#\" class=\"nd\">24454</a>\n",
       "<div class=\"h\"><a target=\"_blank\" href=\"https://shebanq.ancient-data.org/hebrew/word?version=c&id=1H\" title=\"show this lexeme in SHEBANQ\">הַ</a></div>\n",
       "<div class=\"features\"> <span class=\"pdp\"><a href=\"https://shebanq.ancient-data.org/hebrew/text?book=Genesis&chapter=43&verse=16&version=c&mr=m&qw=q&tp=txt_p&tr=hb&wget=v&qget=v&nget=vt\" title=\"Genesis 43:16\" sec=\"Genesis 43:16\">art</a></span> <span class=\"gloss\">the</span></div>\n",
       "\n",
       "\n",
       "</div>\n",
       "\n",
       "<div class=\"word  hl\" >\n",
       "<a href=\"#\" class=\"nd\">24455</a>\n",
       "<div class=\"h\"><a target=\"_blank\" href=\"https://shebanq.ancient-data.org/hebrew/word?version=c&id=1BJTn\" title=\"show this lexeme in SHEBANQ\">בָּ֑יְתָה </a></div>\n",
       "<div class=\"features\"> <span class=\"pdp\"><a href=\"https://shebanq.ancient-data.org/hebrew/text?book=Genesis&chapter=43&verse=16&version=c&mr=m&qw=q&tp=txt_p&tr=hb&wget=v&qget=v&nget=vt\" title=\"Genesis 43:16\" sec=\"Genesis 43:16\">subs</a></span> <span class=\"gloss\">house</span></div>\n",
       "\n",
       "\n",
       "</div>\n",
       "\n",
       "\n",
       "    </div>\n",
       "\n",
       "\n",
       "</div>\n",
       "\n",
       "\n",
       "</div>\n"
      ],
      "text/plain": [
       "<IPython.core.display.HTML object>"
      ]
     },
     "metadata": {},
     "output_type": "display_data"
    }
   ],
   "source": [
    "A.show(list(samples), condenseType='phrase', withNodes=True)"
   ]
  },
  {
   "cell_type": "markdown",
   "metadata": {},
   "source": [
    "# `obj_prep`\n",
    "\n",
    "## [SECTION UNDER CONSTRUCTION]\n",
    "\n",
    "The feature `prep_obj` in `v.1` was an edge feature from a word to its governing preposition. As is done with the nouns above, this would would be a nominal element that is disambiguated from its quantifiers. Since there is no dependency of a prepositional object, the nominal templates developed above can be used with the single change that the phrase type is a `PP` or `CP` (which also has prepositional objects!). \n",
    "\n",
    "Since `v.2` will encode edges from words to phrases rather than the other way around, this feature will encode an edge from the object to the preposition, hence the new feature name."
   ]
  },
  {
   "cell_type": "markdown",
   "metadata": {},
   "source": [
    "<hr>"
   ]
  },
  {
   "cell_type": "code",
   "execution_count": 163,
   "metadata": {},
   "outputs": [
    {
     "name": "stdout",
     "output_type": "stream",
     "text": [
      "running query on PP_noqant...\n",
      "  2.04s 66102 results\n",
      "\tprocessing prepositions...\n",
      "running query on PP_quant_alone...\n",
      "  0.33s 806 results\n",
      "\tprocessing prepositions...\n",
      "running query on PP_quantified...\n",
      "  1.36s 5202 results\n",
      "\tprocessing prepositions...\n",
      "running query on special_quantified...\n",
      "  0.60s 1924 results\n",
      "\tprocessing prepositions...\n",
      "running query on PP_to_PP...\n",
      "  0.15s 2917 results\n",
      "\tprocessing prepositions...\n",
      "running query on PP_to_conj...\n",
      "  0.62s 1055 results\n",
      "\tprocessing prepositions...\n",
      "running query on PP_negation...\n",
      "  0.65s 1 result\n",
      "\tprocessing prepositions...\n",
      "\n",
      " <><><><><><><><><><><><><><><><><><><><> \n",
      "\n",
      "queries complete with 64235 object of preposition mappings...\n"
     ]
    }
   ],
   "source": [
    "pp_obj_queries = {}\n",
    "    \n",
    "PP_noqant = f'''\n",
    "\n",
    "phrase_atom\n",
    "    prep prs=absent\n",
    "    < head:nonquant pdp#conj|art|prep|nega\n",
    "\n",
    "% either word is adjacent to prep\n",
    "    /with/\n",
    "    phrase_atom\n",
    "        prep\n",
    "        <: head\n",
    "        \n",
    "% or word is adjacent to prep but interrupted by article\n",
    "    /or/\n",
    "    phrase_atom\n",
    "        prep\n",
    "        <: word pdp=art\n",
    "        <: head\n",
    "    \n",
    "    /or/\n",
    "\n",
    "% or word is w1, an independent, non-modifying word\n",
    "% what follows is a long description for that situation\n",
    "\n",
    "    w1:word\n",
    "\n",
    "% exclude w1 uses as modifier\n",
    "    /without/\n",
    "    subphrase rela=adj|atr|mod|dem\n",
    "        w1\n",
    "    /-/\n",
    "\n",
    "% exclude w1 rec relations to non-prepositions\n",
    "    /without/\n",
    "    nonprep\n",
    "    <mother- subphrase rela=rec\n",
    "        w1\n",
    "    /-/\n",
    "\n",
    "% ensure w1 is not immediately preceded by a construct form\n",
    "    /without/\n",
    "    phrase_atom\n",
    "        nonprep st=c\n",
    "        <: w1\n",
    "    /-/\n",
    "    \n",
    "\n",
    "% exclude cases where word occurs in a subphrase immediately before a preposition\n",
    "% only 1 case of this, but may be other edge cases this misses.\n",
    "    /without/\n",
    "    s1:subphrase\n",
    "        prep\n",
    "    s2:subphrase rela=par\n",
    "        w1\n",
    "        <: prep\n",
    "    s1 <mother- s2\n",
    "    /-/\n",
    "    \n",
    "    w1 = head\n",
    "    /-/\n",
    "\n",
    "'''\n",
    "\n",
    "pp_obj_queries['PP_noqant'] = {'template': PP_noqant,\n",
    "                               'prepi': 1,\n",
    "                               'obji': 2}\n",
    "\n",
    "PP_quant_alone = f'''\n",
    "\n",
    "phrase_atom\n",
    "    prep prs=absent\n",
    "    < quantifier:quant\n",
    "\n",
    "% quantifier does not precede a quantified element\n",
    "    /without/\n",
    "    subphrase\n",
    "        quantifier\n",
    "        < w1:nonquantprep pdp=subs|adjv|advb|nmpr|prde|prps\n",
    "        \n",
    "        /without/\n",
    "        = postprep\n",
    "        /-/\n",
    "        \n",
    "        /without/\n",
    "        subphrase\n",
    "        /without/\n",
    "            quant\n",
    "        /-/\n",
    "            prep\n",
    "            < w1\n",
    "        /-/\n",
    "    /-/ \n",
    "        \n",
    "% quantifier is not construct with quantified element\n",
    "    /without/\n",
    "    quantifier\n",
    "    <mother- subphrase rela=rec\n",
    "        nonquantprep pdp=subs|adjv|advb|nmpr|prde|prps\n",
    "    /-/\n",
    "    /without/\n",
    "    phrase_atom\n",
    "        quantifier st=c\n",
    "        <: nonquantprep pdp=subs|adjv|advb|nmpr|prde|prps\n",
    "    /-/\n",
    "    \n",
    "% quantifier is not in another relation with a quantified element\n",
    "    /without/\n",
    "    s1:subphrase\n",
    "        quantifier\n",
    "    s2:subphrase rela=adj|atr|dem\n",
    "        w1:nonquantprep pdp=subs|adjv|advb|nmpr|prde|prps \n",
    "        /without/\n",
    "        = postprep\n",
    "        /-/\n",
    "        /without/\n",
    "        subphrase\n",
    "        /without/\n",
    "            quant\n",
    "        /-/\n",
    "            < prep\n",
    "            w1\n",
    "        /-/\n",
    "        \n",
    "    s1 <mother- s2\n",
    "    /-/\n",
    "\n",
    "% ensure quantifer is not in a quantifying chain\n",
    "    /without/\n",
    "    phrase_atom\n",
    "    /with/\n",
    "        s1:subphrase\n",
    "            nonprep pdp=subs|adjv|nmpr|prde|prps lex#{quantlexs} ls#card\n",
    "        s2:subphrase rela=adj|atr\n",
    "            word ls=card\n",
    "        s1 <mother- s2\n",
    "    /or/\n",
    "        s1:subphrase\n",
    "            word ls=card\n",
    "        s2:subphrase rela=adj|atr\n",
    "            w1:nonprep pdp=subs|adjv|nmpr|prde|prps lex#{quantlexs} ls#card\n",
    "            /without/\n",
    "            = postprep\n",
    "            /-/\n",
    "            /without/\n",
    "            subphrase\n",
    "            /without/\n",
    "                quant\n",
    "            /-/\n",
    "                < prep\n",
    "                w1\n",
    "            /-/\n",
    "        s1 <mother- s2\n",
    "    /-/\n",
    "        quantifier ls=card prs=absent\n",
    "    /-/\n",
    "\n",
    "% exclude uses as modifier:\n",
    "    /without/\n",
    "    subphrase rela=adj|atr|rec|mod|dem\n",
    "        quantifier\n",
    "        w1:word\n",
    "        /without/\n",
    "        = postprep\n",
    "        /-/\n",
    "        quantifier = w1\n",
    "    /-/\n",
    "'''\n",
    "\n",
    "pp_obj_queries['PP_quant_alone'] = {'template': PP_quant_alone,\n",
    "                                    'prepi': 1,\n",
    "                                    'obji': 2}\n",
    "\n",
    "PP_quantified = f'''\n",
    "\n",
    "phrase_atom\n",
    "    prep prs=absent\n",
    "   \n",
    "% ensure that word is quantified with a head-word quantifier\n",
    "% NB: what follows is a long chain of specs on quantifier\n",
    "\n",
    "    < quantifier:quant\n",
    "\n",
    "    /with/\n",
    "    phrase_atom\n",
    "        prep\n",
    "        <: quantifier\n",
    "    /or/\n",
    "    \n",
    "% quantifier not used in rec relations to non-prepositions\n",
    "    /without/\n",
    "    nonprep\n",
    "    <mother- subphrase rela=rec\n",
    "        quantifier\n",
    "        w1:word\n",
    "        /without/\n",
    "        phrase_atom\n",
    "            prep\n",
    "            <: w1\n",
    "        /-/\n",
    "        /without/\n",
    "        phrase_atom\n",
    "            prep\n",
    "            <: word pdp=art\n",
    "            <: w1\n",
    "        /-/\n",
    "        w1 = quantifier\n",
    "    /-/\n",
    "\n",
    "% quantifier not used in adj relations to non-quantifiers\n",
    "    /without/\n",
    "    subphrase\n",
    "    /with/\n",
    "        nonquant pdp#conj|art\n",
    "    /-/\n",
    "    <mother- subphrase rela=adj\n",
    "        quantifier\n",
    "        w1:word\n",
    "        /without/\n",
    "        prep\n",
    "        <: w1\n",
    "        /-/\n",
    "        w1 = quantifier\n",
    "    /-/\n",
    "    /-/\n",
    "\n",
    "% ------------------------------\n",
    "% NB: what follows is a long chain of specs on head\n",
    "\n",
    "% require adjacency to quantifier\n",
    "    <1: subphrase\n",
    "        head:nonquant pdp=subs|adjv|advb|nmpr|prde|prps\n",
    "        \n",
    "        /with/\n",
    "        phrase_atom\n",
    "            prep\n",
    "            <: quant\n",
    "            <: head\n",
    "\n",
    "        /or/\n",
    "        phrase_atom\n",
    "            prep\n",
    "            <: quant\n",
    "            <: word pdp=art\n",
    "            <: head\n",
    "        \n",
    "        /or/\n",
    "    \n",
    "% quantified word is not a dependent modifier\n",
    "% exclude construct state to non quants/preps\n",
    "        /without/\n",
    "        nonquantprep st=c\n",
    "        <: head\n",
    "        /-/\n",
    "        /without/\n",
    "        nonquantprep st=c\n",
    "        <: word pdp=art\n",
    "        <: head\n",
    "        /-/\n",
    "\n",
    "% exclude non-quant/prep rec relas\n",
    "        /without/\n",
    "        nonquantprep\n",
    "        <mother- subphrase rela=rec\n",
    "            head\n",
    "        /-/\n",
    "    \n",
    "% exclude non-quant para rec relas\n",
    "        /without/\n",
    "        nonquantprep\n",
    "        <mother- subphrase rela=rec\n",
    "        <mother- subphrase rela=par\n",
    "            head\n",
    "        /-/\n",
    "        \n",
    "% exclude non-quant adjunct relas\n",
    "        /without/\n",
    "        subphrase\n",
    "        /without/\n",
    "            := quant\n",
    "        /-/\n",
    "        <mother- subphrase rela=adj\n",
    "            head\n",
    "        /-/\n",
    "    \n",
    "% exclude non-quant para adjunct relas\n",
    "        /without/\n",
    "        subphrase\n",
    "        /without/\n",
    "            := quant\n",
    "        /-/\n",
    "        <mother- subphrase rela=adj\n",
    "        <mother- subphrase rela=par\n",
    "            head\n",
    "        /-/\n",
    "\n",
    "% exclude demonstrative relas when demonstrative points to subphrase with words other than quantifiers\n",
    "        /without/\n",
    "        subphrase\n",
    "        /with/\n",
    "            nonquant pdp#art|conj\n",
    "        /-/\n",
    "        <mother- subphrase rela=dem\n",
    "            head \n",
    "        /-/\n",
    "\n",
    "% exclude all other kinds of relations\n",
    "        /without/\n",
    "        subphrase rela=atr|mod\n",
    "            head\n",
    "        /-/\n",
    "        /-/\n",
    "'''\n",
    "\n",
    "pp_obj_queries['PP_quantified'] = {'template': PP_quantified,\n",
    "                                   'prepi': 1,\n",
    "                                   'obji': 4}\n",
    "    \n",
    "special_quantified = '''\n",
    "\n",
    "% necessary due to technical limitation in search patterns\n",
    "phrase_atom\n",
    "    prep\n",
    "    <: quant\n",
    "    <: nonquant pdp=subs|adjv|advb|nmpr|prde|prps\n",
    "'''\n",
    "pp_obj_queries['special_quantified'] = {'template': special_quantified,\n",
    "                                        'prepi': 1,\n",
    "                                        'obji': 3}\n",
    "    \n",
    "PP_to_PP = '''\n",
    "\n",
    "phrase_atom\n",
    "    prep\n",
    "    <: prep\n",
    "'''\n",
    "\n",
    "pp_obj_queries['PP_to_PP'] = {'template': PP_to_PP,\n",
    "                              'prepi': 1,\n",
    "                              'obji': 2}\n",
    "    \n",
    "PP_to_conj = '''\n",
    "\n",
    "phrase_atom\n",
    "    prep\n",
    "    <: word pdp=conj\n",
    "    \n",
    "    /with/\n",
    "    phrase_atom typ=CP\n",
    "        ..\n",
    "    /or/\n",
    "    lex=C|>CR\n",
    "    /-/\n",
    "'''\n",
    "\n",
    "pp_obj_queries['PP_to_conj'] = {'template': PP_to_conj,\n",
    "                                'prepi': 1,\n",
    "                                'obji': 2}\n",
    "\n",
    "PP_negation = '''\n",
    "\n",
    "pa:phrase_atom\n",
    "    pp:prep\n",
    "    neg:word pdp=nega\n",
    "\n",
    "pa =: pp\n",
    "pa := neg\n",
    "pp # neg\n",
    "'''\n",
    "pp_obj_queries['PP_negation'] = {'template': PP_negation,\n",
    "                                'prepi': 1,\n",
    "                                'obji': 2}\n",
    "\n",
    "\n",
    "\n",
    "obj2prep = collections.defaultdict()\n",
    "prep2obj = collections.defaultdict(set)\n",
    "\n",
    "for name, query in pp_obj_queries.items():\n",
    "    template = query['template']\n",
    "    prepi = query['prepi']\n",
    "    obji = query['obji']\n",
    "    \n",
    "    print(f'running query on {name}...')\n",
    "    results = A.search(template, sets=sets)\n",
    "\n",
    "    print('\\tprocessing prepositions...')\n",
    "    for res in results:\n",
    "        obj = res[obji]\n",
    "        # back up one slot until a preposition is found\n",
    "        prep = None\n",
    "        cur_slot = obj\n",
    "        while not prep:\n",
    "            cur_slot -= 1\n",
    "            if cur_slot in preps:\n",
    "                prep = cur_slot\n",
    "                \n",
    "        obj2prep[obj] = prep\n",
    "        prep2obj[prep].add(obj)\n",
    "        \n",
    "print('\\n', '<>'*20, '\\n')\n",
    "print(f'queries complete with {len(obj2prep)} object of preposition mappings...')"
   ]
  },
  {
   "cell_type": "markdown",
   "metadata": {},
   "source": [
    "<hr>"
   ]
  },
  {
   "cell_type": "markdown",
   "metadata": {},
   "source": [
    "## Check for Missing Prepositional Objects\n"
   ]
  },
  {
   "cell_type": "code",
   "execution_count": 176,
   "metadata": {},
   "outputs": [
    {
     "name": "stdout",
     "output_type": "stream",
     "text": [
      "1405990 NA () פְנֵי֙ \n",
      "[400083]\n",
      "\n",
      "1405993 rec (400083,) אֲרֹ֣ון בְּרִית־\n",
      "[400084, 400085]\n",
      "\n",
      "1405991 NA () אֲרֹ֣ון \n",
      "[400084]\n",
      "\n",
      "1405992 rec (400084,) בְּרִית־\n",
      "[400085]\n",
      "\n"
     ]
    }
   ],
   "source": [
    "# for testing:\n",
    "for sp in L.d(891336, 'subphrase'):\n",
    "    print(sp, F.rela.v(sp), E.mother.f(sp), T.text(sp))\n",
    "    print(L.d(sp, 'word'))\n",
    "    print()"
   ]
  },
  {
   "cell_type": "code",
   "execution_count": 165,
   "metadata": {},
   "outputs": [
    {
     "name": "stdout",
     "output_type": "stream",
     "text": [
      "  1.17s 62424 results\n",
      "0 prepositions missing...\n"
     ]
    }
   ],
   "source": [
    "simple_check_results = A.search('''\n",
    "\n",
    "phrase_atom\n",
    "    prep prs=absent\n",
    "    <: word pdp#conj\n",
    "    \n",
    "''', sets={'prep': preps})\n",
    "\n",
    "simple_check_prep = [res for res in simple_check_results if res[1] not in prep2obj]\n",
    "\n",
    "print(f'{len(simple_check_prep)} prepositions missing...')\n",
    "\n",
    "A.show(simple_check_prep, withNodes=True, condenseType='phrase_atom', end=100)"
   ]
  },
  {
   "cell_type": "markdown",
   "metadata": {},
   "source": [
    "### Random Inspection\n"
   ]
  },
  {
   "cell_type": "code",
   "execution_count": 174,
   "metadata": {},
   "outputs": [
    {
     "data": {
      "text/plain": [
       "64236"
      ]
     },
     "execution_count": 174,
     "metadata": {},
     "output_type": "execute_result"
    }
   ],
   "source": [
    "random_results = [(L.u(obj, 'phrase_atom')[0], prep, obj) for obj, prep in obj2prep.items()\n",
    "                     #if prep == 183334\n",
    "                 ]\n",
    "random.shuffle(random_results)\n",
    "random_results = [res for res in random_results \n",
    "                      #if len(L.d(res[0], 'word')) > 5\n",
    "                 ]\n",
    "\n",
    "random_results.insert(0, (939751,)+tuple(prep2obj[56904]))\n",
    "len(random_results)"
   ]
  },
  {
   "cell_type": "code",
   "execution_count": 175,
   "metadata": {},
   "outputs": [
    {
     "data": {
      "text/markdown": [
       "\n",
       "\n",
       "**Result** *0*\n",
       "\n"
      ],
      "text/plain": [
       "<IPython.core.display.Markdown object>"
      ]
     },
     "metadata": {},
     "output_type": "display_data"
    },
    {
     "data": {
      "text/html": [
       "<div class=\"patom \" style=\"background-color: None;\">\n",
       "\n",
       "    <div class=\"phrase\">\n",
       "        <a href=\"https://shebanq.ancient-data.org/hebrew/text?book=Leviticus&chapter=9&verse=2&version=c&mr=m&qw=q&tp=txt_p&tr=hb&wget=v&qget=v&nget=vt\" title=\"Leviticus 9:2\" sec=\"Leviticus 9:2\">phrase</a> <a href=\"#\" class=\"nd\">685074</a>  <span class=\"function\">Objc</span> <span class=\"typ\">NP</span>\n",
       "    </div>\n",
       "    <div class=\"atoms\">\n",
       "\n",
       "<div class=\"word \" style=\"background-color: None;\">\n",
       "<a href=\"#\" class=\"nd\">56901</a>\n",
       "<div class=\"h\"><a target=\"_blank\" href=\"https://shebanq.ancient-data.org/hebrew/word?version=c&id=1OGLn\" title=\"show this lexeme in SHEBANQ\">עֵ֣גֶל </a></div>\n",
       "<div class=\"features\"> <span class=\"pdp\"><a href=\"https://shebanq.ancient-data.org/hebrew/text?book=Leviticus&chapter=9&verse=2&version=c&mr=m&qw=q&tp=txt_p&tr=hb&wget=v&qget=v&nget=vt\" title=\"Leviticus 9:2\" sec=\"Leviticus 9:2\">subs</a></span> <span class=\"gloss\">bull</span></div>\n",
       "\n",
       "\n",
       "</div>\n",
       "\n",
       "<div class=\"word \" style=\"background-color: None;\">\n",
       "<a href=\"#\" class=\"nd\">56902</a>\n",
       "<div class=\"h\"><a target=\"_blank\" href=\"https://shebanq.ancient-data.org/hebrew/word?version=c&id=1BNn\" title=\"show this lexeme in SHEBANQ\">בֶּן־</a></div>\n",
       "<div class=\"features\"> <span class=\"pdp\"><a href=\"https://shebanq.ancient-data.org/hebrew/text?book=Leviticus&chapter=9&verse=2&version=c&mr=m&qw=q&tp=txt_p&tr=hb&wget=v&qget=v&nget=vt\" title=\"Leviticus 9:2\" sec=\"Leviticus 9:2\">subs</a></span> <span class=\"gloss\">son</span></div>\n",
       "\n",
       "\n",
       "</div>\n",
       "\n",
       "<div class=\"word \" style=\"background-color: None;\">\n",
       "<a href=\"#\" class=\"nd\">56903</a>\n",
       "<div class=\"h\"><a target=\"_blank\" href=\"https://shebanq.ancient-data.org/hebrew/word?version=c&id=1BQRn\" title=\"show this lexeme in SHEBANQ\">בָּקָ֧ר </a></div>\n",
       "<div class=\"features\"> <span class=\"pdp\"><a href=\"https://shebanq.ancient-data.org/hebrew/text?book=Leviticus&chapter=9&verse=2&version=c&mr=m&qw=q&tp=txt_p&tr=hb&wget=v&qget=v&nget=vt\" title=\"Leviticus 9:2\" sec=\"Leviticus 9:2\">subs</a></span> <span class=\"gloss\">cattle</span></div>\n",
       "\n",
       "\n",
       "</div>\n",
       "\n",
       "<div class=\"word \" style=\"background-color: lightblue;\">\n",
       "<a href=\"#\" class=\"nd\">56904</a>\n",
       "<div class=\"h\"><a target=\"_blank\" href=\"https://shebanq.ancient-data.org/hebrew/word?version=c&id=1L\" title=\"show this lexeme in SHEBANQ\">לְ</a></div>\n",
       "<div class=\"features\"> <span class=\"pdp\"><a href=\"https://shebanq.ancient-data.org/hebrew/text?book=Leviticus&chapter=9&verse=2&version=c&mr=m&qw=q&tp=txt_p&tr=hb&wget=v&qget=v&nget=vt\" title=\"Leviticus 9:2\" sec=\"Leviticus 9:2\">prep</a></span> <span class=\"gloss\">to</span></div>\n",
       "\n",
       "\n",
       "</div>\n",
       "\n",
       "<div class=\"word \" style=\"background-color: pink;\">\n",
       "<a href=\"#\" class=\"nd\">56905</a>\n",
       "<div class=\"h\"><a target=\"_blank\" href=\"https://shebanq.ancient-data.org/hebrew/word?version=c&id=1XVATn\" title=\"show this lexeme in SHEBANQ\">חַטָּ֛את </a></div>\n",
       "<div class=\"features\"> <span class=\"pdp\"><a href=\"https://shebanq.ancient-data.org/hebrew/text?book=Leviticus&chapter=9&verse=2&version=c&mr=m&qw=q&tp=txt_p&tr=hb&wget=v&qget=v&nget=vt\" title=\"Leviticus 9:2\" sec=\"Leviticus 9:2\">subs</a></span> <span class=\"gloss\">sin</span></div>\n",
       "\n",
       "\n",
       "</div>\n",
       "\n",
       "<div class=\"word \" style=\"background-color: None;\">\n",
       "<a href=\"#\" class=\"nd\">56906</a>\n",
       "<div class=\"h\"><a target=\"_blank\" href=\"https://shebanq.ancient-data.org/hebrew/word?version=c&id=1W\" title=\"show this lexeme in SHEBANQ\">וְ</a></div>\n",
       "<div class=\"features\"> <span class=\"pdp\"><a href=\"https://shebanq.ancient-data.org/hebrew/text?book=Leviticus&chapter=9&verse=2&version=c&mr=m&qw=q&tp=txt_p&tr=hb&wget=v&qget=v&nget=vt\" title=\"Leviticus 9:2\" sec=\"Leviticus 9:2\">conj</a></span> <span class=\"gloss\">and</span></div>\n",
       "\n",
       "\n",
       "</div>\n",
       "\n",
       "<div class=\"word \" style=\"background-color: None;\">\n",
       "<a href=\"#\" class=\"nd\">56907</a>\n",
       "<div class=\"h\"><a target=\"_blank\" href=\"https://shebanq.ancient-data.org/hebrew/word?version=c&id=1AJLin\" title=\"show this lexeme in SHEBANQ\">אַ֥יִל </a></div>\n",
       "<div class=\"features\"> <span class=\"pdp\"><a href=\"https://shebanq.ancient-data.org/hebrew/text?book=Leviticus&chapter=9&verse=2&version=c&mr=m&qw=q&tp=txt_p&tr=hb&wget=v&qget=v&nget=vt\" title=\"Leviticus 9:2\" sec=\"Leviticus 9:2\">subs</a></span> <span class=\"gloss\">ram, despot</span></div>\n",
       "\n",
       "\n",
       "</div>\n",
       "\n",
       "<div class=\"word \" style=\"background-color: lightblue;\">\n",
       "<a href=\"#\" class=\"nd\">56908</a>\n",
       "<div class=\"h\"><a target=\"_blank\" href=\"https://shebanq.ancient-data.org/hebrew/word?version=c&id=1L\" title=\"show this lexeme in SHEBANQ\">לְ</a></div>\n",
       "<div class=\"features\"> <span class=\"pdp\"><a href=\"https://shebanq.ancient-data.org/hebrew/text?book=Leviticus&chapter=9&verse=2&version=c&mr=m&qw=q&tp=txt_p&tr=hb&wget=v&qget=v&nget=vt\" title=\"Leviticus 9:2\" sec=\"Leviticus 9:2\">prep</a></span> <span class=\"gloss\">to</span></div>\n",
       "\n",
       "\n",
       "</div>\n",
       "\n",
       "<div class=\"word \" style=\"background-color: pink;\">\n",
       "<a href=\"#\" class=\"nd\">56909</a>\n",
       "<div class=\"h\"><a target=\"_blank\" href=\"https://shebanq.ancient-data.org/hebrew/word?version=c&id=1OLHn\" title=\"show this lexeme in SHEBANQ\">עֹלָ֖ה </a></div>\n",
       "<div class=\"features\"> <span class=\"pdp\"><a href=\"https://shebanq.ancient-data.org/hebrew/text?book=Leviticus&chapter=9&verse=2&version=c&mr=m&qw=q&tp=txt_p&tr=hb&wget=v&qget=v&nget=vt\" title=\"Leviticus 9:2\" sec=\"Leviticus 9:2\">subs</a></span> <span class=\"gloss\">burnt-offering</span></div>\n",
       "\n",
       "\n",
       "</div>\n",
       "\n",
       "<div class=\"word \" style=\"background-color: None;\">\n",
       "<a href=\"#\" class=\"nd\">56910</a>\n",
       "<div class=\"h\"><a target=\"_blank\" href=\"https://shebanq.ancient-data.org/hebrew/word?version=c&id=1TMJMn\" title=\"show this lexeme in SHEBANQ\">תְּמִימִ֑ם </a></div>\n",
       "<div class=\"features\"> <span class=\"pdp\"><a href=\"https://shebanq.ancient-data.org/hebrew/text?book=Leviticus&chapter=9&verse=2&version=c&mr=m&qw=q&tp=txt_p&tr=hb&wget=v&qget=v&nget=vt\" title=\"Leviticus 9:2\" sec=\"Leviticus 9:2\">adjv</a></span> <span class=\"gloss\">complete</span></div>\n",
       "\n",
       "\n",
       "</div>\n",
       "\n",
       "\n",
       "    </div>\n",
       "\n",
       "\n",
       "</div>\n"
      ],
      "text/plain": [
       "<IPython.core.display.HTML object>"
      ]
     },
     "metadata": {},
     "output_type": "display_data"
    },
    {
     "data": {
      "text/markdown": [
       "\n",
       "\n",
       "**Result** *1*\n",
       "\n"
      ],
      "text/plain": [
       "<IPython.core.display.Markdown object>"
      ]
     },
     "metadata": {},
     "output_type": "display_data"
    },
    {
     "data": {
      "text/html": [
       "<div class=\"patom \" style=\"background-color: None;\">\n",
       "\n",
       "    <div class=\"phrase\">\n",
       "        <a href=\"https://shebanq.ancient-data.org/hebrew/text?book=Reges_I&chapter=21&verse=2&version=c&mr=m&qw=q&tp=txt_p&tr=hb&wget=v&qget=v&nget=vt\" title=\"1_Kings 21:2\" sec=\"1_Kings 21:2\">phrase</a> <a href=\"#\" class=\"nd\">762942</a>  <span class=\"function\">Cmpl</span> <span class=\"typ\">PP</span>\n",
       "    </div>\n",
       "    <div class=\"atoms\">\n",
       "\n",
       "<div class=\"word \" style=\"background-color: lightblue;\">\n",
       "<a href=\"#\" class=\"nd\">193011</a>\n",
       "<div class=\"h\"><a target=\"_blank\" href=\"https://shebanq.ancient-data.org/hebrew/word?version=c&id=1AL\" title=\"show this lexeme in SHEBANQ\">אֶל־</a></div>\n",
       "<div class=\"features\"> <span class=\"pdp\"><a href=\"https://shebanq.ancient-data.org/hebrew/text?book=Reges_I&chapter=21&verse=2&version=c&mr=m&qw=q&tp=txt_p&tr=hb&wget=v&qget=v&nget=vt\" title=\"1_Kings 21:2\" sec=\"1_Kings 21:2\">prep</a></span> <span class=\"gloss\">to</span></div>\n",
       "\n",
       "\n",
       "</div>\n",
       "\n",
       "<div class=\"word \" style=\"background-color: pink;\">\n",
       "<a href=\"#\" class=\"nd\">193012</a>\n",
       "<div class=\"h\"><a target=\"_blank\" href=\"https://shebanq.ancient-data.org/hebrew/word?version=c&id=1NBWTn\" title=\"show this lexeme in SHEBANQ\">נָבֹ֣ות׀ </a></div>\n",
       "<div class=\"features\"> <span class=\"pdp\"><a href=\"https://shebanq.ancient-data.org/hebrew/text?book=Reges_I&chapter=21&verse=2&version=c&mr=m&qw=q&tp=txt_p&tr=hb&wget=v&qget=v&nget=vt\" title=\"1_Kings 21:2\" sec=\"1_Kings 21:2\">nmpr</a></span> <span class=\"gloss\">Naboth</span></div>\n",
       "\n",
       "\n",
       "</div>\n",
       "\n",
       "\n",
       "    </div>\n",
       "\n",
       "\n",
       "</div>\n"
      ],
      "text/plain": [
       "<IPython.core.display.HTML object>"
      ]
     },
     "metadata": {},
     "output_type": "display_data"
    },
    {
     "data": {
      "text/markdown": [
       "\n",
       "\n",
       "**Result** *2*\n",
       "\n"
      ],
      "text/plain": [
       "<IPython.core.display.Markdown object>"
      ]
     },
     "metadata": {},
     "output_type": "display_data"
    },
    {
     "data": {
      "text/html": [
       "<div class=\"patom \" style=\"background-color: None;\">\n",
       "\n",
       "    <div class=\"phrase\">\n",
       "        <a href=\"https://shebanq.ancient-data.org/hebrew/text?book=Samuel_I&chapter=23&verse=4&version=c&mr=m&qw=q&tp=txt_p&tr=hb&wget=v&qget=v&nget=vt\" title=\"1_Samuel 23:4\" sec=\"1_Samuel 23:4\">phrase</a> <a href=\"#\" class=\"nd\">740524</a>  <span class=\"function\">Objc</span> <span class=\"typ\">PP</span>\n",
       "    </div>\n",
       "    <div class=\"atoms\">\n",
       "\n",
       "<div class=\"word \" style=\"background-color: lightblue;\">\n",
       "<a href=\"#\" class=\"nd\">155410</a>\n",
       "<div class=\"h\"><a target=\"_blank\" href=\"https://shebanq.ancient-data.org/hebrew/word?version=c&id=1AT\" title=\"show this lexeme in SHEBANQ\">אֶת־</a></div>\n",
       "<div class=\"features\"> <span class=\"pdp\"><a href=\"https://shebanq.ancient-data.org/hebrew/text?book=Samuel_I&chapter=23&verse=4&version=c&mr=m&qw=q&tp=txt_p&tr=hb&wget=v&qget=v&nget=vt\" title=\"1_Samuel 23:4\" sec=\"1_Samuel 23:4\">prep</a></span> <span class=\"gloss\">&lt;object marker></span></div>\n",
       "\n",
       "\n",
       "</div>\n",
       "\n",
       "<div class=\"word \" style=\"background-color: pink;\">\n",
       "<a href=\"#\" class=\"nd\">155411</a>\n",
       "<div class=\"h\"><a target=\"_blank\" href=\"https://shebanq.ancient-data.org/hebrew/word?version=c&id=1PLCTJn\" title=\"show this lexeme in SHEBANQ\">פְּלִשְׁתִּ֖ים </a></div>\n",
       "<div class=\"features\"> <span class=\"pdp\"><a href=\"https://shebanq.ancient-data.org/hebrew/text?book=Samuel_I&chapter=23&verse=4&version=c&mr=m&qw=q&tp=txt_p&tr=hb&wget=v&qget=v&nget=vt\" title=\"1_Samuel 23:4\" sec=\"1_Samuel 23:4\">subs</a></span> <span class=\"gloss\">Philistine</span></div>\n",
       "\n",
       "\n",
       "</div>\n",
       "\n",
       "\n",
       "    </div>\n",
       "\n",
       "\n",
       "</div>\n"
      ],
      "text/plain": [
       "<IPython.core.display.HTML object>"
      ]
     },
     "metadata": {},
     "output_type": "display_data"
    },
    {
     "data": {
      "text/markdown": [
       "\n",
       "\n",
       "**Result** *3*\n",
       "\n"
      ],
      "text/plain": [
       "<IPython.core.display.Markdown object>"
      ]
     },
     "metadata": {},
     "output_type": "display_data"
    },
    {
     "data": {
      "text/html": [
       "<div class=\"patom \" style=\"background-color: None;\">\n",
       "\n",
       "    <div class=\"phrase\">\n",
       "        <a href=\"https://shebanq.ancient-data.org/hebrew/text?book=Jeremia&chapter=45&verse=5&version=c&mr=m&qw=q&tp=txt_p&tr=hb&wget=v&qget=v&nget=vt\" title=\"Jeremiah 45:5\" sec=\"Jeremiah 45:5\">phrase</a> <a href=\"#\" class=\"nd\">803729</a>  <span class=\"function\">Cmpl</span> <span class=\"typ\">PP</span>\n",
       "    </div>\n",
       "    <div class=\"atoms\">\n",
       "\n",
       "<div class=\"word \" style=\"background-color: lightblue;\">\n",
       "<a href=\"#\" class=\"nd\">259689</a>\n",
       "<div class=\"h\"><a target=\"_blank\" href=\"https://shebanq.ancient-data.org/hebrew/word?version=c&id=1L\" title=\"show this lexeme in SHEBANQ\">לְ</a></div>\n",
       "<div class=\"features\"> <span class=\"pdp\"><a href=\"https://shebanq.ancient-data.org/hebrew/text?book=Jeremia&chapter=45&verse=5&version=c&mr=m&qw=q&tp=txt_p&tr=hb&wget=v&qget=v&nget=vt\" title=\"Jeremiah 45:5\" sec=\"Jeremiah 45:5\">prep</a></span> <span class=\"gloss\">to</span></div>\n",
       "\n",
       "\n",
       "</div>\n",
       "\n",
       "<div class=\"word \" style=\"background-color: pink;\">\n",
       "<a href=\"#\" class=\"nd\">259690</a>\n",
       "<div class=\"h\"><a target=\"_blank\" href=\"https://shebanq.ancient-data.org/hebrew/word?version=c&id=1CLLn\" title=\"show this lexeme in SHEBANQ\">שָׁלָ֔ל </a></div>\n",
       "<div class=\"features\"> <span class=\"pdp\"><a href=\"https://shebanq.ancient-data.org/hebrew/text?book=Jeremia&chapter=45&verse=5&version=c&mr=m&qw=q&tp=txt_p&tr=hb&wget=v&qget=v&nget=vt\" title=\"Jeremiah 45:5\" sec=\"Jeremiah 45:5\">subs</a></span> <span class=\"gloss\">plunder</span></div>\n",
       "\n",
       "\n",
       "</div>\n",
       "\n",
       "\n",
       "    </div>\n",
       "\n",
       "\n",
       "</div>\n"
      ],
      "text/plain": [
       "<IPython.core.display.HTML object>"
      ]
     },
     "metadata": {},
     "output_type": "display_data"
    },
    {
     "data": {
      "text/markdown": [
       "\n",
       "\n",
       "**Result** *4*\n",
       "\n"
      ],
      "text/plain": [
       "<IPython.core.display.Markdown object>"
      ]
     },
     "metadata": {},
     "output_type": "display_data"
    },
    {
     "data": {
      "text/html": [
       "<div class=\"patom \" style=\"background-color: None;\">\n",
       "\n",
       "    <div class=\"phrase\">\n",
       "        <a href=\"https://shebanq.ancient-data.org/hebrew/text?book=Samuel_I&chapter=17&verse=49&version=c&mr=m&qw=q&tp=txt_p&tr=hb&wget=v&qget=v&nget=vt\" title=\"1_Samuel 17:49\" sec=\"1_Samuel 17:49\">phrase</a> <a href=\"#\" class=\"nd\">738245</a>  <span class=\"function\">Cmpl</span> <span class=\"typ\">PP</span>\n",
       "    </div>\n",
       "    <div class=\"atoms\">\n",
       "\n",
       "<div class=\"word \" style=\"background-color: lightblue;\">\n",
       "<a href=\"#\" class=\"nd\">151942</a>\n",
       "<div class=\"h\"><a target=\"_blank\" href=\"https://shebanq.ancient-data.org/hebrew/word?version=c&id=1AL\" title=\"show this lexeme in SHEBANQ\">אֶל־</a></div>\n",
       "<div class=\"features\"> <span class=\"pdp\"><a href=\"https://shebanq.ancient-data.org/hebrew/text?book=Samuel_I&chapter=17&verse=49&version=c&mr=m&qw=q&tp=txt_p&tr=hb&wget=v&qget=v&nget=vt\" title=\"1_Samuel 17:49\" sec=\"1_Samuel 17:49\">prep</a></span> <span class=\"gloss\">to</span></div>\n",
       "\n",
       "\n",
       "</div>\n",
       "\n",
       "<div class=\"word \" style=\"background-color: pink;\">\n",
       "<a href=\"#\" class=\"nd\">151943</a>\n",
       "<div class=\"h\"><a target=\"_blank\" href=\"https://shebanq.ancient-data.org/hebrew/word?version=c&id=1MYXn\" title=\"show this lexeme in SHEBANQ\">מִצְחֹ֑ו </a></div>\n",
       "<div class=\"features\"> <span class=\"pdp\"><a href=\"https://shebanq.ancient-data.org/hebrew/text?book=Samuel_I&chapter=17&verse=49&version=c&mr=m&qw=q&tp=txt_p&tr=hb&wget=v&qget=v&nget=vt\" title=\"1_Samuel 17:49\" sec=\"1_Samuel 17:49\">subs</a></span> <span class=\"gloss\">forehead</span></div>\n",
       "\n",
       "\n",
       "</div>\n",
       "\n",
       "\n",
       "    </div>\n",
       "\n",
       "\n",
       "</div>\n"
      ],
      "text/plain": [
       "<IPython.core.display.HTML object>"
      ]
     },
     "metadata": {},
     "output_type": "display_data"
    },
    {
     "data": {
      "text/markdown": [
       "\n",
       "\n",
       "**Result** *5*\n",
       "\n"
      ],
      "text/plain": [
       "<IPython.core.display.Markdown object>"
      ]
     },
     "metadata": {},
     "output_type": "display_data"
    },
    {
     "data": {
      "text/html": [
       "<div class=\"patom  r\" style=\"background-color: None;\">\n",
       "\n",
       "    <div class=\"phrase\">\n",
       "        <a href=\"https://shebanq.ancient-data.org/hebrew/text?book=Chronica_I&chapter=16&verse=37&version=c&mr=m&qw=q&tp=txt_p&tr=hb&wget=v&qget=v&nget=vt\" title=\"1_Chronicles 16:37\" sec=\"1_Chronicles 16:37\">phrase</a> <a href=\"#\" class=\"nd\">891336</a>  <span class=\"function\">Cmpl</span> <span class=\"typ\">AdvP</span>\n",
       "    </div>\n",
       "    <div class=\"atoms\">\n",
       "\n",
       "<div class=\"word \" style=\"background-color: lightblue;\">\n",
       "<a href=\"#\" class=\"nd\">400082</a>\n",
       "<div class=\"h\"><a target=\"_blank\" href=\"https://shebanq.ancient-data.org/hebrew/word?version=c&id=1L\" title=\"show this lexeme in SHEBANQ\">לִ</a></div>\n",
       "<div class=\"features\"> <span class=\"pdp\"><a href=\"https://shebanq.ancient-data.org/hebrew/text?book=Chronica_I&chapter=16&verse=37&version=c&mr=m&qw=q&tp=txt_p&tr=hb&wget=v&qget=v&nget=vt\" title=\"1_Chronicles 16:37\" sec=\"1_Chronicles 16:37\">prep</a></span> <span class=\"gloss\">to</span></div>\n",
       "\n",
       "\n",
       "</div>\n",
       "\n",
       "<div class=\"word \" style=\"background-color: lightblue;\">\n",
       "<a href=\"#\" class=\"nd\">400083</a>\n",
       "<div class=\"h\"><a target=\"_blank\" href=\"https://shebanq.ancient-data.org/hebrew/word?version=c&id=1PNHn\" title=\"show this lexeme in SHEBANQ\">פְנֵי֙ </a></div>\n",
       "<div class=\"features\"> <span class=\"pdp\"><a href=\"https://shebanq.ancient-data.org/hebrew/text?book=Chronica_I&chapter=16&verse=37&version=c&mr=m&qw=q&tp=txt_p&tr=hb&wget=v&qget=v&nget=vt\" title=\"1_Chronicles 16:37\" sec=\"1_Chronicles 16:37\">subs</a></span> <span class=\"gloss\">face</span></div>\n",
       "\n",
       "\n",
       "</div>\n",
       "\n",
       "<div class=\"word \" style=\"background-color: pink;\">\n",
       "<a href=\"#\" class=\"nd\">400084</a>\n",
       "<div class=\"h\"><a target=\"_blank\" href=\"https://shebanq.ancient-data.org/hebrew/word?version=c&id=1ARWNn\" title=\"show this lexeme in SHEBANQ\">אֲרֹ֣ון </a></div>\n",
       "<div class=\"features\"> <span class=\"pdp\"><a href=\"https://shebanq.ancient-data.org/hebrew/text?book=Chronica_I&chapter=16&verse=37&version=c&mr=m&qw=q&tp=txt_p&tr=hb&wget=v&qget=v&nget=vt\" title=\"1_Chronicles 16:37\" sec=\"1_Chronicles 16:37\">subs</a></span> <span class=\"gloss\">ark</span></div>\n",
       "\n",
       "\n",
       "</div>\n",
       "\n",
       "<div class=\"word \" style=\"background-color: None;\">\n",
       "<a href=\"#\" class=\"nd\">400085</a>\n",
       "<div class=\"h\"><a target=\"_blank\" href=\"https://shebanq.ancient-data.org/hebrew/word?version=c&id=1BRJTn\" title=\"show this lexeme in SHEBANQ\">בְּרִית־</a></div>\n",
       "<div class=\"features\"> <span class=\"pdp\"><a href=\"https://shebanq.ancient-data.org/hebrew/text?book=Chronica_I&chapter=16&verse=37&version=c&mr=m&qw=q&tp=txt_p&tr=hb&wget=v&qget=v&nget=vt\" title=\"1_Chronicles 16:37\" sec=\"1_Chronicles 16:37\">subs</a></span> <span class=\"gloss\">covenant</span></div>\n",
       "\n",
       "\n",
       "</div>\n",
       "\n",
       "<div class=\"word \" style=\"background-color: pink;\">\n",
       "<a href=\"#\" class=\"nd\">400086</a>\n",
       "<div class=\"h\"><a target=\"_blank\" href=\"https://shebanq.ancient-data.org/hebrew/word?version=c&id=1JHWHn\" title=\"show this lexeme in SHEBANQ\">יְהוָ֔ה </a></div>\n",
       "<div class=\"features\"> <span class=\"pdp\"><a href=\"https://shebanq.ancient-data.org/hebrew/text?book=Chronica_I&chapter=16&verse=37&version=c&mr=m&qw=q&tp=txt_p&tr=hb&wget=v&qget=v&nget=vt\" title=\"1_Chronicles 16:37\" sec=\"1_Chronicles 16:37\">nmpr</a></span> <span class=\"gloss\">YHWH</span></div>\n",
       "\n",
       "\n",
       "</div>\n",
       "\n",
       "\n",
       "    </div>\n",
       "\n",
       "\n",
       "</div>\n"
      ],
      "text/plain": [
       "<IPython.core.display.HTML object>"
      ]
     },
     "metadata": {},
     "output_type": "display_data"
    },
    {
     "data": {
      "text/markdown": [
       "\n",
       "\n",
       "**Result** *6*\n",
       "\n"
      ],
      "text/plain": [
       "<IPython.core.display.Markdown object>"
      ]
     },
     "metadata": {},
     "output_type": "display_data"
    },
    {
     "data": {
      "text/html": [
       "<div class=\"patom \" style=\"background-color: None;\">\n",
       "\n",
       "    <div class=\"phrase\">\n",
       "        <a href=\"https://shebanq.ancient-data.org/hebrew/text?book=Genesis&chapter=19&verse=19&version=c&mr=m&qw=q&tp=txt_p&tr=hb&wget=v&qget=v&nget=vt\" title=\"Genesis 19:19\" sec=\"Genesis 19:19\">phrase</a> <a href=\"#\" class=\"nd\">656610</a>  <span class=\"function\">Pred</span> <span class=\"typ\">VP</span>\n",
       "    </div>\n",
       "    <div class=\"atoms\">\n",
       "\n",
       "<div class=\"word \" style=\"background-color: lightblue;\">\n",
       "<a href=\"#\" class=\"nd\">8850</a>\n",
       "<div class=\"h\"><a target=\"_blank\" href=\"https://shebanq.ancient-data.org/hebrew/word?version=c&id=1L\" title=\"show this lexeme in SHEBANQ\">לְ</a></div>\n",
       "<div class=\"features\"> <span class=\"pdp\"><a href=\"https://shebanq.ancient-data.org/hebrew/text?book=Genesis&chapter=19&verse=19&version=c&mr=m&qw=q&tp=txt_p&tr=hb&wget=v&qget=v&nget=vt\" title=\"Genesis 19:19\" sec=\"Genesis 19:19\">prep</a></span> <span class=\"gloss\">to</span></div>\n",
       "\n",
       "\n",
       "</div>\n",
       "\n",
       "<div class=\"word \" style=\"background-color: pink;\">\n",
       "<a href=\"#\" class=\"nd\">8851</a>\n",
       "<div class=\"h\"><a target=\"_blank\" href=\"https://shebanq.ancient-data.org/hebrew/word?version=c&id=1XJHv\" title=\"show this lexeme in SHEBANQ\">הַחֲיֹ֖ות </a></div>\n",
       "<div class=\"features\"> <span class=\"pdp\"><a href=\"https://shebanq.ancient-data.org/hebrew/text?book=Genesis&chapter=19&verse=19&version=c&mr=m&qw=q&tp=txt_p&tr=hb&wget=v&qget=v&nget=vt\" title=\"Genesis 19:19\" sec=\"Genesis 19:19\">verb</a></span> <span class=\"gloss\">be alive</span> <span class=\"vs\">hif</span> <span class=\"vt\">infc</span></div>\n",
       "\n",
       "\n",
       "</div>\n",
       "\n",
       "\n",
       "    </div>\n",
       "\n",
       "\n",
       "</div>\n"
      ],
      "text/plain": [
       "<IPython.core.display.HTML object>"
      ]
     },
     "metadata": {},
     "output_type": "display_data"
    },
    {
     "data": {
      "text/markdown": [
       "\n",
       "\n",
       "**Result** *7*\n",
       "\n"
      ],
      "text/plain": [
       "<IPython.core.display.Markdown object>"
      ]
     },
     "metadata": {},
     "output_type": "display_data"
    },
    {
     "data": {
      "text/html": [
       "<div class=\"patom \" style=\"background-color: None;\">\n",
       "\n",
       "    <div class=\"phrase\">\n",
       "        <a href=\"https://shebanq.ancient-data.org/hebrew/text?book=Reges_II&chapter=16&verse=8&version=c&mr=m&qw=q&tp=txt_p&tr=hb&wget=v&qget=v&nget=vt\" title=\"2_Kings 16:8\" sec=\"2_Kings 16:8\">phrase</a> <a href=\"#\" class=\"nd\">770482</a>  <span class=\"function\">Objc</span> <span class=\"typ\">PP</span>\n",
       "    </div>\n",
       "    <div class=\"atoms\">\n",
       "\n",
       "<div class=\"word \" style=\"background-color: lightblue;\">\n",
       "<a href=\"#\" class=\"nd\">205212</a>\n",
       "<div class=\"h\"><a target=\"_blank\" href=\"https://shebanq.ancient-data.org/hebrew/word?version=c&id=1AT\" title=\"show this lexeme in SHEBANQ\">אֶת־</a></div>\n",
       "<div class=\"features\"> <span class=\"pdp\"><a href=\"https://shebanq.ancient-data.org/hebrew/text?book=Reges_II&chapter=16&verse=8&version=c&mr=m&qw=q&tp=txt_p&tr=hb&wget=v&qget=v&nget=vt\" title=\"2_Kings 16:8\" sec=\"2_Kings 16:8\">prep</a></span> <span class=\"gloss\">&lt;object marker></span></div>\n",
       "\n",
       "\n",
       "</div>\n",
       "\n",
       "<div class=\"word \" style=\"background-color: None;\">\n",
       "<a href=\"#\" class=\"nd\">205213</a>\n",
       "<div class=\"h\"><a target=\"_blank\" href=\"https://shebanq.ancient-data.org/hebrew/word?version=c&id=1H\" title=\"show this lexeme in SHEBANQ\">הַ</a></div>\n",
       "<div class=\"features\"> <span class=\"pdp\"><a href=\"https://shebanq.ancient-data.org/hebrew/text?book=Reges_II&chapter=16&verse=8&version=c&mr=m&qw=q&tp=txt_p&tr=hb&wget=v&qget=v&nget=vt\" title=\"2_Kings 16:8\" sec=\"2_Kings 16:8\">art</a></span> <span class=\"gloss\">the</span></div>\n",
       "\n",
       "\n",
       "</div>\n",
       "\n",
       "<div class=\"word \" style=\"background-color: pink;\">\n",
       "<a href=\"#\" class=\"nd\">205214</a>\n",
       "<div class=\"h\"><a target=\"_blank\" href=\"https://shebanq.ancient-data.org/hebrew/word?version=c&id=1KSPn\" title=\"show this lexeme in SHEBANQ\">כֶּ֣סֶף </a></div>\n",
       "<div class=\"features\"> <span class=\"pdp\"><a href=\"https://shebanq.ancient-data.org/hebrew/text?book=Reges_II&chapter=16&verse=8&version=c&mr=m&qw=q&tp=txt_p&tr=hb&wget=v&qget=v&nget=vt\" title=\"2_Kings 16:8\" sec=\"2_Kings 16:8\">subs</a></span> <span class=\"gloss\">silver</span></div>\n",
       "\n",
       "\n",
       "</div>\n",
       "\n",
       "<div class=\"word \" style=\"background-color: None;\">\n",
       "<a href=\"#\" class=\"nd\">205215</a>\n",
       "<div class=\"h\"><a target=\"_blank\" href=\"https://shebanq.ancient-data.org/hebrew/word?version=c&id=1W\" title=\"show this lexeme in SHEBANQ\">וְ</a></div>\n",
       "<div class=\"features\"> <span class=\"pdp\"><a href=\"https://shebanq.ancient-data.org/hebrew/text?book=Reges_II&chapter=16&verse=8&version=c&mr=m&qw=q&tp=txt_p&tr=hb&wget=v&qget=v&nget=vt\" title=\"2_Kings 16:8\" sec=\"2_Kings 16:8\">conj</a></span> <span class=\"gloss\">and</span></div>\n",
       "\n",
       "\n",
       "</div>\n",
       "\n",
       "<div class=\"word \" style=\"background-color: lightblue;\">\n",
       "<a href=\"#\" class=\"nd\">205216</a>\n",
       "<div class=\"h\"><a target=\"_blank\" href=\"https://shebanq.ancient-data.org/hebrew/word?version=c&id=1AT\" title=\"show this lexeme in SHEBANQ\">אֶת־</a></div>\n",
       "<div class=\"features\"> <span class=\"pdp\"><a href=\"https://shebanq.ancient-data.org/hebrew/text?book=Reges_II&chapter=16&verse=8&version=c&mr=m&qw=q&tp=txt_p&tr=hb&wget=v&qget=v&nget=vt\" title=\"2_Kings 16:8\" sec=\"2_Kings 16:8\">prep</a></span> <span class=\"gloss\">&lt;object marker></span></div>\n",
       "\n",
       "\n",
       "</div>\n",
       "\n",
       "<div class=\"word \" style=\"background-color: None;\">\n",
       "<a href=\"#\" class=\"nd\">205217</a>\n",
       "<div class=\"h\"><a target=\"_blank\" href=\"https://shebanq.ancient-data.org/hebrew/word?version=c&id=1H\" title=\"show this lexeme in SHEBANQ\">הַ</a></div>\n",
       "<div class=\"features\"> <span class=\"pdp\"><a href=\"https://shebanq.ancient-data.org/hebrew/text?book=Reges_II&chapter=16&verse=8&version=c&mr=m&qw=q&tp=txt_p&tr=hb&wget=v&qget=v&nget=vt\" title=\"2_Kings 16:8\" sec=\"2_Kings 16:8\">art</a></span> <span class=\"gloss\">the</span></div>\n",
       "\n",
       "\n",
       "</div>\n",
       "\n",
       "<div class=\"word \" style=\"background-color: pink;\">\n",
       "<a href=\"#\" class=\"nd\">205218</a>\n",
       "<div class=\"h\"><a target=\"_blank\" href=\"https://shebanq.ancient-data.org/hebrew/word?version=c&id=1ZHBn\" title=\"show this lexeme in SHEBANQ\">זָּהָ֗ב </a></div>\n",
       "<div class=\"features\"> <span class=\"pdp\"><a href=\"https://shebanq.ancient-data.org/hebrew/text?book=Reges_II&chapter=16&verse=8&version=c&mr=m&qw=q&tp=txt_p&tr=hb&wget=v&qget=v&nget=vt\" title=\"2_Kings 16:8\" sec=\"2_Kings 16:8\">subs</a></span> <span class=\"gloss\">gold</span></div>\n",
       "\n",
       "\n",
       "</div>\n",
       "\n",
       "\n",
       "    </div>\n",
       "\n",
       "\n",
       "</div>\n"
      ],
      "text/plain": [
       "<IPython.core.display.HTML object>"
      ]
     },
     "metadata": {},
     "output_type": "display_data"
    },
    {
     "data": {
      "text/markdown": [
       "\n",
       "\n",
       "**Result** *8*\n",
       "\n"
      ],
      "text/plain": [
       "<IPython.core.display.Markdown object>"
      ]
     },
     "metadata": {},
     "output_type": "display_data"
    },
    {
     "data": {
      "text/html": [
       "<div class=\"patom \" style=\"background-color: None;\">\n",
       "\n",
       "    <div class=\"phrase\">\n",
       "        <a href=\"https://shebanq.ancient-data.org/hebrew/text?book=Numeri&chapter=17&verse=5&version=c&mr=m&qw=q&tp=txt_p&tr=hb&wget=v&qget=v&nget=vt\" title=\"Numbers 17:5\" sec=\"Numbers 17:5\">phrase</a> <a href=\"#\" class=\"nd\">697837</a>  <span class=\"function\">Cmpl</span> <span class=\"typ\">PP</span>\n",
       "    </div>\n",
       "    <div class=\"atoms\">\n",
       "\n",
       "<div class=\"word \" style=\"background-color: lightblue;\">\n",
       "<a href=\"#\" class=\"nd\">80826</a>\n",
       "<div class=\"h\"><a target=\"_blank\" href=\"https://shebanq.ancient-data.org/hebrew/word?version=c&id=1L\" title=\"show this lexeme in SHEBANQ\">לִ</a></div>\n",
       "<div class=\"features\"> <span class=\"pdp\"><a href=\"https://shebanq.ancient-data.org/hebrew/text?book=Numeri&chapter=17&verse=5&version=c&mr=m&qw=q&tp=txt_p&tr=hb&wget=v&qget=v&nget=vt\" title=\"Numbers 17:5\" sec=\"Numbers 17:5\">prep</a></span> <span class=\"gloss\">to</span></div>\n",
       "\n",
       "\n",
       "</div>\n",
       "\n",
       "<div class=\"word \" style=\"background-color: pink;\">\n",
       "<a href=\"#\" class=\"nd\">80827</a>\n",
       "<div class=\"h\"><a target=\"_blank\" href=\"https://shebanq.ancient-data.org/hebrew/word?version=c&id=1BNn\" title=\"show this lexeme in SHEBANQ\">בְנֵ֣י </a></div>\n",
       "<div class=\"features\"> <span class=\"pdp\"><a href=\"https://shebanq.ancient-data.org/hebrew/text?book=Numeri&chapter=17&verse=5&version=c&mr=m&qw=q&tp=txt_p&tr=hb&wget=v&qget=v&nget=vt\" title=\"Numbers 17:5\" sec=\"Numbers 17:5\">subs</a></span> <span class=\"gloss\">son</span></div>\n",
       "\n",
       "\n",
       "</div>\n",
       "\n",
       "<div class=\"word \" style=\"background-color: None;\">\n",
       "<a href=\"#\" class=\"nd\">80828</a>\n",
       "<div class=\"h\"><a target=\"_blank\" href=\"https://shebanq.ancient-data.org/hebrew/word?version=c&id=1JFRALn\" title=\"show this lexeme in SHEBANQ\">יִשְׂרָאֵ֗ל </a></div>\n",
       "<div class=\"features\"> <span class=\"pdp\"><a href=\"https://shebanq.ancient-data.org/hebrew/text?book=Numeri&chapter=17&verse=5&version=c&mr=m&qw=q&tp=txt_p&tr=hb&wget=v&qget=v&nget=vt\" title=\"Numbers 17:5\" sec=\"Numbers 17:5\">nmpr</a></span> <span class=\"gloss\">Israel</span></div>\n",
       "\n",
       "\n",
       "</div>\n",
       "\n",
       "\n",
       "    </div>\n",
       "\n",
       "\n",
       "</div>\n"
      ],
      "text/plain": [
       "<IPython.core.display.HTML object>"
      ]
     },
     "metadata": {},
     "output_type": "display_data"
    },
    {
     "data": {
      "text/markdown": [
       "\n",
       "\n",
       "**Result** *9*\n",
       "\n"
      ],
      "text/plain": [
       "<IPython.core.display.Markdown object>"
      ]
     },
     "metadata": {},
     "output_type": "display_data"
    },
    {
     "data": {
      "text/html": [
       "<div class=\"patom \" style=\"background-color: None;\">\n",
       "\n",
       "    <div class=\"phrase\">\n",
       "        <a href=\"https://shebanq.ancient-data.org/hebrew/text?book=Deuteronomium&chapter=28&verse=68&version=c&mr=m&qw=q&tp=txt_p&tr=hb&wget=v&qget=v&nget=vt\" title=\"Deuteronomy 28:68\" sec=\"Deuteronomy 28:68\">phrase</a> <a href=\"#\" class=\"nd\">713720</a>  <span class=\"function\">PreO</span> <span class=\"typ\">VP</span>\n",
       "    </div>\n",
       "    <div class=\"atoms\">\n",
       "\n",
       "<div class=\"word \" style=\"background-color: lightblue;\">\n",
       "<a href=\"#\" class=\"nd\">109491</a>\n",
       "<div class=\"h\"><a target=\"_blank\" href=\"https://shebanq.ancient-data.org/hebrew/word?version=c&id=1L\" title=\"show this lexeme in SHEBANQ\">לִ</a></div>\n",
       "<div class=\"features\"> <span class=\"pdp\"><a href=\"https://shebanq.ancient-data.org/hebrew/text?book=Deuteronomium&chapter=28&verse=68&version=c&mr=m&qw=q&tp=txt_p&tr=hb&wget=v&qget=v&nget=vt\" title=\"Deuteronomy 28:68\" sec=\"Deuteronomy 28:68\">prep</a></span> <span class=\"gloss\">to</span></div>\n",
       "\n",
       "\n",
       "</div>\n",
       "\n",
       "<div class=\"word \" style=\"background-color: pink;\">\n",
       "<a href=\"#\" class=\"nd\">109492</a>\n",
       "<div class=\"h\"><a target=\"_blank\" href=\"https://shebanq.ancient-data.org/hebrew/word?version=c&id=1RAHv\" title=\"show this lexeme in SHEBANQ\">רְאֹתָ֑הּ </a></div>\n",
       "<div class=\"features\"> <span class=\"pdp\"><a href=\"https://shebanq.ancient-data.org/hebrew/text?book=Deuteronomium&chapter=28&verse=68&version=c&mr=m&qw=q&tp=txt_p&tr=hb&wget=v&qget=v&nget=vt\" title=\"Deuteronomy 28:68\" sec=\"Deuteronomy 28:68\">verb</a></span> <span class=\"gloss\">see</span> <span class=\"vs\">qal</span> <span class=\"vt\">infc</span></div>\n",
       "\n",
       "\n",
       "</div>\n",
       "\n",
       "\n",
       "    </div>\n",
       "\n",
       "\n",
       "</div>\n"
      ],
      "text/plain": [
       "<IPython.core.display.HTML object>"
      ]
     },
     "metadata": {},
     "output_type": "display_data"
    },
    {
     "data": {
      "text/markdown": [
       "\n",
       "\n",
       "**Result** *10*\n",
       "\n"
      ],
      "text/plain": [
       "<IPython.core.display.Markdown object>"
      ]
     },
     "metadata": {},
     "output_type": "display_data"
    },
    {
     "data": {
      "text/html": [
       "<div class=\"patom \" style=\"background-color: None;\">\n",
       "\n",
       "    <div class=\"phrase\">\n",
       "        <a href=\"https://shebanq.ancient-data.org/hebrew/text?book=Reges_II&chapter=21&verse=14&version=c&mr=m&qw=q&tp=txt_p&tr=hb&wget=v&qget=v&nget=vt\" title=\"2_Kings 21:14\" sec=\"2_Kings 21:14\">phrase</a> <a href=\"#\" class=\"nd\">772646</a>  <span class=\"function\">PreC</span> <span class=\"typ\">PP</span>\n",
       "    </div>\n",
       "    <div class=\"atoms\">\n",
       "\n",
       "<div class=\"word \" style=\"background-color: lightblue;\">\n",
       "<a href=\"#\" class=\"nd\">208990</a>\n",
       "<div class=\"h\"><a target=\"_blank\" href=\"https://shebanq.ancient-data.org/hebrew/word?version=c&id=1L\" title=\"show this lexeme in SHEBANQ\">לְ</a></div>\n",
       "<div class=\"features\"> <span class=\"pdp\"><a href=\"https://shebanq.ancient-data.org/hebrew/text?book=Reges_II&chapter=21&verse=14&version=c&mr=m&qw=q&tp=txt_p&tr=hb&wget=v&qget=v&nget=vt\" title=\"2_Kings 21:14\" sec=\"2_Kings 21:14\">prep</a></span> <span class=\"gloss\">to</span></div>\n",
       "\n",
       "\n",
       "</div>\n",
       "\n",
       "<div class=\"word \" style=\"background-color: pink;\">\n",
       "<a href=\"#\" class=\"nd\">208991</a>\n",
       "<div class=\"h\"><a target=\"_blank\" href=\"https://shebanq.ancient-data.org/hebrew/word?version=c&id=1BZn\" title=\"show this lexeme in SHEBANQ\">בַ֛ז </a></div>\n",
       "<div class=\"features\"> <span class=\"pdp\"><a href=\"https://shebanq.ancient-data.org/hebrew/text?book=Reges_II&chapter=21&verse=14&version=c&mr=m&qw=q&tp=txt_p&tr=hb&wget=v&qget=v&nget=vt\" title=\"2_Kings 21:14\" sec=\"2_Kings 21:14\">subs</a></span> <span class=\"gloss\">spoiling</span></div>\n",
       "\n",
       "\n",
       "</div>\n",
       "\n",
       "<div class=\"word \" style=\"background-color: None;\">\n",
       "<a href=\"#\" class=\"nd\">208992</a>\n",
       "<div class=\"h\"><a target=\"_blank\" href=\"https://shebanq.ancient-data.org/hebrew/word?version=c&id=1W\" title=\"show this lexeme in SHEBANQ\">וְ</a></div>\n",
       "<div class=\"features\"> <span class=\"pdp\"><a href=\"https://shebanq.ancient-data.org/hebrew/text?book=Reges_II&chapter=21&verse=14&version=c&mr=m&qw=q&tp=txt_p&tr=hb&wget=v&qget=v&nget=vt\" title=\"2_Kings 21:14\" sec=\"2_Kings 21:14\">conj</a></span> <span class=\"gloss\">and</span></div>\n",
       "\n",
       "\n",
       "</div>\n",
       "\n",
       "<div class=\"word \" style=\"background-color: lightblue;\">\n",
       "<a href=\"#\" class=\"nd\">208993</a>\n",
       "<div class=\"h\"><a target=\"_blank\" href=\"https://shebanq.ancient-data.org/hebrew/word?version=c&id=1L\" title=\"show this lexeme in SHEBANQ\">לִ</a></div>\n",
       "<div class=\"features\"> <span class=\"pdp\"><a href=\"https://shebanq.ancient-data.org/hebrew/text?book=Reges_II&chapter=21&verse=14&version=c&mr=m&qw=q&tp=txt_p&tr=hb&wget=v&qget=v&nget=vt\" title=\"2_Kings 21:14\" sec=\"2_Kings 21:14\">prep</a></span> <span class=\"gloss\">to</span></div>\n",
       "\n",
       "\n",
       "</div>\n",
       "\n",
       "<div class=\"word \" style=\"background-color: pink;\">\n",
       "<a href=\"#\" class=\"nd\">208994</a>\n",
       "<div class=\"h\"><a target=\"_blank\" href=\"https://shebanq.ancient-data.org/hebrew/word?version=c&id=1MCSHn\" title=\"show this lexeme in SHEBANQ\">מְשִׁסָּ֖ה </a></div>\n",
       "<div class=\"features\"> <span class=\"pdp\"><a href=\"https://shebanq.ancient-data.org/hebrew/text?book=Reges_II&chapter=21&verse=14&version=c&mr=m&qw=q&tp=txt_p&tr=hb&wget=v&qget=v&nget=vt\" title=\"2_Kings 21:14\" sec=\"2_Kings 21:14\">subs</a></span> <span class=\"gloss\">plunder</span></div>\n",
       "\n",
       "\n",
       "</div>\n",
       "\n",
       "\n",
       "    </div>\n",
       "\n",
       "\n",
       "</div>\n"
      ],
      "text/plain": [
       "<IPython.core.display.HTML object>"
      ]
     },
     "metadata": {},
     "output_type": "display_data"
    },
    {
     "data": {
      "text/markdown": [
       "\n",
       "\n",
       "**Result** *11*\n",
       "\n"
      ],
      "text/plain": [
       "<IPython.core.display.Markdown object>"
      ]
     },
     "metadata": {},
     "output_type": "display_data"
    },
    {
     "data": {
      "text/html": [
       "<div class=\"patom \" style=\"background-color: None;\">\n",
       "\n",
       "    <div class=\"phrase\">\n",
       "        <a href=\"https://shebanq.ancient-data.org/hebrew/text?book=Josua&chapter=14&verse=8&version=c&mr=m&qw=q&tp=txt_p&tr=hb&wget=v&qget=v&nget=vt\" title=\"Joshua 14:8\" sec=\"Joshua 14:8\">phrase</a> <a href=\"#\" class=\"nd\">719994</a>  <span class=\"function\">Objc</span> <span class=\"typ\">PP</span>\n",
       "    </div>\n",
       "    <div class=\"atoms\">\n",
       "\n",
       "<div class=\"word \" style=\"background-color: lightblue;\">\n",
       "<a href=\"#\" class=\"nd\">121179</a>\n",
       "<div class=\"h\"><a target=\"_blank\" href=\"https://shebanq.ancient-data.org/hebrew/word?version=c&id=1AT\" title=\"show this lexeme in SHEBANQ\">אֶת־</a></div>\n",
       "<div class=\"features\"> <span class=\"pdp\"><a href=\"https://shebanq.ancient-data.org/hebrew/text?book=Josua&chapter=14&verse=8&version=c&mr=m&qw=q&tp=txt_p&tr=hb&wget=v&qget=v&nget=vt\" title=\"Joshua 14:8\" sec=\"Joshua 14:8\">prep</a></span> <span class=\"gloss\">&lt;object marker></span></div>\n",
       "\n",
       "\n",
       "</div>\n",
       "\n",
       "<div class=\"word \" style=\"background-color: pink;\">\n",
       "<a href=\"#\" class=\"nd\">121180</a>\n",
       "<div class=\"h\"><a target=\"_blank\" href=\"https://shebanq.ancient-data.org/hebrew/word?version=c&id=1LBn\" title=\"show this lexeme in SHEBANQ\">לֵ֣ב </a></div>\n",
       "<div class=\"features\"> <span class=\"pdp\"><a href=\"https://shebanq.ancient-data.org/hebrew/text?book=Josua&chapter=14&verse=8&version=c&mr=m&qw=q&tp=txt_p&tr=hb&wget=v&qget=v&nget=vt\" title=\"Joshua 14:8\" sec=\"Joshua 14:8\">subs</a></span> <span class=\"gloss\">heart</span></div>\n",
       "\n",
       "\n",
       "</div>\n",
       "\n",
       "<div class=\"word \" style=\"background-color: None;\">\n",
       "<a href=\"#\" class=\"nd\">121181</a>\n",
       "<div class=\"h\"><a target=\"_blank\" href=\"https://shebanq.ancient-data.org/hebrew/word?version=c&id=1H\" title=\"show this lexeme in SHEBANQ\">הָ</a></div>\n",
       "<div class=\"features\"> <span class=\"pdp\"><a href=\"https://shebanq.ancient-data.org/hebrew/text?book=Josua&chapter=14&verse=8&version=c&mr=m&qw=q&tp=txt_p&tr=hb&wget=v&qget=v&nget=vt\" title=\"Joshua 14:8\" sec=\"Joshua 14:8\">art</a></span> <span class=\"gloss\">the</span></div>\n",
       "\n",
       "\n",
       "</div>\n",
       "\n",
       "<div class=\"word \" style=\"background-color: None;\">\n",
       "<a href=\"#\" class=\"nd\">121182</a>\n",
       "<div class=\"h\"><a target=\"_blank\" href=\"https://shebanq.ancient-data.org/hebrew/word?version=c&id=1OMn\" title=\"show this lexeme in SHEBANQ\">עָ֑ם </a></div>\n",
       "<div class=\"features\"> <span class=\"pdp\"><a href=\"https://shebanq.ancient-data.org/hebrew/text?book=Josua&chapter=14&verse=8&version=c&mr=m&qw=q&tp=txt_p&tr=hb&wget=v&qget=v&nget=vt\" title=\"Joshua 14:8\" sec=\"Joshua 14:8\">subs</a></span> <span class=\"gloss\">people</span></div>\n",
       "\n",
       "\n",
       "</div>\n",
       "\n",
       "\n",
       "    </div>\n",
       "\n",
       "\n",
       "</div>\n"
      ],
      "text/plain": [
       "<IPython.core.display.HTML object>"
      ]
     },
     "metadata": {},
     "output_type": "display_data"
    },
    {
     "data": {
      "text/markdown": [
       "\n",
       "\n",
       "**Result** *12*\n",
       "\n"
      ],
      "text/plain": [
       "<IPython.core.display.Markdown object>"
      ]
     },
     "metadata": {},
     "output_type": "display_data"
    },
    {
     "data": {
      "text/html": [
       "<div class=\"patom  l\" style=\"background-color: None;\">\n",
       "\n",
       "    <div class=\"phrase\">\n",
       "        <a href=\"https://shebanq.ancient-data.org/hebrew/text?book=Genesis&chapter=37&verse=36&version=c&mr=m&qw=q&tp=txt_p&tr=hb&wget=v&qget=v&nget=vt\" title=\"Genesis 37:36\" sec=\"Genesis 37:36\">phrase</a> <a href=\"#\" class=\"nd\">664383</a>  <span class=\"function\">Cmpl</span> <span class=\"typ\">PP</span>\n",
       "    </div>\n",
       "    <div class=\"atoms\">\n",
       "\n",
       "<div class=\"word \" style=\"background-color: lightblue;\">\n",
       "<a href=\"#\" class=\"nd\">20838</a>\n",
       "<div class=\"h\"><a target=\"_blank\" href=\"https://shebanq.ancient-data.org/hebrew/word?version=c&id=1L\" title=\"show this lexeme in SHEBANQ\">לְ</a></div>\n",
       "<div class=\"features\"> <span class=\"pdp\"><a href=\"https://shebanq.ancient-data.org/hebrew/text?book=Genesis&chapter=37&verse=36&version=c&mr=m&qw=q&tp=txt_p&tr=hb&wget=v&qget=v&nget=vt\" title=\"Genesis 37:36\" sec=\"Genesis 37:36\">prep</a></span> <span class=\"gloss\">to</span></div>\n",
       "\n",
       "\n",
       "</div>\n",
       "\n",
       "<div class=\"word \" style=\"background-color: pink;\">\n",
       "<a href=\"#\" class=\"nd\">20839</a>\n",
       "<div class=\"h\"><a target=\"_blank\" href=\"https://shebanq.ancient-data.org/hebrew/word?version=c&id=1PWVJPRn\" title=\"show this lexeme in SHEBANQ\">פֹֽוטִיפַר֙ </a></div>\n",
       "<div class=\"features\"> <span class=\"pdp\"><a href=\"https://shebanq.ancient-data.org/hebrew/text?book=Genesis&chapter=37&verse=36&version=c&mr=m&qw=q&tp=txt_p&tr=hb&wget=v&qget=v&nget=vt\" title=\"Genesis 37:36\" sec=\"Genesis 37:36\">nmpr</a></span> <span class=\"gloss\">Potiphar</span></div>\n",
       "\n",
       "\n",
       "</div>\n",
       "\n",
       "\n",
       "    </div>\n",
       "\n",
       "\n",
       "</div>\n"
      ],
      "text/plain": [
       "<IPython.core.display.HTML object>"
      ]
     },
     "metadata": {},
     "output_type": "display_data"
    },
    {
     "data": {
      "text/markdown": [
       "\n",
       "\n",
       "**Result** *13*\n",
       "\n"
      ],
      "text/plain": [
       "<IPython.core.display.Markdown object>"
      ]
     },
     "metadata": {},
     "output_type": "display_data"
    },
    {
     "data": {
      "text/html": [
       "<div class=\"patom \" style=\"background-color: None;\">\n",
       "\n",
       "    <div class=\"phrase\">\n",
       "        <a href=\"https://shebanq.ancient-data.org/hebrew/text?book=Jeremia&chapter=39&verse=17&version=c&mr=m&qw=q&tp=txt_p&tr=hb&wget=v&qget=v&nget=vt\" title=\"Jeremiah 39:17\" sec=\"Jeremiah 39:17\">phrase</a> <a href=\"#\" class=\"nd\">802163</a>  <span class=\"function\">Cmpl</span> <span class=\"typ\">PP</span>\n",
       "    </div>\n",
       "    <div class=\"atoms\">\n",
       "\n",
       "<div class=\"word \" style=\"background-color: lightblue;\">\n",
       "<a href=\"#\" class=\"nd\">256758</a>\n",
       "<div class=\"h\"><a target=\"_blank\" href=\"https://shebanq.ancient-data.org/hebrew/word?version=c&id=1MN\" title=\"show this lexeme in SHEBANQ\">מִ</a></div>\n",
       "<div class=\"features\"> <span class=\"pdp\"><a href=\"https://shebanq.ancient-data.org/hebrew/text?book=Jeremia&chapter=39&verse=17&version=c&mr=m&qw=q&tp=txt_p&tr=hb&wget=v&qget=v&nget=vt\" title=\"Jeremiah 39:17\" sec=\"Jeremiah 39:17\">prep</a></span> <span class=\"gloss\">from</span></div>\n",
       "\n",
       "\n",
       "</div>\n",
       "\n",
       "<div class=\"word \" style=\"background-color: pink;\">\n",
       "<a href=\"#\" class=\"nd\">256759</a>\n",
       "<div class=\"h\"><a target=\"_blank\" href=\"https://shebanq.ancient-data.org/hebrew/word?version=c&id=1PNHn\" title=\"show this lexeme in SHEBANQ\">פְּנֵיהֶֽם׃ </a></div>\n",
       "<div class=\"features\"> <span class=\"pdp\"><a href=\"https://shebanq.ancient-data.org/hebrew/text?book=Jeremia&chapter=39&verse=17&version=c&mr=m&qw=q&tp=txt_p&tr=hb&wget=v&qget=v&nget=vt\" title=\"Jeremiah 39:17\" sec=\"Jeremiah 39:17\">subs</a></span> <span class=\"gloss\">face</span></div>\n",
       "\n",
       "\n",
       "</div>\n",
       "\n",
       "\n",
       "    </div>\n",
       "\n",
       "\n",
       "</div>\n"
      ],
      "text/plain": [
       "<IPython.core.display.HTML object>"
      ]
     },
     "metadata": {},
     "output_type": "display_data"
    },
    {
     "data": {
      "text/markdown": [
       "\n",
       "\n",
       "**Result** *14*\n",
       "\n"
      ],
      "text/plain": [
       "<IPython.core.display.Markdown object>"
      ]
     },
     "metadata": {},
     "output_type": "display_data"
    },
    {
     "data": {
      "text/html": [
       "<div class=\"patom \" style=\"background-color: None;\">\n",
       "\n",
       "    <div class=\"phrase\">\n",
       "        <a href=\"https://shebanq.ancient-data.org/hebrew/text?book=Esther&chapter=1&verse=22&version=c&mr=m&qw=q&tp=txt_p&tr=hb&wget=v&qget=v&nget=vt\" title=\"Esther 1:22\" sec=\"Esther 1:22\">phrase</a> <a href=\"#\" class=\"nd\">874148</a>  <span class=\"function\">Cmpl</span> <span class=\"typ\">PP</span>\n",
       "    </div>\n",
       "    <div class=\"atoms\">\n",
       "\n",
       "<div class=\"word \" style=\"background-color: lightblue;\">\n",
       "<a href=\"#\" class=\"nd\">365997</a>\n",
       "<div class=\"h\"><a target=\"_blank\" href=\"https://shebanq.ancient-data.org/hebrew/word?version=c&id=1AL\" title=\"show this lexeme in SHEBANQ\">אֶל־</a></div>\n",
       "<div class=\"features\"> <span class=\"pdp\"><a href=\"https://shebanq.ancient-data.org/hebrew/text?book=Esther&chapter=1&verse=22&version=c&mr=m&qw=q&tp=txt_p&tr=hb&wget=v&qget=v&nget=vt\" title=\"Esther 1:22\" sec=\"Esther 1:22\">prep</a></span> <span class=\"gloss\">to</span></div>\n",
       "\n",
       "\n",
       "</div>\n",
       "\n",
       "<div class=\"word \" style=\"background-color: pink;\">\n",
       "<a href=\"#\" class=\"nd\">365998</a>\n",
       "<div class=\"h\"><a target=\"_blank\" href=\"https://shebanq.ancient-data.org/hebrew/word?version=c&id=1MDJNHn\" title=\"show this lexeme in SHEBANQ\">מְדִינָ֤ה </a></div>\n",
       "<div class=\"features\"> <span class=\"pdp\"><a href=\"https://shebanq.ancient-data.org/hebrew/text?book=Esther&chapter=1&verse=22&version=c&mr=m&qw=q&tp=txt_p&tr=hb&wget=v&qget=v&nget=vt\" title=\"Esther 1:22\" sec=\"Esther 1:22\">subs</a></span> <span class=\"gloss\">district</span></div>\n",
       "\n",
       "\n",
       "</div>\n",
       "\n",
       "<div class=\"word \" style=\"background-color: None;\">\n",
       "<a href=\"#\" class=\"nd\">365999</a>\n",
       "<div class=\"h\"><a target=\"_blank\" href=\"https://shebanq.ancient-data.org/hebrew/word?version=c&id=1W\" title=\"show this lexeme in SHEBANQ\">וּ</a></div>\n",
       "<div class=\"features\"> <span class=\"pdp\"><a href=\"https://shebanq.ancient-data.org/hebrew/text?book=Esther&chapter=1&verse=22&version=c&mr=m&qw=q&tp=txt_p&tr=hb&wget=v&qget=v&nget=vt\" title=\"Esther 1:22\" sec=\"Esther 1:22\">conj</a></span> <span class=\"gloss\">and</span></div>\n",
       "\n",
       "\n",
       "</div>\n",
       "\n",
       "<div class=\"word \" style=\"background-color: pink;\">\n",
       "<a href=\"#\" class=\"nd\">366000</a>\n",
       "<div class=\"h\"><a target=\"_blank\" href=\"https://shebanq.ancient-data.org/hebrew/word?version=c&id=1MDJNHn\" title=\"show this lexeme in SHEBANQ\">מְדִינָה֙ </a></div>\n",
       "<div class=\"features\"> <span class=\"pdp\"><a href=\"https://shebanq.ancient-data.org/hebrew/text?book=Esther&chapter=1&verse=22&version=c&mr=m&qw=q&tp=txt_p&tr=hb&wget=v&qget=v&nget=vt\" title=\"Esther 1:22\" sec=\"Esther 1:22\">subs</a></span> <span class=\"gloss\">district</span></div>\n",
       "\n",
       "\n",
       "</div>\n",
       "\n",
       "\n",
       "    </div>\n",
       "\n",
       "\n",
       "</div>\n"
      ],
      "text/plain": [
       "<IPython.core.display.HTML object>"
      ]
     },
     "metadata": {},
     "output_type": "display_data"
    },
    {
     "data": {
      "text/markdown": [
       "\n",
       "\n",
       "**Result** *15*\n",
       "\n"
      ],
      "text/plain": [
       "<IPython.core.display.Markdown object>"
      ]
     },
     "metadata": {},
     "output_type": "display_data"
    },
    {
     "data": {
      "text/html": [
       "<div class=\"patom \" style=\"background-color: None;\">\n",
       "\n",
       "    <div class=\"phrase\">\n",
       "        <a href=\"https://shebanq.ancient-data.org/hebrew/text?book=Numeri&chapter=32&verse=14&version=c&mr=m&qw=q&tp=txt_p&tr=hb&wget=v&qget=v&nget=vt\" title=\"Numbers 32:14\" sec=\"Numbers 32:14\">phrase</a> <a href=\"#\" class=\"nd\">702736</a>  <span class=\"function\">Cmpl</span> <span class=\"typ\">PP</span>\n",
       "    </div>\n",
       "    <div class=\"atoms\">\n",
       "\n",
       "<div class=\"word \" style=\"background-color: lightblue;\">\n",
       "<a href=\"#\" class=\"nd\">90152</a>\n",
       "<div class=\"h\"><a target=\"_blank\" href=\"https://shebanq.ancient-data.org/hebrew/word?version=c&id=1TXTn\" title=\"show this lexeme in SHEBANQ\">תַּ֚חַת </a></div>\n",
       "<div class=\"features\"> <span class=\"pdp\"><a href=\"https://shebanq.ancient-data.org/hebrew/text?book=Numeri&chapter=32&verse=14&version=c&mr=m&qw=q&tp=txt_p&tr=hb&wget=v&qget=v&nget=vt\" title=\"Numbers 32:14\" sec=\"Numbers 32:14\">prep</a></span> <span class=\"gloss\">under part</span></div>\n",
       "\n",
       "\n",
       "</div>\n",
       "\n",
       "<div class=\"word \" style=\"background-color: pink;\">\n",
       "<a href=\"#\" class=\"nd\">90153</a>\n",
       "<div class=\"h\"><a target=\"_blank\" href=\"https://shebanq.ancient-data.org/hebrew/word?version=c&id=1ABn\" title=\"show this lexeme in SHEBANQ\">אֲבֹ֣תֵיכֶ֔ם </a></div>\n",
       "<div class=\"features\"> <span class=\"pdp\"><a href=\"https://shebanq.ancient-data.org/hebrew/text?book=Numeri&chapter=32&verse=14&version=c&mr=m&qw=q&tp=txt_p&tr=hb&wget=v&qget=v&nget=vt\" title=\"Numbers 32:14\" sec=\"Numbers 32:14\">subs</a></span> <span class=\"gloss\">father</span></div>\n",
       "\n",
       "\n",
       "</div>\n",
       "\n",
       "\n",
       "    </div>\n",
       "\n",
       "\n",
       "</div>\n"
      ],
      "text/plain": [
       "<IPython.core.display.HTML object>"
      ]
     },
     "metadata": {},
     "output_type": "display_data"
    },
    {
     "data": {
      "text/markdown": [
       "\n",
       "\n",
       "**Result** *16*\n",
       "\n"
      ],
      "text/plain": [
       "<IPython.core.display.Markdown object>"
      ]
     },
     "metadata": {},
     "output_type": "display_data"
    },
    {
     "data": {
      "text/html": [
       "<div class=\"patom \" style=\"background-color: None;\">\n",
       "\n",
       "    <div class=\"phrase\">\n",
       "        <a href=\"https://shebanq.ancient-data.org/hebrew/text?book=Numeri&chapter=20&verse=16&version=c&mr=m&qw=q&tp=txt_p&tr=hb&wget=v&qget=v&nget=vt\" title=\"Numbers 20:16\" sec=\"Numbers 20:16\">phrase</a> <a href=\"#\" class=\"nd\">698954</a>  <span class=\"function\">Cmpl</span> <span class=\"typ\">PP</span>\n",
       "    </div>\n",
       "    <div class=\"atoms\">\n",
       "\n",
       "<div class=\"word \" style=\"background-color: lightblue;\">\n",
       "<a href=\"#\" class=\"nd\">82868</a>\n",
       "<div class=\"h\"><a target=\"_blank\" href=\"https://shebanq.ancient-data.org/hebrew/word?version=c&id=1MN\" title=\"show this lexeme in SHEBANQ\">מִ</a></div>\n",
       "<div class=\"features\"> <span class=\"pdp\"><a href=\"https://shebanq.ancient-data.org/hebrew/text?book=Numeri&chapter=20&verse=16&version=c&mr=m&qw=q&tp=txt_p&tr=hb&wget=v&qget=v&nget=vt\" title=\"Numbers 20:16\" sec=\"Numbers 20:16\">prep</a></span> <span class=\"gloss\">from</span></div>\n",
       "\n",
       "\n",
       "</div>\n",
       "\n",
       "<div class=\"word \" style=\"background-color: pink;\">\n",
       "<a href=\"#\" class=\"nd\">82869</a>\n",
       "<div class=\"h\"><a target=\"_blank\" href=\"https://shebanq.ancient-data.org/hebrew/word?version=c&id=1MYRJMn\" title=\"show this lexeme in SHEBANQ\">מִּצְרָ֑יִם </a></div>\n",
       "<div class=\"features\"> <span class=\"pdp\"><a href=\"https://shebanq.ancient-data.org/hebrew/text?book=Numeri&chapter=20&verse=16&version=c&mr=m&qw=q&tp=txt_p&tr=hb&wget=v&qget=v&nget=vt\" title=\"Numbers 20:16\" sec=\"Numbers 20:16\">nmpr</a></span> <span class=\"gloss\">Egypt</span></div>\n",
       "\n",
       "\n",
       "</div>\n",
       "\n",
       "\n",
       "    </div>\n",
       "\n",
       "\n",
       "</div>\n"
      ],
      "text/plain": [
       "<IPython.core.display.HTML object>"
      ]
     },
     "metadata": {},
     "output_type": "display_data"
    },
    {
     "data": {
      "text/markdown": [
       "\n",
       "\n",
       "**Result** *17*\n",
       "\n"
      ],
      "text/plain": [
       "<IPython.core.display.Markdown object>"
      ]
     },
     "metadata": {},
     "output_type": "display_data"
    },
    {
     "data": {
      "text/html": [
       "<div class=\"patom \" style=\"background-color: None;\">\n",
       "\n",
       "    <div class=\"phrase\">\n",
       "        <a href=\"https://shebanq.ancient-data.org/hebrew/text?book=Nehemia&chapter=9&verse=24&version=c&mr=m&qw=q&tp=txt_p&tr=hb&wget=v&qget=v&nget=vt\" title=\"Nehemiah 9:24\" sec=\"Nehemiah 9:24\">phrase</a> <a href=\"#\" class=\"nd\">886158</a>  <span class=\"function\">Objc</span> <span class=\"typ\">PP</span>\n",
       "    </div>\n",
       "    <div class=\"atoms\">\n",
       "\n",
       "<div class=\"word \" style=\"background-color: lightblue;\">\n",
       "<a href=\"#\" class=\"nd\">388329</a>\n",
       "<div class=\"h\"><a target=\"_blank\" href=\"https://shebanq.ancient-data.org/hebrew/word?version=c&id=1AT\" title=\"show this lexeme in SHEBANQ\">אֶת־</a></div>\n",
       "<div class=\"features\"> <span class=\"pdp\"><a href=\"https://shebanq.ancient-data.org/hebrew/text?book=Nehemia&chapter=9&verse=24&version=c&mr=m&qw=q&tp=txt_p&tr=hb&wget=v&qget=v&nget=vt\" title=\"Nehemiah 9:24\" sec=\"Nehemiah 9:24\">prep</a></span> <span class=\"gloss\">&lt;object marker></span></div>\n",
       "\n",
       "\n",
       "</div>\n",
       "\n",
       "<div class=\"word \" style=\"background-color: pink;\">\n",
       "<a href=\"#\" class=\"nd\">388330</a>\n",
       "<div class=\"h\"><a target=\"_blank\" href=\"https://shebanq.ancient-data.org/hebrew/word?version=c&id=1MLKn\" title=\"show this lexeme in SHEBANQ\">מַלְכֵיהֶם֙ </a></div>\n",
       "<div class=\"features\"> <span class=\"pdp\"><a href=\"https://shebanq.ancient-data.org/hebrew/text?book=Nehemia&chapter=9&verse=24&version=c&mr=m&qw=q&tp=txt_p&tr=hb&wget=v&qget=v&nget=vt\" title=\"Nehemiah 9:24\" sec=\"Nehemiah 9:24\">subs</a></span> <span class=\"gloss\">king</span></div>\n",
       "\n",
       "\n",
       "</div>\n",
       "\n",
       "<div class=\"word \" style=\"background-color: None;\">\n",
       "<a href=\"#\" class=\"nd\">388331</a>\n",
       "<div class=\"h\"><a target=\"_blank\" href=\"https://shebanq.ancient-data.org/hebrew/word?version=c&id=1W\" title=\"show this lexeme in SHEBANQ\">וְ</a></div>\n",
       "<div class=\"features\"> <span class=\"pdp\"><a href=\"https://shebanq.ancient-data.org/hebrew/text?book=Nehemia&chapter=9&verse=24&version=c&mr=m&qw=q&tp=txt_p&tr=hb&wget=v&qget=v&nget=vt\" title=\"Nehemiah 9:24\" sec=\"Nehemiah 9:24\">conj</a></span> <span class=\"gloss\">and</span></div>\n",
       "\n",
       "\n",
       "</div>\n",
       "\n",
       "<div class=\"word \" style=\"background-color: lightblue;\">\n",
       "<a href=\"#\" class=\"nd\">388332</a>\n",
       "<div class=\"h\"><a target=\"_blank\" href=\"https://shebanq.ancient-data.org/hebrew/word?version=c&id=1AT\" title=\"show this lexeme in SHEBANQ\">אֶת־</a></div>\n",
       "<div class=\"features\"> <span class=\"pdp\"><a href=\"https://shebanq.ancient-data.org/hebrew/text?book=Nehemia&chapter=9&verse=24&version=c&mr=m&qw=q&tp=txt_p&tr=hb&wget=v&qget=v&nget=vt\" title=\"Nehemiah 9:24\" sec=\"Nehemiah 9:24\">prep</a></span> <span class=\"gloss\">&lt;object marker></span></div>\n",
       "\n",
       "\n",
       "</div>\n",
       "\n",
       "<div class=\"word \" style=\"background-color: pink;\">\n",
       "<a href=\"#\" class=\"nd\">388333</a>\n",
       "<div class=\"h\"><a target=\"_blank\" href=\"https://shebanq.ancient-data.org/hebrew/word?version=c&id=1OMn\" title=\"show this lexeme in SHEBANQ\">עַֽמְמֵ֣י </a></div>\n",
       "<div class=\"features\"> <span class=\"pdp\"><a href=\"https://shebanq.ancient-data.org/hebrew/text?book=Nehemia&chapter=9&verse=24&version=c&mr=m&qw=q&tp=txt_p&tr=hb&wget=v&qget=v&nget=vt\" title=\"Nehemiah 9:24\" sec=\"Nehemiah 9:24\">subs</a></span> <span class=\"gloss\">people</span></div>\n",
       "\n",
       "\n",
       "</div>\n",
       "\n",
       "<div class=\"word \" style=\"background-color: None;\">\n",
       "<a href=\"#\" class=\"nd\">388334</a>\n",
       "<div class=\"h\"><a target=\"_blank\" href=\"https://shebanq.ancient-data.org/hebrew/word?version=c&id=1H\" title=\"show this lexeme in SHEBANQ\">הָ</a></div>\n",
       "<div class=\"features\"> <span class=\"pdp\"><a href=\"https://shebanq.ancient-data.org/hebrew/text?book=Nehemia&chapter=9&verse=24&version=c&mr=m&qw=q&tp=txt_p&tr=hb&wget=v&qget=v&nget=vt\" title=\"Nehemiah 9:24\" sec=\"Nehemiah 9:24\">art</a></span> <span class=\"gloss\">the</span></div>\n",
       "\n",
       "\n",
       "</div>\n",
       "\n",
       "<div class=\"word \" style=\"background-color: None;\">\n",
       "<a href=\"#\" class=\"nd\">388335</a>\n",
       "<div class=\"h\"><a target=\"_blank\" href=\"https://shebanq.ancient-data.org/hebrew/word?version=c&id=1ARYn\" title=\"show this lexeme in SHEBANQ\">אָ֔רֶץ </a></div>\n",
       "<div class=\"features\"> <span class=\"pdp\"><a href=\"https://shebanq.ancient-data.org/hebrew/text?book=Nehemia&chapter=9&verse=24&version=c&mr=m&qw=q&tp=txt_p&tr=hb&wget=v&qget=v&nget=vt\" title=\"Nehemiah 9:24\" sec=\"Nehemiah 9:24\">subs</a></span> <span class=\"gloss\">earth</span></div>\n",
       "\n",
       "\n",
       "</div>\n",
       "\n",
       "\n",
       "    </div>\n",
       "\n",
       "\n",
       "</div>\n"
      ],
      "text/plain": [
       "<IPython.core.display.HTML object>"
      ]
     },
     "metadata": {},
     "output_type": "display_data"
    },
    {
     "data": {
      "text/markdown": [
       "\n",
       "\n",
       "**Result** *18*\n",
       "\n"
      ],
      "text/plain": [
       "<IPython.core.display.Markdown object>"
      ]
     },
     "metadata": {},
     "output_type": "display_data"
    },
    {
     "data": {
      "text/html": [
       "<div class=\"patom \" style=\"background-color: None;\">\n",
       "\n",
       "    <div class=\"phrase\">\n",
       "        <a href=\"https://shebanq.ancient-data.org/hebrew/text?book=Chronica_II&chapter=23&verse=17&version=c&mr=m&qw=q&tp=txt_p&tr=hb&wget=v&qget=v&nget=vt\" title=\"2_Chronicles 23:17\" sec=\"2_Chronicles 23:17\">phrase</a> <a href=\"#\" class=\"nd\">900489</a>  <span class=\"function\">Objc</span> <span class=\"typ\">PP</span>\n",
       "    </div>\n",
       "    <div class=\"atoms\">\n",
       "\n",
       "<div class=\"word \" style=\"background-color: lightblue;\">\n",
       "<a href=\"#\" class=\"nd\">418083</a>\n",
       "<div class=\"h\"><a target=\"_blank\" href=\"https://shebanq.ancient-data.org/hebrew/word?version=c&id=1AT\" title=\"show this lexeme in SHEBANQ\">אֶת־</a></div>\n",
       "<div class=\"features\"> <span class=\"pdp\"><a href=\"https://shebanq.ancient-data.org/hebrew/text?book=Chronica_II&chapter=23&verse=17&version=c&mr=m&qw=q&tp=txt_p&tr=hb&wget=v&qget=v&nget=vt\" title=\"2_Chronicles 23:17\" sec=\"2_Chronicles 23:17\">prep</a></span> <span class=\"gloss\">&lt;object marker></span></div>\n",
       "\n",
       "\n",
       "</div>\n",
       "\n",
       "<div class=\"word \" style=\"background-color: pink;\">\n",
       "<a href=\"#\" class=\"nd\">418084</a>\n",
       "<div class=\"h\"><a target=\"_blank\" href=\"https://shebanq.ancient-data.org/hebrew/word?version=c&id=1MZBXn\" title=\"show this lexeme in SHEBANQ\">מִזְבְּחֹתָ֥יו </a></div>\n",
       "<div class=\"features\"> <span class=\"pdp\"><a href=\"https://shebanq.ancient-data.org/hebrew/text?book=Chronica_II&chapter=23&verse=17&version=c&mr=m&qw=q&tp=txt_p&tr=hb&wget=v&qget=v&nget=vt\" title=\"2_Chronicles 23:17\" sec=\"2_Chronicles 23:17\">subs</a></span> <span class=\"gloss\">altar</span></div>\n",
       "\n",
       "\n",
       "</div>\n",
       "\n",
       "<div class=\"word \" style=\"background-color: None;\">\n",
       "<a href=\"#\" class=\"nd\">418085</a>\n",
       "<div class=\"h\"><a target=\"_blank\" href=\"https://shebanq.ancient-data.org/hebrew/word?version=c&id=1W\" title=\"show this lexeme in SHEBANQ\">וְ</a></div>\n",
       "<div class=\"features\"> <span class=\"pdp\"><a href=\"https://shebanq.ancient-data.org/hebrew/text?book=Chronica_II&chapter=23&verse=17&version=c&mr=m&qw=q&tp=txt_p&tr=hb&wget=v&qget=v&nget=vt\" title=\"2_Chronicles 23:17\" sec=\"2_Chronicles 23:17\">conj</a></span> <span class=\"gloss\">and</span></div>\n",
       "\n",
       "\n",
       "</div>\n",
       "\n",
       "<div class=\"word \" style=\"background-color: lightblue;\">\n",
       "<a href=\"#\" class=\"nd\">418086</a>\n",
       "<div class=\"h\"><a target=\"_blank\" href=\"https://shebanq.ancient-data.org/hebrew/word?version=c&id=1AT\" title=\"show this lexeme in SHEBANQ\">אֶת־</a></div>\n",
       "<div class=\"features\"> <span class=\"pdp\"><a href=\"https://shebanq.ancient-data.org/hebrew/text?book=Chronica_II&chapter=23&verse=17&version=c&mr=m&qw=q&tp=txt_p&tr=hb&wget=v&qget=v&nget=vt\" title=\"2_Chronicles 23:17\" sec=\"2_Chronicles 23:17\">prep</a></span> <span class=\"gloss\">&lt;object marker></span></div>\n",
       "\n",
       "\n",
       "</div>\n",
       "\n",
       "<div class=\"word \" style=\"background-color: pink;\">\n",
       "<a href=\"#\" class=\"nd\">418087</a>\n",
       "<div class=\"h\"><a target=\"_blank\" href=\"https://shebanq.ancient-data.org/hebrew/word?version=c&id=1YLMn\" title=\"show this lexeme in SHEBANQ\">צְלָמָ֖יו </a></div>\n",
       "<div class=\"features\"> <span class=\"pdp\"><a href=\"https://shebanq.ancient-data.org/hebrew/text?book=Chronica_II&chapter=23&verse=17&version=c&mr=m&qw=q&tp=txt_p&tr=hb&wget=v&qget=v&nget=vt\" title=\"2_Chronicles 23:17\" sec=\"2_Chronicles 23:17\">subs</a></span> <span class=\"gloss\">image</span></div>\n",
       "\n",
       "\n",
       "</div>\n",
       "\n",
       "\n",
       "    </div>\n",
       "\n",
       "\n",
       "</div>\n"
      ],
      "text/plain": [
       "<IPython.core.display.HTML object>"
      ]
     },
     "metadata": {},
     "output_type": "display_data"
    },
    {
     "data": {
      "text/markdown": [
       "\n",
       "\n",
       "**Result** *19*\n",
       "\n"
      ],
      "text/plain": [
       "<IPython.core.display.Markdown object>"
      ]
     },
     "metadata": {},
     "output_type": "display_data"
    },
    {
     "data": {
      "text/html": [
       "<div class=\"patom \" style=\"background-color: None;\">\n",
       "\n",
       "    <div class=\"phrase\">\n",
       "        <a href=\"https://shebanq.ancient-data.org/hebrew/text?book=Reges_II&chapter=20&verse=11&version=c&mr=m&qw=q&tp=txt_p&tr=hb&wget=v&qget=v&nget=vt\" title=\"2_Kings 20:11\" sec=\"2_Kings 20:11\">phrase</a> <a href=\"#\" class=\"nd\">772316</a>  <span class=\"function\">Objc</span> <span class=\"typ\">PP</span>\n",
       "    </div>\n",
       "    <div class=\"atoms\">\n",
       "\n",
       "<div class=\"word \" style=\"background-color: lightblue;\">\n",
       "<a href=\"#\" class=\"nd\">208421</a>\n",
       "<div class=\"h\"><a target=\"_blank\" href=\"https://shebanq.ancient-data.org/hebrew/word?version=c&id=1AT\" title=\"show this lexeme in SHEBANQ\">אֶת־</a></div>\n",
       "<div class=\"features\"> <span class=\"pdp\"><a href=\"https://shebanq.ancient-data.org/hebrew/text?book=Reges_II&chapter=20&verse=11&version=c&mr=m&qw=q&tp=txt_p&tr=hb&wget=v&qget=v&nget=vt\" title=\"2_Kings 20:11\" sec=\"2_Kings 20:11\">prep</a></span> <span class=\"gloss\">&lt;object marker></span></div>\n",
       "\n",
       "\n",
       "</div>\n",
       "\n",
       "<div class=\"word \" style=\"background-color: None;\">\n",
       "<a href=\"#\" class=\"nd\">208422</a>\n",
       "<div class=\"h\"><a target=\"_blank\" href=\"https://shebanq.ancient-data.org/hebrew/word?version=c&id=1H\" title=\"show this lexeme in SHEBANQ\">הַ</a></div>\n",
       "<div class=\"features\"> <span class=\"pdp\"><a href=\"https://shebanq.ancient-data.org/hebrew/text?book=Reges_II&chapter=20&verse=11&version=c&mr=m&qw=q&tp=txt_p&tr=hb&wget=v&qget=v&nget=vt\" title=\"2_Kings 20:11\" sec=\"2_Kings 20:11\">art</a></span> <span class=\"gloss\">the</span></div>\n",
       "\n",
       "\n",
       "</div>\n",
       "\n",
       "<div class=\"word \" style=\"background-color: pink;\">\n",
       "<a href=\"#\" class=\"nd\">208423</a>\n",
       "<div class=\"h\"><a target=\"_blank\" href=\"https://shebanq.ancient-data.org/hebrew/word?version=c&id=1YLn\" title=\"show this lexeme in SHEBANQ\">צֵּ֗ל </a></div>\n",
       "<div class=\"features\"> <span class=\"pdp\"><a href=\"https://shebanq.ancient-data.org/hebrew/text?book=Reges_II&chapter=20&verse=11&version=c&mr=m&qw=q&tp=txt_p&tr=hb&wget=v&qget=v&nget=vt\" title=\"2_Kings 20:11\" sec=\"2_Kings 20:11\">subs</a></span> <span class=\"gloss\">shadow</span></div>\n",
       "\n",
       "\n",
       "</div>\n",
       "\n",
       "\n",
       "    </div>\n",
       "\n",
       "\n",
       "</div>\n"
      ],
      "text/plain": [
       "<IPython.core.display.HTML object>"
      ]
     },
     "metadata": {},
     "output_type": "display_data"
    },
    {
     "data": {
      "text/markdown": [
       "\n",
       "\n",
       "**Result** *20*\n",
       "\n"
      ],
      "text/plain": [
       "<IPython.core.display.Markdown object>"
      ]
     },
     "metadata": {},
     "output_type": "display_data"
    },
    {
     "data": {
      "text/html": [
       "<div class=\"patom \" style=\"background-color: None;\">\n",
       "\n",
       "    <div class=\"phrase\">\n",
       "        <a href=\"https://shebanq.ancient-data.org/hebrew/text?book=Jeremia&chapter=16&verse=3&version=c&mr=m&qw=q&tp=txt_p&tr=hb&wget=v&qget=v&nget=vt\" title=\"Jeremiah 16:3\" sec=\"Jeremiah 16:3\">phrase</a> <a href=\"#\" class=\"nd\">794369</a>  <span class=\"function\">Loca</span> <span class=\"typ\">PP</span>\n",
       "    </div>\n",
       "    <div class=\"atoms\">\n",
       "\n",
       "<div class=\"word \" style=\"background-color: lightblue;\">\n",
       "<a href=\"#\" class=\"nd\">242658</a>\n",
       "<div class=\"h\"><a target=\"_blank\" href=\"https://shebanq.ancient-data.org/hebrew/word?version=c&id=1B\" title=\"show this lexeme in SHEBANQ\">בָּ</a></div>\n",
       "<div class=\"features\"> <span class=\"pdp\"><a href=\"https://shebanq.ancient-data.org/hebrew/text?book=Jeremia&chapter=16&verse=3&version=c&mr=m&qw=q&tp=txt_p&tr=hb&wget=v&qget=v&nget=vt\" title=\"Jeremiah 16:3\" sec=\"Jeremiah 16:3\">prep</a></span> <span class=\"gloss\">in</span></div>\n",
       "\n",
       "\n",
       "</div>\n",
       "\n",
       "<div class=\"word \" style=\"background-color: None;\">\n",
       "<a href=\"#\" class=\"nd\">242659</a>\n",
       "<div class=\"h\"><a target=\"_blank\" href=\"https://shebanq.ancient-data.org/hebrew/word?version=c&id=1H\" title=\"show this lexeme in SHEBANQ\"></a></div>\n",
       "<div class=\"features\"> <span class=\"pdp\"><a href=\"https://shebanq.ancient-data.org/hebrew/text?book=Jeremia&chapter=16&verse=3&version=c&mr=m&qw=q&tp=txt_p&tr=hb&wget=v&qget=v&nget=vt\" title=\"Jeremiah 16:3\" sec=\"Jeremiah 16:3\">art</a></span> <span class=\"gloss\">the</span></div>\n",
       "\n",
       "\n",
       "</div>\n",
       "\n",
       "<div class=\"word \" style=\"background-color: pink;\">\n",
       "<a href=\"#\" class=\"nd\">242660</a>\n",
       "<div class=\"h\"><a target=\"_blank\" href=\"https://shebanq.ancient-data.org/hebrew/word?version=c&id=1ARYn\" title=\"show this lexeme in SHEBANQ\">אָ֥רֶץ </a></div>\n",
       "<div class=\"features\"> <span class=\"pdp\"><a href=\"https://shebanq.ancient-data.org/hebrew/text?book=Jeremia&chapter=16&verse=3&version=c&mr=m&qw=q&tp=txt_p&tr=hb&wget=v&qget=v&nget=vt\" title=\"Jeremiah 16:3\" sec=\"Jeremiah 16:3\">subs</a></span> <span class=\"gloss\">earth</span></div>\n",
       "\n",
       "\n",
       "</div>\n",
       "\n",
       "<div class=\"word \" style=\"background-color: None;\">\n",
       "<a href=\"#\" class=\"nd\">242661</a>\n",
       "<div class=\"h\"><a target=\"_blank\" href=\"https://shebanq.ancient-data.org/hebrew/word?version=c&id=1H\" title=\"show this lexeme in SHEBANQ\">הַ</a></div>\n",
       "<div class=\"features\"> <span class=\"pdp\"><a href=\"https://shebanq.ancient-data.org/hebrew/text?book=Jeremia&chapter=16&verse=3&version=c&mr=m&qw=q&tp=txt_p&tr=hb&wget=v&qget=v&nget=vt\" title=\"Jeremiah 16:3\" sec=\"Jeremiah 16:3\">art</a></span> <span class=\"gloss\">the</span></div>\n",
       "\n",
       "\n",
       "</div>\n",
       "\n",
       "<div class=\"word \" style=\"background-color: None;\">\n",
       "<a href=\"#\" class=\"nd\">242662</a>\n",
       "<div class=\"h\"><a target=\"_blank\" href=\"https://shebanq.ancient-data.org/hebrew/word?version=c&id=1ZAT\" title=\"show this lexeme in SHEBANQ\">זֹּֽאת׃ </a></div>\n",
       "<div class=\"features\"> <span class=\"pdp\"><a href=\"https://shebanq.ancient-data.org/hebrew/text?book=Jeremia&chapter=16&verse=3&version=c&mr=m&qw=q&tp=txt_p&tr=hb&wget=v&qget=v&nget=vt\" title=\"Jeremiah 16:3\" sec=\"Jeremiah 16:3\">prde</a></span> <span class=\"gloss\">this</span></div>\n",
       "\n",
       "\n",
       "</div>\n",
       "\n",
       "\n",
       "    </div>\n",
       "\n",
       "\n",
       "</div>\n"
      ],
      "text/plain": [
       "<IPython.core.display.HTML object>"
      ]
     },
     "metadata": {},
     "output_type": "display_data"
    },
    {
     "data": {
      "text/markdown": [
       "\n",
       "\n",
       "**Result** *21*\n",
       "\n"
      ],
      "text/plain": [
       "<IPython.core.display.Markdown object>"
      ]
     },
     "metadata": {},
     "output_type": "display_data"
    },
    {
     "data": {
      "text/html": [
       "<div class=\"patom \" style=\"background-color: None;\">\n",
       "\n",
       "    <div class=\"phrase\">\n",
       "        <a href=\"https://shebanq.ancient-data.org/hebrew/text?book=Exodus&chapter=38&verse=5&version=c&mr=m&qw=q&tp=txt_p&tr=hb&wget=v&qget=v&nget=vt\" title=\"Exodus 38:5\" sec=\"Exodus 38:5\">phrase</a> <a href=\"#\" class=\"nd\">681917</a>  <span class=\"function\">Cmpl</span> <span class=\"typ\">PP</span>\n",
       "    </div>\n",
       "    <div class=\"atoms\">\n",
       "\n",
       "<div class=\"word \" style=\"background-color: lightblue;\">\n",
       "<a href=\"#\" class=\"nd\">50531</a>\n",
       "<div class=\"h\"><a target=\"_blank\" href=\"https://shebanq.ancient-data.org/hebrew/word?version=c&id=1L\" title=\"show this lexeme in SHEBANQ\">לַ</a></div>\n",
       "<div class=\"features\"> <span class=\"pdp\"><a href=\"https://shebanq.ancient-data.org/hebrew/text?book=Exodus&chapter=38&verse=5&version=c&mr=m&qw=q&tp=txt_p&tr=hb&wget=v&qget=v&nget=vt\" title=\"Exodus 38:5\" sec=\"Exodus 38:5\">prep</a></span> <span class=\"gloss\">to</span></div>\n",
       "\n",
       "\n",
       "</div>\n",
       "\n",
       "<div class=\"word \" style=\"background-color: None;\">\n",
       "<a href=\"#\" class=\"nd\">50532</a>\n",
       "<div class=\"h\"><a target=\"_blank\" href=\"https://shebanq.ancient-data.org/hebrew/word?version=c&id=1H\" title=\"show this lexeme in SHEBANQ\"></a></div>\n",
       "<div class=\"features\"> <span class=\"pdp\"><a href=\"https://shebanq.ancient-data.org/hebrew/text?book=Exodus&chapter=38&verse=5&version=c&mr=m&qw=q&tp=txt_p&tr=hb&wget=v&qget=v&nget=vt\" title=\"Exodus 38:5\" sec=\"Exodus 38:5\">art</a></span> <span class=\"gloss\">the</span></div>\n",
       "\n",
       "\n",
       "</div>\n",
       "\n",
       "<div class=\"word \" style=\"background-color: pink;\">\n",
       "<a href=\"#\" class=\"nd\">50533</a>\n",
       "<div class=\"h\"><a target=\"_blank\" href=\"https://shebanq.ancient-data.org/hebrew/word?version=c&id=1BDn\" title=\"show this lexeme in SHEBANQ\">בַּדִּֽים׃ </a></div>\n",
       "<div class=\"features\"> <span class=\"pdp\"><a href=\"https://shebanq.ancient-data.org/hebrew/text?book=Exodus&chapter=38&verse=5&version=c&mr=m&qw=q&tp=txt_p&tr=hb&wget=v&qget=v&nget=vt\" title=\"Exodus 38:5\" sec=\"Exodus 38:5\">subs</a></span> <span class=\"gloss\">linen, part, stave</span></div>\n",
       "\n",
       "\n",
       "</div>\n",
       "\n",
       "\n",
       "    </div>\n",
       "\n",
       "\n",
       "</div>\n"
      ],
      "text/plain": [
       "<IPython.core.display.HTML object>"
      ]
     },
     "metadata": {},
     "output_type": "display_data"
    },
    {
     "data": {
      "text/markdown": [
       "\n",
       "\n",
       "**Result** *22*\n",
       "\n"
      ],
      "text/plain": [
       "<IPython.core.display.Markdown object>"
      ]
     },
     "metadata": {},
     "output_type": "display_data"
    },
    {
     "data": {
      "text/html": [
       "<div class=\"patom \" style=\"background-color: None;\">\n",
       "\n",
       "    <div class=\"phrase\">\n",
       "        <a href=\"https://shebanq.ancient-data.org/hebrew/text?book=Leviticus&chapter=20&verse=9&version=c&mr=m&qw=q&tp=txt_p&tr=hb&wget=v&qget=v&nget=vt\" title=\"Leviticus 20:9\" sec=\"Leviticus 20:9\">phrase</a> <a href=\"#\" class=\"nd\">689325</a>  <span class=\"function\">Objc</span> <span class=\"typ\">PP</span>\n",
       "    </div>\n",
       "    <div class=\"atoms\">\n",
       "\n",
       "<div class=\"word \" style=\"background-color: lightblue;\">\n",
       "<a href=\"#\" class=\"nd\">64577</a>\n",
       "<div class=\"h\"><a target=\"_blank\" href=\"https://shebanq.ancient-data.org/hebrew/word?version=c&id=1AT\" title=\"show this lexeme in SHEBANQ\">אֶת־</a></div>\n",
       "<div class=\"features\"> <span class=\"pdp\"><a href=\"https://shebanq.ancient-data.org/hebrew/text?book=Leviticus&chapter=20&verse=9&version=c&mr=m&qw=q&tp=txt_p&tr=hb&wget=v&qget=v&nget=vt\" title=\"Leviticus 20:9\" sec=\"Leviticus 20:9\">prep</a></span> <span class=\"gloss\">&lt;object marker></span></div>\n",
       "\n",
       "\n",
       "</div>\n",
       "\n",
       "<div class=\"word \" style=\"background-color: pink;\">\n",
       "<a href=\"#\" class=\"nd\">64578</a>\n",
       "<div class=\"h\"><a target=\"_blank\" href=\"https://shebanq.ancient-data.org/hebrew/word?version=c&id=1ABn\" title=\"show this lexeme in SHEBANQ\">אָבִ֛יו </a></div>\n",
       "<div class=\"features\"> <span class=\"pdp\"><a href=\"https://shebanq.ancient-data.org/hebrew/text?book=Leviticus&chapter=20&verse=9&version=c&mr=m&qw=q&tp=txt_p&tr=hb&wget=v&qget=v&nget=vt\" title=\"Leviticus 20:9\" sec=\"Leviticus 20:9\">subs</a></span> <span class=\"gloss\">father</span></div>\n",
       "\n",
       "\n",
       "</div>\n",
       "\n",
       "<div class=\"word \" style=\"background-color: None;\">\n",
       "<a href=\"#\" class=\"nd\">64579</a>\n",
       "<div class=\"h\"><a target=\"_blank\" href=\"https://shebanq.ancient-data.org/hebrew/word?version=c&id=1W\" title=\"show this lexeme in SHEBANQ\">וְ</a></div>\n",
       "<div class=\"features\"> <span class=\"pdp\"><a href=\"https://shebanq.ancient-data.org/hebrew/text?book=Leviticus&chapter=20&verse=9&version=c&mr=m&qw=q&tp=txt_p&tr=hb&wget=v&qget=v&nget=vt\" title=\"Leviticus 20:9\" sec=\"Leviticus 20:9\">conj</a></span> <span class=\"gloss\">and</span></div>\n",
       "\n",
       "\n",
       "</div>\n",
       "\n",
       "<div class=\"word \" style=\"background-color: lightblue;\">\n",
       "<a href=\"#\" class=\"nd\">64580</a>\n",
       "<div class=\"h\"><a target=\"_blank\" href=\"https://shebanq.ancient-data.org/hebrew/word?version=c&id=1AT\" title=\"show this lexeme in SHEBANQ\">אֶת־</a></div>\n",
       "<div class=\"features\"> <span class=\"pdp\"><a href=\"https://shebanq.ancient-data.org/hebrew/text?book=Leviticus&chapter=20&verse=9&version=c&mr=m&qw=q&tp=txt_p&tr=hb&wget=v&qget=v&nget=vt\" title=\"Leviticus 20:9\" sec=\"Leviticus 20:9\">prep</a></span> <span class=\"gloss\">&lt;object marker></span></div>\n",
       "\n",
       "\n",
       "</div>\n",
       "\n",
       "<div class=\"word \" style=\"background-color: pink;\">\n",
       "<a href=\"#\" class=\"nd\">64581</a>\n",
       "<div class=\"h\"><a target=\"_blank\" href=\"https://shebanq.ancient-data.org/hebrew/word?version=c&id=1AMn\" title=\"show this lexeme in SHEBANQ\">אִמֹּ֖ו </a></div>\n",
       "<div class=\"features\"> <span class=\"pdp\"><a href=\"https://shebanq.ancient-data.org/hebrew/text?book=Leviticus&chapter=20&verse=9&version=c&mr=m&qw=q&tp=txt_p&tr=hb&wget=v&qget=v&nget=vt\" title=\"Leviticus 20:9\" sec=\"Leviticus 20:9\">subs</a></span> <span class=\"gloss\">mother</span></div>\n",
       "\n",
       "\n",
       "</div>\n",
       "\n",
       "\n",
       "    </div>\n",
       "\n",
       "\n",
       "</div>\n"
      ],
      "text/plain": [
       "<IPython.core.display.HTML object>"
      ]
     },
     "metadata": {},
     "output_type": "display_data"
    },
    {
     "data": {
      "text/markdown": [
       "\n",
       "\n",
       "**Result** *23*\n",
       "\n"
      ],
      "text/plain": [
       "<IPython.core.display.Markdown object>"
      ]
     },
     "metadata": {},
     "output_type": "display_data"
    },
    {
     "data": {
      "text/html": [
       "<div class=\"patom \" style=\"background-color: None;\">\n",
       "\n",
       "    <div class=\"phrase\">\n",
       "        <a href=\"https://shebanq.ancient-data.org/hebrew/text?book=Jeremia&chapter=25&verse=17&version=c&mr=m&qw=q&tp=txt_p&tr=hb&wget=v&qget=v&nget=vt\" title=\"Jeremiah 25:17\" sec=\"Jeremiah 25:17\">phrase</a> <a href=\"#\" class=\"nd\">797140</a>  <span class=\"function\">Objc</span> <span class=\"typ\">PP</span>\n",
       "    </div>\n",
       "    <div class=\"atoms\">\n",
       "\n",
       "<div class=\"word \" style=\"background-color: lightblue;\">\n",
       "<a href=\"#\" class=\"nd\">247385</a>\n",
       "<div class=\"h\"><a target=\"_blank\" href=\"https://shebanq.ancient-data.org/hebrew/word?version=c&id=1AT\" title=\"show this lexeme in SHEBANQ\">אֶת־</a></div>\n",
       "<div class=\"features\"> <span class=\"pdp\"><a href=\"https://shebanq.ancient-data.org/hebrew/text?book=Jeremia&chapter=25&verse=17&version=c&mr=m&qw=q&tp=txt_p&tr=hb&wget=v&qget=v&nget=vt\" title=\"Jeremiah 25:17\" sec=\"Jeremiah 25:17\">prep</a></span> <span class=\"gloss\">&lt;object marker></span></div>\n",
       "\n",
       "\n",
       "</div>\n",
       "\n",
       "<div class=\"word \" style=\"background-color: None;\">\n",
       "<a href=\"#\" class=\"nd\">247386</a>\n",
       "<div class=\"h\"><a target=\"_blank\" href=\"https://shebanq.ancient-data.org/hebrew/word?version=c&id=1H\" title=\"show this lexeme in SHEBANQ\">הַ</a></div>\n",
       "<div class=\"features\"> <span class=\"pdp\"><a href=\"https://shebanq.ancient-data.org/hebrew/text?book=Jeremia&chapter=25&verse=17&version=c&mr=m&qw=q&tp=txt_p&tr=hb&wget=v&qget=v&nget=vt\" title=\"Jeremiah 25:17\" sec=\"Jeremiah 25:17\">art</a></span> <span class=\"gloss\">the</span></div>\n",
       "\n",
       "\n",
       "</div>\n",
       "\n",
       "<div class=\"word \" style=\"background-color: pink;\">\n",
       "<a href=\"#\" class=\"nd\">247387</a>\n",
       "<div class=\"h\"><a target=\"_blank\" href=\"https://shebanq.ancient-data.org/hebrew/word?version=c&id=1KWSn\" title=\"show this lexeme in SHEBANQ\">כֹּ֖וס </a></div>\n",
       "<div class=\"features\"> <span class=\"pdp\"><a href=\"https://shebanq.ancient-data.org/hebrew/text?book=Jeremia&chapter=25&verse=17&version=c&mr=m&qw=q&tp=txt_p&tr=hb&wget=v&qget=v&nget=vt\" title=\"Jeremiah 25:17\" sec=\"Jeremiah 25:17\">subs</a></span> <span class=\"gloss\">cup</span></div>\n",
       "\n",
       "\n",
       "</div>\n",
       "\n",
       "\n",
       "    </div>\n",
       "\n",
       "\n",
       "</div>\n"
      ],
      "text/plain": [
       "<IPython.core.display.HTML object>"
      ]
     },
     "metadata": {},
     "output_type": "display_data"
    },
    {
     "data": {
      "text/markdown": [
       "\n",
       "\n",
       "**Result** *24*\n",
       "\n"
      ],
      "text/plain": [
       "<IPython.core.display.Markdown object>"
      ]
     },
     "metadata": {},
     "output_type": "display_data"
    },
    {
     "data": {
      "text/html": [
       "<div class=\"patom  l\" style=\"background-color: None;\">\n",
       "\n",
       "    <div class=\"phrase\">\n",
       "        <a href=\"https://shebanq.ancient-data.org/hebrew/text?book=Daniel&chapter=5&verse=18&version=c&mr=m&qw=q&tp=txt_p&tr=hb&wget=v&qget=v&nget=vt\" title=\"Daniel 5:18\" sec=\"Daniel 5:18\">phrase</a> <a href=\"#\" class=\"nd\">878439</a>  <span class=\"function\">Cmpl</span> <span class=\"typ\">PP</span>\n",
       "    </div>\n",
       "    <div class=\"atoms\">\n",
       "\n",
       "<div class=\"word \" style=\"background-color: lightblue;\">\n",
       "<a href=\"#\" class=\"nd\">373588</a>\n",
       "<div class=\"h\"><a target=\"_blank\" href=\"https://shebanq.ancient-data.org/hebrew/word?version=c&id=2L\" title=\"show this lexeme in SHEBANQ\">לִ</a></div>\n",
       "<div class=\"features\"> <span class=\"pdp\"><a href=\"https://shebanq.ancient-data.org/hebrew/text?book=Daniel&chapter=5&verse=18&version=c&mr=m&qw=q&tp=txt_p&tr=hb&wget=v&qget=v&nget=vt\" title=\"Daniel 5:18\" sec=\"Daniel 5:18\">prep</a></span> <span class=\"gloss\">to</span></div>\n",
       "\n",
       "\n",
       "</div>\n",
       "\n",
       "<div class=\"word \" style=\"background-color: pink;\">\n",
       "<a href=\"#\" class=\"nd\">373589</a>\n",
       "<div class=\"h\"><a target=\"_blank\" href=\"https://shebanq.ancient-data.org/hebrew/word?version=c&id=2NBWKDNYRn\" title=\"show this lexeme in SHEBANQ\">נְבֻכַדְנֶצַּ֥ר </a></div>\n",
       "<div class=\"features\"> <span class=\"pdp\"><a href=\"https://shebanq.ancient-data.org/hebrew/text?book=Daniel&chapter=5&verse=18&version=c&mr=m&qw=q&tp=txt_p&tr=hb&wget=v&qget=v&nget=vt\" title=\"Daniel 5:18\" sec=\"Daniel 5:18\">nmpr</a></span> <span class=\"gloss\">Nebuchadnezzar</span></div>\n",
       "\n",
       "\n",
       "</div>\n",
       "\n",
       "\n",
       "    </div>\n",
       "\n",
       "\n",
       "</div>\n"
      ],
      "text/plain": [
       "<IPython.core.display.HTML object>"
      ]
     },
     "metadata": {},
     "output_type": "display_data"
    },
    {
     "data": {
      "text/markdown": [
       "\n",
       "\n",
       "**Result** *25*\n",
       "\n"
      ],
      "text/plain": [
       "<IPython.core.display.Markdown object>"
      ]
     },
     "metadata": {},
     "output_type": "display_data"
    },
    {
     "data": {
      "text/html": [
       "<div class=\"patom \" style=\"background-color: None;\">\n",
       "\n",
       "    <div class=\"phrase\">\n",
       "        <a href=\"https://shebanq.ancient-data.org/hebrew/text?book=Jeremia&chapter=28&verse=13&version=c&mr=m&qw=q&tp=txt_p&tr=hb&wget=v&qget=v&nget=vt\" title=\"Jeremiah 28:13\" sec=\"Jeremiah 28:13\">phrase</a> <a href=\"#\" class=\"nd\">798070</a>  <span class=\"function\">Cmpl</span> <span class=\"typ\">PP</span>\n",
       "    </div>\n",
       "    <div class=\"atoms\">\n",
       "\n",
       "<div class=\"word \" style=\"background-color: lightblue;\">\n",
       "<a href=\"#\" class=\"nd\">249368</a>\n",
       "<div class=\"h\"><a target=\"_blank\" href=\"https://shebanq.ancient-data.org/hebrew/word?version=c&id=1AL\" title=\"show this lexeme in SHEBANQ\">אֶל־</a></div>\n",
       "<div class=\"features\"> <span class=\"pdp\"><a href=\"https://shebanq.ancient-data.org/hebrew/text?book=Jeremia&chapter=28&verse=13&version=c&mr=m&qw=q&tp=txt_p&tr=hb&wget=v&qget=v&nget=vt\" title=\"Jeremiah 28:13\" sec=\"Jeremiah 28:13\">prep</a></span> <span class=\"gloss\">to</span></div>\n",
       "\n",
       "\n",
       "</div>\n",
       "\n",
       "<div class=\"word \" style=\"background-color: pink;\">\n",
       "<a href=\"#\" class=\"nd\">249369</a>\n",
       "<div class=\"h\"><a target=\"_blank\" href=\"https://shebanq.ancient-data.org/hebrew/word?version=c&id=1XNNJHn\" title=\"show this lexeme in SHEBANQ\">חֲנַנְיָ֜ה </a></div>\n",
       "<div class=\"features\"> <span class=\"pdp\"><a href=\"https://shebanq.ancient-data.org/hebrew/text?book=Jeremia&chapter=28&verse=13&version=c&mr=m&qw=q&tp=txt_p&tr=hb&wget=v&qget=v&nget=vt\" title=\"Jeremiah 28:13\" sec=\"Jeremiah 28:13\">nmpr</a></span> <span class=\"gloss\">Hananiah</span></div>\n",
       "\n",
       "\n",
       "</div>\n",
       "\n",
       "\n",
       "    </div>\n",
       "\n",
       "\n",
       "</div>\n"
      ],
      "text/plain": [
       "<IPython.core.display.HTML object>"
      ]
     },
     "metadata": {},
     "output_type": "display_data"
    },
    {
     "data": {
      "text/markdown": [
       "\n",
       "\n",
       "**Result** *26*\n",
       "\n"
      ],
      "text/plain": [
       "<IPython.core.display.Markdown object>"
      ]
     },
     "metadata": {},
     "output_type": "display_data"
    },
    {
     "data": {
      "text/html": [
       "<div class=\"patom \" style=\"background-color: None;\">\n",
       "\n",
       "    <div class=\"phrase\">\n",
       "        <a href=\"https://shebanq.ancient-data.org/hebrew/text?book=Ezechiel&chapter=1&verse=11&version=c&mr=m&qw=q&tp=txt_p&tr=hb&wget=v&qget=v&nget=vt\" title=\"Ezekiel 1:11\" sec=\"Ezekiel 1:11\">phrase</a> <a href=\"#\" class=\"nd\">806822</a>  <span class=\"function\">Cmpl</span> <span class=\"typ\">PP</span>\n",
       "    </div>\n",
       "    <div class=\"atoms\">\n",
       "\n",
       "<div class=\"word \" style=\"background-color: lightblue;\">\n",
       "<a href=\"#\" class=\"nd\">264934</a>\n",
       "<div class=\"h\"><a target=\"_blank\" href=\"https://shebanq.ancient-data.org/hebrew/word?version=c&id=1MN\" title=\"show this lexeme in SHEBANQ\">מִ</a></div>\n",
       "<div class=\"features\"> <span class=\"pdp\"><a href=\"https://shebanq.ancient-data.org/hebrew/text?book=Ezechiel&chapter=1&verse=11&version=c&mr=m&qw=q&tp=txt_p&tr=hb&wget=v&qget=v&nget=vt\" title=\"Ezekiel 1:11\" sec=\"Ezekiel 1:11\">prep</a></span> <span class=\"gloss\">from</span></div>\n",
       "\n",
       "\n",
       "</div>\n",
       "\n",
       "<div class=\"word \" style=\"background-color: lightblue;\">\n",
       "<a href=\"#\" class=\"nd\">264935</a>\n",
       "<div class=\"h\"><a target=\"_blank\" href=\"https://shebanq.ancient-data.org/hebrew/word?version=c&id=1L\" title=\"show this lexeme in SHEBANQ\">לְ</a></div>\n",
       "<div class=\"features\"> <span class=\"pdp\"><a href=\"https://shebanq.ancient-data.org/hebrew/text?book=Ezechiel&chapter=1&verse=11&version=c&mr=m&qw=q&tp=txt_p&tr=hb&wget=v&qget=v&nget=vt\" title=\"Ezekiel 1:11\" sec=\"Ezekiel 1:11\">prep</a></span> <span class=\"gloss\">to</span></div>\n",
       "\n",
       "\n",
       "</div>\n",
       "\n",
       "<div class=\"word \" style=\"background-color: pink;\">\n",
       "<a href=\"#\" class=\"nd\">264936</a>\n",
       "<div class=\"h\"><a target=\"_blank\" href=\"https://shebanq.ancient-data.org/hebrew/word?version=c&id=1MOLn\" title=\"show this lexeme in SHEBANQ\">מָ֑עְלָה </a></div>\n",
       "<div class=\"features\"> <span class=\"pdp\"><a href=\"https://shebanq.ancient-data.org/hebrew/text?book=Ezechiel&chapter=1&verse=11&version=c&mr=m&qw=q&tp=txt_p&tr=hb&wget=v&qget=v&nget=vt\" title=\"Ezekiel 1:11\" sec=\"Ezekiel 1:11\">subs</a></span> <span class=\"gloss\">top</span></div>\n",
       "\n",
       "\n",
       "</div>\n",
       "\n",
       "\n",
       "    </div>\n",
       "\n",
       "\n",
       "</div>\n"
      ],
      "text/plain": [
       "<IPython.core.display.HTML object>"
      ]
     },
     "metadata": {},
     "output_type": "display_data"
    },
    {
     "data": {
      "text/markdown": [
       "\n",
       "\n",
       "**Result** *27*\n",
       "\n"
      ],
      "text/plain": [
       "<IPython.core.display.Markdown object>"
      ]
     },
     "metadata": {},
     "output_type": "display_data"
    },
    {
     "data": {
      "text/html": [
       "<div class=\"patom \" style=\"background-color: None;\">\n",
       "\n",
       "    <div class=\"phrase\">\n",
       "        <a href=\"https://shebanq.ancient-data.org/hebrew/text?book=Psalmi&chapter=90&verse=11&version=c&mr=m&qw=q&tp=txt_p&tr=hb&wget=v&qget=v&nget=vt\" title=\"Psalms 90:11\" sec=\"Psalms 90:11\">phrase</a> <a href=\"#\" class=\"nd\">846410</a>  <span class=\"function\">PreC</span> <span class=\"typ\">PP</span>\n",
       "    </div>\n",
       "    <div class=\"atoms\">\n",
       "\n",
       "<div class=\"word \" style=\"background-color: lightblue;\">\n",
       "<a href=\"#\" class=\"nd\">326348</a>\n",
       "<div class=\"h\"><a target=\"_blank\" href=\"https://shebanq.ancient-data.org/hebrew/word?version=c&id=1K\" title=\"show this lexeme in SHEBANQ\">כְ</a></div>\n",
       "<div class=\"features\"> <span class=\"pdp\"><a href=\"https://shebanq.ancient-data.org/hebrew/text?book=Psalmi&chapter=90&verse=11&version=c&mr=m&qw=q&tp=txt_p&tr=hb&wget=v&qget=v&nget=vt\" title=\"Psalms 90:11\" sec=\"Psalms 90:11\">prep</a></span> <span class=\"gloss\">as</span></div>\n",
       "\n",
       "\n",
       "</div>\n",
       "\n",
       "<div class=\"word \" style=\"background-color: pink;\">\n",
       "<a href=\"#\" class=\"nd\">326349</a>\n",
       "<div class=\"h\"><a target=\"_blank\" href=\"https://shebanq.ancient-data.org/hebrew/word?version=c&id=1JRAHn\" title=\"show this lexeme in SHEBANQ\">יִרְאָתְךָ֗ </a></div>\n",
       "<div class=\"features\"> <span class=\"pdp\"><a href=\"https://shebanq.ancient-data.org/hebrew/text?book=Psalmi&chapter=90&verse=11&version=c&mr=m&qw=q&tp=txt_p&tr=hb&wget=v&qget=v&nget=vt\" title=\"Psalms 90:11\" sec=\"Psalms 90:11\">subs</a></span> <span class=\"gloss\">fear</span></div>\n",
       "\n",
       "\n",
       "</div>\n",
       "\n",
       "\n",
       "    </div>\n",
       "\n",
       "\n",
       "</div>\n"
      ],
      "text/plain": [
       "<IPython.core.display.HTML object>"
      ]
     },
     "metadata": {},
     "output_type": "display_data"
    },
    {
     "data": {
      "text/markdown": [
       "\n",
       "\n",
       "**Result** *28*\n",
       "\n"
      ],
      "text/plain": [
       "<IPython.core.display.Markdown object>"
      ]
     },
     "metadata": {},
     "output_type": "display_data"
    },
    {
     "data": {
      "text/html": [
       "<div class=\"patom  l\" style=\"background-color: None;\">\n",
       "\n",
       "    <div class=\"phrase\">\n",
       "        <a href=\"https://shebanq.ancient-data.org/hebrew/text?book=Deuteronomium&chapter=30&verse=13&version=c&mr=m&qw=q&tp=txt_p&tr=hb&wget=v&qget=v&nget=vt\" title=\"Deuteronomy 30:13\" sec=\"Deuteronomy 30:13\">phrase</a> <a href=\"#\" class=\"nd\">714214</a>  <span class=\"function\">PreC</span> <span class=\"typ\">PP</span>\n",
       "    </div>\n",
       "    <div class=\"atoms\">\n",
       "\n",
       "<div class=\"word \" style=\"background-color: lightblue;\">\n",
       "<a href=\"#\" class=\"nd\">110452</a>\n",
       "<div class=\"h\"><a target=\"_blank\" href=\"https://shebanq.ancient-data.org/hebrew/word?version=c&id=1MN\" title=\"show this lexeme in SHEBANQ\">מֵ</a></div>\n",
       "<div class=\"features\"> <span class=\"pdp\"><a href=\"https://shebanq.ancient-data.org/hebrew/text?book=Deuteronomium&chapter=30&verse=13&version=c&mr=m&qw=q&tp=txt_p&tr=hb&wget=v&qget=v&nget=vt\" title=\"Deuteronomy 30:13\" sec=\"Deuteronomy 30:13\">prep</a></span> <span class=\"gloss\">from</span></div>\n",
       "\n",
       "\n",
       "</div>\n",
       "\n",
       "<div class=\"word \" style=\"background-color: pink;\">\n",
       "<a href=\"#\" class=\"nd\">110453</a>\n",
       "<div class=\"h\"><a target=\"_blank\" href=\"https://shebanq.ancient-data.org/hebrew/word?version=c&id=1OBRn\" title=\"show this lexeme in SHEBANQ\">עֵ֥בֶר </a></div>\n",
       "<div class=\"features\"> <span class=\"pdp\"><a href=\"https://shebanq.ancient-data.org/hebrew/text?book=Deuteronomium&chapter=30&verse=13&version=c&mr=m&qw=q&tp=txt_p&tr=hb&wget=v&qget=v&nget=vt\" title=\"Deuteronomy 30:13\" sec=\"Deuteronomy 30:13\">subs</a></span> <span class=\"gloss\">opposite</span></div>\n",
       "\n",
       "\n",
       "</div>\n",
       "\n",
       "\n",
       "    </div>\n",
       "\n",
       "\n",
       "</div>\n"
      ],
      "text/plain": [
       "<IPython.core.display.HTML object>"
      ]
     },
     "metadata": {},
     "output_type": "display_data"
    },
    {
     "data": {
      "text/markdown": [
       "\n",
       "\n",
       "**Result** *29*\n",
       "\n"
      ],
      "text/plain": [
       "<IPython.core.display.Markdown object>"
      ]
     },
     "metadata": {},
     "output_type": "display_data"
    },
    {
     "data": {
      "text/html": [
       "<div class=\"patom \" style=\"background-color: None;\">\n",
       "\n",
       "    <div class=\"phrase\">\n",
       "        <a href=\"https://shebanq.ancient-data.org/hebrew/text?book=Iob&chapter=21&verse=18&version=c&mr=m&qw=q&tp=txt_p&tr=hb&wget=v&qget=v&nget=vt\" title=\"Job 21:18\" sec=\"Job 21:18\">phrase</a> <a href=\"#\" class=\"nd\">857127</a>  <span class=\"function\">PreC</span> <span class=\"typ\">PP</span>\n",
       "    </div>\n",
       "    <div class=\"atoms\">\n",
       "\n",
       "<div class=\"word \" style=\"background-color: lightblue;\">\n",
       "<a href=\"#\" class=\"nd\">341339</a>\n",
       "<div class=\"h\"><a target=\"_blank\" href=\"https://shebanq.ancient-data.org/hebrew/word?version=c&id=1K\" title=\"show this lexeme in SHEBANQ\">כְ</a></div>\n",
       "<div class=\"features\"> <span class=\"pdp\"><a href=\"https://shebanq.ancient-data.org/hebrew/text?book=Iob&chapter=21&verse=18&version=c&mr=m&qw=q&tp=txt_p&tr=hb&wget=v&qget=v&nget=vt\" title=\"Job 21:18\" sec=\"Job 21:18\">prep</a></span> <span class=\"gloss\">as</span></div>\n",
       "\n",
       "\n",
       "</div>\n",
       "\n",
       "<div class=\"word \" style=\"background-color: pink;\">\n",
       "<a href=\"#\" class=\"nd\">341340</a>\n",
       "<div class=\"h\"><a target=\"_blank\" href=\"https://shebanq.ancient-data.org/hebrew/word?version=c&id=1MYn\" title=\"show this lexeme in SHEBANQ\">מֹ֗ץ </a></div>\n",
       "<div class=\"features\"> <span class=\"pdp\"><a href=\"https://shebanq.ancient-data.org/hebrew/text?book=Iob&chapter=21&verse=18&version=c&mr=m&qw=q&tp=txt_p&tr=hb&wget=v&qget=v&nget=vt\" title=\"Job 21:18\" sec=\"Job 21:18\">subs</a></span> <span class=\"gloss\">chaff</span></div>\n",
       "\n",
       "\n",
       "</div>\n",
       "\n",
       "\n",
       "    </div>\n",
       "\n",
       "\n",
       "</div>\n"
      ],
      "text/plain": [
       "<IPython.core.display.HTML object>"
      ]
     },
     "metadata": {},
     "output_type": "display_data"
    },
    {
     "data": {
      "text/markdown": [
       "\n",
       "\n",
       "**Result** *30*\n",
       "\n"
      ],
      "text/plain": [
       "<IPython.core.display.Markdown object>"
      ]
     },
     "metadata": {},
     "output_type": "display_data"
    },
    {
     "data": {
      "text/html": [
       "<div class=\"patom \" style=\"background-color: None;\">\n",
       "\n",
       "    <div class=\"phrase\">\n",
       "        <a href=\"https://shebanq.ancient-data.org/hebrew/text?book=Exodus&chapter=34&verse=16&version=c&mr=m&qw=q&tp=txt_p&tr=hb&wget=v&qget=v&nget=vt\" title=\"Exodus 34:16\" sec=\"Exodus 34:16\">phrase</a> <a href=\"#\" class=\"nd\">680843</a>  <span class=\"function\">Cmpl</span> <span class=\"typ\">PP</span>\n",
       "    </div>\n",
       "    <div class=\"atoms\">\n",
       "\n",
       "<div class=\"word \" style=\"background-color: lightblue;\">\n",
       "<a href=\"#\" class=\"nd\">48128</a>\n",
       "<div class=\"h\"><a target=\"_blank\" href=\"https://shebanq.ancient-data.org/hebrew/word?version=c&id=1AXRn\" title=\"show this lexeme in SHEBANQ\">אַחֲרֵ֖י </a></div>\n",
       "<div class=\"features\"> <span class=\"pdp\"><a href=\"https://shebanq.ancient-data.org/hebrew/text?book=Exodus&chapter=34&verse=16&version=c&mr=m&qw=q&tp=txt_p&tr=hb&wget=v&qget=v&nget=vt\" title=\"Exodus 34:16\" sec=\"Exodus 34:16\">prep</a></span> <span class=\"gloss\">after</span></div>\n",
       "\n",
       "\n",
       "</div>\n",
       "\n",
       "<div class=\"word \" style=\"background-color: pink;\">\n",
       "<a href=\"#\" class=\"nd\">48129</a>\n",
       "<div class=\"h\"><a target=\"_blank\" href=\"https://shebanq.ancient-data.org/hebrew/word?version=c&id=1ALHJMn\" title=\"show this lexeme in SHEBANQ\">אֱלֹהֵיהֶֽן׃ </a></div>\n",
       "<div class=\"features\"> <span class=\"pdp\"><a href=\"https://shebanq.ancient-data.org/hebrew/text?book=Exodus&chapter=34&verse=16&version=c&mr=m&qw=q&tp=txt_p&tr=hb&wget=v&qget=v&nget=vt\" title=\"Exodus 34:16\" sec=\"Exodus 34:16\">subs</a></span> <span class=\"gloss\">god(s)</span></div>\n",
       "\n",
       "\n",
       "</div>\n",
       "\n",
       "\n",
       "    </div>\n",
       "\n",
       "\n",
       "</div>\n"
      ],
      "text/plain": [
       "<IPython.core.display.HTML object>"
      ]
     },
     "metadata": {},
     "output_type": "display_data"
    },
    {
     "data": {
      "text/markdown": [
       "\n",
       "\n",
       "**Result** *31*\n",
       "\n"
      ],
      "text/plain": [
       "<IPython.core.display.Markdown object>"
      ]
     },
     "metadata": {},
     "output_type": "display_data"
    },
    {
     "data": {
      "text/html": [
       "<div class=\"patom \" style=\"background-color: None;\">\n",
       "\n",
       "    <div class=\"phrase\">\n",
       "        <a href=\"https://shebanq.ancient-data.org/hebrew/text?book=Ezechiel&chapter=38&verse=11&version=c&mr=m&qw=q&tp=txt_p&tr=hb&wget=v&qget=v&nget=vt\" title=\"Ezekiel 38:11\" sec=\"Ezekiel 38:11\">phrase</a> <a href=\"#\" class=\"nd\">819163</a>  <span class=\"function\">Cmpl</span> <span class=\"typ\">PP</span>\n",
       "    </div>\n",
       "    <div class=\"atoms\">\n",
       "\n",
       "<div class=\"word \" style=\"background-color: lightblue;\">\n",
       "<a href=\"#\" class=\"nd\">284010</a>\n",
       "<div class=\"h\"><a target=\"_blank\" href=\"https://shebanq.ancient-data.org/hebrew/word?version=c&id=1OL\" title=\"show this lexeme in SHEBANQ\">עַל־</a></div>\n",
       "<div class=\"features\"> <span class=\"pdp\"><a href=\"https://shebanq.ancient-data.org/hebrew/text?book=Ezechiel&chapter=38&verse=11&version=c&mr=m&qw=q&tp=txt_p&tr=hb&wget=v&qget=v&nget=vt\" title=\"Ezekiel 38:11\" sec=\"Ezekiel 38:11\">prep</a></span> <span class=\"gloss\">upon</span></div>\n",
       "\n",
       "\n",
       "</div>\n",
       "\n",
       "<div class=\"word \" style=\"background-color: pink;\">\n",
       "<a href=\"#\" class=\"nd\">284011</a>\n",
       "<div class=\"h\"><a target=\"_blank\" href=\"https://shebanq.ancient-data.org/hebrew/word?version=c&id=1ARYn\" title=\"show this lexeme in SHEBANQ\">אֶ֣רֶץ </a></div>\n",
       "<div class=\"features\"> <span class=\"pdp\"><a href=\"https://shebanq.ancient-data.org/hebrew/text?book=Ezechiel&chapter=38&verse=11&version=c&mr=m&qw=q&tp=txt_p&tr=hb&wget=v&qget=v&nget=vt\" title=\"Ezekiel 38:11\" sec=\"Ezekiel 38:11\">subs</a></span> <span class=\"gloss\">earth</span></div>\n",
       "\n",
       "\n",
       "</div>\n",
       "\n",
       "<div class=\"word \" style=\"background-color: None;\">\n",
       "<a href=\"#\" class=\"nd\">284012</a>\n",
       "<div class=\"h\"><a target=\"_blank\" href=\"https://shebanq.ancient-data.org/hebrew/word?version=c&id=1PRZHn\" title=\"show this lexeme in SHEBANQ\">פְּרָזֹ֔ות </a></div>\n",
       "<div class=\"features\"> <span class=\"pdp\"><a href=\"https://shebanq.ancient-data.org/hebrew/text?book=Ezechiel&chapter=38&verse=11&version=c&mr=m&qw=q&tp=txt_p&tr=hb&wget=v&qget=v&nget=vt\" title=\"Ezekiel 38:11\" sec=\"Ezekiel 38:11\">subs</a></span> <span class=\"gloss\">village</span></div>\n",
       "\n",
       "\n",
       "</div>\n",
       "\n",
       "\n",
       "    </div>\n",
       "\n",
       "\n",
       "</div>\n"
      ],
      "text/plain": [
       "<IPython.core.display.HTML object>"
      ]
     },
     "metadata": {},
     "output_type": "display_data"
    },
    {
     "data": {
      "text/markdown": [
       "\n",
       "\n",
       "**Result** *32*\n",
       "\n"
      ],
      "text/plain": [
       "<IPython.core.display.Markdown object>"
      ]
     },
     "metadata": {},
     "output_type": "display_data"
    },
    {
     "data": {
      "text/html": [
       "<div class=\"patom  l\" style=\"background-color: None;\">\n",
       "\n",
       "    <div class=\"phrase\">\n",
       "        <a href=\"https://shebanq.ancient-data.org/hebrew/text?book=Ezechiel&chapter=38&verse=2&version=c&mr=m&qw=q&tp=txt_p&tr=hb&wget=v&qget=v&nget=vt\" title=\"Ezekiel 38:2\" sec=\"Ezekiel 38:2\">phrase</a> <a href=\"#\" class=\"nd\">819074</a>  <span class=\"function\">Cmpl</span> <span class=\"typ\">PP</span>\n",
       "    </div>\n",
       "    <div class=\"atoms\">\n",
       "\n",
       "<div class=\"word \" style=\"background-color: lightblue;\">\n",
       "<a href=\"#\" class=\"nd\">283835</a>\n",
       "<div class=\"h\"><a target=\"_blank\" href=\"https://shebanq.ancient-data.org/hebrew/word?version=c&id=1AL\" title=\"show this lexeme in SHEBANQ\">אֶל־</a></div>\n",
       "<div class=\"features\"> <span class=\"pdp\"><a href=\"https://shebanq.ancient-data.org/hebrew/text?book=Ezechiel&chapter=38&verse=2&version=c&mr=m&qw=q&tp=txt_p&tr=hb&wget=v&qget=v&nget=vt\" title=\"Ezekiel 38:2\" sec=\"Ezekiel 38:2\">prep</a></span> <span class=\"gloss\">to</span></div>\n",
       "\n",
       "\n",
       "</div>\n",
       "\n",
       "<div class=\"word \" style=\"background-color: pink;\">\n",
       "<a href=\"#\" class=\"nd\">283836</a>\n",
       "<div class=\"h\"><a target=\"_blank\" href=\"https://shebanq.ancient-data.org/hebrew/word?version=c&id=1GWGn\" title=\"show this lexeme in SHEBANQ\">גֹּוג֙ </a></div>\n",
       "<div class=\"features\"> <span class=\"pdp\"><a href=\"https://shebanq.ancient-data.org/hebrew/text?book=Ezechiel&chapter=38&verse=2&version=c&mr=m&qw=q&tp=txt_p&tr=hb&wget=v&qget=v&nget=vt\" title=\"Ezekiel 38:2\" sec=\"Ezekiel 38:2\">nmpr</a></span> <span class=\"gloss\">Gog</span></div>\n",
       "\n",
       "\n",
       "</div>\n",
       "\n",
       "\n",
       "    </div>\n",
       "\n",
       "\n",
       "</div>\n"
      ],
      "text/plain": [
       "<IPython.core.display.HTML object>"
      ]
     },
     "metadata": {},
     "output_type": "display_data"
    },
    {
     "data": {
      "text/markdown": [
       "\n",
       "\n",
       "**Result** *33*\n",
       "\n"
      ],
      "text/plain": [
       "<IPython.core.display.Markdown object>"
      ]
     },
     "metadata": {},
     "output_type": "display_data"
    },
    {
     "data": {
      "text/html": [
       "<div class=\"patom \" style=\"background-color: None;\">\n",
       "\n",
       "    <div class=\"phrase\">\n",
       "        <a href=\"https://shebanq.ancient-data.org/hebrew/text?book=Exodus&chapter=5&verse=7&version=c&mr=m&qw=q&tp=txt_p&tr=hb&wget=v&qget=v&nget=vt\" title=\"Exodus 5:7\" sec=\"Exodus 5:7\">phrase</a> <a href=\"#\" class=\"nd\">670927</a>  <span class=\"function\">Cmpl</span> <span class=\"typ\">PP</span>\n",
       "    </div>\n",
       "    <div class=\"atoms\">\n",
       "\n",
       "<div class=\"word \" style=\"background-color: lightblue;\">\n",
       "<a href=\"#\" class=\"nd\">30939</a>\n",
       "<div class=\"h\"><a target=\"_blank\" href=\"https://shebanq.ancient-data.org/hebrew/word?version=c&id=1L\" title=\"show this lexeme in SHEBANQ\">לָ</a></div>\n",
       "<div class=\"features\"> <span class=\"pdp\"><a href=\"https://shebanq.ancient-data.org/hebrew/text?book=Exodus&chapter=5&verse=7&version=c&mr=m&qw=q&tp=txt_p&tr=hb&wget=v&qget=v&nget=vt\" title=\"Exodus 5:7\" sec=\"Exodus 5:7\">prep</a></span> <span class=\"gloss\">to</span></div>\n",
       "\n",
       "\n",
       "</div>\n",
       "\n",
       "<div class=\"word \" style=\"background-color: None;\">\n",
       "<a href=\"#\" class=\"nd\">30940</a>\n",
       "<div class=\"h\"><a target=\"_blank\" href=\"https://shebanq.ancient-data.org/hebrew/word?version=c&id=1H\" title=\"show this lexeme in SHEBANQ\"></a></div>\n",
       "<div class=\"features\"> <span class=\"pdp\"><a href=\"https://shebanq.ancient-data.org/hebrew/text?book=Exodus&chapter=5&verse=7&version=c&mr=m&qw=q&tp=txt_p&tr=hb&wget=v&qget=v&nget=vt\" title=\"Exodus 5:7\" sec=\"Exodus 5:7\">art</a></span> <span class=\"gloss\">the</span></div>\n",
       "\n",
       "\n",
       "</div>\n",
       "\n",
       "<div class=\"word \" style=\"background-color: pink;\">\n",
       "<a href=\"#\" class=\"nd\">30941</a>\n",
       "<div class=\"h\"><a target=\"_blank\" href=\"https://shebanq.ancient-data.org/hebrew/word?version=c&id=1OMn\" title=\"show this lexeme in SHEBANQ\">עָ֛ם </a></div>\n",
       "<div class=\"features\"> <span class=\"pdp\"><a href=\"https://shebanq.ancient-data.org/hebrew/text?book=Exodus&chapter=5&verse=7&version=c&mr=m&qw=q&tp=txt_p&tr=hb&wget=v&qget=v&nget=vt\" title=\"Exodus 5:7\" sec=\"Exodus 5:7\">subs</a></span> <span class=\"gloss\">people</span></div>\n",
       "\n",
       "\n",
       "</div>\n",
       "\n",
       "\n",
       "    </div>\n",
       "\n",
       "\n",
       "</div>\n"
      ],
      "text/plain": [
       "<IPython.core.display.HTML object>"
      ]
     },
     "metadata": {},
     "output_type": "display_data"
    },
    {
     "data": {
      "text/markdown": [
       "\n",
       "\n",
       "**Result** *34*\n",
       "\n"
      ],
      "text/plain": [
       "<IPython.core.display.Markdown object>"
      ]
     },
     "metadata": {},
     "output_type": "display_data"
    },
    {
     "data": {
      "text/html": [
       "<div class=\"patom \" style=\"background-color: None;\">\n",
       "\n",
       "    <div class=\"phrase\">\n",
       "        <a href=\"https://shebanq.ancient-data.org/hebrew/text?book=Chronica_I&chapter=22&verse=9&version=c&mr=m&qw=q&tp=txt_p&tr=hb&wget=v&qget=v&nget=vt\" title=\"1_Chronicles 22:9\" sec=\"1_Chronicles 22:9\">phrase</a> <a href=\"#\" class=\"nd\">892894</a>  <span class=\"function\">Adju</span> <span class=\"typ\">PP</span>\n",
       "    </div>\n",
       "    <div class=\"atoms\">\n",
       "\n",
       "<div class=\"word \" style=\"background-color: lightblue;\">\n",
       "<a href=\"#\" class=\"nd\">402691</a>\n",
       "<div class=\"h\"><a target=\"_blank\" href=\"https://shebanq.ancient-data.org/hebrew/word?version=c&id=1MN\" title=\"show this lexeme in SHEBANQ\">מִ</a></div>\n",
       "<div class=\"features\"> <span class=\"pdp\"><a href=\"https://shebanq.ancient-data.org/hebrew/text?book=Chronica_I&chapter=22&verse=9&version=c&mr=m&qw=q&tp=txt_p&tr=hb&wget=v&qget=v&nget=vt\" title=\"1_Chronicles 22:9\" sec=\"1_Chronicles 22:9\">prep</a></span> <span class=\"gloss\">from</span></div>\n",
       "\n",
       "\n",
       "</div>\n",
       "\n",
       "<div class=\"word \" style=\"background-color: pink;\">\n",
       "<a href=\"#\" class=\"nd\">402692</a>\n",
       "<div class=\"h\"><a target=\"_blank\" href=\"https://shebanq.ancient-data.org/hebrew/word?version=c&id=1SBJBn\" title=\"show this lexeme in SHEBANQ\">סָּבִ֑יב </a></div>\n",
       "<div class=\"features\"> <span class=\"pdp\"><a href=\"https://shebanq.ancient-data.org/hebrew/text?book=Chronica_I&chapter=22&verse=9&version=c&mr=m&qw=q&tp=txt_p&tr=hb&wget=v&qget=v&nget=vt\" title=\"1_Chronicles 22:9\" sec=\"1_Chronicles 22:9\">subs</a></span> <span class=\"gloss\">surrounding</span></div>\n",
       "\n",
       "\n",
       "</div>\n",
       "\n",
       "\n",
       "    </div>\n",
       "\n",
       "\n",
       "</div>\n"
      ],
      "text/plain": [
       "<IPython.core.display.HTML object>"
      ]
     },
     "metadata": {},
     "output_type": "display_data"
    },
    {
     "data": {
      "text/markdown": [
       "\n",
       "\n",
       "**Result** *35*\n",
       "\n"
      ],
      "text/plain": [
       "<IPython.core.display.Markdown object>"
      ]
     },
     "metadata": {},
     "output_type": "display_data"
    },
    {
     "data": {
      "text/html": [
       "<div class=\"patom \" style=\"background-color: None;\">\n",
       "\n",
       "    <div class=\"phrase\">\n",
       "        <a href=\"https://shebanq.ancient-data.org/hebrew/text?book=Samuel_II&chapter=22&verse=16&version=c&mr=m&qw=q&tp=txt_p&tr=hb&wget=v&qget=v&nget=vt\" title=\"2_Samuel 22:16\" sec=\"2_Samuel 22:16\">phrase</a> <a href=\"#\" class=\"nd\">752427</a>  <span class=\"function\">Adju</span> <span class=\"typ\">PP</span>\n",
       "    </div>\n",
       "    <div class=\"atoms\">\n",
       "\n",
       "<div class=\"word \" style=\"background-color: lightblue;\">\n",
       "<a href=\"#\" class=\"nd\">174463</a>\n",
       "<div class=\"h\"><a target=\"_blank\" href=\"https://shebanq.ancient-data.org/hebrew/word?version=c&id=1B\" title=\"show this lexeme in SHEBANQ\">בְּ</a></div>\n",
       "<div class=\"features\"> <span class=\"pdp\"><a href=\"https://shebanq.ancient-data.org/hebrew/text?book=Samuel_II&chapter=22&verse=16&version=c&mr=m&qw=q&tp=txt_p&tr=hb&wget=v&qget=v&nget=vt\" title=\"2_Samuel 22:16\" sec=\"2_Samuel 22:16\">prep</a></span> <span class=\"gloss\">in</span></div>\n",
       "\n",
       "\n",
       "</div>\n",
       "\n",
       "<div class=\"word \" style=\"background-color: pink;\">\n",
       "<a href=\"#\" class=\"nd\">174464</a>\n",
       "<div class=\"h\"><a target=\"_blank\" href=\"https://shebanq.ancient-data.org/hebrew/word?version=c&id=1GORHn\" title=\"show this lexeme in SHEBANQ\">גַעֲרַ֣ת </a></div>\n",
       "<div class=\"features\"> <span class=\"pdp\"><a href=\"https://shebanq.ancient-data.org/hebrew/text?book=Samuel_II&chapter=22&verse=16&version=c&mr=m&qw=q&tp=txt_p&tr=hb&wget=v&qget=v&nget=vt\" title=\"2_Samuel 22:16\" sec=\"2_Samuel 22:16\">subs</a></span> <span class=\"gloss\">rebuke</span></div>\n",
       "\n",
       "\n",
       "</div>\n",
       "\n",
       "<div class=\"word \" style=\"background-color: None;\">\n",
       "<a href=\"#\" class=\"nd\">174465</a>\n",
       "<div class=\"h\"><a target=\"_blank\" href=\"https://shebanq.ancient-data.org/hebrew/word?version=c&id=1JHWHn\" title=\"show this lexeme in SHEBANQ\">יְהוָ֔ה </a></div>\n",
       "<div class=\"features\"> <span class=\"pdp\"><a href=\"https://shebanq.ancient-data.org/hebrew/text?book=Samuel_II&chapter=22&verse=16&version=c&mr=m&qw=q&tp=txt_p&tr=hb&wget=v&qget=v&nget=vt\" title=\"2_Samuel 22:16\" sec=\"2_Samuel 22:16\">nmpr</a></span> <span class=\"gloss\">YHWH</span></div>\n",
       "\n",
       "\n",
       "</div>\n",
       "\n",
       "\n",
       "    </div>\n",
       "\n",
       "\n",
       "</div>\n"
      ],
      "text/plain": [
       "<IPython.core.display.HTML object>"
      ]
     },
     "metadata": {},
     "output_type": "display_data"
    },
    {
     "data": {
      "text/markdown": [
       "\n",
       "\n",
       "**Result** *36*\n",
       "\n"
      ],
      "text/plain": [
       "<IPython.core.display.Markdown object>"
      ]
     },
     "metadata": {},
     "output_type": "display_data"
    },
    {
     "data": {
      "text/html": [
       "<div class=\"patom \" style=\"background-color: None;\">\n",
       "\n",
       "    <div class=\"phrase\">\n",
       "        <a href=\"https://shebanq.ancient-data.org/hebrew/text?book=Josua&chapter=6&verse=22&version=c&mr=m&qw=q&tp=txt_p&tr=hb&wget=v&qget=v&nget=vt\" title=\"Joshua 6:22\" sec=\"Joshua 6:22\">phrase</a> <a href=\"#\" class=\"nd\">717402</a>  <span class=\"function\">Objc</span> <span class=\"typ\">PP</span>\n",
       "    </div>\n",
       "    <div class=\"atoms\">\n",
       "\n",
       "<div class=\"word \" style=\"background-color: lightblue;\">\n",
       "<a href=\"#\" class=\"nd\">115916</a>\n",
       "<div class=\"h\"><a target=\"_blank\" href=\"https://shebanq.ancient-data.org/hebrew/word?version=c&id=1AT\" title=\"show this lexeme in SHEBANQ\">אֶת־</a></div>\n",
       "<div class=\"features\"> <span class=\"pdp\"><a href=\"https://shebanq.ancient-data.org/hebrew/text?book=Josua&chapter=6&verse=22&version=c&mr=m&qw=q&tp=txt_p&tr=hb&wget=v&qget=v&nget=vt\" title=\"Joshua 6:22\" sec=\"Joshua 6:22\">prep</a></span> <span class=\"gloss\">&lt;object marker></span></div>\n",
       "\n",
       "\n",
       "</div>\n",
       "\n",
       "<div class=\"word \" style=\"background-color: None;\">\n",
       "<a href=\"#\" class=\"nd\">115917</a>\n",
       "<div class=\"h\"><a target=\"_blank\" href=\"https://shebanq.ancient-data.org/hebrew/word?version=c&id=1H\" title=\"show this lexeme in SHEBANQ\">הָֽ</a></div>\n",
       "<div class=\"features\"> <span class=\"pdp\"><a href=\"https://shebanq.ancient-data.org/hebrew/text?book=Josua&chapter=6&verse=22&version=c&mr=m&qw=q&tp=txt_p&tr=hb&wget=v&qget=v&nget=vt\" title=\"Joshua 6:22\" sec=\"Joshua 6:22\">art</a></span> <span class=\"gloss\">the</span></div>\n",
       "\n",
       "\n",
       "</div>\n",
       "\n",
       "<div class=\"word \" style=\"background-color: pink;\">\n",
       "<a href=\"#\" class=\"nd\">115918</a>\n",
       "<div class=\"h\"><a target=\"_blank\" href=\"https://shebanq.ancient-data.org/hebrew/word?version=c&id=1ACHn\" title=\"show this lexeme in SHEBANQ\">אִשָּׁה֙ </a></div>\n",
       "<div class=\"features\"> <span class=\"pdp\"><a href=\"https://shebanq.ancient-data.org/hebrew/text?book=Josua&chapter=6&verse=22&version=c&mr=m&qw=q&tp=txt_p&tr=hb&wget=v&qget=v&nget=vt\" title=\"Joshua 6:22\" sec=\"Joshua 6:22\">subs</a></span> <span class=\"gloss\">woman</span></div>\n",
       "\n",
       "\n",
       "</div>\n",
       "\n",
       "<div class=\"word \" style=\"background-color: None;\">\n",
       "<a href=\"#\" class=\"nd\">115919</a>\n",
       "<div class=\"h\"><a target=\"_blank\" href=\"https://shebanq.ancient-data.org/hebrew/word?version=c&id=1W\" title=\"show this lexeme in SHEBANQ\">וְ</a></div>\n",
       "<div class=\"features\"> <span class=\"pdp\"><a href=\"https://shebanq.ancient-data.org/hebrew/text?book=Josua&chapter=6&verse=22&version=c&mr=m&qw=q&tp=txt_p&tr=hb&wget=v&qget=v&nget=vt\" title=\"Joshua 6:22\" sec=\"Joshua 6:22\">conj</a></span> <span class=\"gloss\">and</span></div>\n",
       "\n",
       "\n",
       "</div>\n",
       "\n",
       "<div class=\"word \" style=\"background-color: lightblue;\">\n",
       "<a href=\"#\" class=\"nd\">115920</a>\n",
       "<div class=\"h\"><a target=\"_blank\" href=\"https://shebanq.ancient-data.org/hebrew/word?version=c&id=1AT\" title=\"show this lexeme in SHEBANQ\">אֶת־</a></div>\n",
       "<div class=\"features\"> <span class=\"pdp\"><a href=\"https://shebanq.ancient-data.org/hebrew/text?book=Josua&chapter=6&verse=22&version=c&mr=m&qw=q&tp=txt_p&tr=hb&wget=v&qget=v&nget=vt\" title=\"Joshua 6:22\" sec=\"Joshua 6:22\">prep</a></span> <span class=\"gloss\">&lt;object marker></span></div>\n",
       "\n",
       "\n",
       "</div>\n",
       "\n",
       "<div class=\"word \" style=\"background-color: pink;\">\n",
       "<a href=\"#\" class=\"nd\">115921</a>\n",
       "<div class=\"h\"><a target=\"_blank\" href=\"https://shebanq.ancient-data.org/hebrew/word?version=c&id=1KLn\" title=\"show this lexeme in SHEBANQ\">כָּל־</a></div>\n",
       "<div class=\"features\"> <span class=\"pdp\"><a href=\"https://shebanq.ancient-data.org/hebrew/text?book=Josua&chapter=6&verse=22&version=c&mr=m&qw=q&tp=txt_p&tr=hb&wget=v&qget=v&nget=vt\" title=\"Joshua 6:22\" sec=\"Joshua 6:22\">subs</a></span> <span class=\"gloss\">whole</span></div>\n",
       "\n",
       "\n",
       "</div>\n",
       "\n",
       "\n",
       "    </div>\n",
       "\n",
       "\n",
       "</div>\n"
      ],
      "text/plain": [
       "<IPython.core.display.HTML object>"
      ]
     },
     "metadata": {},
     "output_type": "display_data"
    },
    {
     "data": {
      "text/markdown": [
       "\n",
       "\n",
       "**Result** *37*\n",
       "\n"
      ],
      "text/plain": [
       "<IPython.core.display.Markdown object>"
      ]
     },
     "metadata": {},
     "output_type": "display_data"
    },
    {
     "data": {
      "text/html": [
       "<div class=\"patom  l\" style=\"background-color: None;\">\n",
       "\n",
       "    <div class=\"phrase\">\n",
       "        <a href=\"https://shebanq.ancient-data.org/hebrew/text?book=Reges_II&chapter=8&verse=16&version=c&mr=m&qw=q&tp=txt_p&tr=hb&wget=v&qget=v&nget=vt\" title=\"2_Kings 8:16\" sec=\"2_Kings 8:16\">phrase</a> <a href=\"#\" class=\"nd\">767562</a>  <span class=\"function\">Time</span> <span class=\"typ\">PP</span>\n",
       "    </div>\n",
       "    <div class=\"atoms\">\n",
       "\n",
       "<div class=\"word \" style=\"background-color: lightblue;\">\n",
       "<a href=\"#\" class=\"nd\">199934</a>\n",
       "<div class=\"h\"><a target=\"_blank\" href=\"https://shebanq.ancient-data.org/hebrew/word?version=c&id=1B\" title=\"show this lexeme in SHEBANQ\">בִ</a></div>\n",
       "<div class=\"features\"> <span class=\"pdp\"><a href=\"https://shebanq.ancient-data.org/hebrew/text?book=Reges_II&chapter=8&verse=16&version=c&mr=m&qw=q&tp=txt_p&tr=hb&wget=v&qget=v&nget=vt\" title=\"2_Kings 8:16\" sec=\"2_Kings 8:16\">prep</a></span> <span class=\"gloss\">in</span></div>\n",
       "\n",
       "\n",
       "</div>\n",
       "\n",
       "<div class=\"word \" style=\"background-color: pink;\">\n",
       "<a href=\"#\" class=\"nd\">199935</a>\n",
       "<div class=\"h\"><a target=\"_blank\" href=\"https://shebanq.ancient-data.org/hebrew/word?version=c&id=1CNHn\" title=\"show this lexeme in SHEBANQ\">שְׁנַ֣ת </a></div>\n",
       "<div class=\"features\"> <span class=\"pdp\"><a href=\"https://shebanq.ancient-data.org/hebrew/text?book=Reges_II&chapter=8&verse=16&version=c&mr=m&qw=q&tp=txt_p&tr=hb&wget=v&qget=v&nget=vt\" title=\"2_Kings 8:16\" sec=\"2_Kings 8:16\">subs</a></span> <span class=\"gloss\">year</span></div>\n",
       "\n",
       "\n",
       "</div>\n",
       "\n",
       "<div class=\"word \" style=\"background-color: None;\">\n",
       "<a href=\"#\" class=\"nd\">199936</a>\n",
       "<div class=\"h\"><a target=\"_blank\" href=\"https://shebanq.ancient-data.org/hebrew/word?version=c&id=1XMCn\" title=\"show this lexeme in SHEBANQ\">חָמֵ֗שׁ </a></div>\n",
       "<div class=\"features\"> <span class=\"pdp\"><a href=\"https://shebanq.ancient-data.org/hebrew/text?book=Reges_II&chapter=8&verse=16&version=c&mr=m&qw=q&tp=txt_p&tr=hb&wget=v&qget=v&nget=vt\" title=\"2_Kings 8:16\" sec=\"2_Kings 8:16\">subs</a></span> <span class=\"gloss\">five</span></div>\n",
       "\n",
       "\n",
       "</div>\n",
       "\n",
       "\n",
       "    </div>\n",
       "\n",
       "\n",
       "</div>\n"
      ],
      "text/plain": [
       "<IPython.core.display.HTML object>"
      ]
     },
     "metadata": {},
     "output_type": "display_data"
    },
    {
     "data": {
      "text/markdown": [
       "\n",
       "\n",
       "**Result** *38*\n",
       "\n"
      ],
      "text/plain": [
       "<IPython.core.display.Markdown object>"
      ]
     },
     "metadata": {},
     "output_type": "display_data"
    },
    {
     "data": {
      "text/html": [
       "<div class=\"patom \" style=\"background-color: None;\">\n",
       "\n",
       "    <div class=\"phrase\">\n",
       "        <a href=\"https://shebanq.ancient-data.org/hebrew/text?book=Exodus&chapter=8&verse=3&version=c&mr=m&qw=q&tp=txt_p&tr=hb&wget=v&qget=v&nget=vt\" title=\"Exodus 8:3\" sec=\"Exodus 8:3\">phrase</a> <a href=\"#\" class=\"nd\">671813</a>  <span class=\"function\">Cmpl</span> <span class=\"typ\">PP</span>\n",
       "    </div>\n",
       "    <div class=\"atoms\">\n",
       "\n",
       "<div class=\"word \" style=\"background-color: lightblue;\">\n",
       "<a href=\"#\" class=\"nd\">32442</a>\n",
       "<div class=\"h\"><a target=\"_blank\" href=\"https://shebanq.ancient-data.org/hebrew/word?version=c&id=1B\" title=\"show this lexeme in SHEBANQ\">בְּ</a></div>\n",
       "<div class=\"features\"> <span class=\"pdp\"><a href=\"https://shebanq.ancient-data.org/hebrew/text?book=Exodus&chapter=8&verse=3&version=c&mr=m&qw=q&tp=txt_p&tr=hb&wget=v&qget=v&nget=vt\" title=\"Exodus 8:3\" sec=\"Exodus 8:3\">prep</a></span> <span class=\"gloss\">in</span></div>\n",
       "\n",
       "\n",
       "</div>\n",
       "\n",
       "<div class=\"word \" style=\"background-color: pink;\">\n",
       "<a href=\"#\" class=\"nd\">32443</a>\n",
       "<div class=\"h\"><a target=\"_blank\" href=\"https://shebanq.ancient-data.org/hebrew/word?version=c&id=1LVn\" title=\"show this lexeme in SHEBANQ\">לָטֵיהֶ֑ם </a></div>\n",
       "<div class=\"features\"> <span class=\"pdp\"><a href=\"https://shebanq.ancient-data.org/hebrew/text?book=Exodus&chapter=8&verse=3&version=c&mr=m&qw=q&tp=txt_p&tr=hb&wget=v&qget=v&nget=vt\" title=\"Exodus 8:3\" sec=\"Exodus 8:3\">subs</a></span> <span class=\"gloss\">secrecy</span></div>\n",
       "\n",
       "\n",
       "</div>\n",
       "\n",
       "\n",
       "    </div>\n",
       "\n",
       "\n",
       "</div>\n"
      ],
      "text/plain": [
       "<IPython.core.display.HTML object>"
      ]
     },
     "metadata": {},
     "output_type": "display_data"
    },
    {
     "data": {
      "text/markdown": [
       "\n",
       "\n",
       "**Result** *39*\n",
       "\n"
      ],
      "text/plain": [
       "<IPython.core.display.Markdown object>"
      ]
     },
     "metadata": {},
     "output_type": "display_data"
    },
    {
     "data": {
      "text/html": [
       "<div class=\"patom \" style=\"background-color: None;\">\n",
       "\n",
       "    <div class=\"phrase\">\n",
       "        <a href=\"https://shebanq.ancient-data.org/hebrew/text?book=Numeri&chapter=22&verse=27&version=c&mr=m&qw=q&tp=txt_p&tr=hb&wget=v&qget=v&nget=vt\" title=\"Numbers 22:27\" sec=\"Numbers 22:27\">phrase</a> <a href=\"#\" class=\"nd\">699901</a>  <span class=\"function\">Objc</span> <span class=\"typ\">PP</span>\n",
       "    </div>\n",
       "    <div class=\"atoms\">\n",
       "\n",
       "<div class=\"word \" style=\"background-color: lightblue;\">\n",
       "<a href=\"#\" class=\"nd\">84365</a>\n",
       "<div class=\"h\"><a target=\"_blank\" href=\"https://shebanq.ancient-data.org/hebrew/word?version=c&id=1AT\" title=\"show this lexeme in SHEBANQ\">אֶת־</a></div>\n",
       "<div class=\"features\"> <span class=\"pdp\"><a href=\"https://shebanq.ancient-data.org/hebrew/text?book=Numeri&chapter=22&verse=27&version=c&mr=m&qw=q&tp=txt_p&tr=hb&wget=v&qget=v&nget=vt\" title=\"Numbers 22:27\" sec=\"Numbers 22:27\">prep</a></span> <span class=\"gloss\">&lt;object marker></span></div>\n",
       "\n",
       "\n",
       "</div>\n",
       "\n",
       "<div class=\"word \" style=\"background-color: pink;\">\n",
       "<a href=\"#\" class=\"nd\">84366</a>\n",
       "<div class=\"h\"><a target=\"_blank\" href=\"https://shebanq.ancient-data.org/hebrew/word?version=c&id=1MLAKn\" title=\"show this lexeme in SHEBANQ\">מַלְאַ֣ךְ </a></div>\n",
       "<div class=\"features\"> <span class=\"pdp\"><a href=\"https://shebanq.ancient-data.org/hebrew/text?book=Numeri&chapter=22&verse=27&version=c&mr=m&qw=q&tp=txt_p&tr=hb&wget=v&qget=v&nget=vt\" title=\"Numbers 22:27\" sec=\"Numbers 22:27\">subs</a></span> <span class=\"gloss\">messenger</span></div>\n",
       "\n",
       "\n",
       "</div>\n",
       "\n",
       "<div class=\"word \" style=\"background-color: None;\">\n",
       "<a href=\"#\" class=\"nd\">84367</a>\n",
       "<div class=\"h\"><a target=\"_blank\" href=\"https://shebanq.ancient-data.org/hebrew/word?version=c&id=1JHWHn\" title=\"show this lexeme in SHEBANQ\">יְהוָ֔ה </a></div>\n",
       "<div class=\"features\"> <span class=\"pdp\"><a href=\"https://shebanq.ancient-data.org/hebrew/text?book=Numeri&chapter=22&verse=27&version=c&mr=m&qw=q&tp=txt_p&tr=hb&wget=v&qget=v&nget=vt\" title=\"Numbers 22:27\" sec=\"Numbers 22:27\">nmpr</a></span> <span class=\"gloss\">YHWH</span></div>\n",
       "\n",
       "\n",
       "</div>\n",
       "\n",
       "\n",
       "    </div>\n",
       "\n",
       "\n",
       "</div>\n"
      ],
      "text/plain": [
       "<IPython.core.display.HTML object>"
      ]
     },
     "metadata": {},
     "output_type": "display_data"
    },
    {
     "data": {
      "text/markdown": [
       "\n",
       "\n",
       "**Result** *40*\n",
       "\n"
      ],
      "text/plain": [
       "<IPython.core.display.Markdown object>"
      ]
     },
     "metadata": {},
     "output_type": "display_data"
    },
    {
     "data": {
      "text/html": [
       "<div class=\"patom  l\" style=\"background-color: None;\">\n",
       "\n",
       "    <div class=\"phrase\">\n",
       "        <a href=\"https://shebanq.ancient-data.org/hebrew/text?book=Daniel&chapter=3&verse=20&version=c&mr=m&qw=q&tp=txt_p&tr=hb&wget=v&qget=v&nget=vt\" title=\"Daniel 3:20\" sec=\"Daniel 3:20\">phrase</a> <a href=\"#\" class=\"nd\">877421</a>  <span class=\"function\">Cmpl</span> <span class=\"typ\">PP</span>\n",
       "    </div>\n",
       "    <div class=\"atoms\">\n",
       "\n",
       "<div class=\"word \" style=\"background-color: lightblue;\">\n",
       "<a href=\"#\" class=\"nd\">372048</a>\n",
       "<div class=\"h\"><a target=\"_blank\" href=\"https://shebanq.ancient-data.org/hebrew/word?version=c&id=2L\" title=\"show this lexeme in SHEBANQ\">לְ</a></div>\n",
       "<div class=\"features\"> <span class=\"pdp\"><a href=\"https://shebanq.ancient-data.org/hebrew/text?book=Daniel&chapter=3&verse=20&version=c&mr=m&qw=q&tp=txt_p&tr=hb&wget=v&qget=v&nget=vt\" title=\"Daniel 3:20\" sec=\"Daniel 3:20\">prep</a></span> <span class=\"gloss\">to</span></div>\n",
       "\n",
       "\n",
       "</div>\n",
       "\n",
       "<div class=\"word \" style=\"background-color: pink;\">\n",
       "<a href=\"#\" class=\"nd\">372049</a>\n",
       "<div class=\"h\"><a target=\"_blank\" href=\"https://shebanq.ancient-data.org/hebrew/word?version=c&id=2GBRn\" title=\"show this lexeme in SHEBANQ\">גֻבְרִ֤ין </a></div>\n",
       "<div class=\"features\"> <span class=\"pdp\"><a href=\"https://shebanq.ancient-data.org/hebrew/text?book=Daniel&chapter=3&verse=20&version=c&mr=m&qw=q&tp=txt_p&tr=hb&wget=v&qget=v&nget=vt\" title=\"Daniel 3:20\" sec=\"Daniel 3:20\">subs</a></span> <span class=\"gloss\">man</span></div>\n",
       "\n",
       "\n",
       "</div>\n",
       "\n",
       "\n",
       "    </div>\n",
       "\n",
       "\n",
       "</div>\n"
      ],
      "text/plain": [
       "<IPython.core.display.HTML object>"
      ]
     },
     "metadata": {},
     "output_type": "display_data"
    },
    {
     "data": {
      "text/markdown": [
       "\n",
       "\n",
       "**Result** *41*\n",
       "\n"
      ],
      "text/plain": [
       "<IPython.core.display.Markdown object>"
      ]
     },
     "metadata": {},
     "output_type": "display_data"
    },
    {
     "data": {
      "text/html": [
       "<div class=\"patom  l\" style=\"background-color: None;\">\n",
       "\n",
       "    <div class=\"phrase\">\n",
       "        <a href=\"https://shebanq.ancient-data.org/hebrew/text?book=Deuteronomium&chapter=28&verse=49&version=c&mr=m&qw=q&tp=txt_p&tr=hb&wget=v&qget=v&nget=vt\" title=\"Deuteronomy 28:49\" sec=\"Deuteronomy 28:49\">phrase</a> <a href=\"#\" class=\"nd\">713461</a>  <span class=\"function\">Adju</span> <span class=\"typ\">PP</span>\n",
       "    </div>\n",
       "    <div class=\"atoms\">\n",
       "\n",
       "<div class=\"word \" style=\"background-color: lightblue;\">\n",
       "<a href=\"#\" class=\"nd\">109007</a>\n",
       "<div class=\"h\"><a target=\"_blank\" href=\"https://shebanq.ancient-data.org/hebrew/word?version=c&id=1MN\" title=\"show this lexeme in SHEBANQ\">מֵ</a></div>\n",
       "<div class=\"features\"> <span class=\"pdp\"><a href=\"https://shebanq.ancient-data.org/hebrew/text?book=Deuteronomium&chapter=28&verse=49&version=c&mr=m&qw=q&tp=txt_p&tr=hb&wget=v&qget=v&nget=vt\" title=\"Deuteronomy 28:49\" sec=\"Deuteronomy 28:49\">prep</a></span> <span class=\"gloss\">from</span></div>\n",
       "\n",
       "\n",
       "</div>\n",
       "\n",
       "<div class=\"word \" style=\"background-color: pink;\">\n",
       "<a href=\"#\" class=\"nd\">109008</a>\n",
       "<div class=\"h\"><a target=\"_blank\" href=\"https://shebanq.ancient-data.org/hebrew/word?version=c&id=1RXWQn\" title=\"show this lexeme in SHEBANQ\">רָחֹוק֙ </a></div>\n",
       "<div class=\"features\"> <span class=\"pdp\"><a href=\"https://shebanq.ancient-data.org/hebrew/text?book=Deuteronomium&chapter=28&verse=49&version=c&mr=m&qw=q&tp=txt_p&tr=hb&wget=v&qget=v&nget=vt\" title=\"Deuteronomy 28:49\" sec=\"Deuteronomy 28:49\">subs</a></span> <span class=\"gloss\">remote</span></div>\n",
       "\n",
       "\n",
       "</div>\n",
       "\n",
       "\n",
       "    </div>\n",
       "\n",
       "\n",
       "</div>\n"
      ],
      "text/plain": [
       "<IPython.core.display.HTML object>"
      ]
     },
     "metadata": {},
     "output_type": "display_data"
    },
    {
     "data": {
      "text/markdown": [
       "\n",
       "\n",
       "**Result** *42*\n",
       "\n"
      ],
      "text/plain": [
       "<IPython.core.display.Markdown object>"
      ]
     },
     "metadata": {},
     "output_type": "display_data"
    },
    {
     "data": {
      "text/html": [
       "<div class=\"patom \" style=\"background-color: None;\">\n",
       "\n",
       "    <div class=\"phrase\">\n",
       "        <a href=\"https://shebanq.ancient-data.org/hebrew/text?book=Genesis&chapter=31&verse=20&version=c&mr=m&qw=q&tp=txt_p&tr=hb&wget=v&qget=v&nget=vt\" title=\"Genesis 31:20\" sec=\"Genesis 31:20\">phrase</a> <a href=\"#\" class=\"nd\">661812</a>  <span class=\"function\">Conj</span> <span class=\"typ\">CP</span>\n",
       "    </div>\n",
       "    <div class=\"atoms\">\n",
       "\n",
       "<div class=\"word \" style=\"background-color: lightblue;\">\n",
       "<a href=\"#\" class=\"nd\">16736</a>\n",
       "<div class=\"h\"><a target=\"_blank\" href=\"https://shebanq.ancient-data.org/hebrew/word?version=c&id=1OL\" title=\"show this lexeme in SHEBANQ\">עַל־</a></div>\n",
       "<div class=\"features\"> <span class=\"pdp\"><a href=\"https://shebanq.ancient-data.org/hebrew/text?book=Genesis&chapter=31&verse=20&version=c&mr=m&qw=q&tp=txt_p&tr=hb&wget=v&qget=v&nget=vt\" title=\"Genesis 31:20\" sec=\"Genesis 31:20\">prep</a></span> <span class=\"gloss\">upon</span></div>\n",
       "\n",
       "\n",
       "</div>\n",
       "\n",
       "<div class=\"word \" style=\"background-color: pink;\">\n",
       "<a href=\"#\" class=\"nd\">16737</a>\n",
       "<div class=\"h\"><a target=\"_blank\" href=\"https://shebanq.ancient-data.org/hebrew/word?version=c&id=1BLJn\" title=\"show this lexeme in SHEBANQ\">בְּלִי֙ </a></div>\n",
       "<div class=\"features\"> <span class=\"pdp\"><a href=\"https://shebanq.ancient-data.org/hebrew/text?book=Genesis&chapter=31&verse=20&version=c&mr=m&qw=q&tp=txt_p&tr=hb&wget=v&qget=v&nget=vt\" title=\"Genesis 31:20\" sec=\"Genesis 31:20\">subs</a></span> <span class=\"gloss\">destruction</span></div>\n",
       "\n",
       "\n",
       "</div>\n",
       "\n",
       "\n",
       "    </div>\n",
       "\n",
       "\n",
       "</div>\n"
      ],
      "text/plain": [
       "<IPython.core.display.HTML object>"
      ]
     },
     "metadata": {},
     "output_type": "display_data"
    },
    {
     "data": {
      "text/markdown": [
       "\n",
       "\n",
       "**Result** *43*\n",
       "\n"
      ],
      "text/plain": [
       "<IPython.core.display.Markdown object>"
      ]
     },
     "metadata": {},
     "output_type": "display_data"
    },
    {
     "data": {
      "text/html": [
       "<div class=\"patom \" style=\"background-color: None;\">\n",
       "\n",
       "    <div class=\"phrase\">\n",
       "        <a href=\"https://shebanq.ancient-data.org/hebrew/text?book=Genesis&chapter=30&verse=16&version=c&mr=m&qw=q&tp=txt_p&tr=hb&wget=v&qget=v&nget=vt\" title=\"Genesis 30:16\" sec=\"Genesis 30:16\">phrase</a> <a href=\"#\" class=\"nd\">661231</a>  <span class=\"function\">Time</span> <span class=\"typ\">PP</span>\n",
       "    </div>\n",
       "    <div class=\"atoms\">\n",
       "\n",
       "<div class=\"word \" style=\"background-color: lightblue;\">\n",
       "<a href=\"#\" class=\"nd\">15837</a>\n",
       "<div class=\"h\"><a target=\"_blank\" href=\"https://shebanq.ancient-data.org/hebrew/word?version=c&id=1B\" title=\"show this lexeme in SHEBANQ\">בָּ</a></div>\n",
       "<div class=\"features\"> <span class=\"pdp\"><a href=\"https://shebanq.ancient-data.org/hebrew/text?book=Genesis&chapter=30&verse=16&version=c&mr=m&qw=q&tp=txt_p&tr=hb&wget=v&qget=v&nget=vt\" title=\"Genesis 30:16\" sec=\"Genesis 30:16\">prep</a></span> <span class=\"gloss\">in</span></div>\n",
       "\n",
       "\n",
       "</div>\n",
       "\n",
       "<div class=\"word \" style=\"background-color: None;\">\n",
       "<a href=\"#\" class=\"nd\">15838</a>\n",
       "<div class=\"h\"><a target=\"_blank\" href=\"https://shebanq.ancient-data.org/hebrew/word?version=c&id=1H\" title=\"show this lexeme in SHEBANQ\"></a></div>\n",
       "<div class=\"features\"> <span class=\"pdp\"><a href=\"https://shebanq.ancient-data.org/hebrew/text?book=Genesis&chapter=30&verse=16&version=c&mr=m&qw=q&tp=txt_p&tr=hb&wget=v&qget=v&nget=vt\" title=\"Genesis 30:16\" sec=\"Genesis 30:16\">art</a></span> <span class=\"gloss\">the</span></div>\n",
       "\n",
       "\n",
       "</div>\n",
       "\n",
       "<div class=\"word \" style=\"background-color: pink;\">\n",
       "<a href=\"#\" class=\"nd\">15839</a>\n",
       "<div class=\"h\"><a target=\"_blank\" href=\"https://shebanq.ancient-data.org/hebrew/word?version=c&id=1ORBn\" title=\"show this lexeme in SHEBANQ\">עֶרֶב֒ </a></div>\n",
       "<div class=\"features\"> <span class=\"pdp\"><a href=\"https://shebanq.ancient-data.org/hebrew/text?book=Genesis&chapter=30&verse=16&version=c&mr=m&qw=q&tp=txt_p&tr=hb&wget=v&qget=v&nget=vt\" title=\"Genesis 30:16\" sec=\"Genesis 30:16\">subs</a></span> <span class=\"gloss\">evening</span></div>\n",
       "\n",
       "\n",
       "</div>\n",
       "\n",
       "\n",
       "    </div>\n",
       "\n",
       "\n",
       "</div>\n"
      ],
      "text/plain": [
       "<IPython.core.display.HTML object>"
      ]
     },
     "metadata": {},
     "output_type": "display_data"
    },
    {
     "data": {
      "text/markdown": [
       "\n",
       "\n",
       "**Result** *44*\n",
       "\n"
      ],
      "text/plain": [
       "<IPython.core.display.Markdown object>"
      ]
     },
     "metadata": {},
     "output_type": "display_data"
    },
    {
     "data": {
      "text/html": [
       "<div class=\"patom  l\" style=\"background-color: None;\">\n",
       "\n",
       "    <div class=\"phrase\">\n",
       "        <a href=\"https://shebanq.ancient-data.org/hebrew/text?book=Samuel_II&chapter=18&verse=28&version=c&mr=m&qw=q&tp=txt_p&tr=hb&wget=v&qget=v&nget=vt\" title=\"2_Samuel 18:28\" sec=\"2_Samuel 18:28\">phrase</a> <a href=\"#\" class=\"nd\">750823</a>  <span class=\"function\">Adju</span> <span class=\"typ\">PP</span>\n",
       "    </div>\n",
       "    <div class=\"atoms\">\n",
       "\n",
       "<div class=\"word \" style=\"background-color: lightblue;\">\n",
       "<a href=\"#\" class=\"nd\">171800</a>\n",
       "<div class=\"h\"><a target=\"_blank\" href=\"https://shebanq.ancient-data.org/hebrew/word?version=c&id=1L\" title=\"show this lexeme in SHEBANQ\">לְ</a></div>\n",
       "<div class=\"features\"> <span class=\"pdp\"><a href=\"https://shebanq.ancient-data.org/hebrew/text?book=Samuel_II&chapter=18&verse=28&version=c&mr=m&qw=q&tp=txt_p&tr=hb&wget=v&qget=v&nget=vt\" title=\"2_Samuel 18:28\" sec=\"2_Samuel 18:28\">prep</a></span> <span class=\"gloss\">to</span></div>\n",
       "\n",
       "\n",
       "</div>\n",
       "\n",
       "<div class=\"word \" style=\"background-color: pink;\">\n",
       "<a href=\"#\" class=\"nd\">171801</a>\n",
       "<div class=\"h\"><a target=\"_blank\" href=\"https://shebanq.ancient-data.org/hebrew/word?version=c&id=1APn\" title=\"show this lexeme in SHEBANQ\">אַפָּ֖יו </a></div>\n",
       "<div class=\"features\"> <span class=\"pdp\"><a href=\"https://shebanq.ancient-data.org/hebrew/text?book=Samuel_II&chapter=18&verse=28&version=c&mr=m&qw=q&tp=txt_p&tr=hb&wget=v&qget=v&nget=vt\" title=\"2_Samuel 18:28\" sec=\"2_Samuel 18:28\">subs</a></span> <span class=\"gloss\">nose</span></div>\n",
       "\n",
       "\n",
       "</div>\n",
       "\n",
       "\n",
       "    </div>\n",
       "\n",
       "\n",
       "</div>\n"
      ],
      "text/plain": [
       "<IPython.core.display.HTML object>"
      ]
     },
     "metadata": {},
     "output_type": "display_data"
    },
    {
     "data": {
      "text/markdown": [
       "\n",
       "\n",
       "**Result** *45*\n",
       "\n"
      ],
      "text/plain": [
       "<IPython.core.display.Markdown object>"
      ]
     },
     "metadata": {},
     "output_type": "display_data"
    },
    {
     "data": {
      "text/html": [
       "<div class=\"patom  r\" style=\"background-color: None;\">\n",
       "\n",
       "    <div class=\"phrase\">\n",
       "        <a href=\"https://shebanq.ancient-data.org/hebrew/text?book=Genesis&chapter=45&verse=19&version=c&mr=m&qw=q&tp=txt_p&tr=hb&wget=v&qget=v&nget=vt\" title=\"Genesis 45:19\" sec=\"Genesis 45:19\">phrase</a> <a href=\"#\" class=\"nd\">667740</a>  <span class=\"function\">Objc</span> <span class=\"typ\">NP</span>\n",
       "    </div>\n",
       "    <div class=\"atoms\">\n",
       "\n",
       "<div class=\"word \" style=\"background-color: lightblue;\">\n",
       "<a href=\"#\" class=\"nd\">25816</a>\n",
       "<div class=\"h\"><a target=\"_blank\" href=\"https://shebanq.ancient-data.org/hebrew/word?version=c&id=1L\" title=\"show this lexeme in SHEBANQ\">לְ</a></div>\n",
       "<div class=\"features\"> <span class=\"pdp\"><a href=\"https://shebanq.ancient-data.org/hebrew/text?book=Genesis&chapter=45&verse=19&version=c&mr=m&qw=q&tp=txt_p&tr=hb&wget=v&qget=v&nget=vt\" title=\"Genesis 45:19\" sec=\"Genesis 45:19\">prep</a></span> <span class=\"gloss\">to</span></div>\n",
       "\n",
       "\n",
       "</div>\n",
       "\n",
       "<div class=\"word \" style=\"background-color: pink;\">\n",
       "<a href=\"#\" class=\"nd\">25817</a>\n",
       "<div class=\"h\"><a target=\"_blank\" href=\"https://shebanq.ancient-data.org/hebrew/word?version=c&id=1VPn\" title=\"show this lexeme in SHEBANQ\">טַפְּכֶם֙ </a></div>\n",
       "<div class=\"features\"> <span class=\"pdp\"><a href=\"https://shebanq.ancient-data.org/hebrew/text?book=Genesis&chapter=45&verse=19&version=c&mr=m&qw=q&tp=txt_p&tr=hb&wget=v&qget=v&nget=vt\" title=\"Genesis 45:19\" sec=\"Genesis 45:19\">subs</a></span> <span class=\"gloss\">&lt;those unable to march></span></div>\n",
       "\n",
       "\n",
       "</div>\n",
       "\n",
       "<div class=\"word \" style=\"background-color: None;\">\n",
       "<a href=\"#\" class=\"nd\">25818</a>\n",
       "<div class=\"h\"><a target=\"_blank\" href=\"https://shebanq.ancient-data.org/hebrew/word?version=c&id=1W\" title=\"show this lexeme in SHEBANQ\">וְ</a></div>\n",
       "<div class=\"features\"> <span class=\"pdp\"><a href=\"https://shebanq.ancient-data.org/hebrew/text?book=Genesis&chapter=45&verse=19&version=c&mr=m&qw=q&tp=txt_p&tr=hb&wget=v&qget=v&nget=vt\" title=\"Genesis 45:19\" sec=\"Genesis 45:19\">conj</a></span> <span class=\"gloss\">and</span></div>\n",
       "\n",
       "\n",
       "</div>\n",
       "\n",
       "<div class=\"word \" style=\"background-color: lightblue;\">\n",
       "<a href=\"#\" class=\"nd\">25819</a>\n",
       "<div class=\"h\"><a target=\"_blank\" href=\"https://shebanq.ancient-data.org/hebrew/word?version=c&id=1L\" title=\"show this lexeme in SHEBANQ\">לִ</a></div>\n",
       "<div class=\"features\"> <span class=\"pdp\"><a href=\"https://shebanq.ancient-data.org/hebrew/text?book=Genesis&chapter=45&verse=19&version=c&mr=m&qw=q&tp=txt_p&tr=hb&wget=v&qget=v&nget=vt\" title=\"Genesis 45:19\" sec=\"Genesis 45:19\">prep</a></span> <span class=\"gloss\">to</span></div>\n",
       "\n",
       "\n",
       "</div>\n",
       "\n",
       "<div class=\"word \" style=\"background-color: pink;\">\n",
       "<a href=\"#\" class=\"nd\">25820</a>\n",
       "<div class=\"h\"><a target=\"_blank\" href=\"https://shebanq.ancient-data.org/hebrew/word?version=c&id=1ACHn\" title=\"show this lexeme in SHEBANQ\">נְשֵׁיכֶ֔ם </a></div>\n",
       "<div class=\"features\"> <span class=\"pdp\"><a href=\"https://shebanq.ancient-data.org/hebrew/text?book=Genesis&chapter=45&verse=19&version=c&mr=m&qw=q&tp=txt_p&tr=hb&wget=v&qget=v&nget=vt\" title=\"Genesis 45:19\" sec=\"Genesis 45:19\">subs</a></span> <span class=\"gloss\">woman</span></div>\n",
       "\n",
       "\n",
       "</div>\n",
       "\n",
       "\n",
       "    </div>\n",
       "\n",
       "\n",
       "</div>\n"
      ],
      "text/plain": [
       "<IPython.core.display.HTML object>"
      ]
     },
     "metadata": {},
     "output_type": "display_data"
    },
    {
     "data": {
      "text/markdown": [
       "\n",
       "\n",
       "**Result** *46*\n",
       "\n"
      ],
      "text/plain": [
       "<IPython.core.display.Markdown object>"
      ]
     },
     "metadata": {},
     "output_type": "display_data"
    },
    {
     "data": {
      "text/html": [
       "<div class=\"patom \" style=\"background-color: None;\">\n",
       "\n",
       "    <div class=\"phrase\">\n",
       "        <a href=\"https://shebanq.ancient-data.org/hebrew/text?book=Exodus&chapter=6&verse=23&version=c&mr=m&qw=q&tp=txt_p&tr=hb&wget=v&qget=v&nget=vt\" title=\"Exodus 6:23\" sec=\"Exodus 6:23\">phrase</a> <a href=\"#\" class=\"nd\">671346</a>  <span class=\"function\">Objc</span> <span class=\"typ\">PP</span>\n",
       "    </div>\n",
       "    <div class=\"atoms\">\n",
       "\n",
       "<div class=\"word \" style=\"background-color: lightblue;\">\n",
       "<a href=\"#\" class=\"nd\">31657</a>\n",
       "<div class=\"h\"><a target=\"_blank\" href=\"https://shebanq.ancient-data.org/hebrew/word?version=c&id=1AT\" title=\"show this lexeme in SHEBANQ\">אֶת־</a></div>\n",
       "<div class=\"features\"> <span class=\"pdp\"><a href=\"https://shebanq.ancient-data.org/hebrew/text?book=Exodus&chapter=6&verse=23&version=c&mr=m&qw=q&tp=txt_p&tr=hb&wget=v&qget=v&nget=vt\" title=\"Exodus 6:23\" sec=\"Exodus 6:23\">prep</a></span> <span class=\"gloss\">&lt;object marker></span></div>\n",
       "\n",
       "\n",
       "</div>\n",
       "\n",
       "<div class=\"word \" style=\"background-color: pink;\">\n",
       "<a href=\"#\" class=\"nd\">31658</a>\n",
       "<div class=\"h\"><a target=\"_blank\" href=\"https://shebanq.ancient-data.org/hebrew/word?version=c&id=1NDBn\" title=\"show this lexeme in SHEBANQ\">נָדָב֙ </a></div>\n",
       "<div class=\"features\"> <span class=\"pdp\"><a href=\"https://shebanq.ancient-data.org/hebrew/text?book=Exodus&chapter=6&verse=23&version=c&mr=m&qw=q&tp=txt_p&tr=hb&wget=v&qget=v&nget=vt\" title=\"Exodus 6:23\" sec=\"Exodus 6:23\">nmpr</a></span> <span class=\"gloss\">Nadab</span></div>\n",
       "\n",
       "\n",
       "</div>\n",
       "\n",
       "<div class=\"word \" style=\"background-color: None;\">\n",
       "<a href=\"#\" class=\"nd\">31659</a>\n",
       "<div class=\"h\"><a target=\"_blank\" href=\"https://shebanq.ancient-data.org/hebrew/word?version=c&id=1W\" title=\"show this lexeme in SHEBANQ\">וְ</a></div>\n",
       "<div class=\"features\"> <span class=\"pdp\"><a href=\"https://shebanq.ancient-data.org/hebrew/text?book=Exodus&chapter=6&verse=23&version=c&mr=m&qw=q&tp=txt_p&tr=hb&wget=v&qget=v&nget=vt\" title=\"Exodus 6:23\" sec=\"Exodus 6:23\">conj</a></span> <span class=\"gloss\">and</span></div>\n",
       "\n",
       "\n",
       "</div>\n",
       "\n",
       "<div class=\"word \" style=\"background-color: lightblue;\">\n",
       "<a href=\"#\" class=\"nd\">31660</a>\n",
       "<div class=\"h\"><a target=\"_blank\" href=\"https://shebanq.ancient-data.org/hebrew/word?version=c&id=1AT\" title=\"show this lexeme in SHEBANQ\">אֶת־</a></div>\n",
       "<div class=\"features\"> <span class=\"pdp\"><a href=\"https://shebanq.ancient-data.org/hebrew/text?book=Exodus&chapter=6&verse=23&version=c&mr=m&qw=q&tp=txt_p&tr=hb&wget=v&qget=v&nget=vt\" title=\"Exodus 6:23\" sec=\"Exodus 6:23\">prep</a></span> <span class=\"gloss\">&lt;object marker></span></div>\n",
       "\n",
       "\n",
       "</div>\n",
       "\n",
       "<div class=\"word \" style=\"background-color: pink;\">\n",
       "<a href=\"#\" class=\"nd\">31661</a>\n",
       "<div class=\"h\"><a target=\"_blank\" href=\"https://shebanq.ancient-data.org/hebrew/word?version=c&id=1ABJHWAn\" title=\"show this lexeme in SHEBANQ\">אֲבִיה֔וּא </a></div>\n",
       "<div class=\"features\"> <span class=\"pdp\"><a href=\"https://shebanq.ancient-data.org/hebrew/text?book=Exodus&chapter=6&verse=23&version=c&mr=m&qw=q&tp=txt_p&tr=hb&wget=v&qget=v&nget=vt\" title=\"Exodus 6:23\" sec=\"Exodus 6:23\">nmpr</a></span> <span class=\"gloss\">Abihu</span></div>\n",
       "\n",
       "\n",
       "</div>\n",
       "\n",
       "<div class=\"word \" style=\"background-color: lightblue;\">\n",
       "<a href=\"#\" class=\"nd\">31662</a>\n",
       "<div class=\"h\"><a target=\"_blank\" href=\"https://shebanq.ancient-data.org/hebrew/word?version=c&id=1AT\" title=\"show this lexeme in SHEBANQ\">אֶת־</a></div>\n",
       "<div class=\"features\"> <span class=\"pdp\"><a href=\"https://shebanq.ancient-data.org/hebrew/text?book=Exodus&chapter=6&verse=23&version=c&mr=m&qw=q&tp=txt_p&tr=hb&wget=v&qget=v&nget=vt\" title=\"Exodus 6:23\" sec=\"Exodus 6:23\">prep</a></span> <span class=\"gloss\">&lt;object marker></span></div>\n",
       "\n",
       "\n",
       "</div>\n",
       "\n",
       "<div class=\"word \" style=\"background-color: pink;\">\n",
       "<a href=\"#\" class=\"nd\">31663</a>\n",
       "<div class=\"h\"><a target=\"_blank\" href=\"https://shebanq.ancient-data.org/hebrew/word?version=c&id=1ALOZRn\" title=\"show this lexeme in SHEBANQ\">אֶלְעָזָ֖ר </a></div>\n",
       "<div class=\"features\"> <span class=\"pdp\"><a href=\"https://shebanq.ancient-data.org/hebrew/text?book=Exodus&chapter=6&verse=23&version=c&mr=m&qw=q&tp=txt_p&tr=hb&wget=v&qget=v&nget=vt\" title=\"Exodus 6:23\" sec=\"Exodus 6:23\">nmpr</a></span> <span class=\"gloss\">Eleazar</span></div>\n",
       "\n",
       "\n",
       "</div>\n",
       "\n",
       "<div class=\"word \" style=\"background-color: None;\">\n",
       "<a href=\"#\" class=\"nd\">31664</a>\n",
       "<div class=\"h\"><a target=\"_blank\" href=\"https://shebanq.ancient-data.org/hebrew/word?version=c&id=1W\" title=\"show this lexeme in SHEBANQ\">וְ</a></div>\n",
       "<div class=\"features\"> <span class=\"pdp\"><a href=\"https://shebanq.ancient-data.org/hebrew/text?book=Exodus&chapter=6&verse=23&version=c&mr=m&qw=q&tp=txt_p&tr=hb&wget=v&qget=v&nget=vt\" title=\"Exodus 6:23\" sec=\"Exodus 6:23\">conj</a></span> <span class=\"gloss\">and</span></div>\n",
       "\n",
       "\n",
       "</div>\n",
       "\n",
       "<div class=\"word \" style=\"background-color: lightblue;\">\n",
       "<a href=\"#\" class=\"nd\">31665</a>\n",
       "<div class=\"h\"><a target=\"_blank\" href=\"https://shebanq.ancient-data.org/hebrew/word?version=c&id=1AT\" title=\"show this lexeme in SHEBANQ\">אֶת־</a></div>\n",
       "<div class=\"features\"> <span class=\"pdp\"><a href=\"https://shebanq.ancient-data.org/hebrew/text?book=Exodus&chapter=6&verse=23&version=c&mr=m&qw=q&tp=txt_p&tr=hb&wget=v&qget=v&nget=vt\" title=\"Exodus 6:23\" sec=\"Exodus 6:23\">prep</a></span> <span class=\"gloss\">&lt;object marker></span></div>\n",
       "\n",
       "\n",
       "</div>\n",
       "\n",
       "<div class=\"word \" style=\"background-color: pink;\">\n",
       "<a href=\"#\" class=\"nd\">31666</a>\n",
       "<div class=\"h\"><a target=\"_blank\" href=\"https://shebanq.ancient-data.org/hebrew/word?version=c&id=1AJTMRn\" title=\"show this lexeme in SHEBANQ\">אִֽיתָמָֽר׃ </a></div>\n",
       "<div class=\"features\"> <span class=\"pdp\"><a href=\"https://shebanq.ancient-data.org/hebrew/text?book=Exodus&chapter=6&verse=23&version=c&mr=m&qw=q&tp=txt_p&tr=hb&wget=v&qget=v&nget=vt\" title=\"Exodus 6:23\" sec=\"Exodus 6:23\">nmpr</a></span> <span class=\"gloss\">Ithamar</span></div>\n",
       "\n",
       "\n",
       "</div>\n",
       "\n",
       "\n",
       "    </div>\n",
       "\n",
       "\n",
       "</div>\n"
      ],
      "text/plain": [
       "<IPython.core.display.HTML object>"
      ]
     },
     "metadata": {},
     "output_type": "display_data"
    },
    {
     "data": {
      "text/markdown": [
       "\n",
       "\n",
       "**Result** *47*\n",
       "\n"
      ],
      "text/plain": [
       "<IPython.core.display.Markdown object>"
      ]
     },
     "metadata": {},
     "output_type": "display_data"
    },
    {
     "data": {
      "text/html": [
       "<div class=\"patom \" style=\"background-color: None;\">\n",
       "\n",
       "    <div class=\"phrase\">\n",
       "        <a href=\"https://shebanq.ancient-data.org/hebrew/text?book=Daniel&chapter=7&verse=8&version=c&mr=m&qw=q&tp=txt_p&tr=hb&wget=v&qget=v&nget=vt\" title=\"Daniel 7:8\" sec=\"Daniel 7:8\">phrase</a> <a href=\"#\" class=\"nd\">879186</a>  <span class=\"function\">Cmpl</span> <span class=\"typ\">PP</span>\n",
       "    </div>\n",
       "    <div class=\"atoms\">\n",
       "\n",
       "<div class=\"word \" style=\"background-color: lightblue;\">\n",
       "<a href=\"#\" class=\"nd\">374724</a>\n",
       "<div class=\"h\"><a target=\"_blank\" href=\"https://shebanq.ancient-data.org/hebrew/word?version=c&id=2B\" title=\"show this lexeme in SHEBANQ\">בְּ</a></div>\n",
       "<div class=\"features\"> <span class=\"pdp\"><a href=\"https://shebanq.ancient-data.org/hebrew/text?book=Daniel&chapter=7&verse=8&version=c&mr=m&qw=q&tp=txt_p&tr=hb&wget=v&qget=v&nget=vt\" title=\"Daniel 7:8\" sec=\"Daniel 7:8\">prep</a></span> <span class=\"gloss\">in</span></div>\n",
       "\n",
       "\n",
       "</div>\n",
       "\n",
       "<div class=\"word \" style=\"background-color: pink;\">\n",
       "<a href=\"#\" class=\"nd\">374725</a>\n",
       "<div class=\"h\"><a target=\"_blank\" href=\"https://shebanq.ancient-data.org/hebrew/word?version=c&id=2QRNn\" title=\"show this lexeme in SHEBANQ\">קַרְנַיָּ֗א </a></div>\n",
       "<div class=\"features\"> <span class=\"pdp\"><a href=\"https://shebanq.ancient-data.org/hebrew/text?book=Daniel&chapter=7&verse=8&version=c&mr=m&qw=q&tp=txt_p&tr=hb&wget=v&qget=v&nget=vt\" title=\"Daniel 7:8\" sec=\"Daniel 7:8\">subs</a></span> <span class=\"gloss\">horn</span></div>\n",
       "\n",
       "\n",
       "</div>\n",
       "\n",
       "\n",
       "    </div>\n",
       "\n",
       "\n",
       "</div>\n"
      ],
      "text/plain": [
       "<IPython.core.display.HTML object>"
      ]
     },
     "metadata": {},
     "output_type": "display_data"
    },
    {
     "data": {
      "text/markdown": [
       "\n",
       "\n",
       "**Result** *48*\n",
       "\n"
      ],
      "text/plain": [
       "<IPython.core.display.Markdown object>"
      ]
     },
     "metadata": {},
     "output_type": "display_data"
    },
    {
     "data": {
      "text/html": [
       "<div class=\"patom \" style=\"background-color: None;\">\n",
       "\n",
       "    <div class=\"phrase\">\n",
       "        <a href=\"https://shebanq.ancient-data.org/hebrew/text?book=Jesaia&chapter=58&verse=5&version=c&mr=m&qw=q&tp=txt_p&tr=hb&wget=v&qget=v&nget=vt\" title=\"Isaiah 58:5\" sec=\"Isaiah 58:5\">phrase</a> <a href=\"#\" class=\"nd\">787253</a>  <span class=\"function\">Pred</span> <span class=\"typ\">VP</span>\n",
       "    </div>\n",
       "    <div class=\"atoms\">\n",
       "\n",
       "<div class=\"word \" style=\"background-color: lightblue;\">\n",
       "<a href=\"#\" class=\"nd\">232004</a>\n",
       "<div class=\"h\"><a target=\"_blank\" href=\"https://shebanq.ancient-data.org/hebrew/word?version=c&id=1L\" title=\"show this lexeme in SHEBANQ\">לָ</a></div>\n",
       "<div class=\"features\"> <span class=\"pdp\"><a href=\"https://shebanq.ancient-data.org/hebrew/text?book=Jesaia&chapter=58&verse=5&version=c&mr=m&qw=q&tp=txt_p&tr=hb&wget=v&qget=v&nget=vt\" title=\"Isaiah 58:5\" sec=\"Isaiah 58:5\">prep</a></span> <span class=\"gloss\">to</span></div>\n",
       "\n",
       "\n",
       "</div>\n",
       "\n",
       "<div class=\"word \" style=\"background-color: pink;\">\n",
       "<a href=\"#\" class=\"nd\">232005</a>\n",
       "<div class=\"h\"><a target=\"_blank\" href=\"https://shebanq.ancient-data.org/hebrew/word?version=c&id=1KPPv\" title=\"show this lexeme in SHEBANQ\">כֹ֨ף </a></div>\n",
       "<div class=\"features\"> <span class=\"pdp\"><a href=\"https://shebanq.ancient-data.org/hebrew/text?book=Jesaia&chapter=58&verse=5&version=c&mr=m&qw=q&tp=txt_p&tr=hb&wget=v&qget=v&nget=vt\" title=\"Isaiah 58:5\" sec=\"Isaiah 58:5\">verb</a></span> <span class=\"gloss\">bend</span> <span class=\"vs\">qal</span> <span class=\"vt\">infc</span></div>\n",
       "\n",
       "\n",
       "</div>\n",
       "\n",
       "\n",
       "    </div>\n",
       "\n",
       "\n",
       "</div>\n"
      ],
      "text/plain": [
       "<IPython.core.display.HTML object>"
      ]
     },
     "metadata": {},
     "output_type": "display_data"
    },
    {
     "data": {
      "text/markdown": [
       "\n",
       "\n",
       "**Result** *49*\n",
       "\n"
      ],
      "text/plain": [
       "<IPython.core.display.Markdown object>"
      ]
     },
     "metadata": {},
     "output_type": "display_data"
    },
    {
     "data": {
      "text/html": [
       "<div class=\"patom \" style=\"background-color: None;\">\n",
       "\n",
       "    <div class=\"phrase\">\n",
       "        <a href=\"https://shebanq.ancient-data.org/hebrew/text?book=Josua&chapter=4&verse=5&version=c&mr=m&qw=q&tp=txt_p&tr=hb&wget=v&qget=v&nget=vt\" title=\"Joshua 4:5\" sec=\"Joshua 4:5\">phrase</a> <a href=\"#\" class=\"nd\">716625</a>  <span class=\"function\">Cmpl</span> <span class=\"typ\">PP</span>\n",
       "    </div>\n",
       "    <div class=\"atoms\">\n",
       "\n",
       "<div class=\"word \" style=\"background-color: lightblue;\">\n",
       "<a href=\"#\" class=\"nd\">114486</a>\n",
       "<div class=\"h\"><a target=\"_blank\" href=\"https://shebanq.ancient-data.org/hebrew/word?version=c&id=1AL\" title=\"show this lexeme in SHEBANQ\">אֶל־</a></div>\n",
       "<div class=\"features\"> <span class=\"pdp\"><a href=\"https://shebanq.ancient-data.org/hebrew/text?book=Josua&chapter=4&verse=5&version=c&mr=m&qw=q&tp=txt_p&tr=hb&wget=v&qget=v&nget=vt\" title=\"Joshua 4:5\" sec=\"Joshua 4:5\">prep</a></span> <span class=\"gloss\">to</span></div>\n",
       "\n",
       "\n",
       "</div>\n",
       "\n",
       "<div class=\"word \" style=\"background-color: lightblue;\">\n",
       "<a href=\"#\" class=\"nd\">114487</a>\n",
       "<div class=\"h\"><a target=\"_blank\" href=\"https://shebanq.ancient-data.org/hebrew/word?version=c&id=1TWKn\" title=\"show this lexeme in SHEBANQ\">תֹּ֣וךְ </a></div>\n",
       "<div class=\"features\"> <span class=\"pdp\"><a href=\"https://shebanq.ancient-data.org/hebrew/text?book=Josua&chapter=4&verse=5&version=c&mr=m&qw=q&tp=txt_p&tr=hb&wget=v&qget=v&nget=vt\" title=\"Joshua 4:5\" sec=\"Joshua 4:5\">subs</a></span> <span class=\"gloss\">midst</span></div>\n",
       "\n",
       "\n",
       "</div>\n",
       "\n",
       "<div class=\"word \" style=\"background-color: None;\">\n",
       "<a href=\"#\" class=\"nd\">114488</a>\n",
       "<div class=\"h\"><a target=\"_blank\" href=\"https://shebanq.ancient-data.org/hebrew/word?version=c&id=1H\" title=\"show this lexeme in SHEBANQ\">הַ</a></div>\n",
       "<div class=\"features\"> <span class=\"pdp\"><a href=\"https://shebanq.ancient-data.org/hebrew/text?book=Josua&chapter=4&verse=5&version=c&mr=m&qw=q&tp=txt_p&tr=hb&wget=v&qget=v&nget=vt\" title=\"Joshua 4:5\" sec=\"Joshua 4:5\">art</a></span> <span class=\"gloss\">the</span></div>\n",
       "\n",
       "\n",
       "</div>\n",
       "\n",
       "<div class=\"word \" style=\"background-color: pink;\">\n",
       "<a href=\"#\" class=\"nd\">114489</a>\n",
       "<div class=\"h\"><a target=\"_blank\" href=\"https://shebanq.ancient-data.org/hebrew/word?version=c&id=1JRDNn\" title=\"show this lexeme in SHEBANQ\">יַּרְדֵּ֑ן </a></div>\n",
       "<div class=\"features\"> <span class=\"pdp\"><a href=\"https://shebanq.ancient-data.org/hebrew/text?book=Josua&chapter=4&verse=5&version=c&mr=m&qw=q&tp=txt_p&tr=hb&wget=v&qget=v&nget=vt\" title=\"Joshua 4:5\" sec=\"Joshua 4:5\">nmpr</a></span> <span class=\"gloss\">Jordan</span></div>\n",
       "\n",
       "\n",
       "</div>\n",
       "\n",
       "\n",
       "    </div>\n",
       "\n",
       "\n",
       "</div>\n"
      ],
      "text/plain": [
       "<IPython.core.display.HTML object>"
      ]
     },
     "metadata": {},
     "output_type": "display_data"
    }
   ],
   "source": [
    "for i in range(0, 50):\n",
    "    \n",
    "    res = random_results[i]\n",
    "    show = {}\n",
    "    \n",
    "    for word in L.d(res[0], 'word'):\n",
    "        if word in obj2prep:\n",
    "            \n",
    "            show[word] = 'pink'\n",
    "            show[obj2prep[word]] = 'lightblue'\n",
    "\n",
    "    result = (res[0],) + tuple(show.keys())\n",
    "                    \n",
    "    A.prettyTuple(result, condenseType='phrase_atom', withNodes=True, seqNumber=i, highlights=show)"
   ]
  },
  {
   "cell_type": "markdown",
   "metadata": {},
   "source": [
    "# `nheads`\n",
    "\n",
    "## [SECTION UNDER CONSTRUCTION]\n",
    "\n",
    "In many cases one does not want to go through prepositions to reach the nominal (i.e. independent substantive, adjective, etc) head elements in a phrase. For this we can export an additional feature, called `nheads` (\"nominal heads\"), which simply ignores any prepositions and selects the nominal elements from the phrase and phrase atoms. Only independent nominal elements will be selected from noun-phrase-like phrases.\n",
    "\n",
    "\n",
    "### Note on AdjP\n",
    "This feature does not select nominals that are embedded within an adjective phrase (`AdjP`), but those can be selected with the following pattern:"
   ]
  },
  {
   "cell_type": "code",
   "execution_count": 164,
   "metadata": {},
   "outputs": [
    {
     "name": "stdout",
     "output_type": "stream",
     "text": [
      "  0.69s 201 results\n"
     ]
    },
    {
     "data": {
      "text/markdown": [
       "\n",
       "\n",
       "**phrase_atom** *1*\n",
       "\n"
      ],
      "text/plain": [
       "<IPython.core.display.Markdown object>"
      ]
     },
     "metadata": {},
     "output_type": "display_data"
    },
    {
     "data": {
      "text/html": [
       "<div class=\"patom \" style=\"background-color: None;\">\n",
       "\n",
       "    <div class=\"phrase\">\n",
       "        <a href=\"https://shebanq.ancient-data.org/hebrew/text?book=Genesis&chapter=22&verse=12&version=c&mr=m&qw=q&tp=txt_p&tr=hb&wget=v&qget=v&nget=vt\" title=\"Genesis 22:12\" sec=\"Genesis 22:12\">phrase</a>   <span class=\"function\">PreC</span> <span class=\"typ\">AdjP</span>\n",
       "    </div>\n",
       "    <div class=\"atoms\">\n",
       "\n",
       "<div class=\"word \" style=\"background-color: None;\">\n",
       "<div class=\"h\"><a target=\"_blank\" href=\"https://shebanq.ancient-data.org/hebrew/word?version=c&id=1JRAn\" title=\"show this lexeme in SHEBANQ\">יְרֵ֤א </a></div>\n",
       "<div class=\"features\"> <span class=\"pdp\"><a href=\"https://shebanq.ancient-data.org/hebrew/text?book=Genesis&chapter=22&verse=12&version=c&mr=m&qw=q&tp=txt_p&tr=hb&wget=v&qget=v&nget=vt\" title=\"Genesis 22:12\" sec=\"Genesis 22:12\">adjv</a></span> <span class=\"gloss\">afraid</span></div>\n",
       "\n",
       "\n",
       "</div>\n",
       "\n",
       "<div class=\"word  hl\">\n",
       "<div class=\"h\"><a target=\"_blank\" href=\"https://shebanq.ancient-data.org/hebrew/word?version=c&id=1ALHJMn\" title=\"show this lexeme in SHEBANQ\">אֱלֹהִים֙ </a></div>\n",
       "<div class=\"features\"> <span class=\"pdp\"><a href=\"https://shebanq.ancient-data.org/hebrew/text?book=Genesis&chapter=22&verse=12&version=c&mr=m&qw=q&tp=txt_p&tr=hb&wget=v&qget=v&nget=vt\" title=\"Genesis 22:12\" sec=\"Genesis 22:12\">subs</a></span> <span class=\"gloss\">god(s)</span></div>\n",
       "\n",
       "\n",
       "</div>\n",
       "\n",
       "\n",
       "    </div>\n",
       "\n",
       "\n",
       "</div>\n"
      ],
      "text/plain": [
       "<IPython.core.display.HTML object>"
      ]
     },
     "metadata": {},
     "output_type": "display_data"
    },
    {
     "data": {
      "text/markdown": [
       "\n",
       "\n",
       "**phrase_atom** *2*\n",
       "\n"
      ],
      "text/plain": [
       "<IPython.core.display.Markdown object>"
      ]
     },
     "metadata": {},
     "output_type": "display_data"
    },
    {
     "data": {
      "text/html": [
       "<div class=\"patom \" style=\"background-color: None;\">\n",
       "\n",
       "    <div class=\"phrase\">\n",
       "        <a href=\"https://shebanq.ancient-data.org/hebrew/text?book=Genesis&chapter=24&verse=16&version=c&mr=m&qw=q&tp=txt_p&tr=hb&wget=v&qget=v&nget=vt\" title=\"Genesis 24:16\" sec=\"Genesis 24:16\">phrase</a>   <span class=\"function\">PreC</span> <span class=\"typ\">AdjP</span>\n",
       "    </div>\n",
       "    <div class=\"atoms\">\n",
       "\n",
       "<div class=\"word \" style=\"background-color: None;\">\n",
       "<div class=\"h\"><a target=\"_blank\" href=\"https://shebanq.ancient-data.org/hebrew/word?version=c&id=1VWBn\" title=\"show this lexeme in SHEBANQ\">טֹבַ֤ת </a></div>\n",
       "<div class=\"features\"> <span class=\"pdp\"><a href=\"https://shebanq.ancient-data.org/hebrew/text?book=Genesis&chapter=24&verse=16&version=c&mr=m&qw=q&tp=txt_p&tr=hb&wget=v&qget=v&nget=vt\" title=\"Genesis 24:16\" sec=\"Genesis 24:16\">adjv</a></span> <span class=\"gloss\">good</span></div>\n",
       "\n",
       "\n",
       "</div>\n",
       "\n",
       "<div class=\"word  hl\">\n",
       "<div class=\"h\"><a target=\"_blank\" href=\"https://shebanq.ancient-data.org/hebrew/word?version=c&id=1MRAHn\" title=\"show this lexeme in SHEBANQ\">מַרְאֶה֙ </a></div>\n",
       "<div class=\"features\"> <span class=\"pdp\"><a href=\"https://shebanq.ancient-data.org/hebrew/text?book=Genesis&chapter=24&verse=16&version=c&mr=m&qw=q&tp=txt_p&tr=hb&wget=v&qget=v&nget=vt\" title=\"Genesis 24:16\" sec=\"Genesis 24:16\">subs</a></span> <span class=\"gloss\">sight</span></div>\n",
       "\n",
       "\n",
       "</div>\n",
       "\n",
       "<div class=\"word \" style=\"background-color: None;\">\n",
       "<div class=\"h\"><a target=\"_blank\" href=\"https://shebanq.ancient-data.org/hebrew/word?version=c&id=1MADn\" title=\"show this lexeme in SHEBANQ\">מְאֹ֔ד </a></div>\n",
       "<div class=\"features\"> <span class=\"pdp\"><a href=\"https://shebanq.ancient-data.org/hebrew/text?book=Genesis&chapter=24&verse=16&version=c&mr=m&qw=q&tp=txt_p&tr=hb&wget=v&qget=v&nget=vt\" title=\"Genesis 24:16\" sec=\"Genesis 24:16\">advb</a></span> <span class=\"gloss\">might</span></div>\n",
       "\n",
       "\n",
       "</div>\n",
       "\n",
       "\n",
       "    </div>\n",
       "\n",
       "\n",
       "</div>\n"
      ],
      "text/plain": [
       "<IPython.core.display.HTML object>"
      ]
     },
     "metadata": {},
     "output_type": "display_data"
    },
    {
     "data": {
      "text/markdown": [
       "\n",
       "\n",
       "**phrase_atom** *3*\n",
       "\n"
      ],
      "text/plain": [
       "<IPython.core.display.Markdown object>"
      ]
     },
     "metadata": {},
     "output_type": "display_data"
    },
    {
     "data": {
      "text/html": [
       "<div class=\"patom \" style=\"background-color: None;\">\n",
       "\n",
       "    <div class=\"phrase\">\n",
       "        <a href=\"https://shebanq.ancient-data.org/hebrew/text?book=Genesis&chapter=26&verse=7&version=c&mr=m&qw=q&tp=txt_p&tr=hb&wget=v&qget=v&nget=vt\" title=\"Genesis 26:7\" sec=\"Genesis 26:7\">phrase</a>   <span class=\"function\">PreC</span> <span class=\"typ\">AdjP</span>\n",
       "    </div>\n",
       "    <div class=\"atoms\">\n",
       "\n",
       "<div class=\"word \" style=\"background-color: None;\">\n",
       "<div class=\"h\"><a target=\"_blank\" href=\"https://shebanq.ancient-data.org/hebrew/word?version=c&id=1VWBn\" title=\"show this lexeme in SHEBANQ\">טֹובַ֥ת </a></div>\n",
       "<div class=\"features\"> <span class=\"pdp\"><a href=\"https://shebanq.ancient-data.org/hebrew/text?book=Genesis&chapter=26&verse=7&version=c&mr=m&qw=q&tp=txt_p&tr=hb&wget=v&qget=v&nget=vt\" title=\"Genesis 26:7\" sec=\"Genesis 26:7\">adjv</a></span> <span class=\"gloss\">good</span></div>\n",
       "\n",
       "\n",
       "</div>\n",
       "\n",
       "<div class=\"word  hl\">\n",
       "<div class=\"h\"><a target=\"_blank\" href=\"https://shebanq.ancient-data.org/hebrew/word?version=c&id=1MRAHn\" title=\"show this lexeme in SHEBANQ\">מַרְאֶ֖ה </a></div>\n",
       "<div class=\"features\"> <span class=\"pdp\"><a href=\"https://shebanq.ancient-data.org/hebrew/text?book=Genesis&chapter=26&verse=7&version=c&mr=m&qw=q&tp=txt_p&tr=hb&wget=v&qget=v&nget=vt\" title=\"Genesis 26:7\" sec=\"Genesis 26:7\">subs</a></span> <span class=\"gloss\">sight</span></div>\n",
       "\n",
       "\n",
       "</div>\n",
       "\n",
       "\n",
       "    </div>\n",
       "\n",
       "\n",
       "</div>\n"
      ],
      "text/plain": [
       "<IPython.core.display.HTML object>"
      ]
     },
     "metadata": {},
     "output_type": "display_data"
    },
    {
     "data": {
      "text/markdown": [
       "\n",
       "\n",
       "**phrase_atom** *4*\n",
       "\n"
      ],
      "text/plain": [
       "<IPython.core.display.Markdown object>"
      ]
     },
     "metadata": {},
     "output_type": "display_data"
    },
    {
     "data": {
      "text/html": [
       "<div class=\"patom \" style=\"background-color: None;\">\n",
       "\n",
       "    <div class=\"phrase\">\n",
       "        <a href=\"https://shebanq.ancient-data.org/hebrew/text?book=Genesis&chapter=29&verse=17&version=c&mr=m&qw=q&tp=txt_p&tr=hb&wget=v&qget=v&nget=vt\" title=\"Genesis 29:17\" sec=\"Genesis 29:17\">phrase</a>   <span class=\"function\">PreC</span> <span class=\"typ\">AdjP</span>\n",
       "    </div>\n",
       "    <div class=\"atoms\">\n",
       "\n",
       "<div class=\"word \" style=\"background-color: None;\">\n",
       "<div class=\"h\"><a target=\"_blank\" href=\"https://shebanq.ancient-data.org/hebrew/word?version=c&id=1JPHn\" title=\"show this lexeme in SHEBANQ\">יְפַת־</a></div>\n",
       "<div class=\"features\"> <span class=\"pdp\"><a href=\"https://shebanq.ancient-data.org/hebrew/text?book=Genesis&chapter=29&verse=17&version=c&mr=m&qw=q&tp=txt_p&tr=hb&wget=v&qget=v&nget=vt\" title=\"Genesis 29:17\" sec=\"Genesis 29:17\">adjv</a></span> <span class=\"gloss\">beautiful</span></div>\n",
       "\n",
       "\n",
       "</div>\n",
       "\n",
       "<div class=\"word  hl\">\n",
       "<div class=\"h\"><a target=\"_blank\" href=\"https://shebanq.ancient-data.org/hebrew/word?version=c&id=1TARn\" title=\"show this lexeme in SHEBANQ\">תֹּ֖אַר </a></div>\n",
       "<div class=\"features\"> <span class=\"pdp\"><a href=\"https://shebanq.ancient-data.org/hebrew/text?book=Genesis&chapter=29&verse=17&version=c&mr=m&qw=q&tp=txt_p&tr=hb&wget=v&qget=v&nget=vt\" title=\"Genesis 29:17\" sec=\"Genesis 29:17\">subs</a></span> <span class=\"gloss\">form</span></div>\n",
       "\n",
       "\n",
       "</div>\n",
       "\n",
       "<div class=\"word \" style=\"background-color: None;\">\n",
       "<div class=\"h\"><a target=\"_blank\" href=\"https://shebanq.ancient-data.org/hebrew/word?version=c&id=1W\" title=\"show this lexeme in SHEBANQ\">וִ</a></div>\n",
       "<div class=\"features\"> <span class=\"pdp\"><a href=\"https://shebanq.ancient-data.org/hebrew/text?book=Genesis&chapter=29&verse=17&version=c&mr=m&qw=q&tp=txt_p&tr=hb&wget=v&qget=v&nget=vt\" title=\"Genesis 29:17\" sec=\"Genesis 29:17\">conj</a></span> <span class=\"gloss\">and</span></div>\n",
       "\n",
       "\n",
       "</div>\n",
       "\n",
       "<div class=\"word \" style=\"background-color: None;\">\n",
       "<div class=\"h\"><a target=\"_blank\" href=\"https://shebanq.ancient-data.org/hebrew/word?version=c&id=1JPHn\" title=\"show this lexeme in SHEBANQ\">יפַ֥ת </a></div>\n",
       "<div class=\"features\"> <span class=\"pdp\"><a href=\"https://shebanq.ancient-data.org/hebrew/text?book=Genesis&chapter=29&verse=17&version=c&mr=m&qw=q&tp=txt_p&tr=hb&wget=v&qget=v&nget=vt\" title=\"Genesis 29:17\" sec=\"Genesis 29:17\">adjv</a></span> <span class=\"gloss\">beautiful</span></div>\n",
       "\n",
       "\n",
       "</div>\n",
       "\n",
       "<div class=\"word  hl\">\n",
       "<div class=\"h\"><a target=\"_blank\" href=\"https://shebanq.ancient-data.org/hebrew/word?version=c&id=1MRAHn\" title=\"show this lexeme in SHEBANQ\">מַרְאֶֽה׃ </a></div>\n",
       "<div class=\"features\"> <span class=\"pdp\"><a href=\"https://shebanq.ancient-data.org/hebrew/text?book=Genesis&chapter=29&verse=17&version=c&mr=m&qw=q&tp=txt_p&tr=hb&wget=v&qget=v&nget=vt\" title=\"Genesis 29:17\" sec=\"Genesis 29:17\">subs</a></span> <span class=\"gloss\">sight</span></div>\n",
       "\n",
       "\n",
       "</div>\n",
       "\n",
       "\n",
       "    </div>\n",
       "\n",
       "\n",
       "</div>\n"
      ],
      "text/plain": [
       "<IPython.core.display.HTML object>"
      ]
     },
     "metadata": {},
     "output_type": "display_data"
    },
    {
     "data": {
      "text/markdown": [
       "\n",
       "\n",
       "**phrase_atom** *5*\n",
       "\n"
      ],
      "text/plain": [
       "<IPython.core.display.Markdown object>"
      ]
     },
     "metadata": {},
     "output_type": "display_data"
    },
    {
     "data": {
      "text/html": [
       "<div class=\"patom \" style=\"background-color: None;\">\n",
       "\n",
       "    <div class=\"phrase\">\n",
       "        <a href=\"https://shebanq.ancient-data.org/hebrew/text?book=Genesis&chapter=34&verse=21&version=c&mr=m&qw=q&tp=txt_p&tr=hb&wget=v&qget=v&nget=vt\" title=\"Genesis 34:21\" sec=\"Genesis 34:21\">phrase</a>   <span class=\"function\">PreC</span> <span class=\"typ\">AdjP</span>\n",
       "    </div>\n",
       "    <div class=\"atoms\">\n",
       "\n",
       "<div class=\"word \" style=\"background-color: None;\">\n",
       "<div class=\"h\"><a target=\"_blank\" href=\"https://shebanq.ancient-data.org/hebrew/word?version=c&id=1RXBn\" title=\"show this lexeme in SHEBANQ\">רַֽחֲבַת־</a></div>\n",
       "<div class=\"features\"> <span class=\"pdp\"><a href=\"https://shebanq.ancient-data.org/hebrew/text?book=Genesis&chapter=34&verse=21&version=c&mr=m&qw=q&tp=txt_p&tr=hb&wget=v&qget=v&nget=vt\" title=\"Genesis 34:21\" sec=\"Genesis 34:21\">adjv</a></span> <span class=\"gloss\">wide</span></div>\n",
       "\n",
       "\n",
       "</div>\n",
       "\n",
       "<div class=\"word  hl\">\n",
       "<div class=\"h\"><a target=\"_blank\" href=\"https://shebanq.ancient-data.org/hebrew/word?version=c&id=1JDn\" title=\"show this lexeme in SHEBANQ\">יָדַ֖יִם </a></div>\n",
       "<div class=\"features\"> <span class=\"pdp\"><a href=\"https://shebanq.ancient-data.org/hebrew/text?book=Genesis&chapter=34&verse=21&version=c&mr=m&qw=q&tp=txt_p&tr=hb&wget=v&qget=v&nget=vt\" title=\"Genesis 34:21\" sec=\"Genesis 34:21\">subs</a></span> <span class=\"gloss\">hand</span></div>\n",
       "\n",
       "\n",
       "</div>\n",
       "\n",
       "\n",
       "    </div>\n",
       "\n",
       "\n",
       "</div>\n"
      ],
      "text/plain": [
       "<IPython.core.display.HTML object>"
      ]
     },
     "metadata": {},
     "output_type": "display_data"
    }
   ],
   "source": [
    "adj_nhead = '''\n",
    "\n",
    "phrase_atom typ=AdjP\n",
    "    w1:word \n",
    "    /with/\n",
    "    word pdp=adjv\n",
    "    <mother- subphrase rela=rec\n",
    "        w1\n",
    "    /-/\n",
    "\n",
    "'''\n",
    "\n",
    "A.show(A.search(adj_nhead), condenseType='phrase_atom', end=5)"
   ]
  },
  {
   "cell_type": "markdown",
   "metadata": {},
   "source": [
    "`nheads` are produced by combining the standard `NP` templates already used above with the `obj_prep` templates, along with a few necessary modifications for dependent relations. The requirement that the word not precede a preposition is also removed. This works because there is a `pdp` requirement that does not include prepositions, and since the database does not encode any relations between governing prepositions and their substantives. Thus the prepositions are passed over while the independent nominal elements get selected."
   ]
  },
  {
   "cell_type": "code",
   "execution_count": null,
   "metadata": {},
   "outputs": [],
   "source": [
    "# CODE HERE"
   ]
  },
  {
   "cell_type": "code",
   "execution_count": 165,
   "metadata": {},
   "outputs": [],
   "source": [
    "# examples = [(phrase,)+tuple(heads) for phrase, heads in nheads.items()\n",
    "#                if F.typ.v(phrase) == 'PP'\n",
    "#            ]\n",
    "\n",
    "# random.shuffle(examples)"
   ]
  },
  {
   "cell_type": "code",
   "execution_count": 166,
   "metadata": {},
   "outputs": [],
   "source": [
    "# for res in examples[:50]:\n",
    "#     A.prettyTuple(res, condenseType='phrase', withNodes=True, seqNumber=res[0])"
   ]
  },
  {
   "cell_type": "markdown",
   "metadata": {},
   "source": [
    "<hr>"
   ]
  },
  {
   "cell_type": "markdown",
   "metadata": {},
   "source": [
    "# Issues Tracking"
   ]
  },
  {
   "cell_type": "code",
   "execution_count": 265,
   "metadata": {},
   "outputs": [],
   "source": [
    "'''\n",
    "Below are phrases I found with \n",
    "heads whose evaluation is incorrect\n",
    "but with too complex semantics to be \n",
    "automatically evaluated with the existing\n",
    "data\n",
    "'''\n",
    "complex_semantic_cases = []\n",
    "\n",
    "'''\n",
    "The dictionary and notes below document incorrect\n",
    "or incomplete subphrase encodings found in the ETCBC\n",
    "data while composing this notebook. These may be\n",
    "patched when I am finished developing the code.\n",
    "'''\n",
    "\n",
    "# TO-DO: Change these to verse and phrase number references\n",
    "# to preserve for data changes\n",
    "bad_subphrases = {} # <- can be subphrase node but also other node types\n",
    "bad_subphrases[1366884] = 'mother is wrong (1366881); should be 252221'\n",
    "bad_subphrases[1366884] = 'mother is wrong (1366881); should be 252221'\n",
    "bad_subphrases[1368189] = 'mother is wrong (1368188); should be 1368187'\n",
    "bad_subphrases[1410123] = '''should be split in two subphrases; \n",
    "                              missing adjectival relation between 413035 and 413036;\n",
    "                              this is caused by >JC having a max of 3 subphrase relations'''\n",
    "bad_subphrases[1410444] = '''word 413990 and 413991 are missing parallel subphrase relations!\n",
    "                            They should be parallel with this subphrase.'''\n",
    "\n",
    "bad_subphrases[1347599] = 'missing adjectival relation between two words'\n",
    "bad_subphrases[1348308] = 'missing adjectival relation between two words'\n",
    "\n",
    "bad_subphrases[877452] = 'word should have adj relation since it quantifies the noun (NB Aramaic); results in bad head assignment'\n",
    "bad_subphrases[880173] = 'שבועים should not be par rela with sixty; it is a substantive being quantified'\n",
    "bad_subphrases[881401] = 'missing relation between cardinal and quantified'\n",
    "bad_subphrases[881404] = 'missing relation between cardinal and quantified'\n",
    "bad_subphrases[882985] = 'missing relation between cardinal and quantified'\n",
    "bad_subphrases[890391] = 'missing relation between cardinal and quantified'\n",
    "\n",
    "bad_subphrases[891336] = 'missing rec relation between YHWH and covenant'\n",
    "\n",
    "# 1321864 adj (1321863,) שִׁשִּׁים֙ <- questionable encoding\n",
    "\n",
    "# phrase 720376 has a quantifier that is not quantifying the noun, but it is very difficult to distinguish this case from quantification cases"
   ]
  },
  {
   "cell_type": "code",
   "execution_count": 170,
   "metadata": {},
   "outputs": [],
   "source": [
    "for case, complexity in complex_semantic_cases:\n",
    "    A.prettyTuple((case,)+tuple(phrase2heads[case]), condenseType='phrase', withNodes=True, seqNumber=f'{complexity} ({case})')"
   ]
  },
  {
   "cell_type": "code",
   "execution_count": 271,
   "metadata": {},
   "outputs": [
    {
     "data": {
      "text/html": [
       "<div class=\"atoms \" style=\"background-color: None;\">\n",
       "<a href=\"#\" class=\"nd\">755341</a>\n",
       "\n",
       "\n",
       "\n",
       "<div class=\"patom \" style=\"background-color: None;\">\n",
       "\n",
       "    <div class=\"phrase\">\n",
       "        <a href=\"https://shebanq.ancient-data.org/hebrew/text?book=Reges_I&chapter=5&verse=3&version=c&mr=m&qw=q&tp=txt_p&tr=hb&wget=v&qget=v&nget=vt\" title=\"1_Kings 5:3\" sec=\"1_Kings 5:3\">phrase</a> <a href=\"#\" class=\"nd\">755341</a>  <span class=\"function\">PreC</span> <span class=\"typ\">NP</span>\n",
       "    </div>\n",
       "    <div class=\"atoms\">\n",
       "\n",
       "<div class=\"word \" style=\"background-color: None;\">\n",
       "<a href=\"#\" class=\"nd\">179384</a>\n",
       "<div class=\"h\"><a target=\"_blank\" href=\"https://shebanq.ancient-data.org/hebrew/word?version=c&id=1OFRHin\" title=\"show this lexeme in SHEBANQ\">עֲשָׂרָ֨ה </a></div>\n",
       "<div class=\"features\"> <span class=\"pdp\"><a href=\"https://shebanq.ancient-data.org/hebrew/text?book=Reges_I&chapter=5&verse=3&version=c&mr=m&qw=q&tp=txt_p&tr=hb&wget=v&qget=v&nget=vt\" title=\"1_Kings 5:3\" sec=\"1_Kings 5:3\">subs</a></span> <span class=\"gloss\">ten</span></div>\n",
       "\n",
       "\n",
       "</div>\n",
       "\n",
       "<div class=\"word \" style=\"background-color: None;\">\n",
       "<a href=\"#\" class=\"nd\">179385</a>\n",
       "<div class=\"h\"><a target=\"_blank\" href=\"https://shebanq.ancient-data.org/hebrew/word?version=c&id=1BQRn\" title=\"show this lexeme in SHEBANQ\">בָקָ֜ר </a></div>\n",
       "<div class=\"features\"> <span class=\"pdp\"><a href=\"https://shebanq.ancient-data.org/hebrew/text?book=Reges_I&chapter=5&verse=3&version=c&mr=m&qw=q&tp=txt_p&tr=hb&wget=v&qget=v&nget=vt\" title=\"1_Kings 5:3\" sec=\"1_Kings 5:3\">subs</a></span> <span class=\"gloss\">cattle</span></div>\n",
       "\n",
       "\n",
       "</div>\n",
       "\n",
       "<div class=\"word \" style=\"background-color: None;\">\n",
       "<a href=\"#\" class=\"nd\">179386</a>\n",
       "<div class=\"h\"><a target=\"_blank\" href=\"https://shebanq.ancient-data.org/hebrew/word?version=c&id=1BRJAn\" title=\"show this lexeme in SHEBANQ\">בְּרִאִ֗ים </a></div>\n",
       "<div class=\"features\"> <span class=\"pdp\"><a href=\"https://shebanq.ancient-data.org/hebrew/text?book=Reges_I&chapter=5&verse=3&version=c&mr=m&qw=q&tp=txt_p&tr=hb&wget=v&qget=v&nget=vt\" title=\"1_Kings 5:3\" sec=\"1_Kings 5:3\">adjv</a></span> <span class=\"gloss\">fat</span></div>\n",
       "\n",
       "\n",
       "</div>\n",
       "\n",
       "<div class=\"word \" style=\"background-color: None;\">\n",
       "<a href=\"#\" class=\"nd\">179387</a>\n",
       "<div class=\"h\"><a target=\"_blank\" href=\"https://shebanq.ancient-data.org/hebrew/word?version=c&id=1W\" title=\"show this lexeme in SHEBANQ\">וְ</a></div>\n",
       "<div class=\"features\"> <span class=\"pdp\"><a href=\"https://shebanq.ancient-data.org/hebrew/text?book=Reges_I&chapter=5&verse=3&version=c&mr=m&qw=q&tp=txt_p&tr=hb&wget=v&qget=v&nget=vt\" title=\"1_Kings 5:3\" sec=\"1_Kings 5:3\">conj</a></span> <span class=\"gloss\">and</span></div>\n",
       "\n",
       "\n",
       "</div>\n",
       "\n",
       "<div class=\"word \" style=\"background-color: None;\">\n",
       "<a href=\"#\" class=\"nd\">179388</a>\n",
       "<div class=\"h\"><a target=\"_blank\" href=\"https://shebanq.ancient-data.org/hebrew/word?version=c&id=1OFRJMn\" title=\"show this lexeme in SHEBANQ\">עֶשְׂרִ֥ים </a></div>\n",
       "<div class=\"features\"> <span class=\"pdp\"><a href=\"https://shebanq.ancient-data.org/hebrew/text?book=Reges_I&chapter=5&verse=3&version=c&mr=m&qw=q&tp=txt_p&tr=hb&wget=v&qget=v&nget=vt\" title=\"1_Kings 5:3\" sec=\"1_Kings 5:3\">subs</a></span> <span class=\"gloss\">twenty</span></div>\n",
       "\n",
       "\n",
       "</div>\n",
       "\n",
       "<div class=\"word \" style=\"background-color: None;\">\n",
       "<a href=\"#\" class=\"nd\">179389</a>\n",
       "<div class=\"h\"><a target=\"_blank\" href=\"https://shebanq.ancient-data.org/hebrew/word?version=c&id=1BQRn\" title=\"show this lexeme in SHEBANQ\">בָּקָ֛ר </a></div>\n",
       "<div class=\"features\"> <span class=\"pdp\"><a href=\"https://shebanq.ancient-data.org/hebrew/text?book=Reges_I&chapter=5&verse=3&version=c&mr=m&qw=q&tp=txt_p&tr=hb&wget=v&qget=v&nget=vt\" title=\"1_Kings 5:3\" sec=\"1_Kings 5:3\">subs</a></span> <span class=\"gloss\">cattle</span></div>\n",
       "\n",
       "\n",
       "</div>\n",
       "\n",
       "<div class=\"word \" style=\"background-color: None;\">\n",
       "<a href=\"#\" class=\"nd\">179390</a>\n",
       "<div class=\"h\"><a target=\"_blank\" href=\"https://shebanq.ancient-data.org/hebrew/word?version=c&id=1ROJn\" title=\"show this lexeme in SHEBANQ\">רְעִ֖י </a></div>\n",
       "<div class=\"features\"> <span class=\"pdp\"><a href=\"https://shebanq.ancient-data.org/hebrew/text?book=Reges_I&chapter=5&verse=3&version=c&mr=m&qw=q&tp=txt_p&tr=hb&wget=v&qget=v&nget=vt\" title=\"1_Kings 5:3\" sec=\"1_Kings 5:3\">subs</a></span> <span class=\"gloss\">pasture</span></div>\n",
       "\n",
       "\n",
       "</div>\n",
       "\n",
       "<div class=\"word \" style=\"background-color: None;\">\n",
       "<a href=\"#\" class=\"nd\">179391</a>\n",
       "<div class=\"h\"><a target=\"_blank\" href=\"https://shebanq.ancient-data.org/hebrew/word?version=c&id=1W\" title=\"show this lexeme in SHEBANQ\">וּ</a></div>\n",
       "<div class=\"features\"> <span class=\"pdp\"><a href=\"https://shebanq.ancient-data.org/hebrew/text?book=Reges_I&chapter=5&verse=3&version=c&mr=m&qw=q&tp=txt_p&tr=hb&wget=v&qget=v&nget=vt\" title=\"1_Kings 5:3\" sec=\"1_Kings 5:3\">conj</a></span> <span class=\"gloss\">and</span></div>\n",
       "\n",
       "\n",
       "</div>\n",
       "\n",
       "<div class=\"word \" style=\"background-color: None;\">\n",
       "<a href=\"#\" class=\"nd\">179392</a>\n",
       "<div class=\"h\"><a target=\"_blank\" href=\"https://shebanq.ancient-data.org/hebrew/word?version=c&id=1MAHn\" title=\"show this lexeme in SHEBANQ\">מֵ֣אָה </a></div>\n",
       "<div class=\"features\"> <span class=\"pdp\"><a href=\"https://shebanq.ancient-data.org/hebrew/text?book=Reges_I&chapter=5&verse=3&version=c&mr=m&qw=q&tp=txt_p&tr=hb&wget=v&qget=v&nget=vt\" title=\"1_Kings 5:3\" sec=\"1_Kings 5:3\">subs</a></span> <span class=\"gloss\">hundred</span></div>\n",
       "\n",
       "\n",
       "</div>\n",
       "\n",
       "<div class=\"word \" style=\"background-color: None;\">\n",
       "<a href=\"#\" class=\"nd\">179393</a>\n",
       "<div class=\"h\"><a target=\"_blank\" href=\"https://shebanq.ancient-data.org/hebrew/word?version=c&id=1YANn\" title=\"show this lexeme in SHEBANQ\">צֹ֑אן </a></div>\n",
       "<div class=\"features\"> <span class=\"pdp\"><a href=\"https://shebanq.ancient-data.org/hebrew/text?book=Reges_I&chapter=5&verse=3&version=c&mr=m&qw=q&tp=txt_p&tr=hb&wget=v&qget=v&nget=vt\" title=\"1_Kings 5:3\" sec=\"1_Kings 5:3\">subs</a></span> <span class=\"gloss\">cattle</span></div>\n",
       "\n",
       "\n",
       "</div>\n",
       "\n",
       "\n",
       "    </div>\n",
       "\n",
       "\n",
       "</div>\n",
       "\n",
       "\n",
       "</div>\n"
      ],
      "text/plain": [
       "<IPython.core.display.HTML object>"
      ]
     },
     "metadata": {},
     "output_type": "display_data"
    }
   ],
   "source": [
    "A.pretty(L.u(1348308,'phrase')[0], withNodes=True)"
   ]
  },
  {
   "cell_type": "code",
   "execution_count": 272,
   "metadata": {},
   "outputs": [
    {
     "data": {
      "text/plain": [
       "{179385, 179389, 179390, 179393}"
      ]
     },
     "execution_count": 272,
     "metadata": {},
     "output_type": "execute_result"
    }
   ],
   "source": [
    "phrase2heads[755341]"
   ]
  },
  {
   "cell_type": "markdown",
   "metadata": {},
   "source": [
    "<hr>\n",
    "<br>\n",
    "<br>\n",
    "<br>\n",
    "\n",
    "# Testing & Scratch Code"
   ]
  },
  {
   "cell_type": "markdown",
   "metadata": {},
   "source": [
    "## TO DO\n",
    "\n",
    "• Finish integrating new quantifier algorithm in `obj_prep` and `nheads`."
   ]
  },
  {
   "cell_type": "code",
   "execution_count": 59,
   "metadata": {},
   "outputs": [
    {
     "name": "stdout",
     "output_type": "stream",
     "text": [
      "  0.50s 1741 results\n",
      "  0.18s 1733 results\n",
      "test1 - test2\t 0\n",
      "test2 - test1\t 8\n"
     ]
    }
   ],
   "source": [
    "# FOR BIG TESTS\n",
    "\n",
    "test1 = f'''\n",
    "\n",
    "phrase typ=NP|PrNP\n",
    "    iphrase_atom\n",
    "        quantifier:quant\n",
    "\n",
    "% quantifier does not precede a quantified element\n",
    "        /without/\n",
    "        subphrase\n",
    "            quantifier\n",
    "            < w1:nonquantprep pdp=adjv|subs|nmpr|prde|prps\n",
    "            /with/\n",
    "            = nonpostprep\n",
    "            /-/\n",
    "        /-/ \n",
    "        \n",
    "% quantifier is not construct with quantified element\n",
    "        /without/\n",
    "        quantifier\n",
    "        <mother- subphrase rela=rec\n",
    "            nonquantprep pdp=subs|nmpr|prde|prps\n",
    "        /-/\n",
    "        /without/\n",
    "        phrase_atom\n",
    "            quantifier st=c\n",
    "            <: nonquantprep pdp=subs|nmpr|prde|prps\n",
    "        /-/\n",
    "    \n",
    "% quantifier is not in another relation with a quantified element\n",
    "        /without/\n",
    "        s1:subphrase\n",
    "            quantifier\n",
    "        s2:subphrase rela=adj|atr|dem\n",
    "            w1:nonquantprep pdp=subs|nmpr|prde|prps\n",
    "            /with/\n",
    "            = nonpostprep\n",
    "            /-/\n",
    "% exclude cases where a prepositional object occurs non-adjacently\n",
    "            /without/\n",
    "            subphrase\n",
    "            /without/\n",
    "                quant\n",
    "            /-/\n",
    "                =: prep\n",
    "                w1\n",
    "            /-/\n",
    "        s1 <mother- s2\n",
    "        /-/\n",
    "\n",
    "% ensure quantifer is not in a quantifying chain\n",
    "% there are numerous possible relations\n",
    "        /without/\n",
    "        phrase\n",
    "            phrase_atom rela=NA|Para\n",
    "            /with/\n",
    "                s1:subphrase\n",
    "                    nonquantprep pdp=subs|nmpr|prde|prps\n",
    "                s2:subphrase rela=adj|atr\n",
    "                    word ls=card\n",
    "                s1 <mother- s2\n",
    "            /or/\n",
    "                s1:subphrase\n",
    "                    word ls=card\n",
    "                s2:subphrase rela=adj|atr\n",
    "                    nonquantprep pdp=subs|nmpr|prde|prps\n",
    "                    /with/\n",
    "                    = nonpostprep\n",
    "                    /-/\n",
    "                s1 <mother- s2\n",
    "            /or/\n",
    "                word ls=card\n",
    "                <mother- subphrase rela=rec\n",
    "                    nonquantprep pdp=subs|nmpr|prde|prps\n",
    "            /or/\n",
    "                nonquantprep pdp=subs|nmpr|prde|prps\n",
    "                <mother- subphrase rela=rec\n",
    "                    word ls=card\n",
    "            /or/\n",
    "                nonquantprep pdp=subs|nmpr|prde|prps st=c\n",
    "                <: word ls=card\n",
    "            /-/\n",
    "% quantifier is either a cardinal number of BN/ in chain\n",
    "            w1:word\n",
    "            /with/\n",
    "            ls=card prs=absent\n",
    "            /or/\n",
    "            lex=BN/ prs=absent\n",
    "            /-/\n",
    "            \n",
    "            quantifier = w1\n",
    "        /-/\n",
    "\n",
    "% exclude uses as modifier:\n",
    "        /without/\n",
    "        subphrase rela=adj|atr|rec|mod|dem\n",
    "            quantifier\n",
    "        /-/\n",
    "\n",
    "'''\n",
    "\n",
    "test2 = f'''\n",
    "\n",
    "phrase typ=NP|PrNP|DPrP|PPrP\n",
    "    iphrase_atom\n",
    "        quantifier:quant\n",
    "\n",
    "% quantifier does not precede a quantified element\n",
    "        /without/\n",
    "        subphrase\n",
    "            quantifier\n",
    "            < w1:nonquantprep pdp=adjv|subs|nmpr|prde|prps\n",
    "            /with/\n",
    "            = nonpostprep\n",
    "            /-/\n",
    "        /-/ \n",
    "        \n",
    "% quantifier is not construct with quantified element\n",
    "        /without/\n",
    "        quantifier\n",
    "        <mother- subphrase rela=rec\n",
    "            nonquantprep pdp=subs|nmpr|prde|prps\n",
    "        /-/\n",
    "        /without/\n",
    "        phrase_atom\n",
    "            quantifier st=c\n",
    "            <: nonquantprep pdp=subs|nmpr|prde|prps\n",
    "        /-/\n",
    "    \n",
    "% quantifier is not in another relation with a quantified element\n",
    "        /without/\n",
    "        s1:subphrase\n",
    "            quantifier\n",
    "        s2:subphrase rela=adj|atr|dem\n",
    "            w1:nonquantprep pdp=subs|nmpr|prde|prps\n",
    "            /with/\n",
    "            = nonpostprep\n",
    "            /-/\n",
    "% exclude cases where a prepositional object occurs non-adjacently\n",
    "            /without/\n",
    "            subphrase\n",
    "            /without/\n",
    "                quant\n",
    "            /-/\n",
    "                =: prep\n",
    "                w1\n",
    "            /-/\n",
    "        s1 <mother- s2\n",
    "        /-/\n",
    "\n",
    "% ensure quantifer is not in a quantifying chain\n",
    "% there are numerous possible relations\n",
    "        /without/\n",
    "        phrase\n",
    "            phrase_atom rela=NA|Para\n",
    "            /with/\n",
    "                s1:subphrase\n",
    "                    nonquantprep pdp=subs|nmpr|prde|prps\n",
    "                s2:subphrase rela=adj|atr\n",
    "                    word ls=card\n",
    "                s1 <mother- s2\n",
    "            /or/\n",
    "                s1:subphrase\n",
    "                    word ls=card\n",
    "                s2:subphrase rela=adj|atr\n",
    "                    nonquantprep pdp=subs|nmpr|prde|prps\n",
    "                    /with/\n",
    "                    = nonpostprep\n",
    "                    /-/\n",
    "                s1 <mother- s2\n",
    "            /or/\n",
    "                word ls=card\n",
    "                <mother- subphrase rela=rec\n",
    "                    nonquantprep pdp=subs|nmpr|prde|prps\n",
    "            /or/\n",
    "                nonquantprep pdp=subs|nmpr|prde|prps\n",
    "                <mother- subphrase rela=rec\n",
    "                    word ls=card\n",
    "            /or/\n",
    "                nonquantprep pdp=subs|nmpr|prde|prps st=c\n",
    "                <: word ls=card\n",
    "            /-/\n",
    "% quantifier is either a cardinal number of BN/ in chain\n",
    "            w1:word\n",
    "            /with/\n",
    "            ls=card prs=absent\n",
    "            /or/\n",
    "            lex=BN/ prs=absent\n",
    "            /-/\n",
    "            \n",
    "            quantifier = w1\n",
    "        /-/\n",
    "\n",
    "% exclude uses as modifier:\n",
    "        /without/\n",
    "        subphrase rela=adj|atr|rec|mod|dem\n",
    "            quantifier\n",
    "        /-/\n",
    "\n",
    "'''\n",
    "\n",
    "test2 = set(A.search(test2, sets=sets)) \n",
    "test1 = set(A.search(test1, sets=sets))\n",
    "    \n",
    "print('test1 - test2\\t', len(test1-test2))\n",
    "print('test2 - test1\\t', len(test2-test1))"
   ]
  },
  {
   "cell_type": "markdown",
   "metadata": {},
   "source": [
    "<hr>"
   ]
  },
  {
   "cell_type": "code",
   "execution_count": 56,
   "metadata": {},
   "outputs": [],
   "source": [
    "for sp in L.d(0, 'subphrase'):\n",
    "    print(sp, F.rela.v(sp), E.mother.f(sp), T.text(sp))\n",
    "    print(L.d(sp, 'word'), [F.pdp.v(w) for w in L.d(sp, 'word')])\n",
    "    print()"
   ]
  },
  {
   "cell_type": "code",
   "execution_count": 60,
   "metadata": {},
   "outputs": [
    {
     "data": {
      "text/markdown": [
       "\n",
       "\n",
       "**phrase** *1*\n",
       "\n"
      ],
      "text/plain": [
       "<IPython.core.display.Markdown object>"
      ]
     },
     "metadata": {},
     "output_type": "display_data"
    },
    {
     "data": {
      "text/html": [
       "<a href=\"https://shebanq.ancient-data.org/hebrew/text?book=Exodus&chapter=24&verse=1&version=c&mr=m&qw=q&tp=txt_p&tr=hb&wget=v&qget=v&nget=vt\" title=\"show this passage in SHEBANQ\" sec=\"Exodus 24:1\">Exodus 24:1</a>\n",
       "<div class=\"atoms  \" >\n",
       "<a href=\"#\" class=\"nd\">677392</a>\n",
       "\n",
       "\n",
       "\n",
       "<div class=\"patom  l hl\" >\n",
       "\n",
       "    <div class=\"phrase \" >\n",
       "        <a href=\"https://shebanq.ancient-data.org/hebrew/text?book=Exodus&chapter=24&verse=1&version=c&mr=m&qw=q&tp=txt_p&tr=hb&wget=v&qget=v&nget=vt\" title=\"Exodus 24:1\" sec=\"Exodus 24:1\">phrase</a> <a href=\"#\" class=\"nd\">677392</a>  <span class=\"function\">Subj</span> <span class=\"typ\">PPrP</span>\n",
       "    </div>\n",
       "    <div class=\"atoms\">\n",
       "\n",
       "<div class=\"word  \" >\n",
       "<a href=\"#\" class=\"nd\">41608</a>\n",
       "<div class=\"h\"><a target=\"_blank\" href=\"https://shebanq.ancient-data.org/hebrew/word?version=c&id=1ATH\" title=\"show this lexeme in SHEBANQ\">אַתָּה֙ </a></div>\n",
       "<div class=\"features\"> <span class=\"pdp\"><a href=\"https://shebanq.ancient-data.org/hebrew/text?book=Exodus&chapter=24&verse=1&version=c&mr=m&qw=q&tp=txt_p&tr=hb&wget=v&qget=v&nget=vt\" title=\"Exodus 24:1\" sec=\"Exodus 24:1\">prps</a></span> <span class=\"gloss\">you</span></div>\n",
       "\n",
       "\n",
       "</div>\n",
       "\n",
       "<div class=\"word  \" >\n",
       "<a href=\"#\" class=\"nd\">41609</a>\n",
       "<div class=\"h\"><a target=\"_blank\" href=\"https://shebanq.ancient-data.org/hebrew/word?version=c&id=1W\" title=\"show this lexeme in SHEBANQ\">וְ</a></div>\n",
       "<div class=\"features\"> <span class=\"pdp\"><a href=\"https://shebanq.ancient-data.org/hebrew/text?book=Exodus&chapter=24&verse=1&version=c&mr=m&qw=q&tp=txt_p&tr=hb&wget=v&qget=v&nget=vt\" title=\"Exodus 24:1\" sec=\"Exodus 24:1\">conj</a></span> <span class=\"gloss\">and</span></div>\n",
       "\n",
       "\n",
       "</div>\n",
       "\n",
       "<div class=\"word  \" >\n",
       "<a href=\"#\" class=\"nd\">41610</a>\n",
       "<div class=\"h\"><a target=\"_blank\" href=\"https://shebanq.ancient-data.org/hebrew/word?version=c&id=1AHRNn\" title=\"show this lexeme in SHEBANQ\">אַהֲרֹן֙ </a></div>\n",
       "<div class=\"features\"> <span class=\"pdp\"><a href=\"https://shebanq.ancient-data.org/hebrew/text?book=Exodus&chapter=24&verse=1&version=c&mr=m&qw=q&tp=txt_p&tr=hb&wget=v&qget=v&nget=vt\" title=\"Exodus 24:1\" sec=\"Exodus 24:1\">nmpr</a></span> <span class=\"gloss\">Aaron</span></div>\n",
       "\n",
       "\n",
       "</div>\n",
       "\n",
       "<div class=\"word  \" >\n",
       "<a href=\"#\" class=\"nd\">41611</a>\n",
       "<div class=\"h\"><a target=\"_blank\" href=\"https://shebanq.ancient-data.org/hebrew/word?version=c&id=1NDBn\" title=\"show this lexeme in SHEBANQ\">נָדָ֣ב </a></div>\n",
       "<div class=\"features\"> <span class=\"pdp\"><a href=\"https://shebanq.ancient-data.org/hebrew/text?book=Exodus&chapter=24&verse=1&version=c&mr=m&qw=q&tp=txt_p&tr=hb&wget=v&qget=v&nget=vt\" title=\"Exodus 24:1\" sec=\"Exodus 24:1\">nmpr</a></span> <span class=\"gloss\">Nadab</span></div>\n",
       "\n",
       "\n",
       "</div>\n",
       "\n",
       "<div class=\"word  \" >\n",
       "<a href=\"#\" class=\"nd\">41612</a>\n",
       "<div class=\"h\"><a target=\"_blank\" href=\"https://shebanq.ancient-data.org/hebrew/word?version=c&id=1W\" title=\"show this lexeme in SHEBANQ\">וַ</a></div>\n",
       "<div class=\"features\"> <span class=\"pdp\"><a href=\"https://shebanq.ancient-data.org/hebrew/text?book=Exodus&chapter=24&verse=1&version=c&mr=m&qw=q&tp=txt_p&tr=hb&wget=v&qget=v&nget=vt\" title=\"Exodus 24:1\" sec=\"Exodus 24:1\">conj</a></span> <span class=\"gloss\">and</span></div>\n",
       "\n",
       "\n",
       "</div>\n",
       "\n",
       "<div class=\"word  \" >\n",
       "<a href=\"#\" class=\"nd\">41613</a>\n",
       "<div class=\"h\"><a target=\"_blank\" href=\"https://shebanq.ancient-data.org/hebrew/word?version=c&id=1ABJHWAn\" title=\"show this lexeme in SHEBANQ\">אֲבִיה֔וּא </a></div>\n",
       "<div class=\"features\"> <span class=\"pdp\"><a href=\"https://shebanq.ancient-data.org/hebrew/text?book=Exodus&chapter=24&verse=1&version=c&mr=m&qw=q&tp=txt_p&tr=hb&wget=v&qget=v&nget=vt\" title=\"Exodus 24:1\" sec=\"Exodus 24:1\">nmpr</a></span> <span class=\"gloss\">Abihu</span></div>\n",
       "\n",
       "\n",
       "</div>\n",
       "\n",
       "<div class=\"word  \" >\n",
       "<a href=\"#\" class=\"nd\">41614</a>\n",
       "<div class=\"h\"><a target=\"_blank\" href=\"https://shebanq.ancient-data.org/hebrew/word?version=c&id=1W\" title=\"show this lexeme in SHEBANQ\">וְ</a></div>\n",
       "<div class=\"features\"> <span class=\"pdp\"><a href=\"https://shebanq.ancient-data.org/hebrew/text?book=Exodus&chapter=24&verse=1&version=c&mr=m&qw=q&tp=txt_p&tr=hb&wget=v&qget=v&nget=vt\" title=\"Exodus 24:1\" sec=\"Exodus 24:1\">conj</a></span> <span class=\"gloss\">and</span></div>\n",
       "\n",
       "\n",
       "</div>\n",
       "\n",
       "<div class=\"word  hl\" >\n",
       "<a href=\"#\" class=\"nd\">41615</a>\n",
       "<div class=\"h\"><a target=\"_blank\" href=\"https://shebanq.ancient-data.org/hebrew/word?version=c&id=1CBOn\" title=\"show this lexeme in SHEBANQ\">שִׁבְעִ֖ים </a></div>\n",
       "<div class=\"features\"> <span class=\"pdp\"><a href=\"https://shebanq.ancient-data.org/hebrew/text?book=Exodus&chapter=24&verse=1&version=c&mr=m&qw=q&tp=txt_p&tr=hb&wget=v&qget=v&nget=vt\" title=\"Exodus 24:1\" sec=\"Exodus 24:1\">subs</a></span> <span class=\"gloss\">seven</span></div>\n",
       "\n",
       "\n",
       "</div>\n",
       "\n",
       "\n",
       "    </div>\n",
       "\n",
       "\n",
       "</div>\n",
       "\n",
       "<div class=\"patom  r \" >\n",
       "\n",
       "    <div class=\"phrase \" >\n",
       "        <a href=\"https://shebanq.ancient-data.org/hebrew/text?book=Exodus&chapter=24&verse=1&version=c&mr=m&qw=q&tp=txt_p&tr=hb&wget=v&qget=v&nget=vt\" title=\"Exodus 24:1\" sec=\"Exodus 24:1\">phrase</a> <a href=\"#\" class=\"nd\">677392</a>  <span class=\"function\">Subj</span> <span class=\"typ\">PPrP|PP</span>\n",
       "    </div>\n",
       "    <div class=\"atoms\">\n",
       "\n",
       "<div class=\"word  \" >\n",
       "<a href=\"#\" class=\"nd\">41616</a>\n",
       "<div class=\"h\"><a target=\"_blank\" href=\"https://shebanq.ancient-data.org/hebrew/word?version=c&id=1MN\" title=\"show this lexeme in SHEBANQ\">מִ</a></div>\n",
       "<div class=\"features\"> <span class=\"pdp\"><a href=\"https://shebanq.ancient-data.org/hebrew/text?book=Exodus&chapter=24&verse=1&version=c&mr=m&qw=q&tp=txt_p&tr=hb&wget=v&qget=v&nget=vt\" title=\"Exodus 24:1\" sec=\"Exodus 24:1\">prep</a></span> <span class=\"gloss\">from</span></div>\n",
       "\n",
       "\n",
       "</div>\n",
       "\n",
       "<div class=\"word  \" >\n",
       "<a href=\"#\" class=\"nd\">41617</a>\n",
       "<div class=\"h\"><a target=\"_blank\" href=\"https://shebanq.ancient-data.org/hebrew/word?version=c&id=1ZQNn\" title=\"show this lexeme in SHEBANQ\">זִּקְנֵ֣י </a></div>\n",
       "<div class=\"features\"> <span class=\"pdp\"><a href=\"https://shebanq.ancient-data.org/hebrew/text?book=Exodus&chapter=24&verse=1&version=c&mr=m&qw=q&tp=txt_p&tr=hb&wget=v&qget=v&nget=vt\" title=\"Exodus 24:1\" sec=\"Exodus 24:1\">subs</a></span> <span class=\"gloss\">old</span></div>\n",
       "\n",
       "\n",
       "</div>\n",
       "\n",
       "<div class=\"word  \" >\n",
       "<a href=\"#\" class=\"nd\">41618</a>\n",
       "<div class=\"h\"><a target=\"_blank\" href=\"https://shebanq.ancient-data.org/hebrew/word?version=c&id=1JFRALn\" title=\"show this lexeme in SHEBANQ\">יִשְׂרָאֵ֑ל </a></div>\n",
       "<div class=\"features\"> <span class=\"pdp\"><a href=\"https://shebanq.ancient-data.org/hebrew/text?book=Exodus&chapter=24&verse=1&version=c&mr=m&qw=q&tp=txt_p&tr=hb&wget=v&qget=v&nget=vt\" title=\"Exodus 24:1\" sec=\"Exodus 24:1\">nmpr</a></span> <span class=\"gloss\">Israel</span></div>\n",
       "\n",
       "\n",
       "</div>\n",
       "\n",
       "\n",
       "    </div>\n",
       "\n",
       "\n",
       "</div>\n",
       "\n",
       "\n",
       "</div>\n"
      ],
      "text/plain": [
       "<IPython.core.display.HTML object>"
      ]
     },
     "metadata": {},
     "output_type": "display_data"
    },
    {
     "data": {
      "text/markdown": [
       "\n",
       "\n",
       "**phrase** *2*\n",
       "\n"
      ],
      "text/plain": [
       "<IPython.core.display.Markdown object>"
      ]
     },
     "metadata": {},
     "output_type": "display_data"
    },
    {
     "data": {
      "text/html": [
       "<a href=\"https://shebanq.ancient-data.org/hebrew/text?book=Judices&chapter=7&verse=18&version=c&mr=m&qw=q&tp=txt_p&tr=hb&wget=v&qget=v&nget=vt\" title=\"show this passage in SHEBANQ\" sec=\"Judges 7:18\">Judges 7:18</a>\n",
       "<div class=\"atoms  \" >\n",
       "<a href=\"#\" class=\"nd\">725606</a>\n",
       "\n",
       "\n",
       "\n",
       "<div class=\"patom  hl\" >\n",
       "\n",
       "    <div class=\"phrase \" >\n",
       "        <a href=\"https://shebanq.ancient-data.org/hebrew/text?book=Judices&chapter=7&verse=18&version=c&mr=m&qw=q&tp=txt_p&tr=hb&wget=v&qget=v&nget=vt\" title=\"Judges 7:18\" sec=\"Judges 7:18\">phrase</a> <a href=\"#\" class=\"nd\">725606</a>  <span class=\"function\">Subj</span> <span class=\"typ\">PPrP</span>\n",
       "    </div>\n",
       "    <div class=\"atoms\">\n",
       "\n",
       "<div class=\"word  \" >\n",
       "<a href=\"#\" class=\"nd\">131896</a>\n",
       "<div class=\"h\"><a target=\"_blank\" href=\"https://shebanq.ancient-data.org/hebrew/word?version=c&id=1ANKJ\" title=\"show this lexeme in SHEBANQ\">אָנֹכִ֖י </a></div>\n",
       "<div class=\"features\"> <span class=\"pdp\"><a href=\"https://shebanq.ancient-data.org/hebrew/text?book=Judices&chapter=7&verse=18&version=c&mr=m&qw=q&tp=txt_p&tr=hb&wget=v&qget=v&nget=vt\" title=\"Judges 7:18\" sec=\"Judges 7:18\">prps</a></span> <span class=\"gloss\">i</span></div>\n",
       "\n",
       "\n",
       "</div>\n",
       "\n",
       "<div class=\"word  \" >\n",
       "<a href=\"#\" class=\"nd\">131897</a>\n",
       "<div class=\"h\"><a target=\"_blank\" href=\"https://shebanq.ancient-data.org/hebrew/word?version=c&id=1W\" title=\"show this lexeme in SHEBANQ\">וְ</a></div>\n",
       "<div class=\"features\"> <span class=\"pdp\"><a href=\"https://shebanq.ancient-data.org/hebrew/text?book=Judices&chapter=7&verse=18&version=c&mr=m&qw=q&tp=txt_p&tr=hb&wget=v&qget=v&nget=vt\" title=\"Judges 7:18\" sec=\"Judges 7:18\">conj</a></span> <span class=\"gloss\">and</span></div>\n",
       "\n",
       "\n",
       "</div>\n",
       "\n",
       "<div class=\"word  hl\" >\n",
       "<a href=\"#\" class=\"nd\">131898</a>\n",
       "<div class=\"h\"><a target=\"_blank\" href=\"https://shebanq.ancient-data.org/hebrew/word?version=c&id=1KLn\" title=\"show this lexeme in SHEBANQ\">כָל־</a></div>\n",
       "<div class=\"features\"> <span class=\"pdp\"><a href=\"https://shebanq.ancient-data.org/hebrew/text?book=Judices&chapter=7&verse=18&version=c&mr=m&qw=q&tp=txt_p&tr=hb&wget=v&qget=v&nget=vt\" title=\"Judges 7:18\" sec=\"Judges 7:18\">subs</a></span> <span class=\"gloss\">whole</span></div>\n",
       "\n",
       "\n",
       "</div>\n",
       "\n",
       "\n",
       "    </div>\n",
       "\n",
       "\n",
       "</div>\n",
       "\n",
       "\n",
       "</div>\n"
      ],
      "text/plain": [
       "<IPython.core.display.HTML object>"
      ]
     },
     "metadata": {},
     "output_type": "display_data"
    },
    {
     "data": {
      "text/markdown": [
       "\n",
       "\n",
       "**phrase** *3*\n",
       "\n"
      ],
      "text/plain": [
       "<IPython.core.display.Markdown object>"
      ]
     },
     "metadata": {},
     "output_type": "display_data"
    },
    {
     "data": {
      "text/html": [
       "<a href=\"https://shebanq.ancient-data.org/hebrew/text?book=Genesis&chapter=31&verse=21&version=c&mr=m&qw=q&tp=txt_p&tr=hb&wget=v&qget=v&nget=vt\" title=\"show this passage in SHEBANQ\" sec=\"Genesis 31:21\">Genesis 31:21</a>\n",
       "<div class=\"atoms  \" >\n",
       "<a href=\"#\" class=\"nd\">661820</a>\n",
       "\n",
       "\n",
       "\n",
       "<div class=\"patom  hl\" >\n",
       "\n",
       "    <div class=\"phrase \" >\n",
       "        <a href=\"https://shebanq.ancient-data.org/hebrew/text?book=Genesis&chapter=31&verse=21&version=c&mr=m&qw=q&tp=txt_p&tr=hb&wget=v&qget=v&nget=vt\" title=\"Genesis 31:21\" sec=\"Genesis 31:21\">phrase</a> <a href=\"#\" class=\"nd\">661820</a>  <span class=\"function\">Subj</span> <span class=\"typ\">PPrP</span>\n",
       "    </div>\n",
       "    <div class=\"atoms\">\n",
       "\n",
       "<div class=\"word  \" >\n",
       "<a href=\"#\" class=\"nd\">16745</a>\n",
       "<div class=\"h\"><a target=\"_blank\" href=\"https://shebanq.ancient-data.org/hebrew/word?version=c&id=1HWA\" title=\"show this lexeme in SHEBANQ\">הוּא֙ </a></div>\n",
       "<div class=\"features\"> <span class=\"pdp\"><a href=\"https://shebanq.ancient-data.org/hebrew/text?book=Genesis&chapter=31&verse=21&version=c&mr=m&qw=q&tp=txt_p&tr=hb&wget=v&qget=v&nget=vt\" title=\"Genesis 31:21\" sec=\"Genesis 31:21\">prps</a></span> <span class=\"gloss\">he</span></div>\n",
       "\n",
       "\n",
       "</div>\n",
       "\n",
       "<div class=\"word  \" >\n",
       "<a href=\"#\" class=\"nd\">16746</a>\n",
       "<div class=\"h\"><a target=\"_blank\" href=\"https://shebanq.ancient-data.org/hebrew/word?version=c&id=1W\" title=\"show this lexeme in SHEBANQ\">וְ</a></div>\n",
       "<div class=\"features\"> <span class=\"pdp\"><a href=\"https://shebanq.ancient-data.org/hebrew/text?book=Genesis&chapter=31&verse=21&version=c&mr=m&qw=q&tp=txt_p&tr=hb&wget=v&qget=v&nget=vt\" title=\"Genesis 31:21\" sec=\"Genesis 31:21\">conj</a></span> <span class=\"gloss\">and</span></div>\n",
       "\n",
       "\n",
       "</div>\n",
       "\n",
       "<div class=\"word  hl\" >\n",
       "<a href=\"#\" class=\"nd\">16747</a>\n",
       "<div class=\"h\"><a target=\"_blank\" href=\"https://shebanq.ancient-data.org/hebrew/word?version=c&id=1KLn\" title=\"show this lexeme in SHEBANQ\">כָל־</a></div>\n",
       "<div class=\"features\"> <span class=\"pdp\"><a href=\"https://shebanq.ancient-data.org/hebrew/text?book=Genesis&chapter=31&verse=21&version=c&mr=m&qw=q&tp=txt_p&tr=hb&wget=v&qget=v&nget=vt\" title=\"Genesis 31:21\" sec=\"Genesis 31:21\">subs</a></span> <span class=\"gloss\">whole</span></div>\n",
       "\n",
       "\n",
       "</div>\n",
       "\n",
       "\n",
       "    </div>\n",
       "\n",
       "\n",
       "</div>\n",
       "\n",
       "\n",
       "</div>\n"
      ],
      "text/plain": [
       "<IPython.core.display.HTML object>"
      ]
     },
     "metadata": {},
     "output_type": "display_data"
    },
    {
     "data": {
      "text/markdown": [
       "\n",
       "\n",
       "**phrase** *4*\n",
       "\n"
      ],
      "text/plain": [
       "<IPython.core.display.Markdown object>"
      ]
     },
     "metadata": {},
     "output_type": "display_data"
    },
    {
     "data": {
      "text/html": [
       "<a href=\"https://shebanq.ancient-data.org/hebrew/text?book=Genesis&chapter=45&verse=10&version=c&mr=m&qw=q&tp=txt_p&tr=hb&wget=v&qget=v&nget=vt\" title=\"show this passage in SHEBANQ\" sec=\"Genesis 45:10\">Genesis 45:10</a>\n",
       "<div class=\"atoms  \" >\n",
       "<a href=\"#\" class=\"nd\">667639</a>\n",
       "\n",
       "\n",
       "\n",
       "<div class=\"patom  hl\" >\n",
       "\n",
       "    <div class=\"phrase \" >\n",
       "        <a href=\"https://shebanq.ancient-data.org/hebrew/text?book=Genesis&chapter=45&verse=10&version=c&mr=m&qw=q&tp=txt_p&tr=hb&wget=v&qget=v&nget=vt\" title=\"Genesis 45:10\" sec=\"Genesis 45:10\">phrase</a> <a href=\"#\" class=\"nd\">667639</a>  <span class=\"function\">Subj</span> <span class=\"typ\">PPrP</span>\n",
       "    </div>\n",
       "    <div class=\"atoms\">\n",
       "\n",
       "<div class=\"word  \" >\n",
       "<a href=\"#\" class=\"nd\">25651</a>\n",
       "<div class=\"h\"><a target=\"_blank\" href=\"https://shebanq.ancient-data.org/hebrew/word?version=c&id=1ATH\" title=\"show this lexeme in SHEBANQ\">אַתָּ֕ה </a></div>\n",
       "<div class=\"features\"> <span class=\"pdp\"><a href=\"https://shebanq.ancient-data.org/hebrew/text?book=Genesis&chapter=45&verse=10&version=c&mr=m&qw=q&tp=txt_p&tr=hb&wget=v&qget=v&nget=vt\" title=\"Genesis 45:10\" sec=\"Genesis 45:10\">prps</a></span> <span class=\"gloss\">you</span></div>\n",
       "\n",
       "\n",
       "</div>\n",
       "\n",
       "<div class=\"word  \" >\n",
       "<a href=\"#\" class=\"nd\">25652</a>\n",
       "<div class=\"h\"><a target=\"_blank\" href=\"https://shebanq.ancient-data.org/hebrew/word?version=c&id=1W\" title=\"show this lexeme in SHEBANQ\">וּ</a></div>\n",
       "<div class=\"features\"> <span class=\"pdp\"><a href=\"https://shebanq.ancient-data.org/hebrew/text?book=Genesis&chapter=45&verse=10&version=c&mr=m&qw=q&tp=txt_p&tr=hb&wget=v&qget=v&nget=vt\" title=\"Genesis 45:10\" sec=\"Genesis 45:10\">conj</a></span> <span class=\"gloss\">and</span></div>\n",
       "\n",
       "\n",
       "</div>\n",
       "\n",
       "<div class=\"word  \" >\n",
       "<a href=\"#\" class=\"nd\">25653</a>\n",
       "<div class=\"h\"><a target=\"_blank\" href=\"https://shebanq.ancient-data.org/hebrew/word?version=c&id=1BNn\" title=\"show this lexeme in SHEBANQ\">בָנֶ֖יךָ </a></div>\n",
       "<div class=\"features\"> <span class=\"pdp\"><a href=\"https://shebanq.ancient-data.org/hebrew/text?book=Genesis&chapter=45&verse=10&version=c&mr=m&qw=q&tp=txt_p&tr=hb&wget=v&qget=v&nget=vt\" title=\"Genesis 45:10\" sec=\"Genesis 45:10\">subs</a></span> <span class=\"gloss\">son</span></div>\n",
       "\n",
       "\n",
       "</div>\n",
       "\n",
       "<div class=\"word  \" >\n",
       "<a href=\"#\" class=\"nd\">25654</a>\n",
       "<div class=\"h\"><a target=\"_blank\" href=\"https://shebanq.ancient-data.org/hebrew/word?version=c&id=1W\" title=\"show this lexeme in SHEBANQ\">וּ</a></div>\n",
       "<div class=\"features\"> <span class=\"pdp\"><a href=\"https://shebanq.ancient-data.org/hebrew/text?book=Genesis&chapter=45&verse=10&version=c&mr=m&qw=q&tp=txt_p&tr=hb&wget=v&qget=v&nget=vt\" title=\"Genesis 45:10\" sec=\"Genesis 45:10\">conj</a></span> <span class=\"gloss\">and</span></div>\n",
       "\n",
       "\n",
       "</div>\n",
       "\n",
       "<div class=\"word  \" >\n",
       "<a href=\"#\" class=\"nd\">25655</a>\n",
       "<div class=\"h\"><a target=\"_blank\" href=\"https://shebanq.ancient-data.org/hebrew/word?version=c&id=1BNn\" title=\"show this lexeme in SHEBANQ\">בְנֵ֣י </a></div>\n",
       "<div class=\"features\"> <span class=\"pdp\"><a href=\"https://shebanq.ancient-data.org/hebrew/text?book=Genesis&chapter=45&verse=10&version=c&mr=m&qw=q&tp=txt_p&tr=hb&wget=v&qget=v&nget=vt\" title=\"Genesis 45:10\" sec=\"Genesis 45:10\">subs</a></span> <span class=\"gloss\">son</span></div>\n",
       "\n",
       "\n",
       "</div>\n",
       "\n",
       "<div class=\"word  \" >\n",
       "<a href=\"#\" class=\"nd\">25656</a>\n",
       "<div class=\"h\"><a target=\"_blank\" href=\"https://shebanq.ancient-data.org/hebrew/word?version=c&id=1BNn\" title=\"show this lexeme in SHEBANQ\">בָנֶ֑יךָ </a></div>\n",
       "<div class=\"features\"> <span class=\"pdp\"><a href=\"https://shebanq.ancient-data.org/hebrew/text?book=Genesis&chapter=45&verse=10&version=c&mr=m&qw=q&tp=txt_p&tr=hb&wget=v&qget=v&nget=vt\" title=\"Genesis 45:10\" sec=\"Genesis 45:10\">subs</a></span> <span class=\"gloss\">son</span></div>\n",
       "\n",
       "\n",
       "</div>\n",
       "\n",
       "<div class=\"word  \" >\n",
       "<a href=\"#\" class=\"nd\">25657</a>\n",
       "<div class=\"h\"><a target=\"_blank\" href=\"https://shebanq.ancient-data.org/hebrew/word?version=c&id=1W\" title=\"show this lexeme in SHEBANQ\">וְ</a></div>\n",
       "<div class=\"features\"> <span class=\"pdp\"><a href=\"https://shebanq.ancient-data.org/hebrew/text?book=Genesis&chapter=45&verse=10&version=c&mr=m&qw=q&tp=txt_p&tr=hb&wget=v&qget=v&nget=vt\" title=\"Genesis 45:10\" sec=\"Genesis 45:10\">conj</a></span> <span class=\"gloss\">and</span></div>\n",
       "\n",
       "\n",
       "</div>\n",
       "\n",
       "<div class=\"word  \" >\n",
       "<a href=\"#\" class=\"nd\">25658</a>\n",
       "<div class=\"h\"><a target=\"_blank\" href=\"https://shebanq.ancient-data.org/hebrew/word?version=c&id=1YANn\" title=\"show this lexeme in SHEBANQ\">צֹאנְךָ֥ </a></div>\n",
       "<div class=\"features\"> <span class=\"pdp\"><a href=\"https://shebanq.ancient-data.org/hebrew/text?book=Genesis&chapter=45&verse=10&version=c&mr=m&qw=q&tp=txt_p&tr=hb&wget=v&qget=v&nget=vt\" title=\"Genesis 45:10\" sec=\"Genesis 45:10\">subs</a></span> <span class=\"gloss\">cattle</span></div>\n",
       "\n",
       "\n",
       "</div>\n",
       "\n",
       "<div class=\"word  \" >\n",
       "<a href=\"#\" class=\"nd\">25659</a>\n",
       "<div class=\"h\"><a target=\"_blank\" href=\"https://shebanq.ancient-data.org/hebrew/word?version=c&id=1W\" title=\"show this lexeme in SHEBANQ\">וּ</a></div>\n",
       "<div class=\"features\"> <span class=\"pdp\"><a href=\"https://shebanq.ancient-data.org/hebrew/text?book=Genesis&chapter=45&verse=10&version=c&mr=m&qw=q&tp=txt_p&tr=hb&wget=v&qget=v&nget=vt\" title=\"Genesis 45:10\" sec=\"Genesis 45:10\">conj</a></span> <span class=\"gloss\">and</span></div>\n",
       "\n",
       "\n",
       "</div>\n",
       "\n",
       "<div class=\"word  \" >\n",
       "<a href=\"#\" class=\"nd\">25660</a>\n",
       "<div class=\"h\"><a target=\"_blank\" href=\"https://shebanq.ancient-data.org/hebrew/word?version=c&id=1BQRn\" title=\"show this lexeme in SHEBANQ\">בְקָרְךָ֖ </a></div>\n",
       "<div class=\"features\"> <span class=\"pdp\"><a href=\"https://shebanq.ancient-data.org/hebrew/text?book=Genesis&chapter=45&verse=10&version=c&mr=m&qw=q&tp=txt_p&tr=hb&wget=v&qget=v&nget=vt\" title=\"Genesis 45:10\" sec=\"Genesis 45:10\">subs</a></span> <span class=\"gloss\">cattle</span></div>\n",
       "\n",
       "\n",
       "</div>\n",
       "\n",
       "<div class=\"word  \" >\n",
       "<a href=\"#\" class=\"nd\">25661</a>\n",
       "<div class=\"h\"><a target=\"_blank\" href=\"https://shebanq.ancient-data.org/hebrew/word?version=c&id=1W\" title=\"show this lexeme in SHEBANQ\">וְ</a></div>\n",
       "<div class=\"features\"> <span class=\"pdp\"><a href=\"https://shebanq.ancient-data.org/hebrew/text?book=Genesis&chapter=45&verse=10&version=c&mr=m&qw=q&tp=txt_p&tr=hb&wget=v&qget=v&nget=vt\" title=\"Genesis 45:10\" sec=\"Genesis 45:10\">conj</a></span> <span class=\"gloss\">and</span></div>\n",
       "\n",
       "\n",
       "</div>\n",
       "\n",
       "<div class=\"word  hl\" >\n",
       "<a href=\"#\" class=\"nd\">25662</a>\n",
       "<div class=\"h\"><a target=\"_blank\" href=\"https://shebanq.ancient-data.org/hebrew/word?version=c&id=1KLn\" title=\"show this lexeme in SHEBANQ\">כָל־</a></div>\n",
       "<div class=\"features\"> <span class=\"pdp\"><a href=\"https://shebanq.ancient-data.org/hebrew/text?book=Genesis&chapter=45&verse=10&version=c&mr=m&qw=q&tp=txt_p&tr=hb&wget=v&qget=v&nget=vt\" title=\"Genesis 45:10\" sec=\"Genesis 45:10\">subs</a></span> <span class=\"gloss\">whole</span></div>\n",
       "\n",
       "\n",
       "</div>\n",
       "\n",
       "\n",
       "    </div>\n",
       "\n",
       "\n",
       "</div>\n",
       "\n",
       "\n",
       "</div>\n"
      ],
      "text/plain": [
       "<IPython.core.display.HTML object>"
      ]
     },
     "metadata": {},
     "output_type": "display_data"
    },
    {
     "data": {
      "text/markdown": [
       "\n",
       "\n",
       "**phrase** *5*\n",
       "\n"
      ],
      "text/plain": [
       "<IPython.core.display.Markdown object>"
      ]
     },
     "metadata": {},
     "output_type": "display_data"
    },
    {
     "data": {
      "text/html": [
       "<a href=\"https://shebanq.ancient-data.org/hebrew/text?book=Reges_I&chapter=20&verse=4&version=c&mr=m&qw=q&tp=txt_p&tr=hb&wget=v&qget=v&nget=vt\" title=\"show this passage in SHEBANQ\" sec=\"1_Kings 20:4\">1_Kings 20:4</a>\n",
       "<div class=\"atoms  \" >\n",
       "<a href=\"#\" class=\"nd\">762275</a>\n",
       "\n",
       "\n",
       "\n",
       "<div class=\"patom  hl\" >\n",
       "\n",
       "    <div class=\"phrase \" >\n",
       "        <a href=\"https://shebanq.ancient-data.org/hebrew/text?book=Reges_I&chapter=20&verse=4&version=c&mr=m&qw=q&tp=txt_p&tr=hb&wget=v&qget=v&nget=vt\" title=\"1_Kings 20:4\" sec=\"1_Kings 20:4\">phrase</a> <a href=\"#\" class=\"nd\">762275</a>  <span class=\"function\">Subj</span> <span class=\"typ\">PPrP</span>\n",
       "    </div>\n",
       "    <div class=\"atoms\">\n",
       "\n",
       "<div class=\"word  \" >\n",
       "<a href=\"#\" class=\"nd\">191995</a>\n",
       "<div class=\"h\"><a target=\"_blank\" href=\"https://shebanq.ancient-data.org/hebrew/word?version=c&id=1ANJ\" title=\"show this lexeme in SHEBANQ\">אֲנִ֖י </a></div>\n",
       "<div class=\"features\"> <span class=\"pdp\"><a href=\"https://shebanq.ancient-data.org/hebrew/text?book=Reges_I&chapter=20&verse=4&version=c&mr=m&qw=q&tp=txt_p&tr=hb&wget=v&qget=v&nget=vt\" title=\"1_Kings 20:4\" sec=\"1_Kings 20:4\">prps</a></span> <span class=\"gloss\">i</span></div>\n",
       "\n",
       "\n",
       "</div>\n",
       "\n",
       "<div class=\"word  \" >\n",
       "<a href=\"#\" class=\"nd\">191996</a>\n",
       "<div class=\"h\"><a target=\"_blank\" href=\"https://shebanq.ancient-data.org/hebrew/word?version=c&id=1W\" title=\"show this lexeme in SHEBANQ\">וְ</a></div>\n",
       "<div class=\"features\"> <span class=\"pdp\"><a href=\"https://shebanq.ancient-data.org/hebrew/text?book=Reges_I&chapter=20&verse=4&version=c&mr=m&qw=q&tp=txt_p&tr=hb&wget=v&qget=v&nget=vt\" title=\"1_Kings 20:4\" sec=\"1_Kings 20:4\">conj</a></span> <span class=\"gloss\">and</span></div>\n",
       "\n",
       "\n",
       "</div>\n",
       "\n",
       "<div class=\"word  hl\" >\n",
       "<a href=\"#\" class=\"nd\">191997</a>\n",
       "<div class=\"h\"><a target=\"_blank\" href=\"https://shebanq.ancient-data.org/hebrew/word?version=c&id=1KLn\" title=\"show this lexeme in SHEBANQ\">כָל־</a></div>\n",
       "<div class=\"features\"> <span class=\"pdp\"><a href=\"https://shebanq.ancient-data.org/hebrew/text?book=Reges_I&chapter=20&verse=4&version=c&mr=m&qw=q&tp=txt_p&tr=hb&wget=v&qget=v&nget=vt\" title=\"1_Kings 20:4\" sec=\"1_Kings 20:4\">subs</a></span> <span class=\"gloss\">whole</span></div>\n",
       "\n",
       "\n",
       "</div>\n",
       "\n",
       "\n",
       "    </div>\n",
       "\n",
       "\n",
       "</div>\n",
       "\n",
       "\n",
       "</div>\n"
      ],
      "text/plain": [
       "<IPython.core.display.HTML object>"
      ]
     },
     "metadata": {},
     "output_type": "display_data"
    },
    {
     "data": {
      "text/markdown": [
       "\n",
       "\n",
       "**phrase** *6*\n",
       "\n"
      ],
      "text/plain": [
       "<IPython.core.display.Markdown object>"
      ]
     },
     "metadata": {},
     "output_type": "display_data"
    },
    {
     "data": {
      "text/html": [
       "<a href=\"https://shebanq.ancient-data.org/hebrew/text?book=Genesis&chapter=45&verse=11&version=c&mr=m&qw=q&tp=txt_p&tr=hb&wget=v&qget=v&nget=vt\" title=\"show this passage in SHEBANQ\" sec=\"Genesis 45:11\">Genesis 45:11</a>\n",
       "<div class=\"atoms  \" >\n",
       "<a href=\"#\" class=\"nd\">667651</a>\n",
       "\n",
       "\n",
       "\n",
       "<div class=\"patom  hl\" >\n",
       "\n",
       "    <div class=\"phrase \" >\n",
       "        <a href=\"https://shebanq.ancient-data.org/hebrew/text?book=Genesis&chapter=45&verse=11&version=c&mr=m&qw=q&tp=txt_p&tr=hb&wget=v&qget=v&nget=vt\" title=\"Genesis 45:11\" sec=\"Genesis 45:11\">phrase</a> <a href=\"#\" class=\"nd\">667651</a>  <span class=\"function\">Subj</span> <span class=\"typ\">PPrP</span>\n",
       "    </div>\n",
       "    <div class=\"atoms\">\n",
       "\n",
       "<div class=\"word  \" >\n",
       "<a href=\"#\" class=\"nd\">25676</a>\n",
       "<div class=\"h\"><a target=\"_blank\" href=\"https://shebanq.ancient-data.org/hebrew/word?version=c&id=1ATH\" title=\"show this lexeme in SHEBANQ\">אַתָּ֥ה </a></div>\n",
       "<div class=\"features\"> <span class=\"pdp\"><a href=\"https://shebanq.ancient-data.org/hebrew/text?book=Genesis&chapter=45&verse=11&version=c&mr=m&qw=q&tp=txt_p&tr=hb&wget=v&qget=v&nget=vt\" title=\"Genesis 45:11\" sec=\"Genesis 45:11\">prps</a></span> <span class=\"gloss\">you</span></div>\n",
       "\n",
       "\n",
       "</div>\n",
       "\n",
       "<div class=\"word  \" >\n",
       "<a href=\"#\" class=\"nd\">25677</a>\n",
       "<div class=\"h\"><a target=\"_blank\" href=\"https://shebanq.ancient-data.org/hebrew/word?version=c&id=1W\" title=\"show this lexeme in SHEBANQ\">וּ</a></div>\n",
       "<div class=\"features\"> <span class=\"pdp\"><a href=\"https://shebanq.ancient-data.org/hebrew/text?book=Genesis&chapter=45&verse=11&version=c&mr=m&qw=q&tp=txt_p&tr=hb&wget=v&qget=v&nget=vt\" title=\"Genesis 45:11\" sec=\"Genesis 45:11\">conj</a></span> <span class=\"gloss\">and</span></div>\n",
       "\n",
       "\n",
       "</div>\n",
       "\n",
       "<div class=\"word  \" >\n",
       "<a href=\"#\" class=\"nd\">25678</a>\n",
       "<div class=\"h\"><a target=\"_blank\" href=\"https://shebanq.ancient-data.org/hebrew/word?version=c&id=1BJTn\" title=\"show this lexeme in SHEBANQ\">בֵֽיתְךָ֖ </a></div>\n",
       "<div class=\"features\"> <span class=\"pdp\"><a href=\"https://shebanq.ancient-data.org/hebrew/text?book=Genesis&chapter=45&verse=11&version=c&mr=m&qw=q&tp=txt_p&tr=hb&wget=v&qget=v&nget=vt\" title=\"Genesis 45:11\" sec=\"Genesis 45:11\">subs</a></span> <span class=\"gloss\">house</span></div>\n",
       "\n",
       "\n",
       "</div>\n",
       "\n",
       "<div class=\"word  \" >\n",
       "<a href=\"#\" class=\"nd\">25679</a>\n",
       "<div class=\"h\"><a target=\"_blank\" href=\"https://shebanq.ancient-data.org/hebrew/word?version=c&id=1W\" title=\"show this lexeme in SHEBANQ\">וְ</a></div>\n",
       "<div class=\"features\"> <span class=\"pdp\"><a href=\"https://shebanq.ancient-data.org/hebrew/text?book=Genesis&chapter=45&verse=11&version=c&mr=m&qw=q&tp=txt_p&tr=hb&wget=v&qget=v&nget=vt\" title=\"Genesis 45:11\" sec=\"Genesis 45:11\">conj</a></span> <span class=\"gloss\">and</span></div>\n",
       "\n",
       "\n",
       "</div>\n",
       "\n",
       "<div class=\"word  hl\" >\n",
       "<a href=\"#\" class=\"nd\">25680</a>\n",
       "<div class=\"h\"><a target=\"_blank\" href=\"https://shebanq.ancient-data.org/hebrew/word?version=c&id=1KLn\" title=\"show this lexeme in SHEBANQ\">כָל־</a></div>\n",
       "<div class=\"features\"> <span class=\"pdp\"><a href=\"https://shebanq.ancient-data.org/hebrew/text?book=Genesis&chapter=45&verse=11&version=c&mr=m&qw=q&tp=txt_p&tr=hb&wget=v&qget=v&nget=vt\" title=\"Genesis 45:11\" sec=\"Genesis 45:11\">subs</a></span> <span class=\"gloss\">whole</span></div>\n",
       "\n",
       "\n",
       "</div>\n",
       "\n",
       "\n",
       "    </div>\n",
       "\n",
       "\n",
       "</div>\n",
       "\n",
       "\n",
       "</div>\n"
      ],
      "text/plain": [
       "<IPython.core.display.HTML object>"
      ]
     },
     "metadata": {},
     "output_type": "display_data"
    },
    {
     "data": {
      "text/markdown": [
       "\n",
       "\n",
       "**phrase** *7*\n",
       "\n"
      ],
      "text/plain": [
       "<IPython.core.display.Markdown object>"
      ]
     },
     "metadata": {},
     "output_type": "display_data"
    },
    {
     "data": {
      "text/html": [
       "<a href=\"https://shebanq.ancient-data.org/hebrew/text?book=Numeri&chapter=16&verse=33&version=c&mr=m&qw=q&tp=txt_p&tr=hb&wget=v&qget=v&nget=vt\" title=\"show this passage in SHEBANQ\" sec=\"Numbers 16:33\">Numbers 16:33</a>\n",
       "<div class=\"atoms  \" >\n",
       "<a href=\"#\" class=\"nd\">697762</a>\n",
       "\n",
       "\n",
       "\n",
       "<div class=\"patom  hl\" >\n",
       "\n",
       "    <div class=\"phrase \" >\n",
       "        <a href=\"https://shebanq.ancient-data.org/hebrew/text?book=Numeri&chapter=16&verse=33&version=c&mr=m&qw=q&tp=txt_p&tr=hb&wget=v&qget=v&nget=vt\" title=\"Numbers 16:33\" sec=\"Numbers 16:33\">phrase</a> <a href=\"#\" class=\"nd\">697762</a>  <span class=\"function\">Subj</span> <span class=\"typ\">PPrP</span>\n",
       "    </div>\n",
       "    <div class=\"atoms\">\n",
       "\n",
       "<div class=\"word  \" >\n",
       "<a href=\"#\" class=\"nd\">80695</a>\n",
       "<div class=\"h\"><a target=\"_blank\" href=\"https://shebanq.ancient-data.org/hebrew/word?version=c&id=1HM\" title=\"show this lexeme in SHEBANQ\">הֵ֣ם </a></div>\n",
       "<div class=\"features\"> <span class=\"pdp\"><a href=\"https://shebanq.ancient-data.org/hebrew/text?book=Numeri&chapter=16&verse=33&version=c&mr=m&qw=q&tp=txt_p&tr=hb&wget=v&qget=v&nget=vt\" title=\"Numbers 16:33\" sec=\"Numbers 16:33\">prps</a></span> <span class=\"gloss\">they</span></div>\n",
       "\n",
       "\n",
       "</div>\n",
       "\n",
       "<div class=\"word  \" >\n",
       "<a href=\"#\" class=\"nd\">80696</a>\n",
       "<div class=\"h\"><a target=\"_blank\" href=\"https://shebanq.ancient-data.org/hebrew/word?version=c&id=1W\" title=\"show this lexeme in SHEBANQ\">וְ</a></div>\n",
       "<div class=\"features\"> <span class=\"pdp\"><a href=\"https://shebanq.ancient-data.org/hebrew/text?book=Numeri&chapter=16&verse=33&version=c&mr=m&qw=q&tp=txt_p&tr=hb&wget=v&qget=v&nget=vt\" title=\"Numbers 16:33\" sec=\"Numbers 16:33\">conj</a></span> <span class=\"gloss\">and</span></div>\n",
       "\n",
       "\n",
       "</div>\n",
       "\n",
       "<div class=\"word  hl\" >\n",
       "<a href=\"#\" class=\"nd\">80697</a>\n",
       "<div class=\"h\"><a target=\"_blank\" href=\"https://shebanq.ancient-data.org/hebrew/word?version=c&id=1KLn\" title=\"show this lexeme in SHEBANQ\">כָל־</a></div>\n",
       "<div class=\"features\"> <span class=\"pdp\"><a href=\"https://shebanq.ancient-data.org/hebrew/text?book=Numeri&chapter=16&verse=33&version=c&mr=m&qw=q&tp=txt_p&tr=hb&wget=v&qget=v&nget=vt\" title=\"Numbers 16:33\" sec=\"Numbers 16:33\">subs</a></span> <span class=\"gloss\">whole</span></div>\n",
       "\n",
       "\n",
       "</div>\n",
       "\n",
       "\n",
       "    </div>\n",
       "\n",
       "\n",
       "</div>\n",
       "\n",
       "\n",
       "</div>\n"
      ],
      "text/plain": [
       "<IPython.core.display.HTML object>"
      ]
     },
     "metadata": {},
     "output_type": "display_data"
    },
    {
     "data": {
      "text/markdown": [
       "\n",
       "\n",
       "**phrase** *8*\n",
       "\n"
      ],
      "text/plain": [
       "<IPython.core.display.Markdown object>"
      ]
     },
     "metadata": {},
     "output_type": "display_data"
    },
    {
     "data": {
      "text/html": [
       "<a href=\"https://shebanq.ancient-data.org/hebrew/text?book=Genesis&chapter=20&verse=7&version=c&mr=m&qw=q&tp=txt_p&tr=hb&wget=v&qget=v&nget=vt\" title=\"show this passage in SHEBANQ\" sec=\"Genesis 20:7\">Genesis 20:7</a>\n",
       "<div class=\"atoms  \" >\n",
       "<a href=\"#\" class=\"nd\">656961</a>\n",
       "\n",
       "\n",
       "\n",
       "<div class=\"patom  hl\" >\n",
       "\n",
       "    <div class=\"phrase \" >\n",
       "        <a href=\"https://shebanq.ancient-data.org/hebrew/text?book=Genesis&chapter=20&verse=7&version=c&mr=m&qw=q&tp=txt_p&tr=hb&wget=v&qget=v&nget=vt\" title=\"Genesis 20:7\" sec=\"Genesis 20:7\">phrase</a> <a href=\"#\" class=\"nd\">656961</a>  <span class=\"function\">Subj</span> <span class=\"typ\">PPrP</span>\n",
       "    </div>\n",
       "    <div class=\"atoms\">\n",
       "\n",
       "<div class=\"word  \" >\n",
       "<a href=\"#\" class=\"nd\">9394</a>\n",
       "<div class=\"h\"><a target=\"_blank\" href=\"https://shebanq.ancient-data.org/hebrew/word?version=c&id=1ATH\" title=\"show this lexeme in SHEBANQ\">אַתָּ֖ה </a></div>\n",
       "<div class=\"features\"> <span class=\"pdp\"><a href=\"https://shebanq.ancient-data.org/hebrew/text?book=Genesis&chapter=20&verse=7&version=c&mr=m&qw=q&tp=txt_p&tr=hb&wget=v&qget=v&nget=vt\" title=\"Genesis 20:7\" sec=\"Genesis 20:7\">prps</a></span> <span class=\"gloss\">you</span></div>\n",
       "\n",
       "\n",
       "</div>\n",
       "\n",
       "<div class=\"word  \" >\n",
       "<a href=\"#\" class=\"nd\">9395</a>\n",
       "<div class=\"h\"><a target=\"_blank\" href=\"https://shebanq.ancient-data.org/hebrew/word?version=c&id=1W\" title=\"show this lexeme in SHEBANQ\">וְ</a></div>\n",
       "<div class=\"features\"> <span class=\"pdp\"><a href=\"https://shebanq.ancient-data.org/hebrew/text?book=Genesis&chapter=20&verse=7&version=c&mr=m&qw=q&tp=txt_p&tr=hb&wget=v&qget=v&nget=vt\" title=\"Genesis 20:7\" sec=\"Genesis 20:7\">conj</a></span> <span class=\"gloss\">and</span></div>\n",
       "\n",
       "\n",
       "</div>\n",
       "\n",
       "<div class=\"word  hl\" >\n",
       "<a href=\"#\" class=\"nd\">9396</a>\n",
       "<div class=\"h\"><a target=\"_blank\" href=\"https://shebanq.ancient-data.org/hebrew/word?version=c&id=1KLn\" title=\"show this lexeme in SHEBANQ\">כָל־</a></div>\n",
       "<div class=\"features\"> <span class=\"pdp\"><a href=\"https://shebanq.ancient-data.org/hebrew/text?book=Genesis&chapter=20&verse=7&version=c&mr=m&qw=q&tp=txt_p&tr=hb&wget=v&qget=v&nget=vt\" title=\"Genesis 20:7\" sec=\"Genesis 20:7\">subs</a></span> <span class=\"gloss\">whole</span></div>\n",
       "\n",
       "\n",
       "</div>\n",
       "\n",
       "\n",
       "    </div>\n",
       "\n",
       "\n",
       "</div>\n",
       "\n",
       "\n",
       "</div>\n"
      ],
      "text/plain": [
       "<IPython.core.display.HTML object>"
      ]
     },
     "metadata": {},
     "output_type": "display_data"
    }
   ],
   "source": [
    "A.show(list(test2-test1), condenseType='phrase', withNodes=True, end=100)"
   ]
  },
  {
   "cell_type": "code",
   "execution_count": 145,
   "metadata": {},
   "outputs": [],
   "source": [
    "A.show([r for r in test1 if r[0] == 939751], condenseType='phrase', withNodes=True, end=100)"
   ]
  },
  {
   "cell_type": "markdown",
   "metadata": {},
   "source": [
    "<hr>"
   ]
  },
  {
   "cell_type": "code",
   "execution_count": 75,
   "metadata": {},
   "outputs": [],
   "source": [
    "def find_difference(tempA, tempB):\n",
    "    # prints line by line difference between two templates \n",
    "    \n",
    "    t1lines = tempA.split('\\n')\n",
    "    t2lines = tempB.split('\\n')\n",
    "\n",
    "    for i in range(0, len(t1lines)):\n",
    "        t1 = t1lines[i]\n",
    "        t2 = t2lines[i]\n",
    "\n",
    "        if t1 != t2:\n",
    "            raise Exception(f'@{i}\\nt1:{t1}\\nt2:{t2}')"
   ]
  },
  {
   "cell_type": "code",
   "execution_count": 80,
   "metadata": {},
   "outputs": [
    {
     "name": "stdout",
     "output_type": "stream",
     "text": [
      "  1.31s 5531 results\n"
     ]
    }
   ],
   "source": [
    "t = A.search(NP_complex['NP_quantified'], sets=sets)\n",
    "\n",
    "A.show([res for res in t if res[0] == 655697])"
   ]
  },
  {
   "cell_type": "markdown",
   "metadata": {},
   "source": [
    "<hr>\n"
   ]
  }
 ],
 "metadata": {
  "kernelspec": {
   "display_name": "Python 3",
   "language": "python",
   "name": "python3"
  },
  "language_info": {
   "codemirror_mode": {
    "name": "ipython",
    "version": 3
   },
   "file_extension": ".py",
   "mimetype": "text/x-python",
   "name": "python",
   "nbconvert_exporter": "python",
   "pygments_lexer": "ipython3",
   "version": "3.7.0"
  }
 },
 "nbformat": 4,
 "nbformat_minor": 2
}
