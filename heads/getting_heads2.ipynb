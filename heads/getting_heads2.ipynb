{
 "cells": [
  {
   "cell_type": "markdown",
   "metadata": {},
   "source": [
    "# Getting Heads 2\n",
    "\n",
    "This notebook aims to develop a new method of head detection using insights gained from the first version of this data. This new effort improves on the previous one in two main ways:\n",
    "\n",
    "* head selection is performed using Text Fabric templates, which offers a clearer, more transparent way to select and filter data\n",
    "* aims to track and address all edge cases\n",
    "\n",
    "Most of the rationale and rules generated in [getting_heads.ipynb](getting_heads.ipynb) are carried over to this present notebook."
   ]
  },
  {
   "cell_type": "code",
   "execution_count": 1,
   "metadata": {},
   "outputs": [],
   "source": [
    "from tf.extra.bhsa import Bhsa\n",
    "import collections, textwrap"
   ]
  },
  {
   "cell_type": "code",
   "execution_count": 2,
   "metadata": {},
   "outputs": [
    {
     "data": {
      "text/html": [
       "\n",
       "<style>\n",
       "@font-face {\n",
       "  font-family: \"Ezra SIL\";\n",
       "  src: url('https://github.com/Dans-labs/text-fabric/blob/master/tf/server/static/fonts/SILEOT.ttf?raw=true');\n",
       "  src: url('https://github.com/Dans-labs/text-fabric/blob/master/tf/server/static/fonts/SILEOT.woff?raw=true') format('woff');\n",
       "}\n",
       "</style>\n",
       "\n",
       "<style type=\"text/css\">\n",
       ".verse {\n",
       "    display: flex;\n",
       "    flex-flow: row wrap;\n",
       "    direction: rtl;\n",
       "}\n",
       ".vl {\n",
       "    display: flex;\n",
       "    flex-flow: column nowrap;\n",
       "    justify-content: flex-end;\n",
       "    align-items: flex-end;\n",
       "    direction: ltr;\n",
       "    width: 100%;\n",
       "}\n",
       ".outeritem {\n",
       "    display: flex;\n",
       "    flex-flow: row wrap;\n",
       "    direction: rtl;\n",
       "}\n",
       ".sentence,.clause,.phrase {\n",
       "    margin-top: -1.2em;\n",
       "    margin-left: 1em;\n",
       "    background: #ffffff none repeat scroll 0 0;\n",
       "    padding: 0 0.3em;\n",
       "    border-style: solid;\n",
       "    border-radius: 0.2em;\n",
       "    font-size: small;\n",
       "    display: block;\n",
       "    width: fit-content;\n",
       "    max-width: fit-content;\n",
       "    direction: ltr;\n",
       "}\n",
       ".atoms {\n",
       "    display: flex;\n",
       "    flex-flow: row wrap;\n",
       "    margin: 0.3em;\n",
       "    padding: 0.3em;\n",
       "    direction: rtl;\n",
       "    background-color: #ffffff;\n",
       "}\n",
       ".satom,.catom,.patom {\n",
       "    margin: 0.3em;\n",
       "    padding: 0.3em;\n",
       "    border-radius: 0.3em;\n",
       "    border-style: solid;\n",
       "    display: flex;\n",
       "    flex-flow: column nowrap;\n",
       "    direction: rtl;\n",
       "    background-color: #ffffff;\n",
       "}\n",
       ".sentence {\n",
       "    border-color: #aa3333;\n",
       "    border-width: 1px;\n",
       "}\n",
       ".clause {\n",
       "    border-color: #aaaa33;\n",
       "    border-width: 1px;\n",
       "}\n",
       ".phrase {\n",
       "    border-color: #33aaaa;\n",
       "    border-width: 1px;\n",
       "}\n",
       ".satom {\n",
       "    border-color: #aa3333;\n",
       "    border-width: 4px;\n",
       "}\n",
       ".catom {\n",
       "    border-color: #aaaa33;\n",
       "    border-width: 3px;\n",
       "}\n",
       ".patom {\n",
       "    border-color: #33aaaa;\n",
       "    border-width: 3px;\n",
       "}\n",
       ".word {\n",
       "    padding: 0.1em;\n",
       "    margin: 0.1em;\n",
       "    border-radius: 0.1em;\n",
       "    border: 1px solid #cccccc;\n",
       "    display: flex;\n",
       "    flex-flow: column nowrap;\n",
       "    direction: rtl;\n",
       "    background-color: #ffffff;\n",
       "}\n",
       ".lextp {\n",
       "    padding: 0.1em;\n",
       "    margin: 0.1em;\n",
       "    border-radius: 0.1em;\n",
       "    border: 2px solid #888888;\n",
       "    width: fit-content;\n",
       "    display: flex;\n",
       "    flex-flow: column nowrap;\n",
       "    direction: rtl;\n",
       "    background-color: #ffffff;\n",
       "}\n",
       ".occs {\n",
       "    font-size: x-small;\n",
       "}\n",
       ".satom.l,.catom.l,.patom.l {\n",
       "    border-left-style: dotted\n",
       "}\n",
       ".satom.r,.catom.r,.patom.r {\n",
       "    border-right-style: dotted\n",
       "}\n",
       ".satom.L,.catom.L,.patom.L {\n",
       "    border-left-style: none\n",
       "}\n",
       ".satom.R,.catom.R,.patom.R {\n",
       "    border-right-style: none\n",
       "}\n",
       ".tr,.tr a:visited,.tr a:link {\n",
       "    font-family: sans-serif;\n",
       "    font-size: large;\n",
       "    color: #000044;\n",
       "    direction: ltr;\n",
       "    text-decoration: none;\n",
       "}\n",
       ".trb,.trb a:visited,.trb a:link {\n",
       "    font-family: sans-serif;\n",
       "    font-size: normal;\n",
       "    direction: ltr;\n",
       "    text-decoration: none;\n",
       "}\n",
       ".prb,.prb a:visited,.prb a:link {\n",
       "    font-family: sans-serif;\n",
       "    font-size: large;\n",
       "    direction: ltr;\n",
       "    text-decoration: none;\n",
       "}\n",
       ".h,.h a:visited,.h a:link {\n",
       "    font-family: \"Ezra SIL\", \"SBL Hebrew\", sans-serif;\n",
       "    font-size: large;\n",
       "    color: #000044;\n",
       "    direction: rtl;\n",
       "    text-decoration: none;\n",
       "}\n",
       ".hb,.hb a:visited,.hb a:link {\n",
       "    font-family: \"Ezra SIL\", \"SBL Hebrew\", sans-serif;\n",
       "    font-size: large;\n",
       "    line-height: 1.8;\n",
       "    direction: rtl;\n",
       "    text-decoration: none;\n",
       "}\n",
       ".vn {\n",
       "  font-size: small !important;\n",
       "  padding-right: 1em;\n",
       "}\n",
       ".rela,.function,.typ {\n",
       "    font-family: monospace;\n",
       "    font-size: small;\n",
       "    color: #0000bb;\n",
       "}\n",
       ".pdp,.pdp a:visited,.pdp a:link {\n",
       "    font-family: monospace;\n",
       "    font-size: medium;\n",
       "    color: #0000bb;\n",
       "    text-decoration: none;\n",
       "}\n",
       ".voc_lex {\n",
       "    font-family: monospace;\n",
       "    font-size: medium;\n",
       "    color: #0000bb;\n",
       "}\n",
       ".vs {\n",
       "    font-family: monospace;\n",
       "    font-size: medium;\n",
       "    font-weight: bold;\n",
       "    color: #0000bb;\n",
       "}\n",
       ".vt {\n",
       "    font-family: monospace;\n",
       "    font-size: medium;\n",
       "    font-weight: bold;\n",
       "    color: #0000bb;\n",
       "}\n",
       ".gloss {\n",
       "    font-family: sans-serif;\n",
       "    font-size: small;\n",
       "    font-weight: normal;\n",
       "    color: #444444;\n",
       "}\n",
       ".vrs {\n",
       "    font-family: sans-serif;\n",
       "    font-size: small;\n",
       "    font-weight: bold;\n",
       "    color: #444444;\n",
       "}\n",
       ".nd {\n",
       "    font-family: monospace;\n",
       "    font-size: x-small;\n",
       "    color: #999999;\n",
       "}\n",
       ".features {\n",
       "    font-family: monospace;\n",
       "    font-size: medium;\n",
       "    font-weight: bold;\n",
       "    color: #0a6611;\n",
       "    display: flex;\n",
       "    flex-flow: column nowrap;\n",
       "    padding: 0.1em;\n",
       "    margin: 0.1em;\n",
       "    direction: ltr;\n",
       "}\n",
       ".features .f {\n",
       "    font-family: sans-serif;\n",
       "    font-size: x-small;\n",
       "    font-weight: normal;\n",
       "    color: #5555bb;\n",
       "}\n",
       ".word .features div,.word .features span {\n",
       "    padding: 0;\n",
       "    margin: -0.1rem 0;\n",
       "}\n",
       "\n",
       ".hl {\n",
       "    background-color: #ffee66;\n",
       "}\n",
       "</style>\n"
      ],
      "text/plain": [
       "<IPython.core.display.HTML object>"
      ]
     },
     "metadata": {},
     "output_type": "display_data"
    },
    {
     "name": "stdout",
     "output_type": "stream",
     "text": [
      "running version c of BHSA...\n"
     ]
    }
   ],
   "source": [
    "A = Bhsa(hoist=globals(), silent=True)\n",
    "print(f'running version {A.version} of BHSA...')"
   ]
  },
  {
   "cell_type": "markdown",
   "metadata": {},
   "source": [
    "# Defining Heads\n",
    "\n",
    "The basic definition of a phrase head from the previous version is carried over here, which is:\n",
    "> the word with a part of speech after which a phrase type is named\n",
    "\n",
    "As applied in the previous effort, this includes a secondary criterion:\n",
    "> the word which semantically determines grammatical agreement\n",
    "\n",
    "This latter case thus excludes quantifiers such as כל and cardinal numbers that are in construct or attribution to a given word.\n",
    "\n",
    "From the point of view of the ETCBC database, heads can be extracted using the `subphrase` object and its relations. These relations are not always coded in a transparent or beneficial way. But they are at least useful enough to disambiguate independent words from dependent words. From the ETCBC database perspective, we add a third criterion:\n",
    "> a word contained in an independent subphrase or a subphrase only dependent upon a quantifier\n",
    "\n",
    "\n",
    "## Tracking Head Selection\n",
    "\n",
    "Using the guiding principles listed above, we will follow a process of deduction for assigning heads to phrases. We select all phrases to track which heads are accounted for."
   ]
  },
  {
   "cell_type": "code",
   "execution_count": 3,
   "metadata": {},
   "outputs": [
    {
     "name": "stdout",
     "output_type": "stream",
     "text": [
      "  0.08s 253207 results\n"
     ]
    }
   ],
   "source": [
    "remaining_phrases = set(result[0] for result in A.search('phrase'))\n",
    "covered_phrases = set()\n",
    "remaining_types = list(feat[0] for feat in F.typ.freqList(nodeTypes='phrase'))"
   ]
  },
  {
   "cell_type": "code",
   "execution_count": 4,
   "metadata": {},
   "outputs": [],
   "source": [
    "phrase2heads = collections.defaultdict(set)"
   ]
  },
  {
   "cell_type": "code",
   "execution_count": 5,
   "metadata": {},
   "outputs": [],
   "source": [
    "def record_head(phrase, head, mapping=phrase2heads, remaining=remaining_phrases, covered=covered_phrases):\n",
    "    '''\n",
    "    Simple function to track phrases\n",
    "    with heads that are accounted for\n",
    "    and to modify the phrase2heads\n",
    "    dict, which is a mapping from a phrase\n",
    "    node to its head nodes.\n",
    "    '''\n",
    "    # try/except accounts for phrases with plural heads, \n",
    "    # one of which is already recorded\n",
    "    try:\n",
    "          remaining.remove(phrase)\n",
    "    except: \n",
    "        pass\n",
    "    \n",
    "    mapping[phrase].add(head) # record it\n",
    "    covered.add(phrase)"
   ]
  },
  {
   "cell_type": "markdown",
   "metadata": {},
   "source": [
    "## Simple Heads\n",
    "\n",
    "The selection of heads for certain phrase types is very straightforward. Those are defined in the templates below and are subsequently applied. These phrase types are selected based on the survey of their subphrase relations as found in the old notebook."
   ]
  },
  {
   "cell_type": "code",
   "execution_count": 6,
   "metadata": {},
   "outputs": [],
   "source": [
    "simp_heads = dict(\n",
    "\n",
    "PPrP = '''\n",
    "% personal pronoun\n",
    "\n",
    "phrase typ=PPrP\n",
    "    word pdp=prps\n",
    "\n",
    "''',\n",
    "\n",
    "DPrP = '''\n",
    "% demonstrative pronoun\n",
    "\n",
    "phrase typ=DPrP\n",
    "    word pdp=prde\n",
    "\n",
    "''',\n",
    "\n",
    "InjP = '''\n",
    "% interjectional\n",
    "\n",
    "phrase typ=InjP\n",
    "    word pdp=intj\n",
    "\n",
    "''',\n",
    "\n",
    "NegP = '''\n",
    "% negative\n",
    "\n",
    "phrase typ=NegP\n",
    "    word pdp=nega\n",
    "\n",
    "''',\n",
    "\n",
    "InrP = '''\n",
    "% interrogative\n",
    "\n",
    "phrase typ=InrP\n",
    "    word pdp=inrg\n",
    "\n",
    "''',\n",
    "    \n",
    "IPrP = '''\n",
    "% interrogative pronoun\n",
    "\n",
    "phrase typ=IPrP\n",
    "    word pdp=prin\n",
    "\n",
    "''',\n",
    "\n",
    ") # end of dictionary"
   ]
  },
  {
   "cell_type": "markdown",
   "metadata": {},
   "source": [
    "### Make Queries, Record Heads, See What Remains\n",
    "\n",
    "Here we run the queries and run `record_head` over each result. In all of the templates the head is the second item in the result tuple."
   ]
  },
  {
   "cell_type": "code",
   "execution_count": 7,
   "metadata": {},
   "outputs": [
    {
     "name": "stdout",
     "output_type": "stream",
     "text": [
      "running query on PPrP\n",
      "\t4392 results found\n",
      "running query on DPrP\n",
      "\t791 results found\n",
      "running query on InjP\n",
      "\t1883 results found\n",
      "running query on NegP\n",
      "\t6742 results found\n",
      "running query on InrP\n",
      "\t1291 results found\n",
      "running query on IPrP\n",
      "\t798 results found\n",
      "\n",
      " <><><><><><><><><><><><><><><><><><><><> \n",
      "\n",
      "15866 phrases matched with a head...\n",
      "237341 phrases remaining...\n"
     ]
    }
   ],
   "source": [
    "def query_heads(querydict, headi=1):\n",
    "    '''\n",
    "    Runs queries on phrasetype/query dict.\n",
    "    Reports results.\n",
    "    Adds results.\n",
    "    '''\n",
    "    for phrasetype, query in querydict.items():\n",
    "        print(f'running query on {phrasetype}')\n",
    "        results = A.search(query, silent=True)\n",
    "        print(f'\\t{len(results)} results found')\n",
    "        for res in results:\n",
    "            phrase, head = res[0], res[headi]\n",
    "            record_head(phrase, head)\n",
    "            \n",
    "def heads_status():\n",
    "    # simply prints accounted vs unaccounted heads\n",
    "    print(f'{len(covered_phrases)} phrases matched with a head...')\n",
    "    print(f'{len(remaining_phrases)} phrases remaining...')\n",
    "            \n",
    "query_heads(simp_heads)\n",
    "        \n",
    "print('\\n', '<>'*20, '\\n')\n",
    "heads_status()"
   ]
  },
  {
   "cell_type": "markdown",
   "metadata": {},
   "source": [
    "### Find Remaining Phrases\n",
    "\n",
    "What phrases with the above types remain unaccounted for?"
   ]
  },
  {
   "cell_type": "code",
   "execution_count": 8,
   "metadata": {},
   "outputs": [
    {
     "data": {
      "text/plain": [
       "0"
      ]
     },
     "execution_count": 8,
     "metadata": {},
     "output_type": "execute_result"
    }
   ],
   "source": [
    "unaccounted_simp = set(phrase for phrase in remaining_phrases\n",
    "                          if F.typ.v(phrase) in simp_heads)\n",
    "len(unaccounted_simp)"
   ]
  },
  {
   "cell_type": "code",
   "execution_count": 9,
   "metadata": {},
   "outputs": [
    {
     "name": "stdout",
     "output_type": "stream",
     "text": [
      "['VP', 'PP', 'CP', 'NP', 'PrNP', 'AdvP', 'AdjP']\n"
     ]
    }
   ],
   "source": [
    "for typ in simp_heads:\n",
    "    remaining_types.remove(typ)\n",
    "print(remaining_types)"
   ]
  },
  {
   "cell_type": "markdown",
   "metadata": {},
   "source": [
    "## Mostly Simple Heads\n",
    "\n",
    "The next set of heads require a bit more care since they can contain a bigger variety of relationships."
   ]
  },
  {
   "cell_type": "markdown",
   "metadata": {},
   "source": [
    "### VP\n",
    "There is only one complication for the VP: that is that there is one VP that has more than one verb:"
   ]
  },
  {
   "cell_type": "code",
   "execution_count": 10,
   "metadata": {},
   "outputs": [
    {
     "name": "stdout",
     "output_type": "stream",
     "text": [
      "  1.28s 1 result\n"
     ]
    },
    {
     "data": {
      "text/markdown": [
       "\n",
       "\n",
       "**clause** *1*\n",
       "\n"
      ],
      "text/plain": [
       "<IPython.core.display.Markdown object>"
      ]
     },
     "metadata": {},
     "output_type": "display_data"
    },
    {
     "data": {
      "text/html": [
       "<div class=\"atoms \" style=\"background-color: None;\">\n",
       "<a href=\"#\" class=\"nd\">511867</a>\n",
       "\n",
       "\n",
       "\n",
       "<div class=\"catom \" style=\"background-color: None;\">\n",
       "\n",
       "    <div class=\"clause\">\n",
       "        <a href=\"https://shebanq.ancient-data.org/hebrew/text?book=Chronica_I&chapter=24&verse=6&version=c&mr=m&qw=q&tp=txt_p&tr=hb&wget=v&qget=v&nget=vt\" title=\"1_Chronicles 24:6\" sec=\"1_Chronicles 24:6\">clause</a> <a href=\"#\" class=\"nd\">511867</a>  <span class=\"typ\">Ptcp</span>\n",
       "    </div>\n",
       "    <div class=\"atoms\">\n",
       "\n",
       "<div class=\"patom \" style=\"background-color: None;\">\n",
       "\n",
       "    <div class=\"phrase\">\n",
       "        <a href=\"https://shebanq.ancient-data.org/hebrew/text?book=Chronica_I&chapter=24&verse=6&version=c&mr=m&qw=q&tp=txt_p&tr=hb&wget=v&qget=v&nget=vt\" title=\"1_Chronicles 24:6\" sec=\"1_Chronicles 24:6\">phrase</a> <a href=\"#\" class=\"nd\">893309</a>  <span class=\"function\">Conj</span> <span class=\"typ\">CP</span>\n",
       "    </div>\n",
       "    <div class=\"atoms\">\n",
       "\n",
       "<div class=\"word \" style=\"background-color: None;\">\n",
       "<a href=\"#\" class=\"nd\">403601</a>\n",
       "<div class=\"h\"><a target=\"_blank\" href=\"https://shebanq.ancient-data.org/hebrew/word?version=c&id=1W\" title=\"show this lexeme in SHEBANQ\">וְ</a></div>\n",
       "<div class=\"features\"> <span class=\"pdp\"><a href=\"https://shebanq.ancient-data.org/hebrew/text?book=Chronica_I&chapter=24&verse=6&version=c&mr=m&qw=q&tp=txt_p&tr=hb&wget=v&qget=v&nget=vt\" title=\"1_Chronicles 24:6\" sec=\"1_Chronicles 24:6\">conj</a></span> <span class=\"gloss\">and</span></div>\n",
       "\n",
       "\n",
       "</div>\n",
       "\n",
       "\n",
       "    </div>\n",
       "\n",
       "\n",
       "</div>\n",
       "\n",
       "<div class=\"patom  hl\">\n",
       "\n",
       "    <div class=\"phrase hl\">\n",
       "        <a href=\"https://shebanq.ancient-data.org/hebrew/text?book=Chronica_I&chapter=24&verse=6&version=c&mr=m&qw=q&tp=txt_p&tr=hb&wget=v&qget=v&nget=vt\" title=\"1_Chronicles 24:6\" sec=\"1_Chronicles 24:6\">phrase</a> <a href=\"#\" class=\"nd\">893310</a>  <span class=\"function\">PreC</span> <span class=\"typ\">VP</span>\n",
       "    </div>\n",
       "    <div class=\"atoms\">\n",
       "\n",
       "<div class=\"word \" style=\"background-color: None;\">\n",
       "<a href=\"#\" class=\"nd\">403602</a>\n",
       "<div class=\"h\"><a target=\"_blank\" href=\"https://shebanq.ancient-data.org/hebrew/word?version=c&id=1AXZv\" title=\"show this lexeme in SHEBANQ\">אָחֻ֥ז׀ </a></div>\n",
       "<div class=\"features\"> <span class=\"pdp\"><a href=\"https://shebanq.ancient-data.org/hebrew/text?book=Chronica_I&chapter=24&verse=6&version=c&mr=m&qw=q&tp=txt_p&tr=hb&wget=v&qget=v&nget=vt\" title=\"1_Chronicles 24:6\" sec=\"1_Chronicles 24:6\">verb</a></span> <span class=\"gloss\">seize</span> <span class=\"vs\">qal</span> <span class=\"vt\">ptcp</span></div>\n",
       "\n",
       "\n",
       "</div>\n",
       "\n",
       "<div class=\"word \" style=\"background-color: None;\">\n",
       "<a href=\"#\" class=\"nd\">403603</a>\n",
       "<div class=\"h\"><a target=\"_blank\" href=\"https://shebanq.ancient-data.org/hebrew/word?version=c&id=1AXZv\" title=\"show this lexeme in SHEBANQ\">אָחֻ֖ז </a></div>\n",
       "<div class=\"features\"> <span class=\"pdp\"><a href=\"https://shebanq.ancient-data.org/hebrew/text?book=Chronica_I&chapter=24&verse=6&version=c&mr=m&qw=q&tp=txt_p&tr=hb&wget=v&qget=v&nget=vt\" title=\"1_Chronicles 24:6\" sec=\"1_Chronicles 24:6\">verb</a></span> <span class=\"gloss\">seize</span> <span class=\"vs\">qal</span> <span class=\"vt\">ptcp</span></div>\n",
       "\n",
       "\n",
       "</div>\n",
       "\n",
       "\n",
       "    </div>\n",
       "\n",
       "\n",
       "</div>\n",
       "\n",
       "<div class=\"patom \" style=\"background-color: None;\">\n",
       "\n",
       "    <div class=\"phrase\">\n",
       "        <a href=\"https://shebanq.ancient-data.org/hebrew/text?book=Chronica_I&chapter=24&verse=6&version=c&mr=m&qw=q&tp=txt_p&tr=hb&wget=v&qget=v&nget=vt\" title=\"1_Chronicles 24:6\" sec=\"1_Chronicles 24:6\">phrase</a> <a href=\"#\" class=\"nd\">893311</a>  <span class=\"function\">Adju</span> <span class=\"typ\">PP</span>\n",
       "    </div>\n",
       "    <div class=\"atoms\">\n",
       "\n",
       "<div class=\"word \" style=\"background-color: None;\">\n",
       "<a href=\"#\" class=\"nd\">403604</a>\n",
       "<div class=\"h\"><a target=\"_blank\" href=\"https://shebanq.ancient-data.org/hebrew/word?version=c&id=1L\" title=\"show this lexeme in SHEBANQ\">לְ</a></div>\n",
       "<div class=\"features\"> <span class=\"pdp\"><a href=\"https://shebanq.ancient-data.org/hebrew/text?book=Chronica_I&chapter=24&verse=6&version=c&mr=m&qw=q&tp=txt_p&tr=hb&wget=v&qget=v&nget=vt\" title=\"1_Chronicles 24:6\" sec=\"1_Chronicles 24:6\">prep</a></span> <span class=\"gloss\">to</span></div>\n",
       "\n",
       "\n",
       "</div>\n",
       "\n",
       "<div class=\"word \" style=\"background-color: None;\">\n",
       "<a href=\"#\" class=\"nd\">403605</a>\n",
       "<div class=\"h\"><a target=\"_blank\" href=\"https://shebanq.ancient-data.org/hebrew/word?version=c&id=1AJTMRn\" title=\"show this lexeme in SHEBANQ\">אִיתָמָֽר׃ פ </a></div>\n",
       "<div class=\"features\"> <span class=\"pdp\"><a href=\"https://shebanq.ancient-data.org/hebrew/text?book=Chronica_I&chapter=24&verse=6&version=c&mr=m&qw=q&tp=txt_p&tr=hb&wget=v&qget=v&nget=vt\" title=\"1_Chronicles 24:6\" sec=\"1_Chronicles 24:6\">nmpr</a></span> <span class=\"gloss\">Ithamar</span></div>\n",
       "\n",
       "\n",
       "</div>\n",
       "\n",
       "\n",
       "    </div>\n",
       "\n",
       "\n",
       "</div>\n",
       "\n",
       "\n",
       "    </div>\n",
       "\n",
       "\n",
       "</div>\n",
       "\n",
       "\n",
       "</div>\n"
      ],
      "text/plain": [
       "<IPython.core.display.HTML object>"
      ]
     },
     "metadata": {},
     "output_type": "display_data"
    }
   ],
   "source": [
    "mult_verbs = A.search('''\n",
    "\n",
    "phrase typ=VP\n",
    "/with/\n",
    "    word pdp=verb\n",
    "    < word pdp=verb\n",
    "/-/\n",
    "''')\n",
    "A.show(mult_verbs, condenseType='clause', withNodes=True)"
   ]
  },
  {
   "cell_type": "markdown",
   "metadata": {},
   "source": [
    "The template below excludes this case without ignoring VP's that do not necessarily begin with a verb."
   ]
  },
  {
   "cell_type": "code",
   "execution_count": 11,
   "metadata": {},
   "outputs": [
    {
     "name": "stdout",
     "output_type": "stream",
     "text": [
      "  1.55s 69024 results\n",
      "84890 phrases matched with a head...\n",
      "168317 phrases remaining...\n"
     ]
    }
   ],
   "source": [
    "VP = '''\n",
    "\n",
    "phrase typ=VP\n",
    "    \n",
    "    head:word pdp=verb\n",
    "    \n",
    "    /without/\n",
    "    phrase\n",
    "        word pdp=verb\n",
    "        < head\n",
    "    /-/\n",
    "\n",
    "'''\n",
    "\n",
    "VP_search = A.search(VP)\n",
    "\n",
    "for phrase, head in VP_search:\n",
    "    record_head(phrase, head)\n",
    "    \n",
    "heads_status()"
   ]
  },
  {
   "cell_type": "markdown",
   "metadata": {},
   "source": [
    "### VP Sanity Check\n",
    "\n",
    "We double check that the indicated phrase above only has one head."
   ]
  },
  {
   "cell_type": "code",
   "execution_count": 12,
   "metadata": {},
   "outputs": [
    {
     "data": {
      "text/plain": [
       "{403602}"
      ]
     },
     "execution_count": 12,
     "metadata": {},
     "output_type": "execute_result"
    }
   ],
   "source": [
    "phrase2heads[893310]"
   ]
  },
  {
   "cell_type": "markdown",
   "metadata": {},
   "source": [
    "See what's left..."
   ]
  },
  {
   "cell_type": "code",
   "execution_count": 13,
   "metadata": {},
   "outputs": [
    {
     "data": {
      "text/plain": [
       "0"
      ]
     },
     "execution_count": 13,
     "metadata": {},
     "output_type": "execute_result"
    }
   ],
   "source": [
    "unaccounted_vp = set(phrase for phrase in remaining_phrases\n",
    "                          if F.typ.v(phrase) == 'VP')\n",
    "len(unaccounted_vp)"
   ]
  },
  {
   "cell_type": "code",
   "execution_count": 14,
   "metadata": {},
   "outputs": [
    {
     "name": "stdout",
     "output_type": "stream",
     "text": [
      "['PP', 'CP', 'NP', 'PrNP', 'AdvP', 'AdjP']\n"
     ]
    }
   ],
   "source": [
    "remaining_types.remove('VP')\n",
    "print(remaining_types)"
   ]
  },
  {
   "cell_type": "markdown",
   "metadata": {},
   "source": [
    "### CP\n",
    "\n",
    "The conjunction phrase is relatively straightforward. But there are 1140 cases where the conjunction is technically headed by a preposition in the ETCBC data. These are phrases such as בטרם and בעבור (see the more detailed analysis in the prev. notebook). It is not clear at all why the ETCBC encodes these as conjunction phrases. This is almost certainly a confusion of the formal `typ` value and the functional `function` label (with a value of `Conj`). Nevertheless, here we make a choice to select the preposition as the true head.\n",
    "\n",
    "In a BHSA2, these cases ought to be repaired."
   ]
  },
  {
   "cell_type": "code",
   "execution_count": 15,
   "metadata": {},
   "outputs": [],
   "source": [
    "cp_heads = dict(\n",
    "\n",
    "conj = '''\n",
    "\n",
    "phrase typ=CP\n",
    "/without/\n",
    "    word pdp=prep\n",
    "/-/\n",
    "    word pdp=conj\n",
    "\n",
    "''',\n",
    "    \n",
    "prep_conj = '''\n",
    "\n",
    "phrase typ=CP\n",
    "    =: word pdp=prep\n",
    "\n",
    "'''\n",
    "\n",
    ")\n",
    "\n"
   ]
  },
  {
   "cell_type": "code",
   "execution_count": 16,
   "metadata": {},
   "outputs": [
    {
     "name": "stdout",
     "output_type": "stream",
     "text": [
      "running query on conj\n",
      "\t51485 results found\n",
      "running query on prep_conj\n",
      "\t1140 results found\n",
      "\n",
      " <><><><><><><><><><><><><><><><><><><><> \n",
      "\n",
      "137371 phrases matched with a head...\n",
      "115836 phrases remaining...\n"
     ]
    }
   ],
   "source": [
    "query_heads(cp_heads)\n",
    "        \n",
    "print('\\n', '<>'*20, '\\n')\n",
    "heads_status()"
   ]
  },
  {
   "cell_type": "markdown",
   "metadata": {},
   "source": [
    "### CP Sanity Check"
   ]
  },
  {
   "cell_type": "code",
   "execution_count": 17,
   "metadata": {},
   "outputs": [
    {
     "data": {
      "text/plain": [
       "0"
      ]
     },
     "execution_count": 17,
     "metadata": {},
     "output_type": "execute_result"
    }
   ],
   "source": [
    "unaccounted_cp = set(phrase for phrase in remaining_phrases\n",
    "                          if F.typ.v(phrase) == 'CP')\n",
    "len(unaccounted_cp)"
   ]
  },
  {
   "cell_type": "code",
   "execution_count": 18,
   "metadata": {},
   "outputs": [
    {
     "name": "stdout",
     "output_type": "stream",
     "text": [
      "['PP', 'NP', 'PrNP', 'AdvP', 'AdjP']\n"
     ]
    }
   ],
   "source": [
    "remaining_types.remove('CP')\n",
    "print(remaining_types)"
   ]
  },
  {
   "cell_type": "markdown",
   "metadata": {},
   "source": [
    "### AdjP\n",
    "\n",
    "The adjective phrase always occurs with a word that has a `pdp` of adjective: "
   ]
  },
  {
   "cell_type": "code",
   "execution_count": 19,
   "metadata": {},
   "outputs": [
    {
     "name": "stdout",
     "output_type": "stream",
     "text": [
      "  0.64s 0 results\n"
     ]
    },
    {
     "data": {
      "text/plain": [
       "[]"
      ]
     },
     "execution_count": 19,
     "metadata": {},
     "output_type": "execute_result"
    }
   ],
   "source": [
    "A.search('''\n",
    "\n",
    "phrase typ=AdjP\n",
    "/without/\n",
    "    word pdp=adjv\n",
    "/-/\n",
    "\n",
    "''')"
   ]
  },
  {
   "cell_type": "markdown",
   "metadata": {},
   "source": [
    "By playing with the `head:word pdp=` value below, I ascertain that there are 8 uses of `subs` as a head in this phrase type, and 1 use of `advb` as a head. These variants are due to the phrase containing multiple heads, with the first having a `pdp` of `adjv`, formally making the phrase an `AdjP`. \n",
    "\n",
    "The selection criteria is as follows. We want all cases in an adjective phrase where the word has a `pdp` of `adjv`, `subs`, or `advb`. The head candidate must not be found in a modifying subphrase, defined as `rela=adj|atr|rec|mod|dem` (remember that a word can often occur in multiple subphrases); and the only acceptable values for phrase_atom and subphrase relations are either `NA` (no relation), or `Para`/`par` (coordinate relation). In this latter case, it is expected here that the first requirement will prevent spurious parallel results (that is, words that are parallel not to a head but to a modiying element).\n",
    "\n",
    "The requirements are set in the pattern below."
   ]
  },
  {
   "cell_type": "code",
   "execution_count": 20,
   "metadata": {},
   "outputs": [
    {
     "name": "stdout",
     "output_type": "stream",
     "text": [
      "  1.08s 1875 results\n",
      "139120 phrases matched with a head...\n",
      "114087 phrases remaining...\n"
     ]
    }
   ],
   "source": [
    "AdjP = '''\n",
    "\n",
    "phrase typ=AdjP\n",
    "    phrase_atom rela=NA|Para\n",
    "        head:word pdp=adjv|subs|advb\n",
    "        \n",
    "% require either NA subphrase relation\n",
    "% or no subphrase embedding:\n",
    "        /with/\n",
    "        subphrase rela=NA|par\n",
    "            head\n",
    "        /or/\n",
    "        /without/\n",
    "        subphrase\n",
    "            head\n",
    "        /-/\n",
    "        /-/\n",
    "        \n",
    "% exclude uses as modifier:\n",
    "        /without/\n",
    "        subphrase rela=adj|atr|rec|mod|dem\n",
    "            head\n",
    "        /-/\n",
    "'''\n",
    "AdjP = A.search(AdjP)\n",
    "\n",
    "for res in AdjP:\n",
    "    phrase, head = res[0], res[2]\n",
    "    record_head(phrase, head)\n",
    "    \n",
    "heads_status()"
   ]
  },
  {
   "cell_type": "code",
   "execution_count": 21,
   "metadata": {},
   "outputs": [
    {
     "data": {
      "text/plain": [
       "0"
      ]
     },
     "execution_count": 21,
     "metadata": {},
     "output_type": "execute_result"
    }
   ],
   "source": [
    "unaccounted_AdjP = set(phrase for phrase in remaining_phrases\n",
    "                          if F.typ.v(phrase) == 'AdjP')\n",
    "len(unaccounted_AdjP)"
   ]
  },
  {
   "cell_type": "code",
   "execution_count": 22,
   "metadata": {},
   "outputs": [
    {
     "name": "stdout",
     "output_type": "stream",
     "text": [
      "['PP', 'NP', 'PrNP', 'AdvP']\n"
     ]
    }
   ],
   "source": [
    "remaining_types.remove('AdjP')\n",
    "print(remaining_types)"
   ]
  },
  {
   "cell_type": "markdown",
   "metadata": {},
   "source": [
    "### AdvP\n",
    "\n",
    "The adverb phrase has similar internal relations to AdjP. Thus, we apply the same basic template search.\n",
    "\n",
    "By modifying `pdp=` parameter, I have found 2 examples of a preposition in the AdvP, which is caused by a prepositional phrase_atom coordinated with the `AdvP` phrase atom. These mixed cases must be dealt with imperfectly by taking the preposition head literally. It is then up to the user of the heads feature to include/exclude cases such as these, or to depend on the phrase_atoms.\n",
    "\n",
    "There are two cases where an `inrg` serves as a head element. These are incorrect encodings, as they belong under their own phrase type of `InrP`. These should be fixed in BHSA2. For now the `inrg` is excluded as a phrase head as they are followed by a `advb` which is probably triggering these phrases' classification."
   ]
  },
  {
   "cell_type": "code",
   "execution_count": 23,
   "metadata": {},
   "outputs": [
    {
     "name": "stdout",
     "output_type": "stream",
     "text": [
      "  1.50s 5778 results\n",
      "144779 phrases matched with a head...\n",
      "108428 phrases remaining...\n"
     ]
    }
   ],
   "source": [
    "AdvP = '''\n",
    "\n",
    "phrase typ=AdvP\n",
    "    phrase_atom rela=NA|Para\n",
    "        head:word pdp=advb|subs|nmpr|prep\n",
    "        \n",
    "% require either NA subphrase relation\n",
    "% or no subphrase embedding:\n",
    "        /with/\n",
    "        subphrase rela=NA|par\n",
    "            head\n",
    "        /or/\n",
    "        /without/\n",
    "        subphrase\n",
    "            head\n",
    "        /-/\n",
    "        /-/\n",
    "        \n",
    "% exclude uses as modifier:\n",
    "        /without/\n",
    "        subphrase rela=adj|atr|rec|mod|dem\n",
    "            head\n",
    "        /-/\n",
    "'''\n",
    "AdvP = A.search(AdvP)\n",
    "\n",
    "for res in AdvP:\n",
    "    phrase, head = res[0], res[2]\n",
    "    record_head(phrase, head)\n",
    "    \n",
    "heads_status()"
   ]
  },
  {
   "cell_type": "code",
   "execution_count": 24,
   "metadata": {},
   "outputs": [
    {
     "data": {
      "text/plain": [
       "0"
      ]
     },
     "execution_count": 24,
     "metadata": {},
     "output_type": "execute_result"
    }
   ],
   "source": [
    "unaccounted_AdvP = set(phrase for phrase in remaining_phrases\n",
    "                          if F.typ.v(phrase) == 'AdvP')\n",
    "len(unaccounted_AdvP)"
   ]
  },
  {
   "cell_type": "code",
   "execution_count": 25,
   "metadata": {},
   "outputs": [
    {
     "name": "stdout",
     "output_type": "stream",
     "text": [
      "['PP', 'NP', 'PrNP']\n"
     ]
    }
   ],
   "source": [
    "remaining_types.remove('AdvP')\n",
    "print(remaining_types)"
   ]
  },
  {
   "cell_type": "markdown",
   "metadata": {},
   "source": [
    "### PP\n",
    "\n",
    "The same method used above applies to prepositional phrases."
   ]
  },
  {
   "cell_type": "code",
   "execution_count": 26,
   "metadata": {},
   "outputs": [
    {
     "name": "stdout",
     "output_type": "stream",
     "text": [
      "  1.07s 62335 results\n",
      "202261 phrases matched with a head...\n",
      "50946 phrases remaining...\n"
     ]
    }
   ],
   "source": [
    "PP = '''\n",
    "\n",
    "phrase typ=PP\n",
    "    phrase_atom rela=NA|Para\n",
    "        head:word pdp=prep\n",
    "        \n",
    "% require either NA subphrase relation\n",
    "% or no subphrase embedding:\n",
    "        /with/\n",
    "        subphrase rela=NA|par\n",
    "            head\n",
    "        /or/\n",
    "        /without/\n",
    "        subphrase\n",
    "            head\n",
    "        /-/\n",
    "        /-/\n",
    "        \n",
    "% exclude uses as modifier:\n",
    "        /without/\n",
    "        subphrase rela=adj|atr|rec|mod|dem\n",
    "            head\n",
    "        /-/\n",
    "'''\n",
    "PP = A.search(PP)\n",
    "\n",
    "for res in PP:\n",
    "    phrase, head = res[0], res[2]\n",
    "    record_head(phrase, head)\n",
    "    \n",
    "heads_status()"
   ]
  },
  {
   "cell_type": "code",
   "execution_count": 27,
   "metadata": {},
   "outputs": [
    {
     "data": {
      "text/plain": [
       "0"
      ]
     },
     "execution_count": 27,
     "metadata": {},
     "output_type": "execute_result"
    }
   ],
   "source": [
    "unaccounted_PP = set(phrase for phrase in remaining_phrases\n",
    "                          if F.typ.v(phrase) == 'PP')\n",
    "len(unaccounted_PP)"
   ]
  },
  {
   "cell_type": "code",
   "execution_count": 28,
   "metadata": {},
   "outputs": [
    {
     "name": "stdout",
     "output_type": "stream",
     "text": [
      "['NP', 'PrNP']\n"
     ]
    }
   ],
   "source": [
    "remaining_types.remove('PP')\n",
    "print(remaining_types)"
   ]
  },
  {
   "cell_type": "markdown",
   "metadata": {},
   "source": [
    "### NP and PrNP\n",
    "\n",
    "The noun phrase is the most complicated for head selection due to the presence of quantifers. "
   ]
  },
  {
   "cell_type": "code",
   "execution_count": 29,
   "metadata": {},
   "outputs": [],
   "source": [
    "custom_quants = {'KL/', 'M<V/', 'JTR/', # quantifier lexemes, others?\n",
    "                 'M<FR/', 'XYJ/'}\n",
    "quantlexs = '|'.join(custom_quants)"
   ]
  },
  {
   "cell_type": "code",
   "execution_count": 30,
   "metadata": {},
   "outputs": [
    {
     "name": "stdout",
     "output_type": "stream",
     "text": [
      "running query on NP_noqant\n",
      "\t51877 results found\n",
      "running query on NP_quant_alone\n",
      "\t1718 results found\n",
      "running query on NP_quantified\n",
      "\t4557 results found\n",
      "\n",
      " <><><><><><><><><><><><><><><><><><><><> \n",
      "\n",
      "253205 phrases matched with a head...\n",
      "2 phrases remaining...\n"
     ]
    }
   ],
   "source": [
    "NP_heads = dict(\n",
    "    \n",
    "NP_noqant = f'''\n",
    "\n",
    "phrase typ=NP|PrNP\n",
    "    phrase_atom rela=NA|Para\n",
    "        head:word pdp=subs|adjv|nmpr ls#card lex#{quantlexs}\n",
    "        \n",
    "% require either NA subphrase relation\n",
    "% or no subphrase embedding:\n",
    "        /with/\n",
    "        subphrase rela=NA|par\n",
    "            head\n",
    "        /or/\n",
    "        /without/\n",
    "        subphrase\n",
    "            head\n",
    "        /-/\n",
    "        /-/\n",
    "        \n",
    "% exclude uses as modifier:\n",
    "        /without/\n",
    "        subphrase rela=adj|atr|rec|mod|dem\n",
    "            head\n",
    "        /-/\n",
    "''',\n",
    "\n",
    "NP_quant_alone = f'''\n",
    "\n",
    "phrase typ=NP|PrNP\n",
    "    phrase_atom rela=NA|Para\n",
    "        quant:word pdp=subs|adjv|nmpr\n",
    "            \n",
    "% require quantification\n",
    "        /with/\n",
    "        ls=card\n",
    "        /or/\n",
    "        lex={quantlexs}\n",
    "        /-/\n",
    "        \n",
    "% quantifier does not precede a quantified element\n",
    "        /without/\n",
    "        phrase_atom\n",
    "            quant\n",
    "            < word pdp=subs|nmpr|verb|prde|prps lex#{quantlexs} ls#card\n",
    "        /-/\n",
    "\n",
    "% require either NA subphrase relation\n",
    "% or no subphrase embedding:\n",
    "        /with/\n",
    "        subphrase rela=NA|par\n",
    "            quant\n",
    "        /or/\n",
    "        /without/\n",
    "        subphrase\n",
    "            quant\n",
    "        /-/\n",
    "        /-/\n",
    "\n",
    "% exclude uses as modifier:\n",
    "        /without/\n",
    "        subphrase rela=adj|atr|rec|mod|dem\n",
    "            quant\n",
    "        /-/\n",
    "\n",
    "''',\n",
    "\n",
    "NP_quantified = f'''\n",
    "\n",
    "phrase typ=NP|PrNP\n",
    "    phrase_atom rela=NA|Para\n",
    "    \n",
    "% phrase atom must have quantifier as formal head:\n",
    "    /with/\n",
    "        quant:word pdp=subs|adjv|nmpr\n",
    "            \n",
    "% require quantification\n",
    "        /with/\n",
    "        ls=card\n",
    "        /or/\n",
    "        lex={quantlexs}\n",
    "        /-/\n",
    "        \n",
    "% quantifier precedes a quantified element\n",
    "        /with/\n",
    "        phrase_atom\n",
    "            quant\n",
    "            < word pdp=subs|nmpr|verb|prde|prps lex#{quantlexs} ls#card\n",
    "        /-/\n",
    "\n",
    "% require either NA subphrase relation\n",
    "% or no subphrase embedding:\n",
    "        /with/\n",
    "        subphrase rela=NA|par\n",
    "            quant\n",
    "        /or/\n",
    "        /without/\n",
    "        subphrase\n",
    "            quant\n",
    "        /-/\n",
    "        /-/\n",
    "\n",
    "% exclude uses as modifier:\n",
    "        /without/\n",
    "        subphrase rela=adj|atr|rec|mod|dem\n",
    "            quant\n",
    "        /-/\n",
    "    /-/\n",
    "    \n",
    "    head:word pdp#art|conj ls#card lex#{quantlexs}\n",
    "    \n",
    "% require head word to be adjacent to any quantifier in the phrase atom:\n",
    "    /with/\n",
    "    word        \n",
    "    /with/\n",
    "    ls=card\n",
    "    /or/\n",
    "    lex={quantlexs}\n",
    "    /-/\n",
    "    <1: head\n",
    "    /-/\n",
    "''')\n",
    "\n",
    "query_heads(NP_heads)\n",
    "print('\\n', '<>'*20, '\\n')\n",
    "heads_status()"
   ]
  },
  {
   "cell_type": "code",
   "execution_count": 32,
   "metadata": {},
   "outputs": [
    {
     "data": {
      "text/html": [
       "<div class=\"atoms \" style=\"background-color: None;\">\n",
       "\n",
       "\n",
       "\n",
       "<div class=\"patom \" style=\"background-color: None;\">\n",
       "\n",
       "    <div class=\"phrase\">\n",
       "        <a href=\"https://shebanq.ancient-data.org/hebrew/text?book=Psalmi&chapter=59&verse=4&version=c&mr=m&qw=q&tp=txt_p&tr=hb&wget=v&qget=v&nget=vt\" title=\"Psalms 59:4\" sec=\"Psalms 59:4\">phrase</a>   <span class=\"function\">Adju</span> <span class=\"typ\">NP</span>\n",
       "    </div>\n",
       "    <div class=\"atoms\">\n",
       "\n",
       "<div class=\"word \" style=\"background-color: None;\">\n",
       "<div class=\"h\"><a target=\"_blank\" href=\"https://shebanq.ancient-data.org/hebrew/word?version=c&id=1LA\" title=\"show this lexeme in SHEBANQ\">לֹא־</a></div>\n",
       "<div class=\"features\"> <span class=\"pdp\"><a href=\"https://shebanq.ancient-data.org/hebrew/text?book=Psalmi&chapter=59&verse=4&version=c&mr=m&qw=q&tp=txt_p&tr=hb&wget=v&qget=v&nget=vt\" title=\"Psalms 59:4\" sec=\"Psalms 59:4\">nega</a></span> <span class=\"gloss\">not</span></div>\n",
       "\n",
       "\n",
       "</div>\n",
       "\n",
       "<div class=\"word \" style=\"background-color: None;\">\n",
       "<div class=\"h\"><a target=\"_blank\" href=\"https://shebanq.ancient-data.org/hebrew/word?version=c&id=1PCOn\" title=\"show this lexeme in SHEBANQ\">פִשְׁעִ֖י </a></div>\n",
       "<div class=\"features\"> <span class=\"pdp\"><a href=\"https://shebanq.ancient-data.org/hebrew/text?book=Psalmi&chapter=59&verse=4&version=c&mr=m&qw=q&tp=txt_p&tr=hb&wget=v&qget=v&nget=vt\" title=\"Psalms 59:4\" sec=\"Psalms 59:4\">subs</a></span> <span class=\"gloss\">rebellion</span></div>\n",
       "\n",
       "\n",
       "</div>\n",
       "\n",
       "<div class=\"word \" style=\"background-color: None;\">\n",
       "<div class=\"h\"><a target=\"_blank\" href=\"https://shebanq.ancient-data.org/hebrew/word?version=c&id=1W\" title=\"show this lexeme in SHEBANQ\">וְ</a></div>\n",
       "<div class=\"features\"> <span class=\"pdp\"><a href=\"https://shebanq.ancient-data.org/hebrew/text?book=Psalmi&chapter=59&verse=4&version=c&mr=m&qw=q&tp=txt_p&tr=hb&wget=v&qget=v&nget=vt\" title=\"Psalms 59:4\" sec=\"Psalms 59:4\">conj</a></span> <span class=\"gloss\">and</span></div>\n",
       "\n",
       "\n",
       "</div>\n",
       "\n",
       "<div class=\"word \" style=\"background-color: None;\">\n",
       "<div class=\"h\"><a target=\"_blank\" href=\"https://shebanq.ancient-data.org/hebrew/word?version=c&id=1LA\" title=\"show this lexeme in SHEBANQ\">לֹא־</a></div>\n",
       "<div class=\"features\"> <span class=\"pdp\"><a href=\"https://shebanq.ancient-data.org/hebrew/text?book=Psalmi&chapter=59&verse=4&version=c&mr=m&qw=q&tp=txt_p&tr=hb&wget=v&qget=v&nget=vt\" title=\"Psalms 59:4\" sec=\"Psalms 59:4\">nega</a></span> <span class=\"gloss\">not</span></div>\n",
       "\n",
       "\n",
       "</div>\n",
       "\n",
       "<div class=\"word \" style=\"background-color: None;\">\n",
       "<div class=\"h\"><a target=\"_blank\" href=\"https://shebanq.ancient-data.org/hebrew/word?version=c&id=1XVATn\" title=\"show this lexeme in SHEBANQ\">חַטָּאתִ֣י </a></div>\n",
       "<div class=\"features\"> <span class=\"pdp\"><a href=\"https://shebanq.ancient-data.org/hebrew/text?book=Psalmi&chapter=59&verse=4&version=c&mr=m&qw=q&tp=txt_p&tr=hb&wget=v&qget=v&nget=vt\" title=\"Psalms 59:4\" sec=\"Psalms 59:4\">subs</a></span> <span class=\"gloss\">sin</span></div>\n",
       "\n",
       "\n",
       "</div>\n",
       "\n",
       "\n",
       "    </div>\n",
       "\n",
       "\n",
       "</div>\n",
       "\n",
       "\n",
       "</div>\n"
      ],
      "text/plain": [
       "<IPython.core.display.HTML object>"
      ]
     },
     "metadata": {},
     "output_type": "display_data"
    },
    {
     "data": {
      "text/html": [
       "<div class=\"atoms \" style=\"background-color: None;\">\n",
       "\n",
       "\n",
       "\n",
       "<div class=\"patom \" style=\"background-color: None;\">\n",
       "\n",
       "    <div class=\"phrase\">\n",
       "        <a href=\"https://shebanq.ancient-data.org/hebrew/text?book=Proverbia&chapter=23&verse=29&version=c&mr=m&qw=q&tp=txt_p&tr=hb&wget=v&qget=v&nget=vt\" title=\"Proverbs 23:29\" sec=\"Proverbs 23:29\">phrase</a>   <span class=\"function\">Subj</span> <span class=\"typ\">NP</span>\n",
       "    </div>\n",
       "    <div class=\"atoms\">\n",
       "\n",
       "<div class=\"word \" style=\"background-color: None;\">\n",
       "<div class=\"h\"><a target=\"_blank\" href=\"https://shebanq.ancient-data.org/hebrew/word?version=c&id=1AWJ\" title=\"show this lexeme in SHEBANQ\">אֹ֥וי </a></div>\n",
       "<div class=\"features\"> <span class=\"pdp\"><a href=\"https://shebanq.ancient-data.org/hebrew/text?book=Proverbia&chapter=23&verse=29&version=c&mr=m&qw=q&tp=txt_p&tr=hb&wget=v&qget=v&nget=vt\" title=\"Proverbs 23:29\" sec=\"Proverbs 23:29\">intj</a></span> <span class=\"gloss\">woe</span></div>\n",
       "\n",
       "\n",
       "</div>\n",
       "\n",
       "\n",
       "    </div>\n",
       "\n",
       "\n",
       "</div>\n",
       "\n",
       "\n",
       "</div>\n"
      ],
      "text/plain": [
       "<IPython.core.display.HTML object>"
      ]
     },
     "metadata": {},
     "output_type": "display_data"
    }
   ],
   "source": [
    "for phrase in remaining_phrases:\n",
    "    A.pretty(phrase)"
   ]
  }
 ],
 "metadata": {
  "kernelspec": {
   "display_name": "Python 3",
   "language": "python",
   "name": "python3"
  },
  "language_info": {
   "codemirror_mode": {
    "name": "ipython",
    "version": 3
   },
   "file_extension": ".py",
   "mimetype": "text/x-python",
   "name": "python",
   "nbconvert_exporter": "python",
   "pygments_lexer": "ipython3",
   "version": "3.7.0"
  }
 },
 "nbformat": 4,
 "nbformat_minor": 2
}
