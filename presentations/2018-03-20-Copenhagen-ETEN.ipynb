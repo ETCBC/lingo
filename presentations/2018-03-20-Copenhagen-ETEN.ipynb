{
 "cells": [
  {
   "cell_type": "markdown",
   "metadata": {
    "slideshow": {
     "slide_type": "slide"
    }
   },
   "source": [
    "<img src=\"images/etcbc.png\" align=\"left\"/>\n",
    "<img src=\"images/dans.png\" align=\"right\"/>\n",
    "\n",
    "<img src=\"images/tf.png\" width=\"50%\"/>\n",
    "\n",
    "# Handling Biblical data with IKEA logistics <a class=\"tocSkip\">\n",
    "\n",
    "Dirk Roorda - 2018-03-20 [ETEN Workshop](http://global-learning.org/course/view.php?id=16)"
   ]
  },
  {
   "cell_type": "markdown",
   "metadata": {
    "slideshow": {
     "slide_type": "slide"
    }
   },
   "source": [
    "# Biblical resources - peeling off the packaging"
   ]
  },
  {
   "cell_type": "markdown",
   "metadata": {
    "slideshow": {
     "slide_type": "subslide"
    }
   },
   "source": [
    "## The OSM source\n",
    "\n",
    "Have a look in the \n",
    "[Open Scriptures Morphology](https://github.com/openscriptures/morphhb/tree/master/wlc)\n",
    "source files: [Lam.xml](https://github.com/openscriptures/morphhb/blob/master/wlc/Lam.xml)\n",
    "\n",
    "```\n",
    " <div type=\"book\" osisID=\"Lam\">\n",
    "      <chapter osisID=\"Lam.1\">\n",
    "        <verse osisID=\"Lam.1.1\">\n",
    "          <w lemma=\"349 b\" n=\"1.1.1.0\" morph=\"HTi\">אֵיכָ֣ה</w>\n",
    "          <seg type=\"x-paseq\">׀</seg>\n",
    "          <w lemma=\"3427\" morph=\"HVqp3fs\">יָשְׁבָ֣ה</w>\n",
    "          <w lemma=\"910\" n=\"1.1.1\" morph=\"HNcmsa\">בָדָ֗ד</w>\n",
    "\n",
    "```"
   ]
  },
  {
   "cell_type": "markdown",
   "metadata": {
    "slideshow": {
     "slide_type": "fragment"
    }
   },
   "source": [
    "* Book names in adhoc encoding\n",
    "* Section structure\n",
    "* identifiers\n",
    "* XML markup\n",
    "* text (fully pointed)\n",
    "* **morph attributes**"
   ]
  },
  {
   "cell_type": "markdown",
   "metadata": {
    "slideshow": {
     "slide_type": "subslide"
    }
   },
   "source": [
    "### Book names\n",
    "```\n",
    "Lam\n",
    "Lam.1\n",
    "Lam.1.1\n",
    "```\n",
    "\n",
    "Lam = Lamentations = Threni = Klagesangene = ሰቆቃው_ኤርምያስ"
   ]
  },
  {
   "cell_type": "markdown",
   "metadata": {
    "slideshow": {
     "slide_type": "subslide"
    }
   },
   "source": [
    "### Sections\n",
    "\n",
    "```\n",
    " book\n",
    "      chapter\n",
    "        verse\n",
    "          w\n",
    "          w\n",
    "          w\n",
    "```"
   ]
  },
  {
   "cell_type": "markdown",
   "metadata": {
    "slideshow": {
     "slide_type": "subslide"
    }
   },
   "source": [
    "### Identifiers\n",
    "\n",
    "```\n",
    "                  osisID= Lam \n",
    "               osisID= Lam.1\n",
    "               osisID= Lam.1.1\n",
    "             lemma= 349 b  n= 1.1.1.0 \n",
    "\n",
    "             lemma= 3427 \n",
    "             lemma= 910  n= 1.1.1 \n",
    "```"
   ]
  },
  {
   "cell_type": "markdown",
   "metadata": {
    "slideshow": {
     "slide_type": "subslide"
    }
   },
   "source": [
    "### XML markup\n",
    "\n",
    "```\n",
    " <div type=\"   \" >\n",
    "      <\"\">\n",
    "        <\"\">\n",
    "          <\"\" \"\" morph=\"\"></>\n",
    "          <seg type=\"x-paseq\"></seg>\n",
    "          <\"\" morph=\"\"></>\n",
    "          <\"\" \"\" morph=\"\"></>\n",
    "```"
   ]
  },
  {
   "cell_type": "markdown",
   "metadata": {
    "slideshow": {
     "slide_type": "subslide"
    }
   },
   "source": [
    "### Full text\n",
    "\n",
    "```\n",
    "אֵיכָ֣ה\n",
    "׀\n",
    "יָשְׁבָ֣ה\n",
    "בָדָ֗ד\n",
    "```"
   ]
  },
  {
   "cell_type": "markdown",
   "metadata": {
    "slideshow": {
     "slide_type": "fragment"
    }
   },
   "source": [
    "which could also have been rendered as:\n",
    "\n",
    "* consonantal איכה׀ ישׁבה בדד\n",
    "* lexeme איכה ישׁב בדד\n",
    "* phonetic `ʔêḵˈā yāšᵊvˈā vāḏˈāḏ`\n",
    "* transliterated `>;JK@74H05 J@C:B@74H B@D@81D`\n",
    "* consonantal `>JKH05 JCBH BDD`"
   ]
  },
  {
   "cell_type": "markdown",
   "metadata": {
    "slideshow": {
     "slide_type": "subslide"
    }
   },
   "source": [
    "### Morph\n",
    "\n",
    "but all you want is the treasure: *morph*\n",
    "\n",
    "```\n",
    "HTi\n",
    "HVqp3fs\n",
    "HNcmsa\n",
    "```\n",
    "\n",
    "from "
   ]
  },
  {
   "cell_type": "markdown",
   "metadata": {
    "slideshow": {
     "slide_type": "fragment"
    }
   },
   "source": [
    "```\n",
    " <div type=\"book\" osisID=\"Lam\">\n",
    "      <chapter osisID=\"Lam.1\">\n",
    "        <verse osisID=\"Lam.1.1\">\n",
    "          <w lemma=\"349 b\" n=\"1.1.1.0\" morph=\"HTi\">אֵיכָ֣ה</w>\n",
    "          <seg type=\"x-paseq\">׀</seg>\n",
    "          <w lemma=\"3427\" morph=\"HVqp3fs\">יָשְׁבָ֣ה</w>\n",
    "          <w lemma=\"910\" n=\"1.1.1\" morph=\"HNcmsa\">בָדָ֗ד</w>\n",
    "\n",
    "```"
   ]
  },
  {
   "cell_type": "markdown",
   "metadata": {
    "slideshow": {
     "slide_type": "subslide"
    }
   },
   "source": [
    "## In a nutshell\n",
    "\n",
    "1. you get more than you want\n",
    "1. what you want is intricately wrapped up\n",
    "1. the treasure is difficult to align with other resources"
   ]
  },
  {
   "cell_type": "markdown",
   "metadata": {
    "slideshow": {
     "slide_type": "subslide"
    }
   },
   "source": [
    "<img src=\"images/loveOS.png\" width=\"60%\"/>"
   ]
  },
  {
   "cell_type": "markdown",
   "metadata": {
    "slideshow": {
     "slide_type": "fragment"
    }
   },
   "source": [
    "but we do need better logistics in treasure sharing"
   ]
  },
  {
   "cell_type": "markdown",
   "metadata": {
    "slideshow": {
     "slide_type": "slide"
    }
   },
   "source": [
    "# Modular resources\n",
    "## The IKEA way\n",
    "\n",
    "![kitchen](images/kitchen.png)"
   ]
  },
  {
   "cell_type": "markdown",
   "metadata": {
    "slideshow": {
     "slide_type": "subslide"
    }
   },
   "source": [
    "## Lessons of a cabinet ...\n",
    "\n",
    "![metod](images/metod.png)"
   ]
  },
  {
   "cell_type": "markdown",
   "metadata": {
    "slideshow": {
     "slide_type": "subslide"
    }
   },
   "source": [
    "## ... applied to data\n",
    "Modular resources \n",
    "\n",
    "1. help to separate concerns\n",
    "1. help to finely tune data sets by recombination\n",
    "1. are usable in novel settings\n",
    "\n",
    "Research questions often involve new demands on data and creation of new treasures."
   ]
  },
  {
   "cell_type": "markdown",
   "metadata": {
    "slideshow": {
     "slide_type": "slide"
    }
   },
   "source": [
    "# Text Fabric\n",
    "\n",
    "![TF](images/tf-small.png)\n",
    "\n",
    "A TF resource is a bunch of TF files.\n",
    "\n",
    "A TF file contains the data for a single *feature*."
   ]
  },
  {
   "cell_type": "markdown",
   "metadata": {
    "slideshow": {
     "slide_type": "fragment"
    }
   },
   "source": [
    "## Warp and weft\n",
    "\n",
    "Every TF resource must have two special features: **warp** features.\n",
    "\n",
    "All other features are **weft** features, they are woven into the warp.\n",
    "<img src=\"images/warp.png\" width=\"50%\"/>\n",
    "\n",
    "[wikipedia](https://en.wikipedia.org/wiki/Weaving)."
   ]
  },
  {
   "cell_type": "markdown",
   "metadata": {
    "slideshow": {
     "slide_type": "subslide"
    }
   },
   "source": [
    "Listing of the\n",
    "[BHSA resource, version 2017, in TF format](https://github.com/ETCBC/bhsa/tree/master/tf/2017):\n",
    "\n",
    "```\n",
    "book.tf                  instruction.tf\n",
    "book@am.tf               is_root.tf\n",
    "book@ar.tf               kind.tf\n",
    "book@bn.tf               kq_hybrid.tf\n",
    "book@da.tf               kq_hybrid_utf8.tf\n",
    "book@de.tf               label.tf\n",
    "book@el.tf               language.tf\n",
    "book@en.tf               languageISO.tf\n",
    "book@es.tf               lex.tf\n",
    "book@fa.tf               lex0.tf\n",
    "book@fr.tf               lex_utf8.tf\n",
    "book@he.tf               lexeme_count.tf\n",
    "book@hi.tf               ls.tf\n",
    "book@id.tf               mother.tf\n",
    "book@ja.tf               mother_object_type.tf\n",
    "book@ko.tf               nametype.tf\n",
    "book@la.tf               nme.tf\n",
    "book@nl.tf               nu.tf\n",
    "book@pa.tf               number.tf\n",
    "book@pt.tf               omap@2016-2017.tf\n",
    "book@ru.tf               oslots.tf\n",
    "book@sw.tf               otext.tf\n",
    "book@syc.tf              otype.tf\n",
    "book@tr.tf               pargr.tf\n",
    "book@ur.tf               pdp.tf\n",
    "book@yo.tf               pfm.tf\n",
    "book@zh.tf               prs.tf\n",
    "chapter.tf               prs_gn.tf\n",
    "code.tf                  prs_nu.tf\n",
    "det.tf                   prs_ps.tf\n",
    "\n",
    "```"
   ]
  },
  {
   "cell_type": "markdown",
   "metadata": {
    "slideshow": {
     "slide_type": "slide"
    }
   },
   "source": [
    "## Weft features\n",
    "\n",
    "These contain the concrete, tangible information: \n",
    "\n",
    "* the text\n",
    "* the linguistic annotations\n",
    "* additional data that is linked to the text"
   ]
  },
  {
   "cell_type": "markdown",
   "metadata": {
    "slideshow": {
     "slide_type": "subslide"
    }
   },
   "source": [
    "### [book@en](https://etcbc.github.io/bhsa/features/hebrew/2017/book@ll.html)\n",
    "\n",
    "```\n",
    "@node\n",
    "@author=Eep Talstra Centre for Bible and Computer\n",
    "@dataset=BHSA\n",
    "@datasetName=Biblia Hebraica Stuttgartensia Amstelodamensis\n",
    "@email=shebanq@ancient-data.org\n",
    "@encoders=Dirk Roorda (TF)\n",
    "@language=English\n",
    "@languageCode=en\n",
    "@languageEnglish=english\n",
    "@provenance=book names from wikipedia and other sources\n",
    "@valueType=str\n",
    "@version=2017\n",
    "@website=https://shebanq.ancient-data.org\n",
    "@writtenBy=Text-Fabric\n",
    "@dateWritten=2018-01-17T17:24:58Z\n",
    "\n",
    "426585\tGenesis\n",
    "Exodus\n",
    "Leviticus\n",
    "Numbers\n",
    "Deuteronomy\n",
    "Joshua\n",
    "Judges\n",
    "1_Samuel\n",
    "2_Samuel\n",
    "1_Kings\n",
    "2_Kings\n",
    "Isaiah\n",
    "Jeremiah\n",
    "Ezekiel\n",
    "Hosea\n",
    "Joel\n",
    "Amos\n",
    "Obadiah\n",
    "Jonah\n",
    "Micah\n",
    "Nahum\n",
    "Habakkuk\n",
    "Zephaniah\n",
    "Haggai\n",
    "Zechariah\n",
    "Malachi\n",
    "Psalms\n",
    "Job\n",
    "Proverbs\n",
    "Ruth\n",
    "Song_of_songs\n",
    "Ecclesiastes\n",
    "Lamentations\n",
    "Esther\n",
    "Daniel\n",
    "Ezra\n",
    "Nehemiah\n",
    "1_Chronicles\n",
    "2_Chronicles\n",
    "```"
   ]
  },
  {
   "cell_type": "markdown",
   "metadata": {
    "slideshow": {
     "slide_type": "subslide"
    }
   },
   "source": [
    "### [book@da](https://etcbc.github.io/bhsa/features/hebrew/2017/book@ll.html)\n",
    "\n",
    "```\n",
    "426585\t1.Mosebog\n",
    "2.Mosebog\n",
    "3.Mosebog\n",
    "4.Mosebog\n",
    "5.Mosebog\n",
    "Josva\n",
    "Dommer\n",
    "1.Samuel\n",
    "2.Samuel\n",
    "1.Kongebog\n",
    "2.Kongebog\n",
    "Esajas\n",
    "Jeremias\n",
    "Ezekiel\n",
    "Hoseas\n",
    "Joel\n",
    "Amos\n",
    "Obadias\n",
    "Jonas\n",
    "Mika\n",
    "Nahum\n",
    "Habakkuk\n",
    "Sefanias\n",
    "Haggaj\n",
    "Zakarias\n",
    "Malakias\n",
    "Salmerne\n",
    "Job\n",
    "Ordsprogene\n",
    "Ruth\n",
    "Højsangen\n",
    "Prædikeren\n",
    "Klagesangene\n",
    "Ester\n",
    "Daniel\n",
    "Ezra\n",
    "Nehemias\n",
    "1.Krønikebog\n",
    "2.Krønikebog\n",
    "```"
   ]
  },
  {
   "cell_type": "markdown",
   "metadata": {
    "slideshow": {
     "slide_type": "subslide"
    }
   },
   "source": [
    "### [book@am](https://etcbc.github.io/bhsa/features/hebrew/2017/book@ll.html)\n",
    "\n",
    "```\n",
    "426585\tኦሪት_ዘፍጥረት\n",
    "ኦሪት_ዘጸአት\n",
    "ኦሪት_ዘሌዋውያን\n",
    "ኦሪት_ዘኍልቍ\n",
    "ኦሪት_ዘዳግም\n",
    "መጽሐፈ_ኢያሱ_ወልደ_ነዌ\n",
    "መጽሐፈ_መሣፍንት\n",
    "መጽሐፈ_ሳሙኤል_ቀዳማዊ\n",
    "መጽሐፈ_ሳሙኤል_ካል\n",
    "መጽሐፈ_ነገሥት_ቀዳማዊ።\n",
    "መጽሐፈ_ነገሥት_ካልዕ።\n",
    "ትንቢተ_ኢሳይያስ\n",
    "ትንቢተ_ኤርምያስ\n",
    "ትንቢተ_ሕዝቅኤል\n",
    "ትንቢተ_ሆሴዕ\n",
    "ትንቢተ_ኢዮኤል\n",
    "ትንቢተ_አሞጽ\n",
    "ትንቢተ_አብድዩ\n",
    "ትንቢተ_ዮናስ\n",
    "ትንቢተ_ሚክያስ\n",
    "ትንቢተ_ናሆም\n",
    "ትንቢተ_ዕንባቆም\n",
    "ትንቢተ_ሶፎንያስ\n",
    "ትንቢተ_ሐጌ\n",
    "ትንቢተ_ዘካርያስ\n",
    "ትንቢተ_ሚልክያ\n",
    "መዝሙረ_ዳዊት\n",
    "መጽሐፈ_ኢዮብ።\n",
    "መጽሐፈ_ምሳሌ\n",
    "መጽሐፈ_ሩት\n",
    "መኃልየ_መኃልይ_ዘሰሎሞን\n",
    "መጽሐፈ_መክብብ\n",
    "ሰቆቃው_ኤርምያስ\n",
    "መጽሐፈ_አስቴር።\n",
    "ትንቢተ_ዳንኤል\n",
    "መጽሐፈ_ዕዝራ።\n",
    "መጽሐፈ_ነህምያ።\n",
    "መጽሐፈ_ዜና_መዋዕል_ቀዳማዊ።\n",
    "መጽሐፈ_ዜና_መዋዕል_ካልዕ።\n",
    "```"
   ]
  },
  {
   "cell_type": "markdown",
   "metadata": {
    "slideshow": {
     "slide_type": "subslide"
    }
   },
   "source": [
    "### [g_word_utf8](https://etcbc.github.io/bhsa/features/hebrew/2017/g_word_utf8.html)\n",
    "\n",
    "```\n",
    "@node\n",
    "@author=Eep Talstra Centre for Bible and Computer\n",
    "@dataset=BHSA\n",
    "@datasetName=Biblia Hebraica Stuttgartensia Amstelodamensis\n",
    "@email=shebanq@ancient-data.org\n",
    "@encoders=Constantijn Sikkel (QDF), Ulrik Petersen (MQL) and Dirk Roorda (TF)\n",
    "@valueType=str\n",
    "@version=2017\n",
    "@website=https://shebanq.ancient-data.org\n",
    "@writtenBy=Text-Fabric\n",
    "@dateWritten=2018-01-17T17:20:54Z\n",
    "\n",
    "בְּ\n",
    "רֵאשִׁ֖ית\n",
    "בָּרָ֣א\n",
    "אֱלֹהִ֑ים\n",
    "אֵ֥ת\n",
    "הַ\n",
    "שָּׁמַ֖יִם\n",
    "וְ\n",
    "אֵ֥ת\n",
    "הָ\n",
    "אָֽרֶץ\n",
    "```"
   ]
  },
  {
   "cell_type": "markdown",
   "metadata": {
    "slideshow": {
     "slide_type": "subslide"
    }
   },
   "source": [
    "### [g_cons_utf8](https://etcbc.github.io/bhsa/features/hebrew/2017/g_cons_utf8.html)\n",
    "\n",
    "```\n",
    "ב\n",
    "ראשׁית\n",
    "ברא\n",
    "אלהים\n",
    "את\n",
    "ה\n",
    "שׁמים\n",
    "ו\n",
    "את\n",
    "ה\n",
    "ארץ\n",
    "\n",
    "```"
   ]
  },
  {
   "cell_type": "markdown",
   "metadata": {
    "slideshow": {
     "slide_type": "subslide"
    }
   },
   "source": [
    "### phono\n",
    "from the [phono module](https://github.com/ETCBC/phono)\n",
    "\n",
    "```\n",
    "@node\n",
    "@author=BHSA Data: Constantijn Sikkel; Phono Notebook: Dirk Roorda\n",
    "@coreData=BHSA\n",
    "@coreVersion=2017\n",
    "@source=Phono Notebook applied to BHSA Data\n",
    "@valueType=str\n",
    "@writtenBy=Text-Fabric\n",
    "@dateWritten=2018-01-17T17:29:02Z\n",
    "\n",
    "bᵊ\n",
    "rēšˌîṯ\n",
    "bārˈā\n",
    "ʔᵉlōhˈîm\n",
    "ʔˌēṯ\n",
    "ha\n",
    "ššāmˌayim\n",
    "wᵊ\n",
    "ʔˌēṯ\n",
    "hā\n",
    "ʔˈāreṣ\n",
    "```"
   ]
  },
  {
   "cell_type": "markdown",
   "metadata": {
    "slideshow": {
     "slide_type": "subslide"
    }
   },
   "source": [
    "### [sp](https://etcbc.github.io/bhsa/features/hebrew/2017/sp.html) (part-of-speech)\n",
    "\n",
    "In the BHSA core again.\n",
    "\n",
    "```\n",
    "@node\n",
    "@author=Eep Talstra Centre for Bible and Computer\n",
    "@dataset=BHSA\n",
    "@datasetName=Biblia Hebraica Stuttgartensia Amstelodamensis\n",
    "@email=shebanq@ancient-data.org\n",
    "@encoders=Constantijn Sikkel (QDF), and Dirk Roorda (TF)\n",
    "@valueType=str\n",
    "@version=2017\n",
    "@website=https://shebanq.ancient-data.org\n",
    "@writtenBy=Text-Fabric\n",
    "@dateWritten=2018-01-17T17:25:41Z\n",
    "\n",
    "prep\n",
    "subs\n",
    "verb\n",
    "subs\n",
    "prep\n",
    "art\n",
    "subs\n",
    "conj\n",
    "prep\n",
    "art\n",
    "subs\n",
    "```"
   ]
  },
  {
   "cell_type": "markdown",
   "metadata": {
    "slideshow": {
     "slide_type": "subslide"
    }
   },
   "source": [
    "### crossref\n",
    "from the [parallels module](https://github.com/ETCBC/parallels)\n",
    "\n",
    "```\n",
    "@edge\n",
    "@edgeValues\n",
    "@author=BHSA Data: Constantijn Sikkel; Parallels Notebook: Dirk Roorda, Martijn Naaijer\n",
    "@coreData=BHSA\n",
    "@coreVersion=2017\n",
    "@source=Parallels Module\n",
    "@valueType=int\n",
    "@writtenBy=Text-Fabric\n",
    "@dateWritten=2018-01-17T17:31:34Z\n",
    "\n",
    "1414202\t1414208\t84\n",
    "1414202\t1414212\t89\n",
    "1414204\t1414206\t77\n",
    "1414206\t1414204\t77\n",
    "1414208\t1414202,1414212\t84\n",
    "1414212\t1414208\t84\n",
    "1414212\t1414202\t89\n",
    "1414299\t1414308,1414471,1414473\t75\n",
    "1414299\t1414469\t76\n",
    "1414299\t1414325,1414479\t77\n",
    "1414299\t1414311\t78\n",
    "1414299\t1414302,1414467\t79\n",
    "1414299\t1414475,1414477\t80\n",
    "1414299\t1414314\t86\n",
    "```"
   ]
  },
  {
   "cell_type": "markdown",
   "metadata": {
    "slideshow": {
     "slide_type": "fragment"
    }
   },
   "source": [
    "The numbers become clearer when we start weaving.\n",
    "\n",
    "But for that we need the warp features first."
   ]
  },
  {
   "cell_type": "markdown",
   "metadata": {
    "slideshow": {
     "slide_type": "slide"
    }
   },
   "source": [
    "## Warp features\n",
    "\n",
    "* `otype`: each node has a type\n",
    "* `oslots`: each non-slot node is linked to a set of slot nodes\n",
    "* `otext`: specification of sections and text formats"
   ]
  },
  {
   "cell_type": "markdown",
   "metadata": {
    "slideshow": {
     "slide_type": "subslide"
    }
   },
   "source": [
    "### `otype`\n",
    "\n",
    "```\n",
    "@node\n",
    "@valueType=str\n",
    "@writtenBy=Text-Fabric\n",
    "@dateWritten=2018-01-17T17:25:40Z\n",
    "\n",
    "1-426584\tword\n",
    "426585-426623\tbook\n",
    "426624-427552\tchapter\n",
    "427553-515653\tclause\n",
    "515654-606322\tclause_atom\n",
    "606323-651502\thalf_verse\n",
    "651503-904689\tphrase\n",
    "904690-1172208\tphrase_atom\n",
    "1172209-1235919\tsentence\n",
    "1235920-1300405\tsentence_atom\n",
    "1300406-1414189\tsubphrase\n",
    "1414190-1437402\tverse\n",
    "1437403-1446635\tlex\n",
    "```"
   ]
  },
  {
   "cell_type": "markdown",
   "metadata": {
    "slideshow": {
     "slide_type": "subslide"
    }
   },
   "source": [
    "* this is a **node** feature\n",
    "* the format is regular TF syntax, exactly like all other (node) features\n",
    "* think of the IKEA warehouse: everything is nicely piled together\n",
    "\n",
    "<img src=\"images/warehouse.jpg\" width=\"60%\" align=\"right\"/>\n",
    "\n",
    "* a pallet with words\n",
    "* a corridor with linguistic objects\n",
    "* shelves with clauses and phrases\n",
    "* crates with books, chapters, and verses\n",
    "* every part is labeled with a node number\n",
    "\n",
    "<img src=\"images/barcode.png\" align=\"left\"/>"
   ]
  },
  {
   "cell_type": "markdown",
   "metadata": {
    "slideshow": {
     "slide_type": "subslide"
    }
   },
   "source": [
    "### `oslots`\n",
    "\n",
    "```\n",
    "@edge\n",
    "@valueType=str\n",
    "@writtenBy=Text-Fabric\n",
    "@dateWritten=2018-01-17T17:25:41Z\n",
    "\n",
    "426585\t1-28763\n",
    "28764-52511\n",
    "52512-69610\n",
    "69611-92798\n",
    "92799-112925\n",
    "```"
   ]
  },
  {
   "cell_type": "markdown",
   "metadata": {
    "slideshow": {
     "slide_type": "fragment"
    }
   },
   "source": [
    "* this is an **edge** feature: it *relates* nodes.\n",
    "* the format is regular TF syntax, exactly like all other (edge) features\n",
    "* `426585` is the first book\n",
    "* it is related to the words `1` to `28763`\n",
    "* the next line is about `426586`, the second book.\n",
    "* it is linked to the words `28764` to `52511`\n",
    "* there are 1,020,051 data lines in this feature"
   ]
  },
  {
   "cell_type": "markdown",
   "metadata": {
    "slideshow": {
     "slide_type": "subslide"
    }
   },
   "source": [
    "### `otext`\n",
    "\n",
    "```\n",
    "@config\n",
    "@author=Eep Talstra Centre for Bible and Computer\n",
    "@dataset=BHSA\n",
    "@datasetName=Biblia Hebraica Stuttgartensia Amstelodamensis\n",
    "@dateWritten=2018-01-17T17:25:46Z\n",
    "@email=shebanq@ancient-data.org\n",
    "@encoders=Constantijn Sikkel (QDF), Ulrik Petersen (MQL) and Dirk Roorda (TF)\n",
    "@fmt:lex-orig-full={g_lex_utf8} \n",
    "@fmt:lex-orig-plain={lex_utf8} \n",
    "@fmt:lex-trans-full={g_lex} \n",
    "@fmt:lex-trans-plain={lex0} \n",
    "@fmt:text-orig-full={qere_utf8/g_word_utf8}{qere_trailer_utf8/trailer_utf8}\n",
    "@fmt:text-orig-full-ketiv={g_word_utf8}{trailer_utf8}\n",
    "@fmt:text-orig-plain={g_cons_utf8}{trailer_utf8}\n",
    "@fmt:text-trans-full={qere/g_word}{qere_trailer/trailer}\n",
    "@fmt:text-trans-full-ketiv={g_word}{trailer}\n",
    "@fmt:text-trans-plain={g_cons}{trailer}\n",
    "@sectionFeatures=book,chapter,verse\n",
    "@sectionTypes=book,chapter,verse\n",
    "@version=2017\n",
    "@website=https://shebanq.ancient-data.org\n",
    "@writtenBy=Text-Fabric\n",
    "@writtenBy=Text-Fabric\n",
    "@dateWritten=2018-01-17T17:27:35Z\n",
    "```"
   ]
  },
  {
   "cell_type": "markdown",
   "metadata": {
    "slideshow": {
     "slide_type": "fragment"
    }
   },
   "source": [
    "* this is a **config** feature: it only contains metadata, there are no data lines\n",
    "* the `@fmt:...` lines are templates for textual formats\n",
    "* the `@sectionTypes` line gives names to the section levels\n",
    "* the `@sectionFeatures` mention the names of the features that contain section headers."
   ]
  },
  {
   "cell_type": "markdown",
   "metadata": {
    "slideshow": {
     "slide_type": "slide"
    }
   },
   "source": [
    "## Weaving ...\n",
    "\n",
    "If we have a **warp**, we can weave the **wefts** into it.\n",
    "\n",
    "A TF resource \n",
    "\n",
    "* has one fixed set of warp features: `otype oslots otext`\n",
    "* has arbitrary many weft features: `sp g_word_utf8`, ...\n",
    "* can be augmented with wefts from TF modules."
   ]
  },
  {
   "cell_type": "markdown",
   "metadata": {
    "slideshow": {
     "slide_type": "fragment"
    }
   },
   "source": [
    "A TF module\n",
    "* has only weft features\n",
    "\n",
    "When you use modules, they should have been build around the same warp as the main resource."
   ]
  },
  {
   "cell_type": "markdown",
   "metadata": {
    "slideshow": {
     "slide_type": "subslide"
    }
   },
   "source": [
    "<img src=\"images/loom.png\" width=\"50%\" align=\"right\"/>\n",
    "\n",
    "We use tools to weave the yarns into a fabric.\n",
    "\n",
    "Let's enter the workshop and use a loom.\n",
    "\n",
    "AD 1425 [Hausbücher der Nürnberger Zwölfbrüderstiftungen](http://www.nuernberger-hausbuecher.de/75-Amb-2-317-4-v/data)\n",
    "\n",
    "### Text-Fabric API\n",
    "\n",
    "`F` (feature values of nodes)\n",
    "\n",
    "`F.g_word_utf8.v(n)`\n",
    "\n",
    "`E` (follow edges and read their features)\n",
    "\n",
    "`E.mother.f(n)` (from)\n",
    "\n",
    "`E.mother.t(n)` (to)\n",
    "\n",
    "`L` (local neighbourhood of a node)\n",
    "\n",
    "`L.u(n, otype='sentence')` (up to parent)\n",
    "\n",
    "`L.d(n, otype='phrase')` (down to child)\n",
    "\n",
    "`L.p(n, otype='clause')` (previous sibling)\n",
    "\n",
    "`L.n(n, otype='clause')`     (next sibling)\n",
    "\n",
    "`T` (text formats and section structure)\n",
    "\n",
    "`T.text(nodes, fmt='text-orig-full')`\n",
    "\n",
    "```python\n",
    "(book, chapter, verse) = \\\n",
    "    T.sectionFromNode(n)\n",
    "```\n",
    "\n",
    "```python\n",
    "n = T.nodeFromSection(\n",
    "    ('Mwanzo', 3, 16),\n",
    "    lang='sw',\n",
    ")\n",
    "```"
   ]
  },
  {
   "cell_type": "markdown",
   "metadata": {
    "slideshow": {
     "slide_type": "subslide"
    }
   },
   "source": [
    "### Text-Fabric pre-computation\n",
    "\n",
    "```\n",
    "__boundary__.tfx          book@ur.tfx\n",
    "__levDown__.tfx           book@yo.tfx\n",
    "__levUp__.tfx             book@zh.tfx\n",
    "__levels__.tfx            chapter.tfx\n",
    "__order__.tfx             code.tfx\n",
    "__rank__.tfx              det.tfx\n",
    "__sections__.tfx          dist.tfx\n",
    "book.tfx                  dist_unit.tfx\n",
    "book@am.tfx               distributional_parent.tfx\n",
    "book@ar.tfx               domain.tfx\n",
    "book@bn.tfx               freq_lex.tfx\n",
    "book@da.tfx               freq_occ.tfx\n",
    "book@de.tfx               function.tfx\n",
    "```"
   ]
  },
  {
   "cell_type": "markdown",
   "metadata": {
    "slideshow": {
     "slide_type": "fragment"
    }
   },
   "source": [
    "```python\n",
    "TF.clearCache()\n",
    "TF.load('')\n",
    "```"
   ]
  },
  {
   "cell_type": "markdown",
   "metadata": {
    "slideshow": {
     "slide_type": "fragment"
    }
   },
   "source": [
    "```\n",
    "0.00s loading features ...\n",
    "   |     0.85s T otype\n",
    "   |       10s T oslots\n",
    "   |     0.09s T book\n",
    "   |     0.05s T chapter\n",
    "   |     0.05s T verse\n",
    "   |     1.43s T g_cons\n",
    "   |     1.61s T g_cons_utf8\n",
    "   |     1.52s T g_lex\n",
    "   |     1.70s T g_lex_utf8\n",
    "   |     1.49s T g_word\n",
    "   |     1.66s T g_word_utf8\n",
    "   |     1.37s T lex0\n",
    "   |     1.56s T lex_utf8\n",
    "   |     0.01s T qere\n",
    "   |     0.01s T qere_trailer\n",
    "   |     0.01s T qere_trailer_utf8\n",
    "   |     0.01s T qere_utf8\n",
    "   |     1.11s T trailer\n",
    "   |     1.14s T trailer_utf8\n",
    "   |      |     1.19s C __levels__\n",
    "   |      |       18s C __order__\n",
    "   |      |     0.97s C __rank__\n",
    "   |      |       20s C __levUp__\n",
    "   |      |       11s C __levDown__\n",
    "   |      |     3.87s C __boundary__\n",
    "   |     0.00s M otext\n",
    "   |      |     0.14s C __sections__\n",
    "   |     0.00s T book@am\n",
    "   |     0.00s T book@ar\n",
    "   |     0.00s T book@bn\n",
    "   |     0.00s T book@da\n",
    "   |     0.00s T book@de\n",
    "   |     0.00s T book@el\n",
    "   |     0.00s T book@en\n",
    "   |     0.00s T book@es\n",
    "   |     0.01s T book@fa\n",
    "   |     0.00s T book@fr\n",
    "   |     0.00s T book@he\n",
    "   |     0.00s T book@hi\n",
    "   |     0.00s T book@id\n",
    "   |     0.00s T book@ja\n",
    "   |     0.00s T book@ko\n",
    "   |     0.00s T book@la\n",
    "   |     0.00s T book@nl\n",
    "   |     0.00s T book@pa\n",
    "   |     0.00s T book@pt\n",
    "   |     0.00s T book@ru\n",
    "   |     0.00s T book@sw\n",
    "   |     0.00s T book@sy\n",
    "   |     0.00s T book@tr\n",
    "   |     0.00s T book@ur\n",
    "   |     0.00s T book@yo\n",
    "   |     0.00s T book@zh\n",
    " 1m 22s All features loaded/computed\n",
    " ```"
   ]
  },
  {
   "cell_type": "markdown",
   "metadata": {
    "slideshow": {
     "slide_type": "subslide"
    }
   },
   "source": [
    "### All wefts"
   ]
  },
  {
   "cell_type": "markdown",
   "metadata": {
    "slideshow": {
     "slide_type": "subslide"
    }
   },
   "source": [
    "**reading from raw text**\n",
    "\n",
    "```\n",
    "  0.00s loading features ...\n",
    "   |     0.25s T code\n",
    "   |     1.74s T det\n",
    "   |     1.69s T dist\n",
    "   |     1.99s T dist_unit\n",
    "   |     3.85s T distributional_parent\n",
    "   |     0.27s T domain\n",
    "   |     0.89s T freq_lex\n",
    "   |     0.87s T freq_occ\n",
    "   |     0.88s T function\n",
    "   |     6.16s T functional_parent\n",
    "   |     0.99s T g_nme\n",
    "   |     1.08s T g_nme_utf8\n",
    "   |     0.74s T g_pfm\n",
    "   |     0.78s T g_pfm_utf8\n",
    "   |     0.76s T g_prs\n",
    "   |     0.75s T g_prs_utf8\n",
    "   |     0.67s T g_uvf\n",
    "   |     0.65s T g_uvf_utf8\n",
    "   |     0.79s T g_vbe\n",
    "   |     0.82s T g_vbe_utf8\n",
    "   |     0.70s T g_vbs\n",
    "   |     0.86s T g_vbs_utf8\n",
    "   |     0.04s T gloss\n",
    "   |     1.39s T gn\n",
    "   |     0.31s T instruction\n",
    "   |     0.32s T is_root\n",
    "   |     0.32s T kind\n",
    "   |     0.68s T kq_hybrid\n",
    "   |     0.68s T kq_hybrid_utf8\n",
    "   |     0.33s T label\n",
    "   |     1.59s T language\n",
    "   |     1.43s T languageISO\n",
    "   |     1.52s T lex\n",
    "   |     0.83s T lexeme_count\n",
    "   |     1.65s T ls\n",
    "   |     1.54s T mother\n",
    "   |     0.88s T mother_object_type\n",
    "   |     0.02s T nametype\n",
    "   |     1.25s T nme\n",
    "   |     1.46s T nu\n",
    "   |     2.51s T number\n",
    "   |     6.90s T omap@2016-2017\n",
    "   |     0.30s T pargr\n",
    "   |     1.48s T pdp\n",
    "   |     1.46s T pfm\n",
    "   |     1.47s T prs\n",
    "   |     1.50s T prs_gn\n",
    "   |     1.75s T prs_nu\n",
    "   |     1.53s T prs_ps\n",
    "   |     1.50s T ps\n",
    "   |     0.90s T rank_lex\n",
    "   |     0.90s T rank_occ\n",
    "   |     2.50s T rela\n",
    "   |     0.01s T root\n",
    "   |     1.49s T sp\n",
    "   |     1.44s T st\n",
    "   |     1.47s T suffix_gender\n",
    "   |     1.48s T suffix_number\n",
    "   |     1.47s T suffix_person\n",
    "   |     0.18s T tab\n",
    "   |     0.33s T txt\n",
    "   |     2.64s T typ\n",
    "   |     1.53s T uvf\n",
    "   |     1.41s T vbe\n",
    "   |     1.51s T vbs\n",
    "   |     0.04s T voc_lex\n",
    "   |     0.05s T voc_lex_utf8\n",
    "   |     1.63s T vs\n",
    "   |     1.41s T vt\n",
    " 1m 31s All features loaded/computed\n",
    "```\n"
   ]
  },
  {
   "cell_type": "markdown",
   "metadata": {
    "slideshow": {
     "slide_type": "subslide"
    }
   },
   "source": [
    "**reading from binary**\n",
    "\n",
    "```\n",
    "0.00s loading features ...\n",
    "   |     0.05s B otype\n",
    "   |     0.70s B oslots\n",
    "   |     0.01s B book\n",
    "   |     0.01s B chapter\n",
    "   |     0.01s B verse\n",
    "   |     0.13s B g_cons\n",
    "   |     0.25s B g_cons_utf8\n",
    "   |     0.18s B g_lex\n",
    "   |     0.24s B g_lex_utf8\n",
    "   |     0.19s B g_word\n",
    "   |     0.27s B g_word_utf8\n",
    "   |     0.16s B lex0\n",
    "   |     0.25s B lex_utf8\n",
    "   |     0.00s B qere\n",
    "   |     0.00s B qere_trailer\n",
    "   |     0.00s B qere_trailer_utf8\n",
    "   |     0.00s B qere_utf8\n",
    "   |     0.11s B trailer\n",
    "   |     0.10s B trailer_utf8\n",
    "   |     0.00s B book@am\n",
    "   |     0.00s B book@ar\n",
    "   |     0.00s B book@bn\n",
    "   |     0.00s B book@da\n",
    "   |     0.00s B book@de\n",
    "   |     0.00s B book@el\n",
    "   |     0.00s B book@en\n",
    "   |     0.00s B book@es\n",
    "   |     0.00s B book@fa\n",
    "   |     0.00s B book@fr\n",
    "   |     0.00s B book@he\n",
    "   |     0.00s B book@hi\n",
    "   |     0.00s B book@id\n",
    "   |     0.00s B book@ja\n",
    "   |     0.00s B book@ko\n",
    "   |     0.00s B book@la\n",
    "   |     0.00s B book@nl\n",
    "   |     0.00s B book@pa\n",
    "   |     0.00s B book@pt\n",
    "   |     0.00s B book@ru\n",
    "   |     0.00s B book@sw\n",
    "   |     0.00s B book@syc\n",
    "   |     0.00s B book@tr\n",
    "   |     0.00s B book@ur\n",
    "   |     0.00s B book@yo\n",
    "   |     0.00s B book@zh\n",
    "   |     0.03s B code\n",
    "   |     0.22s B det\n",
    "   |     0.20s B dist\n",
    "   |     0.21s B dist_unit\n",
    "   |     2.52s B distributional_parent\n",
    "   |     0.02s B domain\n",
    "   |     0.13s B freq_lex\n",
    "   |     0.10s B freq_occ\n",
    "   |     0.08s B function\n",
    "   |     1.85s B functional_parent\n",
    "   |     0.10s B g_nme\n",
    "   |     0.15s B g_nme_utf8\n",
    "   |     0.09s B g_pfm\n",
    "   |     0.10s B g_pfm_utf8\n",
    "   |     0.09s B g_prs\n",
    "   |     0.10s B g_prs_utf8\n",
    "   |     0.09s B g_uvf\n",
    "   |     0.08s B g_uvf_utf8\n",
    "   |     0.09s B g_vbe\n",
    "   |     0.09s B g_vbe_utf8\n",
    "   |     0.14s B g_vbs\n",
    "   |     0.17s B g_vbs_utf8\n",
    "   |     0.01s B gloss\n",
    "   |     0.20s B gn\n",
    "   |     0.04s B instruction\n",
    "   |     0.05s B is_root\n",
    "   |     0.05s B kind\n",
    "   |     0.15s B kq_hybrid\n",
    "   |     0.11s B kq_hybrid_utf8\n",
    "   |     0.02s B label\n",
    "   |     0.17s B language\n",
    "   |     0.15s B languageISO\n",
    "   |     0.15s B lex\n",
    "   |     0.08s B lexeme_count\n",
    "   |     0.15s B ls\n",
    "   |     1.75s B mother\n",
    "   |     0.10s B mother_object_type\n",
    "   |     0.00s B nametype\n",
    "   |     0.16s B nme\n",
    "   |     0.16s B nu\n",
    "   |     0.28s B number\n",
    "   |     1.04s B omap@2016-2017\n",
    "   |     0.04s B pargr\n",
    "   |     0.15s B pdp\n",
    "   |     0.17s B pfm\n",
    "   |     0.15s B prs\n",
    "   |     0.18s B prs_gn\n",
    "   |     0.16s B prs_nu\n",
    "   |     0.17s B prs_ps\n",
    "   |     0.16s B ps\n",
    "   |     0.11s B rank_lex\n",
    "   |     0.10s B rank_occ\n",
    "   |     0.29s B rela\n",
    "   |     0.00s B root\n",
    "   |     0.16s B sp\n",
    "   |     0.15s B st\n",
    "   |     0.27s B suffix_gender\n",
    "   |     0.32s B suffix_number\n",
    "   |     0.21s B suffix_person\n",
    "   |     0.02s B tab\n",
    "   |     0.03s B txt\n",
    "   |     0.28s B typ\n",
    "   |     0.14s B uvf\n",
    "   |     0.15s B vbe\n",
    "   |     0.16s B vbs\n",
    "   |     0.01s B voc_lex\n",
    "   |     0.01s B voc_lex_utf8\n",
    "   |     0.16s B vs\n",
    "   |     0.16s B vt\n",
    "    26s All features loaded/computed\n",
    "```"
   ]
  },
  {
   "cell_type": "code",
   "execution_count": 26,
   "metadata": {
    "slideshow": {
     "slide_type": "slide"
    }
   },
   "outputs": [],
   "source": [
    "import sys\n",
    "import os\n",
    "import collections\n",
    "import re\n",
    "import operator\n",
    "from functools import reduce\n",
    "from tf.fabric import Fabric\n",
    "from utils import structure, layout"
   ]
  },
  {
   "cell_type": "code",
   "execution_count": 27,
   "metadata": {
    "slideshow": {
     "slide_type": "fragment"
    }
   },
   "outputs": [],
   "source": [
    "VERSION = '2017'\n",
    "BHSA = 'BHSA/tf/{}'.format(VERSION)           # warp en wefts\n",
    "TREES = 'lingo/trees/tf/{}'.format(VERSION)   # derived wefts\n",
    "OSM = 'bridging/tf/{}'.format(VERSION)        # wefts from the OSM crafts shop\n",
    "PHONO = 'phono/tf/{}'.format(VERSION)         # derived wefts\n",
    "PARALLELS = 'parallels/tf/{}'.format(VERSION) # derived wefts"
   ]
  },
  {
   "cell_type": "code",
   "execution_count": 28,
   "metadata": {
    "slideshow": {
     "slide_type": "fragment"
    }
   },
   "outputs": [
    {
     "name": "stdout",
     "output_type": "stream",
     "text": [
      "This is Text-Fabric 3.1.3\n",
      "Api reference : https://github.com/Dans-labs/text-fabric/wiki/Api\n",
      "Tutorial      : https://github.com/Dans-labs/text-fabric/blob/master/docs/tutorial.ipynb\n",
      "Example data  : https://github.com/Dans-labs/text-fabric-data\n",
      "\n",
      "124 features found and 0 ignored\n",
      "  0.00s loading features ...\n",
      "   |     0.24s B g_cons_utf8          from /Users/dirk/github/etcbc/BHSA/tf/2017\n",
      "   |     0.28s B g_word_utf8          from /Users/dirk/github/etcbc/BHSA/tf/2017\n",
      "   |     0.23s B phono                from /Users/dirk/github/etcbc/phono/tf/2017\n",
      "   |     0.01s B voc_lex_utf8         from /Users/dirk/github/etcbc/BHSA/tf/2017\n",
      "   |     0.01s B gloss                from /Users/dirk/github/etcbc/BHSA/tf/2017\n",
      "   |     0.01s B crossref             from /Users/dirk/github/etcbc/parallels/tf/2017\n",
      "   |     0.05s B tree                 from /Users/dirk/github/etcbc/lingo/trees/tf/2017\n",
      "   |     0.20s B osm                  from /Users/dirk/github/etcbc/bridging/tf/2017\n",
      "   |     0.00s Feature overview: 114 for nodes; 8 for edges; 2 configs; 7 computed\n",
      "  6.34s All features loaded/computed - for details use loadLog()\n"
     ]
    }
   ],
   "source": [
    "# prepare the loom, set up the warp, have the wefts ready \n",
    "TF = Fabric(locations='~/github/etcbc', modules=[BHSA, TREES, PHONO, PARALLELS, OSM])\n",
    "api = TF.load('''\n",
    "    g_word_utf8 g_cons_utf8\n",
    "    voc_lex_utf8 gloss\n",
    "    phono crossref tree\n",
    "    osm\n",
    "''')\n",
    "api.makeAvailableIn(globals())"
   ]
  },
  {
   "cell_type": "markdown",
   "metadata": {
    "slideshow": {
     "slide_type": "subslide"
    }
   },
   "source": [
    "### ... a weave\n",
    "\n",
    "Ready to produce a weave\n",
    "\n",
    "<img src=\"images/weave.jpg\" width=\"100%\"/>"
   ]
  },
  {
   "cell_type": "code",
   "execution_count": 33,
   "metadata": {
    "slideshow": {
     "slide_type": "subslide"
    }
   },
   "outputs": [
    {
     "name": "stdout",
     "output_type": "stream",
     "text": [
      "1414202 = Genesis 1:13 =~(84%) Genesis 1:19 = 1414208\n",
      "1414202 = Genesis 1:13 =~(89%) Genesis 1:23 = 1414212\n",
      "1414204 = Genesis 1:15 =~(77%) Genesis 1:17 = 1414206\n",
      "1414206 = Genesis 1:17 =~(77%) Genesis 1:15 = 1414204\n",
      "1414208 = Genesis 1:19 =~(84%) Genesis 1:13 = 1414202\n",
      "1414208 = Genesis 1:19 =~(84%) Genesis 1:23 = 1414212\n",
      "1414212 = Genesis 1:23 =~(89%) Genesis 1:13 = 1414202\n",
      "1414212 = Genesis 1:23 =~(84%) Genesis 1:19 = 1414208\n",
      "1414299 = Genesis 5:4 =~(79%) Genesis 5:7 = 1414302\n",
      "1414299 = Genesis 5:4 =~(75%) Genesis 5:13 = 1414308\n",
      "1414299 = Genesis 5:4 =~(78%) Genesis 5:16 = 1414311\n"
     ]
    }
   ],
   "source": [
    "langs = ('am', 'da', 'nl', 'en')\n",
    "myLang = langs[3] \n",
    "# start weaving !\n",
    "n = 0\n",
    "limit = 10\n",
    "for verse in F.otype.s('verse'):\n",
    "    if n > limit: break\n",
    "    crossVerses = E.crossref.f(verse)\n",
    "    if crossVerses:\n",
    "        for (cross, confidence) in crossVerses:\n",
    "            if n > limit: break\n",
    "            n += 1\n",
    "            passage = '{} {}:{}'.format(*T.sectionFromNode(verse, lang=myLang))\n",
    "            other   = '{} {}:{}'.format(*T.sectionFromNode(cross, lang=myLang))\n",
    "            print(f'{verse} = {passage} =~({confidence}%) {other} = {cross}')"
   ]
  },
  {
   "cell_type": "markdown",
   "metadata": {
    "slideshow": {
     "slide_type": "slide"
    }
   },
   "source": [
    "# Example A - Trees\n",
    "\n",
    "In 2013/2014 we\n",
    "[crafted](https://github.com/ETCBC/lingo/blob/master/trees/trees.ipynb)\n",
    "tree structures from the BHSA data.\n",
    "\n",
    "Every sentence has a tree associated with it, like this:\n",
    "\n",
    "```\n",
    "(S(C(PP(pp 0)(n 1))(VP(vb 2))(NP(n 3))(PP(U(pp 4)(dt 5)(n 6))(cj 7)(U(pp 8)(dt 9)(n 10)))))\n",
    "```\n",
    "The numbers refer to the words in the sentence."
   ]
  },
  {
   "cell_type": "markdown",
   "metadata": {
    "slideshow": {
     "slide_type": "subslide"
    }
   },
   "source": [
    "## Trees as feature\n",
    "\n",
    "The trees are available in a feature `tree`, defined for sentences.\n",
    "\n",
    "```\n",
    "@node\n",
    "@converter=Dirk Roorda\n",
    "@convertor=trees.ipynb\n",
    "@coreData=BHSA\n",
    "@coreVersion=2017\n",
    "@description=penn treebank represententation for sentences\n",
    "@url=https://github.com/etcbc/lingo/trees/trees.ipynb\n",
    "@valueType=str\n",
    "@writtenBy=Text-Fabric\n",
    "@dateWritten=2018-01-21T18:53:06Z\n",
    "\n",
    "1172209\t(S(C(PP(pp 0)(n 1))(VP(vb 2))(NP(n 3))(PP(U(pp 4)(dt 5)(n 6))(cj 7)(U(pp 8)(dt 9)(n 10)))))\n",
    "(S(C(CP(cj 0))(NP(dt 1)(n 2))(VP(vb 3))(NP(U(n 4))(cj 5)(U(n 6)))))\n",
    "(S(C(CP(cj 0))(NP(n 1))(PP(pp 2)(U(n 3))(U(n 4)))))\n",
    "(S(C(CP(cj 0))(NP(U(n 1))(U(n 2)))(VP(vb 3))(PP(pp 4)(U(n 5))(U(dt 6)(n 7)))))\n",
    "```"
   ]
  },
  {
   "cell_type": "markdown",
   "metadata": {
    "slideshow": {
     "slide_type": "fragment"
    }
   },
   "source": [
    "Trees are nice. But this output does **not** look nice."
   ]
  },
  {
   "cell_type": "markdown",
   "metadata": {
    "slideshow": {
     "slide_type": "subslide"
    }
   },
   "source": [
    "## Display\n",
    "\n",
    "We want\n",
    "\n",
    "* multiline view\n",
    "* see the words\n",
    "* phonetically\n",
    "* with gloss\n",
    "* and with **Open Scriptures Morphology** tag!"
   ]
  },
  {
   "cell_type": "markdown",
   "metadata": {
    "slideshow": {
     "slide_type": "fragment"
    }
   },
   "source": [
    "We do this by\n",
    "\n",
    "* a bit of Python parsing of bracketed pairs\n",
    "  (swept under the carpet here in [utils.py](https://github.com/ETCBC/lingo/blob/master/trees/utils.py))\n",
    "* further weaving with Text-Fabric"
   ]
  },
  {
   "cell_type": "markdown",
   "metadata": {
    "slideshow": {
     "slide_type": "subslide"
    }
   },
   "source": [
    "Pick up the tree as a plain string, straight from the feature data:"
   ]
  },
  {
   "cell_type": "code",
   "execution_count": 36,
   "metadata": {
    "slideshow": {
     "slide_type": "fragment"
    }
   },
   "outputs": [
    {
     "name": "stdout",
     "output_type": "stream",
     "text": [
      "Job 3:16 - first word = 336986\n",
      "tree = (S(C(Ccoor(CP(cj 0))(PP(pp 1)(U(n 2))(U(vb 3)))(NegP(ng 4))(VP(vb 5)))(Ccoor(PP(pp 6)(n 7)(Cattr(NegP(ng 8))(VP(vb 9))(NP(n 10)))))))\n"
     ]
    }
   ],
   "source": [
    "passage = ('Job', 3, 16)\n",
    "passageStr = '{} {}:{}'.format(*passage)\n",
    "verse = T.nodeFromSection(passage)\n",
    "sentence = L.d(verse, otype='sentence')[0]\n",
    "firstSlot = L.d(sentence, otype='word')[0]\n",
    "stringTree = F.tree.v(sentence)\n",
    "print(f'{passageStr} - first word = {firstSlot}\\ntree = {stringTree}')"
   ]
  },
  {
   "cell_type": "markdown",
   "metadata": {
    "slideshow": {
     "slide_type": "subslide"
    }
   },
   "source": [
    "## Parsing\n",
    "\n",
    "Parse it into a structure:"
   ]
  },
  {
   "cell_type": "code",
   "execution_count": 37,
   "metadata": {
    "slideshow": {
     "slide_type": "fragment"
    }
   },
   "outputs": [
    {
     "data": {
      "text/plain": [
       "['S',\n",
       " ['C',\n",
       "  ['Ccoor',\n",
       "   ['CP', [('cj', 0)]],\n",
       "   ['PP', [('pp', 1)], ['U', [('n', 2)]], ['U', [('vb', 3)]]],\n",
       "   ['NegP', [('ng', 4)]],\n",
       "   ['VP', [('vb', 5)]]],\n",
       "  ['Ccoor',\n",
       "   ['PP',\n",
       "    [('pp', 6)],\n",
       "    [('n', 7)],\n",
       "    ['Cattr',\n",
       "     ['NegP', [('ng', 8)]],\n",
       "     ['VP', [('vb', 9)]],\n",
       "     ['NP', [('n', 10)]]]]]]]"
      ]
     },
     "execution_count": 37,
     "metadata": {},
     "output_type": "execute_result"
    }
   ],
   "source": [
    "tree = structure(stringTree)\n",
    "tree"
   ]
  },
  {
   "cell_type": "markdown",
   "metadata": {
    "slideshow": {
     "slide_type": "subslide"
    }
   },
   "source": [
    "We can display it a bit more friendly:"
   ]
  },
  {
   "cell_type": "code",
   "execution_count": 40,
   "metadata": {
    "slideshow": {
     "slide_type": "fragment"
    }
   },
   "outputs": [
    {
     "name": "stdout",
     "output_type": "stream",
     "text": [
      "  S\n",
      "    C\n",
      "      Ccoor\n",
      "        CP\n",
      "          cj 336986\n",
      "        PP\n",
      "          pp 336987\n",
      "          U\n",
      "            n 336988\n",
      "          U\n",
      "            vb 336989\n",
      "        NegP\n",
      "          ng 336990\n",
      "        VP\n",
      "          vb 336991\n",
      "      Ccoor\n",
      "        PP\n",
      "          pp 336992\n",
      "          n 336993\n",
      "          Cattr\n",
      "            NegP\n",
      "              ng 336994\n",
      "            VP\n",
      "              vb 336995\n",
      "            NP\n",
      "              n 336996\n"
     ]
    }
   ],
   "source": [
    "print(layout(tree, firstSlot, str))"
   ]
  },
  {
   "cell_type": "markdown",
   "metadata": {
    "slideshow": {
     "slide_type": "fragment"
    }
   },
   "source": [
    "Note that the `layout()` has replaced the relative word numbers in the sentence by absolute slot numbers in the dataset."
   ]
  },
  {
   "cell_type": "markdown",
   "metadata": {
    "slideshow": {
     "slide_type": "subslide"
    }
   },
   "source": [
    "## Weaving the wefts ...\n",
    "All wefts are there, we have to weave them around each warp."
   ]
  },
  {
   "cell_type": "code",
   "execution_count": 58,
   "metadata": {
    "slideshow": {
     "slide_type": "fragment"
    }
   },
   "outputs": [],
   "source": [
    "def osmPhonoGloss(n):\n",
    "    lexNode = L.u(n, otype='lex')[0]\n",
    "    return '{{{}}} \"{}\" [{}] \"<{}>\"'.format(\n",
    "        F.osm.v(n),\n",
    "        F.g_word_utf8.v(n),\n",
    "        F.phono.v(n),\n",
    "        F.gloss.v(lexNode), # gloss is a feature on lexemes, not words\n",
    "        # F.voc_lex_utf8.v(lexNode),\n",
    "    )"
   ]
  },
  {
   "cell_type": "markdown",
   "metadata": {
    "slideshow": {
     "slide_type": "fragment"
    }
   },
   "source": [
    "## ... into a weave"
   ]
  },
  {
   "cell_type": "code",
   "execution_count": 59,
   "metadata": {
    "slideshow": {
     "slide_type": "fragment"
    }
   },
   "outputs": [
    {
     "name": "stdout",
     "output_type": "stream",
     "text": [
      " 1  S\n",
      " 2    C\n",
      " 3      Ccoor\n",
      " 4        CP\n",
      " 5          cj {HC} \"אֹ֚ו\" [ˈʔô] \"<or>\"\n",
      " 4        PP\n",
      " 5          pp {HR} \"כְ\" [ḵᵊ] \"<as>\"\n",
      " 5          U\n",
      " 6            n {HNcmsa} \"נֵ֣פֶל\" [nˈēfel] \"<miscarriage>\"\n",
      " 5          U\n",
      " 6            vb {HVqsmsa} \"טָ֭מוּן\" [ˈṭāmûn] \"<hide>\"\n",
      " 4        NegP\n",
      " 5          ng {HTn} \"לֹ֣א\" [lˈō] \"<not>\"\n",
      " 4        VP\n",
      " 5          vb {HVqi1cs} \"אֶהְיֶ֑ה\" [ʔehyˈeh] \"<be>\"\n",
      " 3      Ccoor\n",
      " 4        PP\n",
      " 5          pp {HR} \"כְּ֝\" [ˈkᵊ] \"<as>\"\n",
      " 5          n {HNcmpa} \"עֹלְלִ֗ים\" [ʕōlᵊlˈîm] \"<child>\"\n",
      " 5          Cattr\n",
      " 6            NegP\n",
      " 7              ng {HTn} \"לֹא\" [lō-] \"<not>\"\n",
      " 6            VP\n",
      " 7              vb {HVqp3cp} \"רָ֥אוּ\" [rˌāʔû] \"<see>\"\n",
      " 6            NP\n",
      " 7              n {HNcbsa} \"אֹֽור\" [ʔˈôr] \"<light>\"\n"
     ]
    }
   ],
   "source": [
    "print(layout(tree, firstSlot, osmPhonoGloss, withLevel=True))"
   ]
  },
  {
   "cell_type": "markdown",
   "metadata": {
    "slideshow": {
     "slide_type": "subslide"
    }
   },
   "source": [
    "## Carried away by tree structures\n",
    "\n",
    "The raw strings are handy for structure analysis, in a way the woven trees cannot be.\n",
    "\n",
    "Let us see how many distinct tree structures we've got."
   ]
  },
  {
   "cell_type": "code",
   "execution_count": 10,
   "metadata": {
    "slideshow": {
     "slide_type": "fragment"
    }
   },
   "outputs": [
    {
     "name": "stdout",
     "output_type": "stream",
     "text": [
      "28096 distinct trees of 63711 in total\n"
     ]
    }
   ],
   "source": [
    "treeDistribution = F.tree.freqList()\n",
    "\n",
    "distinct = len(treeDistribution)\n",
    "total = sum(x[1] for x in treeDistribution)\n",
    "\n",
    "print(f'{distinct} distinct trees of {total} in total')"
   ]
  },
  {
   "cell_type": "code",
   "execution_count": 11,
   "metadata": {
    "slideshow": {
     "slide_type": "fragment"
    }
   },
   "outputs": [
    {
     "name": "stdout",
     "output_type": "stream",
     "text": [
      "3772 x (S(C(CP(cj 0))(VP(vb 1))))\n",
      "1238 x (S(C(VP(vb 0))))\n",
      "1173 x (S(C(CP(cj 0))(VP(vb 1))(PP(pp 2))))\n",
      " 857 x (S(C(CP(cj 0))(VP(vb 1))(PP(pp 2)(n 3))))\n",
      " 749 x (S(C(CP(cj 0))(VP(vb 1))(NP(n 2))))\n",
      " 577 x (S(C(CP(cj 0))(VP(vb 1))(PrNP(n-pr 2))))\n",
      " 568 x (S(C(CP(cj 0))(VP(vb 1))(PP(pp 2)(dt 3)(n 4))))\n",
      " 554 x (S(C(VP(vb 0))(NP(n 1))))\n",
      " 441 x (S(C(CP(cj 0))(NegP(ng 1))(VP(vb 2))))\n",
      " 406 x (S(C(CP(cj 0))(VP(vb 1))(PP(pp 2)(n-pr 3))))\n"
     ]
    }
   ],
   "source": [
    "for (tree, amount) in treeDistribution[0:10]:\n",
    "    print(f'{amount:>4} x {tree}')"
   ]
  },
  {
   "cell_type": "markdown",
   "metadata": {
    "slideshow": {
     "slide_type": "fragment"
    }
   },
   "source": [
    "I'm intrigued by the most frequent tree structure.\n",
    "\n",
    "Which verbs occur in such a sentence? Let's find out."
   ]
  },
  {
   "cell_type": "code",
   "execution_count": 12,
   "metadata": {
    "slideshow": {
     "slide_type": "subslide"
    }
   },
   "outputs": [
    {
     "name": "stdout",
     "output_type": "stream",
     "text": [
      "501 lexemes found\n"
     ]
    }
   ],
   "source": [
    "lexemes = collections.Counter()\n",
    "short = treeDistribution[0][0]\n",
    "for s in F.otype.s('sentence'):\n",
    "    if F.tree.v(s) == short:\n",
    "        verb = L.d(s, otype='word')[1]\n",
    "        lexeme = L.u(verb, otype='lex')[0]\n",
    "        lexemes[lexeme] += 1\n",
    "print(f'{len(lexemes)} lexemes found')"
   ]
  },
  {
   "cell_type": "code",
   "execution_count": 13,
   "metadata": {
    "slideshow": {
     "slide_type": "fragment"
    }
   },
   "outputs": [
    {
     "name": "stdout",
     "output_type": "stream",
     "text": [
      "1045 x \"אמר\" [say]\n",
      " 203 x \"היה\" [be]\n",
      " 107 x \"הלך\" [walk]\n",
      " 106 x \"מות\" [die]\n",
      "  87 x \"ראה\" [see]\n",
      "  80 x \"בוא\" [come]\n",
      "  71 x \"שׁוב\" [return]\n",
      "  70 x \"אכל\" [eat]\n",
      "  52 x \"קום\" [arise]\n",
      "  45 x \"חיה\" [be alive]\n"
     ]
    }
   ],
   "source": [
    "for (lex, amount) in sorted(\n",
    "    lexemes.items(),\n",
    "    key=lambda x: (-x[1], x[0]),\n",
    ")[0:10]:\n",
    "    print(f'{amount:>4} x \"{F.voc_lex_utf8.v(lex)}\" [{F.gloss.v(lex)}]')"
   ]
  },
  {
   "cell_type": "markdown",
   "metadata": {
    "slideshow": {
     "slide_type": "subslide"
    }
   },
   "source": [
    "## Application\n",
    "\n",
    "You do not need to \"own\" the text in order to work with trees"
   ]
  },
  {
   "cell_type": "markdown",
   "metadata": {
    "slideshow": {
     "slide_type": "fragment"
    }
   },
   "source": [
    "If you do not own the text, but have the trees:"
   ]
  },
  {
   "cell_type": "markdown",
   "metadata": {
    "slideshow": {
     "slide_type": "fragment"
    }
   },
   "source": [
    "* Publish them with word numbers"
   ]
  },
  {
   "cell_type": "markdown",
   "metadata": {
    "slideshow": {
     "slide_type": "fragment"
    }
   },
   "source": [
    "* Align them to a text you own"
   ]
  },
  {
   "cell_type": "markdown",
   "metadata": {
    "slideshow": {
     "slide_type": "fragment"
    }
   },
   "source": [
    "* Make a list of alignment exceptions"
   ]
  },
  {
   "cell_type": "markdown",
   "metadata": {
    "slideshow": {
     "slide_type": "slide"
    }
   },
   "source": [
    "<img src=\"images/openscriptures.png\" align=\"right\"/>\n",
    "\n",
    "# Example B - Open Scriptures Morphology"
   ]
  },
  {
   "cell_type": "markdown",
   "metadata": {
    "slideshow": {
     "slide_type": "fragment"
    }
   },
   "source": [
    "* align the WLC with the BHS\n",
    "* compare the OSM with the BHSA"
   ]
  },
  {
   "cell_type": "markdown",
   "metadata": {
    "slideshow": {
     "slide_type": "subslide"
    }
   },
   "source": [
    "## Aligning\n",
    "\n",
    "See [BHSAbridgeOSM.ipynb](https://github.com/ETCBC/bridging/blob/master/programs/BHSAbridgeOSM.ipynb)\n",
    "\n",
    "* performs a consonant by consonant alignment between the WLC and BHS\n",
    "* stumbled on a few cases requiring a hint:"
   ]
  },
  {
   "cell_type": "markdown",
   "metadata": {
    "slideshow": {
     "slide_type": "fragment"
    }
   },
   "source": [
    "```python\n",
    "exceptions = {\n",
    "    215253: 1,\n",
    "    266189: 1,\n",
    "    287360: 2,\n",
    "    376865: 1,\n",
    "    383405: 2,\n",
    "    384049: 1,\n",
    "    384050: 1,\n",
    "    405102: -2,\n",
    "}\n",
    "```"
   ]
  },
  {
   "cell_type": "markdown",
   "metadata": {
    "slideshow": {
     "slide_type": "fragment"
    }
   },
   "source": [
    "```\n",
    "Succeeded in aligning BHS with OSM\n",
    "420103 BHS words matched against 469448 OSM morphemes with 8 known exceptions\n",
    "```"
   ]
  },
  {
   "cell_type": "markdown",
   "metadata": {
    "slideshow": {
     "slide_type": "subslide"
    }
   },
   "source": [
    "### Spotting the anomalies\n",
    "\n",
    "With a bit of weaving, these exceptions are:"
   ]
  },
  {
   "cell_type": "markdown",
   "metadata": {
    "slideshow": {
     "slide_type": "fragment"
    }
   },
   "source": [
    "```\n",
    "Isaiah 9:6\n",
    "                    BHS 215253         = מרבה\n",
    "                    OSM w1             = םרבה\n",
    "Ezekiel 4:6\n",
    "                    BHS 266189         = ימוני\n",
    "                    OSM w7             = ימיני\n",
    "```\n",
    "\n",
    "```\n",
    "Ezekiel 43:11\n",
    "                    BHS 287360         = צורתו\n",
    "                    OSM w17, w17       = צורת/י\n",
    "Daniel 10:19\n",
    "                    BHS 376865         = כְ\n",
    "                    OSM w10            = בְ\n",
    "Ezra 10:44\n",
    "                    BHS 383405         = נשׂאו\n",
    "                    OSM w3, w3         = נשא/י\n",
    "\n",
    "```\n",
    "\n",
    "```\n",
    "Nehemiah 2:13\n",
    "                    BHS 384049         = הם\n",
    "                    OSM w17            = ה\n",
    "Nehemiah 2:13\n",
    "                    BHS 384050         = פרוצים\n",
    "                    OSM w17            = מפרוצים\n",
    "```\n",
    "\n",
    "```\n",
    "1_Chronicles 27:12\n",
    "                    BHS 405102, 405103 = בן/ימיני\n",
    "                    OSM w6             = בנימיני\n",
    "```"
   ]
  },
  {
   "cell_type": "markdown",
   "metadata": {
    "slideshow": {
     "slide_type": "subslide"
    }
   },
   "source": [
    "### Word breaking\n",
    "\n",
    "There are cases where the OSM and the BHSA differ in the breaking-up of words."
   ]
  },
  {
   "cell_type": "markdown",
   "metadata": {
    "slideshow": {
     "slide_type": "fragment"
    }
   },
   "source": [
    "```\n",
    "OSM morphemes without BHSA word:          0\n",
    "OSM morphemes with multiple BHSA words: 130\n",
    "OSM morphemes with 2        BHSA words: 123\n",
    "OSM morphemes with 3        BHSA words:   7\n",
    "```"
   ]
  },
  {
   "cell_type": "markdown",
   "metadata": {
    "slideshow": {
     "slide_type": "subslide"
    }
   },
   "source": [
    "### Unfinished\n",
    "\n",
    "The OSM is not yet finished.\n",
    "\n",
    "We made a list of word nodes for which no morpheme has been tagged"
   ]
  },
  {
   "cell_type": "markdown",
   "metadata": {
    "slideshow": {
     "slide_type": "fragment"
    }
   },
   "source": [
    "53841 =~ 10% unfinished."
   ]
  },
  {
   "cell_type": "markdown",
   "metadata": {
    "slideshow": {
     "slide_type": "fragment"
    }
   },
   "source": [
    "```\n",
    "Non-marked-up stretches having length x: y times\n",
    "   1: 14990\n",
    "   2:  8336\n",
    "   3:  2802\n",
    "   4:  1090\n",
    "   5:   493\n",
    "   6:   285\n",
    "   7:   162\n",
    "   8:    90\n",
    "   9:    70\n",
    "  10:    37\n",
    "  11:    33\n",
    "  12:    19\n",
    "  13:    11\n",
    "  14:    17\n",
    "  15:     9\n",
    "  16:     7\n",
    "  17:     2\n",
    "  18:     2\n",
    "  19:     6\n",
    "  20:     1\n",
    "  21:     1\n",
    "  22:     3\n",
    "  23:     2\n",
    "  25:     2\n",
    "  26:     2\n",
    "  27:     1\n",
    "  28:     1\n",
    "  29:     1\n",
    "  32:     1\n",
    "  33:     1\n",
    "  35:     1\n",
    "  36:     1\n",
    "  38:     2\n",
    "  41:     1\n",
    "  47:     1\n",
    "  60:     1\n",
    "  61:     1\n",
    "  72:     1\n",
    "  74:     1\n",
    "  75:     1\n",
    "```"
   ]
  },
  {
   "cell_type": "markdown",
   "metadata": {
    "slideshow": {
     "slide_type": "fragment"
    }
   },
   "source": [
    "What remains is: filling in the dots!"
   ]
  },
  {
   "cell_type": "markdown",
   "metadata": {
    "slideshow": {
     "slide_type": "subslide"
    }
   },
   "source": [
    "We will carry out the comparison for unproblematic words:\n",
    "\n",
    "* good alignment       (  8 BHSA words excluded)\n",
    "* same word breaks     (276 BHSA words excluded)\n",
    "* morph tags available"
   ]
  },
  {
   "cell_type": "markdown",
   "metadata": {
    "slideshow": {
     "slide_type": "slide"
    }
   },
   "source": [
    "### Result: OSM module\n",
    "\n",
    "Two new TF features:\n",
    "* `osm.tf`    (main words)\n",
    "* `osm_sf.tf` (suffixes)\n",
    "\n",
    "Together: the **OSM module**"
   ]
  },
  {
   "cell_type": "markdown",
   "metadata": {
    "slideshow": {
     "slide_type": "fragment"
    }
   },
   "source": [
    "```\n",
    "@node\n",
    "@conversion=notebook openscriptures in BHSA repo\n",
    "@conversion_author=Dirk Roorda\n",
    "@coreData=BHSA\n",
    "@coreVersion=2017\n",
    "@description=primary morphology string according to OpenScriptures\n",
    "@source=Open Scriptures\n",
    "@source_url=https://github.com/openscriptures/morphhb\n",
    "@valueType=str\n",
    "@writtenBy=Text-Fabric\n",
    "@dateWritten=2018-01-12T13:21:01Z\n",
    "\n",
    "HR\n",
    "HNcfsa\n",
    "HVqp3ms\n",
    "HNcmpa\n",
    "HTo\n",
    "HTd\n",
    "HNcmpa\n",
    "HC\n",
    "HTo\n",
    "HTd\n",
    "HNcbsa\n",
    "```"
   ]
  },
  {
   "cell_type": "markdown",
   "metadata": {
    "slideshow": {
     "slide_type": "slide"
    }
   },
   "source": [
    "# Comparing\n",
    "\n",
    "We compare *categories*."
   ]
  },
  {
   "cell_type": "markdown",
   "metadata": {
    "slideshow": {
     "slide_type": "fragment"
    }
   },
   "source": [
    "In [OSM](http://openscriptures.github.io/morphhb/parsing/HebrewMorphologyCodes.html):\n",
    "* part-of-speech\n",
    "* and their subtypes"
   ]
  },
  {
   "cell_type": "markdown",
   "metadata": {
    "slideshow": {
     "slide_type": "fragment"
    }
   },
   "source": [
    "In BHSA the features:\n",
    "* [sp](https://etcbc.github.io/bhsa/features/hebrew/2017/sp.html) = part of speech\n",
    "* [ls](https://etcbc.github.io/bhsa/features/hebrew/2017/ls.html) = lexical set\n",
    "* [nametype](https://etcbc.github.io/bhsa/features/hebrew/2017/nametype.html)"
   ]
  },
  {
   "cell_type": "markdown",
   "metadata": {
    "slideshow": {
     "slide_type": "subslide"
    }
   },
   "source": [
    "<img src=\"images/openscriptures.png\" align=\"right\"/>\n",
    "\n",
    "## OSM categories\n",
    "\n",
    "```python\n",
    "pspOSM = {\n",
    "    '': dict(\n",
    "        A='adjective',\n",
    "        C='conjunction',\n",
    "        D='adverb',\n",
    "        N='noun',\n",
    "        P='pronoun',\n",
    "        R='preposition',\n",
    "        S='suffix',\n",
    "        T='particle',\n",
    "        V='verb',\n",
    "    ),\n",
    "    'A': dict(\n",
    "        a='adjective',\n",
    "        c='cardinal number',\n",
    "        g='gentilic',\n",
    "        o='ordinal number',\n",
    "    ),\n",
    "    'N': dict(\n",
    "        c='common',\n",
    "        g='gentilic',\n",
    "        p='proper name',\n",
    "    ),\n",
    "    'P': dict(\n",
    "        d='demonstrative',\n",
    "        f='indefinite',\n",
    "        i='interrogative',\n",
    "        p='personal',\n",
    "        r='relative',\n",
    "    ),\n",
    "    'R': dict(\n",
    "        d='definite article',\n",
    "    ),\n",
    "    'S': dict(\n",
    "        d='directional he',\n",
    "        h='paragogic he',\n",
    "        n='paragogic nun',\n",
    "        p='pronominal',\n",
    "    ),\n",
    "    'T': dict(\n",
    "        a='affirmation',\n",
    "        d='definite article',\n",
    "        e='exhortation',\n",
    "        i='interrogative',\n",
    "        j='interjection',\n",
    "        m='demonstrative',\n",
    "        n='negative',\n",
    "        o='direct object marker',\n",
    "        r='relative',\n",
    "    ),\n",
    "}\n",
    "```"
   ]
  },
  {
   "cell_type": "markdown",
   "metadata": {
    "slideshow": {
     "slide_type": "subslide"
    }
   },
   "source": [
    "<img src=\"images/etcbc-round.png\" align=\"right\"/>\n",
    "\n",
    "## BHSA categories\n",
    "\n",
    "```python\n",
    "spBHS = dict(\n",
    "    art='article',\n",
    "    verb='verb',\n",
    "    subs='noun',\n",
    "    nmpr='proper noun',\n",
    "    advb='adverb',\n",
    "    prep='preposition',\n",
    "    conj='conjunction',\n",
    "    prps='personal pronoun',\n",
    "    prde='demonstrative pronoun',\n",
    "    prin='interrogative pronoun',\n",
    "    intj='interjection',\n",
    "    nega='negative particle',\n",
    "    inrg='interrogative particle',\n",
    "    adjv='adjective',\n",
    ")\n",
    "lsBHS = dict(\n",
    "    nmdi='distributive noun',\n",
    "    nmcp='copulative noun',\n",
    "    padv='potential adverb',\n",
    "    afad='anaphoric adverb',\n",
    "    ppre='potential preposition',\n",
    "    cjad='conjunctive adverb',\n",
    "    ordn='ordinal',\n",
    "    vbcp='copulative verb',\n",
    "    mult='noun of multitude',\n",
    "    focp='focus particle',\n",
    "    ques='interrogative particle',\n",
    "    gntl='gentilic',\n",
    "    quot='quotation verb',\n",
    "    card='cardinal',\n",
    "    none=MISSING,\n",
    ")\n",
    "nametypeBHS = dict(\n",
    "    pers='person',\n",
    "    mens='measurement unit',\n",
    "    gens='people',\n",
    "    topo='place',\n",
    "    ppde='demonstrative personal pronoun',\n",
    ")\n",
    "nametypeBHS.update({\n",
    "    'pers,gens,topo': 'person',\n",
    "    'pers,gens': 'person',\n",
    "    'gens,topo': 'gentilic',\n",
    "    'pers,god': 'person',\n",
    "})\n",
    "```"
   ]
  },
  {
   "cell_type": "markdown",
   "metadata": {
    "slideshow": {
     "slide_type": "subslide"
    }
   },
   "source": [
    "## Better dumb than smart\n",
    "\n",
    "We just counted the pairs of OSM, BHSA categories that co-occurred on words.\n",
    "\n",
    "A selection of the outcomes.\n",
    "\n",
    "This is OSM versus BHSA"
   ]
  },
  {
   "cell_type": "markdown",
   "metadata": {
    "slideshow": {
     "slide_type": "fragment"
    }
   },
   "source": [
    "### Verbs\n",
    "\n",
    "```\n",
    "verb                                    \n",
    "\tverb::                         ( 84% =  50691x)\n",
    "\tverb:quotation verb:           ( 10% =   6137x)\n",
    "\tverb:copulative verb:          (  5% =   3246x)\n",
    "\tnoun::                         (  0% =      6x)\n",
    "\tadjective::                    (  0% =      3x)\n",
    "\tpreposition::                  (  0% =      1x)\n",
    "\tproper noun::                  (  0% =      1x)\n",
    "```"
   ]
  },
  {
   "cell_type": "markdown",
   "metadata": {
    "slideshow": {
     "slide_type": "fragment"
    }
   },
   "source": [
    "**Excellent** Just 11 discrepancies in 60,000 cases!"
   ]
  },
  {
   "cell_type": "markdown",
   "metadata": {
    "slideshow": {
     "slide_type": "subslide"
    }
   },
   "source": [
    "### Prepositions\n",
    "\n",
    "```\n",
    "preposition                             \n",
    "\tpreposition::                  ( 96% =  50697x)\n",
    "\tnoun:potential preposition:    (  3% =   1643x)\n",
    "\tadverb:conjunctive adverb:     (  0% =    194x)\n",
    "\tinterrogative particle::       (  0% =    169x)\n",
    "\tnoun:cardinal:                 (  0% =     13x)\n",
    "\tconjunction::                  (  0% =      5x)\n",
    "\tnoun::                         (  0% =      2x)\n",
    "\tproper noun::                  (  0% =      2x)\n",
    "\tarticle::                      (  0% =      1x)\n",
    "\tverb::                         (  0% =      1x)\n",
    "```"
   ]
  },
  {
   "cell_type": "code",
   "execution_count": 60,
   "metadata": {
    "slideshow": {
     "slide_type": "fragment"
    }
   },
   "outputs": [
    {
     "name": "stdout",
     "output_type": "stream",
     "text": [
      "Discrepancies: 0.76% = 387x out of 51084\n"
     ]
    }
   ],
   "source": [
    "disc = 194 + 169 + 13 + 5 + 2 + 2 + 1 + 1\n",
    "tot = 50697 + disc\n",
    "discPerc = round(100 * disc / tot, 2)\n",
    "print(f'Discrepancies: {discPerc}% = {disc}x out of {tot}')"
   ]
  },
  {
   "cell_type": "markdown",
   "metadata": {
    "slideshow": {
     "slide_type": "subslide"
    }
   },
   "source": [
    "## Attention needed!\n",
    "\n",
    "* all *rare* cases have been collected into a big list\n",
    "* context info has been woven into the list\n",
    "* there are 645 such cases\n",
    "* see [allCategoriesCases.tsv](https://github.com/ETCBC/bridging/blob/master/programs/allCategoriesCases.tsv) on GitHub"
   ]
  },
  {
   "cell_type": "markdown",
   "metadata": {
    "slideshow": {
     "slide_type": "fragment"
    }
   },
   "source": [
    "![1](images/cases1.png)"
   ]
  },
  {
   "cell_type": "markdown",
   "metadata": {
    "slideshow": {
     "slide_type": "fragment"
    }
   },
   "source": [
    "![2](images/cases2.png)"
   ]
  },
  {
   "cell_type": "markdown",
   "metadata": {
    "slideshow": {
     "slide_type": "subslide"
    }
   },
   "source": [
    "# Follow up?"
   ]
  },
  {
   "cell_type": "markdown",
   "metadata": {
    "slideshow": {
     "slide_type": "fragment"
    }
   },
   "source": [
    "* inspect the rare cases:\n",
    "  * these might be glitches, in BHSA or in OSM or in both\n",
    "  * these might be disputable cases: add them to the docs"
   ]
  },
  {
   "cell_type": "markdown",
   "metadata": {
    "slideshow": {
     "slide_type": "fragment"
    }
   },
   "source": [
    "* inspect the majority cases: which categories map to which?\n",
    "  * maybe some categories can be harmonized\n",
    "  * if that is not desirable: we can generate an exhaustive mapping"
   ]
  },
  {
   "cell_type": "markdown",
   "metadata": {
    "slideshow": {
     "slide_type": "fragment"
    }
   },
   "source": [
    "* in the end: we can make a BHSA-OSM category mapping that is\n",
    "  * comprehensive\n",
    "  * machine-readable\n",
    "  * documented"
   ]
  },
  {
   "cell_type": "markdown",
   "metadata": {
    "slideshow": {
     "slide_type": "slide"
    }
   },
   "source": [
    "# Conclusions"
   ]
  },
  {
   "cell_type": "markdown",
   "metadata": {
    "slideshow": {
     "slide_type": "fragment"
    }
   },
   "source": [
    "<img src=\"images/etcbc-round-small.png\" align=\"left\" width=\"48\"/> is awesome\n",
    "\n",
    "<img src=\"images/openscriptures.png\" align=\"left\" width=\"72\"/> is terrific"
   ]
  },
  {
   "cell_type": "markdown",
   "metadata": {
    "slideshow": {
     "slide_type": "fragment"
    }
   },
   "source": [
    "<img src=\"images/etcbc-plus-os.png\" align=\"left\"/> \n",
    "\n",
    "$\\gt$ awesome $+$ terrific"
   ]
  },
  {
   "cell_type": "markdown",
   "metadata": {
    "slideshow": {
     "slide_type": "subslide"
    }
   },
   "source": [
    "<img src=\"images/tf-small.png\" align=\"right\"/>\n",
    "\n",
    "[Text-Fabric](https://github.com/Dans-labs/text-fabric) is a\n",
    "* [model](https://github.com/Dans-labs/text-fabric/wiki/Data-Model)\n",
    "* [file format](https://github.com/Dans-labs/text-fabric/wiki/File-formats)\n",
    "* [tool](https://github.com/Dans-labs/text-fabric/wiki/Api)\n",
    "\n",
    "to support the logistics of the interchange of textual treasures"
   ]
  },
  {
   "cell_type": "markdown",
   "metadata": {
    "slideshow": {
     "slide_type": "subslide"
    }
   },
   "source": [
    "<img src=\"images/ikea.png\" width=\"80%\"/>\n",
    "\n",
    "**Designed especially for you** - Thank you\n",
    "\n",
    "dirk.roorda@dans.knaw.nl"
   ]
  },
  {
   "cell_type": "code",
   "execution_count": null,
   "metadata": {},
   "outputs": [],
   "source": []
  }
 ],
 "metadata": {
  "celltoolbar": "Slideshow",
  "kernelspec": {
   "display_name": "Python 3",
   "language": "python",
   "name": "python3"
  },
  "language_info": {
   "codemirror_mode": {
    "name": "ipython",
    "version": 3
   },
   "file_extension": ".py",
   "mimetype": "text/x-python",
   "name": "python",
   "nbconvert_exporter": "python",
   "pygments_lexer": "ipython3",
   "version": "3.6.4"
  },
  "livereveal": {
   "scroll": true,
   "start_slideshow_at": "selected"
  },
  "toc": {
   "nav_menu": {},
   "number_sections": true,
   "sideBar": true,
   "skip_h1_title": false,
   "toc_cell": false,
   "toc_position": {},
   "toc_section_display": "block",
   "toc_window_display": false
  }
 },
 "nbformat": 4,
 "nbformat_minor": 1
}
