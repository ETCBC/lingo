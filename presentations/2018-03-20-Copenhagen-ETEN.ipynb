{
 "cells": [
  {
   "cell_type": "markdown",
   "metadata": {
    "slideshow": {
     "slide_type": "slide"
    }
   },
   "source": [
    "![DANS](images/dans.png)\n",
    "![ETCBC](images/etcbc.png)\n",
    "![TF](images/tf.png)\n",
    "\n",
    "# Handling Biblical data with IKEA logistics\n",
    "\n",
    "## Dirk Roorda - 2018-03-20 [ETEN Workshop](http://global-learning.org/course/view.php?id=16)"
   ]
  },
  {
   "cell_type": "markdown",
   "metadata": {
    "slideshow": {
     "slide_type": "slide"
    }
   },
   "source": [
    "# Biblical resources - peeling off the packaging"
   ]
  },
  {
   "cell_type": "markdown",
   "metadata": {
    "slideshow": {
     "slide_type": "subslide"
    }
   },
   "source": [
    "Have a look in the \n",
    "[Open Scriptures Morphology](https://github.com/openscriptures/morphhb/tree/master/wlc)\n",
    "source files: [Lam.xml](https://github.com/openscriptures/morphhb/blob/master/wlc/Lam.xml)\n",
    "\n",
    "```\n",
    " <div type=\"book\" osisID=\"Lam\">\n",
    "      <chapter osisID=\"Lam.1\">\n",
    "        <verse osisID=\"Lam.1.1\">\n",
    "          <w lemma=\"349 b\" n=\"1.1.1.0\" morph=\"HTi\">אֵיכָ֣ה</w>\n",
    "          <seg type=\"x-paseq\">׀</seg>\n",
    "          <w lemma=\"3427\" morph=\"HVqp3fs\">יָשְׁבָ֣ה</w>\n",
    "          <w lemma=\"910\" n=\"1.1.1\" morph=\"HNcmsa\">בָדָ֗ד</w>\n",
    "\n",
    "```"
   ]
  },
  {
   "cell_type": "markdown",
   "metadata": {
    "slideshow": {
     "slide_type": "fragment"
    }
   },
   "source": [
    "## You get\n",
    "\n",
    "* Book names in adhoc encoding\n",
    "* Section structure\n",
    "* identifiers\n",
    "* XML markup\n",
    "* text (fully pointed)"
   ]
  },
  {
   "cell_type": "markdown",
   "metadata": {
    "slideshow": {
     "slide_type": "subslide"
    }
   },
   "source": [
    "```\n",
    "Lam\n",
    "Lam.1\n",
    "Lam.1.1\n",
    "```\n",
    "\n",
    "Lam = Lamentations = Threni = Klagesangene = ሰቆቃው_ኤርምያስ"
   ]
  },
  {
   "cell_type": "markdown",
   "metadata": {
    "slideshow": {
     "slide_type": "subslide"
    }
   },
   "source": [
    "```\n",
    " book\n",
    "      chapter\n",
    "        verse\n",
    "          w\n",
    "          w\n",
    "          w\n",
    "```"
   ]
  },
  {
   "cell_type": "markdown",
   "metadata": {
    "slideshow": {
     "slide_type": "subslide"
    }
   },
   "source": [
    "```\n",
    "                  osisID= Lam \n",
    "               osisID= Lam.1\n",
    "               osisID= Lam.1.1\n",
    "             lemma= 349 b  n= 1.1.1.0 \n",
    "\n",
    "             lemma= 3427 \n",
    "             lemma= 910  n= 1.1.1 \n",
    "```"
   ]
  },
  {
   "cell_type": "markdown",
   "metadata": {
    "slideshow": {
     "slide_type": "subslide"
    }
   },
   "source": [
    "```\n",
    " <div type=\"   \" >\n",
    "      <\"\">\n",
    "        <\"\">\n",
    "          <\"\" \"\" morph=\"\"></>\n",
    "          <seg type=\"x-paseq\"></seg>\n",
    "          <\"\" morph=\"\"></>\n",
    "          <\"\" \"\" morph=\"\"></>\n",
    "```"
   ]
  },
  {
   "cell_type": "markdown",
   "metadata": {
    "slideshow": {
     "slide_type": "subslide"
    }
   },
   "source": [
    "```\n",
    "אֵיכָ֣ה\n",
    "׀\n",
    "יָשְׁבָ֣ה\n",
    "בָדָ֗ד\n",
    "```"
   ]
  },
  {
   "cell_type": "markdown",
   "metadata": {
    "slideshow": {
     "slide_type": "fragment"
    }
   },
   "source": [
    "which could also have been rendered as:\n",
    "\n",
    "* consonantal איכה׀ ישׁבה בדד\n",
    "* lexeme איכה ישׁב בדד\n",
    "* phonetic `ʔêḵˈā yāšᵊvˈā vāḏˈāḏ`\n",
    "* transliterated `>;JK@74H05 J@C:B@74H B@D@81D`\n",
    "* consonantal `>JKH05 JCBH BDD`"
   ]
  },
  {
   "cell_type": "markdown",
   "metadata": {
    "slideshow": {
     "slide_type": "subslide"
    }
   },
   "source": [
    "but all you want is the treasure: *morph*\n",
    "\n",
    "```\n",
    "HTi\n",
    "HVqp3fs\n",
    "HNcmsa\n",
    "```\n",
    "\n",
    "from "
   ]
  },
  {
   "cell_type": "markdown",
   "metadata": {
    "slideshow": {
     "slide_type": "fragment"
    }
   },
   "source": [
    "```\n",
    " <div type=\"book\" osisID=\"Lam\">\n",
    "      <chapter osisID=\"Lam.1\">\n",
    "        <verse osisID=\"Lam.1.1\">\n",
    "          <w lemma=\"349 b\" n=\"1.1.1.0\" morph=\"HTi\">אֵיכָ֣ה</w>\n",
    "          <seg type=\"x-paseq\">׀</seg>\n",
    "          <w lemma=\"3427\" morph=\"HVqp3fs\">יָשְׁבָ֣ה</w>\n",
    "          <w lemma=\"910\" n=\"1.1.1\" morph=\"HNcmsa\">בָדָ֗ד</w>\n",
    "\n",
    "```"
   ]
  },
  {
   "cell_type": "markdown",
   "metadata": {
    "slideshow": {
     "slide_type": "subslide"
    }
   },
   "source": [
    "1. you get more than you want\n",
    "1. what you want is intricately wrapped up\n",
    "1. the treasure is difficult to align with other resources"
   ]
  },
  {
   "cell_type": "markdown",
   "metadata": {
    "slideshow": {
     "slide_type": "subslide"
    }
   },
   "source": [
    "<img src=\"images/loveOS.png\" width=\"60%\"/>"
   ]
  },
  {
   "cell_type": "markdown",
   "metadata": {
    "slideshow": {
     "slide_type": "fragment"
    }
   },
   "source": [
    "but we do need better logistics in treasure sharing"
   ]
  },
  {
   "cell_type": "markdown",
   "metadata": {
    "slideshow": {
     "slide_type": "slide"
    }
   },
   "source": [
    "# The IKEA way\n",
    "\n",
    "![kitchen](images/kitchen.png)"
   ]
  },
  {
   "cell_type": "markdown",
   "metadata": {
    "slideshow": {
     "slide_type": "subslide"
    }
   },
   "source": [
    "![metod](images/metod.png)"
   ]
  },
  {
   "cell_type": "markdown",
   "metadata": {
    "slideshow": {
     "slide_type": "subslide"
    }
   },
   "source": [
    "Modular resources \n",
    "\n",
    "1. help to separate concerns\n",
    "1. help to finely tune data sets by recombination\n",
    "1. are usable in novel settings\n",
    "\n",
    "Research questions often involve new demands on data and creation of new treasures."
   ]
  },
  {
   "cell_type": "markdown",
   "metadata": {
    "slideshow": {
     "slide_type": "slide"
    }
   },
   "source": [
    "# Text Fabric\n",
    "\n",
    "![TF](images/tf-small.png)\n",
    "\n",
    "A TF resource is a bunch of TF files.\n",
    "\n",
    "A TF file contains the data for a single *feature*."
   ]
  },
  {
   "cell_type": "markdown",
   "metadata": {
    "slideshow": {
     "slide_type": "fragment"
    }
   },
   "source": [
    "Every TF resource must have two special features: **warp** features.\n",
    "\n",
    "All other features are **weft** features, they are woven into the warp.\n",
    "[![warp](images/warp.png)](https://en.wikipedia.org/wiki/Weaving)."
   ]
  },
  {
   "cell_type": "markdown",
   "metadata": {
    "slideshow": {
     "slide_type": "subslide"
    }
   },
   "source": [
    "Listing of the\n",
    "[BHSA resource, version 2017, in TF format](https://github.com/ETCBC/bhsa/tree/master/tf/2017):\n",
    "\n",
    "```\n",
    "book.tf                  instruction.tf\n",
    "book@am.tf               is_root.tf\n",
    "book@ar.tf               kind.tf\n",
    "book@bn.tf               kq_hybrid.tf\n",
    "book@da.tf               kq_hybrid_utf8.tf\n",
    "book@de.tf               label.tf\n",
    "book@el.tf               language.tf\n",
    "book@en.tf               languageISO.tf\n",
    "book@es.tf               lex.tf\n",
    "book@fa.tf               lex0.tf\n",
    "book@fr.tf               lex_utf8.tf\n",
    "book@he.tf               lexeme_count.tf\n",
    "book@hi.tf               ls.tf\n",
    "book@id.tf               mother.tf\n",
    "book@ja.tf               mother_object_type.tf\n",
    "book@ko.tf               nametype.tf\n",
    "book@la.tf               nme.tf\n",
    "book@nl.tf               nu.tf\n",
    "book@pa.tf               number.tf\n",
    "book@pt.tf               omap@2016-2017.tf\n",
    "book@ru.tf               oslots.tf\n",
    "book@sw.tf               otext.tf\n",
    "book@syc.tf              otype.tf\n",
    "book@tr.tf               pargr.tf\n",
    "book@ur.tf               pdp.tf\n",
    "book@yo.tf               pfm.tf\n",
    "book@zh.tf               prs.tf\n",
    "chapter.tf               prs_gn.tf\n",
    "code.tf                  prs_nu.tf\n",
    "det.tf                   prs_ps.tf\n",
    "\n",
    "```"
   ]
  },
  {
   "cell_type": "markdown",
   "metadata": {
    "slideshow": {
     "slide_type": "slide"
    }
   },
   "source": [
    "# Weft features\n",
    "\n",
    "These contain the concrete, visible information: \n",
    "\n",
    "* the text\n",
    "* the linguistic annotations\n",
    "* additional data that is linked to the text"
   ]
  },
  {
   "cell_type": "markdown",
   "metadata": {
    "slideshow": {
     "slide_type": "subslide"
    }
   },
   "source": [
    "# [book@en](https://etcbc.github.io/bhsa/features/hebrew/2017/book@ll.html)\n",
    "\n",
    "```\n",
    "@node\n",
    "@author=Eep Talstra Centre for Bible and Computer\n",
    "@dataset=BHSA\n",
    "@datasetName=Biblia Hebraica Stuttgartensia Amstelodamensis\n",
    "@email=shebanq@ancient-data.org\n",
    "@encoders=Dirk Roorda (TF)\n",
    "@language=English\n",
    "@languageCode=en\n",
    "@languageEnglish=english\n",
    "@provenance=book names from wikipedia and other sources\n",
    "@valueType=str\n",
    "@version=2017\n",
    "@website=https://shebanq.ancient-data.org\n",
    "@writtenBy=Text-Fabric\n",
    "@dateWritten=2018-01-17T17:24:58Z\n",
    "\n",
    "426585\tGenesis\n",
    "Exodus\n",
    "Leviticus\n",
    "Numbers\n",
    "Deuteronomy\n",
    "Joshua\n",
    "Judges\n",
    "1_Samuel\n",
    "2_Samuel\n",
    "1_Kings\n",
    "2_Kings\n",
    "Isaiah\n",
    "Jeremiah\n",
    "Ezekiel\n",
    "Hosea\n",
    "Joel\n",
    "Amos\n",
    "Obadiah\n",
    "Jonah\n",
    "Micah\n",
    "Nahum\n",
    "Habakkuk\n",
    "Zephaniah\n",
    "Haggai\n",
    "Zechariah\n",
    "Malachi\n",
    "Psalms\n",
    "Job\n",
    "Proverbs\n",
    "Ruth\n",
    "Song_of_songs\n",
    "Ecclesiastes\n",
    "Lamentations\n",
    "Esther\n",
    "Daniel\n",
    "Ezra\n",
    "Nehemiah\n",
    "1_Chronicles\n",
    "2_Chronicles\n",
    "```"
   ]
  },
  {
   "cell_type": "markdown",
   "metadata": {
    "slideshow": {
     "slide_type": "subslide"
    }
   },
   "source": [
    "# [book@da](https://etcbc.github.io/bhsa/features/hebrew/2017/book@ll.html)\n",
    "\n",
    "```\n",
    "426585\t1.Mosebog\n",
    "2.Mosebog\n",
    "3.Mosebog\n",
    "4.Mosebog\n",
    "5.Mosebog\n",
    "Josva\n",
    "Dommer\n",
    "1.Samuel\n",
    "2.Samuel\n",
    "1.Kongebog\n",
    "2.Kongebog\n",
    "Esajas\n",
    "Jeremias\n",
    "Ezekiel\n",
    "Hoseas\n",
    "Joel\n",
    "Amos\n",
    "Obadias\n",
    "Jonas\n",
    "Mika\n",
    "Nahum\n",
    "Habakkuk\n",
    "Sefanias\n",
    "Haggaj\n",
    "Zakarias\n",
    "Malakias\n",
    "Salmerne\n",
    "Job\n",
    "Ordsprogene\n",
    "Ruth\n",
    "Højsangen\n",
    "Prædikeren\n",
    "Klagesangene\n",
    "Ester\n",
    "Daniel\n",
    "Ezra\n",
    "Nehemias\n",
    "1.Krønikebog\n",
    "2.Krønikebog\n",
    "```"
   ]
  },
  {
   "cell_type": "markdown",
   "metadata": {
    "slideshow": {
     "slide_type": "subslide"
    }
   },
   "source": [
    "# [book@am](https://etcbc.github.io/bhsa/features/hebrew/2017/book@ll.html)\n",
    "\n",
    "```\n",
    "426585\tኦሪት_ዘፍጥረት\n",
    "ኦሪት_ዘጸአት\n",
    "ኦሪት_ዘሌዋውያን\n",
    "ኦሪት_ዘኍልቍ\n",
    "ኦሪት_ዘዳግም\n",
    "መጽሐፈ_ኢያሱ_ወልደ_ነዌ\n",
    "መጽሐፈ_መሣፍንት\n",
    "መጽሐፈ_ሳሙኤል_ቀዳማዊ\n",
    "መጽሐፈ_ሳሙኤል_ካል\n",
    "መጽሐፈ_ነገሥት_ቀዳማዊ።\n",
    "መጽሐፈ_ነገሥት_ካልዕ።\n",
    "ትንቢተ_ኢሳይያስ\n",
    "ትንቢተ_ኤርምያስ\n",
    "ትንቢተ_ሕዝቅኤል\n",
    "ትንቢተ_ሆሴዕ\n",
    "ትንቢተ_ኢዮኤል\n",
    "ትንቢተ_አሞጽ\n",
    "ትንቢተ_አብድዩ\n",
    "ትንቢተ_ዮናስ\n",
    "ትንቢተ_ሚክያስ\n",
    "ትንቢተ_ናሆም\n",
    "ትንቢተ_ዕንባቆም\n",
    "ትንቢተ_ሶፎንያስ\n",
    "ትንቢተ_ሐጌ\n",
    "ትንቢተ_ዘካርያስ\n",
    "ትንቢተ_ሚልክያ\n",
    "መዝሙረ_ዳዊት\n",
    "መጽሐፈ_ኢዮብ።\n",
    "መጽሐፈ_ምሳሌ\n",
    "መጽሐፈ_ሩት\n",
    "መኃልየ_መኃልይ_ዘሰሎሞን\n",
    "መጽሐፈ_መክብብ\n",
    "ሰቆቃው_ኤርምያስ\n",
    "መጽሐፈ_አስቴር።\n",
    "ትንቢተ_ዳንኤል\n",
    "መጽሐፈ_ዕዝራ።\n",
    "መጽሐፈ_ነህምያ።\n",
    "መጽሐፈ_ዜና_መዋዕል_ቀዳማዊ።\n",
    "መጽሐፈ_ዜና_መዋዕል_ካልዕ።\n",
    "```"
   ]
  },
  {
   "cell_type": "markdown",
   "metadata": {
    "slideshow": {
     "slide_type": "subslide"
    }
   },
   "source": [
    "# [g_word_utf8](https://etcbc.github.io/bhsa/features/hebrew/2017/g_word_utf8.html)\n",
    "\n",
    "```\n",
    "@node\n",
    "@author=Eep Talstra Centre for Bible and Computer\n",
    "@dataset=BHSA\n",
    "@datasetName=Biblia Hebraica Stuttgartensia Amstelodamensis\n",
    "@email=shebanq@ancient-data.org\n",
    "@encoders=Constantijn Sikkel (QDF), Ulrik Petersen (MQL) and Dirk Roorda (TF)\n",
    "@valueType=str\n",
    "@version=2017\n",
    "@website=https://shebanq.ancient-data.org\n",
    "@writtenBy=Text-Fabric\n",
    "@dateWritten=2018-01-17T17:20:54Z\n",
    "\n",
    "בְּ\n",
    "רֵאשִׁ֖ית\n",
    "בָּרָ֣א\n",
    "אֱלֹהִ֑ים\n",
    "אֵ֥ת\n",
    "הַ\n",
    "שָּׁמַ֖יִם\n",
    "וְ\n",
    "אֵ֥ת\n",
    "הָ\n",
    "אָֽרֶץ\n",
    "```"
   ]
  },
  {
   "cell_type": "markdown",
   "metadata": {
    "slideshow": {
     "slide_type": "subslide"
    }
   },
   "source": [
    "# [g_cons_utf8](https://etcbc.github.io/bhsa/features/hebrew/2017/g_cons_utf8.html)\n",
    "\n",
    "```\n",
    "ב\n",
    "ראשׁית\n",
    "ברא\n",
    "אלהים\n",
    "את\n",
    "ה\n",
    "שׁמים\n",
    "ו\n",
    "את\n",
    "ה\n",
    "ארץ\n",
    "\n",
    "```"
   ]
  },
  {
   "cell_type": "markdown",
   "metadata": {
    "slideshow": {
     "slide_type": "subslide"
    }
   },
   "source": [
    "# phono\n",
    "from the [phono module](https://github.com/ETCBC/phono)\n",
    "\n",
    "```\n",
    "@node\n",
    "@author=BHSA Data: Constantijn Sikkel; Phono Notebook: Dirk Roorda\n",
    "@coreData=BHSA\n",
    "@coreVersion=2017\n",
    "@source=Phono Notebook applied to BHSA Data\n",
    "@valueType=str\n",
    "@writtenBy=Text-Fabric\n",
    "@dateWritten=2018-01-17T17:29:02Z\n",
    "\n",
    "bᵊ\n",
    "rēšˌîṯ\n",
    "bārˈā\n",
    "ʔᵉlōhˈîm\n",
    "ʔˌēṯ\n",
    "ha\n",
    "ššāmˌayim\n",
    "wᵊ\n",
    "ʔˌēṯ\n",
    "hā\n",
    "ʔˈāreṣ\n",
    "```"
   ]
  },
  {
   "cell_type": "markdown",
   "metadata": {
    "slideshow": {
     "slide_type": "subslide"
    }
   },
   "source": [
    "# [sp](https://etcbc.github.io/bhsa/features/hebrew/2017/sp.html) (part-of-speech)\n",
    "\n",
    "In the BHSA core again.\n",
    "\n",
    "```\n",
    "@node\n",
    "@author=Eep Talstra Centre for Bible and Computer\n",
    "@dataset=BHSA\n",
    "@datasetName=Biblia Hebraica Stuttgartensia Amstelodamensis\n",
    "@email=shebanq@ancient-data.org\n",
    "@encoders=Constantijn Sikkel (QDF), and Dirk Roorda (TF)\n",
    "@valueType=str\n",
    "@version=2017\n",
    "@website=https://shebanq.ancient-data.org\n",
    "@writtenBy=Text-Fabric\n",
    "@dateWritten=2018-01-17T17:25:41Z\n",
    "\n",
    "prep\n",
    "subs\n",
    "verb\n",
    "subs\n",
    "prep\n",
    "art\n",
    "subs\n",
    "conj\n",
    "prep\n",
    "art\n",
    "subs\n",
    "```"
   ]
  },
  {
   "cell_type": "markdown",
   "metadata": {
    "slideshow": {
     "slide_type": "subslide"
    }
   },
   "source": [
    "# crossref\n",
    "from the [parallels module](https://github.com/ETCBC/parallels)\n",
    "\n",
    "```\n",
    "@edge\n",
    "@edgeValues\n",
    "@author=BHSA Data: Constantijn Sikkel; Parallels Notebook: Dirk Roorda, Martijn Naaijer\n",
    "@coreData=BHSA\n",
    "@coreVersion=2017\n",
    "@source=Parallels Module\n",
    "@valueType=int\n",
    "@writtenBy=Text-Fabric\n",
    "@dateWritten=2018-01-17T17:31:34Z\n",
    "\n",
    "1414202\t1414208\t84\n",
    "1414202\t1414212\t89\n",
    "1414204\t1414206\t77\n",
    "1414206\t1414204\t77\n",
    "1414208\t1414202,1414212\t84\n",
    "1414212\t1414208\t84\n",
    "1414212\t1414202\t89\n",
    "1414299\t1414308,1414471,1414473\t75\n",
    "1414299\t1414469\t76\n",
    "1414299\t1414325,1414479\t77\n",
    "1414299\t1414311\t78\n",
    "1414299\t1414302,1414467\t79\n",
    "1414299\t1414475,1414477\t80\n",
    "1414299\t1414314\t86\n",
    "```"
   ]
  },
  {
   "cell_type": "markdown",
   "metadata": {
    "slideshow": {
     "slide_type": "fragment"
    }
   },
   "source": [
    "The numbers become clearer when we start weaving.\n",
    "\n",
    "But for that we need the warp features first."
   ]
  },
  {
   "cell_type": "markdown",
   "metadata": {
    "slideshow": {
     "slide_type": "slide"
    }
   },
   "source": [
    "# Warp features\n",
    "\n",
    "* `otype`: each node has a type\n",
    "* `oslots`: each non-slot node is linked to a set of slot nodes\n",
    "* `otext`: specification of sections and text formats"
   ]
  },
  {
   "cell_type": "markdown",
   "metadata": {
    "slideshow": {
     "slide_type": "subslide"
    }
   },
   "source": [
    "# `otype`\n",
    "\n",
    "```\n",
    "@node\n",
    "@valueType=str\n",
    "@writtenBy=Text-Fabric\n",
    "@dateWritten=2018-01-17T17:25:40Z\n",
    "\n",
    "1-426584\tword\n",
    "426585-426623\tbook\n",
    "426624-427552\tchapter\n",
    "427553-515653\tclause\n",
    "515654-606322\tclause_atom\n",
    "606323-651502\thalf_verse\n",
    "651503-904689\tphrase\n",
    "904690-1172208\tphrase_atom\n",
    "1172209-1235919\tsentence\n",
    "1235920-1300405\tsentence_atom\n",
    "1300406-1414189\tsubphrase\n",
    "1414190-1437402\tverse\n",
    "1437403-1446635\tlex\n",
    "```"
   ]
  },
  {
   "cell_type": "markdown",
   "metadata": {
    "slideshow": {
     "slide_type": "subslide"
    }
   },
   "source": [
    "* this is a **node** feature\n",
    "* the format is regular TF syntax, exactly like all other (node) features\n",
    "* think of the IKEA warehouse: everything is nicely piled together\n",
    "  ![warehouse](images/warehouse.jpg)\n",
    "  * a pallet with words\n",
    "  * a corridor with linguistic objects\n",
    "  * shelves with clauses and phrases\n",
    "  * crates with books, chapters, and verses\n",
    "* every part is labeled with a node number\n",
    "  ![barcode](images/barcode.png)"
   ]
  },
  {
   "cell_type": "markdown",
   "metadata": {
    "slideshow": {
     "slide_type": "subslide"
    }
   },
   "source": [
    "# `oslots`\n",
    "\n",
    "```\n",
    "@edge\n",
    "@valueType=str\n",
    "@writtenBy=Text-Fabric\n",
    "@dateWritten=2018-01-17T17:25:41Z\n",
    "\n",
    "426585\t1-28763\n",
    "28764-52511\n",
    "52512-69610\n",
    "69611-92798\n",
    "92799-112925\n",
    "```"
   ]
  },
  {
   "cell_type": "markdown",
   "metadata": {
    "slideshow": {
     "slide_type": "fragment"
    }
   },
   "source": [
    "* this is an **edge** feature: it *relates* nodes.\n",
    "* the format is regular TF syntax, exactly like all other (edge) features\n",
    "* `426585` is the first book\n",
    "* it is related to the words `1` to `28763`\n",
    "* the next line is about `426586`, the second book.\n",
    "* it is linked to the words `28764` to `52511`\n",
    "* there are 1,020,051 data lines in this feature"
   ]
  },
  {
   "cell_type": "markdown",
   "metadata": {
    "slideshow": {
     "slide_type": "subslide"
    }
   },
   "source": [
    "# `otext`\n",
    "\n",
    "```\n",
    "@config\n",
    "@author=Eep Talstra Centre for Bible and Computer\n",
    "@dataset=BHSA\n",
    "@datasetName=Biblia Hebraica Stuttgartensia Amstelodamensis\n",
    "@dateWritten=2018-01-17T17:25:46Z\n",
    "@email=shebanq@ancient-data.org\n",
    "@encoders=Constantijn Sikkel (QDF), Ulrik Petersen (MQL) and Dirk Roorda (TF)\n",
    "@fmt:lex-orig-full={g_lex_utf8} \n",
    "@fmt:lex-orig-plain={lex_utf8} \n",
    "@fmt:lex-trans-full={g_lex} \n",
    "@fmt:lex-trans-plain={lex0} \n",
    "@fmt:text-orig-full={qere_utf8/g_word_utf8}{qere_trailer_utf8/trailer_utf8}\n",
    "@fmt:text-orig-full-ketiv={g_word_utf8}{trailer_utf8}\n",
    "@fmt:text-orig-plain={g_cons_utf8}{trailer_utf8}\n",
    "@fmt:text-trans-full={qere/g_word}{qere_trailer/trailer}\n",
    "@fmt:text-trans-full-ketiv={g_word}{trailer}\n",
    "@fmt:text-trans-plain={g_cons}{trailer}\n",
    "@sectionFeatures=book,chapter,verse\n",
    "@sectionTypes=book,chapter,verse\n",
    "@version=2017\n",
    "@website=https://shebanq.ancient-data.org\n",
    "@writtenBy=Text-Fabric\n",
    "@writtenBy=Text-Fabric\n",
    "@dateWritten=2018-01-17T17:27:35Z\n",
    "```"
   ]
  },
  {
   "cell_type": "markdown",
   "metadata": {
    "slideshow": {
     "slide_type": "fragment"
    }
   },
   "source": [
    "* this is a **config** feature: it only contains metadata, there are no data lines\n",
    "* the `@fmt:...` lines are templates for textual formats\n",
    "* the `@sectionTypes` line gives names to the section levels\n",
    "* the `@sectionFeatures` mention the names of the features that contain section headers."
   ]
  },
  {
   "cell_type": "markdown",
   "metadata": {
    "slideshow": {
     "slide_type": "slide"
    }
   },
   "source": [
    "# Weaving\n",
    "\n",
    "If we have a **warp**, we can weave the **wefts** into it.\n",
    "\n",
    "A TF resource \n",
    "\n",
    "* has one fixed set of warp features: `otype oslots otext`\n",
    "* has arbitrary many weft features: `sp g_word_utf8`, ...\n",
    "* can be augmented with wefts from TF modules."
   ]
  },
  {
   "cell_type": "markdown",
   "metadata": {
    "slideshow": {
     "slide_type": "fragment"
    }
   },
   "source": [
    "A TF module\n",
    "* has only weft features\n",
    "\n",
    "When you use modules, they should have been build around the same warp as the main resource."
   ]
  },
  {
   "cell_type": "markdown",
   "metadata": {
    "slideshow": {
     "slide_type": "subslide"
    }
   },
   "source": [
    "We use tools to weave the yarns into a fabric.\n",
    "\n",
    "Let's enter the workshop and use a loom.\n",
    "![loom](images/loom.png)"
   ]
  },
  {
   "cell_type": "code",
   "execution_count": 70,
   "metadata": {
    "slideshow": {
     "slide_type": "slide"
    }
   },
   "outputs": [],
   "source": [
    "import sys\n",
    "import os\n",
    "import collections\n",
    "import re\n",
    "import operator\n",
    "from functools import reduce\n",
    "\n",
    "from tf.fabric import Fabric\n",
    "\n",
    "from utils import structure, layout"
   ]
  },
  {
   "cell_type": "code",
   "execution_count": 71,
   "metadata": {
    "slideshow": {
     "slide_type": "fragment"
    }
   },
   "outputs": [],
   "source": [
    "VERSION = '2017'\n",
    "BHSA = 'BHSA/tf/{}'.format(VERSION)           # warp en wefts\n",
    "TREES = 'lingo/trees/tf/{}'.format(VERSION)   # derived wefts\n",
    "OSM = 'bridging/tf/{}'.format(VERSION)        # wefts from the OSM crafts shop\n",
    "PHONO = 'phono/tf/{}'.format(VERSION)         # derived wefts\n",
    "PARALLELS = 'parallels/tf/{}'.format(VERSION) # derived wefts"
   ]
  },
  {
   "cell_type": "code",
   "execution_count": 72,
   "metadata": {
    "slideshow": {
     "slide_type": "fragment"
    }
   },
   "outputs": [
    {
     "name": "stdout",
     "output_type": "stream",
     "text": [
      "This is Text-Fabric 3.1.1\n",
      "Api reference : https://github.com/Dans-labs/text-fabric/wiki/Api\n",
      "Tutorial      : https://github.com/Dans-labs/text-fabric/blob/master/docs/tutorial.ipynb\n",
      "Example data  : https://github.com/Dans-labs/text-fabric-data\n",
      "\n",
      "124 features found and 0 ignored\n",
      "  0.00s loading features ...\n",
      "   |     0.22s B g_cons_utf8          from /Users/dirk/github/etcbc/BHSA/tf/2017\n",
      "   |     0.25s B g_word_utf8          from /Users/dirk/github/etcbc/BHSA/tf/2017\n",
      "   |     0.26s B phono                from /Users/dirk/github/etcbc/phono/tf/2017\n",
      "   |     0.01s B voc_lex_utf8         from /Users/dirk/github/etcbc/BHSA/tf/2017\n",
      "   |     0.01s B gloss                from /Users/dirk/github/etcbc/BHSA/tf/2017\n",
      "   |     0.01s B crossref             from /Users/dirk/github/etcbc/parallels/tf/2017\n",
      "   |     0.06s B tree                 from /Users/dirk/github/etcbc/lingo/trees/tf/2017\n",
      "   |     0.16s B osm                  from /Users/dirk/github/etcbc/bridging/tf/2017\n",
      "   |     0.00s Feature overview: 114 for nodes; 8 for edges; 2 configs; 7 computed\n",
      "  6.34s All features loaded/computed - for details use loadLog()\n"
     ]
    }
   ],
   "source": [
    "# prepare the loom, set up the warp, have the wefts ready \n",
    "TF = Fabric(locations='~/github/etcbc', modules=[BHSA, TREES, PHONO, PARALLELS, OSM])\n",
    "api = TF.load(f'''\n",
    "    g_word_utf8 g_cons_utf8\n",
    "    voc_lex_utf8 gloss\n",
    "    phono crossref tree\n",
    "    osm\n",
    "''')\n",
    "api.makeAvailableIn(globals())"
   ]
  },
  {
   "cell_type": "markdown",
   "metadata": {
    "slideshow": {
     "slide_type": "subslide"
    }
   },
   "source": [
    "Ready to produce a weave\n",
    "\n",
    "<img src=\"images/textile.png\" width=\"100%\"/>"
   ]
  },
  {
   "cell_type": "code",
   "execution_count": 73,
   "metadata": {
    "slideshow": {
     "slide_type": "subslide"
    }
   },
   "outputs": [
    {
     "name": "stdout",
     "output_type": "stream",
     "text": [
      "1414202 = Genesis 1:13 =~(84%) Genesis 1:19 = 1414208\n",
      "1414202 = Genesis 1:13 =~(89%) Genesis 1:23 = 1414212\n",
      "1414204 = Genesis 1:15 =~(77%) Genesis 1:17 = 1414206\n",
      "1414206 = Genesis 1:17 =~(77%) Genesis 1:15 = 1414204\n",
      "1414208 = Genesis 1:19 =~(84%) Genesis 1:13 = 1414202\n",
      "1414208 = Genesis 1:19 =~(84%) Genesis 1:23 = 1414212\n",
      "1414212 = Genesis 1:23 =~(89%) Genesis 1:13 = 1414202\n",
      "1414212 = Genesis 1:23 =~(84%) Genesis 1:19 = 1414208\n",
      "1414299 = Genesis 5:4 =~(79%) Genesis 5:7 = 1414302\n",
      "1414299 = Genesis 5:4 =~(75%) Genesis 5:13 = 1414308\n",
      "1414299 = Genesis 5:4 =~(78%) Genesis 5:16 = 1414311\n"
     ]
    }
   ],
   "source": [
    "n = 0\n",
    "limit = 10\n",
    "\n",
    "myLanguage = 'en'\n",
    "#myLanguage = 'da'\n",
    "#myLanguage = 'am'\n",
    "\n",
    "# start weaving !\n",
    "\n",
    "for verse in F.otype.s('verse'):\n",
    "    if n > limit: break\n",
    "    crossVerses = E.crossref.f(verse)\n",
    "    if crossVerses:\n",
    "        for (crossVerse, confidence) in crossVerses:\n",
    "            if n > limit: break\n",
    "            n += 1\n",
    "            print('{} = {} {}:{} =~({}%) {} {}:{} = {}'.format(\n",
    "                verse,\n",
    "                *T.sectionFromNode(verse, lang=myLanguage),\n",
    "                confidence,\n",
    "                *T.sectionFromNode(crossVerse, lang=myLanguage),\n",
    "                crossVerse,\n",
    "            ))"
   ]
  },
  {
   "cell_type": "markdown",
   "metadata": {
    "slideshow": {
     "slide_type": "slide"
    }
   },
   "source": [
    "# Example A - Trees\n",
    "\n",
    "In 2013/2014 we\n",
    "[crafted](https://github.com/ETCBC/lingo/blob/master/trees/trees.ipynb)\n",
    "tree structures from the BHSA data.\n",
    "\n",
    "Every sentence has a tree associated with it, like this:\n",
    "\n",
    "```\n",
    "(S(C(PP(pp 0)(n 1))(VP(vb 2))(NP(n 3))(PP(U(pp 4)(dt 5)(n 6))(cj 7)(U(pp 8)(dt 9)(n 10)))))\n",
    "```\n",
    "The numbers refer to the words in the sentence."
   ]
  },
  {
   "cell_type": "markdown",
   "metadata": {
    "slideshow": {
     "slide_type": "subslide"
    }
   },
   "source": [
    "The trees are available in a feature `tree`, defined for sentences.\n",
    "\n",
    "```\n",
    "@node\n",
    "@converter=Dirk Roorda\n",
    "@convertor=trees.ipynb\n",
    "@coreData=BHSA\n",
    "@coreVersion=2017\n",
    "@description=penn treebank represententation for sentences\n",
    "@url=https://github.com/etcbc/lingo/trees/trees.ipynb\n",
    "@valueType=str\n",
    "@writtenBy=Text-Fabric\n",
    "@dateWritten=2018-01-21T18:53:06Z\n",
    "\n",
    "1172209\t(S(C(PP(pp 0)(n 1))(VP(vb 2))(NP(n 3))(PP(U(pp 4)(dt 5)(n 6))(cj 7)(U(pp 8)(dt 9)(n 10)))))\n",
    "(S(C(CP(cj 0))(NP(dt 1)(n 2))(VP(vb 3))(NP(U(n 4))(cj 5)(U(n 6)))))\n",
    "(S(C(CP(cj 0))(NP(n 1))(PP(pp 2)(U(n 3))(U(n 4)))))\n",
    "(S(C(CP(cj 0))(NP(U(n 1))(U(n 2)))(VP(vb 3))(PP(pp 4)(U(n 5))(U(dt 6)(n 7)))))\n",
    "```"
   ]
  },
  {
   "cell_type": "markdown",
   "metadata": {
    "slideshow": {
     "slide_type": "fragment"
    }
   },
   "source": [
    "Trees are nice. But this output does **not** look nice."
   ]
  },
  {
   "cell_type": "markdown",
   "metadata": {
    "slideshow": {
     "slide_type": "subslide"
    }
   },
   "source": [
    "We want\n",
    "\n",
    "* multiline view\n",
    "* see the words\n",
    "* phonetically\n",
    "* with gloss\n",
    "* and with **Open Scriptures Morphology** tag!"
   ]
  },
  {
   "cell_type": "markdown",
   "metadata": {
    "slideshow": {
     "slide_type": "fragment"
    }
   },
   "source": [
    "We do this by\n",
    "\n",
    "* a bit of Python parsing of bracketed pairs\n",
    "  (swept under the carpet here in [utils.py](https://github.com/ETCBC/lingo/blob/master/trees/utils.py))\n",
    "* further weaving with Text-Fabric"
   ]
  },
  {
   "cell_type": "markdown",
   "metadata": {
    "slideshow": {
     "slide_type": "subslide"
    }
   },
   "source": [
    "Pick up the tree as a plain string, straight from the feature data:"
   ]
  },
  {
   "cell_type": "code",
   "execution_count": 74,
   "metadata": {
    "slideshow": {
     "slide_type": "fragment"
    }
   },
   "outputs": [
    {
     "name": "stdout",
     "output_type": "stream",
     "text": [
      "Job 3:16 - first word = 336986\n",
      "tree = (S(C(Ccoor(CP(cj 0))(PP(pp 1)(U(n 2))(U(vb 3)))(NegP(ng 4))(VP(vb 5)))(Ccoor(PP(pp 6)(n 7)(Cattr(NegP(ng 8))(VP(vb 9))(NP(n 10)))))))\n"
     ]
    }
   ],
   "source": [
    "passage = ('Job', 3, 16)\n",
    "verse = T.nodeFromSection(passage)\n",
    "sentence = L.d(verse, otype='sentence')[0]\n",
    "firstSlot = L.d(sentence, otype='word')[0]\n",
    "stringTree = F.tree.v(sentence)\n",
    "print('{} {}:{} - first word = {}\\ntree = {}'.format(*passage, firstSlot, stringTree))"
   ]
  },
  {
   "cell_type": "markdown",
   "metadata": {
    "slideshow": {
     "slide_type": "subslide"
    }
   },
   "source": [
    "Parse it into a structure:"
   ]
  },
  {
   "cell_type": "code",
   "execution_count": 75,
   "metadata": {
    "slideshow": {
     "slide_type": "fragment"
    }
   },
   "outputs": [
    {
     "data": {
      "text/plain": [
       "['S',\n",
       " ['C',\n",
       "  ['Ccoor',\n",
       "   ['CP', [('cj', 0)]],\n",
       "   ['PP', [('pp', 1)], ['U', [('n', 2)]], ['U', [('vb', 3)]]],\n",
       "   ['NegP', [('ng', 4)]],\n",
       "   ['VP', [('vb', 5)]]],\n",
       "  ['Ccoor',\n",
       "   ['PP',\n",
       "    [('pp', 6)],\n",
       "    [('n', 7)],\n",
       "    ['Cattr',\n",
       "     ['NegP', [('ng', 8)]],\n",
       "     ['VP', [('vb', 9)]],\n",
       "     ['NP', [('n', 10)]]]]]]]"
      ]
     },
     "execution_count": 75,
     "metadata": {},
     "output_type": "execute_result"
    }
   ],
   "source": [
    "tree = structure(stringTree)\n",
    "tree"
   ]
  },
  {
   "cell_type": "markdown",
   "metadata": {
    "slideshow": {
     "slide_type": "subslide"
    }
   },
   "source": [
    "We can display it a bit more friendly:"
   ]
  },
  {
   "cell_type": "code",
   "execution_count": 76,
   "metadata": {
    "slideshow": {
     "slide_type": "fragment"
    }
   },
   "outputs": [
    {
     "name": "stdout",
     "output_type": "stream",
     "text": [
      "  S\n",
      "    C\n",
      "      Ccoor\n",
      "        CP\n",
      "          cj 336986\n",
      "        PP\n",
      "          pp 336987\n",
      "          U\n",
      "            n 336988\n",
      "          U\n",
      "            vb 336989\n",
      "        NegP\n",
      "          ng 336990\n",
      "        VP\n",
      "          vb 336991\n",
      "      Ccoor\n",
      "        PP\n",
      "          pp 336992\n",
      "          n 336993\n",
      "          Cattr\n",
      "            NegP\n",
      "              ng 336994\n",
      "            VP\n",
      "              vb 336995\n",
      "            NP\n",
      "              n 336996\n"
     ]
    }
   ],
   "source": [
    "print(layout(tree, firstSlot, str))"
   ]
  },
  {
   "cell_type": "markdown",
   "metadata": {
    "slideshow": {
     "slide_type": "fragment"
    }
   },
   "source": [
    "Note that the `layout()` has replaced the relative word numbers in the sentence by absolute slot numbers in the dataset."
   ]
  },
  {
   "cell_type": "markdown",
   "metadata": {
    "slideshow": {
     "slide_type": "subslide"
    }
   },
   "source": [
    "All wefts are there, we have to weave them around each warp."
   ]
  },
  {
   "cell_type": "code",
   "execution_count": null,
   "metadata": {
    "slideshow": {
     "slide_type": "fragment"
    }
   },
   "outputs": [],
   "source": [
    "def osmPhonoGloss(n):\n",
    "    return '{{{}}} \"{}\" [{}] \"<{}>\"'.format(\n",
    "        F.osm.v(n),\n",
    "        F.g_word_utf8.v(n),\n",
    "        F.phono.v(n),\n",
    "        F.gloss.v(                  # gloss is a feature on lexemes, not words\n",
    "            L.u(n, otype='lex')[0]\n",
    "        ),\n",
    "    )"
   ]
  },
  {
   "cell_type": "markdown",
   "metadata": {
    "slideshow": {
     "slide_type": "subslide"
    }
   },
   "source": [
    "Here is the weave."
   ]
  },
  {
   "cell_type": "code",
   "execution_count": 77,
   "metadata": {
    "slideshow": {
     "slide_type": "fragment"
    }
   },
   "outputs": [
    {
     "name": "stdout",
     "output_type": "stream",
     "text": [
      " 1  S\n",
      " 2    C\n",
      " 3      Ccoor\n",
      " 4        CP\n",
      " 5          cj {HC} \"אֹ֚ו\" [ˈʔô] \"<or>\"\n",
      " 4        PP\n",
      " 5          pp {HR} \"כְ\" [ḵᵊ] \"<as>\"\n",
      " 5          U\n",
      " 6            n {HNcmsa} \"נֵ֣פֶל\" [nˈēfel] \"<miscarriage>\"\n",
      " 5          U\n",
      " 6            vb {HVqsmsa} \"טָ֭מוּן\" [ˈṭāmûn] \"<hide>\"\n",
      " 4        NegP\n",
      " 5          ng {HTn} \"לֹ֣א\" [lˈō] \"<not>\"\n",
      " 4        VP\n",
      " 5          vb {HVqi1cs} \"אֶהְיֶ֑ה\" [ʔehyˈeh] \"<be>\"\n",
      " 3      Ccoor\n",
      " 4        PP\n",
      " 5          pp {HR} \"כְּ֝\" [ˈkᵊ] \"<as>\"\n",
      " 5          n {HNcmpa} \"עֹלְלִ֗ים\" [ʕōlᵊlˈîm] \"<child>\"\n",
      " 5          Cattr\n",
      " 6            NegP\n",
      " 7              ng {HTn} \"לֹא\" [lō-] \"<not>\"\n",
      " 6            VP\n",
      " 7              vb {HVqp3cp} \"רָ֥אוּ\" [rˌāʔû] \"<see>\"\n",
      " 6            NP\n",
      " 7              n {HNcbsa} \"אֹֽור\" [ʔˈôr] \"<light>\"\n"
     ]
    }
   ],
   "source": [
    "print(layout(tree, firstSlot, osmPhonoGloss, withLevel=True))"
   ]
  },
  {
   "cell_type": "markdown",
   "metadata": {
    "slideshow": {
     "slide_type": "subslide"
    }
   },
   "source": [
    "The raw strings are handy for structure analysis, in a way the woven trees cannot be.\n",
    "\n",
    "Let us see how many distinct tree structures we've got."
   ]
  },
  {
   "cell_type": "code",
   "execution_count": 78,
   "metadata": {
    "slideshow": {
     "slide_type": "fragment"
    }
   },
   "outputs": [
    {
     "name": "stdout",
     "output_type": "stream",
     "text": [
      "28096 distinct trees of 63711 in total\n"
     ]
    }
   ],
   "source": [
    "treeDistribution = F.tree.freqList()\n",
    "print('{} distinct trees of {} in total'.format(\n",
    "    len(treeDistribution),\n",
    "    sum(x[1] for x in treeDistribution),\n",
    "))"
   ]
  },
  {
   "cell_type": "code",
   "execution_count": 79,
   "metadata": {
    "slideshow": {
     "slide_type": "subslide"
    }
   },
   "outputs": [
    {
     "name": "stdout",
     "output_type": "stream",
     "text": [
      "3772 x (S(C(CP(cj 0))(VP(vb 1))))\n",
      "1238 x (S(C(VP(vb 0))))\n",
      "1173 x (S(C(CP(cj 0))(VP(vb 1))(PP(pp 2))))\n",
      " 857 x (S(C(CP(cj 0))(VP(vb 1))(PP(pp 2)(n 3))))\n",
      " 749 x (S(C(CP(cj 0))(VP(vb 1))(NP(n 2))))\n",
      " 577 x (S(C(CP(cj 0))(VP(vb 1))(PrNP(n-pr 2))))\n",
      " 568 x (S(C(CP(cj 0))(VP(vb 1))(PP(pp 2)(dt 3)(n 4))))\n",
      " 554 x (S(C(VP(vb 0))(NP(n 1))))\n",
      " 441 x (S(C(CP(cj 0))(NegP(ng 1))(VP(vb 2))))\n",
      " 406 x (S(C(CP(cj 0))(VP(vb 1))(PP(pp 2)(n-pr 3))))\n"
     ]
    }
   ],
   "source": [
    "for (tree, amount) in treeDistribution[0:10]:\n",
    "    print('{:>4} x {}'.format(amount, tree))"
   ]
  },
  {
   "cell_type": "markdown",
   "metadata": {
    "slideshow": {
     "slide_type": "subslide"
    }
   },
   "source": [
    "I'm intrigued by the most frequent tree structure.\n",
    "\n",
    "Which verbs occur in such a sentence? Let's find out."
   ]
  },
  {
   "cell_type": "code",
   "execution_count": 80,
   "metadata": {
    "slideshow": {
     "slide_type": "fragment"
    }
   },
   "outputs": [
    {
     "name": "stdout",
     "output_type": "stream",
     "text": [
      "501 lexemes found\n"
     ]
    }
   ],
   "source": [
    "lexemes = collections.Counter()\n",
    "short = treeDistribution[0][0]\n",
    "for s in F.otype.s('sentence'):\n",
    "    if F.tree.v(s) == short:\n",
    "        verb = L.d(s, otype='word')[1]\n",
    "        lexeme = L.u(verb, otype='lex')[0]\n",
    "        lexemes[lexeme] += 1\n",
    "print('{} lexemes found'.format(len(lexemes)))"
   ]
  },
  {
   "cell_type": "code",
   "execution_count": 81,
   "metadata": {
    "slideshow": {
     "slide_type": "subslide"
    }
   },
   "outputs": [
    {
     "name": "stdout",
     "output_type": "stream",
     "text": [
      "1045 x \"אמר\" [say]\n",
      " 203 x \"היה\" [be]\n",
      " 107 x \"הלך\" [walk]\n",
      " 106 x \"מות\" [die]\n",
      "  87 x \"ראה\" [see]\n",
      "  80 x \"בוא\" [come]\n",
      "  71 x \"שׁוב\" [return]\n",
      "  70 x \"אכל\" [eat]\n",
      "  52 x \"קום\" [arise]\n",
      "  45 x \"חיה\" [be alive]\n"
     ]
    }
   ],
   "source": [
    "for (lex, amount) in sorted(lexemes.items(), key=lambda x: (-x[1], x[0]))[0:10]:\n",
    "    print('{:>4} x \"{}\" [{}]'.format(\n",
    "        amount,\n",
    "        F.voc_lex_utf8.v(lex),\n",
    "        F.gloss.v(lex),\n",
    "    ))"
   ]
  },
  {
   "cell_type": "markdown",
   "metadata": {
    "slideshow": {
     "slide_type": "slide"
    }
   },
   "source": [
    "<img src=\"images/openscriptures.png\" align=\"right\"/>\n",
    "\n",
    "# Example B - Open Scriptures Morphology"
   ]
  },
  {
   "cell_type": "markdown",
   "metadata": {
    "slideshow": {
     "slide_type": "fragment"
    }
   },
   "source": [
    "* align the WLC with the BHS\n",
    "* compare the OSM with the BHSA"
   ]
  },
  {
   "cell_type": "markdown",
   "metadata": {
    "slideshow": {
     "slide_type": "subslide"
    }
   },
   "source": [
    "## Aligning\n",
    "\n",
    "See [BHSAbridgeOSM.ipynb](https://github.com/ETCBC/bridging/blob/master/programs/BHSAbridgeOSM.ipynb)\n",
    "\n",
    "* performs a consonant by consonant alignment between the WLC and BHS\n",
    "* stumbled on a few cases requiring a hint:"
   ]
  },
  {
   "cell_type": "markdown",
   "metadata": {
    "slideshow": {
     "slide_type": "fragment"
    }
   },
   "source": [
    "```python\n",
    "exceptions = {\n",
    "    215253: 1,\n",
    "    266189: 1,\n",
    "    287360: 2,\n",
    "    376865: 1,\n",
    "    383405: 2,\n",
    "    384049: 1,\n",
    "    384050: 1,\n",
    "    405102: -2,\n",
    "}\n",
    "```"
   ]
  },
  {
   "cell_type": "markdown",
   "metadata": {
    "slideshow": {
     "slide_type": "fragment"
    }
   },
   "source": [
    "```\n",
    "Succeeded in aligning BHS with OSM\n",
    "420103 BHS words matched against 469448 OSM morphemes with 8 known exceptions\n",
    "```"
   ]
  },
  {
   "cell_type": "markdown",
   "metadata": {
    "slideshow": {
     "slide_type": "subslide"
    }
   },
   "source": [
    "With a bit of weaving, these exceptions are:"
   ]
  },
  {
   "cell_type": "markdown",
   "metadata": {
    "slideshow": {
     "slide_type": "fragment"
    }
   },
   "source": [
    "```\n",
    "Isaiah 9:6\n",
    "                         BHS 215253                         = מרבה\n",
    "                         OSM w1                             = םרבה\n",
    "Ezekiel 4:6\n",
    "                         BHS 266189                         = ימוני\n",
    "                         OSM w7                             = ימיני\n",
    "Ezekiel 43:11\n",
    "                         BHS 287360                         = צורתו\n",
    "                         OSM w17, w17                       = צורת/י\n",
    "Daniel 10:19\n",
    "                         BHS 376865                         = כְ\n",
    "                         OSM w10                            = בְ\n",
    "Ezra 10:44\n",
    "                         BHS 383405                         = נשׂאו\n",
    "                         OSM w3, w3                         = נשא/י\n",
    "Nehemiah 2:13\n",
    "                         BHS 384049                         = הם\n",
    "                         OSM w17                            = ה\n",
    "Nehemiah 2:13\n",
    "                         BHS 384050                         = פרוצים\n",
    "                         OSM w17                            = מפרוצים\n",
    "1_Chronicles 27:12\n",
    "                         BHS 405102, 405103                 = בן/ימיני\n",
    "                         OSM w6                             = בנימיני\n",
    "```"
   ]
  },
  {
   "cell_type": "markdown",
   "metadata": {
    "slideshow": {
     "slide_type": "subslide"
    }
   },
   "source": [
    "There are cases where the OSM and the BHSA differ in the breaking-up of words."
   ]
  },
  {
   "cell_type": "markdown",
   "metadata": {
    "slideshow": {
     "slide_type": "fragment"
    }
   },
   "source": [
    "```\n",
    "OSM morphemes without BHSA word:          0\n",
    "OSM morphemes with multiple BHSA words: 130\n",
    "OSM morphemes with 2        BHSA words: 123\n",
    "OSM morphemes with 3        BHSA words:   7\n",
    "```"
   ]
  },
  {
   "cell_type": "markdown",
   "metadata": {
    "slideshow": {
     "slide_type": "subslide"
    }
   },
   "source": [
    "The OSM is not yet finished.\n",
    "\n",
    "We made a list of word nodes for which no morpheme has been tagged"
   ]
  },
  {
   "cell_type": "markdown",
   "metadata": {
    "slideshow": {
     "slide_type": "fragment"
    }
   },
   "source": [
    "53841 =~ 10% unfinished."
   ]
  },
  {
   "cell_type": "markdown",
   "metadata": {
    "slideshow": {
     "slide_type": "fragment"
    }
   },
   "source": [
    "```\n",
    "Non-marked-up stretches having length x: y times\n",
    "   1: 14990\n",
    "   2:  8336\n",
    "   3:  2802\n",
    "   4:  1090\n",
    "   5:   493\n",
    "   6:   285\n",
    "   7:   162\n",
    "   8:    90\n",
    "   9:    70\n",
    "  10:    37\n",
    "  11:    33\n",
    "  12:    19\n",
    "  13:    11\n",
    "  14:    17\n",
    "  15:     9\n",
    "  16:     7\n",
    "  17:     2\n",
    "  18:     2\n",
    "  19:     6\n",
    "  20:     1\n",
    "  21:     1\n",
    "  22:     3\n",
    "  23:     2\n",
    "  25:     2\n",
    "  26:     2\n",
    "  27:     1\n",
    "  28:     1\n",
    "  29:     1\n",
    "  32:     1\n",
    "  33:     1\n",
    "  35:     1\n",
    "  36:     1\n",
    "  38:     2\n",
    "  41:     1\n",
    "  47:     1\n",
    "  60:     1\n",
    "  61:     1\n",
    "  72:     1\n",
    "  74:     1\n",
    "  75:     1\n",
    "```"
   ]
  },
  {
   "cell_type": "markdown",
   "metadata": {
    "slideshow": {
     "slide_type": "fragment"
    }
   },
   "source": [
    "What remains is: filling in the dots!"
   ]
  },
  {
   "cell_type": "markdown",
   "metadata": {
    "slideshow": {
     "slide_type": "subslide"
    }
   },
   "source": [
    "We carry out the comparison for unproblematic words:\n",
    "\n",
    "* good alignment       (  8 BHSA words excluded)\n",
    "* same word breaks     (276 BHSA words excluded)\n",
    "* morph tags available"
   ]
  },
  {
   "cell_type": "markdown",
   "metadata": {
    "slideshow": {
     "slide_type": "slide"
    }
   },
   "source": [
    "# Comparing\n",
    "\n",
    "We compare *categories*."
   ]
  },
  {
   "cell_type": "markdown",
   "metadata": {
    "slideshow": {
     "slide_type": "fragment"
    }
   },
   "source": [
    "In [OSM](http://openscriptures.github.io/morphhb/parsing/HebrewMorphologyCodes.html):\n",
    "* part-of-speech\n",
    "* and their subtypes"
   ]
  },
  {
   "cell_type": "markdown",
   "metadata": {
    "slideshow": {
     "slide_type": "fragment"
    }
   },
   "source": [
    "In BHSA the features:\n",
    "* [sp](https://etcbc.github.io/bhsa/features/hebrew/2017/sp.html) = part of speech\n",
    "* [ls](https://etcbc.github.io/bhsa/features/hebrew/2017/ls.html) = lexical set\n",
    "* [nametype](https://etcbc.github.io/bhsa/features/hebrew/2017/nametype.html)"
   ]
  },
  {
   "cell_type": "markdown",
   "metadata": {
    "slideshow": {
     "slide_type": "subslide"
    }
   },
   "source": [
    "<img src=\"images/openscriptures.png\" align=\"right\"/>\n",
    "\n",
    "```python\n",
    "pspOSM = {\n",
    "    '': dict(\n",
    "        A='adjective',\n",
    "        C='conjunction',\n",
    "        D='adverb',\n",
    "        N='noun',\n",
    "        P='pronoun',\n",
    "        R='preposition',\n",
    "        S='suffix',\n",
    "        T='particle',\n",
    "        V='verb',\n",
    "    ),\n",
    "    'A': dict(\n",
    "        a='adjective',\n",
    "        c='cardinal number',\n",
    "        g='gentilic',\n",
    "        o='ordinal number',\n",
    "    ),\n",
    "    'N': dict(\n",
    "        c='common',\n",
    "        g='gentilic',\n",
    "        p='proper name',\n",
    "    ),\n",
    "    'P': dict(\n",
    "        d='demonstrative',\n",
    "        f='indefinite',\n",
    "        i='interrogative',\n",
    "        p='personal',\n",
    "        r='relative',\n",
    "    ),\n",
    "    'R': dict(\n",
    "        d='definite article',\n",
    "    ),\n",
    "    'S': dict(\n",
    "        d='directional he',\n",
    "        h='paragogic he',\n",
    "        n='paragogic nun',\n",
    "        p='pronominal',\n",
    "    ),\n",
    "    'T': dict(\n",
    "        a='affirmation',\n",
    "        d='definite article',\n",
    "        e='exhortation',\n",
    "        i='interrogative',\n",
    "        j='interjection',\n",
    "        m='demonstrative',\n",
    "        n='negative',\n",
    "        o='direct object marker',\n",
    "        r='relative',\n",
    "    ),\n",
    "}\n",
    "```"
   ]
  },
  {
   "cell_type": "markdown",
   "metadata": {
    "slideshow": {
     "slide_type": "subslide"
    }
   },
   "source": [
    "<img src=\"images/etcbc-round.png\" align=\"right\"/>\n",
    "\n",
    "```python\n",
    "spBHS = dict(\n",
    "    art='article',\n",
    "    verb='verb',\n",
    "    subs='noun',\n",
    "    nmpr='proper noun',\n",
    "    advb='adverb',\n",
    "    prep='preposition',\n",
    "    conj='conjunction',\n",
    "    prps='personal pronoun',\n",
    "    prde='demonstrative pronoun',\n",
    "    prin='interrogative pronoun',\n",
    "    intj='interjection',\n",
    "    nega='negative particle',\n",
    "    inrg='interrogative particle',\n",
    "    adjv='adjective',\n",
    ")\n",
    "lsBHS = dict(\n",
    "    nmdi='distributive noun',\n",
    "    nmcp='copulative noun',\n",
    "    padv='potential adverb',\n",
    "    afad='anaphoric adverb',\n",
    "    ppre='potential preposition',\n",
    "    cjad='conjunctive adverb',\n",
    "    ordn='ordinal',\n",
    "    vbcp='copulative verb',\n",
    "    mult='noun of multitude',\n",
    "    focp='focus particle',\n",
    "    ques='interrogative particle',\n",
    "    gntl='gentilic',\n",
    "    quot='quotation verb',\n",
    "    card='cardinal',\n",
    "    none=MISSING,\n",
    ")\n",
    "nametypeBHS = dict(\n",
    "    pers='person',\n",
    "    mens='measurement unit',\n",
    "    gens='people',\n",
    "    topo='place',\n",
    "    ppde='demonstrative personal pronoun',\n",
    ")\n",
    "nametypeBHS.update({\n",
    "    'pers,gens,topo': 'person',\n",
    "    'pers,gens': 'person',\n",
    "    'gens,topo': 'gentilic',\n",
    "    'pers,god': 'person',\n",
    "})\n",
    "```"
   ]
  },
  {
   "cell_type": "markdown",
   "metadata": {
    "slideshow": {
     "slide_type": "subslide"
    }
   },
   "source": [
    "# Better dumb than smart\n",
    "\n",
    "We just counted the pairs of OSM, BHSA categories that co-occurred on words.\n",
    "\n",
    "A selection of the outcomes.\n",
    "\n",
    "This is OSM versus BHSA"
   ]
  },
  {
   "cell_type": "markdown",
   "metadata": {
    "slideshow": {
     "slide_type": "fragment"
    }
   },
   "source": [
    "```\n",
    "verb                                    \n",
    "\tverb::                         ( 84% =  50691x)\n",
    "\tverb:quotation verb:           ( 10% =   6137x)\n",
    "\tverb:copulative verb:          (  5% =   3246x)\n",
    "\tnoun::                         (  0% =      6x)\n",
    "\tadjective::                    (  0% =      3x)\n",
    "\tpreposition::                  (  0% =      1x)\n",
    "\tproper noun::                  (  0% =      1x)\n",
    "```"
   ]
  },
  {
   "cell_type": "markdown",
   "metadata": {
    "slideshow": {
     "slide_type": "fragment"
    }
   },
   "source": [
    "**Excellent** Just 11 discrepancies in 60,000 cases!"
   ]
  },
  {
   "cell_type": "markdown",
   "metadata": {
    "slideshow": {
     "slide_type": "subslide"
    }
   },
   "source": [
    "```\n",
    "preposition                             \n",
    "\tpreposition::                  ( 96% =  50697x)\n",
    "\tnoun:potential preposition:    (  3% =   1643x)\n",
    "\tadverb:conjunctive adverb:     (  0% =    194x)\n",
    "\tinterrogative particle::       (  0% =    169x)\n",
    "\tnoun:cardinal:                 (  0% =     13x)\n",
    "\tconjunction::                  (  0% =      5x)\n",
    "\tnoun::                         (  0% =      2x)\n",
    "\tproper noun::                  (  0% =      2x)\n",
    "\tarticle::                      (  0% =      1x)\n",
    "\tverb::                         (  0% =      1x)\n",
    "```"
   ]
  },
  {
   "cell_type": "code",
   "execution_count": 82,
   "metadata": {
    "slideshow": {
     "slide_type": "fragment"
    }
   },
   "outputs": [
    {
     "name": "stdout",
     "output_type": "stream",
     "text": [
      "Discrepancies: 0.76% = 387x out of 51084\n"
     ]
    }
   ],
   "source": [
    "disc = 194 + 169 + 13 + 5 + 2 + 2 + 1 + 1\n",
    "tot = 50697 + disc\n",
    "discPerc = round(100 * disc / tot, 2)\n",
    "print('Discrepancies: {}% = {}x out of {}'.format(discPerc, disc, tot))"
   ]
  },
  {
   "cell_type": "markdown",
   "metadata": {
    "slideshow": {
     "slide_type": "subslide"
    }
   },
   "source": [
    "* all *rare* cases have been collected into a big list\n",
    "* context info has been woven into the list\n",
    "* there are 645 such cases\n",
    "* see [allCategoriesCases.tsv](https://github.com/ETCBC/bridging/blob/master/programs/allCategoriesCases.tsv) on GitHub"
   ]
  },
  {
   "cell_type": "markdown",
   "metadata": {
    "slideshow": {
     "slide_type": "fragment"
    }
   },
   "source": [
    "![1](images/cases1.png)"
   ]
  },
  {
   "cell_type": "markdown",
   "metadata": {
    "slideshow": {
     "slide_type": "fragment"
    }
   },
   "source": [
    "![2](images/cases2.png)"
   ]
  },
  {
   "cell_type": "markdown",
   "metadata": {
    "slideshow": {
     "slide_type": "subslide"
    }
   },
   "source": [
    "# So what?"
   ]
  },
  {
   "cell_type": "markdown",
   "metadata": {
    "slideshow": {
     "slide_type": "fragment"
    }
   },
   "source": [
    "* inspect the rare cases:\n",
    "  * these might be glitches, in BHSA or in OSM or in both\n",
    "  * these might be disputable cases: add them to the docs"
   ]
  },
  {
   "cell_type": "markdown",
   "metadata": {
    "slideshow": {
     "slide_type": "fragment"
    }
   },
   "source": [
    "* inspect the majority cases: which categories map to which?\n",
    "  * maybe some categories can be harmonized\n",
    "  * if that is not desirable: we can generate an exhaustive mapping"
   ]
  },
  {
   "cell_type": "markdown",
   "metadata": {
    "slideshow": {
     "slide_type": "fragment"
    }
   },
   "source": [
    "* in the end: we can make a BHSA-OSM category mapping that is\n",
    "  * comprehensive\n",
    "  * machine-readable\n",
    "  * documented"
   ]
  },
  {
   "cell_type": "markdown",
   "metadata": {
    "slideshow": {
     "slide_type": "slide"
    }
   },
   "source": [
    "# Conclusions"
   ]
  },
  {
   "cell_type": "markdown",
   "metadata": {
    "slideshow": {
     "slide_type": "fragment"
    }
   },
   "source": [
    "<img src=\"images/etcbc-round-small.png\" align=\"left\" width=\"48\"/> is awesome\n",
    "\n",
    "<img src=\"images/openscriptures.png\" align=\"left\" width=\"72\"/> is terrific"
   ]
  },
  {
   "cell_type": "markdown",
   "metadata": {
    "slideshow": {
     "slide_type": "fragment"
    }
   },
   "source": [
    "<img src=\"images/etcbc-plus-os.png\" align=\"left\"/> \n",
    "\n",
    "$\\gt$ awesome $+$ terrific"
   ]
  },
  {
   "cell_type": "markdown",
   "metadata": {
    "slideshow": {
     "slide_type": "subslide"
    }
   },
   "source": [
    "<img src=\"images/tf-small.png\" align=\"right\"/>\n",
    "\n",
    "[Text-Fabric](https://github.com/Dans-labs/text-fabric) is a\n",
    "* [model](https://github.com/Dans-labs/text-fabric/wiki/Data-Model)\n",
    "* [file format](https://github.com/Dans-labs/text-fabric/wiki/File-formats)\n",
    "* [tool](https://github.com/Dans-labs/text-fabric/wiki/Api)\n",
    "\n",
    "to support the logistics of the interchange of biblical treasures"
   ]
  },
  {
   "cell_type": "markdown",
   "metadata": {
    "slideshow": {
     "slide_type": "subslide"
    }
   },
   "source": [
    "![ikea](images/ikea.png)\n",
    "\n",
    "Thank you\n",
    "\n",
    "dirk.roorda@dans.knaw.nl"
   ]
  },
  {
   "cell_type": "code",
   "execution_count": null,
   "metadata": {},
   "outputs": [],
   "source": []
  }
 ],
 "metadata": {
  "celltoolbar": "Slideshow",
  "kernelspec": {
   "display_name": "Python 3",
   "language": "python",
   "name": "python3"
  },
  "language_info": {
   "codemirror_mode": {
    "name": "ipython",
    "version": 3
   },
   "file_extension": ".py",
   "mimetype": "text/x-python",
   "name": "python",
   "nbconvert_exporter": "python",
   "pygments_lexer": "ipython3",
   "version": "3.6.4"
  },
  "livereveal": {
   "scroll": true,
   "start_slideshow_at": "selected"
  }
 },
 "nbformat": 4,
 "nbformat_minor": 1
}
