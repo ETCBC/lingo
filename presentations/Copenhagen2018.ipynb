{
 "cells": [
  {
   "cell_type": "markdown",
   "metadata": {
    "slideshow": {
     "slide_type": "slide"
    }
   },
   "source": [
    "<img src=\"images/etcbc.png\" align=\"left\"/>\n",
    "<img src=\"images/dans.png\" align=\"right\"/>\n",
    "\n",
    "<img src=\"images/tf.png\" width=\"50%\"/>\n",
    "\n",
    "# Handling Biblical data with IKEA logistics <a class=\"tocSkip\">\n",
    "\n",
    "Dirk Roorda - 2018-03-20 [ETEN Workshop](http://global-learning.org/course/view.php?id=16)"
   ]
  },
  {
   "cell_type": "markdown",
   "metadata": {
    "slideshow": {
     "slide_type": "slide"
    }
   },
   "source": [
    "# Perspective\n",
    "\n",
    "* Research data\n",
    "* Researchers are ...\n",
    "  * not engineers\n",
    "  * not consumers\n",
    "  * tinkerers (in their own sheds ... or *labs* as they like to say)\n",
    "* Programming *theologians*, *cuneiform decipherers*, *humanists*"
   ]
  },
  {
   "cell_type": "markdown",
   "metadata": {
    "slideshow": {
     "slide_type": "slide"
    }
   },
   "source": [
    "# Workbench (Cunei)"
   ]
  },
  {
   "cell_type": "code",
   "execution_count": 60,
   "metadata": {
    "ExecuteTime": {
     "end_time": "2018-03-08T05:39:10.464508Z",
     "start_time": "2018-03-08T05:39:10.456160Z"
    },
    "slideshow": {
     "slide_type": "subslide"
    }
   },
   "outputs": [],
   "source": [
    "import sys, os\n",
    "from IPython.display import display, HTML, Markdown"
   ]
  },
  {
   "cell_type": "code",
   "execution_count": 61,
   "metadata": {
    "ExecuteTime": {
     "end_time": "2018-03-08T05:39:13.140276Z",
     "start_time": "2018-03-08T05:39:12.062660Z"
    },
    "scrolled": false,
    "slideshow": {
     "slide_type": "subslide"
    }
   },
   "outputs": [
    {
     "name": "stdout",
     "output_type": "stream",
     "text": [
      "Found 2095 ideograph linearts\n",
      "Found 2724 tablet linearts\n",
      "Found 5495 tablet photos\n"
     ]
    },
    {
     "data": {
      "text/markdown": [
       "**Documentation:** <a target=\"_blank\" href=\"https://github.com/Nino-cunei/uruk/blob/master/docs/about.md\" title=\"{provenance of this corpus}\">Uruk IV-III (v1.0)</a> <a target=\"_blank\" href=\"https://github.com/Nino-cunei/uruk/blob/master/docs/transcription.md\" title=\"{source} feature documentation\">Feature docs</a> <a target=\"_blank\" href=\"https://github.com/Nino-cunei/uruk/blob/master/docs/cunei.md\" title=\"cunei api documentation\">Cunei API</a> <a target=\"_blank\" href=\"https://github.com/Dans-labs/text-fabric/wiki/api\" title=\"text-fabric-api\">Text-Fabric API</a>"
      ],
      "text/plain": [
       "<IPython.core.display.Markdown object>"
      ]
     },
     "metadata": {},
     "output_type": "display_data"
    },
    {
     "data": {
      "text/markdown": [
       "\n",
       "This notebook online:\n",
       "<a target=\"_blank\" href=\"http://nbviewer.jupyter.org/github/etcbc/lingo/blob/master/presentations/Copenhagen2018.ipynb\">NBViewer</a>\n",
       "<a target=\"_blank\" href=\"https://github.com/etcbc/lingo/blob/master/presentations/Copenhagen2018.ipynb\">GitHub</a>\n"
      ],
      "text/plain": [
       "<IPython.core.display.Markdown object>"
      ]
     },
     "metadata": {},
     "output_type": "display_data"
    }
   ],
   "source": [
    "LOC = ('~/github', 'Nino-cunei/uruk', 'Copenhagen2018')\n",
    "sys.path.append(os.path.expanduser(f'{LOC[0]}/{LOC[1]}/programs'))\n",
    "from cunei import Cunei\n",
    "CN = Cunei(*LOC)\n",
    "CN.api.makeAvailableIn(globals())"
   ]
  },
  {
   "cell_type": "code",
   "execution_count": 62,
   "metadata": {
    "ExecuteTime": {
     "end_time": "2018-03-07T15:11:33.655571Z",
     "start_time": "2018-03-07T15:11:33.652220Z"
    },
    "slideshow": {
     "slide_type": "slide"
    }
   },
   "outputs": [],
   "source": [
    "pNumX = 'P005381'"
   ]
  },
  {
   "cell_type": "code",
   "execution_count": 63,
   "metadata": {
    "slideshow": {
     "slide_type": "fragment"
    }
   },
   "outputs": [
    {
     "data": {
      "text/html": [
       "        <div style=\"display: flex;flex-flow: row nowrap;justify-content: flex-start;align-items: center;align-content: flex-start;\">            <div style=\"padding: 0.5rem;\">                <div style=\"display: flex;flex-flow: column nowrap;justify-content: space-between;align-items: center;align-content: space-between;\"><div><a target=\"_blank\" href=\"https://cdli.ucla.edu/dl/photo/P005381_d.jpg\" title=\"to higher resolution photo on CDLI\"><img src=\"cdli-imagery/nodeP005381photo.jpg\" style=\"display: inline;\" width=\"400\" /></a></div><div><a target=\"_blank\" href=\"https://cdli.ucla.edu/search/search_results.php?SearchMode=Text&ObjectID=P005381\" title=\"to CDLI main page\">P005381 on CDLI</a></div></div>            </div>        </div>        "
      ],
      "text/plain": [
       "<IPython.core.display.HTML object>"
      ]
     },
     "execution_count": 63,
     "metadata": {},
     "output_type": "execute_result"
    }
   ],
   "source": [
    "CN.photo(pNumX, width=\"400\")"
   ]
  },
  {
   "cell_type": "code",
   "execution_count": 64,
   "metadata": {
    "ExecuteTime": {
     "end_time": "2018-03-07T15:11:34.654862Z",
     "start_time": "2018-03-07T15:11:34.645853Z"
    },
    "slideshow": {
     "slide_type": "fragment"
    }
   },
   "outputs": [
    {
     "data": {
      "text/html": [
       "        <div style=\"display: flex;flex-flow: row nowrap;justify-content: flex-start;align-items: center;align-content: flex-start;\">            <div style=\"padding: 0.5rem;\">                <div style=\"display: flex;flex-flow: column nowrap;justify-content: space-between;align-items: center;align-content: space-between;\"><div><a target=\"_blank\" href=\"https://cdli.ucla.edu/dl/lineart/P005381_l.jpg\" title=\"to higher resolution lineart on CDLI\"><img src=\"cdli-imagery/nodeP005381lineart.jpg\" style=\"display: inline;\" width=\"300\" /></a></div><div><a target=\"_blank\" href=\"https://cdli.ucla.edu/search/search_results.php?SearchMode=Text&ObjectID=P005381\" title=\"to CDLI main page\">P005381 on CDLI</a></div></div>            </div>        </div>        "
      ],
      "text/plain": [
       "<IPython.core.display.HTML object>"
      ]
     },
     "execution_count": 64,
     "metadata": {},
     "output_type": "execute_result"
    }
   ],
   "source": [
    "CN.lineart(pNumX, width=\"300\")"
   ]
  },
  {
   "cell_type": "code",
   "execution_count": 65,
   "metadata": {
    "ExecuteTime": {
     "end_time": "2018-03-07T15:11:37.437028Z",
     "start_time": "2018-03-07T15:11:37.427267Z"
    },
    "slideshow": {
     "slide_type": "slide"
    }
   },
   "outputs": [
    {
     "name": "stdout",
     "output_type": "stream",
     "text": [
      "&P005381 = MSVO 3, 70\n",
      "#atf: lang qpc \n",
      "@obverse \n",
      "@column 1 \n",
      "1.a. 2(N14) , SZE~a SAL TUR3~a NUN~a \n",
      "1.b. 3(N19) , |GISZ.TE| \n",
      "2. 1(N14) , NAR NUN~a SIG7 \n",
      "3. 2(N04)# , PIRIG~b1 SIG7 URI3~a NUN~a \n",
      "@column 2 \n",
      "1. 3(N04) , |GISZ.TE| GAR |SZU2.((HI+1(N57))+(HI+1(N57)))| GI4~a \n",
      "2. , GU7 AZ SI4~f \n",
      "@reverse \n",
      "@column 1 \n",
      "1. 3(N14) , SZE~a \n",
      "2. 3(N19) 5(N04) , \n",
      "3. , GU7 \n",
      "@column 2 \n",
      "1. , AZ SI4~f \n"
     ]
    }
   ],
   "source": [
    "tabletX = T.nodeFromSection((pNumX,))\n",
    "sourceLines = CN.getSource(tabletX)\n",
    "print('\\n'.join(sourceLines))"
   ]
  },
  {
   "cell_type": "code",
   "execution_count": 66,
   "metadata": {
    "ExecuteTime": {
     "end_time": "2018-03-07T15:11:39.679084Z",
     "start_time": "2018-03-07T15:11:39.657479Z"
    },
    "scrolled": false,
    "slideshow": {
     "slide_type": "fragment"
    }
   },
   "outputs": [],
   "source": [
    "case = CN.nodeFromCase((pNumX, 'obverse:1', '1a'))"
   ]
  },
  {
   "cell_type": "code",
   "execution_count": 67,
   "metadata": {
    "ExecuteTime": {
     "end_time": "2018-03-07T15:11:42.417635Z",
     "start_time": "2018-03-07T15:11:42.407745Z"
    },
    "slideshow": {
     "slide_type": "fragment"
    }
   },
   "outputs": [
    {
     "data": {
      "text/html": [
       "        <div style=\"display: flex;flex-flow: row nowrap;justify-content: flex-start;align-items: center;align-content: flex-start;\">            <div style=\"padding: 0.5rem;\">                <div style=\"display: flex;flex-flow: column nowrap;justify-content: space-between;align-items: center;align-content: space-between;\"><div><a target=\"_blank\" href=\"https://cdli.ucla.edu/tools/SignLists/protocuneiform/archsigns/2(N14).jpg\" title=\"to higher resolution lineart on CDLI\"><img src=\"cdli-imagery/node106585lineart.jpg\" style=\"display: inline;\" width=\"50\" /></a></div><div><a target=\"_blank\" href=\"https://cdli.ucla.edu/tools/SignLists/protocuneiform/archsigns.html\" title=\"to CDLI main page\">2(N14) on CDLI</a></div></div></div><div style=\"padding: 0.5rem;\"><div style=\"display: flex;flex-flow: column nowrap;justify-content: space-between;align-items: center;align-content: space-between;\"><div><a target=\"_blank\" href=\"https://cdli.ucla.edu/tools/SignLists/protocuneiform/archsigns/SZE~a.jpg\" title=\"to higher resolution lineart on CDLI\"><img src=\"cdli-imagery/node106586lineart.jpg\" style=\"display: inline;\" width=\"50\" /></a></div><div><a target=\"_blank\" href=\"https://cdli.ucla.edu/tools/SignLists/protocuneiform/archsigns.html\" title=\"to CDLI main page\">SZE~a on CDLI</a></div></div></div><div style=\"padding: 0.5rem;\"><div style=\"display: flex;flex-flow: column nowrap;justify-content: space-between;align-items: center;align-content: space-between;\"><div><a target=\"_blank\" href=\"https://cdli.ucla.edu/tools/SignLists/protocuneiform/archsigns/SAL.jpg\" title=\"to higher resolution lineart on CDLI\"><img src=\"cdli-imagery/node106587lineart.jpg\" style=\"display: inline;\" width=\"50\" /></a></div><div><a target=\"_blank\" href=\"https://cdli.ucla.edu/tools/SignLists/protocuneiform/archsigns.html\" title=\"to CDLI main page\">SAL on CDLI</a></div></div></div><div style=\"padding: 0.5rem;\"><div style=\"display: flex;flex-flow: column nowrap;justify-content: space-between;align-items: center;align-content: space-between;\"><div><a target=\"_blank\" href=\"https://cdli.ucla.edu/tools/SignLists/protocuneiform/archsigns/TUR3~a.jpg\" title=\"to higher resolution lineart on CDLI\"><img src=\"cdli-imagery/node106588lineart.jpg\" style=\"display: inline;\" width=\"50\" /></a></div><div><a target=\"_blank\" href=\"https://cdli.ucla.edu/tools/SignLists/protocuneiform/archsigns.html\" title=\"to CDLI main page\">TUR3~a on CDLI</a></div></div></div><div style=\"padding: 0.5rem;\"><div style=\"display: flex;flex-flow: column nowrap;justify-content: space-between;align-items: center;align-content: space-between;\"><div><a target=\"_blank\" href=\"https://cdli.ucla.edu/tools/SignLists/protocuneiform/archsigns/NUN~a.jpg\" title=\"to higher resolution lineart on CDLI\"><img src=\"cdli-imagery/node106589lineart.jpg\" style=\"display: inline;\" width=\"50\" /></a></div><div><a target=\"_blank\" href=\"https://cdli.ucla.edu/tools/SignLists/protocuneiform/archsigns.html\" title=\"to CDLI main page\">NUN~a on CDLI</a></div></div>            </div>        </div>        "
      ],
      "text/plain": [
       "<IPython.core.display.HTML object>"
      ]
     },
     "execution_count": 67,
     "metadata": {},
     "output_type": "execute_result"
    }
   ],
   "source": [
    "CN.lineart(CN.getOuterQuads(case), width=50)"
   ]
  },
  {
   "cell_type": "markdown",
   "metadata": {},
   "source": [
    "## Tablet calculator"
   ]
  },
  {
   "cell_type": "code",
   "execution_count": 68,
   "metadata": {},
   "outputs": [],
   "source": [
    "pNums = '''\n",
    "    P005381\n",
    "    P005447\n",
    "    P005448\n",
    "'''.strip().split()\n",
    "\n",
    "pNumPat = '|'.join(pNums)"
   ]
  },
  {
   "cell_type": "code",
   "execution_count": 69,
   "metadata": {
    "ExecuteTime": {
     "end_time": "2018-03-08T11:46:29.097865Z",
     "start_time": "2018-03-08T11:46:29.091512Z"
    }
   },
   "outputs": [],
   "source": [
    "shinPP = dict(\n",
    "    N41=0.2,\n",
    "    N04=1,\n",
    "    N19=6,\n",
    "    N46=60,\n",
    "    N36=180,\n",
    "    N49=1800,\n",
    ")\n",
    "\n",
    "shinPPPat = '|'.join(shinPP)"
   ]
  },
  {
   "cell_type": "markdown",
   "metadata": {},
   "source": [
    "We query for shinPP numerals on the faces of selected tablets.\n",
    "The result of the query is a list of tuples `(t, f, s)` consisting of\n",
    "a tablet node, a face node and a sign node, which is a shinPP numeral."
   ]
  },
  {
   "cell_type": "code",
   "execution_count": 70,
   "metadata": {},
   "outputs": [],
   "source": [
    "query = f'''\n",
    "tablet catalogId={pNumPat}\n",
    "    face\n",
    "        sign type=numeral grapheme={shinPPPat}\n",
    "'''"
   ]
  },
  {
   "cell_type": "code",
   "execution_count": 71,
   "metadata": {},
   "outputs": [
    {
     "data": {
      "text/plain": [
       "20"
      ]
     },
     "execution_count": 71,
     "metadata": {},
     "output_type": "execute_result"
    }
   ],
   "source": [
    "results = list(S.search(query))\n",
    "len(results)"
   ]
  },
  {
   "cell_type": "markdown",
   "metadata": {},
   "source": [
    "We have found 20 numerals.\n",
    "We group the results by tablet and by face."
   ]
  },
  {
   "cell_type": "code",
   "execution_count": 72,
   "metadata": {},
   "outputs": [],
   "source": [
    "numerals = {}\n",
    "for (tablet, face, sign) in results:\n",
    "    numerals.setdefault(tablet, {}).setdefault(face, []).append(sign)"
   ]
  },
  {
   "cell_type": "markdown",
   "metadata": {},
   "source": [
    "We show the tablets, the shinPP numerals per face, and we add up the numerals per face."
   ]
  },
  {
   "cell_type": "code",
   "execution_count": 73,
   "metadata": {},
   "outputs": [
    {
     "data": {
      "text/markdown": [
       "---\n"
      ],
      "text/plain": [
       "<IPython.core.display.Markdown object>"
      ]
     },
     "metadata": {},
     "output_type": "display_data"
    },
    {
     "data": {
      "text/html": [
       "        <div style=\"display: flex;flex-flow: row nowrap;justify-content: flex-start;align-items: center;align-content: flex-start;\">            <div style=\"padding: 0.5rem;\">                <div style=\"display: flex;flex-flow: column-reverse nowrap;justify-content: space-between;align-items: center;align-content: space-between;\"><div><a target=\"_blank\" href=\"https://cdli.ucla.edu/dl/lineart/P005447_l.jpg\" title=\"to higher resolution lineart on CDLI\"><img src=\"cdli-imagery/node148227lineart.jpg\" style=\"display: inline;\" width=\"200\" /></a></div><div><a target=\"_blank\" href=\"https://cdli.ucla.edu/search/search_results.php?SearchMode=Text&ObjectID=P005447\" title=\"to CDLI main page\">P005447 on CDLI</a></div></div>            </div>        </div>        "
      ],
      "text/plain": [
       "<IPython.core.display.HTML object>"
      ]
     },
     "metadata": {},
     "output_type": "display_data"
    },
    {
     "data": {
      "text/markdown": [
       "### obverse"
      ],
      "text/plain": [
       "<IPython.core.display.Markdown object>"
      ]
     },
     "metadata": {},
     "output_type": "display_data"
    },
    {
     "data": {
      "text/html": [
       "        <div style=\"display: flex;flex-flow: row nowrap;justify-content: flex-start;align-items: center;align-content: flex-start;\">            <div style=\"padding: 0.5rem;\">                <div style=\"display: flex;flex-flow: column nowrap;justify-content: space-between;align-items: center;align-content: space-between;\"><div><a target=\"_blank\" href=\"https://cdli.ucla.edu/tools/SignLists/protocuneiform/archsigns/9(N19).jpg\" title=\"to higher resolution lineart on CDLI\"><img src=\"cdli-imagery/node9(N19)lineart.jpg\" style=\"display: inline;\"  /></a></div><div><a target=\"_blank\" href=\"https://cdli.ucla.edu/tools/SignLists/protocuneiform/archsigns.html\" title=\"to CDLI main page\">9(N19) on CDLI</a></div></div></div><div style=\"padding: 0.5rem;\"><div style=\"display: flex;flex-flow: column nowrap;justify-content: space-between;align-items: center;align-content: space-between;\"><div><a target=\"_blank\" href=\"https://cdli.ucla.edu/tools/SignLists/protocuneiform/archsigns/4(N04).jpg\" title=\"to higher resolution lineart on CDLI\"><img src=\"cdli-imagery/node4(N04)lineart.jpg\" style=\"display: inline;\"  /></a></div><div><a target=\"_blank\" href=\"https://cdli.ucla.edu/tools/SignLists/protocuneiform/archsigns.html\" title=\"to CDLI main page\">4(N04) on CDLI</a></div></div></div><div style=\"padding: 0.5rem;\"><div style=\"display: flex;flex-flow: column nowrap;justify-content: space-between;align-items: center;align-content: space-between;\"><div><a target=\"_blank\" href=\"https://cdli.ucla.edu/tools/SignLists/protocuneiform/archsigns/2(N19).jpg\" title=\"to higher resolution lineart on CDLI\"><img src=\"cdli-imagery/node2(N19)lineart.jpg\" style=\"display: inline;\"  /></a></div><div><a target=\"_blank\" href=\"https://cdli.ucla.edu/tools/SignLists/protocuneiform/archsigns.html\" title=\"to CDLI main page\">2(N19) on CDLI</a></div></div></div><div style=\"padding: 0.5rem;\"><div style=\"display: flex;flex-flow: column nowrap;justify-content: space-between;align-items: center;align-content: space-between;\"><div><a target=\"_blank\" href=\"https://cdli.ucla.edu/tools/SignLists/protocuneiform/archsigns/2(N04).jpg\" title=\"to higher resolution lineart on CDLI\"><img src=\"cdli-imagery/node2(N04)lineart.jpg\" style=\"display: inline;\"  /></a></div><div><a target=\"_blank\" href=\"https://cdli.ucla.edu/tools/SignLists/protocuneiform/archsigns.html\" title=\"to CDLI main page\">2(N04) on CDLI</a></div></div>            </div>        </div>        "
      ],
      "text/plain": [
       "<IPython.core.display.HTML object>"
      ]
     },
     "metadata": {},
     "output_type": "display_data"
    },
    {
     "name": "stdout",
     "output_type": "stream",
     "text": [
      "1 x 9(N19) = 1 x 9 x 6 = 54\n",
      "1 x 4(N04) = 1 x 4 x 1 = 4\n",
      "2 x 2(N19) = 2 x 2 x 6 = 24\n",
      "1 x 2(N04) = 1 x 2 x 1 = 2\n"
     ]
    },
    {
     "data": {
      "text/markdown": [
       "**total** = **84**"
      ],
      "text/plain": [
       "<IPython.core.display.Markdown object>"
      ]
     },
     "metadata": {},
     "output_type": "display_data"
    },
    {
     "data": {
      "text/markdown": [
       "### reverse"
      ],
      "text/plain": [
       "<IPython.core.display.Markdown object>"
      ]
     },
     "metadata": {},
     "output_type": "display_data"
    },
    {
     "data": {
      "text/html": [
       "        <div style=\"display: flex;flex-flow: row nowrap;justify-content: flex-start;align-items: center;align-content: flex-start;\">            <div style=\"padding: 0.5rem;\">                <div style=\"display: flex;flex-flow: column nowrap;justify-content: space-between;align-items: center;align-content: space-between;\"><div><a target=\"_blank\" href=\"https://cdli.ucla.edu/tools/SignLists/protocuneiform/archsigns/1(N46).jpg\" title=\"to higher resolution lineart on CDLI\"><img src=\"cdli-imagery/node1(N46)lineart.jpg\" style=\"display: inline;\"  /></a></div><div><a target=\"_blank\" href=\"https://cdli.ucla.edu/tools/SignLists/protocuneiform/archsigns.html\" title=\"to CDLI main page\">1(N46) on CDLI</a></div></div></div><div style=\"padding: 0.5rem;\"><div style=\"display: flex;flex-flow: column nowrap;justify-content: space-between;align-items: center;align-content: space-between;\"><div><a target=\"_blank\" href=\"https://cdli.ucla.edu/tools/SignLists/protocuneiform/archsigns/2(N19).jpg\" title=\"to higher resolution lineart on CDLI\"><img src=\"cdli-imagery/node2(N19)lineart.jpg\" style=\"display: inline;\"  /></a></div><div><a target=\"_blank\" href=\"https://cdli.ucla.edu/tools/SignLists/protocuneiform/archsigns.html\" title=\"to CDLI main page\">2(N19) on CDLI</a></div></div></div><div style=\"padding: 0.5rem;\"><div style=\"display: flex;flex-flow: column nowrap;justify-content: space-between;align-items: center;align-content: space-between;\"><div><a target=\"_blank\" href=\"https://cdli.ucla.edu/tools/SignLists/protocuneiform/archsigns/4(N19).jpg\" title=\"to higher resolution lineart on CDLI\"><img src=\"cdli-imagery/node4(N19)lineart.jpg\" style=\"display: inline;\"  /></a></div><div><a target=\"_blank\" href=\"https://cdli.ucla.edu/tools/SignLists/protocuneiform/archsigns.html\" title=\"to CDLI main page\">4(N19) on CDLI</a></div></div>            </div>        </div>        "
      ],
      "text/plain": [
       "<IPython.core.display.HTML object>"
      ]
     },
     "metadata": {},
     "output_type": "display_data"
    },
    {
     "name": "stdout",
     "output_type": "stream",
     "text": [
      "2 x 1(N46) = 2 x 1 x 60 = 120\n",
      "2 x 2(N19) = 2 x 2 x 6 = 24\n",
      "1 x 4(N19) = 1 x 4 x 6 = 24\n"
     ]
    },
    {
     "data": {
      "text/markdown": [
       "**total** = **168**"
      ],
      "text/plain": [
       "<IPython.core.display.Markdown object>"
      ]
     },
     "metadata": {},
     "output_type": "display_data"
    },
    {
     "data": {
      "text/markdown": [
       "---\n"
      ],
      "text/plain": [
       "<IPython.core.display.Markdown object>"
      ]
     },
     "metadata": {},
     "output_type": "display_data"
    },
    {
     "data": {
      "text/html": [
       "        <div style=\"display: flex;flex-flow: row nowrap;justify-content: flex-start;align-items: center;align-content: flex-start;\">            <div style=\"padding: 0.5rem;\">                <div style=\"display: flex;flex-flow: column-reverse nowrap;justify-content: space-between;align-items: center;align-content: space-between;\"><div><a target=\"_blank\" href=\"https://cdli.ucla.edu/dl/lineart/P005448_l.jpg\" title=\"to higher resolution lineart on CDLI\"><img src=\"cdli-imagery/node148228lineart.jpg\" style=\"display: inline;\" width=\"200\" /></a></div><div><a target=\"_blank\" href=\"https://cdli.ucla.edu/search/search_results.php?SearchMode=Text&ObjectID=P005448\" title=\"to CDLI main page\">P005448 on CDLI</a></div></div>            </div>        </div>        "
      ],
      "text/plain": [
       "<IPython.core.display.HTML object>"
      ]
     },
     "metadata": {},
     "output_type": "display_data"
    },
    {
     "data": {
      "text/markdown": [
       "### obverse"
      ],
      "text/plain": [
       "<IPython.core.display.Markdown object>"
      ]
     },
     "metadata": {},
     "output_type": "display_data"
    },
    {
     "data": {
      "text/html": [
       "        <div style=\"display: flex;flex-flow: row nowrap;justify-content: flex-start;align-items: center;align-content: flex-start;\">            <div style=\"padding: 0.5rem;\">                <div style=\"display: flex;flex-flow: column nowrap;justify-content: space-between;align-items: center;align-content: space-between;\"><div><a target=\"_blank\" href=\"https://cdli.ucla.edu/tools/SignLists/protocuneiform/archsigns/2(N04).jpg\" title=\"to higher resolution lineart on CDLI\"><img src=\"cdli-imagery/node2(N04)lineart.jpg\" style=\"display: inline;\"  /></a></div><div><a target=\"_blank\" href=\"https://cdli.ucla.edu/tools/SignLists/protocuneiform/archsigns.html\" title=\"to CDLI main page\">2(N04) on CDLI</a></div></div></div><div style=\"padding: 0.5rem;\"><div style=\"display: flex;flex-flow: column nowrap;justify-content: space-between;align-items: center;align-content: space-between;\"><div><a target=\"_blank\" href=\"https://cdli.ucla.edu/tools/SignLists/protocuneiform/archsigns/1(N46).jpg\" title=\"to higher resolution lineart on CDLI\"><img src=\"cdli-imagery/node1(N46)lineart.jpg\" style=\"display: inline;\"  /></a></div><div><a target=\"_blank\" href=\"https://cdli.ucla.edu/tools/SignLists/protocuneiform/archsigns.html\" title=\"to CDLI main page\">1(N46) on CDLI</a></div></div></div><div style=\"padding: 0.5rem;\"><div style=\"display: flex;flex-flow: column nowrap;justify-content: space-between;align-items: center;align-content: space-between;\"><div><a target=\"_blank\" href=\"https://cdli.ucla.edu/tools/SignLists/protocuneiform/archsigns/9(N19).jpg\" title=\"to higher resolution lineart on CDLI\"><img src=\"cdli-imagery/node9(N19)lineart.jpg\" style=\"display: inline;\"  /></a></div><div><a target=\"_blank\" href=\"https://cdli.ucla.edu/tools/SignLists/protocuneiform/archsigns.html\" title=\"to CDLI main page\">9(N19) on CDLI</a></div></div>            </div>        </div>        "
      ],
      "text/plain": [
       "<IPython.core.display.HTML object>"
      ]
     },
     "metadata": {},
     "output_type": "display_data"
    },
    {
     "name": "stdout",
     "output_type": "stream",
     "text": [
      "1 x 2(N04) = 1 x 2 x 1 = 2\n",
      "1 x 1(N46) = 1 x 1 x 60 = 60\n",
      "1 x 9(N19) = 1 x 9 x 6 = 54\n"
     ]
    },
    {
     "data": {
      "text/markdown": [
       "**total** = **116**"
      ],
      "text/plain": [
       "<IPython.core.display.Markdown object>"
      ]
     },
     "metadata": {},
     "output_type": "display_data"
    },
    {
     "data": {
      "text/markdown": [
       "### reverse"
      ],
      "text/plain": [
       "<IPython.core.display.Markdown object>"
      ]
     },
     "metadata": {},
     "output_type": "display_data"
    },
    {
     "data": {
      "text/html": [
       "        <div style=\"display: flex;flex-flow: row nowrap;justify-content: flex-start;align-items: center;align-content: flex-start;\">            <div style=\"padding: 0.5rem;\">                <div style=\"display: flex;flex-flow: column nowrap;justify-content: space-between;align-items: center;align-content: space-between;\"><div><a target=\"_blank\" href=\"https://cdli.ucla.edu/tools/SignLists/protocuneiform/archsigns/1(N36).jpg\" title=\"to higher resolution lineart on CDLI\"><img src=\"cdli-imagery/node1(N36)lineart.jpg\" style=\"display: inline;\"  /></a></div><div><a target=\"_blank\" href=\"https://cdli.ucla.edu/tools/SignLists/protocuneiform/archsigns.html\" title=\"to CDLI main page\">1(N36) on CDLI</a></div></div></div><div style=\"padding: 0.5rem;\"><div style=\"display: flex;flex-flow: column nowrap;justify-content: space-between;align-items: center;align-content: space-between;\"><div><a target=\"_blank\" href=\"https://cdli.ucla.edu/tools/SignLists/protocuneiform/archsigns/1(N19).jpg\" title=\"to higher resolution lineart on CDLI\"><img src=\"cdli-imagery/node1(N19)lineart.jpg\" style=\"display: inline;\"  /></a></div><div><a target=\"_blank\" href=\"https://cdli.ucla.edu/tools/SignLists/protocuneiform/archsigns.html\" title=\"to CDLI main page\">1(N19) on CDLI</a></div></div>            </div>        </div>        "
      ],
      "text/plain": [
       "<IPython.core.display.HTML object>"
      ]
     },
     "metadata": {},
     "output_type": "display_data"
    },
    {
     "name": "stdout",
     "output_type": "stream",
     "text": [
      "1 x 1(N36) = 1 x 1 x 180 = 180\n",
      "1 x 1(N19) = 1 x 1 x 6 = 6\n"
     ]
    },
    {
     "data": {
      "text/markdown": [
       "**total** = **186**"
      ],
      "text/plain": [
       "<IPython.core.display.Markdown object>"
      ]
     },
     "metadata": {},
     "output_type": "display_data"
    },
    {
     "data": {
      "text/markdown": [
       "---\n"
      ],
      "text/plain": [
       "<IPython.core.display.Markdown object>"
      ]
     },
     "metadata": {},
     "output_type": "display_data"
    },
    {
     "data": {
      "text/html": [
       "        <div style=\"display: flex;flex-flow: row nowrap;justify-content: flex-start;align-items: center;align-content: flex-start;\">            <div style=\"padding: 0.5rem;\">                <div style=\"display: flex;flex-flow: column-reverse nowrap;justify-content: space-between;align-items: center;align-content: space-between;\"><div><a target=\"_blank\" href=\"https://cdli.ucla.edu/dl/lineart/P005381_l.jpg\" title=\"to higher resolution lineart on CDLI\"><img src=\"cdli-imagery/node148166lineart.jpg\" style=\"display: inline;\" width=\"200\" /></a></div><div><a target=\"_blank\" href=\"https://cdli.ucla.edu/search/search_results.php?SearchMode=Text&ObjectID=P005381\" title=\"to CDLI main page\">P005381 on CDLI</a></div></div>            </div>        </div>        "
      ],
      "text/plain": [
       "<IPython.core.display.HTML object>"
      ]
     },
     "metadata": {},
     "output_type": "display_data"
    },
    {
     "data": {
      "text/markdown": [
       "### obverse"
      ],
      "text/plain": [
       "<IPython.core.display.Markdown object>"
      ]
     },
     "metadata": {},
     "output_type": "display_data"
    },
    {
     "data": {
      "text/html": [
       "        <div style=\"display: flex;flex-flow: row nowrap;justify-content: flex-start;align-items: center;align-content: flex-start;\">            <div style=\"padding: 0.5rem;\">                <div style=\"display: flex;flex-flow: column nowrap;justify-content: space-between;align-items: center;align-content: space-between;\"><div><a target=\"_blank\" href=\"https://cdli.ucla.edu/tools/SignLists/protocuneiform/archsigns/3(N04).jpg\" title=\"to higher resolution lineart on CDLI\"><img src=\"cdli-imagery/node3(N04)lineart.jpg\" style=\"display: inline;\"  /></a></div><div><a target=\"_blank\" href=\"https://cdli.ucla.edu/tools/SignLists/protocuneiform/archsigns.html\" title=\"to CDLI main page\">3(N04) on CDLI</a></div></div></div><div style=\"padding: 0.5rem;\"><div style=\"display: flex;flex-flow: column nowrap;justify-content: space-between;align-items: center;align-content: space-between;\"><div><a target=\"_blank\" href=\"https://cdli.ucla.edu/tools/SignLists/protocuneiform/archsigns/2(N04).jpg\" title=\"to higher resolution lineart on CDLI\"><img src=\"cdli-imagery/node2(N04)lineart.jpg\" style=\"display: inline;\"  /></a></div><div><a target=\"_blank\" href=\"https://cdli.ucla.edu/tools/SignLists/protocuneiform/archsigns.html\" title=\"to CDLI main page\">2(N04) on CDLI</a></div></div></div><div style=\"padding: 0.5rem;\"><div style=\"display: flex;flex-flow: column nowrap;justify-content: space-between;align-items: center;align-content: space-between;\"><div><a target=\"_blank\" href=\"https://cdli.ucla.edu/tools/SignLists/protocuneiform/archsigns/3(N19).jpg\" title=\"to higher resolution lineart on CDLI\"><img src=\"cdli-imagery/node3(N19)lineart.jpg\" style=\"display: inline;\"  /></a></div><div><a target=\"_blank\" href=\"https://cdli.ucla.edu/tools/SignLists/protocuneiform/archsigns.html\" title=\"to CDLI main page\">3(N19) on CDLI</a></div></div>            </div>        </div>        "
      ],
      "text/plain": [
       "<IPython.core.display.HTML object>"
      ]
     },
     "metadata": {},
     "output_type": "display_data"
    },
    {
     "name": "stdout",
     "output_type": "stream",
     "text": [
      "1 x 3(N04) = 1 x 3 x 1 = 3\n",
      "1 x 2(N04) = 1 x 2 x 1 = 2\n",
      "1 x 3(N19) = 1 x 3 x 6 = 18\n"
     ]
    },
    {
     "data": {
      "text/markdown": [
       "**total** = **23**"
      ],
      "text/plain": [
       "<IPython.core.display.Markdown object>"
      ]
     },
     "metadata": {},
     "output_type": "display_data"
    },
    {
     "data": {
      "text/markdown": [
       "### reverse"
      ],
      "text/plain": [
       "<IPython.core.display.Markdown object>"
      ]
     },
     "metadata": {},
     "output_type": "display_data"
    },
    {
     "data": {
      "text/html": [
       "        <div style=\"display: flex;flex-flow: row nowrap;justify-content: flex-start;align-items: center;align-content: flex-start;\">            <div style=\"padding: 0.5rem;\">                <div style=\"display: flex;flex-flow: column nowrap;justify-content: space-between;align-items: center;align-content: space-between;\"><div><a target=\"_blank\" href=\"https://cdli.ucla.edu/tools/SignLists/protocuneiform/archsigns/3(N19).jpg\" title=\"to higher resolution lineart on CDLI\"><img src=\"cdli-imagery/node3(N19)lineart.jpg\" style=\"display: inline;\"  /></a></div><div><a target=\"_blank\" href=\"https://cdli.ucla.edu/tools/SignLists/protocuneiform/archsigns.html\" title=\"to CDLI main page\">3(N19) on CDLI</a></div></div></div><div style=\"padding: 0.5rem;\"><div style=\"display: flex;flex-flow: column nowrap;justify-content: space-between;align-items: center;align-content: space-between;\"><div><a target=\"_blank\" href=\"https://cdli.ucla.edu/tools/SignLists/protocuneiform/archsigns/5(N04).jpg\" title=\"to higher resolution lineart on CDLI\"><img src=\"cdli-imagery/node5(N04)lineart.jpg\" style=\"display: inline;\"  /></a></div><div><a target=\"_blank\" href=\"https://cdli.ucla.edu/tools/SignLists/protocuneiform/archsigns.html\" title=\"to CDLI main page\">5(N04) on CDLI</a></div></div>            </div>        </div>        "
      ],
      "text/plain": [
       "<IPython.core.display.HTML object>"
      ]
     },
     "metadata": {},
     "output_type": "display_data"
    },
    {
     "name": "stdout",
     "output_type": "stream",
     "text": [
      "1 x 3(N19) = 1 x 3 x 6 = 18\n",
      "1 x 5(N04) = 1 x 5 x 1 = 5\n"
     ]
    },
    {
     "data": {
      "text/markdown": [
       "**total** = **23**"
      ],
      "text/plain": [
       "<IPython.core.display.Markdown object>"
      ]
     },
     "metadata": {},
     "output_type": "display_data"
    }
   ],
   "source": [
    "def dm(x): display(Markdown(x))\n",
    "\n",
    "for (tablet, faces) in numerals.items():\n",
    "    dm('---\\n')\n",
    "    display(CN.lineart(tablet, withCaption=\"top\", width=\"200\"))\n",
    "    for (face, signs) in faces.items():\n",
    "        dm(f'### {F.type.v(face)}')\n",
    "        distinctSigns = {}\n",
    "        for s in signs:\n",
    "            distinctSigns.setdefault(CN.atfFromSign(s), []).append(s)\n",
    "        display(CN.lineart(distinctSigns))\n",
    "        total = 0\n",
    "        for (signAtf, signs) in distinctSigns.items():\n",
    "            # note that all signs for the same signAtf have the same grapheme and repeat\n",
    "            value = 0\n",
    "            for s in signs:\n",
    "                value += F.repeat.v(s) * shinPP[F.grapheme.v(s)]\n",
    "            total += value\n",
    "            amount = len(signs)\n",
    "            shinPPval = shinPP[F.grapheme.v(signs[0])]\n",
    "            repeat = F.repeat.v(signs[0])\n",
    "            print(f'{amount} x {signAtf} = {amount} x {repeat} x {shinPPval} = {value}')\n",
    "        dm(f'**total** = **{total}**')"
   ]
  },
  {
   "cell_type": "markdown",
   "metadata": {
    "slideshow": {
     "slide_type": "slide"
    }
   },
   "source": [
    "# Workbench (Syriac NT)"
   ]
  },
  {
   "cell_type": "code",
   "execution_count": 74,
   "metadata": {
    "slideshow": {
     "slide_type": "subslide"
    }
   },
   "outputs": [],
   "source": [
    "from tf.fabric import Fabric\n",
    "REPO = '~/github/etcbc/linksyr'\n",
    "SOURCE = 'syrnt'\n",
    "CORPUS = f'{REPO}/data/tf/{SOURCE}'"
   ]
  },
  {
   "cell_type": "code",
   "execution_count": 75,
   "metadata": {
    "slideshow": {
     "slide_type": "subslide"
    }
   },
   "outputs": [
    {
     "name": "stdout",
     "output_type": "stream",
     "text": [
      "This is Text-Fabric 3.2.2\n",
      "Api reference : https://github.com/Dans-labs/text-fabric/wiki/Api\n",
      "Tutorial      : https://github.com/Dans-labs/text-fabric/blob/master/docs/tutorial.ipynb\n",
      "Example data  : https://github.com/Dans-labs/text-fabric-data\n",
      "\n",
      "37 features found and 0 ignored\n"
     ]
    }
   ],
   "source": [
    "TF = Fabric(locations=[CORPUS], modules=[''], silent=False )\n",
    "api = TF.load('', silent=True)\n",
    "allFeatures = TF.explore(silent=True, show=True)\n",
    "loadableFeatures = allFeatures['nodes'] + allFeatures['edges']\n",
    "TF.load(loadableFeatures, add=True, silent=True)\n",
    "api.makeAvailableIn(globals())"
   ]
  },
  {
   "cell_type": "code",
   "execution_count": 76,
   "metadata": {
    "ExecuteTime": {
     "end_time": "2018-03-12T07:18:39.202840Z",
     "start_time": "2018-03-12T07:18:39.183317Z"
    },
    "slideshow": {
     "slide_type": "subslide"
    }
   },
   "outputs": [],
   "source": [
    "SYRIACA = os.path.expanduser(f'{REPO}/data/syriaca')\n",
    "SC_PEOPLE = f'{SYRIACA}/index_of_persons.csv'\n",
    "SC_PLACES = f'{SYRIACA}/index_of_places.csv'\n",
    "\n",
    "SC_URL = 'http://syriaca.org'\n",
    "SC_PLACE = 'place'\n",
    "SC_PERSON = 'person'\n",
    "\n",
    "SC_CONFIG = (\n",
    "    (SC_PERSON, SC_URL, SC_PEOPLE),\n",
    "    (SC_PLACE, SC_URL, SC_PLACES),    \n",
    ")\n",
    "\n",
    "SC_TYPES = tuple(x[0] for x in SC_CONFIG)\n",
    "\n",
    "SC_FIELDS = ('trans', 'syriac', 'id')\n",
    "\n",
    "NA_SYRIAC = {\n",
    "    '[Syriac Not Available]', \n",
    "    '[Syriac Not', \n",
    "    '[Syriac',\n",
    "}"
   ]
  },
  {
   "cell_type": "code",
   "execution_count": 77,
   "metadata": {
    "ExecuteTime": {
     "end_time": "2018-03-12T07:25:01.397387Z",
     "start_time": "2018-03-12T07:25:01.391004Z"
    },
    "slideshow": {
     "slide_type": "subslide"
    }
   },
   "outputs": [
    {
     "data": {
      "text/html": [
       "\n",
       "<style>\n",
       ".syc {\n",
       "    font-family: Estrangelo Edessa;\n",
       "    font-size: 14pt;\n",
       "}\n",
       "</style>\n"
      ],
      "text/plain": [
       "<IPython.core.display.HTML object>"
      ]
     },
     "execution_count": 77,
     "metadata": {},
     "output_type": "execute_result"
    }
   ],
   "source": [
    "HTML('''\n",
    "<style>\n",
    ".syc {\n",
    "    font-family: Estrangelo Edessa;\n",
    "    font-size: 14pt;\n",
    "}\n",
    "</style>\n",
    "''')"
   ]
  },
  {
   "cell_type": "code",
   "execution_count": 78,
   "metadata": {
    "ExecuteTime": {
     "end_time": "2018-03-12T07:04:08.032516Z",
     "start_time": "2018-03-12T07:04:07.953707Z"
    },
    "slideshow": {
     "slide_type": "subslide"
    }
   },
   "outputs": [],
   "source": [
    "tables = {}\n",
    "irregular = {}\n",
    "\n",
    "(transF, syriacF, idF) = SC_FIELDS\n",
    "\n",
    "for (dataType, baseUrl, dataFile) in SC_CONFIG:\n",
    "    tables[dataType] = {field: {} for field in SC_FIELDS}\n",
    "    irregular[dataType] = set()\n",
    "    dest = tables[dataType]\n",
    "    irreg = irregular[dataType]\n",
    "    table = dest[idF]\n",
    "    indexTrans = dest[transF]\n",
    "    indexSyriac = dest[syriacF]\n",
    "    with open(dataFile) as fh:\n",
    "        for (i, line) in enumerate(fh):\n",
    "            (transV, syriacV, idV) = line.rstrip('\\n').split('\\t')\n",
    "            prefix = f'{baseUrl}/{dataType}/'\n",
    "            if idV.startswith(prefix):\n",
    "                idV = idV.replace(prefix, '', 1)\n",
    "            else:\n",
    "                irreg.add(idV)\n",
    "            table[idV] = (transV, syriacV)\n",
    "            indexTrans.setdefault(transV, set()).add(idV)\n",
    "            if syriacV not in NA_SYRIAC:\n",
    "                if '[' in syriacV:\n",
    "                    print(f'WARNING {dataType} line {i+1}: syriac value \"{syriacV}\"')\n",
    "                indexSyriac.setdefault(syriacV, set()).add(idV)"
   ]
  },
  {
   "cell_type": "code",
   "execution_count": 79,
   "metadata": {
    "ExecuteTime": {
     "end_time": "2018-03-12T07:04:15.210854Z",
     "start_time": "2018-03-12T07:04:15.201665Z"
    },
    "slideshow": {
     "slide_type": "subslide"
    }
   },
   "outputs": [
    {
     "name": "stdout",
     "output_type": "stream",
     "text": [
      "\n",
      "      persons:  2371 (irregular:    0)\n",
      "   by syriac :  1503\n",
      "    by trans :  1964\n",
      "\n",
      "\n",
      "       places:  2488 (irregular:    0)\n",
      "   by syriac :   527\n",
      "    by trans :  2165\n",
      "\n"
     ]
    }
   ],
   "source": [
    "for (dataType, data) in tables.items():\n",
    "    table = data[idF]\n",
    "    irreg = irregular[dataType]\n",
    "    print(f'''\n",
    "{dataType:>12}s: {len(table):>5} (irregular: {len(irreg):>4})\n",
    "{\"by syriac\":>12} : {len(data[syriacF]):>5}\n",
    "{\"by trans\":>12} : {len(data[transF]):>5}\n",
    "''')"
   ]
  },
  {
   "cell_type": "code",
   "execution_count": 80,
   "metadata": {
    "ExecuteTime": {
     "end_time": "2018-03-12T07:05:04.527986Z",
     "start_time": "2018-03-12T07:05:04.512544Z"
    },
    "slideshow": {
     "slide_type": "slide"
    }
   },
   "outputs": [],
   "source": [
    "hits = {dataType: {} for dataType in SC_TYPES}\n",
    "\n",
    "for lx in F.otype.s('lexeme'):\n",
    "    lex = F.lexeme.v(lx)\n",
    "    for dataType in SC_TYPES:\n",
    "        idV = tables[dataType][syriacF].get(lex, None)\n",
    "        if idV is not None:\n",
    "            hits[dataType][lx] = idV"
   ]
  },
  {
   "cell_type": "code",
   "execution_count": 81,
   "metadata": {
    "ExecuteTime": {
     "end_time": "2018-03-09T17:53:31.125240Z",
     "start_time": "2018-03-09T17:53:31.119629Z"
    },
    "slideshow": {
     "slide_type": "fragment"
    }
   },
   "outputs": [
    {
     "name": "stdout",
     "output_type": "stream",
     "text": [
      "      persons:    98 hits\n",
      "       places:    37 hits\n"
     ]
    }
   ],
   "source": [
    "for (dataType, theseHits) in hits.items():\n",
    "    print(f'{dataType:>12}s: {len(theseHits):>5} hits')"
   ]
  },
  {
   "cell_type": "markdown",
   "metadata": {
    "slideshow": {
     "slide_type": "slide"
    }
   },
   "source": [
    "We show the hits by picking the first occurrence of each lexeme and showing it in context."
   ]
  },
  {
   "cell_type": "code",
   "execution_count": 82,
   "metadata": {
    "ExecuteTime": {
     "end_time": "2018-03-12T07:05:17.542260Z",
     "start_time": "2018-03-12T07:05:17.500814Z"
    },
    "scrolled": false,
    "slideshow": {
     "slide_type": "slide"
    }
   },
   "outputs": [
    {
     "data": {
      "text/markdown": [
       "### persons\n",
       "lexeme | linked | n-occs | passage | verse text\n",
       "--- | --- | --- | --- | ---\n",
       "<span class=\"syc\">ܐܒܐ</span> | 1094 2582 308 | 9 | Matthew 2:22 | <span class=\"syc\">ܟܕ ܕܝܢ ܫܡܥ ܕܐܪܟܠܐܘܣ ܗܘܐ ܡܠܟܐ ܒܝܗܘܕ ܚܠܦ ܗܪܘܕܣ ܐܒܘܗܝ ܕܚܠ ܕܢܐܙܠ ܠܬܡܢ ܘܐܬܚܙܝ ܠܗ ܒܚܠܡܐ ܕܢܐܙܠ ܠܐܬܪܐ ܕܓܠܝܠܐ </syc>\n",
       "<span class=\"syc\">ܐܒܪܗܡ</span> | 1108 1109 1110 1546 1547 1548 1549 1551 1552 1553 1554 2202 964 | 2 | Matthew 1:1 | <span class=\"syc\">ܟܬܒܐ ܕܝܠܝܕܘܬܗ ܕܝܫܘܥ ܡܫܝܚܐ ܒܪܗ ܕܕܘܝܕ ܒܪܗ ܕܐܒܪܗܡ </syc>\n",
       "<span class=\"syc\">ܐܕܝ</span> | 1117 1118 2203 | 2 | Luke 3:28 | <span class=\"syc\">ܒܪ ܡܠܟܝ ܒܪ ܐܕܝ ܒܪ ܩܘܣܡ ܒܪ ܐܠܡܘܕܕ ܒܪ ܥܝܪ </syc>\n",
       "<span class=\"syc\">ܐܕܡ</span> | 1560 | 208 | Luke 3:38 | <span class=\"syc\">ܒܪ ܐܢܘܫ ܒܪ ܫܝܬ ܒܪ ܐܕܡ ܕܡܢ ܐܠܗܐ </syc>\n",
       "<span class=\"syc\">ܐܗܪܘܢ</span> | 1012 1092 1533 1534 | 3 | Luke 1:5 | <span class=\"syc\">ܗܘܐ ܒܝܘܡܬܗ ܕܗܪܘܕܣ ܡܠܟܐ ܕܝܗܘܕܐ ܟܗܢܐ ܚܕ ܕܫܡܗ ܗܘܐ ܙܟܪܝܐ ܡܢ ܬܫܡܫܬܐ ܕܒܝܬ ܐܒܝܐ ܘܐܢܬܬܗ ܡܢ ܒܢܬܗ ܕܐܗܪܘܢ ܫܡܗ ܗܘܐ ܐܠܝܫܒܥ </syc>\n",
       "<span class=\"syc\">ܐܘܒܘܠܘܣ</span> | 3028 | 1 | 2_Timothy 4:21 | <span class=\"syc\">ܢܬܒܛܠ ܠܟ ܕܩܕܡ ܣܬܘܐ ܬܐܬܐ ܫܐܠ ܒܫܠܡܟ ܐܘܒܘܠܘܣ ܘܦܘܕܣ ܘܠܝܢܘܣ ܘܩܠܘܕܝܐ ܘܐܚܐ ܟܠܗܘܢ </syc>\n",
       "<span class=\"syc\">ܐܚܐ</span> | 1122 1123 1740 | 3 | Matthew 1:2 | <span class=\"syc\">ܐܒܪܗܡ ܐܘܠܕ ܠܐܝܣܚܩ ܐܝܣܚܩ ܐܘܠܕ ܠܝܥܩܘܒ ܝܥܩܘܒ ܐܘܠܕ ܠܝܗܘܕܐ ܘܠܐܚܘܗܝ </syc>\n",
       "<span class=\"syc\">ܐܝܣܚܩ</span> | 1788 1789 1790 1791 1792 2578 | 3 | Matthew 1:2 | <span class=\"syc\">ܐܒܪܗܡ ܐܘܠܕ ܠܐܝܣܚܩ ܐܝܣܚܩ ܐܘܠܕ ܠܝܥܩܘܒ ܝܥܩܘܒ ܐܘܠܕ ܠܝܗܘܕܐ ܘܠܐܚܘܗܝ </syc>\n",
       "<span class=\"syc\">ܐܠܝܐ</span> | 1698 1699 1700 1703 1704 1705 2541 3145 945 | 1 | Matthew 2:18 | <span class=\"syc\">ܩܠܐ ܐܫܬܡܥ ܒܪܡܬܐ ܒܟܝܐ ܘܐܠܝܐ ܣܓܝܐܐ ܪܚܝܠ ܒܟܝܐ ܥܠ ܒܢܝܗ ܘܠܐ ܨܒܝܐ ܠܡܬܒܝܐܘ ܡܛܠ ܕܠܐ ܐܝܬܝܗܘܢ </syc>\n",
       "<span class=\"syc\">ܐܠܟܣܢܕܪܘܣ</span> | 1574 887 | 1 | Mark 15:21 | <span class=\"syc\">ܘܫܚܪܘ ܚܕ ܕܥܒܪ ܗܘܐ ܫܡܥܘܢ ܩܘܪܝܢܝܐ ܕܐܬܐ ܗܘܐ ܡܢ ܩܪܝܬܐ ܐܒܘܗܝ ܕܐܠܟܣܢܕܪܘܣ ܘܕܪܘܦܘܣ ܕܢܫܩܘܠ ܙܩܝܦܗ </syc>\n"
      ],
      "text/plain": [
       "<IPython.core.display.Markdown object>"
      ]
     },
     "metadata": {},
     "output_type": "display_data"
    },
    {
     "data": {
      "text/markdown": [
       "### places\n",
       "lexeme | linked | n-occs | passage | verse text\n",
       "--- | --- | --- | --- | ---\n",
       "<span class=\"syc\">ܐܘܪܫܠܡ</span> | 104 | 2 | Matthew 2:1 | <span class=\"syc\">ܟܕ ܕܝܢ ܐܬܝܠܕ ܝܫܘܥ ܒܒܝܬ-ܠܚܡ ܕܝܗܘܕܐ ܒܝܘܡܝ ܗܪܘܕܣ ܡܠܟܐ ܐܬܘ ܡܓܘܫܐ ܡܢ ܡܕܢܚܐ ܠܐܘܪܫܠܡ </syc>\n",
       "<span class=\"syc\">ܐܠܟܣܢܕܪܝܐ</span> | 572 | 2 | Acts 6:9 | <span class=\"syc\">ܘܩܡܘ ܗܘܘ ܐܢܫܐ ܡܢ ܟܢܘܫܬܐ ܕܡܬܩܪܝܐ ܕܠܝܒܪܛܝܢܘ ܘܩܘܪܝܢܝܐ ܘܐܠܟܣܢܕܪܝܐ ܘܕܡܢ ܩܝܠܝܩܝܐ ܘܡܢ ܐܣܝܐ ܘܕܪܫܝܢ ܗܘܘ ܥܡ ܐܣܛܦܢܘܣ </syc>\n",
       "<span class=\"syc\">ܐܢܛܝܘܟܝܐ</span> | 10 995 | 44 | Acts 6:5 | <span class=\"syc\">ܘܫܦܪܬ ܗܕܐ ܡܠܬܐ ܩܕܡ ܟܠܗ ܥܡܐ ܘܓܒܘ ܠܐܣܛܦܢܘܣ ܓܒܪܐ ܕܡܠܐ ܗܘܐ ܗܝܡܢܘܬܐ ܘܪܘܚܐ ܕܩܘܕܫܐ ܘܠܦܝܠܝܦܘܣ ܘܠܦܪܟܪܘܣ ܘܠܢܝܩܢܘܪ ܘܠܛܝܡܘܢ ܘܠܦܪܡܢܐ ܘܠܢܝܩܠܐܘܣ ܓܝܘܪܐ ܐܢܛܝܘܟܝܐ </syc>\n",
       "<span class=\"syc\">ܐܣܦܣ</span> | 288 | 5 | Romans 3:13 | <span class=\"syc\">ܩܒܪܐ ܦܬܝܚܐ ܓܓܪܬܗܘܢ ܘܠܫܢܝܗܘܢ ܢܟܘܠܬܢܝܢ ܘܚܡܬܐ ܕܐܣܦܣ ܬܚܝܬ ܣܦܘܬܗܘܢ </syc>\n",
       "<span class=\"syc\">ܐܦܣܘܣ</span> | 623 | 69 | Acts 18:19 | <span class=\"syc\">ܘܡܛܝܘ ܠܐܦܣܘܣ ܘܥܠ ܦܘܠܘܣ ܠܟܢܘܫܬܐ ܘܡܡܠܠ ܗܘܐ ܥܡ ܝܗܘܕܝܐ </syc>\n",
       "<span class=\"syc\">ܐܪܟ</span> | 515 | 1 | Matthew 23:5 | <span class=\"syc\">ܘܟܠܗܘܢ ܥܒܕܝܗܘܢ ܥܒܕܝܢ ܕܢܬܚܙܘܢ ܠܒܢܝ ܐܢܫܐ ܡܦܬܝܢ ܓܝܪ ܬܦܠܝܗܘܢ ܘܡܘܪܟܝܢ ܬܟܠܬܐ ܕܡܪܛܘܛܝܗܘܢ </syc>\n",
       "<span class=\"syc\">ܓܐܝܘܣ</span> | 1494 | 1 | Acts 19:29 | <span class=\"syc\">ܘܐܫܬܓܫܬ ܟܠܗ ܡܕܝܢܬܐ ܘܪܗܛܘ ܐܟܚܕܐ ܘܐܙܠܘ ܠܬܐܛܪܘܢ ܘܚܛܦܘ ܐܘܒܠܘ ܥܡܗܘܢ ܠܓܐܝܘܣ ܘܠܐܪܣܛܪܟܘܣ ܓܒܪܐ ܡܩܕܘܢܝܐ ܒܢܝ ܠܘܝܬܗ ܕܦܘܠܘܣ </syc>\n",
       "<span class=\"syc\">ܕܪܐ</span> | 67 | 32 | Matthew 21:44 | <span class=\"syc\">ܘܡܢ ܕܢܦܠ ܥܠ ܟܐܦܐ ܗܕܐ ܢܬܪܥܥ ܘܟܠ ܡܢ ܕܗܝ ܬܦܠ ܥܠܘܗܝ ܬܕܪܝܘܗܝ </syc>\n",
       "<span class=\"syc\">ܕܪܡܣܘܩ</span> | 66 | 24 | Acts 9:2 | <span class=\"syc\">ܘܫܐܠ ܠܗ ܐܓܪܬܐ ܡܢ ܪܒ ܟܗܢܐ ܕܢܬܠ ܠܗ ܠܕܪܡܣܘܩ ܠܟܢܘܫܬܐ ܕܐܢ ܗܘ ܕܢܫܟܚ ܕܪܕܝܢ ܒܗܕܐ ܐܘܪܚܐ ܓܒܪܐ ܐܘ ܢܫܐ ܢܐܣܘܪ ܢܝܬܐ ܐܢܘܢ ܠܐܘܪܫܠܡ </syc>\n",
       "<span class=\"syc\">ܚܘܪܐ</span> | 1456 | 4 | Matthew 5:36 | <span class=\"syc\">ܐܦܠܐ ܒܪܫܟ ܬܐܡܐ ܕܠܐ ܡܫܟܚ ܐܢܬ ܠܡܥܒܕ ܒܗ ܡܢܬܐ ܚܕܐ ܕܣܥܪܐ ܐܘܟܡܬܐ ܐܘ ܚܘܪܬܐ </syc>\n"
      ],
      "text/plain": [
       "<IPython.core.display.Markdown object>"
      ]
     },
     "metadata": {},
     "output_type": "display_data"
    }
   ],
   "source": [
    "for (dataType, theseHits) in hits.items():\n",
    "    markdown = f'''### {dataType}s\n",
    "lexeme | linked | n-occs | passage | verse text\n",
    "--- | --- | --- | --- | ---\n",
    "'''\n",
    "    for (lx, linked) in sorted(\n",
    "        theseHits.items(),\n",
    "        key=lambda x: F.lexeme.v(x[0]),\n",
    "    )[0:10]:\n",
    "        lex = F.lexeme.v(lx)\n",
    "        ids = ' '.join(sorted(linked))\n",
    "        occs = L.d(lx, otype='word')\n",
    "        passage = '{} {}:{}'.format(*T.sectionFromNode(occs[0]))\n",
    "        verse = L.u(occs[0], otype='verse')[0]\n",
    "        text = T.text(L.d(verse, otype='word'))\n",
    "        markdown += (\n",
    "            f'<span class=\"syc\">{lex}</span> | {ids} | {len(occs)} | {passage} |'\n",
    "            f' <span class=\"syc\">{text}</syc>\\n'\n",
    "        )\n",
    "    display(Markdown(markdown))"
   ]
  },
  {
   "cell_type": "code",
   "execution_count": 83,
   "metadata": {
    "slideshow": {
     "slide_type": "slide"
    }
   },
   "outputs": [],
   "source": [
    "syriacaResolve = os.path.expanduser(f'{REPO}/data/user/syriacaSyrNT.csv')"
   ]
  },
  {
   "cell_type": "code",
   "execution_count": 84,
   "metadata": {
    "slideshow": {
     "slide_type": "fragment"
    }
   },
   "outputs": [
    {
     "data": {
      "text/markdown": [
       "### persons\n",
       "lexeme | trans | url | applicable\n",
       "--- | --- | --- | ---\n",
       "<span class=\"syc\">ܐܒܐ</span> | Aba of Nineveh | http://syriaca.org/person/1094 | no\n",
       "<span class=\"syc\">ܐܒܐ</span> | Abba | http://syriaca.org/person/2582 | no\n",
       "<span class=\"syc\">ܐܒܐ</span> | Aba | http://syriaca.org/person/308 | no\n",
       "<span class=\"syc\">ܐܒܪܗܡ</span> | Abraham | http://syriaca.org/person/1548 | no\n",
       "<span class=\"syc\">ܐܒܪܗܡ</span> | Abraham | http://syriaca.org/person/1547 | no\n",
       "<span class=\"syc\">ܐܒܪܗܡ</span> | Abraham, bishop of Arbela | http://syriaca.org/person/1108 | no\n",
       "<span class=\"syc\">ܐܒܪܗܡ</span> | Abraham | http://syriaca.org/person/1110 | no\n",
       "<span class=\"syc\">ܐܒܪܗܡ</span> | Abraham II of Adiabene | http://syriaca.org/person/1552 | no\n",
       "<span class=\"syc\">ܐܒܪܗܡ</span> | Abraham the Priest | http://syriaca.org/person/1554 | no\n",
       "<span class=\"syc\">ܐܒܪܗܡ</span> | Abraham of Adiabene | http://syriaca.org/person/1551 | no\n",
       "<span class=\"syc\">ܐܒܪܗܡ</span> | Abraham | http://syriaca.org/person/964 | no\n",
       "<span class=\"syc\">ܐܒܪܗܡ</span> | Abraham the Egyptian | http://syriaca.org/person/1553 | no\n",
       "<span class=\"syc\">ܐܒܪܗܡ</span> | Abraham | http://syriaca.org/person/1546 | no\n",
       "<span class=\"syc\">ܐܒܪܗܡ</span> | Abraham of the High Mountain | http://syriaca.org/person/1109 | no\n",
       "<span class=\"syc\">ܐܒܪܗܡ</span> | Abraham of Harran | http://syriaca.org/person/1549 | no\n",
       "<span class=\"syc\">ܐܒܪܗܡ</span> | Abraham | http://syriaca.org/person/2202 | no\n",
       "<span class=\"syc\">ܐܕܝ</span> | Addai | http://syriaca.org/person/1118 | no\n",
       "<span class=\"syc\">ܐܕܝ</span> | Addai | http://syriaca.org/person/2203 | no\n",
       "<span class=\"syc\">ܐܕܝ</span> | Addai | http://syriaca.org/person/1117 | no\n"
      ],
      "text/plain": [
       "<IPython.core.display.Markdown object>"
      ]
     },
     "metadata": {},
     "output_type": "display_data"
    },
    {
     "data": {
      "text/markdown": [
       "### places\n",
       "lexeme | trans | url | applicable\n",
       "--- | --- | --- | ---\n",
       "<span class=\"syc\">ܐܘܪܫܠܡ</span> | Jerusalem (settlement) | http://syriaca.org/place/104 | no\n",
       "<span class=\"syc\">ܐܠܟܣܢܕܪܝܐ</span> | Alexandria (settlement) | http://syriaca.org/place/572 | no\n",
       "<span class=\"syc\">ܐܢܛܝܘܟܝܐ</span> | Antioch (settlement) | http://syriaca.org/place/10 | no\n",
       "<span class=\"syc\">ܐܢܛܝܘܟܝܐ</span> | Antioch (region) | http://syriaca.org/place/995 | no\n"
      ],
      "text/plain": [
       "<IPython.core.display.Markdown object>"
      ]
     },
     "metadata": {},
     "output_type": "display_data"
    }
   ],
   "source": [
    "fieldNames = ('lexeme', 'trans', 'url', 'applicable')\n",
    "\n",
    "fh = open(syriacaResolve, 'w')\n",
    "for (dataType, theseHits) in hits.items():\n",
    "    tsv = '\\t'.join(fieldNames) + '\\n'\n",
    "    markdown = f'''### {dataType}s\n",
    "{\" | \".join(fieldNames)}\n",
    "--- | --- | --- | ---\n",
    "'''\n",
    "    table = tables[dataType]\n",
    "    data = table[idF]\n",
    "    for (lx, linked) in sorted(\n",
    "        theseHits.items(),\n",
    "        key=lambda x: F.lexeme.v(x[0]),\n",
    "    )[0:3]:\n",
    "        lex = F.lexeme.v(lx)\n",
    "        for lid in linked:\n",
    "            trans = data[lid][0]\n",
    "            url = f'{SC_URL}/{dataType}/{lid}'                \n",
    "            markdown += (\n",
    "                f'<span class=\"syc\">{lex}</span> | {trans} | {url} | no\\n'\n",
    "            )\n",
    "            tsv += f'{lex}\\t{trans}\\t{url}\\tno\\n'\n",
    "\n",
    "    fh.write(tsv)\n",
    "    display(Markdown(markdown))\n",
    "fh.close()"
   ]
  },
  {
   "cell_type": "markdown",
   "metadata": {
    "slideshow": {
     "slide_type": "slide"
    }
   },
   "source": [
    "# Workbench (BHSA)"
   ]
  },
  {
   "cell_type": "code",
   "execution_count": 8,
   "metadata": {
    "slideshow": {
     "slide_type": "fragment"
    }
   },
   "outputs": [],
   "source": [
    "import sys, os\n",
    "import collections\n",
    "import re\n",
    "import operator\n",
    "from functools import reduce\n",
    "from utils import structure, layout\n",
    "from IPython.display import display, HTML, Markdown\n",
    "from ipywidgets import interact, interactive, fixed, interact_manual\n",
    "import ipywidgets as widgets"
   ]
  },
  {
   "cell_type": "code",
   "execution_count": 2,
   "metadata": {
    "slideshow": {
     "slide_type": "fragment"
    }
   },
   "outputs": [],
   "source": [
    "VERSION = '2017'\n",
    "BASE = '~/github'\n",
    "ETCBC = f'{BASE}/etcbc'\n",
    "TREES = 'lingo/trees/tf/{}'.format(VERSION)   # derived wefts\n",
    "OSM = 'bridging/tf/{}'.format(VERSION)        # wefts from the OSM crafts shop\n",
    "PHONO = 'phono/tf/{}'.format(VERSION)         # derived wefts\n",
    "PARALLELS = 'parallels/tf/{}'.format(VERSION) # derived wefts"
   ]
  },
  {
   "cell_type": "code",
   "execution_count": 3,
   "metadata": {
    "slideshow": {
     "slide_type": "fragment"
    }
   },
   "outputs": [
    {
     "data": {
      "text/markdown": [
       "**Documentation:** <a target=\"_blank\" href=\"https://etcbc.github.io/bhsa\" title=\"{provenance of this corpus}\">BHSA</a> <a target=\"_blank\" href=\"https://etcbc.github.io/bhsa/features/hebrew/2017/0_home.html\" title=\"{CORPUS} feature documentation\">Feature docs</a> <a target=\"_blank\" href=\"https://etcbc.github.io/bhsa/api.html\" title=\"BHSA API documentation\">BHSA API</a> <a target=\"_blank\" href=\"https://github.com/Dans-labs/text-fabric/wiki/api\" title=\"text-fabric-api\">Text-Fabric API</a>"
      ],
      "text/plain": [
       "<IPython.core.display.Markdown object>"
      ]
     },
     "metadata": {},
     "output_type": "display_data"
    },
    {
     "data": {
      "text/markdown": [
       "\n",
       "This notebook online:\n",
       "<a target=\"_blank\" href=\"http://nbviewer.jupyter.org/github/etcbc/lingo/blob/master/presentations/Copenhagen2018.ipynb\">NBViewer</a>\n",
       "<a target=\"_blank\" href=\"https://github.com/etcbc/lingo/blob/master/presentations/Copenhagen2018.ipynb\">GitHub</a>\n"
      ],
      "text/plain": [
       "<IPython.core.display.Markdown object>"
      ]
     },
     "metadata": {},
     "output_type": "display_data"
    },
    {
     "data": {
      "text/html": [
       "\n",
       "<style>\n",
       ".verse {\n",
       "    display: flex;\n",
       "    flex-flow: row wrap;\n",
       "    direction: rtl;\n",
       "}\n",
       ".vl {\n",
       "    display: flex;\n",
       "    flex-flow: column nowrap;\n",
       "    direction: ltr;\n",
       "}\n",
       ".sentence,.clause,.phrase {\n",
       "    margin-top: -1.2em;\n",
       "    margin-left: 1em;\n",
       "    background: #ffffff none repeat scroll 0 0;\n",
       "    padding: 0 0.3em;\n",
       "    border-style: solid;\n",
       "    border-radius: 0.2em;\n",
       "    font-size: small;\n",
       "    display: block;\n",
       "    width: fit-content;\n",
       "    max-width: fit-content;\n",
       "    direction: ltr;\n",
       "}\n",
       ".atoms {\n",
       "    display: flex;\n",
       "    flex-flow: row wrap;\n",
       "    margin: 0.3em;\n",
       "    padding: 0.3em;\n",
       "    direction: rtl;\n",
       "    background-color: #ffffff;\n",
       "}\n",
       ".satom,.catom,.patom {\n",
       "    margin: 0.3em;\n",
       "    padding: 0.3em;\n",
       "    border-radius: 0.3em;\n",
       "    border-style: solid;\n",
       "    display: flex;\n",
       "    flex-flow: column nowrap;\n",
       "    direction: rtl;\n",
       "    background-color: #ffffff;\n",
       "}\n",
       ".sentence {\n",
       "    border-color: #aa3333;\n",
       "    border-width: 1px;\n",
       "}\n",
       ".clause {\n",
       "    border-color: #aaaa33;\n",
       "    border-width: 1px;\n",
       "}\n",
       ".phrase {\n",
       "    border-color: #33aaaa;\n",
       "    border-width: 1px;\n",
       "}\n",
       ".satom {\n",
       "    border-color: #aa3333;\n",
       "    border-width: 4px;\n",
       "}\n",
       ".catom {\n",
       "    border-color: #aaaa33;\n",
       "    border-width: 3px;\n",
       "}\n",
       ".patom {\n",
       "    border-color: #33aaaa;\n",
       "    border-width: 3px;\n",
       "}\n",
       ".word {\n",
       "    padding: 0.1em;\n",
       "    margin: 0.1em;\n",
       "    border-radius: 0.1em;\n",
       "    border: 1px solid #cccccc;\n",
       "    display: flex;\n",
       "    flex-flow: column nowrap;\n",
       "    direction: rtl;\n",
       "    background-color: #ffffff;\n",
       "}\n",
       ".satom.l,.catom.l,.patom.l {\n",
       "    border-left-style: dotted\n",
       "}\n",
       ".satom.r,.catom.r,.patom.r {\n",
       "    border-right-style: dotted\n",
       "}\n",
       ".satom.L,.catom.L,.patom.L {\n",
       "    border-left-style: none\n",
       "}\n",
       ".satom.R,.catom.R,.patom.R {\n",
       "    border-right-style: none\n",
       "}\n",
       ".h {\n",
       "    font-family: \"Ezra SIL\", \"SBL Hebrew\", sans-serif;\n",
       "    font-size: large;\n",
       "    direction: rtl;\n",
       "}\n",
       ".rela,.function,.typ {\n",
       "    font-family: monospace;\n",
       "    font-size: small;\n",
       "    color: #0000bb;\n",
       "}\n",
       ".sp {\n",
       "    font-family: monospace;\n",
       "    font-size: medium;\n",
       "    color: #0000bb;\n",
       "}\n",
       ".gl {\n",
       "    font-family: sans-serif;\n",
       "    font-size: small;\n",
       "    color: #aaaaaa;\n",
       "}\n",
       ".vs {\n",
       "    font-family: sans-serif;\n",
       "    font-size: small;\n",
       "    font-weight: bold;\n",
       "    color: #444444;\n",
       "}\n",
       ".nd {\n",
       "    font-family: monospace;\n",
       "    font-size: x-small;\n",
       "    color: #999999;\n",
       "}\n",
       ".hl {\n",
       "    background-color: #ffee66;\n",
       "}\n",
       "</style>\n"
      ],
      "text/plain": [
       "<IPython.core.display.HTML object>"
      ]
     },
     "metadata": {},
     "output_type": "display_data"
    }
   ],
   "source": [
    "LOC = ('~/github', 'etcbc/bhsa', 'Copenhagen2018')\n",
    "sys.path.append(os.path.expanduser(f'{LOC[0]}/{LOC[1]}/programs'))\n",
    "from bhsa import Bhsa\n",
    "B = Bhsa(*LOC, version='2017', locations=[ETCBC], modules=[PHONO, PARALLELS, TREES, OSM])\n",
    "B.api.makeAvailableIn(globals())\n",
    "B.load('''\n",
    "    g_word_utf8 g_cons_utf8\n",
    "    voc_lex_utf8 gloss\n",
    "    phono crossref tree\n",
    "    osm\n",
    "''')"
   ]
  },
  {
   "cell_type": "code",
   "execution_count": 4,
   "metadata": {
    "slideshow": {
     "slide_type": "slide"
    }
   },
   "outputs": [],
   "source": [
    "verse = T.nodeFromSection(('Genesis', 1, 7))"
   ]
  },
  {
   "cell_type": "code",
   "execution_count": 5,
   "metadata": {
    "slideshow": {
     "slide_type": "fragment"
    }
   },
   "outputs": [
    {
     "data": {
      "text/html": [
       "<div class=\"verse  \">\n",
       "\n",
       "    <div class=\"vl\">\n",
       "        <div class=\"vs\"><a target=\"_blank\" href=\"https://shebanq.ancient-data.org/hebrew/text?book=Genesis&chapter=1&verse=7&version=2017&mr=m&qw=q&tp=txt_p&tr=hb&wget=v&qget=v&nget=vt\" title=\"show this passage in SHEBANQ\">Genesis 1:7</a></div><div class=\"nd\">1414196</div>\n",
       "    </div>\n",
       "\n",
       "<div class=\"satom  \">\n",
       "\n",
       "    <div class=\"sentence\"><a target=\"_blank\" href=\"https://shebanq.ancient-data.org/hebrew/text?book=Genesis&chapter=1&verse=7&version=2017&mr=m&qw=q&tp=txt_p&tr=hb&wget=v&qget=v&nget=vt\" title=\"Genesis 1:7\">sentence</a> <span class=\"nd\">1172226</span> \n",
       "    </div>\n",
       "    <div class=\"atoms\">\n",
       "\n",
       "<div class=\"catom  \">\n",
       "\n",
       "    <div class=\"clause\"><a target=\"_blank\" href=\"https://shebanq.ancient-data.org/hebrew/text?book=Genesis&chapter=1&verse=7&version=2017&mr=m&qw=q&tp=txt_p&tr=hb&wget=v&qget=v&nget=vt\" title=\"Genesis 1:7\">clause</a> <span class=\"nd\">427571</span>  <span class=\"rela\">NA</span> <span class=\"typ\">WayX</span>\n",
       "    </div>\n",
       "    <div class=\"atoms\">\n",
       "\n",
       "<div class=\"patom  \">\n",
       "\n",
       "    <div class=\"phrase\"><a target=\"_blank\" href=\"https://shebanq.ancient-data.org/hebrew/text?book=Genesis&chapter=1&verse=7&version=2017&mr=m&qw=q&tp=txt_p&tr=hb&wget=v&qget=v&nget=vt\" title=\"Genesis 1:7\">phrase</a> <span class=\"nd\">651562</span>  <span class=\"function\">Conj</span> <span class=\"typ\">CP</span>\n",
       "    </div>\n",
       "    <div class=\"atoms\">\n",
       "\n",
       "<div class=\"word  \">\n",
       "<div class=\"h\">וַ</div>\n",
       "<div class=\"sp\"><a target=\"_blank\" href=\"https://shebanq.ancient-data.org/hebrew/text?book=Genesis&chapter=1&verse=7&version=2017&mr=m&qw=q&tp=txt_p&tr=hb&wget=v&qget=v&nget=vt\" title=\"Genesis 1:7\">conj</a></div>\n",
       "<div class=\"gl\">and</div>\n",
       "\n",
       "</div>\n",
       "\n",
       "\n",
       "    </div>\n",
       "\n",
       "\n",
       "</div>\n",
       "\n",
       "<div class=\"patom  \">\n",
       "\n",
       "    <div class=\"phrase\"><a target=\"_blank\" href=\"https://shebanq.ancient-data.org/hebrew/text?book=Genesis&chapter=1&verse=7&version=2017&mr=m&qw=q&tp=txt_p&tr=hb&wget=v&qget=v&nget=vt\" title=\"Genesis 1:7\">phrase</a> <span class=\"nd\">651563</span>  <span class=\"function\">Pred</span> <span class=\"typ\">VP</span>\n",
       "    </div>\n",
       "    <div class=\"atoms\">\n",
       "\n",
       "<div class=\"word  \">\n",
       "<div class=\"h\">יַּ֣עַשׂ </div>\n",
       "<div class=\"sp\"><a target=\"_blank\" href=\"https://shebanq.ancient-data.org/hebrew/text?book=Genesis&chapter=1&verse=7&version=2017&mr=m&qw=q&tp=txt_p&tr=hb&wget=v&qget=v&nget=vt\" title=\"Genesis 1:7\">verb</a></div>\n",
       "<div class=\"gl\">make</div>\n",
       "\n",
       "</div>\n",
       "\n",
       "\n",
       "    </div>\n",
       "\n",
       "\n",
       "</div>\n",
       "\n",
       "<div class=\"patom  \">\n",
       "\n",
       "    <div class=\"phrase\"><a target=\"_blank\" href=\"https://shebanq.ancient-data.org/hebrew/text?book=Genesis&chapter=1&verse=7&version=2017&mr=m&qw=q&tp=txt_p&tr=hb&wget=v&qget=v&nget=vt\" title=\"Genesis 1:7\">phrase</a> <span class=\"nd\">651564</span>  <span class=\"function\">Subj</span> <span class=\"typ\">NP</span>\n",
       "    </div>\n",
       "    <div class=\"atoms\">\n",
       "\n",
       "<div class=\"word  \">\n",
       "<div class=\"h\">אֱלֹהִים֮ </div>\n",
       "<div class=\"sp\"><a target=\"_blank\" href=\"https://shebanq.ancient-data.org/hebrew/text?book=Genesis&chapter=1&verse=7&version=2017&mr=m&qw=q&tp=txt_p&tr=hb&wget=v&qget=v&nget=vt\" title=\"Genesis 1:7\">subs</a></div>\n",
       "<div class=\"gl\">god(s)</div>\n",
       "\n",
       "</div>\n",
       "\n",
       "\n",
       "    </div>\n",
       "\n",
       "\n",
       "</div>\n",
       "\n",
       "<div class=\"patom  \">\n",
       "\n",
       "    <div class=\"phrase\"><a target=\"_blank\" href=\"https://shebanq.ancient-data.org/hebrew/text?book=Genesis&chapter=1&verse=7&version=2017&mr=m&qw=q&tp=txt_p&tr=hb&wget=v&qget=v&nget=vt\" title=\"Genesis 1:7\">phrase</a> <span class=\"nd\">651565</span>  <span class=\"function\">Objc</span> <span class=\"typ\">PP</span>\n",
       "    </div>\n",
       "    <div class=\"atoms\">\n",
       "\n",
       "<div class=\"word  \">\n",
       "<div class=\"h\">אֶת־</div>\n",
       "<div class=\"sp\"><a target=\"_blank\" href=\"https://shebanq.ancient-data.org/hebrew/text?book=Genesis&chapter=1&verse=7&version=2017&mr=m&qw=q&tp=txt_p&tr=hb&wget=v&qget=v&nget=vt\" title=\"Genesis 1:7\">prep</a></div>\n",
       "<div class=\"gl\">&lt;object marker></div>\n",
       "\n",
       "</div>\n",
       "\n",
       "<div class=\"word  \">\n",
       "<div class=\"h\">הָ</div>\n",
       "<div class=\"sp\"><a target=\"_blank\" href=\"https://shebanq.ancient-data.org/hebrew/text?book=Genesis&chapter=1&verse=7&version=2017&mr=m&qw=q&tp=txt_p&tr=hb&wget=v&qget=v&nget=vt\" title=\"Genesis 1:7\">art</a></div>\n",
       "<div class=\"gl\">the</div>\n",
       "\n",
       "</div>\n",
       "\n",
       "<div class=\"word  \">\n",
       "<div class=\"h\">רָקִיעַ֒ </div>\n",
       "<div class=\"sp\"><a target=\"_blank\" href=\"https://shebanq.ancient-data.org/hebrew/text?book=Genesis&chapter=1&verse=7&version=2017&mr=m&qw=q&tp=txt_p&tr=hb&wget=v&qget=v&nget=vt\" title=\"Genesis 1:7\">subs</a></div>\n",
       "<div class=\"gl\">firmament</div>\n",
       "\n",
       "</div>\n",
       "\n",
       "\n",
       "    </div>\n",
       "\n",
       "\n",
       "</div>\n",
       "\n",
       "\n",
       "    </div>\n",
       "\n",
       "\n",
       "</div>\n",
       "\n",
       "\n",
       "    </div>\n",
       "\n",
       "\n",
       "</div>\n",
       "\n",
       "<div class=\"satom  \">\n",
       "\n",
       "    <div class=\"sentence\"><a target=\"_blank\" href=\"https://shebanq.ancient-data.org/hebrew/text?book=Genesis&chapter=1&verse=7&version=2017&mr=m&qw=q&tp=txt_p&tr=hb&wget=v&qget=v&nget=vt\" title=\"Genesis 1:7\">sentence</a> <span class=\"nd\">1172227</span> \n",
       "    </div>\n",
       "    <div class=\"atoms\">\n",
       "\n",
       "<div class=\"catom  l \">\n",
       "\n",
       "    <div class=\"clause\"><a target=\"_blank\" href=\"https://shebanq.ancient-data.org/hebrew/text?book=Genesis&chapter=1&verse=7&version=2017&mr=m&qw=q&tp=txt_p&tr=hb&wget=v&qget=v&nget=vt\" title=\"Genesis 1:7\">clause</a> <span class=\"nd\">427572</span>  <span class=\"rela\">NA</span> <span class=\"typ\">Way0</span>\n",
       "    </div>\n",
       "    <div class=\"atoms\">\n",
       "\n",
       "<div class=\"patom  \">\n",
       "\n",
       "    <div class=\"phrase\"><a target=\"_blank\" href=\"https://shebanq.ancient-data.org/hebrew/text?book=Genesis&chapter=1&verse=7&version=2017&mr=m&qw=q&tp=txt_p&tr=hb&wget=v&qget=v&nget=vt\" title=\"Genesis 1:7\">phrase</a> <span class=\"nd\">651566</span>  <span class=\"function\">Conj</span> <span class=\"typ\">CP</span>\n",
       "    </div>\n",
       "    <div class=\"atoms\">\n",
       "\n",
       "<div class=\"word  \">\n",
       "<div class=\"h\">וַ</div>\n",
       "<div class=\"sp\"><a target=\"_blank\" href=\"https://shebanq.ancient-data.org/hebrew/text?book=Genesis&chapter=1&verse=7&version=2017&mr=m&qw=q&tp=txt_p&tr=hb&wget=v&qget=v&nget=vt\" title=\"Genesis 1:7\">conj</a></div>\n",
       "<div class=\"gl\">and</div>\n",
       "\n",
       "</div>\n",
       "\n",
       "\n",
       "    </div>\n",
       "\n",
       "\n",
       "</div>\n",
       "\n",
       "<div class=\"patom  \">\n",
       "\n",
       "    <div class=\"phrase\"><a target=\"_blank\" href=\"https://shebanq.ancient-data.org/hebrew/text?book=Genesis&chapter=1&verse=7&version=2017&mr=m&qw=q&tp=txt_p&tr=hb&wget=v&qget=v&nget=vt\" title=\"Genesis 1:7\">phrase</a> <span class=\"nd\">651567</span>  <span class=\"function\">Pred</span> <span class=\"typ\">VP</span>\n",
       "    </div>\n",
       "    <div class=\"atoms\">\n",
       "\n",
       "<div class=\"word  \">\n",
       "<div class=\"h\">יַּבְדֵּ֗ל </div>\n",
       "<div class=\"sp\"><a target=\"_blank\" href=\"https://shebanq.ancient-data.org/hebrew/text?book=Genesis&chapter=1&verse=7&version=2017&mr=m&qw=q&tp=txt_p&tr=hb&wget=v&qget=v&nget=vt\" title=\"Genesis 1:7\">verb</a></div>\n",
       "<div class=\"gl\">separate</div>\n",
       "\n",
       "</div>\n",
       "\n",
       "\n",
       "    </div>\n",
       "\n",
       "\n",
       "</div>\n",
       "\n",
       "<div class=\"patom  l \">\n",
       "\n",
       "    <div class=\"phrase\"><a target=\"_blank\" href=\"https://shebanq.ancient-data.org/hebrew/text?book=Genesis&chapter=1&verse=7&version=2017&mr=m&qw=q&tp=txt_p&tr=hb&wget=v&qget=v&nget=vt\" title=\"Genesis 1:7\">phrase</a> <span class=\"nd\">651568</span>  <span class=\"function\">Cmpl</span> <span class=\"typ\">PP</span>\n",
       "    </div>\n",
       "    <div class=\"atoms\">\n",
       "\n",
       "<div class=\"word  \">\n",
       "<div class=\"h\">בֵּ֤ין </div>\n",
       "<div class=\"sp\"><a target=\"_blank\" href=\"https://shebanq.ancient-data.org/hebrew/text?book=Genesis&chapter=1&verse=7&version=2017&mr=m&qw=q&tp=txt_p&tr=hb&wget=v&qget=v&nget=vt\" title=\"Genesis 1:7\">subs</a></div>\n",
       "<div class=\"gl\">interval</div>\n",
       "\n",
       "</div>\n",
       "\n",
       "<div class=\"word  \">\n",
       "<div class=\"h\">הַ</div>\n",
       "<div class=\"sp\"><a target=\"_blank\" href=\"https://shebanq.ancient-data.org/hebrew/text?book=Genesis&chapter=1&verse=7&version=2017&mr=m&qw=q&tp=txt_p&tr=hb&wget=v&qget=v&nget=vt\" title=\"Genesis 1:7\">art</a></div>\n",
       "<div class=\"gl\">the</div>\n",
       "\n",
       "</div>\n",
       "\n",
       "<div class=\"word  \">\n",
       "<div class=\"h\">מַּ֨יִם֙ </div>\n",
       "<div class=\"sp\"><a target=\"_blank\" href=\"https://shebanq.ancient-data.org/hebrew/text?book=Genesis&chapter=1&verse=7&version=2017&mr=m&qw=q&tp=txt_p&tr=hb&wget=v&qget=v&nget=vt\" title=\"Genesis 1:7\">subs</a></div>\n",
       "<div class=\"gl\">water</div>\n",
       "\n",
       "</div>\n",
       "\n",
       "\n",
       "    </div>\n",
       "\n",
       "\n",
       "</div>\n",
       "\n",
       "\n",
       "    </div>\n",
       "\n",
       "\n",
       "</div>\n",
       "\n",
       "<div class=\"catom  \">\n",
       "\n",
       "    <div class=\"clause\"><a target=\"_blank\" href=\"https://shebanq.ancient-data.org/hebrew/text?book=Genesis&chapter=1&verse=7&version=2017&mr=m&qw=q&tp=txt_p&tr=hb&wget=v&qget=v&nget=vt\" title=\"Genesis 1:7\">clause</a> <span class=\"nd\">427573</span>  <span class=\"rela\">Attr</span> <span class=\"typ\">NmCl</span>\n",
       "    </div>\n",
       "    <div class=\"atoms\">\n",
       "\n",
       "<div class=\"patom  \">\n",
       "\n",
       "    <div class=\"phrase\"><a target=\"_blank\" href=\"https://shebanq.ancient-data.org/hebrew/text?book=Genesis&chapter=1&verse=7&version=2017&mr=m&qw=q&tp=txt_p&tr=hb&wget=v&qget=v&nget=vt\" title=\"Genesis 1:7\">phrase</a> <span class=\"nd\">651569</span>  <span class=\"function\">Rela</span> <span class=\"typ\">CP</span>\n",
       "    </div>\n",
       "    <div class=\"atoms\">\n",
       "\n",
       "<div class=\"word  \">\n",
       "<div class=\"h\">אֲשֶׁר֙ </div>\n",
       "<div class=\"sp\"><a target=\"_blank\" href=\"https://shebanq.ancient-data.org/hebrew/text?book=Genesis&chapter=1&verse=7&version=2017&mr=m&qw=q&tp=txt_p&tr=hb&wget=v&qget=v&nget=vt\" title=\"Genesis 1:7\">conj</a></div>\n",
       "<div class=\"gl\">&lt;relative></div>\n",
       "\n",
       "</div>\n",
       "\n",
       "\n",
       "    </div>\n",
       "\n",
       "\n",
       "</div>\n",
       "\n",
       "<div class=\"patom  l \">\n",
       "\n",
       "    <div class=\"phrase\"><a target=\"_blank\" href=\"https://shebanq.ancient-data.org/hebrew/text?book=Genesis&chapter=1&verse=7&version=2017&mr=m&qw=q&tp=txt_p&tr=hb&wget=v&qget=v&nget=vt\" title=\"Genesis 1:7\">phrase</a> <span class=\"nd\">651570</span>  <span class=\"function\">PreC</span> <span class=\"typ\">PP</span>\n",
       "    </div>\n",
       "    <div class=\"atoms\">\n",
       "\n",
       "<div class=\"word  \">\n",
       "<div class=\"h\">מִ</div>\n",
       "<div class=\"sp\"><a target=\"_blank\" href=\"https://shebanq.ancient-data.org/hebrew/text?book=Genesis&chapter=1&verse=7&version=2017&mr=m&qw=q&tp=txt_p&tr=hb&wget=v&qget=v&nget=vt\" title=\"Genesis 1:7\">prep</a></div>\n",
       "<div class=\"gl\">from</div>\n",
       "\n",
       "</div>\n",
       "\n",
       "<div class=\"word  \">\n",
       "<div class=\"h\">תַּ֣חַת </div>\n",
       "<div class=\"sp\"><a target=\"_blank\" href=\"https://shebanq.ancient-data.org/hebrew/text?book=Genesis&chapter=1&verse=7&version=2017&mr=m&qw=q&tp=txt_p&tr=hb&wget=v&qget=v&nget=vt\" title=\"Genesis 1:7\">subs</a></div>\n",
       "<div class=\"gl\">under part</div>\n",
       "\n",
       "</div>\n",
       "\n",
       "\n",
       "    </div>\n",
       "\n",
       "\n",
       "</div>\n",
       "\n",
       "<div class=\"patom  r \">\n",
       "\n",
       "    <div class=\"phrase\"><a target=\"_blank\" href=\"https://shebanq.ancient-data.org/hebrew/text?book=Genesis&chapter=1&verse=7&version=2017&mr=m&qw=q&tp=txt_p&tr=hb&wget=v&qget=v&nget=vt\" title=\"Genesis 1:7\">phrase</a> <span class=\"nd\">651570</span>  <span class=\"function\">PreC</span> <span class=\"typ\">PP</span>\n",
       "    </div>\n",
       "    <div class=\"atoms\">\n",
       "\n",
       "<div class=\"word  \">\n",
       "<div class=\"h\">לָ</div>\n",
       "<div class=\"sp\"><a target=\"_blank\" href=\"https://shebanq.ancient-data.org/hebrew/text?book=Genesis&chapter=1&verse=7&version=2017&mr=m&qw=q&tp=txt_p&tr=hb&wget=v&qget=v&nget=vt\" title=\"Genesis 1:7\">prep</a></div>\n",
       "<div class=\"gl\">to</div>\n",
       "\n",
       "</div>\n",
       "\n",
       "<div class=\"word  \">\n",
       "<div class=\"h\"></div>\n",
       "<div class=\"sp\"><a target=\"_blank\" href=\"https://shebanq.ancient-data.org/hebrew/text?book=Genesis&chapter=1&verse=7&version=2017&mr=m&qw=q&tp=txt_p&tr=hb&wget=v&qget=v&nget=vt\" title=\"Genesis 1:7\">art</a></div>\n",
       "<div class=\"gl\">the</div>\n",
       "\n",
       "</div>\n",
       "\n",
       "<div class=\"word  \">\n",
       "<div class=\"h\">רָקִ֔יעַ </div>\n",
       "<div class=\"sp\"><a target=\"_blank\" href=\"https://shebanq.ancient-data.org/hebrew/text?book=Genesis&chapter=1&verse=7&version=2017&mr=m&qw=q&tp=txt_p&tr=hb&wget=v&qget=v&nget=vt\" title=\"Genesis 1:7\">subs</a></div>\n",
       "<div class=\"gl\">firmament</div>\n",
       "\n",
       "</div>\n",
       "\n",
       "\n",
       "    </div>\n",
       "\n",
       "\n",
       "</div>\n",
       "\n",
       "\n",
       "    </div>\n",
       "\n",
       "\n",
       "</div>\n",
       "\n",
       "<div class=\"catom  r \">\n",
       "\n",
       "    <div class=\"clause\"><a target=\"_blank\" href=\"https://shebanq.ancient-data.org/hebrew/text?book=Genesis&chapter=1&verse=7&version=2017&mr=m&qw=q&tp=txt_p&tr=hb&wget=v&qget=v&nget=vt\" title=\"Genesis 1:7\">clause</a> <span class=\"nd\">427572</span>  <span class=\"rela\">NA</span> <span class=\"typ\">Way0</span>\n",
       "    </div>\n",
       "    <div class=\"atoms\">\n",
       "\n",
       "<div class=\"patom  r l \">\n",
       "\n",
       "    <div class=\"phrase\"><a target=\"_blank\" href=\"https://shebanq.ancient-data.org/hebrew/text?book=Genesis&chapter=1&verse=7&version=2017&mr=m&qw=q&tp=txt_p&tr=hb&wget=v&qget=v&nget=vt\" title=\"Genesis 1:7\">phrase</a> <span class=\"nd\">651568</span>  <span class=\"function\">Cmpl</span> <span class=\"typ\">PP</span>\n",
       "    </div>\n",
       "    <div class=\"atoms\">\n",
       "\n",
       "<div class=\"word  \">\n",
       "<div class=\"h\">וּ</div>\n",
       "<div class=\"sp\"><a target=\"_blank\" href=\"https://shebanq.ancient-data.org/hebrew/text?book=Genesis&chapter=1&verse=7&version=2017&mr=m&qw=q&tp=txt_p&tr=hb&wget=v&qget=v&nget=vt\" title=\"Genesis 1:7\">conj</a></div>\n",
       "<div class=\"gl\">and</div>\n",
       "\n",
       "</div>\n",
       "\n",
       "\n",
       "    </div>\n",
       "\n",
       "\n",
       "</div>\n",
       "\n",
       "<div class=\"patom  r \">\n",
       "\n",
       "    <div class=\"phrase\"><a target=\"_blank\" href=\"https://shebanq.ancient-data.org/hebrew/text?book=Genesis&chapter=1&verse=7&version=2017&mr=m&qw=q&tp=txt_p&tr=hb&wget=v&qget=v&nget=vt\" title=\"Genesis 1:7\">phrase</a> <span class=\"nd\">651568</span>  <span class=\"function\">Cmpl</span> <span class=\"typ\">PP</span>\n",
       "    </div>\n",
       "    <div class=\"atoms\">\n",
       "\n",
       "<div class=\"word  \">\n",
       "<div class=\"h\">בֵ֣ין </div>\n",
       "<div class=\"sp\"><a target=\"_blank\" href=\"https://shebanq.ancient-data.org/hebrew/text?book=Genesis&chapter=1&verse=7&version=2017&mr=m&qw=q&tp=txt_p&tr=hb&wget=v&qget=v&nget=vt\" title=\"Genesis 1:7\">subs</a></div>\n",
       "<div class=\"gl\">interval</div>\n",
       "\n",
       "</div>\n",
       "\n",
       "<div class=\"word  \">\n",
       "<div class=\"h\">הַ</div>\n",
       "<div class=\"sp\"><a target=\"_blank\" href=\"https://shebanq.ancient-data.org/hebrew/text?book=Genesis&chapter=1&verse=7&version=2017&mr=m&qw=q&tp=txt_p&tr=hb&wget=v&qget=v&nget=vt\" title=\"Genesis 1:7\">art</a></div>\n",
       "<div class=\"gl\">the</div>\n",
       "\n",
       "</div>\n",
       "\n",
       "<div class=\"word  \">\n",
       "<div class=\"h\">מַּ֔יִם </div>\n",
       "<div class=\"sp\"><a target=\"_blank\" href=\"https://shebanq.ancient-data.org/hebrew/text?book=Genesis&chapter=1&verse=7&version=2017&mr=m&qw=q&tp=txt_p&tr=hb&wget=v&qget=v&nget=vt\" title=\"Genesis 1:7\">subs</a></div>\n",
       "<div class=\"gl\">water</div>\n",
       "\n",
       "</div>\n",
       "\n",
       "\n",
       "    </div>\n",
       "\n",
       "\n",
       "</div>\n",
       "\n",
       "\n",
       "    </div>\n",
       "\n",
       "\n",
       "</div>\n",
       "\n",
       "<div class=\"catom  \">\n",
       "\n",
       "    <div class=\"clause\"><a target=\"_blank\" href=\"https://shebanq.ancient-data.org/hebrew/text?book=Genesis&chapter=1&verse=7&version=2017&mr=m&qw=q&tp=txt_p&tr=hb&wget=v&qget=v&nget=vt\" title=\"Genesis 1:7\">clause</a> <span class=\"nd\">427574</span>  <span class=\"rela\">Attr</span> <span class=\"typ\">NmCl</span>\n",
       "    </div>\n",
       "    <div class=\"atoms\">\n",
       "\n",
       "<div class=\"patom  \">\n",
       "\n",
       "    <div class=\"phrase\"><a target=\"_blank\" href=\"https://shebanq.ancient-data.org/hebrew/text?book=Genesis&chapter=1&verse=7&version=2017&mr=m&qw=q&tp=txt_p&tr=hb&wget=v&qget=v&nget=vt\" title=\"Genesis 1:7\">phrase</a> <span class=\"nd\">651571</span>  <span class=\"function\">Rela</span> <span class=\"typ\">CP</span>\n",
       "    </div>\n",
       "    <div class=\"atoms\">\n",
       "\n",
       "<div class=\"word  \">\n",
       "<div class=\"h\">אֲשֶׁ֖ר </div>\n",
       "<div class=\"sp\"><a target=\"_blank\" href=\"https://shebanq.ancient-data.org/hebrew/text?book=Genesis&chapter=1&verse=7&version=2017&mr=m&qw=q&tp=txt_p&tr=hb&wget=v&qget=v&nget=vt\" title=\"Genesis 1:7\">conj</a></div>\n",
       "<div class=\"gl\">&lt;relative></div>\n",
       "\n",
       "</div>\n",
       "\n",
       "\n",
       "    </div>\n",
       "\n",
       "\n",
       "</div>\n",
       "\n",
       "<div class=\"patom  \">\n",
       "\n",
       "    <div class=\"phrase\"><a target=\"_blank\" href=\"https://shebanq.ancient-data.org/hebrew/text?book=Genesis&chapter=1&verse=7&version=2017&mr=m&qw=q&tp=txt_p&tr=hb&wget=v&qget=v&nget=vt\" title=\"Genesis 1:7\">phrase</a> <span class=\"nd\">651572</span>  <span class=\"function\">PreC</span> <span class=\"typ\">PP</span>\n",
       "    </div>\n",
       "    <div class=\"atoms\">\n",
       "\n",
       "<div class=\"word  \">\n",
       "<div class=\"h\">מֵ</div>\n",
       "<div class=\"sp\"><a target=\"_blank\" href=\"https://shebanq.ancient-data.org/hebrew/text?book=Genesis&chapter=1&verse=7&version=2017&mr=m&qw=q&tp=txt_p&tr=hb&wget=v&qget=v&nget=vt\" title=\"Genesis 1:7\">prep</a></div>\n",
       "<div class=\"gl\">from</div>\n",
       "\n",
       "</div>\n",
       "\n",
       "<div class=\"word  \">\n",
       "<div class=\"h\">עַ֣ל </div>\n",
       "<div class=\"sp\"><a target=\"_blank\" href=\"https://shebanq.ancient-data.org/hebrew/text?book=Genesis&chapter=1&verse=7&version=2017&mr=m&qw=q&tp=txt_p&tr=hb&wget=v&qget=v&nget=vt\" title=\"Genesis 1:7\">prep</a></div>\n",
       "<div class=\"gl\">upon</div>\n",
       "\n",
       "</div>\n",
       "\n",
       "<div class=\"word  \">\n",
       "<div class=\"h\">לָ</div>\n",
       "<div class=\"sp\"><a target=\"_blank\" href=\"https://shebanq.ancient-data.org/hebrew/text?book=Genesis&chapter=1&verse=7&version=2017&mr=m&qw=q&tp=txt_p&tr=hb&wget=v&qget=v&nget=vt\" title=\"Genesis 1:7\">prep</a></div>\n",
       "<div class=\"gl\">to</div>\n",
       "\n",
       "</div>\n",
       "\n",
       "<div class=\"word  \">\n",
       "<div class=\"h\"></div>\n",
       "<div class=\"sp\"><a target=\"_blank\" href=\"https://shebanq.ancient-data.org/hebrew/text?book=Genesis&chapter=1&verse=7&version=2017&mr=m&qw=q&tp=txt_p&tr=hb&wget=v&qget=v&nget=vt\" title=\"Genesis 1:7\">art</a></div>\n",
       "<div class=\"gl\">the</div>\n",
       "\n",
       "</div>\n",
       "\n",
       "<div class=\"word  \">\n",
       "<div class=\"h\">רָקִ֑יעַ </div>\n",
       "<div class=\"sp\"><a target=\"_blank\" href=\"https://shebanq.ancient-data.org/hebrew/text?book=Genesis&chapter=1&verse=7&version=2017&mr=m&qw=q&tp=txt_p&tr=hb&wget=v&qget=v&nget=vt\" title=\"Genesis 1:7\">subs</a></div>\n",
       "<div class=\"gl\">firmament</div>\n",
       "\n",
       "</div>\n",
       "\n",
       "\n",
       "    </div>\n",
       "\n",
       "\n",
       "</div>\n",
       "\n",
       "\n",
       "    </div>\n",
       "\n",
       "\n",
       "</div>\n",
       "\n",
       "\n",
       "    </div>\n",
       "\n",
       "\n",
       "</div>\n",
       "\n",
       "<div class=\"satom  \">\n",
       "\n",
       "    <div class=\"sentence\"><a target=\"_blank\" href=\"https://shebanq.ancient-data.org/hebrew/text?book=Genesis&chapter=1&verse=7&version=2017&mr=m&qw=q&tp=txt_p&tr=hb&wget=v&qget=v&nget=vt\" title=\"Genesis 1:7\">sentence</a> <span class=\"nd\">1172228</span> \n",
       "    </div>\n",
       "    <div class=\"atoms\">\n",
       "\n",
       "<div class=\"catom  \">\n",
       "\n",
       "    <div class=\"clause\"><a target=\"_blank\" href=\"https://shebanq.ancient-data.org/hebrew/text?book=Genesis&chapter=1&verse=7&version=2017&mr=m&qw=q&tp=txt_p&tr=hb&wget=v&qget=v&nget=vt\" title=\"Genesis 1:7\">clause</a> <span class=\"nd\">427575</span>  <span class=\"rela\">NA</span> <span class=\"typ\">Way0</span>\n",
       "    </div>\n",
       "    <div class=\"atoms\">\n",
       "\n",
       "<div class=\"patom  \">\n",
       "\n",
       "    <div class=\"phrase\"><a target=\"_blank\" href=\"https://shebanq.ancient-data.org/hebrew/text?book=Genesis&chapter=1&verse=7&version=2017&mr=m&qw=q&tp=txt_p&tr=hb&wget=v&qget=v&nget=vt\" title=\"Genesis 1:7\">phrase</a> <span class=\"nd\">651573</span>  <span class=\"function\">Conj</span> <span class=\"typ\">CP</span>\n",
       "    </div>\n",
       "    <div class=\"atoms\">\n",
       "\n",
       "<div class=\"word  \">\n",
       "<div class=\"h\">וַֽ</div>\n",
       "<div class=\"sp\"><a target=\"_blank\" href=\"https://shebanq.ancient-data.org/hebrew/text?book=Genesis&chapter=1&verse=7&version=2017&mr=m&qw=q&tp=txt_p&tr=hb&wget=v&qget=v&nget=vt\" title=\"Genesis 1:7\">conj</a></div>\n",
       "<div class=\"gl\">and</div>\n",
       "\n",
       "</div>\n",
       "\n",
       "\n",
       "    </div>\n",
       "\n",
       "\n",
       "</div>\n",
       "\n",
       "<div class=\"patom  \">\n",
       "\n",
       "    <div class=\"phrase\"><a target=\"_blank\" href=\"https://shebanq.ancient-data.org/hebrew/text?book=Genesis&chapter=1&verse=7&version=2017&mr=m&qw=q&tp=txt_p&tr=hb&wget=v&qget=v&nget=vt\" title=\"Genesis 1:7\">phrase</a> <span class=\"nd\">651574</span>  <span class=\"function\">Pred</span> <span class=\"typ\">VP</span>\n",
       "    </div>\n",
       "    <div class=\"atoms\">\n",
       "\n",
       "<div class=\"word  \">\n",
       "<div class=\"h\">יְהִי־</div>\n",
       "<div class=\"sp\"><a target=\"_blank\" href=\"https://shebanq.ancient-data.org/hebrew/text?book=Genesis&chapter=1&verse=7&version=2017&mr=m&qw=q&tp=txt_p&tr=hb&wget=v&qget=v&nget=vt\" title=\"Genesis 1:7\">verb</a></div>\n",
       "<div class=\"gl\">be</div>\n",
       "\n",
       "</div>\n",
       "\n",
       "\n",
       "    </div>\n",
       "\n",
       "\n",
       "</div>\n",
       "\n",
       "<div class=\"patom  \">\n",
       "\n",
       "    <div class=\"phrase\"><a target=\"_blank\" href=\"https://shebanq.ancient-data.org/hebrew/text?book=Genesis&chapter=1&verse=7&version=2017&mr=m&qw=q&tp=txt_p&tr=hb&wget=v&qget=v&nget=vt\" title=\"Genesis 1:7\">phrase</a> <span class=\"nd\">651575</span>  <span class=\"function\">Modi</span> <span class=\"typ\">AdvP</span>\n",
       "    </div>\n",
       "    <div class=\"atoms\">\n",
       "\n",
       "<div class=\"word  \">\n",
       "<div class=\"h\">כֵֽן׃ </div>\n",
       "<div class=\"sp\"><a target=\"_blank\" href=\"https://shebanq.ancient-data.org/hebrew/text?book=Genesis&chapter=1&verse=7&version=2017&mr=m&qw=q&tp=txt_p&tr=hb&wget=v&qget=v&nget=vt\" title=\"Genesis 1:7\">advb</a></div>\n",
       "<div class=\"gl\">thus</div>\n",
       "\n",
       "</div>\n",
       "\n",
       "\n",
       "    </div>\n",
       "\n",
       "\n",
       "</div>\n",
       "\n",
       "\n",
       "    </div>\n",
       "\n",
       "\n",
       "</div>\n",
       "\n",
       "\n",
       "    </div>\n",
       "\n",
       "\n",
       "</div>\n",
       "\n",
       "\n",
       "</div>\n"
      ],
      "text/plain": [
       "<IPython.core.display.HTML object>"
      ]
     },
     "metadata": {},
     "output_type": "display_data"
    }
   ],
   "source": [
    "B.pretty(verse)"
   ]
  },
  {
   "cell_type": "code",
   "execution_count": 6,
   "metadata": {
    "slideshow": {
     "slide_type": "fragment"
    }
   },
   "outputs": [
    {
     "data": {
      "text/html": [
       "<div class=\"atoms  \">\n",
       "<div class=\"catom  l \">\n",
       "\n",
       "    <div class=\"clause\"><a target=\"_blank\" href=\"https://shebanq.ancient-data.org/hebrew/text?book=Genesis&chapter=1&verse=7&version=2017&mr=m&qw=q&tp=txt_p&tr=hb&wget=v&qget=v&nget=vt\" title=\"Genesis 1:7\">clause</a> <span class=\"nd\">427572</span>  <span class=\"rela\">NA</span> <span class=\"typ\">Way0</span>\n",
       "    </div>\n",
       "    <div class=\"atoms\">\n",
       "\n",
       "<div class=\"patom  \">\n",
       "\n",
       "    <div class=\"phrase\"><a target=\"_blank\" href=\"https://shebanq.ancient-data.org/hebrew/text?book=Genesis&chapter=1&verse=7&version=2017&mr=m&qw=q&tp=txt_p&tr=hb&wget=v&qget=v&nget=vt\" title=\"Genesis 1:7\">phrase</a> <span class=\"nd\">651566</span>  <span class=\"function\">Conj</span> <span class=\"typ\">CP</span>\n",
       "    </div>\n",
       "    <div class=\"atoms\">\n",
       "\n",
       "<div class=\"word  \">\n",
       "<div class=\"h\">וַ</div>\n",
       "<div class=\"sp\"><a target=\"_blank\" href=\"https://shebanq.ancient-data.org/hebrew/text?book=Genesis&chapter=1&verse=7&version=2017&mr=m&qw=q&tp=txt_p&tr=hb&wget=v&qget=v&nget=vt\" title=\"Genesis 1:7\">conj</a></div>\n",
       "<div class=\"gl\">and</div>\n",
       "\n",
       "</div>\n",
       "\n",
       "\n",
       "    </div>\n",
       "\n",
       "\n",
       "</div>\n",
       "\n",
       "<div class=\"patom  \">\n",
       "\n",
       "    <div class=\"phrase\"><a target=\"_blank\" href=\"https://shebanq.ancient-data.org/hebrew/text?book=Genesis&chapter=1&verse=7&version=2017&mr=m&qw=q&tp=txt_p&tr=hb&wget=v&qget=v&nget=vt\" title=\"Genesis 1:7\">phrase</a> <span class=\"nd\">651567</span>  <span class=\"function\">Pred</span> <span class=\"typ\">VP</span>\n",
       "    </div>\n",
       "    <div class=\"atoms\">\n",
       "\n",
       "<div class=\"word  \">\n",
       "<div class=\"h\">יַּבְדֵּ֗ל </div>\n",
       "<div class=\"sp\"><a target=\"_blank\" href=\"https://shebanq.ancient-data.org/hebrew/text?book=Genesis&chapter=1&verse=7&version=2017&mr=m&qw=q&tp=txt_p&tr=hb&wget=v&qget=v&nget=vt\" title=\"Genesis 1:7\">verb</a></div>\n",
       "<div class=\"gl\">separate</div>\n",
       "\n",
       "</div>\n",
       "\n",
       "\n",
       "    </div>\n",
       "\n",
       "\n",
       "</div>\n",
       "\n",
       "<div class=\"patom  l \">\n",
       "\n",
       "    <div class=\"phrase\"><a target=\"_blank\" href=\"https://shebanq.ancient-data.org/hebrew/text?book=Genesis&chapter=1&verse=7&version=2017&mr=m&qw=q&tp=txt_p&tr=hb&wget=v&qget=v&nget=vt\" title=\"Genesis 1:7\">phrase</a> <span class=\"nd\">651568</span>  <span class=\"function\">Cmpl</span> <span class=\"typ\">PP</span>\n",
       "    </div>\n",
       "    <div class=\"atoms\">\n",
       "\n",
       "<div class=\"word  \">\n",
       "<div class=\"h\">בֵּ֤ין </div>\n",
       "<div class=\"sp\"><a target=\"_blank\" href=\"https://shebanq.ancient-data.org/hebrew/text?book=Genesis&chapter=1&verse=7&version=2017&mr=m&qw=q&tp=txt_p&tr=hb&wget=v&qget=v&nget=vt\" title=\"Genesis 1:7\">subs</a></div>\n",
       "<div class=\"gl\">interval</div>\n",
       "\n",
       "</div>\n",
       "\n",
       "<div class=\"word  \">\n",
       "<div class=\"h\">הַ</div>\n",
       "<div class=\"sp\"><a target=\"_blank\" href=\"https://shebanq.ancient-data.org/hebrew/text?book=Genesis&chapter=1&verse=7&version=2017&mr=m&qw=q&tp=txt_p&tr=hb&wget=v&qget=v&nget=vt\" title=\"Genesis 1:7\">art</a></div>\n",
       "<div class=\"gl\">the</div>\n",
       "\n",
       "</div>\n",
       "\n",
       "<div class=\"word  \">\n",
       "<div class=\"h\">מַּ֨יִם֙ </div>\n",
       "<div class=\"sp\"><a target=\"_blank\" href=\"https://shebanq.ancient-data.org/hebrew/text?book=Genesis&chapter=1&verse=7&version=2017&mr=m&qw=q&tp=txt_p&tr=hb&wget=v&qget=v&nget=vt\" title=\"Genesis 1:7\">subs</a></div>\n",
       "<div class=\"gl\">water</div>\n",
       "\n",
       "</div>\n",
       "\n",
       "\n",
       "    </div>\n",
       "\n",
       "\n",
       "</div>\n",
       "\n",
       "\n",
       "    </div>\n",
       "\n",
       "\n",
       "</div>\n",
       "\n",
       "<div class=\"catom  r \">\n",
       "\n",
       "    <div class=\"clause\"><a target=\"_blank\" href=\"https://shebanq.ancient-data.org/hebrew/text?book=Genesis&chapter=1&verse=7&version=2017&mr=m&qw=q&tp=txt_p&tr=hb&wget=v&qget=v&nget=vt\" title=\"Genesis 1:7\">clause</a> <span class=\"nd\">427572</span>  <span class=\"rela\">NA</span> <span class=\"typ\">Way0</span>\n",
       "    </div>\n",
       "    <div class=\"atoms\">\n",
       "\n",
       "<div class=\"patom  r l \">\n",
       "\n",
       "    <div class=\"phrase\"><a target=\"_blank\" href=\"https://shebanq.ancient-data.org/hebrew/text?book=Genesis&chapter=1&verse=7&version=2017&mr=m&qw=q&tp=txt_p&tr=hb&wget=v&qget=v&nget=vt\" title=\"Genesis 1:7\">phrase</a> <span class=\"nd\">651568</span>  <span class=\"function\">Cmpl</span> <span class=\"typ\">PP</span>\n",
       "    </div>\n",
       "    <div class=\"atoms\">\n",
       "\n",
       "<div class=\"word  \">\n",
       "<div class=\"h\">וּ</div>\n",
       "<div class=\"sp\"><a target=\"_blank\" href=\"https://shebanq.ancient-data.org/hebrew/text?book=Genesis&chapter=1&verse=7&version=2017&mr=m&qw=q&tp=txt_p&tr=hb&wget=v&qget=v&nget=vt\" title=\"Genesis 1:7\">conj</a></div>\n",
       "<div class=\"gl\">and</div>\n",
       "\n",
       "</div>\n",
       "\n",
       "\n",
       "    </div>\n",
       "\n",
       "\n",
       "</div>\n",
       "\n",
       "<div class=\"patom  r \">\n",
       "\n",
       "    <div class=\"phrase\"><a target=\"_blank\" href=\"https://shebanq.ancient-data.org/hebrew/text?book=Genesis&chapter=1&verse=7&version=2017&mr=m&qw=q&tp=txt_p&tr=hb&wget=v&qget=v&nget=vt\" title=\"Genesis 1:7\">phrase</a> <span class=\"nd\">651568</span>  <span class=\"function\">Cmpl</span> <span class=\"typ\">PP</span>\n",
       "    </div>\n",
       "    <div class=\"atoms\">\n",
       "\n",
       "<div class=\"word  \">\n",
       "<div class=\"h\">בֵ֣ין </div>\n",
       "<div class=\"sp\"><a target=\"_blank\" href=\"https://shebanq.ancient-data.org/hebrew/text?book=Genesis&chapter=1&verse=7&version=2017&mr=m&qw=q&tp=txt_p&tr=hb&wget=v&qget=v&nget=vt\" title=\"Genesis 1:7\">subs</a></div>\n",
       "<div class=\"gl\">interval</div>\n",
       "\n",
       "</div>\n",
       "\n",
       "<div class=\"word  \">\n",
       "<div class=\"h\">הַ</div>\n",
       "<div class=\"sp\"><a target=\"_blank\" href=\"https://shebanq.ancient-data.org/hebrew/text?book=Genesis&chapter=1&verse=7&version=2017&mr=m&qw=q&tp=txt_p&tr=hb&wget=v&qget=v&nget=vt\" title=\"Genesis 1:7\">art</a></div>\n",
       "<div class=\"gl\">the</div>\n",
       "\n",
       "</div>\n",
       "\n",
       "<div class=\"word  \">\n",
       "<div class=\"h\">מַּ֔יִם </div>\n",
       "<div class=\"sp\"><a target=\"_blank\" href=\"https://shebanq.ancient-data.org/hebrew/text?book=Genesis&chapter=1&verse=7&version=2017&mr=m&qw=q&tp=txt_p&tr=hb&wget=v&qget=v&nget=vt\" title=\"Genesis 1:7\">subs</a></div>\n",
       "<div class=\"gl\">water</div>\n",
       "\n",
       "</div>\n",
       "\n",
       "\n",
       "    </div>\n",
       "\n",
       "\n",
       "</div>\n",
       "\n",
       "\n",
       "    </div>\n",
       "\n",
       "\n",
       "</div>\n",
       "\n",
       "\n",
       "</div>\n"
      ],
      "text/plain": [
       "<IPython.core.display.HTML object>"
      ]
     },
     "metadata": {},
     "output_type": "display_data"
    }
   ],
   "source": [
    "clause = 427572\n",
    "B.pretty(clause)"
   ]
  },
  {
   "cell_type": "code",
   "execution_count": 9,
   "metadata": {
    "slideshow": {
     "slide_type": "fragment"
    }
   },
   "outputs": [
    {
     "data": {
      "text/html": [
       "<a target=\"_blank\" href=\"https://shebanq.ancient-data.org/hebrew/text?book=Genesis&chapter=1&verse=7&version=2017&mr=m&qw=q&tp=txt_p&tr=hb&wget=v&qget=v&nget=vt\" title=\"show this passage in SHEBANQ\">Genesis 1:7</a>"
      ],
      "text/plain": [
       "<IPython.core.display.HTML object>"
      ]
     },
     "execution_count": 9,
     "metadata": {},
     "output_type": "execute_result"
    }
   ],
   "source": [
    "HTML(B.shbLink(clause))"
   ]
  },
  {
   "cell_type": "markdown",
   "metadata": {
    "slideshow": {
     "slide_type": "slide"
    }
   },
   "source": [
    "## Queries\n",
    "\n",
    "![ku](images/stephen-ku.png)"
   ]
  },
  {
   "cell_type": "code",
   "execution_count": 10,
   "metadata": {
    "slideshow": {
     "slide_type": "fragment"
    }
   },
   "outputs": [],
   "source": [
    "ellipQuery = '''\n",
    "sentence\n",
    "  c1:clause\n",
    "    phrase function=Pred\n",
    "      word pdp=verb\n",
    "  c2:clause\n",
    "    phrase function=Pred\n",
    "  c3:clause typ=Ellp\n",
    "    phrase function=Objc\n",
    "      word pdp=subs|nmpr|prps|prde|prin\n",
    "  c1 << c2\n",
    "  c2 << c3\n",
    "'''"
   ]
  },
  {
   "cell_type": "code",
   "execution_count": 11,
   "metadata": {
    "slideshow": {
     "slide_type": "fragment"
    }
   },
   "outputs": [
    {
     "data": {
      "text/plain": [
       "1410"
      ]
     },
     "execution_count": 11,
     "metadata": {},
     "output_type": "execute_result"
    }
   ],
   "source": [
    "results = B.search(ellipQuery)\n",
    "len(results)"
   ]
  },
  {
   "cell_type": "code",
   "execution_count": 17,
   "metadata": {},
   "outputs": [],
   "source": [
    "def f(n):\n",
    "    B.show(results, n, n+1, withNodes=True)"
   ]
  },
  {
   "cell_type": "code",
   "execution_count": 18,
   "metadata": {},
   "outputs": [
    {
     "data": {
      "application/vnd.jupyter.widget-view+json": {
       "model_id": "663e18e53da3418c8aa4cc5cd52421d2",
       "version_major": 2,
       "version_minor": 0
      },
      "text/html": [
       "<p>Failed to display Jupyter Widget of type <code>interactive</code>.</p>\n",
       "<p>\n",
       "  If you're reading this message in the Jupyter Notebook or JupyterLab Notebook, it may mean\n",
       "  that the widgets JavaScript is still loading. If this message persists, it\n",
       "  likely means that the widgets JavaScript library is either not installed or\n",
       "  not enabled. See the <a href=\"https://ipywidgets.readthedocs.io/en/stable/user_install.html\">Jupyter\n",
       "  Widgets Documentation</a> for setup instructions.\n",
       "</p>\n",
       "<p>\n",
       "  If you're reading this message in another frontend (for example, a static\n",
       "  rendering on GitHub or <a href=\"https://nbviewer.jupyter.org/\">NBViewer</a>),\n",
       "  it may mean that your frontend doesn't currently support widgets.\n",
       "</p>\n"
      ],
      "text/plain": [
       "interactive(children=(IntSlider(value=0, description='n', max=1409), Output()), _dom_classes=('widget-interact',))"
      ]
     },
     "metadata": {},
     "output_type": "display_data"
    },
    {
     "data": {
      "text/plain": [
       "<function __main__.f>"
      ]
     },
     "execution_count": 18,
     "metadata": {},
     "output_type": "execute_result"
    }
   ],
   "source": [
    "interact(f, n=widgets.IntSlider(min=0,max=len(results)-1,step=1,value=0))"
   ]
  },
  {
   "cell_type": "markdown",
   "metadata": {
    "slideshow": {
     "slide_type": "slide"
    }
   },
   "source": [
    "# *You* can do this!\n",
    "\n",
    "because:\n",
    "\n",
    "* the text model works with proper *logic*:\n",
    "  * graph = nodes + edges + feature annotations\n",
    "  * very similar to the model of Emdros (MQL)\n",
    "* the data packaging is for efficient *logistics*\n",
    "* but do take a beginners course in **Python**"
   ]
  },
  {
   "cell_type": "markdown",
   "metadata": {
    "slideshow": {
     "slide_type": "slide"
    }
   },
   "source": [
    "# Open Scriptures: peeling off the packaging"
   ]
  },
  {
   "cell_type": "markdown",
   "metadata": {
    "slideshow": {
     "slide_type": "fragment"
    }
   },
   "source": [
    "## The OSM source\n",
    "\n",
    "Have a look in the \n",
    "[Open Scriptures Morphology](https://github.com/openscriptures/morphhb/tree/master/wlc)\n",
    "source files: [Lam.xml](https://github.com/openscriptures/morphhb/blob/master/wlc/Lam.xml)\n",
    "\n",
    "```\n",
    " <div type=\"book\" osisID=\"Lam\">\n",
    "      <chapter osisID=\"Lam.1\">\n",
    "        <verse osisID=\"Lam.1.1\">\n",
    "          <w lemma=\"349 b\" n=\"1.1.1.0\" morph=\"HTi\">אֵיכָ֣ה</w>\n",
    "          <seg type=\"x-paseq\">׀</seg>\n",
    "          <w lemma=\"3427\" morph=\"HVqp3fs\">יָשְׁבָ֣ה</w>\n",
    "          <w lemma=\"910\" n=\"1.1.1\" morph=\"HNcmsa\">בָדָ֗ד</w>\n",
    "\n",
    "```"
   ]
  },
  {
   "cell_type": "markdown",
   "metadata": {
    "slideshow": {
     "slide_type": "subslide"
    }
   },
   "source": [
    "### Book names\n",
    "```\n",
    "Lam\n",
    "Lam.1\n",
    "Lam.1.1\n",
    "```\n",
    "\n",
    "Lam = Lmt = Lament = Lamentations = Threni = Klagesangene = ሰቆቃው_ኤርምያስ"
   ]
  },
  {
   "cell_type": "markdown",
   "metadata": {
    "slideshow": {
     "slide_type": "subslide"
    }
   },
   "source": [
    "### Sections\n",
    "\n",
    "```\n",
    " book\n",
    "      chapter\n",
    "        verse\n",
    "          w\n",
    "          w\n",
    "          w\n",
    "```"
   ]
  },
  {
   "cell_type": "markdown",
   "metadata": {
    "slideshow": {
     "slide_type": "subslide"
    }
   },
   "source": [
    "### Identifiers\n",
    "\n",
    "```\n",
    "                  osisID= Lam \n",
    "               osisID= Lam.1\n",
    "               osisID= Lam.1.1\n",
    "             lemma= 349 b  n= 1.1.1.0 \n",
    "\n",
    "             lemma= 3427 \n",
    "             lemma= 910  n= 1.1.1 \n",
    "```"
   ]
  },
  {
   "cell_type": "markdown",
   "metadata": {
    "slideshow": {
     "slide_type": "subslide"
    }
   },
   "source": [
    "### XML markup\n",
    "\n",
    "```\n",
    " <div type=\"   \" >\n",
    "      <\"\">\n",
    "        <\"\">\n",
    "          <\"\" \"\" morph=\"\"></>\n",
    "          <seg type=\"x-paseq\"></seg>\n",
    "          <\"\" morph=\"\"></>\n",
    "          <\"\" \"\" morph=\"\"></>\n",
    "```"
   ]
  },
  {
   "cell_type": "markdown",
   "metadata": {
    "slideshow": {
     "slide_type": "subslide"
    }
   },
   "source": [
    "### Full text\n",
    "\n",
    "```\n",
    "אֵיכָ֣ה\n",
    "׀\n",
    "יָשְׁבָ֣ה\n",
    "בָדָ֗ד\n",
    "```"
   ]
  },
  {
   "cell_type": "markdown",
   "metadata": {
    "slideshow": {
     "slide_type": "subslide"
    }
   },
   "source": [
    "### Morph\n",
    "\n",
    "but all you want is the treasure: *morph*\n",
    "\n",
    "```\n",
    "HTi\n",
    "HVqp3fs\n",
    "HNcmsa\n",
    "```\n",
    "\n",
    "from "
   ]
  },
  {
   "cell_type": "markdown",
   "metadata": {
    "slideshow": {
     "slide_type": "fragment"
    }
   },
   "source": [
    "```\n",
    " <div type=\"book\" osisID=\"Lam\">\n",
    "      <chapter osisID=\"Lam.1\">\n",
    "        <verse osisID=\"Lam.1.1\">\n",
    "          <w lemma=\"349 b\" n=\"1.1.1.0\" morph=\"HTi\">אֵיכָ֣ה</w>\n",
    "          <seg type=\"x-paseq\">׀</seg>\n",
    "          <w lemma=\"3427\" morph=\"HVqp3fs\">יָשְׁבָ֣ה</w>\n",
    "          <w lemma=\"910\" n=\"1.1.1\" morph=\"HNcmsa\">בָדָ֗ד</w>\n",
    "\n",
    "```"
   ]
  },
  {
   "cell_type": "markdown",
   "metadata": {
    "slideshow": {
     "slide_type": "subslide"
    }
   },
   "source": [
    "## In a nutshell\n",
    "\n",
    "1. you get more than you want\n",
    "1. what you want is intricately wrapped up\n",
    "1. the treasure is difficult to align with other resources\n",
    "1. **we suffer from leaking concerns**\n",
    "1. **we are being micro-managed at all levels**"
   ]
  },
  {
   "cell_type": "markdown",
   "metadata": {
    "slideshow": {
     "slide_type": "subslide"
    }
   },
   "source": [
    "<img src=\"images/loveOS.png\" width=\"60%\"/>"
   ]
  },
  {
   "cell_type": "markdown",
   "metadata": {
    "slideshow": {
     "slide_type": "fragment"
    }
   },
   "source": [
    "but we do need better logistics in treasure sharing"
   ]
  },
  {
   "cell_type": "markdown",
   "metadata": {
    "slideshow": {
     "slide_type": "slide"
    }
   },
   "source": [
    "# Modular resources\n",
    "## The IKEA way\n",
    "## Lessons of a cabinet ...\n",
    "\n",
    "![kitchen](images/kitchen.png)\n",
    "\n",
    "![kitchen](images/kitchen-annot.png)"
   ]
  },
  {
   "cell_type": "markdown",
   "metadata": {
    "slideshow": {
     "slide_type": "subslide"
    }
   },
   "source": [
    "![metod](images/metod.png)"
   ]
  },
  {
   "cell_type": "markdown",
   "metadata": {
    "slideshow": {
     "slide_type": "subslide"
    }
   },
   "source": [
    "## ... applied to data\n",
    "Modular resources \n",
    "\n",
    "1. help to separate concerns\n",
    "1. help to finely tune data sets by recombination\n",
    "1. are usable in novel settings\n",
    "\n",
    "Research questions often involve new demands on data and creation of new treasures.\n",
    "\n",
    "> **problem-oriented annotation**: take a corpus\n",
    "  and add to it **your own** form of annotation,\n",
    "  oriented towards **your own** research goal\n",
    "  \n",
    "> standards for corpus annotation: **1: annotations should be separable**\n",
    "  \n",
    "> Hence, annotation should be **modular**: separate **text** (sic!) and annotation\n",
    "\n",
    "> Thanks to Johan de Joode, Leuven"
   ]
  },
  {
   "cell_type": "markdown",
   "metadata": {
    "slideshow": {
     "slide_type": "slide"
    }
   },
   "source": [
    "# Text Fabric\n",
    "\n",
    "![TF](images/tf-small.png)\n",
    "\n",
    "A TF resource is a bunch of TF files.\n",
    "\n",
    "A TF file contains the data for a single *feature*."
   ]
  },
  {
   "cell_type": "markdown",
   "metadata": {
    "slideshow": {
     "slide_type": "fragment"
    }
   },
   "source": [
    "## Warp and weft\n",
    "\n",
    "Every TF resource must have two special features: **warp** features.\n",
    "\n",
    "All other features are **weft** features, they are woven into the warp.\n",
    "<img src=\"images/warp.png\" width=\"50%\"/>\n",
    "\n",
    "[wikipedia](https://en.wikipedia.org/wiki/Weaving)."
   ]
  },
  {
   "cell_type": "markdown",
   "metadata": {
    "slideshow": {
     "slide_type": "slide"
    }
   },
   "source": [
    "## Weft features\n",
    "\n",
    "These contain the concrete, tangible information: \n",
    "\n",
    "* the text\n",
    "* the linguistic annotations\n",
    "* additional data that is linked to the text"
   ]
  },
  {
   "cell_type": "markdown",
   "metadata": {
    "slideshow": {
     "slide_type": "subslide"
    }
   },
   "source": [
    "### [book@en](https://etcbc.github.io/bhsa/features/hebrew/2017/book@ll.html)\n",
    "\n",
    "```\n",
    "@node\n",
    "@author=Eep Talstra Centre for Bible and Computer\n",
    "@dataset=BHSA\n",
    "@datasetName=Biblia Hebraica Stuttgartensia Amstelodamensis\n",
    "@email=shebanq@ancient-data.org\n",
    "@encoders=Dirk Roorda (TF)\n",
    "@language=English\n",
    "@languageCode=en\n",
    "@languageEnglish=english\n",
    "@provenance=book names from wikipedia and other sources\n",
    "@valueType=str\n",
    "@version=2017\n",
    "@website=https://shebanq.ancient-data.org\n",
    "@writtenBy=Text-Fabric\n",
    "@dateWritten=2018-01-17T17:24:58Z\n",
    "\n",
    "426585\tGenesis\n",
    "Exodus\n",
    "Leviticus\n",
    "Numbers\n",
    "Deuteronomy\n",
    "Joshua\n",
    "Judges\n",
    "1_Samuel\n",
    "2_Samuel\n",
    "1_Kings\n",
    "2_Kings\n",
    "Isaiah\n",
    "Jeremiah\n",
    "Ezekiel\n",
    "Hosea\n",
    "Joel\n",
    "Amos\n",
    "Obadiah\n",
    "Jonah\n",
    "Micah\n",
    "Nahum\n",
    "Habakkuk\n",
    "Zephaniah\n",
    "Haggai\n",
    "Zechariah\n",
    "Malachi\n",
    "Psalms\n",
    "Job\n",
    "Proverbs\n",
    "Ruth\n",
    "Song_of_songs\n",
    "Ecclesiastes\n",
    "Lamentations\n",
    "Esther\n",
    "Daniel\n",
    "Ezra\n",
    "Nehemiah\n",
    "1_Chronicles\n",
    "2_Chronicles\n",
    "```"
   ]
  },
  {
   "cell_type": "markdown",
   "metadata": {
    "slideshow": {
     "slide_type": "subslide"
    }
   },
   "source": [
    "### [book@da](https://etcbc.github.io/bhsa/features/hebrew/2017/book@ll.html)\n",
    "\n",
    "```\n",
    "426585\t1.Mosebog\n",
    "2.Mosebog\n",
    "3.Mosebog\n",
    "4.Mosebog\n",
    "5.Mosebog\n",
    "Josva\n",
    "Dommer\n",
    "1.Samuel\n",
    "2.Samuel\n",
    "1.Kongebog\n",
    "2.Kongebog\n",
    "Esajas\n",
    "Jeremias\n",
    "Ezekiel\n",
    "Hoseas\n",
    "Joel\n",
    "Amos\n",
    "Obadias\n",
    "Jonas\n",
    "Mika\n",
    "Nahum\n",
    "Habakkuk\n",
    "Sefanias\n",
    "Haggaj\n",
    "Zakarias\n",
    "Malakias\n",
    "Salmerne\n",
    "Job\n",
    "Ordsprogene\n",
    "Ruth\n",
    "Højsangen\n",
    "Prædikeren\n",
    "Klagesangene\n",
    "Ester\n",
    "Daniel\n",
    "Ezra\n",
    "Nehemias\n",
    "1.Krønikebog\n",
    "2.Krønikebog\n",
    "```"
   ]
  },
  {
   "cell_type": "markdown",
   "metadata": {
    "slideshow": {
     "slide_type": "subslide"
    }
   },
   "source": [
    "### [book@am](https://etcbc.github.io/bhsa/features/hebrew/2017/book@ll.html)\n",
    "\n",
    "```\n",
    "426585\tኦሪት_ዘፍጥረት\n",
    "ኦሪት_ዘጸአት\n",
    "ኦሪት_ዘሌዋውያን\n",
    "ኦሪት_ዘኍልቍ\n",
    "ኦሪት_ዘዳግም\n",
    "መጽሐፈ_ኢያሱ_ወልደ_ነዌ\n",
    "መጽሐፈ_መሣፍንት\n",
    "መጽሐፈ_ሳሙኤል_ቀዳማዊ\n",
    "መጽሐፈ_ሳሙኤል_ካል\n",
    "መጽሐፈ_ነገሥት_ቀዳማዊ።\n",
    "መጽሐፈ_ነገሥት_ካልዕ።\n",
    "ትንቢተ_ኢሳይያስ\n",
    "ትንቢተ_ኤርምያስ\n",
    "ትንቢተ_ሕዝቅኤል\n",
    "ትንቢተ_ሆሴዕ\n",
    "ትንቢተ_ኢዮኤል\n",
    "ትንቢተ_አሞጽ\n",
    "ትንቢተ_አብድዩ\n",
    "ትንቢተ_ዮናስ\n",
    "ትንቢተ_ሚክያስ\n",
    "ትንቢተ_ናሆም\n",
    "ትንቢተ_ዕንባቆም\n",
    "ትንቢተ_ሶፎንያስ\n",
    "ትንቢተ_ሐጌ\n",
    "ትንቢተ_ዘካርያስ\n",
    "ትንቢተ_ሚልክያ\n",
    "መዝሙረ_ዳዊት\n",
    "መጽሐፈ_ኢዮብ።\n",
    "መጽሐፈ_ምሳሌ\n",
    "መጽሐፈ_ሩት\n",
    "መኃልየ_መኃልይ_ዘሰሎሞን\n",
    "መጽሐፈ_መክብብ\n",
    "ሰቆቃው_ኤርምያስ\n",
    "መጽሐፈ_አስቴር።\n",
    "ትንቢተ_ዳንኤል\n",
    "መጽሐፈ_ዕዝራ።\n",
    "መጽሐፈ_ነህምያ።\n",
    "መጽሐፈ_ዜና_መዋዕል_ቀዳማዊ።\n",
    "መጽሐፈ_ዜና_መዋዕል_ካልዕ።\n",
    "```"
   ]
  },
  {
   "cell_type": "markdown",
   "metadata": {
    "slideshow": {
     "slide_type": "subslide"
    }
   },
   "source": [
    "### [g_word_utf8](https://etcbc.github.io/bhsa/features/hebrew/2017/g_word_utf8.html)\n",
    "\n",
    "```\n",
    "@node\n",
    "@author=Eep Talstra Centre for Bible and Computer\n",
    "@dataset=BHSA\n",
    "@datasetName=Biblia Hebraica Stuttgartensia Amstelodamensis\n",
    "@email=shebanq@ancient-data.org\n",
    "@encoders=Constantijn Sikkel (QDF), Ulrik Petersen (MQL) and Dirk Roorda (TF)\n",
    "@valueType=str\n",
    "@version=2017\n",
    "@website=https://shebanq.ancient-data.org\n",
    "@writtenBy=Text-Fabric\n",
    "@dateWritten=2018-01-17T17:20:54Z\n",
    "\n",
    "בְּ\n",
    "רֵאשִׁ֖ית\n",
    "בָּרָ֣א\n",
    "אֱלֹהִ֑ים\n",
    "אֵ֥ת\n",
    "הַ\n",
    "שָּׁמַ֖יִם\n",
    "וְ\n",
    "אֵ֥ת\n",
    "הָ\n",
    "אָֽרֶץ\n",
    "```"
   ]
  },
  {
   "cell_type": "markdown",
   "metadata": {
    "slideshow": {
     "slide_type": "subslide"
    }
   },
   "source": [
    "### [g_cons_utf8](https://etcbc.github.io/bhsa/features/hebrew/2017/g_cons_utf8.html)\n",
    "\n",
    "```\n",
    "ב\n",
    "ראשׁית\n",
    "ברא\n",
    "אלהים\n",
    "את\n",
    "ה\n",
    "שׁמים\n",
    "ו\n",
    "את\n",
    "ה\n",
    "ארץ\n",
    "\n",
    "```"
   ]
  },
  {
   "cell_type": "markdown",
   "metadata": {
    "slideshow": {
     "slide_type": "subslide"
    }
   },
   "source": [
    "### phono\n",
    "from the [phono module](https://github.com/ETCBC/phono)\n",
    "\n",
    "```\n",
    "@node\n",
    "@author=BHSA Data: Constantijn Sikkel; Phono Notebook: Dirk Roorda\n",
    "@coreData=BHSA\n",
    "@coreVersion=2017\n",
    "@source=Phono Notebook applied to BHSA Data\n",
    "@valueType=str\n",
    "@writtenBy=Text-Fabric\n",
    "@dateWritten=2018-01-17T17:29:02Z\n",
    "\n",
    "bᵊ\n",
    "rēšˌîṯ\n",
    "bārˈā\n",
    "ʔᵉlōhˈîm\n",
    "ʔˌēṯ\n",
    "ha\n",
    "ššāmˌayim\n",
    "wᵊ\n",
    "ʔˌēṯ\n",
    "hā\n",
    "ʔˈāreṣ\n",
    "```"
   ]
  },
  {
   "cell_type": "markdown",
   "metadata": {
    "slideshow": {
     "slide_type": "subslide"
    }
   },
   "source": [
    "### [sp](https://etcbc.github.io/bhsa/features/hebrew/2017/sp.html) (part-of-speech)\n",
    "\n",
    "In the BHSA core again.\n",
    "\n",
    "```\n",
    "@node\n",
    "@author=Eep Talstra Centre for Bible and Computer\n",
    "@dataset=BHSA\n",
    "@datasetName=Biblia Hebraica Stuttgartensia Amstelodamensis\n",
    "@email=shebanq@ancient-data.org\n",
    "@encoders=Constantijn Sikkel (QDF), and Dirk Roorda (TF)\n",
    "@valueType=str\n",
    "@version=2017\n",
    "@website=https://shebanq.ancient-data.org\n",
    "@writtenBy=Text-Fabric\n",
    "@dateWritten=2018-01-17T17:25:41Z\n",
    "\n",
    "prep\n",
    "subs\n",
    "verb\n",
    "subs\n",
    "prep\n",
    "art\n",
    "subs\n",
    "conj\n",
    "prep\n",
    "art\n",
    "subs\n",
    "```"
   ]
  },
  {
   "cell_type": "markdown",
   "metadata": {
    "slideshow": {
     "slide_type": "subslide"
    }
   },
   "source": [
    "### crossref\n",
    "from the [parallels module](https://github.com/ETCBC/parallels)\n",
    "\n",
    "```\n",
    "@edge\n",
    "@edgeValues\n",
    "@author=BHSA Data: Constantijn Sikkel; Parallels Notebook: Dirk Roorda, Martijn Naaijer\n",
    "@coreData=BHSA\n",
    "@coreVersion=2017\n",
    "@source=Parallels Module\n",
    "@valueType=int\n",
    "@writtenBy=Text-Fabric\n",
    "@dateWritten=2018-01-17T17:31:34Z\n",
    "\n",
    "1414202\t1414208\t84\n",
    "1414202\t1414212\t89\n",
    "1414204\t1414206\t77\n",
    "1414206\t1414204\t77\n",
    "1414208\t1414202,1414212\t84\n",
    "1414212\t1414208\t84\n",
    "1414212\t1414202\t89\n",
    "1414299\t1414308,1414471,1414473\t75\n",
    "1414299\t1414469\t76\n",
    "1414299\t1414325,1414479\t77\n",
    "1414299\t1414311\t78\n",
    "1414299\t1414302,1414467\t79\n",
    "1414299\t1414475,1414477\t80\n",
    "1414299\t1414314\t86\n",
    "```"
   ]
  },
  {
   "cell_type": "markdown",
   "metadata": {
    "slideshow": {
     "slide_type": "fragment"
    }
   },
   "source": [
    "The numbers become clearer when we start weaving.\n",
    "\n",
    "But for that we need the warp features first."
   ]
  },
  {
   "cell_type": "markdown",
   "metadata": {
    "slideshow": {
     "slide_type": "slide"
    }
   },
   "source": [
    "## Warp features\n",
    "\n",
    "* `otype`: each node has a type\n",
    "* `oslots`: each non-slot node is linked to a set of slot nodes\n",
    "* `otext`: specification of sections and text formats"
   ]
  },
  {
   "cell_type": "markdown",
   "metadata": {
    "slideshow": {
     "slide_type": "subslide"
    }
   },
   "source": [
    "Think of the IKEA warehouse: everything is nicely piled together\n",
    "\n",
    "<img src=\"images/warehouse.jpg\" width=\"60%\" align=\"right\"/>\n",
    "\n",
    "* a pallet with words\n",
    "* a corridor with linguistic objects\n",
    "* shelves with clauses and phrases\n",
    "* crates with books, chapters, and verses\n",
    "* every part is labeled with a node number\n",
    "\n",
    "<img src=\"images/barcode.png\" align=\"left\" width=\"100\"/>"
   ]
  },
  {
   "cell_type": "markdown",
   "metadata": {
    "slideshow": {
     "slide_type": "subslide"
    }
   },
   "source": [
    "## Weaving ...\n",
    "\n",
    "We use tools to weave the yarns into a fabric.\n",
    "\n",
    "Let's enter the workshop and use a loom.\n",
    "\n",
    "If we have a **warp**, we can weave the **wefts** into it.\n",
    "\n",
    "<img src=\"images/loom.png\" width=\"50%\" align=\"right\"/>\n",
    "\n",
    "AD 1425 [Hausbücher der Nürnberger Zwölfbrüderstiftungen](http://www.nuernberger-hausbuecher.de/75-Amb-2-317-4-v/data)"
   ]
  },
  {
   "cell_type": "markdown",
   "metadata": {
    "slideshow": {
     "slide_type": "slide"
    }
   },
   "source": [
    "A TF resource \n",
    "\n",
    "* has one fixed set of warp features: `otype oslots otext`\n",
    "* has arbitrary many weft features: `sp g_word_utf8`, ...\n",
    "* can be augmented with wefts from TF modules."
   ]
  },
  {
   "cell_type": "markdown",
   "metadata": {
    "slideshow": {
     "slide_type": "fragment"
    }
   },
   "source": [
    "A TF module\n",
    "* has only weft features\n",
    "\n",
    "When you use modules, they should have been built around the same warp as the main resource."
   ]
  },
  {
   "cell_type": "markdown",
   "metadata": {
    "slideshow": {
     "slide_type": "subslide"
    }
   },
   "source": [
    "### ... a weave: parallel verses\n",
    "\n",
    "<img src=\"images/weave.jpg\" width=\"100%\"/>"
   ]
  },
  {
   "cell_type": "code",
   "execution_count": 19,
   "metadata": {
    "slideshow": {
     "slide_type": "subslide"
    }
   },
   "outputs": [
    {
     "name": "stdout",
     "output_type": "stream",
     "text": [
      "1414202 = Mwanzo 1:13 =~(84%) Mwanzo 1:19 = 1414208\n",
      "1414202 = Mwanzo 1:13 =~(89%) Mwanzo 1:23 = 1414212\n",
      "1414204 = Mwanzo 1:15 =~(77%) Mwanzo 1:17 = 1414206\n",
      "1414206 = Mwanzo 1:17 =~(77%) Mwanzo 1:15 = 1414204\n",
      "1414208 = Mwanzo 1:19 =~(84%) Mwanzo 1:13 = 1414202\n",
      "1414208 = Mwanzo 1:19 =~(84%) Mwanzo 1:23 = 1414212\n",
      "1414212 = Mwanzo 1:23 =~(89%) Mwanzo 1:13 = 1414202\n",
      "1414212 = Mwanzo 1:23 =~(84%) Mwanzo 1:19 = 1414208\n",
      "1414299 = Mwanzo 5:4 =~(79%) Mwanzo 5:7 = 1414302\n",
      "1414299 = Mwanzo 5:4 =~(75%) Mwanzo 5:13 = 1414308\n",
      "1414299 = Mwanzo 5:4 =~(78%) Mwanzo 5:16 = 1414311\n"
     ]
    }
   ],
   "source": [
    "langs = ('am', 'sw', 'da', 'nl', 'en')\n",
    "myLang = langs[1] \n",
    "# start weaving !\n",
    "n = 0\n",
    "limit = 10\n",
    "for verse in F.otype.s('verse'):\n",
    "    if n > limit: break\n",
    "    crossVerses = E.crossref.f(verse)\n",
    "    if crossVerses:\n",
    "        for (cross, confidence) in crossVerses:\n",
    "            if n > limit: break\n",
    "            n += 1\n",
    "            passage = '{} {}:{}'.format(*T.sectionFromNode(verse, lang=myLang))\n",
    "            other   = '{} {}:{}'.format(*T.sectionFromNode(cross, lang=myLang))\n",
    "            print(f'{verse} = {passage} =~({confidence}%) {other} = {cross}')"
   ]
  },
  {
   "cell_type": "markdown",
   "metadata": {
    "slideshow": {
     "slide_type": "slide"
    }
   },
   "source": [
    "# More fabrics: trees\n",
    "\n",
    "In 2013/2014 we\n",
    "[extracted](https://github.com/ETCBC/lingo/blob/master/trees/trees.ipynb)\n",
    "tree structures from the BHSA data.\n",
    "\n",
    "Every sentence has a tree associated with it, like this:\n",
    "\n",
    "```\n",
    "(S(C(PP(pp 0)(n 1))(VP(vb 2))(NP(n 3))(PP(U(pp 4)(dt 5)(n 6))(cj 7)(U(pp 8)(dt 9)(n 10)))))\n",
    "```\n",
    "The numbers refer to the words in the sentence."
   ]
  },
  {
   "cell_type": "markdown",
   "metadata": {
    "slideshow": {
     "slide_type": "subslide"
    }
   },
   "source": [
    "## Trees as feature\n",
    "\n",
    "The trees are available in a feature `tree`, defined for sentences.\n",
    "\n",
    "```\n",
    "@node\n",
    "@converter=Dirk Roorda\n",
    "@convertor=trees.ipynb\n",
    "@coreData=BHSA\n",
    "@coreVersion=2017\n",
    "@description=penn treebank represententation for sentences\n",
    "@url=https://github.com/etcbc/lingo/trees/trees.ipynb\n",
    "@valueType=str\n",
    "@writtenBy=Text-Fabric\n",
    "@dateWritten=2018-01-21T18:53:06Z\n",
    "\n",
    "1172209\t(S(C(PP(pp 0)(n 1))(VP(vb 2))(NP(n 3))(PP(U(pp 4)(dt 5)(n 6))(cj 7)(U(pp 8)(dt 9)(n 10)))))\n",
    "(S(C(CP(cj 0))(NP(dt 1)(n 2))(VP(vb 3))(NP(U(n 4))(cj 5)(U(n 6)))))\n",
    "(S(C(CP(cj 0))(NP(n 1))(PP(pp 2)(U(n 3))(U(n 4)))))\n",
    "(S(C(CP(cj 0))(NP(U(n 1))(U(n 2)))(VP(vb 3))(PP(pp 4)(U(n 5))(U(dt 6)(n 7)))))\n",
    "```"
   ]
  },
  {
   "cell_type": "markdown",
   "metadata": {
    "slideshow": {
     "slide_type": "fragment"
    }
   },
   "source": [
    "Trees are nice. But this output does **not** look nice."
   ]
  },
  {
   "cell_type": "markdown",
   "metadata": {
    "slideshow": {
     "slide_type": "subslide"
    }
   },
   "source": [
    "## Display\n",
    "\n",
    "We want\n",
    "\n",
    "* multiline view\n",
    "* see the words\n",
    "* phonetically\n",
    "* with gloss\n",
    "* and with **Open Scriptures Morphology** tag!"
   ]
  },
  {
   "cell_type": "code",
   "execution_count": 53,
   "metadata": {
    "slideshow": {
     "slide_type": "fragment"
    }
   },
   "outputs": [
    {
     "name": "stdout",
     "output_type": "stream",
     "text": [
      "Job 3:16 - first word = 336986\n",
      "tree = (S(C(Ccoor(CP(cj 0))(PP(pp 1)(U(n 2))(U(vb 3)))(NegP(ng 4))(VP(vb 5)))(Ccoor(PP(pp 6)(n 7)(Cattr(NegP(ng 8))(VP(vb 9))(NP(n 10)))))))\n"
     ]
    }
   ],
   "source": [
    "passage = ('Job', 3, 16)\n",
    "passageStr = '{} {}:{}'.format(*passage)\n",
    "verse = T.nodeFromSection(passage)\n",
    "sentence = L.d(verse, otype='sentence')[0]\n",
    "firstSlot = L.d(sentence, otype='word')[0]\n",
    "stringTree = F.tree.v(sentence)\n",
    "print(f'{passageStr} - first word = {firstSlot}\\ntree = {stringTree}')"
   ]
  },
  {
   "cell_type": "markdown",
   "metadata": {
    "slideshow": {
     "slide_type": "subslide"
    }
   },
   "source": [
    "## Parsing\n",
    "\n",
    "Parse it into a structure:"
   ]
  },
  {
   "cell_type": "code",
   "execution_count": 54,
   "metadata": {
    "slideshow": {
     "slide_type": "fragment"
    }
   },
   "outputs": [
    {
     "data": {
      "text/plain": [
       "['S',\n",
       " ['C',\n",
       "  ['Ccoor',\n",
       "   ['CP', [('cj', 0)]],\n",
       "   ['PP', [('pp', 1)], ['U', [('n', 2)]], ['U', [('vb', 3)]]],\n",
       "   ['NegP', [('ng', 4)]],\n",
       "   ['VP', [('vb', 5)]]],\n",
       "  ['Ccoor',\n",
       "   ['PP',\n",
       "    [('pp', 6)],\n",
       "    [('n', 7)],\n",
       "    ['Cattr',\n",
       "     ['NegP', [('ng', 8)]],\n",
       "     ['VP', [('vb', 9)]],\n",
       "     ['NP', [('n', 10)]]]]]]]"
      ]
     },
     "execution_count": 54,
     "metadata": {},
     "output_type": "execute_result"
    }
   ],
   "source": [
    "tree = structure(stringTree)\n",
    "tree"
   ]
  },
  {
   "cell_type": "markdown",
   "metadata": {
    "slideshow": {
     "slide_type": "subslide"
    }
   },
   "source": [
    "We can display it a bit more friendly:"
   ]
  },
  {
   "cell_type": "code",
   "execution_count": 56,
   "metadata": {
    "slideshow": {
     "slide_type": "fragment"
    }
   },
   "outputs": [
    {
     "name": "stdout",
     "output_type": "stream",
     "text": [
      "  S\n",
      "    C\n",
      "      Ccoor\n",
      "        CP\n",
      "          cj 336986\n",
      "        PP\n",
      "          pp 336987\n",
      "          U\n",
      "            n 336988\n",
      "          U\n",
      "            vb 336989\n",
      "        NegP\n",
      "          ng 336990\n",
      "        VP\n",
      "          vb 336991\n",
      "      Ccoor\n",
      "        PP\n",
      "          pp 336992\n",
      "          n 336993\n",
      "          Cattr\n",
      "            NegP\n",
      "              ng 336994\n",
      "            VP\n",
      "              vb 336995\n",
      "            NP\n",
      "              n 336996\n"
     ]
    }
   ],
   "source": [
    "print(layout(tree, firstSlot, str))"
   ]
  },
  {
   "cell_type": "markdown",
   "metadata": {
    "slideshow": {
     "slide_type": "fragment"
    }
   },
   "source": [
    "Note that the `layout()` has replaced the relative word numbers in the sentence by absolute slot numbers in the dataset."
   ]
  },
  {
   "cell_type": "markdown",
   "metadata": {
    "slideshow": {
     "slide_type": "subslide"
    }
   },
   "source": [
    "## Weaving the wefts ...\n",
    "All wefts are there, we have to weave them around each warp."
   ]
  },
  {
   "cell_type": "code",
   "execution_count": 37,
   "metadata": {
    "slideshow": {
     "slide_type": "fragment"
    }
   },
   "outputs": [],
   "source": [
    "def osmPhonoGloss(n):\n",
    "    lexNode = L.u(n, otype='lex')[0]\n",
    "    return '{{{}}} \"{}\" [{}] = {}'.format(\n",
    "        F.osm.v(n),\n",
    "        F.g_word_utf8.v(n),\n",
    "        F.phono.v(n),\n",
    "        F.gloss.v(lexNode), # gloss is a feature on lexemes, not words\n",
    "        # F.voc_lex_utf8.v(lexNode),\n",
    "    )"
   ]
  },
  {
   "cell_type": "markdown",
   "metadata": {
    "slideshow": {
     "slide_type": "fragment"
    }
   },
   "source": [
    "## ... into a weave"
   ]
  },
  {
   "cell_type": "code",
   "execution_count": 38,
   "metadata": {
    "slideshow": {
     "slide_type": "fragment"
    }
   },
   "outputs": [
    {
     "ename": "NameError",
     "evalue": "name 'tree' is not defined",
     "output_type": "error",
     "traceback": [
      "\u001b[0;31m---------------------------------------------------------------------------\u001b[0m",
      "\u001b[0;31mNameError\u001b[0m                                 Traceback (most recent call last)",
      "\u001b[0;32m<ipython-input-38-125d481e3dc6>\u001b[0m in \u001b[0;36m<module>\u001b[0;34m()\u001b[0m\n\u001b[0;32m----> 1\u001b[0;31m \u001b[0mprint\u001b[0m\u001b[0;34m(\u001b[0m\u001b[0mlayout\u001b[0m\u001b[0;34m(\u001b[0m\u001b[0mtree\u001b[0m\u001b[0;34m,\u001b[0m \u001b[0mfirstSlot\u001b[0m\u001b[0;34m,\u001b[0m \u001b[0mosmPhonoGloss\u001b[0m\u001b[0;34m,\u001b[0m \u001b[0mwithLevel\u001b[0m\u001b[0;34m=\u001b[0m\u001b[0;32mTrue\u001b[0m\u001b[0;34m)\u001b[0m\u001b[0;34m)\u001b[0m\u001b[0;34m\u001b[0m\u001b[0m\n\u001b[0m",
      "\u001b[0;31mNameError\u001b[0m: name 'tree' is not defined"
     ]
    }
   ],
   "source": [
    "print(layout(tree, firstSlot, osmPhonoGloss, withLevel=True))"
   ]
  },
  {
   "cell_type": "code",
   "execution_count": 39,
   "metadata": {},
   "outputs": [],
   "source": [
    "def showTree(s):\n",
    "    t = F.tree.v(s)\n",
    "    tree = structure(t)\n",
    "    firstSlot = L.d(s, otype='word')[0]\n",
    "    label = '{} {}:{}'.format(*T.sectionFromNode(firstSlot))\n",
    "    print(label)\n",
    "    print(layout(tree, firstSlot, osmPhonoGloss, withLevel=True))\n",
    "    \n",
    "sentenceInfo = [c for c in C.levels.data if c[0] == 'sentence'][0]\n",
    "minSentence = sentenceInfo[2]\n",
    "maxSentence = sentenceInfo[3]"
   ]
  },
  {
   "cell_type": "code",
   "execution_count": 40,
   "metadata": {},
   "outputs": [
    {
     "data": {
      "application/vnd.jupyter.widget-view+json": {
       "model_id": "099b81265ed74a04bb8bfed84c41af0d",
       "version_major": 2,
       "version_minor": 0
      },
      "text/html": [
       "<p>Failed to display Jupyter Widget of type <code>interactive</code>.</p>\n",
       "<p>\n",
       "  If you're reading this message in the Jupyter Notebook or JupyterLab Notebook, it may mean\n",
       "  that the widgets JavaScript is still loading. If this message persists, it\n",
       "  likely means that the widgets JavaScript library is either not installed or\n",
       "  not enabled. See the <a href=\"https://ipywidgets.readthedocs.io/en/stable/user_install.html\">Jupyter\n",
       "  Widgets Documentation</a> for setup instructions.\n",
       "</p>\n",
       "<p>\n",
       "  If you're reading this message in another frontend (for example, a static\n",
       "  rendering on GitHub or <a href=\"https://nbviewer.jupyter.org/\">NBViewer</a>),\n",
       "  it may mean that your frontend doesn't currently support widgets.\n",
       "</p>\n"
      ],
      "text/plain": [
       "interactive(children=(IntSlider(value=1172209, description='s', max=1235919, min=1172209), Output()), _dom_classes=('widget-interact',))"
      ]
     },
     "metadata": {},
     "output_type": "display_data"
    },
    {
     "data": {
      "text/plain": [
       "<function __main__.showTree>"
      ]
     },
     "execution_count": 40,
     "metadata": {},
     "output_type": "execute_result"
    }
   ],
   "source": [
    "interact(\n",
    "    showTree,\n",
    "    s=widgets.IntSlider(\n",
    "        min=minSentence,\n",
    "        max=maxSentence,\n",
    "        step=1,\n",
    "        value=minSentence,\n",
    "    )\n",
    ")"
   ]
  },
  {
   "cell_type": "markdown",
   "metadata": {},
   "source": [
    "# No leaking of concerns\n",
    "\n",
    "* The TREES module knows nothing of OS morphology\n",
    "* OS morphology is not aware of TREES\n",
    "* *thank goodness*\n",
    "* But they are woven cosily together in one display"
   ]
  },
  {
   "cell_type": "markdown",
   "metadata": {
    "slideshow": {
     "slide_type": "subslide"
    }
   },
   "source": [
    "## Carried away by tree structures\n",
    "\n",
    "The raw strings are handy for structure analysis, in a way the woven trees cannot be.\n",
    "\n",
    "Let us see how many distinct tree structures we've got.\n",
    "\n",
    "**liberate yourselve from micro-management**"
   ]
  },
  {
   "cell_type": "code",
   "execution_count": 57,
   "metadata": {
    "slideshow": {
     "slide_type": "fragment"
    }
   },
   "outputs": [
    {
     "name": "stdout",
     "output_type": "stream",
     "text": [
      "28096 distinct trees of 63711 in total\n"
     ]
    }
   ],
   "source": [
    "treeDistribution = F.tree.freqList()\n",
    "\n",
    "distinct = len(treeDistribution)\n",
    "total = sum(x[1] for x in treeDistribution)\n",
    "\n",
    "print(f'{distinct} distinct trees of {total} in total')"
   ]
  },
  {
   "cell_type": "code",
   "execution_count": 58,
   "metadata": {
    "slideshow": {
     "slide_type": "fragment"
    }
   },
   "outputs": [
    {
     "name": "stdout",
     "output_type": "stream",
     "text": [
      "3772 x (S(C(CP(cj 0))(VP(vb 1))))\n",
      "1238 x (S(C(VP(vb 0))))\n",
      "1173 x (S(C(CP(cj 0))(VP(vb 1))(PP(pp 2))))\n",
      " 857 x (S(C(CP(cj 0))(VP(vb 1))(PP(pp 2)(n 3))))\n",
      " 749 x (S(C(CP(cj 0))(VP(vb 1))(NP(n 2))))\n",
      " 577 x (S(C(CP(cj 0))(VP(vb 1))(PrNP(n-pr 2))))\n",
      " 568 x (S(C(CP(cj 0))(VP(vb 1))(PP(pp 2)(dt 3)(n 4))))\n",
      " 554 x (S(C(VP(vb 0))(NP(n 1))))\n",
      " 441 x (S(C(CP(cj 0))(NegP(ng 1))(VP(vb 2))))\n",
      " 406 x (S(C(CP(cj 0))(VP(vb 1))(PP(pp 2)(n-pr 3))))\n"
     ]
    }
   ],
   "source": [
    "for (tree, amount) in treeDistribution[0:10]:\n",
    "    print(f'{amount:>4} x {tree}')"
   ]
  },
  {
   "cell_type": "markdown",
   "metadata": {
    "slideshow": {
     "slide_type": "fragment"
    }
   },
   "source": [
    "I'm intrigued by the most frequent tree structure.\n",
    "\n",
    "Which verbs occur in such a sentence? Let's find out."
   ]
  },
  {
   "cell_type": "code",
   "execution_count": 59,
   "metadata": {
    "slideshow": {
     "slide_type": "subslide"
    }
   },
   "outputs": [
    {
     "name": "stdout",
     "output_type": "stream",
     "text": [
      "501 lexemes found\n"
     ]
    }
   ],
   "source": [
    "lexemes = collections.Counter()\n",
    "short = treeDistribution[0][0]\n",
    "for s in F.otype.s('sentence'):\n",
    "    if F.tree.v(s) == short:\n",
    "        verb = L.d(s, otype='word')[1]\n",
    "        lexeme = L.u(verb, otype='lex')[0]\n",
    "        lexemes[lexeme] += 1\n",
    "print(f'{len(lexemes)} lexemes found')"
   ]
  },
  {
   "cell_type": "code",
   "execution_count": 60,
   "metadata": {
    "slideshow": {
     "slide_type": "fragment"
    }
   },
   "outputs": [
    {
     "name": "stdout",
     "output_type": "stream",
     "text": [
      "1045 x 1437422 \"אמר\" = say\n",
      " 203 x 1437412 \"היה\" = be\n",
      " 107 x 1437561 \"הלך\" = walk\n",
      " 106 x 1437570 \"מות\" = die\n",
      "  87 x 1437424 \"ראה\" = see\n",
      "  80 x 1437574 \"בוא\" = come\n",
      "  71 x 1437645 \"שׁוב\" = return\n",
      "  70 x 1437569 \"אכל\" = eat\n",
      "  52 x 1437685 \"קום\" = arise\n",
      "  45 x 1437654 \"חיה\" = be alive\n"
     ]
    }
   ],
   "source": [
    "for (lex, amount) in sorted(\n",
    "    lexemes.items(),\n",
    "    key=lambda x: (-x[1], x[0]),\n",
    ")[0:10]:\n",
    "    print(f'{amount:>4} x {lex} \"{F.voc_lex_utf8.v(lex)}\" = {F.gloss.v(lex)}')"
   ]
  },
  {
   "cell_type": "markdown",
   "metadata": {
    "slideshow": {
     "slide_type": "subslide"
    }
   },
   "source": [
    "## Application\n",
    "\n",
    "You do not need to \"own\" the text in order to work with trees"
   ]
  },
  {
   "cell_type": "markdown",
   "metadata": {
    "slideshow": {
     "slide_type": "fragment"
    }
   },
   "source": [
    "If you do not own the text (BHS), but have the trees:"
   ]
  },
  {
   "cell_type": "markdown",
   "metadata": {
    "slideshow": {
     "slide_type": "fragment"
    }
   },
   "source": [
    "* Publish them with word numbers"
   ]
  },
  {
   "cell_type": "markdown",
   "metadata": {
    "slideshow": {
     "slide_type": "fragment"
    }
   },
   "source": [
    "* Align them to a text you own (WLC)"
   ]
  },
  {
   "cell_type": "markdown",
   "metadata": {
    "slideshow": {
     "slide_type": "fragment"
    }
   },
   "source": [
    "* Make a list of alignment exceptions"
   ]
  },
  {
   "cell_type": "markdown",
   "metadata": {
    "slideshow": {
     "slide_type": "slide"
    }
   },
   "source": [
    "<img src=\"images/openscriptures.png\" align=\"right\"/>\n",
    "\n",
    "# Example B - Open Scriptures Morphology"
   ]
  },
  {
   "cell_type": "markdown",
   "metadata": {
    "slideshow": {
     "slide_type": "fragment"
    }
   },
   "source": [
    "* align the WLC with the BHS\n",
    "* compare the OSM with the BHSA"
   ]
  },
  {
   "cell_type": "markdown",
   "metadata": {
    "slideshow": {
     "slide_type": "subslide"
    }
   },
   "source": [
    "## Aligning\n",
    "\n",
    "See [BHSAbridgeOSM.ipynb](https://github.com/ETCBC/bridging/blob/master/programs/BHSAbridgeOSM.ipynb)\n",
    "\n",
    "* performs a consonant by consonant alignment between the WLC and BHS\n",
    "* stumbled on a few cases requiring a hint:"
   ]
  },
  {
   "cell_type": "markdown",
   "metadata": {
    "slideshow": {
     "slide_type": "fragment"
    }
   },
   "source": [
    "```python\n",
    "exceptions = {\n",
    "    215253: 1,\n",
    "    266189: 1,\n",
    "    287360: 2,\n",
    "    376865: 1,\n",
    "    383405: 2,\n",
    "    384049: 1,\n",
    "    384050: 1,\n",
    "    405102: -2,\n",
    "}\n",
    "```"
   ]
  },
  {
   "cell_type": "markdown",
   "metadata": {
    "slideshow": {
     "slide_type": "fragment"
    }
   },
   "source": [
    "```\n",
    "Succeeded in aligning BHS with OSM\n",
    "420103 BHS words matched against 469448 OSM morphemes with 8 known exceptions\n",
    "```"
   ]
  },
  {
   "cell_type": "markdown",
   "metadata": {
    "slideshow": {
     "slide_type": "subslide"
    }
   },
   "source": [
    "### Spotting the anomalies\n",
    "\n",
    "With a bit of weaving, these exceptions are:"
   ]
  },
  {
   "cell_type": "markdown",
   "metadata": {
    "slideshow": {
     "slide_type": "fragment"
    }
   },
   "source": [
    "```\n",
    "Isaiah 9:6\n",
    "                    BHS 215253         = מרבה\n",
    "                    OSM w1             = םרבה\n",
    "Ezekiel 4:6\n",
    "                    BHS 266189         = ימוני\n",
    "                    OSM w7             = ימיני\n",
    "```\n",
    "\n",
    "```\n",
    "Ezekiel 43:11\n",
    "                    BHS 287360         = צורתו\n",
    "                    OSM w17, w17       = צורת/י\n",
    "Daniel 10:19\n",
    "                    BHS 376865         = כְ\n",
    "                    OSM w10            = בְ\n",
    "Ezra 10:44\n",
    "                    BHS 383405         = נשׂאו\n",
    "                    OSM w3, w3         = נשא/י\n",
    "\n",
    "```\n",
    "\n",
    "```\n",
    "Nehemiah 2:13\n",
    "                    BHS 384049         = הם\n",
    "                    OSM w17            = ה\n",
    "Nehemiah 2:13\n",
    "                    BHS 384050         = פרוצים\n",
    "                    OSM w17            = מפרוצים\n",
    "```\n",
    "\n",
    "```\n",
    "1_Chronicles 27:12\n",
    "                    BHS 405102, 405103 = בן/ימיני\n",
    "                    OSM w6             = בנימיני\n",
    "```"
   ]
  },
  {
   "cell_type": "markdown",
   "metadata": {
    "slideshow": {
     "slide_type": "subslide"
    }
   },
   "source": [
    "### Word breaking\n",
    "\n",
    "There are cases where the OSM and the BHSA differ in the breaking-up of words."
   ]
  },
  {
   "cell_type": "markdown",
   "metadata": {
    "slideshow": {
     "slide_type": "fragment"
    }
   },
   "source": [
    "```\n",
    "OSM morphemes without BHSA word:          0\n",
    "OSM morphemes with multiple BHSA words: 130\n",
    "OSM morphemes with 2        BHSA words: 123\n",
    "OSM morphemes with 3        BHSA words:   7\n",
    "```"
   ]
  },
  {
   "cell_type": "markdown",
   "metadata": {
    "slideshow": {
     "slide_type": "subslide"
    }
   },
   "source": [
    "### Unfinished\n",
    "\n",
    "The OSM is not yet finished.\n",
    "\n",
    "We made a list of word nodes for which no morpheme has been tagged"
   ]
  },
  {
   "cell_type": "markdown",
   "metadata": {
    "slideshow": {
     "slide_type": "fragment"
    }
   },
   "source": [
    "53841 =~ 10% unfinished."
   ]
  },
  {
   "cell_type": "markdown",
   "metadata": {
    "slideshow": {
     "slide_type": "fragment"
    }
   },
   "source": [
    "```\n",
    "Non-marked-up stretches having length x: y times\n",
    "   1: 14990\n",
    "   2:  8336\n",
    "   3:  2802\n",
    "   4:  1090\n",
    "   5:   493\n",
    "   6:   285\n",
    "   7:   162\n",
    "   8:    90\n",
    "   9:    70\n",
    "  10:    37\n",
    "  11:    33\n",
    "  12:    19\n",
    "  13:    11\n",
    "  14:    17\n",
    "  15:     9\n",
    "  16:     7\n",
    "  17:     2\n",
    "  18:     2\n",
    "  19:     6\n",
    "  20:     1\n",
    "  21:     1\n",
    "  22:     3\n",
    "  23:     2\n",
    "  25:     2\n",
    "  26:     2\n",
    "  27:     1\n",
    "  28:     1\n",
    "  29:     1\n",
    "  32:     1\n",
    "  33:     1\n",
    "  35:     1\n",
    "  36:     1\n",
    "  38:     2\n",
    "  41:     1\n",
    "  47:     1\n",
    "  60:     1\n",
    "  61:     1\n",
    "  72:     1\n",
    "  74:     1\n",
    "  75:     1\n",
    "```"
   ]
  },
  {
   "cell_type": "markdown",
   "metadata": {
    "slideshow": {
     "slide_type": "fragment"
    }
   },
   "source": [
    "What remains is: filling in the dots!"
   ]
  },
  {
   "cell_type": "markdown",
   "metadata": {
    "slideshow": {
     "slide_type": "subslide"
    }
   },
   "source": [
    "We will carry out the comparison for unproblematic words:\n",
    "\n",
    "* good alignment       (  8 BHSA words excluded)\n",
    "* same word breaks     (276 BHSA words excluded)\n",
    "* morph tags available"
   ]
  },
  {
   "cell_type": "markdown",
   "metadata": {
    "slideshow": {
     "slide_type": "slide"
    }
   },
   "source": [
    "### Result: OSM module\n",
    "\n",
    "Two new TF features:\n",
    "* `osm.tf`    (main words)\n",
    "* `osm_sf.tf` (suffixes)\n",
    "\n",
    "Together: the **OSM module**"
   ]
  },
  {
   "cell_type": "markdown",
   "metadata": {
    "slideshow": {
     "slide_type": "fragment"
    }
   },
   "source": [
    "```\n",
    "@node\n",
    "@conversion=notebook openscriptures in BHSA repo\n",
    "@conversion_author=Dirk Roorda\n",
    "@coreData=BHSA\n",
    "@coreVersion=2017\n",
    "@description=primary morphology string according to OpenScriptures\n",
    "@source=Open Scriptures\n",
    "@source_url=https://github.com/openscriptures/morphhb\n",
    "@valueType=str\n",
    "@writtenBy=Text-Fabric\n",
    "@dateWritten=2018-01-12T13:21:01Z\n",
    "\n",
    "HR\n",
    "HNcfsa\n",
    "HVqp3ms\n",
    "HNcmpa\n",
    "HTo\n",
    "HTd\n",
    "HNcmpa\n",
    "HC\n",
    "HTo\n",
    "HTd\n",
    "HNcbsa\n",
    "```"
   ]
  },
  {
   "cell_type": "markdown",
   "metadata": {
    "slideshow": {
     "slide_type": "slide"
    }
   },
   "source": [
    "# Comparing\n",
    "\n",
    "We compare *categories*."
   ]
  },
  {
   "cell_type": "markdown",
   "metadata": {
    "slideshow": {
     "slide_type": "fragment"
    }
   },
   "source": [
    "In [OSM](http://openscriptures.github.io/morphhb/parsing/HebrewMorphologyCodes.html):\n",
    "* part-of-speech\n",
    "* and their subtypes"
   ]
  },
  {
   "cell_type": "markdown",
   "metadata": {
    "slideshow": {
     "slide_type": "fragment"
    }
   },
   "source": [
    "In BHSA the features:\n",
    "* [sp](https://etcbc.github.io/bhsa/features/hebrew/2017/sp.html) = part of speech\n",
    "* [ls](https://etcbc.github.io/bhsa/features/hebrew/2017/ls.html) = lexical set\n",
    "* [nametype](https://etcbc.github.io/bhsa/features/hebrew/2017/nametype.html)"
   ]
  },
  {
   "cell_type": "markdown",
   "metadata": {
    "slideshow": {
     "slide_type": "subslide"
    }
   },
   "source": [
    "<img src=\"images/openscriptures.png\" align=\"right\"/>\n",
    "\n",
    "## OSM categories\n",
    "\n",
    "```python\n",
    "pspOSM = {\n",
    "    '': dict(\n",
    "        A='adjective',\n",
    "        C='conjunction',\n",
    "        D='adverb',\n",
    "        N='noun',\n",
    "        P='pronoun',\n",
    "        R='preposition',\n",
    "        S='suffix',\n",
    "        T='particle',\n",
    "        V='verb',\n",
    "    ),\n",
    "    'A': dict(\n",
    "        a='adjective',\n",
    "        c='cardinal number',\n",
    "        g='gentilic',\n",
    "        o='ordinal number',\n",
    "    ),\n",
    "    'N': dict(\n",
    "        c='common',\n",
    "        g='gentilic',\n",
    "        p='proper name',\n",
    "    ),\n",
    "    'P': dict(\n",
    "        d='demonstrative',\n",
    "        f='indefinite',\n",
    "        i='interrogative',\n",
    "        p='personal',\n",
    "        r='relative',\n",
    "    ),\n",
    "    'R': dict(\n",
    "        d='definite article',\n",
    "    ),\n",
    "    'S': dict(\n",
    "        d='directional he',\n",
    "        h='paragogic he',\n",
    "        n='paragogic nun',\n",
    "        p='pronominal',\n",
    "    ),\n",
    "    'T': dict(\n",
    "        a='affirmation',\n",
    "        d='definite article',\n",
    "        e='exhortation',\n",
    "        i='interrogative',\n",
    "        j='interjection',\n",
    "        m='demonstrative',\n",
    "        n='negative',\n",
    "        o='direct object marker',\n",
    "        r='relative',\n",
    "    ),\n",
    "}\n",
    "```"
   ]
  },
  {
   "cell_type": "markdown",
   "metadata": {
    "slideshow": {
     "slide_type": "subslide"
    }
   },
   "source": [
    "<img src=\"images/etcbc-round.png\" align=\"right\"/>\n",
    "\n",
    "## BHSA categories\n",
    "\n",
    "```python\n",
    "spBHS = dict(\n",
    "    art='article',\n",
    "    verb='verb',\n",
    "    subs='noun',\n",
    "    nmpr='proper noun',\n",
    "    advb='adverb',\n",
    "    prep='preposition',\n",
    "    conj='conjunction',\n",
    "    prps='personal pronoun',\n",
    "    prde='demonstrative pronoun',\n",
    "    prin='interrogative pronoun',\n",
    "    intj='interjection',\n",
    "    nega='negative particle',\n",
    "    inrg='interrogative particle',\n",
    "    adjv='adjective',\n",
    ")\n",
    "lsBHS = dict(\n",
    "    nmdi='distributive noun',\n",
    "    nmcp='copulative noun',\n",
    "    padv='potential adverb',\n",
    "    afad='anaphoric adverb',\n",
    "    ppre='potential preposition',\n",
    "    cjad='conjunctive adverb',\n",
    "    ordn='ordinal',\n",
    "    vbcp='copulative verb',\n",
    "    mult='noun of multitude',\n",
    "    focp='focus particle',\n",
    "    ques='interrogative particle',\n",
    "    gntl='gentilic',\n",
    "    quot='quotation verb',\n",
    "    card='cardinal',\n",
    "    none=MISSING,\n",
    ")\n",
    "nametypeBHS = dict(\n",
    "    pers='person',\n",
    "    mens='measurement unit',\n",
    "    gens='people',\n",
    "    topo='place',\n",
    "    ppde='demonstrative personal pronoun',\n",
    ")\n",
    "nametypeBHS.update({\n",
    "    'pers,gens,topo': 'person',\n",
    "    'pers,gens': 'person',\n",
    "    'gens,topo': 'gentilic',\n",
    "    'pers,god': 'person',\n",
    "})\n",
    "```"
   ]
  },
  {
   "cell_type": "markdown",
   "metadata": {
    "slideshow": {
     "slide_type": "subslide"
    }
   },
   "source": [
    "## Better dumb than smart\n",
    "\n",
    "We just counted the pairs of OSM, BHSA categories that co-occurred on words.\n",
    "\n",
    "A selection of the outcomes.\n",
    "\n",
    "This is OSM versus BHSA"
   ]
  },
  {
   "cell_type": "markdown",
   "metadata": {
    "slideshow": {
     "slide_type": "fragment"
    }
   },
   "source": [
    "### Verbs\n",
    "\n",
    "```\n",
    "verb                                    \n",
    "\tverb::                         ( 84% =  50691x)\n",
    "\tverb:quotation verb:           ( 10% =   6137x)\n",
    "\tverb:copulative verb:          (  5% =   3246x)\n",
    "\tnoun::                         (  0% =      6x)\n",
    "\tadjective::                    (  0% =      3x)\n",
    "\tpreposition::                  (  0% =      1x)\n",
    "\tproper noun::                  (  0% =      1x)\n",
    "```"
   ]
  },
  {
   "cell_type": "markdown",
   "metadata": {
    "slideshow": {
     "slide_type": "fragment"
    }
   },
   "source": [
    "**Excellent** Just 11 discrepancies in 60,000 cases!"
   ]
  },
  {
   "cell_type": "markdown",
   "metadata": {
    "slideshow": {
     "slide_type": "subslide"
    }
   },
   "source": [
    "### Prepositions\n",
    "\n",
    "```\n",
    "preposition                             \n",
    "\tpreposition::                  ( 96% =  50697x)\n",
    "\tnoun:potential preposition:    (  3% =   1643x)\n",
    "\tadverb:conjunctive adverb:     (  0% =    194x)\n",
    "\tinterrogative particle::       (  0% =    169x)\n",
    "\tnoun:cardinal:                 (  0% =     13x)\n",
    "\tconjunction::                  (  0% =      5x)\n",
    "\tnoun::                         (  0% =      2x)\n",
    "\tproper noun::                  (  0% =      2x)\n",
    "\tarticle::                      (  0% =      1x)\n",
    "\tverb::                         (  0% =      1x)\n",
    "```"
   ]
  },
  {
   "cell_type": "code",
   "execution_count": 61,
   "metadata": {
    "slideshow": {
     "slide_type": "fragment"
    }
   },
   "outputs": [
    {
     "name": "stdout",
     "output_type": "stream",
     "text": [
      "Discrepancies: 0.76% = 387x out of 51084\n"
     ]
    }
   ],
   "source": [
    "disc = 194 + 169 + 13 + 5 + 2 + 2 + 1 + 1\n",
    "tot = 50697 + disc\n",
    "discPerc = round(100 * disc / tot, 2)\n",
    "print(f'Discrepancies: {discPerc}% = {disc}x out of {tot}')"
   ]
  },
  {
   "cell_type": "markdown",
   "metadata": {
    "slideshow": {
     "slide_type": "subslide"
    }
   },
   "source": [
    "## Attention needed!\n",
    "\n",
    "* all *rare* cases have been collected into a big list\n",
    "* context info has been woven into the list\n",
    "* there are 645 such cases\n",
    "* see [allCategoriesCases.tsv](https://github.com/ETCBC/bridging/blob/master/programs/allCategoriesCases.tsv) on GitHub"
   ]
  },
  {
   "cell_type": "markdown",
   "metadata": {
    "slideshow": {
     "slide_type": "fragment"
    }
   },
   "source": [
    "![1](images/cases1.png)"
   ]
  },
  {
   "cell_type": "markdown",
   "metadata": {
    "slideshow": {
     "slide_type": "fragment"
    }
   },
   "source": [
    "![2](images/cases2.png)"
   ]
  },
  {
   "cell_type": "markdown",
   "metadata": {
    "slideshow": {
     "slide_type": "subslide"
    }
   },
   "source": [
    "# Follow up?"
   ]
  },
  {
   "cell_type": "markdown",
   "metadata": {
    "slideshow": {
     "slide_type": "fragment"
    }
   },
   "source": [
    "* inspect the rare cases:\n",
    "  * these might be glitches, in BHSA or in OSM or in both\n",
    "  * these might be disputable cases: add them to the docs"
   ]
  },
  {
   "cell_type": "markdown",
   "metadata": {
    "slideshow": {
     "slide_type": "fragment"
    }
   },
   "source": [
    "* inspect the majority cases: which categories map to which?\n",
    "  * maybe some categories can be harmonized\n",
    "  * if that is not desirable: we can generate an exhaustive mapping"
   ]
  },
  {
   "cell_type": "markdown",
   "metadata": {
    "slideshow": {
     "slide_type": "fragment"
    }
   },
   "source": [
    "* in the end: we can make a BHSA-OSM category mapping that is\n",
    "  * comprehensive\n",
    "  * machine-readable\n",
    "  * documented"
   ]
  },
  {
   "cell_type": "markdown",
   "metadata": {
    "slideshow": {
     "slide_type": "slide"
    }
   },
   "source": [
    "# Conclusions"
   ]
  },
  {
   "cell_type": "markdown",
   "metadata": {
    "slideshow": {
     "slide_type": "fragment"
    }
   },
   "source": [
    "## BHSA versus OSM\n",
    "<img src=\"images/etcbc-round-small.png\" align=\"left\" width=\"48\"/> is awesome\n",
    "\n",
    "<img src=\"images/openscriptures.png\" align=\"left\" width=\"72\"/> is terrific"
   ]
  },
  {
   "cell_type": "markdown",
   "metadata": {
    "slideshow": {
     "slide_type": "fragment"
    }
   },
   "source": [
    "<img src=\"images/etcbc-plus-os.png\" align=\"left\"/> \n",
    "$\\gt($ awesome $+$ terrific $)$"
   ]
  },
  {
   "cell_type": "markdown",
   "metadata": {
    "slideshow": {
     "slide_type": "subslide"
    }
   },
   "source": [
    "# Data, Logic, and Logistics: Text-Fabric\n",
    "<img src=\"images/tf-small.png\" align=\"right\"/>\n",
    "\n",
    "[Text-Fabric](https://github.com/Dans-labs/text-fabric) is a\n",
    "* [model](https://github.com/Dans-labs/text-fabric/wiki/Data-Model)\n",
    "* [file format](https://github.com/Dans-labs/text-fabric/wiki/File-formats)\n",
    "* [tool](https://github.com/Dans-labs/text-fabric/wiki/Api)\n",
    "\n",
    "to support the logistics of the interchange of textual treasures\n",
    "\n",
    "So that you ... \n",
    "\n",
    "* ... researcher and tinkerer\n",
    "* ... programming theologian\n",
    "\n",
    "* can grab parts from GitHub\n",
    "* bring them to your shed\n",
    "* and join them together on your workbench"
   ]
  },
  {
   "cell_type": "markdown",
   "metadata": {
    "slideshow": {
     "slide_type": "subslide"
    }
   },
   "source": [
    "<img src=\"images/ikea.png\" width=\"80%\"/>\n",
    "\n",
    "**Designed especially for you** - Thank you\n",
    "\n",
    "dirk.roorda@dans.knaw.nl"
   ]
  },
  {
   "cell_type": "code",
   "execution_count": null,
   "metadata": {},
   "outputs": [],
   "source": []
  }
 ],
 "metadata": {
  "celltoolbar": "Slideshow",
  "kernelspec": {
   "display_name": "Python 3",
   "language": "python",
   "name": "python3"
  },
  "language_info": {
   "codemirror_mode": {
    "name": "ipython",
    "version": 3
   },
   "file_extension": ".py",
   "mimetype": "text/x-python",
   "name": "python",
   "nbconvert_exporter": "python",
   "pygments_lexer": "ipython3",
   "version": "3.6.4"
  },
  "livereveal": {
   "scroll": true,
   "start_slideshow_at": "selected"
  },
  "toc": {
   "nav_menu": {},
   "number_sections": true,
   "sideBar": true,
   "skip_h1_title": false,
   "toc_cell": false,
   "toc_position": {},
   "toc_section_display": "block",
   "toc_window_display": false
  }
 },
 "nbformat": 4,
 "nbformat_minor": 2
}
