{
 "cells": [
  {
   "cell_type": "markdown",
   "metadata": {},
   "source": [
    "<img align=\"right\" src=\"images/dans-small.png\"/>\n",
    "<img align=\"right\" src=\"images/tf-small.png\"/>\n",
    "<img align=\"right\" src=\"images/etcbc.png\"/>"
   ]
  },
  {
   "cell_type": "markdown",
   "metadata": {},
   "source": [
    "# Trees - for BHSA data (Hebrew)"
   ]
  },
  {
   "cell_type": "markdown",
   "metadata": {},
   "source": [
    "This notebook composes syntax trees out of the BHSA data.\n",
    "\n",
    "After that it performs a dozen sanity checks on the trees."
   ]
  },
  {
   "cell_type": "markdown",
   "metadata": {},
   "source": [
    "## BHSA data and syntax trees"
   ]
  },
  {
   "cell_type": "markdown",
   "metadata": {},
   "source": [
    "The process of tree construction is not straightforward, since the BHSA data have not been coded as syntax trees.\n",
    "Rather they take the shape of a collection of features that describe observable characteristics of the words, phrases, clauses and\n",
    "sentences. Moreover, if a phrase, clause or sentence is discontinuous, it is divided in *phrase_atoms*, *clause_atoms*,\n",
    "or *sentence_atoms*, respectively, which are by definition continuous.\n",
    "\n",
    "There are no explicit hierarchical relationships between these objects. But there is an implicit hierarchy: *embedding*.\n",
    "Every object carries with it the set of word occurrences it contains.\n",
    "\n",
    "The module ``etcbc.trees`` constructs a hierarchy of words, subphrases, phrases, clauses and sentences based on the embedding\n",
    "relationship. \n",
    "\n",
    "But this is not all. The BHSA data contains a *mother* relationship, which in some cases denotes a parent relationship between \n",
    "objects. The module ``etcbc.trees`` reconstructs the tree obtained from the embedding by \n",
    "using the mother relationship as a set of instructions to move certain nodes below others.\n",
    "In some cases extra nodes will be constructed as well."
   ]
  },
  {
   "cell_type": "markdown",
   "metadata": {},
   "source": [
    "## The embedding relationship"
   ]
  },
  {
   "cell_type": "markdown",
   "metadata": {},
   "source": [
    "### Objects:\n",
    "The BHSA data is coded in such a way that every node is associated with a *type* and a *slot set*. \n",
    "\n",
    "The *type* of a node, $T(O)$, determines which features a node has. \n",
    "ETCBC types are ``sentence``, ``sentence_atom``,\n",
    "``clause``, ``clause_atom``, ``phrase``, ``phrase_atom``, ``subphrase``, ``word``.\n",
    "\n",
    "There is an implicit *ordering of node types*, given by the sequence above, where ``word`` comes first and \n",
    "``sentence`` comes last. We denote this ordering by $<$.\n",
    "\n",
    "The *slot set* of a node, $m(O)$, is the set of word occurrences linked to that node.\n",
    "Every word occurrence in the source occupies a unique slot, which is a number, so slot sets are sets of numbers.\n",
    "\n",
    "Note that when a sentence contains a clause which contains a phrase, \n",
    "the sentence, clause, and phrase are linked to slot sets that contain each other.\n",
    "The fact that a sentence \"contains\" a clause is not marked directly,\n",
    "it is a consequence of how the slot sets they are linked to are embedded.\n",
    "\n",
    "### Definition (slot set order):\n",
    "There is a \n",
    "[natural order](https://github.com/Dans-labs/text-fabric/wiki/Api#sorting-nodes)\n",
    "on slot sets, which we will use.\n",
    "\n",
    "We will not base our trees on *all* object types, \n",
    "since in the BHSA data they do not constitute a single hierarchy.\n",
    "We will restrict ourselves to the set $\\cal O = \\{$ ``sentence``, ``clause``, ``phrase``, ``word`` $\\}$.\n",
    "\n",
    "### Definition (directly below):\n",
    "Node type $T_1$ \n",
    "is *directly below* \n",
    "$T_2$ ( $T_1 <_1 T_2 $ ) in $\\cal O$ \n",
    "if $T_1 < T_2$ \n",
    "and there is no $T$ in $\\cal O$ with\n",
    "$T_1 < T < T_2$.\n",
    "\n",
    "Now we can introduce the notion of (tree) parent with respect to a set of node types $\\cal O$\n",
    "(e.g. ):\n",
    "\n",
    "### Definition (parent)\n",
    "Node $A$ is a parent of node $B$ if the following are true:\n",
    "1. $m(A) \\subseteq\\ m(B)$ \n",
    "2. $T(A) <_1 T(B)$ in $\\cal O$."
   ]
  },
  {
   "cell_type": "markdown",
   "metadata": {},
   "source": [
    "## The mother relationship"
   ]
  },
  {
   "cell_type": "markdown",
   "metadata": {},
   "source": [
    "While using the embedding got us trees, using the mother relationship will give us more interesting trees.\n",
    "In general, the *mother* in the ETCBC points to a node on which the node in question is, in some sense, dependent.\n",
    "The nature of this dependency is coded in a specific feature on clauses, the ``clause_constituent_relation``.\n",
    "For a list of values this feature can take and the associated meanings, see the notebook\n",
    "[clause_phrase_types](http://nbviewer.ipython.org/github/ETCBC/laf-fabric-nbs/blob/master/valence/clause_phrase_types.ipynb) in this directory.\n",
    "\n",
    "Here is a description of what we do with the mother relationship.\n",
    "\n",
    "If a *clause* has a mother, there are three cases for the *clause_constituent_relation* of this clause:\n",
    "\n",
    "1. its value is in $\\{$ ``Adju``, ``Objc``, ``Subj``, ``PrAd``, ``PreC``, ``Cmpl``, ``Attr``, ``RgRc``, ``Spec`` $\\}$\n",
    "2. its value is ``Coor``\n",
    "3. its value is in $\\{$ ``Resu``, ``ReVo``, ``none`` $\\}$\n",
    "\n",
    "In case 3 we do nothing.\n",
    "\n",
    "In case 1 we remove the link of the clause to its parent and add the clause as a child to either the node\n",
    "that the mother points to, or to the parent of the mother. \n",
    "We do the latter only if the mother is a word. We will not add children to words.\n",
    "\n",
    "In the diagrams, the red arrows represent the mother relationship, \n",
    "and the black arrows the embedding relationships, and the fat black arrows the new parent relationships. \n",
    "The gray arrows indicated severed parent links.\n",
    "\n",
    "<img src=\"images/TreesCase1.pdf\"/>\n",
    "\n",
    "In case 2 we create a node between the mother and its parent.\n",
    "This node takes the name of the mother, and the mother will be added as child, \n",
    "but with name ``Ccoor``, and the clause which points to the mother is added as a sister.\n",
    "\n",
    "This is a rather complicated case, but the intuition is not that difficult. \n",
    "Consider the sentence:\n",
    "\n",
    "    John thinks that Mary said it and did it\n",
    "   \n",
    "We have a compound object sentence, with ``Mary said it`` and ``did it`` as coordinated components.\n",
    "The way this has been marked up in the BHSA database is as follows:\n",
    "\n",
    "``Mary said it``, clause with ``clause_constituent_relation``=``Objc``, ``mother``=``John thinks``(clause)\n",
    "\n",
    "``and did it``, clause with ``clause_constituent_relation``=``Coor``, ``mother``=``Mary said it``(clause)\n",
    "\n",
    "So the second coordinated clause is simply linked to the first coordinated clause. \n",
    "Restructuring means to create a parent for both coordinated clauses \n",
    "and treat both as sisters at the same hierarchical level. \n",
    "See the diagram.\n",
    "\n",
    "<img src=\"images/TreesCase2.pdf\"/>\n",
    "\n",
    "### Note on order\n",
    "When we add nodes to new parents, we let them occupy the sequential position \n",
    "among its new sisters that corresponds with the slot set ordering.\n",
    "\n",
    "### Note on discontinuity\n",
    "Sentences, clauses and phrases are not always continuous. \n",
    "Before restructuring it will not always be the case that if you\n",
    "walk the tree in pre-order, you will end up with the leaves (the words) \n",
    "in the same order as the original sentence.\n",
    "Restructuring generally improves that, because it often puts \n",
    "a node under a non-continuous parent object precisely at the location \n",
    "that corresponds with the a gap in the parent.\n",
    "\n",
    "However, there is no guarantee that every discontinuity will be resolved in this graceful manner.\n",
    "When we create the trees, we also output the list of slot numbers \n",
    "that you get when you walk the tree in pre-order.\n",
    "Whenever this list is not monotonic, there is an issue with the ordering.\n",
    "\n",
    "### Note on incest\n",
    "If a mother points to itself or a descendant of itself, we have a grave form of incest. \n",
    "In these cases, the restructuring algorithm will disconnect a parent link \n",
    "without introducing a new link to the tree above it: \n",
    "a whole fragment of the tree becomes disconnected and will get lost.\n",
    "\n",
    "Sanity check 6 below reveals that this occurs in fact 4 times in the BHSA version 4 \n",
    "(it occurred 13 times in the BHSA 3 version). \n",
    "We will exclude these trees from further processing.\n",
    "\n",
    "### Note on adultery\n",
    "If a mother points outside the sentence of the clause \n",
    "on which it is specified we have a form of adultery.\n",
    "This should not happen. Mothers may point outside their sentences, \n",
    "but not in the cases that trigger restructuring.\n",
    "Yet, the sanity checks below reveal that this occurs twice. \n",
    "We will exclude these cases from further processing."
   ]
  },
  {
   "cell_type": "code",
   "execution_count": 1,
   "metadata": {},
   "outputs": [],
   "source": [
    "%load_ext autoreload\n",
    "%autoreload 2\n",
    "\n",
    "import sys\n",
    "import collections\n",
    "import random\n",
    "\n",
    "from tf.fabric import Fabric\n",
    "\n",
    "from tree import Tree"
   ]
  },
  {
   "cell_type": "markdown",
   "metadata": {},
   "source": [
    "# Load data\n",
    "We load the some features of the\n",
    "[BHSA](https://github.com/etcbc/bhsa) data.\n",
    "See the [feature documentation](https://etcbc.github.io/bhsa/features/hebrew/2017/0_home.html) for more info."
   ]
  },
  {
   "cell_type": "code",
   "execution_count": 2,
   "metadata": {},
   "outputs": [],
   "source": [
    "VERSION = '2017'\n",
    "BHSA = 'BHSA/tf/{}'.format(VERSION)\n",
    "OUTPUTDIR = 'output'\n",
    "\n",
    "sp = 'part_of_speech' if VERSION == '3' else 'sp'\n",
    "rela = 'clause_constituent_relation' if VERSION == '3' else 'rela'\n",
    "typ = 'clause_atom_type' if VERSION == '3' else 'typ'\n",
    "g_word_utf8 = 'text' if VERSION == '3' else 'g_word_utf8'"
   ]
  },
  {
   "cell_type": "code",
   "execution_count": 3,
   "metadata": {},
   "outputs": [
    {
     "name": "stdout",
     "output_type": "stream",
     "text": [
      "This is Text-Fabric 3.1.1\n",
      "Api reference : https://github.com/Dans-labs/text-fabric/wiki/Api\n",
      "Tutorial      : https://github.com/Dans-labs/text-fabric/blob/master/docs/tutorial.ipynb\n",
      "Example data  : https://github.com/Dans-labs/text-fabric-data\n",
      "\n",
      "115 features found and 0 ignored\n",
      "  0.00s loading features ...\n",
      "   |     0.21s B g_word_utf8          from /Users/dirk/github/etcbc/BHSA/tf/2017\n",
      "   |     0.14s B sp                   from /Users/dirk/github/etcbc/BHSA/tf/2017\n",
      "   |     0.24s B rela                 from /Users/dirk/github/etcbc/BHSA/tf/2017\n",
      "   |     0.23s B typ                  from /Users/dirk/github/etcbc/BHSA/tf/2017\n",
      "   |     0.22s B mother               from /Users/dirk/github/etcbc/BHSA/tf/2017\n",
      "   |     0.00s Feature overview: 109 for nodes; 5 for edges; 1 configs; 7 computed\n",
      "  6.22s All features loaded/computed - for details use loadLog()\n"
     ]
    }
   ],
   "source": [
    "TF = Fabric(locations='~/github/etcbc', modules=BHSA)\n",
    "api = TF.load(f'''\n",
    "    {sp} {rela} {typ}\n",
    "    {g_word_utf8}\n",
    "    mother\n",
    "''')\n",
    "api.makeAvailableIn(globals())"
   ]
  },
  {
   "cell_type": "markdown",
   "metadata": {},
   "source": [
    "We are going to make convenient labels for constituents, words and clauses, based on the \n",
    "the types of textual objects and the features\n",
    "`sp` and `rela`."
   ]
  },
  {
   "cell_type": "markdown",
   "metadata": {},
   "source": [
    "## Textual objects"
   ]
  },
  {
   "cell_type": "code",
   "execution_count": 4,
   "metadata": {},
   "outputs": [],
   "source": [
    "typeInfo = (\n",
    "    (\"word\", ''),\n",
    "    (\"subphrase\", 'U'),\n",
    "    (\"phrase\", 'P'),\n",
    "    (\"clause\", 'C'),\n",
    "    (\"sentence\", 'S'),\n",
    ")\n",
    "typeTable = dict(t for t in typeInfo)\n",
    "typeOrder = [t[0] for t in typeInfo]"
   ]
  },
  {
   "cell_type": "markdown",
   "metadata": {},
   "source": [
    "## Part of speech"
   ]
  },
  {
   "cell_type": "code",
   "execution_count": 5,
   "metadata": {},
   "outputs": [
    {
     "data": {
      "text/plain": [
       "[('adjv', 10075),\n",
       " ('advb', 4603),\n",
       " ('art', 30387),\n",
       " ('conj', 62737),\n",
       " ('inrg', 1303),\n",
       " ('intj', 1912),\n",
       " ('nega', 6059),\n",
       " ('nmpr', 35696),\n",
       " ('prde', 2678),\n",
       " ('prep', 73298),\n",
       " ('prin', 1026),\n",
       " ('prps', 5035),\n",
       " ('subs', 125558),\n",
       " ('verb', 75450)]"
      ]
     },
     "execution_count": 5,
     "metadata": {},
     "output_type": "execute_result"
    }
   ],
   "source": [
    "sorted(Fs(sp).freqList(), key=lambda x: x[0])"
   ]
  },
  {
   "cell_type": "code",
   "execution_count": 6,
   "metadata": {},
   "outputs": [],
   "source": [
    "posTable = {\n",
    " 'adjv': 'aj',\n",
    " 'adjective': 'aj',\n",
    " 'advb': 'av',\n",
    " 'adverb': 'av',\n",
    " 'art': 'dt',\n",
    " 'article': 'dt',\n",
    " 'conj': 'cj',\n",
    " 'conjunction': 'cj',\n",
    " 'inrg': 'ir',\n",
    " 'interrogative': 'ir',\n",
    " 'intj': 'ij',\n",
    " 'interjection': 'ij',\n",
    " 'nega': 'ng',\n",
    " 'negative': 'ng',\n",
    " 'nmpr': 'n-pr',\n",
    " 'pronoun': 'pr',\n",
    " 'prde': 'pr-dem',\n",
    " 'prep': 'pp',\n",
    " 'preposition': 'pp',\n",
    " 'prin': 'pr-int',\n",
    " 'prps': 'pr-ps',\n",
    " 'subs': 'n',\n",
    " 'noun': 'n',\n",
    " 'verb': 'vb',\n",
    "}"
   ]
  },
  {
   "cell_type": "markdown",
   "metadata": {},
   "source": [
    "## Rela"
   ]
  },
  {
   "cell_type": "code",
   "execution_count": 7,
   "metadata": {},
   "outputs": [
    {
     "data": {
      "text/plain": [
       "[('Adju', 6414),\n",
       " ('Appo', 5887),\n",
       " ('Attr', 6352),\n",
       " ('Cmpl', 299),\n",
       " ('Coor', 3639),\n",
       " ('Link', 1311),\n",
       " ('NA', 630012),\n",
       " ('Objc', 1324),\n",
       " ('Para', 1553),\n",
       " ('PrAd', 257),\n",
       " ('PreC', 169),\n",
       " ('ReVo', 312),\n",
       " ('Resu', 1618),\n",
       " ('RgRc', 394),\n",
       " ('Sfxs', 74),\n",
       " ('Spec', 5579),\n",
       " ('Subj', 505),\n",
       " ('adj', 4180),\n",
       " ('atr', 3113),\n",
       " ('dem', 1847),\n",
       " ('mod', 937),\n",
       " ('par', 11932),\n",
       " ('rec', 34883)]"
      ]
     },
     "execution_count": 7,
     "metadata": {},
     "output_type": "execute_result"
    }
   ],
   "source": [
    "sorted(Fs(rela).freqList(), key=lambda x: x[0])"
   ]
  },
  {
   "cell_type": "code",
   "execution_count": 8,
   "metadata": {},
   "outputs": [],
   "source": [
    "ccrInfo = {\n",
    "    'Adju': ('r', 'Cadju'),\n",
    "    'Appo': ('r', 'Cappo'),\n",
    "    'Attr': ('r', 'Cattr'),\n",
    "    'Cmpl': ('r', 'Ccmpl'),\n",
    "    'Coor': ('x', 'Ccoor'),\n",
    "    'CoVo': ('n', 'Ccovo'),\n",
    "    'Link': ('r', 'Clink'),\n",
    "    'Objc': ('r', 'Cobjc'),\n",
    "    'Para': ('r', 'Cpara'),\n",
    "    'PrAd': ('r', 'Cprad'),\n",
    "    'PreC': ('r', 'Cprec'),\n",
    "    'Pred': ('r', 'Cpred'),\n",
    "    'ReVo': ('n', 'Crevo'),\n",
    "    'Resu': ('n', 'Cresu'),\n",
    "    'RgRc': ('r', 'Crgrc'),\n",
    "    'Sfxs': ('r', 'Csfxs'),\n",
    "    'Spec': ('r', 'Cspec'),\n",
    "    'Subj': ('r', 'Csubj'),\n",
    "    'NA':   ('n', 'C'),\n",
    "    'none': ('n', 'C'),\n",
    "}"
   ]
  },
  {
   "cell_type": "code",
   "execution_count": 9,
   "metadata": {},
   "outputs": [],
   "source": [
    "treeTypes = ('sentence', 'clause', 'phrase', 'subphrase', 'word')\n",
    "(rootType, leafType, clauseType) = (treeTypes[0], treeTypes[-1], 'clause')\n",
    "ccrTable = dict((c[0],c[1][1]) for c in ccrInfo.items())\n",
    "ccrClass = dict((c[0],c[1][0]) for c in ccrInfo.items())"
   ]
  },
  {
   "cell_type": "markdown",
   "metadata": {},
   "source": [
    "Now we can actually construct the tree by initializing a tree object.\n",
    "After that we call its ``restructure_clauses()`` method.\n",
    "\n",
    "Then we have two tree structures for each sentence: \n",
    "\n",
    "* the *etree*, i.e. the tree obtained by working out the embedding relationships and nothing else\n",
    "* the *rtree*, i.e. the tree obtained by restructuring the *etree*\n",
    "\n",
    "We have several tree relationships at our disposal:\n",
    "\n",
    "* *eparent* and its inverse *echildren*\n",
    "* *rparent* and its inverse *rchildren*\n",
    "* *eldest_sister* going from a mother clause of kind ``Coor`` (case 2) to its daughter clauses\n",
    "* *sisters* being the inverse of *eldest_sister*\n",
    "\n",
    "where *eldest_sister* and *sisters* only occur in the *rtree*.\n",
    "\n",
    "This will take a while (25 seconds approx on a MacBook Air 2012)."
   ]
  },
  {
   "cell_type": "code",
   "execution_count": 10,
   "metadata": {},
   "outputs": [
    {
     "name": "stdout",
     "output_type": "stream",
     "text": [
      "  0.00s loading features ...\n",
      "  0.01s All additional features loaded - for details use loadLog()\n",
      "  0.01s Start computing parent and children relations for objects of type sentence, clause, phrase, subphrase, word\n",
      "  0.59s 100000 nodes\n",
      "  1.21s 200000 nodes\n",
      "  1.72s 300000 nodes\n",
      "  2.38s 400000 nodes\n",
      "  2.91s 500000 nodes\n",
      "  3.57s 600000 nodes\n",
      "  4.12s 700000 nodes\n",
      "  4.70s 800000 nodes\n",
      "  5.21s 900000 nodes\n",
      "  5.57s 945367 nodes: 881656 have parents and 518783 have children\n"
     ]
    }
   ],
   "source": [
    "tree = Tree(TF, otypes=treeTypes, \n",
    "    clauseType=clauseType,\n",
    "    ccrFeature=rela,\n",
    "    ptFeature=typ,\n",
    "    posFeature=sp,\n",
    "    motherFeature='mother',\n",
    ")"
   ]
  },
  {
   "cell_type": "code",
   "execution_count": 11,
   "metadata": {},
   "outputs": [
    {
     "name": "stdout",
     "output_type": "stream",
     "text": [
      "  6.69s Restructuring clauses: deep copying tree relations\n",
      "    11s Pass 0: Storing mother relationship\n",
      "    11s 20790 clauses have a mother\n",
      "    11s All clauses have mothers of types in {'word', 'phrase', 'clause', 'subphrase', 'sentence'}\n",
      "    11s Pass 1: all clauses except those of type Coor\n",
      "    11s Pass 2: clauses of type Coor only\n",
      "    11s Mothers applied. Found 0 motherless clauses.\n",
      "    11s 3214 nodes have 1 sisters\n",
      "    11s 199 nodes have 2 sisters\n",
      "    11s 9 nodes have 3 sisters\n",
      "    11s There are 3639 sisters, 3422 nodes have sisters.\n",
      "    11s Ready for processing\n"
     ]
    }
   ],
   "source": [
    "tree.restructureClauses(ccrClass)\n",
    "results = tree.relations()\n",
    "parent = results['rparent']\n",
    "sisters = results['sisters']\n",
    "children = results['rchildren']\n",
    "elderSister = results['elderSister']\n",
    "info(\"Ready for processing\")"
   ]
  },
  {
   "cell_type": "markdown",
   "metadata": {},
   "source": [
    "# Checking for sanity"
   ]
  },
  {
   "cell_type": "markdown",
   "metadata": {},
   "source": [
    "Let us see whether the trees we have constructed satisfy some sanity constraints.\n",
    "After all, the algorithm is based on certain assumptions about the data, but are those assumptions valid?\n",
    "And restructuring is a tricky operation, do we have confidence that nothing went wrong?\n",
    "\n",
    "1. How many sentence nodes? From earlier queries we know what to expect.\n",
    "1. Does any sentence have a parent? If so, there is something wrong with our assumptions or algorithm.\n",
    "1. Is every top node a sentence? If not, we have material outside a sentence, which contradicts the assumptions.\n",
    "1. Do you reach all sentences if you go up from words? If not, some sentences do not contain words.\n",
    "1. Do you reach all words if you go down from sentences? If not, some words have become disconnected from their sentences.\n",
    "1. Do you reach the same words in reconstructed trees as in embedded trees? If not, some sentence material has got lost during the restructuring process.\n",
    "1. From what object types to what object types does the parent relationship link? Here we check that parents do not link object types that are too distant in the object type ranking.\n",
    "1. How many nodes have mothers and how many mothers can a node have? We expect at most one.\n",
    "1. From what object types to what object types does the mother relationship link?\n",
    "1. Is the mother of a clause always in the same sentence? If not, foreign sentences will be drawn in, leading to (very) big chunks. This may occur when we use mother relationships in cases where ``clause_constituent_relation`` has different values than the ones that should trigger restructuring.\n",
    "1. Has the max/average tree depth increased after restructuring? By how much? This is meant as an indication by how much our tree structures improve in significant hierarchy when we take the mother relationship into account."
   ]
  },
  {
   "cell_type": "markdown",
   "metadata": {},
   "source": [
    "If there are blocking errors we collect the nodes of those sentences in the set `skip`,\n",
    "so that later on we can skip them easily."
   ]
  },
  {
   "cell_type": "code",
   "execution_count": 12,
   "metadata": {},
   "outputs": [],
   "source": [
    "skip = set()"
   ]
  },
  {
   "cell_type": "code",
   "execution_count": 13,
   "metadata": {},
   "outputs": [
    {
     "name": "stdout",
     "output_type": "stream",
     "text": [
      "    15s Counting sentences ... (expecting 63711)\n",
      "    15s There are 63711 sentences\n"
     ]
    }
   ],
   "source": [
    "#1\n",
    "expectedSentences = {\n",
    "    '3': 71354,\n",
    "    '4': 66045,\n",
    "    '4b': 63586,\n",
    "    '2016': 63570,\n",
    "    '2017': 63711,\n",
    "}\n",
    "info(\"Counting {}s ... (expecting {})\".format(rootType, expectedSentences.get(VERSION, '??')))\n",
    "info(\"There are {} {}s\".format(len(list(F.otype.s(rootType))), rootType))"
   ]
  },
  {
   "cell_type": "code",
   "execution_count": 14,
   "metadata": {},
   "outputs": [
    {
     "name": "stdout",
     "output_type": "stream",
     "text": [
      "    20s Checking parents of sentences ... (expecting none)\n",
      "    20s No sentence has a parent\n"
     ]
    }
   ],
   "source": [
    "#2\n",
    "info(\"Checking parents of {}s ... (expecting none)\".format(rootType))\n",
    "exceptions = set()\n",
    "for node in F.otype.s(rootType):\n",
    "    if node in parent: exceptions.add(node)\n",
    "if len(exceptions) == 0:\n",
    "    info(\"No {} has a parent\".format(rootType))\n",
    "else:\n",
    "    error(\"{} {}s have a parent:\".format(len(exceptions), rootType))\n",
    "    for n in sorted(exceptions):\n",
    "        p = parent[n]\n",
    "        msg(\"{} {} [{}] has {} parent {} [{}]\".format(\n",
    "            rootType, n, tree.slotss(n), \n",
    "            F.otype.v(p), p, tree.slotss(p)\n",
    "        ))"
   ]
  },
  {
   "cell_type": "code",
   "execution_count": 15,
   "metadata": {},
   "outputs": [
    {
     "name": "stdout",
     "output_type": "stream",
     "text": [
      "    31s Checking the types of root nodes ... (should all be sentences)\n",
      "    31s Expected roots which are non-sentences: 0\n",
      "    32s 63711 sentences seen\n",
      "    32s All top nodes are sentences\n"
     ]
    }
   ],
   "source": [
    "#3 (again a check on #1)\n",
    "info('Checking the types of root nodes ... (should all be {}s)'.format(rootType))\n",
    "expectedTops = {\n",
    "    '3': 0,\n",
    "    '4': '3 subphrases',\n",
    "    '4b': 0,\n",
    "    '2016': 0,\n",
    "    '2017':0,\n",
    "}\n",
    "info('Expected roots which are non-{}s: {}'.format(rootType, expectedTops.get(VERSION, '??')))\n",
    "exceptions = collections.defaultdict(lambda: [])\n",
    "sn = 0\n",
    "for node in N():\n",
    "    otype = F.otype.v(node)\n",
    "    if otype not in typeTable: continue\n",
    "    if otype == rootType: sn += 1\n",
    "    if node not in parent and node not in elderSister and otype != rootType: \n",
    "        exceptions[otype].append(node)\n",
    "info(\"{} {}s seen\".format(sn, rootType))\n",
    "\n",
    "if len(exceptions) == 0:\n",
    "    info(\"All top nodes are {}s\".format(rootType))\n",
    "else:\n",
    "    error(\"Top nodes which are not {}s:\".format(rootType))\n",
    "    for t in sorted(exceptions):\n",
    "        error(\"{}: {}x\".format(t, len(exceptions[t])), tm=False)\n",
    "\n",
    "for c in exceptions[clauseType]:\n",
    "    (s, st) = tree.getRoot(c, 'e')\n",
    "    v = rootVerse[s]\n",
    "    error(\"{}={}, {}={}={}, verse={}\".format(clauseType, c, rootType, st, s, v), tm=False)"
   ]
  },
  {
   "cell_type": "code",
   "execution_count": 16,
   "metadata": {},
   "outputs": [
    {
     "name": "stdout",
     "output_type": "stream",
     "text": [
      "    35s Embedding trees\n",
      "    35s Starting from word nodes ...\n",
      "From 426584 word nodes reached 63711 sentence nodes\n",
      "    36s Starting from sentence nodes ...\n",
      "From 63711 sentence nodes reached 426584 word nodes\n",
      "    37s Restructd trees\n",
      "    37s Starting from word nodes ...\n",
      "From 426584 word nodes reached 63711 sentence nodes\n",
      "    37s Starting from sentence nodes ...\n",
      "From 63711 sentence nodes reached 425419 word nodes\n",
      "    38s Done\n"
     ]
    }
   ],
   "source": [
    "#4, 5\n",
    "def getTop(kind, rel, rela, multi):\n",
    "    seen = set()\n",
    "    topNodes = set()\n",
    "    startNodes = set(F.otype.s(kind))\n",
    "    nextNodes = startNodes\n",
    "    info('Starting from {} nodes ...'.format(kind))\n",
    "    while len(nextNodes):\n",
    "        newNextNodes = set()\n",
    "        for node in nextNodes:\n",
    "            if node in seen: continue\n",
    "            seen.add(node)\n",
    "            isTop = True\n",
    "            if node in rel: \n",
    "                isTop = False\n",
    "                if multi:\n",
    "                    for c in rel[node]: newNextNodes.add(c)\n",
    "                else:\n",
    "                    newNextNodes.add(rel[node])\n",
    "            if node in rela: \n",
    "                isTop = False\n",
    "                if multi:\n",
    "                    for c in rela[node]: newNextNodes.add(c)\n",
    "                else:\n",
    "                    newNextNodes.add(rela[node])\n",
    "            if isTop: topNodes.add(node)\n",
    "        nextNodes = newNextNodes\n",
    "    topTypes = collections.defaultdict(lambda: 0)\n",
    "    for t in topNodes:\n",
    "        topTypes[F.otype.v(t)] += 1\n",
    "    for t in topTypes:\n",
    "        info('From {} {} nodes reached {} {} nodes'.format(len(startNodes), kind, topTypes[t], t), tm=False)\n",
    "\n",
    "info('Embedding trees')\n",
    "getTop(leafType, tree.eparent, {}, False)\n",
    "getTop(rootType, tree.echildren, {}, True)\n",
    "info('Restructd trees')\n",
    "getTop(leafType, tree.rparent, tree.elderSister, False)\n",
    "getTop(rootType, tree.rchildren, tree.sisters, True)\n",
    "info('Done')"
   ]
  },
  {
   "cell_type": "code",
   "execution_count": 17,
   "metadata": {},
   "outputs": [
    {
     "name": "stdout",
     "output_type": "stream",
     "text": [
      "    40s Verifying whether all slots are preserved under restructuring\n",
      "    40s Expected mismatches: 0\n",
      "    43s 0 mismatches\n"
     ]
    }
   ],
   "source": [
    "#6\n",
    "info('Verifying whether all slots are preserved under restructuring')\n",
    "expectedMismatches = {\n",
    "    '3': 13,\n",
    "    '4': 3,\n",
    "    '4b': 0,\n",
    "    '2016': 0,\n",
    "    '2017': 0,\n",
    "}\n",
    "info('Expected mismatches: {}'.format(expectedMismatches.get(VERSION, '??')))\n",
    "\n",
    "errors = []\n",
    "#i = 10\n",
    "for snode in F.otype.s(rootType):\n",
    "    declaredSlots = set(E.oslots.s(snode))\n",
    "    results = {}\n",
    "    thisgood = {}\n",
    "    for kind in ('e', 'r'):\n",
    "        results[kind] = set(l for l in tree.getLeaves(snode, kind) if F.otype.v(l) == leafType)\n",
    "        thisgood[kind] = declaredSlots == results[kind]\n",
    "        #if not thisgood[kind]:\n",
    "        #    print('{} D={}\\n  L={}'.format(kind, declaredSlots, results[kind]))\n",
    "        #    i -= 1\n",
    "    #if i == 0: break\n",
    "    if False in thisgood.values(): errors.append((snode, thisgood['e'], thisgood['r']))\n",
    "nErrors = len(errors)\n",
    "if nErrors:\n",
    "    error('{} mismatches:'.format(len(errors)))\n",
    "    mine = min(20, len(errors))\n",
    "    skip |= {e[0] for e in errors}\n",
    "    for (s, e, r) in errors[0:mine]:\n",
    "        error('{} embedding: {}; restructd: {}'.format(s, 'OK' if e else 'XX', 'OK' if r else 'XX'), tm=False)\n",
    "else:\n",
    "    info('{} mismatches'.format(len(errors)))"
   ]
  },
  {
   "cell_type": "code",
   "execution_count": 18,
   "metadata": {},
   "outputs": [
    {
     "name": "stdout",
     "output_type": "stream",
     "text": [
      "    44s Which types embed which types and how often? ...\n",
      "    46s Found 881656 parent (embedding) links between types\n",
      "('clause', 'sentence'): 88101x\n",
      "('phrase', 'clause'): 253187x\n",
      "('subphrase', 'phrase'): 84467x\n",
      "('subphrase', 'subphrase'): 29317x\n",
      "('word', 'phrase'): 304110x\n",
      "('word', 'subphrase'): 122474x\n",
      "    48s Found 878017 parent (restructd) links between types\n",
      "('clause', 'clause'): 8730x\n",
      "('clause', 'phrase'): 6056x\n",
      "('clause', 'sentence'): 68921x\n",
      "('clause', 'subphrase'): 755x\n",
      "('phrase', 'clause'): 253187x\n",
      "('subphrase', 'phrase'): 84467x\n",
      "('subphrase', 'subphrase'): 29317x\n",
      "('word', 'phrase'): 304110x\n",
      "('word', 'subphrase'): 122474x\n"
     ]
    }
   ],
   "source": [
    "#7\n",
    "info('Which types embed which types and how often? ...')\n",
    "for kind in ('e', 'r'):\n",
    "    pLinkedTypes = collections.defaultdict(lambda: 0)\n",
    "    parent = tree.eparent if kind == 'e' else tree.rparent\n",
    "    kindRep = 'embedding' if kind == 'e' else 'restructd'\n",
    "    for (c, p) in parent.items():\n",
    "        pLinkedTypes[(F.otype.v(c), F.otype.v(p))] += 1\n",
    "    info(\"Found {} parent ({}) links between types\".format(len(parent), kindRep))\n",
    "    for lt in sorted(pLinkedTypes):\n",
    "        info('{}: {}x'.format(lt, pLinkedTypes[lt]), tm=False)"
   ]
  },
  {
   "cell_type": "code",
   "execution_count": 19,
   "metadata": {},
   "outputs": [
    {
     "name": "stdout",
     "output_type": "stream",
     "text": [
      "    49s How many mothers can nodes have? ...\n",
      "    51s There are 20790 tree nodes with a mother\n",
      "20790 nodes have 1 mother\n"
     ]
    }
   ],
   "source": [
    "#8\n",
    "info('How many mothers can nodes have? ...')\n",
    "motherLen = {}\n",
    "for c in N():\n",
    "    lms = list(E.mother.f(c))\n",
    "    nms = len(lms)\n",
    "    if nms: motherLen[c] = nms\n",
    "count = collections.defaultdict(lambda: 0)\n",
    "for c in tree.mother: count[motherLen[c]] += 1\n",
    "info('There are {} tree nodes with a mother'.format(len(tree.mother)))\n",
    "for cnt in sorted(count):\n",
    "    info('{} nodes have {} mother{}'.format(count[cnt], cnt, 's' if cnt != 1 else ''), tm=False)      "
   ]
  },
  {
   "cell_type": "code",
   "execution_count": 20,
   "metadata": {},
   "outputs": [
    {
     "name": "stdout",
     "output_type": "stream",
     "text": [
      "    53s Which types have mother links to which types and how often? ...\n",
      "    53s Found 878017 mother links between types\n",
      "('clause', 'Adju', 'clause'): 6414x\n",
      "('clause', 'Attr', 'clause'): 12x\n",
      "('clause', 'Attr', 'phrase'): 5570x\n",
      "('clause', 'Attr', 'word'): 770x\n",
      "('clause', 'Cmpl', 'clause'): 299x\n",
      "('clause', 'Coor', 'clause'): 3567x\n",
      "('clause', 'Coor', 'phrase'): 71x\n",
      "('clause', 'Coor', 'word'): 1x\n",
      "('clause', 'Objc', 'clause'): 1324x\n",
      "('clause', 'PrAd', 'clause'): 2x\n",
      "('clause', 'PrAd', 'phrase'): 10x\n",
      "('clause', 'PreC', 'clause'): 169x\n",
      "('clause', 'ReVo', 'clause'): 312x\n",
      "('clause', 'Resu', 'clause'): 1298x\n",
      "('clause', 'RgRc', 'word'): 394x\n",
      "('clause', 'Spec', 'clause'): 5x\n",
      "('clause', 'Spec', 'phrase'): 65x\n",
      "('clause', 'Spec', 'word'): 2x\n",
      "('clause', 'Subj', 'clause'): 505x\n"
     ]
    }
   ],
   "source": [
    "#9\n",
    "info('Which types have mother links to which types and how often? ...')\n",
    "mLinkedTypes = collections.defaultdict(lambda: set())\n",
    "for (c, m) in tree.mother.items():\n",
    "    ctype = F.otype.v(c)\n",
    "    mLinkedTypes[(ctype, Fs(rela).v(c), F.otype.v(m))].add(c)\n",
    "info('Found {} mother links between types'.format(len(parent)))\n",
    "for lt in sorted(mLinkedTypes):\n",
    "    info('{}: {}x'.format(lt, len(mLinkedTypes[lt])), tm=False)"
   ]
  },
  {
   "cell_type": "code",
   "execution_count": 21,
   "metadata": {},
   "outputs": [
    {
     "name": "stdout",
     "output_type": "stream",
     "text": [
      "    56s Counting clauses with mothers in another sentence\n",
      "    56s Expecting 0 clauses with mothers in another sentence\n",
      "    56s 0 nodes have a mother in another sentence\n"
     ]
    }
   ],
   "source": [
    "#10\n",
    "info('Counting {}s with mothers in another {}'.format(clauseType, rootType))\n",
    "expectedOther = {\n",
    "    '3': 2,\n",
    "    '4': 0,\n",
    "    '4b': 0,\n",
    "    '2016': 0,\n",
    "    '2017': 0,\n",
    "}\n",
    "info('Expecting {} {}s with mothers in another {}'.format(expectedOther.get(VERSION, '??'), clauseType, rootType))\n",
    "exceptions = set()\n",
    "for node in tree.mother:\n",
    "    if F.otype.v(node) not in typeTable: continue\n",
    "    mNode = tree.mother[node]\n",
    "    sNode = tree.getRoot(node, 'e')\n",
    "    smNode = tree.getRoot(mNode, 'e')\n",
    "    if sNode != smNode:\n",
    "        exceptions.add((node, sNode, smNode))\n",
    "info('{} nodes have a mother in another {}'.format(len(exceptions), rootType))\n",
    "for (n, sn, smn) in exceptions:\n",
    "    error('[{} {}]({}) occurs in {} but has mother in {}'.format(\n",
    "        F.otype.v(n), tree.slotss(n), n, sn, smn), tm=False,\n",
    "    )"
   ]
  },
  {
   "cell_type": "code",
   "execution_count": 22,
   "metadata": {},
   "outputs": [
    {
     "name": "stdout",
     "output_type": "stream",
     "text": [
      " 1m 00s Computing lengths and depths\n",
      " 1m 02s 63711 trees seen, of which in 10904 cases restructuring makes a difference in depth\n",
      " 1m 02s Embedding trees: max depth =  9, average depth = 3.6\n",
      " 1m 02s Restructd trees: max depth = 24, average depth = 3.9\n",
      " 1m 02s Statistics for cases where restructuring makes a difference:\n",
      " 1m 02s Embedding trees: max depth =  8, average depth = 3.7\n",
      " 1m 02s Restructd trees: max depth = 24, average depth = 5.4\n",
      " 1m 02s Total number of leaves in the trees: 426584, average number of leaves = 6.7\n"
     ]
    }
   ],
   "source": [
    "#11\n",
    "info('Computing lengths and depths')\n",
    "nTrees = 0\n",
    "rnTrees = 0\n",
    "totalDepth = {'e': 0, 'r': 0}\n",
    "rTotalDepth = {'e': 0, 'r': 0}\n",
    "maxDepth = {'e': 0, 'r':0}\n",
    "rMaxDepth = {'e': 0, 'r': 0}\n",
    "totalLength = 0\n",
    "\n",
    "for node in F.otype.s(rootType):\n",
    "    nTrees += 1\n",
    "    totalLength += tree.length(node)\n",
    "    thisDepth = {}\n",
    "    for kind in ('e', 'r'):\n",
    "        thisDepth[kind] = tree.depth(node, kind)\n",
    "    different = thisDepth['e'] != thisDepth['r']\n",
    "    if different: rnTrees += 1\n",
    "    for kind in ('e', 'r'):\n",
    "        if thisDepth[kind] > maxDepth[kind]: maxDepth[kind] = thisDepth[kind]\n",
    "        totalDepth[kind] += thisDepth[kind]\n",
    "        if different:\n",
    "            if thisDepth[kind] > rMaxDepth[kind]: rMaxDepth[kind] = thisDepth[kind]\n",
    "            rTotalDepth[kind] += thisDepth[kind]\n",
    "                \n",
    "info('{} trees seen, of which in {} cases restructuring makes a difference in depth'.format(\n",
    "    nTrees, rnTrees,\n",
    "))\n",
    "if nTrees > 0:\n",
    "    info('Embedding trees: max depth = {:>2}, average depth = {:.2g}'.format(\n",
    "        maxDepth['e'], totalDepth['e'] / nTrees,\n",
    "    ))\n",
    "    info('Restructd trees: max depth = {:>2}, average depth = {:.2g}'.format(\n",
    "        maxDepth['r'], totalDepth['r'] / nTrees,\n",
    "    ))\n",
    "if rnTrees > 0:\n",
    "    info('Statistics for cases where restructuring makes a difference:')\n",
    "    info('Embedding trees: max depth = {:>2}, average depth = {:.2g}'.format(\n",
    "        rMaxDepth['e'], rTotalDepth['e'] / rnTrees,\n",
    "    ))\n",
    "    info('Restructd trees: max depth = {:>2}, average depth = {:.2g}'.format(\n",
    "        rMaxDepth['r'], rTotalDepth['r'] / rnTrees,\n",
    "    ))\n",
    "info('Total number of leaves in the trees: {}, average number of leaves = {:.2g}'.format(\n",
    "    totalLength, totalLength / nTrees,\n",
    "))"
   ]
  },
  {
   "cell_type": "markdown",
   "metadata": {},
   "source": [
    "# Writing Trees"
   ]
  },
  {
   "cell_type": "markdown",
   "metadata": {},
   "source": [
    "After all these checks we can proceed to print out the tree structures as plain, bracketed text strings.\n",
    "\n",
    "Per tree we also print a string of the slot numbers that you get when you walk the tree in pre-order.\n",
    "And we produce node numbers from Text-Fabric."
   ]
  },
  {
   "cell_type": "code",
   "execution_count": 23,
   "metadata": {},
   "outputs": [],
   "source": [
    "def getTag(node):\n",
    "    otype = F.otype.v(node)\n",
    "    tag = typeTable[otype]\n",
    "    if tag == 'P': tag = Fs(typ).v(node)\n",
    "    elif tag == 'C': tag = ccrTable[Fs(rela).v(node)]\n",
    "    isWord = tag == ''\n",
    "    pos = posTable[Fs(sp).v(node)] if isWord else None\n",
    "    slot = node if isWord else None\n",
    "    text = '\"{}\"'.format(Fs(g_word_utf8).v(node)) if isWord else None\n",
    "    return (tag, pos, slot, text, isWord)\n",
    "\n",
    "def passageRoots(passage):\n",
    "    vNode = T.nodeFromSection(passage)\n",
    "    return L.d(vNode, otype=rootType)\n",
    "\n",
    "def showcases(cases, oFile):\n",
    "    with open(oFile, 'w') as out:\n",
    "        for (sNode, caseText) in cases.items():\n",
    "            out.write('\\n====================\\n{}\\n{}\\n{} TF-node={}:\\n'.format(\n",
    "                '{} {}:{}'.format(*T.sectionFromNode(sNode)),\n",
    "                caseText, \n",
    "                rootType, \n",
    "                sNode,\n",
    "            ))\n",
    "            for kind in ('e', 'r'):\n",
    "                out.write('\\nTree based on slot embedding {}\\n\\n'.format(\n",
    "                    'only' if kind == 'e' else ' and mother+clause_constituent relation'\n",
    "                ))\n",
    "                (treeRep, wordsRep, bSlot) = tree.writeTree(sNode, kind, getTag, rev=False, leafNumbers=False)\n",
    "                out.write('{}\\n\\n{}\\n'.format(wordsRep, treeRep))\n",
    "                out.write('\\nDepth={}\\n'.format(tree.depth(sNode, kind)))\n",
    "                out.write(tree.debugWriteTree(sNode, kind, legenda=kind=='r'))"
   ]
  },
  {
   "cell_type": "markdown",
   "metadata": {},
   "source": [
    "Finally, here is the production of the whole set of trees."
   ]
  },
  {
   "cell_type": "code",
   "execution_count": 24,
   "metadata": {},
   "outputs": [
    {
     "name": "stdout",
     "output_type": "stream",
     "text": [
      " 1m 14s Writing sentence trees\n",
      " 1m 16s 10000 trees written\n",
      " 1m 18s 20000 trees written\n",
      " 1m 20s 30000 trees written\n",
      " 1m 22s 40000 trees written\n",
      " 1m 23s 50000 trees written\n",
      " 1m 25s 60000 trees written\n",
      " 1m 26s 63711 trees written to output/trees-BHSA-2017.txt\n"
     ]
    }
   ],
   "source": [
    "info('Writing {} trees'.format(rootType))\n",
    "treeFile = '{}/trees-BHSA-{}.txt'.format(OUTPUTDIR, VERSION)\n",
    "with open(treeFile, 'w') as trees:\n",
    "    verseLabel = ''\n",
    "    s = 0\n",
    "    chunk = 10000\n",
    "    sc = 0\n",
    "    for node in F.otype.s(rootType):\n",
    "        if node in skip: continue\n",
    "        (treeRep, wordsRep, bSlot) = tree.writeTree(node, 'r', getTag, rev=False, leafNumbers=False)\n",
    "        trees.write('\\n#{}\\tnode={}\\tbSlot={}\\t{}\\n{}\\n'.format(\n",
    "            '{} {}:{}'.format(*T.sectionFromNode(node)), \n",
    "            node,\n",
    "            bSlot, \n",
    "            wordsRep,\n",
    "            treeRep,\n",
    "        ))\n",
    "        s += 1\n",
    "        sc += 1\n",
    "        if sc == chunk:\n",
    "            info(\"{} trees written\".format(s))\n",
    "            sc = 0\n",
    "info('{} trees written to {}'.format(s, treeFile))"
   ]
  },
  {
   "cell_type": "markdown",
   "metadata": {},
   "source": [
    "# Preview"
   ]
  },
  {
   "cell_type": "markdown",
   "metadata": {},
   "source": [
    "Here are the first lines of the output."
   ]
  },
  {
   "cell_type": "code",
   "execution_count": 25,
   "metadata": {},
   "outputs": [
    {
     "name": "stdout",
     "output_type": "stream",
     "text": [
      "\r\n",
      "#Genesis 1:1\tnode=1172209\tbSlot=1\t0 1 2 3 4 5 6 7 8 9 10\r\n",
      "(S(C(PP(pp \"בְּ\")(n \"רֵאשִׁ֖ית\"))(VP(vb \"בָּרָ֣א\"))(NP(n \"אֱלֹהִ֑ים\"))(PP(U(pp \"אֵ֥ת\")(dt \"הַ\")(n \"שָּׁמַ֖יִם\"))(cj \"וְ\")(U(pp \"אֵ֥ת\")(dt \"הָ\")(n \"אָֽרֶץ\")))))\r\n",
      "\r\n",
      "#Genesis 1:2\tnode=1172210\tbSlot=12\t0 1 2 3 4 5 6\r\n",
      "(S(C(CP(cj \"וְ\"))(NP(dt \"הָ\")(n \"אָ֗רֶץ\"))(VP(vb \"הָיְתָ֥ה\"))(NP(U(n \"תֹ֨הוּ֙\"))(cj \"וָ\")(U(n \"בֹ֔הוּ\")))))\r\n",
      "\r\n",
      "#Genesis 1:2\tnode=1172211\tbSlot=19\t0 1 2 3 4\r\n",
      "(S(C(CP(cj \"וְ\"))(NP(n \"חֹ֖שֶׁךְ\"))(PP(pp \"עַל\")(U(n \"פְּנֵ֣י\"))(U(n \"תְהֹ֑ום\")))))\r\n",
      "\r\n",
      "#Genesis 1:2\tnode=1172212\tbSlot=24\t0 1 2 3 4 5 6 7\r\n",
      "(S(C(CP(cj \"וְ\"))(NP(U(n \"ר֣וּחַ\"))(U(n \"אֱלֹהִ֔ים\")))(VP(vb \"מְרַחֶ֖פֶת\"))(PP(pp \"עַל\")(U(n \"פְּנֵ֥י\"))(U(dt \"הַ\")(n \"מָּֽיִם\")))))\r\n",
      "\r\n",
      "#Genesis 1:3\tnode=1172213\tbSlot=32\t0 1 2\r\n",
      "(S(C(CP(cj \"וַ\"))(VP(vb \"יֹּ֥אמֶר\"))(NP(n \"אֱלֹהִ֖ים\"))))\r\n",
      "\r\n",
      "#Genesis 1:3\tnode=1172214\tbSlot=35\t0 1\r\n",
      "(S(C(VP(vb \"יְהִ֣י\"))(NP(n \"אֹ֑ור\"))))\r\n",
      "\r\n",
      "#Genesis 1:3\tnode=1172215\tbSlot=37\t0 1 2\r\n",
      "(S(C(CP(cj \"וַֽ\"))(VP(vb \"יְהִי\"))(NP(n \"אֹֽור\"))))\r\n",
      "\r\n",
      "#Genesis 1:4\tnode=1172216\tbSlot=40\t0 1 2 3 4 5 6 7\r\n",
      "(S(C(CP(cj \"וַ\"))(VP(vb \"יַּ֧רְא\"))(NP(n \"אֱלֹהִ֛ים\"))(PP(pp \"אֶת\")(dt \"הָ\")(n \"אֹ֖ור\"))(Cobjc(CP(cj \"כִּי\"))(VP(vb \"טֹ֑וב\")))))\r\n",
      "\r\n"
     ]
    }
   ],
   "source": [
    "!head -n 25 {treeFile}"
   ]
  },
  {
   "cell_type": "markdown",
   "metadata": {},
   "source": [
    "# Testing and debugging\n",
    "Here ends the tree generation.\n",
    "Below is only inportant if you test and debug the tree generation."
   ]
  },
  {
   "cell_type": "markdown",
   "metadata": {},
   "source": [
    "We can apply our algorithms to limited sets of interesting trees and random samples.\n",
    "For those cases we also apply a ``debugWrite()`` method that outputs considerably more information.\n",
    "\n",
    "This output (when done for version `4` of the BHSA)\n",
    "has been visually checked by Constantijn Sikkel and Dirk Roorda."
   ]
  },
  {
   "cell_type": "code",
   "execution_count": 40,
   "metadata": {},
   "outputs": [],
   "source": [
    "# below holds for etcbc3, in etcbc4 we have less problem cases\n",
    "\n",
    "problem_desc = collections.OrderedDict((\n",
    "    (1131739, \"debug reorder\"),\n",
    "    (1131712, \"interesting\"), \n",
    "    (1131701, \"interesting\"),\n",
    "    (1140469, \"subject clause order\"),\n",
    "    (passageRoots(('Genesis', 1, 16))[0], \"interesting\"), \n",
    "    (1164864, \"interesting\"),\n",
    "    (1143081, \"cyclic mothers\"),\n",
    "    (1153973, \"cyclic mothers\"),\n",
    "    (1158971, \"cyclic mothers\"),\n",
    "    (1158971, \"cyclic mothers\"),\n",
    "    (1160416, \"cyclic mothers\"),\n",
    "    (1160464, \"cyclic mothers\"),\n",
    "    (1161141, \"nested cyclic mothers: C.coor => C.attr => P below first C.coor\"), \n",
    "    (1163666, \"cyclic mothers\"), \n",
    "    (1164830, \"cyclic mothers\"), \n",
    "    (1167680, \"cyclic mothers\"), \n",
    "    (1170057, \"cyclic mothers\"), \n",
    "    (1193065, \"cyclic mothers\"), \n",
    "    (1199681, \"cyclic mothers\"), \n",
    "    (1199682, \"mother points outside sentence\"),\n",
    "))\n",
    "fixedSample = (\n",
    "    1167680,\n",
    "    1167152,\n",
    "    1145250,\n",
    "    1154339,\n",
    "    1136677,\n",
    "    1166385,\n",
    "    1198984,\n",
    "    1152969,\n",
    "    1153930,\n",
    "    1150648,\n",
    "    1168396,\n",
    "    1151917,\n",
    "    1164750,\n",
    "    1156719,\n",
    "    1148048,\n",
    "    1138673,\n",
    "    1134184,\n",
    "    1156789,\n",
    "    1156600,\n",
    "    1140469,\n",
    ")\n",
    "sampleSize = 20\n",
    "sample = {}\n",
    "fSample = collections.OrderedDict()\n",
    "motherKeys = list(sorted(tree.mother))\n",
    "for s in range(20):\n",
    "    r = random.randint(0, len(motherKeys) - 1)\n",
    "    sNode = tree.getRoot(tree.mother[motherKeys[r]], 'e')[0]\n",
    "    sample[sNode] = 'random sample in {}s with {}s with mothers'.format(rootType, clauseType)\n",
    "for sNode in fixedSample:\n",
    "    fSample[sNode] = 'random sample in {}s with {}s with mothers'.format(rootType, clauseType)\n",
    "\n",
    "#showcases(problemDesc, 'tree-notabene.txt')\n",
    "showcases(sample, '{}/trees-{}-random-{}.txt'.format(OUTPUTDIR, VERSION, sampleSize))\n",
    "#showcases(fsample, 'trees-fixed-{}.txt'.format(len(fsample)))"
   ]
  }
 ],
 "metadata": {
  "kernelspec": {
   "display_name": "Python 3",
   "language": "python",
   "name": "python3"
  },
  "language_info": {
   "codemirror_mode": {
    "name": "ipython",
    "version": 3
   },
   "file_extension": ".py",
   "mimetype": "text/x-python",
   "name": "python",
   "nbconvert_exporter": "python",
   "pygments_lexer": "ipython3",
   "version": "3.6.2"
  }
 },
 "nbformat": 4,
 "nbformat_minor": 1
}
