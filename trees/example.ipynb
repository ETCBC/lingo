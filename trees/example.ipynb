{
 "cells": [
  {
   "cell_type": "markdown",
   "metadata": {},
   "source": [
    "<img align=\"right\" src=\"images/dans-small.png\"/>\n",
    "<img align=\"right\" src=\"images/tf-small.png\"/>\n",
    "<img align=\"right\" src=\"images/etcbc.png\"/>"
   ]
  },
  {
   "cell_type": "markdown",
   "metadata": {},
   "source": [
    "# Trees - for BHSA data (Hebrew)"
   ]
  },
  {
   "cell_type": "markdown",
   "metadata": {},
   "source": [
    "## Example\n",
    "\n",
    "This notebook makes use of the syntax trees composed by \n",
    "[trees.ipynb](trees.ipynb).\n",
    "\n",
    "The feature `tree` holds for each sentence a\n",
    "[Penn Treebank notation](https://en.wikipedia.org/wiki/Treebank) structure,\n",
    "like this (Genesis 1:1):\n",
    "\n",
    "```\n",
    "(S(C(PP(pp 0)(n 1))(VP(vb 2))(NP(n 3))(PP(U(pp 4)(dt 5)(n 6))(cj 7)(U(pp 8)(dt 9)(n 10)))))\n",
    "```\n",
    "\n",
    "The numbers are the leave nodes. You can replace them by concrete words by adding the slot number of the \n",
    "first word of the sentence to it, and then substituting the values of textual features for it.\n",
    "\n",
    "Like this\n",
    "\n",
    "```\n",
    "(S(C(PP(pp בְּ)(n רֵאשִׁ֖ית))(VP(vb בָּרָ֣א))(NP(n אֱלֹהִ֑ים))(PP(U(pp אֵ֥ת)(dt הַ)(n שָּׁמַ֖יִם))(cj וְ)(U(pp אֵ֥ת)(dt הָ)(n אָֽרֶץ)))))\n",
    "```\n",
    "\n",
    "or this\n",
    "\n",
    "```\n",
    "(S(C(PP(pp bᵊ)(n rēšˌîṯ))(VP(vb bārˈā))(NP(n ʔᵉlōhˈîm))(PP(U(pp ʔˌēṯ)(dt ha)(n ššāmˌayim))(cj wᵊ)(U(pp ʔˌēṯ)(dt hā)(n ʔˈāreṣ)))))\n",
    "```\n",
    "\n",
    "We shall show how.\n",
    "\n",
    "And you can now investigate the \"bare\" syntax of sentences, group them, filter them.\n",
    "It turns out that there are roughly half as many distinct syntaxes as there are sentences.\n",
    "And some sentence syntaxes occur thousands of times..."
   ]
  },
  {
   "cell_type": "code",
   "execution_count": 1,
   "metadata": {},
   "outputs": [],
   "source": [
    "%load_ext autoreload\n",
    "%autoreload 2\n",
    "\n",
    "import sys\n",
    "import os\n",
    "import collections\n",
    "import re\n",
    "\n",
    "from tf.fabric import Fabric"
   ]
  },
  {
   "cell_type": "markdown",
   "metadata": {},
   "source": [
    "# Load data\n",
    "We load the some features of the\n",
    "[BHSA](https://github.com/etcbc/bhsa) data.\n",
    "See the [feature documentation](https://etcbc.github.io/bhsa/features/hebrew/2017/0_home.html) for more info."
   ]
  },
  {
   "cell_type": "code",
   "execution_count": 2,
   "metadata": {},
   "outputs": [],
   "source": [
    "VERSION = '2017'\n",
    "BHSA = 'BHSA/tf/{}'.format(VERSION)\n",
    "TREES = 'lingo/trees/tf/{}'.format(VERSION)\n",
    "PHONO = 'phono/tf/{}'.format(VERSION)"
   ]
  },
  {
   "cell_type": "code",
   "execution_count": 3,
   "metadata": {},
   "outputs": [
    {
     "name": "stdout",
     "output_type": "stream",
     "text": [
      "This is Text-Fabric 3.1.1\n",
      "Api reference : https://github.com/Dans-labs/text-fabric/wiki/Api\n",
      "Tutorial      : https://github.com/Dans-labs/text-fabric/blob/master/docs/tutorial.ipynb\n",
      "Example data  : https://github.com/Dans-labs/text-fabric-data\n",
      "\n",
      "119 features found and 0 ignored\n",
      "  0.00s loading features ...\n",
      "   |     0.19s B g_cons_utf8          from /Users/dirk/github/etcbc/BHSA/tf/2017\n",
      "   |     0.21s B g_word_utf8          from /Users/dirk/github/etcbc/BHSA/tf/2017\n",
      "   |     0.21s B phono                from /Users/dirk/github/etcbc/phono/tf/2017\n",
      "   |     0.30s T tree                 from /Users/dirk/github/etcbc/lingo/trees/tf/2017\n",
      "   |     0.00s Feature overview: 112 for nodes; 5 for edges; 2 configs; 7 computed\n",
      "  5.09s All features loaded/computed - for details use loadLog()\n"
     ]
    }
   ],
   "source": [
    "TF = Fabric(locations='~/github/etcbc', modules=[BHSA, TREES, PHONO])\n",
    "api = TF.load(f'''\n",
    "    g_word_utf8\n",
    "    g_cons_utf8\n",
    "    phono\n",
    "    tree\n",
    "''')\n",
    "api.makeAvailableIn(globals())"
   ]
  },
  {
   "cell_type": "markdown",
   "metadata": {},
   "source": [
    "# Printing a tree - step by step\n",
    "\n",
    "Let us print the tree of Genesis 1:1, with fully pointed, terminals, consonantal ones, and phonetic ones."
   ]
  },
  {
   "cell_type": "code",
   "execution_count": 5,
   "metadata": {},
   "outputs": [
    {
     "name": "stdout",
     "output_type": "stream",
     "text": [
      "Genesis 1:1 - first word = 1\n",
      "tree = (S(C(PP(pp 0)(n 1))(VP(vb 2))(NP(n 3))(PP(U(pp 4)(dt 5)(n 6))(cj 7)(U(pp 8)(dt 9)(n 10)))))\n"
     ]
    }
   ],
   "source": [
    "passage = ('Genesis', 1, 1)\n",
    "verseNode = T.nodeFromSection(passage)\n",
    "sentenceNode = L.d(verseNode, otype='sentence')[0]\n",
    "firstSlot = L.d(sentenceNode, otype='word')[0]\n",
    "rawTree = F.tree.v(sentenceNode)\n",
    "print('{} {}:{} - first word = {}\\ntree = {}'.format(*passage, firstSlot, rawTree))"
   ]
  },
  {
   "cell_type": "markdown",
   "metadata": {},
   "source": [
    "Now we replace the leave numbers by word representations.\n",
    "\n",
    "First we define a helper function, that substitutes all numerals in a string by pieces\n",
    "that are dependent on the numeric values of those numerals."
   ]
  },
  {
   "cell_type": "code",
   "execution_count": 6,
   "metadata": {},
   "outputs": [],
   "source": [
    "numPattern = re.compile('[0-9]+')\n",
    "\n",
    "def fillWords(tree, start, wordRep):\n",
    "    def numReplace(match):\n",
    "        return wordRep(int(match.group(0)) + start)\n",
    "    return numPattern.sub(numReplace, tree)"
   ]
  },
  {
   "cell_type": "markdown",
   "metadata": {},
   "source": [
    "Now we can get the phonetic representation as a matter of filling in the dots:"
   ]
  },
  {
   "cell_type": "code",
   "execution_count": 7,
   "metadata": {},
   "outputs": [
    {
     "data": {
      "text/plain": [
       "'(S(C(PP(pp bᵊ)(n rēšˌîṯ))(VP(vb bārˈā))(NP(n ʔᵉlōhˈîm))(PP(U(pp ʔˌēṯ)(dt ha)(n ššāmˌayim))(cj wᵊ)(U(pp ʔˌēṯ)(dt hā)(n ʔˈāreṣ)))))'"
      ]
     },
     "execution_count": 7,
     "metadata": {},
     "output_type": "execute_result"
    }
   ],
   "source": [
    "fillWords(rawTree, firstSlot, F.phono.v)"
   ]
  },
  {
   "cell_type": "markdown",
   "metadata": {},
   "source": [
    "Likewise the consonantal representation:"
   ]
  },
  {
   "cell_type": "code",
   "execution_count": 9,
   "metadata": {},
   "outputs": [
    {
     "data": {
      "text/plain": [
       "'(S(C(PP(pp ב)(n ראשׁית))(VP(vb ברא))(NP(n אלהים))(PP(U(pp את)(dt ה)(n שׁמים))(cj ו)(U(pp את)(dt ה)(n ארץ)))))'"
      ]
     },
     "execution_count": 9,
     "metadata": {},
     "output_type": "execute_result"
    }
   ],
   "source": [
    "fillWords(rawTree, firstSlot, F.g_cons_utf8.v)"
   ]
  },
  {
   "cell_type": "markdown",
   "metadata": {},
   "source": [
    "And the fully pointed one:"
   ]
  },
  {
   "cell_type": "code",
   "execution_count": 10,
   "metadata": {},
   "outputs": [
    {
     "data": {
      "text/plain": [
       "'(S(C(PP(pp בְּ)(n רֵאשִׁ֖ית))(VP(vb בָּרָ֣א))(NP(n אֱלֹהִ֑ים))(PP(U(pp אֵ֥ת)(dt הַ)(n שָּׁמַ֖יִם))(cj וְ)(U(pp אֵ֥ת)(dt הָ)(n אָֽרֶץ)))))'"
      ]
     },
     "execution_count": 10,
     "metadata": {},
     "output_type": "execute_result"
    }
   ],
   "source": [
    "fillWords(rawTree, firstSlot, F.g_word_utf8.v)"
   ]
  },
  {
   "cell_type": "markdown",
   "metadata": {},
   "source": [
    "# Exploring the space of tree structures\n",
    "\n",
    "Let us see how many distinct tree structures we've got."
   ]
  },
  {
   "cell_type": "code",
   "execution_count": 14,
   "metadata": {},
   "outputs": [
    {
     "name": "stdout",
     "output_type": "stream",
     "text": [
      "28096 distinct structures\n"
     ]
    }
   ],
   "source": [
    "trees = collections.Counter()\n",
    "for sNode in F.otype.s('sentence'):\n",
    "    trees[F.tree.v(sNode)] += 1\n",
    "print('{} distinct structures'.format(len(trees)))"
   ]
  },
  {
   "cell_type": "markdown",
   "metadata": {},
   "source": [
    "Let's see the most frequent structures."
   ]
  },
  {
   "cell_type": "code",
   "execution_count": 15,
   "metadata": {},
   "outputs": [
    {
     "name": "stdout",
     "output_type": "stream",
     "text": [
      "3772 x (S(C(CP(cj 0))(VP(vb 1))))\n",
      "1238 x (S(C(VP(vb 0))))\n",
      "1173 x (S(C(CP(cj 0))(VP(vb 1))(PP(pp 2))))\n",
      " 857 x (S(C(CP(cj 0))(VP(vb 1))(PP(pp 2)(n 3))))\n",
      " 749 x (S(C(CP(cj 0))(VP(vb 1))(NP(n 2))))\n",
      " 577 x (S(C(CP(cj 0))(VP(vb 1))(PrNP(n-pr 2))))\n",
      " 568 x (S(C(CP(cj 0))(VP(vb 1))(PP(pp 2)(dt 3)(n 4))))\n",
      " 554 x (S(C(VP(vb 0))(NP(n 1))))\n",
      " 441 x (S(C(CP(cj 0))(NegP(ng 1))(VP(vb 2))))\n",
      " 406 x (S(C(CP(cj 0))(VP(vb 1))(PP(pp 2)(n-pr 3))))\n",
      " 326 x (S(C(CP(cj 0))(VP(vb 1))(PrNP(n-pr 2))(PP(pp 3)(n-pr 4))))\n",
      " 314 x (S(C(NegP(ng 0))(VP(vb 1))))\n",
      " 310 x (S(C(CP(cj 0))(VP(vb 1))(NP(dt 2)(n 3))))\n",
      " 274 x (S(C(VP(vb 0))(PP(pp 1)(n 2))))\n",
      " 259 x (S(C(CP(cj 0))(VP(vb 1))(PP(pp 2)(U(n 3))(U(n 4)))))\n",
      " 257 x (S(C(NP(U(n 0))(U(n-pr 1)))))\n",
      " 238 x (S(C(CP(cj 0))(AdvP(av 1))))\n",
      " 227 x (S(C(CP(cj 0))(VP(vb 1))(PP(pp 2))(NP(n 3))))\n",
      " 226 x (S(C(CP(cj 0))(VP(vb 1))(PP(pp 2)(U(n 3))(U(n-pr 4)))))\n",
      " 216 x (S(C(NP(n 0))(VP(vb 1))))\n",
      " 207 x (S(C(CP(cj 0))(NP(n 1))(VP(vb 2))))\n",
      " 198 x (S(C(CP(cj 0))(VP(vb 1))(NP(n 2))(PP(pp 3)(n 4))))\n",
      " 198 x (S(C(VP(vb 0))(PP(pp 1))))\n",
      " 193 x (S(C(CP(cj 0))(VP(vb 1))(NP(U(n 2))(U(n 3)))))\n",
      " 183 x (S(C(CP(cj 0))(VP(vb 1))(PP(pp 2)(U(n 3))(U(dt 4)(n 5)))))\n",
      " 173 x (S(C(InjP(ij 0))))\n",
      " 145 x (S(C(CP(cj 0))(PP(pp 1)(n 2))(VP(vb 3))))\n",
      " 144 x (S(C(CP(cj 0))(VP(vb 1))(PP(pp 2))(PP(pp 3)(n 4))))\n",
      " 142 x (S(C(CP(cj 0))(VP(vb 1))(PrNP(n-pr 2))(PP(pp 3)(n 4))))\n",
      " 139 x (S(C(VP(vb 0))(PrNP(n-pr 1))))\n",
      " 138 x (S(C(PP(pp 0)(n 1))(VP(vb 2))))\n",
      " 134 x (S(C(VP(vb 0))(NP(n 1))(PP(pp 2)(n 3))))\n",
      " 133 x (S(C(CP(cj 0))(InjP(ij 1))))\n",
      " 127 x (S(C(AdvP(av 0))(VP(vb 1))(PrNP(n-pr 2))))\n",
      " 126 x (S(C(CP(cj 0))(VP(vb 1))(PrNP(n-pr 2))(PP(pp 3)(dt 4)(n 5))))\n",
      " 126 x (S(C(VP(vb 0))(PP(pp 1)(dt 2)(n 3))))\n",
      " 125 x (S(C(AdvP(av 0))))\n",
      " 121 x (S(C(CP(cj 0))(VP(vb 1))(PP(pp 2))(PrNP(n-pr 3))))\n",
      " 119 x (S(C(CP(cj 0))(PPrP(pr-ps 1))(VP(vb 2))))\n",
      " 113 x (S(C(CP(cj 0))(NP(U(n 1))(U(n 2)))(VP(vb 3))))\n",
      " 113 x (S(C(NP(n 0))))\n",
      " 109 x (S(C(AdvP(av 0))(VP(vb 1))(PrNP(U(n-pr 2))(U(n-pr 3)))))\n",
      " 108 x (S(C(CP(cj 0))(VP(vb 1))(NP(U(n 2))(U(n-pr 3)))))\n",
      "  97 x (S(C(CP(cj 0))(NP(n 1))(NegP(ng 2))(VP(vb 3))))\n",
      "  94 x (S(C(CP(cj 0))(PrNP(n-pr 1))(VP(vb 2))(PP(pp 3)(n-pr 4))))\n",
      "  94 x (S(C(CP(cj 0))(VP(vb 1))(PrNP(n-pr 2))(PP(pp 3)(n-pr 4))(Cadju(VP(pp 5)(vb 6)))))\n",
      "  93 x (S(C(CP(cj 0))(NegP(ng 1))(VP(vb 2))(PP(pp 3))))\n",
      "  93 x (S(C(VP(vb 0))(PP(pp 1)(U(n 2))(U(n 3)))))\n",
      "  92 x (S(C(NP(U(n 0))(U(n 1)))(VP(vb 2))))\n",
      "  92 x (S(C(VP(vb 0))(NP(U(n 1))(U(n 2)))))\n",
      "  88 x (S(C(CP(cj 0))(NegP(ng 1))(VP(vb 2))(PP(pp 3)(n 4))))\n",
      "  86 x (S(C(NP(U(n 0))(U(U(n-pr 1))(U(n-pr 2))))))\n",
      "  84 x (S(C(AdvP(av 0))(VP(vb 1))))\n",
      "  84 x (S(C(CP(cj 0))(VP(vb 1))(AdvP(av 2))))\n",
      "  83 x (S(C(CP(cj 0))(VP(vb 1))(NP(U(n 2))(U(dt 3)(n 4)))))\n",
      "  82 x (S(C(NegP(ng 0))(VP(vb 1))(NP(n 2))))\n",
      "  81 x (S(C(CP(cj 0))(VP(vb 1))(Cadju(VP(pp 2)(vb 3)))))\n",
      "  80 x (S(C(CP(cj 0))(VP(vb 1))(PP(pp 2))(NP(U(n 3))(U(n 4)))))\n",
      "  78 x (S(C(NP(U(n 0))(U(n 1)))))\n",
      "  78 x (S(C(VP(vb 0))(PP(pp 1)(n-pr 2))))\n",
      "  77 x (S(C(PP(pp 0)(U(n 1))(U(n 2)))(VP(vb 3))))\n",
      "  75 x (S(C(VP(vb 0))(NP(dt 1)(n 2))))\n",
      "  72 x (S(C(CP(cj 0))(VP(vb 1))(NP(n 2))(PP(pp 3)(dt 4)(n 5))))\n",
      "  72 x (S(C(PPrP(pr-ps 0))(VP(vb 1))))\n",
      "  71 x (S(C(CP(cj 0))(VP(vb 1))(NP(n 2))(PP(pp 3)(n-pr 4))))\n",
      "  71 x (S(C(CP(cj 0))(VP(vb 1))(NP(n 2))(PP(pp 3))))\n",
      "  70 x (S(C(NP(n 0))(PPrP(pr-ps 1))))\n",
      "  69 x (S(C(CP(cj 0))(VP(vb 1))(NP(U(n 2))(U(aj 3)))))\n",
      "  69 x (S(C(CP(cj 0))(VP(vb 1))(PP(pp 2))(NP(dt 3)(n 4))))\n",
      "  68 x (S(C(CP(cj 0))(VP(vb 1))(PP(pp 2)(dt 3)(n 4))(NP(n 5))))\n",
      "  68 x (S(C(CP(cj 0))(VP(vb 1))(PrNP(n-pr 2))(PP(pp 3)(U(n 4))(U(n-pr 5)))))\n",
      "  66 x (S(C(CP(cj 0))(VP(vb 1))(AdvP(n 2))))\n",
      "  66 x (S(C(CP(cj 0))(VP(vb 1))(PP(pp 2))(PP(pp 3)(dt 4)(n 5))))\n",
      "  65 x (S(C(CP(cj 0))(NP(n 1))(PP(pp 2)(n 3))(VP(vb 4))))\n",
      "  65 x (S(C(CP(cj 0))(VP(vb 1))(PrNP(n-pr 2))(PP(pp 3))))\n",
      "  65 x (S(C(VP(vb 0))(PP(pp 1))(NP(n 2))))\n",
      "  64 x (S(C(VP(vb 0))(PP(pp 1)(U(n 2))(U(n-pr 3)))))\n",
      "  63 x (S(C(CP(cj 0))(NegP(ng 1))(VP(vb 2))(NP(n 3))))\n",
      "  63 x (S(C(NegP(ng 0))(VP(vb 1))(PP(pp 2))))\n",
      "  62 x (S(C(CP(cj 0))(VP(vb 1))(NP(U(n 2))(cj 3)(U(n 4)))))\n",
      "  60 x (S(C(CP(cj 0))(NP(n 1))(VP(vb 2))(PP(pp 3))))\n",
      "  60 x (S(C(NP(n 0))(VP(vb 1))(PP(pp 2)(n 3))))\n",
      "  60 x (S(C(NegP(ng 0))(VP(vb 1))(PP(pp 2)(n 3))))\n",
      "  59 x (S(C(PPrP(pr-ps 0))(PrNP(n-pr 1))))\n",
      "  57 x (S(C(CP(cj 0))(NP(U(n 1))(U(aj 2)))(VP(vb 3))))\n",
      "  57 x (S(C(CP(cj 0))(NP(n 1))(PP(pp 2)(n 3))))\n",
      "  57 x (S(C(CP(cj 0))(VP(vb 1))(NP(dt 2)(n 3))(PP(pp 4)(n-pr 5))))\n",
      "  57 x (S(C(PP(pp 0)(dt 1)(n 2))(VP(vb 3))))\n",
      "  56 x (S(C(AdjP(aj 0))(PPrP(pr-ps 1))))\n",
      "  56 x (S(C(PP(pp 0)(n 1))(VP(vb 2))(NP(n 3))))\n",
      "  54 x (S(C(CP(cj 0))(NP(n 1))(VP(vb 2))(NP(n 3))))\n",
      "  54 x (S(C(CP(cj 0))(PrNP(n-pr 1))(VP(vb 2))))\n",
      "  54 x (S(C(CP(cj 0))(VP(vb 1))(NP(dt 2)(n 3))(PP(pp 4)(dt 5)(n 6))))\n",
      "  54 x (S(C(PP(pp 0)(dt 1)(vb 2))))\n",
      "  53 x (S(C(CP(cj 0))(AdvP(av 1))(VP(vb 2))))\n",
      "  52 x (S(C(NP(n 0))(VP(vb 1))(PP(pp 2))))\n",
      "  51 x (S(C(CP(cj 0))(VP(vb 1))(NP(U(n 2))(U(n-pr 3)))(PP(pp 4))(Cadju(VP(pp 5)(vb 6)))))\n",
      "  51 x (S(C(CP(cj 0))(VP(vb 1))(NP(dt 2)(n 3))(PP(pp 4)(n 5))))\n",
      "  51 x (S(C(PP(pp 0)(n-pr 1)(U(n 2))(U(dt 3)(aj 4)))))\n",
      "  50 x (S(C(InrP(ir 0))(VP(vb 1))))\n"
     ]
    }
   ],
   "source": [
    "for (tree, nOccs) in sorted(trees.items(), key=lambda x: (-x[1], x[0])):\n",
    "    if nOccs < 50: break\n",
    "    print('{:>4} x {}'.format(nOccs, tree))"
   ]
  },
  {
   "cell_type": "markdown",
   "metadata": {},
   "source": [
    "And this is just the beginning..."
   ]
  },
  {
   "cell_type": "code",
   "execution_count": null,
   "metadata": {},
   "outputs": [],
   "source": []
  }
 ],
 "metadata": {
  "kernelspec": {
   "display_name": "Python 3",
   "language": "python",
   "name": "python3"
  },
  "language_info": {
   "codemirror_mode": {
    "name": "ipython",
    "version": 3
   },
   "file_extension": ".py",
   "mimetype": "text/x-python",
   "name": "python",
   "nbconvert_exporter": "python",
   "pygments_lexer": "ipython3",
   "version": "3.6.2"
  }
 },
 "nbformat": 4,
 "nbformat_minor": 1
}
