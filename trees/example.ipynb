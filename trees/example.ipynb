{
 "cells": [
  {
   "cell_type": "markdown",
   "metadata": {},
   "source": [
    "<img align=\"right\" src=\"images/dans-small.png\"/>\n",
    "<img align=\"right\" src=\"images/tf-small.png\"/>\n",
    "<img align=\"right\" src=\"images/etcbc.png\"/>"
   ]
  },
  {
   "cell_type": "markdown",
   "metadata": {},
   "source": [
    "# Trees - for BHSA data (Hebrew)"
   ]
  },
  {
   "cell_type": "markdown",
   "metadata": {},
   "source": [
    "## Example\n",
    "\n",
    "This notebook makes use of the syntax trees composed by \n",
    "[trees.ipynb](trees.ipynb).\n",
    "\n",
    "The feature `tree` holds for each sentence a\n",
    "[Penn Treebank notation](https://en.wikipedia.org/wiki/Treebank) structure,\n",
    "like this (Genesis 1:1):\n",
    "\n",
    "```\n",
    "(S(C(PP(pp 0)(n 1))(VP(vb 2))(NP(n 3))(PP(U(pp 4)(dt 5)(n 6))(cj 7)(U(pp 8)(dt 9)(n 10)))))\n",
    "```\n",
    "\n",
    "The numbers are the leave nodes. You can replace them by concrete words by adding the slot number of the \n",
    "first word of the sentence to it, and then substituting the values of textual features for it.\n",
    "\n",
    "Like this\n",
    "\n",
    "```\n",
    "(S(C(PP(pp בְּ)(n רֵאשִׁ֖ית))(VP(vb בָּרָ֣א))(NP(n אֱלֹהִ֑ים))(PP(U(pp אֵ֥ת)(dt הַ)(n שָּׁמַ֖יִם))(cj וְ)(U(pp אֵ֥ת)(dt הָ)(n אָֽרֶץ)))))\n",
    "```\n",
    "\n",
    "or this\n",
    "\n",
    "```\n",
    "(S(C(PP(pp bᵊ)(n rēšˌîṯ))(VP(vb bārˈā))(NP(n ʔᵉlōhˈîm))(PP(U(pp ʔˌēṯ)(dt ha)(n ššāmˌayim))(cj wᵊ)(U(pp ʔˌēṯ)(dt hā)(n ʔˈāreṣ)))))\n",
    "```\n",
    "\n",
    "or even this\n",
    "\n",
    "```\n",
    " 1  S\n",
    " 2    C\n",
    " 3      PP\n",
    " 4        pp \"בְּ\" \"[in]\"\n",
    " 4        n \"רֵאשִׁ֖ית\" \"[beginning]\"\n",
    " 3      VP\n",
    " 4        vb \"בָּרָ֣א\" \"[create]\"\n",
    " 3      NP\n",
    " 4        n \"אֱלֹהִ֑ים\" \"[god(s)]\"\n",
    " 3      PP\n",
    " 4        U\n",
    " 5          pp \"אֵ֥ת\" \"[<object marker>]\"\n",
    " 5          dt \"הַ\" \"[the]\"\n",
    " 5          n \"שָּׁמַ֖יִם\" \"[heavens]\"\n",
    " 4        cj \"וְ\" \"[and]\"\n",
    " 4        U\n",
    " 5          pp \"אֵ֥ת\" \"[<object marker>]\"\n",
    " 5          dt \"הָ\" \"[the]\"\n",
    " 5          n \"אָֽרֶץ\" \"[earth]\"\n",
    "```\n",
    "\n",
    "We shall show how.\n",
    "\n",
    "And you can now investigate the \"bare\" syntax of sentences, group them, filter them.\n",
    "It turns out that there are roughly half as many distinct syntaxes as there are sentences, while\n",
    "some sentence syntaxes occur thousands of times.\n",
    "\n",
    "We finish off by showing the sentences whose trees have a depth at least 10."
   ]
  },
  {
   "cell_type": "code",
   "execution_count": 3,
   "metadata": {},
   "outputs": [
    {
     "name": "stdout",
     "output_type": "stream",
     "text": [
      "The autoreload extension is already loaded. To reload it, use:\n",
      "  %reload_ext autoreload\n"
     ]
    }
   ],
   "source": [
    "%load_ext autoreload\n",
    "%autoreload 2\n",
    "\n",
    "import sys\n",
    "import os\n",
    "import collections\n",
    "import re\n",
    "\n",
    "from tf.fabric import Fabric\n",
    "\n",
    "from utils import structure, layout"
   ]
  },
  {
   "cell_type": "markdown",
   "metadata": {},
   "source": [
    "# Load data\n",
    "We load the some features of the\n",
    "[BHSA](https://github.com/etcbc/bhsa) data.\n",
    "See the [feature documentation](https://etcbc.github.io/bhsa/features/hebrew/2017/0_home.html) for more info."
   ]
  },
  {
   "cell_type": "code",
   "execution_count": 4,
   "metadata": {},
   "outputs": [],
   "source": [
    "VERSION = '2017'\n",
    "BHSA = 'BHSA/tf/{}'.format(VERSION)\n",
    "TREES = 'lingo/trees/tf/{}'.format(VERSION)\n",
    "PHONO = 'phono/tf/{}'.format(VERSION)"
   ]
  },
  {
   "cell_type": "code",
   "execution_count": 15,
   "metadata": {},
   "outputs": [
    {
     "name": "stdout",
     "output_type": "stream",
     "text": [
      "This is Text-Fabric 3.1.1\n",
      "Api reference : https://github.com/Dans-labs/text-fabric/wiki/Api\n",
      "Tutorial      : https://github.com/Dans-labs/text-fabric/blob/master/docs/tutorial.ipynb\n",
      "Example data  : https://github.com/Dans-labs/text-fabric-data\n",
      "\n",
      "119 features found and 0 ignored\n",
      "  0.00s loading features ...\n",
      "   |     0.19s B g_cons_utf8          from /Users/dirk/github/etcbc/BHSA/tf/2017\n",
      "   |     0.21s B g_word_utf8          from /Users/dirk/github/etcbc/BHSA/tf/2017\n",
      "   |     0.21s B phono                from /Users/dirk/github/etcbc/phono/tf/2017\n",
      "   |     0.01s B gloss                from /Users/dirk/github/etcbc/BHSA/tf/2017\n",
      "   |     0.06s B tree                 from /Users/dirk/github/etcbc/lingo/trees/tf/2017\n",
      "   |     0.00s Feature overview: 112 for nodes; 5 for edges; 2 configs; 7 computed\n",
      "  5.23s All features loaded/computed - for details use loadLog()\n"
     ]
    }
   ],
   "source": [
    "TF = Fabric(locations='~/github/etcbc', modules=[BHSA, TREES, PHONO])\n",
    "api = TF.load(f'''\n",
    "    g_word_utf8 g_cons_utf8 gloss\n",
    "    phono\n",
    "    tree\n",
    "''')\n",
    "api.makeAvailableIn(globals())"
   ]
  },
  {
   "cell_type": "markdown",
   "metadata": {},
   "source": [
    "# Printing a tree - step by step\n",
    "\n",
    "Let us print the tree of Genesis 1:1, with fully pointed, terminals, consonantal ones, and phonetic ones."
   ]
  },
  {
   "cell_type": "code",
   "execution_count": 43,
   "metadata": {},
   "outputs": [
    {
     "name": "stdout",
     "output_type": "stream",
     "text": [
      "Genesis 1:1 - first word = 1\n",
      "tree = (S(C(PP(pp 0)(n 1))(VP(vb 2))(NP(n 3))(PP(U(pp 4)(dt 5)(n 6))(cj 7)(U(pp 8)(dt 9)(n 10)))))\n"
     ]
    }
   ],
   "source": [
    "passage = ('Genesis', 1, 1)\n",
    "verseNode = T.nodeFromSection(passage)\n",
    "sentenceNode = L.d(verseNode, otype='sentence')[0]\n",
    "firstSlot = L.d(sentenceNode, otype='word')[0]\n",
    "rawTree = F.tree.v(sentenceNode)\n",
    "print('{} {}:{} - first word = {}\\ntree = {}'.format(*passage, firstSlot, rawTree))"
   ]
  },
  {
   "cell_type": "markdown",
   "metadata": {},
   "source": [
    "Now we replace the leave numbers by word representations.\n",
    "\n",
    "First we define a helper function, that substitutes all numerals in a string by pieces\n",
    "that are dependent on the numeric values of those numerals."
   ]
  },
  {
   "cell_type": "code",
   "execution_count": 44,
   "metadata": {},
   "outputs": [],
   "source": [
    "numPattern = re.compile('[0-9]+')\n",
    "\n",
    "def fillWords(tree, start, wordRep):\n",
    "    def numReplace(match):\n",
    "        return wordRep(int(match.group(0)) + start)\n",
    "    return numPattern.sub(numReplace, tree)"
   ]
  },
  {
   "cell_type": "markdown",
   "metadata": {},
   "source": [
    "Now we can get the phonetic representation as a matter of filling in the dots:"
   ]
  },
  {
   "cell_type": "code",
   "execution_count": 45,
   "metadata": {},
   "outputs": [
    {
     "data": {
      "text/plain": [
       "'(S(C(PP(pp bᵊ)(n rēšˌîṯ))(VP(vb bārˈā))(NP(n ʔᵉlōhˈîm))(PP(U(pp ʔˌēṯ)(dt ha)(n ššāmˌayim))(cj wᵊ)(U(pp ʔˌēṯ)(dt hā)(n ʔˈāreṣ)))))'"
      ]
     },
     "execution_count": 45,
     "metadata": {},
     "output_type": "execute_result"
    }
   ],
   "source": [
    "fillWords(rawTree, firstSlot, F.phono.v)"
   ]
  },
  {
   "cell_type": "markdown",
   "metadata": {},
   "source": [
    "Likewise the consonantal representation:"
   ]
  },
  {
   "cell_type": "code",
   "execution_count": 46,
   "metadata": {},
   "outputs": [
    {
     "data": {
      "text/plain": [
       "'(S(C(PP(pp ב)(n ראשׁית))(VP(vb ברא))(NP(n אלהים))(PP(U(pp את)(dt ה)(n שׁמים))(cj ו)(U(pp את)(dt ה)(n ארץ)))))'"
      ]
     },
     "execution_count": 46,
     "metadata": {},
     "output_type": "execute_result"
    }
   ],
   "source": [
    "fillWords(rawTree, firstSlot, F.g_cons_utf8.v)"
   ]
  },
  {
   "cell_type": "markdown",
   "metadata": {},
   "source": [
    "And the fully pointed one:"
   ]
  },
  {
   "cell_type": "code",
   "execution_count": 47,
   "metadata": {},
   "outputs": [
    {
     "data": {
      "text/plain": [
       "'(S(C(PP(pp בְּ)(n רֵאשִׁ֖ית))(VP(vb בָּרָ֣א))(NP(n אֱלֹהִ֑ים))(PP(U(pp אֵ֥ת)(dt הַ)(n שָּׁמַ֖יִם))(cj וְ)(U(pp אֵ֥ת)(dt הָ)(n אָֽרֶץ)))))'"
      ]
     },
     "execution_count": 47,
     "metadata": {},
     "output_type": "execute_result"
    }
   ],
   "source": [
    "fillWords(rawTree, firstSlot, F.g_word_utf8.v)"
   ]
  },
  {
   "cell_type": "markdown",
   "metadata": {},
   "source": [
    "# Multiline display\n",
    "\n",
    "In many cases, multiline display is better.\n",
    "In order to do that, we need to parse the brackets.\n",
    "\n",
    "Next to this notebook is a module `utils.py` with the function `structure(rawTree)` which \n",
    "delivers a nested list that corresponds to the tree structure.\n",
    "\n",
    "Here you see it in action."
   ]
  },
  {
   "cell_type": "code",
   "execution_count": 48,
   "metadata": {},
   "outputs": [
    {
     "data": {
      "text/plain": [
       "['S',\n",
       " ['C',\n",
       "  ['PP', [('pp', 0)], [('n', 1)]],\n",
       "  ['VP', [('vb', 2)]],\n",
       "  ['NP', [('n', 3)]],\n",
       "  ['PP',\n",
       "   ['U', [('pp', 4)], [('dt', 5)], [('n', 6)]],\n",
       "   [('cj', 7)],\n",
       "   ['U', [('pp', 8)], [('dt', 9)], [('n', 10)]]]]]"
      ]
     },
     "execution_count": 48,
     "metadata": {},
     "output_type": "execute_result"
    }
   ],
   "source": [
    "structure(rawTree)"
   ]
  },
  {
   "cell_type": "markdown",
   "metadata": {},
   "source": [
    "We can display it a bit more friendly with the `layout(structuredTree, firstSlot, terminalRep)` function.\n",
    "The `terminalRep` function should take a number and return a string. The number is the slot number of\n",
    "a leave node. Here we just represent the number as a numeral."
   ]
  },
  {
   "cell_type": "code",
   "execution_count": 49,
   "metadata": {},
   "outputs": [
    {
     "name": "stdout",
     "output_type": "stream",
     "text": [
      "  S\n",
      "    C\n",
      "      PP\n",
      "        pp 1\n",
      "        n 2\n",
      "      VP\n",
      "        vb 3\n",
      "      NP\n",
      "        n 4\n",
      "      PP\n",
      "        U\n",
      "          pp 5\n",
      "          dt 6\n",
      "          n 7\n",
      "        cj 8\n",
      "        U\n",
      "          pp 9\n",
      "          dt 10\n",
      "          n 11\n"
     ]
    }
   ],
   "source": [
    "print(layout(structure(rawTree), firstSlot, str))"
   ]
  },
  {
   "cell_type": "markdown",
   "metadata": {},
   "source": [
    "We can now easily substitute in full word representations, as we did above.\n",
    "\n",
    "Let's get fancy: we want to represent each word with its phonetic translation between quotes and\n",
    "a gloss between square brackets.\n",
    "\n",
    "And while we're at it, we also want to see the level of the nodes in question.\n",
    "\n",
    "The only thing we have to write is function that gives this back if we give it a slot number."
   ]
  },
  {
   "cell_type": "code",
   "execution_count": 54,
   "metadata": {},
   "outputs": [],
   "source": [
    "def phonoGloss(n):\n",
    "    return '\"{}\" \"[{}]\"'.format(\n",
    "        F.g_word_utf8.v(n),\n",
    "        F.gloss.v(L.u(n, otype='lex')[0]),\n",
    "    )"
   ]
  },
  {
   "cell_type": "code",
   "execution_count": 55,
   "metadata": {},
   "outputs": [
    {
     "name": "stdout",
     "output_type": "stream",
     "text": [
      " 1  S\n",
      " 2    C\n",
      " 3      PP\n",
      " 4        pp \"בְּ\" \"[in]\"\n",
      " 4        n \"רֵאשִׁ֖ית\" \"[beginning]\"\n",
      " 3      VP\n",
      " 4        vb \"בָּרָ֣א\" \"[create]\"\n",
      " 3      NP\n",
      " 4        n \"אֱלֹהִ֑ים\" \"[god(s)]\"\n",
      " 3      PP\n",
      " 4        U\n",
      " 5          pp \"אֵ֥ת\" \"[<object marker>]\"\n",
      " 5          dt \"הַ\" \"[the]\"\n",
      " 5          n \"שָּׁמַ֖יִם\" \"[heavens]\"\n",
      " 4        cj \"וְ\" \"[and]\"\n",
      " 4        U\n",
      " 5          pp \"אֵ֥ת\" \"[<object marker>]\"\n",
      " 5          dt \"הָ\" \"[the]\"\n",
      " 5          n \"אָֽרֶץ\" \"[earth]\"\n"
     ]
    }
   ],
   "source": [
    "print(layout(structure(rawTree), firstSlot, phonoGloss, withLevel=True))"
   ]
  },
  {
   "cell_type": "markdown",
   "metadata": {},
   "source": [
    "# Exploring the space of tree structures\n",
    "\n",
    "Let us see how many distinct tree structures we've got."
   ]
  },
  {
   "cell_type": "code",
   "execution_count": 56,
   "metadata": {},
   "outputs": [
    {
     "name": "stdout",
     "output_type": "stream",
     "text": [
      "28096 distinct structures\n"
     ]
    }
   ],
   "source": [
    "trees = collections.Counter()\n",
    "for sNode in F.otype.s('sentence'):\n",
    "    trees[F.tree.v(sNode)] += 1\n",
    "print('{} distinct structures'.format(len(trees)))"
   ]
  },
  {
   "cell_type": "markdown",
   "metadata": {},
   "source": [
    "Let's see the most frequent structures."
   ]
  },
  {
   "cell_type": "code",
   "execution_count": 57,
   "metadata": {},
   "outputs": [
    {
     "name": "stdout",
     "output_type": "stream",
     "text": [
      "3772 x (S(C(CP(cj 0))(VP(vb 1))))\n",
      "1238 x (S(C(VP(vb 0))))\n",
      "1173 x (S(C(CP(cj 0))(VP(vb 1))(PP(pp 2))))\n",
      " 857 x (S(C(CP(cj 0))(VP(vb 1))(PP(pp 2)(n 3))))\n",
      " 749 x (S(C(CP(cj 0))(VP(vb 1))(NP(n 2))))\n",
      " 577 x (S(C(CP(cj 0))(VP(vb 1))(PrNP(n-pr 2))))\n",
      " 568 x (S(C(CP(cj 0))(VP(vb 1))(PP(pp 2)(dt 3)(n 4))))\n",
      " 554 x (S(C(VP(vb 0))(NP(n 1))))\n",
      " 441 x (S(C(CP(cj 0))(NegP(ng 1))(VP(vb 2))))\n",
      " 406 x (S(C(CP(cj 0))(VP(vb 1))(PP(pp 2)(n-pr 3))))\n",
      " 326 x (S(C(CP(cj 0))(VP(vb 1))(PrNP(n-pr 2))(PP(pp 3)(n-pr 4))))\n",
      " 314 x (S(C(NegP(ng 0))(VP(vb 1))))\n",
      " 310 x (S(C(CP(cj 0))(VP(vb 1))(NP(dt 2)(n 3))))\n",
      " 274 x (S(C(VP(vb 0))(PP(pp 1)(n 2))))\n",
      " 259 x (S(C(CP(cj 0))(VP(vb 1))(PP(pp 2)(U(n 3))(U(n 4)))))\n",
      " 257 x (S(C(NP(U(n 0))(U(n-pr 1)))))\n",
      " 238 x (S(C(CP(cj 0))(AdvP(av 1))))\n",
      " 227 x (S(C(CP(cj 0))(VP(vb 1))(PP(pp 2))(NP(n 3))))\n",
      " 226 x (S(C(CP(cj 0))(VP(vb 1))(PP(pp 2)(U(n 3))(U(n-pr 4)))))\n",
      " 216 x (S(C(NP(n 0))(VP(vb 1))))\n",
      " 207 x (S(C(CP(cj 0))(NP(n 1))(VP(vb 2))))\n",
      " 198 x (S(C(CP(cj 0))(VP(vb 1))(NP(n 2))(PP(pp 3)(n 4))))\n",
      " 198 x (S(C(VP(vb 0))(PP(pp 1))))\n",
      " 193 x (S(C(CP(cj 0))(VP(vb 1))(NP(U(n 2))(U(n 3)))))\n",
      " 183 x (S(C(CP(cj 0))(VP(vb 1))(PP(pp 2)(U(n 3))(U(dt 4)(n 5)))))\n",
      " 173 x (S(C(InjP(ij 0))))\n",
      " 145 x (S(C(CP(cj 0))(PP(pp 1)(n 2))(VP(vb 3))))\n",
      " 144 x (S(C(CP(cj 0))(VP(vb 1))(PP(pp 2))(PP(pp 3)(n 4))))\n",
      " 142 x (S(C(CP(cj 0))(VP(vb 1))(PrNP(n-pr 2))(PP(pp 3)(n 4))))\n",
      " 139 x (S(C(VP(vb 0))(PrNP(n-pr 1))))\n",
      " 138 x (S(C(PP(pp 0)(n 1))(VP(vb 2))))\n",
      " 134 x (S(C(VP(vb 0))(NP(n 1))(PP(pp 2)(n 3))))\n",
      " 133 x (S(C(CP(cj 0))(InjP(ij 1))))\n",
      " 127 x (S(C(AdvP(av 0))(VP(vb 1))(PrNP(n-pr 2))))\n",
      " 126 x (S(C(CP(cj 0))(VP(vb 1))(PrNP(n-pr 2))(PP(pp 3)(dt 4)(n 5))))\n",
      " 126 x (S(C(VP(vb 0))(PP(pp 1)(dt 2)(n 3))))\n",
      " 125 x (S(C(AdvP(av 0))))\n",
      " 121 x (S(C(CP(cj 0))(VP(vb 1))(PP(pp 2))(PrNP(n-pr 3))))\n",
      " 119 x (S(C(CP(cj 0))(PPrP(pr-ps 1))(VP(vb 2))))\n",
      " 113 x (S(C(CP(cj 0))(NP(U(n 1))(U(n 2)))(VP(vb 3))))\n",
      " 113 x (S(C(NP(n 0))))\n",
      " 109 x (S(C(AdvP(av 0))(VP(vb 1))(PrNP(U(n-pr 2))(U(n-pr 3)))))\n",
      " 108 x (S(C(CP(cj 0))(VP(vb 1))(NP(U(n 2))(U(n-pr 3)))))\n",
      "  97 x (S(C(CP(cj 0))(NP(n 1))(NegP(ng 2))(VP(vb 3))))\n",
      "  94 x (S(C(CP(cj 0))(PrNP(n-pr 1))(VP(vb 2))(PP(pp 3)(n-pr 4))))\n",
      "  94 x (S(C(CP(cj 0))(VP(vb 1))(PrNP(n-pr 2))(PP(pp 3)(n-pr 4))(Cadju(VP(pp 5)(vb 6)))))\n",
      "  93 x (S(C(CP(cj 0))(NegP(ng 1))(VP(vb 2))(PP(pp 3))))\n",
      "  93 x (S(C(VP(vb 0))(PP(pp 1)(U(n 2))(U(n 3)))))\n",
      "  92 x (S(C(NP(U(n 0))(U(n 1)))(VP(vb 2))))\n",
      "  92 x (S(C(VP(vb 0))(NP(U(n 1))(U(n 2)))))\n",
      "  88 x (S(C(CP(cj 0))(NegP(ng 1))(VP(vb 2))(PP(pp 3)(n 4))))\n",
      "  86 x (S(C(NP(U(n 0))(U(U(n-pr 1))(U(n-pr 2))))))\n",
      "  84 x (S(C(AdvP(av 0))(VP(vb 1))))\n",
      "  84 x (S(C(CP(cj 0))(VP(vb 1))(AdvP(av 2))))\n",
      "  83 x (S(C(CP(cj 0))(VP(vb 1))(NP(U(n 2))(U(dt 3)(n 4)))))\n",
      "  82 x (S(C(NegP(ng 0))(VP(vb 1))(NP(n 2))))\n",
      "  81 x (S(C(CP(cj 0))(VP(vb 1))(Cadju(VP(pp 2)(vb 3)))))\n",
      "  80 x (S(C(CP(cj 0))(VP(vb 1))(PP(pp 2))(NP(U(n 3))(U(n 4)))))\n",
      "  78 x (S(C(NP(U(n 0))(U(n 1)))))\n",
      "  78 x (S(C(VP(vb 0))(PP(pp 1)(n-pr 2))))\n",
      "  77 x (S(C(PP(pp 0)(U(n 1))(U(n 2)))(VP(vb 3))))\n",
      "  75 x (S(C(VP(vb 0))(NP(dt 1)(n 2))))\n",
      "  72 x (S(C(CP(cj 0))(VP(vb 1))(NP(n 2))(PP(pp 3)(dt 4)(n 5))))\n",
      "  72 x (S(C(PPrP(pr-ps 0))(VP(vb 1))))\n",
      "  71 x (S(C(CP(cj 0))(VP(vb 1))(NP(n 2))(PP(pp 3)(n-pr 4))))\n",
      "  71 x (S(C(CP(cj 0))(VP(vb 1))(NP(n 2))(PP(pp 3))))\n",
      "  70 x (S(C(NP(n 0))(PPrP(pr-ps 1))))\n",
      "  69 x (S(C(CP(cj 0))(VP(vb 1))(NP(U(n 2))(U(aj 3)))))\n",
      "  69 x (S(C(CP(cj 0))(VP(vb 1))(PP(pp 2))(NP(dt 3)(n 4))))\n",
      "  68 x (S(C(CP(cj 0))(VP(vb 1))(PP(pp 2)(dt 3)(n 4))(NP(n 5))))\n",
      "  68 x (S(C(CP(cj 0))(VP(vb 1))(PrNP(n-pr 2))(PP(pp 3)(U(n 4))(U(n-pr 5)))))\n",
      "  66 x (S(C(CP(cj 0))(VP(vb 1))(AdvP(n 2))))\n",
      "  66 x (S(C(CP(cj 0))(VP(vb 1))(PP(pp 2))(PP(pp 3)(dt 4)(n 5))))\n",
      "  65 x (S(C(CP(cj 0))(NP(n 1))(PP(pp 2)(n 3))(VP(vb 4))))\n",
      "  65 x (S(C(CP(cj 0))(VP(vb 1))(PrNP(n-pr 2))(PP(pp 3))))\n",
      "  65 x (S(C(VP(vb 0))(PP(pp 1))(NP(n 2))))\n",
      "  64 x (S(C(VP(vb 0))(PP(pp 1)(U(n 2))(U(n-pr 3)))))\n",
      "  63 x (S(C(CP(cj 0))(NegP(ng 1))(VP(vb 2))(NP(n 3))))\n",
      "  63 x (S(C(NegP(ng 0))(VP(vb 1))(PP(pp 2))))\n",
      "  62 x (S(C(CP(cj 0))(VP(vb 1))(NP(U(n 2))(cj 3)(U(n 4)))))\n",
      "  60 x (S(C(CP(cj 0))(NP(n 1))(VP(vb 2))(PP(pp 3))))\n",
      "  60 x (S(C(NP(n 0))(VP(vb 1))(PP(pp 2)(n 3))))\n",
      "  60 x (S(C(NegP(ng 0))(VP(vb 1))(PP(pp 2)(n 3))))\n",
      "  59 x (S(C(PPrP(pr-ps 0))(PrNP(n-pr 1))))\n",
      "  57 x (S(C(CP(cj 0))(NP(U(n 1))(U(aj 2)))(VP(vb 3))))\n",
      "  57 x (S(C(CP(cj 0))(NP(n 1))(PP(pp 2)(n 3))))\n",
      "  57 x (S(C(CP(cj 0))(VP(vb 1))(NP(dt 2)(n 3))(PP(pp 4)(n-pr 5))))\n",
      "  57 x (S(C(PP(pp 0)(dt 1)(n 2))(VP(vb 3))))\n",
      "  56 x (S(C(AdjP(aj 0))(PPrP(pr-ps 1))))\n",
      "  56 x (S(C(PP(pp 0)(n 1))(VP(vb 2))(NP(n 3))))\n",
      "  54 x (S(C(CP(cj 0))(NP(n 1))(VP(vb 2))(NP(n 3))))\n",
      "  54 x (S(C(CP(cj 0))(PrNP(n-pr 1))(VP(vb 2))))\n",
      "  54 x (S(C(CP(cj 0))(VP(vb 1))(NP(dt 2)(n 3))(PP(pp 4)(dt 5)(n 6))))\n",
      "  54 x (S(C(PP(pp 0)(dt 1)(vb 2))))\n",
      "  53 x (S(C(CP(cj 0))(AdvP(av 1))(VP(vb 2))))\n",
      "  52 x (S(C(NP(n 0))(VP(vb 1))(PP(pp 2))))\n",
      "  51 x (S(C(CP(cj 0))(VP(vb 1))(NP(U(n 2))(U(n-pr 3)))(PP(pp 4))(Cadju(VP(pp 5)(vb 6)))))\n",
      "  51 x (S(C(CP(cj 0))(VP(vb 1))(NP(dt 2)(n 3))(PP(pp 4)(n 5))))\n",
      "  51 x (S(C(PP(pp 0)(n-pr 1)(U(n 2))(U(dt 3)(aj 4)))))\n",
      "  50 x (S(C(InrP(ir 0))(VP(vb 1))))\n"
     ]
    }
   ],
   "source": [
    "for (tree, nOccs) in sorted(trees.items(), key=lambda x: (-x[1], x[0])):\n",
    "    if nOccs < 50: break\n",
    "    print('{:>4} x {}'.format(nOccs, tree))"
   ]
  },
  {
   "cell_type": "markdown",
   "metadata": {},
   "source": [
    "# Distribution by depth\n",
    "\n",
    "We show the frequency distribution of the depths of trees.\n",
    "\n",
    "We have to define a depth function based on the structure of a tree."
   ]
  },
  {
   "cell_type": "code",
   "execution_count": 66,
   "metadata": {},
   "outputs": [],
   "source": [
    "def depth(structs):\n",
    "    if type(structs) is list:\n",
    "        return max(depth(struct) for struct in structs) + 1\n",
    "    else:\n",
    "        return 0"
   ]
  },
  {
   "cell_type": "code",
   "execution_count": 67,
   "metadata": {},
   "outputs": [],
   "source": [
    "depths = collections.Counter()\n",
    "for s in F.otype.s('sentence'):\n",
    "    d = depth(structure(F.tree.v(s)))\n",
    "    depths[d] += 1"
   ]
  },
  {
   "cell_type": "code",
   "execution_count": 70,
   "metadata": {},
   "outputs": [
    {
     "name": "stdout",
     "output_type": "stream",
     "text": [
      "30616 sentences of depth  4\n",
      "19107 sentences of depth  5\n",
      " 8655 sentences of depth  6\n",
      " 3499 sentences of depth  7\n",
      " 1148 sentences of depth  8\n",
      "  472 sentences of depth  9\n",
      "  138 sentences of depth 10\n",
      "   56 sentences of depth 11\n",
      "   17 sentences of depth 12\n",
      "    2 sentences of depth 13\n",
      "    1 sentence  of depth 14\n"
     ]
    }
   ],
   "source": [
    "for (d, amount) in sorted(depths.items(), key=lambda x: (-x[1], x[0])):\n",
    "    print('{:>5} sentence{} of depth {:>2}'.format(amount, ' ' if amount == 1 else 's', d))"
   ]
  },
  {
   "cell_type": "markdown",
   "metadata": {},
   "source": [
    "## The \"deepest\" trees\n",
    "We gather all trees with a depth of at least 12."
   ]
  },
  {
   "cell_type": "code",
   "execution_count": 71,
   "metadata": {},
   "outputs": [
    {
     "name": "stdout",
     "output_type": "stream",
     "text": [
      "There are 20 sentences with a tree depth of at least 12\n"
     ]
    }
   ],
   "source": [
    "limit = 12\n",
    "deepTrees = []\n",
    "for s in F.otype.s('sentence'):\n",
    "    d = depth(structure(F.tree.v(s)))\n",
    "    if d >= limit:\n",
    "        deepTrees.append((s, d))\n",
    "print('There are {} sentences with a tree depth of at least {}'.format(\n",
    "    len(deepTrees),\n",
    "    limit,\n",
    "))"
   ]
  },
  {
   "cell_type": "code",
   "execution_count": 72,
   "metadata": {
    "scrolled": false
   },
   "outputs": [
    {
     "name": "stdout",
     "output_type": "stream",
     "text": [
      "\n",
      "Jeremiah 44:2 depth  14\n",
      " 1  S\n",
      " 2    C\n",
      " 3      PPrP\n",
      " 4        pr-ps \"אַתֶּ֣ם\" \"[you]\"\n",
      " 3      VP\n",
      " 4        vb \"רְאִיתֶ֗ם\" \"[see]\"\n",
      " 3      PP\n",
      " 4        pp \"אֵ֤ת\" \"[<object marker>]\"\n",
      " 4        U\n",
      " 5          n \"כָּל\" \"[whole]\"\n",
      " 4        U\n",
      " 5          dt \"הָֽ\" \"[the]\"\n",
      " 5          n \"רָעָה֙\" \"[evil]\"\n",
      " 4        Cattr\n",
      " 5          CP\n",
      " 6            cj \"אֲשֶׁ֤ר\" \"[<relative>]\"\n",
      " 5          VP\n",
      " 6            vb \"הֵבֵ֨אתִי֙\" \"[come]\"\n",
      " 5          PP\n",
      " 6            U\n",
      " 7              pp \"עַל\" \"[upon]\"\n",
      " 7              n-pr \"יְר֣וּשָׁלִַ֔ם\" \"[Jerusalem]\"\n",
      " 6            cj \"וְ\" \"[and]\"\n",
      " 6            U\n",
      " 7              pp \"עַ֖ל\" \"[upon]\"\n",
      " 7              U\n",
      " 8                n \"כָּל\" \"[whole]\"\n",
      " 7              U\n",
      " 8                U\n",
      " 9                  n \"עָרֵ֣י\" \"[town]\"\n",
      " 8                U\n",
      " 9                  n-pr \"יְהוּדָ֑ה\" \"[Judah]\"\n",
      " 5          PP\n",
      " 6            pp \"מִ\" \"[from]\"\n",
      " 6            U\n",
      " 7              n \"פְּנֵ֣י\" \"[face]\"\n",
      " 6            U\n",
      " 7              n \"רָעָתָ֗ם\" \"[evil]\"\n",
      " 7              Cattr\n",
      " 8                CP\n",
      " 9                  cj \"אֲשֶׁ֤ר\" \"[<relative>]\"\n",
      " 8                VP\n",
      " 9                  vb \"עָשׂוּ֙\" \"[make]\"\n",
      " 8                Cadju\n",
      " 9                  VP\n",
      "10                    pp \"לְ\" \"[to]\"\n",
      "10                    vb \"הַכְעִסֵ֔נִי\" \"[be discontent]\"\n",
      " 9                  Cadju\n",
      "10                    VP\n",
      "11                      pp \"לָ\" \"[to]\"\n",
      "11                      vb \"לֶ֣כֶת\" \"[walk]\"\n",
      "10                    Cadju\n",
      "11                      VP\n",
      "12                        pp \"לְ\" \"[to]\"\n",
      "12                        vb \"קַטֵּ֔ר\" \"[smoke]\"\n",
      "10                    Cadju\n",
      "11                      VP\n",
      "12                        pp \"לַ\" \"[to]\"\n",
      "12                        vb \"עֲבֹ֖ד\" \"[work, serve]\"\n",
      "11                      PP\n",
      "12                        pp \"לֵ\" \"[to]\"\n",
      "12                        U\n",
      "13                          n \"אלֹהִ֣ים\" \"[god(s)]\"\n",
      "12                        U\n",
      "13                          aj \"אֲחֵרִ֑ים\" \"[other]\"\n",
      "12                        Cattr\n",
      "13                          CP\n",
      "14                            cj \"אֲשֶׁר֙\" \"[<relative>]\"\n",
      "13                          NegP\n",
      "14                            ng \"לֹ֣א\" \"[not]\"\n",
      "13                          VP\n",
      "14                            vb \"יְדָע֔וּם\" \"[know]\"\n",
      " 2    C\n",
      " 3      PPrP\n",
      " 4        U\n",
      " 5          pr-ps \"הֵ֖מָּה\" \"[they]\"\n",
      " 4        U\n",
      " 5          U\n",
      " 6            pr-ps \"אַתֶּ֥ם\" \"[you]\"\n",
      " 5          cj \"וַ\" \"[and]\"\n",
      " 5          U\n",
      " 6            n \"אֲבֹתֵיכֶֽם\" \"[father]\"\n",
      "\n",
      "\n",
      "Exodus 36:1 depth  13\n",
      " 1  S\n",
      " 2    C\n",
      " 3      CP\n",
      " 4        cj \"וְ\" \"[and]\"\n",
      " 3      VP\n",
      " 4        vb \"עָשָׂה֩\" \"[make]\"\n",
      " 3      PrNP\n",
      " 4        U\n",
      " 5          n-pr \"בְצַלְאֵ֨ל\" \"[Bezalel]\"\n",
      " 4        cj \"וְ\" \"[and]\"\n",
      " 4        U\n",
      " 5          n-pr \"אָהֳלִיאָ֜ב\" \"[Oholiab]\"\n",
      " 4        cj \"וְ\" \"[and]\"\n",
      " 4        U\n",
      " 5          n \"כֹ֣ל\" \"[whole]\"\n",
      " 4        U\n",
      " 5          U\n",
      " 6            n \"אִ֣ישׁ\" \"[man]\"\n",
      " 6            Cattr\n",
      " 7              CP\n",
      " 8                cj \"אֲשֶׁר֩\" \"[<relative>]\"\n",
      " 7              VP\n",
      " 8                vb \"נָתַ֨ן\" \"[give]\"\n",
      " 7              PrNP\n",
      " 8                n-pr \"יְהוָ֜ה\" \"[YHWH]\"\n",
      " 7              NP\n",
      " 8                U\n",
      " 9                  n \"חָכְמָ֤ה\" \"[wisdom]\"\n",
      " 8                cj \"וּ\" \"[and]\"\n",
      " 8                U\n",
      " 9                  n \"תְבוּנָה֙\" \"[understanding]\"\n",
      " 7              PP\n",
      " 8                pp \"בָּ\" \"[in]\"\n",
      " 8                pr-ps \"הֵ֔מָּה\" \"[they]\"\n",
      " 7              Cadju\n",
      " 8                VP\n",
      " 9                  pp \"לָ\" \"[to]\"\n",
      " 9                  vb \"דַ֣עַת\" \"[know]\"\n",
      " 8                Cadju\n",
      " 9                  VP\n",
      "10                    pp \"לַ\" \"[to]\"\n",
      "10                    vb \"עֲשֹׂ֔ת\" \"[make]\"\n",
      " 9                  PP\n",
      "10                    pp \"אֶֽת\" \"[<object marker>]\"\n",
      "10                    U\n",
      "11                      n \"כָּל\" \"[whole]\"\n",
      "10                    U\n",
      "11                      U\n",
      "12                        n \"מְלֶ֖אכֶת\" \"[work]\"\n",
      "11                      U\n",
      "12                        U\n",
      "13                          n \"עֲבֹדַ֣ת\" \"[work]\"\n",
      "12                        U\n",
      "13                          dt \"הַ\" \"[the]\"\n",
      "13                          n \"קֹּ֑דֶשׁ\" \"[holiness]\"\n",
      " 9                  PP\n",
      "10                    pp \"לְ\" \"[to]\"\n",
      "10                    n \"כֹ֥ל\" \"[whole]\"\n",
      "10                    Cattr\n",
      "11                      CP\n",
      "12                        cj \"אֲשֶׁר\" \"[<relative>]\"\n",
      "11                      VP\n",
      "12                        vb \"צִוָּ֖ה\" \"[command]\"\n",
      "11                      PrNP\n",
      "12                        n-pr \"יְהוָֽה\" \"[YHWH]\"\n",
      " 5          U\n",
      " 6            U\n",
      " 7              aj \"חֲכַם\" \"[wise]\"\n",
      " 6            U\n",
      " 7              n \"לֵ֗ב\" \"[heart]\"\n",
      "\n",
      "\n",
      "Deuteronomy 4:45 depth  13\n",
      "\n",
      "Exodus 29:27 depth  12\n",
      "\n",
      "Exodus 34:6 depth  12\n",
      "\n",
      "Numbers 14:22 depth  12\n",
      "\n",
      "Deuteronomy 11:2 depth  12\n",
      "\n",
      "Joshua 5:6 depth  12\n",
      "\n",
      "Joshua 24:31 depth  12\n",
      "\n",
      "2_Samuel 7:23 depth  12\n",
      "\n",
      "1_Kings 8:38 depth  12\n",
      "\n",
      "1_Kings 9:1 depth  12\n",
      "\n",
      "1_Kings 16:18 depth  12\n",
      "\n",
      "Jeremiah 44:14 depth  12\n",
      "\n",
      "Ezekiel 21:33 depth  12\n",
      "\n",
      "Zechariah 8:9 depth  12\n",
      "\n",
      "Psalms 18:1 depth  12\n",
      "\n",
      "Esther 8:5 depth  12\n",
      "\n",
      "Daniel 6:8 depth  12\n",
      "\n",
      "Nehemiah 9:7 depth  12\n"
     ]
    }
   ],
   "source": [
    "for (i, (s, d)) in enumerate(sorted(deepTrees, key=lambda x: (-x[1], x[0]))):\n",
    "    firstSlot = L.d(s, otype='word')[0]\n",
    "    print('\\n{} {}:{} depth {:>3}'.format(\n",
    "        *T.sectionFromNode(s), \n",
    "        d,\n",
    "    ))\n",
    "    if i > 1: continue\n",
    "    print('{}\\n'.format(\n",
    "        layout(structure(F.tree.v(s)), firstSlot, phonoGloss, withLevel=True),\n",
    "    ))"
   ]
  },
  {
   "cell_type": "markdown",
   "metadata": {},
   "source": [
    "And this is just the beginning..."
   ]
  },
  {
   "cell_type": "code",
   "execution_count": null,
   "metadata": {},
   "outputs": [],
   "source": []
  }
 ],
 "metadata": {
  "kernelspec": {
   "display_name": "Python 3",
   "language": "python",
   "name": "python3"
  },
  "language_info": {
   "codemirror_mode": {
    "name": "ipython",
    "version": 3
   },
   "file_extension": ".py",
   "mimetype": "text/x-python",
   "name": "python",
   "nbconvert_exporter": "python",
   "pygments_lexer": "ipython3",
   "version": "3.6.2"
  }
 },
 "nbformat": 4,
 "nbformat_minor": 1
}
