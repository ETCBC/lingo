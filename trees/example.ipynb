{
 "cells": [
  {
   "cell_type": "markdown",
   "metadata": {},
   "source": [
    "<img align=\"right\" src=\"images/dans-small.png\"/>\n",
    "<img align=\"right\" src=\"images/tf-small.png\"/>\n",
    "<img align=\"right\" src=\"images/etcbc.png\"/>"
   ]
  },
  {
   "cell_type": "markdown",
   "metadata": {},
   "source": [
    "# Trees - for BHSA data (Hebrew)"
   ]
  },
  {
   "cell_type": "markdown",
   "metadata": {},
   "source": [
    "This notebook makes use of the syntax trees composed by \n",
    "[trees.ipynb](trees.ipynb).\n",
    "\n",
    "The feature `tree` holds for each sentence a\n",
    "[Penn Treebank notation](https://en.wikipedia.org/wiki/Treebank) structure,\n",
    "like this (Genesis 1:1):\n",
    "\n",
    "```\n",
    "(S(C(PP(pp 0)(n 1))(VP(vb 2))(NP(n 3))(PP(U(pp 4)(dt 5)(n 6))(cj 7)(U(pp 8)(dt 9)(n 10)))))\n",
    "```\n",
    "\n",
    "## Overview\n",
    "### Multiple serializations\n",
    "The numbers are the leave nodes. You can replace them by concrete words by adding the slot number of the \n",
    "first word of the sentence to it, and then substituting the values of textual features for it.\n",
    "\n",
    "Like this\n",
    "\n",
    "```\n",
    "(S(C(PP(pp בְּ)(n רֵאשִׁ֖ית))(VP(vb בָּרָ֣א))(NP(n אֱלֹהִ֑ים))(PP(U(pp אֵ֥ת)(dt הַ)(n שָּׁמַ֖יִם))(cj וְ)(U(pp אֵ֥ת)(dt הָ)(n אָֽרֶץ)))))\n",
    "```\n",
    "\n",
    "or this\n",
    "\n",
    "```\n",
    "(S(C(PP(pp bᵊ)(n rēšˌîṯ))(VP(vb bārˈā))(NP(n ʔᵉlōhˈîm))(PP(U(pp ʔˌēṯ)(dt ha)(n ššāmˌayim))(cj wᵊ)(U(pp ʔˌēṯ)(dt hā)(n ʔˈāreṣ)))))\n",
    "```\n",
    "\n",
    "or even this\n",
    "\n",
    "```\n",
    " 1  S\n",
    " 2    C\n",
    " 3      PP\n",
    " 4        pp \"בְּ\" \"[in]\"\n",
    " 4        n \"רֵאשִׁ֖ית\" \"[beginning]\"\n",
    " 3      VP\n",
    " 4        vb \"בָּרָ֣א\" \"[create]\"\n",
    " 3      NP\n",
    " 4        n \"אֱלֹהִ֑ים\" \"[god(s)]\"\n",
    " 3      PP\n",
    " 4        U\n",
    " 5          pp \"אֵ֥ת\" \"[<object marker>]\"\n",
    " 5          dt \"הַ\" \"[the]\"\n",
    " 5          n \"שָּׁמַ֖יִם\" \"[heavens]\"\n",
    " 4        cj \"וְ\" \"[and]\"\n",
    " 4        U\n",
    " 5          pp \"אֵ֥ת\" \"[<object marker>]\"\n",
    " 5          dt \"הָ\" \"[the]\"\n",
    " 5          n \"אָֽרֶץ\" \"[earth]\"\n",
    "```\n",
    "\n",
    "We shall show how.\n",
    "\n",
    "### Structure analysis\n",
    "And you can now investigate the \"bare\" syntax of sentences, group them, filter them.\n",
    "It turns out that there are roughly half as many distinct syntaxes as there are sentences, while\n",
    "some sentence syntaxes occur thousands of times.\n",
    "\n",
    "We proceed by showing the sentences whose trees have a depth at least 10.\n",
    "\n",
    "### Intrusions and inversions\n",
    "The word order in the trees is not always the surface word order of the text, due to the way the trees\n",
    "have been constructed from the BHSA data.\n",
    "For a description of the issue, see [trees.ipynb](trees.ipynb).\n",
    "\n",
    "Below we give examples."
   ]
  },
  {
   "cell_type": "code",
   "execution_count": 1,
   "metadata": {},
   "outputs": [],
   "source": [
    "%load_ext autoreload\n",
    "%autoreload 2\n",
    "\n",
    "import sys\n",
    "import os\n",
    "import collections\n",
    "import re\n",
    "import operator\n",
    "from functools import reduce\n",
    "\n",
    "from tf.fabric import Fabric\n",
    "\n",
    "from utils import structure, layout"
   ]
  },
  {
   "cell_type": "markdown",
   "metadata": {},
   "source": [
    "# Load data\n",
    "We load the some features of the\n",
    "[BHSA](https://github.com/etcbc/bhsa) data.\n",
    "See the [feature documentation](https://etcbc.github.io/bhsa/features/hebrew/2017/0_home.html) for more info.\n",
    "We also load phonetic representations provided by the\n",
    "[phono](https://github.com/etcbc/phono) module."
   ]
  },
  {
   "cell_type": "code",
   "execution_count": 2,
   "metadata": {},
   "outputs": [],
   "source": [
    "VERSION = '2017'\n",
    "BHSA = 'BHSA/tf/{}'.format(VERSION)\n",
    "TREES = 'lingo/trees/tf/{}'.format(VERSION)\n",
    "OSM = 'bridging/tf/{}'.format(VERSION)\n",
    "PHONO = 'phono/tf/{}'.format(VERSION)"
   ]
  },
  {
   "cell_type": "code",
   "execution_count": 3,
   "metadata": {},
   "outputs": [
    {
     "name": "stdout",
     "output_type": "stream",
     "text": [
      "This is Text-Fabric 3.1.1\n",
      "Api reference : https://github.com/Dans-labs/text-fabric/wiki/Api\n",
      "Tutorial      : https://github.com/Dans-labs/text-fabric/blob/master/docs/tutorial.ipynb\n",
      "Example data  : https://github.com/Dans-labs/text-fabric-data\n",
      "\n",
      "121 features found and 0 ignored\n",
      "  0.00s loading features ...\n",
      "   |     0.22s B g_cons_utf8          from /Users/dirk/github/etcbc/BHSA/tf/2017\n",
      "   |     0.21s B g_word_utf8          from /Users/dirk/github/etcbc/BHSA/tf/2017\n",
      "   |     0.22s B phono                from /Users/dirk/github/etcbc/phono/tf/2017\n",
      "   |     0.00s B gloss                from /Users/dirk/github/etcbc/BHSA/tf/2017\n",
      "   |     0.14s B osm                  from /Users/dirk/github/etcbc/bridging/tf/2017\n",
      "   |     0.05s B tree                 from /Users/dirk/github/etcbc/lingo/trees/tf/2017\n",
      "   |     0.00s Feature overview: 114 for nodes; 5 for edges; 2 configs; 7 computed\n",
      "  5.44s All features loaded/computed - for details use loadLog()\n"
     ]
    }
   ],
   "source": [
    "TF = Fabric(locations='~/github/etcbc', modules=[BHSA, TREES, PHONO, OSM])\n",
    "api = TF.load(f'''\n",
    "    g_word_utf8 g_cons_utf8 gloss\n",
    "    phono\n",
    "    osm\n",
    "    tree\n",
    "''')\n",
    "api.makeAvailableIn(globals())"
   ]
  },
  {
   "cell_type": "markdown",
   "metadata": {},
   "source": [
    "# Multiple serializations - step by step\n",
    "## The raw tree"
   ]
  },
  {
   "cell_type": "markdown",
   "metadata": {},
   "source": [
    "Let us print the tree of Genesis 1:1."
   ]
  },
  {
   "cell_type": "code",
   "execution_count": 4,
   "metadata": {},
   "outputs": [
    {
     "name": "stdout",
     "output_type": "stream",
     "text": [
      "Genesis 1:1 - first word = 1\n",
      "tree = (S(C(PP(pp 0)(n 1))(VP(vb 2))(NP(n 3))(PP(U(pp 4)(dt 5)(n 6))(cj 7)(U(pp 8)(dt 9)(n 10)))))\n"
     ]
    }
   ],
   "source": [
    "passage = ('Genesis', 1, 1)\n",
    "verseNode = T.nodeFromSection(passage)\n",
    "sentenceNode = L.d(verseNode, otype='sentence')[0]\n",
    "firstSlot = L.d(sentenceNode, otype='word')[0]\n",
    "rawTree = F.tree.v(sentenceNode)\n",
    "print('{} {}:{} - first word = {}\\ntree = {}'.format(*passage, firstSlot, rawTree))"
   ]
  },
  {
   "cell_type": "markdown",
   "metadata": {},
   "source": [
    "## Filling in the numbers\n",
    "We replace the word numbers in the leaves by actual representations of those words.\n",
    "\n",
    "First we define a helper function `fillWords`\n",
    "that finds all numerals in a string so that we can replace them with desired representations.\n",
    "\n",
    "Note, that we have to take the start position of the sentence into account,\n",
    "since the numbering of the terminal nodes is relative to the sentence.\n",
    "By adding the start position we obtain absolute positions of the words in the corpus,\n",
    "and these are the proxies by which Text-Fabric obtains their features."
   ]
  },
  {
   "cell_type": "code",
   "execution_count": 5,
   "metadata": {},
   "outputs": [],
   "source": [
    "numPattern = re.compile('[0-9]+')\n",
    "\n",
    "def fillWords(tree, start, wordRep):\n",
    "    def numReplace(match):\n",
    "        return wordRep(int(match.group(0)) + start)\n",
    "    return numPattern.sub(numReplace, tree)"
   ]
  },
  {
   "cell_type": "markdown",
   "metadata": {},
   "source": [
    "Now we can get the phonetic representation as a matter of filling in the dots.\n",
    "\n",
    "Note that `F.phono.v` is a *function*, taking a slot number and returning the value of the feature `phono`\n",
    "for the word occupying that slot number."
   ]
  },
  {
   "cell_type": "code",
   "execution_count": 6,
   "metadata": {},
   "outputs": [
    {
     "data": {
      "text/plain": [
       "'(S(C(PP(pp bᵊ)(n rēšˌîṯ))(VP(vb bārˈā))(NP(n ʔᵉlōhˈîm))(PP(U(pp ʔˌēṯ)(dt ha)(n ššāmˌayim))(cj wᵊ)(U(pp ʔˌēṯ)(dt hā)(n ʔˈāreṣ)))))'"
      ]
     },
     "execution_count": 6,
     "metadata": {},
     "output_type": "execute_result"
    }
   ],
   "source": [
    "fillWords(rawTree, firstSlot, F.phono.v)"
   ]
  },
  {
   "cell_type": "markdown",
   "metadata": {},
   "source": [
    "Likewise the consonantal representation:"
   ]
  },
  {
   "cell_type": "code",
   "execution_count": 7,
   "metadata": {},
   "outputs": [
    {
     "data": {
      "text/plain": [
       "'(S(C(PP(pp ב)(n ראשׁית))(VP(vb ברא))(NP(n אלהים))(PP(U(pp את)(dt ה)(n שׁמים))(cj ו)(U(pp את)(dt ה)(n ארץ)))))'"
      ]
     },
     "execution_count": 7,
     "metadata": {},
     "output_type": "execute_result"
    }
   ],
   "source": [
    "fillWords(rawTree, firstSlot, F.g_cons_utf8.v)"
   ]
  },
  {
   "cell_type": "markdown",
   "metadata": {},
   "source": [
    "And the fully pointed one:"
   ]
  },
  {
   "cell_type": "code",
   "execution_count": 8,
   "metadata": {},
   "outputs": [
    {
     "data": {
      "text/plain": [
       "'(S(C(PP(pp בְּ)(n רֵאשִׁ֖ית))(VP(vb בָּרָ֣א))(NP(n אֱלֹהִ֑ים))(PP(U(pp אֵ֥ת)(dt הַ)(n שָּׁמַ֖יִם))(cj וְ)(U(pp אֵ֥ת)(dt הָ)(n אָֽרֶץ)))))'"
      ]
     },
     "execution_count": 8,
     "metadata": {},
     "output_type": "execute_result"
    }
   ],
   "source": [
    "fillWords(rawTree, firstSlot, F.g_word_utf8.v)"
   ]
  },
  {
   "cell_type": "markdown",
   "metadata": {},
   "source": [
    "## Multiline display\n",
    "\n",
    "In many cases, multiline display is better.\n",
    "In order to do that, we need to parse the brackets.\n",
    "\n",
    "Next to this notebook is a module `utils.py` with the function `structure(rawTree)` which \n",
    "delivers a nested list that corresponds to the tree structure.\n",
    "\n",
    "Here you see it in action."
   ]
  },
  {
   "cell_type": "code",
   "execution_count": 9,
   "metadata": {},
   "outputs": [
    {
     "data": {
      "text/plain": [
       "['S',\n",
       " ['C',\n",
       "  ['PP', [('pp', 0)], [('n', 1)]],\n",
       "  ['VP', [('vb', 2)]],\n",
       "  ['NP', [('n', 3)]],\n",
       "  ['PP',\n",
       "   ['U', [('pp', 4)], [('dt', 5)], [('n', 6)]],\n",
       "   [('cj', 7)],\n",
       "   ['U', [('pp', 8)], [('dt', 9)], [('n', 10)]]]]]"
      ]
     },
     "execution_count": 9,
     "metadata": {},
     "output_type": "execute_result"
    }
   ],
   "source": [
    "structure(rawTree)"
   ]
  },
  {
   "cell_type": "markdown",
   "metadata": {},
   "source": [
    "We can display it a bit more friendly with the `layout(structuredTree, firstSlot, terminalRep)` function,\n",
    "also in `utils.py`.\n",
    "\n",
    "The `terminalRep` function should take a slot number and return a string.\n",
    "The number is the slot number of a leave node.\n",
    "Here we just represent the number as a numeral."
   ]
  },
  {
   "cell_type": "code",
   "execution_count": 10,
   "metadata": {},
   "outputs": [
    {
     "name": "stdout",
     "output_type": "stream",
     "text": [
      "  S\n",
      "    C\n",
      "      PP\n",
      "        pp 1\n",
      "        n 2\n",
      "      VP\n",
      "        vb 3\n",
      "      NP\n",
      "        n 4\n",
      "      PP\n",
      "        U\n",
      "          pp 5\n",
      "          dt 6\n",
      "          n 7\n",
      "        cj 8\n",
      "        U\n",
      "          pp 9\n",
      "          dt 10\n",
      "          n 11\n"
     ]
    }
   ],
   "source": [
    "print(layout(structure(rawTree), firstSlot, str))"
   ]
  },
  {
   "cell_type": "markdown",
   "metadata": {},
   "source": [
    "Note that the `layout()` function will call `terminalRep()`\n",
    "with the numbers found at the leaves increased by `firstSlot`.\n",
    "\n",
    "Hence you do not see the numbers 0-10, but the numbers 1-11.\n",
    "\n",
    "To illustrate the point, let us compute a layout for the third sentence of Genesis 1:3."
   ]
  },
  {
   "cell_type": "code",
   "execution_count": 11,
   "metadata": {},
   "outputs": [
    {
     "name": "stdout",
     "output_type": "stream",
     "text": [
      "(S(C(CP(cj 0))(VP(vb 1))(NP(n 2))))\n",
      "וַֽיְהִי־אֹֽור׃ \n",
      "  S\n",
      "    C\n",
      "      CP\n",
      "        cj 37\n",
      "      VP\n",
      "        vb 38\n",
      "      NP\n",
      "        n 39\n"
     ]
    }
   ],
   "source": [
    "sentence2 = L.d(\n",
    "    T.nodeFromSection(('Genesis', 1, 3)),\n",
    "    otype='sentence'\n",
    ")[2]\n",
    "\n",
    "words = L.d(\n",
    "    sentence2,\n",
    "    otype='word'\n",
    ")\n",
    "\n",
    "print(F.tree.v(sentence2))\n",
    "print(T.text(words))\n",
    "\n",
    "firstSlot2 = words[0]\n",
    "\n",
    "print(\n",
    "    layout(\n",
    "        structure(\n",
    "            F.tree.v(\n",
    "                sentence2,\n",
    "            ),\n",
    "        ), firstSlot2, str,\n",
    "    )\n",
    ")"
   ]
  },
  {
   "cell_type": "markdown",
   "metadata": {},
   "source": [
    "We can now easily substitute in full word representations, as we did above.\n",
    "\n",
    "Let's get fancy: we want to represent each word with its phonetic translation between quotes and\n",
    "a gloss between square brackets.\n",
    "\n",
    "The only thing we have to write is function `phonoGloss` that gives this in return for a slot number.\n",
    "\n",
    "And while we're at it, we also want to see the level of the nodes in question.\n",
    "We can achieve this by passing an extra parameter: `withLevel`."
   ]
  },
  {
   "cell_type": "code",
   "execution_count": 12,
   "metadata": {},
   "outputs": [],
   "source": [
    "def phonoGloss(n):\n",
    "    return '\"{}\" \"[{}]\"'.format(\n",
    "        F.phono.v(n),\n",
    "        F.gloss.v(L.u(n, otype='lex')[0]),\n",
    "    )"
   ]
  },
  {
   "cell_type": "code",
   "execution_count": 13,
   "metadata": {},
   "outputs": [
    {
     "name": "stdout",
     "output_type": "stream",
     "text": [
      " 1  S\n",
      " 2    C\n",
      " 3      PP\n",
      " 4        pp \"bᵊ\" \"[in]\"\n",
      " 4        n \"rēšˌîṯ\" \"[beginning]\"\n",
      " 3      VP\n",
      " 4        vb \"bārˈā\" \"[create]\"\n",
      " 3      NP\n",
      " 4        n \"ʔᵉlōhˈîm\" \"[god(s)]\"\n",
      " 3      PP\n",
      " 4        U\n",
      " 5          pp \"ʔˌēṯ\" \"[<object marker>]\"\n",
      " 5          dt \"ha\" \"[the]\"\n",
      " 5          n \"ššāmˌayim\" \"[heavens]\"\n",
      " 4        cj \"wᵊ\" \"[and]\"\n",
      " 4        U\n",
      " 5          pp \"ʔˌēṯ\" \"[<object marker>]\"\n",
      " 5          dt \"hā\" \"[the]\"\n",
      " 5          n \"ʔˈāreṣ\" \"[earth]\"\n"
     ]
    }
   ],
   "source": [
    "print(layout(structure(rawTree), firstSlot, phonoGloss, withLevel=True))"
   ]
  },
  {
   "cell_type": "markdown",
   "metadata": {},
   "source": [
    "Why not add the OpenScriptures morphology string for each word?\n",
    "We add it at the start of each terminal, between braces."
   ]
  },
  {
   "cell_type": "code",
   "execution_count": 14,
   "metadata": {},
   "outputs": [
    {
     "name": "stdout",
     "output_type": "stream",
     "text": [
      " 1  S\n",
      " 2    C\n",
      " 3      PP\n",
      " 4        pp {HR}\"bᵊ\" \"[in]\"\n",
      " 4        n {HNcfsa}\"rēšˌîṯ\" \"[beginning]\"\n",
      " 3      VP\n",
      " 4        vb {HVqp3ms}\"bārˈā\" \"[create]\"\n",
      " 3      NP\n",
      " 4        n {HNcmpa}\"ʔᵉlōhˈîm\" \"[god(s)]\"\n",
      " 3      PP\n",
      " 4        U\n",
      " 5          pp {HTo}\"ʔˌēṯ\" \"[<object marker>]\"\n",
      " 5          dt {HTd}\"ha\" \"[the]\"\n",
      " 5          n {HNcmpa}\"ššāmˌayim\" \"[heavens]\"\n",
      " 4        cj {HC}\"wᵊ\" \"[and]\"\n",
      " 4        U\n",
      " 5          pp {HTo}\"ʔˌēṯ\" \"[<object marker>]\"\n",
      " 5          dt {HTd}\"hā\" \"[the]\"\n",
      " 5          n {HNcbsa}\"ʔˈāreṣ\" \"[earth]\"\n"
     ]
    }
   ],
   "source": [
    "def osmPhonoGloss(n):\n",
    "    return '{{{}}}\"{}\" \"[{}]\"'.format(\n",
    "        F.osm.v(n),\n",
    "        F.phono.v(n),\n",
    "        F.gloss.v(L.u(n, otype='lex')[0]),\n",
    "    )\n",
    "print(layout(structure(rawTree), firstSlot, osmPhonoGloss, withLevel=True))"
   ]
  },
  {
   "cell_type": "markdown",
   "metadata": {},
   "source": [
    "# Structure analysis\n",
    "\n",
    "Let us see how many distinct tree structures we've got."
   ]
  },
  {
   "cell_type": "code",
   "execution_count": 15,
   "metadata": {},
   "outputs": [
    {
     "name": "stdout",
     "output_type": "stream",
     "text": [
      "28096 distinct structures\n"
     ]
    }
   ],
   "source": [
    "trees = collections.Counter()\n",
    "for sNode in F.otype.s('sentence'):\n",
    "    trees[F.tree.v(sNode)] += 1\n",
    "print('{} distinct structures'.format(len(trees)))"
   ]
  },
  {
   "cell_type": "markdown",
   "metadata": {},
   "source": [
    "Let's see the most frequent structures."
   ]
  },
  {
   "cell_type": "code",
   "execution_count": 16,
   "metadata": {},
   "outputs": [
    {
     "name": "stdout",
     "output_type": "stream",
     "text": [
      "3772 x (S(C(CP(cj 0))(VP(vb 1))))\n",
      "1238 x (S(C(VP(vb 0))))\n",
      "1173 x (S(C(CP(cj 0))(VP(vb 1))(PP(pp 2))))\n",
      " 857 x (S(C(CP(cj 0))(VP(vb 1))(PP(pp 2)(n 3))))\n",
      " 749 x (S(C(CP(cj 0))(VP(vb 1))(NP(n 2))))\n",
      " 577 x (S(C(CP(cj 0))(VP(vb 1))(PrNP(n-pr 2))))\n",
      " 568 x (S(C(CP(cj 0))(VP(vb 1))(PP(pp 2)(dt 3)(n 4))))\n",
      " 554 x (S(C(VP(vb 0))(NP(n 1))))\n",
      " 441 x (S(C(CP(cj 0))(NegP(ng 1))(VP(vb 2))))\n",
      " 406 x (S(C(CP(cj 0))(VP(vb 1))(PP(pp 2)(n-pr 3))))\n",
      " 326 x (S(C(CP(cj 0))(VP(vb 1))(PrNP(n-pr 2))(PP(pp 3)(n-pr 4))))\n",
      " 314 x (S(C(NegP(ng 0))(VP(vb 1))))\n",
      " 310 x (S(C(CP(cj 0))(VP(vb 1))(NP(dt 2)(n 3))))\n",
      " 274 x (S(C(VP(vb 0))(PP(pp 1)(n 2))))\n",
      " 259 x (S(C(CP(cj 0))(VP(vb 1))(PP(pp 2)(U(n 3))(U(n 4)))))\n",
      " 257 x (S(C(NP(U(n 0))(U(n-pr 1)))))\n",
      " 238 x (S(C(CP(cj 0))(AdvP(av 1))))\n",
      " 227 x (S(C(CP(cj 0))(VP(vb 1))(PP(pp 2))(NP(n 3))))\n",
      " 226 x (S(C(CP(cj 0))(VP(vb 1))(PP(pp 2)(U(n 3))(U(n-pr 4)))))\n",
      " 216 x (S(C(NP(n 0))(VP(vb 1))))\n",
      " 207 x (S(C(CP(cj 0))(NP(n 1))(VP(vb 2))))\n",
      " 198 x (S(C(CP(cj 0))(VP(vb 1))(NP(n 2))(PP(pp 3)(n 4))))\n",
      " 198 x (S(C(VP(vb 0))(PP(pp 1))))\n",
      " 193 x (S(C(CP(cj 0))(VP(vb 1))(NP(U(n 2))(U(n 3)))))\n",
      " 183 x (S(C(CP(cj 0))(VP(vb 1))(PP(pp 2)(U(n 3))(U(dt 4)(n 5)))))\n",
      " 173 x (S(C(InjP(ij 0))))\n",
      " 145 x (S(C(CP(cj 0))(PP(pp 1)(n 2))(VP(vb 3))))\n",
      " 144 x (S(C(CP(cj 0))(VP(vb 1))(PP(pp 2))(PP(pp 3)(n 4))))\n",
      " 142 x (S(C(CP(cj 0))(VP(vb 1))(PrNP(n-pr 2))(PP(pp 3)(n 4))))\n",
      " 139 x (S(C(VP(vb 0))(PrNP(n-pr 1))))\n",
      " 138 x (S(C(PP(pp 0)(n 1))(VP(vb 2))))\n",
      " 134 x (S(C(VP(vb 0))(NP(n 1))(PP(pp 2)(n 3))))\n",
      " 133 x (S(C(CP(cj 0))(InjP(ij 1))))\n",
      " 127 x (S(C(AdvP(av 0))(VP(vb 1))(PrNP(n-pr 2))))\n",
      " 126 x (S(C(CP(cj 0))(VP(vb 1))(PrNP(n-pr 2))(PP(pp 3)(dt 4)(n 5))))\n",
      " 126 x (S(C(VP(vb 0))(PP(pp 1)(dt 2)(n 3))))\n",
      " 125 x (S(C(AdvP(av 0))))\n",
      " 121 x (S(C(CP(cj 0))(VP(vb 1))(PP(pp 2))(PrNP(n-pr 3))))\n",
      " 119 x (S(C(CP(cj 0))(PPrP(pr-ps 1))(VP(vb 2))))\n",
      " 113 x (S(C(CP(cj 0))(NP(U(n 1))(U(n 2)))(VP(vb 3))))\n",
      " 113 x (S(C(NP(n 0))))\n",
      " 109 x (S(C(AdvP(av 0))(VP(vb 1))(PrNP(U(n-pr 2))(U(n-pr 3)))))\n",
      " 108 x (S(C(CP(cj 0))(VP(vb 1))(NP(U(n 2))(U(n-pr 3)))))\n",
      "  97 x (S(C(CP(cj 0))(NP(n 1))(NegP(ng 2))(VP(vb 3))))\n",
      "  94 x (S(C(CP(cj 0))(PrNP(n-pr 1))(VP(vb 2))(PP(pp 3)(n-pr 4))))\n",
      "  94 x (S(C(CP(cj 0))(VP(vb 1))(PrNP(n-pr 2))(PP(pp 3)(n-pr 4))(Cadju(VP(pp 5)(vb 6)))))\n",
      "  93 x (S(C(CP(cj 0))(NegP(ng 1))(VP(vb 2))(PP(pp 3))))\n",
      "  93 x (S(C(VP(vb 0))(PP(pp 1)(U(n 2))(U(n 3)))))\n",
      "  92 x (S(C(NP(U(n 0))(U(n 1)))(VP(vb 2))))\n",
      "  92 x (S(C(VP(vb 0))(NP(U(n 1))(U(n 2)))))\n",
      "  88 x (S(C(CP(cj 0))(NegP(ng 1))(VP(vb 2))(PP(pp 3)(n 4))))\n",
      "  86 x (S(C(NP(U(n 0))(U(U(n-pr 1))(U(n-pr 2))))))\n",
      "  84 x (S(C(AdvP(av 0))(VP(vb 1))))\n",
      "  84 x (S(C(CP(cj 0))(VP(vb 1))(AdvP(av 2))))\n",
      "  83 x (S(C(CP(cj 0))(VP(vb 1))(NP(U(n 2))(U(dt 3)(n 4)))))\n",
      "  82 x (S(C(NegP(ng 0))(VP(vb 1))(NP(n 2))))\n",
      "  81 x (S(C(CP(cj 0))(VP(vb 1))(Cadju(VP(pp 2)(vb 3)))))\n",
      "  80 x (S(C(CP(cj 0))(VP(vb 1))(PP(pp 2))(NP(U(n 3))(U(n 4)))))\n",
      "  78 x (S(C(NP(U(n 0))(U(n 1)))))\n",
      "  78 x (S(C(VP(vb 0))(PP(pp 1)(n-pr 2))))\n",
      "  77 x (S(C(PP(pp 0)(U(n 1))(U(n 2)))(VP(vb 3))))\n",
      "  75 x (S(C(VP(vb 0))(NP(dt 1)(n 2))))\n",
      "  72 x (S(C(CP(cj 0))(VP(vb 1))(NP(n 2))(PP(pp 3)(dt 4)(n 5))))\n",
      "  72 x (S(C(PPrP(pr-ps 0))(VP(vb 1))))\n",
      "  71 x (S(C(CP(cj 0))(VP(vb 1))(NP(n 2))(PP(pp 3)(n-pr 4))))\n",
      "  71 x (S(C(CP(cj 0))(VP(vb 1))(NP(n 2))(PP(pp 3))))\n",
      "  70 x (S(C(NP(n 0))(PPrP(pr-ps 1))))\n",
      "  69 x (S(C(CP(cj 0))(VP(vb 1))(NP(U(n 2))(U(aj 3)))))\n",
      "  69 x (S(C(CP(cj 0))(VP(vb 1))(PP(pp 2))(NP(dt 3)(n 4))))\n",
      "  68 x (S(C(CP(cj 0))(VP(vb 1))(PP(pp 2)(dt 3)(n 4))(NP(n 5))))\n",
      "  68 x (S(C(CP(cj 0))(VP(vb 1))(PrNP(n-pr 2))(PP(pp 3)(U(n 4))(U(n-pr 5)))))\n",
      "  66 x (S(C(CP(cj 0))(VP(vb 1))(AdvP(n 2))))\n",
      "  66 x (S(C(CP(cj 0))(VP(vb 1))(PP(pp 2))(PP(pp 3)(dt 4)(n 5))))\n",
      "  65 x (S(C(CP(cj 0))(NP(n 1))(PP(pp 2)(n 3))(VP(vb 4))))\n",
      "  65 x (S(C(CP(cj 0))(VP(vb 1))(PrNP(n-pr 2))(PP(pp 3))))\n",
      "  65 x (S(C(VP(vb 0))(PP(pp 1))(NP(n 2))))\n",
      "  64 x (S(C(VP(vb 0))(PP(pp 1)(U(n 2))(U(n-pr 3)))))\n",
      "  63 x (S(C(CP(cj 0))(NegP(ng 1))(VP(vb 2))(NP(n 3))))\n",
      "  63 x (S(C(NegP(ng 0))(VP(vb 1))(PP(pp 2))))\n",
      "  62 x (S(C(CP(cj 0))(VP(vb 1))(NP(U(n 2))(cj 3)(U(n 4)))))\n",
      "  60 x (S(C(CP(cj 0))(NP(n 1))(VP(vb 2))(PP(pp 3))))\n",
      "  60 x (S(C(NP(n 0))(VP(vb 1))(PP(pp 2)(n 3))))\n",
      "  60 x (S(C(NegP(ng 0))(VP(vb 1))(PP(pp 2)(n 3))))\n",
      "  59 x (S(C(PPrP(pr-ps 0))(PrNP(n-pr 1))))\n",
      "  57 x (S(C(CP(cj 0))(NP(U(n 1))(U(aj 2)))(VP(vb 3))))\n",
      "  57 x (S(C(CP(cj 0))(NP(n 1))(PP(pp 2)(n 3))))\n",
      "  57 x (S(C(CP(cj 0))(VP(vb 1))(NP(dt 2)(n 3))(PP(pp 4)(n-pr 5))))\n",
      "  57 x (S(C(PP(pp 0)(dt 1)(n 2))(VP(vb 3))))\n",
      "  56 x (S(C(AdjP(aj 0))(PPrP(pr-ps 1))))\n",
      "  56 x (S(C(PP(pp 0)(n 1))(VP(vb 2))(NP(n 3))))\n",
      "  54 x (S(C(CP(cj 0))(NP(n 1))(VP(vb 2))(NP(n 3))))\n",
      "  54 x (S(C(CP(cj 0))(PrNP(n-pr 1))(VP(vb 2))))\n",
      "  54 x (S(C(CP(cj 0))(VP(vb 1))(NP(dt 2)(n 3))(PP(pp 4)(dt 5)(n 6))))\n",
      "  54 x (S(C(PP(pp 0)(dt 1)(vb 2))))\n",
      "  53 x (S(C(CP(cj 0))(AdvP(av 1))(VP(vb 2))))\n",
      "  52 x (S(C(NP(n 0))(VP(vb 1))(PP(pp 2))))\n",
      "  51 x (S(C(CP(cj 0))(VP(vb 1))(NP(U(n 2))(U(n-pr 3)))(PP(pp 4))(Cadju(VP(pp 5)(vb 6)))))\n",
      "  51 x (S(C(CP(cj 0))(VP(vb 1))(NP(dt 2)(n 3))(PP(pp 4)(n 5))))\n",
      "  51 x (S(C(PP(pp 0)(n-pr 1)(U(n 2))(U(dt 3)(aj 4)))))\n",
      "  50 x (S(C(InrP(ir 0))(VP(vb 1))))\n"
     ]
    }
   ],
   "source": [
    "for (tree, nOccs) in sorted(trees.items(), key=lambda x: (-x[1], x[0])):\n",
    "    if nOccs < 50: break\n",
    "    print('{:>4} x {}'.format(nOccs, tree))"
   ]
  },
  {
   "cell_type": "markdown",
   "metadata": {},
   "source": [
    "## Distribution by depth\n",
    "\n",
    "We show the frequency distribution of the depths of trees.\n",
    "\n",
    "We have to define a depth function based on the structure of a tree."
   ]
  },
  {
   "cell_type": "code",
   "execution_count": 17,
   "metadata": {},
   "outputs": [],
   "source": [
    "def depth(structs):\n",
    "    if type(structs) is list:\n",
    "        return max(depth(struct) for struct in structs) + 1\n",
    "    else:\n",
    "        return 0"
   ]
  },
  {
   "cell_type": "code",
   "execution_count": 18,
   "metadata": {},
   "outputs": [],
   "source": [
    "depths = collections.Counter()\n",
    "for s in F.otype.s('sentence'):\n",
    "    d = depth(structure(F.tree.v(s)))\n",
    "    depths[d] += 1"
   ]
  },
  {
   "cell_type": "code",
   "execution_count": 19,
   "metadata": {},
   "outputs": [
    {
     "name": "stdout",
     "output_type": "stream",
     "text": [
      "30616 sentences of depth  4\n",
      "19107 sentences of depth  5\n",
      " 8655 sentences of depth  6\n",
      " 3499 sentences of depth  7\n",
      " 1148 sentences of depth  8\n",
      "  472 sentences of depth  9\n",
      "  138 sentences of depth 10\n",
      "   56 sentences of depth 11\n",
      "   17 sentences of depth 12\n",
      "    2 sentences of depth 13\n",
      "    1 sentence  of depth 14\n"
     ]
    }
   ],
   "source": [
    "for (d, amount) in sorted(depths.items(), key=lambda x: (-x[1], x[0])):\n",
    "    print('{:>5} sentence{} of depth {:>2}'.format(amount, ' ' if amount == 1 else 's', d))"
   ]
  },
  {
   "cell_type": "markdown",
   "metadata": {},
   "source": [
    "## The \"deepest\" trees\n",
    "We gather all trees with a depth of at least 12."
   ]
  },
  {
   "cell_type": "code",
   "execution_count": 20,
   "metadata": {},
   "outputs": [
    {
     "name": "stdout",
     "output_type": "stream",
     "text": [
      "There are 20 sentences with a tree depth of at least 12\n"
     ]
    }
   ],
   "source": [
    "limit = 12\n",
    "deepTrees = []\n",
    "for s in F.otype.s('sentence'):\n",
    "    d = depth(structure(F.tree.v(s)))\n",
    "    if d >= limit:\n",
    "        deepTrees.append((s, d))\n",
    "print('There are {} sentences with a tree depth of at least {}'.format(\n",
    "    len(deepTrees),\n",
    "    limit,\n",
    "))"
   ]
  },
  {
   "cell_type": "code",
   "execution_count": 21,
   "metadata": {
    "scrolled": false
   },
   "outputs": [
    {
     "name": "stdout",
     "output_type": "stream",
     "text": [
      "\n",
      "Jeremiah 44:2 depth  14\n",
      " 1  S\n",
      " 2    C\n",
      " 3      PPrP\n",
      " 4        pr-ps \"ʔattˈem\" \"[you]\"\n",
      " 3      VP\n",
      " 4        vb \"rᵊʔîṯˈem\" \"[see]\"\n",
      " 3      PP\n",
      " 4        pp \"ʔˈēṯ\" \"[<object marker>]\"\n",
      " 4        U\n",
      " 5          n \"kol-\" \"[whole]\"\n",
      " 4        U\n",
      " 5          dt \"hˈā\" \"[the]\"\n",
      " 5          n \"rāʕˌā\" \"[evil]\"\n",
      " 4        Cattr\n",
      " 5          CP\n",
      " 6            cj \"ʔᵃšˈer\" \"[<relative>]\"\n",
      " 5          VP\n",
      " 6            vb \"hēvˈēṯî\" \"[come]\"\n",
      " 5          PP\n",
      " 6            U\n",
      " 7              pp \"ʕal-\" \"[upon]\"\n",
      " 7              n-pr \"yᵊrˈûšālˈaim\" \"[Jerusalem]\"\n",
      " 6            cj \"wᵊ\" \"[and]\"\n",
      " 6            U\n",
      " 7              pp \"ʕˌal\" \"[upon]\"\n",
      " 7              U\n",
      " 8                n \"kol-\" \"[whole]\"\n",
      " 7              U\n",
      " 8                U\n",
      " 9                  n \"ʕārˈê\" \"[town]\"\n",
      " 8                U\n",
      " 9                  n-pr \"yᵊhûḏˈā\" \"[Judah]\"\n",
      " 5          PP\n",
      " 6            pp \"mi\" \"[from]\"\n",
      " 6            U\n",
      " 7              n \"ppᵊnˈê\" \"[face]\"\n",
      " 6            U\n",
      " 7              n \"rāʕāṯˈām\" \"[evil]\"\n",
      " 7              Cattr\n",
      " 8                CP\n",
      " 9                  cj \"ʔᵃšˈer\" \"[<relative>]\"\n",
      " 8                VP\n",
      " 9                  vb \"ʕāśˌû\" \"[make]\"\n",
      " 8                Cadju\n",
      " 9                  VP\n",
      "10                    pp \"lᵊ\" \"[to]\"\n",
      "10                    vb \"haḵʕisˈēnî\" \"[be discontent]\"\n",
      " 9                  Cadju\n",
      "10                    VP\n",
      "11                      pp \"lā\" \"[to]\"\n",
      "11                      vb \"lˈeḵeṯ\" \"[walk]\"\n",
      "10                    Cadju\n",
      "11                      VP\n",
      "12                        pp \"lᵊ\" \"[to]\"\n",
      "12                        vb \"qaṭṭˈēr\" \"[smoke]\"\n",
      "10                    Cadju\n",
      "11                      VP\n",
      "12                        pp \"la\" \"[to]\"\n",
      "12                        vb \"ʕᵃvˌōḏ\" \"[work, serve]\"\n",
      "11                      PP\n",
      "12                        pp \"lē\" \"[to]\"\n",
      "12                        U\n",
      "13                          n \"ʔlōhˈîm\" \"[god(s)]\"\n",
      "12                        U\n",
      "13                          aj \"ʔᵃḥērˈîm\" \"[other]\"\n",
      "12                        Cattr\n",
      "13                          CP\n",
      "14                            cj \"ʔᵃšˌer\" \"[<relative>]\"\n",
      "13                          NegP\n",
      "14                            ng \"lˈō\" \"[not]\"\n",
      "13                          VP\n",
      "14                            vb \"yᵊḏāʕˈûm\" \"[know]\"\n",
      " 2    C\n",
      " 3      PPrP\n",
      " 4        U\n",
      " 5          pr-ps \"hˌēmmā\" \"[they]\"\n",
      " 4        U\n",
      " 5          U\n",
      " 6            pr-ps \"ʔattˌem\" \"[you]\"\n",
      " 5          cj \"wa\" \"[and]\"\n",
      " 5          U\n",
      " 6            n \"ʔᵃvōṯêḵˈem\" \"[father]\"\n",
      "\n",
      "\n",
      "Exodus 36:1 depth  13\n",
      " 1  S\n",
      " 2    C\n",
      " 3      CP\n",
      " 4        cj \"wᵊ\" \"[and]\"\n",
      " 3      VP\n",
      " 4        vb \"ʕāśˌā\" \"[make]\"\n",
      " 3      PrNP\n",
      " 4        U\n",
      " 5          n-pr \"vᵊṣalʔˌēl\" \"[Bezalel]\"\n",
      " 4        cj \"wᵊ\" \"[and]\"\n",
      " 4        U\n",
      " 5          n-pr \"ʔohᵒlîʔˈāv\" \"[Oholiab]\"\n",
      " 4        cj \"wᵊ\" \"[and]\"\n",
      " 4        U\n",
      " 5          n \"ḵˈōl\" \"[whole]\"\n",
      " 4        U\n",
      " 5          U\n",
      " 6            n \"ʔˈîš\" \"[man]\"\n",
      " 6            Cattr\n",
      " 7              CP\n",
      " 8                cj \"ʔᵃšˌer\" \"[<relative>]\"\n",
      " 7              VP\n",
      " 8                vb \"nāṯˌan\" \"[give]\"\n",
      " 7              PrNP\n",
      " 8                n-pr \"[yᵊhwˈāh]\" \"[YHWH]\"\n",
      " 7              NP\n",
      " 8                U\n",
      " 9                  n \"ḥoḵmˈā\" \"[wisdom]\"\n",
      " 8                cj \"û\" \"[and]\"\n",
      " 8                U\n",
      " 9                  n \"ṯᵊvûnˌā\" \"[understanding]\"\n",
      " 7              PP\n",
      " 8                pp \"bā\" \"[in]\"\n",
      " 8                pr-ps \"hˈēmmā\" \"[they]\"\n",
      " 7              Cadju\n",
      " 8                VP\n",
      " 9                  pp \"lā\" \"[to]\"\n",
      " 9                  vb \"ḏˈaʕaṯ\" \"[know]\"\n",
      " 8                Cadju\n",
      " 9                  VP\n",
      "10                    pp \"la\" \"[to]\"\n",
      "10                    vb \"ʕᵃśˈōṯ\" \"[make]\"\n",
      " 9                  PP\n",
      "10                    pp \"ʔˈeṯ-\" \"[<object marker>]\"\n",
      "10                    U\n",
      "11                      n \"kol-\" \"[whole]\"\n",
      "10                    U\n",
      "11                      U\n",
      "12                        n \"mᵊlˌeḵeṯ\" \"[work]\"\n",
      "11                      U\n",
      "12                        U\n",
      "13                          n \"ʕᵃvōḏˈaṯ\" \"[work]\"\n",
      "12                        U\n",
      "13                          dt \"ha\" \"[the]\"\n",
      "13                          n \"qqˈōḏeš\" \"[holiness]\"\n",
      " 9                  PP\n",
      "10                    pp \"lᵊ\" \"[to]\"\n",
      "10                    n \"ḵˌōl\" \"[whole]\"\n",
      "10                    Cattr\n",
      "11                      CP\n",
      "12                        cj \"ʔᵃšer-\" \"[<relative>]\"\n",
      "11                      VP\n",
      "12                        vb \"ṣiwwˌā\" \"[command]\"\n",
      "11                      PrNP\n",
      "12                        n-pr \"[yᵊhwˈāh]\" \"[YHWH]\"\n",
      " 5          U\n",
      " 6            U\n",
      " 7              aj \"ḥᵃḵam-\" \"[wise]\"\n",
      " 6            U\n",
      " 7              n \"lˈēv\" \"[heart]\"\n",
      "\n",
      "\n",
      "Deuteronomy 4:45 depth  13\n",
      "\n",
      "Exodus 29:27 depth  12\n",
      "\n",
      "Exodus 34:6 depth  12\n",
      "\n",
      "Numbers 14:22 depth  12\n",
      "\n",
      "Deuteronomy 11:2 depth  12\n",
      "\n",
      "Joshua 5:6 depth  12\n",
      "\n",
      "Joshua 24:31 depth  12\n",
      "\n",
      "2_Samuel 7:23 depth  12\n",
      "\n",
      "1_Kings 8:38 depth  12\n",
      "\n",
      "1_Kings 9:1 depth  12\n",
      "\n",
      "1_Kings 16:18 depth  12\n",
      "\n",
      "Jeremiah 44:14 depth  12\n",
      "\n",
      "Ezekiel 21:33 depth  12\n",
      "\n",
      "Zechariah 8:9 depth  12\n",
      "\n",
      "Psalms 18:1 depth  12\n",
      "\n",
      "Esther 8:5 depth  12\n",
      "\n",
      "Daniel 6:8 depth  12\n",
      "\n",
      "Nehemiah 9:7 depth  12\n"
     ]
    }
   ],
   "source": [
    "for (i, (s, d)) in enumerate(sorted(deepTrees, key=lambda x: (-x[1], x[0]))):\n",
    "    firstSlot = L.d(s, otype='word')[0]\n",
    "    print('\\n{} {}:{} depth {:>3}'.format(\n",
    "        *T.sectionFromNode(s), \n",
    "        d,\n",
    "    ))\n",
    "    if i > 1: continue\n",
    "    print('{}\\n'.format(\n",
    "        layout(structure(F.tree.v(s)), firstSlot, phonoGloss, withLevel=True),\n",
    "    ))"
   ]
  },
  {
   "cell_type": "markdown",
   "metadata": {},
   "source": [
    "# Intrusions and inversions\n",
    "\n",
    "Let us filter out the trees where nodes intrude in each other in such a way that the order of \n",
    "terminal nodes in no longer equal to the order of the words in the surface text.\n",
    "\n",
    "We need a function `terminalOrder` that yields the tuple of number found in terminal nodes if we visit them\n",
    "from left to right.\n",
    "\n",
    "The easiest way is to compute it from the structure of a tree."
   ]
  },
  {
   "cell_type": "code",
   "execution_count": 22,
   "metadata": {},
   "outputs": [],
   "source": [
    "def terminalOrder(structs):\n",
    "    if type(structs) is list:\n",
    "        return reduce(operator.add, (terminalOrder(struct) for struct in structs), ())\n",
    "    elif type(structs) is tuple:\n",
    "        return (structs[1],)\n",
    "    else:\n",
    "        return ()"
   ]
  },
  {
   "cell_type": "markdown",
   "metadata": {},
   "source": [
    "The following example shows that terminalOrder is capable of doing the job."
   ]
  },
  {
   "cell_type": "code",
   "execution_count": 23,
   "metadata": {},
   "outputs": [
    {
     "data": {
      "text/plain": [
       "['S',\n",
       " ['C',\n",
       "  ['PP', [('pp', 0)], [('n', 1)]],\n",
       "  ['VP', [('vb', 2)]],\n",
       "  ['NP', [('n', 3)]],\n",
       "  ['PP',\n",
       "   ['U', [('pp', 4)], [('dt', 5)], [('n', 6)]],\n",
       "   [('cj', 7)],\n",
       "   ['U', [('pp', 8)], [('dt', 9)], [('n', 10)]]]]]"
      ]
     },
     "execution_count": 23,
     "metadata": {},
     "output_type": "execute_result"
    }
   ],
   "source": [
    "structure(rawTree)"
   ]
  },
  {
   "cell_type": "code",
   "execution_count": 24,
   "metadata": {},
   "outputs": [
    {
     "data": {
      "text/plain": [
       "(0, 1, 2, 3, 4, 5, 6, 7, 8, 9, 10)"
      ]
     },
     "execution_count": 24,
     "metadata": {},
     "output_type": "execute_result"
    }
   ],
   "source": [
    "terminalOrder(structure(rawTree))"
   ]
  },
  {
   "cell_type": "markdown",
   "metadata": {},
   "source": [
    "If a sentence on `n` words does not yield exactly the tuple `(0 .. n-1)`,\n",
    "then the order is disturbed."
   ]
  },
  {
   "cell_type": "code",
   "execution_count": 25,
   "metadata": {},
   "outputs": [
    {
     "name": "stdout",
     "output_type": "stream",
     "text": [
      "1999 trees have an abnormal terminal order\n"
     ]
    }
   ],
   "source": [
    "abnormalTrees = []\n",
    "\n",
    "for s in F.otype.s('sentence'):\n",
    "    treeOrder = terminalOrder(structure(F.tree.v(s)))\n",
    "    norm = tuple(range(len(treeOrder)))\n",
    "    if treeOrder != norm:\n",
    "        abnormalTrees.append(s)\n",
    "\n",
    "print('{} trees have an abnormal terminal order'.format(len(abnormalTrees)))"
   ]
  },
  {
   "cell_type": "markdown",
   "metadata": {},
   "source": [
    "Let us inspect the first 10 of them.\n",
    "\n",
    "We like to see the fully pointed representation and glosses, as `phonoGloss()` provides (see above),\n",
    "but we want also to show the sequence number of the word in the sentence.\n",
    "We define `phonoGlossSeq()`."
   ]
  },
  {
   "cell_type": "code",
   "execution_count": 26,
   "metadata": {},
   "outputs": [],
   "source": [
    "def phonoGlossSeq(firstSlot):\n",
    "    return lambda n: '{} {}'.format(n - firstSlot, phonoGloss(n))"
   ]
  },
  {
   "cell_type": "code",
   "execution_count": 27,
   "metadata": {
    "scrolled": false
   },
   "outputs": [
    {
     "name": "stdout",
     "output_type": "stream",
     "text": [
      "Genesis 1:11\n",
      "  S\n",
      "    C\n",
      "      VP\n",
      "        vb 0 \"tˈaḏšˈē\" \"[grow green]\"\n",
      "      NP\n",
      "        dt 1 \"hā\" \"[the]\"\n",
      "        n 2 \"ʔˈāreṣ\" \"[earth]\"\n",
      "      NP\n",
      "        n 3 \"dˈeše\" \"[young grass]\"\n",
      "        n 4 \"ˈʕēśev\" \"[herb]\"\n",
      "        Cattr\n",
      "          VP\n",
      "            vb 5 \"mazrˈîₐʕ\" \"[sow]\"\n",
      "          NP\n",
      "            n 6 \"zˈeraʕ\" \"[seed]\"\n",
      "        U\n",
      "          n 7 \"ʕˈēṣ\" \"[tree]\"\n",
      "        U\n",
      "          n 8 \"pᵊrˈî\" \"[fruit]\"\n",
      "        Cattr\n",
      "          VP\n",
      "            vb 9 \"ʕˈōśeh\" \"[make]\"\n",
      "          NP\n",
      "            n 10 \"pᵊrˌî\" \"[fruit]\"\n",
      "            Cattr\n",
      "              CP\n",
      "                cj 13 \"ʔᵃšˌer\" \"[<relative>]\"\n",
      "              NP\n",
      "                n 14 \"zarʕô-\" \"[seed]\"\n",
      "              PP\n",
      "                pp 15 \"vˌô\" \"[in]\"\n",
      "          PP\n",
      "            pp 11 \"lᵊ\" \"[to]\"\n",
      "            n 12 \"mînˈô\" \"[kind]\"\n",
      "          PP\n",
      "            pp 16 \"ʕal-\" \"[upon]\"\n",
      "            dt 17 \"hā\" \"[the]\"\n",
      "            n 18 \"ʔˈāreṣ\" \"[earth]\"\n",
      "\n",
      "Genesis 1:29\n",
      "  S\n",
      "    C\n",
      "      InjP\n",
      "        ij 0 \"hinnˌē\" \"[behold]\"\n",
      "      VP\n",
      "        vb 1 \"nāṯˌattî\" \"[give]\"\n",
      "      PP\n",
      "        pp 2 \"lāḵˈem\" \"[to]\"\n",
      "      PP\n",
      "        pp 3 \"ʔeṯ-\" \"[<object marker>]\"\n",
      "        U\n",
      "          n 4 \"kol-\" \"[whole]\"\n",
      "        U\n",
      "          n 5 \"ʕˈēśev\" \"[herb]\"\n",
      "        Cattr\n",
      "          VP\n",
      "            vb 6 \"zōrˈēₐʕ\" \"[sow]\"\n",
      "          NP\n",
      "            n 7 \"zˈeraʕ\" \"[seed]\"\n",
      "        Cattr\n",
      "          CP\n",
      "            cj 8 \"ʔᵃšˌer\" \"[<relative>]\"\n",
      "          PP\n",
      "            pp 9 \"ʕal-\" \"[upon]\"\n",
      "            U\n",
      "              n 10 \"pᵊnˈê\" \"[face]\"\n",
      "            U\n",
      "              U\n",
      "                n 11 \"ḵol-\" \"[whole]\"\n",
      "              U\n",
      "                dt 12 \"hā\" \"[the]\"\n",
      "                n 13 \"ʔˈāreṣ\" \"[earth]\"\n",
      "        cj 14 \"wᵊ\" \"[and]\"\n",
      "        pp 15 \"ʔeṯ-\" \"[<object marker>]\"\n",
      "        U\n",
      "          n 16 \"kol-\" \"[whole]\"\n",
      "        U\n",
      "          dt 17 \"hā\" \"[the]\"\n",
      "          n 18 \"ʕˈēṣ\" \"[tree]\"\n",
      "        Cattr\n",
      "          CP\n",
      "            cj 19 \"ʔᵃšer-\" \"[<relative>]\"\n",
      "          PP\n",
      "            pp 20 \"bˌô\" \"[in]\"\n",
      "          NP\n",
      "            U\n",
      "              n 21 \"fᵊrî-\" \"[fruit]\"\n",
      "            U\n",
      "              n 22 \"ʕˌēṣ\" \"[tree]\"\n",
      "            Cattr\n",
      "              VP\n",
      "                vb 23 \"zōrˈēₐʕ\" \"[sow]\"\n",
      "              NP\n",
      "                n 24 \"zˈāraʕ\" \"[seed]\"\n",
      "    C\n",
      "      CP\n",
      "        cj 29 \"ˈû\" \"[and]\"\n",
      "      PP\n",
      "        U\n",
      "          pp 30 \"lᵊ\" \"[to]\"\n",
      "          U\n",
      "            n 31 \"ḵol-\" \"[whole]\"\n",
      "          U\n",
      "            U\n",
      "              n 32 \"ḥayyˈaṯ\" \"[wild animal]\"\n",
      "            U\n",
      "              dt 33 \"hā\" \"[the]\"\n",
      "              n 34 \"ʔārˌeṣ\" \"[earth]\"\n",
      "        cj 35 \"û\" \"[and]\"\n",
      "        U\n",
      "          pp 36 \"lᵊ\" \"[to]\"\n",
      "          U\n",
      "            n 37 \"ḵol-\" \"[whole]\"\n",
      "          U\n",
      "            U\n",
      "              n 38 \"ʕˌôf\" \"[birds]\"\n",
      "            U\n",
      "              dt 39 \"ha\" \"[the]\"\n",
      "              n 40 \"ššāmˈayim\" \"[heavens]\"\n",
      "        cj 41 \"û\" \"[and]\"\n",
      "        pp 42 \"lᵊ\" \"[to]\"\n",
      "        U\n",
      "          n 43 \"ḵˈōl\" \"[whole]\"\n",
      "        U\n",
      "          vb 44 \"rômˈēś\" \"[creep]\"\n",
      "          Cattr\n",
      "            CP\n",
      "              cj 48 \"ʔᵃšer-\" \"[<relative>]\"\n",
      "            PP\n",
      "              pp 49 \"bˌô\" \"[in]\"\n",
      "            NP\n",
      "              U\n",
      "                n 50 \"nˈefeš\" \"[soul]\"\n",
      "              U\n",
      "                aj 51 \"ḥayyˈā\" \"[alive]\"\n",
      "        pp 45 \"ʕal-\" \"[upon]\"\n",
      "        dt 46 \"hā\" \"[the]\"\n",
      "        n 47 \"ʔˈāreṣ\" \"[earth]\"\n",
      "      PP\n",
      "        pp 52 \"ʔeṯ-\" \"[<object marker>]\"\n",
      "        U\n",
      "          n 53 \"kol-\" \"[whole]\"\n",
      "        U\n",
      "          U\n",
      "            n 54 \"yˌereq\" \"[greens]\"\n",
      "          U\n",
      "            n 55 \"ʕˌēśev\" \"[herb]\"\n",
      "      PP\n",
      "        pp 56 \"lᵊ\" \"[to]\"\n",
      "        n 57 \"ʔoḵlˈā\" \"[food]\"\n",
      "\n",
      "Genesis 2:4\n",
      "  S\n",
      "    C\n",
      "      PP\n",
      "        pp 0 \"bᵊ\" \"[in]\"\n",
      "        n 1 \"yˈôm\" \"[day]\"\n",
      "        Crgrc\n",
      "          VP\n",
      "            vb 2 \"ʕᵃśˈôṯ\" \"[make]\"\n",
      "          PrNP\n",
      "            U\n",
      "              n-pr 3 \"[yᵊhwˌāh]\" \"[YHWH]\"\n",
      "            U\n",
      "              n 4 \"ʔᵉlōhˌîm\" \"[god(s)]\"\n",
      "          NP\n",
      "            U\n",
      "              n 5 \"ʔˌereṣ\" \"[earth]\"\n",
      "            cj 6 \"wᵊ\" \"[and]\"\n",
      "            U\n",
      "              n 7 \"šāmˈāyim\" \"[heavens]\"\n",
      "    Cresu\n",
      "      CP\n",
      "        cj 54 \"wa\" \"[and]\"\n",
      "      VP\n",
      "        vb 55 \"yyîṣˌer\" \"[shape]\"\n",
      "      PrNP\n",
      "        U\n",
      "          n-pr 56 \"[yᵊhwˌāh]\" \"[YHWH]\"\n",
      "        U\n",
      "          n 57 \"ʔᵉlōhˈîm\" \"[god(s)]\"\n",
      "      PP\n",
      "        pp 58 \"ʔeṯ-\" \"[<object marker>]\"\n",
      "        dt 59 \"hˈā\" \"[the]\"\n",
      "        n 60 \"ʔāḏˈām\" \"[human, mankind]\"\n",
      "      NP\n",
      "        n 61 \"ʕāfˌār\" \"[dust]\"\n",
      "        pp 62 \"min-\" \"[from]\"\n",
      "        dt 63 \"hˈā\" \"[the]\"\n",
      "        n 64 \"ʔᵃḏāmˈā\" \"[soil]\"\n",
      "\n",
      "Genesis 2:25\n",
      "  S\n",
      "    C\n",
      "      CP\n",
      "        cj 0 \"wa\" \"[and]\"\n",
      "      VP\n",
      "        vb 1 \"yyˈihyˈû\" \"[be]\"\n",
      "      NP\n",
      "        n 2 \"šᵊnêhˌem\" \"[two]\"\n",
      "        U\n",
      "          dt 4 \"hˈā\" \"[the]\"\n",
      "          n 5 \"ʔāḏˌām\" \"[human, mankind]\"\n",
      "        cj 6 \"wᵊ\" \"[and]\"\n",
      "        U\n",
      "          n 7 \"ʔištˈô\" \"[woman]\"\n",
      "      AdjP\n",
      "        aj 3 \"ʕᵃrûmmˈîm\" \"[naked]\"\n",
      "\n",
      "Genesis 3:3\n",
      "  S\n",
      "    C\n",
      "      CP\n",
      "        cj 0 \"û\" \"[and]\"\n",
      "      PP\n",
      "        pp 1 \"mi\" \"[from]\"\n",
      "        U\n",
      "          n 2 \"ppᵊrˈî\" \"[fruit]\"\n",
      "        U\n",
      "          dt 3 \"hā\" \"[the]\"\n",
      "          n 4 \"ʕēṣ\" \"[tree]\"\n",
      "          Cattr\n",
      "            CP\n",
      "              cj 5 \"ʔᵃšˈer\" \"[<relative>]\"\n",
      "            PP\n",
      "              pp 6 \"bᵊ\" \"[in]\"\n",
      "              U\n",
      "                n 7 \"ṯôḵ-\" \"[midst]\"\n",
      "              U\n",
      "                dt 8 \"ha\" \"[the]\"\n",
      "                n 9 \"ggˌān\" \"[garden]\"\n",
      "    Cresu\n",
      "      NegP\n",
      "        ng 12 \"lˈō\" \"[not]\"\n",
      "      VP\n",
      "        vb 13 \"ṯˈōḵᵊlû\" \"[eat]\"\n",
      "      PP\n",
      "        pp 14 \"mimmˈennû\" \"[from]\"\n",
      "\n"
     ]
    }
   ],
   "source": [
    "for s in abnormalTrees[0:5]:\n",
    "    firstSlot = L.d(s, otype='word')[0]\n",
    "    print('{} {}:{}\\n{}\\n'.format(\n",
    "        *T.sectionFromNode(s),\n",
    "        layout(structure(F.tree.v(s)), firstSlot, phonoGlossSeq(firstSlot))\n",
    "    ))"
   ]
  },
  {
   "cell_type": "markdown",
   "metadata": {},
   "source": [
    "Now you are peeking into the kitchen of the ETCBC encoders.\n",
    "Fascinating, isn't it?"
   ]
  },
  {
   "cell_type": "code",
   "execution_count": 28,
   "metadata": {},
   "outputs": [
    {
     "data": {
      "text/plain": [
       "{'lex-orig-full',\n",
       " 'lex-orig-plain',\n",
       " 'lex-trans-full',\n",
       " 'lex-trans-plain',\n",
       " 'text-orig-full',\n",
       " 'text-orig-full-ketiv',\n",
       " 'text-orig-plain',\n",
       " 'text-phono-full',\n",
       " 'text-trans-full',\n",
       " 'text-trans-full-ketiv',\n",
       " 'text-trans-plain'}"
      ]
     },
     "execution_count": 28,
     "metadata": {},
     "output_type": "execute_result"
    }
   ],
   "source": [
    "T.formats"
   ]
  },
  {
   "cell_type": "code",
   "execution_count": 36,
   "metadata": {},
   "outputs": [
    {
     "data": {
      "text/plain": [
       "'>JKH05 JCBH BDD '"
      ]
     },
     "execution_count": 36,
     "metadata": {},
     "output_type": "execute_result"
    }
   ],
   "source": [
    "T.text(\n",
    "    L.d(\n",
    "        T.nodeFromSection(('Lamentations', 1, 1)),\n",
    "        otype='word',\n",
    "    )[0:3],\n",
    "    fmt='text-trans-plain',\n",
    ")"
   ]
  },
  {
   "cell_type": "code",
   "execution_count": null,
   "metadata": {},
   "outputs": [],
   "source": []
  }
 ],
 "metadata": {
  "kernelspec": {
   "display_name": "Python 3",
   "language": "python",
   "name": "python3"
  },
  "language_info": {
   "codemirror_mode": {
    "name": "ipython",
    "version": 3
   },
   "file_extension": ".py",
   "mimetype": "text/x-python",
   "name": "python",
   "nbconvert_exporter": "python",
   "pygments_lexer": "ipython3",
   "version": "3.6.4"
  }
 },
 "nbformat": 4,
 "nbformat_minor": 1
}
