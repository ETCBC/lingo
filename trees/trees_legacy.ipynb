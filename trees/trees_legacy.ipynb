{
 "cells": [
  {
   "cell_type": "markdown",
   "metadata": {},
   "source": [
    "<a href=\"http://www.godgeleerdheid.vu.nl/etcbc\" target=\"_blank\"><img align=\"left\" src=\"images/etcbc-small.png\"/></a>\n",
    "<a href=\"http://www.dans.knaw.nl\" target=\"_blank\"><img align=\"right\"src=\"images/dans-small.png\"/></a>"
   ]
  },
  {
   "cell_type": "markdown",
   "metadata": {},
   "source": [
    "# Trees - for BHSA data (Hebrew)"
   ]
  },
  {
   "cell_type": "markdown",
   "metadata": {},
   "source": [
    "This notebook composes syntax trees out of the BHSA data.\n",
    "To this end, it imports the module ``etcbc.trees``, which contains the logic to\n",
    "synthesize trees from the data as it lies encoded in an EMDROS database and has been translated to LAF.\n",
    "\n",
    "``etcbc.trees`` can also work for other data, such as the CALAP database of parts of the Syriac Peshitta.\n",
    "\n",
    "This notebook invokes the functions of ``etcbc.trees`` to generate trees for every sentence in the Hebrew Bible.\n",
    "After that it performs a dozen sanity checks on the trees.\n",
    "There are 13 sentences that do not pass some of these tests (out of 71354). \n",
    "\n",
    "They will be excluded from further processing, since they probably have been coded wrong in the first place."
   ]
  },
  {
   "cell_type": "markdown",
   "metadata": {},
   "source": [
    "## BHSA data and syntax trees"
   ]
  },
  {
   "cell_type": "markdown",
   "metadata": {},
   "source": [
    "The process of tree construction is not straightforward, since the BHSA data have not been coded as syntax trees.\n",
    "Rather they take the shape of a collection of features that describe observable characteristics of the words, phrases, clauses and\n",
    "sentences. Moreover, if a phrase, clause or sentence is discontinuous, it is divided in *phrase_atoms*, *clause_atoms*,\n",
    "or *sentence_atoms*, respectively, which are by definition continuous.\n",
    "\n",
    "There are no explicit hierarchical relationships between these objects. But there is an implicit hierarchy: *embedding*.\n",
    "Every object carries with it the set of word occurrences it contains.\n",
    "\n",
    "The module ``etcbc.trees`` constructs a hierarchy of words, subphrases, phrases, clauses and sentences based on the embedding\n",
    "relationship. \n",
    "\n",
    "But this is not all. The BHSA data contains a *mother* relationship, which in some cases denotes a parent relationship between \n",
    "objects. The module ``etcbc.trees`` reconstructs the tree obtained from the embedding by \n",
    "using the mother relationship as a set of instructions to move certain nodes below others.\n",
    "In some cases extra nodes will be constructed as well."
   ]
  },
  {
   "cell_type": "markdown",
   "metadata": {},
   "source": [
    "## The embedding relationship"
   ]
  },
  {
   "cell_type": "markdown",
   "metadata": {},
   "source": [
    "### Objects:\n",
    "The BHSA data is coded in such a way that every object is associated with a *type* and a *monad set*. \n",
    "\n",
    "The *type* of an object, $T(O)$, determines which features an object has. ETCBC types are ``sentence``, ``sentence_atom``,\n",
    "``clause``, ``clause_atom``, ``phrase``, ``phrase_atom``, ``subphrase``, ``word``.\n",
    "\n",
    "There is an implicit *ordering of object types*, given by the sequence above, where ``word`` comes first and \n",
    "``sentence`` comes last. We denote this ordering by $<$.\n",
    "\n",
    "The *monad set* of an object, $m(O)$, is the set of word occurrences contained by that object.\n",
    "Every word occurrence in the source has a unique sequence number, so monad sets are sets of sequence numbers.\n",
    "\n",
    "Note that\n",
    "when a sentence contains a clause which contains a phrase, the sentence, clause, and phrase contain words directly as monad sets. The fact that a sentence contains a clause is not marked directly, it is a consequence of the monad set embedding.\n",
    "\n",
    "### Definition (monad set order):\n",
    "There is a natural order on monad sets, following the intuition that monad sets with smaller elements come before monad set with bigger elements, and embedding monad sets come before embedded monad sets.\n",
    "Hence, if you enumerate a set of objects that happens to constitute a tree hierarchy based on monad set embedding, and you enumerate those objects in the monad set order, you will walk the tree in pre-order.\n",
    "\n",
    "This order is a modification of the one as described in (Doedens 1994, 3.6.3).\n",
    "<img src=\"images/DoedensLO.png\"/>\n",
    "> Doedens, Crist-Jan (1994), *Text Databases. One Database Model and Several Retrieval Languages*, number 14 in Language and Computers, Editions Rodopi, Amsterdam, Netherlands and Atlanta, USA. ISBN: 90-5183-729-1, http://books.google.nl/books?id=9ggOBRz1dO4C.\n",
    "The order as defined by Doedens corresponds to walking trees in post-order.\n",
    "\n",
    "For a lot of processing, it is handy to have a the stack of embedding elements available when working with an element. That is the advantage of pre-order over post-order. It is very much like SAX parsing.\n",
    "\n",
    "Here is as the formal definition of my order:\n",
    "\n",
    "$m_1 < m_2$ if either of the following holds:\n",
    "\n",
    "1. $m_2 \\subset m_1$ (note that the embedder comes first!)\n",
    "1. $m_1 \\not\\subset m_2 \\wedge m_2 \\not\\subset m_1 \\wedge \\min(m_1 \\setminus m_2) < \\min(m_2 \\setminus m_1)$\n",
    "\n",
    "We will not base our trees on *all* object types, since in the BHSA data they do not constitute a single hierarchy.\n",
    "We will restrict ourselves to the set $\\cal O = \\{$ ``sentence``, ``clause``, ``phrase``, ``word`` $\\}$.\n",
    "\n",
    "### Definition (directly below):\n",
    "Object type $T_1$ is *directly below* $T_2$ ( $T_1 <_1 T_2 $ ) in $\\cal O$ if $T_1 < T_2$ and there is no $T$ in $\\cal O$ with\n",
    "$T_1 < T < T_2$.\n",
    "\n",
    "Now we can introduce the notion of (tree) parent with respect to a set of object types $\\cal O$\n",
    "(e.g. ):\n",
    "\n",
    "### Definition (parent)\n",
    "Object $A$ is a parent of object $B$ if the following are true:\n",
    "1. $m(A) \\subseteq\\ m(B)$ \n",
    "2. $T(A) <_1 T(B)$ in $\\cal O$."
   ]
  },
  {
   "cell_type": "markdown",
   "metadata": {},
   "source": [
    "## The mother relationship"
   ]
  },
  {
   "cell_type": "markdown",
   "metadata": {},
   "source": [
    "While using the embedding got us trees, using the mother relationship will give us more interesting trees.\n",
    "In general, the *mother* in the ETCBC points to an object on which the object in question is, in some sense, dependent.\n",
    "The nature of this dependency is coded in a specific feature on clauses, the ``clause_constituent_relation``.\n",
    "For a list of values this feature can take and the associated meanings, see the notebook\n",
    "[clause_phrase_types](http://nbviewer.ipython.org/github/ETCBC/laf-fabric-nbs/blob/master/valence/clause_phrase_types.ipynb) in this directory.\n",
    "\n",
    "Here is a description of what we do with the mother relationship.\n",
    "\n",
    "If a *clause* has a mother, there are three cases for the *clause_constituent_relation* of this clause:\n",
    "\n",
    "1. its value is in $\\{$ ``Adju``, ``Objc``, ``Subj``, ``PrAd``, ``PreC``, ``Cmpl``, ``Attr``, ``RgRc``, ``Spec`` $\\}$\n",
    "2. its value is ``Coor``\n",
    "3. its value is in $\\{$ ``Resu``, ``ReVo``, ``none`` $\\}$\n",
    "\n",
    "In case 3 we do nothing.\n",
    "\n",
    "In case 1 we remove the link of the clause to its parent and add the clause as a child to either the object that the mother\n",
    "points to, or to the parent of the mother. We do the latter only if the mother is a word. We will not add children to words.\n",
    "\n",
    "In the diagrams, the red arrows represent the mother relationship, and the black arrows the embedding relationships, and the fat black arrows the new parent relationships. The gray arrows indicated severed parent links.\n",
    "\n",
    "<img src=\"images/TreesCase1.pdf\"/>\n",
    "\n",
    "In case 2 we create a node between the mother and its parent.\n",
    "This node takes the name of the mother, and the mother will be added as child, but with name ``Ccoor``, and the clause which points to the mother is added as a sister.\n",
    "\n",
    "This is a rather complicated case, but the intuition is not that difficult. Consider the sentence:\n",
    "\n",
    "    John thinks that Mary said it and did it\n",
    "   \n",
    "We have a compound object sentence, with ``Mary said it`` and ``did it`` as coordinated components.\n",
    "The way this has been marked up in the BHSA database is as follows:\n",
    "\n",
    "``Mary said it``, clause with ``clause_constituent_relation``=``Objc``, ``mother``=``John thinks``(clause)\n",
    "\n",
    "``and did it``, clause with ``clause_constituent_relation``=``Coor``, ``mother``=``Mary said it``(clause)\n",
    "\n",
    "So the second coordinated clause is simply linked to the first coordinated clause. Restructuring means to create a parent for both coordinated clauses and treat both as sisters at the same hierarchical level. See the diagram.\n",
    "\n",
    "<img src=\"images/TreesCase2.pdf\"/>\n",
    "\n",
    "### Note on order\n",
    "When we add nodes to new parents, we let them occupy the sequential position among its new sisters that corresponds with the monad set ordering.\n",
    "\n",
    "### Note on discontinuity\n",
    "Sentences, clauses and phrases are not always continuous. Before restructuring it will not always be the case that if you\n",
    "walk the tree in pre-order, you will end up with the leaves (the words) in the same order as the original sentence.\n",
    "Restructuring generally improves that, because it often puts an object under a non-continuous parent object precisely at the location that corresponds with the a gap in the parent.\n",
    "\n",
    "However, there is no guarantee that every discontinuity will be resolved in this graceful manner.\n",
    "When we create the trees, we also output the list of monad numbers that you get when you walk the tree in pre-order.\n",
    "Whenever this list is not monotonic, there is an issue with the ordering.\n",
    "\n",
    "### Note on incest\n",
    "If a mother points to itself or a descendant of itself, we have a grave form of incest. In these cases, the restructuring algorithm will disconnect a parent link without introducing a new link to the tree above it: a whole fragment of the tree becomes disconnected and will get lost.\n",
    "\n",
    "Sanity check 6 below reveals that this occurs in fact 4 times in the BHSA version 4 (it occurred 13 times in the BHSA \n",
    "3 version). \n",
    "We will exclude these trees from further processing.\n",
    "\n",
    "### Note on adultery\n",
    "If a mother points outside the sentence of the clause on which it is specified we have a form of adultery.\n",
    "This should not happen. Mothers may point outside their sentences, but not in the cases that trigger restructuring.\n",
    "Yet, the sanity checks below reveal that this occurs twice. We will exclude these cases from further processing."
   ]
  },
  {
   "cell_type": "code",
   "execution_count": 1,
   "metadata": {},
   "outputs": [
    {
     "name": "stderr",
     "output_type": "stream",
     "text": [
      "  0.00s This is LAF-Fabric 4.8.3\n",
      "API reference: http://laf-fabric.readthedocs.org/en/latest/texts/API-reference.html\n",
      "Feature doc: https://shebanq.ancient-data.org/static/docs/featuredoc/texts/welcome.html\n",
      "\n"
     ]
    }
   ],
   "source": [
    "import sys\n",
    "import collections\n",
    "import random\n",
    "%load_ext autoreload\n",
    "%autoreload 2\n",
    "\n",
    "import laf\n",
    "from laf.fabric import LafFabric\n",
    "from etcbc.preprocess import prepare\n",
    "from etcbc.lib import Transcription, monad_set\n",
    "from etcbc.trees import Tree\n",
    "\n",
    "fabric = LafFabric()\n",
    "tr = Transcription()"
   ]
  },
  {
   "cell_type": "markdown",
   "metadata": {},
   "source": [
    "The engines are fired up now, all ETCBC data we need is accessible through the ``fabric`` and ``tr`` objects.\n",
    "\n",
    "Next we select the information we want and load it into memory."
   ]
  },
  {
   "cell_type": "code",
   "execution_count": 2,
   "metadata": {},
   "outputs": [
    {
     "name": "stderr",
     "output_type": "stream",
     "text": [
      "  0.00s LOADING API: please wait ... \n",
      "  0.00s USING main: etcbc4 DATA COMPILED AT: 2014-07-23T09-31-37\n",
      "  4.53s LOGFILE=/Users/dirk/laf/laf-fabric-output/etcbc4/trees/__log__trees.txt\n",
      "  4.53s INFO: LOADING PREPARED data: please wait ... \n",
      "  4.53s prep prep: G.node_sort\n",
      "  4.53s PREPARING prep: G.node_sort\n",
      "  4.53s LOADING API with EXTRAs: please wait ... \n",
      "  4.53s USING main: etcbc4 DATA COMPILED AT: 2014-07-23T09-31-37\n",
      "  6.11s NORMAL: DATA LOADED FROM SOURCE etcbc4 AND ANNOX  FOR TASK trees AT 2016-11-28T10-46-41\n",
      "  6.11s SORTING nodes ...\n",
      "    53s WRITING prep: G.node_sort\n",
      "    53s prep prep: G.node_sort_inv\n",
      "    53s PREPARING prep: G.node_sort_inv\n",
      "    53s SORTING nodes (inv) ...\n",
      "    53s WRITING prep: G.node_sort_inv\n",
      "    54s prep prep: L.node_up\n",
      "    54s PREPARING prep: L.node_up\n",
      "    54s LOADING API with EXTRAs: please wait ... \n",
      "    54s USING main: etcbc4 DATA COMPILED AT: 2014-07-23T09-31-37\n",
      "    54s NORMAL: DATA LOADED FROM SOURCE etcbc4 AND ANNOX  FOR TASK trees AT 2016-11-28T10-47-29\n",
      "    54s Objects contained in books\n",
      " 1m 03s Objects contained in chapters\n",
      " 1m 13s Objects contained in verses\n",
      " 1m 26s Objects contained in half_verses\n",
      " 1m 36s Objects contained in sentences\n",
      " 1m 47s Objects contained in sentence_atoms\n",
      " 1m 58s Objects contained in clauses\n",
      " 2m 05s Objects contained in clause_atoms\n",
      " 2m 12s Objects contained in phrases\n",
      " 2m 21s Objects contained in phrase_atoms\n",
      " 2m 28s Objects contained in subphrases\n",
      " 2m 31s Objects contained in words\n",
      " 2m 35s WRITING prep: L.node_up\n",
      " 2m 38s prep prep: L.node_down\n",
      " 2m 38s PREPARING prep: L.node_down\n",
      " 2m 38s WRITING prep: L.node_down\n",
      " 2m 42s prep prep: V.verses\n",
      " 2m 42s PREPARING prep: V.verses\n",
      " 2m 42s LOADING API with EXTRAs: please wait ... \n",
      " 2m 42s USING main: etcbc4 DATA COMPILED AT: 2014-07-23T09-31-37\n",
      " 2m 42s NORMAL: DATA LOADED FROM SOURCE etcbc4 AND ANNOX  FOR TASK trees AT 2016-11-28T10-49-17\n",
      " 2m 42s Making verse index\n",
      " 2m 44s Done. 23213 verses\n",
      " 2m 44s WRITING prep: V.verses\n",
      " 2m 44s prep prep: V.books_la\n",
      " 2m 44s PREPARING prep: V.books_la\n",
      " 2m 44s Listing books\n",
      " 2m 45s Done. 39 books\n",
      " 2m 45s WRITING prep: V.books_la\n",
      " 2m 45s ETCBC reference: http://laf-fabric.readthedocs.org/en/latest/texts/ETCBC-reference.html\n",
      " 2m 48s INFO: LOADED PREPARED data\n",
      " 2m 48s INFO: DATA LOADED FROM SOURCE etcbc4 AND ANNOX lexicon FOR TASK trees AT 2016-11-28T10-49-23\n"
     ]
    }
   ],
   "source": [
    "API = fabric.load('etcbc4', '--', 'trees', {\n",
    "    \"xmlids\": {\"node\": False, \"edge\": False},\n",
    "    \"features\": ('''\n",
    "        oid otype monads\n",
    "        g_cons_utf8\n",
    "        sp\n",
    "        rela typ\n",
    "        label\n",
    "    ''','''\n",
    "        mother\n",
    "    '''),\n",
    "    \"prepare\": prepare,\n",
    "}, verbose='NORMAL')\n",
    "exec(fabric.localnames.format(var='fabric'))"
   ]
  },
  {
   "cell_type": "code",
   "execution_count": 3,
   "metadata": {},
   "outputs": [
    {
     "name": "stdout",
     "output_type": "stream",
     "text": [
      "Adju    : 5872x\n",
      "Attr    : 5930x\n",
      "Cmpl    : 241x\n",
      "CoVo    : 305x\n",
      "Coor    : 2858x\n",
      "NA      : 69400x\n",
      "Objc    : 1347x\n",
      "PrAd    : 1x\n",
      "PreC    : 156x\n",
      "Resu    : 1193x\n",
      "RgRc    : 198x\n",
      "Spec    : 41x\n",
      "Subj    : 436x\n"
     ]
    }
   ],
   "source": [
    "show_ccr = collections.defaultdict(lambda: 0)\n",
    "for n in NN():\n",
    "    otype = F.otype.v(n)\n",
    "    if otype == 'clause':\n",
    "        show_ccr[F.rela.v(n)] += 1\n",
    "for c in sorted(show_ccr):\n",
    "    print(\"{:<8}: {}x\".format(c, show_ccr[c]))"
   ]
  },
  {
   "cell_type": "markdown",
   "metadata": {},
   "source": [
    "Before we can apply tree construction, we have to specify the objects and features we work with, since the tree constructing\n",
    "algorithm can also work on slightly different data, with other object types and different feature names.\n",
    "\n",
    "We also construct an index that tells to which verse each sentence belongs."
   ]
  },
  {
   "cell_type": "code",
   "execution_count": 4,
   "metadata": {},
   "outputs": [],
   "source": [
    "type_info = (\n",
    "    (\"word\", ''),\n",
    "    (\"subphrase\", 'U'),\n",
    "    (\"phrase\", 'P'),\n",
    "    (\"clause\", 'C'),\n",
    "    (\"sentence\", 'S'),\n",
    ")\n",
    "type_table = dict(t for t in type_info)\n",
    "type_order = [t[0] for t in type_info]\n",
    "\n",
    "pos_table = {\n",
    " 'adjv': 'aj',\n",
    " 'advb': 'av',\n",
    " 'art': 'dt',\n",
    " 'conj': 'cj',\n",
    " 'intj': 'ij',\n",
    " 'inrg': 'ir',\n",
    " 'nega': 'ng',\n",
    " 'subs': 'n',\n",
    " 'nmpr': 'n-pr',\n",
    " 'prep': 'pp',\n",
    " 'prps': 'pr-ps',\n",
    " 'prde': 'pr-dem',\n",
    " 'prin': 'pr-int',\n",
    " 'verb': 'vb',\n",
    "}\n",
    "\n",
    "ccr_info = {\n",
    "    'Adju': ('r', 'Cadju'),\n",
    "    'Attr': ('r', 'Cattr'),\n",
    "    'Cmpl': ('r', 'Ccmpl'),\n",
    "    'CoVo': ('n', 'Ccovo'),\n",
    "    'Coor': ('x', 'Ccoor'),\n",
    "    'Objc': ('r', 'Cobjc'),\n",
    "    'PrAd': ('r', 'Cprad'),\n",
    "    'PreC': ('r', 'Cprec'),\n",
    "    'Resu': ('n', 'Cresu'),\n",
    "    'RgRc': ('r', 'Crgrc'),\n",
    "    'Spec': ('r', 'Cspec'),\n",
    "    'Subj': ('r', 'Csubj'),\n",
    "    'NA':   ('n', 'C'),\n",
    "\n",
    "}\n",
    "\n",
    "tree_types = ('sentence', 'clause', 'phrase', 'subphrase', 'word')\n",
    "(root_type, leaf_type, clause_type) = (tree_types[0], tree_types[-1], 'clause')\n",
    "ccr_table = dict((c[0],c[1][1]) for c in ccr_info.items())\n",
    "ccr_class = dict((c[0],c[1][0]) for c in ccr_info.items())\n",
    "\n",
    "root_verse = {}\n",
    "\n",
    "for n in NN():\n",
    "    otype = F.otype.v(n)\n",
    "    if otype == 'verse': cur_verse = F.label.v(n)\n",
    "    elif otype == root_type: root_verse[n] = cur_verse"
   ]
  },
  {
   "cell_type": "markdown",
   "metadata": {},
   "source": [
    "Now we can actually construct the tree by initializing a tree object.\n",
    "After that we call its ``restructure_clauses()`` method.\n",
    "\n",
    "Then we have two tree structures for each sentence: \n",
    "\n",
    "* the *etree*, i.e. the tree obtained by working out the embedding relationships and nothing else\n",
    "* the *rtree*, i.e. the tree obtained by restructuring the *etree*\n",
    "\n",
    "We have several tree relationships at our disposal:\n",
    "\n",
    "* *eparent* and its inverse *echildren*\n",
    "* *rparent* and its inverse *rchildren*\n",
    "* *eldest_sister* going from a mother clause of kind ``Coor`` (case 2) to its daughter clauses\n",
    "* *sisters* being the inverse of *eldest_sister*\n",
    "\n",
    "where *eldest_sister* and *sisters* only occur in the *rtree*.\n",
    "\n",
    "This will take a while (25 seconds approx on a MacBook Air 2012)."
   ]
  },
  {
   "cell_type": "code",
   "execution_count": 5,
   "metadata": {},
   "outputs": [
    {
     "name": "stderr",
     "output_type": "stream",
     "text": [
      "  0.00s LOADING API with EXTRAs: please wait ... \n",
      "  0.00s INFO: USING DATA COMPILED AT: 2014-07-23T09-31-37\n",
      "  1.48s INFO: DATA LOADED FROM SOURCE etcbc4 AND ANNOX -- FOR TASK trees AT 2015-03-26T06-42-46\n",
      "  0.00s Start computing parent and children relations for objects of type sentence, clause, phrase, subphrase, word\n",
      "  1.50s 100000 nodes\n",
      "  3.03s 200000 nodes\n",
      "  4.47s 300000 nodes\n",
      "  6.01s 400000 nodes\n",
      "  7.45s 500000 nodes\n",
      "  8.98s 600000 nodes\n",
      "    11s 700000 nodes\n",
      "    12s 800000 nodes\n",
      "    13s 900000 nodes\n",
      "    14s 947471 nodes: 881423 have parents and 520916 have children\n",
      "    14s Restructuring clauses: deep copying tree relations\n",
      "    21s Pass 0: Storing mother relationship\n",
      "    22s 18580 clauses have a mother\n",
      "    22s All clauses have mothers of types in {'word', 'phrase', 'subphrase', 'sentence', 'clause'}\n",
      "    22s Pass 1: all clauses except those of type Coor\n",
      "    23s Pass 2: clauses of type Coor only\n",
      "    24s Mothers applied. Found 0 motherless clauses.\n",
      "    24s 2497 nodes have 1 sisters\n",
      "    24s 167 nodes have 2 sisters\n",
      "    24s 9 nodes have 3 sisters\n",
      "    24s There are 2858 sisters, 2673 nodes have sisters.\n",
      "    24s Ready for processing\n"
     ]
    }
   ],
   "source": [
    "tree = Tree(API, otypes=tree_types, \n",
    "    clause_type=clause_type,\n",
    "    ccr_feature='rela',\n",
    "    pt_feature='typ',\n",
    "    pos_feature='sp',\n",
    "    mother_feature = 'mother',\n",
    ")\n",
    "tree.restructure_clauses(ccr_class)\n",
    "results = tree.relations()\n",
    "parent = results['rparent']\n",
    "sisters = results['sisters']\n",
    "children = results['rchildren']\n",
    "elder_sister = results['elder_sister']\n",
    "msg(\"Ready for processing\")"
   ]
  },
  {
   "cell_type": "markdown",
   "metadata": {},
   "source": [
    "# Checking for sanity"
   ]
  },
  {
   "cell_type": "markdown",
   "metadata": {},
   "source": [
    "Let us see whether the trees we have constructed satisfy some sanity constraints.\n",
    "After all, the algorithm is based on certain assumptions about the data, but are those assumptions valid?\n",
    "And restructuring is a tricky operation, do we have confidence that nothing went wrong?\n",
    "\n",
    "1. How many sentence nodes? From earlier queries we know what to expect.\n",
    "1. Does any sentence have a parent? If so, there is something wrong with our assumptions or algorithm.\n",
    "1. Is every top node a sentence? If not, we have material outside a sentence, which contradicts the assumptions.\n",
    "1. Do you reach all sentences if you go up from words? If not, some sentences do not contain words.\n",
    "1. Do you reach all words if you go down from sentences? If not, some words have become disconnected from their sentences.\n",
    "1. Do you reach the same words in reconstructed trees as in embedded trees? If not, some sentence material has got lost during the restructuring process.\n",
    "1. From what object types to what object types does the parent relationship link? Here we check that parents do not link object types that are too distant in the object type ranking.\n",
    "1. How many nodes have mothers and how many mothers can a node have? We expect at most one.\n",
    "1. From what object types to what object types does the mother relationship link?\n",
    "1. Is the mother of a clause always in the same sentence? If not, foreign sentences will be drawn in, leading to (very) big chunks. This may occur when we use mother relationships in cases where ``clause_constituent_relation`` has different values than the ones that should trigger restructuring.\n",
    "1. Has the max/average tree depth increased after restructuring? By how much? This is meant as an indication by how much our tree structures improve in significant hierarchy when we take the mother relationship into account."
   ]
  },
  {
   "cell_type": "code",
   "execution_count": 6,
   "metadata": {},
   "outputs": [
    {
     "name": "stderr",
     "output_type": "stream",
     "text": [
      " 1m 26s Counting sentences ... (expecting 66045 (in etcbc3: 71354))\n",
      " 1m 27s There are 66045 sentences\n"
     ]
    }
   ],
   "source": [
    "#1\n",
    "msg(\"Counting {}s ... (expecting 66045 (in etcbc3: 71354))\".format(root_type))\n",
    "msg(\"There are {} {}s\".format(len(set(NN(test=F.otype.v, value=root_type))), root_type))"
   ]
  },
  {
   "cell_type": "code",
   "execution_count": 7,
   "metadata": {},
   "outputs": [
    {
     "name": "stderr",
     "output_type": "stream",
     "text": [
      " 1m 30s Checking parents of sentences ... (expecting none)\n",
      " 1m 31s No sentence has a parent\n"
     ]
    }
   ],
   "source": [
    "#2\n",
    "msg(\"Checking parents of {}s ... (expecting none)\".format(root_type))\n",
    "exceptions = set()\n",
    "for node in NN(test=F.otype.v, value=root_type):\n",
    "    if node in parent: exceptions.add(node)\n",
    "if len(exceptions) == 0:\n",
    "    msg(\"No {} has a parent\".format(root_type))\n",
    "else:\n",
    "    msg(\"{} {}s have a parent:\".format(len(exceptions), root_type))\n",
    "    for n in sorted(exceptions):\n",
    "        p = parent[n]\n",
    "        msg(\"{} {} [{}] has {} parent {} [{}]\".format(\n",
    "            root_type, n, F.monads.v(n), \n",
    "            F.otype.v(p), p, F.monads.v(p)\n",
    "        ))"
   ]
  },
  {
   "cell_type": "code",
   "execution_count": 8,
   "metadata": {},
   "outputs": [
    {
     "name": "stderr",
     "output_type": "stream",
     "text": [
      " 1m 37s Checking the types of root nodes ... (should all be sentences)\n",
      " 1m 39s Top nodes which are not sentences:\n",
      "subphrase: 3x\n",
      " 1m 39s 66045 sentences seen\n"
     ]
    }
   ],
   "source": [
    "#3 (again a check on #1)\n",
    "msg(\"Checking the types of root nodes ... (should all be sentences)\")\n",
    "exceptions = collections.defaultdict(lambda: [])\n",
    "sn = 0\n",
    "for node in NN():\n",
    "    otype = F.otype.v(node)\n",
    "    if otype not in type_table: continue\n",
    "    if otype == root_type: sn += 1\n",
    "    if node not in parent and node not in elder_sister and otype != root_type: \n",
    "        exceptions[otype].append(node)\n",
    "if len(exceptions) == 0:\n",
    "    msg(\"All top nodes are {}s\".format(root_type))\n",
    "else:\n",
    "    msg(\"Top nodes which are not {}s:\".format(root_type))\n",
    "    for t in sorted(exceptions):\n",
    "        msg(\"{}: {}x\".format(t, len(exceptions[t])), withtime=False)\n",
    "msg(\"{} {}s seen\".format(sn, root_type))\n",
    "\n",
    "for c in exceptions[clause_type]:\n",
    "    (s, st) = tree.get_root(c, 'e')\n",
    "    v = root_verse[s]\n",
    "    msg(\"{}={}, {}={}={}, verse={}\".format(clause_type, c, root_type, st, s, v), withtime=False)"
   ]
  },
  {
   "cell_type": "code",
   "execution_count": 9,
   "metadata": {},
   "outputs": [
    {
     "name": "stderr",
     "output_type": "stream",
     "text": [
      " 1m 47s Embedding trees\n",
      " 1m 48s Starting from word nodes ...\n",
      "From 426555 word nodes reached 66045 sentence nodes\n",
      "From 426555 word nodes reached 3 subphrase nodes\n",
      " 1m 50s Starting from sentence nodes ...\n",
      "From 66045 sentence nodes reached 426552 word nodes\n",
      " 1m 51s Restructd trees\n",
      " 1m 52s Starting from word nodes ...\n",
      "From 426555 word nodes reached 66045 sentence nodes\n",
      "From 426555 word nodes reached 3 subphrase nodes\n",
      " 1m 54s Starting from sentence nodes ...\n",
      "From 66045 sentence nodes reached 425602 word nodes\n",
      " 1m 56s Done\n"
     ]
    }
   ],
   "source": [
    "#4, 5\n",
    "def get_top(kind, rel, rela, multi):\n",
    "    seen = set()\n",
    "    top_nodes = set()\n",
    "    start_nodes = set(NN(test=F.otype.v, value=kind))\n",
    "    next_nodes = start_nodes\n",
    "    msg(\"Starting from {} nodes ...\".format(kind))\n",
    "    while len(next_nodes):\n",
    "        new_next_nodes = set()\n",
    "        for node in next_nodes:\n",
    "            if node in seen: continue\n",
    "            seen.add(node)\n",
    "            is_top = True\n",
    "            if node in rel: \n",
    "                is_top = False\n",
    "                if multi:\n",
    "                    for c in rel[node]: new_next_nodes.add(c)\n",
    "                else:\n",
    "                    new_next_nodes.add(rel[node])\n",
    "            if node in rela: \n",
    "                is_top = False\n",
    "                if multi:\n",
    "                    for c in rela[node]: new_next_nodes.add(c)\n",
    "                else:\n",
    "                    new_next_nodes.add(rela[node])\n",
    "            if is_top: top_nodes.add(node)\n",
    "        next_nodes = new_next_nodes\n",
    "    top_types = collections.defaultdict(lambda: 0)\n",
    "    for t in top_nodes:\n",
    "        top_types[F.otype.v(t)] += 1\n",
    "    for t in top_types:\n",
    "        msg(\"From {} {} nodes reached {} {} nodes\".format(len(start_nodes), kind, top_types[t], t), withtime=False)\n",
    "\n",
    "msg(\"Embedding trees\")\n",
    "get_top(leaf_type, tree.eparent, {}, False)\n",
    "get_top(root_type, tree.echildren, {}, True)\n",
    "msg(\"Restructd trees\")\n",
    "get_top(leaf_type, tree.rparent, tree.elder_sister, False)\n",
    "get_top(root_type, tree.rchildren, tree.sisters, True)\n",
    "msg(\"Done\")"
   ]
  },
  {
   "cell_type": "code",
   "execution_count": 10,
   "metadata": {},
   "outputs": [
    {
     "name": "stderr",
     "output_type": "stream",
     "text": [
      " 1m 59s Verifying whether all monads are preserved under restructuring\n",
      " 2m 07s 3 mismatches:\n",
      "1176165 embedding: XX; restructd: XX\n",
      "1176166 embedding: XX; restructd: XX\n",
      "1188063 embedding: XX; restructd: XX\n"
     ]
    }
   ],
   "source": [
    "#6\n",
    "msg(\"Verifying whether all monads are preserved under restructuring\")\n",
    "errors = []\n",
    "#i = 10\n",
    "for snode in NN(test=F.otype.v, value=root_type):\n",
    "    declared_monads = monad_set(F.monads.v(snode))\n",
    "    results = {}\n",
    "    thisgood = {}\n",
    "    for kind in ('e', 'r'):\n",
    "        results[kind] = set(int(F.monads.v(l)) for l in tree.get_leaves(snode, kind) if F.otype.v(l) == leaf_type)\n",
    "        thisgood[kind] = declared_monads == results[kind]\n",
    "        #if not thisgood[kind]:\n",
    "            #print(\"{} D={}\\nL={}\".format(kind, declared_monads, results[kind]))\n",
    "            #i -= 1\n",
    "    #if i == 0: break\n",
    "    if False in thisgood.values(): errors.append((snode, thisgood['e'], thisgood['r']))\n",
    "msg(\"{} mismatches:\".format(len(errors)))\n",
    "mine = min(20, len(errors))\n",
    "skip = {e[0] for e in errors}\n",
    "for (s, e, r) in errors[0:mine]:\n",
    "    msg(\"{} embedding: {}; restructd: {}\".format(s, 'OK' if e else 'XX', 'OK' if r else 'XX'), withtime=False)"
   ]
  },
  {
   "cell_type": "code",
   "execution_count": 11,
   "metadata": {},
   "outputs": [
    {
     "name": "stderr",
     "output_type": "stream",
     "text": [
      " 2m 13s Which types embed which types and how often? ...\n",
      " 2m 15s Found 881423 parent (embedding) links between types\n",
      "('clause', 'sentence'): 87978x\n",
      "('phrase', 'clause'): 254662x\n",
      "('phrase', 'subphrase'): 2x\n",
      "('subphrase', 'phrase'): 83122x\n",
      "('subphrase', 'subphrase'): 29104x\n",
      "('word', 'phrase'): 303715x\n",
      "('word', 'subphrase'): 122840x\n",
      " 2m 17s Found 878565 parent (restructd) links between types\n",
      "('clause', 'clause'): 8117x\n",
      "('clause', 'phrase'): 5395x\n",
      "('clause', 'sentence'): 70898x\n",
      "('clause', 'subphrase'): 710x\n",
      "('phrase', 'clause'): 254662x\n",
      "('phrase', 'subphrase'): 2x\n",
      "('subphrase', 'phrase'): 83122x\n",
      "('subphrase', 'subphrase'): 29104x\n",
      "('word', 'phrase'): 303715x\n",
      "('word', 'subphrase'): 122840x\n"
     ]
    }
   ],
   "source": [
    "#7\n",
    "msg(\"Which types embed which types and how often? ...\")\n",
    "for kind in ('e', 'r'):\n",
    "    plinked_types = collections.defaultdict(lambda: 0)\n",
    "    parent = tree.eparent if kind == 'e' else tree.rparent\n",
    "    kindrep = 'embedding' if kind == 'e' else 'restructd'\n",
    "    for (c, p) in parent.items():\n",
    "        plinked_types[(F.otype.v(c), F.otype.v(p))] += 1\n",
    "    msg(\"Found {} parent ({}) links between types\".format(len(parent), kindrep))\n",
    "    for lt in sorted(plinked_types):\n",
    "        msg(\"{}: {}x\".format(lt, plinked_types[lt]), withtime=False)"
   ]
  },
  {
   "cell_type": "code",
   "execution_count": 12,
   "metadata": {},
   "outputs": [
    {
     "name": "stderr",
     "output_type": "stream",
     "text": [
      " 2m 21s How many mothers can nodes have? ...\n",
      " 2m 27s There are 18580 tree nodes with a mother\n",
      "18580 nodes have 1 mother\n"
     ]
    }
   ],
   "source": [
    "#8\n",
    "msg(\"How many mothers can nodes have? ...\")\n",
    "mother_len = {}\n",
    "for c in NN():\n",
    "    lms = list(C.mother.v(c))\n",
    "    nms = len(lms)\n",
    "    if nms: mother_len[c] = nms\n",
    "count = collections.defaultdict(lambda: 0)\n",
    "for c in tree.mother: count[mother_len[c]] += 1\n",
    "msg(\"There are {} tree nodes with a mother\".format(len(tree.mother)))\n",
    "for cnt in sorted(count):\n",
    "    msg(\"{} nodes have {} mother{}\".format(count[cnt], cnt, 's' if cnt != 1 else ''), withtime=False)      "
   ]
  },
  {
   "cell_type": "code",
   "execution_count": 13,
   "metadata": {},
   "outputs": [
    {
     "name": "stderr",
     "output_type": "stream",
     "text": [
      " 2m 33s Which types have mother links to which types and how often? ...\n",
      " 2m 33s Found 878565 mother links between types\n",
      "('clause', 'Adju', 'clause'): 5872x\n",
      "('clause', 'Attr', 'clause'): 45x\n",
      "('clause', 'Attr', 'phrase'): 5128x\n",
      "('clause', 'Attr', 'word'): 757x\n",
      "('clause', 'Cmpl', 'clause'): 241x\n",
      "('clause', 'CoVo', 'clause'): 305x\n",
      "('clause', 'Coor', 'clause'): 2845x\n",
      "('clause', 'Coor', 'phrase'): 13x\n",
      "('clause', 'NA', 'clause'): 2x\n",
      "('clause', 'Objc', 'clause'): 1347x\n",
      "('clause', 'PrAd', 'clause'): 1x\n",
      "('clause', 'PreC', 'clause'): 156x\n",
      "('clause', 'Resu', 'clause'): 1193x\n",
      "('clause', 'RgRc', 'clause'): 4x\n",
      "('clause', 'RgRc', 'phrase'): 1x\n",
      "('clause', 'RgRc', 'word'): 193x\n",
      "('clause', 'Spec', 'clause'): 15x\n",
      "('clause', 'Spec', 'phrase'): 25x\n",
      "('clause', 'Spec', 'word'): 1x\n",
      "('clause', 'Subj', 'clause'): 436x\n"
     ]
    }
   ],
   "source": [
    "#9\n",
    "msg(\"Which types have mother links to which types and how often? ...\")\n",
    "mlinked_types = collections.defaultdict(lambda: set())\n",
    "for (c, m) in tree.mother.items():\n",
    "    ctype = F.otype.v(c)\n",
    "    mlinked_types[(ctype, F.rela.v(c), F.otype.v(m))].add(c)\n",
    "msg(\"Found {} mother links between types\".format(len(parent)))\n",
    "for lt in sorted(mlinked_types):\n",
    "    msg(\"{}: {}x\".format(lt, len(mlinked_types[lt])), withtime=False)"
   ]
  },
  {
   "cell_type": "code",
   "execution_count": 14,
   "metadata": {},
   "outputs": [
    {
     "name": "stderr",
     "output_type": "stream",
     "text": [
      " 2m 42s Counting clauses with mothers in another sentence\n",
      " 2m 42s 0 nodes have a mother in another sentence\n"
     ]
    }
   ],
   "source": [
    "#10\n",
    "msg(\"Counting {}s with mothers in another {}\".format(clause_type, root_type))\n",
    "exceptions = set()\n",
    "for node in tree.mother:\n",
    "    if F.otype.v(node) not in type_table: continue\n",
    "    mnode = tree.mother[node]\n",
    "    snode = tree.get_root(node, 'e')\n",
    "    smnode = tree.get_root(mnode, 'e')\n",
    "    if snode != smnode:\n",
    "        exceptions.add((node, snode, smnode))\n",
    "msg(\"{} nodes have a mother in another {}\".format(len(exceptions), root_type))\n",
    "for (n, sn, smn) in exceptions:\n",
    "    msg(\"[{} {}]({}) occurs in {} but has mother in {}\".format(F.otype.v(n), F.monads.v(n), n, sn, smn), withtime=False)"
   ]
  },
  {
   "cell_type": "code",
   "execution_count": 15,
   "metadata": {},
   "outputs": [
    {
     "name": "stderr",
     "output_type": "stream",
     "text": [
      " 2m 47s Computing lengths and depths\n",
      " 2m 52s 66045 trees seen, of which in 9655 cases restructuring makes a difference in depth\n",
      " 2m 52s Embedding trees: max depth = 13, average depth = 3.6\n",
      " 2m 52s Restructd trees: max depth = 19, average depth = 3.8\n",
      " 2m 52s Statistics for cases where restructuring makes a difference:\n",
      " 2m 52s Embedding trees: max depth = 13, average depth = 3.7\n",
      " 2m 52s Restructd trees: max depth = 19, average depth = 5.3\n",
      " 2m 52s Total number of leaves in the trees: 426555, average number of leaves = 6.5\n"
     ]
    }
   ],
   "source": [
    "#11\n",
    "msg(\"Computing lengths and depths\")\n",
    "ntrees = 0\n",
    "rntrees = 0\n",
    "total_depth = {'e': 0, 'r': 0}\n",
    "rtotal_depth = {'e': 0, 'r': 0}\n",
    "max_depth = {'e': 0, 'r':0}\n",
    "rmax_depth = {'e': 0, 'r': 0}\n",
    "total_length = 0\n",
    "\n",
    "for node in NN(test=F.otype.v, value=root_type):\n",
    "    ntrees += 1\n",
    "    total_length += tree.length(node)\n",
    "    this_depth = {}\n",
    "    for kind in ('e', 'r'):\n",
    "        this_depth[kind] = tree.depth(node, kind)\n",
    "    different = this_depth['e'] != this_depth['r']\n",
    "    if different: rntrees += 1\n",
    "    for kind in ('e', 'r'):\n",
    "        if this_depth[kind] > max_depth[kind]: max_depth[kind] = this_depth[kind]\n",
    "        total_depth[kind] += this_depth[kind]\n",
    "        if different:\n",
    "            if this_depth[kind] > rmax_depth[kind]: rmax_depth[kind] = this_depth[kind]\n",
    "            rtotal_depth[kind] += this_depth[kind]\n",
    "                \n",
    "msg(\"{} trees seen, of which in {} cases restructuring makes a difference in depth\".format(ntrees, rntrees))\n",
    "if ntrees > 0:\n",
    "    msg(\"Embedding trees: max depth = {:>2}, average depth = {:.2g}\".format(max_depth['e'], total_depth['e'] / ntrees))\n",
    "    msg(\"Restructd trees: max depth = {:>2}, average depth = {:.2g}\".format(max_depth['r'], total_depth['r'] / ntrees))\n",
    "if rntrees > 0:\n",
    "    msg(\"Statistics for cases where restructuring makes a difference:\")\n",
    "    msg(\"Embedding trees: max depth = {:>2}, average depth = {:.2g}\".format(rmax_depth['e'], rtotal_depth['e'] / rntrees))\n",
    "    msg(\"Restructd trees: max depth = {:>2}, average depth = {:.2g}\".format(rmax_depth['r'], rtotal_depth['r'] / rntrees))\n",
    "msg(\"Total number of leaves in the trees: {}, average number of leaves = {:.2g}\".format(total_length, total_length / ntrees))"
   ]
  },
  {
   "cell_type": "markdown",
   "metadata": {},
   "source": [
    "# Writing Trees"
   ]
  },
  {
   "cell_type": "markdown",
   "metadata": {},
   "source": [
    "After all these checks we can proceed to print out the tree structures as plain, bracketed text strings.\n",
    "\n",
    "Per tree we also print a string of the monad numbers that you get when you walk the tree in pre-order.\n",
    "And we produce object ids from the EMDROS database and node ids from the LAF version.\n",
    "\n",
    "First we apply our algorithms to a limited set of interesting trees and a random sample.\n",
    "For those cases we also apply a ``debug_write()`` method that outputs considerably more information.\n",
    "\n",
    "This output has been visually checked by Constantijn Sikkel and Dirk Roorda."
   ]
  },
  {
   "cell_type": "code",
   "execution_count": 16,
   "metadata": {},
   "outputs": [],
   "source": [
    "def get_tag(node):\n",
    "    otype = F.otype.v(node)\n",
    "    tag = type_table[otype]\n",
    "    if tag == 'P': tag = F.typ.v(node)\n",
    "    elif tag == 'C': tag = ccr_table[F.rela.v(node)]\n",
    "    is_word = tag == ''\n",
    "    pos = pos_table[F.sp.v(node)] if is_word else None\n",
    "    monad = int(F.monads.v(node)) if is_word else None\n",
    "    text = '\"{}\"'.format(F.g_cons_utf8.v(node)) if is_word else None\n",
    "    return (tag, pos, monad, text, is_word)\n",
    "\n",
    "def passage_roots(verse_label):\n",
    "    sought = []\n",
    "    grab = -1\n",
    "    for n in NN():\n",
    "        if grab == 1: continue\n",
    "        otype = F.otype.v(n)\n",
    "        if otype == 'verse': \n",
    "            check = F.label.v(n) == verse_label\n",
    "            if check: grab = 0\n",
    "            elif grab == 0: grab = 1\n",
    "        if grab == 0 and otype == root_type: sought.append(n)\n",
    "    return sought\n",
    "\n",
    "def showcases(cases, ofile):\n",
    "    out = outfile(ofile)\n",
    "    for snode in cases:\n",
    "        out.write(\"\\n====================\\n{}\\n{}\\n{} bhs_id={} laf_node={}:\\n\".format(\n",
    "            root_verse[snode], cases[snode], root_type, F.oid.v(snode), snode,\n",
    "        ))\n",
    "        for kind in ('e', 'r'):\n",
    "            out.write(\"\\nTree based on monad embedding {}\\n\\n\".format(\n",
    "                \"only\" if kind == 'e' else \" and mother+clause_constituent relation\"\n",
    "            ))\n",
    "            (tree_rep, words_rep, bmonad) = tree.write_tree(snode, kind, get_tag, rev=False, leafnumbers=False)\n",
    "            out.write(\"{}\\n\\n{}\\n\".format(words_rep, tree_rep))\n",
    "            out.write(\"\\nDepth={}\\n\".format(tree.depth(snode, kind)))\n",
    "            out.write(tree.debug_write_tree(snode, kind, legenda=kind=='r'))\n",
    "    out.close()\n",
    "    \n",
    "\n",
    "# below holds for etcbc3, in etcbc4 we have less problem cases\n",
    "\n",
    "problem_desc = collections.OrderedDict((\n",
    "    (1131739, \"debug reorder\"),\n",
    "    (1131712, \"interesting\"), \n",
    "    (1131701, \"interesting\"),\n",
    "    (1140469, \"subject clause order\"),\n",
    "    (passage_roots(' GEN 01,16')[1], \"interesting\"), \n",
    "    (1164864, \"interesting\"),\n",
    "    (1143081, \"cyclic mothers\"),\n",
    "    (1153973, \"cyclic mothers\"),\n",
    "    (1158971, \"cyclic mothers\"),\n",
    "    (1158971, \"cyclic mothers\"),\n",
    "    (1160416, \"cyclic mothers\"),\n",
    "    (1160464, \"cyclic mothers\"),\n",
    "    (1161141, \"nested cyclic mothers: C.coor => C.attr => P below first C.coor\"), \n",
    "    (1163666, \"cyclic mothers\"), \n",
    "    (1164830, \"cyclic mothers\"), \n",
    "    (1167680, \"cyclic mothers\"), \n",
    "    (1170057, \"cyclic mothers\"), \n",
    "    (1193065, \"cyclic mothers\"), \n",
    "    (1199681, \"cyclic mothers\"), \n",
    "    (1199682, \"mother points outside sentence\"),\n",
    "))\n",
    "fixed_sample = (\n",
    "    1167680,\n",
    "    1167152,\n",
    "    1145250,\n",
    "    1154339,\n",
    "    1136677,\n",
    "    1166385,\n",
    "    1198984,\n",
    "    1152969,\n",
    "    1153930,\n",
    "    1150648,\n",
    "    1168396,\n",
    "    1151917,\n",
    "    1164750,\n",
    "    1156719,\n",
    "    1148048,\n",
    "    1138673,\n",
    "    1134184,\n",
    "    1156789,\n",
    "    1156600,\n",
    "    1140469,\n",
    ")\n",
    "sample_size = 20\n",
    "sample = {}\n",
    "fsample = collections.OrderedDict()\n",
    "mother_keys = list(sorted(tree.mother))\n",
    "for s in range(20):\n",
    "    r = random.randint(0, len(mother_keys) - 1)\n",
    "    snode = tree.get_root(tree.mother[mother_keys[r]], 'e')[0]\n",
    "    sample[snode] = 'random sample in {}s with {}s with mothers'.format(root_type, clause_type)\n",
    "for snode in fixed_sample:\n",
    "    fsample[snode] = 'random sample in {}s with {}s with mothers'.format(root_type, clause_type)\n",
    "\n",
    "#showcases(problem_desc, \"tree_notabene.txt\")\n",
    "showcases(sample, 'trees_random_{}.txt'.format(sample_size))\n",
    "#showcases(fsample, 'trees_fixed_{}.txt'.format(len(fsample)))"
   ]
  },
  {
   "cell_type": "markdown",
   "metadata": {},
   "source": [
    "Finally, here is the production of the whole set of trees."
   ]
  },
  {
   "cell_type": "code",
   "execution_count": 17,
   "metadata": {},
   "outputs": [
    {
     "name": "stderr",
     "output_type": "stream",
     "text": [
      " 2m 59s Writing sentence trees\n",
      " 3m 07s 10000 trees written\n",
      " 3m 15s 20000 trees written\n",
      " 3m 23s 30000 trees written\n",
      " 3m 31s 40000 trees written\n",
      " 3m 38s 50000 trees written\n",
      " 3m 44s 60000 trees written\n",
      " 3m 49s 66042 trees written\n"
     ]
    }
   ],
   "source": [
    "msg(\"Writing {} trees\".format(root_type))\n",
    "trees = outfile(\"trees.txt\")\n",
    "verse_label = ''\n",
    "s = 0\n",
    "chunk = 10000\n",
    "sc = 0\n",
    "for node in NN():\n",
    "    if node in skip: continue\n",
    "    otype = F.otype.v(node)\n",
    "    oid = F.oid.v(node)\n",
    "    if  otype == 'verse':\n",
    "        verse_label = F.label.v(node)\n",
    "        continue\n",
    "    if otype != root_type: continue\n",
    "    (tree_rep, words_rep, bmonad) = tree.write_tree(node, 'r', get_tag, rev=False, leafnumbers=False)\n",
    "    trees.write(\"\\n#{}\\tnode={}\\toid={}\\tbmonad={}\\t{}\\n{}\\n\".format(\n",
    "        verse_label, node, oid, bmonad, words_rep, tree_rep,\n",
    "    ))\n",
    "    s += 1\n",
    "    sc += 1\n",
    "    if sc == chunk:\n",
    "        msg(\"{} trees written\".format(s))\n",
    "        sc = 0\n",
    "trees.close()    \n",
    "msg(\"{} trees written\".format(s))"
   ]
  },
  {
   "cell_type": "code",
   "execution_count": 18,
   "metadata": {},
   "outputs": [
    {
     "name": "stderr",
     "output_type": "stream",
     "text": [
      "28m 19s Results directory:\n",
      "/Users/dirk/laf-fabric-output/etcbc4/trees\n",
      "\n",
      "__log__trees.txt                       4903 Mon Sep 29 17:18:53 2014\n",
      "anomalies.txt                             0 Tue Jul 15 14:40:09 2014\n",
      "coor.txt                             157892 Tue Jul 15 17:45:28 2014\n",
      "depths.txt                           661357 Tue Jul 15 17:45:26 2014\n",
      "tgrep_result.txt                    4619456 Tue Jul 15 17:45:14 2014\n",
      "tree_notabene.txt                     52483 Tue Jul 15 17:28:29 2014\n",
      "trees.t2c                          12099621 Tue Jul 15 17:31:12 2014\n",
      "trees.txt                          11737304 Mon Sep 29 16:54:23 2014\n",
      "trees_fixed_20.txt                    14133 Tue Jul 15 17:28:29 2014\n",
      "trees_random_20.txt                  105541 Mon Sep 29 16:53:31 2014\n"
     ]
    }
   ],
   "source": [
    "close()"
   ]
  },
  {
   "cell_type": "markdown",
   "metadata": {},
   "source": [
    "# Preview"
   ]
  },
  {
   "cell_type": "markdown",
   "metadata": {},
   "source": [
    "Here are the first lines of the output."
   ]
  },
  {
   "cell_type": "code",
   "execution_count": 19,
   "metadata": {},
   "outputs": [
    {
     "name": "stdout",
     "output_type": "stream",
     "text": [
      "\r\n",
      "# GEN 01,01\tnode=1127306\toid=11\tbmonad=1\t0 1 2 3 4 5 6 7 8 9 10\r\n",
      "(S(C(PP(pp \"ב\")(n \"ראשׁית\"))(VP(vb \"ברא\"))(NP(n \"אלהים\"))(PP(U(pp \"את\")(dt \"ה\")(n \"שׁמים\"))(cj \"ו\")(U(pp \"את\")(dt \"ה\")(n \"ארץ\")))))\r\n",
      "\r\n",
      "# GEN 01,02\tnode=1127307\toid=39\tbmonad=12\t0 1 2 3 4 5 6\r\n",
      "(S(C(CP(cj \"ו\"))(NP(dt \"ה\")(n \"ארץ\"))(VP(vb \"היתה\"))(NP(U(n \"תהו\"))(cj \"ו\")(U(n \"בהו\")))))\r\n",
      "\r\n",
      "# GEN 01,02\tnode=1127308\toid=60\tbmonad=19\t0 1 2 3 4\r\n",
      "(S(C(CP(cj \"ו\"))(NP(n \"חשׁך\"))(PP(pp \"על\")(U(n \"פני\"))(U(n \"תהום\")))))\r\n",
      "\r\n",
      "# GEN 01,02\tnode=1127309\toid=78\tbmonad=24\t0 1 2 3 4 5 6 7\r\n",
      "(S(C(CP(cj \"ו\"))(NP(U(n \"רוח\"))(U(n \"אלהים\")))(VP(vb \"מרחפת\"))(PP(pp \"על\")(U(n \"פני\"))(U(dt \"ה\")(n \"מים\")))))\r\n",
      "\r\n",
      "# GEN 01,03\tnode=1127310\toid=104\tbmonad=32\t0 1 2\r\n",
      "(S(C(CP(cj \"ו\"))(VP(vb \"יאמר\"))(NP(n \"אלהים\"))))\r\n",
      "\r\n",
      "# GEN 01,03\tnode=1127311\toid=117\tbmonad=35\t0 1\r\n",
      "(S(C(VP(vb \"יהי\"))(NP(n \"אור\"))))\r\n",
      "\r\n",
      "# GEN 01,03\tnode=1127312\toid=128\tbmonad=37\t0 1 2\r\n",
      "(S(C(CP(cj \"ו\"))(VP(vb \"יהי\"))(NP(n \"אור\"))))\r\n",
      "\r\n",
      "# GEN 01,04\tnode=1127313\toid=143\tbmonad=40\t0 1 2 3 4 5 6 7\r\n",
      "(S(C(CP(cj \"ו\"))(VP(vb \"ירא\"))(NP(n \"אלהים\"))(PP(pp \"את\")(dt \"ה\")(n \"אור\"))(Cobjc(CP(cj \"כי\"))(VP(vb \"טוב\")))))\r\n",
      "\r\n"
     ]
    }
   ],
   "source": [
    "!head -n 25 {my_file('trees.txt')}"
   ]
  },
  {
   "cell_type": "code",
   "execution_count": 15,
   "metadata": {},
   "outputs": [],
   "source": []
  }
 ],
 "metadata": {
  "kernelspec": {
   "display_name": "Python 3",
   "language": "python",
   "name": "python3"
  },
  "language_info": {
   "codemirror_mode": {
    "name": "ipython",
    "version": 3
   },
   "file_extension": ".py",
   "mimetype": "text/x-python",
   "name": "python",
   "nbconvert_exporter": "python",
   "pygments_lexer": "ipython3",
   "version": "3.6.2"
  }
 },
 "nbformat": 4,
 "nbformat_minor": 1
}
