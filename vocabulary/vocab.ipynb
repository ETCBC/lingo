{
 "cells": [
  {
   "cell_type": "markdown",
   "metadata": {},
   "source": [
    "<img align=\"right\" src=\"images/dans-small.png\"/>\n",
    "<img align=\"right\" src=\"images/tf-small.png\"/>\n",
    "<img align=\"right\" src=\"images/etcbc.png\"/>\n",
    "\n",
    "\n",
    "# Vocabulary\n",
    "\n",
    "This notebook creates a list of all Hebrew and Aramaic lexemes, with glosses and frequences, listed in\n",
    "reverse frequency order,\n",
    "This list is stored as \n",
    "[vocab.tsv](vocab.tsv), a tab-separated, plain unicode text file.\n",
    "\n",
    "This is an answer to a [question by Kirk Lowery](http://bhebrew.biblicalhumanities.org/viewtopic.php?f=7&t=946)."
   ]
  },
  {
   "cell_type": "code",
   "execution_count": 1,
   "metadata": {},
   "outputs": [],
   "source": [
    "import os\n",
    "\n",
    "from tf.fabric import Fabric"
   ]
  },
  {
   "cell_type": "markdown",
   "metadata": {},
   "source": [
    "# Load data\n",
    "We load the some features of the\n",
    "[BHSA](https://github.com/etcbc/bhsa) data.\n",
    "See the [feature documentation](https://etcbc.github.io/bhsa/features/hebrew/2017/0_home.html) for more info."
   ]
  },
  {
   "cell_type": "code",
   "execution_count": 2,
   "metadata": {},
   "outputs": [
    {
     "name": "stdout",
     "output_type": "stream",
     "text": [
      "This is Text-Fabric 3.1.1\n",
      "Api reference : https://github.com/Dans-labs/text-fabric/wiki/Api\n",
      "Tutorial      : https://github.com/Dans-labs/text-fabric/blob/master/docs/tutorial.ipynb\n",
      "Example data  : https://github.com/Dans-labs/text-fabric-data\n",
      "\n",
      "114 features found and 0 ignored\n",
      "  0.00s loading features ...\n",
      "   |     0.14s B language             from /Users/dirk/github/etcbc/BHSA/tf/2017\n",
      "   |     0.15s B lex                  from /Users/dirk/github/etcbc/BHSA/tf/2017\n",
      "   |     0.01s B voc_lex_utf8         from /Users/dirk/github/etcbc/BHSA/tf/2017\n",
      "   |     0.01s B gloss                from /Users/dirk/github/etcbc/BHSA/tf/2017\n",
      "   |     0.10s B freq_lex             from /Users/dirk/github/etcbc/BHSA/tf/2017\n",
      "   |     0.00s Feature overview: 108 for nodes; 5 for edges; 1 configs; 7 computed\n",
      "  5.56s All features loaded/computed - for details use loadLog()\n"
     ]
    }
   ],
   "source": [
    "BHSA = 'BHSA/tf/2017'\n",
    "\n",
    "TF = Fabric(locations='~/github/etcbc', modules=BHSA)\n",
    "api = TF.load('''\n",
    "    language\n",
    "    lex\n",
    "    voc_lex_utf8\n",
    "    gloss\n",
    "    freq_lex\n",
    "''')\n",
    "api.makeAvailableIn(globals())"
   ]
  },
  {
   "cell_type": "markdown",
   "metadata": {},
   "source": [
    "We walk through all lexemes, and collect their language, lexeme identifier, vocalized lexeme representation,\n",
    "gloss, and frequency. \n",
    "We combine it in one list."
   ]
  },
  {
   "cell_type": "code",
   "execution_count": 3,
   "metadata": {},
   "outputs": [],
   "source": [
    "vocab = []\n",
    "for lexNode in F.otype.s('lex'):\n",
    "    vocab.append((\n",
    "        F.freq_lex.v(lexNode),\n",
    "        F.language.v(lexNode),\n",
    "        F.lex.v(lexNode),\n",
    "        F.gloss.v(lexNode),\n",
    "        F.voc_lex_utf8.v(lexNode),\n",
    "    ))"
   ]
  },
  {
   "cell_type": "markdown",
   "metadata": {},
   "source": [
    "We sort the list on frequency, then language, then vocalised lexeme."
   ]
  },
  {
   "cell_type": "code",
   "execution_count": 4,
   "metadata": {},
   "outputs": [],
   "source": [
    "vocab = sorted(vocab, key=lambda e: (-e[0], e[1], e[4]))"
   ]
  },
  {
   "cell_type": "markdown",
   "metadata": {},
   "source": [
    "Here are the first 10."
   ]
  },
  {
   "cell_type": "code",
   "execution_count": 5,
   "metadata": {},
   "outputs": [
    {
     "data": {
      "text/plain": [
       "[(50272, 'hbo', 'W', 'and', 'וְ'),\n",
       " (30386, 'hbo', 'H', 'the', 'הַ'),\n",
       " (20069, 'hbo', 'L', 'to', 'לְ'),\n",
       " (15542, 'hbo', 'B', 'in', 'בְּ'),\n",
       " (10997, 'hbo', '>T', '<object marker>', 'אֵת'),\n",
       " (7562, 'hbo', 'MN', 'from', 'מִן'),\n",
       " (6828, 'hbo', 'JHWH/', 'YHWH', 'יְהוָה'),\n",
       " (5766, 'hbo', '<L', 'upon', 'עַל'),\n",
       " (5517, 'hbo', '>L', 'to', 'אֶל'),\n",
       " (5500, 'hbo', '>CR', '<relative>', 'אֲשֶׁר')]"
      ]
     },
     "execution_count": 5,
     "metadata": {},
     "output_type": "execute_result"
    }
   ],
   "source": [
    "vocab[0:10]"
   ]
  },
  {
   "cell_type": "markdown",
   "metadata": {},
   "source": [
    "`hbo` and `arc` are \n",
    "[ISO codes](https://www.loc.gov/standards/iso639-2/php/code_list.php) for the Hebrew and Aramaic languages."
   ]
  },
  {
   "cell_type": "markdown",
   "metadata": {},
   "source": [
    "We store the result in [vocab.tsv](vocab.tsv)"
   ]
  },
  {
   "cell_type": "code",
   "execution_count": 6,
   "metadata": {},
   "outputs": [],
   "source": [
    "with open('vocab.tsv', 'w') as f:\n",
    "    f.write('frequency\\tlanguage\\tidentifier\\tgloss\\tlexeme\\n') #header\n",
    "    for entry in vocab:\n",
    "        f.write('{}\\t{}\\t{}\\t{}\\t{}\\n'.format(*entry))"
   ]
  },
  {
   "cell_type": "code",
   "execution_count": null,
   "metadata": {},
   "outputs": [],
   "source": []
  }
 ],
 "metadata": {
  "kernelspec": {
   "display_name": "Python 3",
   "language": "python",
   "name": "python3"
  },
  "language_info": {
   "codemirror_mode": {
    "name": "ipython",
    "version": 3
   },
   "file_extension": ".py",
   "mimetype": "text/x-python",
   "name": "python",
   "nbconvert_exporter": "python",
   "pygments_lexer": "ipython3",
   "version": "3.6.2"
  }
 },
 "nbformat": 4,
 "nbformat_minor": 2
}
