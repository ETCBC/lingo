{
 "cells": [
  {
   "cell_type": "markdown",
   "metadata": {},
   "source": [
    "<img align=\"right\" src=\"images/dans-small.png\"/>\n",
    "<img align=\"right\" src=\"images/tf-small.png\"/>\n",
    "<img align=\"right\" src=\"images/etcbc.png\"/>\n",
    "\n",
    "\n",
    "# Voyant\n",
    "\n",
    "[voyant](http://voyant-tools.org/docs/#!/guide/start)\n",
    "is an online suite with corpus tools.\n",
    "\n",
    "In order to experiment with it, we prepare the Hebrew Bible in various ways into a corpus,\n",
    "to be uploaded to Voyant."
   ]
  },
  {
   "cell_type": "code",
   "execution_count": 1,
   "metadata": {},
   "outputs": [],
   "source": [
    "import os\n",
    "\n",
    "from tf.fabric import Fabric\n"
   ]
  },
  {
   "cell_type": "markdown",
   "metadata": {},
   "source": [
    "# Load data\n",
    "We load the\n",
    "[BHSA](https://github.com/etcbc/bhsa) data.\n",
    "See the [feature documentation](https://etcbc.github.io/bhsa/features/hebrew/2017/0_home.html) for more info."
   ]
  },
  {
   "cell_type": "code",
   "execution_count": 27,
   "metadata": {},
   "outputs": [],
   "source": [
    "VERSION = \"2017\"\n",
    "BHSA = f\"BHSA/tf/{VERSION}\"\n",
    "PHONO = f\"phono/tf/{VERSION}\"\n",
    "CORPUS_BASE = \"_temp/corpora\""
   ]
  },
  {
   "cell_type": "code",
   "execution_count": 2,
   "metadata": {},
   "outputs": [
    {
     "name": "stdout",
     "output_type": "stream",
     "text": [
      "This is Text-Fabric 3.1.1\n",
      "Api reference : https://github.com/Dans-labs/text-fabric/wiki/Api\n",
      "Tutorial      : https://github.com/Dans-labs/text-fabric/blob/master/docs/tutorial.ipynb\n",
      "Example data  : https://github.com/Dans-labs/text-fabric-data\n",
      "\n",
      "118 features found and 0 ignored\n",
      "  0.00s loading features ...\n",
      "   |     0.00s Feature overview: 111 for nodes; 5 for edges; 2 configs; 7 computed\n",
      "  4.85s All features loaded/computed - for details use loadLog()\n"
     ]
    }
   ],
   "source": [
    "TF = Fabric(locations=\"~/github/etcbc\", modules=[BHSA, PHONO])\n",
    "api = TF.load(\n",
    "    \"\"\"\n",
    "\"\"\"\n",
    ")\n",
    "api.makeAvailableIn(globals())"
   ]
  },
  {
   "cell_type": "markdown",
   "metadata": {},
   "source": [
    "We produce corpora by text format and by granularity.\n",
    "The text format must be a string from `T.formats` (see next cell),\n",
    "the granularity must be one of `book chapter verse`."
   ]
  },
  {
   "cell_type": "code",
   "execution_count": 5,
   "metadata": {},
   "outputs": [
    {
     "data": {
      "text/plain": [
       "{'lex-orig-full',\n",
       " 'lex-orig-plain',\n",
       " 'lex-trans-full',\n",
       " 'lex-trans-plain',\n",
       " 'text-orig-full',\n",
       " 'text-orig-full-ketiv',\n",
       " 'text-orig-plain',\n",
       " 'text-phono-full',\n",
       " 'text-trans-full',\n",
       " 'text-trans-full-ketiv',\n",
       " 'text-trans-plain'}"
      ]
     },
     "execution_count": 5,
     "metadata": {},
     "output_type": "execute_result"
    }
   ],
   "source": [
    "T.formats"
   ]
  },
  {
   "cell_type": "code",
   "execution_count": 31,
   "metadata": {},
   "outputs": [],
   "source": [
    "levels = dict(book=1, chapter=2, verse=3)\n",
    "\n",
    "\n",
    "def makeCorpus(fmt, granularity):\n",
    "    corpusDir = f\"{CORPUS_BASE}/{fmt}/by_{granularity}\"\n",
    "    os.makedirs(corpusDir, exist_ok=True)\n",
    "    for doc in F.otype.s(granularity):\n",
    "        section = T.sectionFromNode(doc)[0 : levels[granularity]]\n",
    "        fileName = f'{\"-\".join(str(s) for s in section)}.txt'\n",
    "        with open(f\"{corpusDir}/{fileName}\", \"w\") as fh:\n",
    "            for s in L.d(doc, otype=\"sentence\"):\n",
    "                fh.write(T.text(L.d(s, otype=\"word\"), fmt=fmt))\n",
    "                fh.write(\"\\n\")"
   ]
  },
  {
   "cell_type": "code",
   "execution_count": 28,
   "metadata": {},
   "outputs": [],
   "source": [
    "makeCorpus(\"text-orig-full\", \"chapter\")"
   ]
  },
  {
   "cell_type": "code",
   "execution_count": 29,
   "metadata": {},
   "outputs": [],
   "source": [
    "makeCorpus(\"text-phono-full\", \"chapter\")"
   ]
  },
  {
   "cell_type": "code",
   "execution_count": 32,
   "metadata": {},
   "outputs": [],
   "source": [
    "makeCorpus(\"text-phono-full\", \"book\")"
   ]
  },
  {
   "cell_type": "code",
   "execution_count": 33,
   "metadata": {},
   "outputs": [],
   "source": [
    "makeCorpus(\"text-orig-full\", \"book\")"
   ]
  },
  {
   "cell_type": "code",
   "execution_count": 56,
   "metadata": {},
   "outputs": [],
   "source": [
    "jb = T.nodeFromSection((\"Jeremiah\",))"
   ]
  },
  {
   "cell_type": "code",
   "execution_count": 58,
   "metadata": {},
   "outputs": [
    {
     "name": "stdout",
     "output_type": "stream",
     "text": [
      "29736\n"
     ]
    }
   ],
   "source": [
    "print(len(L.d(jb, otype=\"word\")))"
   ]
  },
  {
   "cell_type": "code",
   "execution_count": 38,
   "metadata": {},
   "outputs": [
    {
     "data": {
      "text/plain": [
       "[('Genesis', 1, 1),\n",
       " ('Exodus', 1, 1),\n",
       " ('Leviticus', 1, 1),\n",
       " ('Numbers', 1, 1),\n",
       " ('Deuteronomy', 1, 1),\n",
       " ('Joshua', 1, 1),\n",
       " ('Judges', 1, 1),\n",
       " ('1_Samuel', 1, 1),\n",
       " ('2_Samuel', 1, 1),\n",
       " ('1_Kings', 1, 1),\n",
       " ('2_Kings', 1, 1),\n",
       " ('Isaiah', 1, 1),\n",
       " ('Jeremiah', 1, 1),\n",
       " ('Ezekiel', 1, 1),\n",
       " ('Hosea', 1, 1),\n",
       " ('Joel', 1, 1),\n",
       " ('Amos', 1, 1),\n",
       " ('Obadiah', 1, 1),\n",
       " ('Jonah', 1, 1),\n",
       " ('Micah', 1, 1),\n",
       " ('Nahum', 1, 1),\n",
       " ('Habakkuk', 1, 1),\n",
       " ('Zephaniah', 1, 1),\n",
       " ('Haggai', 1, 1),\n",
       " ('Zechariah', 1, 1),\n",
       " ('Malachi', 1, 1),\n",
       " ('Psalms', 1, 1),\n",
       " ('Job', 1, 1),\n",
       " ('Proverbs', 1, 1),\n",
       " ('Ruth', 1, 1),\n",
       " ('Song_of_songs', 1, 1),\n",
       " ('Ecclesiastes', 1, 1),\n",
       " ('Lamentations', 1, 1),\n",
       " ('Esther', 1, 1),\n",
       " ('Daniel', 1, 1),\n",
       " ('Ezra', 1, 1),\n",
       " ('Nehemiah', 1, 1),\n",
       " ('1_Chronicles', 1, 1),\n",
       " ('2_Chronicles', 1, 1)]"
      ]
     },
     "execution_count": 38,
     "metadata": {},
     "output_type": "execute_result"
    }
   ],
   "source": [
    "[T.sectionFromNode(b) for b in F.otype.s(\"book\")]"
   ]
  }
 ],
 "metadata": {
  "kernelspec": {
   "display_name": "Python 3",
   "language": "python",
   "name": "python3"
  },
  "language_info": {
   "codemirror_mode": {
    "name": "ipython",
    "version": 3
   },
   "file_extension": ".py",
   "mimetype": "text/x-python",
   "name": "python",
   "nbconvert_exporter": "python",
   "pygments_lexer": "ipython3",
   "version": "3.6.4"
  },
  "toc": {
   "nav_menu": {},
   "number_sections": true,
   "sideBar": true,
   "skip_h1_title": false,
   "toc_cell": false,
   "toc_position": {},
   "toc_section_display": "block",
   "toc_window_display": false
  }
 },
 "nbformat": 4,
 "nbformat_minor": 2
}
